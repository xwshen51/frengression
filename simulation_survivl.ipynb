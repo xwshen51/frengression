{
 "cells": [
  {
   "cell_type": "code",
   "execution_count": 1,
   "metadata": {},
   "outputs": [],
   "source": [
    "import importlib\n",
    "import frengression\n",
    "# importlib.reload(frengression)\n",
    "from data_causl.utils import *\n",
    "from data_causl.data import *\n",
    "from frengression import *\n",
    "\n",
    "device = torch.device('cpu')\n",
    "from CausalEGM import *\n",
    "\n",
    "import numpy as np\n",
    "import jax.numpy as jnp\n",
    "import pickle\n",
    "import os\n",
    "from tqdm import tqdm\n",
    "import src.exp_utils as exp_utils\n",
    "\n",
    "from matplotlib import pyplot as plt\n",
    "import seaborn as sns\n",
    "from matplotlib.patches import Patch\n",
    "from matplotlib.lines import Line2D\n",
    "import copy\n",
    "from sklearn.linear_model import LogisticRegression, LinearRegression\n",
    "from sklearn.metrics import log_loss\n",
    "from scipy.spatial.distance import pdist, squareform\n",
    "from scipy.stats import norm, gaussian_kde\n",
    "import warnings\n",
    "\n",
    "warnings.filterwarnings(\"ignore\")\n"
   ]
  },
  {
   "cell_type": "code",
   "execution_count": 4,
   "metadata": {},
   "outputs": [
    {
     "name": "stdout",
     "output_type": "stream",
     "text": [
      "Epoch 1: loss 2.4062,\tloss_y 0.8635, 0.8715, 0.0161,\tloss_eta 1.5427, 1.5957, 0.1059\n",
      "Epoch 1000: loss 1.4550,\tloss_y 0.3534, 0.6544, 0.6020,\tloss_eta 1.1016, 2.2370, 2.2708\n",
      "Epoch 2000: loss 1.4532,\tloss_y 0.3362, 0.6511, 0.6299,\tloss_eta 1.1170, 2.2459, 2.2578\n",
      "Epoch 3000: loss 1.4744,\tloss_y 0.3314, 0.6485, 0.6342,\tloss_eta 1.1430, 2.2710, 2.2561\n",
      "Epoch 4000: loss 1.4700,\tloss_y 0.3255, 0.6425, 0.6339,\tloss_eta 1.1445, 2.2659, 2.2427\n",
      "Epoch 5000: loss 1.4409,\tloss_y 0.3181, 0.6297, 0.6233,\tloss_eta 1.1228, 2.2517, 2.2577\n",
      "Epoch 6000: loss 1.4465,\tloss_y 0.3160, 0.6270, 0.6221,\tloss_eta 1.1306, 2.2429, 2.2246\n"
     ]
    }
   ],
   "source": [
    "s,x,z,y = generate_data_survivl(n=5000,T=3, random_seed=42, C_coeff=0)\n",
    "s_tr = torch.tensor(s, dtype=torch.float32)\n",
    "x_tr = torch.tensor(x, dtype=torch.int32)\n",
    "y_tr = torch.tensor(y, dtype=torch.int32)\n",
    "z_tr = torch.nan_to_num(torch.tensor(z, dtype=torch.float32))\n",
    "\n",
    "model = FrengressionSurv(x_dim=1, y_dim=1, z_dim=1, T=3, s_dim = 1, noise_dim=1, num_layer=3, hidden_dim=100, \n",
    "                        device=device, x_binary = True, s_in_predict=True, y_binary=True)\n",
    "model.train_y(s=s_tr,x=x_tr,z=z_tr,y=y_tr,num_iters=6000, lr=1e-4, print_every_iter=1000)"
   ]
  },
  {
   "cell_type": "code",
   "execution_count": 4,
   "metadata": {},
   "outputs": [],
   "source": [
    "s,x,z,y = generate_data_survivl(n=10,T=5, random_seed=42, C_coeff=0)\n",
    "s = torch.tensor(s, dtype=torch.float32)\n",
    "x = torch.tensor(x, dtype=torch.int32)\n",
    "y = torch.tensor(y, dtype=torch.int32)\n",
    "z = torch.nan_to_num(torch.tensor(z, dtype=torch.float32))\n",
    "\n",
    "n = x.shape[0]\n",
    "event_indicator = (y>0).float()\n",
    "c = torch.cumsum(event_indicator, dim=1)\n",
    "c_shifted = torch.zeros_like(c)\n",
    "c_shifted[:, 1:] = c[:, :-1]\n",
    "mask = (c_shifted > 0)\n",
    "y_masked = copy.deepcopy(y)\n",
    "y_masked[mask] = -1\n",
    "\n",
    "y_list = [y[:,:1]]\n",
    "x_list = [x[:,:1]]\n",
    "s_list = [s[:,:1]]\n",
    "z_list = [z[:,:1]]\n",
    "\n",
    "# resample from data\n",
    "for t in range(1, 5):\n",
    "    valid_idx = (y_masked[:,t] >=0).nonzero(as_tuple=True)[0]\n",
    "    sample_idx = valid_idx[torch.randint(0, len(valid_idx), (n,))]\n",
    "    y_list.append(y[sample_idx, t:((t+1))])\n",
    "    x_list.append(x[sample_idx, :((t+1))])\n",
    "    z_list.append(z[sample_idx, :((t+1))])\n",
    "    s_list.append(s[sample_idx, :1])\n",
    "y_sample = torch.cat(y_list, dim=1)"
   ]
  },
  {
   "cell_type": "code",
   "execution_count": 18,
   "metadata": {},
   "outputs": [
    {
     "data": {
      "text/plain": [
       "tensor([[1, 1, 0, 0, 1],\n",
       "        [0, 1, 1, 1, 0],\n",
       "        [1, 0, 0, 1, 0],\n",
       "        [0, 0, 0, 0, 1],\n",
       "        [0, 0, 0, 0, 1],\n",
       "        [0, 0, 0, 0, 1],\n",
       "        [0, 0, 0, 1, 0],\n",
       "        [0, 0, 0, 1, 1],\n",
       "        [0, 0, 1, 0, 0],\n",
       "        [0, 1, 1, 0, 1]], dtype=torch.int32)"
      ]
     },
     "execution_count": 18,
     "metadata": {},
     "output_type": "execute_result"
    }
   ],
   "source": [
    "y_sample"
   ]
  },
  {
   "cell_type": "code",
   "execution_count": 33,
   "metadata": {},
   "outputs": [],
   "source": [
    "y_sample1 = []\n",
    "y_sample2 = []\n",
    "for t in range(5):\n",
    "    sxz_p = torch.cat([s_list[t], x_list[t], z_list[t]], dim=1)\n",
    "    etat1 = model.model_eta[t](sxz_p)\n",
    "    etat2 = model.model_eta[t](sxz_p)\n",
    "\n",
    "    sxeta_p1 = torch.cat([s_list[t], x_list[t], etat1], dim=1)\n",
    "    yt1 = model.model_y[t](sxeta_p1)\n",
    "    sxeta_p2 = torch.cat([s_list[t], x_list[t], etat2], dim=1)\n",
    "    yt2 = model.model_y[t](sxeta_p2)\n",
    "\n",
    "    y_sample1.append(yt1)\n",
    "    y_sample2.append(yt2)\n",
    "\n",
    "y_sample1_cat = torch.cat(y_sample1,dim=1)\n",
    "y_sample2_cat = torch.cat(y_sample2,dim=1)\n",
    "loss_y, loss1_y, loss2_y = energy_loss_two_sample(y_sample, y_sample1_cat, y_sample2_cat)\n",
    "            \n",
    "eta_true = torch.randn(y.size(), device=device)\n",
    "\n",
    "eta1 = []\n",
    "eta2 = []\n",
    "perm = torch.randperm(n)\n",
    "for t in range(5):\n",
    "    sxz_p1 = torch.cat([s_list[t], x_list[t], z_list[t]], dim=1)\n",
    "    sxz_p2 = torch.cat([s_list[t][perm], x_list[t][perm], z_list[t][perm]], dim=1)\n",
    "    etat1 = model.model_eta[t](sxz_p1)\n",
    "    etat2 = model.model_eta[t](sxz_p2)\n",
    "\n",
    "    eta1.append(etat1)\n",
    "    eta2.append(etat2)\n",
    "eta1_cat = torch.cat(eta1,dim=1)\n",
    "eta2_cat = torch.cat(eta2,dim=1)\n",
    "\n",
    "loss_eta, loss1_eta, loss2_eta = energy_loss_two_sample(eta_true, eta1_cat, eta2_cat)\n",
    "loss = loss_y + loss_eta"
   ]
  },
  {
   "cell_type": "code",
   "execution_count": 35,
   "metadata": {},
   "outputs": [
    {
     "data": {
      "text/plain": [
       "tensor(2.2194, grad_fn=<AddBackward0>)"
      ]
     },
     "execution_count": 35,
     "metadata": {},
     "output_type": "execute_result"
    }
   ],
   "source": [
    "loss"
   ]
  },
  {
   "cell_type": "code",
   "execution_count": 12,
   "metadata": {},
   "outputs": [
    {
     "data": {
      "text/plain": [
       "tensor([1, 0, 0, 0, 1], dtype=torch.int32)"
      ]
     },
     "execution_count": 12,
     "metadata": {},
     "output_type": "execute_result"
    }
   ],
   "source": [
    "d"
   ]
  },
  {
   "cell_type": "code",
   "execution_count": 13,
   "metadata": {},
   "outputs": [
    {
     "data": {
      "text/plain": [
       "tensor([1, 1, 1, 1, 1], dtype=torch.int32)"
      ]
     },
     "execution_count": 13,
     "metadata": {},
     "output_type": "execute_result"
    }
   ],
   "source": [
    "x[3,:]"
   ]
  },
  {
   "cell_type": "code",
   "execution_count": 16,
   "metadata": {},
   "outputs": [
    {
     "data": {
      "text/plain": [
       "[tensor([[-0.3250],\n",
       "         [ 0.8188],\n",
       "         [-0.5669],\n",
       "         [ 1.1772],\n",
       "         [-0.2943],\n",
       "         [ 0.6727],\n",
       "         [ 1.3669],\n",
       "         [-1.4821],\n",
       "         [-0.4471],\n",
       "         [-0.3443]]),\n",
       " tensor([[-1.4821, -0.1779],\n",
       "         [-0.3443,  0.9819],\n",
       "         [ 1.1772,  0.0681],\n",
       "         [ 0.8188, -0.0544],\n",
       "         [ 0.8188, -0.0544],\n",
       "         [ 1.3669, -0.7025],\n",
       "         [-0.4471,  0.7484],\n",
       "         [ 1.1772,  0.0681],\n",
       "         [ 1.3669, -0.7025],\n",
       "         [-0.2943, -1.4967]]),\n",
       " tensor([[-0.4471,  0.7484,  0.0560],\n",
       "         [ 1.3669, -0.7025, -1.2175],\n",
       "         [ 0.6727,  0.5753, -0.7639],\n",
       "         [ 0.6727,  0.5753, -0.7639],\n",
       "         [ 0.6727,  0.5753, -0.7639],\n",
       "         [-0.4471,  0.7484,  0.0560],\n",
       "         [ 0.8188, -0.0544, -0.5053],\n",
       "         [ 0.8188, -0.0544, -0.5053],\n",
       "         [ 1.3669, -0.7025, -1.2175],\n",
       "         [ 1.3669, -0.7025, -1.2175]]),\n",
       " tensor([[-0.4471,  0.7484,  0.0560, -0.1865],\n",
       "         [ 0.8188, -0.0544, -0.5053, -0.8043],\n",
       "         [ 0.6727,  0.5753, -0.7639,  0.7046],\n",
       "         [ 1.1772,  0.0681,  0.7861,  1.3642],\n",
       "         [-0.4471,  0.7484,  0.0560, -0.1865],\n",
       "         [ 1.1772,  0.0681,  0.7861,  1.3642],\n",
       "         [ 0.6727,  0.5753, -0.7639,  0.7046],\n",
       "         [ 0.8188, -0.0544, -0.5053, -0.8043],\n",
       "         [ 1.1772,  0.0681,  0.7861,  1.3642],\n",
       "         [-0.4471,  0.7484,  0.0560, -0.1865]]),\n",
       " tensor([[-0.4471,  0.7484,  0.0560, -0.1865, -0.5097],\n",
       "         [ 1.1772,  0.0681,  0.7861,  1.3642,  0.4514],\n",
       "         [ 1.1772,  0.0681,  0.7861,  1.3642,  0.4514],\n",
       "         [-0.4471,  0.7484,  0.0560, -0.1865, -0.5097],\n",
       "         [-0.4471,  0.7484,  0.0560, -0.1865, -0.5097],\n",
       "         [-0.4471,  0.7484,  0.0560, -0.1865, -0.5097],\n",
       "         [ 1.1772,  0.0681,  0.7861,  1.3642,  0.4514],\n",
       "         [-0.4471,  0.7484,  0.0560, -0.1865, -0.5097],\n",
       "         [ 1.1772,  0.0681,  0.7861,  1.3642,  0.4514],\n",
       "         [-0.4471,  0.7484,  0.0560, -0.1865, -0.5097]])]"
      ]
     },
     "execution_count": 16,
     "metadata": {},
     "output_type": "execute_result"
    }
   ],
   "source": [
    "z_list"
   ]
  },
  {
   "cell_type": "code",
   "execution_count": 17,
   "metadata": {},
   "outputs": [
    {
     "data": {
      "text/plain": [
       "[tensor([[1],\n",
       "         [1],\n",
       "         [0],\n",
       "         [1],\n",
       "         [0],\n",
       "         [1],\n",
       "         [0],\n",
       "         [0],\n",
       "         [1],\n",
       "         [1]], dtype=torch.int32),\n",
       " tensor([[0, 0],\n",
       "         [1, 1],\n",
       "         [1, 1],\n",
       "         [1, 0],\n",
       "         [1, 0],\n",
       "         [0, 0],\n",
       "         [1, 0],\n",
       "         [1, 1],\n",
       "         [0, 0],\n",
       "         [0, 1]], dtype=torch.int32),\n",
       " tensor([[1, 0, 0],\n",
       "         [0, 0, 1],\n",
       "         [1, 0, 1],\n",
       "         [1, 0, 1],\n",
       "         [1, 0, 1],\n",
       "         [1, 0, 0],\n",
       "         [1, 0, 0],\n",
       "         [1, 0, 0],\n",
       "         [0, 0, 1],\n",
       "         [0, 0, 1]], dtype=torch.int32),\n",
       " tensor([[1, 0, 0, 0],\n",
       "         [1, 0, 0, 1],\n",
       "         [1, 0, 1, 1],\n",
       "         [1, 1, 1, 1],\n",
       "         [1, 0, 0, 0],\n",
       "         [1, 1, 1, 1],\n",
       "         [1, 0, 1, 1],\n",
       "         [1, 0, 0, 1],\n",
       "         [1, 1, 1, 1],\n",
       "         [1, 0, 0, 0]], dtype=torch.int32),\n",
       " tensor([[1, 0, 0, 0, 1],\n",
       "         [1, 1, 1, 1, 1],\n",
       "         [1, 1, 1, 1, 1],\n",
       "         [1, 0, 0, 0, 1],\n",
       "         [1, 0, 0, 0, 1],\n",
       "         [1, 0, 0, 0, 1],\n",
       "         [1, 1, 1, 1, 1],\n",
       "         [1, 0, 0, 0, 1],\n",
       "         [1, 1, 1, 1, 1],\n",
       "         [1, 0, 0, 0, 1]], dtype=torch.int32)]"
      ]
     },
     "execution_count": 17,
     "metadata": {},
     "output_type": "execute_result"
    }
   ],
   "source": [
    "x_list"
   ]
  },
  {
   "cell_type": "code",
   "execution_count": null,
   "metadata": {},
   "outputs": [],
   "source": []
  }
 ],
 "metadata": {
  "kernelspec": {
   "display_name": "base",
   "language": "python",
   "name": "python3"
  },
  "language_info": {
   "codemirror_mode": {
    "name": "ipython",
    "version": 3
   },
   "file_extension": ".py",
   "mimetype": "text/x-python",
   "name": "python",
   "nbconvert_exporter": "python",
   "pygments_lexer": "ipython3",
   "version": "3.11.7"
  }
 },
 "nbformat": 4,
 "nbformat_minor": 2
}
