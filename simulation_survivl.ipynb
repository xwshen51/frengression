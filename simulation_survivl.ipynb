{
 "cells": [
  {
   "cell_type": "code",
   "execution_count": 6,
   "metadata": {},
   "outputs": [],
   "source": [
    "import importlib\n",
    "import frengression\n",
    "# importlib.reload(frengression)\n",
    "from data_causl.utils import *\n",
    "from data_causl.data import *\n",
    "from frengression import *\n",
    "\n",
    "device = torch.device('cpu')\n",
    "from CausalEGM import *\n",
    "\n",
    "import numpy as np\n",
    "import jax.numpy as jnp\n",
    "import pickle\n",
    "import os\n",
    "from tqdm import tqdm\n",
    "import src.exp_utils as exp_utils\n",
    "\n",
    "from matplotlib import pyplot as plt\n",
    "import seaborn as sns\n",
    "from matplotlib.patches import Patch\n",
    "from matplotlib.lines import Line2D\n",
    "import copy\n",
    "from sklearn.linear_model import LogisticRegression, LinearRegression\n",
    "from sklearn.metrics import log_loss\n",
    "from scipy.spatial.distance import pdist, squareform\n",
    "from scipy.stats import norm, gaussian_kde\n",
    "import warnings\n",
    "\n",
    "warnings.filterwarnings(\"ignore\")\n"
   ]
  },
  {
   "cell_type": "code",
   "execution_count": 14,
   "metadata": {},
   "outputs": [],
   "source": [
    "s,x,z,y = generate_data_survivl(n=10,T=5, random_seed=42, C_coeff=0)\n",
    "s_tr = torch.tensor(s, dtype=torch.float32)\n",
    "x_tr = torch.tensor(x, dtype=torch.int32)\n",
    "y_tr = torch.tensor(y, dtype=torch.int32)\n",
    "z_tr = torch.nan_to_num(torch.tensor(z, dtype=torch.float32))\n",
    "\n",
    "model = FrengressionSeq(x_dim=1, y_dim=1, z_dim=1, T=5, s_dim = 1, noise_dim=1, num_layer=3, hidden_dim=100, \n",
    "                        device=device, x_binary = True, s_in_predict=True, y_binary=True)\n",
    "# model.train_y(s=s_tr,x=x_tr,z=z_tr,y=y_tr,num_iters=4000, lr=1e-4, print_every_iter=1000)"
   ]
  },
  {
   "cell_type": "code",
   "execution_count": 8,
   "metadata": {},
   "outputs": [],
   "source": [
    "event_indicator = (y_tr>0).float()\n",
    "c = torch.cumsum(event_indicator, dim=1)\n",
    "c_shifted = torch.zeros_like(c)\n",
    "c_shifted[:, 1:] = c[:, :-1]\n",
    "mask = (c_shifted > 0)\n",
    "y_masked = copy.deepcopy(y_tr)\n",
    "y_masked[mask] = -1"
   ]
  },
  {
   "cell_type": "code",
   "execution_count": 9,
   "metadata": {},
   "outputs": [
    {
     "data": {
      "text/plain": [
       "tensor([[1, 0, 0, 0, 0],\n",
       "        [0, 0, 0, 1, 0],\n",
       "        [1, 0, 0, 0, 0],\n",
       "        [0, 0, 0, 0, 0],\n",
       "        [0, 1, 0, 0, 0],\n",
       "        [0, 0, 0, 1, 0],\n",
       "        [0, 0, 1, 0, 0],\n",
       "        [0, 1, 0, 0, 0],\n",
       "        [0, 0, 0, 0, 1],\n",
       "        [0, 1, 0, 0, 0]], dtype=torch.int32)"
      ]
     },
     "execution_count": 9,
     "metadata": {},
     "output_type": "execute_result"
    }
   ],
   "source": [
    "y_tr"
   ]
  },
  {
   "cell_type": "code",
   "execution_count": 11,
   "metadata": {},
   "outputs": [
    {
     "data": {
      "text/plain": [
       "tensor([[-0.3250,  0.0000,  0.0000,  0.0000,  0.0000],\n",
       "        [ 0.8188, -0.0544, -0.5053, -0.8043,  0.0000],\n",
       "        [-0.5669,  0.0000,  0.0000,  0.0000,  0.0000],\n",
       "        [ 1.1772,  0.0681,  0.7861,  1.3642,  0.4514],\n",
       "        [-0.2943, -1.4967,  0.0000,  0.0000,  0.0000],\n",
       "        [ 0.6727,  0.5753, -0.7639,  0.7046,  0.0000],\n",
       "        [ 1.3669, -0.7025, -1.2175,  0.0000,  0.0000],\n",
       "        [-1.4821, -0.1779,  0.0000,  0.0000,  0.0000],\n",
       "        [-0.4471,  0.7484,  0.0560, -0.1865, -0.5097],\n",
       "        [-0.3443,  0.9819,  0.0000,  0.0000,  0.0000]])"
      ]
     },
     "execution_count": 11,
     "metadata": {},
     "output_type": "execute_result"
    }
   ],
   "source": [
    "z_tr"
   ]
  },
  {
   "cell_type": "code",
   "execution_count": 10,
   "metadata": {},
   "outputs": [
    {
     "data": {
      "text/plain": [
       "tensor([[ 1, -1, -1, -1, -1],\n",
       "        [ 0,  0,  0,  1, -1],\n",
       "        [ 1, -1, -1, -1, -1],\n",
       "        [ 0,  0,  0,  0,  0],\n",
       "        [ 0,  1, -1, -1, -1],\n",
       "        [ 0,  0,  0,  1, -1],\n",
       "        [ 0,  0,  1, -1, -1],\n",
       "        [ 0,  1, -1, -1, -1],\n",
       "        [ 0,  0,  0,  0,  1],\n",
       "        [ 0,  1, -1, -1, -1]], dtype=torch.int32)"
      ]
     },
     "execution_count": 10,
     "metadata": {},
     "output_type": "execute_result"
    }
   ],
   "source": [
    "y_masked"
   ]
  },
  {
   "cell_type": "code",
   "execution_count": 20,
   "metadata": {},
   "outputs": [
    {
     "data": {
      "text/plain": [
       "tensor([[False,  True,  True,  True,  True],\n",
       "        [False, False, False, False,  True],\n",
       "        [False,  True,  True,  True,  True],\n",
       "        [False, False, False, False, False],\n",
       "        [False, False,  True,  True,  True],\n",
       "        [False, False, False, False,  True],\n",
       "        [False, False, False,  True,  True],\n",
       "        [False, False,  True,  True,  True],\n",
       "        [False, False, False, False, False],\n",
       "        [False, False,  True,  True,  True]])"
      ]
     },
     "execution_count": 20,
     "metadata": {},
     "output_type": "execute_result"
    }
   ],
   "source": [
    "mask"
   ]
  },
  {
   "cell_type": "code",
   "execution_count": 21,
   "metadata": {},
   "outputs": [],
   "source": [
    "eta1 = model.sample_eta(s=s_tr, x=x_tr,z=z_tr)\n",
    "y_sample1 = model.sample_y(s=s_tr,x=x_tr, eta = eta1)\n",
    "\n",
    "eta2 = model.sample_eta(s=s_tr, x=x_tr,z=z_tr)\n",
    "y_sample2 = model.sample_y(s=s_tr,x=x_tr, eta = eta1)"
   ]
  },
  {
   "cell_type": "code",
   "execution_count": 22,
   "metadata": {},
   "outputs": [],
   "source": [
    "eta1[mask]=-1"
   ]
  },
  {
   "cell_type": "code",
   "execution_count": 23,
   "metadata": {},
   "outputs": [
    {
     "data": {
      "text/plain": [
       "tensor([[-0.0112, -1.0000, -1.0000, -1.0000, -1.0000],\n",
       "        [ 0.0216, -0.1930,  0.0050, -0.0046, -1.0000],\n",
       "        [-0.0590, -1.0000, -1.0000, -1.0000, -1.0000],\n",
       "        [-0.0311, -0.1392,  0.0320, -0.0242,  0.0786],\n",
       "        [-0.0659, -0.2234, -1.0000, -1.0000, -1.0000],\n",
       "        [ 0.0207, -0.1456,  0.0276, -0.0498, -1.0000],\n",
       "        [ 0.0193, -0.1261,  0.0656, -1.0000, -1.0000],\n",
       "        [-0.1036, -0.1336, -1.0000, -1.0000, -1.0000],\n",
       "        [-0.0081, -0.2795,  0.0027, -0.0183,  0.0376],\n",
       "        [ 0.0081, -0.1945, -1.0000, -1.0000, -1.0000]],\n",
       "       grad_fn=<IndexPutBackward0>)"
      ]
     },
     "execution_count": 23,
     "metadata": {},
     "output_type": "execute_result"
    }
   ],
   "source": [
    "eta1"
   ]
  },
  {
   "cell_type": "code",
   "execution_count": 5,
   "metadata": {},
   "outputs": [
    {
     "ename": "NameError",
     "evalue": "name 'mask' is not defined",
     "output_type": "error",
     "traceback": [
      "\u001b[0;31m---------------------------------------------------------------------------\u001b[0m",
      "\u001b[0;31mNameError\u001b[0m                                 Traceback (most recent call last)",
      "Cell \u001b[0;32mIn[5], line 1\u001b[0m\n\u001b[0;32m----> 1\u001b[0m y_sample1[mask]\u001b[38;5;241m=\u001b[39m\u001b[38;5;241m-\u001b[39m\u001b[38;5;241m1\u001b[39m\n",
      "\u001b[0;31mNameError\u001b[0m: name 'mask' is not defined"
     ]
    }
   ],
   "source": [
    "y_sample1[mask]=-1"
   ]
  },
  {
   "cell_type": "code",
   "execution_count": 14,
   "metadata": {},
   "outputs": [],
   "source": [
    "from torch.linalg import vector_norm"
   ]
  },
  {
   "cell_type": "code",
   "execution_count": 24,
   "metadata": {},
   "outputs": [
    {
     "data": {
      "text/plain": [
       "tensor([9.9729e-01, 1.2761e-04, 4.4359e-03, 2.1259e-04, 8.1114e-02, 4.7928e-04,\n",
       "        1.4730e-04, 6.1597e-04, 4.6929e-01, 1.7108e-04],\n",
       "       grad_fn=<LinalgVectorNormBackward0>)"
      ]
     },
     "execution_count": 24,
     "metadata": {},
     "output_type": "execute_result"
    }
   ],
   "source": [
    "vector_norm(y_sample1 -y_tr, 2, dim=1)"
   ]
  },
  {
   "cell_type": "code",
   "execution_count": 23,
   "metadata": {},
   "outputs": [
    {
     "data": {
      "text/plain": [
       "torch.Size([10, 5])"
      ]
     },
     "execution_count": 23,
     "metadata": {},
     "output_type": "execute_result"
    }
   ],
   "source": [
    "(y_sample1 -y_tr).shape"
   ]
  },
  {
   "cell_type": "code",
   "execution_count": 21,
   "metadata": {},
   "outputs": [
    {
     "data": {
      "text/plain": [
       "torch.Size([10, 5])"
      ]
     },
     "execution_count": 21,
     "metadata": {},
     "output_type": "execute_result"
    }
   ],
   "source": [
    "y_tr.shape"
   ]
  },
  {
   "cell_type": "code",
   "execution_count": null,
   "metadata": {},
   "outputs": [],
   "source": []
  }
 ],
 "metadata": {
  "kernelspec": {
   "display_name": "base",
   "language": "python",
   "name": "python3"
  },
  "language_info": {
   "codemirror_mode": {
    "name": "ipython",
    "version": 3
   },
   "file_extension": ".py",
   "mimetype": "text/x-python",
   "name": "python",
   "nbconvert_exporter": "python",
   "pygments_lexer": "ipython3",
   "version": "3.11.7"
  }
 },
 "nbformat": 4,
 "nbformat_minor": 2
}
