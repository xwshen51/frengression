{
 "cells": [
  {
   "cell_type": "markdown",
   "id": "a53989f4",
   "metadata": {},
   "source": [
    "## Experiments for binary treatment effect estimation comparison"
   ]
  },
  {
   "cell_type": "code",
   "execution_count": 1,
   "id": "19983602",
   "metadata": {},
   "outputs": [],
   "source": [
    "import sys, os\n",
    "\n",
    "# add the project root to sys.path\n",
    "root = os.path.abspath(os.path.join(os.getcwd(), '..'))\n",
    "if root not in sys.path:\n",
    "    sys.path.insert(0, root)\n",
    "\n",
    "from data_causl.utils import *\n",
    "from data_causl.data import *\n",
    "from frengression import *\n",
    "\n",
    "device = torch.device('cpu')\n",
    "\n",
    "import CausalEGM as cegm\n",
    "# import the module\n",
    "from models import *\n",
    "\n",
    "import numpy as np\n",
    "import pickle\n",
    "import os\n",
    "from tqdm import tqdm\n",
    "\n",
    "from matplotlib import pyplot as plt\n",
    "import seaborn as sns\n",
    "\n",
    "import warnings\n",
    "warnings.filterwarnings(\"ignore\", category=FutureWarning)\n",
    "warnings.filterwarnings(\"ignore\", category=DeprecationWarning)\n",
    "warnings.filterwarnings(\"ignore\", category=UserWarning)\n",
    "\n",
    "\n",
    "\n",
    "np.random.seed(42)\n",
    "n_tr = 1000\n",
    "n_p = 1000\n",
    "\n",
    "nI = 2\n",
    "nX = 2\n",
    "nO = 2\n",
    "nS= 2\n",
    "p = nI+nX+nO+nS\n",
    "ate = 2\n",
    "beta_cov = 0\n",
    "strength_instr = 1\n",
    "strength_conf = 1\n",
    "strength_outcome = 1\n",
    "binary_intervention=True"
   ]
  },
  {
   "cell_type": "markdown",
   "id": "4801550b",
   "metadata": {},
   "source": [
    "## Example of hyperparameter tuning"
   ]
  },
  {
   "cell_type": "code",
   "execution_count": 10,
   "id": "3bd365ea",
   "metadata": {},
   "outputs": [],
   "source": [
    "# def make_synthetic_data(N=1000, D=5, seed=0):\n",
    "#     torch.manual_seed(seed)\n",
    "#     X = torch.randn(N, D)\n",
    "#     w_p, b_p = torch.randn(D), 0.1\n",
    "#     p = torch.sigmoid(X @ w_p + b_p)\n",
    "#     t = torch.bernoulli(p)\n",
    "#     beta0 = torch.randn(D)\n",
    "#     y0 = X @ beta0 + 0.1 * torch.randn(N)\n",
    "#     tau = (X[:,0] * 2.0).clamp(min=0)\n",
    "#     y1 = y0 + tau + 0.1 * torch.randn(N)\n",
    "#     y = y0 * (1 - t) + y1 * t\n",
    "#     return X.numpy(), t.numpy(), y.numpy(), y0.numpy(), y1.numpy()\n",
    "\n",
    "# X, t, y, y0, y1 = make_synthetic_data(N=400, D=2)\n",
    "# X_train, X_tmp, t_train, t_tmp, y_train, y_tmp = train_test_split(X, t, y, test_size=0.4, random_state=42)\n",
    "# X_val, X_test, t_val, t_test, y_val, y_test = train_test_split(X_tmp, t_tmp, y_tmp, test_size=0.5, random_state=42)\n",
    "\n",
    "def tune_and_eval(model_name, X_train, t_train, y_train, X_val, t_val, y_val, X_test, t_test, y_test, n_trials=20):\n",
    "    def objective(trial):\n",
    "        lr = trial.suggest_loguniform(\"lr\", 1e-5, 1e-2)\n",
    "        wd = trial.suggest_loguniform(\"wd\", 1e-7, 1e-4)\n",
    "        bs = trial.suggest_categorical(\"bs\", [32, 64, 128])\n",
    "        epochs = trial.suggest_int(\"epochs\", 50, 200)\n",
    "        if model_name == \"tarnet\":\n",
    "            rep1 = trial.suggest_int(\"rep1\", 50, 200)\n",
    "            rep2 = trial.suggest_int(\"rep2\", 50, 200)\n",
    "            head = trial.suggest_int(\"head\", 50, 200)\n",
    "            drop = trial.suggest_uniform(\"drop\", 0.0, 0.5)\n",
    "            trainer = TARNetTrainer(X_train.shape[1], [rep1,rep2], [head], drop)\n",
    "        elif model_name == \"cfrnet\":\n",
    "            rep1 = trial.suggest_int(\"rep1\", 50, 200)\n",
    "            rep2 = trial.suggest_int(\"rep2\", 50, 200)\n",
    "            head = trial.suggest_int(\"head\", 50, 200)\n",
    "            drop = trial.suggest_uniform(\"drop\", 0.0, 0.5)\n",
    "            ipm_w = trial.suggest_loguniform(\"ipm_weight\", 0.01, 10.0)\n",
    "            trainer = CFRNetTrainer(X_train.shape[1], [rep1,rep2], [head], drop, ipm_w)\n",
    "        elif model_name == \"cevae\":\n",
    "            ld = trial.suggest_int(\"latent_dim\", 10, 200)\n",
    "            hd = trial.suggest_int(\"hidden_dim\", 20, 400)\n",
    "            nl = trial.suggest_int(\"num_layers\", 2, 5)\n",
    "            ns = trial.suggest_categorical(\"num_samples\", [10,50,100,200])\n",
    "            trainer = CEVAETrainer(X_train.shape[1], ld, hd, nl, ns)\n",
    "        else:  # dragonnet\n",
    "            sh = trial.suggest_int(\"shared_hidden\", 50, 200)\n",
    "            oh = trial.suggest_int(\"outcome_hidden\", 50, 200)\n",
    "            trainer = DragonNetTrainer(X_train.shape[1], sh, oh)\n",
    "        return trainer.fit(X_train, t_train, y_train, X_val, t_val, y_val,\n",
    "                            lr=lr, weight_decay=wd, batch_size=bs, epochs=epochs)\n",
    "    \n",
    "    study = optuna.create_study(direction=\"minimize\", study_name=f\"{model_name}_tune\")\n",
    "    study.optimize(objective, n_trials=n_trials)\n",
    "    best = study.best_params\n",
    "    print(f\"Best params for {model_name}: {best}\")\n",
    "    # retrain\n",
    "    X_trn = np.vstack([X_train, X_val])\n",
    "    t_trn = np.concatenate([t_train, t_val])\n",
    "    y_trn = np.concatenate([y_train, y_val])\n",
    "    if model_name == \"tarnet\":\n",
    "        trainer = TARNetTrainer(X_trn.shape[1], [best['rep1'],best['rep2']], [best['head']], best['drop'])\n",
    "    elif model_name == \"cfrnet\":\n",
    "        trainer = CFRNetTrainer(X_trn.shape[1], [best['rep1'],best['rep2']], [best['head']], best['drop'], best['ipm_weight'])\n",
    "    elif model_name == \"cevae\":\n",
    "        trainer = CEVAETrainer(X_trn.shape[1], best['latent_dim'], best['hidden_dim'], best['num_layers'], best['num_samples'])\n",
    "    else:\n",
    "        trainer = DragonNetTrainer(X_trn.shape[1], best['shared_hidden'], best['outcome_hidden'])\n",
    "    trainer.fit(X_trn, t_trn, y_trn, X_test, t_test, y_test,\n",
    "                lr=best['lr'], weight_decay=best['wd'], batch_size=best['bs'], epochs=best['epochs'])\n",
    "    if model_name == \"cevae\":\n",
    "        return trainer.predict(X_test)\n",
    "    else:\n",
    "        y0p, y1p = trainer.predict(X_test)\n",
    "        return y1p - y0p\n",
    "\n",
    "# # Tune and train each model separately, storing ITEs\n",
    "# print(\"Tuning and training TARNet...\")\n",
    "# ite_tarnet = tune_and_eval(\"tarnet\")\n",
    "# print(\"TARNet ITE shape:\", ite_tarnet.shape)\n",
    "\n",
    "# print(\"Tuning and training CFRNet...\")\n",
    "# ite_cfrnet = tune_and_eval(\"cfrnet\")\n",
    "# print(\"CFRNet ITE shape:\", ite_cfrnet.shape)\n",
    "\n",
    "# print(\"Tuning and training CEVAE...\")\n",
    "# ite_cevae = tune_and_eval(\"cevae\")\n",
    "# print(\"CEVAE ITE shape:\", ite_cevae.shape)\n",
    "\n",
    "# print(\"Tuning and training DragonNet...\")\n",
    "# ite_dragonnet = tune_and_eval(\"dragonnet\")\n",
    "# print(\"DragonNet ITE shape:\", ite_dragonnet.shape)\n",
    "\n",
    "# # Now you have separate ITE arrays:\n",
    "# # ite_tarnet, ite_cfrnet, ite_cevae, ite_dragonnet\n",
    "# print(\"All models complete.\")\n"
   ]
  },
  {
   "cell_type": "code",
   "execution_count": 21,
   "id": "bdbba039",
   "metadata": {},
   "outputs": [],
   "source": [
    "from functools import lru_cache\n",
    "\n",
    "def tune_and_eval(model_name,\n",
    "                  X_train, t_train, y_train,\n",
    "                  X_val,   t_val,   y_val,\n",
    "                  X_test,  t_test,  y_test,\n",
    "                  provided_params=None,\n",
    "                  n_trials=20):\n",
    "    \"\"\"\n",
    "    If best_params is None: runs Optuna, returns (ITE_array, best_params).\n",
    "    If best_params is given: skips Optuna, returns ITE_array only.\n",
    "    \"\"\"\n",
    "    # 1) hyperparam search\n",
    "    if provided_params is None:\n",
    "        import optuna\n",
    "        study = optuna.create_study(direction=\"minimize\",\n",
    "                                    study_name=f\"{model_name}_tune\")\n",
    "        def objective(trial):\n",
    "            # common\n",
    "            lr     = trial.suggest_loguniform(\"lr\", 1e-5, 1e-2)\n",
    "            wd     = trial.suggest_loguniform(\"wd\", 1e-7, 1e-4)\n",
    "            bs     = trial.suggest_categorical(\"bs\", [32, 64, 128])\n",
    "            epochs = trial.suggest_int(\"epochs\", 50, 200)\n",
    "\n",
    "            # model‐specific\n",
    "            if model_name == \"tarnet\":\n",
    "                rep1 = trial.suggest_int(\"rep1\", 50, 200)\n",
    "                rep2 = trial.suggest_int(\"rep2\", 50, 200)\n",
    "                head = trial.suggest_int(\"head\", 50, 200)\n",
    "                drop = trial.suggest_uniform(\"drop\", 0.0, 0.5)\n",
    "                trainer = TARNetTrainer(X_train.shape[1], [rep1,rep2], [head], drop)\n",
    "\n",
    "            elif model_name == \"cfrnet\":\n",
    "                rep1   = trial.suggest_int(\"rep1\", 50, 200)\n",
    "                rep2   = trial.suggest_int(\"rep2\", 50, 200)\n",
    "                head   = trial.suggest_int(\"head\", 50, 200)\n",
    "                drop   = trial.suggest_uniform(\"drop\", 0.0, 0.5)\n",
    "                ipm_w  = trial.suggest_loguniform(\"ipm_weight\", 0.01, 10.0)\n",
    "                trainer = CFRNetTrainer(X_train.shape[1], [rep1,rep2], [head], drop, ipm_w)\n",
    "\n",
    "            elif model_name == \"cevae\":\n",
    "                ld = trial.suggest_int(\"latent_dim\", 10, 200)\n",
    "                hd = trial.suggest_int(\"hidden_dim\", 20, 400)\n",
    "                nl = trial.suggest_int(\"num_layers\", 2, 5)     # note: 2→5 to avoid pop error\n",
    "                ns = trial.suggest_categorical(\"num_samples\", [10,50,100,200])\n",
    "                trainer = CEVAETrainer(X_train.shape[1], ld, hd, nl, ns)\n",
    "\n",
    "            else:  # dragonnet\n",
    "                sh = trial.suggest_int(\"shared_hidden\", 50, 200)\n",
    "                oh = trial.suggest_int(\"outcome_hidden\", 50, 200)\n",
    "                trainer = DragonNetTrainer(X_train.shape[1], sh, oh)\n",
    "\n",
    "            return trainer.fit(\n",
    "                X_train, t_train, y_train,\n",
    "                X_val,   t_val,   y_val,\n",
    "                lr=lr, weight_decay=wd,\n",
    "                batch_size=bs, epochs=epochs\n",
    "            )\n",
    "\n",
    "        study.optimize(objective, n_trials=n_trials)\n",
    "        best_params = study.best_params\n",
    "        print(f\"🔍 Best params for {model_name}: {best_params}\")\n",
    "    else:\n",
    "        best_params = provided_params\n",
    "    # 2) retrain on combined train+val\n",
    "    X_trn = np.vstack([X_train, X_val])\n",
    "    t_trn = np.concatenate([t_train, t_val])\n",
    "    y_trn = np.concatenate([y_train, y_val])\n",
    "\n",
    "    if model_name == \"tarnet\":\n",
    "        trainer = TARNetTrainer(\n",
    "            X_trn.shape[1],\n",
    "            [best_params['rep1'], best_params['rep2']],\n",
    "            [best_params['head']],\n",
    "            best_params['drop']\n",
    "        )\n",
    "    elif model_name == \"cfrnet\":\n",
    "        trainer = CFRNetTrainer(\n",
    "            X_trn.shape[1],\n",
    "            [best_params['rep1'], best_params['rep2']],\n",
    "            [best_params['head']],\n",
    "            best_params['drop'],\n",
    "            best_params['ipm_weight']\n",
    "        )\n",
    "    elif model_name == \"cevae\":\n",
    "        trainer = CEVAETrainer(\n",
    "            X_trn.shape[1],\n",
    "            best_params['latent_dim'],\n",
    "            best_params['hidden_dim'],\n",
    "            best_params['num_layers'],\n",
    "            best_params['num_samples']\n",
    "        )\n",
    "    else:\n",
    "        trainer = DragonNetTrainer(\n",
    "            X_trn.shape[1],\n",
    "            best_params['shared_hidden'],\n",
    "            best_params['outcome_hidden']\n",
    "        )\n",
    "\n",
    "    trainer.fit(\n",
    "        X_trn, t_trn, y_trn,\n",
    "        X_test, t_test, y_test,\n",
    "        lr=best_params['lr'],\n",
    "        weight_decay=best_params['wd'],\n",
    "        batch_size=best_params['bs'],\n",
    "        epochs=best_params['epochs']\n",
    "    )\n",
    "\n",
    "    if model_name == \"cevae\":\n",
    "        ite = trainer.predict(X_test)\n",
    "    else:\n",
    "        y0p, y1p = trainer.predict(X_test)\n",
    "        ite = y1p - y0p\n",
    "\n",
    "    return (ite, best_params) if provided_params is None else ite\n"
   ]
  },
  {
   "cell_type": "markdown",
   "id": "221b1e42",
   "metadata": {},
   "source": [
    "## Fitting synthetic data generated by causl"
   ]
  },
  {
   "cell_type": "markdown",
   "id": "e5a2a3a2",
   "metadata": {},
   "source": [
    "### Data generation"
   ]
  },
  {
   "cell_type": "code",
   "execution_count": null,
   "id": "8b89c5a0",
   "metadata": {},
   "outputs": [
    {
     "name": "stdout",
     "output_type": "stream",
     "text": [
      "Running experiments for strength_instr = 1.0\n"
     ]
    },
    {
     "name": "stderr",
     "output_type": "stream",
     "text": [
      "  0%|          | 0/20 [00:00<?, ?it/s]"
     ]
    },
    {
     "name": "stdout",
     "output_type": "stream",
     "text": [
      "Epoch 1: loss 2.3599,\tloss_y 1.5776, 1.5881, 0.0211,\tloss_eta 0.7823, 0.8246, 0.0847\n",
      "Epoch 1000: loss 0.8436,\tloss_y 0.2887, 0.5893, 0.6013,\tloss_eta 0.5549, 1.0947, 1.0795\n",
      "Warning: covariate dimension does not aligned with the specified input dimension; filling in the remaining dimension with noise.\n",
      "Warning: covariate dimension does not aligned with the specified input dimension; filling in the remaining dimension with noise.\n"
     ]
    },
    {
     "name": "stderr",
     "output_type": "stream",
     "text": [
      "[I 2025-04-25 16:59:06,164] A new study created in memory with name: tarnet_tune\n",
      "[I 2025-04-25 16:59:07,385] Trial 0 finished with value: 0.7634808421134949 and parameters: {'lr': 0.000796091902759762, 'wd': 4.284693309486253e-05, 'bs': 32, 'epochs': 60, 'rep1': 71, 'rep2': 145, 'head': 62, 'drop': 0.21202347713835268}. Best is trial 0 with value: 0.7634808421134949.\n",
      "[I 2025-04-25 16:59:09,229] Trial 1 finished with value: 0.8567997217178345 and parameters: {'lr': 2.6995605248386923e-05, 'wd': 6.229634054446615e-07, 'bs': 32, 'epochs': 81, 'rep1': 139, 'rep2': 133, 'head': 124, 'drop': 0.40267417574487335}. Best is trial 0 with value: 0.7634808421134949.\n",
      "[I 2025-04-25 16:59:11,837] Trial 2 finished with value: 0.7723536491394043 and parameters: {'lr': 0.00017660951481455182, 'wd': 4.114800080408878e-07, 'bs': 64, 'epochs': 178, 'rep1': 69, 'rep2': 143, 'head': 164, 'drop': 0.07095156374083322}. Best is trial 0 with value: 0.7634808421134949.\n",
      "[I 2025-04-25 16:59:14,671] Trial 3 finished with value: 0.7624056935310364 and parameters: {'lr': 0.00017189437003999847, 'wd': 9.360353755909764e-06, 'bs': 32, 'epochs': 130, 'rep1': 106, 'rep2': 61, 'head': 165, 'drop': 0.27026364619719323}. Best is trial 3 with value: 0.7624056935310364.\n",
      "[I 2025-04-25 16:59:19,324] Trial 4 finished with value: 0.7681161165237427 and parameters: {'lr': 0.0005916618711415718, 'wd': 1.632539171315801e-06, 'bs': 32, 'epochs': 197, 'rep1': 89, 'rep2': 200, 'head': 143, 'drop': 0.3443594719266765}. Best is trial 3 with value: 0.7624056935310364.\n",
      "[I 2025-04-25 16:59:20,509] Trial 5 finished with value: 0.7670853734016418 and parameters: {'lr': 6.367968992681931e-05, 'wd': 1.5982620244987746e-05, 'bs': 64, 'epochs': 82, 'rep1': 142, 'rep2': 189, 'head': 90, 'drop': 0.13410082749326674}. Best is trial 3 with value: 0.7624056935310364.\n",
      "[I 2025-04-25 16:59:22,080] Trial 6 finished with value: 0.8145509958267212 and parameters: {'lr': 3.6121207201789785e-05, 'wd': 1.0297785225864603e-06, 'bs': 64, 'epochs': 112, 'rep1': 76, 'rep2': 102, 'head': 134, 'drop': 0.103527214114364}. Best is trial 3 with value: 0.7624056935310364.\n",
      "[I 2025-04-25 16:59:24,678] Trial 7 finished with value: 0.7654004693031311 and parameters: {'lr': 0.00010137714896672894, 'wd': 2.3225443851609967e-07, 'bs': 32, 'epochs': 128, 'rep1': 112, 'rep2': 67, 'head': 96, 'drop': 0.2640447893071317}. Best is trial 3 with value: 0.7624056935310364.\n",
      "[I 2025-04-25 16:59:26,296] Trial 8 finished with value: 0.8065649271011353 and parameters: {'lr': 2.6351603456107965e-05, 'wd': 5.733884461673427e-05, 'bs': 64, 'epochs': 106, 'rep1': 85, 'rep2': 163, 'head': 162, 'drop': 0.21099680974616986}. Best is trial 3 with value: 0.7624056935310364.\n",
      "[I 2025-04-25 16:59:29,483] Trial 9 finished with value: 0.7649220824241638 and parameters: {'lr': 0.00020299927757583036, 'wd': 2.3904265748359716e-07, 'bs': 32, 'epochs': 150, 'rep1': 166, 'rep2': 115, 'head': 84, 'drop': 0.08168891505786574}. Best is trial 3 with value: 0.7624056935310364.\n",
      "[I 2025-04-25 16:59:31,185] Trial 10 finished with value: 0.8388601541519165 and parameters: {'lr': 0.00478652840496206, 'wd': 6.684148837747197e-06, 'bs': 128, 'epochs': 151, 'rep1': 196, 'rep2': 50, 'head': 192, 'drop': 0.46416677231405823}. Best is trial 3 with value: 0.7624056935310364.\n",
      "[I 2025-04-25 16:59:32,234] Trial 11 finished with value: 0.759240448474884 and parameters: {'lr': 0.0009149603089507892, 'wd': 8.780817546298247e-05, 'bs': 32, 'epochs': 54, 'rep1': 54, 'rep2': 88, 'head': 62, 'drop': 0.2466612097068253}. Best is trial 11 with value: 0.759240448474884.\n",
      "[I 2025-04-25 16:59:32,761] Trial 12 finished with value: 0.7645407319068909 and parameters: {'lr': 0.002157266532901202, 'wd': 7.193337026400256e-06, 'bs': 128, 'epochs': 51, 'rep1': 52, 'rep2': 90, 'head': 186, 'drop': 0.30809103477384464}. Best is trial 11 with value: 0.759240448474884.\n",
      "[I 2025-04-25 16:59:35,585] Trial 13 finished with value: 0.7595536708831787 and parameters: {'lr': 0.0011006196644364427, 'wd': 2.2977813173807025e-05, 'bs': 32, 'epochs': 137, 'rep1': 109, 'rep2': 76, 'head': 59, 'drop': 0.17378569593085572}. Best is trial 11 with value: 0.759240448474884.\n",
      "[I 2025-04-25 16:59:38,683] Trial 14 finished with value: 0.7873589396476746 and parameters: {'lr': 0.009714748065452725, 'wd': 9.377886195932661e-05, 'bs': 32, 'epochs': 156, 'rep1': 121, 'rep2': 90, 'head': 50, 'drop': 0.00861516900012066}. Best is trial 11 with value: 0.759240448474884.\n",
      "[I 2025-04-25 16:59:40,478] Trial 15 finished with value: 0.7625295519828796 and parameters: {'lr': 0.0012068438680812419, 'wd': 2.5848803154247726e-05, 'bs': 32, 'epochs': 90, 'rep1': 53, 'rep2': 80, 'head': 73, 'drop': 0.17339468388054582}. Best is trial 11 with value: 0.759240448474884.\n",
      "[I 2025-04-25 16:59:41,559] Trial 16 finished with value: 0.7738224864006042 and parameters: {'lr': 0.0021134816808501184, 'wd': 2.969120286351118e-06, 'bs': 128, 'epochs': 107, 'rep1': 99, 'rep2': 107, 'head': 107, 'drop': 0.33619565372228577}. Best is trial 11 with value: 0.759240448474884.\n",
      "[I 2025-04-25 16:59:44,401] Trial 17 finished with value: 0.7670503854751587 and parameters: {'lr': 0.0003975628007888184, 'wd': 8.89650204395643e-05, 'bs': 32, 'epochs': 137, 'rep1': 169, 'rep2': 77, 'head': 51, 'drop': 0.18520894897025791}. Best is trial 11 with value: 0.759240448474884.\n",
      "[I 2025-04-25 16:59:45,768] Trial 18 finished with value: 0.7767144441604614 and parameters: {'lr': 0.00205641771536723, 'wd': 2.685619106724023e-05, 'bs': 32, 'epochs': 66, 'rep1': 127, 'rep2': 50, 'head': 110, 'drop': 0.39934116924744395}. Best is trial 11 with value: 0.759240448474884.\n",
      "[I 2025-04-25 16:59:47,496] Trial 19 finished with value: 0.7862814664840698 and parameters: {'lr': 0.00478526012102747, 'wd': 1.2883181757732026e-05, 'bs': 128, 'epochs': 173, 'rep1': 151, 'rep2': 120, 'head': 74, 'drop': 0.16280310585113078}. Best is trial 11 with value: 0.759240448474884.\n"
     ]
    },
    {
     "name": "stdout",
     "output_type": "stream",
     "text": [
      "🔍 Best params for tarnet: {'lr': 0.0009149603089507892, 'wd': 8.780817546298247e-05, 'bs': 32, 'epochs': 54, 'rep1': 54, 'rep2': 88, 'head': 62, 'drop': 0.2466612097068253}\n"
     ]
    },
    {
     "name": "stderr",
     "output_type": "stream",
     "text": [
      "[I 2025-04-25 16:59:48,976] A new study created in memory with name: cfrnet_tune\n",
      "[I 2025-04-25 16:59:52,405] Trial 0 finished with value: 0.7695093750953674 and parameters: {'lr': 0.002217328848186917, 'wd': 1.1935863558643737e-05, 'bs': 32, 'epochs': 122, 'rep1': 134, 'rep2': 80, 'head': 71, 'drop': 0.45164635379132384, 'ipm_weight': 0.043390861309662195}. Best is trial 0 with value: 0.7695093750953674.\n",
      "[I 2025-04-25 16:59:55,062] Trial 1 finished with value: 0.7520972490310669 and parameters: {'lr': 0.00027599493902667597, 'wd': 1.3143690708621815e-07, 'bs': 64, 'epochs': 134, 'rep1': 68, 'rep2': 135, 'head': 163, 'drop': 0.16297741111245595, 'ipm_weight': 0.18499333315271685}. Best is trial 1 with value: 0.7520972490310669.\n",
      "[I 2025-04-25 16:59:59,418] Trial 2 finished with value: 0.7829947471618652 and parameters: {'lr': 0.0014538991484434362, 'wd': 9.904571827520628e-06, 'bs': 32, 'epochs': 132, 'rep1': 140, 'rep2': 146, 'head': 167, 'drop': 0.2569956583926224, 'ipm_weight': 0.06423943487769417}. Best is trial 1 with value: 0.7520972490310669.\n",
      "[I 2025-04-25 17:00:03,659] Trial 3 finished with value: 0.8434891700744629 and parameters: {'lr': 0.008029611554140594, 'wd': 4.3811358830813646e-05, 'bs': 32, 'epochs': 132, 'rep1': 124, 'rep2': 137, 'head': 129, 'drop': 0.07891766832398833, 'ipm_weight': 2.167556260032234}. Best is trial 1 with value: 0.7520972490310669.\n",
      "[I 2025-04-25 17:00:07,008] Trial 4 finished with value: 0.7891702651977539 and parameters: {'lr': 0.002579794837955467, 'wd': 9.549311472983801e-06, 'bs': 64, 'epochs': 173, 'rep1': 58, 'rep2': 73, 'head': 161, 'drop': 0.3401368677448538, 'ipm_weight': 0.03651528949618172}. Best is trial 1 with value: 0.7520972490310669.\n",
      "[I 2025-04-25 17:00:08,550] Trial 5 finished with value: 0.7979850769042969 and parameters: {'lr': 0.009632395251336218, 'wd': 1.0824138355928994e-07, 'bs': 128, 'epochs': 99, 'rep1': 179, 'rep2': 73, 'head': 172, 'drop': 0.3164103312292851, 'ipm_weight': 0.17623546312314808}. Best is trial 1 with value: 0.7520972490310669.\n",
      "[I 2025-04-25 17:00:10,019] Trial 6 finished with value: 0.8354060649871826 and parameters: {'lr': 0.003918000345999459, 'wd': 8.133571891495229e-05, 'bs': 128, 'epochs': 82, 'rep1': 198, 'rep2': 107, 'head': 156, 'drop': 0.08957951935506647, 'ipm_weight': 8.275002074475848}. Best is trial 1 with value: 0.7520972490310669.\n",
      "[I 2025-04-25 17:00:13,818] Trial 7 finished with value: 0.7706655263900757 and parameters: {'lr': 0.002213040393756314, 'wd': 3.589360477699695e-05, 'bs': 64, 'epochs': 159, 'rep1': 172, 'rep2': 74, 'head': 178, 'drop': 0.31913381421011966, 'ipm_weight': 0.9851750803300148}. Best is trial 1 with value: 0.7520972490310669.\n",
      "[I 2025-04-25 17:00:19,275] Trial 8 finished with value: 0.7593387961387634 and parameters: {'lr': 0.0003114082021692125, 'wd': 2.6142607742499824e-05, 'bs': 32, 'epochs': 147, 'rep1': 96, 'rep2': 182, 'head': 70, 'drop': 0.20530088892053394, 'ipm_weight': 0.2414920540607029}. Best is trial 1 with value: 0.7520972490310669.\n",
      "[I 2025-04-25 17:00:25,410] Trial 9 finished with value: 0.7967525124549866 and parameters: {'lr': 0.0009144104717672962, 'wd': 1.4351442970409808e-06, 'bs': 32, 'epochs': 156, 'rep1': 66, 'rep2': 150, 'head': 106, 'drop': 0.37748477477119663, 'ipm_weight': 1.685251704193577}. Best is trial 1 with value: 0.7520972490310669.\n",
      "[I 2025-04-25 17:00:26,883] Trial 10 finished with value: 0.831067681312561 and parameters: {'lr': 2.3403346359129907e-05, 'wd': 1.0719994615661971e-07, 'bs': 64, 'epochs': 57, 'rep1': 91, 'rep2': 192, 'head': 194, 'drop': 0.011668991761228042, 'ipm_weight': 0.010143968077260092}. Best is trial 1 with value: 0.7520972490310669.\n",
      "[I 2025-04-25 17:00:30,996] Trial 11 finished with value: 0.7590214610099792 and parameters: {'lr': 0.00010085074612669524, 'wd': 7.152688683114878e-07, 'bs': 64, 'epochs': 196, 'rep1': 95, 'rep2': 189, 'head': 50, 'drop': 0.17318995761671455, 'ipm_weight': 0.2570409676619605}. Best is trial 1 with value: 0.7520972490310669.\n",
      "[I 2025-04-25 17:00:34,933] Trial 12 finished with value: 0.7721726298332214 and parameters: {'lr': 0.00010555317621097322, 'wd': 6.553496669997403e-07, 'bs': 64, 'epochs': 192, 'rep1': 85, 'rep2': 168, 'head': 111, 'drop': 0.17707766814394077, 'ipm_weight': 0.6704226538356982}. Best is trial 1 with value: 0.7520972490310669.\n",
      "[I 2025-04-25 17:00:38,614] Trial 13 finished with value: 0.7678741812705994 and parameters: {'lr': 7.817204827934996e-05, 'wd': 4.003733922904173e-07, 'bs': 64, 'epochs': 196, 'rep1': 108, 'rep2': 112, 'head': 55, 'drop': 0.14891191246228855, 'ipm_weight': 0.13835127330252256}. Best is trial 1 with value: 0.7520972490310669.\n",
      "[I 2025-04-25 17:00:41,096] Trial 14 finished with value: 0.7689804434776306 and parameters: {'lr': 0.0002646909567194347, 'wd': 2.701002985410347e-07, 'bs': 64, 'epochs': 115, 'rep1': 52, 'rep2': 200, 'head': 140, 'drop': 0.2335341511709639, 'ipm_weight': 0.4801919257894225}. Best is trial 1 with value: 0.7520972490310669.\n",
      "[I 2025-04-25 17:00:44,536] Trial 15 finished with value: 0.8092890381813049 and parameters: {'lr': 2.407000933860151e-05, 'wd': 2.19656210720597e-06, 'bs': 64, 'epochs': 176, 'rep1': 73, 'rep2': 161, 'head': 90, 'drop': 0.11507106581193877, 'ipm_weight': 0.0928737583363049}. Best is trial 1 with value: 0.7520972490310669.\n",
      "[I 2025-04-25 17:00:45,601] Trial 16 finished with value: 0.7760547995567322 and parameters: {'lr': 6.541200180221207e-05, 'wd': 9.015476930027292e-07, 'bs': 64, 'epochs': 51, 'rep1': 113, 'rep2': 123, 'head': 146, 'drop': 0.022588206478709516, 'ipm_weight': 0.015550025549252892}. Best is trial 1 with value: 0.7520972490310669.\n",
      "[I 2025-04-25 17:00:46,974] Trial 17 finished with value: 0.7890675663948059 and parameters: {'lr': 0.00014121884508805135, 'wd': 2.532696537356737e-07, 'bs': 128, 'epochs': 89, 'rep1': 77, 'rep2': 96, 'head': 199, 'drop': 0.2724606711615237, 'ipm_weight': 0.3121202317840171}. Best is trial 1 with value: 0.7520972490310669.\n",
      "[I 2025-04-25 17:00:50,244] Trial 18 finished with value: 0.7612321376800537 and parameters: {'lr': 0.0006918610311473212, 'wd': 3.8824148567169736e-06, 'bs': 64, 'epochs': 180, 'rep1': 98, 'rep2': 51, 'head': 114, 'drop': 0.14833190006414085, 'ipm_weight': 4.690598721641605}. Best is trial 1 with value: 0.7520972490310669.\n",
      "[I 2025-04-25 17:00:53,195] Trial 19 finished with value: 0.7834628224372864 and parameters: {'lr': 4.385867951980864e-05, 'wd': 1.979455630213173e-07, 'bs': 64, 'epochs': 146, 'rep1': 151, 'rep2': 176, 'head': 51, 'drop': 0.05920258573644174, 'ipm_weight': 0.02721073150068735}. Best is trial 1 with value: 0.7520972490310669.\n"
     ]
    },
    {
     "name": "stdout",
     "output_type": "stream",
     "text": [
      "🔍 Best params for cfrnet: {'lr': 0.00027599493902667597, 'wd': 1.3143690708621815e-07, 'bs': 64, 'epochs': 134, 'rep1': 68, 'rep2': 135, 'head': 163, 'drop': 0.16297741111245595, 'ipm_weight': 0.18499333315271685}\n"
     ]
    },
    {
     "name": "stderr",
     "output_type": "stream",
     "text": [
      "[I 2025-04-25 17:00:57,147] A new study created in memory with name: cevae_tune\n",
      "INFO \t Training with 8 minibatches per epoch\n",
      "[I 2025-04-25 17:01:04,178] Trial 0 finished with value: 48.36024816894531 and parameters: {'lr': 0.00012782395334426873, 'wd': 7.51358876352543e-07, 'bs': 128, 'epochs': 122, 'latent_dim': 186, 'hidden_dim': 96, 'num_layers': 4, 'num_samples': 10}. Best is trial 0 with value: 48.36024816894531.\n",
      "INFO \t Training with 16 minibatches per epoch\n",
      "[I 2025-04-25 17:01:27,235] Trial 1 finished with value: 46.06175677490234 and parameters: {'lr': 0.0004959801471688993, 'wd': 3.7715143340650805e-05, 'bs': 64, 'epochs': 197, 'latent_dim': 195, 'hidden_dim': 103, 'num_layers': 4, 'num_samples': 10}. Best is trial 1 with value: 46.06175677490234.\n",
      "INFO \t Training with 32 minibatches per epoch\n",
      "[I 2025-04-25 17:02:06,625] Trial 2 finished with value: 32.78154656982422 and parameters: {'lr': 0.004561904548252886, 'wd': 2.025471179366168e-05, 'bs': 32, 'epochs': 177, 'latent_dim': 51, 'hidden_dim': 234, 'num_layers': 4, 'num_samples': 200}. Best is trial 2 with value: 32.78154656982422.\n",
      "INFO \t Training with 32 minibatches per epoch\n",
      "[I 2025-04-25 17:02:23,897] Trial 3 finished with value: 47.56306036376953 and parameters: {'lr': 2.810669735984481e-05, 'wd': 1.1179695788061467e-05, 'bs': 32, 'epochs': 113, 'latent_dim': 111, 'hidden_dim': 223, 'num_layers': 2, 'num_samples': 10}. Best is trial 2 with value: 32.78154656982422.\n",
      "INFO \t Training with 32 minibatches per epoch\n",
      "[I 2025-04-25 17:02:37,862] Trial 4 finished with value: 40.874296447753906 and parameters: {'lr': 0.00294155831111406, 'wd': 5.9578852182489215e-06, 'bs': 32, 'epochs': 67, 'latent_dim': 85, 'hidden_dim': 303, 'num_layers': 3, 'num_samples': 100}. Best is trial 2 with value: 32.78154656982422.\n",
      "INFO \t Training with 16 minibatches per epoch\n",
      "[I 2025-04-25 17:03:08,786] Trial 5 finished with value: 31.75984509277344 and parameters: {'lr': 6.231977706680039e-05, 'wd': 1.7701334887365292e-06, 'bs': 64, 'epochs': 189, 'latent_dim': 37, 'hidden_dim': 336, 'num_layers': 5, 'num_samples': 50}. Best is trial 5 with value: 31.75984509277344.\n",
      "INFO \t Training with 32 minibatches per epoch\n",
      "[I 2025-04-25 17:03:18,809] Trial 6 finished with value: 58.29393115234375 and parameters: {'lr': 1.976685540637897e-05, 'wd': 8.892200716171804e-07, 'bs': 32, 'epochs': 80, 'latent_dim': 157, 'hidden_dim': 106, 'num_layers': 2, 'num_samples': 10}. Best is trial 5 with value: 31.75984509277344.\n",
      "INFO \t Training with 16 minibatches per epoch\n",
      "[I 2025-04-25 17:03:31,389] Trial 7 finished with value: 30.351715087890625 and parameters: {'lr': 3.3732823204754975e-05, 'wd': 2.504452671554042e-06, 'bs': 64, 'epochs': 174, 'latent_dim': 18, 'hidden_dim': 278, 'num_layers': 2, 'num_samples': 50}. Best is trial 7 with value: 30.351715087890625.\n",
      "INFO \t Training with 32 minibatches per epoch\n",
      "[I 2025-04-25 17:03:49,561] Trial 8 finished with value: 54.61338330078125 and parameters: {'lr': 2.7344487577680614e-05, 'wd': 1.2990807465857057e-06, 'bs': 32, 'epochs': 139, 'latent_dim': 152, 'hidden_dim': 20, 'num_layers': 3, 'num_samples': 100}. Best is trial 7 with value: 30.351715087890625.\n",
      "INFO \t Training with 16 minibatches per epoch\n",
      "[I 2025-04-25 17:03:58,091] Trial 9 finished with value: 52.937558532714846 and parameters: {'lr': 0.00014493151219894363, 'wd': 9.971682659731862e-05, 'bs': 64, 'epochs': 137, 'latent_dim': 117, 'hidden_dim': 38, 'num_layers': 2, 'num_samples': 200}. Best is trial 7 with value: 30.351715087890625.\n",
      "INFO \t Training with 8 minibatches per epoch\n",
      "[I 2025-04-25 17:04:07,610] Trial 10 finished with value: 28.848692260742187 and parameters: {'lr': 0.0007317095254777927, 'wd': 1.3190050305504288e-07, 'bs': 128, 'epochs': 159, 'latent_dim': 10, 'hidden_dim': 380, 'num_layers': 3, 'num_samples': 50}. Best is trial 10 with value: 28.848692260742187.\n",
      "INFO \t Training with 8 minibatches per epoch\n",
      "[I 2025-04-25 17:04:17,381] Trial 11 finished with value: 29.54572332763672 and parameters: {'lr': 0.0008488511853767111, 'wd': 1.0419873935785396e-07, 'bs': 128, 'epochs': 159, 'latent_dim': 10, 'hidden_dim': 397, 'num_layers': 3, 'num_samples': 50}. Best is trial 10 with value: 28.848692260742187.\n",
      "INFO \t Training with 8 minibatches per epoch\n",
      "[I 2025-04-25 17:04:27,253] Trial 12 finished with value: 28.742564514160158 and parameters: {'lr': 0.0007906204555148813, 'wd': 1.2112317339343617e-07, 'bs': 128, 'epochs': 160, 'latent_dim': 11, 'hidden_dim': 391, 'num_layers': 3, 'num_samples': 50}. Best is trial 12 with value: 28.742564514160158.\n",
      "INFO \t Training with 8 minibatches per epoch\n",
      "[I 2025-04-25 17:04:37,287] Trial 13 finished with value: 34.91103436279297 and parameters: {'lr': 0.001577890019191675, 'wd': 1.3632592474989718e-07, 'bs': 128, 'epochs': 151, 'latent_dim': 68, 'hidden_dim': 399, 'num_layers': 3, 'num_samples': 50}. Best is trial 12 with value: 28.742564514160158.\n",
      "INFO \t Training with 8 minibatches per epoch\n",
      "[I 2025-04-25 17:04:46,175] Trial 14 finished with value: 30.996875061035155 and parameters: {'lr': 0.00032546479496338844, 'wd': 3.077174732180509e-07, 'bs': 128, 'epochs': 96, 'latent_dim': 40, 'hidden_dim': 349, 'num_layers': 5, 'num_samples': 50}. Best is trial 12 with value: 28.742564514160158.\n",
      "INFO \t Training with 8 minibatches per epoch\n",
      "[I 2025-04-25 17:04:56,143] Trial 15 finished with value: 35.05274731445313 and parameters: {'lr': 0.008678032197399916, 'wd': 3.0958639283875e-07, 'bs': 128, 'epochs': 163, 'latent_dim': 75, 'hidden_dim': 351, 'num_layers': 3, 'num_samples': 50}. Best is trial 12 with value: 28.742564514160158.\n",
      "INFO \t Training with 8 minibatches per epoch\n",
      "[I 2025-04-25 17:05:04,137] Trial 16 finished with value: 30.54850354003906 and parameters: {'lr': 0.0008528939821851207, 'wd': 2.900567015238945e-07, 'bs': 128, 'epochs': 140, 'latent_dim': 26, 'hidden_dim': 167, 'num_layers': 4, 'num_samples': 50}. Best is trial 12 with value: 28.742564514160158.\n",
      "INFO \t Training with 8 minibatches per epoch\n",
      "[I 2025-04-25 17:05:09,943] Trial 17 finished with value: 32.81911614990234 and parameters: {'lr': 0.00015144209107997224, 'wd': 4.961085729787524e-07, 'bs': 128, 'epochs': 106, 'latent_dim': 59, 'hidden_dim': 271, 'num_layers': 3, 'num_samples': 50}. Best is trial 12 with value: 28.742564514160158.\n",
      "INFO \t Training with 8 minibatches per epoch\n",
      "[I 2025-04-25 17:05:24,781] Trial 18 finished with value: 36.208260009765624 and parameters: {'lr': 0.0012780322396961836, 'wd': 1.3557291264408022e-07, 'bs': 128, 'epochs': 179, 'latent_dim': 87, 'hidden_dim': 374, 'num_layers': 4, 'num_samples': 100}. Best is trial 12 with value: 28.742564514160158.\n",
      "INFO \t Training with 8 minibatches per epoch\n",
      "[I 2025-04-25 17:05:31,713] Trial 19 finished with value: 35.17168432617188 and parameters: {'lr': 0.002632228224664721, 'wd': 4.0396718539915765e-06, 'bs': 128, 'epochs': 153, 'latent_dim': 33, 'hidden_dim': 317, 'num_layers': 2, 'num_samples': 200}. Best is trial 12 with value: 28.742564514160158.\n",
      "INFO \t Training with 11 minibatches per epoch\n"
     ]
    },
    {
     "name": "stdout",
     "output_type": "stream",
     "text": [
      "🔍 Best params for cevae: {'lr': 0.0007906204555148813, 'wd': 1.2112317339343617e-07, 'bs': 128, 'epochs': 160, 'latent_dim': 11, 'hidden_dim': 391, 'num_layers': 3, 'num_samples': 50}\n"
     ]
    },
    {
     "name": "stderr",
     "output_type": "stream",
     "text": [
      "INFO \t Evaluating 1 minibatches\n",
      "[I 2025-04-25 17:05:45,998] A new study created in memory with name: dragonnet_tune\n",
      "[I 2025-04-25 17:05:46,975] Trial 0 finished with value: 0.36275777220726013 and parameters: {'lr': 2.6912945600201218e-05, 'wd': 1.0684942109974117e-07, 'bs': 64, 'epochs': 52, 'shared_hidden': 187, 'outcome_hidden': 83}. Best is trial 0 with value: 0.36275777220726013.\n",
      "[I 2025-04-25 17:05:49,424] Trial 1 finished with value: 0.32149016857147217 and parameters: {'lr': 0.0011731711152751382, 'wd': 4.668047423615951e-07, 'bs': 32, 'epochs': 101, 'shared_hidden': 74, 'outcome_hidden': 80}. Best is trial 1 with value: 0.32149016857147217.\n",
      "[I 2025-04-25 17:05:51,271] Trial 2 finished with value: 0.3421321213245392 and parameters: {'lr': 2.5472890915235492e-05, 'wd': 6.116198826240913e-06, 'bs': 32, 'epochs': 69, 'shared_hidden': 69, 'outcome_hidden': 122}. Best is trial 1 with value: 0.32149016857147217.\n",
      "[I 2025-04-25 17:05:52,966] Trial 3 finished with value: 0.33204537630081177 and parameters: {'lr': 3.5324832780222084e-05, 'wd': 6.8592888941584005e-06, 'bs': 128, 'epochs': 136, 'shared_hidden': 70, 'outcome_hidden': 175}. Best is trial 1 with value: 0.32149016857147217.\n",
      "[I 2025-04-25 17:05:55,050] Trial 4 finished with value: 0.32384398579597473 and parameters: {'lr': 2.002401961244983e-05, 'wd': 9.493627721628724e-06, 'bs': 128, 'epochs': 160, 'shared_hidden': 190, 'outcome_hidden': 110}. Best is trial 1 with value: 0.32149016857147217.\n",
      "[I 2025-04-25 17:05:57,003] Trial 5 finished with value: 0.3221379518508911 and parameters: {'lr': 0.0008834394367268606, 'wd': 1.3782776243118537e-06, 'bs': 64, 'epochs': 106, 'shared_hidden': 89, 'outcome_hidden': 181}. Best is trial 1 with value: 0.32149016857147217.\n",
      "[I 2025-04-25 17:06:02,036] Trial 6 finished with value: 0.2998429834842682 and parameters: {'lr': 1.870632024725585e-05, 'wd': 8.469270107263431e-05, 'bs': 32, 'epochs': 180, 'shared_hidden': 85, 'outcome_hidden': 155}. Best is trial 6 with value: 0.2998429834842682.\n",
      "[I 2025-04-25 17:06:03,693] Trial 7 finished with value: 0.3192780315876007 and parameters: {'lr': 0.00019779069329505628, 'wd': 4.816533877871496e-06, 'bs': 128, 'epochs': 141, 'shared_hidden': 90, 'outcome_hidden': 155}. Best is trial 6 with value: 0.2998429834842682.\n",
      "[I 2025-04-25 17:06:05,157] Trial 8 finished with value: 0.331762433052063 and parameters: {'lr': 3.694766432721602e-05, 'wd': 3.5400200679776643e-07, 'bs': 128, 'epochs': 126, 'shared_hidden': 198, 'outcome_hidden': 72}. Best is trial 6 with value: 0.2998429834842682.\n",
      "[I 2025-04-25 17:06:11,627] Trial 9 finished with value: 0.32165318727493286 and parameters: {'lr': 0.0011001048734608837, 'wd': 1.988245308684032e-06, 'bs': 32, 'epochs': 200, 'shared_hidden': 144, 'outcome_hidden': 157}. Best is trial 6 with value: 0.2998429834842682.\n",
      "[I 2025-04-25 17:06:18,287] Trial 10 finished with value: 0.32100531458854675 and parameters: {'lr': 0.008600797181337543, 'wd': 7.77860704704486e-05, 'bs': 32, 'epochs': 198, 'shared_hidden': 126, 'outcome_hidden': 197}. Best is trial 6 with value: 0.2998429834842682.\n",
      "[I 2025-04-25 17:06:20,304] Trial 11 finished with value: 0.31727463006973267 and parameters: {'lr': 0.0001424758677840667, 'wd': 4.384252933468765e-05, 'bs': 128, 'epochs': 167, 'shared_hidden': 103, 'outcome_hidden': 150}. Best is trial 6 with value: 0.2998429834842682.\n",
      "[I 2025-04-25 17:06:22,474] Trial 12 finished with value: 0.3096259832382202 and parameters: {'lr': 0.000108739743257786, 'wd': 9.827022736469014e-05, 'bs': 128, 'epochs': 174, 'shared_hidden': 113, 'outcome_hidden': 143}. Best is trial 6 with value: 0.2998429834842682.\n",
      "[I 2025-04-25 17:06:27,041] Trial 13 finished with value: 0.318011999130249 and parameters: {'lr': 7.915886965281342e-05, 'wd': 2.385931953167751e-05, 'bs': 32, 'epochs': 172, 'shared_hidden': 50, 'outcome_hidden': 142}. Best is trial 6 with value: 0.2998429834842682.\n",
      "[I 2025-04-25 17:06:30,214] Trial 14 finished with value: 0.33141806721687317 and parameters: {'lr': 1.149250359588707e-05, 'wd': 9.386060306133165e-05, 'bs': 64, 'epochs': 180, 'shared_hidden': 149, 'outcome_hidden': 105}. Best is trial 6 with value: 0.2998429834842682.\n",
      "[I 2025-04-25 17:06:32,036] Trial 15 finished with value: 0.3254818618297577 and parameters: {'lr': 0.00042839549695575436, 'wd': 2.0457048255946064e-05, 'bs': 128, 'epochs': 151, 'shared_hidden': 113, 'outcome_hidden': 132}. Best is trial 6 with value: 0.2998429834842682.\n",
      "[I 2025-04-25 17:06:36,799] Trial 16 finished with value: 0.3214012384414673 and parameters: {'lr': 7.78395579648372e-05, 'wd': 2.441449727789218e-05, 'bs': 32, 'epochs': 184, 'shared_hidden': 138, 'outcome_hidden': 50}. Best is trial 6 with value: 0.2998429834842682.\n",
      "[I 2025-04-25 17:06:38,192] Trial 17 finished with value: 0.7841925024986267 and parameters: {'lr': 1.0116131971595986e-05, 'wd': 4.885035348966258e-05, 'bs': 128, 'epochs': 110, 'shared_hidden': 112, 'outcome_hidden': 168}. Best is trial 6 with value: 0.2998429834842682.\n",
      "[I 2025-04-25 17:06:43,044] Trial 18 finished with value: 0.3018420338630676 and parameters: {'lr': 7.240476565103481e-05, 'wd': 1.58534674307469e-05, 'bs': 32, 'epochs': 152, 'shared_hidden': 166, 'outcome_hidden': 130}. Best is trial 6 with value: 0.2998429834842682.\n",
      "[I 2025-04-25 17:06:47,824] Trial 19 finished with value: 0.3149356544017792 and parameters: {'lr': 6.0186034310666636e-05, 'wd': 1.0091958719673533e-05, 'bs': 32, 'epochs': 153, 'shared_hidden': 169, 'outcome_hidden': 123}. Best is trial 6 with value: 0.2998429834842682.\n"
     ]
    },
    {
     "name": "stdout",
     "output_type": "stream",
     "text": [
      "🔍 Best params for dragonnet: {'lr': 1.870632024725585e-05, 'wd': 8.469270107263431e-05, 'bs': 32, 'epochs': 180, 'shared_hidden': 85, 'outcome_hidden': 155}\n"
     ]
    },
    {
     "name": "stderr",
     "output_type": "stream",
     "text": [
      "2025-04-25 17:06:58.503435: E tensorflow/core/framework/node_def_util.cc:676] NodeDef mentions attribute use_unbounded_threadpool which is not in the op definition: Op<name=MapDataset; signature=input_dataset:variant, other_arguments: -> handle:variant; attr=f:func; attr=Targuments:list(type),min=0; attr=output_types:list(type),min=1; attr=output_shapes:list(shape),min=1; attr=use_inter_op_parallelism:bool,default=true; attr=preserve_cardinality:bool,default=false; attr=force_synchronous:bool,default=false; attr=metadata:string,default=\"\"> This may be expected if your graph generating binary is newer  than this binary. Unknown attributes will be ignored. NodeDef: {{node ParallelMapDatasetV2/_14}}\n",
      "2025-04-25 17:06:58.503749: E tensorflow/core/framework/node_def_util.cc:676] NodeDef mentions attribute use_unbounded_threadpool which is not in the op definition: Op<name=MapDataset; signature=input_dataset:variant, other_arguments: -> handle:variant; attr=f:func; attr=Targuments:list(type),min=0; attr=output_types:list(type),min=1; attr=output_shapes:list(shape),min=1; attr=use_inter_op_parallelism:bool,default=true; attr=preserve_cardinality:bool,default=false; attr=force_synchronous:bool,default=false; attr=metadata:string,default=\"\"> This may be expected if your graph generating binary is newer  than this binary. Unknown attributes will be ignored. NodeDef: {{node ParallelMapDatasetV2/_14}}\n",
      "2025-04-25 17:07:05.381482: E tensorflow/core/framework/node_def_util.cc:676] NodeDef mentions attribute use_unbounded_threadpool which is not in the op definition: Op<name=MapDataset; signature=input_dataset:variant, other_arguments: -> handle:variant; attr=f:func; attr=Targuments:list(type),min=0; attr=output_types:list(type),min=1; attr=output_shapes:list(shape),min=1; attr=use_inter_op_parallelism:bool,default=true; attr=preserve_cardinality:bool,default=false; attr=force_synchronous:bool,default=false; attr=metadata:string,default=\"\"> This may be expected if your graph generating binary is newer  than this binary. Unknown attributes will be ignored. NodeDef: {{node ParallelMapDatasetV2/_14}}\n",
      "2025-04-25 17:07:05.381786: E tensorflow/core/framework/node_def_util.cc:676] NodeDef mentions attribute use_unbounded_threadpool which is not in the op definition: Op<name=MapDataset; signature=input_dataset:variant, other_arguments: -> handle:variant; attr=f:func; attr=Targuments:list(type),min=0; attr=output_types:list(type),min=1; attr=output_shapes:list(shape),min=1; attr=use_inter_op_parallelism:bool,default=true; attr=preserve_cardinality:bool,default=false; attr=force_synchronous:bool,default=false; attr=metadata:string,default=\"\"> This may be expected if your graph generating binary is newer  than this binary. Unknown attributes will be ignored. NodeDef: {{node ParallelMapDatasetV2/_14}}\n",
      "  5%|▌         | 1/20 [08:04<2:33:29, 484.70s/it]"
     ]
    },
    {
     "name": "stdout",
     "output_type": "stream",
     "text": [
      "The average treatment effect (ATE) is 1.844113\n",
      "Epoch 1: loss 2.3222,\tloss_y 1.5543, 1.5664, 0.0241,\tloss_eta 0.7679, 0.8092, 0.0828\n",
      "Epoch 1000: loss 0.7974,\tloss_y 0.2666, 0.5358, 0.5383,\tloss_eta 0.5308, 1.0622, 1.0628\n",
      "Warning: covariate dimension does not aligned with the specified input dimension; filling in the remaining dimension with noise.\n",
      "Warning: covariate dimension does not aligned with the specified input dimension; filling in the remaining dimension with noise.\n"
     ]
    },
    {
     "name": "stderr",
     "output_type": "stream",
     "text": [
      "INFO \t Training with 11 minibatches per epoch\n",
      "INFO \t Evaluating 1 minibatches\n",
      "2025-04-25 17:07:41.464306: E tensorflow/core/framework/node_def_util.cc:676] NodeDef mentions attribute use_unbounded_threadpool which is not in the op definition: Op<name=MapDataset; signature=input_dataset:variant, other_arguments: -> handle:variant; attr=f:func; attr=Targuments:list(type),min=0; attr=output_types:list(type),min=1; attr=output_shapes:list(shape),min=1; attr=use_inter_op_parallelism:bool,default=true; attr=preserve_cardinality:bool,default=false; attr=force_synchronous:bool,default=false; attr=metadata:string,default=\"\"> This may be expected if your graph generating binary is newer  than this binary. Unknown attributes will be ignored. NodeDef: {{node ParallelMapDatasetV2/_14}}\n",
      "2025-04-25 17:07:41.464602: E tensorflow/core/framework/node_def_util.cc:676] NodeDef mentions attribute use_unbounded_threadpool which is not in the op definition: Op<name=MapDataset; signature=input_dataset:variant, other_arguments: -> handle:variant; attr=f:func; attr=Targuments:list(type),min=0; attr=output_types:list(type),min=1; attr=output_shapes:list(shape),min=1; attr=use_inter_op_parallelism:bool,default=true; attr=preserve_cardinality:bool,default=false; attr=force_synchronous:bool,default=false; attr=metadata:string,default=\"\"> This may be expected if your graph generating binary is newer  than this binary. Unknown attributes will be ignored. NodeDef: {{node ParallelMapDatasetV2/_14}}\n",
      "2025-04-25 17:07:48.369126: E tensorflow/core/framework/node_def_util.cc:676] NodeDef mentions attribute use_unbounded_threadpool which is not in the op definition: Op<name=MapDataset; signature=input_dataset:variant, other_arguments: -> handle:variant; attr=f:func; attr=Targuments:list(type),min=0; attr=output_types:list(type),min=1; attr=output_shapes:list(shape),min=1; attr=use_inter_op_parallelism:bool,default=true; attr=preserve_cardinality:bool,default=false; attr=force_synchronous:bool,default=false; attr=metadata:string,default=\"\"> This may be expected if your graph generating binary is newer  than this binary. Unknown attributes will be ignored. NodeDef: {{node ParallelMapDatasetV2/_14}}\n",
      "2025-04-25 17:07:48.369414: E tensorflow/core/framework/node_def_util.cc:676] NodeDef mentions attribute use_unbounded_threadpool which is not in the op definition: Op<name=MapDataset; signature=input_dataset:variant, other_arguments: -> handle:variant; attr=f:func; attr=Targuments:list(type),min=0; attr=output_types:list(type),min=1; attr=output_shapes:list(shape),min=1; attr=use_inter_op_parallelism:bool,default=true; attr=preserve_cardinality:bool,default=false; attr=force_synchronous:bool,default=false; attr=metadata:string,default=\"\"> This may be expected if your graph generating binary is newer  than this binary. Unknown attributes will be ignored. NodeDef: {{node ParallelMapDatasetV2/_14}}\n",
      " 10%|█         | 2/20 [08:47<1:07:27, 224.86s/it]"
     ]
    },
    {
     "name": "stdout",
     "output_type": "stream",
     "text": [
      "The average treatment effect (ATE) is 1.8474262\n",
      "Epoch 1: loss 2.3165,\tloss_y 1.5498, 1.5565, 0.0133,\tloss_eta 0.7666, 0.8048, 0.0762\n",
      "Epoch 1000: loss 0.8216,\tloss_y 0.2842, 0.5824, 0.5964,\tloss_eta 0.5374, 1.0659, 1.0571\n",
      "Warning: covariate dimension does not aligned with the specified input dimension; filling in the remaining dimension with noise.\n",
      "Warning: covariate dimension does not aligned with the specified input dimension; filling in the remaining dimension with noise.\n"
     ]
    },
    {
     "name": "stderr",
     "output_type": "stream",
     "text": [
      "INFO \t Training with 11 minibatches per epoch\n",
      "INFO \t Evaluating 1 minibatches\n",
      "2025-04-25 17:08:22.499770: E tensorflow/core/framework/node_def_util.cc:676] NodeDef mentions attribute use_unbounded_threadpool which is not in the op definition: Op<name=MapDataset; signature=input_dataset:variant, other_arguments: -> handle:variant; attr=f:func; attr=Targuments:list(type),min=0; attr=output_types:list(type),min=1; attr=output_shapes:list(shape),min=1; attr=use_inter_op_parallelism:bool,default=true; attr=preserve_cardinality:bool,default=false; attr=force_synchronous:bool,default=false; attr=metadata:string,default=\"\"> This may be expected if your graph generating binary is newer  than this binary. Unknown attributes will be ignored. NodeDef: {{node ParallelMapDatasetV2/_14}}\n",
      "2025-04-25 17:08:22.500051: E tensorflow/core/framework/node_def_util.cc:676] NodeDef mentions attribute use_unbounded_threadpool which is not in the op definition: Op<name=MapDataset; signature=input_dataset:variant, other_arguments: -> handle:variant; attr=f:func; attr=Targuments:list(type),min=0; attr=output_types:list(type),min=1; attr=output_shapes:list(shape),min=1; attr=use_inter_op_parallelism:bool,default=true; attr=preserve_cardinality:bool,default=false; attr=force_synchronous:bool,default=false; attr=metadata:string,default=\"\"> This may be expected if your graph generating binary is newer  than this binary. Unknown attributes will be ignored. NodeDef: {{node ParallelMapDatasetV2/_14}}\n",
      "2025-04-25 17:08:29.548215: E tensorflow/core/framework/node_def_util.cc:676] NodeDef mentions attribute use_unbounded_threadpool which is not in the op definition: Op<name=MapDataset; signature=input_dataset:variant, other_arguments: -> handle:variant; attr=f:func; attr=Targuments:list(type),min=0; attr=output_types:list(type),min=1; attr=output_shapes:list(shape),min=1; attr=use_inter_op_parallelism:bool,default=true; attr=preserve_cardinality:bool,default=false; attr=force_synchronous:bool,default=false; attr=metadata:string,default=\"\"> This may be expected if your graph generating binary is newer  than this binary. Unknown attributes will be ignored. NodeDef: {{node ParallelMapDatasetV2/_14}}\n",
      "2025-04-25 17:08:29.548523: E tensorflow/core/framework/node_def_util.cc:676] NodeDef mentions attribute use_unbounded_threadpool which is not in the op definition: Op<name=MapDataset; signature=input_dataset:variant, other_arguments: -> handle:variant; attr=f:func; attr=Targuments:list(type),min=0; attr=output_types:list(type),min=1; attr=output_shapes:list(shape),min=1; attr=use_inter_op_parallelism:bool,default=true; attr=preserve_cardinality:bool,default=false; attr=force_synchronous:bool,default=false; attr=metadata:string,default=\"\"> This may be expected if your graph generating binary is newer  than this binary. Unknown attributes will be ignored. NodeDef: {{node ParallelMapDatasetV2/_14}}\n",
      " 15%|█▌        | 3/20 [09:28<39:56, 140.99s/it]  "
     ]
    },
    {
     "name": "stdout",
     "output_type": "stream",
     "text": [
      "The average treatment effect (ATE) is 1.7783146\n",
      "Epoch 1: loss 2.3927,\tloss_y 1.6104, 1.6217, 0.0227,\tloss_eta 0.7823, 0.8154, 0.0661\n",
      "Epoch 1000: loss 0.8906,\tloss_y 0.2850, 0.5753, 0.5806,\tloss_eta 0.6055, 1.1471, 1.0832\n",
      "Warning: covariate dimension does not aligned with the specified input dimension; filling in the remaining dimension with noise.\n",
      "Warning: covariate dimension does not aligned with the specified input dimension; filling in the remaining dimension with noise.\n"
     ]
    },
    {
     "name": "stderr",
     "output_type": "stream",
     "text": [
      "INFO \t Training with 11 minibatches per epoch\n",
      "INFO \t Evaluating 1 minibatches\n",
      "2025-04-25 17:09:03.673352: E tensorflow/core/framework/node_def_util.cc:676] NodeDef mentions attribute use_unbounded_threadpool which is not in the op definition: Op<name=MapDataset; signature=input_dataset:variant, other_arguments: -> handle:variant; attr=f:func; attr=Targuments:list(type),min=0; attr=output_types:list(type),min=1; attr=output_shapes:list(shape),min=1; attr=use_inter_op_parallelism:bool,default=true; attr=preserve_cardinality:bool,default=false; attr=force_synchronous:bool,default=false; attr=metadata:string,default=\"\"> This may be expected if your graph generating binary is newer  than this binary. Unknown attributes will be ignored. NodeDef: {{node ParallelMapDatasetV2/_14}}\n",
      "2025-04-25 17:09:03.673641: E tensorflow/core/framework/node_def_util.cc:676] NodeDef mentions attribute use_unbounded_threadpool which is not in the op definition: Op<name=MapDataset; signature=input_dataset:variant, other_arguments: -> handle:variant; attr=f:func; attr=Targuments:list(type),min=0; attr=output_types:list(type),min=1; attr=output_shapes:list(shape),min=1; attr=use_inter_op_parallelism:bool,default=true; attr=preserve_cardinality:bool,default=false; attr=force_synchronous:bool,default=false; attr=metadata:string,default=\"\"> This may be expected if your graph generating binary is newer  than this binary. Unknown attributes will be ignored. NodeDef: {{node ParallelMapDatasetV2/_14}}\n",
      "2025-04-25 17:09:10.596157: E tensorflow/core/framework/node_def_util.cc:676] NodeDef mentions attribute use_unbounded_threadpool which is not in the op definition: Op<name=MapDataset; signature=input_dataset:variant, other_arguments: -> handle:variant; attr=f:func; attr=Targuments:list(type),min=0; attr=output_types:list(type),min=1; attr=output_shapes:list(shape),min=1; attr=use_inter_op_parallelism:bool,default=true; attr=preserve_cardinality:bool,default=false; attr=force_synchronous:bool,default=false; attr=metadata:string,default=\"\"> This may be expected if your graph generating binary is newer  than this binary. Unknown attributes will be ignored. NodeDef: {{node ParallelMapDatasetV2/_14}}\n",
      "2025-04-25 17:09:10.596477: E tensorflow/core/framework/node_def_util.cc:676] NodeDef mentions attribute use_unbounded_threadpool which is not in the op definition: Op<name=MapDataset; signature=input_dataset:variant, other_arguments: -> handle:variant; attr=f:func; attr=Targuments:list(type),min=0; attr=output_types:list(type),min=1; attr=output_shapes:list(shape),min=1; attr=use_inter_op_parallelism:bool,default=true; attr=preserve_cardinality:bool,default=false; attr=force_synchronous:bool,default=false; attr=metadata:string,default=\"\"> This may be expected if your graph generating binary is newer  than this binary. Unknown attributes will be ignored. NodeDef: {{node ParallelMapDatasetV2/_14}}\n",
      " 20%|██        | 4/20 [10:09<27:04, 101.53s/it]"
     ]
    },
    {
     "name": "stdout",
     "output_type": "stream",
     "text": [
      "The average treatment effect (ATE) is 1.7872536\n",
      "Epoch 1: loss 2.2966,\tloss_y 1.5499, 1.5626, 0.0255,\tloss_eta 0.7468, 0.7945, 0.0956\n",
      "Epoch 1000: loss 0.8734,\tloss_y 0.3034, 0.5887, 0.5706,\tloss_eta 0.5700, 1.1141, 1.0883\n",
      "Warning: covariate dimension does not aligned with the specified input dimension; filling in the remaining dimension with noise.\n",
      "Warning: covariate dimension does not aligned with the specified input dimension; filling in the remaining dimension with noise.\n"
     ]
    },
    {
     "name": "stderr",
     "output_type": "stream",
     "text": [
      "INFO \t Training with 11 minibatches per epoch\n",
      "INFO \t Evaluating 1 minibatches\n",
      "2025-04-25 17:09:45.541581: E tensorflow/core/framework/node_def_util.cc:676] NodeDef mentions attribute use_unbounded_threadpool which is not in the op definition: Op<name=MapDataset; signature=input_dataset:variant, other_arguments: -> handle:variant; attr=f:func; attr=Targuments:list(type),min=0; attr=output_types:list(type),min=1; attr=output_shapes:list(shape),min=1; attr=use_inter_op_parallelism:bool,default=true; attr=preserve_cardinality:bool,default=false; attr=force_synchronous:bool,default=false; attr=metadata:string,default=\"\"> This may be expected if your graph generating binary is newer  than this binary. Unknown attributes will be ignored. NodeDef: {{node ParallelMapDatasetV2/_14}}\n",
      "2025-04-25 17:09:45.541874: E tensorflow/core/framework/node_def_util.cc:676] NodeDef mentions attribute use_unbounded_threadpool which is not in the op definition: Op<name=MapDataset; signature=input_dataset:variant, other_arguments: -> handle:variant; attr=f:func; attr=Targuments:list(type),min=0; attr=output_types:list(type),min=1; attr=output_shapes:list(shape),min=1; attr=use_inter_op_parallelism:bool,default=true; attr=preserve_cardinality:bool,default=false; attr=force_synchronous:bool,default=false; attr=metadata:string,default=\"\"> This may be expected if your graph generating binary is newer  than this binary. Unknown attributes will be ignored. NodeDef: {{node ParallelMapDatasetV2/_14}}\n",
      "2025-04-25 17:09:52.474028: E tensorflow/core/framework/node_def_util.cc:676] NodeDef mentions attribute use_unbounded_threadpool which is not in the op definition: Op<name=MapDataset; signature=input_dataset:variant, other_arguments: -> handle:variant; attr=f:func; attr=Targuments:list(type),min=0; attr=output_types:list(type),min=1; attr=output_shapes:list(shape),min=1; attr=use_inter_op_parallelism:bool,default=true; attr=preserve_cardinality:bool,default=false; attr=force_synchronous:bool,default=false; attr=metadata:string,default=\"\"> This may be expected if your graph generating binary is newer  than this binary. Unknown attributes will be ignored. NodeDef: {{node ParallelMapDatasetV2/_14}}\n",
      "2025-04-25 17:09:52.474320: E tensorflow/core/framework/node_def_util.cc:676] NodeDef mentions attribute use_unbounded_threadpool which is not in the op definition: Op<name=MapDataset; signature=input_dataset:variant, other_arguments: -> handle:variant; attr=f:func; attr=Targuments:list(type),min=0; attr=output_types:list(type),min=1; attr=output_shapes:list(shape),min=1; attr=use_inter_op_parallelism:bool,default=true; attr=preserve_cardinality:bool,default=false; attr=force_synchronous:bool,default=false; attr=metadata:string,default=\"\"> This may be expected if your graph generating binary is newer  than this binary. Unknown attributes will be ignored. NodeDef: {{node ParallelMapDatasetV2/_14}}\n",
      " 25%|██▌       | 5/20 [10:51<20:00, 80.02s/it] "
     ]
    },
    {
     "name": "stdout",
     "output_type": "stream",
     "text": [
      "The average treatment effect (ATE) is 1.7799888\n",
      "Epoch 1: loss 2.3519,\tloss_y 1.5795, 1.5936, 0.0281,\tloss_eta 0.7724, 0.8094, 0.0740\n",
      "Epoch 1000: loss 0.8619,\tloss_y 0.2885, 0.5713, 0.5658,\tloss_eta 0.5735, 1.1110, 1.0751\n",
      "Warning: covariate dimension does not aligned with the specified input dimension; filling in the remaining dimension with noise.\n",
      "Warning: covariate dimension does not aligned with the specified input dimension; filling in the remaining dimension with noise.\n"
     ]
    },
    {
     "name": "stderr",
     "output_type": "stream",
     "text": [
      "INFO \t Training with 11 minibatches per epoch\n",
      "INFO \t Evaluating 1 minibatches\n",
      "2025-04-25 17:10:26.579313: E tensorflow/core/framework/node_def_util.cc:676] NodeDef mentions attribute use_unbounded_threadpool which is not in the op definition: Op<name=MapDataset; signature=input_dataset:variant, other_arguments: -> handle:variant; attr=f:func; attr=Targuments:list(type),min=0; attr=output_types:list(type),min=1; attr=output_shapes:list(shape),min=1; attr=use_inter_op_parallelism:bool,default=true; attr=preserve_cardinality:bool,default=false; attr=force_synchronous:bool,default=false; attr=metadata:string,default=\"\"> This may be expected if your graph generating binary is newer  than this binary. Unknown attributes will be ignored. NodeDef: {{node ParallelMapDatasetV2/_14}}\n",
      "2025-04-25 17:10:26.579613: E tensorflow/core/framework/node_def_util.cc:676] NodeDef mentions attribute use_unbounded_threadpool which is not in the op definition: Op<name=MapDataset; signature=input_dataset:variant, other_arguments: -> handle:variant; attr=f:func; attr=Targuments:list(type),min=0; attr=output_types:list(type),min=1; attr=output_shapes:list(shape),min=1; attr=use_inter_op_parallelism:bool,default=true; attr=preserve_cardinality:bool,default=false; attr=force_synchronous:bool,default=false; attr=metadata:string,default=\"\"> This may be expected if your graph generating binary is newer  than this binary. Unknown attributes will be ignored. NodeDef: {{node ParallelMapDatasetV2/_14}}\n",
      "2025-04-25 17:10:33.549448: E tensorflow/core/framework/node_def_util.cc:676] NodeDef mentions attribute use_unbounded_threadpool which is not in the op definition: Op<name=MapDataset; signature=input_dataset:variant, other_arguments: -> handle:variant; attr=f:func; attr=Targuments:list(type),min=0; attr=output_types:list(type),min=1; attr=output_shapes:list(shape),min=1; attr=use_inter_op_parallelism:bool,default=true; attr=preserve_cardinality:bool,default=false; attr=force_synchronous:bool,default=false; attr=metadata:string,default=\"\"> This may be expected if your graph generating binary is newer  than this binary. Unknown attributes will be ignored. NodeDef: {{node ParallelMapDatasetV2/_14}}\n",
      "2025-04-25 17:10:33.549793: E tensorflow/core/framework/node_def_util.cc:676] NodeDef mentions attribute use_unbounded_threadpool which is not in the op definition: Op<name=MapDataset; signature=input_dataset:variant, other_arguments: -> handle:variant; attr=f:func; attr=Targuments:list(type),min=0; attr=output_types:list(type),min=1; attr=output_shapes:list(shape),min=1; attr=use_inter_op_parallelism:bool,default=true; attr=preserve_cardinality:bool,default=false; attr=force_synchronous:bool,default=false; attr=metadata:string,default=\"\"> This may be expected if your graph generating binary is newer  than this binary. Unknown attributes will be ignored. NodeDef: {{node ParallelMapDatasetV2/_14}}\n",
      " 30%|███       | 6/20 [11:32<15:34, 66.78s/it]"
     ]
    },
    {
     "name": "stdout",
     "output_type": "stream",
     "text": [
      "The average treatment effect (ATE) is 1.9066489\n",
      "Epoch 1: loss 2.3488,\tloss_y 1.5549, 1.5692, 0.0287,\tloss_eta 0.7939, 0.8276, 0.0673\n",
      "Epoch 1000: loss 0.8713,\tloss_y 0.3025, 0.5886, 0.5723,\tloss_eta 0.5688, 1.1023, 1.0670\n",
      "Warning: covariate dimension does not aligned with the specified input dimension; filling in the remaining dimension with noise.\n",
      "Warning: covariate dimension does not aligned with the specified input dimension; filling in the remaining dimension with noise.\n"
     ]
    },
    {
     "name": "stderr",
     "output_type": "stream",
     "text": [
      "INFO \t Training with 11 minibatches per epoch\n",
      "INFO \t Evaluating 1 minibatches\n",
      "2025-04-25 17:11:09.381020: E tensorflow/core/framework/node_def_util.cc:676] NodeDef mentions attribute use_unbounded_threadpool which is not in the op definition: Op<name=MapDataset; signature=input_dataset:variant, other_arguments: -> handle:variant; attr=f:func; attr=Targuments:list(type),min=0; attr=output_types:list(type),min=1; attr=output_shapes:list(shape),min=1; attr=use_inter_op_parallelism:bool,default=true; attr=preserve_cardinality:bool,default=false; attr=force_synchronous:bool,default=false; attr=metadata:string,default=\"\"> This may be expected if your graph generating binary is newer  than this binary. Unknown attributes will be ignored. NodeDef: {{node ParallelMapDatasetV2/_14}}\n",
      "2025-04-25 17:11:09.381597: E tensorflow/core/framework/node_def_util.cc:676] NodeDef mentions attribute use_unbounded_threadpool which is not in the op definition: Op<name=MapDataset; signature=input_dataset:variant, other_arguments: -> handle:variant; attr=f:func; attr=Targuments:list(type),min=0; attr=output_types:list(type),min=1; attr=output_shapes:list(shape),min=1; attr=use_inter_op_parallelism:bool,default=true; attr=preserve_cardinality:bool,default=false; attr=force_synchronous:bool,default=false; attr=metadata:string,default=\"\"> This may be expected if your graph generating binary is newer  than this binary. Unknown attributes will be ignored. NodeDef: {{node ParallelMapDatasetV2/_14}}\n",
      "2025-04-25 17:11:16.409157: E tensorflow/core/framework/node_def_util.cc:676] NodeDef mentions attribute use_unbounded_threadpool which is not in the op definition: Op<name=MapDataset; signature=input_dataset:variant, other_arguments: -> handle:variant; attr=f:func; attr=Targuments:list(type),min=0; attr=output_types:list(type),min=1; attr=output_shapes:list(shape),min=1; attr=use_inter_op_parallelism:bool,default=true; attr=preserve_cardinality:bool,default=false; attr=force_synchronous:bool,default=false; attr=metadata:string,default=\"\"> This may be expected if your graph generating binary is newer  than this binary. Unknown attributes will be ignored. NodeDef: {{node ParallelMapDatasetV2/_14}}\n",
      "2025-04-25 17:11:16.409453: E tensorflow/core/framework/node_def_util.cc:676] NodeDef mentions attribute use_unbounded_threadpool which is not in the op definition: Op<name=MapDataset; signature=input_dataset:variant, other_arguments: -> handle:variant; attr=f:func; attr=Targuments:list(type),min=0; attr=output_types:list(type),min=1; attr=output_shapes:list(shape),min=1; attr=use_inter_op_parallelism:bool,default=true; attr=preserve_cardinality:bool,default=false; attr=force_synchronous:bool,default=false; attr=metadata:string,default=\"\"> This may be expected if your graph generating binary is newer  than this binary. Unknown attributes will be ignored. NodeDef: {{node ParallelMapDatasetV2/_14}}\n",
      " 35%|███▌      | 7/20 [12:15<12:46, 58.95s/it]"
     ]
    },
    {
     "name": "stdout",
     "output_type": "stream",
     "text": [
      "The average treatment effect (ATE) is 1.8139479\n",
      "Epoch 1: loss 2.3299,\tloss_y 1.5798, 1.5953, 0.0309,\tloss_eta 0.7501, 0.7875, 0.0749\n",
      "Epoch 1000: loss 0.8733,\tloss_y 0.2831, 0.5796, 0.5929,\tloss_eta 0.5902, 1.1229, 1.0653\n",
      "Warning: covariate dimension does not aligned with the specified input dimension; filling in the remaining dimension with noise.\n",
      "Warning: covariate dimension does not aligned with the specified input dimension; filling in the remaining dimension with noise.\n"
     ]
    },
    {
     "name": "stderr",
     "output_type": "stream",
     "text": [
      "INFO \t Training with 11 minibatches per epoch\n",
      "INFO \t Evaluating 1 minibatches\n",
      "2025-04-25 17:11:49.695758: E tensorflow/core/framework/node_def_util.cc:676] NodeDef mentions attribute use_unbounded_threadpool which is not in the op definition: Op<name=MapDataset; signature=input_dataset:variant, other_arguments: -> handle:variant; attr=f:func; attr=Targuments:list(type),min=0; attr=output_types:list(type),min=1; attr=output_shapes:list(shape),min=1; attr=use_inter_op_parallelism:bool,default=true; attr=preserve_cardinality:bool,default=false; attr=force_synchronous:bool,default=false; attr=metadata:string,default=\"\"> This may be expected if your graph generating binary is newer  than this binary. Unknown attributes will be ignored. NodeDef: {{node ParallelMapDatasetV2/_14}}\n",
      "2025-04-25 17:11:49.696069: E tensorflow/core/framework/node_def_util.cc:676] NodeDef mentions attribute use_unbounded_threadpool which is not in the op definition: Op<name=MapDataset; signature=input_dataset:variant, other_arguments: -> handle:variant; attr=f:func; attr=Targuments:list(type),min=0; attr=output_types:list(type),min=1; attr=output_shapes:list(shape),min=1; attr=use_inter_op_parallelism:bool,default=true; attr=preserve_cardinality:bool,default=false; attr=force_synchronous:bool,default=false; attr=metadata:string,default=\"\"> This may be expected if your graph generating binary is newer  than this binary. Unknown attributes will be ignored. NodeDef: {{node ParallelMapDatasetV2/_14}}\n",
      "2025-04-25 17:11:56.421372: E tensorflow/core/framework/node_def_util.cc:676] NodeDef mentions attribute use_unbounded_threadpool which is not in the op definition: Op<name=MapDataset; signature=input_dataset:variant, other_arguments: -> handle:variant; attr=f:func; attr=Targuments:list(type),min=0; attr=output_types:list(type),min=1; attr=output_shapes:list(shape),min=1; attr=use_inter_op_parallelism:bool,default=true; attr=preserve_cardinality:bool,default=false; attr=force_synchronous:bool,default=false; attr=metadata:string,default=\"\"> This may be expected if your graph generating binary is newer  than this binary. Unknown attributes will be ignored. NodeDef: {{node ParallelMapDatasetV2/_14}}\n",
      "2025-04-25 17:11:56.421696: E tensorflow/core/framework/node_def_util.cc:676] NodeDef mentions attribute use_unbounded_threadpool which is not in the op definition: Op<name=MapDataset; signature=input_dataset:variant, other_arguments: -> handle:variant; attr=f:func; attr=Targuments:list(type),min=0; attr=output_types:list(type),min=1; attr=output_shapes:list(shape),min=1; attr=use_inter_op_parallelism:bool,default=true; attr=preserve_cardinality:bool,default=false; attr=force_synchronous:bool,default=false; attr=metadata:string,default=\"\"> This may be expected if your graph generating binary is newer  than this binary. Unknown attributes will be ignored. NodeDef: {{node ParallelMapDatasetV2/_14}}\n",
      " 40%|████      | 8/20 [12:55<10:35, 52.93s/it]"
     ]
    },
    {
     "name": "stdout",
     "output_type": "stream",
     "text": [
      "The average treatment effect (ATE) is 1.6634731\n",
      "Epoch 1: loss 2.2241,\tloss_y 1.4781, 1.4879, 0.0197,\tloss_eta 0.7460, 0.7912, 0.0903\n",
      "Epoch 1000: loss 0.8925,\tloss_y 0.2888, 0.5844, 0.5910,\tloss_eta 0.6037, 1.1258, 1.0441\n",
      "Warning: covariate dimension does not aligned with the specified input dimension; filling in the remaining dimension with noise.\n",
      "Warning: covariate dimension does not aligned with the specified input dimension; filling in the remaining dimension with noise.\n"
     ]
    },
    {
     "name": "stderr",
     "output_type": "stream",
     "text": [
      "INFO \t Training with 11 minibatches per epoch\n",
      "INFO \t Evaluating 1 minibatches\n",
      "2025-04-25 17:12:29.358442: E tensorflow/core/framework/node_def_util.cc:676] NodeDef mentions attribute use_unbounded_threadpool which is not in the op definition: Op<name=MapDataset; signature=input_dataset:variant, other_arguments: -> handle:variant; attr=f:func; attr=Targuments:list(type),min=0; attr=output_types:list(type),min=1; attr=output_shapes:list(shape),min=1; attr=use_inter_op_parallelism:bool,default=true; attr=preserve_cardinality:bool,default=false; attr=force_synchronous:bool,default=false; attr=metadata:string,default=\"\"> This may be expected if your graph generating binary is newer  than this binary. Unknown attributes will be ignored. NodeDef: {{node ParallelMapDatasetV2/_14}}\n",
      "2025-04-25 17:12:29.358764: E tensorflow/core/framework/node_def_util.cc:676] NodeDef mentions attribute use_unbounded_threadpool which is not in the op definition: Op<name=MapDataset; signature=input_dataset:variant, other_arguments: -> handle:variant; attr=f:func; attr=Targuments:list(type),min=0; attr=output_types:list(type),min=1; attr=output_shapes:list(shape),min=1; attr=use_inter_op_parallelism:bool,default=true; attr=preserve_cardinality:bool,default=false; attr=force_synchronous:bool,default=false; attr=metadata:string,default=\"\"> This may be expected if your graph generating binary is newer  than this binary. Unknown attributes will be ignored. NodeDef: {{node ParallelMapDatasetV2/_14}}\n",
      "2025-04-25 17:12:36.258099: E tensorflow/core/framework/node_def_util.cc:676] NodeDef mentions attribute use_unbounded_threadpool which is not in the op definition: Op<name=MapDataset; signature=input_dataset:variant, other_arguments: -> handle:variant; attr=f:func; attr=Targuments:list(type),min=0; attr=output_types:list(type),min=1; attr=output_shapes:list(shape),min=1; attr=use_inter_op_parallelism:bool,default=true; attr=preserve_cardinality:bool,default=false; attr=force_synchronous:bool,default=false; attr=metadata:string,default=\"\"> This may be expected if your graph generating binary is newer  than this binary. Unknown attributes will be ignored. NodeDef: {{node ParallelMapDatasetV2/_14}}\n",
      "2025-04-25 17:12:36.258401: E tensorflow/core/framework/node_def_util.cc:676] NodeDef mentions attribute use_unbounded_threadpool which is not in the op definition: Op<name=MapDataset; signature=input_dataset:variant, other_arguments: -> handle:variant; attr=f:func; attr=Targuments:list(type),min=0; attr=output_types:list(type),min=1; attr=output_shapes:list(shape),min=1; attr=use_inter_op_parallelism:bool,default=true; attr=preserve_cardinality:bool,default=false; attr=force_synchronous:bool,default=false; attr=metadata:string,default=\"\"> This may be expected if your graph generating binary is newer  than this binary. Unknown attributes will be ignored. NodeDef: {{node ParallelMapDatasetV2/_14}}\n",
      " 45%|████▌     | 9/20 [13:35<08:57, 48.83s/it]"
     ]
    },
    {
     "name": "stdout",
     "output_type": "stream",
     "text": [
      "The average treatment effect (ATE) is 2.0070453\n",
      "Epoch 1: loss 2.3386,\tloss_y 1.5312, 1.5752, 0.0880,\tloss_eta 0.8074, 0.8420, 0.0691\n",
      "Epoch 1000: loss 0.8507,\tloss_y 0.2866, 0.5777, 0.5822,\tloss_eta 0.5640, 1.1073, 1.0865\n",
      "Warning: covariate dimension does not aligned with the specified input dimension; filling in the remaining dimension with noise.\n",
      "Warning: covariate dimension does not aligned with the specified input dimension; filling in the remaining dimension with noise.\n"
     ]
    },
    {
     "name": "stderr",
     "output_type": "stream",
     "text": [
      "INFO \t Training with 11 minibatches per epoch\n",
      "INFO \t Evaluating 1 minibatches\n",
      "2025-04-25 17:13:08.426237: E tensorflow/core/framework/node_def_util.cc:676] NodeDef mentions attribute use_unbounded_threadpool which is not in the op definition: Op<name=MapDataset; signature=input_dataset:variant, other_arguments: -> handle:variant; attr=f:func; attr=Targuments:list(type),min=0; attr=output_types:list(type),min=1; attr=output_shapes:list(shape),min=1; attr=use_inter_op_parallelism:bool,default=true; attr=preserve_cardinality:bool,default=false; attr=force_synchronous:bool,default=false; attr=metadata:string,default=\"\"> This may be expected if your graph generating binary is newer  than this binary. Unknown attributes will be ignored. NodeDef: {{node ParallelMapDatasetV2/_14}}\n",
      "2025-04-25 17:13:08.426540: E tensorflow/core/framework/node_def_util.cc:676] NodeDef mentions attribute use_unbounded_threadpool which is not in the op definition: Op<name=MapDataset; signature=input_dataset:variant, other_arguments: -> handle:variant; attr=f:func; attr=Targuments:list(type),min=0; attr=output_types:list(type),min=1; attr=output_shapes:list(shape),min=1; attr=use_inter_op_parallelism:bool,default=true; attr=preserve_cardinality:bool,default=false; attr=force_synchronous:bool,default=false; attr=metadata:string,default=\"\"> This may be expected if your graph generating binary is newer  than this binary. Unknown attributes will be ignored. NodeDef: {{node ParallelMapDatasetV2/_14}}\n",
      "2025-04-25 17:13:15.458966: E tensorflow/core/framework/node_def_util.cc:676] NodeDef mentions attribute use_unbounded_threadpool which is not in the op definition: Op<name=MapDataset; signature=input_dataset:variant, other_arguments: -> handle:variant; attr=f:func; attr=Targuments:list(type),min=0; attr=output_types:list(type),min=1; attr=output_shapes:list(shape),min=1; attr=use_inter_op_parallelism:bool,default=true; attr=preserve_cardinality:bool,default=false; attr=force_synchronous:bool,default=false; attr=metadata:string,default=\"\"> This may be expected if your graph generating binary is newer  than this binary. Unknown attributes will be ignored. NodeDef: {{node ParallelMapDatasetV2/_14}}\n",
      "2025-04-25 17:13:15.459267: E tensorflow/core/framework/node_def_util.cc:676] NodeDef mentions attribute use_unbounded_threadpool which is not in the op definition: Op<name=MapDataset; signature=input_dataset:variant, other_arguments: -> handle:variant; attr=f:func; attr=Targuments:list(type),min=0; attr=output_types:list(type),min=1; attr=output_shapes:list(shape),min=1; attr=use_inter_op_parallelism:bool,default=true; attr=preserve_cardinality:bool,default=false; attr=force_synchronous:bool,default=false; attr=metadata:string,default=\"\"> This may be expected if your graph generating binary is newer  than this binary. Unknown attributes will be ignored. NodeDef: {{node ParallelMapDatasetV2/_14}}\n",
      " 50%|█████     | 10/20 [14:14<07:38, 45.87s/it]"
     ]
    },
    {
     "name": "stdout",
     "output_type": "stream",
     "text": [
      "The average treatment effect (ATE) is 1.9088184\n",
      "Epoch 1: loss 2.2547,\tloss_y 1.5329, 1.5479, 0.0301,\tloss_eta 0.7218, 0.7651, 0.0867\n",
      "Epoch 1000: loss 0.8349,\tloss_y 0.2813, 0.5458, 0.5290,\tloss_eta 0.5536, 1.1034, 1.0996\n",
      "Warning: covariate dimension does not aligned with the specified input dimension; filling in the remaining dimension with noise.\n",
      "Warning: covariate dimension does not aligned with the specified input dimension; filling in the remaining dimension with noise.\n"
     ]
    },
    {
     "name": "stderr",
     "output_type": "stream",
     "text": [
      "INFO \t Training with 11 minibatches per epoch\n",
      "INFO \t Evaluating 1 minibatches\n",
      "2025-04-25 17:13:47.343546: E tensorflow/core/framework/node_def_util.cc:676] NodeDef mentions attribute use_unbounded_threadpool which is not in the op definition: Op<name=MapDataset; signature=input_dataset:variant, other_arguments: -> handle:variant; attr=f:func; attr=Targuments:list(type),min=0; attr=output_types:list(type),min=1; attr=output_shapes:list(shape),min=1; attr=use_inter_op_parallelism:bool,default=true; attr=preserve_cardinality:bool,default=false; attr=force_synchronous:bool,default=false; attr=metadata:string,default=\"\"> This may be expected if your graph generating binary is newer  than this binary. Unknown attributes will be ignored. NodeDef: {{node ParallelMapDatasetV2/_14}}\n",
      "2025-04-25 17:13:47.343859: E tensorflow/core/framework/node_def_util.cc:676] NodeDef mentions attribute use_unbounded_threadpool which is not in the op definition: Op<name=MapDataset; signature=input_dataset:variant, other_arguments: -> handle:variant; attr=f:func; attr=Targuments:list(type),min=0; attr=output_types:list(type),min=1; attr=output_shapes:list(shape),min=1; attr=use_inter_op_parallelism:bool,default=true; attr=preserve_cardinality:bool,default=false; attr=force_synchronous:bool,default=false; attr=metadata:string,default=\"\"> This may be expected if your graph generating binary is newer  than this binary. Unknown attributes will be ignored. NodeDef: {{node ParallelMapDatasetV2/_14}}\n",
      "2025-04-25 17:13:54.346161: E tensorflow/core/framework/node_def_util.cc:676] NodeDef mentions attribute use_unbounded_threadpool which is not in the op definition: Op<name=MapDataset; signature=input_dataset:variant, other_arguments: -> handle:variant; attr=f:func; attr=Targuments:list(type),min=0; attr=output_types:list(type),min=1; attr=output_shapes:list(shape),min=1; attr=use_inter_op_parallelism:bool,default=true; attr=preserve_cardinality:bool,default=false; attr=force_synchronous:bool,default=false; attr=metadata:string,default=\"\"> This may be expected if your graph generating binary is newer  than this binary. Unknown attributes will be ignored. NodeDef: {{node ParallelMapDatasetV2/_14}}\n",
      "2025-04-25 17:13:54.346495: E tensorflow/core/framework/node_def_util.cc:676] NodeDef mentions attribute use_unbounded_threadpool which is not in the op definition: Op<name=MapDataset; signature=input_dataset:variant, other_arguments: -> handle:variant; attr=f:func; attr=Targuments:list(type),min=0; attr=output_types:list(type),min=1; attr=output_shapes:list(shape),min=1; attr=use_inter_op_parallelism:bool,default=true; attr=preserve_cardinality:bool,default=false; attr=force_synchronous:bool,default=false; attr=metadata:string,default=\"\"> This may be expected if your graph generating binary is newer  than this binary. Unknown attributes will be ignored. NodeDef: {{node ParallelMapDatasetV2/_14}}\n",
      " 55%|█████▌    | 11/20 [14:53<06:33, 43.73s/it]"
     ]
    },
    {
     "name": "stdout",
     "output_type": "stream",
     "text": [
      "The average treatment effect (ATE) is 1.9252685\n",
      "Epoch 1: loss 2.3751,\tloss_y 1.5408, 1.5816, 0.0814,\tloss_eta 0.8343, 0.8608, 0.0530\n",
      "Epoch 1000: loss 0.8299,\tloss_y 0.2918, 0.5758, 0.5680,\tloss_eta 0.5381, 1.0888, 1.1015\n",
      "Warning: covariate dimension does not aligned with the specified input dimension; filling in the remaining dimension with noise.\n",
      "Warning: covariate dimension does not aligned with the specified input dimension; filling in the remaining dimension with noise.\n"
     ]
    },
    {
     "name": "stderr",
     "output_type": "stream",
     "text": [
      "INFO \t Training with 11 minibatches per epoch\n",
      "INFO \t Evaluating 1 minibatches\n",
      "2025-04-25 17:14:26.496820: E tensorflow/core/framework/node_def_util.cc:676] NodeDef mentions attribute use_unbounded_threadpool which is not in the op definition: Op<name=MapDataset; signature=input_dataset:variant, other_arguments: -> handle:variant; attr=f:func; attr=Targuments:list(type),min=0; attr=output_types:list(type),min=1; attr=output_shapes:list(shape),min=1; attr=use_inter_op_parallelism:bool,default=true; attr=preserve_cardinality:bool,default=false; attr=force_synchronous:bool,default=false; attr=metadata:string,default=\"\"> This may be expected if your graph generating binary is newer  than this binary. Unknown attributes will be ignored. NodeDef: {{node ParallelMapDatasetV2/_14}}\n",
      "2025-04-25 17:14:26.497150: E tensorflow/core/framework/node_def_util.cc:676] NodeDef mentions attribute use_unbounded_threadpool which is not in the op definition: Op<name=MapDataset; signature=input_dataset:variant, other_arguments: -> handle:variant; attr=f:func; attr=Targuments:list(type),min=0; attr=output_types:list(type),min=1; attr=output_shapes:list(shape),min=1; attr=use_inter_op_parallelism:bool,default=true; attr=preserve_cardinality:bool,default=false; attr=force_synchronous:bool,default=false; attr=metadata:string,default=\"\"> This may be expected if your graph generating binary is newer  than this binary. Unknown attributes will be ignored. NodeDef: {{node ParallelMapDatasetV2/_14}}\n",
      "2025-04-25 17:14:33.395969: E tensorflow/core/framework/node_def_util.cc:676] NodeDef mentions attribute use_unbounded_threadpool which is not in the op definition: Op<name=MapDataset; signature=input_dataset:variant, other_arguments: -> handle:variant; attr=f:func; attr=Targuments:list(type),min=0; attr=output_types:list(type),min=1; attr=output_shapes:list(shape),min=1; attr=use_inter_op_parallelism:bool,default=true; attr=preserve_cardinality:bool,default=false; attr=force_synchronous:bool,default=false; attr=metadata:string,default=\"\"> This may be expected if your graph generating binary is newer  than this binary. Unknown attributes will be ignored. NodeDef: {{node ParallelMapDatasetV2/_14}}\n",
      "2025-04-25 17:14:33.396272: E tensorflow/core/framework/node_def_util.cc:676] NodeDef mentions attribute use_unbounded_threadpool which is not in the op definition: Op<name=MapDataset; signature=input_dataset:variant, other_arguments: -> handle:variant; attr=f:func; attr=Targuments:list(type),min=0; attr=output_types:list(type),min=1; attr=output_shapes:list(shape),min=1; attr=use_inter_op_parallelism:bool,default=true; attr=preserve_cardinality:bool,default=false; attr=force_synchronous:bool,default=false; attr=metadata:string,default=\"\"> This may be expected if your graph generating binary is newer  than this binary. Unknown attributes will be ignored. NodeDef: {{node ParallelMapDatasetV2/_14}}\n",
      " 60%|██████    | 12/20 [15:32<05:38, 42.30s/it]"
     ]
    },
    {
     "name": "stdout",
     "output_type": "stream",
     "text": [
      "The average treatment effect (ATE) is 1.7876357\n",
      "Epoch 1: loss 2.2696,\tloss_y 1.5175, 1.5444, 0.0539,\tloss_eta 0.7521, 0.7841, 0.0641\n",
      "Epoch 1000: loss 0.8801,\tloss_y 0.2945, 0.5679, 0.5469,\tloss_eta 0.5856, 1.1066, 1.0420\n",
      "Warning: covariate dimension does not aligned with the specified input dimension; filling in the remaining dimension with noise.\n",
      "Warning: covariate dimension does not aligned with the specified input dimension; filling in the remaining dimension with noise.\n"
     ]
    },
    {
     "name": "stderr",
     "output_type": "stream",
     "text": [
      "INFO \t Training with 11 minibatches per epoch\n",
      "INFO \t Evaluating 1 minibatches\n",
      "2025-04-25 17:15:07.983906: E tensorflow/core/framework/node_def_util.cc:676] NodeDef mentions attribute use_unbounded_threadpool which is not in the op definition: Op<name=MapDataset; signature=input_dataset:variant, other_arguments: -> handle:variant; attr=f:func; attr=Targuments:list(type),min=0; attr=output_types:list(type),min=1; attr=output_shapes:list(shape),min=1; attr=use_inter_op_parallelism:bool,default=true; attr=preserve_cardinality:bool,default=false; attr=force_synchronous:bool,default=false; attr=metadata:string,default=\"\"> This may be expected if your graph generating binary is newer  than this binary. Unknown attributes will be ignored. NodeDef: {{node ParallelMapDatasetV2/_14}}\n",
      "2025-04-25 17:15:07.984262: E tensorflow/core/framework/node_def_util.cc:676] NodeDef mentions attribute use_unbounded_threadpool which is not in the op definition: Op<name=MapDataset; signature=input_dataset:variant, other_arguments: -> handle:variant; attr=f:func; attr=Targuments:list(type),min=0; attr=output_types:list(type),min=1; attr=output_shapes:list(shape),min=1; attr=use_inter_op_parallelism:bool,default=true; attr=preserve_cardinality:bool,default=false; attr=force_synchronous:bool,default=false; attr=metadata:string,default=\"\"> This may be expected if your graph generating binary is newer  than this binary. Unknown attributes will be ignored. NodeDef: {{node ParallelMapDatasetV2/_14}}\n",
      "2025-04-25 17:15:15.609676: E tensorflow/core/framework/node_def_util.cc:676] NodeDef mentions attribute use_unbounded_threadpool which is not in the op definition: Op<name=MapDataset; signature=input_dataset:variant, other_arguments: -> handle:variant; attr=f:func; attr=Targuments:list(type),min=0; attr=output_types:list(type),min=1; attr=output_shapes:list(shape),min=1; attr=use_inter_op_parallelism:bool,default=true; attr=preserve_cardinality:bool,default=false; attr=force_synchronous:bool,default=false; attr=metadata:string,default=\"\"> This may be expected if your graph generating binary is newer  than this binary. Unknown attributes will be ignored. NodeDef: {{node ParallelMapDatasetV2/_14}}\n",
      "2025-04-25 17:15:15.609994: E tensorflow/core/framework/node_def_util.cc:676] NodeDef mentions attribute use_unbounded_threadpool which is not in the op definition: Op<name=MapDataset; signature=input_dataset:variant, other_arguments: -> handle:variant; attr=f:func; attr=Targuments:list(type),min=0; attr=output_types:list(type),min=1; attr=output_shapes:list(shape),min=1; attr=use_inter_op_parallelism:bool,default=true; attr=preserve_cardinality:bool,default=false; attr=force_synchronous:bool,default=false; attr=metadata:string,default=\"\"> This may be expected if your graph generating binary is newer  than this binary. Unknown attributes will be ignored. NodeDef: {{node ParallelMapDatasetV2/_14}}\n",
      " 65%|██████▌   | 13/20 [16:14<04:55, 42.28s/it]"
     ]
    },
    {
     "name": "stdout",
     "output_type": "stream",
     "text": [
      "The average treatment effect (ATE) is 1.8343469\n",
      "Epoch 1: loss 2.2898,\tloss_y 1.5228, 1.5384, 0.0313,\tloss_eta 0.7670, 0.8040, 0.0740\n"
     ]
    }
   ],
   "source": [
    "nrep = 20  # Number of repetitions\n",
    "n_tr = 1000  # Training sample size\n",
    "n_val = 400\n",
    "n_te = 1000  # Testing sample size\n",
    "strength_instr_values = np.arange(1,4.5,1)  # Varying strength of instrumental variables\n",
    "nI = 5  # Fixed number of instrumental variables\n",
    "nX = 5\n",
    "nO = 0\n",
    "nS = 0\n",
    "binary_intervention = True\n",
    "num_iters = 1000  # Fixed number of training iterations\n",
    "\n",
    "\n",
    "# Initialize tracker for strength_instr\n",
    "tracker = {strength_instr: {\"fr\": [], \"dr\": [], \"causalegm\":[], \"tarnet\":[], \"cfrnet\":[], \"cevae\":[], \"dragonnet\":[]}\n",
    "           for strength_instr in strength_instr_values}\n",
    "best_hps = {model: None for model in [\"tarnet\",\"cfrnet\",\"cevae\",\"dragonnet\"]}\n",
    "# Begin loop over strength_instr\n",
    "for strength_instr in strength_instr_values:\n",
    "    print(f\"Running experiments for strength_instr = {strength_instr}\")\n",
    "    p = nI + nX + nO + nS  # Update the number of covariates\n",
    "    \n",
    "    for rep in tqdm(range(nrep)):\n",
    "        # Generate training and testing data\n",
    "        df_tr = generate_data_causl(n=n_tr, nI=nI, nX=nX, nO=nO, nS=nS, ate=ate, \n",
    "                                    beta_cov=beta_cov, strength_instr=strength_instr, \n",
    "                                    strength_conf=strength_conf, \n",
    "                                    strength_outcome=strength_outcome, \n",
    "                                    binary_intervention=binary_intervention)\n",
    "        z_tr = torch.tensor(df_tr[[f\"X{i}\" for i in range(1, p + 1)]].values, dtype=torch.float32)\n",
    "        x_tr = torch.tensor(df_tr['A'].values, dtype=torch.int32).view(-1, 1) if binary_intervention else \\\n",
    "            torch.tensor(df_tr['A'].values, dtype=torch.float32).view(-1, 1)\n",
    "        y_tr = torch.tensor(df_tr['y'].values, dtype=torch.float32).view(-1, 1)\n",
    "        \n",
    "        z_tr_np = df_tr[[f\"X{i}\" for i in range(1, p + 1)]].values\n",
    "        x_tr_np = df_tr['A'].values\n",
    "        y_tr_np = df_tr['y'].values\n",
    "\n",
    "        df_val = generate_data_causl(n=n_val, nI=nI, nX=nX, nO=nO, nS=nS, ate=ate, \n",
    "                                    beta_cov=beta_cov, strength_instr=strength_instr, \n",
    "                                    strength_conf=strength_conf, \n",
    "                                    strength_outcome=strength_outcome, \n",
    "                                    binary_intervention=binary_intervention)\n",
    "\n",
    "\n",
    "        z_val_np = df_val[[f\"X{i}\" for i in range(1, p + 1)]].values\n",
    "        x_val_np = df_val['A'].values\n",
    "        y_val_np = df_val['y'].values\n",
    "\n",
    "        df_te = generate_data_causl(n=n_te, nI=nI, nX=nX, nO=nO, nS=nS, ate=ate, \n",
    "                                    beta_cov=beta_cov, strength_instr=strength_instr, \n",
    "                                    strength_conf=strength_conf, \n",
    "                                    strength_outcome=strength_outcome, \n",
    "                                    binary_intervention=binary_intervention)\n",
    "\n",
    "        z_te_np = df_te[[f\"X{i}\" for i in range(1, p + 1)]].values\n",
    "        x_te_np = df_te['A'].values\n",
    "        y_te_np = df_te['y'].values\n",
    "        z_te = torch.tensor(z_te_np, dtype=torch.float32)\n",
    "\n",
    "        model = Frengression(x_dim = x_tr.shape[1], y_dim = 1, z_dim =z_tr.shape[1], \n",
    "                             noise_dim=1, num_layer=3, hidden_dim=100, \n",
    "                             device=device, x_binary=binary_intervention, z_binary_dims=0)\n",
    "\n",
    "        # Train Frengression model\n",
    "        model.train_y(x=x_tr,\n",
    "                      z=z_tr, \n",
    "                      y=y_tr, \n",
    "                      num_iters=num_iters, lr=1e-4, print_every_iter=1000)\n",
    "\n",
    "        # Sample model distributions\n",
    "        P0 = model.sample_causal_margin(torch.tensor([0], dtype=torch.int32), sample_size=n_te).numpy().reshape(-1, 1)\n",
    "        P1 = model.sample_causal_margin(torch.tensor([1], dtype=torch.int32), sample_size=n_te).numpy().reshape(-1, 1)\n",
    "        ate_fr = np.mean(P1) - np.mean(P0)\n",
    "\n",
    "        # DR Estimation\n",
    "        ate_dr, _ = dr_ate(x_tr_np, y_tr_np, z_tr_np ,x_te_np, y_te_np, z_te_np)\n",
    "\n",
    "        for model in [\"tarnet\",\"cfrnet\",\"cevae\",\"dragonnet\"]:\n",
    "            if rep == 0:\n",
    "                ite, best_hps[model] = tune_and_eval(\n",
    "                    model,\n",
    "                    z_tr_np, x_tr_np, y_tr_np,\n",
    "                    z_val_np, x_val_np, y_val_np,\n",
    "                    z_te_np,  x_te_np,  y_te_np,\n",
    "                    provided_params=None,\n",
    "                    n_trials=20\n",
    "                )\n",
    "            else:\n",
    "                ite = tune_and_eval(\n",
    "                    model,\n",
    "                    z_tr_np, x_tr_np, y_tr_np,\n",
    "                    z_val_np, x_val_np, y_val_np,\n",
    "                    z_te_np,  x_te_np,  y_te_np,\n",
    "                    provided_params=best_hps[model]\n",
    "                )\n",
    "            tracker[strength_instr][model].append(ite.mean())\n",
    "\n",
    "\n",
    "        cegm_params = {'dataset': 'Semi_acic', \n",
    "                        'output_dir': '.', \n",
    "                        'v_dim': z_tr.shape[1], \n",
    "                        'z_dims': [1, 1, 1, 1], \n",
    "                        'lr': 0.0002, \n",
    "                        'alpha': 1, \n",
    "                        'beta': 1, \n",
    "                        'gamma': 10, \n",
    "                        'g_d_freq': 5, \n",
    "                        'g_units': [64, 64, 64, 64, 64], \n",
    "                        'e_units': [64, 64, 64, 64, 64], \n",
    "                        'f_units': [64, 32, 8], \n",
    "                        'h_units': [64, 32, 8], \n",
    "                        'dz_units': [64, 32, 8], \n",
    "                        'dv_units': [64, 32, 8], 'save_res': False, 'save_model': False, 'binary_treatment': True, 'use_z_rec': True, 'use_v_gan': True}\n",
    "        egm_model = cegm.CausalEGM(params=cegm_params, random_seed=42)\n",
    "        egm_model.train(data=[x_tr,y_tr,z_tr],n_iter=1000, verbose=False)\n",
    "        ate_causalegm=egm_model.getCATE(z_te).mean()\n",
    "\n",
    "        # Log results\n",
    "        tracker[strength_instr][\"fr\"].append(ate_fr)\n",
    "        tracker[strength_instr][\"dr\"].append(ate_dr)\n",
    "        tracker[strength_instr][\"dragonnet\"].append(ate_dragonnet)\n",
    "        \n"
   ]
  },
  {
   "cell_type": "code",
   "execution_count": null,
   "id": "c4a3db57",
   "metadata": {},
   "outputs": [],
   "source": []
  },
  {
   "cell_type": "code",
   "execution_count": 72,
   "id": "64ddaba5",
   "metadata": {},
   "outputs": [
    {
     "name": "stderr",
     "output_type": "stream",
     "text": [
      "2025-04-25 15:02:38.511931: E tensorflow/core/framework/node_def_util.cc:676] NodeDef mentions attribute use_unbounded_threadpool which is not in the op definition: Op<name=MapDataset; signature=input_dataset:variant, other_arguments: -> handle:variant; attr=f:func; attr=Targuments:list(type),min=0; attr=output_types:list(type),min=1; attr=output_shapes:list(shape),min=1; attr=use_inter_op_parallelism:bool,default=true; attr=preserve_cardinality:bool,default=false; attr=force_synchronous:bool,default=false; attr=metadata:string,default=\"\"> This may be expected if your graph generating binary is newer  than this binary. Unknown attributes will be ignored. NodeDef: {{node ParallelMapDatasetV2/_14}}\n",
      "2025-04-25 15:02:38.512307: E tensorflow/core/framework/node_def_util.cc:676] NodeDef mentions attribute use_unbounded_threadpool which is not in the op definition: Op<name=MapDataset; signature=input_dataset:variant, other_arguments: -> handle:variant; attr=f:func; attr=Targuments:list(type),min=0; attr=output_types:list(type),min=1; attr=output_shapes:list(shape),min=1; attr=use_inter_op_parallelism:bool,default=true; attr=preserve_cardinality:bool,default=false; attr=force_synchronous:bool,default=false; attr=metadata:string,default=\"\"> This may be expected if your graph generating binary is newer  than this binary. Unknown attributes will be ignored. NodeDef: {{node ParallelMapDatasetV2/_14}}\n"
     ]
    },
    {
     "data": {
      "text/plain": [
       "1.8659396"
      ]
     },
     "execution_count": 72,
     "metadata": {},
     "output_type": "execute_result"
    }
   ],
   "source": [
    "egm_model.getCATE(z_tr).mean()"
   ]
  },
  {
   "cell_type": "code",
   "execution_count": 25,
   "id": "3469c3a3",
   "metadata": {},
   "outputs": [
    {
     "data": {
      "text/plain": [
       "2.400059767345967"
      ]
     },
     "execution_count": 25,
     "metadata": {},
     "output_type": "execute_result"
    }
   ],
   "source": [
    "np.mean(df_tr['y'][df_tr['A']==1])"
   ]
  },
  {
   "cell_type": "code",
   "execution_count": 47,
   "id": "4ac919de",
   "metadata": {},
   "outputs": [],
   "source": [
    "model = Frengression(x_dim = x_tr.shape[1], y_dim = 1, z_dim =z_tr.shape[1], \n",
    "                             noise_dim=1, num_layer=3, hidden_dim=100, \n",
    "                             device=device, x_binary=binary_intervention, z_binary_dims=0)"
   ]
  },
  {
   "cell_type": "code",
   "execution_count": 51,
   "id": "7fb6b49d",
   "metadata": {},
   "outputs": [
    {
     "name": "stdout",
     "output_type": "stream",
     "text": [
      "Epoch 1: loss 1.8026,\tloss_y 1.1675, 1.3866, 0.4383,\tloss_eta 0.6351, 0.8774, 0.4847\n",
      "Epoch 1000: loss 0.8402,\tloss_y 0.2793, 0.5600, 0.5615,\tloss_eta 0.5610, 1.1058, 1.0896\n"
     ]
    }
   ],
   "source": [
    "model.train_y(x=x_tr,z=z_tr, \n",
    "                      y=y_tr, \n",
    "                      num_iters=1000, lr=1e-4, print_every_iter=1000)"
   ]
  },
  {
   "cell_type": "code",
   "execution_count": 73,
   "id": "7e36d899",
   "metadata": {},
   "outputs": [
    {
     "ename": "AttributeError",
     "evalue": "module 'CausalEGM.model' has no attribute 'sample_causal_margin'",
     "output_type": "error",
     "traceback": [
      "\u001b[0;31m---------------------------------------------------------------------------\u001b[0m",
      "\u001b[0;31mAttributeError\u001b[0m                            Traceback (most recent call last)",
      "Cell \u001b[0;32mIn[73], line 1\u001b[0m\n\u001b[0;32m----> 1\u001b[0m model\u001b[38;5;241m.\u001b[39msample_causal_margin(torch\u001b[38;5;241m.\u001b[39mtensor([\u001b[38;5;241m1\u001b[39m], dtype\u001b[38;5;241m=\u001b[39mtorch\u001b[38;5;241m.\u001b[39mint32), sample_size\u001b[38;5;241m=\u001b[39mn_p)\u001b[38;5;241m.\u001b[39mmean()\n",
      "\u001b[0;31mAttributeError\u001b[0m: module 'CausalEGM.model' has no attribute 'sample_causal_margin'"
     ]
    }
   ],
   "source": [
    "model.sample_causal_margin(torch.tensor([1], dtype=torch.int32), sample_size=n_p).mean()"
   ]
  },
  {
   "cell_type": "code",
   "execution_count": 53,
   "id": "bd544fb4",
   "metadata": {},
   "outputs": [
    {
     "name": "stdout",
     "output_type": "stream",
     "text": [
      "Warning: covariate dimension does not aligned with the specified input dimension; filling in the remaining dimension with noise.\n"
     ]
    },
    {
     "data": {
      "text/plain": [
       "tensor(0.0739)"
      ]
     },
     "execution_count": 53,
     "metadata": {},
     "output_type": "execute_result"
    }
   ],
   "source": [
    "model.sample_causal_margin(torch.tensor([0], dtype=torch.int32), sample_size=n_p).mean()"
   ]
  },
  {
   "cell_type": "code",
   "execution_count": 38,
   "id": "76cd5dc8",
   "metadata": {},
   "outputs": [
    {
     "data": {
      "text/plain": [
       "torch.Size([1000, 1])"
      ]
     },
     "execution_count": 38,
     "metadata": {},
     "output_type": "execute_result"
    }
   ],
   "source": [
    "y_tr.shape"
   ]
  },
  {
   "cell_type": "code",
   "execution_count": null,
   "id": "09c3e474",
   "metadata": {},
   "outputs": [],
   "source": []
  }
 ],
 "metadata": {
  "kernelspec": {
   "display_name": "base",
   "language": "python",
   "name": "python3"
  },
  "language_info": {
   "codemirror_mode": {
    "name": "ipython",
    "version": 3
   },
   "file_extension": ".py",
   "mimetype": "text/x-python",
   "name": "python",
   "nbconvert_exporter": "python",
   "pygments_lexer": "ipython3",
   "version": "3.11.7"
  }
 },
 "nbformat": 4,
 "nbformat_minor": 5
}
