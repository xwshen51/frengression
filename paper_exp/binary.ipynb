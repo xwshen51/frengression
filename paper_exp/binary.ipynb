{
 "cells": [
  {
   "cell_type": "markdown",
   "id": "a53989f4",
   "metadata": {},
   "source": [
    "## Experiments for binary treatment effect estimation comparison"
   ]
  },
  {
   "cell_type": "code",
   "execution_count": 1,
   "id": "19983602",
   "metadata": {},
   "outputs": [],
   "source": [
    "import sys, os\n",
    "\n",
    "# add the project root to sys.path\n",
    "root = os.path.abspath(os.path.join(os.getcwd(), '..'))\n",
    "if root not in sys.path:\n",
    "    sys.path.insert(0, root)\n",
    "\n",
    "from data_causl.utils import *\n",
    "from data_causl.data import *\n",
    "from frengression import *\n",
    "\n",
    "device = torch.device('cpu')\n",
    "\n",
    "import CausalEGM as cegm\n",
    "# import the module\n",
    "from models import *\n",
    "\n",
    "import numpy as np\n",
    "import pickle\n",
    "import os\n",
    "from tqdm import tqdm\n",
    "\n",
    "from matplotlib import pyplot as plt\n",
    "import seaborn as sns\n",
    "\n",
    "import warnings\n",
    "warnings.filterwarnings(\"ignore\", category=FutureWarning)\n",
    "warnings.filterwarnings(\"ignore\", category=DeprecationWarning)\n",
    "warnings.filterwarnings(\"ignore\", category=UserWarning)\n",
    "\n",
    "\n",
    "\n",
    "np.random.seed(42)\n",
    "n_tr = 1000\n",
    "n_p = 1000\n",
    "\n",
    "nI = 2\n",
    "nX = 2\n",
    "nO = 2\n",
    "nS= 2\n",
    "p = nI+nX+nO+nS\n",
    "ate = 2\n",
    "beta_cov = 0\n",
    "strength_instr = 1\n",
    "strength_conf = 1\n",
    "strength_outcome = 1\n",
    "binary_intervention=True"
   ]
  },
  {
   "cell_type": "markdown",
   "id": "4801550b",
   "metadata": {},
   "source": [
    "## Example of hyperparameter tuning"
   ]
  },
  {
   "cell_type": "code",
   "execution_count": 2,
   "id": "bdbba039",
   "metadata": {},
   "outputs": [],
   "source": [
    "from functools import lru_cache\n",
    "\n",
    "def tune_and_eval(model_name,\n",
    "                  X_train, t_train, y_train,\n",
    "                  X_val,   t_val,   y_val,\n",
    "                  X_test,  t_test,  y_test,\n",
    "                  provided_params=None,\n",
    "                  n_trials=10):\n",
    "    \"\"\"\n",
    "    If best_params is None: runs Optuna, returns (ITE_array, best_params).\n",
    "    If best_params is given: skips Optuna, returns ITE_array only.\n",
    "    \"\"\"\n",
    "    # 1) hyperparam search\n",
    "    if provided_params is None:\n",
    "        import optuna\n",
    "        study = optuna.create_study(direction=\"minimize\",\n",
    "                                    study_name=f\"{model_name}_tune\")\n",
    "        def objective(trial):\n",
    "            # common\n",
    "            lr     = trial.suggest_loguniform(\"lr\", 1e-5, 1e-2)\n",
    "            wd     = trial.suggest_loguniform(\"wd\", 1e-5, 1e-2)\n",
    "            bs     = trial.suggest_categorical(\"bs\", [32, 128, 256])\n",
    "            epochs = trial.suggest_int(\"epochs\", 200, 600)\n",
    "\n",
    "            # model‐specific\n",
    "            if model_name == \"tarnet\":\n",
    "                rep1 = trial.suggest_int(\"rep1\", 20, 50 )\n",
    "                rep2 = trial.suggest_int(\"rep2\", 50, 100)\n",
    "                head = trial.suggest_int(\"head\", 50, 100)\n",
    "                drop = trial.suggest_uniform(\"drop\", 0.0, 0.001)\n",
    "                trainer = TARNetTrainer(X_train.shape[1], [rep1,rep2], [head], drop)\n",
    "\n",
    "            elif model_name == \"cfrnet\":\n",
    "                rep1   = trial.suggest_int(\"rep1\", 50, 200)\n",
    "                rep2   = trial.suggest_int(\"rep2\", 50, 200)\n",
    "                head   = trial.suggest_int(\"head\", 50, 200)\n",
    "                drop   = trial.suggest_uniform(\"drop\", 0.0, 0.001)\n",
    "                ipm_w  = trial.suggest_loguniform(\"ipm_weight\", 0.01, 10.0)\n",
    "                trainer = CFRNetTrainer(X_train.shape[1], [rep1,rep2], [head], drop, ipm_w)\n",
    "\n",
    "            elif model_name == \"cevae\":\n",
    "                ld = trial.suggest_int(\"latent_dim\", 10, 200)\n",
    "                hd = trial.suggest_int(\"hidden_dim\", 20, 400)\n",
    "                nl = trial.suggest_int(\"num_layers\", 2, 5)     # note: 2→5 to avoid pop error\n",
    "                ns = trial.suggest_categorical(\"num_samples\", [10,50,100,200])\n",
    "                trainer = CEVAETrainer(X_train.shape[1], ld, hd, nl, ns)\n",
    "\n",
    "            else:  # dragonnet\n",
    "                sh = trial.suggest_int(\"shared_hidden\", 50, 200)\n",
    "                oh = trial.suggest_int(\"outcome_hidden\", 50, 200)\n",
    "                trainer = DragonNetTrainer(X_train.shape[1], sh, oh)\n",
    "\n",
    "            return trainer.fit(\n",
    "                X_train, t_train, y_train,\n",
    "                X_val,   t_val,   y_val,\n",
    "                lr=lr, weight_decay=wd,\n",
    "                batch_size=bs, epochs=epochs\n",
    "            )\n",
    "\n",
    "        study.optimize(objective, n_trials=n_trials)\n",
    "        best_params = study.best_params\n",
    "        print(f\"🔍 Best params for {model_name}: {best_params}\")\n",
    "    else:\n",
    "        best_params = provided_params\n",
    "    # 2) retrain on combined train+val\n",
    "    X_trn = np.vstack([X_train, X_val])\n",
    "    t_trn = np.concatenate([t_train, t_val])\n",
    "    y_trn = np.concatenate([y_train, y_val])\n",
    "\n",
    "    if model_name == \"tarnet\":\n",
    "        trainer = TARNetTrainer(\n",
    "            X_trn.shape[1],\n",
    "            [best_params['rep1'], best_params['rep2']],\n",
    "            [best_params['head']],\n",
    "            best_params['drop']\n",
    "        )\n",
    "    elif model_name == \"cfrnet\":\n",
    "        trainer = CFRNetTrainer(\n",
    "            X_trn.shape[1],\n",
    "            [best_params['rep1'], best_params['rep2']],\n",
    "            [best_params['head']],\n",
    "            best_params['drop'],\n",
    "            best_params['ipm_weight']\n",
    "        )\n",
    "    elif model_name == \"cevae\":\n",
    "        trainer = CEVAETrainer(\n",
    "            X_trn.shape[1],\n",
    "            best_params['latent_dim'],\n",
    "            best_params['hidden_dim'],\n",
    "            best_params['num_layers'],\n",
    "            best_params['num_samples']\n",
    "        )\n",
    "    else:\n",
    "        trainer = DragonNetTrainer(\n",
    "            X_trn.shape[1],\n",
    "            best_params['shared_hidden'],\n",
    "            best_params['outcome_hidden']\n",
    "        )\n",
    "\n",
    "    trainer.fit(\n",
    "        X_trn, t_trn, y_trn,\n",
    "        X_test, t_test, y_test,\n",
    "        lr=best_params['lr'],\n",
    "        weight_decay=best_params['wd'],\n",
    "        batch_size=best_params['bs'],\n",
    "        epochs=best_params['epochs']\n",
    "    )\n",
    "\n",
    "    if model_name == \"cevae\":\n",
    "        ite = trainer.predict(X_test)\n",
    "    else:\n",
    "        y0p, y1p = trainer.predict(X_test)\n",
    "        ite = y1p - y0p\n",
    "\n",
    "    return (ite, best_params) if provided_params is None else ite\n"
   ]
  },
  {
   "cell_type": "markdown",
   "id": "221b1e42",
   "metadata": {},
   "source": [
    "## Fitting synthetic data generated by causl"
   ]
  },
  {
   "cell_type": "markdown",
   "id": "e5a2a3a2",
   "metadata": {},
   "source": [
    "### Data generation"
   ]
  },
  {
   "cell_type": "code",
   "execution_count": null,
   "id": "8b89c5a0",
   "metadata": {},
   "outputs": [
    {
     "name": "stdout",
     "output_type": "stream",
     "text": [
      "Running experiments for strength_instr = 0.0\n"
     ]
    },
    {
     "name": "stderr",
     "output_type": "stream",
     "text": [
      "  0%|          | 0/30 [00:00<?, ?it/s]"
     ]
    },
    {
     "name": "stdout",
     "output_type": "stream",
     "text": [
      "Epoch 1: loss 2.1090,\tloss_y 1.3449, 1.3597, 0.0295,\tloss_eta 0.7640, 0.7980, 0.0680\n",
      "Epoch 500: loss 1.1561,\tloss_y 0.5819, 1.1657, 1.1675,\tloss_eta 0.5742, 1.1335, 1.1186\n",
      "Epoch 1000: loss 1.1288,\tloss_y 0.5685, 1.1444, 1.1518,\tloss_eta 0.5604, 1.1156, 1.1105\n"
     ]
    },
    {
     "name": "stderr",
     "output_type": "stream",
     "text": [
      "  3%|▎         | 1/30 [00:20<09:49, 20.34s/it]"
     ]
    },
    {
     "name": "stdout",
     "output_type": "stream",
     "text": [
      "Epoch 1500: loss 1.1568,\tloss_y 0.5725, 1.1399, 1.1347,\tloss_eta 0.5843, 1.1340, 1.0994\n",
      "Warning: covariate dimension does not aligned with the specified input dimension; filling in the remaining dimension with noise.\n",
      "Warning: covariate dimension does not aligned with the specified input dimension; filling in the remaining dimension with noise.\n",
      "2.042132\n",
      "Epoch 1: loss 2.1237,\tloss_y 1.3662, 1.3869, 0.0413,\tloss_eta 0.7575, 0.7967, 0.0784\n",
      "Epoch 500: loss 1.1198,\tloss_y 0.5520, 1.1096, 1.1151,\tloss_eta 0.5678, 1.1147, 1.0937\n",
      "Epoch 1000: loss 1.1452,\tloss_y 0.5642, 1.1229, 1.1175,\tloss_eta 0.5810, 1.1288, 1.0955\n"
     ]
    },
    {
     "name": "stderr",
     "output_type": "stream",
     "text": [
      "  7%|▋         | 2/30 [00:41<09:34, 20.54s/it]"
     ]
    },
    {
     "name": "stdout",
     "output_type": "stream",
     "text": [
      "Epoch 1500: loss 1.1184,\tloss_y 0.5556, 1.1167, 1.1222,\tloss_eta 0.5628, 1.1247, 1.1238\n",
      "Warning: covariate dimension does not aligned with the specified input dimension; filling in the remaining dimension with noise.\n",
      "Warning: covariate dimension does not aligned with the specified input dimension; filling in the remaining dimension with noise.\n",
      "2.037938\n",
      "Epoch 1: loss 2.1561,\tloss_y 1.3783, 1.4028, 0.0489,\tloss_eta 0.7777, 0.8090, 0.0625\n",
      "Epoch 500: loss 1.1253,\tloss_y 0.5587, 1.1137, 1.1099,\tloss_eta 0.5666, 1.1150, 1.0968\n",
      "Epoch 1000: loss 1.1195,\tloss_y 0.5638, 1.1323, 1.1369,\tloss_eta 0.5556, 1.1200, 1.1287\n"
     ]
    },
    {
     "name": "stderr",
     "output_type": "stream",
     "text": [
      " 10%|█         | 3/30 [01:02<09:26, 20.97s/it]"
     ]
    },
    {
     "name": "stdout",
     "output_type": "stream",
     "text": [
      "Epoch 1500: loss 1.1162,\tloss_y 0.5591, 1.1160, 1.1139,\tloss_eta 0.5571, 1.1141, 1.1140\n",
      "Warning: covariate dimension does not aligned with the specified input dimension; filling in the remaining dimension with noise.\n",
      "Warning: covariate dimension does not aligned with the specified input dimension; filling in the remaining dimension with noise.\n",
      "1.5609066\n",
      "Epoch 1: loss 2.1468,\tloss_y 1.3731, 1.3914, 0.0365,\tloss_eta 0.7737, 0.8114, 0.0754\n",
      "Epoch 500: loss 1.1268,\tloss_y 0.5605, 1.1203, 1.1197,\tloss_eta 0.5664, 1.1160, 1.0992\n",
      "Epoch 1000: loss 1.1407,\tloss_y 0.5688, 1.1263, 1.1151,\tloss_eta 0.5720, 1.1170, 1.0901\n"
     ]
    },
    {
     "name": "stderr",
     "output_type": "stream",
     "text": [
      " 13%|█▎        | 4/30 [01:23<09:06, 21.02s/it]"
     ]
    },
    {
     "name": "stdout",
     "output_type": "stream",
     "text": [
      "Epoch 1500: loss 1.1182,\tloss_y 0.5584, 1.1227, 1.1286,\tloss_eta 0.5599, 1.1137, 1.1077\n",
      "Warning: covariate dimension does not aligned with the specified input dimension; filling in the remaining dimension with noise.\n",
      "Warning: covariate dimension does not aligned with the specified input dimension; filling in the remaining dimension with noise.\n",
      "2.0241213\n",
      "Epoch 1: loss 2.1665,\tloss_y 1.4081, 1.4330, 0.0496,\tloss_eta 0.7584, 0.7941, 0.0715\n",
      "Epoch 500: loss 1.1405,\tloss_y 0.5578, 1.1202, 1.1247,\tloss_eta 0.5827, 1.1184, 1.0716\n",
      "Epoch 1000: loss 1.1084,\tloss_y 0.5530, 1.1160, 1.1260,\tloss_eta 0.5554, 1.1049, 1.0990\n"
     ]
    },
    {
     "name": "stderr",
     "output_type": "stream",
     "text": [
      " 17%|█▋        | 5/30 [01:45<08:57, 21.50s/it]"
     ]
    },
    {
     "name": "stdout",
     "output_type": "stream",
     "text": [
      "Epoch 1500: loss 1.1343,\tloss_y 0.5598, 1.1184, 1.1171,\tloss_eta 0.5745, 1.1258, 1.1025\n",
      "Warning: covariate dimension does not aligned with the specified input dimension; filling in the remaining dimension with noise.\n",
      "Warning: covariate dimension does not aligned with the specified input dimension; filling in the remaining dimension with noise.\n",
      "2.0512137\n",
      "Epoch 1: loss 2.2459,\tloss_y 1.4665, 1.4762, 0.0195,\tloss_eta 0.7795, 0.8147, 0.0704\n",
      "Epoch 500: loss 1.1615,\tloss_y 0.5901, 1.0320, 0.8838,\tloss_eta 0.5714, 1.1108, 1.0788\n",
      "Epoch 1000: loss 1.1492,\tloss_y 0.5925, 1.1257, 1.0664,\tloss_eta 0.5566, 1.1104, 1.1076\n"
     ]
    },
    {
     "name": "stderr",
     "output_type": "stream",
     "text": [
      " 20%|██        | 6/30 [02:07<08:32, 21.35s/it]"
     ]
    },
    {
     "name": "stdout",
     "output_type": "stream",
     "text": [
      "Epoch 1500: loss 1.1220,\tloss_y 0.5704, 1.1026, 1.0643,\tloss_eta 0.5516, 1.0999, 1.0964\n",
      "Warning: covariate dimension does not aligned with the specified input dimension; filling in the remaining dimension with noise.\n",
      "Warning: covariate dimension does not aligned with the specified input dimension; filling in the remaining dimension with noise.\n",
      "1.8803785\n",
      "Epoch 1: loss 2.1606,\tloss_y 1.3851, 1.4080, 0.0458,\tloss_eta 0.7755, 0.8110, 0.0710\n",
      "Epoch 500: loss 1.1190,\tloss_y 0.5707, 1.1076, 1.0739,\tloss_eta 0.5483, 1.1055, 1.1143\n",
      "Epoch 1000: loss 1.1390,\tloss_y 0.5696, 1.1281, 1.1169,\tloss_eta 0.5693, 1.1293, 1.1200\n"
     ]
    },
    {
     "name": "stderr",
     "output_type": "stream",
     "text": [
      " 23%|██▎       | 7/30 [02:27<08:05, 21.09s/it]"
     ]
    },
    {
     "name": "stdout",
     "output_type": "stream",
     "text": [
      "Epoch 1500: loss 1.1363,\tloss_y 0.5622, 1.1232, 1.1220,\tloss_eta 0.5741, 1.1224, 1.0966\n",
      "Warning: covariate dimension does not aligned with the specified input dimension; filling in the remaining dimension with noise.\n",
      "Warning: covariate dimension does not aligned with the specified input dimension; filling in the remaining dimension with noise.\n",
      "1.8797057\n",
      "Epoch 1: loss 2.1549,\tloss_y 1.3892, 1.4069, 0.0353,\tloss_eta 0.7656, 0.8047, 0.0782\n",
      "Epoch 500: loss 1.1316,\tloss_y 0.5549, 1.1081, 1.1063,\tloss_eta 0.5767, 1.1152, 1.0771\n",
      "Epoch 1000: loss 1.1311,\tloss_y 0.5624, 1.1052, 1.0856,\tloss_eta 0.5687, 1.1170, 1.0965\n"
     ]
    },
    {
     "name": "stderr",
     "output_type": "stream",
     "text": [
      " 27%|██▋       | 8/30 [02:47<07:38, 20.84s/it]"
     ]
    },
    {
     "name": "stdout",
     "output_type": "stream",
     "text": [
      "Epoch 1500: loss 1.1230,\tloss_y 0.5596, 1.1137, 1.1082,\tloss_eta 0.5634, 1.1149, 1.1030\n",
      "Warning: covariate dimension does not aligned with the specified input dimension; filling in the remaining dimension with noise.\n",
      "Warning: covariate dimension does not aligned with the specified input dimension; filling in the remaining dimension with noise.\n",
      "2.0849965\n",
      "Epoch 1: loss 2.1645,\tloss_y 1.3836, 1.4178, 0.0685,\tloss_eta 0.7809, 0.8150, 0.0682\n",
      "Epoch 500: loss 1.1188,\tloss_y 0.5632, 1.1333, 1.1403,\tloss_eta 0.5557, 1.1124, 1.1135\n",
      "Epoch 1000: loss 1.1220,\tloss_y 0.5630, 1.1307, 1.1353,\tloss_eta 0.5590, 1.1078, 1.0975\n"
     ]
    },
    {
     "name": "stderr",
     "output_type": "stream",
     "text": [
      " 30%|███       | 9/30 [03:11<07:36, 21.73s/it]"
     ]
    },
    {
     "name": "stdout",
     "output_type": "stream",
     "text": [
      "Epoch 1500: loss 1.1360,\tloss_y 0.5648, 1.1310, 1.1324,\tloss_eta 0.5711, 1.1252, 1.1081\n",
      "Warning: covariate dimension does not aligned with the specified input dimension; filling in the remaining dimension with noise.\n",
      "Warning: covariate dimension does not aligned with the specified input dimension; filling in the remaining dimension with noise.\n",
      "2.0190947\n",
      "Epoch 1: loss 2.2543,\tloss_y 1.4944, 1.5119, 0.0350,\tloss_eta 0.7599, 0.7985, 0.0772\n",
      "Epoch 500: loss 1.1540,\tloss_y 0.5875, 1.1411, 1.1072,\tloss_eta 0.5665, 1.1298, 1.1267\n",
      "Epoch 1000: loss 1.1488,\tloss_y 0.5896, 1.1528, 1.1263,\tloss_eta 0.5592, 1.1218, 1.1253\n"
     ]
    },
    {
     "name": "stderr",
     "output_type": "stream",
     "text": [
      " 33%|███▎      | 10/30 [03:30<06:56, 20.85s/it]"
     ]
    },
    {
     "name": "stdout",
     "output_type": "stream",
     "text": [
      "Epoch 1500: loss 1.1327,\tloss_y 0.5636, 1.1344, 1.1417,\tloss_eta 0.5691, 1.1315, 1.1248\n",
      "Warning: covariate dimension does not aligned with the specified input dimension; filling in the remaining dimension with noise.\n",
      "Warning: covariate dimension does not aligned with the specified input dimension; filling in the remaining dimension with noise.\n",
      "2.10456\n",
      "Epoch 1: loss 2.2246,\tloss_y 1.4339, 1.4524, 0.0370,\tloss_eta 0.7907, 0.8198, 0.0582\n",
      "Epoch 500: loss 1.1188,\tloss_y 0.5616, 1.1193, 1.1154,\tloss_eta 0.5573, 1.1038, 1.0931\n",
      "Epoch 1000: loss 1.1365,\tloss_y 0.5759, 1.1363, 1.1208,\tloss_eta 0.5606, 1.1066, 1.0920\n"
     ]
    },
    {
     "name": "stderr",
     "output_type": "stream",
     "text": [
      " 37%|███▋      | 11/30 [03:50<06:32, 20.65s/it]"
     ]
    },
    {
     "name": "stdout",
     "output_type": "stream",
     "text": [
      "Epoch 1500: loss 1.1182,\tloss_y 0.5549, 1.1311, 1.1524,\tloss_eta 0.5633, 1.1245, 1.1224\n",
      "Warning: covariate dimension does not aligned with the specified input dimension; filling in the remaining dimension with noise.\n",
      "Warning: covariate dimension does not aligned with the specified input dimension; filling in the remaining dimension with noise.\n",
      "2.142108\n",
      "Epoch 1: loss 2.1044,\tloss_y 1.3555, 1.3656, 0.0201,\tloss_eta 0.7489, 0.7871, 0.0766\n",
      "Epoch 500: loss 1.1354,\tloss_y 0.5791, 1.1503, 1.1425,\tloss_eta 0.5563, 1.1022, 1.0918\n",
      "Epoch 1000: loss 1.1143,\tloss_y 0.5547, 1.1197, 1.1301,\tloss_eta 0.5595, 1.1118, 1.1045\n"
     ]
    },
    {
     "name": "stderr",
     "output_type": "stream",
     "text": [
      " 40%|████      | 12/30 [04:11<06:10, 20.57s/it]"
     ]
    },
    {
     "name": "stdout",
     "output_type": "stream",
     "text": [
      "Epoch 1500: loss 1.1448,\tloss_y 0.5713, 1.1471, 1.1516,\tloss_eta 0.5735, 1.1195, 1.0919\n",
      "Warning: covariate dimension does not aligned with the specified input dimension; filling in the remaining dimension with noise.\n",
      "Warning: covariate dimension does not aligned with the specified input dimension; filling in the remaining dimension with noise.\n",
      "1.9624852\n",
      "Epoch 1: loss 2.1416,\tloss_y 1.3619, 1.3703, 0.0167,\tloss_eta 0.7797, 0.8186, 0.0777\n",
      "Epoch 500: loss 1.1216,\tloss_y 0.5764, 1.1312, 1.1097,\tloss_eta 0.5453, 1.0965, 1.1025\n",
      "Epoch 1000: loss 1.1324,\tloss_y 0.5760, 1.1376, 1.1232,\tloss_eta 0.5565, 1.1071, 1.1013\n"
     ]
    },
    {
     "name": "stderr",
     "output_type": "stream",
     "text": [
      " 43%|████▎     | 13/30 [04:31<05:50, 20.60s/it]"
     ]
    },
    {
     "name": "stdout",
     "output_type": "stream",
     "text": [
      "Epoch 1500: loss 1.1428,\tloss_y 0.5764, 1.1354, 1.1180,\tloss_eta 0.5664, 1.1199, 1.1070\n",
      "Warning: covariate dimension does not aligned with the specified input dimension; filling in the remaining dimension with noise.\n",
      "Warning: covariate dimension does not aligned with the specified input dimension; filling in the remaining dimension with noise.\n",
      "1.8973852\n",
      "Epoch 1: loss 2.2280,\tloss_y 1.4746, 1.4906, 0.0319,\tloss_eta 0.7534, 0.7837, 0.0606\n",
      "Epoch 500: loss 1.1442,\tloss_y 0.5733, 1.1272, 1.1078,\tloss_eta 0.5709, 1.1151, 1.0883\n",
      "Epoch 1000: loss 1.1140,\tloss_y 0.5560, 1.1237, 1.1354,\tloss_eta 0.5580, 1.1124, 1.1088\n"
     ]
    },
    {
     "name": "stderr",
     "output_type": "stream",
     "text": [
      " 47%|████▋     | 14/30 [04:52<05:32, 20.75s/it]"
     ]
    },
    {
     "name": "stdout",
     "output_type": "stream",
     "text": [
      "Epoch 1500: loss 1.1193,\tloss_y 0.5552, 1.1170, 1.1236,\tloss_eta 0.5641, 1.1177, 1.1072\n",
      "Warning: covariate dimension does not aligned with the specified input dimension; filling in the remaining dimension with noise.\n",
      "Warning: covariate dimension does not aligned with the specified input dimension; filling in the remaining dimension with noise.\n",
      "1.9687586\n",
      "Epoch 1: loss 2.0976,\tloss_y 1.3523, 1.3626, 0.0206,\tloss_eta 0.7453, 0.7921, 0.0937\n",
      "Epoch 500: loss 1.1284,\tloss_y 0.5623, 1.1224, 1.1203,\tloss_eta 0.5661, 1.1145, 1.0968\n",
      "Epoch 1000: loss 1.1231,\tloss_y 0.5652, 1.1235, 1.1165,\tloss_eta 0.5578, 1.1163, 1.1170\n"
     ]
    },
    {
     "name": "stderr",
     "output_type": "stream",
     "text": [
      " 50%|█████     | 15/30 [05:12<05:07, 20.51s/it]"
     ]
    },
    {
     "name": "stdout",
     "output_type": "stream",
     "text": [
      "Epoch 1500: loss 1.1297,\tloss_y 0.5726, 1.1276, 1.1101,\tloss_eta 0.5572, 1.1162, 1.1181\n",
      "Warning: covariate dimension does not aligned with the specified input dimension; filling in the remaining dimension with noise.\n",
      "Warning: covariate dimension does not aligned with the specified input dimension; filling in the remaining dimension with noise.\n",
      "1.9527569\n",
      "Epoch 1: loss 2.2195,\tloss_y 1.4624, 1.4768, 0.0286,\tloss_eta 0.7571, 0.7923, 0.0704\n",
      "Epoch 500: loss 1.1265,\tloss_y 0.5615, 1.1196, 1.1164,\tloss_eta 0.5650, 1.1192, 1.1083\n",
      "Epoch 1000: loss 1.1316,\tloss_y 0.5629, 1.1285, 1.1311,\tloss_eta 0.5687, 1.1230, 1.1086\n"
     ]
    },
    {
     "name": "stderr",
     "output_type": "stream",
     "text": [
      " 53%|█████▎    | 16/30 [05:32<04:41, 20.14s/it]"
     ]
    },
    {
     "name": "stdout",
     "output_type": "stream",
     "text": [
      "Epoch 1500: loss 1.1350,\tloss_y 0.5596, 1.1284, 1.1376,\tloss_eta 0.5754, 1.1262, 1.1017\n",
      "Warning: covariate dimension does not aligned with the specified input dimension; filling in the remaining dimension with noise.\n",
      "Warning: covariate dimension does not aligned with the specified input dimension; filling in the remaining dimension with noise.\n",
      "2.036887\n",
      "Epoch 1: loss 2.1087,\tloss_y 1.3408, 1.3636, 0.0456,\tloss_eta 0.7679, 0.8096, 0.0833\n",
      "Epoch 500: loss 1.1478,\tloss_y 0.5730, 1.1289, 1.1117,\tloss_eta 0.5748, 1.1269, 1.1042\n",
      "Epoch 1000: loss 1.1304,\tloss_y 0.5610, 1.1238, 1.1256,\tloss_eta 0.5694, 1.1206, 1.1025\n"
     ]
    },
    {
     "name": "stderr",
     "output_type": "stream",
     "text": [
      " 57%|█████▋    | 17/30 [05:52<04:23, 20.24s/it]"
     ]
    },
    {
     "name": "stdout",
     "output_type": "stream",
     "text": [
      "Epoch 1500: loss 1.1268,\tloss_y 0.5685, 1.1214, 1.1058,\tloss_eta 0.5583, 1.1168, 1.1171\n",
      "Warning: covariate dimension does not aligned with the specified input dimension; filling in the remaining dimension with noise.\n",
      "Warning: covariate dimension does not aligned with the specified input dimension; filling in the remaining dimension with noise.\n",
      "1.8318405\n",
      "Epoch 1: loss 2.1537,\tloss_y 1.3742, 1.4063, 0.0643,\tloss_eta 0.7795, 0.8201, 0.0812\n",
      "Epoch 500: loss 1.1194,\tloss_y 0.5621, 1.1188, 1.1134,\tloss_eta 0.5573, 1.1133, 1.1120\n",
      "Epoch 1000: loss 1.1066,\tloss_y 0.5645, 1.1231, 1.1172,\tloss_eta 0.5421, 1.0985, 1.1127\n"
     ]
    },
    {
     "name": "stderr",
     "output_type": "stream",
     "text": [
      " 60%|██████    | 18/30 [06:12<04:01, 20.12s/it]"
     ]
    },
    {
     "name": "stdout",
     "output_type": "stream",
     "text": [
      "Epoch 1500: loss 1.1401,\tloss_y 0.5583, 1.1293, 1.1418,\tloss_eta 0.5817, 1.1385, 1.1136\n",
      "Warning: covariate dimension does not aligned with the specified input dimension; filling in the remaining dimension with noise.\n",
      "Warning: covariate dimension does not aligned with the specified input dimension; filling in the remaining dimension with noise.\n",
      "2.0032446\n",
      "Epoch 1: loss 2.1244,\tloss_y 1.3635, 1.4131, 0.0992,\tloss_eta 0.7609, 0.8085, 0.0951\n",
      "Epoch 500: loss 1.1171,\tloss_y 0.5658, 1.1277, 1.1238,\tloss_eta 0.5513, 1.1024, 1.1023\n",
      "Epoch 1000: loss 1.1228,\tloss_y 0.5557, 1.1231, 1.1347,\tloss_eta 0.5671, 1.1113, 1.0884\n"
     ]
    },
    {
     "name": "stderr",
     "output_type": "stream",
     "text": [
      " 63%|██████▎   | 19/30 [06:32<03:40, 20.07s/it]"
     ]
    },
    {
     "name": "stdout",
     "output_type": "stream",
     "text": [
      "Epoch 1500: loss 1.1079,\tloss_y 0.5499, 1.1157, 1.1317,\tloss_eta 0.5581, 1.1190, 1.1217\n",
      "Warning: covariate dimension does not aligned with the specified input dimension; filling in the remaining dimension with noise.\n",
      "Warning: covariate dimension does not aligned with the specified input dimension; filling in the remaining dimension with noise.\n",
      "2.1079583\n",
      "Epoch 1: loss 2.1135,\tloss_y 1.3501, 1.3723, 0.0444,\tloss_eta 0.7634, 0.8013, 0.0757\n",
      "Epoch 500: loss 1.1250,\tloss_y 0.5665, 1.1272, 1.1215,\tloss_eta 0.5586, 1.1033, 1.0895\n",
      "Epoch 1000: loss 1.1534,\tloss_y 0.5688, 1.1275, 1.1175,\tloss_eta 0.5846, 1.1360, 1.1027\n"
     ]
    },
    {
     "name": "stderr",
     "output_type": "stream",
     "text": [
      " 67%|██████▋   | 20/30 [06:51<03:18, 19.89s/it]"
     ]
    },
    {
     "name": "stdout",
     "output_type": "stream",
     "text": [
      "Epoch 1500: loss 1.1338,\tloss_y 0.5662, 1.1333, 1.1342,\tloss_eta 0.5676, 1.1204, 1.1055\n",
      "Warning: covariate dimension does not aligned with the specified input dimension; filling in the remaining dimension with noise.\n",
      "Warning: covariate dimension does not aligned with the specified input dimension; filling in the remaining dimension with noise.\n",
      "1.9359016\n",
      "Epoch 1: loss 2.2028,\tloss_y 1.4432, 1.4611, 0.0357,\tloss_eta 0.7596, 0.8014, 0.0837\n",
      "Epoch 500: loss 1.1411,\tloss_y 0.5679, 1.1418, 1.1478,\tloss_eta 0.5732, 1.1253, 1.1042\n",
      "Epoch 1000: loss 1.1342,\tloss_y 0.5731, 1.1359, 1.1256,\tloss_eta 0.5612, 1.1102, 1.0980\n"
     ]
    },
    {
     "name": "stderr",
     "output_type": "stream",
     "text": [
      " 70%|███████   | 21/30 [07:13<03:03, 20.38s/it]"
     ]
    },
    {
     "name": "stdout",
     "output_type": "stream",
     "text": [
      "Epoch 1500: loss 1.1171,\tloss_y 0.5483, 1.1179, 1.1391,\tloss_eta 0.5688, 1.1214, 1.1053\n",
      "Warning: covariate dimension does not aligned with the specified input dimension; filling in the remaining dimension with noise.\n",
      "Warning: covariate dimension does not aligned with the specified input dimension; filling in the remaining dimension with noise.\n",
      "1.8814992\n",
      "Epoch 1: loss 2.1842,\tloss_y 1.4173, 1.4391, 0.0436,\tloss_eta 0.7669, 0.8106, 0.0873\n",
      "Epoch 500: loss 1.1410,\tloss_y 0.5724, 1.1373, 1.1298,\tloss_eta 0.5686, 1.1148, 1.0925\n",
      "Epoch 1000: loss 1.1353,\tloss_y 0.5761, 1.1393, 1.1264,\tloss_eta 0.5592, 1.1101, 1.1018\n"
     ]
    },
    {
     "name": "stderr",
     "output_type": "stream",
     "text": [
      " 73%|███████▎  | 22/30 [07:34<02:45, 20.75s/it]"
     ]
    },
    {
     "name": "stdout",
     "output_type": "stream",
     "text": [
      "Epoch 1500: loss 1.1433,\tloss_y 0.5712, 1.1287, 1.1150,\tloss_eta 0.5720, 1.1210, 1.0979\n",
      "Warning: covariate dimension does not aligned with the specified input dimension; filling in the remaining dimension with noise.\n",
      "Warning: covariate dimension does not aligned with the specified input dimension; filling in the remaining dimension with noise.\n",
      "1.9879209\n",
      "Epoch 1: loss 2.1915,\tloss_y 1.4381, 1.4460, 0.0158,\tloss_eta 0.7534, 0.7969, 0.0869\n",
      "Epoch 500: loss 1.1497,\tloss_y 0.5871, 1.1480, 1.1218,\tloss_eta 0.5626, 1.1105, 1.0958\n",
      "Epoch 1000: loss 1.1330,\tloss_y 0.5627, 1.1366, 1.1480,\tloss_eta 0.5703, 1.1239, 1.1072\n"
     ]
    },
    {
     "name": "stderr",
     "output_type": "stream",
     "text": [
      " 77%|███████▋  | 23/30 [07:55<02:25, 20.74s/it]"
     ]
    },
    {
     "name": "stdout",
     "output_type": "stream",
     "text": [
      "Epoch 1500: loss 1.1369,\tloss_y 0.5671, 1.1419, 1.1496,\tloss_eta 0.5698, 1.1305, 1.1214\n",
      "Warning: covariate dimension does not aligned with the specified input dimension; filling in the remaining dimension with noise.\n",
      "Warning: covariate dimension does not aligned with the specified input dimension; filling in the remaining dimension with noise.\n",
      "2.0970063\n",
      "Epoch 1: loss 2.1854,\tloss_y 1.4198, 1.4272, 0.0147,\tloss_eta 0.7655, 0.7963, 0.0616\n",
      "Epoch 500: loss 1.1281,\tloss_y 0.5503, 1.1030, 1.1053,\tloss_eta 0.5778, 1.1179, 1.0804\n",
      "Epoch 1000: loss 1.1044,\tloss_y 0.5518, 1.1037, 1.1038,\tloss_eta 0.5526, 1.1058, 1.1064\n"
     ]
    },
    {
     "name": "stderr",
     "output_type": "stream",
     "text": [
      " 80%|████████  | 24/30 [08:15<02:03, 20.61s/it]"
     ]
    },
    {
     "name": "stdout",
     "output_type": "stream",
     "text": [
      "Epoch 1500: loss 1.1157,\tloss_y 0.5484, 1.1000, 1.1032,\tloss_eta 0.5673, 1.1271, 1.1196\n",
      "Warning: covariate dimension does not aligned with the specified input dimension; filling in the remaining dimension with noise.\n",
      "Warning: covariate dimension does not aligned with the specified input dimension; filling in the remaining dimension with noise.\n",
      "2.0279396\n",
      "Epoch 1: loss 2.1870,\tloss_y 1.4167, 1.4312, 0.0291,\tloss_eta 0.7702, 0.8020, 0.0635\n",
      "Epoch 500: loss 1.1373,\tloss_y 0.5660, 1.1102, 1.0884,\tloss_eta 0.5713, 1.1158, 1.0890\n",
      "Epoch 1000: loss 1.1082,\tloss_y 0.5613, 1.1152, 1.1077,\tloss_eta 0.5468, 1.1037, 1.1137\n"
     ]
    },
    {
     "name": "stderr",
     "output_type": "stream",
     "text": [
      " 83%|████████▎ | 25/30 [08:37<01:43, 20.78s/it]"
     ]
    },
    {
     "name": "stdout",
     "output_type": "stream",
     "text": [
      "Epoch 1500: loss 1.1279,\tloss_y 0.5532, 1.1107, 1.1150,\tloss_eta 0.5747, 1.1273, 1.1052\n",
      "Warning: covariate dimension does not aligned with the specified input dimension; filling in the remaining dimension with noise.\n",
      "Warning: covariate dimension does not aligned with the specified input dimension; filling in the remaining dimension with noise.\n",
      "1.9988786\n",
      "Epoch 1: loss 2.1384,\tloss_y 1.3643, 1.3748, 0.0211,\tloss_eta 0.7741, 0.8078, 0.0673\n",
      "Epoch 500: loss 1.1313,\tloss_y 0.5659, 1.1138, 1.0958,\tloss_eta 0.5654, 1.1189, 1.1069\n",
      "Epoch 1000: loss 1.1245,\tloss_y 0.5570, 1.1125, 1.1109,\tloss_eta 0.5675, 1.1232, 1.1114\n"
     ]
    },
    {
     "name": "stderr",
     "output_type": "stream",
     "text": [
      " 87%|████████▋ | 26/30 [08:58<01:24, 21.06s/it]"
     ]
    },
    {
     "name": "stdout",
     "output_type": "stream",
     "text": [
      "Epoch 1500: loss 1.1081,\tloss_y 0.5459, 1.1112, 1.1305,\tloss_eta 0.5622, 1.1216, 1.1188\n",
      "Warning: covariate dimension does not aligned with the specified input dimension; filling in the remaining dimension with noise.\n",
      "Warning: covariate dimension does not aligned with the specified input dimension; filling in the remaining dimension with noise.\n",
      "2.027786\n",
      "Epoch 1: loss 2.1310,\tloss_y 1.3541, 1.3652, 0.0222,\tloss_eta 0.7769, 0.8075, 0.0613\n",
      "Epoch 500: loss 1.1018,\tloss_y 0.5467, 1.1054, 1.1175,\tloss_eta 0.5551, 1.1073, 1.1045\n",
      "Epoch 1000: loss 1.1228,\tloss_y 0.5515, 1.1077, 1.1124,\tloss_eta 0.5713, 1.1315, 1.1204\n"
     ]
    },
    {
     "name": "stderr",
     "output_type": "stream",
     "text": [
      " 90%|█████████ | 27/30 [09:19<01:02, 20.82s/it]"
     ]
    },
    {
     "name": "stdout",
     "output_type": "stream",
     "text": [
      "Epoch 1500: loss 1.1156,\tloss_y 0.5500, 1.1074, 1.1149,\tloss_eta 0.5656, 1.1217, 1.1122\n",
      "Warning: covariate dimension does not aligned with the specified input dimension; filling in the remaining dimension with noise.\n",
      "Warning: covariate dimension does not aligned with the specified input dimension; filling in the remaining dimension with noise.\n",
      "1.9737551\n",
      "Epoch 1: loss 2.1891,\tloss_y 1.4068, 1.4290, 0.0444,\tloss_eta 0.7823, 0.8107, 0.0569\n",
      "Epoch 500: loss 1.1126,\tloss_y 0.5539, 1.1145, 1.1213,\tloss_eta 0.5587, 1.1099, 1.1023\n",
      "Epoch 1000: loss 1.1290,\tloss_y 0.5570, 1.1248, 1.1356,\tloss_eta 0.5719, 1.1264, 1.1090\n"
     ]
    },
    {
     "name": "stderr",
     "output_type": "stream",
     "text": [
      " 93%|█████████▎| 28/30 [09:39<00:41, 20.81s/it]"
     ]
    },
    {
     "name": "stdout",
     "output_type": "stream",
     "text": [
      "Epoch 1500: loss 1.1324,\tloss_y 0.5566, 1.1181, 1.1230,\tloss_eta 0.5758, 1.1252, 1.0987\n",
      "Warning: covariate dimension does not aligned with the specified input dimension; filling in the remaining dimension with noise.\n",
      "Warning: covariate dimension does not aligned with the specified input dimension; filling in the remaining dimension with noise.\n",
      "1.9558574\n",
      "Epoch 1: loss 2.1690,\tloss_y 1.3951, 1.4215, 0.0528,\tloss_eta 0.7738, 0.8071, 0.0666\n",
      "Epoch 500: loss 1.1366,\tloss_y 0.5694, 1.1310, 1.1231,\tloss_eta 0.5671, 1.1158, 1.0973\n",
      "Epoch 1000: loss 1.1195,\tloss_y 0.5627, 1.1095, 1.0936,\tloss_eta 0.5568, 1.1157, 1.1177\n"
     ]
    },
    {
     "name": "stderr",
     "output_type": "stream",
     "text": [
      " 97%|█████████▋| 29/30 [10:00<00:20, 20.79s/it]"
     ]
    },
    {
     "name": "stdout",
     "output_type": "stream",
     "text": [
      "Epoch 1500: loss 1.1226,\tloss_y 0.5566, 1.1246, 1.1360,\tloss_eta 0.5659, 1.1169, 1.1019\n",
      "Warning: covariate dimension does not aligned with the specified input dimension; filling in the remaining dimension with noise.\n",
      "Warning: covariate dimension does not aligned with the specified input dimension; filling in the remaining dimension with noise.\n",
      "1.9899522\n",
      "Epoch 1: loss 2.1364,\tloss_y 1.3914, 1.4223, 0.0618,\tloss_eta 0.7450, 0.7848, 0.0795\n",
      "Epoch 500: loss 1.1424,\tloss_y 0.5744, 1.1456, 1.1425,\tloss_eta 0.5680, 1.1158, 1.0956\n",
      "Epoch 1000: loss 1.1419,\tloss_y 0.5830, 1.1378, 1.1097,\tloss_eta 0.5589, 1.1130, 1.1082\n"
     ]
    },
    {
     "name": "stderr",
     "output_type": "stream",
     "text": [
      "100%|██████████| 30/30 [10:21<00:00, 20.71s/it]\n"
     ]
    },
    {
     "name": "stdout",
     "output_type": "stream",
     "text": [
      "Epoch 1500: loss 1.1585,\tloss_y 0.5833, 1.1487, 1.1307,\tloss_eta 0.5752, 1.1285, 1.1068\n",
      "Warning: covariate dimension does not aligned with the specified input dimension; filling in the remaining dimension with noise.\n",
      "Warning: covariate dimension does not aligned with the specified input dimension; filling in the remaining dimension with noise.\n",
      "2.1323617\n",
      "Running experiments for strength_instr = 0.5\n"
     ]
    },
    {
     "name": "stderr",
     "output_type": "stream",
     "text": [
      "  0%|          | 0/30 [00:00<?, ?it/s]"
     ]
    },
    {
     "name": "stdout",
     "output_type": "stream",
     "text": [
      "Epoch 1: loss 2.1711,\tloss_y 1.3942, 1.4067, 0.0251,\tloss_eta 0.7769, 0.8050, 0.0562\n",
      "Epoch 500: loss 1.1171,\tloss_y 0.5604, 1.1036, 1.0863,\tloss_eta 0.5566, 1.1078, 1.1022\n",
      "Epoch 1000: loss 1.1314,\tloss_y 0.5608, 1.1194, 1.1171,\tloss_eta 0.5706, 1.1213, 1.1013\n"
     ]
    },
    {
     "name": "stderr",
     "output_type": "stream",
     "text": [
      "  3%|▎         | 1/30 [00:21<10:10, 21.06s/it]"
     ]
    },
    {
     "name": "stdout",
     "output_type": "stream",
     "text": [
      "Epoch 1500: loss 1.1135,\tloss_y 0.5557, 1.1146, 1.1178,\tloss_eta 0.5578, 1.1093, 1.1030\n",
      "Warning: covariate dimension does not aligned with the specified input dimension; filling in the remaining dimension with noise.\n",
      "Warning: covariate dimension does not aligned with the specified input dimension; filling in the remaining dimension with noise.\n",
      "1.9107757\n",
      "Epoch 1: loss 2.2439,\tloss_y 1.4614, 1.4667, 0.0108,\tloss_eta 0.7825, 0.8088, 0.0526\n",
      "Epoch 500: loss 1.1206,\tloss_y 0.5589, 1.1192, 1.1206,\tloss_eta 0.5616, 1.0982, 1.0731\n",
      "Epoch 1000: loss 1.1164,\tloss_y 0.5500, 1.0895, 1.0789,\tloss_eta 0.5664, 1.1090, 1.0852\n"
     ]
    },
    {
     "name": "stderr",
     "output_type": "stream",
     "text": [
      "  7%|▋         | 2/30 [00:41<09:43, 20.83s/it]"
     ]
    },
    {
     "name": "stdout",
     "output_type": "stream",
     "text": [
      "Epoch 1500: loss 1.1247,\tloss_y 0.5557, 1.1090, 1.1066,\tloss_eta 0.5689, 1.1126, 1.0874\n",
      "Warning: covariate dimension does not aligned with the specified input dimension; filling in the remaining dimension with noise.\n",
      "Warning: covariate dimension does not aligned with the specified input dimension; filling in the remaining dimension with noise.\n",
      "1.9994806\n",
      "Epoch 1: loss 2.1133,\tloss_y 1.3337, 1.3569, 0.0465,\tloss_eta 0.7797, 0.8108, 0.0622\n",
      "Epoch 500: loss 1.1266,\tloss_y 0.5681, 1.1323, 1.1283,\tloss_eta 0.5585, 1.1095, 1.1020\n",
      "Epoch 1000: loss 1.1237,\tloss_y 0.5742, 1.1399, 1.1316,\tloss_eta 0.5495, 1.1131, 1.1272\n"
     ]
    },
    {
     "name": "stderr",
     "output_type": "stream",
     "text": [
      " 10%|█         | 3/30 [01:02<09:21, 20.80s/it]"
     ]
    },
    {
     "name": "stdout",
     "output_type": "stream",
     "text": [
      "Epoch 1500: loss 1.1098,\tloss_y 0.5504, 1.1194, 1.1380,\tloss_eta 0.5594, 1.1229, 1.1270\n",
      "Warning: covariate dimension does not aligned with the specified input dimension; filling in the remaining dimension with noise.\n",
      "Warning: covariate dimension does not aligned with the specified input dimension; filling in the remaining dimension with noise.\n",
      "1.9609531\n",
      "Epoch 1: loss 2.1648,\tloss_y 1.4012, 1.4430, 0.0835,\tloss_eta 0.7636, 0.8129, 0.0987\n",
      "Epoch 500: loss 1.1192,\tloss_y 0.5655, 1.1337, 1.1364,\tloss_eta 0.5536, 1.1015, 1.0957\n",
      "Epoch 1000: loss 1.1288,\tloss_y 0.5617, 1.1199, 1.1165,\tloss_eta 0.5671, 1.1174, 1.1006\n"
     ]
    },
    {
     "name": "stderr",
     "output_type": "stream",
     "text": [
      " 13%|█▎        | 4/30 [01:23<09:00, 20.79s/it]"
     ]
    },
    {
     "name": "stdout",
     "output_type": "stream",
     "text": [
      "Epoch 1500: loss 1.1478,\tloss_y 0.5680, 1.1334, 1.1307,\tloss_eta 0.5798, 1.1353, 1.1112\n",
      "Warning: covariate dimension does not aligned with the specified input dimension; filling in the remaining dimension with noise.\n",
      "Warning: covariate dimension does not aligned with the specified input dimension; filling in the remaining dimension with noise.\n",
      "2.0605862\n",
      "Epoch 1: loss 2.1871,\tloss_y 1.4220, 1.4352, 0.0264,\tloss_eta 0.7651, 0.8098, 0.0895\n",
      "Epoch 500: loss 1.1287,\tloss_y 0.5569, 1.1211, 1.1285,\tloss_eta 0.5718, 1.1239, 1.1041\n",
      "Epoch 1000: loss 1.1167,\tloss_y 0.5509, 1.1104, 1.1190,\tloss_eta 0.5658, 1.1195, 1.1073\n"
     ]
    },
    {
     "name": "stderr",
     "output_type": "stream",
     "text": [
      " 17%|█▋        | 5/30 [01:43<08:30, 20.42s/it]"
     ]
    },
    {
     "name": "stdout",
     "output_type": "stream",
     "text": [
      "Epoch 1500: loss 1.1361,\tloss_y 0.5592, 1.1293, 1.1402,\tloss_eta 0.5769, 1.1251, 1.0964\n",
      "Warning: covariate dimension does not aligned with the specified input dimension; filling in the remaining dimension with noise.\n",
      "Warning: covariate dimension does not aligned with the specified input dimension; filling in the remaining dimension with noise.\n",
      "2.030361\n",
      "Epoch 1: loss 2.1969,\tloss_y 1.4237, 1.4346, 0.0219,\tloss_eta 0.7732, 0.8048, 0.0631\n",
      "Epoch 500: loss 1.1383,\tloss_y 0.5708, 1.1375, 1.1335,\tloss_eta 0.5675, 1.1219, 1.1087\n",
      "Epoch 1000: loss 1.1306,\tloss_y 0.5653, 1.1324, 1.1341,\tloss_eta 0.5653, 1.1117, 1.0928\n"
     ]
    },
    {
     "name": "stderr",
     "output_type": "stream",
     "text": [
      " 20%|██        | 6/30 [02:03<08:09, 20.39s/it]"
     ]
    },
    {
     "name": "stdout",
     "output_type": "stream",
     "text": [
      "Epoch 1500: loss 1.1245,\tloss_y 0.5680, 1.1406, 1.1451,\tloss_eta 0.5565, 1.1250, 1.1370\n",
      "Warning: covariate dimension does not aligned with the specified input dimension; filling in the remaining dimension with noise.\n",
      "Warning: covariate dimension does not aligned with the specified input dimension; filling in the remaining dimension with noise.\n",
      "1.8739684\n",
      "Epoch 1: loss 2.1301,\tloss_y 1.3487, 1.3937, 0.0901,\tloss_eta 0.7815, 0.8102, 0.0575\n",
      "Epoch 500: loss 1.1251,\tloss_y 0.5713, 1.1087, 1.0747,\tloss_eta 0.5538, 1.1074, 1.1072\n",
      "Epoch 1000: loss 1.1293,\tloss_y 0.5610, 1.1115, 1.1010,\tloss_eta 0.5683, 1.1196, 1.1026\n"
     ]
    },
    {
     "name": "stderr",
     "output_type": "stream",
     "text": [
      " 23%|██▎       | 7/30 [02:23<07:48, 20.38s/it]"
     ]
    },
    {
     "name": "stdout",
     "output_type": "stream",
     "text": [
      "Epoch 1500: loss 1.1503,\tloss_y 0.5729, 1.1267, 1.1076,\tloss_eta 0.5775, 1.1298, 1.1047\n",
      "Warning: covariate dimension does not aligned with the specified input dimension; filling in the remaining dimension with noise.\n",
      "Warning: covariate dimension does not aligned with the specified input dimension; filling in the remaining dimension with noise.\n",
      "1.9674532\n",
      "Epoch 1: loss 2.0174,\tloss_y 1.2664, 1.3043, 0.0759,\tloss_eta 0.7510, 0.7950, 0.0879\n",
      "Epoch 500: loss 1.1318,\tloss_y 0.5625, 1.1159, 1.1068,\tloss_eta 0.5693, 1.1107, 1.0828\n",
      "Epoch 1000: loss 1.1206,\tloss_y 0.5620, 1.1354, 1.1468,\tloss_eta 0.5586, 1.1099, 1.1026\n"
     ]
    },
    {
     "name": "stderr",
     "output_type": "stream",
     "text": [
      " 27%|██▋       | 8/30 [02:43<07:27, 20.32s/it]"
     ]
    },
    {
     "name": "stdout",
     "output_type": "stream",
     "text": [
      "Epoch 1500: loss 1.1570,\tloss_y 0.5690, 1.1346, 1.1311,\tloss_eta 0.5879, 1.1400, 1.1040\n",
      "Warning: covariate dimension does not aligned with the specified input dimension; filling in the remaining dimension with noise.\n",
      "Warning: covariate dimension does not aligned with the specified input dimension; filling in the remaining dimension with noise.\n",
      "2.032764\n",
      "Epoch 1: loss 2.1461,\tloss_y 1.3868, 1.4055, 0.0373,\tloss_eta 0.7592, 0.7925, 0.0666\n",
      "Epoch 500: loss 1.1420,\tloss_y 0.5637, 1.1229, 1.1185,\tloss_eta 0.5783, 1.1260, 1.0955\n",
      "Epoch 1000: loss 1.1273,\tloss_y 0.5752, 1.1259, 1.1013,\tloss_eta 0.5521, 1.1107, 1.1172\n"
     ]
    },
    {
     "name": "stderr",
     "output_type": "stream",
     "text": [
      " 30%|███       | 9/30 [03:04<07:06, 20.29s/it]"
     ]
    },
    {
     "name": "stdout",
     "output_type": "stream",
     "text": [
      "Epoch 1500: loss 1.1192,\tloss_y 0.5552, 1.1178, 1.1252,\tloss_eta 0.5640, 1.1189, 1.1099\n",
      "Warning: covariate dimension does not aligned with the specified input dimension; filling in the remaining dimension with noise.\n",
      "Warning: covariate dimension does not aligned with the specified input dimension; filling in the remaining dimension with noise.\n",
      "1.9939039\n",
      "Epoch 1: loss 2.0581,\tloss_y 1.2830, 1.2910, 0.0159,\tloss_eta 0.7751, 0.8088, 0.0674\n",
      "Epoch 500: loss 1.1281,\tloss_y 0.5596, 1.1041, 1.0890,\tloss_eta 0.5685, 1.1140, 1.0909\n",
      "Epoch 1000: loss 1.1289,\tloss_y 0.5625, 1.1121, 1.0991,\tloss_eta 0.5663, 1.1197, 1.1068\n"
     ]
    },
    {
     "name": "stderr",
     "output_type": "stream",
     "text": [
      " 33%|███▎      | 10/30 [03:24<06:44, 20.24s/it]"
     ]
    },
    {
     "name": "stdout",
     "output_type": "stream",
     "text": [
      "Epoch 1500: loss 1.1405,\tloss_y 0.5698, 1.1167, 1.0938,\tloss_eta 0.5707, 1.1295, 1.1176\n",
      "Warning: covariate dimension does not aligned with the specified input dimension; filling in the remaining dimension with noise.\n",
      "Warning: covariate dimension does not aligned with the specified input dimension; filling in the remaining dimension with noise.\n",
      "2.0518835\n",
      "Epoch 1: loss 2.1678,\tloss_y 1.3909, 1.4078, 0.0339,\tloss_eta 0.7769, 0.8080, 0.0622\n",
      "Epoch 500: loss 1.1283,\tloss_y 0.5673, 1.1310, 1.1275,\tloss_eta 0.5610, 1.1166, 1.1111\n",
      "Epoch 1000: loss 1.1436,\tloss_y 0.5666, 1.1310, 1.1287,\tloss_eta 0.5770, 1.1299, 1.1058\n"
     ]
    },
    {
     "name": "stderr",
     "output_type": "stream",
     "text": [
      " 37%|███▋      | 11/30 [03:45<06:32, 20.64s/it]"
     ]
    },
    {
     "name": "stdout",
     "output_type": "stream",
     "text": [
      "Epoch 1500: loss 1.1388,\tloss_y 0.5676, 1.1280, 1.1208,\tloss_eta 0.5712, 1.1289, 1.1155\n",
      "Warning: covariate dimension does not aligned with the specified input dimension; filling in the remaining dimension with noise.\n",
      "Warning: covariate dimension does not aligned with the specified input dimension; filling in the remaining dimension with noise.\n",
      "2.0616665\n",
      "Epoch 1: loss 2.1528,\tloss_y 1.4010, 1.4084, 0.0147,\tloss_eta 0.7518, 0.8027, 0.1019\n",
      "Epoch 500: loss 1.1239,\tloss_y 0.5677, 1.1237, 1.1120,\tloss_eta 0.5562, 1.0979, 1.0835\n",
      "Epoch 1000: loss 1.1058,\tloss_y 0.5531, 1.1159, 1.1256,\tloss_eta 0.5526, 1.1134, 1.1215\n"
     ]
    },
    {
     "name": "stderr",
     "output_type": "stream",
     "text": [
      " 40%|████      | 12/30 [04:07<06:16, 20.89s/it]"
     ]
    },
    {
     "name": "stdout",
     "output_type": "stream",
     "text": [
      "Epoch 1500: loss 1.1509,\tloss_y 0.5807, 1.1293, 1.0973,\tloss_eta 0.5702, 1.1230, 1.1057\n",
      "Warning: covariate dimension does not aligned with the specified input dimension; filling in the remaining dimension with noise.\n",
      "Warning: covariate dimension does not aligned with the specified input dimension; filling in the remaining dimension with noise.\n",
      "1.92008\n",
      "Epoch 1: loss 2.1304,\tloss_y 1.3701, 1.3845, 0.0288,\tloss_eta 0.7603, 0.8044, 0.0881\n",
      "Epoch 500: loss 1.1254,\tloss_y 0.5554, 1.1019, 1.0931,\tloss_eta 0.5700, 1.1148, 1.0895\n",
      "Epoch 1000: loss 1.1131,\tloss_y 0.5527, 1.1099, 1.1145,\tloss_eta 0.5604, 1.1170, 1.1133\n"
     ]
    },
    {
     "name": "stderr",
     "output_type": "stream",
     "text": [
      " 43%|████▎     | 13/30 [04:28<05:58, 21.12s/it]"
     ]
    },
    {
     "name": "stdout",
     "output_type": "stream",
     "text": [
      "Epoch 1500: loss 1.1354,\tloss_y 0.5592, 1.1186, 1.1188,\tloss_eta 0.5761, 1.1301, 1.1078\n",
      "Warning: covariate dimension does not aligned with the specified input dimension; filling in the remaining dimension with noise.\n",
      "Warning: covariate dimension does not aligned with the specified input dimension; filling in the remaining dimension with noise.\n",
      "1.8468996\n",
      "Epoch 1: loss 2.1483,\tloss_y 1.3874, 1.4000, 0.0252,\tloss_eta 0.7609, 0.8079, 0.0940\n",
      "Epoch 500: loss 1.1259,\tloss_y 0.5493, 1.1159, 1.1333,\tloss_eta 0.5766, 1.1310, 1.1087\n",
      "Epoch 1000: loss 1.1275,\tloss_y 0.5621, 1.1234, 1.1227,\tloss_eta 0.5654, 1.1251, 1.1193\n"
     ]
    },
    {
     "name": "stderr",
     "output_type": "stream",
     "text": [
      " 47%|████▋     | 14/30 [04:50<05:40, 21.26s/it]"
     ]
    },
    {
     "name": "stdout",
     "output_type": "stream",
     "text": [
      "Epoch 1500: loss 1.1102,\tloss_y 0.5433, 1.1006, 1.1145,\tloss_eta 0.5669, 1.1108, 1.0878\n",
      "Warning: covariate dimension does not aligned with the specified input dimension; filling in the remaining dimension with noise.\n",
      "Warning: covariate dimension does not aligned with the specified input dimension; filling in the remaining dimension with noise.\n",
      "1.5324628\n",
      "Epoch 1: loss 2.1475,\tloss_y 1.3710, 1.4012, 0.0604,\tloss_eta 0.7766, 0.8099, 0.0667\n",
      "Epoch 500: loss 1.1344,\tloss_y 0.5619, 1.1140, 1.1042,\tloss_eta 0.5725, 1.1290, 1.1129\n",
      "Epoch 1000: loss 1.1409,\tloss_y 0.5785, 1.1358, 1.1145,\tloss_eta 0.5624, 1.1230, 1.1213\n"
     ]
    },
    {
     "name": "stderr",
     "output_type": "stream",
     "text": [
      " 50%|█████     | 15/30 [05:11<05:18, 21.21s/it]"
     ]
    },
    {
     "name": "stdout",
     "output_type": "stream",
     "text": [
      "Epoch 1500: loss 1.1255,\tloss_y 0.5568, 1.1273, 1.1410,\tloss_eta 0.5687, 1.1158, 1.0943\n",
      "Warning: covariate dimension does not aligned with the specified input dimension; filling in the remaining dimension with noise.\n",
      "Warning: covariate dimension does not aligned with the specified input dimension; filling in the remaining dimension with noise.\n",
      "1.9158161\n",
      "Epoch 1: loss 2.1300,\tloss_y 1.3673, 1.3835, 0.0324,\tloss_eta 0.7627, 0.7965, 0.0677\n",
      "Epoch 500: loss 1.1251,\tloss_y 0.5611, 1.1311, 1.1400,\tloss_eta 0.5640, 1.1133, 1.0986\n",
      "Epoch 1000: loss 1.1176,\tloss_y 0.5546, 1.1110, 1.1127,\tloss_eta 0.5630, 1.1157, 1.1054\n"
     ]
    },
    {
     "name": "stderr",
     "output_type": "stream",
     "text": [
      " 53%|█████▎    | 16/30 [05:32<04:55, 21.09s/it]"
     ]
    },
    {
     "name": "stdout",
     "output_type": "stream",
     "text": [
      "Epoch 1500: loss 1.0976,\tloss_y 0.5546, 1.1190, 1.1287,\tloss_eta 0.5429, 1.0990, 1.1122\n",
      "Warning: covariate dimension does not aligned with the specified input dimension; filling in the remaining dimension with noise.\n",
      "Warning: covariate dimension does not aligned with the specified input dimension; filling in the remaining dimension with noise.\n",
      "1.9492377\n",
      "Epoch 1: loss 2.1234,\tloss_y 1.3451, 1.3724, 0.0545,\tloss_eta 0.7782, 0.8041, 0.0517\n",
      "Epoch 500: loss 1.1369,\tloss_y 0.5600, 1.1195, 1.1191,\tloss_eta 0.5770, 1.1276, 1.1012\n",
      "Epoch 1000: loss 1.1246,\tloss_y 0.5601, 1.1270, 1.1337,\tloss_eta 0.5645, 1.1168, 1.1046\n"
     ]
    },
    {
     "name": "stderr",
     "output_type": "stream",
     "text": [
      " 57%|█████▋    | 17/30 [05:53<04:34, 21.09s/it]"
     ]
    },
    {
     "name": "stdout",
     "output_type": "stream",
     "text": [
      "Epoch 1500: loss 1.1223,\tloss_y 0.5620, 1.1271, 1.1303,\tloss_eta 0.5604, 1.1170, 1.1132\n",
      "Warning: covariate dimension does not aligned with the specified input dimension; filling in the remaining dimension with noise.\n",
      "Warning: covariate dimension does not aligned with the specified input dimension; filling in the remaining dimension with noise.\n",
      "1.9540513\n",
      "Epoch 1: loss 2.2059,\tloss_y 1.4209, 1.4355, 0.0293,\tloss_eta 0.7850, 0.8182, 0.0664\n",
      "Epoch 500: loss 1.1444,\tloss_y 0.5723, 1.1406, 1.1367,\tloss_eta 0.5721, 1.1197, 1.0952\n",
      "Epoch 1000: loss 1.1028,\tloss_y 0.5592, 1.1294, 1.1404,\tloss_eta 0.5436, 1.1085, 1.1299\n"
     ]
    },
    {
     "name": "stderr",
     "output_type": "stream",
     "text": [
      " 60%|██████    | 18/30 [06:13<04:09, 20.79s/it]"
     ]
    },
    {
     "name": "stdout",
     "output_type": "stream",
     "text": [
      "Epoch 1500: loss 1.1134,\tloss_y 0.5535, 1.1184, 1.1299,\tloss_eta 0.5599, 1.1203, 1.1208\n",
      "Warning: covariate dimension does not aligned with the specified input dimension; filling in the remaining dimension with noise.\n",
      "Warning: covariate dimension does not aligned with the specified input dimension; filling in the remaining dimension with noise.\n",
      "1.8819711\n",
      "Epoch 1: loss 2.0779,\tloss_y 1.3075, 1.3432, 0.0713,\tloss_eta 0.7703, 0.8002, 0.0598\n",
      "Epoch 500: loss 1.1333,\tloss_y 0.5654, 1.1253, 1.1198,\tloss_eta 0.5679, 1.1175, 1.0993\n",
      "Epoch 1000: loss 1.1431,\tloss_y 0.5670, 1.1357, 1.1374,\tloss_eta 0.5760, 1.1263, 1.1006\n"
     ]
    },
    {
     "name": "stderr",
     "output_type": "stream",
     "text": [
      " 63%|██████▎   | 19/30 [06:33<03:46, 20.63s/it]"
     ]
    },
    {
     "name": "stdout",
     "output_type": "stream",
     "text": [
      "Epoch 1500: loss 1.1470,\tloss_y 0.5637, 1.1198, 1.1123,\tloss_eta 0.5833, 1.1318, 1.0971\n",
      "Warning: covariate dimension does not aligned with the specified input dimension; filling in the remaining dimension with noise.\n",
      "Warning: covariate dimension does not aligned with the specified input dimension; filling in the remaining dimension with noise.\n",
      "1.9139258\n",
      "Epoch 1: loss 2.1671,\tloss_y 1.4169, 1.4289, 0.0241,\tloss_eta 0.7502, 0.7907, 0.0809\n",
      "Epoch 500: loss 1.1571,\tloss_y 0.5865, 1.1267, 1.0804,\tloss_eta 0.5706, 1.1207, 1.1002\n",
      "Epoch 1000: loss 1.1158,\tloss_y 0.5606, 1.1119, 1.1025,\tloss_eta 0.5552, 1.1023, 1.0943\n"
     ]
    },
    {
     "name": "stderr",
     "output_type": "stream",
     "text": [
      " 67%|██████▋   | 20/30 [06:54<03:25, 20.55s/it]"
     ]
    },
    {
     "name": "stdout",
     "output_type": "stream",
     "text": [
      "Epoch 1500: loss 1.1338,\tloss_y 0.5703, 1.1285, 1.1164,\tloss_eta 0.5635, 1.1149, 1.1028\n",
      "Warning: covariate dimension does not aligned with the specified input dimension; filling in the remaining dimension with noise.\n",
      "Warning: covariate dimension does not aligned with the specified input dimension; filling in the remaining dimension with noise.\n",
      "1.9976739\n",
      "Epoch 1: loss 2.1460,\tloss_y 1.3741, 1.3948, 0.0415,\tloss_eta 0.7719, 0.8048, 0.0657\n",
      "Epoch 500: loss 1.1238,\tloss_y 0.5657, 1.1284, 1.1254,\tloss_eta 0.5581, 1.1234, 1.1305\n",
      "Epoch 1000: loss 1.1249,\tloss_y 0.5672, 1.1209, 1.1074,\tloss_eta 0.5578, 1.1071, 1.0986\n"
     ]
    },
    {
     "name": "stderr",
     "output_type": "stream",
     "text": [
      " 70%|███████   | 21/30 [07:14<03:04, 20.51s/it]"
     ]
    },
    {
     "name": "stdout",
     "output_type": "stream",
     "text": [
      "Epoch 1500: loss 1.1261,\tloss_y 0.5616, 1.1054, 1.0876,\tloss_eta 0.5645, 1.1329, 1.1369\n",
      "Warning: covariate dimension does not aligned with the specified input dimension; filling in the remaining dimension with noise.\n",
      "Warning: covariate dimension does not aligned with the specified input dimension; filling in the remaining dimension with noise.\n",
      "2.0174427\n",
      "Epoch 1: loss 2.0720,\tloss_y 1.3141, 1.3475, 0.0667,\tloss_eta 0.7579, 0.8029, 0.0901\n",
      "Epoch 500: loss 1.1217,\tloss_y 0.5640, 1.1201, 1.1123,\tloss_eta 0.5578, 1.1056, 1.0958\n",
      "Epoch 1000: loss 1.1292,\tloss_y 0.5720, 1.1363, 1.1286,\tloss_eta 0.5572, 1.1053, 1.0962\n"
     ]
    },
    {
     "name": "stderr",
     "output_type": "stream",
     "text": [
      " 73%|███████▎  | 22/30 [07:35<02:44, 20.52s/it]"
     ]
    },
    {
     "name": "stdout",
     "output_type": "stream",
     "text": [
      "Epoch 1500: loss 1.1350,\tloss_y 0.5724, 1.1393, 1.1338,\tloss_eta 0.5625, 1.1101, 1.0952\n",
      "Warning: covariate dimension does not aligned with the specified input dimension; filling in the remaining dimension with noise.\n",
      "Warning: covariate dimension does not aligned with the specified input dimension; filling in the remaining dimension with noise.\n",
      "1.9425137\n",
      "Epoch 1: loss 2.1014,\tloss_y 1.3485, 1.3742, 0.0514,\tloss_eta 0.7529, 0.7960, 0.0862\n",
      "Epoch 500: loss 1.1093,\tloss_y 0.5505, 1.0966, 1.0923,\tloss_eta 0.5588, 1.1082, 1.0988\n",
      "Epoch 1000: loss 1.1156,\tloss_y 0.5581, 1.1029, 1.0896,\tloss_eta 0.5575, 1.1109, 1.1067\n"
     ]
    },
    {
     "name": "stderr",
     "output_type": "stream",
     "text": [
      " 77%|███████▋  | 23/30 [07:55<02:23, 20.45s/it]"
     ]
    },
    {
     "name": "stdout",
     "output_type": "stream",
     "text": [
      "Epoch 1500: loss 1.1054,\tloss_y 0.5486, 1.0956, 1.0940,\tloss_eta 0.5568, 1.1145, 1.1154\n",
      "Warning: covariate dimension does not aligned with the specified input dimension; filling in the remaining dimension with noise.\n",
      "Warning: covariate dimension does not aligned with the specified input dimension; filling in the remaining dimension with noise.\n",
      "1.92467\n",
      "Epoch 1: loss 2.1603,\tloss_y 1.3966, 1.4187, 0.0442,\tloss_eta 0.7637, 0.8023, 0.0771\n",
      "Epoch 500: loss 1.1222,\tloss_y 0.5652, 1.1322, 1.1339,\tloss_eta 0.5570, 1.1031, 1.0922\n",
      "Epoch 1000: loss 1.1151,\tloss_y 0.5561, 1.1370, 1.1619,\tloss_eta 0.5590, 1.1074, 1.0969\n"
     ]
    },
    {
     "name": "stderr",
     "output_type": "stream",
     "text": [
      " 80%|████████  | 24/30 [08:16<02:03, 20.64s/it]"
     ]
    },
    {
     "name": "stdout",
     "output_type": "stream",
     "text": [
      "Epoch 1500: loss 1.1219,\tloss_y 0.5648, 1.1374, 1.1452,\tloss_eta 0.5571, 1.1104, 1.1067\n",
      "Warning: covariate dimension does not aligned with the specified input dimension; filling in the remaining dimension with noise.\n",
      "Warning: covariate dimension does not aligned with the specified input dimension; filling in the remaining dimension with noise.\n",
      "1.9413818\n",
      "Epoch 1: loss 2.1603,\tloss_y 1.3892, 1.4223, 0.0661,\tloss_eta 0.7711, 0.8145, 0.0867\n",
      "Epoch 500: loss 1.1212,\tloss_y 0.5624, 1.1292, 1.1335,\tloss_eta 0.5587, 1.0930, 1.0685\n",
      "Epoch 1000: loss 1.1331,\tloss_y 0.5631, 1.1380, 1.1499,\tloss_eta 0.5700, 1.1013, 1.0626\n"
     ]
    },
    {
     "name": "stderr",
     "output_type": "stream",
     "text": [
      " 83%|████████▎ | 25/30 [08:37<01:43, 20.68s/it]"
     ]
    },
    {
     "name": "stdout",
     "output_type": "stream",
     "text": [
      "Epoch 1500: loss 1.1445,\tloss_y 0.5684, 1.1285, 1.1202,\tloss_eta 0.5761, 1.1275, 1.1029\n",
      "Warning: covariate dimension does not aligned with the specified input dimension; filling in the remaining dimension with noise.\n",
      "Warning: covariate dimension does not aligned with the specified input dimension; filling in the remaining dimension with noise.\n",
      "1.7947912\n",
      "Epoch 1: loss 2.1731,\tloss_y 1.4149, 1.4262, 0.0225,\tloss_eta 0.7582, 0.7914, 0.0664\n",
      "Epoch 500: loss 1.1395,\tloss_y 0.5750, 1.1680, 1.1860,\tloss_eta 0.5646, 1.1142, 1.0993\n",
      "Epoch 1000: loss 1.1757,\tloss_y 0.5905, 1.1738, 1.1664,\tloss_eta 0.5852, 1.1333, 1.0961\n"
     ]
    },
    {
     "name": "stderr",
     "output_type": "stream",
     "text": [
      " 87%|████████▋ | 26/30 [08:57<01:22, 20.58s/it]"
     ]
    },
    {
     "name": "stdout",
     "output_type": "stream",
     "text": [
      "Epoch 1500: loss 1.1464,\tloss_y 0.5755, 1.1530, 1.1549,\tloss_eta 0.5709, 1.1212, 1.1007\n",
      "Warning: covariate dimension does not aligned with the specified input dimension; filling in the remaining dimension with noise.\n",
      "Warning: covariate dimension does not aligned with the specified input dimension; filling in the remaining dimension with noise.\n",
      "1.5527368\n",
      "Epoch 1: loss 2.2198,\tloss_y 1.4556, 1.4645, 0.0178,\tloss_eta 0.7642, 0.8046, 0.0808\n",
      "Epoch 500: loss 1.1577,\tloss_y 0.5738, 1.1340, 1.1203,\tloss_eta 0.5839, 1.1302, 1.0926\n",
      "Epoch 1000: loss 1.1081,\tloss_y 0.5543, 1.1251, 1.1417,\tloss_eta 0.5538, 1.1110, 1.1143\n"
     ]
    },
    {
     "name": "stderr",
     "output_type": "stream",
     "text": [
      " 90%|█████████ | 27/30 [09:19<01:02, 20.91s/it]"
     ]
    },
    {
     "name": "stdout",
     "output_type": "stream",
     "text": [
      "Epoch 1500: loss 1.1269,\tloss_y 0.5555, 1.1270, 1.1431,\tloss_eta 0.5714, 1.1196, 1.0963\n",
      "Warning: covariate dimension does not aligned with the specified input dimension; filling in the remaining dimension with noise.\n",
      "Warning: covariate dimension does not aligned with the specified input dimension; filling in the remaining dimension with noise.\n",
      "1.8161857\n",
      "Epoch 1: loss 2.2358,\tloss_y 1.4784, 1.4877, 0.0187,\tloss_eta 0.7574, 0.7949, 0.0749\n",
      "Epoch 500: loss 1.1460,\tloss_y 0.5663, 1.1172, 1.1019,\tloss_eta 0.5797, 1.1298, 1.1002\n",
      "Epoch 1000: loss 1.1169,\tloss_y 0.5586, 1.1224, 1.1276,\tloss_eta 0.5583, 1.1105, 1.1044\n"
     ]
    },
    {
     "name": "stderr",
     "output_type": "stream",
     "text": [
      " 93%|█████████▎| 28/30 [09:40<00:42, 21.01s/it]"
     ]
    },
    {
     "name": "stdout",
     "output_type": "stream",
     "text": [
      "Epoch 1500: loss 1.1191,\tloss_y 0.5600, 1.1266, 1.1331,\tloss_eta 0.5591, 1.1156, 1.1131\n",
      "Warning: covariate dimension does not aligned with the specified input dimension; filling in the remaining dimension with noise.\n",
      "Warning: covariate dimension does not aligned with the specified input dimension; filling in the remaining dimension with noise.\n",
      "2.0282626\n",
      "Epoch 1: loss 2.2033,\tloss_y 1.4286, 1.4639, 0.0706,\tloss_eta 0.7747, 0.8082, 0.0671\n",
      "Epoch 500: loss 1.1484,\tloss_y 0.5673, 1.1182, 1.1017,\tloss_eta 0.5811, 1.1272, 1.0923\n",
      "Epoch 1000: loss 1.1412,\tloss_y 0.5629, 1.1144, 1.1030,\tloss_eta 0.5784, 1.1252, 1.0938\n"
     ]
    },
    {
     "name": "stderr",
     "output_type": "stream",
     "text": [
      " 97%|█████████▋| 29/30 [10:01<00:21, 21.06s/it]"
     ]
    },
    {
     "name": "stdout",
     "output_type": "stream",
     "text": [
      "Epoch 1500: loss 1.1017,\tloss_y 0.5506, 1.1151, 1.1290,\tloss_eta 0.5512, 1.1015, 1.1006\n",
      "Warning: covariate dimension does not aligned with the specified input dimension; filling in the remaining dimension with noise.\n",
      "Warning: covariate dimension does not aligned with the specified input dimension; filling in the remaining dimension with noise.\n",
      "1.8437546\n",
      "Epoch 1: loss 2.1586,\tloss_y 1.3858, 1.4077, 0.0437,\tloss_eta 0.7728, 0.8126, 0.0796\n",
      "Epoch 500: loss 1.1233,\tloss_y 0.5585, 1.1184, 1.1198,\tloss_eta 0.5648, 1.1240, 1.1185\n",
      "Epoch 1000: loss 1.1218,\tloss_y 0.5587, 1.1136, 1.1097,\tloss_eta 0.5631, 1.1197, 1.1132\n"
     ]
    },
    {
     "name": "stderr",
     "output_type": "stream",
     "text": [
      "100%|██████████| 30/30 [10:22<00:00, 20.76s/it]\n"
     ]
    },
    {
     "name": "stdout",
     "output_type": "stream",
     "text": [
      "Epoch 1500: loss 1.1113,\tloss_y 0.5458, 1.1017, 1.1118,\tloss_eta 0.5655, 1.1281, 1.1252\n",
      "Warning: covariate dimension does not aligned with the specified input dimension; filling in the remaining dimension with noise.\n",
      "Warning: covariate dimension does not aligned with the specified input dimension; filling in the remaining dimension with noise.\n",
      "1.9897336\n",
      "Running experiments for strength_instr = 1.0\n"
     ]
    },
    {
     "name": "stderr",
     "output_type": "stream",
     "text": [
      "  0%|          | 0/30 [00:00<?, ?it/s]"
     ]
    },
    {
     "name": "stdout",
     "output_type": "stream",
     "text": [
      "Epoch 1: loss 2.0908,\tloss_y 1.3354, 1.3434, 0.0161,\tloss_eta 0.7555, 0.8011, 0.0913\n",
      "Epoch 500: loss 1.1277,\tloss_y 0.5653, 1.1293, 1.1281,\tloss_eta 0.5624, 1.1096, 1.0945\n",
      "Epoch 1000: loss 1.1221,\tloss_y 0.5542, 1.1143, 1.1202,\tloss_eta 0.5679, 1.1205, 1.1052\n"
     ]
    },
    {
     "name": "stderr",
     "output_type": "stream",
     "text": [
      "  3%|▎         | 1/30 [00:20<09:42, 20.09s/it]"
     ]
    },
    {
     "name": "stdout",
     "output_type": "stream",
     "text": [
      "Epoch 1500: loss 1.1209,\tloss_y 0.5634, 1.1212, 1.1156,\tloss_eta 0.5575, 1.1137, 1.1124\n",
      "Warning: covariate dimension does not aligned with the specified input dimension; filling in the remaining dimension with noise.\n",
      "Warning: covariate dimension does not aligned with the specified input dimension; filling in the remaining dimension with noise.\n",
      "2.1002908\n",
      "Epoch 1: loss 2.1780,\tloss_y 1.4056, 1.4246, 0.0379,\tloss_eta 0.7724, 0.8135, 0.0824\n",
      "Epoch 500: loss 1.1373,\tloss_y 0.5701, 1.1250, 1.1098,\tloss_eta 0.5672, 1.1005, 1.0666\n",
      "Epoch 1000: loss 1.1313,\tloss_y 0.5593, 1.1155, 1.1124,\tloss_eta 0.5720, 1.1136, 1.0832\n"
     ]
    },
    {
     "name": "stderr",
     "output_type": "stream",
     "text": [
      "  7%|▋         | 2/30 [00:39<09:18, 19.95s/it]"
     ]
    },
    {
     "name": "stdout",
     "output_type": "stream",
     "text": [
      "Epoch 1500: loss 1.1187,\tloss_y 0.5557, 1.1153, 1.1192,\tloss_eta 0.5630, 1.1146, 1.1031\n",
      "Warning: covariate dimension does not aligned with the specified input dimension; filling in the remaining dimension with noise.\n",
      "Warning: covariate dimension does not aligned with the specified input dimension; filling in the remaining dimension with noise.\n",
      "1.8436747\n",
      "Epoch 1: loss 2.2305,\tloss_y 1.4599, 1.4710, 0.0223,\tloss_eta 0.7706, 0.8036, 0.0660\n",
      "Epoch 500: loss 1.1022,\tloss_y 0.5517, 1.1071, 1.1110,\tloss_eta 0.5506, 1.1047, 1.1083\n",
      "Epoch 1000: loss 1.1302,\tloss_y 0.5576, 1.1214, 1.1277,\tloss_eta 0.5726, 1.1210, 1.0968\n"
     ]
    },
    {
     "name": "stderr",
     "output_type": "stream",
     "text": [
      " 10%|█         | 3/30 [01:00<09:06, 20.23s/it]"
     ]
    },
    {
     "name": "stdout",
     "output_type": "stream",
     "text": [
      "Epoch 1500: loss 1.1272,\tloss_y 0.5563, 1.1146, 1.1166,\tloss_eta 0.5709, 1.1259, 1.1099\n",
      "Warning: covariate dimension does not aligned with the specified input dimension; filling in the remaining dimension with noise.\n",
      "Warning: covariate dimension does not aligned with the specified input dimension; filling in the remaining dimension with noise.\n",
      "1.9145511\n",
      "Epoch 1: loss 2.1811,\tloss_y 1.4222, 1.4530, 0.0617,\tloss_eta 0.7589, 0.8065, 0.0951\n",
      "Epoch 500: loss 1.1316,\tloss_y 0.5892, 1.1479, 1.1176,\tloss_eta 0.5424, 1.0839, 1.0829\n",
      "Epoch 1000: loss 1.1594,\tloss_y 0.5781, 1.1426, 1.1292,\tloss_eta 0.5814, 1.1230, 1.0832\n"
     ]
    },
    {
     "name": "stderr",
     "output_type": "stream",
     "text": [
      " 13%|█▎        | 4/30 [01:20<08:47, 20.29s/it]"
     ]
    },
    {
     "name": "stdout",
     "output_type": "stream",
     "text": [
      "Epoch 1500: loss 1.1198,\tloss_y 0.5803, 1.1476, 1.1347,\tloss_eta 0.5396, 1.0897, 1.1003\n",
      "Warning: covariate dimension does not aligned with the specified input dimension; filling in the remaining dimension with noise.\n",
      "Warning: covariate dimension does not aligned with the specified input dimension; filling in the remaining dimension with noise.\n",
      "1.9739269\n",
      "Epoch 1: loss 2.1350,\tloss_y 1.3703, 1.3883, 0.0360,\tloss_eta 0.7647, 0.7978, 0.0661\n",
      "Epoch 500: loss 1.1336,\tloss_y 0.5609, 1.1265, 1.1311,\tloss_eta 0.5727, 1.1199, 1.0945\n",
      "Epoch 1000: loss 1.1307,\tloss_y 0.5678, 1.1334, 1.1312,\tloss_eta 0.5629, 1.1129, 1.1000\n"
     ]
    },
    {
     "name": "stderr",
     "output_type": "stream",
     "text": [
      " 17%|█▋        | 5/30 [01:41<08:32, 20.49s/it]"
     ]
    },
    {
     "name": "stdout",
     "output_type": "stream",
     "text": [
      "Epoch 1500: loss 1.1212,\tloss_y 0.5475, 1.1215, 1.1480,\tloss_eta 0.5737, 1.1285, 1.1096\n",
      "Warning: covariate dimension does not aligned with the specified input dimension; filling in the remaining dimension with noise.\n",
      "Warning: covariate dimension does not aligned with the specified input dimension; filling in the remaining dimension with noise.\n",
      "1.9119314\n",
      "Epoch 1: loss 2.2003,\tloss_y 1.4291, 1.4434, 0.0287,\tloss_eta 0.7712, 0.8115, 0.0807\n",
      "Epoch 500: loss 1.1182,\tloss_y 0.5591, 1.1050, 1.0919,\tloss_eta 0.5591, 1.1159, 1.1135\n",
      "Epoch 1000: loss 1.1162,\tloss_y 0.5541, 1.0974, 1.0866,\tloss_eta 0.5621, 1.1116, 1.0990\n"
     ]
    },
    {
     "name": "stderr",
     "output_type": "stream",
     "text": [
      " 20%|██        | 6/30 [02:02<08:15, 20.66s/it]"
     ]
    },
    {
     "name": "stdout",
     "output_type": "stream",
     "text": [
      "Epoch 1500: loss 1.1182,\tloss_y 0.5461, 1.0879, 1.0836,\tloss_eta 0.5721, 1.1281, 1.1120\n",
      "Warning: covariate dimension does not aligned with the specified input dimension; filling in the remaining dimension with noise.\n",
      "Warning: covariate dimension does not aligned with the specified input dimension; filling in the remaining dimension with noise.\n",
      "1.8936801\n",
      "Epoch 1: loss 2.1048,\tloss_y 1.3404, 1.3571, 0.0334,\tloss_eta 0.7645, 0.8034, 0.0779\n",
      "Epoch 500: loss 1.1271,\tloss_y 0.5537, 1.1050, 1.1026,\tloss_eta 0.5734, 1.1296, 1.1123\n",
      "Epoch 1000: loss 1.1266,\tloss_y 0.5646, 1.1217, 1.1141,\tloss_eta 0.5620, 1.1173, 1.1107\n"
     ]
    },
    {
     "name": "stderr",
     "output_type": "stream",
     "text": [
      " 23%|██▎       | 7/30 [02:23<07:59, 20.83s/it]"
     ]
    },
    {
     "name": "stdout",
     "output_type": "stream",
     "text": [
      "Epoch 1500: loss 1.1267,\tloss_y 0.5561, 1.1061, 1.0999,\tloss_eta 0.5706, 1.1158, 1.0903\n",
      "Warning: covariate dimension does not aligned with the specified input dimension; filling in the remaining dimension with noise.\n",
      "Warning: covariate dimension does not aligned with the specified input dimension; filling in the remaining dimension with noise.\n",
      "1.9972613\n",
      "Epoch 1: loss 2.1565,\tloss_y 1.3898, 1.4269, 0.0741,\tloss_eta 0.7667, 0.7948, 0.0562\n",
      "Epoch 500: loss 1.1467,\tloss_y 0.5707, 1.1367, 1.1318,\tloss_eta 0.5759, 1.1348, 1.1176\n",
      "Epoch 1000: loss 1.1549,\tloss_y 0.5804, 1.1474, 1.1339,\tloss_eta 0.5745, 1.1285, 1.1081\n"
     ]
    },
    {
     "name": "stderr",
     "output_type": "stream",
     "text": [
      " 27%|██▋       | 8/30 [02:45<07:40, 20.92s/it]"
     ]
    },
    {
     "name": "stdout",
     "output_type": "stream",
     "text": [
      "Epoch 1500: loss 1.1271,\tloss_y 0.5721, 1.1385, 1.1329,\tloss_eta 0.5551, 1.1132, 1.1163\n",
      "Warning: covariate dimension does not aligned with the specified input dimension; filling in the remaining dimension with noise.\n",
      "Warning: covariate dimension does not aligned with the specified input dimension; filling in the remaining dimension with noise.\n",
      "1.973557\n",
      "Epoch 1: loss 2.0891,\tloss_y 1.3136, 1.3287, 0.0301,\tloss_eta 0.7755, 0.8072, 0.0635\n",
      "Epoch 500: loss 1.1382,\tloss_y 0.5690, 1.1206, 1.1031,\tloss_eta 0.5691, 1.1204, 1.1025\n",
      "Epoch 1000: loss 1.1198,\tloss_y 0.5565, 1.1153, 1.1175,\tloss_eta 0.5633, 1.1287, 1.1307\n"
     ]
    },
    {
     "name": "stderr",
     "output_type": "stream",
     "text": [
      " 30%|███       | 9/30 [03:06<07:20, 20.98s/it]"
     ]
    },
    {
     "name": "stdout",
     "output_type": "stream",
     "text": [
      "Epoch 1500: loss 1.1393,\tloss_y 0.5663, 1.1293, 1.1260,\tloss_eta 0.5731, 1.1263, 1.1065\n",
      "Warning: covariate dimension does not aligned with the specified input dimension; filling in the remaining dimension with noise.\n",
      "Warning: covariate dimension does not aligned with the specified input dimension; filling in the remaining dimension with noise.\n",
      "1.9396619\n",
      "Epoch 1: loss 2.1750,\tloss_y 1.4166, 1.4364, 0.0397,\tloss_eta 0.7584, 0.7974, 0.0780\n",
      "Epoch 500: loss 1.1225,\tloss_y 0.5636, 1.1268, 1.1264,\tloss_eta 0.5590, 1.1207, 1.1235\n",
      "Epoch 1000: loss 1.1451,\tloss_y 0.5755, 1.1464, 1.1419,\tloss_eta 0.5696, 1.1246, 1.1098\n"
     ]
    },
    {
     "name": "stderr",
     "output_type": "stream",
     "text": [
      " 33%|███▎      | 10/30 [03:25<06:51, 20.60s/it]"
     ]
    },
    {
     "name": "stdout",
     "output_type": "stream",
     "text": [
      "Epoch 1500: loss 1.1345,\tloss_y 0.5711, 1.1469, 1.1516,\tloss_eta 0.5635, 1.1204, 1.1138\n",
      "Warning: covariate dimension does not aligned with the specified input dimension; filling in the remaining dimension with noise.\n",
      "Warning: covariate dimension does not aligned with the specified input dimension; filling in the remaining dimension with noise.\n",
      "1.9190016\n",
      "Epoch 1: loss 2.1786,\tloss_y 1.4256, 1.4385, 0.0258,\tloss_eta 0.7530, 0.7877, 0.0694\n",
      "Epoch 500: loss 1.1341,\tloss_y 0.5610, 1.1117, 1.1014,\tloss_eta 0.5731, 1.1230, 1.0998\n",
      "Epoch 1000: loss 1.1204,\tloss_y 0.5563, 1.1220, 1.1315,\tloss_eta 0.5641, 1.1219, 1.1156\n"
     ]
    },
    {
     "name": "stderr",
     "output_type": "stream",
     "text": [
      " 37%|███▋      | 11/30 [03:45<06:26, 20.34s/it]"
     ]
    },
    {
     "name": "stdout",
     "output_type": "stream",
     "text": [
      "Epoch 1500: loss 1.1338,\tloss_y 0.5640, 1.1133, 1.0987,\tloss_eta 0.5699, 1.1315, 1.1234\n",
      "Warning: covariate dimension does not aligned with the specified input dimension; filling in the remaining dimension with noise.\n",
      "Warning: covariate dimension does not aligned with the specified input dimension; filling in the remaining dimension with noise.\n",
      "2.1246564\n",
      "Epoch 1: loss 2.1815,\tloss_y 1.4228, 1.4406, 0.0355,\tloss_eta 0.7587, 0.8013, 0.0853\n",
      "Epoch 500: loss 1.1386,\tloss_y 0.5720, 1.1180, 1.0920,\tloss_eta 0.5666, 1.1186, 1.1040\n",
      "Epoch 1000: loss 1.1323,\tloss_y 0.5737, 1.1322, 1.1170,\tloss_eta 0.5586, 1.1128, 1.1085\n"
     ]
    },
    {
     "name": "stderr",
     "output_type": "stream",
     "text": [
      " 40%|████      | 12/30 [04:05<06:05, 20.28s/it]"
     ]
    },
    {
     "name": "stdout",
     "output_type": "stream",
     "text": [
      "Epoch 1500: loss 1.1371,\tloss_y 0.5633, 1.1271, 1.1276,\tloss_eta 0.5738, 1.1190, 1.0905\n",
      "Warning: covariate dimension does not aligned with the specified input dimension; filling in the remaining dimension with noise.\n",
      "Warning: covariate dimension does not aligned with the specified input dimension; filling in the remaining dimension with noise.\n",
      "1.5752732\n",
      "Epoch 1: loss 2.1147,\tloss_y 1.3509, 1.3623, 0.0230,\tloss_eta 0.7638, 0.8008, 0.0740\n",
      "Epoch 500: loss 1.1145,\tloss_y 0.5505, 1.1068, 1.1125,\tloss_eta 0.5639, 1.1047, 1.0816\n",
      "Epoch 1000: loss 1.1216,\tloss_y 0.5517, 1.1076, 1.1117,\tloss_eta 0.5699, 1.1187, 1.0977\n"
     ]
    },
    {
     "name": "stderr",
     "output_type": "stream",
     "text": [
      " 43%|████▎     | 13/30 [04:25<05:43, 20.23s/it]"
     ]
    },
    {
     "name": "stdout",
     "output_type": "stream",
     "text": [
      "Epoch 1500: loss 1.1349,\tloss_y 0.5644, 1.1184, 1.1079,\tloss_eta 0.5705, 1.1180, 1.0950\n",
      "Warning: covariate dimension does not aligned with the specified input dimension; filling in the remaining dimension with noise.\n",
      "Warning: covariate dimension does not aligned with the specified input dimension; filling in the remaining dimension with noise.\n",
      "2.0275755\n",
      "Epoch 1: loss 2.1076,\tloss_y 1.3416, 1.3574, 0.0316,\tloss_eta 0.7659, 0.7983, 0.0648\n",
      "Epoch 500: loss 1.1470,\tloss_y 0.5673, 1.1244, 1.1142,\tloss_eta 0.5797, 1.1310, 1.1025\n",
      "Epoch 1000: loss 1.1217,\tloss_y 0.5567, 1.1101, 1.1068,\tloss_eta 0.5650, 1.1231, 1.1162\n"
     ]
    },
    {
     "name": "stderr",
     "output_type": "stream",
     "text": [
      " 47%|████▋     | 14/30 [04:46<05:23, 20.22s/it]"
     ]
    },
    {
     "name": "stdout",
     "output_type": "stream",
     "text": [
      "Epoch 1500: loss 1.1222,\tloss_y 0.5666, 1.1241, 1.1151,\tloss_eta 0.5556, 1.1090, 1.1067\n",
      "Warning: covariate dimension does not aligned with the specified input dimension; filling in the remaining dimension with noise.\n",
      "Warning: covariate dimension does not aligned with the specified input dimension; filling in the remaining dimension with noise.\n",
      "2.0875027\n",
      "Epoch 1: loss 2.1668,\tloss_y 1.4038, 1.4198, 0.0320,\tloss_eta 0.7629, 0.7976, 0.0693\n",
      "Epoch 500: loss 1.1099,\tloss_y 0.5643, 1.1275, 1.1265,\tloss_eta 0.5457, 1.1042, 1.1170\n",
      "Epoch 1000: loss 1.1540,\tloss_y 0.5671, 1.1328, 1.1315,\tloss_eta 0.5869, 1.1307, 1.0875\n"
     ]
    },
    {
     "name": "stderr",
     "output_type": "stream",
     "text": [
      " 50%|█████     | 15/30 [05:05<04:59, 20.00s/it]"
     ]
    },
    {
     "name": "stdout",
     "output_type": "stream",
     "text": [
      "Epoch 1500: loss 1.1555,\tloss_y 0.5837, 1.1496, 1.1317,\tloss_eta 0.5718, 1.1325, 1.1213\n",
      "Warning: covariate dimension does not aligned with the specified input dimension; filling in the remaining dimension with noise.\n",
      "Warning: covariate dimension does not aligned with the specified input dimension; filling in the remaining dimension with noise.\n",
      "2.0514627\n",
      "Epoch 1: loss 2.1549,\tloss_y 1.3936, 1.4150, 0.0430,\tloss_eta 0.7613, 0.8036, 0.0846\n",
      "Epoch 500: loss 1.1320,\tloss_y 0.5710, 1.1274, 1.1127,\tloss_eta 0.5610, 1.1207, 1.1195\n",
      "Epoch 1000: loss 1.1184,\tloss_y 0.5631, 1.1140, 1.1018,\tloss_eta 0.5553, 1.1046, 1.0986\n"
     ]
    },
    {
     "name": "stderr",
     "output_type": "stream",
     "text": [
      " 53%|█████▎    | 16/30 [05:23<04:32, 19.46s/it]"
     ]
    },
    {
     "name": "stdout",
     "output_type": "stream",
     "text": [
      "Epoch 1500: loss 1.1423,\tloss_y 0.5809, 1.1464, 1.1311,\tloss_eta 0.5614, 1.1186, 1.1144\n",
      "Warning: covariate dimension does not aligned with the specified input dimension; filling in the remaining dimension with noise.\n",
      "Warning: covariate dimension does not aligned with the specified input dimension; filling in the remaining dimension with noise.\n",
      "2.1058621\n",
      "Epoch 1: loss 2.1037,\tloss_y 1.3508, 1.3741, 0.0467,\tloss_eta 0.7529, 0.7935, 0.0812\n",
      "Epoch 500: loss 1.1273,\tloss_y 0.5702, 1.1312, 1.1220,\tloss_eta 0.5571, 1.0994, 1.0845\n",
      "Epoch 1000: loss 1.1601,\tloss_y 0.5918, 1.1460, 1.1085,\tloss_eta 0.5683, 1.1059, 1.0753\n"
     ]
    },
    {
     "name": "stderr",
     "output_type": "stream",
     "text": [
      " 57%|█████▋    | 17/30 [05:42<04:08, 19.14s/it]"
     ]
    },
    {
     "name": "stdout",
     "output_type": "stream",
     "text": [
      "Epoch 1500: loss 1.1433,\tloss_y 0.5784, 1.1438, 1.1307,\tloss_eta 0.5649, 1.1204, 1.1110\n",
      "Warning: covariate dimension does not aligned with the specified input dimension; filling in the remaining dimension with noise.\n",
      "Warning: covariate dimension does not aligned with the specified input dimension; filling in the remaining dimension with noise.\n",
      "1.967152\n",
      "Epoch 1: loss 2.1948,\tloss_y 1.4411, 1.4716, 0.0610,\tloss_eta 0.7537, 0.7967, 0.0859\n",
      "Epoch 500: loss 1.1325,\tloss_y 0.5631, 1.1204, 1.1146,\tloss_eta 0.5694, 1.1200, 1.1011\n",
      "Epoch 1000: loss 1.1338,\tloss_y 0.5617, 1.1168, 1.1103,\tloss_eta 0.5721, 1.1185, 1.0929\n"
     ]
    },
    {
     "name": "stderr",
     "output_type": "stream",
     "text": [
      " 60%|██████    | 18/30 [06:00<03:46, 18.87s/it]"
     ]
    },
    {
     "name": "stdout",
     "output_type": "stream",
     "text": [
      "Epoch 1500: loss 1.1394,\tloss_y 0.5693, 1.1276, 1.1164,\tloss_eta 0.5701, 1.1195, 1.0987\n",
      "Warning: covariate dimension does not aligned with the specified input dimension; filling in the remaining dimension with noise.\n",
      "Warning: covariate dimension does not aligned with the specified input dimension; filling in the remaining dimension with noise.\n",
      "1.969961\n",
      "Epoch 1: loss 2.2124,\tloss_y 1.4415, 1.4600, 0.0369,\tloss_eta 0.7709, 0.8042, 0.0667\n",
      "Epoch 500: loss 1.1239,\tloss_y 0.5655, 1.1320, 1.1331,\tloss_eta 0.5584, 1.1160, 1.1151\n",
      "Epoch 1000: loss 1.1346,\tloss_y 0.5703, 1.1335, 1.1265,\tloss_eta 0.5643, 1.1204, 1.1121\n"
     ]
    },
    {
     "name": "stderr",
     "output_type": "stream",
     "text": [
      " 63%|██████▎   | 19/30 [06:18<03:24, 18.60s/it]"
     ]
    },
    {
     "name": "stdout",
     "output_type": "stream",
     "text": [
      "Epoch 1500: loss 1.1340,\tloss_y 0.5652, 1.1516, 1.1726,\tloss_eta 0.5688, 1.1309, 1.1242\n",
      "Warning: covariate dimension does not aligned with the specified input dimension; filling in the remaining dimension with noise.\n",
      "Warning: covariate dimension does not aligned with the specified input dimension; filling in the remaining dimension with noise.\n",
      "1.9973992\n",
      "Epoch 1: loss 2.1591,\tloss_y 1.4005, 1.4092, 0.0174,\tloss_eta 0.7586, 0.7994, 0.0815\n",
      "Epoch 500: loss 1.1339,\tloss_y 0.5750, 1.1322, 1.1145,\tloss_eta 0.5589, 1.1105, 1.1032\n",
      "Epoch 1000: loss 1.1187,\tloss_y 0.5616, 1.1295, 1.1359,\tloss_eta 0.5572, 1.1089, 1.1036\n"
     ]
    },
    {
     "name": "stderr",
     "output_type": "stream",
     "text": [
      " 67%|██████▋   | 20/30 [06:36<03:04, 18.46s/it]"
     ]
    },
    {
     "name": "stdout",
     "output_type": "stream",
     "text": [
      "Epoch 1500: loss 1.1372,\tloss_y 0.5631, 1.1376, 1.1491,\tloss_eta 0.5741, 1.1296, 1.1110\n",
      "Warning: covariate dimension does not aligned with the specified input dimension; filling in the remaining dimension with noise.\n",
      "Warning: covariate dimension does not aligned with the specified input dimension; filling in the remaining dimension with noise.\n",
      "2.012099\n",
      "Epoch 1: loss 2.0697,\tloss_y 1.3124, 1.3463, 0.0678,\tloss_eta 0.7572, 0.7980, 0.0815\n",
      "Epoch 500: loss 1.1481,\tloss_y 0.5708, 1.1164, 1.0912,\tloss_eta 0.5773, 1.1166, 1.0787\n",
      "Epoch 1000: loss 1.1224,\tloss_y 0.5687, 1.1307, 1.1242,\tloss_eta 0.5537, 1.0980, 1.0885\n"
     ]
    },
    {
     "name": "stderr",
     "output_type": "stream",
     "text": [
      " 70%|███████   | 21/30 [06:54<02:45, 18.35s/it]"
     ]
    },
    {
     "name": "stdout",
     "output_type": "stream",
     "text": [
      "Epoch 1500: loss 1.1183,\tloss_y 0.5651, 1.1198, 1.1092,\tloss_eta 0.5532, 1.1079, 1.1094\n",
      "Warning: covariate dimension does not aligned with the specified input dimension; filling in the remaining dimension with noise.\n",
      "Warning: covariate dimension does not aligned with the specified input dimension; filling in the remaining dimension with noise.\n",
      "1.9014366\n",
      "Epoch 1: loss 2.2217,\tloss_y 1.4487, 1.4776, 0.0578,\tloss_eta 0.7729, 0.8102, 0.0746\n",
      "Epoch 500: loss 1.1323,\tloss_y 0.5654, 1.1183, 1.1059,\tloss_eta 0.5669, 1.1154, 1.0969\n",
      "Epoch 1000: loss 1.1403,\tloss_y 0.5710, 1.1194, 1.0968,\tloss_eta 0.5693, 1.1225, 1.1064\n"
     ]
    },
    {
     "name": "stderr",
     "output_type": "stream",
     "text": [
      " 73%|███████▎  | 22/30 [07:12<02:25, 18.18s/it]"
     ]
    },
    {
     "name": "stdout",
     "output_type": "stream",
     "text": [
      "Epoch 1500: loss 1.1150,\tloss_y 0.5523, 1.1183, 1.1321,\tloss_eta 0.5627, 1.1207, 1.1159\n",
      "Warning: covariate dimension does not aligned with the specified input dimension; filling in the remaining dimension with noise.\n",
      "Warning: covariate dimension does not aligned with the specified input dimension; filling in the remaining dimension with noise.\n",
      "2.0496666\n",
      "Epoch 1: loss 2.0966,\tloss_y 1.3221, 1.3506, 0.0569,\tloss_eta 0.7744, 0.8168, 0.0848\n",
      "Epoch 500: loss 1.1251,\tloss_y 0.5717, 1.1229, 1.1024,\tloss_eta 0.5534, 1.1111, 1.1155\n",
      "Epoch 1000: loss 1.1293,\tloss_y 0.5697, 1.1261, 1.1126,\tloss_eta 0.5596, 1.1181, 1.1169\n"
     ]
    },
    {
     "name": "stderr",
     "output_type": "stream",
     "text": [
      " 77%|███████▋  | 23/30 [07:31<02:08, 18.38s/it]"
     ]
    },
    {
     "name": "stdout",
     "output_type": "stream",
     "text": [
      "Epoch 1500: loss 1.1390,\tloss_y 0.5735, 1.1413, 1.1355,\tloss_eta 0.5654, 1.1202, 1.1094\n",
      "Warning: covariate dimension does not aligned with the specified input dimension; filling in the remaining dimension with noise.\n",
      "Warning: covariate dimension does not aligned with the specified input dimension; filling in the remaining dimension with noise.\n",
      "1.9531484\n",
      "Epoch 1: loss 2.2008,\tloss_y 1.4300, 1.4470, 0.0340,\tloss_eta 0.7707, 0.8094, 0.0774\n",
      "Epoch 500: loss 1.1289,\tloss_y 0.5578, 1.1170, 1.1183,\tloss_eta 0.5711, 1.1180, 1.0940\n",
      "Epoch 1000: loss 1.0979,\tloss_y 0.5505, 1.1103, 1.1196,\tloss_eta 0.5474, 1.1018, 1.1090\n"
     ]
    },
    {
     "name": "stderr",
     "output_type": "stream",
     "text": [
      " 80%|████████  | 24/30 [07:50<01:52, 18.67s/it]"
     ]
    },
    {
     "name": "stdout",
     "output_type": "stream",
     "text": [
      "Epoch 1500: loss 1.1433,\tloss_y 0.5639, 1.1221, 1.1163,\tloss_eta 0.5794, 1.1270, 1.0953\n",
      "Warning: covariate dimension does not aligned with the specified input dimension; filling in the remaining dimension with noise.\n",
      "Warning: covariate dimension does not aligned with the specified input dimension; filling in the remaining dimension with noise.\n",
      "2.0748143\n",
      "Epoch 1: loss 2.2022,\tloss_y 1.4303, 1.4543, 0.0481,\tloss_eta 0.7720, 0.8040, 0.0640\n",
      "Epoch 500: loss 1.0978,\tloss_y 0.5546, 1.1063, 1.1035,\tloss_eta 0.5432, 1.1019, 1.1175\n",
      "Epoch 1000: loss 1.1263,\tloss_y 0.5523, 1.1138, 1.1229,\tloss_eta 0.5740, 1.1237, 1.0994\n"
     ]
    },
    {
     "name": "stderr",
     "output_type": "stream",
     "text": [
      " 83%|████████▎ | 25/30 [08:09<01:33, 18.78s/it]"
     ]
    },
    {
     "name": "stdout",
     "output_type": "stream",
     "text": [
      "Epoch 1500: loss 1.1156,\tloss_y 0.5464, 1.1068, 1.1208,\tloss_eta 0.5692, 1.1250, 1.1116\n",
      "Warning: covariate dimension does not aligned with the specified input dimension; filling in the remaining dimension with noise.\n",
      "Warning: covariate dimension does not aligned with the specified input dimension; filling in the remaining dimension with noise.\n",
      "1.8221935\n",
      "Epoch 1: loss 2.1866,\tloss_y 1.4230, 1.4426, 0.0393,\tloss_eta 0.7637, 0.7948, 0.0624\n",
      "Epoch 500: loss 1.1327,\tloss_y 0.5713, 1.1371, 1.1316,\tloss_eta 0.5614, 1.1239, 1.1251\n",
      "Epoch 1000: loss 1.1068,\tloss_y 0.5516, 1.1198, 1.1364,\tloss_eta 0.5552, 1.1134, 1.1163\n"
     ]
    },
    {
     "name": "stderr",
     "output_type": "stream",
     "text": [
      " 87%|████████▋ | 26/30 [08:28<01:15, 18.85s/it]"
     ]
    },
    {
     "name": "stdout",
     "output_type": "stream",
     "text": [
      "Epoch 1500: loss 1.1322,\tloss_y 0.5642, 1.1282, 1.1280,\tloss_eta 0.5680, 1.1266, 1.1171\n",
      "Warning: covariate dimension does not aligned with the specified input dimension; filling in the remaining dimension with noise.\n",
      "Warning: covariate dimension does not aligned with the specified input dimension; filling in the remaining dimension with noise.\n",
      "1.8741508\n",
      "Epoch 1: loss 2.0977,\tloss_y 1.3379, 1.3526, 0.0294,\tloss_eta 0.7598, 0.8064, 0.0931\n",
      "Epoch 500: loss 1.1461,\tloss_y 0.5708, 1.1343, 1.1270,\tloss_eta 0.5753, 1.1228, 1.0950\n",
      "Epoch 1000: loss 1.1441,\tloss_y 0.5745, 1.1378, 1.1266,\tloss_eta 0.5697, 1.1204, 1.1015\n"
     ]
    },
    {
     "name": "stderr",
     "output_type": "stream",
     "text": [
      " 90%|█████████ | 27/30 [08:47<00:56, 18.87s/it]"
     ]
    },
    {
     "name": "stdout",
     "output_type": "stream",
     "text": [
      "Epoch 1500: loss 1.1416,\tloss_y 0.5666, 1.1313, 1.1294,\tloss_eta 0.5750, 1.1299, 1.1099\n",
      "Warning: covariate dimension does not aligned with the specified input dimension; filling in the remaining dimension with noise.\n",
      "Warning: covariate dimension does not aligned with the specified input dimension; filling in the remaining dimension with noise.\n",
      "1.9626517\n",
      "Epoch 1: loss 2.1937,\tloss_y 1.4333, 1.4444, 0.0222,\tloss_eta 0.7605, 0.8011, 0.0812\n",
      "Epoch 500: loss 1.1516,\tloss_y 0.5795, 1.1412, 1.1234,\tloss_eta 0.5721, 1.0992, 1.0541\n",
      "Epoch 1000: loss 1.1296,\tloss_y 0.5622, 1.1260, 1.1274,\tloss_eta 0.5674, 1.1166, 1.0984\n"
     ]
    },
    {
     "name": "stderr",
     "output_type": "stream",
     "text": [
      " 93%|█████████▎| 28/30 [09:07<00:38, 19.11s/it]"
     ]
    },
    {
     "name": "stdout",
     "output_type": "stream",
     "text": [
      "Epoch 1500: loss 1.1206,\tloss_y 0.5597, 1.1289, 1.1385,\tloss_eta 0.5610, 1.1150, 1.1081\n",
      "Warning: covariate dimension does not aligned with the specified input dimension; filling in the remaining dimension with noise.\n",
      "Warning: covariate dimension does not aligned with the specified input dimension; filling in the remaining dimension with noise.\n",
      "1.8160504\n",
      "Epoch 1: loss 2.1115,\tloss_y 1.3249, 1.3658, 0.0817,\tloss_eta 0.7866, 0.8277, 0.0822\n",
      "Epoch 500: loss 1.1135,\tloss_y 0.5559, 1.1018, 1.0918,\tloss_eta 0.5576, 1.1121, 1.1091\n",
      "Epoch 1000: loss 1.1154,\tloss_y 0.5533, 1.0977, 1.0888,\tloss_eta 0.5621, 1.1050, 1.0859\n"
     ]
    },
    {
     "name": "stderr",
     "output_type": "stream",
     "text": [
      " 97%|█████████▋| 29/30 [09:26<00:19, 19.02s/it]"
     ]
    },
    {
     "name": "stdout",
     "output_type": "stream",
     "text": [
      "Epoch 1500: loss 1.0927,\tloss_y 0.5476, 1.0985, 1.1017,\tloss_eta 0.5451, 1.1097, 1.1294\n",
      "Warning: covariate dimension does not aligned with the specified input dimension; filling in the remaining dimension with noise.\n",
      "Warning: covariate dimension does not aligned with the specified input dimension; filling in the remaining dimension with noise.\n",
      "2.0624979\n",
      "Epoch 1: loss 2.2071,\tloss_y 1.4381, 1.4581, 0.0400,\tloss_eta 0.7690, 0.8075, 0.0770\n",
      "Epoch 500: loss 1.1456,\tloss_y 0.5693, 1.1421, 1.1457,\tloss_eta 0.5763, 1.0990, 1.0453\n",
      "Epoch 1000: loss 1.1343,\tloss_y 0.5631, 1.1368, 1.1475,\tloss_eta 0.5712, 1.1147, 1.0871\n"
     ]
    },
    {
     "name": "stderr",
     "output_type": "stream",
     "text": [
      "100%|██████████| 30/30 [09:44<00:00, 19.48s/it]\n"
     ]
    },
    {
     "name": "stdout",
     "output_type": "stream",
     "text": [
      "Epoch 1500: loss 1.1397,\tloss_y 0.5754, 1.1377, 1.1245,\tloss_eta 0.5643, 1.1207, 1.1128\n",
      "Warning: covariate dimension does not aligned with the specified input dimension; filling in the remaining dimension with noise.\n",
      "Warning: covariate dimension does not aligned with the specified input dimension; filling in the remaining dimension with noise.\n",
      "1.9504943\n",
      "Running experiments for strength_instr = 1.5\n"
     ]
    },
    {
     "name": "stderr",
     "output_type": "stream",
     "text": [
      "  0%|          | 0/30 [00:00<?, ?it/s]"
     ]
    },
    {
     "name": "stdout",
     "output_type": "stream",
     "text": [
      "Epoch 1: loss 2.1114,\tloss_y 1.3552, 1.3782, 0.0459,\tloss_eta 0.7562, 0.7969, 0.0814\n",
      "Epoch 500: loss 1.1485,\tloss_y 0.5728, 1.1406, 1.1356,\tloss_eta 0.5757, 1.1257, 1.1000\n",
      "Epoch 1000: loss 1.1299,\tloss_y 0.5643, 1.1341, 1.1398,\tloss_eta 0.5657, 1.1281, 1.1249\n"
     ]
    },
    {
     "name": "stderr",
     "output_type": "stream",
     "text": [
      "  3%|▎         | 1/30 [00:18<09:07, 18.88s/it]"
     ]
    },
    {
     "name": "stdout",
     "output_type": "stream",
     "text": [
      "Epoch 1500: loss 1.1467,\tloss_y 0.5658, 1.1361, 1.1405,\tloss_eta 0.5809, 1.1300, 1.0984\n",
      "Warning: covariate dimension does not aligned with the specified input dimension; filling in the remaining dimension with noise.\n",
      "Warning: covariate dimension does not aligned with the specified input dimension; filling in the remaining dimension with noise.\n",
      "2.00561\n",
      "Epoch 1: loss 2.0783,\tloss_y 1.3183, 1.3518, 0.0669,\tloss_eta 0.7600, 0.8003, 0.0807\n",
      "Epoch 500: loss 1.1311,\tloss_y 0.5767, 1.1420, 1.1307,\tloss_eta 0.5544, 1.1090, 1.1092\n",
      "Epoch 1000: loss 1.1360,\tloss_y 0.5756, 1.1468, 1.1425,\tloss_eta 0.5604, 1.1080, 1.0951\n"
     ]
    },
    {
     "name": "stderr",
     "output_type": "stream",
     "text": [
      "  7%|▋         | 2/30 [00:37<08:47, 18.82s/it]"
     ]
    },
    {
     "name": "stdout",
     "output_type": "stream",
     "text": [
      "Epoch 1500: loss 1.1314,\tloss_y 0.5661, 1.1320, 1.1318,\tloss_eta 0.5654, 1.1189, 1.1070\n",
      "Warning: covariate dimension does not aligned with the specified input dimension; filling in the remaining dimension with noise.\n",
      "Warning: covariate dimension does not aligned with the specified input dimension; filling in the remaining dimension with noise.\n",
      "1.9476007\n",
      "Epoch 1: loss 2.0894,\tloss_y 1.3356, 1.3523, 0.0333,\tloss_eta 0.7538, 0.8015, 0.0955\n",
      "Epoch 500: loss 1.1296,\tloss_y 0.5703, 1.1350, 1.1293,\tloss_eta 0.5592, 1.1043, 1.0901\n",
      "Epoch 1000: loss 1.1394,\tloss_y 0.5719, 1.1299, 1.1159,\tloss_eta 0.5675, 1.1218, 1.1087\n"
     ]
    },
    {
     "name": "stderr",
     "output_type": "stream",
     "text": [
      " 10%|█         | 3/30 [00:56<08:23, 18.63s/it]"
     ]
    },
    {
     "name": "stdout",
     "output_type": "stream",
     "text": [
      "Epoch 1500: loss 1.1134,\tloss_y 0.5548, 1.1208, 1.1320,\tloss_eta 0.5585, 1.1203, 1.1236\n",
      "Warning: covariate dimension does not aligned with the specified input dimension; filling in the remaining dimension with noise.\n",
      "Warning: covariate dimension does not aligned with the specified input dimension; filling in the remaining dimension with noise.\n",
      "1.7202361\n",
      "Epoch 1: loss 2.1987,\tloss_y 1.4275, 1.4415, 0.0280,\tloss_eta 0.7712, 0.8117, 0.0810\n",
      "Epoch 500: loss 1.1214,\tloss_y 0.5649, 1.1180, 1.1062,\tloss_eta 0.5565, 1.1123, 1.1116\n",
      "Epoch 1000: loss 1.1239,\tloss_y 0.5630, 1.1226, 1.1193,\tloss_eta 0.5610, 1.1184, 1.1149\n"
     ]
    },
    {
     "name": "stderr",
     "output_type": "stream",
     "text": [
      " 13%|█▎        | 4/30 [01:17<08:36, 19.86s/it]"
     ]
    },
    {
     "name": "stdout",
     "output_type": "stream",
     "text": [
      "Epoch 1500: loss 1.1323,\tloss_y 0.5642, 1.1295, 1.1306,\tloss_eta 0.5681, 1.1225, 1.1088\n",
      "Warning: covariate dimension does not aligned with the specified input dimension; filling in the remaining dimension with noise.\n",
      "Warning: covariate dimension does not aligned with the specified input dimension; filling in the remaining dimension with noise.\n",
      "2.0799105\n",
      "Epoch 1: loss 2.0914,\tloss_y 1.3224, 1.3553, 0.0658,\tloss_eta 0.7691, 0.8013, 0.0644\n",
      "Epoch 500: loss 1.1339,\tloss_y 0.5668, 1.1316, 1.1295,\tloss_eta 0.5671, 1.1190, 1.1039\n",
      "Epoch 1000: loss 1.1335,\tloss_y 0.5744, 1.1424, 1.1358,\tloss_eta 0.5590, 1.1088, 1.0995\n"
     ]
    },
    {
     "name": "stderr",
     "output_type": "stream",
     "text": [
      " 17%|█▋        | 5/30 [01:38<08:26, 20.28s/it]"
     ]
    },
    {
     "name": "stdout",
     "output_type": "stream",
     "text": [
      "Epoch 1500: loss 1.1544,\tloss_y 0.5725, 1.1376, 1.1302,\tloss_eta 0.5819, 1.1374, 1.1109\n",
      "Warning: covariate dimension does not aligned with the specified input dimension; filling in the remaining dimension with noise.\n",
      "Warning: covariate dimension does not aligned with the specified input dimension; filling in the remaining dimension with noise.\n",
      "1.8522171\n",
      "Epoch 1: loss 2.3221,\tloss_y 1.5571, 1.5738, 0.0332,\tloss_eta 0.7650, 0.8018, 0.0736\n",
      "Epoch 500: loss 1.1214,\tloss_y 0.5753, 1.1258, 1.1010,\tloss_eta 0.5462, 1.1048, 1.1173\n",
      "Epoch 1000: loss 1.1298,\tloss_y 0.5669, 1.1310, 1.1281,\tloss_eta 0.5628, 1.1102, 1.0948\n"
     ]
    },
    {
     "name": "stderr",
     "output_type": "stream",
     "text": [
      " 20%|██        | 6/30 [01:58<08:04, 20.19s/it]"
     ]
    },
    {
     "name": "stdout",
     "output_type": "stream",
     "text": [
      "Epoch 1500: loss 1.1303,\tloss_y 0.5623, 1.1249, 1.1253,\tloss_eta 0.5680, 1.1181, 1.1001\n",
      "Warning: covariate dimension does not aligned with the specified input dimension; filling in the remaining dimension with noise.\n",
      "Warning: covariate dimension does not aligned with the specified input dimension; filling in the remaining dimension with noise.\n",
      "2.1048074\n",
      "Epoch 1: loss 2.1084,\tloss_y 1.3475, 1.3669, 0.0387,\tloss_eta 0.7609, 0.8010, 0.0803\n",
      "Epoch 500: loss 1.1127,\tloss_y 0.5598, 1.1162, 1.1128,\tloss_eta 0.5529, 1.1070, 1.1082\n",
      "Epoch 1000: loss 1.1137,\tloss_y 0.5541, 1.1139, 1.1197,\tloss_eta 0.5596, 1.1161, 1.1129\n"
     ]
    },
    {
     "name": "stderr",
     "output_type": "stream",
     "text": [
      " 23%|██▎       | 7/30 [02:18<07:37, 19.90s/it]"
     ]
    },
    {
     "name": "stdout",
     "output_type": "stream",
     "text": [
      "Epoch 1500: loss 1.1225,\tloss_y 0.5536, 1.1070, 1.1068,\tloss_eta 0.5690, 1.1277, 1.1176\n",
      "Warning: covariate dimension does not aligned with the specified input dimension; filling in the remaining dimension with noise.\n",
      "Warning: covariate dimension does not aligned with the specified input dimension; filling in the remaining dimension with noise.\n",
      "1.9825238\n",
      "Epoch 1: loss 2.1803,\tloss_y 1.4201, 1.4566, 0.0731,\tloss_eta 0.7602, 0.7914, 0.0624\n",
      "Epoch 500: loss 1.1327,\tloss_y 0.5626, 1.1174, 1.1096,\tloss_eta 0.5701, 1.1205, 1.1008\n",
      "Epoch 1000: loss 1.1415,\tloss_y 0.5699, 1.1228, 1.1057,\tloss_eta 0.5716, 1.1283, 1.1135\n"
     ]
    },
    {
     "name": "stderr",
     "output_type": "stream",
     "text": [
      " 27%|██▋       | 8/30 [02:37<07:14, 19.74s/it]"
     ]
    },
    {
     "name": "stdout",
     "output_type": "stream",
     "text": [
      "Epoch 1500: loss 1.1140,\tloss_y 0.5480, 1.1173, 1.1386,\tloss_eta 0.5660, 1.1265, 1.1211\n",
      "Warning: covariate dimension does not aligned with the specified input dimension; filling in the remaining dimension with noise.\n",
      "Warning: covariate dimension does not aligned with the specified input dimension; filling in the remaining dimension with noise.\n",
      "2.061001\n",
      "Epoch 1: loss 2.0902,\tloss_y 1.3401, 1.3588, 0.0374,\tloss_eta 0.7501, 0.7914, 0.0826\n",
      "Epoch 500: loss 1.1429,\tloss_y 0.5792, 1.1338, 1.1093,\tloss_eta 0.5638, 1.1167, 1.1059\n",
      "Epoch 1000: loss 1.1338,\tloss_y 0.5727, 1.1448, 1.1442,\tloss_eta 0.5611, 1.1128, 1.1034\n"
     ]
    },
    {
     "name": "stderr",
     "output_type": "stream",
     "text": [
      " 30%|███       | 9/30 [02:57<06:54, 19.72s/it]"
     ]
    },
    {
     "name": "stdout",
     "output_type": "stream",
     "text": [
      "Epoch 1500: loss 1.1251,\tloss_y 0.5697, 1.1448, 1.1501,\tloss_eta 0.5554, 1.1122, 1.1136\n",
      "Warning: covariate dimension does not aligned with the specified input dimension; filling in the remaining dimension with noise.\n",
      "Warning: covariate dimension does not aligned with the specified input dimension; filling in the remaining dimension with noise.\n",
      "1.9717379\n",
      "Epoch 1: loss 2.1211,\tloss_y 1.3426, 1.3720, 0.0589,\tloss_eta 0.7786, 0.8181, 0.0792\n",
      "Epoch 500: loss 1.1286,\tloss_y 0.5641, 1.1155, 1.1027,\tloss_eta 0.5645, 1.1013, 1.0736\n",
      "Epoch 1000: loss 1.1110,\tloss_y 0.5614, 1.1212, 1.1195,\tloss_eta 0.5496, 1.1020, 1.1047\n"
     ]
    },
    {
     "name": "stderr",
     "output_type": "stream",
     "text": [
      " 33%|███▎      | 10/30 [03:16<06:30, 19.53s/it]"
     ]
    },
    {
     "name": "stdout",
     "output_type": "stream",
     "text": [
      "Epoch 1500: loss 1.1384,\tloss_y 0.5620, 1.1179, 1.1119,\tloss_eta 0.5764, 1.1289, 1.1050\n",
      "Warning: covariate dimension does not aligned with the specified input dimension; filling in the remaining dimension with noise.\n",
      "Warning: covariate dimension does not aligned with the specified input dimension; filling in the remaining dimension with noise.\n",
      "1.7527215\n",
      "Epoch 1: loss 2.1262,\tloss_y 1.3600, 1.3740, 0.0280,\tloss_eta 0.7662, 0.8038, 0.0752\n",
      "Epoch 500: loss 1.1522,\tloss_y 0.5781, 1.0702, 0.9842,\tloss_eta 0.5741, 1.1116, 1.0750\n",
      "Epoch 1000: loss 1.1256,\tloss_y 0.5683, 1.0841, 1.0317,\tloss_eta 0.5573, 1.1039, 1.0931\n"
     ]
    },
    {
     "name": "stderr",
     "output_type": "stream",
     "text": [
      " 37%|███▋      | 11/30 [03:35<06:10, 19.48s/it]"
     ]
    },
    {
     "name": "stdout",
     "output_type": "stream",
     "text": [
      "Epoch 1500: loss 1.1228,\tloss_y 0.5593, 1.0748, 1.0311,\tloss_eta 0.5635, 1.1123, 1.0975\n",
      "Warning: covariate dimension does not aligned with the specified input dimension; filling in the remaining dimension with noise.\n",
      "Warning: covariate dimension does not aligned with the specified input dimension; filling in the remaining dimension with noise.\n",
      "2.1631765\n",
      "Epoch 1: loss 2.2559,\tloss_y 1.4915, 1.5164, 0.0498,\tloss_eta 0.7644, 0.8005, 0.0722\n",
      "Epoch 500: loss 1.1469,\tloss_y 0.5808, 1.1325, 1.1032,\tloss_eta 0.5660, 1.1261, 1.1201\n",
      "Epoch 1000: loss 1.1314,\tloss_y 0.5656, 1.1308, 1.1304,\tloss_eta 0.5658, 1.1156, 1.0997\n"
     ]
    },
    {
     "name": "stderr",
     "output_type": "stream",
     "text": [
      " 40%|████      | 12/30 [03:55<05:51, 19.50s/it]"
     ]
    },
    {
     "name": "stdout",
     "output_type": "stream",
     "text": [
      "Epoch 1500: loss 1.1394,\tloss_y 0.5688, 1.1383, 1.1390,\tloss_eta 0.5705, 1.1289, 1.1167\n",
      "Warning: covariate dimension does not aligned with the specified input dimension; filling in the remaining dimension with noise.\n",
      "Warning: covariate dimension does not aligned with the specified input dimension; filling in the remaining dimension with noise.\n",
      "1.9735446\n",
      "Epoch 1: loss 2.1013,\tloss_y 1.3257, 1.3343, 0.0172,\tloss_eta 0.7756, 0.8107, 0.0703\n",
      "Epoch 500: loss 1.1374,\tloss_y 0.5659, 1.1202, 1.1086,\tloss_eta 0.5716, 1.1087, 1.0742\n",
      "Epoch 1000: loss 1.1370,\tloss_y 0.5697, 1.1350, 1.1307,\tloss_eta 0.5673, 1.1237, 1.1127\n"
     ]
    },
    {
     "name": "stderr",
     "output_type": "stream",
     "text": [
      " 43%|████▎     | 13/30 [04:14<05:31, 19.52s/it]"
     ]
    },
    {
     "name": "stdout",
     "output_type": "stream",
     "text": [
      "Epoch 1500: loss 1.1135,\tloss_y 0.5595, 1.1208, 1.1225,\tloss_eta 0.5540, 1.1132, 1.1185\n",
      "Warning: covariate dimension does not aligned with the specified input dimension; filling in the remaining dimension with noise.\n",
      "Warning: covariate dimension does not aligned with the specified input dimension; filling in the remaining dimension with noise.\n",
      "1.8436115\n",
      "Epoch 1: loss 2.1268,\tloss_y 1.3561, 1.4003, 0.0885,\tloss_eta 0.7707, 0.8090, 0.0766\n",
      "Epoch 500: loss 1.1292,\tloss_y 0.5662, 1.1222, 1.1120,\tloss_eta 0.5629, 1.1184, 1.1108\n",
      "Epoch 1000: loss 1.1029,\tloss_y 0.5510, 1.1128, 1.1237,\tloss_eta 0.5519, 1.1097, 1.1156\n"
     ]
    },
    {
     "name": "stderr",
     "output_type": "stream",
     "text": [
      " 47%|████▋     | 14/30 [04:33<05:10, 19.39s/it]"
     ]
    },
    {
     "name": "stdout",
     "output_type": "stream",
     "text": [
      "Epoch 1500: loss 1.1180,\tloss_y 0.5621, 1.1318, 1.1394,\tloss_eta 0.5559, 1.1136, 1.1154\n",
      "Warning: covariate dimension does not aligned with the specified input dimension; filling in the remaining dimension with noise.\n",
      "Warning: covariate dimension does not aligned with the specified input dimension; filling in the remaining dimension with noise.\n",
      "2.0366666\n",
      "Epoch 1: loss 2.1628,\tloss_y 1.3981, 1.4113, 0.0265,\tloss_eta 0.7647, 0.8182, 0.1069\n",
      "Epoch 500: loss 1.1093,\tloss_y 0.5626, 1.1175, 1.1097,\tloss_eta 0.5466, 1.1014, 1.1094\n",
      "Epoch 1000: loss 1.1418,\tloss_y 0.5754, 1.1228, 1.0950,\tloss_eta 0.5664, 1.1177, 1.1026\n"
     ]
    },
    {
     "name": "stderr",
     "output_type": "stream",
     "text": [
      " 50%|█████     | 15/30 [04:53<04:51, 19.40s/it]"
     ]
    },
    {
     "name": "stdout",
     "output_type": "stream",
     "text": [
      "Epoch 1500: loss 1.1242,\tloss_y 0.5564, 1.1191, 1.1252,\tloss_eta 0.5678, 1.1203, 1.1050\n",
      "Warning: covariate dimension does not aligned with the specified input dimension; filling in the remaining dimension with noise.\n",
      "Warning: covariate dimension does not aligned with the specified input dimension; filling in the remaining dimension with noise.\n",
      "2.1521282\n",
      "Epoch 1: loss 2.1037,\tloss_y 1.3414, 1.3636, 0.0444,\tloss_eta 0.7622, 0.8057, 0.0869\n",
      "Epoch 500: loss 1.1268,\tloss_y 0.5649, 1.1340, 1.1382,\tloss_eta 0.5619, 1.1145, 1.1053\n",
      "Epoch 1000: loss 1.1258,\tloss_y 0.5652, 1.1272, 1.1240,\tloss_eta 0.5606, 1.1183, 1.1155\n"
     ]
    },
    {
     "name": "stderr",
     "output_type": "stream",
     "text": [
      " 53%|█████▎    | 16/30 [05:12<04:31, 19.38s/it]"
     ]
    },
    {
     "name": "stdout",
     "output_type": "stream",
     "text": [
      "Epoch 1500: loss 1.1336,\tloss_y 0.5782, 1.1457, 1.1352,\tloss_eta 0.5554, 1.1176, 1.1244\n",
      "Warning: covariate dimension does not aligned with the specified input dimension; filling in the remaining dimension with noise.\n",
      "Warning: covariate dimension does not aligned with the specified input dimension; filling in the remaining dimension with noise.\n",
      "2.00676\n",
      "Epoch 1: loss 2.1659,\tloss_y 1.3912, 1.4095, 0.0366,\tloss_eta 0.7747, 0.8077, 0.0661\n",
      "Epoch 500: loss 1.1178,\tloss_y 0.5596, 1.1163, 1.1133,\tloss_eta 0.5582, 1.1142, 1.1120\n",
      "Epoch 1000: loss 1.1540,\tloss_y 0.5729, 1.1338, 1.1217,\tloss_eta 0.5811, 1.1329, 1.1035\n"
     ]
    },
    {
     "name": "stderr",
     "output_type": "stream",
     "text": [
      " 57%|█████▋    | 17/30 [05:31<04:10, 19.30s/it]"
     ]
    },
    {
     "name": "stdout",
     "output_type": "stream",
     "text": [
      "Epoch 1500: loss 1.1403,\tloss_y 0.5709, 1.1269, 1.1119,\tloss_eta 0.5693, 1.1235, 1.1083\n",
      "Warning: covariate dimension does not aligned with the specified input dimension; filling in the remaining dimension with noise.\n",
      "Warning: covariate dimension does not aligned with the specified input dimension; filling in the remaining dimension with noise.\n",
      "2.1959965\n",
      "Epoch 1: loss 2.1762,\tloss_y 1.4094, 1.4178, 0.0167,\tloss_eta 0.7668, 0.8013, 0.0690\n",
      "Epoch 500: loss 1.1145,\tloss_y 0.5617, 1.1153, 1.1073,\tloss_eta 0.5529, 1.0976, 1.0895\n",
      "Epoch 1000: loss 1.1178,\tloss_y 0.5603, 1.1094, 1.0981,\tloss_eta 0.5574, 1.1152, 1.1155\n"
     ]
    },
    {
     "name": "stderr",
     "output_type": "stream",
     "text": [
      " 60%|██████    | 18/30 [05:50<03:49, 19.11s/it]"
     ]
    },
    {
     "name": "stdout",
     "output_type": "stream",
     "text": [
      "Epoch 1500: loss 1.1313,\tloss_y 0.5583, 1.1164, 1.1161,\tloss_eta 0.5730, 1.1307, 1.1153\n",
      "Warning: covariate dimension does not aligned with the specified input dimension; filling in the remaining dimension with noise.\n",
      "Warning: covariate dimension does not aligned with the specified input dimension; filling in the remaining dimension with noise.\n",
      "1.9295285\n",
      "Epoch 1: loss 2.1134,\tloss_y 1.3441, 1.3551, 0.0221,\tloss_eta 0.7693, 0.8004, 0.0623\n",
      "Epoch 500: loss 1.1312,\tloss_y 0.5632, 1.1090, 1.0917,\tloss_eta 0.5680, 1.1146, 1.0933\n",
      "Epoch 1000: loss 1.1133,\tloss_y 0.5465, 1.1053, 1.1177,\tloss_eta 0.5668, 1.1163, 1.0990\n"
     ]
    },
    {
     "name": "stderr",
     "output_type": "stream",
     "text": [
      " 63%|██████▎   | 19/30 [06:09<03:28, 18.95s/it]"
     ]
    },
    {
     "name": "stdout",
     "output_type": "stream",
     "text": [
      "Epoch 1500: loss 1.1075,\tloss_y 0.5588, 1.1087, 1.0997,\tloss_eta 0.5486, 1.0953, 1.0934\n",
      "Warning: covariate dimension does not aligned with the specified input dimension; filling in the remaining dimension with noise.\n",
      "Warning: covariate dimension does not aligned with the specified input dimension; filling in the remaining dimension with noise.\n",
      "1.7691109\n",
      "Epoch 1: loss 2.1672,\tloss_y 1.4030, 1.4325, 0.0588,\tloss_eta 0.7642, 0.7972, 0.0659\n",
      "Epoch 500: loss 1.1180,\tloss_y 0.5669, 1.1241, 1.1144,\tloss_eta 0.5511, 1.1115, 1.1208\n",
      "Epoch 1000: loss 1.1514,\tloss_y 0.5790, 1.1521, 1.1462,\tloss_eta 0.5724, 1.1254, 1.1061\n"
     ]
    },
    {
     "name": "stderr",
     "output_type": "stream",
     "text": [
      " 67%|██████▋   | 20/30 [06:27<03:08, 18.90s/it]"
     ]
    },
    {
     "name": "stdout",
     "output_type": "stream",
     "text": [
      "Epoch 1500: loss 1.1417,\tloss_y 0.5791, 1.1489, 1.1395,\tloss_eta 0.5626, 1.1138, 1.1024\n",
      "Warning: covariate dimension does not aligned with the specified input dimension; filling in the remaining dimension with noise.\n",
      "Warning: covariate dimension does not aligned with the specified input dimension; filling in the remaining dimension with noise.\n",
      "1.9347628\n",
      "Epoch 1: loss 2.0888,\tloss_y 1.3081, 1.3412, 0.0662,\tloss_eta 0.7807, 0.8190, 0.0765\n",
      "Epoch 500: loss 1.1175,\tloss_y 0.5550, 1.1088, 1.1075,\tloss_eta 0.5624, 1.1072, 1.0896\n",
      "Epoch 1000: loss 1.1116,\tloss_y 0.5499, 1.1135, 1.1271,\tloss_eta 0.5616, 1.1200, 1.1168\n"
     ]
    },
    {
     "name": "stderr",
     "output_type": "stream",
     "text": [
      " 70%|███████   | 21/30 [06:45<02:47, 18.66s/it]"
     ]
    },
    {
     "name": "stdout",
     "output_type": "stream",
     "text": [
      "Epoch 1500: loss 1.1265,\tloss_y 0.5608, 1.1258, 1.1301,\tloss_eta 0.5658, 1.1218, 1.1120\n",
      "Warning: covariate dimension does not aligned with the specified input dimension; filling in the remaining dimension with noise.\n",
      "Warning: covariate dimension does not aligned with the specified input dimension; filling in the remaining dimension with noise.\n",
      "1.9576988\n",
      "Epoch 1: loss 2.1028,\tloss_y 1.3276, 1.3391, 0.0231,\tloss_eta 0.7752, 0.8063, 0.0622\n",
      "Epoch 500: loss 1.0961,\tloss_y 0.5512, 1.1113, 1.1203,\tloss_eta 0.5450, 1.0933, 1.0966\n",
      "Epoch 1000: loss 1.1153,\tloss_y 0.5552, 1.1183, 1.1262,\tloss_eta 0.5601, 1.1103, 1.1004\n"
     ]
    },
    {
     "name": "stderr",
     "output_type": "stream",
     "text": [
      " 73%|███████▎  | 22/30 [07:04<02:28, 18.51s/it]"
     ]
    },
    {
     "name": "stdout",
     "output_type": "stream",
     "text": [
      "Epoch 1500: loss 1.1051,\tloss_y 0.5454, 1.1072, 1.1237,\tloss_eta 0.5598, 1.1136, 1.1077\n",
      "Warning: covariate dimension does not aligned with the specified input dimension; filling in the remaining dimension with noise.\n",
      "Warning: covariate dimension does not aligned with the specified input dimension; filling in the remaining dimension with noise.\n",
      "1.9471933\n",
      "Epoch 1: loss 2.1795,\tloss_y 1.4252, 1.4328, 0.0151,\tloss_eta 0.7543, 0.7906, 0.0726\n",
      "Epoch 500: loss 1.1250,\tloss_y 0.5683, 1.1260, 1.1156,\tloss_eta 0.5567, 1.1081, 1.1028\n",
      "Epoch 1000: loss 1.1234,\tloss_y 0.5550, 1.1020, 1.0941,\tloss_eta 0.5684, 1.1119, 1.0870\n"
     ]
    },
    {
     "name": "stderr",
     "output_type": "stream",
     "text": [
      " 77%|███████▋  | 23/30 [07:22<02:09, 18.47s/it]"
     ]
    },
    {
     "name": "stdout",
     "output_type": "stream",
     "text": [
      "Epoch 1500: loss 1.1038,\tloss_y 0.5654, 1.1271, 1.1235,\tloss_eta 0.5384, 1.1013, 1.1257\n",
      "Warning: covariate dimension does not aligned with the specified input dimension; filling in the remaining dimension with noise.\n",
      "Warning: covariate dimension does not aligned with the specified input dimension; filling in the remaining dimension with noise.\n",
      "1.8405738\n",
      "Epoch 1: loss 2.2236,\tloss_y 1.4540, 1.4737, 0.0394,\tloss_eta 0.7697, 0.8084, 0.0774\n",
      "Epoch 500: loss 1.1290,\tloss_y 0.5561, 1.1270, 1.1419,\tloss_eta 0.5729, 1.1252, 1.1044\n",
      "Epoch 1000: loss 1.1136,\tloss_y 0.5582, 1.1330, 1.1494,\tloss_eta 0.5554, 1.1075, 1.1042\n"
     ]
    },
    {
     "name": "stderr",
     "output_type": "stream",
     "text": [
      " 80%|████████  | 24/30 [07:40<01:50, 18.49s/it]"
     ]
    },
    {
     "name": "stdout",
     "output_type": "stream",
     "text": [
      "Epoch 1500: loss 1.1393,\tloss_y 0.5826, 1.1517, 1.1382,\tloss_eta 0.5567, 1.1104, 1.1074\n",
      "Warning: covariate dimension does not aligned with the specified input dimension; filling in the remaining dimension with noise.\n",
      "Warning: covariate dimension does not aligned with the specified input dimension; filling in the remaining dimension with noise.\n",
      "2.1247146\n",
      "Epoch 1: loss 2.2156,\tloss_y 1.4521, 1.4743, 0.0445,\tloss_eta 0.7635, 0.8071, 0.0871\n",
      "Epoch 500: loss 1.1209,\tloss_y 0.5643, 1.1460, 1.1634,\tloss_eta 0.5566, 1.1091, 1.1050\n",
      "Epoch 1000: loss 1.1379,\tloss_y 0.5719, 1.1504, 1.1571,\tloss_eta 0.5660, 1.1236, 1.1150\n"
     ]
    },
    {
     "name": "stderr",
     "output_type": "stream",
     "text": [
      " 83%|████████▎ | 25/30 [07:59<01:32, 18.55s/it]"
     ]
    },
    {
     "name": "stdout",
     "output_type": "stream",
     "text": [
      "Epoch 1500: loss 1.1328,\tloss_y 0.5650, 1.1442, 1.1586,\tloss_eta 0.5679, 1.1246, 1.1134\n",
      "Warning: covariate dimension does not aligned with the specified input dimension; filling in the remaining dimension with noise.\n",
      "Warning: covariate dimension does not aligned with the specified input dimension; filling in the remaining dimension with noise.\n",
      "2.104722\n",
      "Epoch 1: loss 2.1776,\tloss_y 1.4143, 1.4259, 0.0231,\tloss_eta 0.7633, 0.7982, 0.0697\n",
      "Epoch 500: loss 1.1389,\tloss_y 0.5784, 1.1352, 1.1135,\tloss_eta 0.5604, 1.1009, 1.0809\n",
      "Epoch 1000: loss 1.1207,\tloss_y 0.5644, 1.1298, 1.1309,\tloss_eta 0.5564, 1.1134, 1.1141\n"
     ]
    },
    {
     "name": "stderr",
     "output_type": "stream",
     "text": [
      " 87%|████████▋ | 26/30 [08:18<01:14, 18.65s/it]"
     ]
    },
    {
     "name": "stdout",
     "output_type": "stream",
     "text": [
      "Epoch 1500: loss 1.1387,\tloss_y 0.5704, 1.1306, 1.1204,\tloss_eta 0.5683, 1.1223, 1.1078\n",
      "Warning: covariate dimension does not aligned with the specified input dimension; filling in the remaining dimension with noise.\n",
      "Warning: covariate dimension does not aligned with the specified input dimension; filling in the remaining dimension with noise.\n",
      "1.9061596\n",
      "Epoch 1: loss 2.0452,\tloss_y 1.2839, 1.3106, 0.0534,\tloss_eta 0.7612, 0.7974, 0.0723\n",
      "Epoch 500: loss 1.1338,\tloss_y 0.5644, 1.1273, 1.1257,\tloss_eta 0.5693, 1.1189, 1.0992\n",
      "Epoch 1000: loss 1.1314,\tloss_y 0.5611, 1.1124, 1.1026,\tloss_eta 0.5702, 1.1185, 1.0964\n"
     ]
    },
    {
     "name": "stderr",
     "output_type": "stream",
     "text": [
      " 90%|█████████ | 27/30 [08:37<00:56, 18.69s/it]"
     ]
    },
    {
     "name": "stdout",
     "output_type": "stream",
     "text": [
      "Epoch 1500: loss 1.1323,\tloss_y 0.5598, 1.1191, 1.1185,\tloss_eta 0.5724, 1.1266, 1.1084\n",
      "Warning: covariate dimension does not aligned with the specified input dimension; filling in the remaining dimension with noise.\n",
      "Warning: covariate dimension does not aligned with the specified input dimension; filling in the remaining dimension with noise.\n",
      "1.9854774\n",
      "Epoch 1: loss 2.1382,\tloss_y 1.3552, 1.3954, 0.0804,\tloss_eta 0.7830, 0.8176, 0.0691\n",
      "Epoch 500: loss 1.1397,\tloss_y 0.5635, 1.1223, 1.1176,\tloss_eta 0.5761, 1.1352, 1.1180\n",
      "Epoch 1000: loss 1.1227,\tloss_y 0.5596, 1.1223, 1.1255,\tloss_eta 0.5632, 1.1112, 1.0961\n"
     ]
    },
    {
     "name": "stderr",
     "output_type": "stream",
     "text": [
      " 93%|█████████▎| 28/30 [08:56<00:37, 18.76s/it]"
     ]
    },
    {
     "name": "stdout",
     "output_type": "stream",
     "text": [
      "Epoch 1500: loss 1.1205,\tloss_y 0.5584, 1.1248, 1.1328,\tloss_eta 0.5621, 1.1276, 1.1310\n",
      "Warning: covariate dimension does not aligned with the specified input dimension; filling in the remaining dimension with noise.\n",
      "Warning: covariate dimension does not aligned with the specified input dimension; filling in the remaining dimension with noise.\n",
      "1.9338155\n",
      "Epoch 1: loss 2.2301,\tloss_y 1.4681, 1.4917, 0.0472,\tloss_eta 0.7620, 0.8009, 0.0777\n",
      "Epoch 500: loss 1.1589,\tloss_y 0.5747, 1.1303, 1.1112,\tloss_eta 0.5843, 1.1095, 1.0506\n",
      "Epoch 1000: loss 1.1177,\tloss_y 0.5604, 1.1278, 1.1347,\tloss_eta 0.5573, 1.1066, 1.0985\n"
     ]
    },
    {
     "name": "stderr",
     "output_type": "stream",
     "text": [
      " 97%|█████████▋| 29/30 [09:14<00:18, 18.75s/it]"
     ]
    },
    {
     "name": "stdout",
     "output_type": "stream",
     "text": [
      "Epoch 1500: loss 1.1272,\tloss_y 0.5602, 1.1247, 1.1292,\tloss_eta 0.5670, 1.1245, 1.1149\n",
      "Warning: covariate dimension does not aligned with the specified input dimension; filling in the remaining dimension with noise.\n",
      "Warning: covariate dimension does not aligned with the specified input dimension; filling in the remaining dimension with noise.\n",
      "1.8879398\n",
      "Epoch 1: loss 2.0776,\tloss_y 1.3378, 1.3541, 0.0326,\tloss_eta 0.7398, 0.7994, 0.1192\n",
      "Epoch 500: loss 1.1123,\tloss_y 0.5469, 1.1175, 1.1413,\tloss_eta 0.5654, 1.1043, 1.0778\n",
      "Epoch 1000: loss 1.1304,\tloss_y 0.5586, 1.1094, 1.1015,\tloss_eta 0.5718, 1.1214, 1.0991\n"
     ]
    },
    {
     "name": "stderr",
     "output_type": "stream",
     "text": [
      "100%|██████████| 30/30 [09:33<00:00, 19.13s/it]\n"
     ]
    },
    {
     "name": "stdout",
     "output_type": "stream",
     "text": [
      "Epoch 1500: loss 1.1181,\tloss_y 0.5550, 1.1117, 1.1135,\tloss_eta 0.5632, 1.1147, 1.1031\n",
      "Warning: covariate dimension does not aligned with the specified input dimension; filling in the remaining dimension with noise.\n",
      "Warning: covariate dimension does not aligned with the specified input dimension; filling in the remaining dimension with noise.\n",
      "2.0335245\n",
      "Running experiments for strength_instr = 2.0\n"
     ]
    },
    {
     "name": "stderr",
     "output_type": "stream",
     "text": [
      "  0%|          | 0/30 [00:00<?, ?it/s]"
     ]
    },
    {
     "name": "stdout",
     "output_type": "stream",
     "text": [
      "Epoch 1: loss 2.1498,\tloss_y 1.3905, 1.4140, 0.0471,\tloss_eta 0.7594, 0.8003, 0.0819\n",
      "Epoch 500: loss 1.1267,\tloss_y 0.5588, 1.1165, 1.1155,\tloss_eta 0.5679, 1.1126, 1.0894\n",
      "Epoch 1000: loss 1.1241,\tloss_y 0.5630, 1.1247, 1.1235,\tloss_eta 0.5612, 1.1069, 1.0914\n"
     ]
    },
    {
     "name": "stderr",
     "output_type": "stream",
     "text": [
      "  3%|▎         | 1/30 [00:18<09:09, 18.96s/it]"
     ]
    },
    {
     "name": "stdout",
     "output_type": "stream",
     "text": [
      "Epoch 1500: loss 1.1358,\tloss_y 0.5660, 1.1353, 1.1385,\tloss_eta 0.5698, 1.1245, 1.1094\n",
      "Warning: covariate dimension does not aligned with the specified input dimension; filling in the remaining dimension with noise.\n",
      "Warning: covariate dimension does not aligned with the specified input dimension; filling in the remaining dimension with noise.\n",
      "2.1471348\n",
      "Epoch 1: loss 2.2518,\tloss_y 1.4874, 1.4961, 0.0172,\tloss_eta 0.7643, 0.8096, 0.0905\n",
      "Epoch 500: loss 1.1153,\tloss_y 0.5630, 1.1174, 1.1088,\tloss_eta 0.5523, 1.1089, 1.1132\n",
      "Epoch 1000: loss 1.1360,\tloss_y 0.5629, 1.1275, 1.1290,\tloss_eta 0.5731, 1.1205, 1.0948\n"
     ]
    },
    {
     "name": "stderr",
     "output_type": "stream",
     "text": [
      "  7%|▋         | 2/30 [00:37<08:50, 18.93s/it]"
     ]
    },
    {
     "name": "stdout",
     "output_type": "stream",
     "text": [
      "Epoch 1500: loss 1.1316,\tloss_y 0.5587, 1.1207, 1.1240,\tloss_eta 0.5729, 1.1271, 1.1084\n",
      "Warning: covariate dimension does not aligned with the specified input dimension; filling in the remaining dimension with noise.\n",
      "Warning: covariate dimension does not aligned with the specified input dimension; filling in the remaining dimension with noise.\n",
      "2.0331342\n",
      "Epoch 1: loss 2.1571,\tloss_y 1.3956, 1.4044, 0.0176,\tloss_eta 0.7615, 0.8105, 0.0979\n",
      "Epoch 500: loss 1.1323,\tloss_y 0.5700, 1.1346, 1.1293,\tloss_eta 0.5624, 1.1149, 1.1051\n",
      "Epoch 1000: loss 1.1331,\tloss_y 0.5688, 1.1263, 1.1151,\tloss_eta 0.5643, 1.1260, 1.1235\n"
     ]
    },
    {
     "name": "stderr",
     "output_type": "stream",
     "text": [
      " 10%|█         | 3/30 [00:56<08:29, 18.87s/it]"
     ]
    },
    {
     "name": "stdout",
     "output_type": "stream",
     "text": [
      "Epoch 1500: loss 1.1074,\tloss_y 0.5522, 1.1248, 1.1452,\tloss_eta 0.5553, 1.1059, 1.1013\n",
      "Warning: covariate dimension does not aligned with the specified input dimension; filling in the remaining dimension with noise.\n",
      "Warning: covariate dimension does not aligned with the specified input dimension; filling in the remaining dimension with noise.\n",
      "1.9669573\n",
      "Epoch 1: loss 2.1173,\tloss_y 1.3677, 1.3815, 0.0277,\tloss_eta 0.7496, 0.7756, 0.0521\n",
      "Epoch 500: loss 1.1365,\tloss_y 0.5721, 1.1365, 1.1287,\tloss_eta 0.5643, 1.1146, 1.1005\n",
      "Epoch 1000: loss 1.1292,\tloss_y 0.5766, 1.1337, 1.1142,\tloss_eta 0.5525, 1.1033, 1.1015\n"
     ]
    },
    {
     "name": "stderr",
     "output_type": "stream",
     "text": [
      " 13%|█▎        | 4/30 [01:15<08:15, 19.05s/it]"
     ]
    },
    {
     "name": "stdout",
     "output_type": "stream",
     "text": [
      "Epoch 1500: loss 1.1348,\tloss_y 0.5657, 1.1302, 1.1291,\tloss_eta 0.5691, 1.1167, 1.0952\n",
      "Warning: covariate dimension does not aligned with the specified input dimension; filling in the remaining dimension with noise.\n",
      "Warning: covariate dimension does not aligned with the specified input dimension; filling in the remaining dimension with noise.\n",
      "1.8827229\n",
      "Epoch 1: loss 2.1474,\tloss_y 1.3841, 1.3972, 0.0261,\tloss_eta 0.7633, 0.8015, 0.0765\n",
      "Epoch 500: loss 1.1115,\tloss_y 0.5543, 1.0981, 1.0878,\tloss_eta 0.5573, 1.1203, 1.1262\n",
      "Epoch 1000: loss 1.1166,\tloss_y 0.5479, 1.0933, 1.0909,\tloss_eta 0.5687, 1.1341, 1.1306\n"
     ]
    },
    {
     "name": "stderr",
     "output_type": "stream",
     "text": [
      " 17%|█▋        | 5/30 [01:34<07:54, 18.96s/it]"
     ]
    },
    {
     "name": "stdout",
     "output_type": "stream",
     "text": [
      "Epoch 1500: loss 1.1190,\tloss_y 0.5549, 1.0985, 1.0872,\tloss_eta 0.5641, 1.1204, 1.1126\n",
      "Warning: covariate dimension does not aligned with the specified input dimension; filling in the remaining dimension with noise.\n",
      "Warning: covariate dimension does not aligned with the specified input dimension; filling in the remaining dimension with noise.\n",
      "1.9982108\n",
      "Epoch 1: loss 2.0795,\tloss_y 1.3437, 1.3510, 0.0146,\tloss_eta 0.7357, 0.7975, 0.1235\n",
      "Epoch 500: loss 1.1365,\tloss_y 0.5624, 1.1143, 1.1038,\tloss_eta 0.5741, 1.1116, 1.0751\n",
      "Epoch 1000: loss 1.1075,\tloss_y 0.5426, 1.1076, 1.1301,\tloss_eta 0.5649, 1.1158, 1.1017\n"
     ]
    },
    {
     "name": "stderr",
     "output_type": "stream",
     "text": [
      " 20%|██        | 6/30 [01:53<07:31, 18.82s/it]"
     ]
    },
    {
     "name": "stdout",
     "output_type": "stream",
     "text": [
      "Epoch 1500: loss 1.1243,\tloss_y 0.5670, 1.1322, 1.1304,\tloss_eta 0.5573, 1.1112, 1.1077\n",
      "Warning: covariate dimension does not aligned with the specified input dimension; filling in the remaining dimension with noise.\n",
      "Warning: covariate dimension does not aligned with the specified input dimension; filling in the remaining dimension with noise.\n",
      "1.971937\n",
      "Epoch 1: loss 2.1465,\tloss_y 1.3778, 1.3923, 0.0289,\tloss_eta 0.7686, 0.8035, 0.0697\n",
      "Epoch 500: loss 1.1465,\tloss_y 0.5763, 1.1254, 1.0983,\tloss_eta 0.5702, 1.1234, 1.1065\n",
      "Epoch 1000: loss 1.1272,\tloss_y 0.5643, 1.1086, 1.0887,\tloss_eta 0.5629, 1.1236, 1.1213\n"
     ]
    },
    {
     "name": "stderr",
     "output_type": "stream",
     "text": [
      " 23%|██▎       | 7/30 [02:11<07:10, 18.73s/it]"
     ]
    },
    {
     "name": "stdout",
     "output_type": "stream",
     "text": [
      "Epoch 1500: loss 1.1383,\tloss_y 0.5689, 1.1298, 1.1218,\tloss_eta 0.5694, 1.1224, 1.1059\n",
      "Warning: covariate dimension does not aligned with the specified input dimension; filling in the remaining dimension with noise.\n",
      "Warning: covariate dimension does not aligned with the specified input dimension; filling in the remaining dimension with noise.\n",
      "1.8345413\n",
      "Epoch 1: loss 2.1622,\tloss_y 1.3870, 1.3982, 0.0225,\tloss_eta 0.7753, 0.8131, 0.0757\n",
      "Epoch 500: loss 1.1287,\tloss_y 0.5645, 1.1396, 1.1502,\tloss_eta 0.5642, 1.1200, 1.1115\n",
      "Epoch 1000: loss 1.1226,\tloss_y 0.5550, 1.1312, 1.1524,\tloss_eta 0.5676, 1.1207, 1.1062\n"
     ]
    },
    {
     "name": "stderr",
     "output_type": "stream",
     "text": [
      " 27%|██▋       | 8/30 [02:30<06:49, 18.63s/it]"
     ]
    },
    {
     "name": "stdout",
     "output_type": "stream",
     "text": [
      "Epoch 1500: loss 1.1265,\tloss_y 0.5600, 1.1214, 1.1229,\tloss_eta 0.5665, 1.1269, 1.1208\n",
      "Warning: covariate dimension does not aligned with the specified input dimension; filling in the remaining dimension with noise.\n",
      "Warning: covariate dimension does not aligned with the specified input dimension; filling in the remaining dimension with noise.\n",
      "1.9522616\n",
      "Epoch 1: loss 2.1374,\tloss_y 1.3675, 1.3850, 0.0351,\tloss_eta 0.7700, 0.8076, 0.0754\n",
      "Epoch 500: loss 1.1434,\tloss_y 0.5742, 1.1317, 1.1151,\tloss_eta 0.5692, 1.1202, 1.1020\n",
      "Epoch 1000: loss 1.1400,\tloss_y 0.5694, 1.1366, 1.1345,\tloss_eta 0.5706, 1.1306, 1.1200\n"
     ]
    },
    {
     "name": "stderr",
     "output_type": "stream",
     "text": [
      " 30%|███       | 9/30 [02:49<06:33, 18.73s/it]"
     ]
    },
    {
     "name": "stdout",
     "output_type": "stream",
     "text": [
      "Epoch 1500: loss 1.1542,\tloss_y 0.5823, 1.1449, 1.1253,\tloss_eta 0.5720, 1.1266, 1.1092\n",
      "Warning: covariate dimension does not aligned with the specified input dimension; filling in the remaining dimension with noise.\n",
      "Warning: covariate dimension does not aligned with the specified input dimension; filling in the remaining dimension with noise.\n",
      "1.9102184\n",
      "Epoch 1: loss 2.2299,\tloss_y 1.4503, 1.4657, 0.0308,\tloss_eta 0.7796, 0.8093, 0.0593\n",
      "Epoch 500: loss 1.1235,\tloss_y 0.5611, 1.1087, 1.0952,\tloss_eta 0.5624, 1.1149, 1.1049\n",
      "Epoch 1000: loss 1.1397,\tloss_y 0.5554, 1.1109, 1.1111,\tloss_eta 0.5843, 1.1311, 1.0935\n"
     ]
    },
    {
     "name": "stderr",
     "output_type": "stream",
     "text": [
      " 33%|███▎      | 10/30 [03:08<06:17, 18.88s/it]"
     ]
    },
    {
     "name": "stdout",
     "output_type": "stream",
     "text": [
      "Epoch 1500: loss 1.1128,\tloss_y 0.5538, 1.1058, 1.1041,\tloss_eta 0.5590, 1.1116, 1.1053\n",
      "Warning: covariate dimension does not aligned with the specified input dimension; filling in the remaining dimension with noise.\n",
      "Warning: covariate dimension does not aligned with the specified input dimension; filling in the remaining dimension with noise.\n",
      "2.0376055\n",
      "Epoch 1: loss 2.0913,\tloss_y 1.3219, 1.3488, 0.0538,\tloss_eta 0.7694, 0.8104, 0.0820\n",
      "Epoch 500: loss 1.1413,\tloss_y 0.5680, 1.1243, 1.1125,\tloss_eta 0.5733, 1.1075, 1.0684\n",
      "Epoch 1000: loss 1.1162,\tloss_y 0.5644, 1.1282, 1.1275,\tloss_eta 0.5518, 1.1079, 1.1122\n"
     ]
    },
    {
     "name": "stderr",
     "output_type": "stream",
     "text": [
      " 37%|███▋      | 11/30 [03:27<05:59, 18.92s/it]"
     ]
    },
    {
     "name": "stdout",
     "output_type": "stream",
     "text": [
      "Epoch 1500: loss 1.1164,\tloss_y 0.5514, 1.1214, 1.1400,\tloss_eta 0.5650, 1.1260, 1.1219\n",
      "Warning: covariate dimension does not aligned with the specified input dimension; filling in the remaining dimension with noise.\n",
      "Warning: covariate dimension does not aligned with the specified input dimension; filling in the remaining dimension with noise.\n",
      "1.9207643\n",
      "Epoch 1: loss 2.1332,\tloss_y 1.3659, 1.4108, 0.0899,\tloss_eta 0.7673, 0.8125, 0.0905\n",
      "Epoch 500: loss 1.1296,\tloss_y 0.5647, 1.1318, 1.1342,\tloss_eta 0.5649, 1.1092, 1.0887\n",
      "Epoch 1000: loss 1.1607,\tloss_y 0.5921, 1.1661, 1.1481,\tloss_eta 0.5686, 1.1169, 1.0966\n"
     ]
    },
    {
     "name": "stderr",
     "output_type": "stream",
     "text": [
      " 40%|████      | 12/30 [03:46<05:43, 19.08s/it]"
     ]
    },
    {
     "name": "stdout",
     "output_type": "stream",
     "text": [
      "Epoch 1500: loss 1.1389,\tloss_y 0.5701, 1.1432, 1.1462,\tloss_eta 0.5688, 1.1270, 1.1165\n",
      "Warning: covariate dimension does not aligned with the specified input dimension; filling in the remaining dimension with noise.\n",
      "Warning: covariate dimension does not aligned with the specified input dimension; filling in the remaining dimension with noise.\n",
      "1.9767598\n",
      "Epoch 1: loss 2.2032,\tloss_y 1.4387, 1.4507, 0.0241,\tloss_eta 0.7645, 0.8139, 0.0987\n",
      "Epoch 500: loss 1.1252,\tloss_y 0.5671, 1.1256, 1.1171,\tloss_eta 0.5581, 1.1180, 1.1197\n",
      "Epoch 1000: loss 1.1236,\tloss_y 0.5642, 1.1183, 1.1081,\tloss_eta 0.5593, 1.1177, 1.1167\n"
     ]
    },
    {
     "name": "stderr",
     "output_type": "stream",
     "text": [
      " 43%|████▎     | 13/30 [04:05<05:24, 19.06s/it]"
     ]
    },
    {
     "name": "stdout",
     "output_type": "stream",
     "text": [
      "Epoch 1500: loss 1.1139,\tloss_y 0.5472, 1.1221, 1.1498,\tloss_eta 0.5667, 1.1044, 1.0756\n",
      "Warning: covariate dimension does not aligned with the specified input dimension; filling in the remaining dimension with noise.\n",
      "Warning: covariate dimension does not aligned with the specified input dimension; filling in the remaining dimension with noise.\n",
      "1.4950923\n",
      "Epoch 1: loss 2.1126,\tloss_y 1.3404, 1.3544, 0.0280,\tloss_eta 0.7722, 0.8189, 0.0934\n",
      "Epoch 500: loss 1.1135,\tloss_y 0.5534, 1.1149, 1.1229,\tloss_eta 0.5601, 1.0972, 1.0743\n",
      "Epoch 1000: loss 1.1119,\tloss_y 0.5523, 1.1158, 1.1270,\tloss_eta 0.5596, 1.1052, 1.0913\n"
     ]
    },
    {
     "name": "stderr",
     "output_type": "stream",
     "text": [
      " 47%|████▋     | 14/30 [04:24<05:04, 19.05s/it]"
     ]
    },
    {
     "name": "stdout",
     "output_type": "stream",
     "text": [
      "Epoch 1500: loss 1.1382,\tloss_y 0.5646, 1.1277, 1.1262,\tloss_eta 0.5736, 1.1219, 1.0966\n",
      "Warning: covariate dimension does not aligned with the specified input dimension; filling in the remaining dimension with noise.\n",
      "Warning: covariate dimension does not aligned with the specified input dimension; filling in the remaining dimension with noise.\n",
      "1.9912573\n",
      "Epoch 1: loss 2.1330,\tloss_y 1.3480, 1.3612, 0.0265,\tloss_eta 0.7850, 0.8130, 0.0560\n",
      "Epoch 500: loss 1.1212,\tloss_y 0.5681, 1.1205, 1.1049,\tloss_eta 0.5532, 1.0960, 1.0857\n",
      "Epoch 1000: loss 1.1227,\tloss_y 0.5569, 1.1245, 1.1351,\tloss_eta 0.5658, 1.1100, 1.0885\n"
     ]
    },
    {
     "name": "stderr",
     "output_type": "stream",
     "text": [
      " 50%|█████     | 15/30 [04:43<04:45, 19.03s/it]"
     ]
    },
    {
     "name": "stdout",
     "output_type": "stream",
     "text": [
      "Epoch 1500: loss 1.1212,\tloss_y 0.5612, 1.1121, 1.1018,\tloss_eta 0.5599, 1.1102, 1.1006\n",
      "Warning: covariate dimension does not aligned with the specified input dimension; filling in the remaining dimension with noise.\n",
      "Warning: covariate dimension does not aligned with the specified input dimension; filling in the remaining dimension with noise.\n",
      "2.0112717\n",
      "Epoch 1: loss 2.2836,\tloss_y 1.5009, 1.5162, 0.0306,\tloss_eta 0.7826, 0.8285, 0.0918\n",
      "Epoch 500: loss 1.1380,\tloss_y 0.5729, 1.1469, 1.1480,\tloss_eta 0.5651, 1.1126, 1.0949\n",
      "Epoch 1000: loss 1.1593,\tloss_y 0.5812, 1.1548, 1.1472,\tloss_eta 0.5781, 1.1368, 1.1175\n"
     ]
    },
    {
     "name": "stderr",
     "output_type": "stream",
     "text": [
      " 53%|█████▎    | 16/30 [05:02<04:25, 18.96s/it]"
     ]
    },
    {
     "name": "stdout",
     "output_type": "stream",
     "text": [
      "Epoch 1500: loss 1.1193,\tloss_y 0.5700, 1.1460, 1.1521,\tloss_eta 0.5493, 1.1130, 1.1274\n",
      "Warning: covariate dimension does not aligned with the specified input dimension; filling in the remaining dimension with noise.\n",
      "Warning: covariate dimension does not aligned with the specified input dimension; filling in the remaining dimension with noise.\n",
      "1.7624785\n",
      "Epoch 1: loss 2.1751,\tloss_y 1.4030, 1.4219, 0.0378,\tloss_eta 0.7721, 0.8109, 0.0777\n",
      "Epoch 500: loss 1.1479,\tloss_y 0.5738, 1.1244, 1.1011,\tloss_eta 0.5741, 1.1233, 1.0983\n",
      "Epoch 1000: loss 1.1080,\tloss_y 0.5602, 1.1272, 1.1340,\tloss_eta 0.5478, 1.1030, 1.1104\n"
     ]
    },
    {
     "name": "stderr",
     "output_type": "stream",
     "text": [
      " 57%|█████▋    | 17/30 [05:21<04:05, 18.91s/it]"
     ]
    },
    {
     "name": "stdout",
     "output_type": "stream",
     "text": [
      "Epoch 1500: loss 1.1415,\tloss_y 0.5848, 1.1413, 1.1130,\tloss_eta 0.5567, 1.1134, 1.1133\n",
      "Warning: covariate dimension does not aligned with the specified input dimension; filling in the remaining dimension with noise.\n",
      "Warning: covariate dimension does not aligned with the specified input dimension; filling in the remaining dimension with noise.\n",
      "2.1187146\n",
      "Epoch 1: loss 2.2495,\tloss_y 1.4977, 1.5113, 0.0273,\tloss_eta 0.7518, 0.7981, 0.0925\n",
      "Epoch 500: loss 1.1295,\tloss_y 0.5744, 1.1336, 1.1184,\tloss_eta 0.5551, 1.1055, 1.1007\n",
      "Epoch 1000: loss 1.1549,\tloss_y 0.5708, 1.1367, 1.1318,\tloss_eta 0.5841, 1.1306, 1.0931\n"
     ]
    },
    {
     "name": "stderr",
     "output_type": "stream",
     "text": [
      " 60%|██████    | 18/30 [05:40<03:45, 18.82s/it]"
     ]
    },
    {
     "name": "stdout",
     "output_type": "stream",
     "text": [
      "Epoch 1500: loss 1.1257,\tloss_y 0.5680, 1.1401, 1.1442,\tloss_eta 0.5577, 1.1246, 1.1338\n",
      "Warning: covariate dimension does not aligned with the specified input dimension; filling in the remaining dimension with noise.\n",
      "Warning: covariate dimension does not aligned with the specified input dimension; filling in the remaining dimension with noise.\n",
      "1.886188\n",
      "Epoch 1: loss 2.0854,\tloss_y 1.3216, 1.3584, 0.0736,\tloss_eta 0.7638, 0.8011, 0.0746\n",
      "Epoch 500: loss 1.1097,\tloss_y 0.5473, 1.1105, 1.1265,\tloss_eta 0.5624, 1.1179, 1.1110\n",
      "Epoch 1000: loss 1.1249,\tloss_y 0.5628, 1.1121, 1.0988,\tloss_eta 0.5622, 1.1199, 1.1155\n"
     ]
    },
    {
     "name": "stderr",
     "output_type": "stream",
     "text": [
      " 63%|██████▎   | 19/30 [05:58<03:26, 18.75s/it]"
     ]
    },
    {
     "name": "stdout",
     "output_type": "stream",
     "text": [
      "Epoch 1500: loss 1.1223,\tloss_y 0.5583, 1.1150, 1.1134,\tloss_eta 0.5640, 1.1107, 1.0933\n",
      "Warning: covariate dimension does not aligned with the specified input dimension; filling in the remaining dimension with noise.\n",
      "Warning: covariate dimension does not aligned with the specified input dimension; filling in the remaining dimension with noise.\n",
      "2.0306957\n",
      "Epoch 1: loss 2.1023,\tloss_y 1.3405, 1.3640, 0.0470,\tloss_eta 0.7618, 0.7913, 0.0590\n",
      "Epoch 500: loss 1.1077,\tloss_y 0.5456, 1.0904, 1.0897,\tloss_eta 0.5622, 1.1019, 1.0795\n",
      "Epoch 1000: loss 1.1338,\tloss_y 0.5600, 1.1180, 1.1161,\tloss_eta 0.5739, 1.1183, 1.0888\n"
     ]
    },
    {
     "name": "stderr",
     "output_type": "stream",
     "text": [
      " 67%|██████▋   | 20/30 [06:18<03:10, 19.01s/it]"
     ]
    },
    {
     "name": "stdout",
     "output_type": "stream",
     "text": [
      "Epoch 1500: loss 1.1229,\tloss_y 0.5635, 1.1139, 1.1009,\tloss_eta 0.5594, 1.1139, 1.1090\n",
      "Warning: covariate dimension does not aligned with the specified input dimension; filling in the remaining dimension with noise.\n",
      "Warning: covariate dimension does not aligned with the specified input dimension; filling in the remaining dimension with noise.\n",
      "1.8079137\n",
      "Epoch 1: loss 2.0440,\tloss_y 1.2701, 1.3078, 0.0753,\tloss_eta 0.7738, 0.8049, 0.0622\n",
      "Epoch 500: loss 1.1088,\tloss_y 0.5493, 1.1019, 1.1052,\tloss_eta 0.5595, 1.1081, 1.0970\n",
      "Epoch 1000: loss 1.1065,\tloss_y 0.5499, 1.1090, 1.1181,\tloss_eta 0.5566, 1.1144, 1.1157\n"
     ]
    },
    {
     "name": "stderr",
     "output_type": "stream",
     "text": [
      " 70%|███████   | 21/30 [06:37<02:50, 18.91s/it]"
     ]
    },
    {
     "name": "stdout",
     "output_type": "stream",
     "text": [
      "Epoch 1500: loss 1.1370,\tloss_y 0.5690, 1.1135, 1.0892,\tloss_eta 0.5680, 1.1230, 1.1100\n",
      "Warning: covariate dimension does not aligned with the specified input dimension; filling in the remaining dimension with noise.\n",
      "Warning: covariate dimension does not aligned with the specified input dimension; filling in the remaining dimension with noise.\n",
      "2.0500126\n",
      "Epoch 1: loss 2.2106,\tloss_y 1.4517, 1.4644, 0.0255,\tloss_eta 0.7590, 0.7971, 0.0763\n",
      "Epoch 500: loss 1.1397,\tloss_y 0.5611, 1.1189, 1.1155,\tloss_eta 0.5786, 1.1180, 1.0789\n",
      "Epoch 1000: loss 1.1347,\tloss_y 0.5543, 1.1207, 1.1328,\tloss_eta 0.5804, 1.1268, 1.0927\n"
     ]
    },
    {
     "name": "stderr",
     "output_type": "stream",
     "text": [
      " 73%|███████▎  | 22/30 [06:55<02:29, 18.70s/it]"
     ]
    },
    {
     "name": "stdout",
     "output_type": "stream",
     "text": [
      "Epoch 1500: loss 1.1307,\tloss_y 0.5686, 1.1187, 1.1002,\tloss_eta 0.5621, 1.1106, 1.0971\n",
      "Warning: covariate dimension does not aligned with the specified input dimension; filling in the remaining dimension with noise.\n",
      "Warning: covariate dimension does not aligned with the specified input dimension; filling in the remaining dimension with noise.\n",
      "2.0340784\n",
      "Epoch 1: loss 2.1596,\tloss_y 1.4044, 1.4236, 0.0384,\tloss_eta 0.7552, 0.7931, 0.0758\n",
      "Epoch 500: loss 1.1315,\tloss_y 0.5584, 1.1143, 1.1117,\tloss_eta 0.5731, 1.1306, 1.1150\n",
      "Epoch 1000: loss 1.1336,\tloss_y 0.5610, 1.1197, 1.1174,\tloss_eta 0.5726, 1.1271, 1.1089\n"
     ]
    },
    {
     "name": "stderr",
     "output_type": "stream",
     "text": [
      " 77%|███████▋  | 23/30 [07:14<02:11, 18.74s/it]"
     ]
    },
    {
     "name": "stdout",
     "output_type": "stream",
     "text": [
      "Epoch 1500: loss 1.1219,\tloss_y 0.5655, 1.1284, 1.1258,\tloss_eta 0.5565, 1.1098, 1.1067\n",
      "Warning: covariate dimension does not aligned with the specified input dimension; filling in the remaining dimension with noise.\n",
      "Warning: covariate dimension does not aligned with the specified input dimension; filling in the remaining dimension with noise.\n",
      "1.8964714\n",
      "Epoch 1: loss 2.2024,\tloss_y 1.4263, 1.4582, 0.0638,\tloss_eta 0.7760, 0.8102, 0.0683\n",
      "Epoch 500: loss 1.1432,\tloss_y 0.5848, 1.1552, 1.1409,\tloss_eta 0.5584, 1.0981, 1.0795\n",
      "Epoch 1000: loss 1.1374,\tloss_y 0.5684, 1.1450, 1.1532,\tloss_eta 0.5690, 1.1295, 1.1210\n"
     ]
    },
    {
     "name": "stderr",
     "output_type": "stream",
     "text": [
      " 80%|████████  | 24/30 [07:32<01:52, 18.74s/it]"
     ]
    },
    {
     "name": "stdout",
     "output_type": "stream",
     "text": [
      "Epoch 1500: loss 1.1234,\tloss_y 0.5736, 1.1444, 1.1415,\tloss_eta 0.5498, 1.1045, 1.1094\n",
      "Warning: covariate dimension does not aligned with the specified input dimension; filling in the remaining dimension with noise.\n",
      "Warning: covariate dimension does not aligned with the specified input dimension; filling in the remaining dimension with noise.\n",
      "1.9704638\n",
      "Epoch 1: loss 2.2607,\tloss_y 1.4948, 1.5224, 0.0553,\tloss_eta 0.7658, 0.8015, 0.0712\n",
      "Epoch 500: loss 1.1040,\tloss_y 0.5480, 1.1111, 1.1262,\tloss_eta 0.5560, 1.0825, 1.0530\n",
      "Epoch 1000: loss 1.1250,\tloss_y 0.5600, 1.1214, 1.1228,\tloss_eta 0.5650, 1.1110, 1.0920\n"
     ]
    },
    {
     "name": "stderr",
     "output_type": "stream",
     "text": [
      " 83%|████████▎ | 25/30 [07:51<01:34, 18.86s/it]"
     ]
    },
    {
     "name": "stdout",
     "output_type": "stream",
     "text": [
      "Epoch 1500: loss 1.1273,\tloss_y 0.5723, 1.1310, 1.1173,\tloss_eta 0.5549, 1.1086, 1.1074\n",
      "Warning: covariate dimension does not aligned with the specified input dimension; filling in the remaining dimension with noise.\n",
      "Warning: covariate dimension does not aligned with the specified input dimension; filling in the remaining dimension with noise.\n",
      "1.723183\n",
      "Epoch 1: loss 2.1475,\tloss_y 1.3828, 1.3970, 0.0284,\tloss_eta 0.7647, 0.8020, 0.0745\n",
      "Epoch 500: loss 1.1255,\tloss_y 0.5608, 1.1216, 1.1217,\tloss_eta 0.5648, 1.1134, 1.0972\n",
      "Epoch 1000: loss 1.1486,\tloss_y 0.5678, 1.1269, 1.1182,\tloss_eta 0.5809, 1.1344, 1.1071\n"
     ]
    },
    {
     "name": "stderr",
     "output_type": "stream",
     "text": [
      " 87%|████████▋ | 26/30 [08:10<01:14, 18.72s/it]"
     ]
    },
    {
     "name": "stdout",
     "output_type": "stream",
     "text": [
      "Epoch 1500: loss 1.1213,\tloss_y 0.5662, 1.1331, 1.1337,\tloss_eta 0.5551, 1.1127, 1.1153\n",
      "Warning: covariate dimension does not aligned with the specified input dimension; filling in the remaining dimension with noise.\n",
      "Warning: covariate dimension does not aligned with the specified input dimension; filling in the remaining dimension with noise.\n",
      "1.9587079\n",
      "Epoch 1: loss 2.1414,\tloss_y 1.3628, 1.3911, 0.0566,\tloss_eta 0.7786, 0.8141, 0.0709\n",
      "Epoch 500: loss 1.1207,\tloss_y 0.5681, 1.1356, 1.1349,\tloss_eta 0.5526, 1.1078, 1.1103\n",
      "Epoch 1000: loss 1.1316,\tloss_y 0.5613, 1.1209, 1.1192,\tloss_eta 0.5704, 1.1210, 1.1012\n"
     ]
    },
    {
     "name": "stderr",
     "output_type": "stream",
     "text": [
      " 90%|█████████ | 27/30 [08:29<00:56, 18.77s/it]"
     ]
    },
    {
     "name": "stdout",
     "output_type": "stream",
     "text": [
      "Epoch 1500: loss 1.1447,\tloss_y 0.5806, 1.1384, 1.1156,\tloss_eta 0.5641, 1.1277, 1.1274\n",
      "Warning: covariate dimension does not aligned with the specified input dimension; filling in the remaining dimension with noise.\n",
      "Warning: covariate dimension does not aligned with the specified input dimension; filling in the remaining dimension with noise.\n",
      "1.9342217\n",
      "Epoch 1: loss 2.2138,\tloss_y 1.4560, 1.4674, 0.0226,\tloss_eta 0.7577, 0.7888, 0.0621\n",
      "Epoch 500: loss 1.1094,\tloss_y 0.5669, 1.1104, 1.0869,\tloss_eta 0.5424, 1.0980, 1.1111\n",
      "Epoch 1000: loss 1.1104,\tloss_y 0.5520, 1.1051, 1.1062,\tloss_eta 0.5584, 1.1134, 1.1101\n"
     ]
    },
    {
     "name": "stderr",
     "output_type": "stream",
     "text": [
      " 93%|█████████▎| 28/30 [08:48<00:37, 18.77s/it]"
     ]
    },
    {
     "name": "stdout",
     "output_type": "stream",
     "text": [
      "Epoch 1500: loss 1.1113,\tloss_y 0.5459, 1.1023, 1.1128,\tloss_eta 0.5654, 1.1261, 1.1215\n",
      "Warning: covariate dimension does not aligned with the specified input dimension; filling in the remaining dimension with noise.\n",
      "Warning: covariate dimension does not aligned with the specified input dimension; filling in the remaining dimension with noise.\n",
      "2.0048232\n",
      "Epoch 1: loss 2.0653,\tloss_y 1.3048, 1.3333, 0.0569,\tloss_eta 0.7605, 0.7999, 0.0789\n",
      "Epoch 500: loss 1.1118,\tloss_y 0.5528, 1.1050, 1.1044,\tloss_eta 0.5590, 1.1135, 1.1089\n",
      "Epoch 1000: loss 1.1349,\tloss_y 0.5690, 1.1228, 1.1077,\tloss_eta 0.5659, 1.1182, 1.1047\n"
     ]
    },
    {
     "name": "stderr",
     "output_type": "stream",
     "text": [
      " 97%|█████████▋| 29/30 [09:06<00:18, 18.68s/it]"
     ]
    },
    {
     "name": "stdout",
     "output_type": "stream",
     "text": [
      "Epoch 1500: loss 1.1269,\tloss_y 0.5739, 1.1257, 1.1036,\tloss_eta 0.5529, 1.1126, 1.1192\n",
      "Warning: covariate dimension does not aligned with the specified input dimension; filling in the remaining dimension with noise.\n",
      "Warning: covariate dimension does not aligned with the specified input dimension; filling in the remaining dimension with noise.\n",
      "1.9694912\n",
      "Epoch 1: loss 2.2218,\tloss_y 1.4531, 1.4651, 0.0240,\tloss_eta 0.7687, 0.8029, 0.0682\n",
      "Epoch 500: loss 1.1113,\tloss_y 0.5662, 1.1233, 1.1143,\tloss_eta 0.5451, 1.1011, 1.1120\n",
      "Epoch 1000: loss 1.1131,\tloss_y 0.5482, 1.1057, 1.1150,\tloss_eta 0.5648, 1.1141, 1.0985\n"
     ]
    },
    {
     "name": "stderr",
     "output_type": "stream",
     "text": [
      "100%|██████████| 30/30 [09:25<00:00, 18.86s/it]"
     ]
    },
    {
     "name": "stdout",
     "output_type": "stream",
     "text": [
      "Epoch 1500: loss 1.1265,\tloss_y 0.5605, 1.1125, 1.1041,\tloss_eta 0.5660, 1.1188, 1.1056\n",
      "Warning: covariate dimension does not aligned with the specified input dimension; filling in the remaining dimension with noise.\n",
      "Warning: covariate dimension does not aligned with the specified input dimension; filling in the remaining dimension with noise.\n",
      "1.7995434\n"
     ]
    },
    {
     "name": "stderr",
     "output_type": "stream",
     "text": [
      "\n"
     ]
    }
   ],
   "source": [
    "nrep = 30  # Number of repetitions\n",
    "n_tr = 5000  # Training sample size\n",
    "n_val = 400\n",
    "n_te = 400  # Testing sample size\n",
    "strength_instr_values = np.arange(0,2.5,0.5)  # Varying strength of instrumental variables\n",
    "nI = 5 # Fixed number of instrumental variables\n",
    "nX = 5\n",
    "nO = 0\n",
    "nS = 0\n",
    "binary_intervention = True\n",
    "num_iters = 1500 # Fixed number of training iterations\n",
    "ate = 2\n",
    "strength_conf = 1\n",
    "strength_outcome = 0\n",
    "\n",
    "# Initialize tracker for strength_instr\n",
    "# tracker = {strength_instr: {\"fr\": [], \"dr\": [], \"causalegm\":[], \"tarnet\":[], \"cfrnet\":[], \"cevae\":[], \"dragonnet\":[]}\n",
    "#            for strength_instr in strength_instr_values}\n",
    "# tracker = {strength_instr: {\"fr\": [], \"dr\": [], \"causalegm\":[], \"dragonnet\":[]}\n",
    "#     for strength_instr in strength_instr_values}\n",
    "for strength_instr in strength_instr_values:\n",
    "    tracker[strength_instr][\"fr\"] = []\n",
    "# best_hps = {model: None for model in [\"tarnet\",\"cfrnet\",\"cevae\",\"dragonnet\"]}\n",
    "best_hps = {model: None for model in [\"dragonnet\"]}\n",
    "# Begin loop over strength_instr\n",
    "for strength_instr in strength_instr_values:\n",
    "    print(f\"Running experiments for strength_instr = {strength_instr}\")\n",
    "    p = nI + nX + nO + nS  # Update the number of covariates\n",
    "    \n",
    "    for rep in tqdm(range(nrep)):\n",
    "        # Generate training and testing data\n",
    "        df_tr = generate_data_causl(n=n_tr, nI=nI, nX=nX, nO=nO, nS=nS, ate=ate, \n",
    "                                    beta_cov=beta_cov, strength_instr=strength_instr, \n",
    "                                    strength_conf=strength_conf, \n",
    "                                    strength_outcome=strength_outcome, \n",
    "                                    binary_intervention=binary_intervention)\n",
    "        z_tr = torch.tensor(df_tr[[f\"X{i}\" for i in range(1, p + 1)]].values, dtype=torch.float32)\n",
    "        x_tr = torch.tensor(df_tr['A'].values, dtype=torch.int32).view(-1, 1) if binary_intervention else \\\n",
    "            torch.tensor(df_tr['A'].values, dtype=torch.float32).view(-1, 1)\n",
    "        y_tr = torch.tensor(df_tr['y'].values, dtype=torch.float32).view(-1, 1)\n",
    "        \n",
    "        z_tr_np = df_tr[[f\"X{i}\" for i in range(1, p + 1)]].values\n",
    "        x_tr_np = df_tr['A'].values\n",
    "        y_tr_np = df_tr['y'].values\n",
    "\n",
    "        df_val = generate_data_causl(n=n_val, nI=nI, nX=nX, nO=nO, nS=nS, ate=ate, \n",
    "                                    beta_cov=beta_cov, strength_instr=strength_instr, \n",
    "                                    strength_conf=strength_conf, \n",
    "                                    strength_outcome=strength_outcome, \n",
    "                                    binary_intervention=binary_intervention)\n",
    "\n",
    "\n",
    "        z_val_np = df_val[[f\"X{i}\" for i in range(1, p + 1)]].values\n",
    "        x_val_np = df_val['A'].values\n",
    "        y_val_np = df_val['y'].values\n",
    "\n",
    "        df_te = generate_data_causl(n=n_te, nI=nI, nX=nX, nO=nO, nS=nS, ate=ate, \n",
    "                                    beta_cov=beta_cov, strength_instr=strength_instr, \n",
    "                                    strength_conf=strength_conf, \n",
    "                                    strength_outcome=strength_outcome, \n",
    "                                    binary_intervention=binary_intervention)\n",
    "\n",
    "        z_te_np = df_te[[f\"X{i}\" for i in range(1, p + 1)]].values\n",
    "        x_te_np = df_te['A'].values\n",
    "        y_te_np = df_te['y'].values\n",
    "        z_te = torch.tensor(z_te_np, dtype=torch.float32)\n",
    "\n",
    "        model = Frengression(x_dim = x_tr.shape[1], y_dim = 1, z_dim =z_tr.shape[1], \n",
    "                             noise_dim=1, num_layer=3, hidden_dim=100, \n",
    "                             device=device, x_binary=binary_intervention, z_binary_dims=0)\n",
    "\n",
    "        # Train Frengression model\n",
    "        model.train_y(x=x_tr,\n",
    "                      z=z_tr, \n",
    "                      y=y_tr, \n",
    "                      num_iters=num_iters, lr=1e-4, print_every_iter=500, tol=0)\n",
    "\n",
    "        # Sample model distributions\n",
    "        P0 = model.sample_causal_margin(torch.tensor([0], dtype=torch.int32), sample_size=n_te).numpy().reshape(-1, 1)\n",
    "        P1 = model.sample_causal_margin(torch.tensor([1], dtype=torch.int32), sample_size=n_te).numpy().reshape(-1, 1)\n",
    "        ate_fr = np.mean(P1) - np.mean(P0)\n",
    "        print(ate_fr)\n",
    "\n",
    "        # DR Estimation\n",
    "        ate_dr, _ = dr_ate(x_tr_np, y_tr_np, z_tr_np ,x_te_np, y_te_np, z_te_np)\n",
    "\n",
    "        # for model in [\"tarnet\",\"cfrnet\",\"cevae\",\"dragonnet\"]:\n",
    "        for model in [\"dragonnet\"]:\n",
    "            if rep == 0:\n",
    "                ite, best_hps[model] = tune_and_eval(\n",
    "                    model,\n",
    "                    z_tr_np, x_tr_np, y_tr_np,\n",
    "                    z_val_np, x_val_np, y_val_np,\n",
    "                    z_te_np, x_te_np,y_te_np,\n",
    "                    provided_params=None,\n",
    "                    n_trials=5\n",
    "                )\n",
    "            else:\n",
    "                ite = tune_and_eval(\n",
    "                    model,\n",
    "                    z_tr_np, x_tr_np, y_tr_np,\n",
    "                    z_val_np, x_val_np, y_val_np,\n",
    "                    z_te_np, x_te_np,y_te_np,\n",
    "                    provided_params=best_hps[model]\n",
    "                )\n",
    "            tracker[strength_instr][model].append(ite.mean())\n",
    "\n",
    "\n",
    "        cegm_params = {'dataset': 'Semi_acic', \n",
    "                        'output_dir': '.', \n",
    "                        'v_dim': z_tr.shape[1], \n",
    "                        'z_dims': [1, 1, 1, 1], \n",
    "                        'lr': 0.0002, \n",
    "                        'alpha': 1, \n",
    "                        'beta': 1, \n",
    "                        'gamma': 10, \n",
    "                        'g_d_freq': 5, \n",
    "                        'g_units': [64, 64, 64, 64, 64], \n",
    "                        'e_units': [64, 64, 64, 64, 64], \n",
    "                        'f_units': [64, 32, 8], \n",
    "                        'h_units': [64, 32, 8], \n",
    "                        'dz_units': [64, 32, 8], \n",
    "                        'dv_units': [64, 32, 8], 'save_res': False, 'save_model': False, 'binary_treatment': True, 'use_z_rec': True, 'use_v_gan': True}\n",
    "        egm_model = cegm.CausalEGM(params=cegm_params, random_seed=42)\n",
    "        egm_model.train(data=[x_tr,y_tr,z_tr],n_iter=500, verbose=False)\n",
    "        ate_causalegm=egm_model.getCATE(z_te).mean()\n",
    "\n",
    "        # Log results\n",
    "        tracker[strength_instr][\"fr\"].append(ate_fr)\n",
    "        tracker[strength_instr][\"dr\"].append(ate_dr)\n",
    "        tracker[strength_instr][\"causalegm\"].append(ate_causalegm)\n",
    "    \n",
    "        "
   ]
  },
  {
   "cell_type": "code",
   "execution_count": null,
   "id": "4dd4b73d",
   "metadata": {},
   "outputs": [],
   "source": [
    "import json\n",
    "output_dir = \"result/binary/revised\"\n",
    "os.makedirs(output_dir, exist_ok=True)\n",
    "tracker_serializable = {\n",
    "    str(k): [float(x) for x in v_dict.get(\"fr\",[])] \n",
    "              + []  # (we'll overwrite below) \n",
    "    for k, v_dict in tracker.items()\n",
    "}\n",
    "# actually build full dict:\n",
    "tracker_serializable = {\n",
    "    str(k): {\n",
    "        model: [float(x) for x in v_list]\n",
    "        for model, v_list in v_dict.items()\n",
    "    }\n",
    "    for k, v_dict in tracker.items()\n",
    "}\n",
    "\n",
    "# 3) write it out\n",
    "with open(os.path.join(output_dir, \"synthetic_1k.json\"), \"w\") as f:\n",
    "    json.dump(tracker_serializable, f, indent=4)\n"
   ]
  },
  {
   "cell_type": "markdown",
   "id": "351bf788",
   "metadata": {},
   "source": [
    "## IHDP"
   ]
  },
  {
   "cell_type": "code",
   "execution_count": null,
   "id": "7324f605",
   "metadata": {},
   "outputs": [],
   "source": [
    "# Experiment parameters\n",
    "binary_intervention = True\n",
    "num_iters = 400\n",
    "p = 25\n",
    "z_binary_dims = 19\n",
    "path = '/Users/linyingyang/Documents/Project/frengression/frengression/data_causl'\n",
    "\n",
    "# Initialize tracker for valid trials\n",
    "\n",
    "valid_trials = 0\n",
    "max_trials = 50  # We want results from 50 valid trials\n",
    "trial = 0\n",
    "\n",
    "\n",
    "tracker = {\"fr\": [], \"dr\": [], \"causalegm\":[], \"tarnet\":[], \"cfrnet\":[], \"cevae\":[], \"dragonnet\":[]}\n",
    "best_hps = {model: None for model in [\"tarnet\",\"cfrnet\",\"cevae\",\"dragonnet\"]}\n",
    "\n",
    "while valid_trials < max_trials:\n",
    "    print(f\"Checking trial = {trial}\")\n",
    "    df_tr, df_te = process_data(path=path, trial=trial)\n",
    "\n",
    "    # Skip this trial if any y_factual in df_tr exceeds 20\n",
    "    if (df_tr['y_factual'] > 20).any():\n",
    "        print(f\"Skipping trial {trial} because y_factual > 20\")\n",
    "        trial += 1\n",
    "        continue\n",
    "\n",
    "    print(f\"Running on valid trial = {trial}\")\n",
    "    \n",
    "    # Prepare tensors for training\n",
    "    z_tr = torch.tensor(df_tr[[f\"X{i}\" for i in range(1, p + 1)]].values, dtype=torch.float32)\n",
    "    x_tr = torch.tensor(df_tr['treatment'].values, dtype=torch.float32).view(-1, 1)\n",
    "    y_tr = torch.tensor(df_tr['y_factual'].values, dtype=torch.float32).view(-1, 1)\n",
    "    ate_sample = torch.tensor(np.mean(df_tr['mu1'].values - df_tr['mu0'].values), dtype=torch.float32).view(-1, 1)\n",
    "    \n",
    "    # DR ATE estimation\n",
    "    z_tr_np = df_tr[[f\"X{i}\" for i in range(1, p + 1)]].values\n",
    "    x_tr_np = df_tr['treatment'].values\n",
    "    y_tr_np = df_tr['y_factual'].values\n",
    "\n",
    "    z_te_np = df_te[[f\"X{i}\" for i in range(1, p + 1)]].values\n",
    "    z_te = torch.tensor(df_te[[f\"X{i}\" for i in range(1, p + 1)]].values, dtype=torch.float32)\n",
    "    x_te_np = df_te['treatment'].values\n",
    "    y_te_np = df_te['y_factual'].values\n",
    "    hat_dr, _ = dr_ate(x_tr_np, y_tr_np, z_tr_np, x_te_np, y_te_np, z_te_np)\n",
    "\n",
    "    # Initialize Frengression model\n",
    "    model = Frengression(x_tr.shape[1], y_tr.shape[1], z_tr.shape[1], \n",
    "                        noise_dim=1, num_layer=3, hidden_dim=400, \n",
    "                        device=torch.device('cuda' if torch.cuda.is_available() else 'cpu'),\n",
    "                        x_binary=binary_intervention, z_binary_dims=19)\n",
    "\n",
    "\n",
    "    model.train_y(x_tr, z_tr, y_tr, num_iters=1000, lr=1e-3, print_every_iter=100,tol=0.01)\n",
    "\n",
    "\n",
    "    # Sample model distributions\n",
    "    P0 = model.predict_causal(torch.tensor([0], dtype=torch.int32), sample_size=1000).numpy()\n",
    "    P1 = model.sample_causal_margin(torch.tensor([1], dtype=torch.int32), sample_size=1000).numpy().reshape(-1, 1)\n",
    "    ate_fr = np.mean(P1) - np.mean(P0)\n",
    "    # ate_fr = cross_fit_frengression(df_tr, binary_intervention, p, outcome_reg=False, k_folds=5, num_iters=1000, lr=1e-4, sample_size=1000)['ATE']\n",
    "\n",
    "\n",
    "    # DR Estimation\n",
    "    ate_dr, _ = dr_ate(x_tr_np, y_tr_np, z_tr_np ,x_te_np, y_te_np, z_te_np)\n",
    "\n",
    "    for model in [\"tarnet\",\"cfrnet\",\"cevae\",\"dragonnet\"]:\n",
    "        if valid_trials == 0:\n",
    "            ite, best_hps[model] = tune_and_eval(\n",
    "                model,\n",
    "                z_tr_np, x_tr_np, y_tr_np,\n",
    "                z_tr_np, x_tr_np, y_tr_np,\n",
    "                z_te_np, x_te_np,y_te_np,\n",
    "                provided_params=None,\n",
    "                n_trials=20\n",
    "            )\n",
    "        else:\n",
    "            ite = tune_and_eval(\n",
    "                model,\n",
    "                z_tr_np, x_tr_np, y_tr_np,\n",
    "                z_tr_np, x_tr_np, y_tr_np,\n",
    "                z_te_np, x_te_np,y_te_np,\n",
    "                provided_params=best_hps[model]\n",
    "            )\n",
    "        tracker[model].append(ite.mean())\n",
    "\n",
    "\n",
    "    cegm_params = {'dataset': 'Semi_acic', \n",
    "                    'output_dir': '.', \n",
    "                    'v_dim': z_tr.shape[1], \n",
    "                    'z_dims': [1, 1, 1, 1], \n",
    "                    'lr': 0.0002, \n",
    "                    'alpha': 1, \n",
    "                    'beta': 1, \n",
    "                    'gamma': 10, \n",
    "                    'g_d_freq': 5, \n",
    "                    'g_units': [64, 64, 64, 64, 64], \n",
    "                    'e_units': [64, 64, 64, 64, 64], \n",
    "                    'f_units': [64, 32, 8], \n",
    "                    'h_units': [64, 32, 8], \n",
    "                    'dz_units': [64, 32, 8], \n",
    "                    'dv_units': [64, 32, 8], 'save_res': False, 'save_model': False, 'binary_treatment': True, 'use_z_rec': True, 'use_v_gan': True}\n",
    "    egm_model = cegm.CausalEGM(params=cegm_params, random_seed=42)\n",
    "    egm_model.train(data=[x_tr,y_tr,z_tr],n_iter=800, verbose=False)\n",
    "    ate_causalegm=egm_model.getCATE(z_te).mean()\n",
    "    tracker['causalegm'].append(ate_causalegm)\n",
    "    tracker['fr'].append(ate_fr)\n",
    "    tracker['dr'].append(ate_dr)\n",
    "\n",
    "    # Increment valid trials counter and move to the next trial\n",
    "    valid_trials += 1\n",
    "    trial += 1\n",
    "\n"
   ]
  },
  {
   "cell_type": "code",
   "execution_count": 64,
   "id": "f99be780",
   "metadata": {},
   "outputs": [],
   "source": [
    "with open(\"result/binary/ihdp.json\") as f:\n",
    "    tracker = json.load(f)\n",
    "tracker['fr']=[]"
   ]
  },
  {
   "cell_type": "code",
   "execution_count": null,
   "id": "ff01a94b",
   "metadata": {},
   "outputs": [
    {
     "name": "stdout",
     "output_type": "stream",
     "text": [
      "Checking trial = 0\n",
      "Running on valid trial = 0\n",
      "Epoch 1: loss 3.9659,\tloss_y 3.2338, 3.2551, 0.0426,\tloss_eta 0.7321, 0.7668, 0.0694\n",
      "Epoch 100: loss 2.8799,\tloss_y 2.2394, 2.3399, 0.2011,\tloss_eta 0.6406, 0.8964, 0.5116\n",
      "Epoch 200: loss 1.9928,\tloss_y 1.4301, 1.7187, 0.5773,\tloss_eta 0.5627, 1.1311, 1.1366\n",
      "Epoch 300: loss 1.6769,\tloss_y 1.0910, 1.5754, 0.9688,\tloss_eta 0.5859, 1.1977, 1.2237\n",
      "Epoch 400: loss 1.2964,\tloss_y 0.7605, 1.4700, 1.4190,\tloss_eta 0.5359, 1.1598, 1.2478\n",
      "Stopping at iter 415: |Δy|=-5.5755e-03, |Δη|=5.0390e-04\n",
      "Warning: covariate dimension does not aligned with the specified input dimension; filling in the remaining dimension with noise.\n",
      "Warning: covariate dimension does not aligned with the specified input dimension; filling in the remaining dimension with noise.\n",
      "Checking trial = 1\n",
      "Running on valid trial = 1\n",
      "Epoch 1: loss 5.7983,\tloss_y 5.0226, 5.0274, 0.0097,\tloss_eta 0.7757, 0.8035, 0.0557\n",
      "Epoch 100: loss 4.8229,\tloss_y 4.1664, 4.2421, 0.1514,\tloss_eta 0.6565, 0.9025, 0.4919\n",
      "Epoch 200: loss 3.0994,\tloss_y 2.3220, 2.5430, 0.4420,\tloss_eta 0.7774, 1.3782, 1.2018\n",
      "Epoch 300: loss 1.7793,\tloss_y 1.1709, 1.7361, 1.1305,\tloss_eta 0.6085, 1.2079, 1.1987\n",
      "Epoch 400: loss 1.3686,\tloss_y 0.7819, 1.5014, 1.4392,\tloss_eta 0.5868, 1.1808, 1.1881\n",
      "Stopping at iter 423: |Δy|=-6.2706e-03, |Δη|=8.9276e-03\n",
      "Warning: covariate dimension does not aligned with the specified input dimension; filling in the remaining dimension with noise.\n",
      "Warning: covariate dimension does not aligned with the specified input dimension; filling in the remaining dimension with noise.\n",
      "Checking trial = 2\n",
      "Running on valid trial = 2\n",
      "Epoch 1: loss 4.7789,\tloss_y 3.9998, 4.0091, 0.0186,\tloss_eta 0.7791, 0.7967, 0.0352\n",
      "Epoch 100: loss 3.9057,\tloss_y 3.2466, 3.3685, 0.2439,\tloss_eta 0.6591, 0.8678, 0.4174\n",
      "Epoch 200: loss 2.2549,\tloss_y 1.4661, 1.7327, 0.5332,\tloss_eta 0.7888, 1.5149, 1.4522\n",
      "Epoch 300: loss 1.6233,\tloss_y 1.0108, 1.5161, 1.0108,\tloss_eta 0.6126, 1.3421, 1.4591\n",
      "Epoch 400: loss 1.3231,\tloss_y 0.7590, 1.4550, 1.3920,\tloss_eta 0.5641, 1.1846, 1.2410\n",
      "Stopping at iter 444: |Δy|=4.7960e-03, |Δη|=6.4862e-03\n",
      "Warning: covariate dimension does not aligned with the specified input dimension; filling in the remaining dimension with noise.\n",
      "Warning: covariate dimension does not aligned with the specified input dimension; filling in the remaining dimension with noise.\n",
      "Checking trial = 3\n",
      "Running on valid trial = 3\n",
      "Epoch 1: loss 9.5123,\tloss_y 8.7483, 8.7605, 0.0245,\tloss_eta 0.7640, 0.7917, 0.0553\n",
      "Epoch 100: loss 8.4780,\tloss_y 7.8490, 7.9573, 0.2164,\tloss_eta 0.6289, 0.8428, 0.4278\n",
      "Epoch 200: loss 5.4599,\tloss_y 4.3078, 4.6120, 0.6083,\tloss_eta 1.1520, 1.9076, 1.5111\n",
      "Epoch 300: loss 2.9390,\tloss_y 1.9144, 3.0076, 2.1865,\tloss_eta 1.0246, 2.1874, 2.3257\n",
      "Epoch 400: loss 2.1674,\tloss_y 1.3911, 2.8245, 2.8668,\tloss_eta 0.7763, 1.8182, 2.0837\n",
      "Epoch 500: loss 1.7173,\tloss_y 1.0072, 2.4343, 2.8540,\tloss_eta 0.7101, 1.4432, 1.4661\n",
      "Epoch 600: loss 1.5243,\tloss_y 0.8777, 2.1622, 2.5690,\tloss_eta 0.6466, 1.2821, 1.2709\n",
      "Epoch 700: loss 1.4146,\tloss_y 0.8017, 1.9244, 2.2453,\tloss_eta 0.6129, 1.1446, 1.0633\n",
      "Epoch 800: loss 1.3486,\tloss_y 0.7599, 1.8365, 2.1533,\tloss_eta 0.5887, 1.0713, 0.9651\n",
      "Epoch 900: loss 1.3051,\tloss_y 0.7085, 1.6326, 1.8483,\tloss_eta 0.5967, 1.0770, 0.9607\n",
      "Epoch 1000: loss 1.3064,\tloss_y 0.6988, 1.6753, 1.9529,\tloss_eta 0.6075, 1.0516, 0.8882\n",
      "Warning: covariate dimension does not aligned with the specified input dimension; filling in the remaining dimension with noise.\n",
      "Warning: covariate dimension does not aligned with the specified input dimension; filling in the remaining dimension with noise.\n",
      "Checking trial = 4\n",
      "Running on valid trial = 4\n",
      "Epoch 1: loss 8.6509,\tloss_y 7.8616, 7.8965, 0.0698,\tloss_eta 0.7893, 0.8086, 0.0387\n",
      "Epoch 100: loss 7.8817,\tloss_y 7.2579, 7.3160, 0.1162,\tloss_eta 0.6238, 0.8111, 0.3745\n",
      "Epoch 200: loss 6.1340,\tloss_y 5.5818, 5.7584, 0.3533,\tloss_eta 0.5522, 1.2972, 1.4900\n",
      "Epoch 300: loss 3.3313,\tloss_y 2.4877, 3.2265, 1.4776,\tloss_eta 0.8436, 2.3087, 2.9303\n",
      "Epoch 400: loss 2.5023,\tloss_y 1.6702, 3.0034, 2.6664,\tloss_eta 0.8321, 2.0079, 2.3517\n",
      "Epoch 500: loss 1.9960,\tloss_y 1.3739, 2.9011, 3.0545,\tloss_eta 0.6221, 1.6105, 1.9769\n",
      "Epoch 600: loss 1.8178,\tloss_y 1.1995, 2.5787, 2.7584,\tloss_eta 0.6183, 1.4891, 1.7415\n",
      "Epoch 700: loss 1.7509,\tloss_y 1.1378, 2.4155, 2.5555,\tloss_eta 0.6131, 1.3650, 1.5037\n",
      "Epoch 800: loss 1.5209,\tloss_y 0.9440, 2.1997, 2.5114,\tloss_eta 0.5769, 1.2700, 1.3861\n",
      "Epoch 900: loss 1.5262,\tloss_y 0.9916, 2.0985, 2.2138,\tloss_eta 0.5346, 1.1897, 1.3102\n",
      "Epoch 1000: loss 1.4461,\tloss_y 0.8517, 1.8978, 2.0922,\tloss_eta 0.5944, 1.1825, 1.1762\n",
      "Warning: covariate dimension does not aligned with the specified input dimension; filling in the remaining dimension with noise.\n",
      "Warning: covariate dimension does not aligned with the specified input dimension; filling in the remaining dimension with noise.\n",
      "Checking trial = 5\n",
      "Running on valid trial = 5\n",
      "Epoch 1: loss 3.8684,\tloss_y 3.1204, 3.1286, 0.0165,\tloss_eta 0.7480, 0.7686, 0.0412\n",
      "Epoch 100: loss 2.9367,\tloss_y 2.2852, 2.3890, 0.2077,\tloss_eta 0.6515, 0.8309, 0.3588\n",
      "Epoch 200: loss 2.1028,\tloss_y 1.5633, 1.7866, 0.4466,\tloss_eta 0.5395, 1.0340, 0.9891\n",
      "Epoch 300: loss 1.8614,\tloss_y 1.2728, 1.6194, 0.6932,\tloss_eta 0.5886, 1.1132, 1.0492\n",
      "Epoch 400: loss 1.5120,\tloss_y 0.9453, 1.4175, 0.9445,\tloss_eta 0.5667, 1.1628, 1.1921\n",
      "Epoch 500: loss 1.2635,\tloss_y 0.6556, 1.2736, 1.2358,\tloss_eta 0.6079, 1.2239, 1.2320\n",
      "Stopping at iter 557: |Δy|=-4.0023e-03, |Δη|=4.2186e-03\n",
      "Warning: covariate dimension does not aligned with the specified input dimension; filling in the remaining dimension with noise.\n",
      "Warning: covariate dimension does not aligned with the specified input dimension; filling in the remaining dimension with noise.\n",
      "Checking trial = 6\n",
      "Running on valid trial = 6\n",
      "Epoch 1: loss 3.0157,\tloss_y 2.2125, 2.2292, 0.0334,\tloss_eta 0.8032, 0.8284, 0.0503\n",
      "Epoch 100: loss 2.1928,\tloss_y 1.5614, 1.6692, 0.2156,\tloss_eta 0.6315, 0.8304, 0.3978\n",
      "Epoch 200: loss 1.7181,\tloss_y 1.1392, 1.3226, 0.3668,\tloss_eta 0.5790, 1.0903, 1.0226\n",
      "Epoch 300: loss 1.4641,\tloss_y 0.8978, 1.2171, 0.6385,\tloss_eta 0.5662, 1.1358, 1.1391\n",
      "Epoch 400: loss 1.2391,\tloss_y 0.6495, 1.1492, 0.9994,\tloss_eta 0.5895, 1.1477, 1.1163\n",
      "Stopping at iter 454: |Δy|=-3.6234e-03, |Δη|=-4.2360e-03\n",
      "Warning: covariate dimension does not aligned with the specified input dimension; filling in the remaining dimension with noise.\n",
      "Warning: covariate dimension does not aligned with the specified input dimension; filling in the remaining dimension with noise.\n",
      "Checking trial = 7\n",
      "Running on valid trial = 7\n",
      "Epoch 1: loss 6.1319,\tloss_y 5.3164, 5.3452, 0.0575,\tloss_eta 0.8155, 0.8497, 0.0685\n",
      "Epoch 100: loss 5.1603,\tloss_y 4.4968, 4.5782, 0.1628,\tloss_eta 0.6634, 0.9003, 0.4737\n",
      "Epoch 200: loss 3.3601,\tloss_y 2.7186, 2.9812, 0.5251,\tloss_eta 0.6415, 1.4103, 1.5375\n",
      "Epoch 300: loss 2.1538,\tloss_y 1.4667, 2.0711, 1.2087,\tloss_eta 0.6870, 1.3873, 1.4004\n",
      "Epoch 400: loss 1.6066,\tloss_y 0.9929, 1.8151, 1.6446,\tloss_eta 0.6137, 1.2381, 1.2488\n",
      "Stopping at iter 460: |Δy|=-8.0386e-03, |Δη|=-3.8576e-03\n",
      "Warning: covariate dimension does not aligned with the specified input dimension; filling in the remaining dimension with noise.\n",
      "Warning: covariate dimension does not aligned with the specified input dimension; filling in the remaining dimension with noise.\n",
      "Checking trial = 8\n",
      "Skipping trial 8 because y_factual > 20\n",
      "Checking trial = 9\n",
      "Skipping trial 9 because y_factual > 20\n",
      "Checking trial = 10\n",
      "Skipping trial 10 because y_factual > 20\n",
      "Checking trial = 11\n",
      "Skipping trial 11 because y_factual > 20\n",
      "Checking trial = 12\n",
      "Skipping trial 12 because y_factual > 20\n",
      "Checking trial = 13\n",
      "Running on valid trial = 13\n",
      "Epoch 1: loss 4.0254,\tloss_y 3.2141, 3.2490, 0.0697,\tloss_eta 0.8113, 0.8458, 0.0689\n",
      "Epoch 100: loss 2.9510,\tloss_y 2.3138, 2.4266, 0.2256,\tloss_eta 0.6372, 0.8943, 0.5142\n",
      "Epoch 200: loss 1.8015,\tloss_y 1.2366, 1.5111, 0.5490,\tloss_eta 0.5649, 1.1965, 1.2632\n",
      "Epoch 300: loss 1.4623,\tloss_y 0.9147, 1.3547, 0.8801,\tloss_eta 0.5477, 1.1432, 1.1910\n",
      "Epoch 400: loss 1.3217,\tloss_y 0.7493, 1.2917, 1.0850,\tloss_eta 0.5724, 1.1690, 1.1931\n",
      "Epoch 500: loss 1.3124,\tloss_y 0.7189, 1.2651, 1.0925,\tloss_eta 0.5935, 1.2257, 1.2645\n",
      "Epoch 600: loss 1.1676,\tloss_y 0.5935, 1.1661, 1.1452,\tloss_eta 0.5742, 1.1695, 1.1906\n",
      "Stopping at iter 610: |Δy|=-7.8869e-04, |Δη|=-6.6428e-03\n",
      "Warning: covariate dimension does not aligned with the specified input dimension; filling in the remaining dimension with noise.\n",
      "Warning: covariate dimension does not aligned with the specified input dimension; filling in the remaining dimension with noise.\n",
      "Checking trial = 14\n",
      "Skipping trial 14 because y_factual > 20\n",
      "Checking trial = 15\n",
      "Running on valid trial = 15\n",
      "Epoch 1: loss 5.6734,\tloss_y 4.9170, 4.9532, 0.0724,\tloss_eta 0.7564, 0.7831, 0.0533\n",
      "Epoch 100: loss 4.6942,\tloss_y 4.1280, 4.2048, 0.1535,\tloss_eta 0.5661, 0.8365, 0.5406\n",
      "Epoch 200: loss 2.7324,\tloss_y 1.9173, 2.2333, 0.6319,\tloss_eta 0.8151, 1.7083, 1.7864\n",
      "Epoch 300: loss 1.8390,\tloss_y 1.1045, 1.9128, 1.6166,\tloss_eta 0.7345, 1.5601, 1.6511\n",
      "Epoch 400: loss 1.5120,\tloss_y 0.8811, 1.7632, 1.7643,\tloss_eta 0.6309, 1.3153, 1.3688\n",
      "Epoch 500: loss 1.3366,\tloss_y 0.7428, 1.5237, 1.5618,\tloss_eta 0.5938, 1.1641, 1.1405\n",
      "Stopping at iter 515: |Δy|=3.7204e-03, |Δη|=5.2649e-03\n",
      "Warning: covariate dimension does not aligned with the specified input dimension; filling in the remaining dimension with noise.\n",
      "Warning: covariate dimension does not aligned with the specified input dimension; filling in the remaining dimension with noise.\n",
      "Checking trial = 16\n",
      "Skipping trial 16 because y_factual > 20\n",
      "Checking trial = 17\n",
      "Skipping trial 17 because y_factual > 20\n",
      "Checking trial = 18\n",
      "Skipping trial 18 because y_factual > 20\n",
      "Checking trial = 19\n",
      "Running on valid trial = 19\n",
      "Epoch 1: loss 4.5419,\tloss_y 3.7771, 3.8064, 0.0587,\tloss_eta 0.7648, 0.7856, 0.0415\n",
      "Epoch 100: loss 3.4311,\tloss_y 2.7280, 2.8411, 0.2262,\tloss_eta 0.7031, 0.8890, 0.3719\n",
      "Epoch 200: loss 2.3938,\tloss_y 1.7820, 2.0554, 0.5469,\tloss_eta 0.6119, 0.9244, 0.6251\n",
      "Epoch 300: loss 1.6750,\tloss_y 1.0715, 1.6884, 1.2337,\tloss_eta 0.6035, 1.1842, 1.1614\n",
      "Epoch 400: loss 1.4001,\tloss_y 0.8659, 1.5664, 1.4011,\tloss_eta 0.5342, 1.1234, 1.1783\n",
      "Stopping at iter 416: |Δy|=-3.7622e-04, |Δη|=2.7438e-03\n",
      "Warning: covariate dimension does not aligned with the specified input dimension; filling in the remaining dimension with noise.\n",
      "Warning: covariate dimension does not aligned with the specified input dimension; filling in the remaining dimension with noise.\n",
      "Checking trial = 20\n",
      "Skipping trial 20 because y_factual > 20\n",
      "Checking trial = 21\n",
      "Running on valid trial = 21\n",
      "Epoch 1: loss 4.6936,\tloss_y 3.9266, 3.9579, 0.0626,\tloss_eta 0.7670, 0.7937, 0.0535\n",
      "Epoch 100: loss 3.6457,\tloss_y 3.0568, 3.1878, 0.2621,\tloss_eta 0.5890, 0.8446, 0.5113\n",
      "Epoch 200: loss 2.0806,\tloss_y 1.4480, 1.8065, 0.7170,\tloss_eta 0.6326, 1.5068, 1.7484\n",
      "Epoch 300: loss 1.6381,\tloss_y 1.0497, 1.6614, 1.2234,\tloss_eta 0.5884, 1.4257, 1.6745\n",
      "Epoch 400: loss 1.4317,\tloss_y 0.8737, 1.5762, 1.4049,\tloss_eta 0.5580, 1.2716, 1.4273\n",
      "Epoch 500: loss 1.3128,\tloss_y 0.7450, 1.4306, 1.3713,\tloss_eta 0.5678, 1.2422, 1.3487\n",
      "Epoch 600: loss 1.2235,\tloss_y 0.6660, 1.3470, 1.3620,\tloss_eta 0.5576, 1.1957, 1.2763\n",
      "Stopping at iter 601: |Δy|=-1.2052e-04, |Δη|=5.9488e-03\n",
      "Warning: covariate dimension does not aligned with the specified input dimension; filling in the remaining dimension with noise.\n",
      "Warning: covariate dimension does not aligned with the specified input dimension; filling in the remaining dimension with noise.\n",
      "Checking trial = 22\n",
      "Skipping trial 22 because y_factual > 20\n",
      "Checking trial = 23\n",
      "Skipping trial 23 because y_factual > 20\n",
      "Checking trial = 24\n",
      "Skipping trial 24 because y_factual > 20\n",
      "Checking trial = 25\n",
      "Skipping trial 25 because y_factual > 20\n",
      "Checking trial = 26\n",
      "Running on valid trial = 26\n",
      "Epoch 1: loss 6.7493,\tloss_y 5.9850, 5.9925, 0.0150,\tloss_eta 0.7643, 0.7900, 0.0514\n",
      "Epoch 100: loss 5.7766,\tloss_y 5.1287, 5.2308, 0.2043,\tloss_eta 0.6479, 0.8749, 0.4539\n",
      "Epoch 200: loss 3.4974,\tloss_y 2.4064, 2.9890, 1.1652,\tloss_eta 1.0910, 1.8708, 1.5597\n",
      "Epoch 300: loss 2.1467,\tloss_y 1.4330, 2.6548, 2.4435,\tloss_eta 0.7136, 1.7212, 2.0150\n",
      "Epoch 400: loss 1.7394,\tloss_y 1.0772, 2.3382, 2.5220,\tloss_eta 0.6622, 1.5297, 1.7350\n",
      "Epoch 500: loss 1.5175,\tloss_y 0.9228, 1.9795, 2.1133,\tloss_eta 0.5946, 1.2744, 1.3596\n",
      "Epoch 600: loss 1.3733,\tloss_y 0.7685, 1.7282, 1.9193,\tloss_eta 0.6048, 1.1643, 1.1190\n",
      "Epoch 700: loss 1.2835,\tloss_y 0.7347, 1.5110, 1.5525,\tloss_eta 0.5488, 1.0766, 1.0557\n",
      "Epoch 800: loss 1.2153,\tloss_y 0.6402, 1.3926, 1.5047,\tloss_eta 0.5751, 1.0438, 0.9375\n",
      "Epoch 900: loss 1.2141,\tloss_y 0.6142, 1.3480, 1.4675,\tloss_eta 0.5999, 1.0669, 0.9341\n",
      "Epoch 1000: loss 1.1589,\tloss_y 0.5736, 1.3159, 1.4845,\tloss_eta 0.5852, 1.0378, 0.9052\n",
      "Warning: covariate dimension does not aligned with the specified input dimension; filling in the remaining dimension with noise.\n",
      "Warning: covariate dimension does not aligned with the specified input dimension; filling in the remaining dimension with noise.\n",
      "Checking trial = 27\n",
      "Skipping trial 27 because y_factual > 20\n",
      "Checking trial = 28\n",
      "Skipping trial 28 because y_factual > 20\n",
      "Checking trial = 29\n",
      "Skipping trial 29 because y_factual > 20\n",
      "Checking trial = 30\n",
      "Skipping trial 30 because y_factual > 20\n",
      "Checking trial = 31\n",
      "Running on valid trial = 31\n",
      "Epoch 1: loss 5.7217,\tloss_y 4.9202, 4.9295, 0.0187,\tloss_eta 0.8015, 0.8285, 0.0540\n",
      "Epoch 100: loss 4.6809,\tloss_y 4.0315, 4.1525, 0.2420,\tloss_eta 0.6494, 0.8980, 0.4972\n",
      "Epoch 200: loss 2.5007,\tloss_y 1.8347, 2.2226, 0.7760,\tloss_eta 0.6660, 1.5635, 1.7951\n",
      "Epoch 300: loss 1.6565,\tloss_y 1.0404, 1.8223, 1.5638,\tloss_eta 0.6161, 1.5786, 1.9250\n",
      "Epoch 400: loss 1.4194,\tloss_y 0.8215, 1.6626, 1.6822,\tloss_eta 0.5979, 1.3511, 1.5063\n",
      "Epoch 500: loss 1.3826,\tloss_y 0.7956, 1.6004, 1.6095,\tloss_eta 0.5870, 1.2487, 1.3234\n",
      "Epoch 600: loss 1.2636,\tloss_y 0.6677, 1.5139, 1.6924,\tloss_eta 0.5959, 1.2160, 1.2400\n",
      "Stopping at iter 620: |Δy|=-3.3110e-03, |Δη|=7.2876e-03\n",
      "Warning: covariate dimension does not aligned with the specified input dimension; filling in the remaining dimension with noise.\n",
      "Warning: covariate dimension does not aligned with the specified input dimension; filling in the remaining dimension with noise.\n",
      "Checking trial = 32\n",
      "Skipping trial 32 because y_factual > 20\n",
      "Checking trial = 33\n",
      "Skipping trial 33 because y_factual > 20\n",
      "Checking trial = 34\n",
      "Skipping trial 34 because y_factual > 20\n",
      "Checking trial = 35\n",
      "Skipping trial 35 because y_factual > 20\n",
      "Checking trial = 36\n",
      "Skipping trial 36 because y_factual > 20\n",
      "Checking trial = 37\n",
      "Skipping trial 37 because y_factual > 20\n",
      "Checking trial = 38\n",
      "Skipping trial 38 because y_factual > 20\n",
      "Checking trial = 39\n",
      "Skipping trial 39 because y_factual > 20\n",
      "Checking trial = 40\n",
      "Running on valid trial = 40\n",
      "Epoch 1: loss 5.0083,\tloss_y 4.2279, 4.2455, 0.0353,\tloss_eta 0.7804, 0.8132, 0.0656\n",
      "Epoch 100: loss 4.0399,\tloss_y 3.3940, 3.4864, 0.1848,\tloss_eta 0.6459, 0.8682, 0.4447\n",
      "Epoch 200: loss 2.6296,\tloss_y 1.9908, 2.2745, 0.5675,\tloss_eta 0.6388, 1.3307, 1.3836\n",
      "Epoch 300: loss 1.8592,\tloss_y 1.2110, 1.9052, 1.3884,\tloss_eta 0.6482, 1.4289, 1.5614\n",
      "Epoch 400: loss 1.4300,\tloss_y 0.8535, 1.6829, 1.6589,\tloss_eta 0.5766, 1.2487, 1.3443\n",
      "Stopping at iter 421: |Δy|=4.0261e-03, |Δη|=4.7798e-03\n",
      "Warning: covariate dimension does not aligned with the specified input dimension; filling in the remaining dimension with noise.\n",
      "Warning: covariate dimension does not aligned with the specified input dimension; filling in the remaining dimension with noise.\n",
      "Checking trial = 41\n",
      "Running on valid trial = 41\n",
      "Epoch 1: loss 3.9595,\tloss_y 3.2080, 3.2275, 0.0391,\tloss_eta 0.7514, 0.7783, 0.0537\n",
      "Epoch 100: loss 3.1896,\tloss_y 2.5381, 2.6038, 0.1314,\tloss_eta 0.6515, 0.8658, 0.4285\n",
      "Epoch 200: loss 2.0687,\tloss_y 1.5292, 1.7106, 0.3628,\tloss_eta 0.5395, 1.1305, 1.1820\n",
      "Epoch 300: loss 1.7237,\tloss_y 1.1400, 1.4491, 0.6182,\tloss_eta 0.5837, 1.1089, 1.0504\n",
      "Epoch 400: loss 1.3107,\tloss_y 0.7737, 1.3015, 1.0556,\tloss_eta 0.5371, 1.1013, 1.1285\n",
      "Stopping at iter 473: |Δy|=-8.1102e-03, |Δη|=-1.8994e-03\n",
      "Warning: covariate dimension does not aligned with the specified input dimension; filling in the remaining dimension with noise.\n",
      "Warning: covariate dimension does not aligned with the specified input dimension; filling in the remaining dimension with noise.\n",
      "Checking trial = 42\n",
      "Running on valid trial = 42\n",
      "Epoch 1: loss 6.5590,\tloss_y 5.7955, 5.8119, 0.0327,\tloss_eta 0.7634, 0.8010, 0.0751\n",
      "Epoch 100: loss 5.5613,\tloss_y 4.8809, 4.9710, 0.1802,\tloss_eta 0.6804, 0.9270, 0.4932\n",
      "Epoch 200: loss 3.4526,\tloss_y 2.5060, 2.9270, 0.8419,\tloss_eta 0.9466, 1.6761, 1.4590\n",
      "Epoch 300: loss 1.9637,\tloss_y 1.2404, 2.2623, 2.0437,\tloss_eta 0.7233, 1.4760, 1.5054\n",
      "Stopping at iter 329: |Δy|=-6.6051e-03, |Δη|=6.4465e-03\n",
      "Warning: covariate dimension does not aligned with the specified input dimension; filling in the remaining dimension with noise.\n",
      "Warning: covariate dimension does not aligned with the specified input dimension; filling in the remaining dimension with noise.\n",
      "Checking trial = 43\n",
      "Skipping trial 43 because y_factual > 20\n",
      "Checking trial = 44\n",
      "Skipping trial 44 because y_factual > 20\n",
      "Checking trial = 45\n",
      "Skipping trial 45 because y_factual > 20\n",
      "Checking trial = 46\n",
      "Skipping trial 46 because y_factual > 20\n",
      "Checking trial = 47\n",
      "Running on valid trial = 47\n",
      "Epoch 1: loss 7.2846,\tloss_y 6.5187, 6.5291, 0.0208,\tloss_eta 0.7660, 0.7863, 0.0406\n",
      "Epoch 100: loss 6.4383,\tloss_y 5.7827, 5.8721, 0.1788,\tloss_eta 0.6556, 0.8614, 0.4116\n",
      "Epoch 200: loss 3.6289,\tloss_y 2.5328, 3.0648, 1.0640,\tloss_eta 1.0961, 1.9372, 1.6823\n",
      "Epoch 300: loss 2.1004,\tloss_y 1.3443, 2.6171, 2.5456,\tloss_eta 0.7561, 1.8209, 2.1296\n",
      "Epoch 400: loss 1.7472,\tloss_y 1.0799, 2.3484, 2.5370,\tloss_eta 0.6673, 1.5496, 1.7647\n",
      "Epoch 500: loss 1.4287,\tloss_y 0.8710, 2.0052, 2.2684,\tloss_eta 0.5577, 1.2977, 1.4799\n",
      "Epoch 600: loss 1.3817,\tloss_y 0.7617, 1.7286, 1.9338,\tloss_eta 0.6200, 1.2150, 1.1899\n",
      "Epoch 700: loss 1.3181,\tloss_y 0.7588, 1.6185, 1.7195,\tloss_eta 0.5593, 1.1097, 1.1007\n",
      "Epoch 800: loss 1.2411,\tloss_y 0.6840, 1.5275, 1.6870,\tloss_eta 0.5570, 1.0868, 1.0595\n",
      "Epoch 900: loss 1.2019,\tloss_y 0.6507, 1.4704, 1.6393,\tloss_eta 0.5512, 1.0619, 1.0213\n",
      "Epoch 1000: loss 1.2652,\tloss_y 0.6917, 1.4633, 1.5432,\tloss_eta 0.5735, 1.0779, 1.0089\n",
      "Warning: covariate dimension does not aligned with the specified input dimension; filling in the remaining dimension with noise.\n",
      "Warning: covariate dimension does not aligned with the specified input dimension; filling in the remaining dimension with noise.\n",
      "Checking trial = 48\n",
      "Skipping trial 48 because y_factual > 20\n",
      "Checking trial = 49\n",
      "Skipping trial 49 because y_factual > 20\n",
      "Checking trial = 50\n",
      "Running on valid trial = 50\n",
      "Epoch 1: loss 8.3412,\tloss_y 7.5622, 7.5706, 0.0168,\tloss_eta 0.7790, 0.8034, 0.0488\n",
      "Epoch 100: loss 7.3587,\tloss_y 6.7281, 6.8351, 0.2141,\tloss_eta 0.6307, 0.8315, 0.4015\n",
      "Epoch 200: loss 5.0406,\tloss_y 4.3931, 4.7868, 0.7875,\tloss_eta 0.6475, 1.5286, 1.7622\n",
      "Epoch 300: loss 2.6086,\tloss_y 1.7083, 3.0279, 2.6393,\tloss_eta 0.9004, 2.1531, 2.5055\n",
      "Epoch 400: loss 2.2847,\tloss_y 1.4355, 2.9232, 2.9753,\tloss_eta 0.8492, 1.9334, 2.1684\n",
      "Epoch 500: loss 1.8832,\tloss_y 1.1831, 2.6602, 2.9542,\tloss_eta 0.7001, 1.6048, 1.8095\n",
      "Epoch 600: loss 1.5993,\tloss_y 1.0232, 2.5123, 2.9783,\tloss_eta 0.5761, 1.4417, 1.7311\n",
      "Epoch 700: loss 1.5686,\tloss_y 0.9470, 2.2484, 2.6028,\tloss_eta 0.6216, 1.3636, 1.4841\n",
      "Epoch 800: loss 1.5173,\tloss_y 0.8900, 2.1342, 2.4882,\tloss_eta 0.6272, 1.3018, 1.3492\n",
      "Epoch 900: loss 1.2967,\tloss_y 0.7369, 1.9872, 2.5006,\tloss_eta 0.5598, 1.2140, 1.3084\n",
      "Epoch 1000: loss 1.3422,\tloss_y 0.7149, 1.7983, 2.1667,\tloss_eta 0.6272, 1.2418, 1.2291\n",
      "Warning: covariate dimension does not aligned with the specified input dimension; filling in the remaining dimension with noise.\n",
      "Warning: covariate dimension does not aligned with the specified input dimension; filling in the remaining dimension with noise.\n",
      "Checking trial = 51\n",
      "Skipping trial 51 because y_factual > 20\n",
      "Checking trial = 52\n",
      "Skipping trial 52 because y_factual > 20\n",
      "Checking trial = 53\n",
      "Skipping trial 53 because y_factual > 20\n",
      "Checking trial = 54\n",
      "Running on valid trial = 54\n",
      "Epoch 1: loss 4.3431,\tloss_y 3.6074, 3.6445, 0.0743,\tloss_eta 0.7357, 0.7582, 0.0450\n",
      "Epoch 100: loss 3.6178,\tloss_y 2.9726, 3.0380, 0.1308,\tloss_eta 0.6453, 0.8648, 0.4391\n",
      "Epoch 200: loss 2.1748,\tloss_y 1.5738, 1.8126, 0.4775,\tloss_eta 0.6009, 1.3620, 1.5222\n",
      "Epoch 300: loss 1.7261,\tloss_y 1.0991, 1.6238, 1.0493,\tloss_eta 0.6269, 1.4553, 1.6568\n",
      "Epoch 400: loss 1.5337,\tloss_y 0.9471, 1.6090, 1.3238,\tloss_eta 0.5866, 1.3010, 1.4289\n",
      "Epoch 500: loss 1.3667,\tloss_y 0.7929, 1.5421, 1.4984,\tloss_eta 0.5738, 1.1837, 1.2199\n",
      "Stopping at iter 530: |Δy|=3.1686e-04, |Δη|=8.0204e-04\n",
      "Warning: covariate dimension does not aligned with the specified input dimension; filling in the remaining dimension with noise.\n",
      "Warning: covariate dimension does not aligned with the specified input dimension; filling in the remaining dimension with noise.\n",
      "Checking trial = 55\n",
      "Running on valid trial = 55\n",
      "Epoch 1: loss 2.8815,\tloss_y 2.1109, 2.1288, 0.0358,\tloss_eta 0.7706, 0.7948, 0.0484\n",
      "Epoch 100: loss 2.1501,\tloss_y 1.5047, 1.6146, 0.2198,\tloss_eta 0.6454, 0.8676, 0.4444\n",
      "Epoch 200: loss 1.7098,\tloss_y 1.1260, 1.3478, 0.4435,\tloss_eta 0.5838, 1.0494, 0.9311\n",
      "Epoch 300: loss 1.5231,\tloss_y 0.9744, 1.2837, 0.6186,\tloss_eta 0.5487, 0.9942, 0.8910\n",
      "Epoch 400: loss 1.3176,\tloss_y 0.7639, 1.2094, 0.8909,\tloss_eta 0.5537, 1.0373, 0.9672\n",
      "Epoch 500: loss 1.1716,\tloss_y 0.6247, 1.1610, 1.0726,\tloss_eta 0.5469, 1.0570, 1.0201\n",
      "Stopping at iter 512: |Δy|=-7.5734e-03, |Δη|=1.2143e-03\n",
      "Warning: covariate dimension does not aligned with the specified input dimension; filling in the remaining dimension with noise.\n",
      "Warning: covariate dimension does not aligned with the specified input dimension; filling in the remaining dimension with noise.\n",
      "Checking trial = 56\n",
      "Running on valid trial = 56\n",
      "Epoch 1: loss 4.6552,\tloss_y 3.8438, 3.8539, 0.0202,\tloss_eta 0.8114, 0.8312, 0.0396\n",
      "Epoch 100: loss 3.6838,\tloss_y 3.0306, 3.1207, 0.1803,\tloss_eta 0.6532, 0.8301, 0.3537\n",
      "Epoch 200: loss 2.1343,\tloss_y 1.3984, 1.6402, 0.4836,\tloss_eta 0.7359, 1.3244, 1.1771\n",
      "Epoch 300: loss 1.5511,\tloss_y 0.9544, 1.4664, 1.0241,\tloss_eta 0.5968, 1.2501, 1.3067\n",
      "Epoch 400: loss 1.2326,\tloss_y 0.7282, 1.3877, 1.3188,\tloss_eta 0.5044, 1.0980, 1.1873\n",
      "Stopping at iter 412: |Δy|=5.0822e-03, |Δη|=9.4199e-03\n",
      "Warning: covariate dimension does not aligned with the specified input dimension; filling in the remaining dimension with noise.\n",
      "Warning: covariate dimension does not aligned with the specified input dimension; filling in the remaining dimension with noise.\n",
      "Checking trial = 57\n",
      "Skipping trial 57 because y_factual > 20\n",
      "Checking trial = 58\n",
      "Running on valid trial = 58\n",
      "Epoch 1: loss 4.7982,\tloss_y 4.0383, 4.0492, 0.0219,\tloss_eta 0.7599, 0.7818, 0.0438\n",
      "Epoch 100: loss 3.8200,\tloss_y 3.1869, 3.3099, 0.2461,\tloss_eta 0.6331, 0.8328, 0.3993\n",
      "Epoch 200: loss 2.2088,\tloss_y 1.5334, 1.8339, 0.6010,\tloss_eta 0.6754, 1.4069, 1.4631\n",
      "Epoch 300: loss 1.6089,\tloss_y 1.0425, 1.6181, 1.1514,\tloss_eta 0.5664, 1.2407, 1.3486\n",
      "Epoch 400: loss 1.4295,\tloss_y 0.8023, 1.5206, 1.4365,\tloss_eta 0.6272, 1.1932, 1.1320\n",
      "Stopping at iter 426: |Δy|=-9.6811e-03, |Δη|=4.8397e-03\n",
      "Warning: covariate dimension does not aligned with the specified input dimension; filling in the remaining dimension with noise.\n",
      "Warning: covariate dimension does not aligned with the specified input dimension; filling in the remaining dimension with noise.\n",
      "Checking trial = 59\n",
      "Skipping trial 59 because y_factual > 20\n",
      "Checking trial = 60\n",
      "Running on valid trial = 60\n",
      "Epoch 1: loss 4.7471,\tloss_y 3.9765, 3.9915, 0.0300,\tloss_eta 0.7706, 0.7911, 0.0411\n",
      "Epoch 100: loss 3.6945,\tloss_y 3.0700, 3.1963, 0.2527,\tloss_eta 0.6246, 0.8270, 0.4048\n",
      "Epoch 200: loss 2.4292,\tloss_y 1.8412, 2.1538, 0.6252,\tloss_eta 0.5880, 1.1781, 1.1802\n",
      "Epoch 300: loss 1.8566,\tloss_y 1.2366, 1.8238, 1.1743,\tloss_eta 0.6200, 1.2220, 1.2041\n",
      "Epoch 400: loss 1.5785,\tloss_y 0.9156, 1.6918, 1.5523,\tloss_eta 0.6629, 1.2573, 1.1888\n",
      "Stopping at iter 455: |Δy|=-2.8062e-04, |Δη|=-2.2789e-03\n",
      "Warning: covariate dimension does not aligned with the specified input dimension; filling in the remaining dimension with noise.\n",
      "Warning: covariate dimension does not aligned with the specified input dimension; filling in the remaining dimension with noise.\n",
      "Checking trial = 61\n",
      "Running on valid trial = 61\n",
      "Epoch 1: loss 5.6014,\tloss_y 4.8379, 4.8579, 0.0398,\tloss_eta 0.7634, 0.7933, 0.0597\n",
      "Epoch 100: loss 4.7601,\tloss_y 4.0703, 4.1697, 0.1988,\tloss_eta 0.6899, 0.9022, 0.4247\n",
      "Epoch 200: loss 2.5370,\tloss_y 1.6675, 2.1518, 0.9685,\tloss_eta 0.8694, 1.7185, 1.6982\n",
      "Epoch 300: loss 1.7489,\tloss_y 1.0948, 1.9887, 1.7877,\tloss_eta 0.6540, 1.5141, 1.7202\n",
      "Stopping at iter 385: |Δy|=3.3259e-04, |Δη|=2.8988e-03\n",
      "Warning: covariate dimension does not aligned with the specified input dimension; filling in the remaining dimension with noise.\n",
      "Warning: covariate dimension does not aligned with the specified input dimension; filling in the remaining dimension with noise.\n",
      "Checking trial = 62\n",
      "Skipping trial 62 because y_factual > 20\n",
      "Checking trial = 63\n",
      "Skipping trial 63 because y_factual > 20\n",
      "Checking trial = 64\n",
      "Skipping trial 64 because y_factual > 20\n",
      "Checking trial = 65\n",
      "Running on valid trial = 65\n",
      "Epoch 1: loss 5.4058,\tloss_y 4.6045, 4.6305, 0.0520,\tloss_eta 0.8013, 0.8261, 0.0495\n",
      "Epoch 100: loss 4.3238,\tloss_y 3.6977, 3.8197, 0.2439,\tloss_eta 0.6261, 0.8856, 0.5190\n",
      "Epoch 200: loss 2.7168,\tloss_y 2.1019, 2.3885, 0.5732,\tloss_eta 0.6149, 1.4593, 1.6888\n",
      "Epoch 300: loss 1.9547,\tloss_y 1.3265, 1.9382, 1.2234,\tloss_eta 0.6282, 1.4717, 1.6870\n",
      "Epoch 400: loss 1.5365,\tloss_y 0.9712, 1.8317, 1.7209,\tloss_eta 0.5653, 1.3048, 1.4790\n",
      "Epoch 500: loss 1.3629,\tloss_y 0.7626, 1.5931, 1.6610,\tloss_eta 0.6003, 1.2488, 1.2971\n",
      "Stopping at iter 547: |Δy|=-3.5172e-03, |Δη|=3.3545e-04\n",
      "Warning: covariate dimension does not aligned with the specified input dimension; filling in the remaining dimension with noise.\n",
      "Warning: covariate dimension does not aligned with the specified input dimension; filling in the remaining dimension with noise.\n",
      "Checking trial = 66\n",
      "Running on valid trial = 66\n",
      "Epoch 1: loss 4.6106,\tloss_y 3.7924, 3.7969, 0.0089,\tloss_eta 0.8182, 0.8440, 0.0517\n",
      "Epoch 100: loss 3.5901,\tloss_y 2.9685, 3.0672, 0.1975,\tloss_eta 0.6216, 0.8573, 0.4713\n",
      "Epoch 200: loss 2.2284,\tloss_y 1.6336, 1.8756, 0.4841,\tloss_eta 0.5948, 1.3316, 1.4736\n",
      "Epoch 300: loss 1.7950,\tloss_y 1.2196, 1.6673, 0.8954,\tloss_eta 0.5754, 1.2104, 1.2701\n",
      "Epoch 400: loss 1.5645,\tloss_y 1.0322, 1.6115, 1.1586,\tloss_eta 0.5323, 1.1080, 1.1514\n",
      "Epoch 500: loss 1.4108,\tloss_y 0.8384, 1.5302, 1.3835,\tloss_eta 0.5724, 1.2201, 1.2955\n",
      "Stopping at iter 597: |Δy|=5.0631e-03, |Δη|=5.5623e-04\n",
      "Warning: covariate dimension does not aligned with the specified input dimension; filling in the remaining dimension with noise.\n",
      "Warning: covariate dimension does not aligned with the specified input dimension; filling in the remaining dimension with noise.\n",
      "Checking trial = 67\n",
      "Skipping trial 67 because y_factual > 20\n",
      "Checking trial = 68\n",
      "Running on valid trial = 68\n",
      "Epoch 1: loss 5.1405,\tloss_y 4.3387, 4.3603, 0.0433,\tloss_eta 0.8019, 0.8278, 0.0519\n",
      "Epoch 100: loss 4.1020,\tloss_y 3.3889, 3.5138, 0.2498,\tloss_eta 0.7131, 0.8946, 0.3631\n",
      "Epoch 200: loss 2.0844,\tloss_y 1.4374, 2.0610, 1.2473,\tloss_eta 0.6470, 1.2852, 1.2765\n",
      "Epoch 300: loss 1.4708,\tloss_y 0.8906, 1.8380, 1.8949,\tloss_eta 0.5803, 1.2992, 1.4380\n",
      "Epoch 400: loss 1.3494,\tloss_y 0.8072, 1.6743, 1.7343,\tloss_eta 0.5422, 1.2126, 1.3409\n",
      "Stopping at iter 443: |Δy|=6.9755e-03, |Δη|=-8.5715e-03\n",
      "Warning: covariate dimension does not aligned with the specified input dimension; filling in the remaining dimension with noise.\n",
      "Warning: covariate dimension does not aligned with the specified input dimension; filling in the remaining dimension with noise.\n",
      "Checking trial = 69\n",
      "Running on valid trial = 69\n",
      "Epoch 1: loss 3.1066,\tloss_y 2.3015, 2.3301, 0.0572,\tloss_eta 0.8051, 0.8317, 0.0532\n",
      "Epoch 100: loss 2.2968,\tloss_y 1.6386, 1.7526, 0.2278,\tloss_eta 0.6581, 0.8914, 0.4666\n",
      "Epoch 200: loss 1.7056,\tloss_y 1.1056, 1.3634, 0.5155,\tloss_eta 0.5999, 1.1076, 1.0154\n",
      "Epoch 300: loss 1.4516,\tloss_y 0.8680, 1.3163, 0.8967,\tloss_eta 0.5836, 1.1277, 1.0883\n",
      "Epoch 400: loss 1.2631,\tloss_y 0.7227, 1.2789, 1.1124,\tloss_eta 0.5405, 1.0915, 1.1020\n",
      "Stopping at iter 489: |Δy|=2.9848e-03, |Δη|=-9.2021e-03\n",
      "Warning: covariate dimension does not aligned with the specified input dimension; filling in the remaining dimension with noise.\n",
      "Warning: covariate dimension does not aligned with the specified input dimension; filling in the remaining dimension with noise.\n",
      "Checking trial = 70\n",
      "Skipping trial 70 because y_factual > 20\n",
      "Checking trial = 71\n",
      "Running on valid trial = 71\n",
      "Epoch 1: loss 2.6208,\tloss_y 1.9004, 1.9071, 0.0133,\tloss_eta 0.7203, 0.7465, 0.0523\n",
      "Epoch 100: loss 2.1994,\tloss_y 1.5036, 1.5956, 0.1840,\tloss_eta 0.6958, 0.8793, 0.3670\n",
      "Epoch 200: loss 1.6661,\tloss_y 1.0597, 1.3918, 0.6641,\tloss_eta 0.6064, 1.1047, 0.9967\n",
      "Epoch 300: loss 1.3516,\tloss_y 0.8022, 1.4045, 1.2045,\tloss_eta 0.5493, 1.1435, 1.1883\n",
      "Stopping at iter 372: |Δy|=9.3985e-03, |Δη|=-3.7583e-03\n",
      "Warning: covariate dimension does not aligned with the specified input dimension; filling in the remaining dimension with noise.\n",
      "Warning: covariate dimension does not aligned with the specified input dimension; filling in the remaining dimension with noise.\n",
      "Checking trial = 72\n",
      "Running on valid trial = 72\n",
      "Epoch 1: loss 6.6691,\tloss_y 5.9170, 5.9437, 0.0534,\tloss_eta 0.7521, 0.7713, 0.0384\n",
      "Epoch 100: loss 5.5898,\tloss_y 4.9794, 5.0960, 0.2333,\tloss_eta 0.6105, 0.8377, 0.4544\n",
      "Epoch 200: loss 3.3800,\tloss_y 2.6529, 2.9949, 0.6840,\tloss_eta 0.7271, 1.6120, 1.7697\n",
      "Epoch 300: loss 2.1289,\tloss_y 1.4333, 2.1423, 1.4181,\tloss_eta 0.6956, 1.7143, 2.0373\n",
      "Epoch 400: loss 1.6305,\tloss_y 0.9707, 1.9102, 1.8789,\tloss_eta 0.6597, 1.4846, 1.6497\n",
      "Epoch 500: loss 1.4906,\tloss_y 0.8658, 1.8136, 1.8957,\tloss_eta 0.6248, 1.3214, 1.3932\n",
      "Epoch 600: loss 1.3758,\tloss_y 0.8082, 1.7793, 1.9422,\tloss_eta 0.5676, 1.2168, 1.2983\n",
      "Epoch 700: loss 1.3027,\tloss_y 0.7775, 1.6795, 1.8039,\tloss_eta 0.5251, 1.1250, 1.1997\n",
      "Epoch 800: loss 1.2804,\tloss_y 0.7118, 1.6170, 1.8105,\tloss_eta 0.5686, 1.1452, 1.1532\n",
      "Epoch 900: loss 1.2645,\tloss_y 0.6979, 1.5136, 1.6313,\tloss_eta 0.5666, 1.1206, 1.1079\n",
      "Epoch 1000: loss 1.2405,\tloss_y 0.6847, 1.5626, 1.7557,\tloss_eta 0.5558, 1.1109, 1.1103\n",
      "Warning: covariate dimension does not aligned with the specified input dimension; filling in the remaining dimension with noise.\n",
      "Warning: covariate dimension does not aligned with the specified input dimension; filling in the remaining dimension with noise.\n",
      "Checking trial = 73\n",
      "Running on valid trial = 73\n",
      "Epoch 1: loss 3.8564,\tloss_y 3.0902, 3.1131, 0.0458,\tloss_eta 0.7662, 0.7891, 0.0458\n",
      "Epoch 100: loss 2.9949,\tloss_y 2.3544, 2.4333, 0.1577,\tloss_eta 0.6405, 0.8577, 0.4344\n",
      "Epoch 200: loss 1.9413,\tloss_y 1.3381, 1.5826, 0.4890,\tloss_eta 0.6032, 1.3378, 1.4693\n",
      "Epoch 300: loss 1.6701,\tloss_y 1.0362, 1.4529, 0.8334,\tloss_eta 0.6339, 1.2974, 1.3270\n",
      "Epoch 400: loss 1.3509,\tloss_y 0.7847, 1.3715, 1.1736,\tloss_eta 0.5662, 1.2053, 1.2783\n",
      "Stopping at iter 467: |Δy|=6.7537e-03, |Δη|=6.0128e-03\n",
      "Warning: covariate dimension does not aligned with the specified input dimension; filling in the remaining dimension with noise.\n",
      "Warning: covariate dimension does not aligned with the specified input dimension; filling in the remaining dimension with noise.\n",
      "Checking trial = 74\n",
      "Running on valid trial = 74\n",
      "Epoch 1: loss 2.9030,\tloss_y 2.1271, 2.1438, 0.0334,\tloss_eta 0.7759, 0.7980, 0.0442\n",
      "Epoch 100: loss 2.1056,\tloss_y 1.4524, 1.5820, 0.2592,\tloss_eta 0.6532, 0.8676, 0.4287\n",
      "Epoch 200: loss 1.7250,\tloss_y 1.1697, 1.3892, 0.4389,\tloss_eta 0.5553, 1.0203, 0.9300\n",
      "Epoch 300: loss 1.4933,\tloss_y 0.9679, 1.3166, 0.6973,\tloss_eta 0.5254, 1.0427, 1.0346\n",
      "Epoch 400: loss 1.2495,\tloss_y 0.6944, 1.2480, 1.1072,\tloss_eta 0.5551, 1.1362, 1.1620\n",
      "Stopping at iter 460: |Δy|=-9.9199e-03, |Δη|=-4.9487e-03\n",
      "Warning: covariate dimension does not aligned with the specified input dimension; filling in the remaining dimension with noise.\n",
      "Warning: covariate dimension does not aligned with the specified input dimension; filling in the remaining dimension with noise.\n",
      "Checking trial = 75\n",
      "Skipping trial 75 because y_factual > 20\n",
      "Checking trial = 76\n",
      "Running on valid trial = 76\n",
      "Epoch 1: loss 6.3127,\tloss_y 5.5737, 5.5823, 0.0171,\tloss_eta 0.7389, 0.7609, 0.0440\n",
      "Epoch 100: loss 5.3053,\tloss_y 4.6574, 4.7493, 0.1837,\tloss_eta 0.6479, 0.8785, 0.4611\n",
      "Epoch 200: loss 3.0515,\tloss_y 2.3865, 2.6825, 0.5921,\tloss_eta 0.6650, 1.5575, 1.7849\n",
      "Epoch 300: loss 2.0081,\tloss_y 1.4046, 2.0727, 1.3363,\tloss_eta 0.6036, 1.5461, 1.8851\n",
      "Epoch 400: loss 1.5650,\tloss_y 0.9240, 1.8340, 1.8201,\tloss_eta 0.6411, 1.4262, 1.5703\n",
      "Epoch 500: loss 1.4318,\tloss_y 0.8344, 1.6917, 1.7146,\tloss_eta 0.5974, 1.2409, 1.2871\n",
      "Stopping at iter 581: |Δy|=-5.5311e-03, |Δη|=-7.6112e-03\n",
      "Warning: covariate dimension does not aligned with the specified input dimension; filling in the remaining dimension with noise.\n",
      "Warning: covariate dimension does not aligned with the specified input dimension; filling in the remaining dimension with noise.\n",
      "Checking trial = 77\n",
      "Running on valid trial = 77\n",
      "Epoch 1: loss 4.3214,\tloss_y 3.5574, 3.5715, 0.0281,\tloss_eta 0.7639, 0.7836, 0.0393\n",
      "Epoch 100: loss 3.2935,\tloss_y 2.6322, 2.7344, 0.2043,\tloss_eta 0.6612, 0.8684, 0.4143\n",
      "Epoch 200: loss 1.9655,\tloss_y 1.3713, 1.6688, 0.5949,\tloss_eta 0.5941, 1.2525, 1.3168\n",
      "Epoch 300: loss 1.5467,\tloss_y 0.9451, 1.4911, 1.0920,\tloss_eta 0.6016, 1.2213, 1.2393\n",
      "Epoch 400: loss 1.3821,\tloss_y 0.7967, 1.3958, 1.1982,\tloss_eta 0.5854, 1.1655, 1.1603\n",
      "Stopping at iter 437: |Δy|=8.8047e-03, |Δη|=-1.1272e-03\n",
      "Warning: covariate dimension does not aligned with the specified input dimension; filling in the remaining dimension with noise.\n",
      "Warning: covariate dimension does not aligned with the specified input dimension; filling in the remaining dimension with noise.\n",
      "Checking trial = 78\n",
      "Running on valid trial = 78\n",
      "Epoch 1: loss 4.6938,\tloss_y 3.9043, 3.9097, 0.0110,\tloss_eta 0.7895, 0.8202, 0.0613\n",
      "Epoch 100: loss 3.6823,\tloss_y 3.0623, 3.1491, 0.1737,\tloss_eta 0.6200, 0.8500, 0.4600\n",
      "Epoch 200: loss 1.9159,\tloss_y 1.2464, 1.5623, 0.6319,\tloss_eta 0.6696, 1.3778, 1.4164\n",
      "Epoch 300: loss 1.4839,\tloss_y 0.9023, 1.4323, 1.0600,\tloss_eta 0.5816, 1.1893, 1.2153\n",
      "Stopping at iter 386: |Δy|=6.3803e-03, |Δη|=-6.6556e-03\n",
      "Warning: covariate dimension does not aligned with the specified input dimension; filling in the remaining dimension with noise.\n",
      "Warning: covariate dimension does not aligned with the specified input dimension; filling in the remaining dimension with noise.\n",
      "Checking trial = 79\n",
      "Running on valid trial = 79\n",
      "Epoch 1: loss 3.6138,\tloss_y 2.8602, 2.8738, 0.0272,\tloss_eta 0.7536, 0.7808, 0.0545\n",
      "Epoch 100: loss 2.7949,\tloss_y 2.1469, 2.2442, 0.1945,\tloss_eta 0.6480, 0.8931, 0.4903\n",
      "Epoch 200: loss 1.9438,\tloss_y 1.3185, 1.6619, 0.6867,\tloss_eta 0.6253, 1.1338, 1.0171\n",
      "Epoch 300: loss 1.4132,\tloss_y 0.8229, 1.5728, 1.4999,\tloss_eta 0.5903, 1.2335, 1.2864\n",
      "Epoch 400: loss 1.2345,\tloss_y 0.6369, 1.4137, 1.5537,\tloss_eta 0.5977, 1.1691, 1.1428\n",
      "Stopping at iter 448: |Δy|=-6.1300e-03, |Δη|=7.8912e-03\n",
      "Warning: covariate dimension does not aligned with the specified input dimension; filling in the remaining dimension with noise.\n",
      "Warning: covariate dimension does not aligned with the specified input dimension; filling in the remaining dimension with noise.\n",
      "Checking trial = 80\n",
      "Skipping trial 80 because y_factual > 20\n",
      "Checking trial = 81\n",
      "Skipping trial 81 because y_factual > 20\n",
      "Checking trial = 82\n",
      "Skipping trial 82 because y_factual > 20\n",
      "Checking trial = 83\n",
      "Skipping trial 83 because y_factual > 20\n",
      "Checking trial = 84\n",
      "Skipping trial 84 because y_factual > 20\n",
      "Checking trial = 85\n",
      "Skipping trial 85 because y_factual > 20\n",
      "Checking trial = 86\n",
      "Skipping trial 86 because y_factual > 20\n",
      "Checking trial = 87\n",
      "Running on valid trial = 87\n",
      "Epoch 1: loss 2.8822,\tloss_y 2.1071, 2.1254, 0.0367,\tloss_eta 0.7751, 0.8041, 0.0580\n",
      "Epoch 100: loss 2.0834,\tloss_y 1.4372, 1.5384, 0.2024,\tloss_eta 0.6462, 0.9092, 0.5259\n",
      "Epoch 200: loss 1.7098,\tloss_y 1.1355, 1.3361, 0.4012,\tloss_eta 0.5743, 1.0450, 0.9413\n",
      "Epoch 300: loss 1.5743,\tloss_y 0.9864, 1.2687, 0.5646,\tloss_eta 0.5879, 1.0598, 0.9437\n",
      "Epoch 400: loss 1.2641,\tloss_y 0.7271, 1.1768, 0.8994,\tloss_eta 0.5370, 1.0660, 1.0579\n",
      "Epoch 500: loss 1.2964,\tloss_y 0.6895, 1.2302, 1.0814,\tloss_eta 0.6069, 1.1168, 1.0198\n",
      "Stopping at iter 588: |Δy|=4.3302e-03, |Δη|=5.9979e-03\n",
      "Warning: covariate dimension does not aligned with the specified input dimension; filling in the remaining dimension with noise.\n",
      "Warning: covariate dimension does not aligned with the specified input dimension; filling in the remaining dimension with noise.\n",
      "Checking trial = 88\n",
      "Skipping trial 88 because y_factual > 20\n",
      "Checking trial = 89\n",
      "Running on valid trial = 89\n",
      "Epoch 1: loss 10.2949,\tloss_y 9.4848, 9.5220, 0.0743,\tloss_eta 0.8101, 0.8300, 0.0398\n",
      "Epoch 100: loss 9.4065,\tloss_y 8.7368, 8.8202, 0.1668,\tloss_eta 0.6697, 0.8353, 0.3311\n",
      "Epoch 200: loss 7.3722,\tloss_y 6.7820, 7.0200, 0.4760,\tloss_eta 0.5901, 1.2623, 1.3444\n",
      "Epoch 300: loss 3.8276,\tloss_y 2.7386, 3.5609, 1.6445,\tloss_eta 1.0890, 2.4948, 2.8116\n",
      "Epoch 400: loss 2.5107,\tloss_y 1.6495, 3.1262, 2.9534,\tloss_eta 0.8613, 2.0648, 2.4071\n",
      "Epoch 500: loss 1.9126,\tloss_y 1.2138, 2.9075, 3.3874,\tloss_eta 0.6988, 1.7177, 2.0376\n",
      "Epoch 600: loss 1.8129,\tloss_y 1.1745, 2.6560, 2.9630,\tloss_eta 0.6384, 1.5159, 1.7550\n",
      "Epoch 700: loss 1.6301,\tloss_y 0.9947, 2.3438, 2.6981,\tloss_eta 0.6353, 1.3544, 1.4382\n",
      "Epoch 800: loss 1.5404,\tloss_y 0.9096, 2.2173, 2.6154,\tloss_eta 0.6308, 1.2812, 1.3008\n",
      "Epoch 900: loss 1.4564,\tloss_y 0.8427, 2.1061, 2.5267,\tloss_eta 0.6137, 1.1707, 1.1140\n",
      "Epoch 1000: loss 1.3546,\tloss_y 0.7622, 1.8723, 2.2201,\tloss_eta 0.5923, 1.1319, 1.0791\n",
      "Warning: covariate dimension does not aligned with the specified input dimension; filling in the remaining dimension with noise.\n",
      "Warning: covariate dimension does not aligned with the specified input dimension; filling in the remaining dimension with noise.\n",
      "Checking trial = 90\n",
      "Running on valid trial = 90\n",
      "Epoch 1: loss 3.3467,\tloss_y 2.5931, 2.6045, 0.0229,\tloss_eta 0.7536, 0.7828, 0.0584\n",
      "Epoch 100: loss 2.5220,\tloss_y 1.8645, 1.9693, 0.2095,\tloss_eta 0.6574, 0.8657, 0.4166\n",
      "Epoch 200: loss 1.7332,\tloss_y 1.1866, 1.4581, 0.5429,\tloss_eta 0.5466, 1.0800, 1.0668\n",
      "Epoch 300: loss 1.5619,\tloss_y 0.9922, 1.4238, 0.8631,\tloss_eta 0.5697, 1.1669, 1.1943\n",
      "Epoch 400: loss 1.4191,\tloss_y 0.8041, 1.4060, 1.2038,\tloss_eta 0.6150, 1.2204, 1.2107\n",
      "Stopping at iter 460: |Δy|=-8.2006e-03, |Δη|=5.5113e-03\n",
      "Warning: covariate dimension does not aligned with the specified input dimension; filling in the remaining dimension with noise.\n",
      "Warning: covariate dimension does not aligned with the specified input dimension; filling in the remaining dimension with noise.\n",
      "Checking trial = 91\n",
      "Skipping trial 91 because y_factual > 20\n",
      "Checking trial = 92\n",
      "Skipping trial 92 because y_factual > 20\n",
      "Checking trial = 93\n",
      "Running on valid trial = 93\n",
      "Epoch 1: loss 6.7589,\tloss_y 5.9970, 6.0593, 0.1246,\tloss_eta 0.7620, 0.7852, 0.0465\n",
      "Epoch 100: loss 5.8399,\tloss_y 5.2139, 5.3287, 0.2295,\tloss_eta 0.6260, 0.8538, 0.4555\n",
      "Epoch 200: loss 3.6364,\tloss_y 3.0593, 3.3448, 0.5709,\tloss_eta 0.5771, 1.4797, 1.8052\n",
      "Epoch 300: loss 2.4185,\tloss_y 1.6968, 2.2559, 1.1183,\tloss_eta 0.7218, 1.6555, 1.8676\n",
      "Epoch 400: loss 1.6265,\tloss_y 1.0894, 1.9953, 1.8117,\tloss_eta 0.5370, 1.2862, 1.4983\n",
      "Epoch 500: loss 1.4279,\tloss_y 0.8699, 1.8681, 1.9964,\tloss_eta 0.5580, 1.1560, 1.1961\n",
      "Epoch 600: loss 1.3764,\tloss_y 0.7834, 1.8096, 2.0524,\tloss_eta 0.5930, 1.1523, 1.1186\n",
      "Epoch 700: loss 1.2801,\tloss_y 0.7292, 1.7102, 1.9621,\tloss_eta 0.5509, 1.0799, 1.0580\n",
      "Epoch 800: loss 1.2931,\tloss_y 0.7240, 1.6536, 1.8592,\tloss_eta 0.5691, 1.1042, 1.0704\n",
      "Epoch 900: loss 1.1970,\tloss_y 0.6277, 1.5172, 1.7789,\tloss_eta 0.5693, 1.0880, 1.0373\n",
      "Epoch 1000: loss 1.2281,\tloss_y 0.6266, 1.4956, 1.7381,\tloss_eta 0.6016, 1.1131, 1.0230\n",
      "Warning: covariate dimension does not aligned with the specified input dimension; filling in the remaining dimension with noise.\n",
      "Warning: covariate dimension does not aligned with the specified input dimension; filling in the remaining dimension with noise.\n",
      "Checking trial = 94\n",
      "Running on valid trial = 94\n",
      "Epoch 1: loss 9.0324,\tloss_y 8.3061, 8.3273, 0.0425,\tloss_eta 0.7263, 0.7574, 0.0621\n",
      "Epoch 100: loss 8.0753,\tloss_y 7.4106, 7.5271, 0.2330,\tloss_eta 0.6647, 0.8828, 0.4362\n",
      "Epoch 200: loss 4.9590,\tloss_y 3.5637, 4.0588, 0.9902,\tloss_eta 1.3953, 2.0691, 1.3477\n",
      "Epoch 300: loss 2.5986,\tloss_y 1.5407, 3.0731, 3.0649,\tloss_eta 1.0579, 1.7942, 1.4727\n",
      "Epoch 400: loss 1.8796,\tloss_y 1.1045, 2.7172, 3.2253,\tloss_eta 0.7751, 1.5697, 1.5892\n",
      "Epoch 500: loss 1.5641,\tloss_y 0.9298, 2.3000, 2.7405,\tloss_eta 0.6344, 1.3197, 1.3707\n",
      "Epoch 600: loss 1.4590,\tloss_y 0.8171, 2.0090, 2.3836,\tloss_eta 0.6418, 1.2252, 1.1668\n",
      "Epoch 700: loss 1.3295,\tloss_y 0.7355, 1.7291, 1.9873,\tloss_eta 0.5941, 1.0982, 1.0083\n",
      "Epoch 800: loss 1.2780,\tloss_y 0.6683, 1.6485, 1.9604,\tloss_eta 0.6098, 1.0934, 0.9672\n",
      "Epoch 900: loss 1.2393,\tloss_y 0.6376, 1.5670, 1.8587,\tloss_eta 0.6017, 1.0778, 0.9523\n",
      "Epoch 1000: loss 1.1577,\tloss_y 0.5837, 1.4542, 1.7408,\tloss_eta 0.5740, 1.0377, 0.9275\n",
      "Warning: covariate dimension does not aligned with the specified input dimension; filling in the remaining dimension with noise.\n",
      "Warning: covariate dimension does not aligned with the specified input dimension; filling in the remaining dimension with noise.\n",
      "Checking trial = 95\n",
      "Skipping trial 95 because y_factual > 20\n",
      "Checking trial = 96\n",
      "Running on valid trial = 96\n",
      "Epoch 1: loss 8.0654,\tloss_y 7.2960, 7.3836, 0.1753,\tloss_eta 0.7694, 0.7959, 0.0529\n",
      "Epoch 100: loss 7.0956,\tloss_y 6.4706, 6.6157, 0.2903,\tloss_eta 0.6250, 0.8912, 0.5324\n",
      "Epoch 200: loss 5.2565,\tloss_y 4.5761, 4.8045, 0.4568,\tloss_eta 0.6805, 1.4223, 1.4837\n",
      "Epoch 300: loss 2.7341,\tloss_y 1.8546, 2.5265, 1.3439,\tloss_eta 0.8795, 2.0183, 2.2775\n",
      "Epoch 400: loss 2.0015,\tloss_y 1.3282, 2.4473, 2.2381,\tloss_eta 0.6732, 1.6498, 1.9530\n",
      "Epoch 500: loss 1.8279,\tloss_y 1.1598, 2.3105, 2.3016,\tloss_eta 0.6681, 1.4712, 1.6061\n",
      "Epoch 600: loss 1.6639,\tloss_y 1.0180, 2.2401, 2.4442,\tloss_eta 0.6459, 1.3697, 1.4476\n",
      "Epoch 700: loss 1.6166,\tloss_y 0.9745, 2.1351, 2.3212,\tloss_eta 0.6421, 1.3397, 1.3953\n",
      "Epoch 800: loss 1.5226,\tloss_y 0.9143, 2.0008, 2.1730,\tloss_eta 0.6083, 1.2521, 1.2876\n",
      "Epoch 900: loss 1.4229,\tloss_y 0.8148, 1.9334, 2.2371,\tloss_eta 0.6081, 1.2445, 1.2728\n",
      "Epoch 1000: loss 1.4594,\tloss_y 0.8253, 1.7641, 1.8776,\tloss_eta 0.6341, 1.2177, 1.1672\n",
      "Warning: covariate dimension does not aligned with the specified input dimension; filling in the remaining dimension with noise.\n",
      "Warning: covariate dimension does not aligned with the specified input dimension; filling in the remaining dimension with noise.\n",
      "Checking trial = 97\n",
      "Skipping trial 97 because y_factual > 20\n",
      "Checking trial = 98\n",
      "Skipping trial 98 because y_factual > 20\n",
      "Checking trial = 99\n",
      "Skipping trial 99 because y_factual > 20\n",
      "Checking trial = 100\n",
      "Skipping trial 100 because y_factual > 20\n",
      "Checking trial = 101\n",
      "Skipping trial 101 because y_factual > 20\n",
      "Checking trial = 102\n",
      "Running on valid trial = 102\n",
      "Epoch 1: loss 4.8263,\tloss_y 4.0782, 4.1170, 0.0775,\tloss_eta 0.7481, 0.7682, 0.0401\n",
      "Epoch 100: loss 3.6584,\tloss_y 2.9937, 3.1265, 0.2654,\tloss_eta 0.6646, 0.8669, 0.4047\n",
      "Epoch 200: loss 2.1603,\tloss_y 1.5214, 1.9374, 0.8320,\tloss_eta 0.6389, 1.2624, 1.2470\n",
      "Epoch 300: loss 1.5593,\tloss_y 0.9042, 1.6568, 1.5053,\tloss_eta 0.6551, 1.2538, 1.1973\n",
      "Stopping at iter 335: |Δy|=5.8944e-03, |Δη|=9.7820e-03\n",
      "Warning: covariate dimension does not aligned with the specified input dimension; filling in the remaining dimension with noise.\n",
      "Warning: covariate dimension does not aligned with the specified input dimension; filling in the remaining dimension with noise.\n",
      "Checking trial = 103\n",
      "Running on valid trial = 103\n",
      "Epoch 1: loss 11.2705,\tloss_y 10.4898, 10.5092, 0.0388,\tloss_eta 0.7807, 0.7999, 0.0383\n",
      "Epoch 100: loss 10.1580,\tloss_y 9.5191, 9.6415, 0.2448,\tloss_eta 0.6389, 0.8582, 0.4386\n",
      "Epoch 200: loss 5.9649,\tloss_y 4.5666, 5.0449, 0.9565,\tloss_eta 1.3983, 2.2162, 1.6356\n",
      "Epoch 300: loss 3.3894,\tloss_y 1.6713, 2.9575, 2.5725,\tloss_eta 1.7181, 2.2185, 1.0009\n",
      "Epoch 400: loss 2.4273,\tloss_y 1.2411, 2.9444, 3.4066,\tloss_eta 1.1862, 1.7015, 1.0305\n",
      "Epoch 500: loss 2.0981,\tloss_y 1.0990, 2.6488, 3.0997,\tloss_eta 0.9992, 1.4699, 0.9415\n",
      "Epoch 600: loss 1.6678,\tloss_y 0.8832, 2.2129, 2.6593,\tloss_eta 0.7846, 1.1693, 0.7695\n",
      "Epoch 700: loss 1.4757,\tloss_y 0.8050, 2.0191, 2.4281,\tloss_eta 0.6707, 1.0592, 0.7770\n",
      "Epoch 800: loss 1.4655,\tloss_y 0.8305, 2.0149, 2.3688,\tloss_eta 0.6350, 1.0212, 0.7724\n",
      "Epoch 900: loss 1.3795,\tloss_y 0.7647, 1.9655, 2.4015,\tloss_eta 0.6148, 0.9900, 0.7505\n",
      "Epoch 1000: loss 1.2937,\tloss_y 0.6203, 1.7560, 2.2713,\tloss_eta 0.6735, 1.0406, 0.7342\n",
      "Warning: covariate dimension does not aligned with the specified input dimension; filling in the remaining dimension with noise.\n",
      "Warning: covariate dimension does not aligned with the specified input dimension; filling in the remaining dimension with noise.\n",
      "Checking trial = 104\n",
      "Skipping trial 104 because y_factual > 20\n",
      "Checking trial = 105\n",
      "Running on valid trial = 105\n",
      "Epoch 1: loss 7.5745,\tloss_y 6.7552, 6.7748, 0.0392,\tloss_eta 0.8193, 0.8565, 0.0744\n",
      "Epoch 100: loss 6.3708,\tloss_y 5.7645, 5.9155, 0.3020,\tloss_eta 0.6063, 0.8484, 0.4842\n",
      "Epoch 200: loss 3.7659,\tloss_y 3.1623, 3.5657, 0.8068,\tloss_eta 0.6036, 1.6357, 2.0642\n",
      "Epoch 300: loss 2.1653,\tloss_y 1.4412, 2.4336, 1.9848,\tloss_eta 0.7241, 2.0777, 2.7072\n",
      "Epoch 400: loss 1.8031,\tloss_y 1.1254, 2.2627, 2.2745,\tloss_eta 0.6777, 1.7509, 2.1465\n",
      "Epoch 500: loss 1.5574,\tloss_y 0.9328, 2.0461, 2.2267,\tloss_eta 0.6246, 1.5301, 1.8110\n",
      "Epoch 600: loss 1.4185,\tloss_y 0.9126, 2.0029, 2.1806,\tloss_eta 0.5058, 1.3437, 1.6757\n",
      "Epoch 700: loss 1.3965,\tloss_y 0.7944, 1.8841, 2.1794,\tloss_eta 0.6020, 1.3488, 1.4936\n",
      "Epoch 800: loss 1.3835,\tloss_y 0.7840, 1.8046, 2.0411,\tloss_eta 0.5995, 1.3199, 1.4408\n",
      "Epoch 900: loss 1.2723,\tloss_y 0.7139, 1.7223, 2.0169,\tloss_eta 0.5584, 1.2795, 1.4421\n",
      "Epoch 1000: loss 1.2776,\tloss_y 0.7094, 1.5799, 1.7411,\tloss_eta 0.5682, 1.2586, 1.3809\n",
      "Warning: covariate dimension does not aligned with the specified input dimension; filling in the remaining dimension with noise.\n",
      "Warning: covariate dimension does not aligned with the specified input dimension; filling in the remaining dimension with noise.\n",
      "Checking trial = 106\n",
      "Running on valid trial = 106\n",
      "Epoch 1: loss 7.4120,\tloss_y 6.6380, 6.6500, 0.0242,\tloss_eta 0.7741, 0.7911, 0.0341\n",
      "Epoch 100: loss 6.5651,\tloss_y 5.9017, 6.0006, 0.1979,\tloss_eta 0.6634, 0.8460, 0.3651\n",
      "Epoch 200: loss 3.6005,\tloss_y 2.0529, 2.4087, 0.7115,\tloss_eta 1.5475, 2.0705, 1.0460\n",
      "Epoch 300: loss 2.1751,\tloss_y 1.0957, 2.0529, 1.9146,\tloss_eta 1.0794, 1.5160, 0.8730\n",
      "Epoch 400: loss 1.6125,\tloss_y 0.8233, 2.0636, 2.4807,\tloss_eta 0.7892, 1.2240, 0.8695\n",
      "Epoch 500: loss 1.4248,\tloss_y 0.7916, 1.9588, 2.3343,\tloss_eta 0.6331, 1.1216, 0.9769\n",
      "Epoch 600: loss 1.3281,\tloss_y 0.7280, 1.7355, 2.0150,\tloss_eta 0.6001, 1.0685, 0.9367\n",
      "Epoch 700: loss 1.3928,\tloss_y 0.7654, 1.7301, 1.9294,\tloss_eta 0.6274, 1.0672, 0.8795\n",
      "Epoch 800: loss 1.2830,\tloss_y 0.6723, 1.5542, 1.7637,\tloss_eta 0.6107, 1.0265, 0.8317\n",
      "Epoch 900: loss 1.2103,\tloss_y 0.6221, 1.4876, 1.7311,\tloss_eta 0.5883, 0.9977, 0.8189\n",
      "Epoch 1000: loss 1.1992,\tloss_y 0.6082, 1.4582, 1.6998,\tloss_eta 0.5909, 1.0025, 0.8232\n",
      "Warning: covariate dimension does not aligned with the specified input dimension; filling in the remaining dimension with noise.\n",
      "Warning: covariate dimension does not aligned with the specified input dimension; filling in the remaining dimension with noise.\n",
      "Checking trial = 107\n",
      "Skipping trial 107 because y_factual > 20\n",
      "Checking trial = 108\n",
      "Skipping trial 108 because y_factual > 20\n",
      "Checking trial = 109\n",
      "Skipping trial 109 because y_factual > 20\n",
      "Checking trial = 110\n",
      "Skipping trial 110 because y_factual > 20\n",
      "Checking trial = 111\n",
      "Skipping trial 111 because y_factual > 20\n",
      "Checking trial = 112\n",
      "Skipping trial 112 because y_factual > 20\n",
      "Checking trial = 113\n",
      "Running on valid trial = 113\n",
      "Epoch 1: loss 4.7144,\tloss_y 3.9423, 3.9667, 0.0488,\tloss_eta 0.7721, 0.8037, 0.0632\n",
      "Epoch 100: loss 3.7440,\tloss_y 3.1112, 3.2026, 0.1828,\tloss_eta 0.6328, 0.8573, 0.4489\n",
      "Epoch 200: loss 2.2116,\tloss_y 1.5457, 1.8025, 0.5136,\tloss_eta 0.6659, 1.3339, 1.3360\n",
      "Epoch 300: loss 1.5387,\tloss_y 0.9663, 1.5499, 1.1673,\tloss_eta 0.5724, 1.2576, 1.3703\n",
      "Stopping at iter 372: |Δy|=-8.7092e-03, |Δη|=-9.7282e-03\n",
      "Warning: covariate dimension does not aligned with the specified input dimension; filling in the remaining dimension with noise.\n",
      "Warning: covariate dimension does not aligned with the specified input dimension; filling in the remaining dimension with noise.\n",
      "Checking trial = 114\n",
      "Skipping trial 114 because y_factual > 20\n",
      "Checking trial = 115\n",
      "Running on valid trial = 115\n",
      "Epoch 1: loss 6.3684,\tloss_y 5.5645, 5.5831, 0.0371,\tloss_eta 0.8039, 0.8242, 0.0406\n",
      "Epoch 100: loss 5.4123,\tloss_y 4.7495, 4.8260, 0.1531,\tloss_eta 0.6628, 0.8842, 0.4428\n",
      "Epoch 200: loss 3.6348,\tloss_y 2.9817, 3.1937, 0.4241,\tloss_eta 0.6531, 1.4048, 1.5032\n",
      "Epoch 300: loss 2.5724,\tloss_y 1.8786, 2.3569, 0.9568,\tloss_eta 0.6938, 1.6986, 2.0096\n",
      "Epoch 400: loss 1.8995,\tloss_y 1.2598, 2.1283, 1.7372,\tloss_eta 0.6397, 1.5284, 1.7774\n",
      "Epoch 500: loss 1.6194,\tloss_y 1.0481, 2.0321, 1.9679,\tloss_eta 0.5713, 1.4212, 1.6998\n",
      "Epoch 600: loss 1.5329,\tloss_y 0.9854, 1.8877, 1.8046,\tloss_eta 0.5475, 1.3831, 1.6712\n",
      "Epoch 700: loss 1.4213,\tloss_y 0.8701, 1.8269, 1.9136,\tloss_eta 0.5512, 1.3582, 1.6140\n",
      "Epoch 800: loss 1.3246,\tloss_y 0.7590, 1.6897, 1.8614,\tloss_eta 0.5656, 1.3570, 1.5828\n",
      "Epoch 900: loss 1.3444,\tloss_y 0.7642, 1.7024, 1.8764,\tloss_eta 0.5802, 1.3267, 1.4930\n",
      "Epoch 1000: loss 1.2966,\tloss_y 0.7375, 1.6379, 1.8007,\tloss_eta 0.5591, 1.3165, 1.5147\n",
      "Warning: covariate dimension does not aligned with the specified input dimension; filling in the remaining dimension with noise.\n",
      "Warning: covariate dimension does not aligned with the specified input dimension; filling in the remaining dimension with noise.\n",
      "Checking trial = 116\n",
      "Skipping trial 116 because y_factual > 20\n",
      "Checking trial = 117\n",
      "Skipping trial 117 because y_factual > 20\n",
      "Checking trial = 118\n",
      "Skipping trial 118 because y_factual > 20\n",
      "Checking trial = 119\n",
      "Skipping trial 119 because y_factual > 20\n",
      "Checking trial = 120\n",
      "Running on valid trial = 120\n",
      "Epoch 1: loss 6.2438,\tloss_y 5.4929, 5.5093, 0.0328,\tloss_eta 0.7509, 0.7784, 0.0550\n",
      "Epoch 100: loss 5.4191,\tloss_y 4.7888, 4.8856, 0.1937,\tloss_eta 0.6303, 0.8833, 0.5062\n",
      "Epoch 200: loss 3.4987,\tloss_y 2.7053, 3.0015, 0.5924,\tloss_eta 0.7933, 1.7098, 1.8330\n",
      "Epoch 300: loss 2.1531,\tloss_y 1.3821, 2.2951, 1.8259,\tloss_eta 0.7709, 1.8891, 2.2363\n",
      "Epoch 400: loss 1.7502,\tloss_y 1.0773, 2.2017, 2.2489,\tloss_eta 0.6729, 1.5557, 1.7655\n",
      "Epoch 500: loss 1.5884,\tloss_y 0.9415, 2.0352, 2.1874,\tloss_eta 0.6470, 1.3351, 1.3763\n",
      "Epoch 600: loss 1.3861,\tloss_y 0.7841, 1.7226, 1.8769,\tloss_eta 0.6019, 1.2633, 1.3227\n",
      "Epoch 700: loss 1.3248,\tloss_y 0.7283, 1.5630, 1.6693,\tloss_eta 0.5965, 1.1510, 1.1092\n",
      "Epoch 800: loss 1.2456,\tloss_y 0.6653, 1.4387, 1.5469,\tloss_eta 0.5803, 1.1082, 1.0559\n",
      "Epoch 900: loss 1.1932,\tloss_y 0.5970, 1.3839, 1.5738,\tloss_eta 0.5963, 1.0911, 0.9896\n",
      "Epoch 1000: loss 1.2076,\tloss_y 0.5976, 1.3115, 1.4279,\tloss_eta 0.6100, 1.0889, 0.9577\n",
      "Warning: covariate dimension does not aligned with the specified input dimension; filling in the remaining dimension with noise.\n",
      "Warning: covariate dimension does not aligned with the specified input dimension; filling in the remaining dimension with noise.\n"
     ]
    }
   ],
   "source": [
    "# Experiment parameters\n",
    "binary_intervention = True\n",
    "num_iters = 400\n",
    "p = 25\n",
    "z_binary_dims = 19\n",
    "path = '/Users/linyingyang/Documents/Project/frengression/frengression/data_causl'\n",
    "\n",
    "# Initialize tracker for valid trials\n",
    "\n",
    "valid_trials = 0\n",
    "max_trials = 50  # We want results from 50 valid trials\n",
    "trial = 0\n",
    "\n",
    "\n",
    "# tracker = {\"fr\": [], \"dr\": [], \"causalegm\":[], \"tarnet\":[], \"cfrnet\":[], \"cevae\":[], \"dragonnet\":[]}\n",
    "# best_hps = {model: None for model in [\"tarnet\",\"cfrnet\",\"cevae\",\"dragonnet\"]}\n",
    "\n",
    "while valid_trials < max_trials:\n",
    "    print(f\"Checking trial = {trial}\")\n",
    "    df_tr, df_te = process_data(path=path, trial=trial)\n",
    "\n",
    "\n",
    "    # Skip this trial if any y_factual in df_tr exceeds 20\n",
    "    if (df_tr['y_factual'] > 20).any():\n",
    "        print(f\"Skipping trial {trial} because y_factual > 20\")\n",
    "        trial += 1\n",
    "        continue\n",
    "    print(f\"Running on valid trial = {trial}\")\n",
    "    \n",
    "    # Prepare tensors for training\n",
    "    z_tr = torch.tensor(df_tr[[f\"X{i}\" for i in range(1, p + 1)]].values, dtype=torch.float32)\n",
    "    x_tr = torch.tensor(df_tr['treatment'].values, dtype=torch.float32).view(-1, 1)\n",
    "    y_tr = torch.tensor(df_tr['y_factual'].values, dtype=torch.float32).view(-1, 1)\n",
    "    # ate_sample = torch.tensor(np.mean(df_tr['mu1'].values - df_tr['mu0'].values), dtype=torch.float32).view(-1, 1)\n",
    "    # df_tr.rename(columns={\n",
    "    #     'treatment': 'A',\n",
    "    #     'y_factual': 'y'\n",
    "    # }, inplace=True)\n",
    "\n",
    "    # DR ATE estimation\n",
    "    # z_tr_np = df_tr[[f\"X{i}\" for i in range(1, p + 1)]].values\n",
    "    # x_tr_np = df_tr['treatment'].values\n",
    "    # y_tr_np = df_tr['y_factual'].values\n",
    "\n",
    "    # z_te_np = df_te[[f\"X{i}\" for i in range(1, p + 1)]].values\n",
    "    # z_te = torch.tensor(df_te[[f\"X{i}\" for i in range(1, p + 1)]].values, dtype=torch.float32)\n",
    "    # x_te_np = df_te['treatment'].values\n",
    "    # y_te_np = df_te['y_factual'].values\n",
    "    # hat_dr, _ = dr_ate(x_tr_np, y_tr_np, z_tr_np, x_te_np, y_te_np, z_te_np)\n",
    "\n",
    "    # Initialize Frengression model\n",
    "    model = Frengression(x_tr.shape[1], y_tr.shape[1], z_tr.shape[1], \n",
    "                         noise_dim=1, num_layer=3, hidden_dim=100, \n",
    "                         device=torch.device('cuda' if torch.cuda.is_available() else 'cpu'),\n",
    "                         x_binary=binary_intervention, z_binary_dims=0)\n",
    "    \n",
    "\n",
    "    model.train_y(x_tr, z_tr, y_tr, num_iters=1000, lr=1e-4, print_every_iter=100, tol = 0.01)\n",
    "\n",
    "\n",
    "    # # Sample model distributions\n",
    "    P0 = model.predict_causal(torch.tensor([0], dtype=torch.int32), sample_size=1000).numpy()\n",
    "    P1 = model.sample_causal_margin(torch.tensor([1], dtype=torch.int32), sample_size=1000).numpy().reshape(-1, 1)\n",
    "    ate_fr = np.mean(P1) - np.mean(P0)\n",
    "    # ate_fr = cross_fit_frengression(df_tr, binary_intervention, p, outcome_reg=False, k_folds=1, num_iters=1000, lr=1e-4, sample_size=1000)['ATE']\n",
    "\n",
    "    tracker['fr'].append(ate_fr)\n",
    "\n",
    "    # Increment valid trials counter and move to the next trial\n",
    "    valid_trials += 1\n",
    "    trial += 1\n",
    "\n"
   ]
  },
  {
   "cell_type": "code",
   "execution_count": null,
   "id": "6bc83b80",
   "metadata": {},
   "outputs": [
    {
     "name": "stdout",
     "output_type": "stream",
     "text": [
      "Epoch 1: loss 6.3513,\tloss_y 5.5959, 5.6152, 0.0386,\tloss_eta 0.7554, 0.7892, 0.0675\n",
      "Epoch 10: loss 6.3342,\tloss_y 5.5504, 5.5665, 0.0321,\tloss_eta 0.7838, 0.8290, 0.0905\n",
      "Epoch 20: loss 6.2569,\tloss_y 5.4910, 5.5083, 0.0345,\tloss_eta 0.7659, 0.8254, 0.1191\n",
      "Epoch 30: loss 6.1519,\tloss_y 5.4160, 5.4429, 0.0538,\tloss_eta 0.7359, 0.8197, 0.1676\n",
      "Epoch 40: loss 6.0878,\tloss_y 5.3530, 5.3838, 0.0617,\tloss_eta 0.7348, 0.8371, 0.2045\n",
      "Epoch 50: loss 5.9616,\tloss_y 5.2785, 5.3217, 0.0864,\tloss_eta 0.6831, 0.8125, 0.2589\n",
      "Epoch 60: loss 5.8445,\tloss_y 5.2020, 5.2536, 0.1033,\tloss_eta 0.6425, 0.7949, 0.3048\n",
      "Epoch 70: loss 5.8022,\tloss_y 5.1093, 5.1736, 0.1287,\tloss_eta 0.6930, 0.8774, 0.3690\n",
      "Epoch 80: loss 5.6717,\tloss_y 5.0314, 5.0980, 0.1333,\tloss_eta 0.6404, 0.8550, 0.4292\n",
      "Epoch 90: loss 5.5649,\tloss_y 4.9392, 5.0136, 0.1489,\tloss_eta 0.6257, 0.8798, 0.5082\n",
      "Epoch 100: loss 5.4499,\tloss_y 4.8066, 4.8988, 0.1844,\tloss_eta 0.6433, 0.9269, 0.5671\n",
      "Epoch 110: loss 5.3158,\tloss_y 4.6843, 4.7857, 0.2028,\tloss_eta 0.6314, 0.9698, 0.6768\n",
      "Epoch 120: loss 5.1724,\tloss_y 4.5486, 4.6578, 0.2184,\tloss_eta 0.6238, 0.9935, 0.7394\n",
      "Epoch 130: loss 4.9956,\tloss_y 4.3787, 4.5106, 0.2637,\tloss_eta 0.6168, 1.0350, 0.8364\n",
      "Epoch 140: loss 4.8121,\tloss_y 4.2286, 4.3652, 0.2733,\tloss_eta 0.5835, 1.0535, 0.9399\n",
      "Epoch 150: loss 4.6540,\tloss_y 4.0479, 4.2066, 0.3174,\tloss_eta 0.6062, 1.1357, 1.0591\n",
      "Epoch 160: loss 4.4892,\tloss_y 3.8722, 4.0487, 0.3531,\tloss_eta 0.6170, 1.2185, 1.2029\n",
      "Epoch 170: loss 4.3048,\tloss_y 3.6759, 3.8859, 0.4200,\tloss_eta 0.6289, 1.2690, 1.2802\n",
      "Epoch 180: loss 4.1339,\tloss_y 3.5170, 3.7464, 0.4587,\tloss_eta 0.6169, 1.3320, 1.4302\n",
      "Epoch 190: loss 3.9958,\tloss_y 3.3802, 3.6572, 0.5539,\tloss_eta 0.6156, 1.3593, 1.4874\n",
      "Epoch 200: loss 3.8639,\tloss_y 3.2370, 3.5324, 0.5909,\tloss_eta 0.6270, 1.3703, 1.4867\n",
      "Epoch 210: loss 3.7170,\tloss_y 3.0870, 3.4125, 0.6509,\tloss_eta 0.6300, 1.4059, 1.5518\n",
      "Epoch 220: loss 3.5209,\tloss_y 2.9077, 3.2790, 0.7425,\tloss_eta 0.6132, 1.4106, 1.5949\n",
      "Epoch 230: loss 3.2535,\tloss_y 2.6686, 3.1234, 0.9096,\tloss_eta 0.5849, 1.4770, 1.7842\n",
      "Epoch 240: loss 3.1121,\tloss_y 2.5308, 3.0149, 0.9681,\tloss_eta 0.5813, 1.4706, 1.7785\n",
      "Epoch 250: loss 2.9024,\tloss_y 2.2998, 2.8638, 1.1281,\tloss_eta 0.6026, 1.5670, 1.9288\n",
      "Epoch 260: loss 2.7609,\tloss_y 2.1107, 2.7183, 1.2151,\tloss_eta 0.6502, 1.6111, 1.9218\n",
      "Epoch 270: loss 2.6039,\tloss_y 1.9450, 2.6594, 1.4289,\tloss_eta 0.6590, 1.6824, 2.0468\n",
      "Epoch 280: loss 2.4866,\tloss_y 1.8338, 2.5966, 1.5257,\tloss_eta 0.6528, 1.6803, 2.0551\n",
      "Epoch 290: loss 2.3074,\tloss_y 1.6773, 2.5299, 1.7051,\tloss_eta 0.6301, 1.6780, 2.0959\n",
      "Epoch 300: loss 2.2406,\tloss_y 1.6144, 2.5136, 1.7985,\tloss_eta 0.6262, 1.7162, 2.1800\n",
      "Epoch 310: loss 2.1637,\tloss_y 1.5252, 2.4864, 1.9223,\tloss_eta 0.6385, 1.6569, 2.0368\n",
      "Epoch 320: loss 2.1787,\tloss_y 1.4954, 2.4677, 1.9445,\tloss_eta 0.6832, 1.6894, 2.0124\n",
      "Epoch 330: loss 2.0750,\tloss_y 1.4842, 2.4520, 1.9356,\tloss_eta 0.5908, 1.6544, 2.1271\n",
      "Epoch 340: loss 2.0090,\tloss_y 1.3888, 2.4201, 2.0627,\tloss_eta 0.6203, 1.5962, 1.9519\n",
      "Epoch 350: loss 2.1067,\tloss_y 1.4335, 2.4477, 2.0284,\tloss_eta 0.6731, 1.6185, 1.8907\n",
      "Epoch 360: loss 1.8848,\tloss_y 1.2890, 2.3300, 2.0821,\tloss_eta 0.5959, 1.5228, 1.8539\n",
      "Epoch 370: loss 1.8630,\tloss_y 1.2189, 2.3101, 2.1825,\tloss_eta 0.6442, 1.5550, 1.8216\n",
      "Epoch 380: loss 1.7421,\tloss_y 1.1929, 2.2144, 2.0430,\tloss_eta 0.5491, 1.4623, 1.8262\n",
      "Epoch 390: loss 1.8411,\tloss_y 1.2499, 2.3172, 2.1345,\tloss_eta 0.5912, 1.4286, 1.6747\n",
      "Epoch 400: loss 1.7940,\tloss_y 1.1809, 2.2312, 2.1006,\tloss_eta 0.6131, 1.4594, 1.6926\n",
      "Epoch 410: loss 1.8427,\tloss_y 1.2190, 2.3326, 2.2271,\tloss_eta 0.6236, 1.4543, 1.6614\n",
      "Epoch 420: loss 1.7010,\tloss_y 1.1376, 2.3056, 2.3360,\tloss_eta 0.5634, 1.4457, 1.7645\n",
      "Epoch 430: loss 1.7667,\tloss_y 1.1541, 2.1760, 2.0439,\tloss_eta 0.6126, 1.4406, 1.6559\n",
      "Epoch 440: loss 1.7671,\tloss_y 1.1377, 2.2180, 2.1606,\tloss_eta 0.6294, 1.4372, 1.6157\n",
      "Epoch 450: loss 1.5680,\tloss_y 1.0544, 2.0995, 2.0903,\tloss_eta 0.5136, 1.3528, 1.6783\n",
      "Epoch 460: loss 1.7617,\tloss_y 1.1320, 2.2294, 2.1947,\tloss_eta 0.6296, 1.3972, 1.5350\n",
      "Epoch 470: loss 1.7622,\tloss_y 1.1655, 2.1947, 2.0585,\tloss_eta 0.5967, 1.3690, 1.5444\n",
      "Epoch 480: loss 1.6872,\tloss_y 1.0431, 2.1378, 2.1893,\tloss_eta 0.6441, 1.3980, 1.5078\n",
      "Epoch 490: loss 1.6355,\tloss_y 1.0287, 2.1391, 2.2208,\tloss_eta 0.6069, 1.3706, 1.5274\n",
      "Epoch 500: loss 1.5769,\tloss_y 0.9905, 2.1090, 2.2368,\tloss_eta 0.5864, 1.3559, 1.5390\n",
      "Epoch 510: loss 1.6066,\tloss_y 1.0317, 2.0589, 2.0542,\tloss_eta 0.5749, 1.2586, 1.3675\n",
      "Epoch 520: loss 1.5702,\tloss_y 1.0109, 2.0867, 2.1517,\tloss_eta 0.5594, 1.3133, 1.5078\n",
      "Epoch 530: loss 1.6248,\tloss_y 0.9893, 2.0389, 2.0993,\tloss_eta 0.6356, 1.3135, 1.3558\n",
      "Epoch 540: loss 1.5418,\tloss_y 0.9544, 1.9768, 2.0449,\tloss_eta 0.5874, 1.2940, 1.4132\n",
      "Epoch 550: loss 1.5360,\tloss_y 0.9788, 2.0184, 2.0792,\tloss_eta 0.5572, 1.2625, 1.4106\n",
      "Epoch 560: loss 1.5580,\tloss_y 0.9390, 1.9681, 2.0583,\tloss_eta 0.6190, 1.2559, 1.2737\n",
      "Epoch 570: loss 1.5646,\tloss_y 1.0006, 2.0153, 2.0293,\tloss_eta 0.5640, 1.2202, 1.3126\n",
      "Epoch 580: loss 1.4806,\tloss_y 0.8568, 1.9396, 2.1657,\tloss_eta 0.6238, 1.3071, 1.3665\n",
      "Epoch 590: loss 1.5705,\tloss_y 0.9604, 1.9873, 2.0537,\tloss_eta 0.6100, 1.2407, 1.2613\n",
      "Epoch 600: loss 1.5661,\tloss_y 0.9885, 2.0016, 2.0262,\tloss_eta 0.5776, 1.2117, 1.2682\n",
      "Epoch 610: loss 1.4851,\tloss_y 0.9064, 1.9367, 2.0606,\tloss_eta 0.5787, 1.2060, 1.2545\n",
      "Epoch 620: loss 1.5187,\tloss_y 0.9534, 1.9020, 1.8973,\tloss_eta 0.5653, 1.2218, 1.3129\n",
      "Epoch 630: loss 1.5616,\tloss_y 0.9461, 1.9373, 1.9823,\tloss_eta 0.6155, 1.2344, 1.2378\n",
      "Epoch 640: loss 1.5063,\tloss_y 0.9007, 1.9206, 2.0400,\tloss_eta 0.6056, 1.2049, 1.1985\n",
      "Epoch 650: loss 1.5265,\tloss_y 0.9021, 1.8704, 1.9364,\tloss_eta 0.6243, 1.2277, 1.2067\n",
      "Epoch 660: loss 1.5360,\tloss_y 0.8668, 1.8402, 1.9469,\tloss_eta 0.6692, 1.2390, 1.1396\n",
      "Epoch 670: loss 1.4622,\tloss_y 0.8538, 1.8549, 2.0021,\tloss_eta 0.6083, 1.1759, 1.1351\n",
      "Epoch 680: loss 1.4704,\tloss_y 0.8832, 1.8185, 1.8706,\tloss_eta 0.5872, 1.1883, 1.2022\n",
      "Epoch 690: loss 1.5449,\tloss_y 0.9146, 1.8108, 1.7924,\tloss_eta 0.6304, 1.2002, 1.1396\n",
      "Epoch 700: loss 1.4955,\tloss_y 0.8770, 1.7993, 1.8446,\tloss_eta 0.6185, 1.1960, 1.1550\n",
      "Epoch 710: loss 1.4362,\tloss_y 0.8602, 1.7843, 1.8482,\tloss_eta 0.5760, 1.1354, 1.1189\n",
      "Epoch 720: loss 1.4386,\tloss_y 0.8553, 1.7316, 1.7526,\tloss_eta 0.5834, 1.1752, 1.1837\n",
      "Epoch 730: loss 1.4352,\tloss_y 0.8014, 1.6964, 1.7901,\tloss_eta 0.6338, 1.2055, 1.1434\n",
      "Epoch 740: loss 1.4558,\tloss_y 0.8780, 1.7912, 1.8264,\tloss_eta 0.5778, 1.1694, 1.1832\n",
      "Epoch 750: loss 1.4047,\tloss_y 0.8189, 1.7484, 1.8591,\tloss_eta 0.5858, 1.1502, 1.1288\n",
      "Epoch 760: loss 1.4187,\tloss_y 0.8383, 1.7725, 1.8683,\tloss_eta 0.5804, 1.1365, 1.1122\n",
      "Epoch 770: loss 1.2994,\tloss_y 0.7237, 1.6314, 1.8154,\tloss_eta 0.5757, 1.1310, 1.1106\n",
      "Epoch 780: loss 1.3120,\tloss_y 0.7658, 1.6071, 1.6826,\tloss_eta 0.5462, 1.1017, 1.1110\n",
      "Epoch 790: loss 1.4765,\tloss_y 0.8294, 1.6740, 1.6892,\tloss_eta 0.6470, 1.1677, 1.0413\n",
      "Epoch 800: loss 1.3226,\tloss_y 0.7102, 1.5868, 1.7531,\tloss_eta 0.6124, 1.1381, 1.0513\n",
      "Epoch 810: loss 1.3311,\tloss_y 0.7556, 1.6771, 1.8432,\tloss_eta 0.5755, 1.0919, 1.0328\n",
      "Epoch 820: loss 1.3754,\tloss_y 0.7751, 1.6018, 1.6532,\tloss_eta 0.6003, 1.1266, 1.0526\n",
      "Epoch 830: loss 1.3501,\tloss_y 0.7878, 1.6436, 1.7117,\tloss_eta 0.5623, 1.1041, 1.0835\n",
      "Epoch 840: loss 1.3846,\tloss_y 0.7601, 1.6224, 1.7246,\tloss_eta 0.6244, 1.1351, 1.0213\n",
      "Epoch 850: loss 1.2808,\tloss_y 0.7181, 1.5989, 1.7617,\tloss_eta 0.5627, 1.0740, 1.0227\n",
      "Epoch 860: loss 1.3999,\tloss_y 0.8012, 1.6289, 1.6554,\tloss_eta 0.5987, 1.1066, 1.0158\n",
      "Epoch 870: loss 1.3146,\tloss_y 0.7341, 1.6167, 1.7654,\tloss_eta 0.5805, 1.0972, 1.0334\n",
      "Epoch 880: loss 1.2595,\tloss_y 0.6961, 1.5721, 1.7521,\tloss_eta 0.5634, 1.0621, 0.9974\n",
      "Epoch 890: loss 1.3502,\tloss_y 0.7926, 1.6263, 1.6675,\tloss_eta 0.5577, 1.0544, 0.9936\n",
      "Epoch 900: loss 1.3622,\tloss_y 0.7144, 1.5793, 1.7297,\tloss_eta 0.6477, 1.1246, 0.9537\n",
      "Epoch 910: loss 1.3150,\tloss_y 0.7436, 1.5739, 1.6606,\tloss_eta 0.5714, 1.0833, 1.0238\n",
      "Epoch 920: loss 1.3245,\tloss_y 0.7053, 1.5119, 1.6131,\tloss_eta 0.6192, 1.0926, 0.9468\n",
      "Epoch 930: loss 1.3172,\tloss_y 0.7077, 1.5194, 1.6233,\tloss_eta 0.6095, 1.0890, 0.9590\n",
      "Epoch 940: loss 1.3170,\tloss_y 0.6759, 1.4756, 1.5994,\tloss_eta 0.6412, 1.1287, 0.9750\n",
      "Epoch 950: loss 1.3051,\tloss_y 0.6936, 1.4930, 1.5987,\tloss_eta 0.6114, 1.0987, 0.9746\n",
      "Epoch 960: loss 1.3071,\tloss_y 0.7306, 1.5148, 1.5683,\tloss_eta 0.5765, 1.0613, 0.9696\n",
      "Epoch 970: loss 1.2492,\tloss_y 0.6566, 1.4655, 1.6177,\tloss_eta 0.5925, 1.0610, 0.9369\n",
      "Epoch 980: loss 1.2452,\tloss_y 0.6788, 1.4963, 1.6350,\tloss_eta 0.5664, 1.0295, 0.9263\n",
      "Epoch 990: loss 1.2990,\tloss_y 0.7118, 1.5071, 1.5906,\tloss_eta 0.5872, 1.0319, 0.8894\n",
      "Epoch 1000: loss 1.2508,\tloss_y 0.6656, 1.4523, 1.5735,\tloss_eta 0.5852, 1.0585, 0.9466\n",
      "Warning: covariate dimension does not aligned with the specified input dimension; filling in the remaining dimension with noise.\n",
      "Warning: covariate dimension does not aligned with the specified input dimension; filling in the remaining dimension with noise.\n"
     ]
    },
    {
     "data": {
      "text/plain": [
       "2.6366491"
      ]
     },
     "execution_count": 94,
     "metadata": {},
     "output_type": "execute_result"
    }
   ],
   "source": [
    "model = Frengression(x_tr.shape[1], y_tr.shape[1], z_tr.shape[1], \n",
    "                         noise_dim=1, num_layer=3, hidden_dim=100, \n",
    "                         device=torch.device('cuda' if torch.cuda.is_available() else 'cpu'),\n",
    "                         x_binary=binary_intervention, z_binary_dims=0)\n",
    "    \n",
    "\n",
    "model.train_y(x_tr, z_tr, y_tr, num_iters=1000, lr=1e-4, print_every_iter=100, tol = 0)\n",
    "\n",
    "\n",
    "# # Sample model distributions\n",
    "P0 = model.predict_causal(torch.tensor([0], dtype=torch.int32), sample_size=1000).numpy()\n",
    "P1 = model.sample_causal_margin(torch.tensor([1], dtype=torch.int32), sample_size=1000).numpy().reshape(-1, 1)\n",
    "ate_fr = np.mean(P1) - np.mean(P0)\n",
    "ate_fr"
   ]
  },
  {
   "cell_type": "code",
   "execution_count": 96,
   "id": "939e0392",
   "metadata": {},
   "outputs": [
    {
     "name": "stdout",
     "output_type": "stream",
     "text": [
      "Warning: covariate dimension does not aligned with the specified input dimension; filling in the remaining dimension with noise.\n"
     ]
    },
    {
     "data": {
      "text/plain": [
       "(array([366., 261., 151., 112.,  55.,  24.,  22.,   5.,   2.,   2.]),\n",
       " array([ 4.58836126,  5.98610735,  7.38385344,  8.7816    , 10.17934608,\n",
       "        11.57709217, 12.97483826, 14.37258434, 15.77033043, 17.16807556,\n",
       "        18.5658226 ]),\n",
       " <BarContainer object of 10 artists>)"
      ]
     },
     "execution_count": 96,
     "metadata": {},
     "output_type": "execute_result"
    },
    {
     "data": {
      "image/png": "[encoded data removed]",
      "text/plain": [
       "<Figure size 640x480 with 1 Axes>"
      ]
     },
     "metadata": {},
     "output_type": "display_data"
    }
   ],
   "source": [
    "plt.hist(model.sample_causal_margin(torch.tensor([1], dtype=torch.int32), sample_size=1000).numpy().reshape(-1))"
   ]
  },
  {
   "cell_type": "code",
   "execution_count": 80,
   "id": "aaebdd00",
   "metadata": {},
   "outputs": [
    {
     "data": {
      "text/plain": [
       "<Axes: >"
      ]
     },
     "execution_count": 80,
     "metadata": {},
     "output_type": "execute_result"
    },
    {
     "data": {
      "image/png": "[encoded data removed]",
      "text/plain": [
       "<Figure size 640x480 with 1 Axes>"
      ]
     },
     "metadata": {},
     "output_type": "display_data"
    }
   ],
   "source": [
    "df_tr['mu1'].hist()"
   ]
  },
  {
   "cell_type": "code",
   "execution_count": 67,
   "id": "26403604",
   "metadata": {},
   "outputs": [],
   "source": [
    "import json, os\n",
    "\n",
    "output_dir = \"result/binary\"\n",
    "os.makedirs(output_dir, exist_ok=True)\n",
    "\n",
    "# Convert each list of (possibly numpy) numbers into plain Python floats\n",
    "tracker_serializable = {\n",
    "    model: [float(x) for x in lst]\n",
    "    for model, lst in tracker.items()\n",
    "}\n",
    "\n",
    "with open(os.path.join(output_dir, \"ihdp.json\"), \"w\") as f:\n",
    "    json.dump(tracker_serializable, f, indent=4)"
   ]
  },
  {
   "cell_type": "code",
   "execution_count": 268,
   "id": "8cda8d9f",
   "metadata": {},
   "outputs": [
    {
     "name": "stdout",
     "output_type": "stream",
     "text": [
      "\\begin{tabular}{llllll}\n",
      "\\toprule\n",
      " &  & fr & dr & causalegm & dragonnet \\\\\n",
      "strength & metric &  &  &  &  \\\\\n",
      "\\midrule\n",
      "\\multirow[t]{3}{*}{0.0} & rmse & 0.11 & 0.19 & 0.27 & 0.13 \\\\\n",
      " & bias & -0.01 & 0.05 & -0.27 & 0.02 \\\\\n",
      " & mae & 0.08 & 0.15 & 0.27 & 0.11 \\\\\n",
      "\\cline{1-6}\n",
      "\\multirow[t]{3}{*}{0.5} & rmse & 0.15 & 0.35 & 0.34 & 0.12 \\\\\n",
      " & bias & -0.08 & 0.05 & -0.33 & 0.02 \\\\\n",
      " & mae & 0.10 & 0.21 & 0.33 & 0.10 \\\\\n",
      "\\cline{1-6}\n",
      "\\multirow[t]{3}{*}{1.0} & rmse & 0.12 & 0.30 & 0.42 & 0.13 \\\\\n",
      " & bias & -0.04 & 0.05 & -0.42 & 0.04 \\\\\n",
      " & mae & 0.08 & 0.20 & 0.42 & 0.10 \\\\\n",
      "\\cline{1-6}\n",
      "\\multirow[t]{3}{*}{1.5} & rmse & 0.12 & 0.36 & 0.49 & 0.05 \\\\\n",
      " & bias & -0.03 & 0.09 & -0.49 & 2.847e-03 \\\\\n",
      " & mae & 0.10 & 0.20 & 0.49 & 0.04 \\\\\n",
      "\\cline{1-6}\n",
      "\\multirow[t]{3}{*}{2.0} & rmse & 0.14 & 0.26 & 0.57 & 0.09 \\\\\n",
      " & bias & -0.06 & -0.02 & -0.57 & -0.02 \\\\\n",
      " & mae & 0.10 & 0.18 & 0.57 & 0.07 \\\\\n",
      "\\cline{1-6}\n",
      "\\bottomrule\n",
      "\\end{tabular}\n",
      "\n"
     ]
    }
   ],
   "source": [
    "import json\n",
    "import numpy as np\n",
    "import pandas as pd\n",
    "\n",
    "# 1) Load your tracker\n",
    "with open(\"result/binary/synthetic_1k_v1.json\") as f:\n",
    "    tracker = json.load(f)\n",
    "\n",
    "# 2) Define strengths and methods in the order you want\n",
    "strengths = sorted(tracker.keys(), key=lambda x: float(x))\n",
    "methods   = [\"fr\",\"dr\",\"causalegm\",\"dragonnet\"]\n",
    "\n",
    "# 3) Build a MultiIndex DataFrame\n",
    "rows = []\n",
    "index = []\n",
    "for s in strengths:\n",
    "    ests = tracker[s]\n",
    "    # precompute each method’s metrics\n",
    "    stats = {}\n",
    "    for m in methods:\n",
    "        arr = np.array(ests[m])\n",
    "        stats[m] = {\n",
    "            \"rmse\": np.sqrt(((arr - 2.0)**2).mean()),\n",
    "            \"bias\": arr.mean() - 2.0,\n",
    "            \"mae\":  np.abs(arr - 2.0).mean()\n",
    "        }\n",
    "    # for each metric, make one row\n",
    "    for metric in [\"rmse\",\"bias\",\"mae\"]:\n",
    "        index.append((s, metric))\n",
    "        rows.append([stats[m][metric] for m in methods])\n",
    "\n",
    "df = pd.DataFrame(rows,\n",
    "                  index=pd.MultiIndex.from_tuples(index,\n",
    "                                                  names=[\"strength\",\"metric\"]),\n",
    "                  columns=methods)\n",
    "\n",
    "# 4) Formatting function\n",
    "def fmt(x):\n",
    "    if 1e-2 <= abs(x) < 1e0:\n",
    "        return f\"{x:.2f}\"\n",
    "    else:\n",
    "        return f\"{x:.3e}\"\n",
    "\n",
    "df_fmt = df.applymap(fmt)\n",
    "\n",
    "# 5) Print LaTeX\n",
    "print(df_fmt.to_latex(multicolumn=True, multirow=True, escape=False))\n"
   ]
  },
  {
   "cell_type": "code",
   "execution_count": 267,
   "id": "16307579",
   "metadata": {},
   "outputs": [
    {
     "data": {
      "image/png": "[encoded data removed]",
      "text/plain": [
       "<Figure size 1000x500 with 1 Axes>"
      ]
     },
     "metadata": {},
     "output_type": "display_data"
    }
   ],
   "source": [
    "import json\n",
    "import numpy as np\n",
    "import matplotlib.pyplot as plt\n",
    "from matplotlib.patches import Patch\n",
    "\n",
    "# Load\n",
    "with open(\"result/binary/synthetic_1k_v1.json\") as f:\n",
    "    tracker = json.load(f)\n",
    "\n",
    "strengths = sorted(tracker.keys(), key=lambda x: float(x))\n",
    "methods   = [\"fr\",\"dr\",\"causalegm\",\"dragonnet\"]\n",
    "colors    = {\n",
    "    \"fr\":        \"#1f77b4\",  # blue\n",
    "    \"dr\":        \"#ff7f0e\",  # orange\n",
    "    \"causalegm\": \"#2ca02c\",  # green\n",
    "    \"dragonnet\": \"#d62728\",  # red\n",
    "}\n",
    "\n",
    "plt.figure(figsize=(10, 5))\n",
    "n = len(strengths)\n",
    "m = len(methods)\n",
    "width = 0.8 / m\n",
    "\n",
    "for i, s in enumerate(strengths):\n",
    "    if i == 1:\n",
    "        pass \n",
    "    for j, meth in enumerate(methods):\n",
    "        pos = i - 0.4 + j*width + width/2\n",
    "        data = tracker[s][meth]\n",
    "        plt.boxplot(data,\n",
    "                    positions=[pos],\n",
    "                    widths=width*0.9,\n",
    "                    patch_artist=True,\n",
    "                    boxprops=dict(facecolor=colors[meth], alpha=0.6),\n",
    "                    medianprops=dict(color=\"black\"))\n",
    "\n",
    "# True ATE line\n",
    "plt.axhline(2.0, color='black', linestyle='--', linewidth=1)\n",
    "\n",
    "# Ticks & labels\n",
    "plt.xticks(ticks=list(range(n)), labels=strengths)\n",
    "plt.xlabel(\"Instrument Strength\")\n",
    "plt.ylabel(\"ATE Estimate\")\n",
    "\n",
    "# Single legend\n",
    "handles = [Patch(facecolor=colors[m], label=m) for m in methods]\n",
    "handles.append(Patch(facecolor='none', edgecolor='black', linestyle='--', label='True ATE'))\n",
    "plt.legend(handles=handles, loc=\"upper right\", frameon=False, ncol=1)\n",
    "\n",
    "plt.title(\"ATE Estimates by Method across Instrument Strengths\")\n",
    "plt.grid(alpha=0.3)\n",
    "plt.tight_layout()\n",
    "plt.show()\n"
   ]
  },
  {
   "cell_type": "code",
   "execution_count": 68,
   "id": "197d99fb",
   "metadata": {},
   "outputs": [
    {
     "name": "stdout",
     "output_type": "stream",
     "text": [
      "            RMSE   Bias    MAE\n",
      "method                        \n",
      "fr         2.161 -2.034  2.034\n",
      "dr         0.545 -0.002  0.426\n",
      "causalegm  1.807 -1.671  1.671\n",
      "tarnet     4.000 -4.000  4.000\n",
      "cfrnet     4.005 -4.005  4.005\n",
      "cevae      3.997 -3.997  3.997\n",
      "dragonnet  0.429  0.095  0.228\n",
      "\n",
      "LaTeX:\n",
      "\\begin{tabular}{lrrr}\n",
      " & RMSE & Bias & MAE \\\\\n",
      "method &  &  &  \\\\\n",
      "fr & 2.161 & -2.034 & 2.034 \\\\\n",
      "dr & 0.545 & -0.002 & 0.426 \\\\\n",
      "causalegm & 1.807 & -1.671 & 1.671 \\\\\n",
      "tarnet & 4.000 & -4.000 & 4.000 \\\\\n",
      "cfrnet & 4.005 & -4.005 & 4.005 \\\\\n",
      "cevae & 3.997 & -3.997 & 3.997 \\\\\n",
      "dragonnet & 0.429 & 0.095 & 0.228 \\\\\n",
      "\\end{tabular}\n",
      "\n"
     ]
    },
    {
     "data": {
      "image/png": "[encoded data removed]",
      "text/plain": [
       "<Figure size 800x500 with 1 Axes>"
      ]
     },
     "metadata": {},
     "output_type": "display_data"
    }
   ],
   "source": [
    "import json\n",
    "import numpy as np\n",
    "import pandas as pd\n",
    "import matplotlib.pyplot as plt\n",
    "from sklearn.metrics import mean_squared_error, mean_absolute_error\n",
    "\n",
    "# 1) load your tracker\n",
    "with open(\"result/binary/ihdp.json\") as f:\n",
    "    tracker = json.load(f)\n",
    "\n",
    "true_ate = 4.0\n",
    "methods = list(tracker.keys())\n",
    "\n",
    "# 2) compute metrics\n",
    "rows = []\n",
    "for m in methods:\n",
    "    est = np.array(tracker[m])\n",
    "    rmse = np.sqrt(mean_squared_error(np.full_like(est, true_ate), est))\n",
    "    bias = est.mean() - true_ate\n",
    "    mae  = mean_absolute_error(np.full_like(est, true_ate), est)\n",
    "    rows.append((m, rmse, bias, mae))\n",
    "\n",
    "df = pd.DataFrame(rows, columns=[\"method\",\"RMSE\",\"Bias\",\"MAE\"]).set_index(\"method\")\n",
    "\n",
    "# 3) print and latex\n",
    "print(df.round(3))\n",
    "print(\"\\nLaTeX:\")\n",
    "print(df.style.format(\"{:.3f}\").to_latex())\n",
    "\n",
    "# 4) boxplot\n",
    "plt.figure(figsize=(8,5))\n",
    "plt.boxplot([tracker[m] for m in methods], labels=methods, showmeans=True)\n",
    "plt.axhline(true_ate, color=\"red\", linestyle=\"--\", label=f\"True ATE = {true_ate}\")\n",
    "plt.ylabel(\"Estimated ATE\")\n",
    "plt.xticks(rotation=30)\n",
    "plt.title(\"IHDP ATE Estimates by Method\")\n",
    "plt.legend()\n",
    "plt.tight_layout()\n",
    "plt.show()\n"
   ]
  },
  {
   "cell_type": "code",
   "execution_count": 60,
   "id": "2d094976",
   "metadata": {},
   "outputs": [
    {
     "data": {
      "text/plain": [
       "{'fr': [1.8805840015411377,\n",
       "  1.2293577194213867,\n",
       "  0.6568965911865234,\n",
       "  2.7308053970336914,\n",
       "  6.7533650398254395,\n",
       "  2.585493803024292,\n",
       "  3.0861685276031494,\n",
       "  5.560434818267822,\n",
       "  3.4496939182281494,\n",
       "  1.6817498207092285,\n",
       "  1.768491506576538,\n",
       "  2.357041358947754,\n",
       "  3.2762045860290527,\n",
       "  3.6121296882629395,\n",
       "  1.6551244258880615,\n",
       "  2.425121545791626,\n",
       "  1.7421836853027344,\n",
       "  4.663026809692383,\n",
       "  1.9706707000732422,\n",
       "  3.5590524673461914,\n",
       "  3.593852996826172,\n",
       "  0.70867919921875,\n",
       "  1.2971398830413818,\n",
       "  3.0945327281951904,\n",
       "  3.8475189208984375,\n",
       "  2.3555026054382324,\n",
       "  2.7034294605255127,\n",
       "  3.650202512741089,\n",
       "  3.011929512023926,\n",
       "  3.8352622985839844,\n",
       "  2.0407004356384277,\n",
       "  3.8579959869384766,\n",
       "  2.9149911403656006,\n",
       "  3.6666154861450195,\n",
       "  2.5288898944854736,\n",
       "  4.005790710449219,\n",
       "  3.3521881103515625,\n",
       "  3.1037986278533936,\n",
       "  4.976897239685059,\n",
       "  3.2838261127471924,\n",
       "  2.3750123977661133,\n",
       "  0.9823637008666992,\n",
       "  1.7729506492614746,\n",
       "  4.098163604736328,\n",
       "  5.935720443725586,\n",
       "  5.997453689575195,\n",
       "  3.9930953979492188,\n",
       "  3.858281373977661,\n",
       "  2.8129262924194336,\n",
       "  1.6246185302734375],\n",
       " 'dr': [4.006907457200397,\n",
       "  3.97358315839989,\n",
       "  4.555680794797955,\n",
       "  3.3926268340111245,\n",
       "  4.309540826158594,\n",
       "  4.985031096686901,\n",
       "  4.081076928060376,\n",
       "  3.385490662223665,\n",
       "  3.2377325447302407,\n",
       "  5.012779297409851,\n",
       "  3.4388685478349883,\n",
       "  4.120023067590606,\n",
       "  3.3057304119259667,\n",
       "  3.8552453151524233,\n",
       "  4.20874652229863,\n",
       "  3.594497063391233,\n",
       "  4.544820440963366,\n",
       "  3.961951871440505,\n",
       "  4.980550375628993,\n",
       "  3.832580751313225,\n",
       "  3.765604193230106,\n",
       "  4.27633604458305,\n",
       "  5.082018181658536,\n",
       "  4.676048665682526,\n",
       "  3.7520892802843453,\n",
       "  4.257909985063169,\n",
       "  3.923622458477938,\n",
       "  3.1796056835321127,\n",
       "  3.241114271105539,\n",
       "  4.536703967313374,\n",
       "  2.385623149877524,\n",
       "  4.044494816233652,\n",
       "  4.416546302153824,\n",
       "  4.49724257735862,\n",
       "  3.8195017025210403,\n",
       "  4.111710845657166,\n",
       "  4.009864310299139,\n",
       "  3.441428599050327,\n",
       "  3.4103620005209048,\n",
       "  3.5693428034046883,\n",
       "  4.588918882801578,\n",
       "  4.220866116190407,\n",
       "  4.186574192904526,\n",
       "  3.169826361561175,\n",
       "  4.365699548672231,\n",
       "  4.121729180921726,\n",
       "  4.133824991124261,\n",
       "  3.8866163796826085,\n",
       "  3.7936465299405637,\n",
       "  4.273851772345151],\n",
       " 'causalegm': [3.1737635135650635,\n",
       "  1.4343665838241577,\n",
       "  1.6655782461166382,\n",
       "  1.664475679397583,\n",
       "  1.097175121307373,\n",
       "  2.6875202655792236,\n",
       "  2.918252944946289,\n",
       "  1.9326255321502686,\n",
       "  2.59667706489563,\n",
       "  2.4429678916931152,\n",
       "  2.6106860637664795,\n",
       "  1.7298468351364136,\n",
       "  2.266864538192749,\n",
       "  2.376932382583618,\n",
       "  2.6800715923309326,\n",
       "  2.664041757583618,\n",
       "  1.9734232425689697,\n",
       "  1.5544483661651611,\n",
       "  1.6023828983306885,\n",
       "  2.889957904815674,\n",
       "  3.4084908962249756,\n",
       "  3.110384225845337,\n",
       "  2.7217767238616943,\n",
       "  1.7614949941635132,\n",
       "  2.3972411155700684,\n",
       "  1.8541605472564697,\n",
       "  2.4584097862243652,\n",
       "  3.054049015045166,\n",
       "  3.458766222000122,\n",
       "  3.01068377494812,\n",
       "  1.5565972328186035,\n",
       "  3.511355400085449,\n",
       "  3.5921919345855713,\n",
       "  1.4752976894378662,\n",
       "  3.581947088241577,\n",
       "  2.5709457397460938,\n",
       "  2.8686208724975586,\n",
       "  3.218642234802246,\n",
       "  1.2888753414154053,\n",
       "  2.9156479835510254,\n",
       "  1.9823211431503296,\n",
       "  1.857049822807312,\n",
       "  1.308284878730774,\n",
       "  2.0695879459381104,\n",
       "  1.5042423009872437,\n",
       "  1.60908043384552,\n",
       "  1.6805363893508911,\n",
       "  2.8335461616516113,\n",
       "  1.8598653078079224,\n",
       "  1.9907220602035522],\n",
       " 'tarnet': [0.029400218278169632,\n",
       "  -0.009583454579114914,\n",
       "  0.02713657356798649,\n",
       "  -0.05341954529285431,\n",
       "  -0.06593356281518936,\n",
       "  -0.006134799215942621,\n",
       "  0.055054303258657455,\n",
       "  0.05195131152868271,\n",
       "  0.02468816563487053,\n",
       "  -0.020230315625667572,\n",
       "  0.012632264755666256,\n",
       "  0.007121184840798378,\n",
       "  0.04110957682132721,\n",
       "  0.0018427212489768863,\n",
       "  0.05472661182284355,\n",
       "  -0.016529317945241928,\n",
       "  0.026498448103666306,\n",
       "  0.04262382537126541,\n",
       "  -0.1700567603111267,\n",
       "  0.05552263930439949,\n",
       "  -0.012606265023350716,\n",
       "  -0.008094241842627525,\n",
       "  0.000651650014333427,\n",
       "  -0.015384014695882797,\n",
       "  -0.008955405093729496,\n",
       "  -0.020539838820695877,\n",
       "  0.003260438097640872,\n",
       "  0.006761663593351841,\n",
       "  0.03157678246498108,\n",
       "  0.049920592457056046,\n",
       "  0.002471923828125,\n",
       "  -0.04760627821087837,\n",
       "  -0.016527561470866203,\n",
       "  0.07255612313747406,\n",
       "  -0.010523386299610138,\n",
       "  -0.016889173537492752,\n",
       "  -0.022940684109926224,\n",
       "  -0.0069079152308404446,\n",
       "  -0.06557195633649826,\n",
       "  0.03743427246809006,\n",
       "  0.025174731388688087,\n",
       "  0.05464307963848114,\n",
       "  0.021101675927639008,\n",
       "  0.0015522997127845883,\n",
       "  -0.06340564042329788,\n",
       "  -0.0016495290910825133,\n",
       "  -0.003053426742553711,\n",
       "  -0.045331597328186035,\n",
       "  -0.04577704146504402,\n",
       "  0.013679556548595428],\n",
       " 'cfrnet': [0.009893224574625492,\n",
       "  0.0021976090501993895,\n",
       "  0.011053972877562046,\n",
       "  0.028345823287963867,\n",
       "  0.004403998143970966,\n",
       "  -0.007528232876211405,\n",
       "  -0.007180257700383663,\n",
       "  -0.006938281003385782,\n",
       "  -0.015565138310194016,\n",
       "  0.004882529377937317,\n",
       "  -0.023025594651699066,\n",
       "  -0.1475430428981781,\n",
       "  -0.013027855195105076,\n",
       "  -0.011758633889257908,\n",
       "  -0.00355795631185174,\n",
       "  -0.004604585934430361,\n",
       "  0.022242993116378784,\n",
       "  0.0029608439654111862,\n",
       "  0.0006699530058540404,\n",
       "  -0.015131959691643715,\n",
       "  0.060917142778635025,\n",
       "  -0.03313175216317177,\n",
       "  -0.015570370480418205,\n",
       "  0.023351596668362617,\n",
       "  0.002684073755517602,\n",
       "  0.00028723131981678307,\n",
       "  -0.01799432747066021,\n",
       "  -0.0010580861708149314,\n",
       "  0.000414177862694487,\n",
       "  -0.01717323064804077,\n",
       "  -0.016051851212978363,\n",
       "  -0.025787808001041412,\n",
       "  -0.013741706497967243,\n",
       "  -0.00560101168230176,\n",
       "  0.0013142351526767015,\n",
       "  0.001278115902096033,\n",
       "  0.027512487024068832,\n",
       "  0.03417893871665001,\n",
       "  -0.05513222888112068,\n",
       "  0.0009365490986965597,\n",
       "  0.013975076377391815,\n",
       "  0.07543664425611496,\n",
       "  -0.01288246177136898,\n",
       "  -0.004203608725219965,\n",
       "  -0.028298746794462204,\n",
       "  0.02862931601703167,\n",
       "  0.001569399842992425,\n",
       "  -0.007681102957576513,\n",
       "  -0.07380212843418121,\n",
       "  -0.007463911548256874],\n",
       " 'cevae': [-0.07339935004711151,\n",
       "  -0.06238485500216484,\n",
       "  0.08074962347745895,\n",
       "  0.08548371493816376,\n",
       "  -0.003725170623511076,\n",
       "  0.011632237583398819,\n",
       "  -0.057031579315662384,\n",
       "  -0.012236402370035648,\n",
       "  0.005961395334452391,\n",
       "  0.08663251996040344,\n",
       "  0.08660219609737396,\n",
       "  0.13540194928646088,\n",
       "  -0.017689824104309082,\n",
       "  -0.0028171250596642494,\n",
       "  -0.007030936889350414,\n",
       "  -0.035656578838825226,\n",
       "  -0.024456830695271492,\n",
       "  -0.06791281700134277,\n",
       "  -0.0900179073214531,\n",
       "  -0.005006405059248209,\n",
       "  0.027238773182034492,\n",
       "  -0.1268582046031952,\n",
       "  0.036412712186574936,\n",
       "  -0.10851806402206421,\n",
       "  0.06483343988656998,\n",
       "  -0.012597364373505116,\n",
       "  -0.018941206857562065,\n",
       "  -0.0025699709076434374,\n",
       "  0.03768189623951912,\n",
       "  0.010147455148398876,\n",
       "  0.07026652991771698,\n",
       "  0.04348781332373619,\n",
       "  0.017442846670746803,\n",
       "  -0.09546895325183868,\n",
       "  0.06534919887781143,\n",
       "  0.012523220852017403,\n",
       "  -0.008955849334597588,\n",
       "  -0.024840353056788445,\n",
       "  -0.010243145748972893,\n",
       "  -0.06843983381986618,\n",
       "  -0.0541943684220314,\n",
       "  0.02920367941260338,\n",
       "  0.004806481767445803,\n",
       "  -0.0706687718629837,\n",
       "  0.03755331411957741,\n",
       "  0.07501804083585739,\n",
       "  0.004479873459786177,\n",
       "  0.08861749619245529,\n",
       "  0.07050187885761261,\n",
       "  0.021633394062519073],\n",
       " 'dragonnet': [3.9889209270477295,\n",
       "  4.008406639099121,\n",
       "  4.040397644042969,\n",
       "  4.123285293579102,\n",
       "  4.200870990753174,\n",
       "  3.973468542098999,\n",
       "  3.630699872970581,\n",
       "  3.6094441413879395,\n",
       "  3.8013501167297363,\n",
       "  4.514062881469727,\n",
       "  4.29409646987915,\n",
       "  3.996898651123047,\n",
       "  4.220058917999268,\n",
       "  4.107909679412842,\n",
       "  4.280641078948975,\n",
       "  4.029887676239014,\n",
       "  4.451923847198486,\n",
       "  3.7262067794799805,\n",
       "  4.228218078613281,\n",
       "  3.6853671073913574,\n",
       "  3.9566783905029297,\n",
       "  4.1814093589782715,\n",
       "  3.94145131111145,\n",
       "  3.9557058811187744,\n",
       "  4.056964874267578,\n",
       "  4.1431989669799805,\n",
       "  3.975208282470703,\n",
       "  3.9814343452453613,\n",
       "  4.302257537841797,\n",
       "  4.05387020111084,\n",
       "  4.018220901489258,\n",
       "  4.092184066772461,\n",
       "  3.9873156547546387,\n",
       "  3.976214647293091,\n",
       "  4.146176338195801,\n",
       "  4.294606685638428,\n",
       "  4.180845260620117,\n",
       "  3.8404667377471924,\n",
       "  3.7880172729492188,\n",
       "  3.8189237117767334,\n",
       "  4.237273693084717,\n",
       "  4.274712085723877,\n",
       "  6.552563190460205,\n",
       "  4.122676372528076,\n",
       "  3.698180675506592,\n",
       "  3.8062283992767334,\n",
       "  3.6413114070892334,\n",
       "  3.894876003265381,\n",
       "  4.7179131507873535,\n",
       "  4.218376636505127]}"
      ]
     },
     "execution_count": 60,
     "metadata": {},
     "output_type": "execute_result"
    }
   ],
   "source": [
    "tracker"
   ]
  },
  {
   "cell_type": "code",
   "execution_count": null,
   "id": "3df9e21a",
   "metadata": {},
   "outputs": [],
   "source": []
  }
 ],
 "metadata": {
  "kernelspec": {
   "display_name": "base",
   "language": "python",
   "name": "python3"
  },
  "language_info": {
   "codemirror_mode": {
    "name": "ipython",
    "version": 3
   },
   "file_extension": ".py",
   "mimetype": "text/x-python",
   "name": "python",
   "nbconvert_exporter": "python",
   "pygments_lexer": "ipython3",
   "version": "3.11.7"
  }
 },
 "nbformat": 4,
 "nbformat_minor": 5
}
