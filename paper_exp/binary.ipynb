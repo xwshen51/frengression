{
 "cells": [
  {
   "cell_type": "markdown",
   "id": "a53989f4",
   "metadata": {},
   "source": [
    "## Experiments for binary treatment effect estimation comparison"
   ]
  },
  {
   "cell_type": "code",
   "execution_count": 1,
   "id": "19983602",
   "metadata": {},
   "outputs": [],
   "source": [
    "import sys, os\n",
    "\n",
    "# add the project root to sys.path\n",
    "root = os.path.abspath(os.path.join(os.getcwd(), '..'))\n",
    "if root not in sys.path:\n",
    "    sys.path.insert(0, root)\n",
    "\n",
    "from data_causl.utils import *\n",
    "from data_causl.data import *\n",
    "from frengression import *\n",
    "\n",
    "device = torch.device('cpu')\n",
    "\n",
    "import CausalEGM as cegm\n",
    "# import the module\n",
    "from models import *\n",
    "\n",
    "import numpy as np\n",
    "import pickle\n",
    "import os\n",
    "from tqdm import tqdm\n",
    "\n",
    "from matplotlib import pyplot as plt\n",
    "import seaborn as sns\n",
    "\n",
    "import warnings\n",
    "warnings.filterwarnings(\"ignore\", category=FutureWarning)\n",
    "warnings.filterwarnings(\"ignore\", category=DeprecationWarning)\n",
    "warnings.filterwarnings(\"ignore\", category=UserWarning)\n",
    "\n",
    "\n",
    "\n",
    "np.random.seed(42)\n",
    "n_tr = 1000\n",
    "n_p = 1000\n",
    "\n",
    "nI = 2\n",
    "nX = 2\n",
    "nO = 2\n",
    "nS= 2\n",
    "p = nI+nX+nO+nS\n",
    "ate = 2\n",
    "beta_cov = 0\n",
    "strength_instr = 1\n",
    "strength_conf = 1\n",
    "strength_outcome = 1\n",
    "binary_intervention=True"
   ]
  },
  {
   "cell_type": "markdown",
   "id": "4801550b",
   "metadata": {},
   "source": [
    "## Example of hyperparameter tuning"
   ]
  },
  {
   "cell_type": "code",
   "execution_count": 10,
   "id": "3bd365ea",
   "metadata": {},
   "outputs": [],
   "source": [
    "# def make_synthetic_data(N=1000, D=5, seed=0):\n",
    "#     torch.manual_seed(seed)\n",
    "#     X = torch.randn(N, D)\n",
    "#     w_p, b_p = torch.randn(D), 0.1\n",
    "#     p = torch.sigmoid(X @ w_p + b_p)\n",
    "#     t = torch.bernoulli(p)\n",
    "#     beta0 = torch.randn(D)\n",
    "#     y0 = X @ beta0 + 0.1 * torch.randn(N)\n",
    "#     tau = (X[:,0] * 2.0).clamp(min=0)\n",
    "#     y1 = y0 + tau + 0.1 * torch.randn(N)\n",
    "#     y = y0 * (1 - t) + y1 * t\n",
    "#     return X.numpy(), t.numpy(), y.numpy(), y0.numpy(), y1.numpy()\n",
    "\n",
    "# X, t, y, y0, y1 = make_synthetic_data(N=400, D=2)\n",
    "# X_train, X_tmp, t_train, t_tmp, y_train, y_tmp = train_test_split(X, t, y, test_size=0.4, random_state=42)\n",
    "# X_val, X_test, t_val, t_test, y_val, y_test = train_test_split(X_tmp, t_tmp, y_tmp, test_size=0.5, random_state=42)\n",
    "\n",
    "def tune_and_eval(model_name, X_train, t_train, y_train, X_val, t_val, y_val, X_test, t_test, y_test, n_trials=20):\n",
    "    def objective(trial):\n",
    "        lr = trial.suggest_loguniform(\"lr\", 1e-5, 1e-2)\n",
    "        wd = trial.suggest_loguniform(\"wd\", 1e-7, 1e-4)\n",
    "        bs = trial.suggest_categorical(\"bs\", [32, 64, 128])\n",
    "        epochs = trial.suggest_int(\"epochs\", 50, 200)\n",
    "        if model_name == \"tarnet\":\n",
    "            rep1 = trial.suggest_int(\"rep1\", 50, 200)\n",
    "            rep2 = trial.suggest_int(\"rep2\", 50, 200)\n",
    "            head = trial.suggest_int(\"head\", 50, 200)\n",
    "            drop = trial.suggest_uniform(\"drop\", 0.0, 0.5)\n",
    "            trainer = TARNetTrainer(X_train.shape[1], [rep1,rep2], [head], drop)\n",
    "        elif model_name == \"cfrnet\":\n",
    "            rep1 = trial.suggest_int(\"rep1\", 50, 200)\n",
    "            rep2 = trial.suggest_int(\"rep2\", 50, 200)\n",
    "            head = trial.suggest_int(\"head\", 50, 200)\n",
    "            drop = trial.suggest_uniform(\"drop\", 0.0, 0.5)\n",
    "            ipm_w = trial.suggest_loguniform(\"ipm_weight\", 0.01, 10.0)\n",
    "            trainer = CFRNetTrainer(X_train.shape[1], [rep1,rep2], [head], drop, ipm_w)\n",
    "        elif model_name == \"cevae\":\n",
    "            ld = trial.suggest_int(\"latent_dim\", 10, 200)\n",
    "            hd = trial.suggest_int(\"hidden_dim\", 20, 400)\n",
    "            nl = trial.suggest_int(\"num_layers\", 2, 5)\n",
    "            ns = trial.suggest_categorical(\"num_samples\", [10,50,100,200])\n",
    "            trainer = CEVAETrainer(X_train.shape[1], ld, hd, nl, ns)\n",
    "        else:  # dragonnet\n",
    "            sh = trial.suggest_int(\"shared_hidden\", 50, 200)\n",
    "            oh = trial.suggest_int(\"outcome_hidden\", 50, 200)\n",
    "            trainer = DragonNetTrainer(X_train.shape[1], sh, oh)\n",
    "        return trainer.fit(X_train, t_train, y_train, X_val, t_val, y_val,\n",
    "                            lr=lr, weight_decay=wd, batch_size=bs, epochs=epochs)\n",
    "    \n",
    "    study = optuna.create_study(direction=\"minimize\", study_name=f\"{model_name}_tune\")\n",
    "    study.optimize(objective, n_trials=n_trials)\n",
    "    best = study.best_params\n",
    "    print(f\"Best params for {model_name}: {best}\")\n",
    "    # retrain\n",
    "    X_trn = np.vstack([X_train, X_val])\n",
    "    t_trn = np.concatenate([t_train, t_val])\n",
    "    y_trn = np.concatenate([y_train, y_val])\n",
    "    if model_name == \"tarnet\":\n",
    "        trainer = TARNetTrainer(X_trn.shape[1], [best['rep1'],best['rep2']], [best['head']], best['drop'])\n",
    "    elif model_name == \"cfrnet\":\n",
    "        trainer = CFRNetTrainer(X_trn.shape[1], [best['rep1'],best['rep2']], [best['head']], best['drop'], best['ipm_weight'])\n",
    "    elif model_name == \"cevae\":\n",
    "        trainer = CEVAETrainer(X_trn.shape[1], best['latent_dim'], best['hidden_dim'], best['num_layers'], best['num_samples'])\n",
    "    else:\n",
    "        trainer = DragonNetTrainer(X_trn.shape[1], best['shared_hidden'], best['outcome_hidden'])\n",
    "    trainer.fit(X_trn, t_trn, y_trn, X_test, t_test, y_test,\n",
    "                lr=best['lr'], weight_decay=best['wd'], batch_size=best['bs'], epochs=best['epochs'])\n",
    "    if model_name == \"cevae\":\n",
    "        return trainer.predict(X_test)\n",
    "    else:\n",
    "        y0p, y1p = trainer.predict(X_test)\n",
    "        return y1p - y0p\n",
    "\n",
    "# # Tune and train each model separately, storing ITEs\n",
    "# print(\"Tuning and training TARNet...\")\n",
    "# ite_tarnet = tune_and_eval(\"tarnet\")\n",
    "# print(\"TARNet ITE shape:\", ite_tarnet.shape)\n",
    "\n",
    "# print(\"Tuning and training CFRNet...\")\n",
    "# ite_cfrnet = tune_and_eval(\"cfrnet\")\n",
    "# print(\"CFRNet ITE shape:\", ite_cfrnet.shape)\n",
    "\n",
    "# print(\"Tuning and training CEVAE...\")\n",
    "# ite_cevae = tune_and_eval(\"cevae\")\n",
    "# print(\"CEVAE ITE shape:\", ite_cevae.shape)\n",
    "\n",
    "# print(\"Tuning and training DragonNet...\")\n",
    "# ite_dragonnet = tune_and_eval(\"dragonnet\")\n",
    "# print(\"DragonNet ITE shape:\", ite_dragonnet.shape)\n",
    "\n",
    "# # Now you have separate ITE arrays:\n",
    "# # ite_tarnet, ite_cfrnet, ite_cevae, ite_dragonnet\n",
    "# print(\"All models complete.\")\n"
   ]
  },
  {
   "cell_type": "code",
   "execution_count": 15,
   "id": "bdbba039",
   "metadata": {},
   "outputs": [],
   "source": [
    "from functools import lru_cache\n",
    "\n",
    "def tune_and_eval(model_name,\n",
    "                  X_train, t_train, y_train,\n",
    "                  X_val,   t_val,   y_val,\n",
    "                  X_test,  t_test,  y_test,\n",
    "                  best_params=None,\n",
    "                  n_trials=20):\n",
    "    \"\"\"\n",
    "    If best_params is None: runs Optuna, returns (ITE_array, best_params).\n",
    "    If best_params is given: skips Optuna, returns ITE_array only.\n",
    "    \"\"\"\n",
    "    # 1) hyperparam search\n",
    "    if best_params is None:\n",
    "        import optuna\n",
    "        study = optuna.create_study(direction=\"minimize\",\n",
    "                                    study_name=f\"{model_name}_tune\")\n",
    "        def objective(trial):\n",
    "            # common\n",
    "            lr     = trial.suggest_loguniform(\"lr\", 1e-5, 1e-2)\n",
    "            wd     = trial.suggest_loguniform(\"wd\", 1e-7, 1e-4)\n",
    "            bs     = trial.suggest_categorical(\"bs\", [32, 64, 128])\n",
    "            epochs = trial.suggest_int(\"epochs\", 50, 200)\n",
    "\n",
    "            # model‐specific\n",
    "            if model_name == \"tarnet\":\n",
    "                rep1 = trial.suggest_int(\"rep1\", 50, 200)\n",
    "                rep2 = trial.suggest_int(\"rep2\", 50, 200)\n",
    "                head = trial.suggest_int(\"head\", 50, 200)\n",
    "                drop = trial.suggest_uniform(\"drop\", 0.0, 0.5)\n",
    "                trainer = TARNetTrainer(X_train.shape[1], [rep1,rep2], [head], drop)\n",
    "\n",
    "            elif model_name == \"cfrnet\":\n",
    "                rep1   = trial.suggest_int(\"rep1\", 50, 200)\n",
    "                rep2   = trial.suggest_int(\"rep2\", 50, 200)\n",
    "                head   = trial.suggest_int(\"head\", 50, 200)\n",
    "                drop   = trial.suggest_uniform(\"drop\", 0.0, 0.5)\n",
    "                ipm_w  = trial.suggest_loguniform(\"ipm_weight\", 0.01, 10.0)\n",
    "                trainer = CFRNetTrainer(X_train.shape[1], [rep1,rep2], [head], drop, ipm_w)\n",
    "\n",
    "            elif model_name == \"cevae\":\n",
    "                ld = trial.suggest_int(\"latent_dim\", 10, 200)\n",
    "                hd = trial.suggest_int(\"hidden_dim\", 20, 400)\n",
    "                nl = trial.suggest_int(\"num_layers\", 2, 5)     # note: 2→5 to avoid pop error\n",
    "                ns = trial.suggest_categorical(\"num_samples\", [10,50,100,200])\n",
    "                trainer = CEVAETrainer(X_train.shape[1], ld, hd, nl, ns)\n",
    "\n",
    "            else:  # dragonnet\n",
    "                sh = trial.suggest_int(\"shared_hidden\", 50, 200)\n",
    "                oh = trial.suggest_int(\"outcome_hidden\", 50, 200)\n",
    "                trainer = DragonNetTrainer(X_train.shape[1], sh, oh)\n",
    "\n",
    "            return trainer.fit(\n",
    "                X_train, t_train, y_train,\n",
    "                X_val,   t_val,   y_val,\n",
    "                lr=lr, weight_decay=wd,\n",
    "                batch_size=bs, epochs=epochs\n",
    "            )\n",
    "\n",
    "        study.optimize(objective, n_trials=n_trials)\n",
    "        best_params = study.best_params\n",
    "        print(f\"🔍 Best params for {model_name}: {best_params}\")\n",
    "\n",
    "    # 2) retrain on combined train+val\n",
    "    X_trn = np.vstack([X_train, X_val])\n",
    "    t_trn = np.concatenate([t_train, t_val])\n",
    "    y_trn = np.concatenate([y_train, y_val])\n",
    "\n",
    "    if model_name == \"tarnet\":\n",
    "        trainer = TARNetTrainer(\n",
    "            X_trn.shape[1],\n",
    "            [best_params['rep1'], best_params['rep2']],\n",
    "            [best_params['head']],\n",
    "            best_params['drop']\n",
    "        )\n",
    "    elif model_name == \"cfrnet\":\n",
    "        trainer = CFRNetTrainer(\n",
    "            X_trn.shape[1],\n",
    "            [best_params['rep1'], best_params['rep2']],\n",
    "            [best_params['head']],\n",
    "            best_params['drop'],\n",
    "            best_params['ipm_weight']\n",
    "        )\n",
    "    elif model_name == \"cevae\":\n",
    "        trainer = CEVAETrainer(\n",
    "            X_trn.shape[1],\n",
    "            best_params['latent_dim'],\n",
    "            best_params['hidden_dim'],\n",
    "            best_params['num_layers'],\n",
    "            best_params['num_samples']\n",
    "        )\n",
    "    else:\n",
    "        trainer = DragonNetTrainer(\n",
    "            X_trn.shape[1],\n",
    "            best_params['shared_hidden'],\n",
    "            best_params['outcome_hidden']\n",
    "        )\n",
    "\n",
    "    trainer.fit(\n",
    "        X_trn, t_trn, y_trn,\n",
    "        X_test, t_test, y_test,\n",
    "        lr=best_params['lr'],\n",
    "        weight_decay=best_params['wd'],\n",
    "        batch_size=best_params['bs'],\n",
    "        epochs=best_params['epochs']\n",
    "    )\n",
    "\n",
    "    if model_name == \"cevae\":\n",
    "        ite = trainer.predict(X_test)\n",
    "    else:\n",
    "        y0p, y1p = trainer.predict(X_test)\n",
    "        ite = y1p - y0p\n",
    "\n",
    "    return (ite, best_params) if best_params is None else ite\n"
   ]
  },
  {
   "cell_type": "markdown",
   "id": "221b1e42",
   "metadata": {},
   "source": [
    "## Fitting synthetic data generated by causl"
   ]
  },
  {
   "cell_type": "markdown",
   "id": "e5a2a3a2",
   "metadata": {},
   "source": [
    "### Data generation"
   ]
  },
  {
   "cell_type": "code",
   "execution_count": 14,
   "id": "8b89c5a0",
   "metadata": {},
   "outputs": [
    {
     "name": "stdout",
     "output_type": "stream",
     "text": [
      "Running experiments for strength_instr = 1.0\n"
     ]
    },
    {
     "name": "stderr",
     "output_type": "stream",
     "text": [
      "  0%|          | 0/20 [00:00<?, ?it/s]"
     ]
    },
    {
     "name": "stdout",
     "output_type": "stream",
     "text": [
      "Epoch 1: loss 2.3320,\tloss_y 1.5966, 1.6052, 0.0173,\tloss_eta 0.7354, 0.7768, 0.0827\n",
      "Epoch 1000: loss 0.8561,\tloss_y 0.2806, 0.5649, 0.5685,\tloss_eta 0.5755, 1.1212, 1.0914\n",
      "Warning: covariate dimension does not aligned with the specified input dimension; filling in the remaining dimension with noise.\n",
      "Warning: covariate dimension does not aligned with the specified input dimension; filling in the remaining dimension with noise.\n"
     ]
    },
    {
     "name": "stderr",
     "output_type": "stream",
     "text": [
      "[I 2025-04-25 15:39:29,755] A new study created in memory with name: tarnet_tune\n",
      "[I 2025-04-25 15:39:31,924] Trial 0 finished with value: 1.5756584405899048 and parameters: {'lr': 1.0973120437415867e-05, 'wd': 9.212781724158886e-06, 'bs': 64, 'epochs': 141, 'rep1': 103, 'rep2': 116, 'head': 174, 'drop': 0.4570287036947749}. Best is trial 0 with value: 1.5756584405899048.\n",
      "[I 2025-04-25 15:39:34,172] Trial 1 finished with value: 0.7824318408966064 and parameters: {'lr': 0.0008491995663938662, 'wd': 1.3419520420147572e-07, 'bs': 32, 'epochs': 97, 'rep1': 103, 'rep2': 189, 'head': 113, 'drop': 0.037699885483886975}. Best is trial 1 with value: 0.7824318408966064.\n",
      "[I 2025-04-25 15:39:35,357] Trial 2 finished with value: 0.8074317574501038 and parameters: {'lr': 0.0017772727559814553, 'wd': 7.331689797117618e-05, 'bs': 128, 'epochs': 125, 'rep1': 71, 'rep2': 75, 'head': 121, 'drop': 0.13604197627169107}. Best is trial 1 with value: 0.7824318408966064.\n",
      "[I 2025-04-25 15:39:37,993] Trial 3 finished with value: 0.7729177474975586 and parameters: {'lr': 0.0001818238381157221, 'wd': 1.1705514819485741e-07, 'bs': 64, 'epochs': 164, 'rep1': 115, 'rep2': 188, 'head': 145, 'drop': 0.09667685880554794}. Best is trial 3 with value: 0.7729177474975586.\n",
      "[I 2025-04-25 15:39:40,330] Trial 4 finished with value: 0.7831317186355591 and parameters: {'lr': 0.003890879612674745, 'wd': 2.4505838300967823e-06, 'bs': 128, 'epochs': 156, 'rep1': 159, 'rep2': 149, 'head': 125, 'drop': 0.05560544251111299}. Best is trial 3 with value: 0.7729177474975586.\n",
      "[I 2025-04-25 15:39:41,612] Trial 5 finished with value: 0.8299208879470825 and parameters: {'lr': 0.00014144117562326974, 'wd': 1.001441715165392e-06, 'bs': 64, 'epochs': 91, 'rep1': 77, 'rep2': 120, 'head': 125, 'drop': 0.018231408673246463}. Best is trial 3 with value: 0.7729177474975586.\n",
      "[I 2025-04-25 15:39:43,874] Trial 6 finished with value: 0.8096762299537659 and parameters: {'lr': 4.818438396088709e-05, 'wd': 2.1288852495821768e-05, 'bs': 64, 'epochs': 146, 'rep1': 79, 'rep2': 83, 'head': 184, 'drop': 0.09167539619166076}. Best is trial 3 with value: 0.7729177474975586.\n",
      "[I 2025-04-25 15:39:46,090] Trial 7 finished with value: 0.7789881229400635 and parameters: {'lr': 0.0005983815600553262, 'wd': 9.490907314772188e-05, 'bs': 64, 'epochs': 154, 'rep1': 68, 'rep2': 92, 'head': 88, 'drop': 0.306211172193725}. Best is trial 3 with value: 0.7729177474975586.\n",
      "[I 2025-04-25 15:39:47,010] Trial 8 finished with value: 0.7747942209243774 and parameters: {'lr': 0.005685274492294966, 'wd': 2.533752591431278e-07, 'bs': 128, 'epochs': 65, 'rep1': 79, 'rep2': 200, 'head': 174, 'drop': 0.4861680154978383}. Best is trial 3 with value: 0.7729177474975586.\n",
      "[I 2025-04-25 15:39:49,370] Trial 9 finished with value: 0.9540861248970032 and parameters: {'lr': 1.4481743054386554e-05, 'wd': 1.345309959276102e-07, 'bs': 64, 'epochs': 159, 'rep1': 58, 'rep2': 160, 'head': 55, 'drop': 0.08869261301820358}. Best is trial 3 with value: 0.7729177474975586.\n",
      "[I 2025-04-25 15:39:53,925] Trial 10 finished with value: 0.7978261709213257 and parameters: {'lr': 0.0001404783743342561, 'wd': 8.604042683572897e-07, 'bs': 32, 'epochs': 200, 'rep1': 193, 'rep2': 53, 'head': 152, 'drop': 0.21149702079756094}. Best is trial 3 with value: 0.7729177474975586.\n",
      "[I 2025-04-25 15:39:54,544] Trial 11 finished with value: 0.7769579291343689 and parameters: {'lr': 0.009035389578039387, 'wd': 3.6971003216022555e-07, 'bs': 128, 'epochs': 53, 'rep1': 131, 'rep2': 192, 'head': 157, 'drop': 0.4872542032823512}. Best is trial 3 with value: 0.7729177474975586.\n",
      "[I 2025-04-25 15:39:57,022] Trial 12 finished with value: 0.7798150181770325 and parameters: {'lr': 0.00021069379794922706, 'wd': 1.054407425176655e-07, 'bs': 128, 'epochs': 190, 'rep1': 126, 'rep2': 168, 'head': 153, 'drop': 0.3574578178710326}. Best is trial 3 with value: 0.7729177474975586.\n",
      "[I 2025-04-25 15:39:57,745] Trial 13 finished with value: 0.8157123327255249 and parameters: {'lr': 4.750650459995743e-05, 'wd': 4.070439590638525e-07, 'bs': 128, 'epochs': 59, 'rep1': 105, 'rep2': 199, 'head': 191, 'drop': 0.17482428253912877}. Best is trial 3 with value: 0.7729177474975586.\n",
      "[I 2025-04-25 15:39:59,983] Trial 14 finished with value: 0.7860596776008606 and parameters: {'lr': 0.0006217033315884712, 'wd': 4.870711462448234e-07, 'bs': 32, 'epochs': 84, 'rep1': 147, 'rep2': 174, 'head': 199, 'drop': 0.382779038785736}. Best is trial 3 with value: 0.7729177474975586.\n",
      "[I 2025-04-25 15:40:02,792] Trial 15 finished with value: 0.7955934405326843 and parameters: {'lr': 0.008431292235581306, 'wd': 2.718100524445473e-06, 'bs': 64, 'epochs': 180, 'rep1': 93, 'rep2': 154, 'head': 168, 'drop': 0.2505949008237681}. Best is trial 3 with value: 0.7729177474975586.\n",
      "[I 2025-04-25 15:40:03,954] Trial 16 finished with value: 0.8724920749664307 and parameters: {'lr': 0.0020485006349081495, 'wd': 2.526069727439819e-07, 'bs': 128, 'epochs': 117, 'rep1': 52, 'rep2': 138, 'head': 101, 'drop': 0.4178109690370544}. Best is trial 3 with value: 0.7729177474975586.\n",
      "[I 2025-04-25 15:40:06,081] Trial 17 finished with value: 0.7971623539924622 and parameters: {'lr': 5.641951187632561e-05, 'wd': 1.1831619304635218e-06, 'bs': 128, 'epochs': 176, 'rep1': 157, 'rep2': 179, 'head': 141, 'drop': 0.28958919224508567}. Best is trial 3 with value: 0.7729177474975586.\n",
      "[I 2025-04-25 15:40:07,199] Trial 18 finished with value: 0.7922313213348389 and parameters: {'lr': 0.00028393650705334635, 'wd': 7.102363627244123e-06, 'bs': 64, 'epochs': 71, 'rep1': 116, 'rep2': 136, 'head': 144, 'drop': 0.137674094338197}. Best is trial 3 with value: 0.7729177474975586.\n",
      "[I 2025-04-25 15:40:10,392] Trial 19 finished with value: 0.7762474417686462 and parameters: {'lr': 0.0016453147352548834, 'wd': 2.2407282431261585e-07, 'bs': 32, 'epochs': 112, 'rep1': 88, 'rep2': 199, 'head': 172, 'drop': 0.3082420926640427}. Best is trial 3 with value: 0.7729177474975586.\n"
     ]
    },
    {
     "name": "stdout",
     "output_type": "stream",
     "text": [
      "Best params for tarnet: {'lr': 0.0001818238381157221, 'wd': 1.1705514819485741e-07, 'bs': 64, 'epochs': 164, 'rep1': 115, 'rep2': 188, 'head': 145, 'drop': 0.09667685880554794}\n"
     ]
    },
    {
     "name": "stderr",
     "output_type": "stream",
     "text": [
      "[I 2025-04-25 15:40:14,043] A new study created in memory with name: cfrnet_tune\n",
      "[I 2025-04-25 15:40:16,099] Trial 0 finished with value: 0.8279163837432861 and parameters: {'lr': 4.481094960311542e-05, 'wd': 6.156123455235158e-07, 'bs': 128, 'epochs': 139, 'rep1': 59, 'rep2': 147, 'head': 143, 'drop': 0.07769825572290012, 'ipm_weight': 1.5192076737869302}. Best is trial 0 with value: 0.8279163837432861.\n",
      "[I 2025-04-25 15:40:20,240] Trial 1 finished with value: 0.8227702975273132 and parameters: {'lr': 0.0032468076605464977, 'wd': 8.901377621262575e-05, 'bs': 64, 'epochs': 200, 'rep1': 193, 'rep2': 141, 'head': 63, 'drop': 0.07508699835760063, 'ipm_weight': 5.815262552836924}. Best is trial 1 with value: 0.8227702975273132.\n",
      "[I 2025-04-25 15:40:21,601] Trial 2 finished with value: 0.7694148421287537 and parameters: {'lr': 0.0011654354209064733, 'wd': 1.6297809680285027e-06, 'bs': 64, 'epochs': 72, 'rep1': 110, 'rep2': 184, 'head': 55, 'drop': 0.19637933062292473, 'ipm_weight': 0.025790635566248103}. Best is trial 2 with value: 0.7694148421287537.\n",
      "[I 2025-04-25 15:40:24,678] Trial 3 finished with value: 0.7793805599212646 and parameters: {'lr': 0.0002792946255358483, 'wd': 1.870088698728239e-07, 'bs': 128, 'epochs': 198, 'rep1': 193, 'rep2': 187, 'head': 90, 'drop': 0.30479998496315347, 'ipm_weight': 0.705082379060459}. Best is trial 2 with value: 0.7694148421287537.\n",
      "[I 2025-04-25 15:40:26,527] Trial 4 finished with value: 0.8336583971977234 and parameters: {'lr': 6.741212855684721e-05, 'wd': 4.950199216943064e-07, 'bs': 128, 'epochs': 122, 'rep1': 182, 'rep2': 188, 'head': 93, 'drop': 0.43261336989335625, 'ipm_weight': 1.7761610954311013}. Best is trial 2 with value: 0.7694148421287537.\n",
      "[I 2025-04-25 15:40:30,226] Trial 5 finished with value: 0.8052620887756348 and parameters: {'lr': 1.66855166123613e-05, 'wd': 1.5420436218550543e-06, 'bs': 64, 'epochs': 183, 'rep1': 195, 'rep2': 155, 'head': 89, 'drop': 0.09843830066975928, 'ipm_weight': 0.19993494685565547}. Best is trial 2 with value: 0.7694148421287537.\n",
      "[I 2025-04-25 15:40:32,918] Trial 6 finished with value: 1.664840579032898 and parameters: {'lr': 1.112056805629071e-05, 'wd': 1.755512579152839e-05, 'bs': 32, 'epochs': 96, 'rep1': 63, 'rep2': 74, 'head': 113, 'drop': 0.24577684562148167, 'ipm_weight': 1.398611865745775}. Best is trial 2 with value: 0.7694148421287537.\n",
      "[I 2025-04-25 15:40:34,220] Trial 7 finished with value: 0.7945796847343445 and parameters: {'lr': 0.0020815535685575286, 'wd': 1.1793056427585256e-05, 'bs': 128, 'epochs': 86, 'rep1': 198, 'rep2': 151, 'head': 134, 'drop': 0.07083537880343205, 'ipm_weight': 0.13950664925551481}. Best is trial 2 with value: 0.7694148421287537.\n",
      "[I 2025-04-25 15:40:35,499] Trial 8 finished with value: 0.7461968660354614 and parameters: {'lr': 0.0027899866190996023, 'wd': 7.730056625030146e-05, 'bs': 64, 'epochs': 70, 'rep1': 65, 'rep2': 175, 'head': 83, 'drop': 0.3497580081596904, 'ipm_weight': 0.08922825050749407}. Best is trial 8 with value: 0.7461968660354614.\n",
      "[I 2025-04-25 15:40:39,591] Trial 9 finished with value: 0.7638531923294067 and parameters: {'lr': 0.0001834433186266204, 'wd': 1.2666107953102368e-05, 'bs': 32, 'epochs': 133, 'rep1': 153, 'rep2': 112, 'head': 115, 'drop': 0.10396168529503158, 'ipm_weight': 0.1993015279891393}. Best is trial 8 with value: 0.7461968660354614.\n",
      "[I 2025-04-25 15:40:40,655] Trial 10 finished with value: 0.7980307936668396 and parameters: {'lr': 0.0008698118382295984, 'wd': 7.003924539099001e-05, 'bs': 64, 'epochs': 50, 'rep1': 96, 'rep2': 107, 'head': 198, 'drop': 0.4568756920302267, 'ipm_weight': 0.011233458583567188}. Best is trial 8 with value: 0.7461968660354614.\n",
      "[I 2025-04-25 15:40:45,147] Trial 11 finished with value: 0.8007280230522156 and parameters: {'lr': 0.00978992538412695, 'wd': 1.4372798608315414e-05, 'bs': 32, 'epochs': 144, 'rep1': 151, 'rep2': 103, 'head': 164, 'drop': 0.38150057553418365, 'ipm_weight': 0.06447114541217855}. Best is trial 8 with value: 0.7461968660354614.\n",
      "[I 2025-04-25 15:40:48,611] Trial 12 finished with value: 0.7430857419967651 and parameters: {'lr': 0.00025006263402820917, 'wd': 3.726051380416248e-05, 'bs': 32, 'epochs': 115, 'rep1': 149, 'rep2': 79, 'head': 112, 'drop': 0.18335984203402877, 'ipm_weight': 0.06747019780763423}. Best is trial 12 with value: 0.7430857419967651.\n",
      "[I 2025-04-25 15:40:51,545] Trial 13 finished with value: 0.7648815512657166 and parameters: {'lr': 0.0004759226628910469, 'wd': 4.3545779654468025e-05, 'bs': 32, 'epochs': 103, 'rep1': 138, 'rep2': 50, 'head': 74, 'drop': 0.3118548383291941, 'ipm_weight': 0.049018535599089884}. Best is trial 12 with value: 0.7430857419967651.\n",
      "[I 2025-04-25 15:40:53,353] Trial 14 finished with value: 0.7587965130805969 and parameters: {'lr': 0.007194187321865752, 'wd': 3.3142619032192824e-05, 'bs': 32, 'epochs': 59, 'rep1': 84, 'rep2': 76, 'head': 156, 'drop': 0.17624124363155377, 'ipm_weight': 0.07797613014019507}. Best is trial 12 with value: 0.7430857419967651.\n",
      "[I 2025-04-25 15:40:56,269] Trial 15 finished with value: 0.7763856053352356 and parameters: {'lr': 0.00016597787976792985, 'wd': 4.186005601581852e-06, 'bs': 64, 'epochs': 157, 'rep1': 125, 'rep2': 82, 'head': 108, 'drop': 0.3528780653164167, 'ipm_weight': 0.385735345979595}. Best is trial 12 with value: 0.7430857419967651.\n",
      "[I 2025-04-25 15:40:59,838] Trial 16 finished with value: 0.7805677652359009 and parameters: {'lr': 8.278116373502408e-05, 'wd': 3.364739552216439e-05, 'bs': 32, 'epochs': 112, 'rep1': 172, 'rep2': 171, 'head': 79, 'drop': 0.18092589870396564, 'ipm_weight': 0.023429519387680446}. Best is trial 12 with value: 0.7430857419967651.\n",
      "[I 2025-04-25 15:41:01,353] Trial 17 finished with value: 0.8036187291145325 and parameters: {'lr': 0.0008453189091740157, 'wd': 3.994707271335132e-06, 'bs': 64, 'epochs': 77, 'rep1': 87, 'rep2': 132, 'head': 124, 'drop': 0.26847775406186586, 'ipm_weight': 0.010908249446116156}. Best is trial 12 with value: 0.7430857419967651.\n",
      "[I 2025-04-25 15:41:06,234] Trial 18 finished with value: 0.767307698726654 and parameters: {'lr': 0.002366973014961391, 'wd': 7.020306191138287e-06, 'bs': 32, 'epochs': 171, 'rep1': 117, 'rep2': 50, 'head': 104, 'drop': 0.4954873045572731, 'ipm_weight': 0.45257116128720387}. Best is trial 12 with value: 0.7430857419967651.\n",
      "[I 2025-04-25 15:41:08,585] Trial 19 finished with value: 0.7657647132873535 and parameters: {'lr': 0.0004301743396096157, 'wd': 9.059997928748698e-05, 'bs': 64, 'epochs': 115, 'rep1': 51, 'rep2': 167, 'head': 183, 'drop': 0.23193075194605237, 'ipm_weight': 0.11254416073337856}. Best is trial 12 with value: 0.7430857419967651.\n"
     ]
    },
    {
     "name": "stdout",
     "output_type": "stream",
     "text": [
      "Best params for cfrnet: {'lr': 0.00025006263402820917, 'wd': 3.726051380416248e-05, 'bs': 32, 'epochs': 115, 'rep1': 149, 'rep2': 79, 'head': 112, 'drop': 0.18335984203402877, 'ipm_weight': 0.06747019780763423}\n"
     ]
    },
    {
     "name": "stderr",
     "output_type": "stream",
     "text": [
      "[I 2025-04-25 15:41:13,320] A new study created in memory with name: cevae_tune\n",
      "INFO \t Training with 16 minibatches per epoch\n",
      "[I 2025-04-25 15:41:34,957] Trial 0 finished with value: 38.92249951171875 and parameters: {'lr': 0.0008544159747557712, 'wd': 5.8817448191162395e-05, 'bs': 64, 'epochs': 172, 'latent_dim': 108, 'hidden_dim': 234, 'num_layers': 5, 'num_samples': 10}. Best is trial 0 with value: 38.92249951171875.\n",
      "INFO \t Training with 32 minibatches per epoch\n",
      "[I 2025-04-25 15:42:02,061] Trial 1 finished with value: 37.77280834960938 and parameters: {'lr': 3.461095027767085e-05, 'wd': 1.7272094313364184e-06, 'bs': 32, 'epochs': 120, 'latent_dim': 175, 'hidden_dim': 370, 'num_layers': 4, 'num_samples': 10}. Best is trial 1 with value: 37.77280834960938.\n",
      "INFO \t Training with 32 minibatches per epoch\n",
      "[I 2025-04-25 15:42:10,537] Trial 2 finished with value: 40.522016235351565 and parameters: {'lr': 0.0005183554055223117, 'wd': 9.043423471864047e-07, 'bs': 32, 'epochs': 52, 'latent_dim': 111, 'hidden_dim': 159, 'num_layers': 4, 'num_samples': 100}. Best is trial 1 with value: 37.77280834960938.\n",
      "INFO \t Training with 8 minibatches per epoch\n",
      "[I 2025-04-25 15:42:18,636] Trial 3 finished with value: 30.232945068359374 and parameters: {'lr': 0.0014158183193892487, 'wd': 4.808407307533339e-05, 'bs': 128, 'epochs': 126, 'latent_dim': 36, 'hidden_dim': 308, 'num_layers': 4, 'num_samples': 200}. Best is trial 3 with value: 30.232945068359374.\n",
      "INFO \t Training with 16 minibatches per epoch\n",
      "[I 2025-04-25 15:42:26,605] Trial 4 finished with value: 59.94046459960938 and parameters: {'lr': 0.004187826845107528, 'wd': 1.338664055148009e-07, 'bs': 64, 'epochs': 95, 'latent_dim': 175, 'hidden_dim': 346, 'num_layers': 2, 'num_samples': 200}. Best is trial 3 with value: 30.232945068359374.\n",
      "INFO \t Training with 8 minibatches per epoch\n",
      "[I 2025-04-25 15:42:40,491] Trial 5 finished with value: 39.17611114501953 and parameters: {'lr': 0.0002774538749580242, 'wd': 6.880166989522032e-07, 'bs': 128, 'epochs': 173, 'latent_dim': 128, 'hidden_dim': 289, 'num_layers': 5, 'num_samples': 10}. Best is trial 3 with value: 30.232945068359374.\n",
      "INFO \t Training with 8 minibatches per epoch\n",
      "[I 2025-04-25 15:42:45,203] Trial 6 finished with value: 49.82160235595703 and parameters: {'lr': 1.7105485743055197e-05, 'wd': 4.402248321033025e-06, 'bs': 128, 'epochs': 106, 'latent_dim': 167, 'hidden_dim': 77, 'num_layers': 3, 'num_samples': 200}. Best is trial 3 with value: 30.232945068359374.\n",
      "INFO \t Training with 8 minibatches per epoch\n",
      "[I 2025-04-25 15:42:52,652] Trial 7 finished with value: 30.91030352783203 and parameters: {'lr': 6.635177822112315e-05, 'wd': 7.23318674777835e-05, 'bs': 128, 'epochs': 107, 'latent_dim': 43, 'hidden_dim': 222, 'num_layers': 5, 'num_samples': 100}. Best is trial 3 with value: 30.232945068359374.\n",
      "INFO \t Training with 32 minibatches per epoch\n",
      "[I 2025-04-25 15:43:06,246] Trial 8 finished with value: 48.57764624023437 and parameters: {'lr': 0.00029934047053561025, 'wd': 3.7461594879108043e-06, 'bs': 32, 'epochs': 114, 'latent_dim': 131, 'hidden_dim': 159, 'num_layers': 2, 'num_samples': 10}. Best is trial 3 with value: 30.232945068359374.\n",
      "INFO \t Training with 32 minibatches per epoch\n",
      "[I 2025-04-25 15:43:22,535] Trial 9 finished with value: 46.30384228515625 and parameters: {'lr': 1.7821405593914243e-05, 'wd': 1.3324800031680364e-07, 'bs': 32, 'epochs': 83, 'latent_dim': 190, 'hidden_dim': 399, 'num_layers': 3, 'num_samples': 200}. Best is trial 3 with value: 30.232945068359374.\n",
      "INFO \t Training with 8 minibatches per epoch\n",
      "[I 2025-04-25 15:43:28,354] Trial 10 finished with value: 29.01326788330078 and parameters: {'lr': 0.00853447651460914, 'wd': 2.3634885529286906e-05, 'bs': 128, 'epochs': 145, 'latent_dim': 28, 'hidden_dim': 20, 'num_layers': 4, 'num_samples': 50}. Best is trial 10 with value: 29.01326788330078.\n",
      "INFO \t Training with 8 minibatches per epoch\n",
      "[I 2025-04-25 15:43:34,441] Trial 11 finished with value: 28.120511596679687 and parameters: {'lr': 0.008991975812970893, 'wd': 1.896029397918998e-05, 'bs': 128, 'epochs': 148, 'latent_dim': 15, 'hidden_dim': 26, 'num_layers': 4, 'num_samples': 50}. Best is trial 11 with value: 28.120511596679687.\n",
      "INFO \t Training with 8 minibatches per epoch\n",
      "[I 2025-04-25 15:43:40,377] Trial 12 finished with value: 29.58805432128906 and parameters: {'lr': 0.009378813607149749, 'wd': 1.5108108601524504e-05, 'bs': 128, 'epochs': 148, 'latent_dim': 14, 'hidden_dim': 21, 'num_layers': 4, 'num_samples': 50}. Best is trial 11 with value: 28.120511596679687.\n",
      "INFO \t Training with 8 minibatches per epoch\n",
      "[I 2025-04-25 15:43:47,460] Trial 13 finished with value: 35.30368542480469 and parameters: {'lr': 0.009759155962122757, 'wd': 1.5027062543499151e-05, 'bs': 128, 'epochs': 194, 'latent_dim': 68, 'hidden_dim': 20, 'num_layers': 3, 'num_samples': 50}. Best is trial 11 with value: 28.120511596679687.\n",
      "INFO \t Training with 8 minibatches per epoch\n",
      "[I 2025-04-25 15:43:54,968] Trial 14 finished with value: 35.239436279296875 and parameters: {'lr': 0.0028609083376640496, 'wd': 1.8113656102277604e-05, 'bs': 128, 'epochs': 148, 'latent_dim': 71, 'hidden_dim': 101, 'num_layers': 4, 'num_samples': 50}. Best is trial 11 with value: 28.120511596679687.\n",
      "INFO \t Training with 8 minibatches per epoch\n",
      "[I 2025-04-25 15:44:00,525] Trial 15 finished with value: 27.382694641113282 and parameters: {'lr': 0.002619159303325833, 'wd': 7.244526359679301e-06, 'bs': 128, 'epochs': 144, 'latent_dim': 11, 'hidden_dim': 82, 'num_layers': 3, 'num_samples': 50}. Best is trial 15 with value: 27.382694641113282.\n",
      "INFO \t Training with 16 minibatches per epoch\n",
      "[I 2025-04-25 15:44:12,653] Trial 16 finished with value: 36.58698358154297 and parameters: {'lr': 0.0028257387962339914, 'wd': 5.610757122364112e-06, 'bs': 64, 'epochs': 171, 'latent_dim': 62, 'hidden_dim': 97, 'num_layers': 3, 'num_samples': 50}. Best is trial 15 with value: 27.382694641113282.\n",
      "INFO \t Training with 8 minibatches per epoch\n",
      "[I 2025-04-25 15:44:17,400] Trial 17 finished with value: 28.957200561523436 and parameters: {'lr': 0.0015132210054739428, 'wd': 7.252715171865127e-06, 'bs': 128, 'epochs': 132, 'latent_dim': 13, 'hidden_dim': 164, 'num_layers': 2, 'num_samples': 50}. Best is trial 15 with value: 27.382694641113282.\n",
      "INFO \t Training with 8 minibatches per epoch\n",
      "[I 2025-04-25 15:44:23,428] Trial 18 finished with value: 32.385892944335936 and parameters: {'lr': 0.00013539862801120763, 'wd': 1.577996751623366e-06, 'bs': 128, 'epochs': 159, 'latent_dim': 52, 'hidden_dim': 64, 'num_layers': 3, 'num_samples': 50}. Best is trial 15 with value: 27.382694641113282.\n",
      "INFO \t Training with 16 minibatches per epoch\n",
      "[I 2025-04-25 15:44:37,932] Trial 19 finished with value: 39.8744096069336 and parameters: {'lr': 0.004066695484714979, 'wd': 9.255556937272983e-06, 'bs': 64, 'epochs': 196, 'latent_dim': 84, 'hidden_dim': 124, 'num_layers': 3, 'num_samples': 50}. Best is trial 15 with value: 27.382694641113282.\n",
      "INFO \t Training with 11 minibatches per epoch\n"
     ]
    },
    {
     "name": "stdout",
     "output_type": "stream",
     "text": [
      "Best params for cevae: {'lr': 0.002619159303325833, 'wd': 7.244526359679301e-06, 'bs': 128, 'epochs': 144, 'latent_dim': 11, 'hidden_dim': 82, 'num_layers': 3, 'num_samples': 50}\n"
     ]
    },
    {
     "name": "stderr",
     "output_type": "stream",
     "text": [
      "INFO \t Evaluating 1 minibatches\n",
      "[I 2025-04-25 15:44:45,772] A new study created in memory with name: dragonnet_tune\n",
      "[I 2025-04-25 15:44:49,928] Trial 0 finished with value: 0.3111136853694916 and parameters: {'lr': 2.494745173523659e-05, 'wd': 2.1919583124749455e-07, 'bs': 32, 'epochs': 147, 'shared_hidden': 167, 'outcome_hidden': 94}. Best is trial 0 with value: 0.3111136853694916.\n",
      "[I 2025-04-25 15:44:53,922] Trial 1 finished with value: 0.32084420323371887 and parameters: {'lr': 0.0016774049470389637, 'wd': 1.9683538336796772e-07, 'bs': 32, 'epochs': 121, 'shared_hidden': 163, 'outcome_hidden': 196}. Best is trial 0 with value: 0.3111136853694916.\n",
      "[I 2025-04-25 15:44:57,747] Trial 2 finished with value: 0.318867951631546 and parameters: {'lr': 7.371934602141782e-05, 'wd': 6.846078679524453e-06, 'bs': 32, 'epochs': 142, 'shared_hidden': 170, 'outcome_hidden': 60}. Best is trial 0 with value: 0.3111136853694916.\n",
      "[I 2025-04-25 15:45:03,178] Trial 3 finished with value: 0.32404395937919617 and parameters: {'lr': 0.009590154519615266, 'wd': 2.2844614062556808e-05, 'bs': 32, 'epochs': 161, 'shared_hidden': 165, 'outcome_hidden': 193}. Best is trial 0 with value: 0.3111136853694916.\n",
      "[I 2025-04-25 15:45:04,718] Trial 4 finished with value: 0.3381957709789276 and parameters: {'lr': 3.038625446749803e-05, 'wd': 3.4966087660623754e-06, 'bs': 32, 'epochs': 58, 'shared_hidden': 158, 'outcome_hidden': 80}. Best is trial 0 with value: 0.3111136853694916.\n",
      "[I 2025-04-25 15:45:06,084] Trial 5 finished with value: 0.3271559774875641 and parameters: {'lr': 5.0774075354298477e-05, 'wd': 1.1190513969015227e-06, 'bs': 128, 'epochs': 138, 'shared_hidden': 108, 'outcome_hidden': 96}. Best is trial 0 with value: 0.3111136853694916.\n",
      "[I 2025-04-25 15:45:10,443] Trial 6 finished with value: 0.3260893225669861 and parameters: {'lr': 0.0010312813637420716, 'wd': 3.9510982256644623e-07, 'bs': 32, 'epochs': 147, 'shared_hidden': 151, 'outcome_hidden': 150}. Best is trial 0 with value: 0.3111136853694916.\n",
      "[I 2025-04-25 15:45:16,476] Trial 7 finished with value: 0.323186993598938 and parameters: {'lr': 0.0012302236810577533, 'wd': 1.2047555879420256e-07, 'bs': 32, 'epochs': 191, 'shared_hidden': 169, 'outcome_hidden': 167}. Best is trial 0 with value: 0.3111136853694916.\n",
      "[I 2025-04-25 15:45:17,978] Trial 8 finished with value: 0.3163611590862274 and parameters: {'lr': 0.0012568779307572317, 'wd': 1.0461978896917547e-05, 'bs': 64, 'epochs': 85, 'shared_hidden': 145, 'outcome_hidden': 135}. Best is trial 0 with value: 0.3111136853694916.\n",
      "[I 2025-04-25 15:45:20,041] Trial 9 finished with value: 0.5972835421562195 and parameters: {'lr': 1.2069857173087275e-05, 'wd': 7.485611216067892e-06, 'bs': 64, 'epochs': 142, 'shared_hidden': 50, 'outcome_hidden': 114}. Best is trial 0 with value: 0.3111136853694916.\n",
      "[I 2025-04-25 15:45:22,211] Trial 10 finished with value: 0.32954129576683044 and parameters: {'lr': 0.00021808213138844486, 'wd': 8.411939534502282e-05, 'bs': 128, 'epochs': 199, 'shared_hidden': 198, 'outcome_hidden': 54}. Best is trial 0 with value: 0.3111136853694916.\n",
      "[I 2025-04-25 15:45:23,614] Trial 11 finished with value: 0.3150150775909424 and parameters: {'lr': 0.00027908187139259966, 'wd': 9.104341533114984e-07, 'bs': 64, 'epochs': 85, 'shared_hidden': 119, 'outcome_hidden': 131}. Best is trial 0 with value: 0.3111136853694916.\n",
      "[I 2025-04-25 15:45:25,212] Trial 12 finished with value: 0.32039061188697815 and parameters: {'lr': 0.0002030656414571522, 'wd': 8.082883899192183e-07, 'bs': 64, 'epochs': 102, 'shared_hidden': 114, 'outcome_hidden': 108}. Best is trial 0 with value: 0.3111136853694916.\n",
      "[I 2025-04-25 15:45:25,988] Trial 13 finished with value: 1.2817986011505127 and parameters: {'lr': 1.3159843274532575e-05, 'wd': 1.046458873544396e-06, 'bs': 64, 'epochs': 53, 'shared_hidden': 88, 'outcome_hidden': 85}. Best is trial 0 with value: 0.3111136853694916.\n",
      "[I 2025-04-25 15:45:27,369] Trial 14 finished with value: 0.3119865357875824 and parameters: {'lr': 9.72630329603128e-05, 'wd': 3.648232017977002e-07, 'bs': 64, 'epochs': 81, 'shared_hidden': 131, 'outcome_hidden': 129}. Best is trial 0 with value: 0.3111136853694916.\n",
      "[I 2025-04-25 15:45:29,721] Trial 15 finished with value: 0.32203564047813416 and parameters: {'lr': 9.145326255198454e-05, 'wd': 2.8411103253060394e-07, 'bs': 128, 'epochs': 172, 'shared_hidden': 195, 'outcome_hidden': 153}. Best is trial 0 with value: 0.3111136853694916.\n",
      "[I 2025-04-25 15:45:31,473] Trial 16 finished with value: 0.3456517159938812 and parameters: {'lr': 2.1992762207813083e-05, 'wd': 1.1245564470711593e-07, 'bs': 64, 'epochs': 114, 'shared_hidden': 134, 'outcome_hidden': 73}. Best is trial 0 with value: 0.3111136853694916.\n",
      "[I 2025-04-25 15:45:33,547] Trial 17 finished with value: 0.32817068696022034 and parameters: {'lr': 0.00010474154553649813, 'wd': 2.1898640698497273e-06, 'bs': 32, 'epochs': 79, 'shared_hidden': 80, 'outcome_hidden': 106}. Best is trial 0 with value: 0.3111136853694916.\n",
      "[I 2025-04-25 15:45:35,391] Trial 18 finished with value: 0.34316086769104004 and parameters: {'lr': 2.692501509390257e-05, 'wd': 4.077541312169766e-07, 'bs': 64, 'epochs': 101, 'shared_hidden': 179, 'outcome_hidden': 120}. Best is trial 0 with value: 0.3111136853694916.\n",
      "[I 2025-04-25 15:45:37,520] Trial 19 finished with value: 0.32626479864120483 and parameters: {'lr': 0.0005734599125952852, 'wd': 2.2710766936234584e-06, 'bs': 128, 'epochs': 172, 'shared_hidden': 136, 'outcome_hidden': 172}. Best is trial 0 with value: 0.3111136853694916.\n"
     ]
    },
    {
     "name": "stdout",
     "output_type": "stream",
     "text": [
      "Best params for dragonnet: {'lr': 2.494745173523659e-05, 'wd': 2.1919583124749455e-07, 'bs': 32, 'epochs': 147, 'shared_hidden': 167, 'outcome_hidden': 94}\n"
     ]
    },
    {
     "name": "stderr",
     "output_type": "stream",
     "text": [
      "2025-04-25 15:45:46.866530: E tensorflow/core/framework/node_def_util.cc:676] NodeDef mentions attribute use_unbounded_threadpool which is not in the op definition: Op<name=MapDataset; signature=input_dataset:variant, other_arguments: -> handle:variant; attr=f:func; attr=Targuments:list(type),min=0; attr=output_types:list(type),min=1; attr=output_shapes:list(shape),min=1; attr=use_inter_op_parallelism:bool,default=true; attr=preserve_cardinality:bool,default=false; attr=force_synchronous:bool,default=false; attr=metadata:string,default=\"\"> This may be expected if your graph generating binary is newer  than this binary. Unknown attributes will be ignored. NodeDef: {{node ParallelMapDatasetV2/_14}}\n",
      "2025-04-25 15:45:46.866807: E tensorflow/core/framework/node_def_util.cc:676] NodeDef mentions attribute use_unbounded_threadpool which is not in the op definition: Op<name=MapDataset; signature=input_dataset:variant, other_arguments: -> handle:variant; attr=f:func; attr=Targuments:list(type),min=0; attr=output_types:list(type),min=1; attr=output_shapes:list(shape),min=1; attr=use_inter_op_parallelism:bool,default=true; attr=preserve_cardinality:bool,default=false; attr=force_synchronous:bool,default=false; attr=metadata:string,default=\"\"> This may be expected if your graph generating binary is newer  than this binary. Unknown attributes will be ignored. NodeDef: {{node ParallelMapDatasetV2/_14}}\n",
      "2025-04-25 15:45:53.693586: E tensorflow/core/framework/node_def_util.cc:676] NodeDef mentions attribute use_unbounded_threadpool which is not in the op definition: Op<name=MapDataset; signature=input_dataset:variant, other_arguments: -> handle:variant; attr=f:func; attr=Targuments:list(type),min=0; attr=output_types:list(type),min=1; attr=output_shapes:list(shape),min=1; attr=use_inter_op_parallelism:bool,default=true; attr=preserve_cardinality:bool,default=false; attr=force_synchronous:bool,default=false; attr=metadata:string,default=\"\"> This may be expected if your graph generating binary is newer  than this binary. Unknown attributes will be ignored. NodeDef: {{node ParallelMapDatasetV2/_14}}\n",
      "2025-04-25 15:45:53.693868: E tensorflow/core/framework/node_def_util.cc:676] NodeDef mentions attribute use_unbounded_threadpool which is not in the op definition: Op<name=MapDataset; signature=input_dataset:variant, other_arguments: -> handle:variant; attr=f:func; attr=Targuments:list(type),min=0; attr=output_types:list(type),min=1; attr=output_shapes:list(shape),min=1; attr=use_inter_op_parallelism:bool,default=true; attr=preserve_cardinality:bool,default=false; attr=force_synchronous:bool,default=false; attr=metadata:string,default=\"\"> This may be expected if your graph generating binary is newer  than this binary. Unknown attributes will be ignored. NodeDef: {{node ParallelMapDatasetV2/_14}}\n",
      "  5%|▌         | 1/20 [06:28<2:03:00, 388.44s/it]"
     ]
    },
    {
     "name": "stdout",
     "output_type": "stream",
     "text": [
      "The average treatment effect (ATE) is 1.8541689\n",
      "Epoch 1: loss 2.2898,\tloss_y 1.5188, 1.5333, 0.0289,\tloss_eta 0.7710, 0.8081, 0.0741\n",
      "Epoch 1000: loss 0.8068,\tloss_y 0.2902, 0.5745, 0.5687,\tloss_eta 0.5166, 1.0537, 1.0740\n",
      "Warning: covariate dimension does not aligned with the specified input dimension; filling in the remaining dimension with noise.\n",
      "Warning: covariate dimension does not aligned with the specified input dimension; filling in the remaining dimension with noise.\n"
     ]
    },
    {
     "name": "stderr",
     "output_type": "stream",
     "text": [
      "[I 2025-04-25 15:45:58,163] A new study created in memory with name: tarnet_tune\n",
      "[I 2025-04-25 15:45:59,120] Trial 0 finished with value: 0.9051259756088257 and parameters: {'lr': 5.3860678028380595e-05, 'wd': 9.497537278772639e-05, 'bs': 128, 'epochs': 81, 'rep1': 196, 'rep2': 178, 'head': 151, 'drop': 0.19436198407259042}. Best is trial 0 with value: 0.9051259756088257.\n",
      "[I 2025-04-25 15:46:01,339] Trial 1 finished with value: 0.9878206849098206 and parameters: {'lr': 1.6153391880407613e-05, 'wd': 1.0324191066653096e-05, 'bs': 64, 'epochs': 136, 'rep1': 140, 'rep2': 165, 'head': 183, 'drop': 0.385257261939918}. Best is trial 0 with value: 0.9051259756088257.\n",
      "[I 2025-04-25 15:46:02,214] Trial 2 finished with value: 0.8686088919639587 and parameters: {'lr': 0.00019072746281705518, 'wd': 9.22770374293285e-07, 'bs': 64, 'epochs': 67, 'rep1': 90, 'rep2': 85, 'head': 88, 'drop': 0.3788370436983959}. Best is trial 2 with value: 0.8686088919639587.\n",
      "[I 2025-04-25 15:46:03,382] Trial 3 finished with value: 0.8903107643127441 and parameters: {'lr': 5.611571928329167e-05, 'wd': 3.3808169681885606e-07, 'bs': 128, 'epochs': 102, 'rep1': 196, 'rep2': 194, 'head': 135, 'drop': 0.1670868792279736}. Best is trial 2 with value: 0.8686088919639587.\n",
      "[I 2025-04-25 15:46:04,962] Trial 4 finished with value: 2.452572822570801 and parameters: {'lr': 1.0948944924479602e-05, 'wd': 7.123798435832285e-06, 'bs': 128, 'epochs': 155, 'rep1': 113, 'rep2': 59, 'head': 163, 'drop': 0.42843158418400795}. Best is trial 2 with value: 0.8686088919639587.\n",
      "[I 2025-04-25 15:46:06,377] Trial 5 finished with value: 0.8552439212799072 and parameters: {'lr': 0.0004146802866341295, 'wd': 3.121945706729722e-05, 'bs': 64, 'epochs': 99, 'rep1': 134, 'rep2': 191, 'head': 65, 'drop': 0.19815504253173905}. Best is trial 5 with value: 0.8552439212799072.\n",
      "[I 2025-04-25 15:46:08,111] Trial 6 finished with value: 0.8984827399253845 and parameters: {'lr': 0.0001452698117186995, 'wd': 2.4576463075085822e-06, 'bs': 128, 'epochs': 162, 'rep1': 63, 'rep2': 167, 'head': 158, 'drop': 0.47220378268586816}. Best is trial 5 with value: 0.8552439212799072.\n",
      "[I 2025-04-25 15:46:12,035] Trial 7 finished with value: 0.8732146620750427 and parameters: {'lr': 0.00019007570893453667, 'wd': 2.9777597074517994e-05, 'bs': 32, 'epochs': 170, 'rep1': 128, 'rep2': 157, 'head': 104, 'drop': 0.4027102197365532}. Best is trial 5 with value: 0.8552439212799072.\n",
      "[I 2025-04-25 15:46:13,605] Trial 8 finished with value: 0.8768368363380432 and parameters: {'lr': 0.00504886124773213, 'wd': 5.173100642094768e-07, 'bs': 128, 'epochs': 166, 'rep1': 96, 'rep2': 88, 'head': 105, 'drop': 0.4061181774884862}. Best is trial 5 with value: 0.8552439212799072.\n",
      "[I 2025-04-25 15:46:15,052] Trial 9 finished with value: 1.0025348663330078 and parameters: {'lr': 1.4294086488916327e-05, 'wd': 1.0483882820684695e-05, 'bs': 32, 'epochs': 69, 'rep1': 116, 'rep2': 128, 'head': 96, 'drop': 0.09135621808505956}. Best is trial 5 with value: 0.8552439212799072.\n",
      "[I 2025-04-25 15:46:17,735] Trial 10 finished with value: 0.8713568449020386 and parameters: {'lr': 0.0017507303494799255, 'wd': 1.0056544245901576e-07, 'bs': 64, 'epochs': 196, 'rep1': 153, 'rep2': 127, 'head': 55, 'drop': 0.015028848469131106}. Best is trial 5 with value: 0.8552439212799072.\n",
      "[I 2025-04-25 15:46:18,381] Trial 11 finished with value: 0.8607091903686523 and parameters: {'lr': 0.0008598572047839768, 'wd': 1.1881203864244632e-06, 'bs': 64, 'epochs': 51, 'rep1': 76, 'rep2': 94, 'head': 53, 'drop': 0.2891302005193945}. Best is trial 5 with value: 0.8552439212799072.\n",
      "[I 2025-04-25 15:46:19,029] Trial 12 finished with value: 0.872547447681427 and parameters: {'lr': 0.0008311307945333819, 'wd': 2.061430370629419e-06, 'bs': 64, 'epochs': 52, 'rep1': 67, 'rep2': 98, 'head': 52, 'drop': 0.27920730968986507}. Best is trial 5 with value: 0.8552439212799072.\n",
      "[I 2025-04-25 15:46:20,534] Trial 13 finished with value: 0.8508475422859192 and parameters: {'lr': 0.0007644923332997401, 'wd': 7.10950005381013e-05, 'bs': 64, 'epochs': 108, 'rep1': 168, 'rep2': 112, 'head': 75, 'drop': 0.2853261510665289}. Best is trial 13 with value: 0.8508475422859192.\n",
      "[I 2025-04-25 15:46:22,025] Trial 14 finished with value: 0.8873884081840515 and parameters: {'lr': 0.009620184321008815, 'wd': 9.96243942221563e-05, 'bs': 64, 'epochs': 104, 'rep1': 164, 'rep2': 141, 'head': 72, 'drop': 0.19572508183400295}. Best is trial 13 with value: 0.8508475422859192.\n",
      "[I 2025-04-25 15:46:23,554] Trial 15 finished with value: 0.8576474785804749 and parameters: {'lr': 0.0007241975600105353, 'wd': 3.210390221435187e-05, 'bs': 64, 'epochs': 110, 'rep1': 168, 'rep2': 112, 'head': 79, 'drop': 0.32118023790045913}. Best is trial 13 with value: 0.8508475422859192.\n",
      "[I 2025-04-25 15:46:25,391] Trial 16 finished with value: 0.8855966925621033 and parameters: {'lr': 0.0021386626541492924, 'wd': 3.1175816524366565e-05, 'bs': 64, 'epochs': 129, 'rep1': 174, 'rep2': 58, 'head': 126, 'drop': 0.11352153626620937}. Best is trial 13 with value: 0.8508475422859192.\n",
      "[I 2025-04-25 15:46:27,437] Trial 17 finished with value: 0.8719269633293152 and parameters: {'lr': 0.00042136414058344606, 'wd': 4.604753587455507e-05, 'bs': 32, 'epochs': 87, 'rep1': 145, 'rep2': 199, 'head': 69, 'drop': 0.23586969269403513}. Best is trial 13 with value: 0.8508475422859192.\n",
      "[I 2025-04-25 15:46:29,222] Trial 18 finished with value: 0.8589168190956116 and parameters: {'lr': 0.0022471255692736265, 'wd': 5.1349890766303794e-06, 'bs': 64, 'epochs': 119, 'rep1': 182, 'rep2': 144, 'head': 114, 'drop': 0.3323480820968694}. Best is trial 13 with value: 0.8508475422859192.\n",
      "[I 2025-04-25 15:46:31,415] Trial 19 finished with value: 0.8448994159698486 and parameters: {'lr': 0.00039891721555318575, 'wd': 2.049884863400376e-05, 'bs': 64, 'epochs': 143, 'rep1': 129, 'rep2': 109, 'head': 198, 'drop': 0.12863222392386178}. Best is trial 19 with value: 0.8448994159698486.\n"
     ]
    },
    {
     "name": "stdout",
     "output_type": "stream",
     "text": [
      "Best params for tarnet: {'lr': 0.00039891721555318575, 'wd': 2.049884863400376e-05, 'bs': 64, 'epochs': 143, 'rep1': 129, 'rep2': 109, 'head': 198, 'drop': 0.12863222392386178}\n"
     ]
    },
    {
     "name": "stderr",
     "output_type": "stream",
     "text": [
      "[I 2025-04-25 15:46:34,545] A new study created in memory with name: cfrnet_tune\n",
      "[I 2025-04-25 15:46:36,835] Trial 0 finished with value: 0.9029398560523987 and parameters: {'lr': 0.00011984173575400731, 'wd': 2.0614517977474865e-07, 'bs': 128, 'epochs': 164, 'rep1': 60, 'rep2': 118, 'head': 132, 'drop': 0.3783070758562046, 'ipm_weight': 0.3526374396823483}. Best is trial 0 with value: 0.9029398560523987.\n",
      "[I 2025-04-25 15:46:37,897] Trial 1 finished with value: 2.521277904510498 and parameters: {'lr': 2.51903815275425e-05, 'wd': 6.744760601985209e-06, 'bs': 128, 'epochs': 75, 'rep1': 52, 'rep2': 147, 'head': 120, 'drop': 0.46011817214921147, 'ipm_weight': 2.115459674234035}. Best is trial 0 with value: 0.9029398560523987.\n",
      "[I 2025-04-25 15:46:41,710] Trial 2 finished with value: 0.9085062742233276 and parameters: {'lr': 1.2561334197428558e-05, 'wd': 7.699258685819365e-06, 'bs': 32, 'epochs': 126, 'rep1': 174, 'rep2': 156, 'head': 55, 'drop': 0.07828985681222678, 'ipm_weight': 0.017106026371649017}. Best is trial 0 with value: 0.9029398560523987.\n",
      "[I 2025-04-25 15:46:42,954] Trial 3 finished with value: 2.247744560241699 and parameters: {'lr': 2.28416814862169e-05, 'wd': 1.8586626636676967e-05, 'bs': 128, 'epochs': 88, 'rep1': 80, 'rep2': 171, 'head': 77, 'drop': 0.4244102641532633, 'ipm_weight': 9.149020739172007}. Best is trial 0 with value: 0.9029398560523987.\n",
      "[I 2025-04-25 15:46:44,377] Trial 4 finished with value: 1.0304023027420044 and parameters: {'lr': 2.497050181737273e-05, 'wd': 7.482762224997193e-06, 'bs': 64, 'epochs': 77, 'rep1': 71, 'rep2': 137, 'head': 88, 'drop': 0.12869266423728487, 'ipm_weight': 0.9483976695108743}. Best is trial 0 with value: 0.9029398560523987.\n",
      "[I 2025-04-25 15:46:47,205] Trial 5 finished with value: 0.8834924101829529 and parameters: {'lr': 0.004018361175382009, 'wd': 1.4269775537791173e-05, 'bs': 64, 'epochs': 144, 'rep1': 196, 'rep2': 172, 'head': 80, 'drop': 0.44301062699929417, 'ipm_weight': 2.024865375553647}. Best is trial 5 with value: 0.8834924101829529.\n",
      "[I 2025-04-25 15:46:49,599] Trial 6 finished with value: 0.8941341638565063 and parameters: {'lr': 0.0014441037182217106, 'wd': 2.9427110024994887e-05, 'bs': 128, 'epochs': 200, 'rep1': 54, 'rep2': 60, 'head': 51, 'drop': 0.2798702324862199, 'ipm_weight': 0.014655588427553427}. Best is trial 5 with value: 0.8834924101829529.\n",
      "[I 2025-04-25 15:46:51,971] Trial 7 finished with value: 0.8738210201263428 and parameters: {'lr': 0.008203564498339262, 'wd': 5.279864121201652e-05, 'bs': 128, 'epochs': 184, 'rep1': 114, 'rep2': 75, 'head': 98, 'drop': 0.2892283374722836, 'ipm_weight': 0.14380643598376489}. Best is trial 7 with value: 0.8738210201263428.\n",
      "[I 2025-04-25 15:46:56,186] Trial 8 finished with value: 0.878088653087616 and parameters: {'lr': 0.00010255102275887229, 'wd': 1.5133300936168884e-06, 'bs': 32, 'epochs': 124, 'rep1': 151, 'rep2': 167, 'head': 145, 'drop': 0.3050923380768884, 'ipm_weight': 2.6838468931783472}. Best is trial 7 with value: 0.8738210201263428.\n",
      "[I 2025-04-25 15:46:58,534] Trial 9 finished with value: 0.859041690826416 and parameters: {'lr': 0.0012047901779406798, 'wd': 4.902776519599821e-07, 'bs': 64, 'epochs': 124, 'rep1': 108, 'rep2': 83, 'head': 157, 'drop': 0.22884606790572654, 'ipm_weight': 2.5578720628385563}. Best is trial 9 with value: 0.859041690826416.\n",
      "[I 2025-04-25 15:46:59,512] Trial 10 finished with value: 0.8527886867523193 and parameters: {'lr': 0.0007986122853070362, 'wd': 1.2004938272620526e-07, 'bs': 64, 'epochs': 50, 'rep1': 110, 'rep2': 103, 'head': 192, 'drop': 0.17721691418076108, 'ipm_weight': 0.12545441768176901}. Best is trial 10 with value: 0.8527886867523193.\n",
      "[I 2025-04-25 15:47:00,688] Trial 11 finished with value: 0.847707986831665 and parameters: {'lr': 0.0006099020223575464, 'wd': 1.16727688919058e-07, 'bs': 64, 'epochs': 60, 'rep1': 110, 'rep2': 99, 'head': 194, 'drop': 0.20236892866929374, 'ipm_weight': 0.06890310260397056}. Best is trial 11 with value: 0.847707986831665.\n",
      "[I 2025-04-25 15:47:01,686] Trial 12 finished with value: 0.8783641457557678 and parameters: {'lr': 0.0004285374671299027, 'wd': 1.4460756983156728e-07, 'bs': 64, 'epochs': 50, 'rep1': 137, 'rep2': 108, 'head': 190, 'drop': 0.17587365960228046, 'ipm_weight': 0.06949539235420774}. Best is trial 11 with value: 0.847707986831665.\n",
      "[I 2025-04-25 15:47:02,685] Trial 13 finished with value: 0.8614649176597595 and parameters: {'lr': 0.000492563484281732, 'wd': 6.418679271721203e-07, 'bs': 64, 'epochs': 50, 'rep1': 109, 'rep2': 99, 'head': 197, 'drop': 0.05176816428916142, 'ipm_weight': 0.04853539599616129}. Best is trial 11 with value: 0.847707986831665.\n",
      "[I 2025-04-25 15:47:04,816] Trial 14 finished with value: 0.8495019674301147 and parameters: {'lr': 0.0013623552419201133, 'wd': 1.004984447052268e-07, 'bs': 64, 'epochs': 95, 'rep1': 90, 'rep2': 198, 'head': 175, 'drop': 0.19182960487392278, 'ipm_weight': 0.17173704993533037}. Best is trial 11 with value: 0.847707986831665.\n",
      "[I 2025-04-25 15:47:06,738] Trial 15 finished with value: 0.864368736743927 and parameters: {'lr': 0.0026653795798126413, 'wd': 3.546344793711819e-07, 'bs': 64, 'epochs': 93, 'rep1': 91, 'rep2': 196, 'head': 171, 'drop': 0.19913643567710737, 'ipm_weight': 0.36916282789526184}. Best is trial 11 with value: 0.847707986831665.\n",
      "[I 2025-04-25 15:47:08,985] Trial 16 finished with value: 0.8515951037406921 and parameters: {'lr': 0.0001123900809378826, 'wd': 9.389271817210697e-07, 'bs': 64, 'epochs': 103, 'rep1': 135, 'rep2': 197, 'head': 171, 'drop': 0.0941897168706951, 'ipm_weight': 0.03397935038111903}. Best is trial 11 with value: 0.847707986831665.\n",
      "[I 2025-04-25 15:47:10,948] Trial 17 finished with value: 0.8697541952133179 and parameters: {'lr': 0.0002366210644470952, 'wd': 2.1341637072972374e-06, 'bs': 32, 'epochs': 65, 'rep1': 92, 'rep2': 85, 'head': 172, 'drop': 0.3621927859777314, 'ipm_weight': 0.18064834020146006}. Best is trial 11 with value: 0.847707986831665.\n",
      "[I 2025-04-25 15:47:13,067] Trial 18 finished with value: 0.8764870166778564 and parameters: {'lr': 0.0030114101507095954, 'wd': 2.7083005424135953e-07, 'bs': 64, 'epochs': 105, 'rep1': 153, 'rep2': 131, 'head': 153, 'drop': 0.00021483510647710147, 'ipm_weight': 0.583090686866899}. Best is trial 11 with value: 0.847707986831665.\n",
      "[I 2025-04-25 15:47:14,423] Trial 19 finished with value: 0.8789548873901367 and parameters: {'lr': 0.00022195029573157484, 'wd': 1.008107793758645e-07, 'bs': 64, 'epochs': 72, 'rep1': 91, 'rep2': 54, 'head': 180, 'drop': 0.14578378832966074, 'ipm_weight': 0.07773367879158873}. Best is trial 11 with value: 0.847707986831665.\n"
     ]
    },
    {
     "name": "stdout",
     "output_type": "stream",
     "text": [
      "Best params for cfrnet: {'lr': 0.0006099020223575464, 'wd': 1.16727688919058e-07, 'bs': 64, 'epochs': 60, 'rep1': 110, 'rep2': 99, 'head': 194, 'drop': 0.20236892866929374, 'ipm_weight': 0.06890310260397056}\n"
     ]
    },
    {
     "name": "stderr",
     "output_type": "stream",
     "text": [
      "[I 2025-04-25 15:47:16,077] A new study created in memory with name: cevae_tune\n",
      "INFO \t Training with 16 minibatches per epoch\n",
      "[I 2025-04-25 15:47:39,188] Trial 0 finished with value: 29.45609826660156 and parameters: {'lr': 0.0002639082205074504, 'wd': 6.045602062089521e-06, 'bs': 64, 'epochs': 166, 'latent_dim': 25, 'hidden_dim': 346, 'num_layers': 5, 'num_samples': 50}. Best is trial 0 with value: 29.45609826660156.\n",
      "INFO \t Training with 8 minibatches per epoch\n",
      "[I 2025-04-25 15:47:48,589] Trial 1 finished with value: 31.36802551269531 and parameters: {'lr': 0.0002043486743973756, 'wd': 1.628889992641773e-06, 'bs': 128, 'epochs': 179, 'latent_dim': 35, 'hidden_dim': 140, 'num_layers': 4, 'num_samples': 10}. Best is trial 0 with value: 29.45609826660156.\n",
      "INFO \t Training with 32 minibatches per epoch\n",
      "[I 2025-04-25 15:48:09,609] Trial 2 finished with value: 40.92278045654297 and parameters: {'lr': 0.0003217392807033218, 'wd': 6.245528483242217e-07, 'bs': 32, 'epochs': 82, 'latent_dim': 118, 'hidden_dim': 355, 'num_layers': 5, 'num_samples': 50}. Best is trial 0 with value: 29.45609826660156.\n",
      "INFO \t Training with 32 minibatches per epoch\n",
      "[I 2025-04-25 15:48:17,986] Trial 3 finished with value: 24.792102661132812 and parameters: {'lr': 0.008304709580359901, 'wd': 1.509125691828648e-07, 'bs': 32, 'epochs': 55, 'latent_dim': 29, 'hidden_dim': 305, 'num_layers': 3, 'num_samples': 50}. Best is trial 3 with value: 24.792102661132812.\n",
      "INFO \t Training with 32 minibatches per epoch\n",
      "[I 2025-04-25 15:48:32,468] Trial 4 finished with value: 46.33716198730469 and parameters: {'lr': 0.0005387523252673887, 'wd': 1.3735789871663913e-06, 'bs': 32, 'epochs': 70, 'latent_dim': 183, 'hidden_dim': 206, 'num_layers': 5, 'num_samples': 200}. Best is trial 3 with value: 24.792102661132812.\n",
      "INFO \t Training with 32 minibatches per epoch\n",
      "[I 2025-04-25 15:48:52,316] Trial 5 finished with value: 52.61319647216797 and parameters: {'lr': 0.006406960438969053, 'wd': 1.0271332451202088e-05, 'bs': 32, 'epochs': 154, 'latent_dim': 198, 'hidden_dim': 242, 'num_layers': 2, 'num_samples': 50}. Best is trial 3 with value: 24.792102661132812.\n",
      "INFO \t Training with 32 minibatches per epoch\n",
      "[I 2025-04-25 15:49:17,884] Trial 6 finished with value: 42.02355627441406 and parameters: {'lr': 0.004074174747627541, 'wd': 5.699782114578164e-05, 'bs': 32, 'epochs': 157, 'latent_dim': 150, 'hidden_dim': 263, 'num_layers': 3, 'num_samples': 100}. Best is trial 3 with value: 24.792102661132812.\n",
      "INFO \t Training with 16 minibatches per epoch\n",
      "[I 2025-04-25 15:49:30,361] Trial 7 finished with value: 43.010006713867185 and parameters: {'lr': 0.00030548210831581485, 'wd': 3.606492180463913e-05, 'bs': 64, 'epochs': 193, 'latent_dim': 99, 'hidden_dim': 110, 'num_layers': 2, 'num_samples': 200}. Best is trial 3 with value: 24.792102661132812.\n",
      "INFO \t Training with 16 minibatches per epoch\n",
      "[I 2025-04-25 15:49:48,096] Trial 8 finished with value: 41.6777958984375 and parameters: {'lr': 0.0007833707267667694, 'wd': 2.7007313980571694e-07, 'bs': 64, 'epochs': 114, 'latent_dim': 137, 'hidden_dim': 360, 'num_layers': 5, 'num_samples': 50}. Best is trial 3 with value: 24.792102661132812.\n",
      "INFO \t Training with 16 minibatches per epoch\n",
      "[I 2025-04-25 15:49:56,204] Trial 9 finished with value: 46.39946203613281 and parameters: {'lr': 0.00992278834213715, 'wd': 2.467120801331812e-06, 'bs': 64, 'epochs': 131, 'latent_dim': 103, 'hidden_dim': 83, 'num_layers': 2, 'num_samples': 50}. Best is trial 3 with value: 24.792102661132812.\n",
      "INFO \t Training with 8 minibatches per epoch\n",
      "[I 2025-04-25 15:49:58,899] Trial 10 finished with value: 34.65957684326172 and parameters: {'lr': 1.0922892332632313e-05, 'wd': 1.0002045778993833e-07, 'bs': 128, 'epochs': 50, 'latent_dim': 62, 'hidden_dim': 304, 'num_layers': 3, 'num_samples': 10}. Best is trial 3 with value: 24.792102661132812.\n",
      "INFO \t Training with 16 minibatches per epoch\n",
      "[I 2025-04-25 15:50:12,943] Trial 11 finished with value: 25.179449096679686 and parameters: {'lr': 3.112496696402909e-05, 'wd': 7.645043497754939e-06, 'bs': 64, 'epochs': 105, 'latent_dim': 12, 'hidden_dim': 389, 'num_layers': 4, 'num_samples': 50}. Best is trial 3 with value: 24.792102661132812.\n",
      "INFO \t Training with 16 minibatches per epoch\n",
      "[I 2025-04-25 15:50:26,219] Trial 12 finished with value: 27.097099060058593 and parameters: {'lr': 2.0239342458628323e-05, 'wd': 9.746244850913426e-06, 'bs': 64, 'epochs': 101, 'latent_dim': 10, 'hidden_dim': 397, 'num_layers': 4, 'num_samples': 100}. Best is trial 3 with value: 24.792102661132812.\n",
      "INFO \t Training with 32 minibatches per epoch\n",
      "[I 2025-04-25 15:50:34,957] Trial 13 finished with value: 37.920277587890624 and parameters: {'lr': 5.0298525647854046e-05, 'wd': 2.3134205265013424e-05, 'bs': 32, 'epochs': 52, 'latent_dim': 61, 'hidden_dim': 302, 'num_layers': 3, 'num_samples': 50}. Best is trial 3 with value: 24.792102661132812.\n",
      "INFO \t Training with 8 minibatches per epoch\n",
      "[I 2025-04-25 15:50:42,291] Trial 14 finished with value: 33.44909729003906 and parameters: {'lr': 0.0022128186061438487, 'wd': 1.0064299968222964e-07, 'bs': 128, 'epochs': 89, 'latent_dim': 61, 'hidden_dim': 399, 'num_layers': 4, 'num_samples': 50}. Best is trial 3 with value: 24.792102661132812.\n",
      "INFO \t Training with 16 minibatches per epoch\n",
      "[I 2025-04-25 15:50:52,842] Trial 15 finished with value: 32.284604125976564 and parameters: {'lr': 9.002298938977317e-05, 'wd': 5.885862381403987e-07, 'bs': 64, 'epochs': 130, 'latent_dim': 44, 'hidden_dim': 174, 'num_layers': 3, 'num_samples': 50}. Best is trial 3 with value: 24.792102661132812.\n",
      "INFO \t Training with 32 minibatches per epoch\n",
      "[I 2025-04-25 15:51:03,392] Trial 16 finished with value: 36.09564532470703 and parameters: {'lr': 0.0013612521404586242, 'wd': 8.564309747536894e-05, 'bs': 32, 'epochs': 73, 'latent_dim': 11, 'hidden_dim': 40, 'num_layers': 4, 'num_samples': 200}. Best is trial 3 with value: 24.792102661132812.\n",
      "INFO \t Training with 32 minibatches per epoch\n",
      "[I 2025-04-25 15:51:20,825] Trial 17 finished with value: 31.780671142578125 and parameters: {'lr': 6.317192270183014e-05, 'wd': 4.815099453177465e-06, 'bs': 32, 'epochs': 102, 'latent_dim': 79, 'hidden_dim': 304, 'num_layers': 3, 'num_samples': 10}. Best is trial 3 with value: 24.792102661132812.\n",
      "INFO \t Training with 16 minibatches per epoch\n",
      "[I 2025-04-25 15:51:27,909] Trial 18 finished with value: 33.610091552734374 and parameters: {'lr': 0.00012002132853043903, 'wd': 1.715685009174218e-05, 'bs': 64, 'epochs': 66, 'latent_dim': 41, 'hidden_dim': 257, 'num_layers': 4, 'num_samples': 100}. Best is trial 3 with value: 24.792102661132812.\n",
      "INFO \t Training with 8 minibatches per epoch\n",
      "[I 2025-04-25 15:51:36,198] Trial 19 finished with value: 36.75501995849609 and parameters: {'lr': 2.371754456429276e-05, 'wd': 2.743020111460272e-07, 'bs': 128, 'epochs': 139, 'latent_dim': 82, 'hidden_dim': 329, 'num_layers': 3, 'num_samples': 50}. Best is trial 3 with value: 24.792102661132812.\n",
      "INFO \t Training with 44 minibatches per epoch\n"
     ]
    },
    {
     "name": "stdout",
     "output_type": "stream",
     "text": [
      "Best params for cevae: {'lr': 0.008304709580359901, 'wd': 1.509125691828648e-07, 'bs': 32, 'epochs': 55, 'latent_dim': 29, 'hidden_dim': 305, 'num_layers': 3, 'num_samples': 50}\n"
     ]
    },
    {
     "name": "stderr",
     "output_type": "stream",
     "text": [
      "INFO \t Evaluating 1 minibatches\n",
      "[I 2025-04-25 15:51:48,347] A new study created in memory with name: dragonnet_tune\n",
      "[I 2025-04-25 15:51:51,877] Trial 0 finished with value: 0.36186882853507996 and parameters: {'lr': 0.0012610683025661483, 'wd': 2.263061315832907e-06, 'bs': 32, 'epochs': 123, 'shared_hidden': 102, 'outcome_hidden': 145}. Best is trial 0 with value: 0.36186882853507996.\n",
      "[I 2025-04-25 15:51:52,969] Trial 1 finished with value: 0.353995144367218 and parameters: {'lr': 0.0004125637260257516, 'wd': 6.10613905259771e-05, 'bs': 64, 'epochs': 73, 'shared_hidden': 82, 'outcome_hidden': 100}. Best is trial 1 with value: 0.353995144367218.\n",
      "[I 2025-04-25 15:51:55,497] Trial 2 finished with value: 0.32817187905311584 and parameters: {'lr': 5.351371963241258e-05, 'wd': 1.1795932279493071e-07, 'bs': 32, 'epochs': 84, 'shared_hidden': 126, 'outcome_hidden': 151}. Best is trial 2 with value: 0.32817187905311584.\n",
      "[I 2025-04-25 15:51:57,197] Trial 3 finished with value: 0.3540799617767334 and parameters: {'lr': 0.003979522247565694, 'wd': 8.375390227169762e-05, 'bs': 128, 'epochs': 154, 'shared_hidden': 156, 'outcome_hidden': 86}. Best is trial 2 with value: 0.32817187905311584.\n",
      "[I 2025-04-25 15:51:58,441] Trial 4 finished with value: 0.35143575072288513 and parameters: {'lr': 0.0010865881646254497, 'wd': 8.394854105240818e-07, 'bs': 128, 'epochs': 97, 'shared_hidden': 188, 'outcome_hidden': 144}. Best is trial 2 with value: 0.32817187905311584.\n",
      "[I 2025-04-25 15:52:01,432] Trial 5 finished with value: 0.36198461055755615 and parameters: {'lr': 5.59641060946566e-05, 'wd': 5.4760120617091555e-05, 'bs': 32, 'epochs': 100, 'shared_hidden': 101, 'outcome_hidden': 154}. Best is trial 2 with value: 0.32817187905311584.\n",
      "[I 2025-04-25 15:52:06,344] Trial 6 finished with value: 0.3549395501613617 and parameters: {'lr': 0.007189971861880358, 'wd': 3.374546240913004e-07, 'bs': 32, 'epochs': 143, 'shared_hidden': 196, 'outcome_hidden': 185}. Best is trial 2 with value: 0.32817187905311584.\n",
      "[I 2025-04-25 15:52:09,071] Trial 7 finished with value: 0.34773674607276917 and parameters: {'lr': 2.9622658747116672e-05, 'wd': 1.4087693214162887e-06, 'bs': 64, 'epochs': 165, 'shared_hidden': 127, 'outcome_hidden': 98}. Best is trial 2 with value: 0.32817187905311584.\n",
      "[I 2025-04-25 15:52:10,579] Trial 8 finished with value: 0.3511614203453064 and parameters: {'lr': 0.00013054337960061803, 'wd': 1.5718451932016087e-06, 'bs': 64, 'epochs': 70, 'shared_hidden': 198, 'outcome_hidden': 178}. Best is trial 2 with value: 0.32817187905311584.\n",
      "[I 2025-04-25 15:52:13,242] Trial 9 finished with value: 0.36118775606155396 and parameters: {'lr': 0.005392194163796419, 'wd': 1.7434945246334696e-06, 'bs': 64, 'epochs': 161, 'shared_hidden': 179, 'outcome_hidden': 57}. Best is trial 2 with value: 0.32817187905311584.\n",
      "[I 2025-04-25 15:52:18,254] Trial 10 finished with value: 0.3540664315223694 and parameters: {'lr': 1.7276534988072657e-05, 'wd': 1.2438319589638133e-07, 'bs': 32, 'epochs': 197, 'shared_hidden': 58, 'outcome_hidden': 127}. Best is trial 2 with value: 0.32817187905311584.\n",
      "[I 2025-04-25 15:52:21,504] Trial 11 finished with value: 0.34970980882644653 and parameters: {'lr': 2.171758618390797e-05, 'wd': 8.365986899364016e-06, 'bs': 64, 'epochs': 189, 'shared_hidden': 146, 'outcome_hidden': 102}. Best is trial 2 with value: 0.32817187905311584.\n",
      "[I 2025-04-25 15:52:22,821] Trial 12 finished with value: 0.35131362080574036 and parameters: {'lr': 6.210603357640363e-05, 'wd': 9.404243966568698e-06, 'bs': 32, 'epochs': 50, 'shared_hidden': 128, 'outcome_hidden': 67}. Best is trial 2 with value: 0.32817187905311584.\n",
      "[I 2025-04-25 15:52:24,838] Trial 13 finished with value: 0.3471825122833252 and parameters: {'lr': 5.136524295625109e-05, 'wd': 1.3169523788695425e-07, 'bs': 64, 'epochs': 119, 'shared_hidden': 123, 'outcome_hidden': 118}. Best is trial 2 with value: 0.32817187905311584.\n",
      "[I 2025-04-25 15:52:26,179] Trial 14 finished with value: 0.35116055607795715 and parameters: {'lr': 0.00015345727367066934, 'wd': 1.0879500557130588e-07, 'bs': 128, 'epochs': 112, 'shared_hidden': 155, 'outcome_hidden': 122}. Best is trial 2 with value: 0.32817187905311584.\n",
      "[I 2025-04-25 15:52:27,787] Trial 15 finished with value: 0.3409140706062317 and parameters: {'lr': 0.00025254640098669077, 'wd': 4.0795921894655437e-07, 'bs': 64, 'epochs': 86, 'shared_hidden': 108, 'outcome_hidden': 166}. Best is trial 2 with value: 0.32817187905311584.\n",
      "[I 2025-04-25 15:52:30,370] Trial 16 finished with value: 0.34246817231178284 and parameters: {'lr': 0.00031426278745777455, 'wd': 4.113754747324574e-07, 'bs': 32, 'epochs': 83, 'shared_hidden': 93, 'outcome_hidden': 171}. Best is trial 2 with value: 0.32817187905311584.\n",
      "[I 2025-04-25 15:52:31,367] Trial 17 finished with value: 0.9902365207672119 and parameters: {'lr': 1.0778946794438048e-05, 'wd': 3.3869277384461983e-07, 'bs': 64, 'epochs': 54, 'shared_hidden': 80, 'outcome_hidden': 199}. Best is trial 2 with value: 0.32817187905311584.\n",
      "[I 2025-04-25 15:52:33,928] Trial 18 finished with value: 0.3363768756389618 and parameters: {'lr': 0.00017535439370472555, 'wd': 6.500030474237692e-06, 'bs': 32, 'epochs': 90, 'shared_hidden': 56, 'outcome_hidden': 158}. Best is trial 2 with value: 0.32817187905311584.\n",
      "[I 2025-04-25 15:52:37,647] Trial 19 finished with value: 0.35297882556915283 and parameters: {'lr': 0.0007593395022883843, 'wd': 8.433029092670868e-06, 'bs': 32, 'epochs': 135, 'shared_hidden': 62, 'outcome_hidden': 154}. Best is trial 2 with value: 0.32817187905311584.\n"
     ]
    },
    {
     "name": "stdout",
     "output_type": "stream",
     "text": [
      "Best params for dragonnet: {'lr': 5.351371963241258e-05, 'wd': 1.1795932279493071e-07, 'bs': 32, 'epochs': 84, 'shared_hidden': 126, 'outcome_hidden': 151}\n"
     ]
    },
    {
     "name": "stderr",
     "output_type": "stream",
     "text": [
      "2025-04-25 15:52:44.743955: E tensorflow/core/framework/node_def_util.cc:676] NodeDef mentions attribute use_unbounded_threadpool which is not in the op definition: Op<name=MapDataset; signature=input_dataset:variant, other_arguments: -> handle:variant; attr=f:func; attr=Targuments:list(type),min=0; attr=output_types:list(type),min=1; attr=output_shapes:list(shape),min=1; attr=use_inter_op_parallelism:bool,default=true; attr=preserve_cardinality:bool,default=false; attr=force_synchronous:bool,default=false; attr=metadata:string,default=\"\"> This may be expected if your graph generating binary is newer  than this binary. Unknown attributes will be ignored. NodeDef: {{node ParallelMapDatasetV2/_14}}\n",
      "2025-04-25 15:52:44.744267: E tensorflow/core/framework/node_def_util.cc:676] NodeDef mentions attribute use_unbounded_threadpool which is not in the op definition: Op<name=MapDataset; signature=input_dataset:variant, other_arguments: -> handle:variant; attr=f:func; attr=Targuments:list(type),min=0; attr=output_types:list(type),min=1; attr=output_shapes:list(shape),min=1; attr=use_inter_op_parallelism:bool,default=true; attr=preserve_cardinality:bool,default=false; attr=force_synchronous:bool,default=false; attr=metadata:string,default=\"\"> This may be expected if your graph generating binary is newer  than this binary. Unknown attributes will be ignored. NodeDef: {{node ParallelMapDatasetV2/_14}}\n",
      "2025-04-25 15:52:51.795672: E tensorflow/core/framework/node_def_util.cc:676] NodeDef mentions attribute use_unbounded_threadpool which is not in the op definition: Op<name=MapDataset; signature=input_dataset:variant, other_arguments: -> handle:variant; attr=f:func; attr=Targuments:list(type),min=0; attr=output_types:list(type),min=1; attr=output_shapes:list(shape),min=1; attr=use_inter_op_parallelism:bool,default=true; attr=preserve_cardinality:bool,default=false; attr=force_synchronous:bool,default=false; attr=metadata:string,default=\"\"> This may be expected if your graph generating binary is newer  than this binary. Unknown attributes will be ignored. NodeDef: {{node ParallelMapDatasetV2/_14}}\n",
      "2025-04-25 15:52:51.795974: E tensorflow/core/framework/node_def_util.cc:676] NodeDef mentions attribute use_unbounded_threadpool which is not in the op definition: Op<name=MapDataset; signature=input_dataset:variant, other_arguments: -> handle:variant; attr=f:func; attr=Targuments:list(type),min=0; attr=output_types:list(type),min=1; attr=output_shapes:list(shape),min=1; attr=use_inter_op_parallelism:bool,default=true; attr=preserve_cardinality:bool,default=false; attr=force_synchronous:bool,default=false; attr=metadata:string,default=\"\"> This may be expected if your graph generating binary is newer  than this binary. Unknown attributes will be ignored. NodeDef: {{node ParallelMapDatasetV2/_14}}\n",
      " 10%|█         | 2/20 [13:26<2:01:46, 405.89s/it]"
     ]
    },
    {
     "name": "stdout",
     "output_type": "stream",
     "text": [
      "The average treatment effect (ATE) is 1.7610047\n",
      "Epoch 1: loss 2.3714,\tloss_y 1.5951, 1.6157, 0.0411,\tloss_eta 0.7763, 0.8161, 0.0797\n",
      "Epoch 1000: loss 0.8454,\tloss_y 0.2950, 0.5891, 0.5881,\tloss_eta 0.5504, 1.1012, 1.1016\n",
      "Warning: covariate dimension does not aligned with the specified input dimension; filling in the remaining dimension with noise.\n",
      "Warning: covariate dimension does not aligned with the specified input dimension; filling in the remaining dimension with noise.\n"
     ]
    },
    {
     "name": "stderr",
     "output_type": "stream",
     "text": [
      "[I 2025-04-25 15:52:56,354] A new study created in memory with name: tarnet_tune\n",
      "[I 2025-04-25 15:52:57,298] Trial 0 finished with value: 0.8502002954483032 and parameters: {'lr': 0.0009831360749341285, 'wd': 5.21762873403707e-05, 'bs': 64, 'epochs': 63, 'rep1': 82, 'rep2': 160, 'head': 144, 'drop': 0.201753890812094}. Best is trial 0 with value: 0.8502002954483032.\n",
      "[I 2025-04-25 15:53:01,708] Trial 1 finished with value: 0.8762162327766418 and parameters: {'lr': 1.544153275835311e-05, 'wd': 2.8388286178778144e-05, 'bs': 32, 'epochs': 192, 'rep1': 170, 'rep2': 168, 'head': 89, 'drop': 0.1422229080893178}. Best is trial 0 with value: 0.8502002954483032.\n",
      "[I 2025-04-25 15:53:03,380] Trial 2 finished with value: 0.8417409062385559 and parameters: {'lr': 0.00017769361710372837, 'wd': 8.617465954784649e-05, 'bs': 128, 'epochs': 164, 'rep1': 184, 'rep2': 101, 'head': 99, 'drop': 0.4286917829224643}. Best is trial 2 with value: 0.8417409062385559.\n",
      "[I 2025-04-25 15:53:04,772] Trial 3 finished with value: 0.8629292845726013 and parameters: {'lr': 0.003143374025219469, 'wd': 2.302235998930959e-06, 'bs': 128, 'epochs': 144, 'rep1': 102, 'rep2': 70, 'head': 100, 'drop': 0.3296693710736434}. Best is trial 2 with value: 0.8417409062385559.\n",
      "[I 2025-04-25 15:53:06,300] Trial 4 finished with value: 0.8649763464927673 and parameters: {'lr': 0.0003180526736213401, 'wd': 6.56873089586361e-05, 'bs': 128, 'epochs': 148, 'rep1': 107, 'rep2': 158, 'head': 98, 'drop': 0.385604343219495}. Best is trial 2 with value: 0.8417409062385559.\n",
      "[I 2025-04-25 15:53:08,011] Trial 5 finished with value: 0.8717109560966492 and parameters: {'lr': 3.129125667116531e-05, 'wd': 1.3791056539714463e-05, 'bs': 32, 'epochs': 78, 'rep1': 193, 'rep2': 115, 'head': 67, 'drop': 0.23666934612079316}. Best is trial 2 with value: 0.8417409062385559.\n",
      "[I 2025-04-25 15:53:10,118] Trial 6 finished with value: 0.8451683521270752 and parameters: {'lr': 7.557294209842457e-05, 'wd': 3.362838028436681e-07, 'bs': 64, 'epochs': 133, 'rep1': 166, 'rep2': 110, 'head': 185, 'drop': 0.48890554170345085}. Best is trial 2 with value: 0.8417409062385559.\n",
      "[I 2025-04-25 15:53:11,713] Trial 7 finished with value: 0.8658173680305481 and parameters: {'lr': 4.304656720865768e-05, 'wd': 4.855451410565425e-05, 'bs': 64, 'epochs': 117, 'rep1': 133, 'rep2': 64, 'head': 125, 'drop': 0.15679070126288946}. Best is trial 2 with value: 0.8417409062385559.\n",
      "[I 2025-04-25 15:53:13,170] Trial 8 finished with value: 0.8366754055023193 and parameters: {'lr': 0.005524126604498278, 'wd': 1.6101199891654377e-05, 'bs': 32, 'epochs': 67, 'rep1': 91, 'rep2': 79, 'head': 140, 'drop': 0.22325521827403222}. Best is trial 8 with value: 0.8366754055023193.\n",
      "[I 2025-04-25 15:53:15,764] Trial 9 finished with value: 0.8458647727966309 and parameters: {'lr': 0.0014901495919873542, 'wd': 1.237677373481476e-06, 'bs': 64, 'epochs': 167, 'rep1': 200, 'rep2': 88, 'head': 181, 'drop': 0.20044595577697732}. Best is trial 8 with value: 0.8366754055023193.\n",
      "[I 2025-04-25 15:53:17,806] Trial 10 finished with value: 0.8501010537147522 and parameters: {'lr': 0.006839382394123205, 'wd': 6.590142757733096e-06, 'bs': 32, 'epochs': 96, 'rep1': 57, 'rep2': 51, 'head': 147, 'drop': 0.013903950994447689}. Best is trial 8 with value: 0.8366754055023193.\n",
      "[I 2025-04-25 15:53:19,915] Trial 11 finished with value: 0.8235785961151123 and parameters: {'lr': 0.00019449058248995036, 'wd': 8.621707746631986e-06, 'bs': 128, 'epochs': 200, 'rep1': 149, 'rep2': 94, 'head': 130, 'drop': 0.3340095084884457}. Best is trial 11 with value: 0.8235785961151123.\n",
      "[I 2025-04-25 15:53:20,479] Trial 12 finished with value: 0.8586812615394592 and parameters: {'lr': 0.00033138590411537194, 'wd': 7.574944246643594e-06, 'bs': 128, 'epochs': 50, 'rep1': 142, 'rep2': 135, 'head': 150, 'drop': 0.3057965573105073}. Best is trial 11 with value: 0.8235785961151123.\n",
      "[I 2025-04-25 15:53:22,984] Trial 13 finished with value: 0.8272114992141724 and parameters: {'lr': 0.000949430692975053, 'wd': 7.411091856577792e-07, 'bs': 32, 'epochs': 99, 'rep1': 151, 'rep2': 199, 'head': 125, 'drop': 0.30146622737007794}. Best is trial 11 with value: 0.8235785961151123.\n",
      "[I 2025-04-25 15:53:24,170] Trial 14 finished with value: 0.8491765856742859 and parameters: {'lr': 0.0008266267384788713, 'wd': 1.0767571246020026e-07, 'bs': 128, 'epochs': 104, 'rep1': 146, 'rep2': 198, 'head': 121, 'drop': 0.32173300413745076}. Best is trial 11 with value: 0.8235785961151123.\n",
      "[I 2025-04-25 15:53:29,236] Trial 15 finished with value: 0.8577958941459656 and parameters: {'lr': 0.00010666696419163, 'wd': 7.150111972112698e-07, 'bs': 32, 'epochs': 195, 'rep1': 158, 'rep2': 196, 'head': 172, 'drop': 0.3935057021400932}. Best is trial 11 with value: 0.8235785961151123.\n",
      "[I 2025-04-25 15:53:30,287] Trial 16 finished with value: 0.8311840891838074 and parameters: {'lr': 0.0005173458136534313, 'wd': 2.6651970324519723e-06, 'bs': 128, 'epochs': 93, 'rep1': 115, 'rep2': 136, 'head': 165, 'drop': 0.2866969884707856}. Best is trial 11 with value: 0.8235785961151123.\n",
      "[I 2025-04-25 15:53:33,133] Trial 17 finished with value: 0.885134756565094 and parameters: {'lr': 0.0020807910713896986, 'wd': 3.8571179767388627e-07, 'bs': 32, 'epochs': 120, 'rep1': 127, 'rep2': 178, 'head': 116, 'drop': 0.08527548481788988}. Best is trial 11 with value: 0.8235785961151123.\n",
      "[I 2025-04-25 15:53:37,162] Trial 18 finished with value: 0.8506671786308289 and parameters: {'lr': 0.0001737565941280265, 'wd': 5.396813608316412e-06, 'bs': 32, 'epochs': 185, 'rep1': 153, 'rep2': 134, 'head': 58, 'drop': 0.3677193221682003}. Best is trial 11 with value: 0.8235785961151123.\n",
      "[I 2025-04-25 15:53:38,917] Trial 19 finished with value: 0.8561278581619263 and parameters: {'lr': 0.0005052457556253422, 'wd': 1.019869390084837e-07, 'bs': 128, 'epochs': 173, 'rep1': 175, 'rep2': 96, 'head': 81, 'drop': 0.4613193281171576}. Best is trial 11 with value: 0.8235785961151123.\n"
     ]
    },
    {
     "name": "stdout",
     "output_type": "stream",
     "text": [
      "Best params for tarnet: {'lr': 0.00019449058248995036, 'wd': 8.621707746631986e-06, 'bs': 128, 'epochs': 200, 'rep1': 149, 'rep2': 94, 'head': 130, 'drop': 0.3340095084884457}\n"
     ]
    },
    {
     "name": "stderr",
     "output_type": "stream",
     "text": [
      "[I 2025-04-25 15:53:41,927] A new study created in memory with name: cfrnet_tune\n",
      "[I 2025-04-25 15:53:46,348] Trial 0 finished with value: 0.9031940698623657 and parameters: {'lr': 4.475931223128637e-05, 'wd': 9.432427942831164e-06, 'bs': 32, 'epochs': 159, 'rep1': 83, 'rep2': 79, 'head': 58, 'drop': 0.4428619144952051, 'ipm_weight': 2.178950583745412}. Best is trial 0 with value: 0.9031940698623657.\n",
      "[I 2025-04-25 15:53:48,084] Trial 1 finished with value: 0.8688586950302124 and parameters: {'lr': 0.00017693417167362224, 'wd': 6.80251843731894e-07, 'bs': 128, 'epochs': 112, 'rep1': 146, 'rep2': 131, 'head': 156, 'drop': 0.3992919271136308, 'ipm_weight': 3.891217179253346}. Best is trial 1 with value: 0.8688586950302124.\n",
      "[I 2025-04-25 15:53:50,720] Trial 2 finished with value: 1.0370972156524658 and parameters: {'lr': 1.114545235335128e-05, 'wd': 8.87271584138204e-06, 'bs': 64, 'epochs': 127, 'rep1': 147, 'rep2': 126, 'head': 139, 'drop': 0.286108105655537, 'ipm_weight': 0.3752291824530238}. Best is trial 1 with value: 0.8688586950302124.\n",
      "[I 2025-04-25 15:53:54,245] Trial 3 finished with value: 0.8772933483123779 and parameters: {'lr': 0.009049156666196614, 'wd': 4.388476136456547e-05, 'bs': 64, 'epochs': 169, 'rep1': 168, 'rep2': 62, 'head': 113, 'drop': 0.4599843564674372, 'ipm_weight': 0.14415255533287194}. Best is trial 1 with value: 0.8688586950302124.\n",
      "[I 2025-04-25 15:53:57,114] Trial 4 finished with value: 0.8270153403282166 and parameters: {'lr': 0.0002450822585928257, 'wd': 2.2644391653635547e-05, 'bs': 64, 'epochs': 152, 'rep1': 81, 'rep2': 57, 'head': 185, 'drop': 0.30022841373911935, 'ipm_weight': 0.1049637843915381}. Best is trial 4 with value: 0.8270153403282166.\n",
      "[I 2025-04-25 15:54:00,056] Trial 5 finished with value: 0.8598848581314087 and parameters: {'lr': 0.0022893928187416026, 'wd': 7.658762981237436e-05, 'bs': 32, 'epochs': 96, 'rep1': 117, 'rep2': 69, 'head': 79, 'drop': 0.05788103840489944, 'ipm_weight': 0.026272065561075735}. Best is trial 4 with value: 0.8270153403282166.\n",
      "[I 2025-04-25 15:54:00,961] Trial 6 finished with value: 3.686962842941284 and parameters: {'lr': 1.1032978946446068e-05, 'wd': 7.336944483853681e-05, 'bs': 128, 'epochs': 65, 'rep1': 144, 'rep2': 61, 'head': 149, 'drop': 0.4137280872600534, 'ipm_weight': 9.655516193046394}. Best is trial 4 with value: 0.8270153403282166.\n",
      "[I 2025-04-25 15:54:03,580] Trial 7 finished with value: 0.8998652100563049 and parameters: {'lr': 0.0007900116374861228, 'wd': 9.924441880669384e-06, 'bs': 128, 'epochs': 172, 'rep1': 68, 'rep2': 163, 'head': 139, 'drop': 0.4872901231919722, 'ipm_weight': 0.02188108042580018}. Best is trial 4 with value: 0.8270153403282166.\n",
      "[I 2025-04-25 15:54:09,102] Trial 8 finished with value: 0.8503973484039307 and parameters: {'lr': 0.003150159816089105, 'wd': 1.302705207355519e-06, 'bs': 32, 'epochs': 186, 'rep1': 76, 'rep2': 135, 'head': 84, 'drop': 0.13434364182728886, 'ipm_weight': 3.5033101926642196}. Best is trial 4 with value: 0.8270153403282166.\n",
      "[I 2025-04-25 15:54:11,772] Trial 9 finished with value: 0.8550771474838257 and parameters: {'lr': 0.0003124502537460462, 'wd': 2.3120820647295982e-07, 'bs': 128, 'epochs': 173, 'rep1': 187, 'rep2': 145, 'head': 91, 'drop': 0.4829327717532772, 'ipm_weight': 0.0655973328214012}. Best is trial 4 with value: 0.8270153403282166.\n",
      "[I 2025-04-25 15:54:14,752] Trial 10 finished with value: 0.8570096492767334 and parameters: {'lr': 8.78461847836966e-05, 'wd': 3.0340233349661455e-06, 'bs': 64, 'epochs': 141, 'rep1': 50, 'rep2': 200, 'head': 199, 'drop': 0.2734642277567495, 'ipm_weight': 0.6512543159387888}. Best is trial 4 with value: 0.8270153403282166.\n",
      "[I 2025-04-25 15:54:20,971] Trial 11 finished with value: 0.8741415143013 and parameters: {'lr': 0.0016687607432488186, 'wd': 1.3808599145690647e-06, 'bs': 32, 'epochs': 196, 'rep1': 98, 'rep2': 99, 'head': 189, 'drop': 0.10313390130328515, 'ipm_weight': 1.1323284754554208}. Best is trial 4 with value: 0.8270153403282166.\n",
      "[I 2025-04-25 15:54:24,726] Trial 12 finished with value: 0.8496320247650146 and parameters: {'lr': 0.008114399079660849, 'wd': 2.3412424016958763e-07, 'bs': 64, 'epochs': 199, 'rep1': 98, 'rep2': 102, 'head': 108, 'drop': 0.17685138053182153, 'ipm_weight': 0.12877212976819}. Best is trial 4 with value: 0.8270153403282166.\n",
      "[I 2025-04-25 15:54:28,699] Trial 13 finished with value: 0.8419064283370972 and parameters: {'lr': 0.0006564201611953832, 'wd': 1.2212274011035124e-07, 'bs': 64, 'epochs': 200, 'rep1': 109, 'rep2': 97, 'head': 174, 'drop': 0.20812720180858518, 'ipm_weight': 0.12829884420040177}. Best is trial 4 with value: 0.8270153403282166.\n",
      "[I 2025-04-25 15:54:31,597] Trial 14 finished with value: 0.8165127635002136 and parameters: {'lr': 0.0007457723138779115, 'wd': 2.6429961080776236e-05, 'bs': 64, 'epochs': 145, 'rep1': 116, 'rep2': 96, 'head': 173, 'drop': 0.3318234750742346, 'ipm_weight': 0.06338027890251936}. Best is trial 14 with value: 0.8165127635002136.\n",
      "[I 2025-04-25 15:54:34,546] Trial 15 finished with value: 0.840173065662384 and parameters: {'lr': 0.00011496875972213813, 'wd': 2.128965537252598e-05, 'bs': 64, 'epochs': 148, 'rep1': 129, 'rep2': 86, 'head': 172, 'drop': 0.3432759631172686, 'ipm_weight': 0.041939781871585896}. Best is trial 14 with value: 0.8165127635002136.\n",
      "[I 2025-04-25 15:54:36,569] Trial 16 finished with value: 0.841120719909668 and parameters: {'lr': 0.0006302351515868394, 'wd': 2.54048688310711e-05, 'bs': 64, 'epochs': 100, 'rep1': 50, 'rep2': 50, 'head': 171, 'drop': 0.332870361075597, 'ipm_weight': 0.01597685784354572}. Best is trial 14 with value: 0.8165127635002136.\n",
      "[I 2025-04-25 15:54:39,243] Trial 17 finished with value: 0.8591901659965515 and parameters: {'lr': 4.2703703486782656e-05, 'wd': 4.4985457693389924e-06, 'bs': 64, 'epochs': 134, 'rep1': 92, 'rep2': 111, 'head': 184, 'drop': 0.3494432719093133, 'ipm_weight': 0.3028238698846373}. Best is trial 14 with value: 0.8165127635002136.\n",
      "[I 2025-04-25 15:54:40,637] Trial 18 finished with value: 0.8594574928283691 and parameters: {'lr': 0.00030975558765881564, 'wd': 2.712818009266057e-05, 'bs': 64, 'epochs': 70, 'rep1': 128, 'rep2': 84, 'head': 159, 'drop': 0.21935071382593294, 'ipm_weight': 0.05293340833339724}. Best is trial 14 with value: 0.8165127635002136.\n",
      "[I 2025-04-25 15:54:42,801] Trial 19 finished with value: 0.8596353530883789 and parameters: {'lr': 0.0011631606378311693, 'wd': 1.5984125843877804e-05, 'bs': 64, 'epochs': 115, 'rep1': 66, 'rep2': 50, 'head': 199, 'drop': 0.27062462934906106, 'ipm_weight': 0.2895069063456707}. Best is trial 14 with value: 0.8165127635002136.\n"
     ]
    },
    {
     "name": "stdout",
     "output_type": "stream",
     "text": [
      "Best params for cfrnet: {'lr': 0.0007457723138779115, 'wd': 2.6429961080776236e-05, 'bs': 64, 'epochs': 145, 'rep1': 116, 'rep2': 96, 'head': 173, 'drop': 0.3318234750742346, 'ipm_weight': 0.06338027890251936}\n"
     ]
    },
    {
     "name": "stderr",
     "output_type": "stream",
     "text": [
      "[I 2025-04-25 15:54:46,800] A new study created in memory with name: cevae_tune\n",
      "INFO \t Training with 32 minibatches per epoch\n",
      "[I 2025-04-25 15:55:00,399] Trial 0 finished with value: 64.39608233642578 and parameters: {'lr': 1.749694944361307e-05, 'wd': 2.2303404748625503e-06, 'bs': 32, 'epochs': 119, 'latent_dim': 140, 'hidden_dim': 83, 'num_layers': 2, 'num_samples': 10}. Best is trial 0 with value: 64.39608233642578.\n",
      "INFO \t Training with 8 minibatches per epoch\n",
      "[I 2025-04-25 15:55:05,676] Trial 1 finished with value: 30.66804718017578 and parameters: {'lr': 5.8551629371751224e-05, 'wd': 4.101245223122545e-05, 'bs': 128, 'epochs': 78, 'latent_dim': 43, 'hidden_dim': 169, 'num_layers': 5, 'num_samples': 200}. Best is trial 1 with value: 30.66804718017578.\n",
      "INFO \t Training with 8 minibatches per epoch\n",
      "[I 2025-04-25 15:55:17,390] Trial 2 finished with value: 45.843443359375 and parameters: {'lr': 0.0025259236472502658, 'wd': 8.68753413894207e-05, 'bs': 128, 'epochs': 181, 'latent_dim': 154, 'hidden_dim': 365, 'num_layers': 3, 'num_samples': 10}. Best is trial 1 with value: 30.66804718017578.\n",
      "INFO \t Training with 32 minibatches per epoch\n",
      "[I 2025-04-25 15:55:30,686] Trial 3 finished with value: 59.88037512207031 and parameters: {'lr': 1.8354376228955024e-05, 'wd': 5.116046655166988e-07, 'bs': 32, 'epochs': 106, 'latent_dim': 179, 'hidden_dim': 177, 'num_layers': 2, 'num_samples': 200}. Best is trial 1 with value: 30.66804718017578.\n",
      "INFO \t Training with 32 minibatches per epoch\n",
      "[I 2025-04-25 15:55:47,957] Trial 4 finished with value: 37.26839538574219 and parameters: {'lr': 0.00022111399098460172, 'wd': 1.4485905734466265e-06, 'bs': 32, 'epochs': 74, 'latent_dim': 119, 'hidden_dim': 357, 'num_layers': 4, 'num_samples': 100}. Best is trial 1 with value: 30.66804718017578.\n",
      "INFO \t Training with 32 minibatches per epoch\n",
      "[I 2025-04-25 15:56:03,910] Trial 5 finished with value: 34.49943896484375 and parameters: {'lr': 0.0004544695371167165, 'wd': 1.5527547838854314e-05, 'bs': 32, 'epochs': 127, 'latent_dim': 119, 'hidden_dim': 33, 'num_layers': 3, 'num_samples': 10}. Best is trial 1 with value: 30.66804718017578.\n",
      "INFO \t Training with 8 minibatches per epoch\n",
      "[I 2025-04-25 15:56:11,473] Trial 6 finished with value: 55.4407744140625 and parameters: {'lr': 3.660712439546693e-05, 'wd': 9.703808888471224e-06, 'bs': 128, 'epochs': 179, 'latent_dim': 159, 'hidden_dim': 99, 'num_layers': 2, 'num_samples': 10}. Best is trial 1 with value: 30.66804718017578.\n",
      "INFO \t Training with 32 minibatches per epoch\n",
      "[I 2025-04-25 15:56:29,548] Trial 7 finished with value: 39.096086669921874 and parameters: {'lr': 1.999807214902647e-05, 'wd': 5.807450273612956e-05, 'bs': 32, 'epochs': 146, 'latent_dim': 57, 'hidden_dim': 35, 'num_layers': 3, 'num_samples': 10}. Best is trial 1 with value: 30.66804718017578.\n",
      "INFO \t Training with 8 minibatches per epoch\n",
      "[I 2025-04-25 15:56:37,574] Trial 8 finished with value: 35.40022235107422 and parameters: {'lr': 0.0004055092744275748, 'wd': 6.566084287092277e-06, 'bs': 128, 'epochs': 178, 'latent_dim': 85, 'hidden_dim': 128, 'num_layers': 3, 'num_samples': 100}. Best is trial 1 with value: 30.66804718017578.\n",
      "INFO \t Training with 8 minibatches per epoch\n",
      "[I 2025-04-25 15:56:55,159] Trial 9 finished with value: 45.71325811767578 and parameters: {'lr': 0.0001755256999969072, 'wd': 2.7822124128038684e-05, 'bs': 128, 'epochs': 191, 'latent_dim': 181, 'hidden_dim': 310, 'num_layers': 5, 'num_samples': 100}. Best is trial 1 with value: 30.66804718017578.\n",
      "INFO \t Training with 16 minibatches per epoch\n",
      "[I 2025-04-25 15:57:03,083] Trial 10 finished with value: 31.237713806152342 and parameters: {'lr': 0.009659648755871306, 'wd': 1.0477410284271225e-07, 'bs': 64, 'epochs': 64, 'latent_dim': 17, 'hidden_dim': 255, 'num_layers': 5, 'num_samples': 200}. Best is trial 1 with value: 30.66804718017578.\n",
      "INFO \t Training with 16 minibatches per epoch\n",
      "[I 2025-04-25 15:57:10,937] Trial 11 finished with value: 31.659044067382812 and parameters: {'lr': 0.007234718135814373, 'wd': 1.3912850431752785e-07, 'bs': 64, 'epochs': 64, 'latent_dim': 13, 'hidden_dim': 255, 'num_layers': 5, 'num_samples': 200}. Best is trial 1 with value: 30.66804718017578.\n",
      "INFO \t Training with 16 minibatches per epoch\n",
      "[I 2025-04-25 15:57:16,979] Trial 12 finished with value: 29.422822998046875 and parameters: {'lr': 0.0016539576028916454, 'wd': 1.0491626078223495e-07, 'bs': 64, 'epochs': 50, 'latent_dim': 17, 'hidden_dim': 229, 'num_layers': 5, 'num_samples': 200}. Best is trial 12 with value: 29.422822998046875.\n",
      "INFO \t Training with 16 minibatches per epoch\n",
      "[I 2025-04-25 15:57:26,026] Trial 13 finished with value: 32.25361566162109 and parameters: {'lr': 0.0013402974391252505, 'wd': 5.871634554251617e-07, 'bs': 64, 'epochs': 89, 'latent_dim': 48, 'hidden_dim': 193, 'num_layers': 4, 'num_samples': 50}. Best is trial 12 with value: 29.422822998046875.\n",
      "INFO \t Training with 16 minibatches per epoch\n",
      "[I 2025-04-25 15:57:31,635] Trial 14 finished with value: 28.860891662597655 and parameters: {'lr': 7.731769857802021e-05, 'wd': 4.4319912192371726e-07, 'bs': 64, 'epochs': 52, 'latent_dim': 42, 'hidden_dim': 251, 'num_layers': 4, 'num_samples': 200}. Best is trial 14 with value: 28.860891662597655.\n",
      "INFO \t Training with 16 minibatches per epoch\n",
      "[I 2025-04-25 15:57:37,148] Trial 15 finished with value: 32.63062780761719 and parameters: {'lr': 7.732176001339461e-05, 'wd': 2.769438466362496e-07, 'bs': 64, 'epochs': 52, 'latent_dim': 80, 'hidden_dim': 240, 'num_layers': 4, 'num_samples': 200}. Best is trial 14 with value: 28.860891662597655.\n",
      "INFO \t Training with 16 minibatches per epoch\n",
      "[I 2025-04-25 15:57:48,093] Trial 16 finished with value: 26.021667236328124 and parameters: {'lr': 0.0013055825206698608, 'wd': 8.636704493571629e-07, 'bs': 64, 'epochs': 95, 'latent_dim': 30, 'hidden_dim': 291, 'num_layers': 4, 'num_samples': 50}. Best is trial 16 with value: 26.021667236328124.\n",
      "INFO \t Training with 16 minibatches per epoch\n",
      "[I 2025-04-25 15:57:59,443] Trial 17 finished with value: 35.60300671386719 and parameters: {'lr': 0.0008179906085236012, 'wd': 1.0665406757606018e-06, 'bs': 64, 'epochs': 96, 'latent_dim': 71, 'hidden_dim': 306, 'num_layers': 4, 'num_samples': 50}. Best is trial 16 with value: 26.021667236328124.\n",
      "INFO \t Training with 16 minibatches per epoch\n",
      "[I 2025-04-25 15:58:18,139] Trial 18 finished with value: 30.277506958007812 and parameters: {'lr': 0.004486095282087241, 'wd': 3.2807898643110556e-06, 'bs': 64, 'epochs': 144, 'latent_dim': 37, 'hidden_dim': 400, 'num_layers': 4, 'num_samples': 50}. Best is trial 16 with value: 26.021667236328124.\n",
      "INFO \t Training with 16 minibatches per epoch\n",
      "[I 2025-04-25 15:58:30,189] Trial 19 finished with value: 37.26330224609375 and parameters: {'lr': 0.00010712367699924107, 'wd': 4.790584458582352e-07, 'bs': 64, 'epochs': 99, 'latent_dim': 98, 'hidden_dim': 298, 'num_layers': 4, 'num_samples': 50}. Best is trial 16 with value: 26.021667236328124.\n",
      "INFO \t Training with 22 minibatches per epoch\n"
     ]
    },
    {
     "name": "stdout",
     "output_type": "stream",
     "text": [
      "Best params for cevae: {'lr': 0.0013055825206698608, 'wd': 8.636704493571629e-07, 'bs': 64, 'epochs': 95, 'latent_dim': 30, 'hidden_dim': 291, 'num_layers': 4, 'num_samples': 50}\n"
     ]
    },
    {
     "name": "stderr",
     "output_type": "stream",
     "text": [
      "INFO \t Evaluating 1 minibatches\n",
      "[I 2025-04-25 15:58:45,551] A new study created in memory with name: dragonnet_tune\n",
      "[I 2025-04-25 15:58:49,551] Trial 0 finished with value: 0.3485267162322998 and parameters: {'lr': 0.004399181638973463, 'wd': 4.777410245784753e-06, 'bs': 32, 'epochs': 165, 'shared_hidden': 66, 'outcome_hidden': 87}. Best is trial 0 with value: 0.3485267162322998.\n",
      "[I 2025-04-25 15:58:50,313] Trial 1 finished with value: 0.364289790391922 and parameters: {'lr': 0.00011320269130723873, 'wd': 2.4294088105350457e-06, 'bs': 64, 'epochs': 52, 'shared_hidden': 95, 'outcome_hidden': 81}. Best is trial 0 with value: 0.3485267162322998.\n",
      "[I 2025-04-25 15:58:52,098] Trial 2 finished with value: 0.34915077686309814 and parameters: {'lr': 0.004416639334869468, 'wd': 5.830324692671705e-07, 'bs': 128, 'epochs': 132, 'shared_hidden': 110, 'outcome_hidden': 194}. Best is trial 0 with value: 0.3485267162322998.\n",
      "[I 2025-04-25 15:58:56,057] Trial 3 finished with value: 0.3535483479499817 and parameters: {'lr': 1.6274483466602673e-05, 'wd': 1.0519707180275556e-07, 'bs': 32, 'epochs': 140, 'shared_hidden': 78, 'outcome_hidden': 167}. Best is trial 0 with value: 0.3485267162322998.\n",
      "[I 2025-04-25 15:59:00,715] Trial 4 finished with value: 0.3665921688079834 and parameters: {'lr': 1.360930750872855e-05, 'wd': 1.642173303878679e-07, 'bs': 32, 'epochs': 185, 'shared_hidden': 106, 'outcome_hidden': 89}. Best is trial 0 with value: 0.3485267162322998.\n",
      "[I 2025-04-25 15:59:03,162] Trial 5 finished with value: 0.3581509292125702 and parameters: {'lr': 8.812997091454743e-05, 'wd': 3.007857682940119e-05, 'bs': 64, 'epochs': 152, 'shared_hidden': 106, 'outcome_hidden': 110}. Best is trial 0 with value: 0.3485267162322998.\n",
      "[I 2025-04-25 15:59:04,816] Trial 6 finished with value: 0.33971744775772095 and parameters: {'lr': 7.733539749361545e-05, 'wd': 2.850323321948567e-07, 'bs': 64, 'epochs': 83, 'shared_hidden': 145, 'outcome_hidden': 192}. Best is trial 6 with value: 0.33971744775772095.\n",
      "[I 2025-04-25 15:59:07,878] Trial 7 finished with value: 0.3578948974609375 and parameters: {'lr': 0.00014487524822360021, 'wd': 3.989256686952066e-06, 'bs': 32, 'epochs': 102, 'shared_hidden': 182, 'outcome_hidden': 96}. Best is trial 6 with value: 0.33971744775772095.\n",
      "[I 2025-04-25 15:59:09,900] Trial 8 finished with value: 0.35108786821365356 and parameters: {'lr': 0.001136046767442738, 'wd': 2.6278991754839048e-06, 'bs': 64, 'epochs': 116, 'shared_hidden': 164, 'outcome_hidden': 92}. Best is trial 6 with value: 0.33971744775772095.\n",
      "[I 2025-04-25 15:59:11,447] Trial 9 finished with value: 0.3658313751220703 and parameters: {'lr': 0.007487517943953103, 'wd': 1.4945810828178815e-05, 'bs': 32, 'epochs': 54, 'shared_hidden': 72, 'outcome_hidden': 195}. Best is trial 6 with value: 0.33971744775772095.\n",
      "[I 2025-04-25 15:59:12,543] Trial 10 finished with value: 0.35639774799346924 and parameters: {'lr': 0.0006128861474422746, 'wd': 4.418729798898423e-07, 'bs': 128, 'epochs': 87, 'shared_hidden': 141, 'outcome_hidden': 144}. Best is trial 6 with value: 0.33971744775772095.\n",
      "[I 2025-04-25 15:59:15,368] Trial 11 finished with value: 0.34962308406829834 and parameters: {'lr': 0.0023152710236618696, 'wd': 1.06113674368485e-05, 'bs': 64, 'epochs': 178, 'shared_hidden': 147, 'outcome_hidden': 57}. Best is trial 6 with value: 0.33971744775772095.\n",
      "[I 2025-04-25 15:59:19,572] Trial 12 finished with value: 0.33882784843444824 and parameters: {'lr': 3.363738909540613e-05, 'wd': 7.439988342293869e-05, 'bs': 32, 'epochs': 164, 'shared_hidden': 53, 'outcome_hidden': 134}. Best is trial 12 with value: 0.33882784843444824.\n",
      "[I 2025-04-25 15:59:20,839] Trial 13 finished with value: 0.375609427690506 and parameters: {'lr': 4.897208269074626e-05, 'wd': 8.601043018809467e-05, 'bs': 64, 'epochs': 80, 'shared_hidden': 51, 'outcome_hidden': 142}. Best is trial 12 with value: 0.33882784843444824.\n",
      "[I 2025-04-25 15:59:22,206] Trial 14 finished with value: 0.3612554669380188 and parameters: {'lr': 3.635832444212043e-05, 'wd': 9.052833782608476e-07, 'bs': 128, 'epochs': 113, 'shared_hidden': 132, 'outcome_hidden': 144}. Best is trial 12 with value: 0.33882784843444824.\n",
      "[I 2025-04-25 15:59:27,360] Trial 15 finished with value: 0.3456957936286926 and parameters: {'lr': 0.0002722034661229301, 'wd': 7.186282653407417e-05, 'bs': 32, 'epochs': 158, 'shared_hidden': 165, 'outcome_hidden': 171}. Best is trial 12 with value: 0.33882784843444824.\n",
      "[I 2025-04-25 15:59:29,071] Trial 16 finished with value: 0.348092257976532 and parameters: {'lr': 4.716392389604604e-05, 'wd': 3.712629344543832e-07, 'bs': 64, 'epochs': 79, 'shared_hidden': 199, 'outcome_hidden': 171}. Best is trial 12 with value: 0.33882784843444824.\n",
      "[I 2025-04-25 15:59:32,591] Trial 17 finished with value: 0.34684112668037415 and parameters: {'lr': 0.0002886687982709119, 'wd': 1.296446797248782e-06, 'bs': 64, 'epochs': 192, 'shared_hidden': 153, 'outcome_hidden': 124}. Best is trial 12 with value: 0.33882784843444824.\n",
      "[I 2025-04-25 15:59:35,314] Trial 18 finished with value: 0.3421236276626587 and parameters: {'lr': 2.132690090928704e-05, 'wd': 3.7369314831409357e-05, 'bs': 32, 'epochs': 93, 'shared_hidden': 120, 'outcome_hidden': 160}. Best is trial 12 with value: 0.33882784843444824.\n",
      "[I 2025-04-25 15:59:36,065] Trial 19 finished with value: 0.5466959476470947 and parameters: {'lr': 2.8072947395004805e-05, 'wd': 8.967581002508849e-06, 'bs': 128, 'epochs': 69, 'shared_hidden': 88, 'outcome_hidden': 122}. Best is trial 12 with value: 0.33882784843444824.\n"
     ]
    },
    {
     "name": "stdout",
     "output_type": "stream",
     "text": [
      "Best params for dragonnet: {'lr': 3.363738909540613e-05, 'wd': 7.439988342293869e-05, 'bs': 32, 'epochs': 164, 'shared_hidden': 53, 'outcome_hidden': 134}\n"
     ]
    },
    {
     "name": "stderr",
     "output_type": "stream",
     "text": [
      "2025-04-25 15:59:45.744175: E tensorflow/core/framework/node_def_util.cc:676] NodeDef mentions attribute use_unbounded_threadpool which is not in the op definition: Op<name=MapDataset; signature=input_dataset:variant, other_arguments: -> handle:variant; attr=f:func; attr=Targuments:list(type),min=0; attr=output_types:list(type),min=1; attr=output_shapes:list(shape),min=1; attr=use_inter_op_parallelism:bool,default=true; attr=preserve_cardinality:bool,default=false; attr=force_synchronous:bool,default=false; attr=metadata:string,default=\"\"> This may be expected if your graph generating binary is newer  than this binary. Unknown attributes will be ignored. NodeDef: {{node ParallelMapDatasetV2/_14}}\n",
      "2025-04-25 15:59:45.744529: E tensorflow/core/framework/node_def_util.cc:676] NodeDef mentions attribute use_unbounded_threadpool which is not in the op definition: Op<name=MapDataset; signature=input_dataset:variant, other_arguments: -> handle:variant; attr=f:func; attr=Targuments:list(type),min=0; attr=output_types:list(type),min=1; attr=output_shapes:list(shape),min=1; attr=use_inter_op_parallelism:bool,default=true; attr=preserve_cardinality:bool,default=false; attr=force_synchronous:bool,default=false; attr=metadata:string,default=\"\"> This may be expected if your graph generating binary is newer  than this binary. Unknown attributes will be ignored. NodeDef: {{node ParallelMapDatasetV2/_14}}\n",
      "2025-04-25 15:59:52.556891: E tensorflow/core/framework/node_def_util.cc:676] NodeDef mentions attribute use_unbounded_threadpool which is not in the op definition: Op<name=MapDataset; signature=input_dataset:variant, other_arguments: -> handle:variant; attr=f:func; attr=Targuments:list(type),min=0; attr=output_types:list(type),min=1; attr=output_shapes:list(shape),min=1; attr=use_inter_op_parallelism:bool,default=true; attr=preserve_cardinality:bool,default=false; attr=force_synchronous:bool,default=false; attr=metadata:string,default=\"\"> This may be expected if your graph generating binary is newer  than this binary. Unknown attributes will be ignored. NodeDef: {{node ParallelMapDatasetV2/_14}}\n",
      "2025-04-25 15:59:52.557188: E tensorflow/core/framework/node_def_util.cc:676] NodeDef mentions attribute use_unbounded_threadpool which is not in the op definition: Op<name=MapDataset; signature=input_dataset:variant, other_arguments: -> handle:variant; attr=f:func; attr=Targuments:list(type),min=0; attr=output_types:list(type),min=1; attr=output_shapes:list(shape),min=1; attr=use_inter_op_parallelism:bool,default=true; attr=preserve_cardinality:bool,default=false; attr=force_synchronous:bool,default=false; attr=metadata:string,default=\"\"> This may be expected if your graph generating binary is newer  than this binary. Unknown attributes will be ignored. NodeDef: {{node ParallelMapDatasetV2/_14}}\n",
      " 15%|█▌        | 3/20 [20:27<1:56:55, 412.67s/it]"
     ]
    },
    {
     "name": "stdout",
     "output_type": "stream",
     "text": [
      "The average treatment effect (ATE) is 1.8434236\n",
      "Epoch 1: loss 2.3431,\tloss_y 1.5696, 1.5829, 0.0266,\tloss_eta 0.7736, 0.8072, 0.0672\n",
      "Epoch 1000: loss 0.8727,\tloss_y 0.3035, 0.5892, 0.5714,\tloss_eta 0.5691, 1.1061, 1.0738\n",
      "Warning: covariate dimension does not aligned with the specified input dimension; filling in the remaining dimension with noise.\n",
      "Warning: covariate dimension does not aligned with the specified input dimension; filling in the remaining dimension with noise.\n"
     ]
    },
    {
     "name": "stderr",
     "output_type": "stream",
     "text": [
      "[I 2025-04-25 15:59:57,066] A new study created in memory with name: tarnet_tune\n",
      "[I 2025-04-25 15:59:59,814] Trial 0 finished with value: 0.9500741362571716 and parameters: {'lr': 5.203853479563375e-05, 'wd': 8.230270687972817e-06, 'bs': 32, 'epochs': 106, 'rep1': 124, 'rep2': 146, 'head': 196, 'drop': 0.028762194421722453}. Best is trial 0 with value: 0.9500741362571716.\n",
      "[I 2025-04-25 16:00:03,807] Trial 1 finished with value: 0.9431406259536743 and parameters: {'lr': 0.0009569694294489858, 'wd': 5.9037091197070746e-05, 'bs': 32, 'epochs': 159, 'rep1': 176, 'rep2': 134, 'head': 168, 'drop': 0.026865113416113418}. Best is trial 1 with value: 0.9431406259536743.\n",
      "[I 2025-04-25 16:00:06,038] Trial 2 finished with value: 0.9368518590927124 and parameters: {'lr': 0.00014085176944521498, 'wd': 5.7480037098763343e-05, 'bs': 64, 'epochs': 130, 'rep1': 191, 'rep2': 199, 'head': 102, 'drop': 0.46751868146874653}. Best is trial 2 with value: 0.9368518590927124.\n",
      "[I 2025-04-25 16:00:08,557] Trial 3 finished with value: 0.9361196160316467 and parameters: {'lr': 5.740540919482304e-05, 'wd': 1.1020125497142441e-06, 'bs': 64, 'epochs': 173, 'rep1': 58, 'rep2': 195, 'head': 51, 'drop': 0.3108870143572054}. Best is trial 3 with value: 0.9361196160316467.\n",
      "[I 2025-04-25 16:00:09,303] Trial 4 finished with value: 0.9403477311134338 and parameters: {'lr': 0.0005236421953169668, 'wd': 2.6080686395865555e-05, 'bs': 128, 'epochs': 67, 'rep1': 200, 'rep2': 129, 'head': 103, 'drop': 0.0570189699560355}. Best is trial 3 with value: 0.9361196160316467.\n",
      "[I 2025-04-25 16:00:11,026] Trial 5 finished with value: 0.9235414862632751 and parameters: {'lr': 0.00010906984018511211, 'wd': 2.229182201242635e-07, 'bs': 64, 'epochs': 104, 'rep1': 153, 'rep2': 170, 'head': 142, 'drop': 0.41292142984391744}. Best is trial 5 with value: 0.9235414862632751.\n",
      "[I 2025-04-25 16:00:13,424] Trial 6 finished with value: 0.9297055602073669 and parameters: {'lr': 0.00022057040611673628, 'wd': 2.3209095507937013e-05, 'bs': 32, 'epochs': 116, 'rep1': 55, 'rep2': 74, 'head': 114, 'drop': 0.4056483717745932}. Best is trial 5 with value: 0.9235414862632751.\n",
      "[I 2025-04-25 16:00:14,328] Trial 7 finished with value: 0.9481806755065918 and parameters: {'lr': 0.0038617603438747573, 'wd': 2.1457448643143248e-06, 'bs': 64, 'epochs': 61, 'rep1': 101, 'rep2': 73, 'head': 200, 'drop': 0.008192563602868796}. Best is trial 5 with value: 0.9235414862632751.\n",
      "[I 2025-04-25 16:00:15,749] Trial 8 finished with value: 0.9136526584625244 and parameters: {'lr': 0.002373697867914279, 'wd': 2.2956075227805206e-06, 'bs': 128, 'epochs': 151, 'rep1': 193, 'rep2': 64, 'head': 59, 'drop': 0.31839163243155755}. Best is trial 8 with value: 0.9136526584625244.\n",
      "[I 2025-04-25 16:00:18,461] Trial 9 finished with value: 0.9314945340156555 and parameters: {'lr': 0.00012519981378236153, 'wd': 1.4231668282479983e-05, 'bs': 64, 'epochs': 185, 'rep1': 146, 'rep2': 53, 'head': 117, 'drop': 0.31147986333335664}. Best is trial 8 with value: 0.9136526584625244.\n",
      "[I 2025-04-25 16:00:19,867] Trial 10 finished with value: 2.018826961517334 and parameters: {'lr': 1.2775152992065626e-05, 'wd': 4.7129538558083096e-07, 'bs': 128, 'epochs': 152, 'rep1': 94, 'rep2': 100, 'head': 52, 'drop': 0.1796335525452652}. Best is trial 8 with value: 0.9136526584625244.\n",
      "[I 2025-04-25 16:00:20,967] Trial 11 finished with value: 0.9347554445266724 and parameters: {'lr': 0.006596563583181335, 'wd': 1.0374561160726365e-07, 'bs': 128, 'epochs': 92, 'rep1': 161, 'rep2': 168, 'head': 148, 'drop': 0.38169811081776905}. Best is trial 8 with value: 0.9136526584625244.\n",
      "[I 2025-04-25 16:00:22,396] Trial 12 finished with value: 0.9280710220336914 and parameters: {'lr': 0.0016319458511453333, 'wd': 1.4363125015061729e-07, 'bs': 128, 'epochs': 137, 'rep1': 144, 'rep2': 154, 'head': 83, 'drop': 0.20993181486890314}. Best is trial 8 with value: 0.9136526584625244.\n",
      "[I 2025-04-25 16:00:23,850] Trial 13 finished with value: 0.9149855375289917 and parameters: {'lr': 0.0023553118801019324, 'wd': 4.152301187245015e-07, 'bs': 64, 'epochs': 91, 'rep1': 173, 'rep2': 106, 'head': 146, 'drop': 0.49426252261755926}. Best is trial 8 with value: 0.9136526584625244.\n",
      "[I 2025-04-25 16:00:24,732] Trial 14 finished with value: 0.9190505146980286 and parameters: {'lr': 0.0027324241619901984, 'wd': 9.846588101200802e-07, 'bs': 128, 'epochs': 81, 'rep1': 176, 'rep2': 103, 'head': 77, 'drop': 0.49806533304490014}. Best is trial 8 with value: 0.9136526584625244.\n",
      "[I 2025-04-25 16:00:27,860] Trial 15 finished with value: 0.9572314620018005 and parameters: {'lr': 0.007698518430926127, 'wd': 3.6851919179338548e-06, 'bs': 64, 'epochs': 198, 'rep1': 179, 'rep2': 106, 'head': 145, 'drop': 0.11757411156026931}. Best is trial 8 with value: 0.9136526584625244.\n",
      "[I 2025-04-25 16:00:29,390] Trial 16 finished with value: 0.9196885824203491 and parameters: {'lr': 0.0006591944684589973, 'wd': 4.465864507640894e-07, 'bs': 128, 'epochs': 134, 'rep1': 125, 'rep2': 80, 'head': 163, 'drop': 0.30271997983923343}. Best is trial 8 with value: 0.9136526584625244.\n",
      "[I 2025-04-25 16:00:32,014] Trial 17 finished with value: 0.919904887676239 and parameters: {'lr': 0.001996111828550433, 'wd': 3.5443441012536215e-06, 'bs': 64, 'epochs': 151, 'rep1': 166, 'rep2': 89, 'head': 75, 'drop': 0.2572965800071419}. Best is trial 8 with value: 0.9136526584625244.\n",
      "[I 2025-04-25 16:00:32,925] Trial 18 finished with value: 0.9239637851715088 and parameters: {'lr': 0.0011712202213823575, 'wd': 1.3586338846409675e-06, 'bs': 128, 'epochs': 77, 'rep1': 196, 'rep2': 50, 'head': 177, 'drop': 0.37189648992665847}. Best is trial 8 with value: 0.9136526584625244.\n",
      "[I 2025-04-25 16:00:34,268] Trial 19 finished with value: 0.9328066110610962 and parameters: {'lr': 0.004283447764703851, 'wd': 4.911372077346643e-07, 'bs': 32, 'epochs': 53, 'rep1': 135, 'rep2': 121, 'head': 129, 'drop': 0.44903727529880433}. Best is trial 8 with value: 0.9136526584625244.\n"
     ]
    },
    {
     "name": "stdout",
     "output_type": "stream",
     "text": [
      "Best params for tarnet: {'lr': 0.002373697867914279, 'wd': 2.2956075227805206e-06, 'bs': 128, 'epochs': 151, 'rep1': 193, 'rep2': 64, 'head': 59, 'drop': 0.31839163243155755}\n"
     ]
    },
    {
     "name": "stderr",
     "output_type": "stream",
     "text": [
      "[I 2025-04-25 16:00:36,442] A new study created in memory with name: cfrnet_tune\n",
      "[I 2025-04-25 16:00:41,179] Trial 0 finished with value: 0.921522855758667 and parameters: {'lr': 0.0009769797473612597, 'wd': 1.0222766701300997e-07, 'bs': 32, 'epochs': 144, 'rep1': 71, 'rep2': 196, 'head': 125, 'drop': 0.17224713123877194, 'ipm_weight': 0.037607316471850796}. Best is trial 0 with value: 0.921522855758667.\n",
      "[I 2025-04-25 16:00:44,123] Trial 1 finished with value: 1.4338473081588745 and parameters: {'lr': 1.546988360787689e-05, 'wd': 1.586398683909336e-07, 'bs': 128, 'epochs': 193, 'rep1': 115, 'rep2': 115, 'head': 115, 'drop': 0.43434267444779495, 'ipm_weight': 0.18773832539344895}. Best is trial 0 with value: 0.921522855758667.\n",
      "[I 2025-04-25 16:00:46,016] Trial 2 finished with value: 0.9319232702255249 and parameters: {'lr': 0.006011548246335953, 'wd': 5.381319764919936e-07, 'bs': 128, 'epochs': 129, 'rep1': 72, 'rep2': 150, 'head': 119, 'drop': 0.10817209806550176, 'ipm_weight': 0.045379597509916686}. Best is trial 0 with value: 0.921522855758667.\n",
      "[I 2025-04-25 16:00:48,274] Trial 3 finished with value: 0.9133664965629578 and parameters: {'lr': 0.004373966526424086, 'wd': 5.2641147597340904e-05, 'bs': 32, 'epochs': 73, 'rep1': 70, 'rep2': 198, 'head': 84, 'drop': 0.4802518404948946, 'ipm_weight': 0.45605537458415973}. Best is trial 3 with value: 0.9133664965629578.\n",
      "[I 2025-04-25 16:00:50,943] Trial 4 finished with value: 1.112503170967102 and parameters: {'lr': 1.530579317795603e-05, 'wd': 3.493988004067422e-05, 'bs': 64, 'epochs': 134, 'rep1': 65, 'rep2': 95, 'head': 136, 'drop': 0.30802003736232353, 'ipm_weight': 0.20418335320928124}. Best is trial 3 with value: 0.9133664965629578.\n",
      "[I 2025-04-25 16:00:53,743] Trial 5 finished with value: 0.9263193607330322 and parameters: {'lr': 4.870647970006788e-05, 'wd': 2.1700046325203683e-07, 'bs': 64, 'epochs': 153, 'rep1': 65, 'rep2': 115, 'head': 89, 'drop': 0.2577077155938178, 'ipm_weight': 0.7395140401671552}. Best is trial 3 with value: 0.9133664965629578.\n",
      "[I 2025-04-25 16:00:57,254] Trial 6 finished with value: 0.927455484867096 and parameters: {'lr': 0.003959084695525527, 'wd': 3.4358004964408467e-06, 'bs': 32, 'epochs': 120, 'rep1': 169, 'rep2': 92, 'head': 63, 'drop': 0.4536065115725404, 'ipm_weight': 0.013664791660535289}. Best is trial 3 with value: 0.9133664965629578.\n",
      "[I 2025-04-25 16:00:58,426] Trial 7 finished with value: 0.9584589600563049 and parameters: {'lr': 9.742494363926682e-05, 'wd': 2.9012984734788442e-05, 'bs': 64, 'epochs': 53, 'rep1': 192, 'rep2': 164, 'head': 143, 'drop': 0.349221459422572, 'ipm_weight': 0.025361937299494184}. Best is trial 3 with value: 0.9133664965629578.\n",
      "[I 2025-04-25 16:00:59,675] Trial 8 finished with value: 0.9382622241973877 and parameters: {'lr': 0.0003443984567361285, 'wd': 3.3652641400367233e-06, 'bs': 128, 'epochs': 82, 'rep1': 161, 'rep2': 84, 'head': 183, 'drop': 0.48325523712449986, 'ipm_weight': 0.8639472394607356}. Best is trial 3 with value: 0.9133664965629578.\n",
      "[I 2025-04-25 16:01:03,018] Trial 9 finished with value: 0.9270822405815125 and parameters: {'lr': 0.0002146036243132554, 'wd': 3.982484295034141e-05, 'bs': 32, 'epochs': 114, 'rep1': 185, 'rep2': 58, 'head': 107, 'drop': 0.46682630247138535, 'ipm_weight': 0.7138043958945343}. Best is trial 3 with value: 0.9133664965629578.\n",
      "[I 2025-04-25 16:01:04,654] Trial 10 finished with value: 1.002371072769165 and parameters: {'lr': 0.0018579285625316768, 'wd': 9.767565561799546e-05, 'bs': 32, 'epochs': 52, 'rep1': 113, 'rep2': 194, 'head': 59, 'drop': 0.02554793691774232, 'ipm_weight': 9.007770534711183}. Best is trial 3 with value: 0.9133664965629578.\n",
      "[I 2025-04-25 16:01:10,463] Trial 11 finished with value: 0.9275050759315491 and parameters: {'lr': 0.0009858611252775249, 'wd': 8.92373066484605e-07, 'bs': 32, 'epochs': 171, 'rep1': 93, 'rep2': 199, 'head': 154, 'drop': 0.17339093058996424, 'ipm_weight': 0.08921125456898589}. Best is trial 3 with value: 0.9133664965629578.\n",
      "[I 2025-04-25 16:01:13,384] Trial 12 finished with value: 0.9459031224250793 and parameters: {'lr': 0.009761441383535626, 'wd': 9.25591248614024e-06, 'bs': 32, 'epochs': 94, 'rep1': 51, 'rep2': 170, 'head': 85, 'drop': 0.16614019217172507, 'ipm_weight': 2.5719232633657105}. Best is trial 3 with value: 0.9133664965629578.\n",
      "[I 2025-04-25 16:01:16,208] Trial 13 finished with value: 0.9149563312530518 and parameters: {'lr': 0.0009487009462068736, 'wd': 9.391584327676983e-07, 'bs': 32, 'epochs': 83, 'rep1': 92, 'rep2': 182, 'head': 167, 'drop': 0.19467878030565744, 'ipm_weight': 0.08160151929334186}. Best is trial 3 with value: 0.9133664965629578.\n",
      "[I 2025-04-25 16:01:18,905] Trial 14 finished with value: 0.9115871787071228 and parameters: {'lr': 0.002225749531014475, 'wd': 1.1797868625726513e-06, 'bs': 32, 'epochs': 80, 'rep1': 95, 'rep2': 146, 'head': 200, 'drop': 0.3680948376214035, 'ipm_weight': 0.09007741184939813}. Best is trial 14 with value: 0.9115871787071228.\n",
      "[I 2025-04-25 16:01:21,285] Trial 15 finished with value: 0.9227060675621033 and parameters: {'lr': 0.0027724713364300846, 'wd': 9.112234123553162e-06, 'bs': 32, 'epochs': 70, 'rep1': 140, 'rep2': 148, 'head': 193, 'drop': 0.38086369497951295, 'ipm_weight': 0.33965498873080474}. Best is trial 14 with value: 0.9115871787071228.\n",
      "[I 2025-04-25 16:01:24,427] Trial 16 finished with value: 0.9187606573104858 and parameters: {'lr': 0.00035142777158297294, 'wd': 8.987560583596147e-06, 'bs': 32, 'epochs': 105, 'rep1': 96, 'rep2': 132, 'head': 87, 'drop': 0.3769395458755324, 'ipm_weight': 0.3339506716608711}. Best is trial 14 with value: 0.9115871787071228.\n",
      "[I 2025-04-25 16:01:26,729] Trial 17 finished with value: 0.9413461089134216 and parameters: {'lr': 0.0019555282030424503, 'wd': 1.347589855413676e-06, 'bs': 32, 'epochs': 70, 'rep1': 86, 'rep2': 140, 'head': 200, 'drop': 0.40545417088728114, 'ipm_weight': 2.3714704370005255}. Best is trial 14 with value: 0.9115871787071228.\n",
      "[I 2025-04-25 16:01:28,069] Trial 18 finished with value: 0.9386865496635437 and parameters: {'lr': 0.009362223643066686, 'wd': 1.7138014934227478e-06, 'bs': 64, 'epochs': 69, 'rep1': 134, 'rep2': 169, 'head': 50, 'drop': 0.3110643402554371, 'ipm_weight': 0.08236495245287684}. Best is trial 14 with value: 0.9115871787071228.\n",
      "[I 2025-04-25 16:01:29,562] Trial 19 finished with value: 0.9862160086631775 and parameters: {'lr': 0.0006421619339784165, 'wd': 3.4285250325774954e-07, 'bs': 128, 'epochs': 98, 'rep1': 51, 'rep2': 158, 'head': 167, 'drop': 0.4921138494857833, 'ipm_weight': 1.7118410792432508}. Best is trial 14 with value: 0.9115871787071228.\n"
     ]
    },
    {
     "name": "stdout",
     "output_type": "stream",
     "text": [
      "Best params for cfrnet: {'lr': 0.002225749531014475, 'wd': 1.1797868625726513e-06, 'bs': 32, 'epochs': 80, 'rep1': 95, 'rep2': 146, 'head': 200, 'drop': 0.3680948376214035, 'ipm_weight': 0.09007741184939813}\n"
     ]
    },
    {
     "name": "stderr",
     "output_type": "stream",
     "text": [
      "[I 2025-04-25 16:01:33,249] A new study created in memory with name: cevae_tune\n",
      "INFO \t Training with 32 minibatches per epoch\n",
      "[I 2025-04-25 16:02:05,733] Trial 0 finished with value: 39.52501739501953 and parameters: {'lr': 0.0005559132606271767, 'wd': 3.110655013038155e-05, 'bs': 32, 'epochs': 114, 'latent_dim': 180, 'hidden_dim': 355, 'num_layers': 5, 'num_samples': 50}. Best is trial 0 with value: 39.52501739501953.\n",
      "INFO \t Training with 16 minibatches per epoch\n",
      "[I 2025-04-25 16:02:27,097] Trial 1 finished with value: 41.43621502685547 and parameters: {'lr': 0.006946183080334673, 'wd': 9.579860140206298e-07, 'bs': 64, 'epochs': 181, 'latent_dim': 157, 'hidden_dim': 268, 'num_layers': 4, 'num_samples': 10}. Best is trial 0 with value: 39.52501739501953.\n",
      "INFO \t Training with 32 minibatches per epoch\n",
      "[I 2025-04-25 16:02:58,754] Trial 2 finished with value: 33.11051055908203 and parameters: {'lr': 0.0002687612833182666, 'wd': 1.1296337979662671e-07, 'bs': 32, 'epochs': 160, 'latent_dim': 121, 'hidden_dim': 166, 'num_layers': 5, 'num_samples': 10}. Best is trial 2 with value: 33.11051055908203.\n",
      "INFO \t Training with 32 minibatches per epoch\n",
      "[I 2025-04-25 16:03:13,453] Trial 3 finished with value: 45.278023010253904 and parameters: {'lr': 2.1298666175744436e-05, 'wd': 4.825921252961045e-07, 'bs': 32, 'epochs': 82, 'latent_dim': 137, 'hidden_dim': 51, 'num_layers': 5, 'num_samples': 10}. Best is trial 2 with value: 33.11051055908203.\n",
      "INFO \t Training with 16 minibatches per epoch\n",
      "[I 2025-04-25 16:03:20,385] Trial 4 finished with value: 28.61232794189453 and parameters: {'lr': 3.945887583086432e-05, 'wd': 5.735115833610366e-06, 'bs': 64, 'epochs': 97, 'latent_dim': 13, 'hidden_dim': 282, 'num_layers': 2, 'num_samples': 100}. Best is trial 4 with value: 28.61232794189453.\n",
      "INFO \t Training with 16 minibatches per epoch\n",
      "[I 2025-04-25 16:03:46,734] Trial 5 finished with value: 36.45376477050781 and parameters: {'lr': 0.0002953305682242531, 'wd': 1.2350503379871352e-05, 'bs': 64, 'epochs': 187, 'latent_dim': 76, 'hidden_dim': 311, 'num_layers': 5, 'num_samples': 200}. Best is trial 4 with value: 28.61232794189453.\n",
      "INFO \t Training with 8 minibatches per epoch\n",
      "[I 2025-04-25 16:03:52,050] Trial 6 finished with value: 30.229153747558595 and parameters: {'lr': 0.00043711679391217925, 'wd': 2.1867996363140125e-07, 'bs': 128, 'epochs': 132, 'latent_dim': 17, 'hidden_dim': 321, 'num_layers': 2, 'num_samples': 200}. Best is trial 4 with value: 28.61232794189453.\n",
      "INFO \t Training with 8 minibatches per epoch\n",
      "[I 2025-04-25 16:03:58,627] Trial 7 finished with value: 40.711609741210935 and parameters: {'lr': 0.001303384917191605, 'wd': 1.410437743185552e-07, 'bs': 128, 'epochs': 158, 'latent_dim': 54, 'hidden_dim': 254, 'num_layers': 2, 'num_samples': 100}. Best is trial 4 with value: 28.61232794189453.\n",
      "INFO \t Training with 32 minibatches per epoch\n",
      "[I 2025-04-25 16:04:14,375] Trial 8 finished with value: 46.02274786376953 and parameters: {'lr': 0.0002819280678107155, 'wd': 6.549713063990414e-07, 'bs': 32, 'epochs': 92, 'latent_dim': 154, 'hidden_dim': 41, 'num_layers': 5, 'num_samples': 100}. Best is trial 4 with value: 28.61232794189453.\n",
      "INFO \t Training with 8 minibatches per epoch\n",
      "[I 2025-04-25 16:04:20,528] Trial 9 finished with value: 36.383803161621096 and parameters: {'lr': 0.0008833437593684497, 'wd': 1.8212695934401274e-06, 'bs': 128, 'epochs': 189, 'latent_dim': 28, 'hidden_dim': 66, 'num_layers': 2, 'num_samples': 200}. Best is trial 4 with value: 28.61232794189453.\n",
      "INFO \t Training with 16 minibatches per epoch\n",
      "[I 2025-04-25 16:04:25,300] Trial 10 finished with value: 40.6522412109375 and parameters: {'lr': 1.1970740382242264e-05, 'wd': 7.714247079447496e-06, 'bs': 64, 'epochs': 57, 'latent_dim': 87, 'hidden_dim': 161, 'num_layers': 3, 'num_samples': 100}. Best is trial 4 with value: 28.61232794189453.\n",
      "INFO \t Training with 8 minibatches per epoch\n",
      "[I 2025-04-25 16:04:32,616] Trial 11 finished with value: 29.183258483886718 and parameters: {'lr': 5.347755452895756e-05, 'wd': 4.321699017621295e-06, 'bs': 128, 'epochs': 125, 'latent_dim': 17, 'hidden_dim': 390, 'num_layers': 3, 'num_samples': 200}. Best is trial 4 with value: 28.61232794189453.\n",
      "INFO \t Training with 8 minibatches per epoch\n",
      "[I 2025-04-25 16:04:39,684] Trial 12 finished with value: 30.92613739013672 and parameters: {'lr': 5.515412738709947e-05, 'wd': 4.806496721141605e-06, 'bs': 128, 'epochs': 120, 'latent_dim': 46, 'hidden_dim': 380, 'num_layers': 3, 'num_samples': 50}. Best is trial 4 with value: 28.61232794189453.\n",
      "INFO \t Training with 16 minibatches per epoch\n",
      "[I 2025-04-25 16:04:48,617] Trial 13 finished with value: 30.150155700683595 and parameters: {'lr': 7.309488479538866e-05, 'wd': 5.8641482295397985e-05, 'bs': 64, 'epochs': 86, 'latent_dim': 14, 'hidden_dim': 395, 'num_layers': 3, 'num_samples': 200}. Best is trial 4 with value: 28.61232794189453.\n",
      "INFO \t Training with 8 minibatches per epoch\n",
      "[I 2025-04-25 16:04:57,566] Trial 14 finished with value: 32.818348876953124 and parameters: {'lr': 6.928732045334377e-05, 'wd': 1.578265376683001e-05, 'bs': 128, 'epochs': 140, 'latent_dim': 52, 'hidden_dim': 218, 'num_layers': 4, 'num_samples': 100}. Best is trial 4 with value: 28.61232794189453.\n",
      "INFO \t Training with 16 minibatches per epoch\n",
      "[I 2025-04-25 16:05:05,187] Trial 15 finished with value: 46.5022490234375 and parameters: {'lr': 2.3840226595464084e-05, 'wd': 2.158774863501714e-06, 'bs': 64, 'epochs': 104, 'latent_dim': 79, 'hidden_dim': 298, 'num_layers': 2, 'num_samples': 200}. Best is trial 4 with value: 28.61232794189453.\n",
      "INFO \t Training with 16 minibatches per epoch\n",
      "[I 2025-04-25 16:05:11,293] Trial 16 finished with value: 29.33243817138672 and parameters: {'lr': 0.0001321682306840475, 'wd': 4.084618512013634e-06, 'bs': 64, 'epochs': 62, 'latent_dim': 37, 'hidden_dim': 350, 'num_layers': 3, 'num_samples': 100}. Best is trial 4 with value: 28.61232794189453.\n",
      "INFO \t Training with 8 minibatches per epoch\n",
      "[I 2025-04-25 16:05:19,624] Trial 17 finished with value: 39.444582885742186 and parameters: {'lr': 3.421744282299129e-05, 'wd': 8.49799426423387e-05, 'bs': 128, 'epochs': 151, 'latent_dim': 102, 'hidden_dim': 119, 'num_layers': 4, 'num_samples': 50}. Best is trial 4 with value: 28.61232794189453.\n",
      "INFO \t Training with 16 minibatches per epoch\n",
      "[I 2025-04-25 16:05:26,525] Trial 18 finished with value: 32.65392370605469 and parameters: {'lr': 0.00013683452431275265, 'wd': 2.5786980692413006e-05, 'bs': 64, 'epochs': 103, 'latent_dim': 11, 'hidden_dim': 235, 'num_layers': 2, 'num_samples': 200}. Best is trial 4 with value: 28.61232794189453.\n",
      "INFO \t Training with 8 minibatches per epoch\n",
      "[I 2025-04-25 16:05:30,910] Trial 19 finished with value: 51.40268756103516 and parameters: {'lr': 1.3681386783247191e-05, 'wd': 1.4332241194281834e-06, 'bs': 128, 'epochs': 70, 'latent_dim': 200, 'hidden_dim': 281, 'num_layers': 3, 'num_samples': 100}. Best is trial 4 with value: 28.61232794189453.\n",
      "INFO \t Training with 22 minibatches per epoch\n"
     ]
    },
    {
     "name": "stdout",
     "output_type": "stream",
     "text": [
      "Best params for cevae: {'lr': 3.945887583086432e-05, 'wd': 5.735115833610366e-06, 'bs': 64, 'epochs': 97, 'latent_dim': 13, 'hidden_dim': 282, 'num_layers': 2, 'num_samples': 100}\n"
     ]
    },
    {
     "name": "stderr",
     "output_type": "stream",
     "text": [
      "INFO \t Evaluating 1 minibatches\n",
      "[I 2025-04-25 16:05:40,525] A new study created in memory with name: dragonnet_tune\n",
      "[I 2025-04-25 16:05:42,321] Trial 0 finished with value: 0.36498215794563293 and parameters: {'lr': 0.0003340683767993298, 'wd': 1.384023900722463e-05, 'bs': 128, 'epochs': 175, 'shared_hidden': 120, 'outcome_hidden': 98}. Best is trial 0 with value: 0.36498215794563293.\n",
      "[I 2025-04-25 16:05:42,953] Trial 1 finished with value: 0.38329821825027466 and parameters: {'lr': 6.684382959610204e-05, 'wd': 5.804547140769154e-07, 'bs': 128, 'epochs': 54, 'shared_hidden': 72, 'outcome_hidden': 195}. Best is trial 0 with value: 0.36498215794563293.\n",
      "[I 2025-04-25 16:05:45,732] Trial 2 finished with value: 0.3500559628009796 and parameters: {'lr': 2.805046179863353e-05, 'wd': 1.192375271944742e-07, 'bs': 64, 'epochs': 170, 'shared_hidden': 51, 'outcome_hidden': 196}. Best is trial 2 with value: 0.3500559628009796.\n",
      "[I 2025-04-25 16:05:48,761] Trial 3 finished with value: 0.3511577546596527 and parameters: {'lr': 0.0002777038587011583, 'wd': 4.4651471081170096e-07, 'bs': 32, 'epochs': 98, 'shared_hidden': 134, 'outcome_hidden': 181}. Best is trial 2 with value: 0.3500559628009796.\n",
      "[I 2025-04-25 16:05:49,631] Trial 4 finished with value: 0.3582766056060791 and parameters: {'lr': 0.0002498815844712493, 'wd': 4.859532734735526e-07, 'bs': 128, 'epochs': 90, 'shared_hidden': 119, 'outcome_hidden': 58}. Best is trial 2 with value: 0.3500559628009796.\n",
      "[I 2025-04-25 16:05:51,294] Trial 5 finished with value: 0.35374781489372253 and parameters: {'lr': 0.004009874963054532, 'wd': 8.992776271152274e-07, 'bs': 128, 'epochs': 131, 'shared_hidden': 132, 'outcome_hidden': 175}. Best is trial 2 with value: 0.3500559628009796.\n",
      "[I 2025-04-25 16:05:54,111] Trial 6 finished with value: 0.33947354555130005 and parameters: {'lr': 0.0029328058444409865, 'wd': 8.411644613094593e-07, 'bs': 32, 'epochs': 88, 'shared_hidden': 146, 'outcome_hidden': 187}. Best is trial 6 with value: 0.33947354555130005.\n",
      "[I 2025-04-25 16:05:56,844] Trial 7 finished with value: 0.3325381875038147 and parameters: {'lr': 0.002144123039910124, 'wd': 4.561187367627535e-05, 'bs': 32, 'epochs': 96, 'shared_hidden': 74, 'outcome_hidden': 183}. Best is trial 7 with value: 0.3325381875038147.\n",
      "[I 2025-04-25 16:05:58,951] Trial 8 finished with value: 0.37671008706092834 and parameters: {'lr': 2.2231583559111113e-05, 'wd': 1.6121447405300623e-06, 'bs': 64, 'epochs': 123, 'shared_hidden': 176, 'outcome_hidden': 114}. Best is trial 7 with value: 0.3325381875038147.\n",
      "[I 2025-04-25 16:05:59,820] Trial 9 finished with value: 0.35783740878105164 and parameters: {'lr': 0.0009093475587761515, 'wd': 9.01213730612686e-06, 'bs': 128, 'epochs': 75, 'shared_hidden': 199, 'outcome_hidden': 81}. Best is trial 7 with value: 0.3325381875038147.\n",
      "[I 2025-04-25 16:06:03,464] Trial 10 finished with value: 0.3444547951221466 and parameters: {'lr': 0.007751492454296131, 'wd': 8.041003588012928e-05, 'bs': 32, 'epochs': 135, 'shared_hidden': 89, 'outcome_hidden': 147}. Best is trial 7 with value: 0.3325381875038147.\n",
      "[I 2025-04-25 16:06:06,619] Trial 11 finished with value: 0.3478838801383972 and parameters: {'lr': 0.00194484801920682, 'wd': 9.749708532141609e-05, 'bs': 32, 'epochs': 105, 'shared_hidden': 161, 'outcome_hidden': 150}. Best is trial 7 with value: 0.3325381875038147.\n",
      "[I 2025-04-25 16:06:08,300] Trial 12 finished with value: 0.33694690465927124 and parameters: {'lr': 0.0013364932550212155, 'wd': 1.095620036220723e-05, 'bs': 32, 'epochs': 59, 'shared_hidden': 100, 'outcome_hidden': 157}. Best is trial 7 with value: 0.3325381875038147.\n",
      "[I 2025-04-25 16:06:09,677] Trial 13 finished with value: 0.3503308892250061 and parameters: {'lr': 0.0008284720627031008, 'wd': 2.173562208560088e-05, 'bs': 32, 'epochs': 50, 'shared_hidden': 93, 'outcome_hidden': 157}. Best is trial 7 with value: 0.3325381875038147.\n",
      "[I 2025-04-25 16:06:11,606] Trial 14 finished with value: 0.3515033423900604 and parameters: {'lr': 0.0010517345567764437, 'wd': 4.743631830778964e-06, 'bs': 32, 'epochs': 73, 'shared_hidden': 97, 'outcome_hidden': 131}. Best is trial 7 with value: 0.3325381875038147.\n",
      "[I 2025-04-25 16:06:13,394] Trial 15 finished with value: 0.3381398022174835 and parameters: {'lr': 0.005226170454398573, 'wd': 3.771251072755525e-05, 'bs': 32, 'epochs': 67, 'shared_hidden': 54, 'outcome_hidden': 169}. Best is trial 7 with value: 0.3325381875038147.\n",
      "[I 2025-04-25 16:06:16,257] Trial 16 finished with value: 0.3527500033378601 and parameters: {'lr': 0.0016904515023097868, 'wd': 5.019966915910628e-06, 'bs': 32, 'epochs': 111, 'shared_hidden': 72, 'outcome_hidden': 130}. Best is trial 7 with value: 0.3325381875038147.\n",
      "[I 2025-04-25 16:06:18,799] Trial 17 finished with value: 0.35322457551956177 and parameters: {'lr': 0.00011695542647243359, 'wd': 3.43949140828651e-05, 'bs': 64, 'epochs': 145, 'shared_hidden': 107, 'outcome_hidden': 166}. Best is trial 7 with value: 0.3325381875038147.\n",
      "[I 2025-04-25 16:06:22,827] Trial 18 finished with value: 0.3381485342979431 and parameters: {'lr': 0.00834297655123396, 'wd': 9.325904305107882e-06, 'bs': 32, 'epochs': 152, 'shared_hidden': 73, 'outcome_hidden': 143}. Best is trial 7 with value: 0.3325381875038147.\n",
      "[I 2025-04-25 16:06:27,763] Trial 19 finished with value: 0.3530499339103699 and parameters: {'lr': 0.0005233315848593862, 'wd': 4.4878527072479526e-05, 'bs': 32, 'epochs': 191, 'shared_hidden': 106, 'outcome_hidden': 107}. Best is trial 7 with value: 0.3325381875038147.\n"
     ]
    },
    {
     "name": "stdout",
     "output_type": "stream",
     "text": [
      "Best params for dragonnet: {'lr': 0.002144123039910124, 'wd': 4.561187367627535e-05, 'bs': 32, 'epochs': 96, 'shared_hidden': 74, 'outcome_hidden': 183}\n"
     ]
    },
    {
     "name": "stderr",
     "output_type": "stream",
     "text": [
      "2025-04-25 16:06:35.609856: E tensorflow/core/framework/node_def_util.cc:676] NodeDef mentions attribute use_unbounded_threadpool which is not in the op definition: Op<name=MapDataset; signature=input_dataset:variant, other_arguments: -> handle:variant; attr=f:func; attr=Targuments:list(type),min=0; attr=output_types:list(type),min=1; attr=output_shapes:list(shape),min=1; attr=use_inter_op_parallelism:bool,default=true; attr=preserve_cardinality:bool,default=false; attr=force_synchronous:bool,default=false; attr=metadata:string,default=\"\"> This may be expected if your graph generating binary is newer  than this binary. Unknown attributes will be ignored. NodeDef: {{node ParallelMapDatasetV2/_14}}\n",
      "2025-04-25 16:06:35.610148: E tensorflow/core/framework/node_def_util.cc:676] NodeDef mentions attribute use_unbounded_threadpool which is not in the op definition: Op<name=MapDataset; signature=input_dataset:variant, other_arguments: -> handle:variant; attr=f:func; attr=Targuments:list(type),min=0; attr=output_types:list(type),min=1; attr=output_shapes:list(shape),min=1; attr=use_inter_op_parallelism:bool,default=true; attr=preserve_cardinality:bool,default=false; attr=force_synchronous:bool,default=false; attr=metadata:string,default=\"\"> This may be expected if your graph generating binary is newer  than this binary. Unknown attributes will be ignored. NodeDef: {{node ParallelMapDatasetV2/_14}}\n",
      "2025-04-25 16:06:42.690952: E tensorflow/core/framework/node_def_util.cc:676] NodeDef mentions attribute use_unbounded_threadpool which is not in the op definition: Op<name=MapDataset; signature=input_dataset:variant, other_arguments: -> handle:variant; attr=f:func; attr=Targuments:list(type),min=0; attr=output_types:list(type),min=1; attr=output_shapes:list(shape),min=1; attr=use_inter_op_parallelism:bool,default=true; attr=preserve_cardinality:bool,default=false; attr=force_synchronous:bool,default=false; attr=metadata:string,default=\"\"> This may be expected if your graph generating binary is newer  than this binary. Unknown attributes will be ignored. NodeDef: {{node ParallelMapDatasetV2/_14}}\n",
      "2025-04-25 16:06:42.691253: E tensorflow/core/framework/node_def_util.cc:676] NodeDef mentions attribute use_unbounded_threadpool which is not in the op definition: Op<name=MapDataset; signature=input_dataset:variant, other_arguments: -> handle:variant; attr=f:func; attr=Targuments:list(type),min=0; attr=output_types:list(type),min=1; attr=output_shapes:list(shape),min=1; attr=use_inter_op_parallelism:bool,default=true; attr=preserve_cardinality:bool,default=false; attr=force_synchronous:bool,default=false; attr=metadata:string,default=\"\"> This may be expected if your graph generating binary is newer  than this binary. Unknown attributes will be ignored. NodeDef: {{node ParallelMapDatasetV2/_14}}\n",
      " 20%|██        | 4/20 [27:17<1:49:46, 411.68s/it]"
     ]
    },
    {
     "name": "stdout",
     "output_type": "stream",
     "text": [
      "The average treatment effect (ATE) is 1.8434579\n",
      "Epoch 1: loss 2.3342,\tloss_y 1.5689, 1.6068, 0.0757,\tloss_eta 0.7653, 0.8118, 0.0930\n",
      "Epoch 1000: loss 0.8789,\tloss_y 0.2974, 0.5983, 0.6018,\tloss_eta 0.5815, 1.1136, 1.0642\n",
      "Warning: covariate dimension does not aligned with the specified input dimension; filling in the remaining dimension with noise.\n",
      "Warning: covariate dimension does not aligned with the specified input dimension; filling in the remaining dimension with noise.\n"
     ]
    },
    {
     "name": "stderr",
     "output_type": "stream",
     "text": [
      "[I 2025-04-25 16:06:47,320] A new study created in memory with name: tarnet_tune\n",
      "[I 2025-04-25 16:06:51,602] Trial 0 finished with value: 0.8612509965896606 and parameters: {'lr': 0.00044386304579057973, 'wd': 3.2287750227217567e-05, 'bs': 32, 'epochs': 183, 'rep1': 57, 'rep2': 130, 'head': 164, 'drop': 0.17145250624937303}. Best is trial 0 with value: 0.8612509965896606.\n",
      "[I 2025-04-25 16:06:55,606] Trial 1 finished with value: 0.8421049118041992 and parameters: {'lr': 0.005200002780223647, 'wd': 2.2311583950060806e-07, 'bs': 32, 'epochs': 148, 'rep1': 121, 'rep2': 143, 'head': 183, 'drop': 0.43719855941205576}. Best is trial 1 with value: 0.8421049118041992.\n",
      "[I 2025-04-25 16:06:58,007] Trial 2 finished with value: 0.8432593941688538 and parameters: {'lr': 0.0008829812017284252, 'wd': 8.595592564152958e-05, 'bs': 64, 'epochs': 152, 'rep1': 192, 'rep2': 53, 'head': 180, 'drop': 0.11860542748085906}. Best is trial 1 with value: 0.8421049118041992.\n",
      "[I 2025-04-25 16:06:59,822] Trial 3 finished with value: 1.9960124492645264 and parameters: {'lr': 1.0538456711979717e-05, 'wd': 2.4252137300258786e-05, 'bs': 128, 'epochs': 184, 'rep1': 131, 'rep2': 88, 'head': 82, 'drop': 0.10749682502472169}. Best is trial 1 with value: 0.8421049118041992.\n",
      "[I 2025-04-25 16:07:00,867] Trial 4 finished with value: 0.8455315232276917 and parameters: {'lr': 0.0011491762506489914, 'wd': 3.815563103970857e-06, 'bs': 64, 'epochs': 65, 'rep1': 191, 'rep2': 149, 'head': 125, 'drop': 0.3964365831705714}. Best is trial 1 with value: 0.8421049118041992.\n",
      "[I 2025-04-25 16:07:03,656] Trial 5 finished with value: 0.9007133841514587 and parameters: {'lr': 0.005248337534216233, 'wd': 1.3021231312415003e-06, 'bs': 64, 'epochs': 161, 'rep1': 165, 'rep2': 177, 'head': 197, 'drop': 0.4847214974470635}. Best is trial 1 with value: 0.8421049118041992.\n",
      "[I 2025-04-25 16:07:07,517] Trial 6 finished with value: 0.872002124786377 and parameters: {'lr': 0.0010463525953016532, 'wd': 7.706617173675432e-06, 'bs': 32, 'epochs': 178, 'rep1': 158, 'rep2': 65, 'head': 111, 'drop': 0.2102356241297046}. Best is trial 1 with value: 0.8421049118041992.\n",
      "[I 2025-04-25 16:07:08,901] Trial 7 finished with value: 0.8594951033592224 and parameters: {'lr': 0.000315370872600785, 'wd': 1.278748697027456e-06, 'bs': 64, 'epochs': 108, 'rep1': 93, 'rep2': 84, 'head': 61, 'drop': 0.07941411502317719}. Best is trial 1 with value: 0.8421049118041992.\n",
      "[I 2025-04-25 16:07:10,138] Trial 8 finished with value: 0.8628875017166138 and parameters: {'lr': 0.002875626351158889, 'wd': 9.947259689322767e-05, 'bs': 128, 'epochs': 113, 'rep1': 105, 'rep2': 54, 'head': 191, 'drop': 0.199977569121975}. Best is trial 1 with value: 0.8421049118041992.\n",
      "[I 2025-04-25 16:07:11,648] Trial 9 finished with value: 0.8827232718467712 and parameters: {'lr': 6.484256651249386e-05, 'wd': 1.457924802747969e-06, 'bs': 128, 'epochs': 135, 'rep1': 51, 'rep2': 186, 'head': 143, 'drop': 0.06965050515943477}. Best is trial 1 with value: 0.8421049118041992.\n",
      "[I 2025-04-25 16:07:13,426] Trial 10 finished with value: 0.8762921094894409 and parameters: {'lr': 0.009485311039254879, 'wd': 1.1028614092390339e-07, 'bs': 32, 'epochs': 71, 'rep1': 128, 'rep2': 149, 'head': 151, 'drop': 0.32752676468241615}. Best is trial 1 with value: 0.8421049118041992.\n",
      "[I 2025-04-25 16:07:15,768] Trial 11 finished with value: 0.8771156072616577 and parameters: {'lr': 0.0018435513272077328, 'wd': 1.0401383445521144e-07, 'bs': 64, 'epochs': 144, 'rep1': 196, 'rep2': 109, 'head': 172, 'drop': 0.3027283235162126}. Best is trial 1 with value: 0.8421049118041992.\n",
      "[I 2025-04-25 16:07:19,590] Trial 12 finished with value: 0.8565650582313538 and parameters: {'lr': 0.00023591570514088278, 'wd': 3.5714000303312e-07, 'bs': 32, 'epochs': 154, 'rep1': 158, 'rep2': 118, 'head': 175, 'drop': 0.014900476565257476}. Best is trial 1 with value: 0.8421049118041992.\n",
      "[I 2025-04-25 16:07:21,216] Trial 13 finished with value: 0.8893296718597412 and parameters: {'lr': 9.363887373047024e-05, 'wd': 3.5514840390052867e-07, 'bs': 64, 'epochs': 95, 'rep1': 98, 'rep2': 157, 'head': 199, 'drop': 0.48998807945853523}. Best is trial 1 with value: 0.8421049118041992.\n",
      "[I 2025-04-25 16:07:24,399] Trial 14 finished with value: 0.8694342970848083 and parameters: {'lr': 0.003636437093917978, 'wd': 1.3190540162363002e-05, 'bs': 32, 'epochs': 131, 'rep1': 142, 'rep2': 98, 'head': 137, 'drop': 0.40183349971394133}. Best is trial 1 with value: 0.8421049118041992.\n",
      "[I 2025-04-25 16:07:27,369] Trial 15 finished with value: 0.8436072468757629 and parameters: {'lr': 0.00916208724154546, 'wd': 3.750923171024105e-07, 'bs': 64, 'epochs': 200, 'rep1': 112, 'rep2': 132, 'head': 109, 'drop': 0.28258810560061165}. Best is trial 1 with value: 0.8421049118041992.\n",
      "[I 2025-04-25 16:07:31,735] Trial 16 finished with value: 0.8689755797386169 and parameters: {'lr': 0.0007395106271415472, 'wd': 5.4286155660922e-05, 'bs': 32, 'epochs': 164, 'rep1': 76, 'rep2': 168, 'head': 176, 'drop': 0.13464326534462992}. Best is trial 1 with value: 0.8421049118041992.\n",
      "[I 2025-04-25 16:07:34,585] Trial 17 finished with value: 0.8524249196052551 and parameters: {'lr': 0.00011001581015998604, 'wd': 4.421063932367964e-06, 'bs': 32, 'epochs': 118, 'rep1': 178, 'rep2': 74, 'head': 162, 'drop': 0.38426653893274015}. Best is trial 1 with value: 0.8421049118041992.\n",
      "[I 2025-04-25 16:07:36,298] Trial 18 finished with value: 0.8832729458808899 and parameters: {'lr': 0.0022167096876533304, 'wd': 7.120786329338324e-07, 'bs': 64, 'epochs': 95, 'rep1': 144, 'rep2': 197, 'head': 185, 'drop': 0.014610757103668354}. Best is trial 1 with value: 0.8421049118041992.\n",
      "[I 2025-04-25 16:07:37,918] Trial 19 finished with value: 0.8489546775817871 and parameters: {'lr': 0.005426025896266952, 'wd': 1.0160597438177791e-05, 'bs': 128, 'epochs': 146, 'rep1': 118, 'rep2': 111, 'head': 155, 'drop': 0.23724961835141586}. Best is trial 1 with value: 0.8421049118041992.\n"
     ]
    },
    {
     "name": "stdout",
     "output_type": "stream",
     "text": [
      "Best params for tarnet: {'lr': 0.005200002780223647, 'wd': 2.2311583950060806e-07, 'bs': 32, 'epochs': 148, 'rep1': 121, 'rep2': 143, 'head': 183, 'drop': 0.43719855941205576}\n"
     ]
    },
    {
     "name": "stderr",
     "output_type": "stream",
     "text": [
      "[I 2025-04-25 16:07:43,439] A new study created in memory with name: cfrnet_tune\n",
      "[I 2025-04-25 16:07:46,136] Trial 0 finished with value: 0.8551645278930664 and parameters: {'lr': 0.0005148730497434651, 'wd': 1.7531043838119585e-07, 'bs': 64, 'epochs': 124, 'rep1': 187, 'rep2': 161, 'head': 123, 'drop': 0.3198567314013855, 'ipm_weight': 0.29204384874596434}. Best is trial 0 with value: 0.8551645278930664.\n",
      "[I 2025-04-25 16:07:47,975] Trial 1 finished with value: 0.8905379772186279 and parameters: {'lr': 0.002702701741119351, 'wd': 9.02389836101783e-05, 'bs': 64, 'epochs': 86, 'rep1': 76, 'rep2': 157, 'head': 170, 'drop': 0.01606233439711613, 'ipm_weight': 1.3872767161435615}. Best is trial 0 with value: 0.8551645278930664.\n",
      "[I 2025-04-25 16:07:49,420] Trial 2 finished with value: 0.9450066685676575 and parameters: {'lr': 0.00786971958249477, 'wd': 1.2702594163788504e-05, 'bs': 64, 'epochs': 74, 'rep1': 142, 'rep2': 73, 'head': 145, 'drop': 0.07185254105802691, 'ipm_weight': 8.166604133594126}. Best is trial 0 with value: 0.8551645278930664.\n",
      "[I 2025-04-25 16:07:50,939] Trial 3 finished with value: 0.8657028079032898 and parameters: {'lr': 0.0007106410112891311, 'wd': 1.0463746296176939e-05, 'bs': 128, 'epochs': 101, 'rep1': 167, 'rep2': 139, 'head': 110, 'drop': 0.08603067567747608, 'ipm_weight': 0.019478285976629345}. Best is trial 0 with value: 0.8551645278930664.\n",
      "[I 2025-04-25 16:07:54,237] Trial 4 finished with value: 0.8395293951034546 and parameters: {'lr': 2.0084533496049305e-05, 'wd': 1.1522950203251466e-06, 'bs': 64, 'epochs': 148, 'rep1': 144, 'rep2': 138, 'head': 187, 'drop': 0.0627100596849326, 'ipm_weight': 0.19063591515345668}. Best is trial 4 with value: 0.8395293951034546.\n",
      "[I 2025-04-25 16:07:56,936] Trial 5 finished with value: 1.2282565832138062 and parameters: {'lr': 2.4116863323088952e-05, 'wd': 6.537522684354777e-05, 'bs': 128, 'epochs': 184, 'rep1': 79, 'rep2': 79, 'head': 175, 'drop': 0.4074086618777727, 'ipm_weight': 0.061545190119440464}. Best is trial 4 with value: 0.8395293951034546.\n",
      "[I 2025-04-25 16:08:00,577] Trial 6 finished with value: 0.8483045697212219 and parameters: {'lr': 0.00025469663205272597, 'wd': 4.4132446844923344e-07, 'bs': 64, 'epochs': 172, 'rep1': 87, 'rep2': 165, 'head': 152, 'drop': 0.24936422676729225, 'ipm_weight': 0.5502306933291295}. Best is trial 4 with value: 0.8395293951034546.\n",
      "[I 2025-04-25 16:08:03,486] Trial 7 finished with value: 0.9871866106987 and parameters: {'lr': 1.4823984940904476e-05, 'wd': 4.380280909892521e-06, 'bs': 64, 'epochs': 151, 'rep1': 173, 'rep2': 86, 'head': 118, 'drop': 0.3675006551239466, 'ipm_weight': 0.5142744655613416}. Best is trial 4 with value: 0.8395293951034546.\n",
      "[I 2025-04-25 16:08:06,708] Trial 8 finished with value: 0.8692190647125244 and parameters: {'lr': 0.0027650033532912745, 'wd': 1.2675556764416347e-07, 'bs': 64, 'epochs': 166, 'rep1': 131, 'rep2': 98, 'head': 133, 'drop': 0.34331423017509544, 'ipm_weight': 0.010329087012888507}. Best is trial 4 with value: 0.8395293951034546.\n",
      "[I 2025-04-25 16:08:12,554] Trial 9 finished with value: 0.9244663119316101 and parameters: {'lr': 0.0003064003354422512, 'wd': 4.2124804127775834e-06, 'bs': 32, 'epochs': 186, 'rep1': 181, 'rep2': 71, 'head': 189, 'drop': 0.4415849526686556, 'ipm_weight': 6.017276615764902}. Best is trial 4 with value: 0.8395293951034546.\n",
      "[I 2025-04-25 16:08:16,709] Trial 10 finished with value: 0.8501787185668945 and parameters: {'lr': 5.2700719802413014e-05, 'wd': 6.827385367073945e-07, 'bs': 32, 'epochs': 134, 'rep1': 104, 'rep2': 197, 'head': 52, 'drop': 0.17536813917802418, 'ipm_weight': 0.0900950282323712}. Best is trial 4 with value: 0.8395293951034546.\n",
      "[I 2025-04-25 16:08:21,009] Trial 11 finished with value: 0.8453353643417358 and parameters: {'lr': 0.00011713428068142746, 'wd': 5.280875971412174e-07, 'bs': 64, 'epochs': 198, 'rep1': 104, 'rep2': 123, 'head': 197, 'drop': 0.22448964698280055, 'ipm_weight': 0.7881330222436448}. Best is trial 4 with value: 0.8395293951034546.\n",
      "[I 2025-04-25 16:08:25,158] Trial 12 finished with value: 0.8654085993766785 and parameters: {'lr': 7.821868921010895e-05, 'wd': 1.2989183377685978e-06, 'bs': 64, 'epochs': 196, 'rep1': 117, 'rep2': 118, 'head': 200, 'drop': 0.18372029891650674, 'ipm_weight': 1.7680653314824633}. Best is trial 4 with value: 0.8395293951034546.\n",
      "[I 2025-04-25 16:08:26,227] Trial 13 finished with value: 0.8366315364837646 and parameters: {'lr': 7.878330294326262e-05, 'wd': 1.138089075859127e-06, 'bs': 64, 'epochs': 54, 'rep1': 142, 'rep2': 120, 'head': 86, 'drop': 0.1626121501924338, 'ipm_weight': 0.1348248749926808}. Best is trial 13 with value: 0.8366315364837646.\n",
      "[I 2025-04-25 16:08:27,757] Trial 14 finished with value: 2.4167540073394775 and parameters: {'lr': 1.185311590731962e-05, 'wd': 1.5825912808317396e-06, 'bs': 128, 'epochs': 107, 'rep1': 151, 'rep2': 108, 'head': 86, 'drop': 0.1282205437436887, 'ipm_weight': 0.14534032206423553}. Best is trial 13 with value: 0.8366315364837646.\n",
      "[I 2025-04-25 16:08:29,688] Trial 15 finished with value: 0.8285856246948242 and parameters: {'lr': 3.685328022025855e-05, 'wd': 1.6903417794042494e-06, 'bs': 32, 'epochs': 61, 'rep1': 198, 'rep2': 139, 'head': 87, 'drop': 0.03638881840962166, 'ipm_weight': 0.17003634100465972}. Best is trial 15 with value: 0.8285856246948242.\n",
      "[I 2025-04-25 16:08:31,281] Trial 16 finished with value: 0.8761048913002014 and parameters: {'lr': 4.712253905566951e-05, 'wd': 1.0405675113258086e-05, 'bs': 32, 'epochs': 54, 'rep1': 200, 'rep2': 54, 'head': 80, 'drop': 0.12374082958791219, 'ipm_weight': 0.03352573049591088}. Best is trial 15 with value: 0.8285856246948242.\n",
      "[I 2025-04-25 16:08:32,849] Trial 17 finished with value: 0.8658658266067505 and parameters: {'lr': 0.00013536774346956714, 'wd': 3.5188661272339475e-06, 'bs': 32, 'epochs': 50, 'rep1': 54, 'rep2': 191, 'head': 92, 'drop': 0.016069426053353632, 'ipm_weight': 0.057713039490238136}. Best is trial 15 with value: 0.8285856246948242.\n",
      "[I 2025-04-25 16:08:35,085] Trial 18 finished with value: 0.9858955144882202 and parameters: {'lr': 3.646373238228041e-05, 'wd': 2.652350104498893e-07, 'bs': 32, 'epochs': 73, 'rep1': 160, 'rep2': 138, 'head': 68, 'drop': 0.4961778788408645, 'ipm_weight': 0.14230965078695448}. Best is trial 15 with value: 0.8285856246948242.\n",
      "[I 2025-04-25 16:08:37,375] Trial 19 finished with value: 0.8342046737670898 and parameters: {'lr': 0.0001394334853919521, 'wd': 2.194815536489528e-06, 'bs': 32, 'epochs': 68, 'rep1': 199, 'rep2': 177, 'head': 107, 'drop': 0.28298876232107045, 'ipm_weight': 2.93194175546012}. Best is trial 15 with value: 0.8285856246948242.\n"
     ]
    },
    {
     "name": "stdout",
     "output_type": "stream",
     "text": [
      "Best params for cfrnet: {'lr': 3.685328022025855e-05, 'wd': 1.6903417794042494e-06, 'bs': 32, 'epochs': 61, 'rep1': 198, 'rep2': 139, 'head': 87, 'drop': 0.03638881840962166, 'ipm_weight': 0.17003634100465972}\n"
     ]
    },
    {
     "name": "stderr",
     "output_type": "stream",
     "text": [
      "[I 2025-04-25 16:08:40,167] A new study created in memory with name: cevae_tune\n",
      "INFO \t Training with 32 minibatches per epoch\n",
      "[I 2025-04-25 16:09:07,498] Trial 0 finished with value: 31.5476875 and parameters: {'lr': 4.012726403749373e-05, 'wd': 9.207404022705216e-06, 'bs': 32, 'epochs': 131, 'latent_dim': 59, 'hidden_dim': 292, 'num_layers': 4, 'num_samples': 10}. Best is trial 0 with value: 31.5476875.\n",
      "INFO \t Training with 32 minibatches per epoch\n",
      "[I 2025-04-25 16:09:55,162] Trial 1 finished with value: 28.969672668457033 and parameters: {'lr': 0.00017737973693793973, 'wd': 6.969473423385625e-05, 'bs': 32, 'epochs': 191, 'latent_dim': 48, 'hidden_dim': 314, 'num_layers': 5, 'num_samples': 50}. Best is trial 1 with value: 28.969672668457033.\n",
      "INFO \t Training with 8 minibatches per epoch\n",
      "[I 2025-04-25 16:09:59,369] Trial 2 finished with value: 40.8441361694336 and parameters: {'lr': 0.00021418138616337442, 'wd': 9.110193339345287e-05, 'bs': 128, 'epochs': 51, 'latent_dim': 115, 'hidden_dim': 266, 'num_layers': 5, 'num_samples': 10}. Best is trial 1 with value: 28.969672668457033.\n",
      "INFO \t Training with 8 minibatches per epoch\n",
      "[I 2025-04-25 16:10:13,409] Trial 3 finished with value: 26.26471697998047 and parameters: {'lr': 0.0006263330456953017, 'wd': 6.53931189401706e-05, 'bs': 128, 'epochs': 185, 'latent_dim': 10, 'hidden_dim': 289, 'num_layers': 5, 'num_samples': 50}. Best is trial 3 with value: 26.26471697998047.\n",
      "INFO \t Training with 16 minibatches per epoch\n",
      "[I 2025-04-25 16:10:24,790] Trial 4 finished with value: 42.87848748779297 and parameters: {'lr': 5.689402616514344e-05, 'wd': 4.3467891694853376e-07, 'bs': 64, 'epochs': 186, 'latent_dim': 72, 'hidden_dim': 89, 'num_layers': 2, 'num_samples': 50}. Best is trial 3 with value: 26.26471697998047.\n",
      "INFO \t Training with 32 minibatches per epoch\n",
      "[I 2025-04-25 16:11:02,041] Trial 5 finished with value: 40.782573669433596 and parameters: {'lr': 0.0005106730355947059, 'wd': 7.291465587739297e-06, 'bs': 32, 'epochs': 171, 'latent_dim': 65, 'hidden_dim': 345, 'num_layers': 4, 'num_samples': 50}. Best is trial 3 with value: 26.26471697998047.\n",
      "INFO \t Training with 32 minibatches per epoch\n",
      "[I 2025-04-25 16:11:28,149] Trial 6 finished with value: 32.54155212402344 and parameters: {'lr': 0.001668550360261164, 'wd': 2.2047594991888865e-05, 'bs': 32, 'epochs': 127, 'latent_dim': 128, 'hidden_dim': 279, 'num_layers': 4, 'num_samples': 100}. Best is trial 3 with value: 26.26471697998047.\n",
      "INFO \t Training with 16 minibatches per epoch\n",
      "[I 2025-04-25 16:11:34,327] Trial 7 finished with value: 41.79072351074219 and parameters: {'lr': 0.006197854785960396, 'wd': 1.8334516621147803e-06, 'bs': 64, 'epochs': 71, 'latent_dim': 118, 'hidden_dim': 284, 'num_layers': 3, 'num_samples': 100}. Best is trial 3 with value: 26.26471697998047.\n",
      "INFO \t Training with 16 minibatches per epoch\n",
      "[I 2025-04-25 16:11:39,823] Trial 8 finished with value: 60.36753399658203 and parameters: {'lr': 0.0032641243349997833, 'wd': 4.4675804865615484e-07, 'bs': 64, 'epochs': 80, 'latent_dim': 173, 'hidden_dim': 168, 'num_layers': 2, 'num_samples': 10}. Best is trial 3 with value: 26.26471697998047.\n",
      "INFO \t Training with 32 minibatches per epoch\n",
      "[I 2025-04-25 16:11:56,542] Trial 9 finished with value: 47.33154315185547 and parameters: {'lr': 0.004231899219351387, 'wd': 6.878560105665956e-07, 'bs': 32, 'epochs': 146, 'latent_dim': 91, 'hidden_dim': 143, 'num_layers': 2, 'num_samples': 100}. Best is trial 3 with value: 26.26471697998047.\n",
      "INFO \t Training with 8 minibatches per epoch\n",
      "[I 2025-04-25 16:12:03,664] Trial 10 finished with value: 27.736378173828125 and parameters: {'lr': 1.4783976921067095e-05, 'wd': 2.5558609336298468e-05, 'bs': 128, 'epochs': 163, 'latent_dim': 17, 'hidden_dim': 20, 'num_layers': 5, 'num_samples': 200}. Best is trial 3 with value: 26.26471697998047.\n",
      "INFO \t Training with 8 minibatches per epoch\n",
      "[I 2025-04-25 16:12:10,938] Trial 11 finished with value: 29.039701843261717 and parameters: {'lr': 1.2148609911223573e-05, 'wd': 2.7423894688144895e-05, 'bs': 128, 'epochs': 162, 'latent_dim': 12, 'hidden_dim': 39, 'num_layers': 5, 'num_samples': 200}. Best is trial 3 with value: 26.26471697998047.\n",
      "INFO \t Training with 8 minibatches per epoch\n",
      "[I 2025-04-25 16:12:27,959] Trial 12 finished with value: 28.833507751464843 and parameters: {'lr': 0.0007178534549789002, 'wd': 2.686525241895405e-05, 'bs': 128, 'epochs': 199, 'latent_dim': 10, 'hidden_dim': 396, 'num_layers': 5, 'num_samples': 200}. Best is trial 3 with value: 26.26471697998047.\n",
      "INFO \t Training with 8 minibatches per epoch\n",
      "[I 2025-04-25 16:12:35,770] Trial 13 finished with value: 30.532642333984374 and parameters: {'lr': 1.2521170084652692e-05, 'wd': 4.876292466892619e-06, 'bs': 128, 'epochs': 164, 'latent_dim': 37, 'hidden_dim': 214, 'num_layers': 3, 'num_samples': 200}. Best is trial 3 with value: 26.26471697998047.\n",
      "INFO \t Training with 8 minibatches per epoch\n",
      "[I 2025-04-25 16:12:44,562] Trial 14 finished with value: 28.992153869628908 and parameters: {'lr': 7.588850130861424e-05, 'wd': 1.28572050214558e-07, 'bs': 128, 'epochs': 148, 'latent_dim': 30, 'hidden_dim': 222, 'num_layers': 4, 'num_samples': 50}. Best is trial 3 with value: 26.26471697998047.\n",
      "INFO \t Training with 8 minibatches per epoch\n",
      "[I 2025-04-25 16:12:49,880] Trial 15 finished with value: 44.336717407226566 and parameters: {'lr': 0.0010001006075585858, 'wd': 1.4762571973919986e-05, 'bs': 128, 'epochs': 103, 'latent_dim': 152, 'hidden_dim': 37, 'num_layers': 5, 'num_samples': 200}. Best is trial 3 with value: 26.26471697998047.\n",
      "INFO \t Training with 8 minibatches per epoch\n",
      "[I 2025-04-25 16:13:00,404] Trial 16 finished with value: 36.19527215576172 and parameters: {'lr': 0.0001606279751545574, 'wd': 5.132264657695192e-05, 'bs': 128, 'epochs': 178, 'latent_dim': 90, 'hidden_dim': 119, 'num_layers': 5, 'num_samples': 200}. Best is trial 3 with value: 26.26471697998047.\n",
      "INFO \t Training with 8 minibatches per epoch\n",
      "[I 2025-04-25 16:13:07,253] Trial 17 finished with value: 30.013026000976563 and parameters: {'lr': 2.71546830952784e-05, 'wd': 2.363844005587735e-06, 'bs': 128, 'epochs': 153, 'latent_dim': 30, 'hidden_dim': 183, 'num_layers': 3, 'num_samples': 50}. Best is trial 3 with value: 26.26471697998047.\n",
      "INFO \t Training with 8 minibatches per epoch\n",
      "[I 2025-04-25 16:13:15,317] Trial 18 finished with value: 47.79605499267578 and parameters: {'lr': 0.00036714754893091723, 'wd': 4.3289843684813755e-05, 'bs': 128, 'epochs': 106, 'latent_dim': 189, 'hidden_dim': 360, 'num_layers': 4, 'num_samples': 50}. Best is trial 3 with value: 26.26471697998047.\n",
      "INFO \t Training with 8 minibatches per epoch\n",
      "[I 2025-04-25 16:13:27,963] Trial 19 finished with value: 27.55483087158203 and parameters: {'lr': 0.001890976251491781, 'wd': 1.2807670045648224e-05, 'bs': 128, 'epochs': 179, 'latent_dim': 13, 'hidden_dim': 239, 'num_layers': 5, 'num_samples': 200}. Best is trial 3 with value: 26.26471697998047.\n",
      "INFO \t Training with 11 minibatches per epoch\n"
     ]
    },
    {
     "name": "stdout",
     "output_type": "stream",
     "text": [
      "Best params for cevae: {'lr': 0.0006263330456953017, 'wd': 6.53931189401706e-05, 'bs': 128, 'epochs': 185, 'latent_dim': 10, 'hidden_dim': 289, 'num_layers': 5, 'num_samples': 50}\n"
     ]
    },
    {
     "name": "stderr",
     "output_type": "stream",
     "text": [
      "INFO \t Evaluating 1 minibatches\n",
      "[I 2025-04-25 16:13:49,066] A new study created in memory with name: dragonnet_tune\n",
      "[I 2025-04-25 16:13:51,038] Trial 0 finished with value: 0.38160353899002075 and parameters: {'lr': 5.116074970170811e-05, 'wd': 1.1018719444250628e-05, 'bs': 128, 'epochs': 156, 'shared_hidden': 121, 'outcome_hidden': 118}. Best is trial 0 with value: 0.38160353899002075.\n",
      "[I 2025-04-25 16:13:57,545] Trial 1 finished with value: 0.3863009512424469 and parameters: {'lr': 0.0005676154446367941, 'wd': 2.3544532813432635e-07, 'bs': 32, 'epochs': 198, 'shared_hidden': 184, 'outcome_hidden': 59}. Best is trial 0 with value: 0.38160353899002075.\n",
      "[I 2025-04-25 16:14:00,085] Trial 2 finished with value: 0.3669811189174652 and parameters: {'lr': 3.304370608899052e-05, 'wd': 6.455826445270639e-06, 'bs': 64, 'epochs': 130, 'shared_hidden': 81, 'outcome_hidden': 160}. Best is trial 2 with value: 0.3669811189174652.\n",
      "[I 2025-04-25 16:14:02,154] Trial 3 finished with value: 0.7636196613311768 and parameters: {'lr': 1.3467118520090475e-05, 'wd': 4.326543735540595e-05, 'bs': 128, 'epochs': 184, 'shared_hidden': 74, 'outcome_hidden': 71}. Best is trial 2 with value: 0.3669811189174652.\n",
      "[I 2025-04-25 16:14:06,364] Trial 4 finished with value: 0.3778427243232727 and parameters: {'lr': 0.004218750732323573, 'wd': 2.0140456460087647e-05, 'bs': 32, 'epochs': 129, 'shared_hidden': 99, 'outcome_hidden': 154}. Best is trial 2 with value: 0.3669811189174652.\n",
      "[I 2025-04-25 16:14:11,866] Trial 5 finished with value: 0.39187633991241455 and parameters: {'lr': 0.0010403728509348275, 'wd': 1.1908783851980572e-05, 'bs': 32, 'epochs': 174, 'shared_hidden': 126, 'outcome_hidden': 110}. Best is trial 2 with value: 0.3669811189174652.\n",
      "[I 2025-04-25 16:14:17,557] Trial 6 finished with value: 0.40052586793899536 and parameters: {'lr': 0.0028227359914159158, 'wd': 1.032515023854415e-06, 'bs': 32, 'epochs': 160, 'shared_hidden': 158, 'outcome_hidden': 192}. Best is trial 2 with value: 0.3669811189174652.\n",
      "[I 2025-04-25 16:14:25,819] Trial 7 finished with value: 0.37865158915519714 and parameters: {'lr': 9.691404984419267e-05, 'wd': 4.4864176317776544e-07, 'bs': 32, 'epochs': 197, 'shared_hidden': 178, 'outcome_hidden': 193}. Best is trial 2 with value: 0.3669811189174652.\n",
      "[I 2025-04-25 16:14:27,652] Trial 8 finished with value: 0.3698957562446594 and parameters: {'lr': 0.0002643827867672997, 'wd': 1.0618921659108017e-05, 'bs': 128, 'epochs': 131, 'shared_hidden': 186, 'outcome_hidden': 114}. Best is trial 2 with value: 0.3669811189174652.\n",
      "[I 2025-04-25 16:14:29,905] Trial 9 finished with value: 0.5322009921073914 and parameters: {'lr': 1.3588052571073574e-05, 'wd': 6.76165633753639e-07, 'bs': 64, 'epochs': 136, 'shared_hidden': 76, 'outcome_hidden': 116}. Best is trial 2 with value: 0.3669811189174652.\n",
      "[I 2025-04-25 16:14:31,118] Trial 10 finished with value: 0.4028554856777191 and parameters: {'lr': 6.186954555852543e-05, 'wd': 2.744753985461005e-06, 'bs': 64, 'epochs': 71, 'shared_hidden': 55, 'outcome_hidden': 156}. Best is trial 2 with value: 0.3669811189174652.\n",
      "[I 2025-04-25 16:14:32,885] Trial 11 finished with value: 0.3736347556114197 and parameters: {'lr': 0.00020280507893960962, 'wd': 3.4045535561459807e-06, 'bs': 64, 'epochs': 89, 'shared_hidden': 139, 'outcome_hidden': 154}. Best is trial 2 with value: 0.3669811189174652.\n",
      "[I 2025-04-25 16:14:33,867] Trial 12 finished with value: 0.3850032091140747 and parameters: {'lr': 0.00022040772271820014, 'wd': 8.750702268971164e-05, 'bs': 128, 'epochs': 94, 'shared_hidden': 108, 'outcome_hidden': 83}. Best is trial 2 with value: 0.3669811189174652.\n",
      "[I 2025-04-25 16:14:35,980] Trial 13 finished with value: 0.3827456533908844 and parameters: {'lr': 3.176691563150399e-05, 'wd': 3.63277164712938e-06, 'bs': 64, 'epochs': 109, 'shared_hidden': 153, 'outcome_hidden': 136}. Best is trial 2 with value: 0.3669811189174652.\n",
      "[I 2025-04-25 16:14:37,954] Trial 14 finished with value: 0.3750738203525543 and parameters: {'lr': 0.0011968475814790843, 'wd': 6.320358268964756e-06, 'bs': 128, 'epochs': 139, 'shared_hidden': 200, 'outcome_hidden': 173}. Best is trial 2 with value: 0.3669811189174652.\n",
      "[I 2025-04-25 16:14:39,628] Trial 15 finished with value: 0.3956763744354248 and parameters: {'lr': 0.008306162920128236, 'wd': 2.8077043326564893e-05, 'bs': 64, 'epochs': 109, 'shared_hidden': 89, 'outcome_hidden': 93}. Best is trial 2 with value: 0.3669811189174652.\n",
      "[I 2025-04-25 16:14:40,233] Trial 16 finished with value: 0.36996394395828247 and parameters: {'lr': 0.000125126176790958, 'wd': 1.811710817754312e-06, 'bs': 128, 'epochs': 55, 'shared_hidden': 52, 'outcome_hidden': 136}. Best is trial 2 with value: 0.3669811189174652.\n",
      "[I 2025-04-25 16:14:42,103] Trial 17 finished with value: 0.3710800111293793 and parameters: {'lr': 2.7532174334587673e-05, 'wd': 9.019149846009295e-06, 'bs': 128, 'epochs': 153, 'shared_hidden': 167, 'outcome_hidden': 98}. Best is trial 2 with value: 0.3669811189174652.\n",
      "[I 2025-04-25 16:14:44,686] Trial 18 finished with value: 0.37222641706466675 and parameters: {'lr': 0.0004694118652199607, 'wd': 9.267923813546459e-05, 'bs': 64, 'epochs': 116, 'shared_hidden': 200, 'outcome_hidden': 134}. Best is trial 2 with value: 0.3669811189174652.\n",
      "[I 2025-04-25 16:14:46,103] Trial 19 finished with value: 0.8682817220687866 and parameters: {'lr': 1.021198096537243e-05, 'wd': 5.395844250290048e-06, 'bs': 128, 'epochs': 92, 'shared_hidden': 137, 'outcome_hidden': 171}. Best is trial 2 with value: 0.3669811189174652.\n"
     ]
    },
    {
     "name": "stdout",
     "output_type": "stream",
     "text": [
      "Best params for dragonnet: {'lr': 3.304370608899052e-05, 'wd': 6.455826445270639e-06, 'bs': 64, 'epochs': 130, 'shared_hidden': 81, 'outcome_hidden': 160}\n"
     ]
    },
    {
     "name": "stderr",
     "output_type": "stream",
     "text": [
      "2025-04-25 16:14:53.843931: E tensorflow/core/framework/node_def_util.cc:676] NodeDef mentions attribute use_unbounded_threadpool which is not in the op definition: Op<name=MapDataset; signature=input_dataset:variant, other_arguments: -> handle:variant; attr=f:func; attr=Targuments:list(type),min=0; attr=output_types:list(type),min=1; attr=output_shapes:list(shape),min=1; attr=use_inter_op_parallelism:bool,default=true; attr=preserve_cardinality:bool,default=false; attr=force_synchronous:bool,default=false; attr=metadata:string,default=\"\"> This may be expected if your graph generating binary is newer  than this binary. Unknown attributes will be ignored. NodeDef: {{node ParallelMapDatasetV2/_14}}\n",
      "2025-04-25 16:14:53.844223: E tensorflow/core/framework/node_def_util.cc:676] NodeDef mentions attribute use_unbounded_threadpool which is not in the op definition: Op<name=MapDataset; signature=input_dataset:variant, other_arguments: -> handle:variant; attr=f:func; attr=Targuments:list(type),min=0; attr=output_types:list(type),min=1; attr=output_shapes:list(shape),min=1; attr=use_inter_op_parallelism:bool,default=true; attr=preserve_cardinality:bool,default=false; attr=force_synchronous:bool,default=false; attr=metadata:string,default=\"\"> This may be expected if your graph generating binary is newer  than this binary. Unknown attributes will be ignored. NodeDef: {{node ParallelMapDatasetV2/_14}}\n",
      "2025-04-25 16:15:01.549480: E tensorflow/core/framework/node_def_util.cc:676] NodeDef mentions attribute use_unbounded_threadpool which is not in the op definition: Op<name=MapDataset; signature=input_dataset:variant, other_arguments: -> handle:variant; attr=f:func; attr=Targuments:list(type),min=0; attr=output_types:list(type),min=1; attr=output_shapes:list(shape),min=1; attr=use_inter_op_parallelism:bool,default=true; attr=preserve_cardinality:bool,default=false; attr=force_synchronous:bool,default=false; attr=metadata:string,default=\"\"> This may be expected if your graph generating binary is newer  than this binary. Unknown attributes will be ignored. NodeDef: {{node ParallelMapDatasetV2/_14}}\n",
      "2025-04-25 16:15:01.549819: E tensorflow/core/framework/node_def_util.cc:676] NodeDef mentions attribute use_unbounded_threadpool which is not in the op definition: Op<name=MapDataset; signature=input_dataset:variant, other_arguments: -> handle:variant; attr=f:func; attr=Targuments:list(type),min=0; attr=output_types:list(type),min=1; attr=output_shapes:list(shape),min=1; attr=use_inter_op_parallelism:bool,default=true; attr=preserve_cardinality:bool,default=false; attr=force_synchronous:bool,default=false; attr=metadata:string,default=\"\"> This may be expected if your graph generating binary is newer  than this binary. Unknown attributes will be ignored. NodeDef: {{node ParallelMapDatasetV2/_14}}\n",
      " 25%|██▌       | 5/20 [35:36<1:50:46, 443.12s/it]"
     ]
    },
    {
     "name": "stdout",
     "output_type": "stream",
     "text": [
      "The average treatment effect (ATE) is 1.8052741\n",
      "Epoch 1: loss 2.4422,\tloss_y 1.6674, 1.6874, 0.0400,\tloss_eta 0.7748, 0.8154, 0.0812\n",
      "Epoch 1000: loss 0.8630,\tloss_y 0.2994, 0.6122, 0.6256,\tloss_eta 0.5636, 1.1115, 1.0958\n",
      "Warning: covariate dimension does not aligned with the specified input dimension; filling in the remaining dimension with noise.\n",
      "Warning: covariate dimension does not aligned with the specified input dimension; filling in the remaining dimension with noise.\n"
     ]
    },
    {
     "name": "stderr",
     "output_type": "stream",
     "text": [
      "[I 2025-04-25 16:15:06,960] A new study created in memory with name: tarnet_tune\n",
      "[I 2025-04-25 16:15:08,660] Trial 0 finished with value: 0.7951332926750183 and parameters: {'lr': 0.0034223377411273085, 'wd': 1.5009458726496464e-06, 'bs': 32, 'epochs': 62, 'rep1': 101, 'rep2': 182, 'head': 124, 'drop': 0.30988183368777056}. Best is trial 0 with value: 0.7951332926750183.\n",
      "[I 2025-04-25 16:15:13,210] Trial 1 finished with value: 0.8352041244506836 and parameters: {'lr': 0.0007949388697807019, 'wd': 1.1361573296553046e-05, 'bs': 32, 'epochs': 176, 'rep1': 195, 'rep2': 74, 'head': 129, 'drop': 0.4959032945164478}. Best is trial 0 with value: 0.7951332926750183.\n",
      "[I 2025-04-25 16:15:14,407] Trial 2 finished with value: 0.845313549041748 and parameters: {'lr': 0.0031043949950481133, 'wd': 5.601172702491032e-06, 'bs': 64, 'epochs': 73, 'rep1': 75, 'rep2': 128, 'head': 117, 'drop': 0.08613535806324302}. Best is trial 0 with value: 0.7951332926750183.\n",
      "[I 2025-04-25 16:15:16,815] Trial 3 finished with value: 0.8373082280158997 and parameters: {'lr': 5.638818730256111e-05, 'wd': 1.7559254717104376e-06, 'bs': 32, 'epochs': 84, 'rep1': 148, 'rep2': 174, 'head': 157, 'drop': 0.28400488314336814}. Best is trial 0 with value: 0.7951332926750183.\n",
      "[I 2025-04-25 16:15:17,404] Trial 4 finished with value: 2.3554210662841797 and parameters: {'lr': 2.9071862020100357e-05, 'wd': 2.197126409041938e-07, 'bs': 128, 'epochs': 50, 'rep1': 74, 'rep2': 192, 'head': 104, 'drop': 0.4717329420128331}. Best is trial 0 with value: 0.7951332926750183.\n",
      "[I 2025-04-25 16:15:20,700] Trial 5 finished with value: 0.8380374908447266 and parameters: {'lr': 0.0067808349756771115, 'wd': 1.9142202856228088e-07, 'bs': 64, 'epochs': 197, 'rep1': 81, 'rep2': 116, 'head': 159, 'drop': 0.1528338455273463}. Best is trial 0 with value: 0.7951332926750183.\n",
      "[I 2025-04-25 16:15:21,859] Trial 6 finished with value: 0.8173034191131592 and parameters: {'lr': 0.0003875030573734455, 'wd': 3.3207255406262747e-06, 'bs': 32, 'epochs': 51, 'rep1': 124, 'rep2': 72, 'head': 73, 'drop': 0.42826572674108626}. Best is trial 0 with value: 0.7951332926750183.\n",
      "[I 2025-04-25 16:15:24,877] Trial 7 finished with value: 0.8290699124336243 and parameters: {'lr': 0.007910094238344613, 'wd': 2.3921918842373278e-05, 'bs': 64, 'epochs': 147, 'rep1': 142, 'rep2': 195, 'head': 175, 'drop': 0.15691354484872766}. Best is trial 0 with value: 0.7951332926750183.\n",
      "[I 2025-04-25 16:15:28,016] Trial 8 finished with value: 0.8145989179611206 and parameters: {'lr': 0.00046064862936354237, 'wd': 4.994273814173089e-06, 'bs': 32, 'epochs': 121, 'rep1': 113, 'rep2': 173, 'head': 87, 'drop': 0.22265959393961832}. Best is trial 0 with value: 0.7951332926750183.\n",
      "[I 2025-04-25 16:15:30,655] Trial 9 finished with value: 0.8182231187820435 and parameters: {'lr': 0.002497448848730901, 'wd': 3.1384703949801405e-07, 'bs': 64, 'epochs': 168, 'rep1': 98, 'rep2': 150, 'head': 93, 'drop': 0.3799339059159779}. Best is trial 0 with value: 0.7951332926750183.\n",
      "[I 2025-04-25 16:15:31,815] Trial 10 finished with value: 0.8841838836669922 and parameters: {'lr': 0.00010036431620399325, 'wd': 9.01368366627674e-05, 'bs': 128, 'epochs': 114, 'rep1': 53, 'rep2': 110, 'head': 55, 'drop': 0.3137167044975684}. Best is trial 0 with value: 0.7951332926750183.\n",
      "[I 2025-04-25 16:15:35,089] Trial 11 finished with value: 0.8224031329154968 and parameters: {'lr': 0.0007796918172066992, 'wd': 1.0190252700939547e-06, 'bs': 32, 'epochs': 120, 'rep1': 112, 'rep2': 154, 'head': 137, 'drop': 0.21651071749317133}. Best is trial 0 with value: 0.7951332926750183.\n",
      "[I 2025-04-25 16:15:37,779] Trial 12 finished with value: 0.8169367909431458 and parameters: {'lr': 0.00023138358155195207, 'wd': 8.873915934311005e-07, 'bs': 32, 'epochs': 100, 'rep1': 154, 'rep2': 165, 'head': 87, 'drop': 0.35113767026526066}. Best is trial 0 with value: 0.7951332926750183.\n",
      "[I 2025-04-25 16:15:41,181] Trial 13 finished with value: 0.8491116166114807 and parameters: {'lr': 1.137262828481745e-05, 'wd': 1.0706090257551523e-05, 'bs': 32, 'epochs': 139, 'rep1': 103, 'rep2': 138, 'head': 62, 'drop': 0.2264097269909138}. Best is trial 0 with value: 0.7951332926750183.\n",
      "[I 2025-04-25 16:15:43,738] Trial 14 finished with value: 0.8235348463058472 and parameters: {'lr': 0.0011269658591088068, 'wd': 5.957499616018147e-07, 'bs': 32, 'epochs': 77, 'rep1': 177, 'rep2': 180, 'head': 195, 'drop': 0.07660358439590703}. Best is trial 0 with value: 0.7951332926750183.\n",
      "[I 2025-04-25 16:15:46,274] Trial 15 finished with value: 0.8270258903503418 and parameters: {'lr': 0.0016134089700987062, 'wd': 2.883529067848247e-06, 'bs': 32, 'epochs': 101, 'rep1': 128, 'rep2': 101, 'head': 103, 'drop': 0.002006465637154564}. Best is trial 0 with value: 0.7951332926750183.\n",
      "[I 2025-04-25 16:15:47,876] Trial 16 finished with value: 0.800797164440155 and parameters: {'lr': 0.00026147724159574973, 'wd': 2.773822887791377e-05, 'bs': 128, 'epochs': 140, 'rep1': 89, 'rep2': 167, 'head': 80, 'drop': 0.27136029161707664}. Best is trial 0 with value: 0.7951332926750183.\n",
      "[I 2025-04-25 16:15:49,696] Trial 17 finished with value: 0.8851613402366638 and parameters: {'lr': 0.00013089769472768943, 'wd': 9.379216967601197e-05, 'bs': 128, 'epochs': 145, 'rep1': 56, 'rep2': 198, 'head': 142, 'drop': 0.381857564640666}. Best is trial 0 with value: 0.7951332926750183.\n",
      "[I 2025-04-25 16:15:51,685] Trial 18 finished with value: 0.845511794090271 and parameters: {'lr': 0.00020053617651600948, 'wd': 3.3388259168753596e-05, 'bs': 128, 'epochs': 168, 'rep1': 85, 'rep2': 152, 'head': 117, 'drop': 0.28252364578876954}. Best is trial 0 with value: 0.7951332926750183.\n",
      "[I 2025-04-25 16:15:53,054] Trial 19 finished with value: 0.8222494125366211 and parameters: {'lr': 0.003301228627469628, 'wd': 2.2570284166578468e-05, 'bs': 128, 'epochs': 134, 'rep1': 95, 'rep2': 51, 'head': 73, 'drop': 0.16719371572967573}. Best is trial 0 with value: 0.7951332926750183.\n"
     ]
    },
    {
     "name": "stdout",
     "output_type": "stream",
     "text": [
      "Best params for tarnet: {'lr': 0.0034223377411273085, 'wd': 1.5009458726496464e-06, 'bs': 32, 'epochs': 62, 'rep1': 101, 'rep2': 182, 'head': 124, 'drop': 0.30988183368777056}\n"
     ]
    },
    {
     "name": "stderr",
     "output_type": "stream",
     "text": [
      "[I 2025-04-25 16:15:55,416] A new study created in memory with name: cfrnet_tune\n",
      "[I 2025-04-25 16:15:56,362] Trial 0 finished with value: 2.3302574157714844 and parameters: {'lr': 3.0210353136581206e-05, 'wd': 1.3665664010858836e-06, 'bs': 128, 'epochs': 60, 'rep1': 178, 'rep2': 102, 'head': 64, 'drop': 0.43167343261806174, 'ipm_weight': 6.701545542377019}. Best is trial 0 with value: 2.3302574157714844.\n",
      "[I 2025-04-25 16:15:59,635] Trial 1 finished with value: 0.8422677516937256 and parameters: {'lr': 0.00017764529060150424, 'wd': 1.7923391240808332e-06, 'bs': 64, 'epochs': 130, 'rep1': 126, 'rep2': 184, 'head': 173, 'drop': 0.41174917218708196, 'ipm_weight': 5.612199932804285}. Best is trial 1 with value: 0.8422677516937256.\n",
      "[I 2025-04-25 16:16:05,328] Trial 2 finished with value: 0.8054266571998596 and parameters: {'lr': 0.00027345811654936605, 'wd': 4.211177833096721e-05, 'bs': 32, 'epochs': 169, 'rep1': 93, 'rep2': 80, 'head': 167, 'drop': 0.18913165607134153, 'ipm_weight': 0.04580990128846509}. Best is trial 2 with value: 0.8054266571998596.\n",
      "[I 2025-04-25 16:16:07,180] Trial 3 finished with value: 0.7990627884864807 and parameters: {'lr': 0.00016954800793586572, 'wd': 1.3180757406951169e-05, 'bs': 64, 'epochs': 90, 'rep1': 159, 'rep2': 78, 'head': 89, 'drop': 0.07970225938179454, 'ipm_weight': 1.3858647634595642}. Best is trial 3 with value: 0.7990627884864807.\n",
      "[I 2025-04-25 16:16:13,733] Trial 4 finished with value: 0.815146267414093 and parameters: {'lr': 0.0005482160006922449, 'wd': 3.889274116343373e-06, 'bs': 32, 'epochs': 181, 'rep1': 173, 'rep2': 175, 'head': 84, 'drop': 0.34480886851287834, 'ipm_weight': 0.013713620873209709}. Best is trial 3 with value: 0.7990627884864807.\n",
      "[I 2025-04-25 16:16:18,736] Trial 5 finished with value: 0.859005868434906 and parameters: {'lr': 0.00856836380305743, 'wd': 7.1879538261590555e-06, 'bs': 32, 'epochs': 154, 'rep1': 87, 'rep2': 52, 'head': 177, 'drop': 0.2099846909639358, 'ipm_weight': 2.4957812929657965}. Best is trial 3 with value: 0.7990627884864807.\n",
      "[I 2025-04-25 16:16:23,036] Trial 6 finished with value: 0.8007570505142212 and parameters: {'lr': 6.715193166734838e-05, 'wd': 3.704716071497099e-06, 'bs': 64, 'epochs': 182, 'rep1': 104, 'rep2': 134, 'head': 153, 'drop': 0.013387136643068787, 'ipm_weight': 0.6902350974008535}. Best is trial 3 with value: 0.7990627884864807.\n",
      "[I 2025-04-25 16:16:29,311] Trial 7 finished with value: 0.8056001663208008 and parameters: {'lr': 0.00011307825740271652, 'wd': 1.2543391197206467e-06, 'bs': 32, 'epochs': 186, 'rep1': 90, 'rep2': 155, 'head': 76, 'drop': 0.14300326222656717, 'ipm_weight': 0.039308091880565645}. Best is trial 3 with value: 0.7990627884864807.\n",
      "[I 2025-04-25 16:16:31,764] Trial 8 finished with value: 0.8379814624786377 and parameters: {'lr': 0.0003728929837618537, 'wd': 6.502940629153343e-07, 'bs': 128, 'epochs': 156, 'rep1': 72, 'rep2': 83, 'head': 131, 'drop': 0.4043065404783825, 'ipm_weight': 4.324910572627938}. Best is trial 3 with value: 0.7990627884864807.\n",
      "[I 2025-04-25 16:16:35,304] Trial 9 finished with value: 0.8274694085121155 and parameters: {'lr': 0.00042881525390468816, 'wd': 2.013659481458066e-07, 'bs': 32, 'epochs': 108, 'rep1': 71, 'rep2': 131, 'head': 86, 'drop': 0.384797202808524, 'ipm_weight': 0.012637184800920106}. Best is trial 3 with value: 0.7990627884864807.\n",
      "[I 2025-04-25 16:16:36,762] Trial 10 finished with value: 1.8931628465652466 and parameters: {'lr': 1.1568209373465846e-05, 'wd': 9.870621863238443e-05, 'bs': 64, 'epochs': 70, 'rep1': 145, 'rep2': 61, 'head': 116, 'drop': 0.006401933913804572, 'ipm_weight': 0.5584371216518869}. Best is trial 3 with value: 0.7990627884864807.\n",
      "[I 2025-04-25 16:16:38,967] Trial 11 finished with value: 0.8403151631355286 and parameters: {'lr': 3.330303215448515e-05, 'wd': 1.738423527999223e-05, 'bs': 64, 'epochs': 94, 'rep1': 145, 'rep2': 126, 'head': 136, 'drop': 0.01582940386941105, 'ipm_weight': 0.6743608309026259}. Best is trial 3 with value: 0.7990627884864807.\n",
      "[I 2025-04-25 16:16:41,874] Trial 12 finished with value: 0.8218206167221069 and parameters: {'lr': 0.0025911307701889405, 'wd': 1.2202276970857649e-05, 'bs': 64, 'epochs': 125, 'rep1': 116, 'rep2': 151, 'head': 107, 'drop': 0.09575416031417992, 'ipm_weight': 1.4408480084825641}. Best is trial 3 with value: 0.7990627884864807.\n",
      "[I 2025-04-25 16:16:46,460] Trial 13 finished with value: 0.8026934266090393 and parameters: {'lr': 7.725949713249253e-05, 'wd': 2.3873114080609264e-05, 'bs': 64, 'epochs': 199, 'rep1': 156, 'rep2': 106, 'head': 147, 'drop': 0.07350114005144874, 'ipm_weight': 0.1269425800291392}. Best is trial 3 with value: 0.7990627884864807.\n",
      "[I 2025-04-25 16:16:48,346] Trial 14 finished with value: 0.7937029004096985 and parameters: {'lr': 0.001536424148255225, 'wd': 3.1116100144714286e-06, 'bs': 64, 'epochs': 84, 'rep1': 200, 'rep2': 105, 'head': 101, 'drop': 0.08654230197953175, 'ipm_weight': 0.24040708090079768}. Best is trial 14 with value: 0.7937029004096985.\n",
      "[I 2025-04-25 16:16:50,134] Trial 15 finished with value: 0.8010020852088928 and parameters: {'lr': 0.0014643098228320404, 'wd': 3.4922063631601e-07, 'bs': 64, 'epochs': 83, 'rep1': 199, 'rep2': 99, 'head': 51, 'drop': 0.2870995008615002, 'ipm_weight': 0.20004025903228442}. Best is trial 14 with value: 0.7937029004096985.\n",
      "[I 2025-04-25 16:16:51,224] Trial 16 finished with value: 0.8325623273849487 and parameters: {'lr': 0.0012262435630579001, 'wd': 6.656152892534645e-06, 'bs': 64, 'epochs': 50, 'rep1': 198, 'rep2': 80, 'head': 105, 'drop': 0.10417420659859918, 'ipm_weight': 1.4872630903526147}. Best is trial 14 with value: 0.7937029004096985.\n",
      "[I 2025-04-25 16:16:52,982] Trial 17 finished with value: 0.8208461999893188 and parameters: {'lr': 0.004682072530868615, 'wd': 1.0235256875584946e-07, 'bs': 128, 'epochs': 101, 'rep1': 177, 'rep2': 66, 'head': 195, 'drop': 0.2831845208556316, 'ipm_weight': 0.09788321221742857}. Best is trial 14 with value: 0.7937029004096985.\n",
      "[I 2025-04-25 16:16:54,805] Trial 18 finished with value: 0.8131484389305115 and parameters: {'lr': 0.0011853417697093914, 'wd': 4.700368678679172e-05, 'bs': 64, 'epochs': 82, 'rep1': 163, 'rep2': 110, 'head': 98, 'drop': 0.48795070205360286, 'ipm_weight': 0.252143197609247}. Best is trial 14 with value: 0.7937029004096985.\n",
      "[I 2025-04-25 16:16:57,464] Trial 19 finished with value: 0.8051279187202454 and parameters: {'lr': 0.0008156191449180951, 'wd': 7.86389754825281e-06, 'bs': 64, 'epochs': 119, 'rep1': 190, 'rep2': 89, 'head': 122, 'drop': 0.16784330313262755, 'ipm_weight': 0.44484786326783804}. Best is trial 14 with value: 0.7937029004096985.\n"
     ]
    },
    {
     "name": "stdout",
     "output_type": "stream",
     "text": [
      "Best params for cfrnet: {'lr': 0.001536424148255225, 'wd': 3.1116100144714286e-06, 'bs': 64, 'epochs': 84, 'rep1': 200, 'rep2': 105, 'head': 101, 'drop': 0.08654230197953175, 'ipm_weight': 0.24040708090079768}\n"
     ]
    },
    {
     "name": "stderr",
     "output_type": "stream",
     "text": [
      "[I 2025-04-25 16:17:00,107] A new study created in memory with name: cevae_tune\n",
      "INFO \t Training with 8 minibatches per epoch\n",
      "[I 2025-04-25 16:17:08,474] Trial 0 finished with value: 33.61634436035156 and parameters: {'lr': 0.0014609966844419547, 'wd': 1.2021056360766675e-07, 'bs': 128, 'epochs': 127, 'latent_dim': 79, 'hidden_dim': 138, 'num_layers': 4, 'num_samples': 10}. Best is trial 0 with value: 33.61634436035156.\n",
      "INFO \t Training with 8 minibatches per epoch\n",
      "[I 2025-04-25 16:17:15,240] Trial 1 finished with value: 28.19489727783203 and parameters: {'lr': 0.0004884560555155418, 'wd': 6.603465705577309e-06, 'bs': 128, 'epochs': 120, 'latent_dim': 13, 'hidden_dim': 110, 'num_layers': 4, 'num_samples': 200}. Best is trial 1 with value: 28.19489727783203.\n",
      "INFO \t Training with 16 minibatches per epoch\n",
      "[I 2025-04-25 16:17:25,596] Trial 2 finished with value: 35.6038804321289 and parameters: {'lr': 6.646348681165718e-05, 'wd': 5.206488787846745e-05, 'bs': 64, 'epochs': 118, 'latent_dim': 64, 'hidden_dim': 151, 'num_layers': 3, 'num_samples': 10}. Best is trial 1 with value: 28.19489727783203.\n",
      "INFO \t Training with 16 minibatches per epoch\n",
      "[I 2025-04-25 16:17:43,316] Trial 3 finished with value: 29.003016845703126 and parameters: {'lr': 4.2740810537056304e-05, 'wd': 1.916932409998649e-06, 'bs': 64, 'epochs': 167, 'latent_dim': 31, 'hidden_dim': 310, 'num_layers': 3, 'num_samples': 200}. Best is trial 1 with value: 28.19489727783203.\n",
      "INFO \t Training with 32 minibatches per epoch\n",
      "[I 2025-04-25 16:18:22,324] Trial 4 finished with value: 30.242955017089844 and parameters: {'lr': 0.00035225205349838004, 'wd': 5.847630979986236e-07, 'bs': 32, 'epochs': 125, 'latent_dim': 69, 'hidden_dim': 348, 'num_layers': 5, 'num_samples': 10}. Best is trial 1 with value: 28.19489727783203.\n",
      "INFO \t Training with 32 minibatches per epoch\n",
      "[I 2025-04-25 16:19:03,111] Trial 5 finished with value: 50.57590118408203 and parameters: {'lr': 0.003969839558959736, 'wd': 1.4345721562501437e-05, 'bs': 32, 'epochs': 149, 'latent_dim': 171, 'hidden_dim': 352, 'num_layers': 5, 'num_samples': 10}. Best is trial 1 with value: 28.19489727783203.\n",
      "INFO \t Training with 8 minibatches per epoch\n",
      "[I 2025-04-25 16:19:13,036] Trial 6 finished with value: 47.44842364501953 and parameters: {'lr': 1.2043710945069202e-05, 'wd': 7.746299557741371e-06, 'bs': 128, 'epochs': 196, 'latent_dim': 173, 'hidden_dim': 36, 'num_layers': 4, 'num_samples': 10}. Best is trial 1 with value: 28.19489727783203.\n",
      "INFO \t Training with 32 minibatches per epoch\n",
      "[I 2025-04-25 16:19:26,946] Trial 7 finished with value: 35.97925030517578 and parameters: {'lr': 0.0008980026462773561, 'wd': 4.1149229586824504e-07, 'bs': 32, 'epochs': 88, 'latent_dim': 116, 'hidden_dim': 87, 'num_layers': 4, 'num_samples': 10}. Best is trial 1 with value: 28.19489727783203.\n",
      "INFO \t Training with 8 minibatches per epoch\n",
      "[I 2025-04-25 16:19:31,075] Trial 8 finished with value: 43.44360906982422 and parameters: {'lr': 0.00014175579422308677, 'wd': 2.686269722454815e-07, 'bs': 128, 'epochs': 71, 'latent_dim': 136, 'hidden_dim': 250, 'num_layers': 3, 'num_samples': 100}. Best is trial 1 with value: 28.19489727783203.\n",
      "INFO \t Training with 16 minibatches per epoch\n",
      "[I 2025-04-25 16:19:44,243] Trial 9 finished with value: 41.306456604003905 and parameters: {'lr': 0.0003154244228006493, 'wd': 1.3322828643818255e-06, 'bs': 64, 'epochs': 83, 'latent_dim': 108, 'hidden_dim': 353, 'num_layers': 5, 'num_samples': 50}. Best is trial 1 with value: 28.19489727783203.\n",
      "INFO \t Training with 8 minibatches per epoch\n",
      "[I 2025-04-25 16:19:46,229] Trial 10 finished with value: 28.69178643798828 and parameters: {'lr': 0.006762688594356162, 'wd': 8.512608776718112e-05, 'bs': 128, 'epochs': 52, 'latent_dim': 13, 'hidden_dim': 221, 'num_layers': 2, 'num_samples': 200}. Best is trial 1 with value: 28.19489727783203.\n",
      "INFO \t Training with 8 minibatches per epoch\n",
      "[I 2025-04-25 16:19:48,301] Trial 11 finished with value: 28.78579718017578 and parameters: {'lr': 0.008740038644787684, 'wd': 6.817500204652762e-05, 'bs': 128, 'epochs': 55, 'latent_dim': 12, 'hidden_dim': 215, 'num_layers': 2, 'num_samples': 200}. Best is trial 1 with value: 28.19489727783203.\n",
      "INFO \t Training with 8 minibatches per epoch\n",
      "[I 2025-04-25 16:19:51,952] Trial 12 finished with value: 34.54363311767578 and parameters: {'lr': 0.002369603757995905, 'wd': 1.6878569464546566e-05, 'bs': 128, 'epochs': 101, 'latent_dim': 37, 'hidden_dim': 150, 'num_layers': 2, 'num_samples': 200}. Best is trial 1 with value: 28.19489727783203.\n",
      "INFO \t Training with 8 minibatches per epoch\n",
      "[I 2025-04-25 16:19:54,045] Trial 13 finished with value: 31.548791259765625 and parameters: {'lr': 0.007903169541536307, 'wd': 6.504377761851118e-06, 'bs': 128, 'epochs': 53, 'latent_dim': 18, 'hidden_dim': 266, 'num_layers': 2, 'num_samples': 200}. Best is trial 1 with value: 28.19489727783203.\n",
      "INFO \t Training with 8 minibatches per epoch\n",
      "[I 2025-04-25 16:20:01,691] Trial 14 finished with value: 30.788242126464844 and parameters: {'lr': 0.0004867980053441461, 'wd': 9.237537571650551e-05, 'bs': 128, 'epochs': 159, 'latent_dim': 48, 'hidden_dim': 191, 'num_layers': 3, 'num_samples': 200}. Best is trial 1 with value: 28.19489727783203.\n",
      "INFO \t Training with 8 minibatches per epoch\n",
      "[I 2025-04-25 16:20:11,066] Trial 15 finished with value: 26.9102236328125 and parameters: {'lr': 0.0037753217809897537, 'wd': 2.4812280333305376e-05, 'bs': 128, 'epochs': 196, 'latent_dim': 10, 'hidden_dim': 80, 'num_layers': 4, 'num_samples': 50}. Best is trial 15 with value: 26.9102236328125.\n",
      "INFO \t Training with 8 minibatches per epoch\n",
      "[I 2025-04-25 16:20:21,449] Trial 16 finished with value: 41.546668884277345 and parameters: {'lr': 0.0009816178539867762, 'wd': 2.7675023774536276e-05, 'bs': 128, 'epochs': 195, 'latent_dim': 88, 'hidden_dim': 23, 'num_layers': 4, 'num_samples': 50}. Best is trial 15 with value: 26.9102236328125.\n",
      "INFO \t Training with 8 minibatches per epoch\n",
      "[I 2025-04-25 16:20:31,104] Trial 17 finished with value: 49.84154168701172 and parameters: {'lr': 0.002678608125415164, 'wd': 4.361585422025184e-06, 'bs': 128, 'epochs': 146, 'latent_dim': 200, 'hidden_dim': 88, 'num_layers': 4, 'num_samples': 50}. Best is trial 15 with value: 26.9102236328125.\n",
      "INFO \t Training with 32 minibatches per epoch\n",
      "[I 2025-04-25 16:21:05,835] Trial 18 finished with value: 34.09207818603516 and parameters: {'lr': 0.00013988477341257617, 'wd': 2.5604261319757944e-05, 'bs': 32, 'epochs': 182, 'latent_dim': 50, 'hidden_dim': 82, 'num_layers': 5, 'num_samples': 100}. Best is trial 15 with value: 26.9102236328125.\n",
      "INFO \t Training with 16 minibatches per epoch\n",
      "[I 2025-04-25 16:21:14,700] Trial 19 finished with value: 30.77899060058594 and parameters: {'lr': 0.0007516456470579173, 'wd': 2.443768021294703e-06, 'bs': 64, 'epochs': 108, 'latent_dim': 31, 'hidden_dim': 117, 'num_layers': 4, 'num_samples': 50}. Best is trial 15 with value: 26.9102236328125.\n",
      "INFO \t Training with 11 minibatches per epoch\n"
     ]
    },
    {
     "name": "stdout",
     "output_type": "stream",
     "text": [
      "Best params for cevae: {'lr': 0.0037753217809897537, 'wd': 2.4812280333305376e-05, 'bs': 128, 'epochs': 196, 'latent_dim': 10, 'hidden_dim': 80, 'num_layers': 4, 'num_samples': 50}\n"
     ]
    },
    {
     "name": "stderr",
     "output_type": "stream",
     "text": [
      "INFO \t Evaluating 1 minibatches\n",
      "[I 2025-04-25 16:21:26,598] A new study created in memory with name: dragonnet_tune\n",
      "[I 2025-04-25 16:21:28,128] Trial 0 finished with value: 0.31154248118400574 and parameters: {'lr': 8.898823779210125e-05, 'wd': 1.0630117787061903e-07, 'bs': 32, 'epochs': 56, 'shared_hidden': 113, 'outcome_hidden': 143}. Best is trial 0 with value: 0.31154248118400574.\n",
      "[I 2025-04-25 16:21:30,037] Trial 1 finished with value: 0.2972985506057739 and parameters: {'lr': 0.007921453322429859, 'wd': 3.072394584879721e-06, 'bs': 32, 'epochs': 72, 'shared_hidden': 101, 'outcome_hidden': 112}. Best is trial 1 with value: 0.2972985506057739.\n",
      "[I 2025-04-25 16:21:32,037] Trial 2 finished with value: 0.29816800355911255 and parameters: {'lr': 0.00018713007979511337, 'wd': 1.5162708963614789e-07, 'bs': 128, 'epochs': 152, 'shared_hidden': 200, 'outcome_hidden': 185}. Best is trial 1 with value: 0.2972985506057739.\n",
      "[I 2025-04-25 16:21:34,908] Trial 3 finished with value: 0.3000927269458771 and parameters: {'lr': 6.356262673810208e-05, 'wd': 5.343521061782276e-06, 'bs': 64, 'epochs': 187, 'shared_hidden': 141, 'outcome_hidden': 67}. Best is trial 1 with value: 0.2972985506057739.\n",
      "[I 2025-04-25 16:21:37,114] Trial 4 finished with value: 0.28968119621276855 and parameters: {'lr': 3.699714956917666e-05, 'wd': 3.798131766287536e-06, 'bs': 128, 'epochs': 193, 'shared_hidden': 69, 'outcome_hidden': 179}. Best is trial 4 with value: 0.28968119621276855.\n",
      "[I 2025-04-25 16:21:40,185] Trial 5 finished with value: 0.30645298957824707 and parameters: {'lr': 0.0008435761677609032, 'wd': 5.169464192412211e-05, 'bs': 64, 'epochs': 170, 'shared_hidden': 165, 'outcome_hidden': 126}. Best is trial 4 with value: 0.28968119621276855.\n",
      "[I 2025-04-25 16:21:41,200] Trial 6 finished with value: 0.3164733350276947 and parameters: {'lr': 6.970028157660257e-05, 'wd': 1.9422456188541254e-07, 'bs': 64, 'epochs': 54, 'shared_hidden': 187, 'outcome_hidden': 107}. Best is trial 4 with value: 0.28968119621276855.\n",
      "[I 2025-04-25 16:21:43,076] Trial 7 finished with value: 0.3021000325679779 and parameters: {'lr': 0.0047248396574337435, 'wd': 2.613548553370667e-07, 'bs': 64, 'epochs': 108, 'shared_hidden': 188, 'outcome_hidden': 105}. Best is trial 4 with value: 0.28968119621276855.\n",
      "[I 2025-04-25 16:21:48,797] Trial 8 finished with value: 0.30161920189857483 and parameters: {'lr': 2.538786608543281e-05, 'wd': 8.09581837675945e-06, 'bs': 32, 'epochs': 172, 'shared_hidden': 141, 'outcome_hidden': 199}. Best is trial 4 with value: 0.28968119621276855.\n",
      "[I 2025-04-25 16:21:51,456] Trial 9 finished with value: 0.3070544898509979 and parameters: {'lr': 0.002096106828898022, 'wd': 1.5866747664161953e-06, 'bs': 64, 'epochs': 137, 'shared_hidden': 189, 'outcome_hidden': 165}. Best is trial 4 with value: 0.28968119621276855.\n",
      "[I 2025-04-25 16:21:53,626] Trial 10 finished with value: 0.6972048878669739 and parameters: {'lr': 1.0423017642134415e-05, 'wd': 3.0365291769412922e-05, 'bs': 128, 'epochs': 197, 'shared_hidden': 55, 'outcome_hidden': 157}. Best is trial 4 with value: 0.28968119621276855.\n",
      "[I 2025-04-25 16:21:55,840] Trial 11 finished with value: 0.3087227940559387 and parameters: {'lr': 0.0005439224109555359, 'wd': 1.281830223675689e-06, 'bs': 32, 'epochs': 92, 'shared_hidden': 78, 'outcome_hidden': 72}. Best is trial 4 with value: 0.28968119621276855.\n",
      "[I 2025-04-25 16:21:56,759] Trial 12 finished with value: 0.30216214060783386 and parameters: {'lr': 0.007496793893999507, 'wd': 1.4435475072571104e-05, 'bs': 128, 'epochs': 84, 'shared_hidden': 94, 'outcome_hidden': 96}. Best is trial 4 with value: 0.28968119621276855.\n",
      "[I 2025-04-25 16:21:58,235] Trial 13 finished with value: 0.3033139109611511 and parameters: {'lr': 0.00149839319512453, 'wd': 2.030883705553287e-06, 'bs': 128, 'epochs': 123, 'shared_hidden': 53, 'outcome_hidden': 132}. Best is trial 4 with value: 0.28968119621276855.\n",
      "[W 2025-04-25 16:21:58,836] Trial 14 failed with parameters: {'lr': 0.00025313600475795683, 'wd': 7.802205614512389e-07, 'bs': 32, 'epochs': 78, 'shared_hidden': 82, 'outcome_hidden': 172} because of the following error: KeyboardInterrupt().\n",
      "Traceback (most recent call last):\n",
      "  File \"/opt/anaconda3/lib/python3.11/site-packages/optuna/study/_optimize.py\", line 197, in _run_trial\n",
      "    value_or_values = func(trial)\n",
      "                      ^^^^^^^^^^^\n",
      "  File \"/var/folders/34/4pny9pxj7z31glf0phhx3b280000gn/T/ipykernel_9623/1147190501.py\", line 47, in objective\n",
      "    return trainer.fit(X_train, t_train, y_train, X_val, t_val, y_val,\n",
      "           ^^^^^^^^^^^^^^^^^^^^^^^^^^^^^^^^^^^^^^^^^^^^^^^^^^^^^^^^^^^\n",
      "  File \"/Users/linyingyang/Documents/Project/frengression/frengression/paper_exp/models.py\", line 202, in fit\n",
      "    optimizer.step()\n",
      "  File \"/opt/anaconda3/lib/python3.11/site-packages/torch/optim/optimizer.py\", line 487, in wrapper\n",
      "    out = func(*args, **kwargs)\n",
      "          ^^^^^^^^^^^^^^^^^^^^^\n",
      "  File \"/opt/anaconda3/lib/python3.11/site-packages/torch/optim/optimizer.py\", line 91, in _use_grad\n",
      "    ret = func(self, *args, **kwargs)\n",
      "          ^^^^^^^^^^^^^^^^^^^^^^^^^^^\n",
      "  File \"/opt/anaconda3/lib/python3.11/site-packages/torch/optim/adam.py\", line 223, in step\n",
      "    adam(\n",
      "  File \"/opt/anaconda3/lib/python3.11/site-packages/torch/optim/optimizer.py\", line 154, in maybe_fallback\n",
      "    return func(*args, **kwargs)\n",
      "           ^^^^^^^^^^^^^^^^^^^^^\n",
      "  File \"/opt/anaconda3/lib/python3.11/site-packages/torch/optim/adam.py\", line 784, in adam\n",
      "    func(\n",
      "  File \"/opt/anaconda3/lib/python3.11/site-packages/torch/optim/adam.py\", line 430, in _single_tensor_adam\n",
      "    denom = (exp_avg_sq.sqrt() / bias_correction2_sqrt).add_(eps)\n",
      "             ^^^^^^^^^^^^^^^^^\n",
      "KeyboardInterrupt\n",
      "[W 2025-04-25 16:21:58,837] Trial 14 failed with value None.\n",
      " 25%|██▌       | 5/20 [42:33<2:07:39, 510.66s/it]\n"
     ]
    },
    {
     "ename": "KeyboardInterrupt",
     "evalue": "",
     "output_type": "error",
     "traceback": [
      "\u001b[0;31m---------------------------------------------------------------------------\u001b[0m",
      "\u001b[0;31mKeyboardInterrupt\u001b[0m                         Traceback (most recent call last)",
      "Cell \u001b[0;32mIn[14], line 82\u001b[0m\n\u001b[1;32m     80\u001b[0m ate_cfrnet \u001b[38;5;241m=\u001b[39m tune_and_eval(\u001b[38;5;124m\"\u001b[39m\u001b[38;5;124mcfrnet\u001b[39m\u001b[38;5;124m\"\u001b[39m, z_tr_np, x_tr_np, y_tr_np, z_val_np, x_val_np, y_val_np, z_te_np, x_te_np, y_te_np)\u001b[38;5;241m.\u001b[39mmean()\n\u001b[1;32m     81\u001b[0m ate_cevae \u001b[38;5;241m=\u001b[39m tune_and_eval(\u001b[38;5;124m\"\u001b[39m\u001b[38;5;124mcevae\u001b[39m\u001b[38;5;124m\"\u001b[39m, z_tr_np, x_tr_np, y_tr_np, z_val_np, x_val_np, y_val_np, z_te_np, x_te_np, y_te_np)\u001b[38;5;241m.\u001b[39mmean()\n\u001b[0;32m---> 82\u001b[0m ate_dragonnet \u001b[38;5;241m=\u001b[39m tune_and_eval(\u001b[38;5;124m\"\u001b[39m\u001b[38;5;124mdragonnet\u001b[39m\u001b[38;5;124m\"\u001b[39m, z_tr_np, x_tr_np, y_tr_np, z_val_np, x_val_np, y_val_np, z_te_np, x_te_np, y_te_np)\u001b[38;5;241m.\u001b[39mmean()\n\u001b[1;32m     85\u001b[0m cegm_params \u001b[38;5;241m=\u001b[39m {\u001b[38;5;124m'\u001b[39m\u001b[38;5;124mdataset\u001b[39m\u001b[38;5;124m'\u001b[39m: \u001b[38;5;124m'\u001b[39m\u001b[38;5;124mSemi_acic\u001b[39m\u001b[38;5;124m'\u001b[39m, \n\u001b[1;32m     86\u001b[0m                 \u001b[38;5;124m'\u001b[39m\u001b[38;5;124moutput_dir\u001b[39m\u001b[38;5;124m'\u001b[39m: \u001b[38;5;124m'\u001b[39m\u001b[38;5;124m.\u001b[39m\u001b[38;5;124m'\u001b[39m, \n\u001b[1;32m     87\u001b[0m                 \u001b[38;5;124m'\u001b[39m\u001b[38;5;124mv_dim\u001b[39m\u001b[38;5;124m'\u001b[39m: z_tr\u001b[38;5;241m.\u001b[39mshape[\u001b[38;5;241m1\u001b[39m], \n\u001b[0;32m   (...)\u001b[0m\n\u001b[1;32m     98\u001b[0m                 \u001b[38;5;124m'\u001b[39m\u001b[38;5;124mdz_units\u001b[39m\u001b[38;5;124m'\u001b[39m: [\u001b[38;5;241m64\u001b[39m, \u001b[38;5;241m32\u001b[39m, \u001b[38;5;241m8\u001b[39m], \n\u001b[1;32m     99\u001b[0m                 \u001b[38;5;124m'\u001b[39m\u001b[38;5;124mdv_units\u001b[39m\u001b[38;5;124m'\u001b[39m: [\u001b[38;5;241m64\u001b[39m, \u001b[38;5;241m32\u001b[39m, \u001b[38;5;241m8\u001b[39m], \u001b[38;5;124m'\u001b[39m\u001b[38;5;124msave_res\u001b[39m\u001b[38;5;124m'\u001b[39m: \u001b[38;5;28;01mFalse\u001b[39;00m, \u001b[38;5;124m'\u001b[39m\u001b[38;5;124msave_model\u001b[39m\u001b[38;5;124m'\u001b[39m: \u001b[38;5;28;01mFalse\u001b[39;00m, \u001b[38;5;124m'\u001b[39m\u001b[38;5;124mbinary_treatment\u001b[39m\u001b[38;5;124m'\u001b[39m: \u001b[38;5;28;01mTrue\u001b[39;00m, \u001b[38;5;124m'\u001b[39m\u001b[38;5;124muse_z_rec\u001b[39m\u001b[38;5;124m'\u001b[39m: \u001b[38;5;28;01mTrue\u001b[39;00m, \u001b[38;5;124m'\u001b[39m\u001b[38;5;124muse_v_gan\u001b[39m\u001b[38;5;124m'\u001b[39m: \u001b[38;5;28;01mTrue\u001b[39;00m}\n\u001b[1;32m    100\u001b[0m egm_model \u001b[38;5;241m=\u001b[39m cegm\u001b[38;5;241m.\u001b[39mCausalEGM(params\u001b[38;5;241m=\u001b[39mcegm_params, random_seed\u001b[38;5;241m=\u001b[39m\u001b[38;5;241m42\u001b[39m)\n",
      "Cell \u001b[0;32mIn[10], line 51\u001b[0m, in \u001b[0;36mtune_and_eval\u001b[0;34m(model_name, X_train, t_train, y_train, X_val, t_val, y_val, X_test, t_test, y_test, n_trials)\u001b[0m\n\u001b[1;32m     47\u001b[0m     \u001b[38;5;28;01mreturn\u001b[39;00m trainer\u001b[38;5;241m.\u001b[39mfit(X_train, t_train, y_train, X_val, t_val, y_val,\n\u001b[1;32m     48\u001b[0m                         lr\u001b[38;5;241m=\u001b[39mlr, weight_decay\u001b[38;5;241m=\u001b[39mwd, batch_size\u001b[38;5;241m=\u001b[39mbs, epochs\u001b[38;5;241m=\u001b[39mepochs)\n\u001b[1;32m     50\u001b[0m study \u001b[38;5;241m=\u001b[39m optuna\u001b[38;5;241m.\u001b[39mcreate_study(direction\u001b[38;5;241m=\u001b[39m\u001b[38;5;124m\"\u001b[39m\u001b[38;5;124mminimize\u001b[39m\u001b[38;5;124m\"\u001b[39m, study_name\u001b[38;5;241m=\u001b[39m\u001b[38;5;124mf\u001b[39m\u001b[38;5;124m\"\u001b[39m\u001b[38;5;132;01m{\u001b[39;00mmodel_name\u001b[38;5;132;01m}\u001b[39;00m\u001b[38;5;124m_tune\u001b[39m\u001b[38;5;124m\"\u001b[39m)\n\u001b[0;32m---> 51\u001b[0m study\u001b[38;5;241m.\u001b[39moptimize(objective, n_trials\u001b[38;5;241m=\u001b[39mn_trials)\n\u001b[1;32m     52\u001b[0m best \u001b[38;5;241m=\u001b[39m study\u001b[38;5;241m.\u001b[39mbest_params\n\u001b[1;32m     53\u001b[0m \u001b[38;5;28mprint\u001b[39m(\u001b[38;5;124mf\u001b[39m\u001b[38;5;124m\"\u001b[39m\u001b[38;5;124mBest params for \u001b[39m\u001b[38;5;132;01m{\u001b[39;00mmodel_name\u001b[38;5;132;01m}\u001b[39;00m\u001b[38;5;124m: \u001b[39m\u001b[38;5;132;01m{\u001b[39;00mbest\u001b[38;5;132;01m}\u001b[39;00m\u001b[38;5;124m\"\u001b[39m)\n",
      "File \u001b[0;32m/opt/anaconda3/lib/python3.11/site-packages/optuna/study/study.py:475\u001b[0m, in \u001b[0;36mStudy.optimize\u001b[0;34m(self, func, n_trials, timeout, n_jobs, catch, callbacks, gc_after_trial, show_progress_bar)\u001b[0m\n\u001b[1;32m    373\u001b[0m \u001b[38;5;28;01mdef\u001b[39;00m \u001b[38;5;21moptimize\u001b[39m(\n\u001b[1;32m    374\u001b[0m     \u001b[38;5;28mself\u001b[39m,\n\u001b[1;32m    375\u001b[0m     func: ObjectiveFuncType,\n\u001b[0;32m   (...)\u001b[0m\n\u001b[1;32m    382\u001b[0m     show_progress_bar: \u001b[38;5;28mbool\u001b[39m \u001b[38;5;241m=\u001b[39m \u001b[38;5;28;01mFalse\u001b[39;00m,\n\u001b[1;32m    383\u001b[0m ) \u001b[38;5;241m-\u001b[39m\u001b[38;5;241m>\u001b[39m \u001b[38;5;28;01mNone\u001b[39;00m:\n\u001b[1;32m    384\u001b[0m \u001b[38;5;250m    \u001b[39m\u001b[38;5;124;03m\"\"\"Optimize an objective function.\u001b[39;00m\n\u001b[1;32m    385\u001b[0m \n\u001b[1;32m    386\u001b[0m \u001b[38;5;124;03m    Optimization is done by choosing a suitable set of hyperparameter values from a given\u001b[39;00m\n\u001b[0;32m   (...)\u001b[0m\n\u001b[1;32m    473\u001b[0m \u001b[38;5;124;03m            If nested invocation of this method occurs.\u001b[39;00m\n\u001b[1;32m    474\u001b[0m \u001b[38;5;124;03m    \"\"\"\u001b[39;00m\n\u001b[0;32m--> 475\u001b[0m     _optimize(\n\u001b[1;32m    476\u001b[0m         study\u001b[38;5;241m=\u001b[39m\u001b[38;5;28mself\u001b[39m,\n\u001b[1;32m    477\u001b[0m         func\u001b[38;5;241m=\u001b[39mfunc,\n\u001b[1;32m    478\u001b[0m         n_trials\u001b[38;5;241m=\u001b[39mn_trials,\n\u001b[1;32m    479\u001b[0m         timeout\u001b[38;5;241m=\u001b[39mtimeout,\n\u001b[1;32m    480\u001b[0m         n_jobs\u001b[38;5;241m=\u001b[39mn_jobs,\n\u001b[1;32m    481\u001b[0m         catch\u001b[38;5;241m=\u001b[39m\u001b[38;5;28mtuple\u001b[39m(catch) \u001b[38;5;28;01mif\u001b[39;00m \u001b[38;5;28misinstance\u001b[39m(catch, Iterable) \u001b[38;5;28;01melse\u001b[39;00m (catch,),\n\u001b[1;32m    482\u001b[0m         callbacks\u001b[38;5;241m=\u001b[39mcallbacks,\n\u001b[1;32m    483\u001b[0m         gc_after_trial\u001b[38;5;241m=\u001b[39mgc_after_trial,\n\u001b[1;32m    484\u001b[0m         show_progress_bar\u001b[38;5;241m=\u001b[39mshow_progress_bar,\n\u001b[1;32m    485\u001b[0m     )\n",
      "File \u001b[0;32m/opt/anaconda3/lib/python3.11/site-packages/optuna/study/_optimize.py:63\u001b[0m, in \u001b[0;36m_optimize\u001b[0;34m(study, func, n_trials, timeout, n_jobs, catch, callbacks, gc_after_trial, show_progress_bar)\u001b[0m\n\u001b[1;32m     61\u001b[0m \u001b[38;5;28;01mtry\u001b[39;00m:\n\u001b[1;32m     62\u001b[0m     \u001b[38;5;28;01mif\u001b[39;00m n_jobs \u001b[38;5;241m==\u001b[39m \u001b[38;5;241m1\u001b[39m:\n\u001b[0;32m---> 63\u001b[0m         _optimize_sequential(\n\u001b[1;32m     64\u001b[0m             study,\n\u001b[1;32m     65\u001b[0m             func,\n\u001b[1;32m     66\u001b[0m             n_trials,\n\u001b[1;32m     67\u001b[0m             timeout,\n\u001b[1;32m     68\u001b[0m             catch,\n\u001b[1;32m     69\u001b[0m             callbacks,\n\u001b[1;32m     70\u001b[0m             gc_after_trial,\n\u001b[1;32m     71\u001b[0m             reseed_sampler_rng\u001b[38;5;241m=\u001b[39m\u001b[38;5;28;01mFalse\u001b[39;00m,\n\u001b[1;32m     72\u001b[0m             time_start\u001b[38;5;241m=\u001b[39m\u001b[38;5;28;01mNone\u001b[39;00m,\n\u001b[1;32m     73\u001b[0m             progress_bar\u001b[38;5;241m=\u001b[39mprogress_bar,\n\u001b[1;32m     74\u001b[0m         )\n\u001b[1;32m     75\u001b[0m     \u001b[38;5;28;01melse\u001b[39;00m:\n\u001b[1;32m     76\u001b[0m         \u001b[38;5;28;01mif\u001b[39;00m n_jobs \u001b[38;5;241m==\u001b[39m \u001b[38;5;241m-\u001b[39m\u001b[38;5;241m1\u001b[39m:\n",
      "File \u001b[0;32m/opt/anaconda3/lib/python3.11/site-packages/optuna/study/_optimize.py:160\u001b[0m, in \u001b[0;36m_optimize_sequential\u001b[0;34m(study, func, n_trials, timeout, catch, callbacks, gc_after_trial, reseed_sampler_rng, time_start, progress_bar)\u001b[0m\n\u001b[1;32m    157\u001b[0m         \u001b[38;5;28;01mbreak\u001b[39;00m\n\u001b[1;32m    159\u001b[0m \u001b[38;5;28;01mtry\u001b[39;00m:\n\u001b[0;32m--> 160\u001b[0m     frozen_trial \u001b[38;5;241m=\u001b[39m _run_trial(study, func, catch)\n\u001b[1;32m    161\u001b[0m \u001b[38;5;28;01mfinally\u001b[39;00m:\n\u001b[1;32m    162\u001b[0m     \u001b[38;5;66;03m# The following line mitigates memory problems that can be occurred in some\u001b[39;00m\n\u001b[1;32m    163\u001b[0m     \u001b[38;5;66;03m# environments (e.g., services that use computing containers such as GitHub Actions).\u001b[39;00m\n\u001b[1;32m    164\u001b[0m     \u001b[38;5;66;03m# Please refer to the following PR for further details:\u001b[39;00m\n\u001b[1;32m    165\u001b[0m     \u001b[38;5;66;03m# https://github.com/optuna/optuna/pull/325.\u001b[39;00m\n\u001b[1;32m    166\u001b[0m     \u001b[38;5;28;01mif\u001b[39;00m gc_after_trial:\n",
      "File \u001b[0;32m/opt/anaconda3/lib/python3.11/site-packages/optuna/study/_optimize.py:248\u001b[0m, in \u001b[0;36m_run_trial\u001b[0;34m(study, func, catch)\u001b[0m\n\u001b[1;32m    241\u001b[0m         \u001b[38;5;28;01massert\u001b[39;00m \u001b[38;5;28;01mFalse\u001b[39;00m, \u001b[38;5;124m\"\u001b[39m\u001b[38;5;124mShould not reach.\u001b[39m\u001b[38;5;124m\"\u001b[39m\n\u001b[1;32m    243\u001b[0m \u001b[38;5;28;01mif\u001b[39;00m (\n\u001b[1;32m    244\u001b[0m     frozen_trial\u001b[38;5;241m.\u001b[39mstate \u001b[38;5;241m==\u001b[39m TrialState\u001b[38;5;241m.\u001b[39mFAIL\n\u001b[1;32m    245\u001b[0m     \u001b[38;5;129;01mand\u001b[39;00m func_err \u001b[38;5;129;01mis\u001b[39;00m \u001b[38;5;129;01mnot\u001b[39;00m \u001b[38;5;28;01mNone\u001b[39;00m\n\u001b[1;32m    246\u001b[0m     \u001b[38;5;129;01mand\u001b[39;00m \u001b[38;5;129;01mnot\u001b[39;00m \u001b[38;5;28misinstance\u001b[39m(func_err, catch)\n\u001b[1;32m    247\u001b[0m ):\n\u001b[0;32m--> 248\u001b[0m     \u001b[38;5;28;01mraise\u001b[39;00m func_err\n\u001b[1;32m    249\u001b[0m \u001b[38;5;28;01mreturn\u001b[39;00m frozen_trial\n",
      "File \u001b[0;32m/opt/anaconda3/lib/python3.11/site-packages/optuna/study/_optimize.py:197\u001b[0m, in \u001b[0;36m_run_trial\u001b[0;34m(study, func, catch)\u001b[0m\n\u001b[1;32m    195\u001b[0m \u001b[38;5;28;01mwith\u001b[39;00m get_heartbeat_thread(trial\u001b[38;5;241m.\u001b[39m_trial_id, study\u001b[38;5;241m.\u001b[39m_storage):\n\u001b[1;32m    196\u001b[0m     \u001b[38;5;28;01mtry\u001b[39;00m:\n\u001b[0;32m--> 197\u001b[0m         value_or_values \u001b[38;5;241m=\u001b[39m func(trial)\n\u001b[1;32m    198\u001b[0m     \u001b[38;5;28;01mexcept\u001b[39;00m exceptions\u001b[38;5;241m.\u001b[39mTrialPruned \u001b[38;5;28;01mas\u001b[39;00m e:\n\u001b[1;32m    199\u001b[0m         \u001b[38;5;66;03m# TODO(mamu): Handle multi-objective cases.\u001b[39;00m\n\u001b[1;32m    200\u001b[0m         state \u001b[38;5;241m=\u001b[39m TrialState\u001b[38;5;241m.\u001b[39mPRUNED\n",
      "Cell \u001b[0;32mIn[10], line 47\u001b[0m, in \u001b[0;36mtune_and_eval.<locals>.objective\u001b[0;34m(trial)\u001b[0m\n\u001b[1;32m     45\u001b[0m     oh \u001b[38;5;241m=\u001b[39m trial\u001b[38;5;241m.\u001b[39msuggest_int(\u001b[38;5;124m\"\u001b[39m\u001b[38;5;124moutcome_hidden\u001b[39m\u001b[38;5;124m\"\u001b[39m, \u001b[38;5;241m50\u001b[39m, \u001b[38;5;241m200\u001b[39m)\n\u001b[1;32m     46\u001b[0m     trainer \u001b[38;5;241m=\u001b[39m DragonNetTrainer(X_train\u001b[38;5;241m.\u001b[39mshape[\u001b[38;5;241m1\u001b[39m], sh, oh)\n\u001b[0;32m---> 47\u001b[0m \u001b[38;5;28;01mreturn\u001b[39;00m trainer\u001b[38;5;241m.\u001b[39mfit(X_train, t_train, y_train, X_val, t_val, y_val,\n\u001b[1;32m     48\u001b[0m                     lr\u001b[38;5;241m=\u001b[39mlr, weight_decay\u001b[38;5;241m=\u001b[39mwd, batch_size\u001b[38;5;241m=\u001b[39mbs, epochs\u001b[38;5;241m=\u001b[39mepochs)\n",
      "File \u001b[0;32m~/Documents/Project/frengression/frengression/paper_exp/models.py:202\u001b[0m, in \u001b[0;36mDragonNetTrainer.fit\u001b[0;34m(self, X_train, t_train, y_train, X_val, t_val, y_val, lr, weight_decay, batch_size, epochs)\u001b[0m\n\u001b[1;32m    200\u001b[0m     loss \u001b[38;5;241m=\u001b[39m criterion(y_pred, yb)\n\u001b[1;32m    201\u001b[0m     loss\u001b[38;5;241m.\u001b[39mbackward()\n\u001b[0;32m--> 202\u001b[0m     optimizer\u001b[38;5;241m.\u001b[39mstep()\n\u001b[1;32m    203\u001b[0m \u001b[38;5;28mself\u001b[39m\u001b[38;5;241m.\u001b[39mnet\u001b[38;5;241m.\u001b[39mmodel\u001b[38;5;241m.\u001b[39meval()\n\u001b[1;32m    204\u001b[0m \u001b[38;5;28;01mwith\u001b[39;00m torch\u001b[38;5;241m.\u001b[39mno_grad():\n",
      "File \u001b[0;32m/opt/anaconda3/lib/python3.11/site-packages/torch/optim/optimizer.py:487\u001b[0m, in \u001b[0;36mOptimizer.profile_hook_step.<locals>.wrapper\u001b[0;34m(*args, **kwargs)\u001b[0m\n\u001b[1;32m    482\u001b[0m         \u001b[38;5;28;01melse\u001b[39;00m:\n\u001b[1;32m    483\u001b[0m             \u001b[38;5;28;01mraise\u001b[39;00m \u001b[38;5;167;01mRuntimeError\u001b[39;00m(\n\u001b[1;32m    484\u001b[0m                 \u001b[38;5;124mf\u001b[39m\u001b[38;5;124m\"\u001b[39m\u001b[38;5;132;01m{\u001b[39;00mfunc\u001b[38;5;132;01m}\u001b[39;00m\u001b[38;5;124m must return None or a tuple of (new_args, new_kwargs), but got \u001b[39m\u001b[38;5;132;01m{\u001b[39;00mresult\u001b[38;5;132;01m}\u001b[39;00m\u001b[38;5;124m.\u001b[39m\u001b[38;5;124m\"\u001b[39m\n\u001b[1;32m    485\u001b[0m             )\n\u001b[0;32m--> 487\u001b[0m out \u001b[38;5;241m=\u001b[39m func(\u001b[38;5;241m*\u001b[39margs, \u001b[38;5;241m*\u001b[39m\u001b[38;5;241m*\u001b[39mkwargs)\n\u001b[1;32m    488\u001b[0m \u001b[38;5;28mself\u001b[39m\u001b[38;5;241m.\u001b[39m_optimizer_step_code()\n\u001b[1;32m    490\u001b[0m \u001b[38;5;66;03m# call optimizer step post hooks\u001b[39;00m\n",
      "File \u001b[0;32m/opt/anaconda3/lib/python3.11/site-packages/torch/optim/optimizer.py:91\u001b[0m, in \u001b[0;36m_use_grad_for_differentiable.<locals>._use_grad\u001b[0;34m(self, *args, **kwargs)\u001b[0m\n\u001b[1;32m     89\u001b[0m     torch\u001b[38;5;241m.\u001b[39mset_grad_enabled(\u001b[38;5;28mself\u001b[39m\u001b[38;5;241m.\u001b[39mdefaults[\u001b[38;5;124m\"\u001b[39m\u001b[38;5;124mdifferentiable\u001b[39m\u001b[38;5;124m\"\u001b[39m])\n\u001b[1;32m     90\u001b[0m     torch\u001b[38;5;241m.\u001b[39m_dynamo\u001b[38;5;241m.\u001b[39mgraph_break()\n\u001b[0;32m---> 91\u001b[0m     ret \u001b[38;5;241m=\u001b[39m func(\u001b[38;5;28mself\u001b[39m, \u001b[38;5;241m*\u001b[39margs, \u001b[38;5;241m*\u001b[39m\u001b[38;5;241m*\u001b[39mkwargs)\n\u001b[1;32m     92\u001b[0m \u001b[38;5;28;01mfinally\u001b[39;00m:\n\u001b[1;32m     93\u001b[0m     torch\u001b[38;5;241m.\u001b[39m_dynamo\u001b[38;5;241m.\u001b[39mgraph_break()\n",
      "File \u001b[0;32m/opt/anaconda3/lib/python3.11/site-packages/torch/optim/adam.py:223\u001b[0m, in \u001b[0;36mAdam.step\u001b[0;34m(self, closure)\u001b[0m\n\u001b[1;32m    211\u001b[0m     beta1, beta2 \u001b[38;5;241m=\u001b[39m group[\u001b[38;5;124m\"\u001b[39m\u001b[38;5;124mbetas\u001b[39m\u001b[38;5;124m\"\u001b[39m]\n\u001b[1;32m    213\u001b[0m     has_complex \u001b[38;5;241m=\u001b[39m \u001b[38;5;28mself\u001b[39m\u001b[38;5;241m.\u001b[39m_init_group(\n\u001b[1;32m    214\u001b[0m         group,\n\u001b[1;32m    215\u001b[0m         params_with_grad,\n\u001b[0;32m   (...)\u001b[0m\n\u001b[1;32m    220\u001b[0m         state_steps,\n\u001b[1;32m    221\u001b[0m     )\n\u001b[0;32m--> 223\u001b[0m     adam(\n\u001b[1;32m    224\u001b[0m         params_with_grad,\n\u001b[1;32m    225\u001b[0m         grads,\n\u001b[1;32m    226\u001b[0m         exp_avgs,\n\u001b[1;32m    227\u001b[0m         exp_avg_sqs,\n\u001b[1;32m    228\u001b[0m         max_exp_avg_sqs,\n\u001b[1;32m    229\u001b[0m         state_steps,\n\u001b[1;32m    230\u001b[0m         amsgrad\u001b[38;5;241m=\u001b[39mgroup[\u001b[38;5;124m\"\u001b[39m\u001b[38;5;124mamsgrad\u001b[39m\u001b[38;5;124m\"\u001b[39m],\n\u001b[1;32m    231\u001b[0m         has_complex\u001b[38;5;241m=\u001b[39mhas_complex,\n\u001b[1;32m    232\u001b[0m         beta1\u001b[38;5;241m=\u001b[39mbeta1,\n\u001b[1;32m    233\u001b[0m         beta2\u001b[38;5;241m=\u001b[39mbeta2,\n\u001b[1;32m    234\u001b[0m         lr\u001b[38;5;241m=\u001b[39mgroup[\u001b[38;5;124m\"\u001b[39m\u001b[38;5;124mlr\u001b[39m\u001b[38;5;124m\"\u001b[39m],\n\u001b[1;32m    235\u001b[0m         weight_decay\u001b[38;5;241m=\u001b[39mgroup[\u001b[38;5;124m\"\u001b[39m\u001b[38;5;124mweight_decay\u001b[39m\u001b[38;5;124m\"\u001b[39m],\n\u001b[1;32m    236\u001b[0m         eps\u001b[38;5;241m=\u001b[39mgroup[\u001b[38;5;124m\"\u001b[39m\u001b[38;5;124meps\u001b[39m\u001b[38;5;124m\"\u001b[39m],\n\u001b[1;32m    237\u001b[0m         maximize\u001b[38;5;241m=\u001b[39mgroup[\u001b[38;5;124m\"\u001b[39m\u001b[38;5;124mmaximize\u001b[39m\u001b[38;5;124m\"\u001b[39m],\n\u001b[1;32m    238\u001b[0m         foreach\u001b[38;5;241m=\u001b[39mgroup[\u001b[38;5;124m\"\u001b[39m\u001b[38;5;124mforeach\u001b[39m\u001b[38;5;124m\"\u001b[39m],\n\u001b[1;32m    239\u001b[0m         capturable\u001b[38;5;241m=\u001b[39mgroup[\u001b[38;5;124m\"\u001b[39m\u001b[38;5;124mcapturable\u001b[39m\u001b[38;5;124m\"\u001b[39m],\n\u001b[1;32m    240\u001b[0m         differentiable\u001b[38;5;241m=\u001b[39mgroup[\u001b[38;5;124m\"\u001b[39m\u001b[38;5;124mdifferentiable\u001b[39m\u001b[38;5;124m\"\u001b[39m],\n\u001b[1;32m    241\u001b[0m         fused\u001b[38;5;241m=\u001b[39mgroup[\u001b[38;5;124m\"\u001b[39m\u001b[38;5;124mfused\u001b[39m\u001b[38;5;124m\"\u001b[39m],\n\u001b[1;32m    242\u001b[0m         grad_scale\u001b[38;5;241m=\u001b[39m\u001b[38;5;28mgetattr\u001b[39m(\u001b[38;5;28mself\u001b[39m, \u001b[38;5;124m\"\u001b[39m\u001b[38;5;124mgrad_scale\u001b[39m\u001b[38;5;124m\"\u001b[39m, \u001b[38;5;28;01mNone\u001b[39;00m),\n\u001b[1;32m    243\u001b[0m         found_inf\u001b[38;5;241m=\u001b[39m\u001b[38;5;28mgetattr\u001b[39m(\u001b[38;5;28mself\u001b[39m, \u001b[38;5;124m\"\u001b[39m\u001b[38;5;124mfound_inf\u001b[39m\u001b[38;5;124m\"\u001b[39m, \u001b[38;5;28;01mNone\u001b[39;00m),\n\u001b[1;32m    244\u001b[0m     )\n\u001b[1;32m    246\u001b[0m \u001b[38;5;28;01mreturn\u001b[39;00m loss\n",
      "File \u001b[0;32m/opt/anaconda3/lib/python3.11/site-packages/torch/optim/optimizer.py:154\u001b[0m, in \u001b[0;36m_disable_dynamo_if_unsupported.<locals>.wrapper.<locals>.maybe_fallback\u001b[0;34m(*args, **kwargs)\u001b[0m\n\u001b[1;32m    152\u001b[0m     \u001b[38;5;28;01mreturn\u001b[39;00m disabled_func(\u001b[38;5;241m*\u001b[39margs, \u001b[38;5;241m*\u001b[39m\u001b[38;5;241m*\u001b[39mkwargs)\n\u001b[1;32m    153\u001b[0m \u001b[38;5;28;01melse\u001b[39;00m:\n\u001b[0;32m--> 154\u001b[0m     \u001b[38;5;28;01mreturn\u001b[39;00m func(\u001b[38;5;241m*\u001b[39margs, \u001b[38;5;241m*\u001b[39m\u001b[38;5;241m*\u001b[39mkwargs)\n",
      "File \u001b[0;32m/opt/anaconda3/lib/python3.11/site-packages/torch/optim/adam.py:784\u001b[0m, in \u001b[0;36madam\u001b[0;34m(params, grads, exp_avgs, exp_avg_sqs, max_exp_avg_sqs, state_steps, foreach, capturable, differentiable, fused, grad_scale, found_inf, has_complex, amsgrad, beta1, beta2, lr, weight_decay, eps, maximize)\u001b[0m\n\u001b[1;32m    781\u001b[0m \u001b[38;5;28;01melse\u001b[39;00m:\n\u001b[1;32m    782\u001b[0m     func \u001b[38;5;241m=\u001b[39m _single_tensor_adam\n\u001b[0;32m--> 784\u001b[0m func(\n\u001b[1;32m    785\u001b[0m     params,\n\u001b[1;32m    786\u001b[0m     grads,\n\u001b[1;32m    787\u001b[0m     exp_avgs,\n\u001b[1;32m    788\u001b[0m     exp_avg_sqs,\n\u001b[1;32m    789\u001b[0m     max_exp_avg_sqs,\n\u001b[1;32m    790\u001b[0m     state_steps,\n\u001b[1;32m    791\u001b[0m     amsgrad\u001b[38;5;241m=\u001b[39mamsgrad,\n\u001b[1;32m    792\u001b[0m     has_complex\u001b[38;5;241m=\u001b[39mhas_complex,\n\u001b[1;32m    793\u001b[0m     beta1\u001b[38;5;241m=\u001b[39mbeta1,\n\u001b[1;32m    794\u001b[0m     beta2\u001b[38;5;241m=\u001b[39mbeta2,\n\u001b[1;32m    795\u001b[0m     lr\u001b[38;5;241m=\u001b[39mlr,\n\u001b[1;32m    796\u001b[0m     weight_decay\u001b[38;5;241m=\u001b[39mweight_decay,\n\u001b[1;32m    797\u001b[0m     eps\u001b[38;5;241m=\u001b[39meps,\n\u001b[1;32m    798\u001b[0m     maximize\u001b[38;5;241m=\u001b[39mmaximize,\n\u001b[1;32m    799\u001b[0m     capturable\u001b[38;5;241m=\u001b[39mcapturable,\n\u001b[1;32m    800\u001b[0m     differentiable\u001b[38;5;241m=\u001b[39mdifferentiable,\n\u001b[1;32m    801\u001b[0m     grad_scale\u001b[38;5;241m=\u001b[39mgrad_scale,\n\u001b[1;32m    802\u001b[0m     found_inf\u001b[38;5;241m=\u001b[39mfound_inf,\n\u001b[1;32m    803\u001b[0m )\n",
      "File \u001b[0;32m/opt/anaconda3/lib/python3.11/site-packages/torch/optim/adam.py:430\u001b[0m, in \u001b[0;36m_single_tensor_adam\u001b[0;34m(params, grads, exp_avgs, exp_avg_sqs, max_exp_avg_sqs, state_steps, grad_scale, found_inf, amsgrad, has_complex, beta1, beta2, lr, weight_decay, eps, maximize, capturable, differentiable)\u001b[0m\n\u001b[1;32m    428\u001b[0m         denom \u001b[38;5;241m=\u001b[39m (max_exp_avg_sqs[i]\u001b[38;5;241m.\u001b[39msqrt() \u001b[38;5;241m/\u001b[39m bias_correction2_sqrt)\u001b[38;5;241m.\u001b[39madd_(eps)\n\u001b[1;32m    429\u001b[0m     \u001b[38;5;28;01melse\u001b[39;00m:\n\u001b[0;32m--> 430\u001b[0m         denom \u001b[38;5;241m=\u001b[39m (exp_avg_sq\u001b[38;5;241m.\u001b[39msqrt() \u001b[38;5;241m/\u001b[39m bias_correction2_sqrt)\u001b[38;5;241m.\u001b[39madd_(eps)\n\u001b[1;32m    432\u001b[0m     param\u001b[38;5;241m.\u001b[39maddcdiv_(exp_avg, denom, value\u001b[38;5;241m=\u001b[39m\u001b[38;5;241m-\u001b[39mstep_size)\n\u001b[1;32m    434\u001b[0m \u001b[38;5;66;03m# Lastly, switch back to complex view\u001b[39;00m\n",
      "\u001b[0;31mKeyboardInterrupt\u001b[0m: "
     ]
    }
   ],
   "source": [
    "nrep = 20  # Number of repetitions\n",
    "n_tr = 1000  # Training sample size\n",
    "n_val = 400\n",
    "n_te = 1000  # Testing sample size\n",
    "strength_instr_values = np.arange(1,4.5,1)  # Varying strength of instrumental variables\n",
    "nI = 5  # Fixed number of instrumental variables\n",
    "nX = 5\n",
    "nO = 0\n",
    "nS = 0\n",
    "binary_intervention = True\n",
    "num_iters = 1000  # Fixed number of training iterations\n",
    "\n",
    "\n",
    "# Initialize tracker for strength_instr\n",
    "tracker = {strength_instr: {\"fr\": [], \"dr\": [], \"causalegm\":[], \"tarnet\":[], \"cfrnet\":[], \"cevae\":[], \"dragonnet\":[]}\n",
    "           for strength_instr in strength_instr_values}\n",
    "\n",
    "# Begin loop over strength_instr\n",
    "for strength_instr in strength_instr_values:\n",
    "    print(f\"Running experiments for strength_instr = {strength_instr}\")\n",
    "    p = nI + nX + nO + nS  # Update the number of covariates\n",
    "    \n",
    "    for rep in tqdm(range(nrep)):\n",
    "        # Generate training and testing data\n",
    "        df_tr = generate_data_causl(n=n_tr, nI=nI, nX=nX, nO=nO, nS=nS, ate=ate, \n",
    "                                    beta_cov=beta_cov, strength_instr=strength_instr, \n",
    "                                    strength_conf=strength_conf, \n",
    "                                    strength_outcome=strength_outcome, \n",
    "                                    binary_intervention=binary_intervention)\n",
    "        z_tr = torch.tensor(df_tr[[f\"X{i}\" for i in range(1, p + 1)]].values, dtype=torch.float32)\n",
    "        x_tr = torch.tensor(df_tr['A'].values, dtype=torch.int32).view(-1, 1) if binary_intervention else \\\n",
    "            torch.tensor(df_tr['A'].values, dtype=torch.float32).view(-1, 1)\n",
    "        y_tr = torch.tensor(df_tr['y'].values, dtype=torch.float32).view(-1, 1)\n",
    "        \n",
    "        z_tr_np = df_tr[[f\"X{i}\" for i in range(1, p + 1)]].values\n",
    "        x_tr_np = df_tr['A'].values\n",
    "        y_tr_np = df_tr['y'].values\n",
    "\n",
    "        df_val = generate_data_causl(n=n_val, nI=nI, nX=nX, nO=nO, nS=nS, ate=ate, \n",
    "                                    beta_cov=beta_cov, strength_instr=strength_instr, \n",
    "                                    strength_conf=strength_conf, \n",
    "                                    strength_outcome=strength_outcome, \n",
    "                                    binary_intervention=binary_intervention)\n",
    "\n",
    "\n",
    "        z_val_np = df_val[[f\"X{i}\" for i in range(1, p + 1)]].values\n",
    "        x_val_np = df_val['A'].values\n",
    "        y_val_np = df_val['y'].values\n",
    "\n",
    "        df_te = generate_data_causl(n=n_te, nI=nI, nX=nX, nO=nO, nS=nS, ate=ate, \n",
    "                                    beta_cov=beta_cov, strength_instr=strength_instr, \n",
    "                                    strength_conf=strength_conf, \n",
    "                                    strength_outcome=strength_outcome, \n",
    "                                    binary_intervention=binary_intervention)\n",
    "\n",
    "        z_te_np = df_te[[f\"X{i}\" for i in range(1, p + 1)]].values\n",
    "        x_te_np = df_te['A'].values\n",
    "        y_te_np = df_te['y'].values\n",
    "        z_te = torch.tensor(z_te_np, dtype=torch.float32)\n",
    "\n",
    "        model = Frengression(x_dim = x_tr.shape[1], y_dim = 1, z_dim =z_tr.shape[1], \n",
    "                             noise_dim=1, num_layer=3, hidden_dim=100, \n",
    "                             device=device, x_binary=binary_intervention, z_binary_dims=0)\n",
    "\n",
    "        # Train Frengression model\n",
    "        model.train_y(x=x_tr,\n",
    "                      z=z_tr, \n",
    "                      y=y_tr, \n",
    "                      num_iters=num_iters, lr=1e-4, print_every_iter=1000)\n",
    "\n",
    "        # Sample model distributions\n",
    "        P0 = model.sample_causal_margin(torch.tensor([0], dtype=torch.int32), sample_size=n_te).numpy().reshape(-1, 1)\n",
    "        P1 = model.sample_causal_margin(torch.tensor([1], dtype=torch.int32), sample_size=n_te).numpy().reshape(-1, 1)\n",
    "        ate_fr = np.mean(P1) - np.mean(P0)\n",
    "\n",
    "        # DR Estimation\n",
    "        ate_dr, _ = dr_ate(x_tr_np, y_tr_np, z_tr_np ,x_te_np, y_te_np, z_te_np)\n",
    "\n",
    "        ate_tarnet = tune_and_eval(\"tarnet\", z_tr_np, x_tr_np, y_tr_np, z_val_np, x_val_np, y_val_np, z_te_np, x_te_np, y_te_np).mean()\n",
    "        ate_cfrnet = tune_and_eval(\"cfrnet\", z_tr_np, x_tr_np, y_tr_np, z_val_np, x_val_np, y_val_np, z_te_np, x_te_np, y_te_np).mean()\n",
    "        ate_cevae = tune_and_eval(\"cevae\", z_tr_np, x_tr_np, y_tr_np, z_val_np, x_val_np, y_val_np, z_te_np, x_te_np, y_te_np).mean()\n",
    "        ate_dragonnet = tune_and_eval(\"dragonnet\", z_tr_np, x_tr_np, y_tr_np, z_val_np, x_val_np, y_val_np, z_te_np, x_te_np, y_te_np).mean()\n",
    "\n",
    "\n",
    "        cegm_params = {'dataset': 'Semi_acic', \n",
    "                        'output_dir': '.', \n",
    "                        'v_dim': z_tr.shape[1], \n",
    "                        'z_dims': [1, 1, 1, 1], \n",
    "                        'lr': 0.0002, \n",
    "                        'alpha': 1, \n",
    "                        'beta': 1, \n",
    "                        'gamma': 10, \n",
    "                        'g_d_freq': 5, \n",
    "                        'g_units': [64, 64, 64, 64, 64], \n",
    "                        'e_units': [64, 64, 64, 64, 64], \n",
    "                        'f_units': [64, 32, 8], \n",
    "                        'h_units': [64, 32, 8], \n",
    "                        'dz_units': [64, 32, 8], \n",
    "                        'dv_units': [64, 32, 8], 'save_res': False, 'save_model': False, 'binary_treatment': True, 'use_z_rec': True, 'use_v_gan': True}\n",
    "        egm_model = cegm.CausalEGM(params=cegm_params, random_seed=42)\n",
    "        egm_model.train(data=[x_tr,y_tr,z_tr],n_iter=1000, verbose=False)\n",
    "        ate_causalegm=egm_model.getCATE(z_te).mean()\n",
    "\n",
    "        # Log results\n",
    "        tracker[strength_instr][\"fr\"].append(ate_fr)\n",
    "        tracker[strength_instr][\"dr\"].append(ate_dr)\n",
    "        tracker[strength_instr][\"causalegm\"].append(ate_causalegm)\n",
    "        tracker[strength_instr]['tarnet'].append(ate_tarnet)\n",
    "        tracker[strength_instr][\"cfrnet\"].append(ate_cfrnet)\n",
    "        tracker[strength_instr][\"cevae\"].append(ate_cevae)\n",
    "        tracker[strength_instr][\"dragonnet\"].append(ate_dragonnet)\n",
    "        \n"
   ]
  },
  {
   "cell_type": "code",
   "execution_count": 72,
   "id": "64ddaba5",
   "metadata": {},
   "outputs": [
    {
     "name": "stderr",
     "output_type": "stream",
     "text": [
      "2025-04-25 15:02:38.511931: E tensorflow/core/framework/node_def_util.cc:676] NodeDef mentions attribute use_unbounded_threadpool which is not in the op definition: Op<name=MapDataset; signature=input_dataset:variant, other_arguments: -> handle:variant; attr=f:func; attr=Targuments:list(type),min=0; attr=output_types:list(type),min=1; attr=output_shapes:list(shape),min=1; attr=use_inter_op_parallelism:bool,default=true; attr=preserve_cardinality:bool,default=false; attr=force_synchronous:bool,default=false; attr=metadata:string,default=\"\"> This may be expected if your graph generating binary is newer  than this binary. Unknown attributes will be ignored. NodeDef: {{node ParallelMapDatasetV2/_14}}\n",
      "2025-04-25 15:02:38.512307: E tensorflow/core/framework/node_def_util.cc:676] NodeDef mentions attribute use_unbounded_threadpool which is not in the op definition: Op<name=MapDataset; signature=input_dataset:variant, other_arguments: -> handle:variant; attr=f:func; attr=Targuments:list(type),min=0; attr=output_types:list(type),min=1; attr=output_shapes:list(shape),min=1; attr=use_inter_op_parallelism:bool,default=true; attr=preserve_cardinality:bool,default=false; attr=force_synchronous:bool,default=false; attr=metadata:string,default=\"\"> This may be expected if your graph generating binary is newer  than this binary. Unknown attributes will be ignored. NodeDef: {{node ParallelMapDatasetV2/_14}}\n"
     ]
    },
    {
     "data": {
      "text/plain": [
       "1.8659396"
      ]
     },
     "execution_count": 72,
     "metadata": {},
     "output_type": "execute_result"
    }
   ],
   "source": [
    "egm_model.getCATE(z_tr).mean()"
   ]
  },
  {
   "cell_type": "code",
   "execution_count": 25,
   "id": "3469c3a3",
   "metadata": {},
   "outputs": [
    {
     "data": {
      "text/plain": [
       "2.400059767345967"
      ]
     },
     "execution_count": 25,
     "metadata": {},
     "output_type": "execute_result"
    }
   ],
   "source": [
    "np.mean(df_tr['y'][df_tr['A']==1])"
   ]
  },
  {
   "cell_type": "code",
   "execution_count": 47,
   "id": "4ac919de",
   "metadata": {},
   "outputs": [],
   "source": [
    "model = Frengression(x_dim = x_tr.shape[1], y_dim = 1, z_dim =z_tr.shape[1], \n",
    "                             noise_dim=1, num_layer=3, hidden_dim=100, \n",
    "                             device=device, x_binary=binary_intervention, z_binary_dims=0)"
   ]
  },
  {
   "cell_type": "code",
   "execution_count": 51,
   "id": "7fb6b49d",
   "metadata": {},
   "outputs": [
    {
     "name": "stdout",
     "output_type": "stream",
     "text": [
      "Epoch 1: loss 1.8026,\tloss_y 1.1675, 1.3866, 0.4383,\tloss_eta 0.6351, 0.8774, 0.4847\n",
      "Epoch 1000: loss 0.8402,\tloss_y 0.2793, 0.5600, 0.5615,\tloss_eta 0.5610, 1.1058, 1.0896\n"
     ]
    }
   ],
   "source": [
    "model.train_y(x=x_tr,z=z_tr, \n",
    "                      y=y_tr, \n",
    "                      num_iters=1000, lr=1e-4, print_every_iter=1000)"
   ]
  },
  {
   "cell_type": "code",
   "execution_count": 73,
   "id": "7e36d899",
   "metadata": {},
   "outputs": [
    {
     "ename": "AttributeError",
     "evalue": "module 'CausalEGM.model' has no attribute 'sample_causal_margin'",
     "output_type": "error",
     "traceback": [
      "\u001b[0;31m---------------------------------------------------------------------------\u001b[0m",
      "\u001b[0;31mAttributeError\u001b[0m                            Traceback (most recent call last)",
      "Cell \u001b[0;32mIn[73], line 1\u001b[0m\n\u001b[0;32m----> 1\u001b[0m model\u001b[38;5;241m.\u001b[39msample_causal_margin(torch\u001b[38;5;241m.\u001b[39mtensor([\u001b[38;5;241m1\u001b[39m], dtype\u001b[38;5;241m=\u001b[39mtorch\u001b[38;5;241m.\u001b[39mint32), sample_size\u001b[38;5;241m=\u001b[39mn_p)\u001b[38;5;241m.\u001b[39mmean()\n",
      "\u001b[0;31mAttributeError\u001b[0m: module 'CausalEGM.model' has no attribute 'sample_causal_margin'"
     ]
    }
   ],
   "source": [
    "model.sample_causal_margin(torch.tensor([1], dtype=torch.int32), sample_size=n_p).mean()"
   ]
  },
  {
   "cell_type": "code",
   "execution_count": 53,
   "id": "bd544fb4",
   "metadata": {},
   "outputs": [
    {
     "name": "stdout",
     "output_type": "stream",
     "text": [
      "Warning: covariate dimension does not aligned with the specified input dimension; filling in the remaining dimension with noise.\n"
     ]
    },
    {
     "data": {
      "text/plain": [
       "tensor(0.0739)"
      ]
     },
     "execution_count": 53,
     "metadata": {},
     "output_type": "execute_result"
    }
   ],
   "source": [
    "model.sample_causal_margin(torch.tensor([0], dtype=torch.int32), sample_size=n_p).mean()"
   ]
  },
  {
   "cell_type": "code",
   "execution_count": 38,
   "id": "76cd5dc8",
   "metadata": {},
   "outputs": [
    {
     "data": {
      "text/plain": [
       "torch.Size([1000, 1])"
      ]
     },
     "execution_count": 38,
     "metadata": {},
     "output_type": "execute_result"
    }
   ],
   "source": [
    "y_tr.shape"
   ]
  },
  {
   "cell_type": "code",
   "execution_count": null,
   "id": "09c3e474",
   "metadata": {},
   "outputs": [],
   "source": []
  }
 ],
 "metadata": {
  "kernelspec": {
   "display_name": "base",
   "language": "python",
   "name": "python3"
  },
  "language_info": {
   "codemirror_mode": {
    "name": "ipython",
    "version": 3
   },
   "file_extension": ".py",
   "mimetype": "text/x-python",
   "name": "python",
   "nbconvert_exporter": "python",
   "pygments_lexer": "ipython3",
   "version": "3.11.7"
  }
 },
 "nbformat": 4,
 "nbformat_minor": 5
}
