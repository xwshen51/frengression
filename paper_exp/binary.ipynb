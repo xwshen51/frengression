{
 "cells": [
  {
   "cell_type": "markdown",
   "id": "a53989f4",
   "metadata": {},
   "source": [
    "## Experiments for binary treatment effect estimation comparison"
   ]
  },
  {
   "cell_type": "code",
   "execution_count": 1,
   "id": "19983602",
   "metadata": {},
   "outputs": [],
   "source": [
    "import sys, os\n",
    "\n",
    "# add the project root to sys.path\n",
    "root = os.path.abspath(os.path.join(os.getcwd(), '..'))\n",
    "if root not in sys.path:\n",
    "    sys.path.insert(0, root)\n",
    "\n",
    "from data_causl.utils import *\n",
    "from data_causl.data import *\n",
    "from frengression import *\n",
    "\n",
    "device = torch.device('cpu')\n",
    "\n",
    "import CausalEGM as cegm\n",
    "# import the module\n",
    "from models import *\n",
    "\n",
    "import numpy as np\n",
    "import pickle\n",
    "import os\n",
    "from tqdm import tqdm\n",
    "\n",
    "from matplotlib import pyplot as plt\n",
    "import seaborn as sns\n",
    "\n",
    "import warnings\n",
    "warnings.filterwarnings(\"ignore\", category=FutureWarning)\n",
    "warnings.filterwarnings(\"ignore\", category=DeprecationWarning)\n",
    "warnings.filterwarnings(\"ignore\", category=UserWarning)\n",
    "\n",
    "\n",
    "\n",
    "np.random.seed(42)\n",
    "n_tr = 1000\n",
    "n_p = 1000\n",
    "\n",
    "nI = 2\n",
    "nX = 2\n",
    "nO = 2\n",
    "nS= 2\n",
    "p = nI+nX+nO+nS\n",
    "ate = 2\n",
    "beta_cov = 0\n",
    "strength_instr = 1\n",
    "strength_conf = 1\n",
    "strength_outcome = 1\n",
    "binary_intervention=True"
   ]
  },
  {
   "cell_type": "markdown",
   "id": "4801550b",
   "metadata": {},
   "source": [
    "## Example of hyperparameter tuning"
   ]
  },
  {
   "cell_type": "code",
   "execution_count": 2,
   "id": "bdbba039",
   "metadata": {},
   "outputs": [],
   "source": [
    "from functools import lru_cache\n",
    "\n",
    "def tune_and_eval(model_name,\n",
    "                  X_train, t_train, y_train,\n",
    "                  X_val,   t_val,   y_val,\n",
    "                  X_test,  t_test,  y_test,\n",
    "                  provided_params=None,\n",
    "                  n_trials=10):\n",
    "    \"\"\"\n",
    "    If best_params is None: runs Optuna, returns (ITE_array, best_params).\n",
    "    If best_params is given: skips Optuna, returns ITE_array only.\n",
    "    \"\"\"\n",
    "    # 1) hyperparam search\n",
    "    if provided_params is None:\n",
    "        import optuna\n",
    "        study = optuna.create_study(direction=\"minimize\",\n",
    "                                    study_name=f\"{model_name}_tune\")\n",
    "        def objective(trial):\n",
    "            # common\n",
    "            lr     = trial.suggest_loguniform(\"lr\", 1e-5, 1e-2)\n",
    "            wd     = trial.suggest_loguniform(\"wd\", 1e-5, 1e-2)\n",
    "            bs     = trial.suggest_categorical(\"bs\", [32, 128, 256])\n",
    "            epochs = trial.suggest_int(\"epochs\", 300, 800)\n",
    "\n",
    "            # model‐specific\n",
    "            if model_name == \"tarnet\":\n",
    "                rep1 = trial.suggest_int(\"rep1\", 20, 50 )\n",
    "                rep2 = trial.suggest_int(\"rep2\", 50, 100)\n",
    "                head = trial.suggest_int(\"head\", 50, 100)\n",
    "                drop = trial.suggest_uniform(\"drop\", 0.0, 0.001)\n",
    "                trainer = TARNetTrainer(X_train.shape[1], [rep1,rep2], [head], drop)\n",
    "\n",
    "            elif model_name == \"cfrnet\":\n",
    "                rep1   = trial.suggest_int(\"rep1\", 50, 200)\n",
    "                rep2   = trial.suggest_int(\"rep2\", 50, 200)\n",
    "                head   = trial.suggest_int(\"head\", 50, 200)\n",
    "                drop   = trial.suggest_uniform(\"drop\", 0.0, 0.001)\n",
    "                ipm_w  = trial.suggest_loguniform(\"ipm_weight\", 0.01, 10.0)\n",
    "                trainer = CFRNetTrainer(X_train.shape[1], [rep1,rep2], [head], drop, ipm_w)\n",
    "\n",
    "            elif model_name == \"cevae\":\n",
    "                ld = trial.suggest_int(\"latent_dim\", 10, 200)\n",
    "                hd = trial.suggest_int(\"hidden_dim\", 20, 400)\n",
    "                nl = trial.suggest_int(\"num_layers\", 2, 5)     # note: 2→5 to avoid pop error\n",
    "                ns = trial.suggest_categorical(\"num_samples\", [10,50,100,200])\n",
    "                trainer = CEVAETrainer(X_train.shape[1], ld, hd, nl, ns)\n",
    "\n",
    "            else:  # dragonnet\n",
    "                sh = trial.suggest_int(\"shared_hidden\", 50, 200)\n",
    "                oh = trial.suggest_int(\"outcome_hidden\", 50, 200)\n",
    "                trainer = DragonNetTrainer(X_train.shape[1], sh, oh)\n",
    "\n",
    "            return trainer.fit(\n",
    "                X_train, t_train, y_train,\n",
    "                X_val,   t_val,   y_val,\n",
    "                lr=lr, weight_decay=wd,\n",
    "                batch_size=bs, epochs=epochs\n",
    "            )\n",
    "\n",
    "        study.optimize(objective, n_trials=n_trials)\n",
    "        best_params = study.best_params\n",
    "        print(f\"🔍 Best params for {model_name}: {best_params}\")\n",
    "    else:\n",
    "        best_params = provided_params\n",
    "    # 2) retrain on combined train+val\n",
    "    X_trn = np.vstack([X_train, X_val])\n",
    "    t_trn = np.concatenate([t_train, t_val])\n",
    "    y_trn = np.concatenate([y_train, y_val])\n",
    "\n",
    "    if model_name == \"tarnet\":\n",
    "        trainer = TARNetTrainer(\n",
    "            X_trn.shape[1],\n",
    "            [best_params['rep1'], best_params['rep2']],\n",
    "            [best_params['head']],\n",
    "            best_params['drop']\n",
    "        )\n",
    "    elif model_name == \"cfrnet\":\n",
    "        trainer = CFRNetTrainer(\n",
    "            X_trn.shape[1],\n",
    "            [best_params['rep1'], best_params['rep2']],\n",
    "            [best_params['head']],\n",
    "            best_params['drop'],\n",
    "            best_params['ipm_weight']\n",
    "        )\n",
    "    elif model_name == \"cevae\":\n",
    "        trainer = CEVAETrainer(\n",
    "            X_trn.shape[1],\n",
    "            best_params['latent_dim'],\n",
    "            best_params['hidden_dim'],\n",
    "            best_params['num_layers'],\n",
    "            best_params['num_samples']\n",
    "        )\n",
    "    else:\n",
    "        trainer = DragonNetTrainer(\n",
    "            X_trn.shape[1],\n",
    "            best_params['shared_hidden'],\n",
    "            best_params['outcome_hidden']\n",
    "        )\n",
    "\n",
    "    trainer.fit(\n",
    "        X_trn, t_trn, y_trn,\n",
    "        X_test, t_test, y_test,\n",
    "        lr=best_params['lr'],\n",
    "        weight_decay=best_params['wd'],\n",
    "        batch_size=best_params['bs'],\n",
    "        epochs=best_params['epochs']\n",
    "    )\n",
    "\n",
    "    if model_name == \"cevae\":\n",
    "        ite = trainer.predict(X_test)\n",
    "    else:\n",
    "        y0p, y1p = trainer.predict(X_test)\n",
    "        ite = y1p - y0p\n",
    "\n",
    "    return (ite, best_params) if provided_params is None else ite\n"
   ]
  },
  {
   "cell_type": "markdown",
   "id": "221b1e42",
   "metadata": {},
   "source": [
    "## Fitting synthetic data generated by causl"
   ]
  },
  {
   "cell_type": "markdown",
   "id": "e5a2a3a2",
   "metadata": {},
   "source": [
    "### Data generation"
   ]
  },
  {
   "cell_type": "code",
   "execution_count": 3,
   "id": "8b89c5a0",
   "metadata": {},
   "outputs": [
    {
     "name": "stdout",
     "output_type": "stream",
     "text": [
      "Running experiments for strength_instr = 1.0\n"
     ]
    },
    {
     "name": "stderr",
     "output_type": "stream",
     "text": [
      "  0%|          | 0/30 [00:00<?, ?it/s]"
     ]
    },
    {
     "name": "stdout",
     "output_type": "stream",
     "text": [
      "Epoch 1: loss 2.4448,\tloss_y 1.6538, 1.6757, 0.0438,\tloss_eta 0.7911, 0.8234, 0.0647\n",
      "Warning: covariate dimension does not aligned with the specified input dimension; filling in the remaining dimension with noise.\n",
      "Warning: covariate dimension does not aligned with the specified input dimension; filling in the remaining dimension with noise.\n"
     ]
    },
    {
     "name": "stderr",
     "output_type": "stream",
     "text": [
      "[I 2025-04-26 07:40:03,142] A new study created in memory with name: tarnet_tune\n",
      "[I 2025-04-26 07:40:08,053] Trial 0 finished with value: 0.8636188507080078 and parameters: {'lr': 0.0011671786219347366, 'wd': 3.367012757965983e-05, 'bs': 256, 'epochs': 732, 'rep1': 21, 'rep2': 74, 'head': 72, 'drop': 0.0009248526122718238}. Best is trial 0 with value: 0.8636188507080078.\n",
      "[I 2025-04-26 07:40:18,246] Trial 1 finished with value: 0.9005096554756165 and parameters: {'lr': 0.008688445937566635, 'wd': 9.42695744836571e-05, 'bs': 32, 'epochs': 535, 'rep1': 23, 'rep2': 99, 'head': 83, 'drop': 0.0009787880343823615}. Best is trial 0 with value: 0.8636188507080078.\n",
      "[I 2025-04-26 07:40:24,406] Trial 2 finished with value: 0.8599570393562317 and parameters: {'lr': 0.0007625449083810562, 'wd': 0.001551200794390357, 'bs': 128, 'epochs': 780, 'rep1': 22, 'rep2': 78, 'head': 54, 'drop': 9.603615402211196e-05}. Best is trial 2 with value: 0.8599570393562317.\n",
      "[I 2025-04-26 07:40:37,465] Trial 3 finished with value: 0.8729515671730042 and parameters: {'lr': 4.184498670059325e-05, 'wd': 0.0014365642819130003, 'bs': 32, 'epochs': 688, 'rep1': 21, 'rep2': 91, 'head': 83, 'drop': 0.00047745747534600093}. Best is trial 2 with value: 0.8599570393562317.\n",
      "[I 2025-04-26 07:40:41,441] Trial 4 finished with value: 0.8483161926269531 and parameters: {'lr': 0.007828013220649204, 'wd': 0.0007301030838172951, 'bs': 128, 'epochs': 468, 'rep1': 25, 'rep2': 89, 'head': 87, 'drop': 0.0002567309055407985}. Best is trial 4 with value: 0.8483161926269531.\n",
      "[I 2025-04-26 07:40:44,686] Trial 5 finished with value: 0.8492357134819031 and parameters: {'lr': 0.0009549575159646662, 'wd': 0.0004780015826228756, 'bs': 128, 'epochs': 384, 'rep1': 41, 'rep2': 69, 'head': 83, 'drop': 0.0004589321835542579}. Best is trial 4 with value: 0.8483161926269531.\n",
      "[I 2025-04-26 07:40:54,959] Trial 6 finished with value: 0.8354560732841492 and parameters: {'lr': 0.0028613931144373934, 'wd': 0.0022399488230346876, 'bs': 32, 'epochs': 530, 'rep1': 24, 'rep2': 90, 'head': 94, 'drop': 0.0008775376955105578}. Best is trial 6 with value: 0.8354560732841492.\n",
      "[I 2025-04-26 07:40:59,817] Trial 7 finished with value: 0.8275933861732483 and parameters: {'lr': 5.6456643205386084e-05, 'wd': 0.0007383829600879233, 'bs': 128, 'epochs': 594, 'rep1': 43, 'rep2': 71, 'head': 60, 'drop': 0.0009439182532494132}. Best is trial 7 with value: 0.8275933861732483.\n",
      "[I 2025-04-26 07:41:03,651] Trial 8 finished with value: 0.8605631589889526 and parameters: {'lr': 1.965556659120708e-05, 'wd': 0.0003154994179975952, 'bs': 128, 'epochs': 490, 'rep1': 31, 'rep2': 62, 'head': 50, 'drop': 0.0008468587301574496}. Best is trial 7 with value: 0.8275933861732483.\n",
      "[I 2025-04-26 07:41:06,310] Trial 9 finished with value: 0.8564656972885132 and parameters: {'lr': 0.00012896911902692467, 'wd': 4.9187014052695865e-05, 'bs': 256, 'epochs': 372, 'rep1': 36, 'rep2': 84, 'head': 88, 'drop': 0.00024095562028478602}. Best is trial 7 with value: 0.8275933861732483.\n"
     ]
    },
    {
     "name": "stdout",
     "output_type": "stream",
     "text": [
      "🔍 Best params for tarnet: {'lr': 5.6456643205386084e-05, 'wd': 0.0007383829600879233, 'bs': 128, 'epochs': 594, 'rep1': 43, 'rep2': 71, 'head': 60, 'drop': 0.0009439182532494132}\n"
     ]
    },
    {
     "name": "stderr",
     "output_type": "stream",
     "text": [
      "[I 2025-04-26 07:41:12,974] A new study created in memory with name: cfrnet_tune\n",
      "[I 2025-04-26 07:41:36,328] Trial 0 finished with value: 0.8532927632331848 and parameters: {'lr': 3.9974448036142265e-05, 'wd': 0.001451653894337378, 'bs': 32, 'epochs': 782, 'rep1': 69, 'rep2': 94, 'head': 188, 'drop': 0.00044113973021765664, 'ipm_weight': 0.08619661131491277}. Best is trial 0 with value: 0.8532927632331848.\n",
      "[I 2025-04-26 07:41:42,485] Trial 1 finished with value: 0.8452047109603882 and parameters: {'lr': 0.0035310401557425816, 'wd': 9.142629550757136e-05, 'bs': 128, 'epochs': 441, 'rep1': 162, 'rep2': 53, 'head': 198, 'drop': 0.00046167996601593277, 'ipm_weight': 0.01007463680339619}. Best is trial 1 with value: 0.8452047109603882.\n",
      "[I 2025-04-26 07:41:54,615] Trial 2 finished with value: 0.9062488079071045 and parameters: {'lr': 0.004346071586482335, 'wd': 0.00033528527387548837, 'bs': 32, 'epochs': 365, 'rep1': 194, 'rep2': 158, 'head': 177, 'drop': 0.0005689494705579621, 'ipm_weight': 0.02304644716437891}. Best is trial 1 with value: 0.8452047109603882.\n",
      "[I 2025-04-26 07:42:05,690] Trial 3 finished with value: 0.8505824208259583 and parameters: {'lr': 3.0581353090136465e-05, 'wd': 0.0010082473025180912, 'bs': 128, 'epochs': 759, 'rep1': 113, 'rep2': 132, 'head': 172, 'drop': 0.0007390424181903688, 'ipm_weight': 2.6446765618971617}. Best is trial 1 with value: 0.8452047109603882.\n",
      "[I 2025-04-26 07:42:14,182] Trial 4 finished with value: 0.842139720916748 and parameters: {'lr': 4.686554275997309e-05, 'wd': 0.0009466927700327966, 'bs': 128, 'epochs': 687, 'rep1': 54, 'rep2': 76, 'head': 83, 'drop': 0.0007874158035313801, 'ipm_weight': 0.6542539517774965}. Best is trial 4 with value: 0.842139720916748.\n",
      "[I 2025-04-26 07:42:19,299] Trial 5 finished with value: 0.8511660099029541 and parameters: {'lr': 0.00027329550092058746, 'wd': 0.0001511094503578008, 'bs': 128, 'epochs': 378, 'rep1': 81, 'rep2': 57, 'head': 200, 'drop': 8.819025940905146e-05, 'ipm_weight': 0.019555257319069794}. Best is trial 4 with value: 0.842139720916748.\n",
      "[I 2025-04-26 07:42:26,227] Trial 6 finished with value: 0.8645712733268738 and parameters: {'lr': 0.0048253830122006024, 'wd': 0.0010534893363162506, 'bs': 128, 'epochs': 513, 'rep1': 181, 'rep2': 55, 'head': 133, 'drop': 0.0009069859459775242, 'ipm_weight': 0.7940401424050423}. Best is trial 4 with value: 0.842139720916748.\n",
      "[I 2025-04-26 07:42:33,568] Trial 7 finished with value: 0.8594824075698853 and parameters: {'lr': 0.008068086469329768, 'wd': 0.00015856277042273204, 'bs': 256, 'epochs': 650, 'rep1': 79, 'rep2': 91, 'head': 78, 'drop': 0.0005889868942437797, 'ipm_weight': 0.15795978001947086}. Best is trial 4 with value: 0.842139720916748.\n",
      "[I 2025-04-26 07:42:37,981] Trial 8 finished with value: 0.8477461934089661 and parameters: {'lr': 0.0017069349790769836, 'wd': 0.0008388719011322901, 'bs': 128, 'epochs': 302, 'rep1': 138, 'rep2': 166, 'head': 130, 'drop': 7.705338353941837e-05, 'ipm_weight': 0.9663364464169212}. Best is trial 4 with value: 0.842139720916748.\n",
      "[I 2025-04-26 07:42:42,698] Trial 9 finished with value: 0.8197196125984192 and parameters: {'lr': 1.3587574682420541e-05, 'wd': 0.002628096481559519, 'bs': 128, 'epochs': 364, 'rep1': 145, 'rep2': 50, 'head': 114, 'drop': 0.0007952159201049811, 'ipm_weight': 1.0861469758094706}. Best is trial 9 with value: 0.8197196125984192.\n"
     ]
    },
    {
     "name": "stdout",
     "output_type": "stream",
     "text": [
      "🔍 Best params for cfrnet: {'lr': 1.3587574682420541e-05, 'wd': 0.002628096481559519, 'bs': 128, 'epochs': 364, 'rep1': 145, 'rep2': 50, 'head': 114, 'drop': 0.0007952159201049811, 'ipm_weight': 1.0861469758094706}\n"
     ]
    },
    {
     "name": "stderr",
     "output_type": "stream",
     "text": [
      "[I 2025-04-26 07:42:49,122] A new study created in memory with name: cevae_tune\n",
      "INFO \t Training with 4 minibatches per epoch\n",
      "[I 2025-04-26 07:43:19,055] Trial 0 finished with value: 16.198139129638673 and parameters: {'lr': 0.0009533459755910095, 'wd': 0.0030484570441197574, 'bs': 256, 'epochs': 729, 'latent_dim': 100, 'hidden_dim': 341, 'num_layers': 3, 'num_samples': 50}. Best is trial 0 with value: 16.198139129638673.\n",
      "INFO \t Training with 8 minibatches per epoch\n",
      "[I 2025-04-26 07:43:45,364] Trial 1 finished with value: 65.23101470947266 and parameters: {'lr': 0.007552308988800142, 'wd': 2.155767753452274e-05, 'bs': 128, 'epochs': 522, 'latent_dim': 185, 'hidden_dim': 225, 'num_layers': 2, 'num_samples': 100}. Best is trial 0 with value: 16.198139129638673.\n",
      "INFO \t Training with 4 minibatches per epoch\n",
      "[I 2025-04-26 07:43:56,799] Trial 2 finished with value: 41.69625189208984 and parameters: {'lr': 0.0018732711821201422, 'wd': 0.0010270641600232844, 'bs': 256, 'epochs': 360, 'latent_dim': 109, 'hidden_dim': 148, 'num_layers': 3, 'num_samples': 100}. Best is trial 0 with value: 16.198139129638673.\n",
      "INFO \t Training with 32 minibatches per epoch\n",
      "[I 2025-04-26 07:44:36,355] Trial 3 finished with value: 40.84255578613281 and parameters: {'lr': 0.002093594708033956, 'wd': 0.0008137340632809898, 'bs': 32, 'epochs': 318, 'latent_dim': 104, 'hidden_dim': 76, 'num_layers': 2, 'num_samples': 50}. Best is trial 0 with value: 16.198139129638673.\n",
      "INFO \t Training with 32 minibatches per epoch\n",
      "[I 2025-04-26 07:46:07,396] Trial 4 finished with value: 20.015534851074218 and parameters: {'lr': 3.7179969451322324e-05, 'wd': 0.0001598157639940199, 'bs': 32, 'epochs': 493, 'latent_dim': 45, 'hidden_dim': 159, 'num_layers': 4, 'num_samples': 10}. Best is trial 0 with value: 16.198139129638673.\n",
      "INFO \t Training with 8 minibatches per epoch\n",
      "[I 2025-04-26 07:47:06,497] Trial 5 finished with value: 26.076754089355468 and parameters: {'lr': 0.00031326253746310573, 'wd': 0.0009558680482187739, 'bs': 128, 'epochs': 654, 'latent_dim': 196, 'hidden_dim': 291, 'num_layers': 5, 'num_samples': 50}. Best is trial 0 with value: 16.198139129638673.\n",
      "INFO \t Training with 4 minibatches per epoch\n",
      "[I 2025-04-26 07:47:13,345] Trial 6 finished with value: 28.823360717773436 and parameters: {'lr': 3.275590445544705e-05, 'wd': 0.0006400403022930748, 'bs': 256, 'epochs': 301, 'latent_dim': 13, 'hidden_dim': 171, 'num_layers': 2, 'num_samples': 50}. Best is trial 0 with value: 16.198139129638673.\n",
      "INFO \t Training with 8 minibatches per epoch\n",
      "[I 2025-04-26 07:47:55,729] Trial 7 finished with value: 36.30034979248047 and parameters: {'lr': 0.00013011949911111145, 'wd': 1.2906532758468727e-05, 'bs': 128, 'epochs': 747, 'latent_dim': 67, 'hidden_dim': 57, 'num_layers': 5, 'num_samples': 100}. Best is trial 0 with value: 16.198139129638673.\n",
      "INFO \t Training with 8 minibatches per epoch\n",
      "[I 2025-04-26 07:48:19,019] Trial 8 finished with value: 58.27887969970703 and parameters: {'lr': 8.919578151622888e-05, 'wd': 0.0014397567786583775, 'bs': 128, 'epochs': 423, 'latent_dim': 168, 'hidden_dim': 375, 'num_layers': 2, 'num_samples': 50}. Best is trial 0 with value: 16.198139129638673.\n",
      "INFO \t Training with 4 minibatches per epoch\n",
      "[I 2025-04-26 07:48:36,628] Trial 9 finished with value: 62.71328802490235 and parameters: {'lr': 1.815245729227536e-05, 'wd': 0.00015251515157873411, 'bs': 256, 'epochs': 511, 'latent_dim': 184, 'hidden_dim': 360, 'num_layers': 2, 'num_samples': 100}. Best is trial 0 with value: 16.198139129638673.\n",
      "INFO \t Training with 6 minibatches per epoch\n"
     ]
    },
    {
     "name": "stdout",
     "output_type": "stream",
     "text": [
      "🔍 Best params for cevae: {'lr': 0.0009533459755910095, 'wd': 0.0030484570441197574, 'bs': 256, 'epochs': 729, 'latent_dim': 100, 'hidden_dim': 341, 'num_layers': 3, 'num_samples': 50}\n"
     ]
    },
    {
     "name": "stderr",
     "output_type": "stream",
     "text": [
      "INFO \t Evaluating 1 minibatches\n",
      "[I 2025-04-26 07:49:21,477] A new study created in memory with name: dragonnet_tune\n",
      "[I 2025-04-26 07:49:39,907] Trial 0 finished with value: 0.30537688732147217 and parameters: {'lr': 0.00012115133550064192, 'wd': 1.0461311786876352e-05, 'bs': 32, 'epochs': 620, 'shared_hidden': 99, 'outcome_hidden': 181}. Best is trial 0 with value: 0.30537688732147217.\n",
      "[I 2025-04-26 07:49:43,399] Trial 1 finished with value: 0.31961196660995483 and parameters: {'lr': 8.463976300707888e-05, 'wd': 0.003609326882149863, 'bs': 256, 'epochs': 464, 'shared_hidden': 60, 'outcome_hidden': 102}. Best is trial 0 with value: 0.30537688732147217.\n",
      "[I 2025-04-26 07:49:49,375] Trial 2 finished with value: 0.31433823704719543 and parameters: {'lr': 4.843338385093845e-05, 'wd': 0.0026366287229384034, 'bs': 128, 'epochs': 569, 'shared_hidden': 151, 'outcome_hidden': 72}. Best is trial 0 with value: 0.30537688732147217.\n",
      "[I 2025-04-26 07:49:55,374] Trial 3 finished with value: 0.3106561303138733 and parameters: {'lr': 3.114656902210125e-05, 'wd': 3.562755708012949e-05, 'bs': 256, 'epochs': 638, 'shared_hidden': 154, 'outcome_hidden': 172}. Best is trial 0 with value: 0.30537688732147217.\n",
      "[I 2025-04-26 07:49:58,865] Trial 4 finished with value: 0.3227623403072357 and parameters: {'lr': 1.9048842776981586e-05, 'wd': 0.0034836399552004385, 'bs': 128, 'epochs': 319, 'shared_hidden': 92, 'outcome_hidden': 136}. Best is trial 0 with value: 0.30537688732147217.\n",
      "[I 2025-04-26 07:50:02,889] Trial 5 finished with value: 0.30530816316604614 and parameters: {'lr': 2.096562625605172e-05, 'wd': 0.00040340823762471804, 'bs': 128, 'epochs': 414, 'shared_hidden': 69, 'outcome_hidden': 105}. Best is trial 5 with value: 0.30530816316604614.\n",
      "[I 2025-04-26 07:50:06,018] Trial 6 finished with value: 0.3073864281177521 and parameters: {'lr': 0.00019580452191562996, 'wd': 5.5536471452102236e-05, 'bs': 256, 'epochs': 364, 'shared_hidden': 115, 'outcome_hidden': 145}. Best is trial 5 with value: 0.30530816316604614.\n",
      "[I 2025-04-26 07:50:12,459] Trial 7 finished with value: 0.3201271891593933 and parameters: {'lr': 0.003961670538737473, 'wd': 0.0002050130480960061, 'bs': 128, 'epochs': 481, 'shared_hidden': 172, 'outcome_hidden': 180}. Best is trial 5 with value: 0.30530816316604614.\n",
      "[I 2025-04-26 07:50:27,071] Trial 8 finished with value: 0.302063912153244 and parameters: {'lr': 1.0373889400759984e-05, 'wd': 0.00012148776261898832, 'bs': 32, 'epochs': 519, 'shared_hidden': 89, 'outcome_hidden': 172}. Best is trial 8 with value: 0.302063912153244.\n",
      "[I 2025-04-26 07:50:33,398] Trial 9 finished with value: 0.3096173107624054 and parameters: {'lr': 0.0005528691594127814, 'wd': 7.433457576355841e-05, 'bs': 128, 'epochs': 464, 'shared_hidden': 165, 'outcome_hidden': 190}. Best is trial 8 with value: 0.302063912153244.\n"
     ]
    },
    {
     "name": "stdout",
     "output_type": "stream",
     "text": [
      "🔍 Best params for dragonnet: {'lr': 1.0373889400759984e-05, 'wd': 0.00012148776261898832, 'bs': 32, 'epochs': 519, 'shared_hidden': 89, 'outcome_hidden': 172}\n"
     ]
    },
    {
     "name": "stderr",
     "output_type": "stream",
     "text": [
      "2025-04-26 07:50:57.335683: E tensorflow/core/framework/node_def_util.cc:676] NodeDef mentions attribute use_unbounded_threadpool which is not in the op definition: Op<name=MapDataset; signature=input_dataset:variant, other_arguments: -> handle:variant; attr=f:func; attr=Targuments:list(type),min=0; attr=output_types:list(type),min=1; attr=output_shapes:list(shape),min=1; attr=use_inter_op_parallelism:bool,default=true; attr=preserve_cardinality:bool,default=false; attr=force_synchronous:bool,default=false; attr=metadata:string,default=\"\"> This may be expected if your graph generating binary is newer  than this binary. Unknown attributes will be ignored. NodeDef: {{node ParallelMapDatasetV2/_14}}\n",
      "2025-04-26 07:50:57.335958: E tensorflow/core/framework/node_def_util.cc:676] NodeDef mentions attribute use_unbounded_threadpool which is not in the op definition: Op<name=MapDataset; signature=input_dataset:variant, other_arguments: -> handle:variant; attr=f:func; attr=Targuments:list(type),min=0; attr=output_types:list(type),min=1; attr=output_shapes:list(shape),min=1; attr=use_inter_op_parallelism:bool,default=true; attr=preserve_cardinality:bool,default=false; attr=force_synchronous:bool,default=false; attr=metadata:string,default=\"\"> This may be expected if your graph generating binary is newer  than this binary. Unknown attributes will be ignored. NodeDef: {{node ParallelMapDatasetV2/_14}}\n",
      "2025-04-26 07:51:03.082083: E tensorflow/core/framework/node_def_util.cc:676] NodeDef mentions attribute use_unbounded_threadpool which is not in the op definition: Op<name=MapDataset; signature=input_dataset:variant, other_arguments: -> handle:variant; attr=f:func; attr=Targuments:list(type),min=0; attr=output_types:list(type),min=1; attr=output_shapes:list(shape),min=1; attr=use_inter_op_parallelism:bool,default=true; attr=preserve_cardinality:bool,default=false; attr=force_synchronous:bool,default=false; attr=metadata:string,default=\"\"> This may be expected if your graph generating binary is newer  than this binary. Unknown attributes will be ignored. NodeDef: {{node ParallelMapDatasetV2/_14}}\n",
      "2025-04-26 07:51:03.082373: E tensorflow/core/framework/node_def_util.cc:676] NodeDef mentions attribute use_unbounded_threadpool which is not in the op definition: Op<name=MapDataset; signature=input_dataset:variant, other_arguments: -> handle:variant; attr=f:func; attr=Targuments:list(type),min=0; attr=output_types:list(type),min=1; attr=output_shapes:list(shape),min=1; attr=use_inter_op_parallelism:bool,default=true; attr=preserve_cardinality:bool,default=false; attr=force_synchronous:bool,default=false; attr=metadata:string,default=\"\"> This may be expected if your graph generating binary is newer  than this binary. Unknown attributes will be ignored. NodeDef: {{node ParallelMapDatasetV2/_14}}\n",
      "  3%|▎         | 1/30 [11:03<5:20:51, 663.86s/it]"
     ]
    },
    {
     "name": "stdout",
     "output_type": "stream",
     "text": [
      "The average treatment effect (ATE) is 1.7758826\n",
      "Epoch 1: loss 2.3534,\tloss_y 1.6081, 1.6247, 0.0332,\tloss_eta 0.7453, 0.7847, 0.0787\n",
      "Warning: covariate dimension does not aligned with the specified input dimension; filling in the remaining dimension with noise.\n",
      "Warning: covariate dimension does not aligned with the specified input dimension; filling in the remaining dimension with noise.\n"
     ]
    },
    {
     "name": "stderr",
     "output_type": "stream",
     "text": [
      "INFO \t Training with 6 minibatches per epoch\n",
      "INFO \t Evaluating 1 minibatches\n",
      "2025-04-26 07:52:31.766802: E tensorflow/core/framework/node_def_util.cc:676] NodeDef mentions attribute use_unbounded_threadpool which is not in the op definition: Op<name=MapDataset; signature=input_dataset:variant, other_arguments: -> handle:variant; attr=f:func; attr=Targuments:list(type),min=0; attr=output_types:list(type),min=1; attr=output_shapes:list(shape),min=1; attr=use_inter_op_parallelism:bool,default=true; attr=preserve_cardinality:bool,default=false; attr=force_synchronous:bool,default=false; attr=metadata:string,default=\"\"> This may be expected if your graph generating binary is newer  than this binary. Unknown attributes will be ignored. NodeDef: {{node ParallelMapDatasetV2/_14}}\n",
      "2025-04-26 07:52:31.767112: E tensorflow/core/framework/node_def_util.cc:676] NodeDef mentions attribute use_unbounded_threadpool which is not in the op definition: Op<name=MapDataset; signature=input_dataset:variant, other_arguments: -> handle:variant; attr=f:func; attr=Targuments:list(type),min=0; attr=output_types:list(type),min=1; attr=output_shapes:list(shape),min=1; attr=use_inter_op_parallelism:bool,default=true; attr=preserve_cardinality:bool,default=false; attr=force_synchronous:bool,default=false; attr=metadata:string,default=\"\"> This may be expected if your graph generating binary is newer  than this binary. Unknown attributes will be ignored. NodeDef: {{node ParallelMapDatasetV2/_14}}\n",
      "2025-04-26 07:52:37.491712: E tensorflow/core/framework/node_def_util.cc:676] NodeDef mentions attribute use_unbounded_threadpool which is not in the op definition: Op<name=MapDataset; signature=input_dataset:variant, other_arguments: -> handle:variant; attr=f:func; attr=Targuments:list(type),min=0; attr=output_types:list(type),min=1; attr=output_shapes:list(shape),min=1; attr=use_inter_op_parallelism:bool,default=true; attr=preserve_cardinality:bool,default=false; attr=force_synchronous:bool,default=false; attr=metadata:string,default=\"\"> This may be expected if your graph generating binary is newer  than this binary. Unknown attributes will be ignored. NodeDef: {{node ParallelMapDatasetV2/_14}}\n",
      "2025-04-26 07:52:37.492003: E tensorflow/core/framework/node_def_util.cc:676] NodeDef mentions attribute use_unbounded_threadpool which is not in the op definition: Op<name=MapDataset; signature=input_dataset:variant, other_arguments: -> handle:variant; attr=f:func; attr=Targuments:list(type),min=0; attr=output_types:list(type),min=1; attr=output_shapes:list(shape),min=1; attr=use_inter_op_parallelism:bool,default=true; attr=preserve_cardinality:bool,default=false; attr=force_synchronous:bool,default=false; attr=metadata:string,default=\"\"> This may be expected if your graph generating binary is newer  than this binary. Unknown attributes will be ignored. NodeDef: {{node ParallelMapDatasetV2/_14}}\n",
      "  7%|▋         | 2/30 [12:38<2:33:28, 328.89s/it]"
     ]
    },
    {
     "name": "stdout",
     "output_type": "stream",
     "text": [
      "The average treatment effect (ATE) is 1.7633418\n",
      "Epoch 1: loss 2.4103,\tloss_y 1.6560, 1.6653, 0.0187,\tloss_eta 0.7544, 0.7957, 0.0827\n",
      "Warning: covariate dimension does not aligned with the specified input dimension; filling in the remaining dimension with noise.\n",
      "Warning: covariate dimension does not aligned with the specified input dimension; filling in the remaining dimension with noise.\n"
     ]
    },
    {
     "name": "stderr",
     "output_type": "stream",
     "text": [
      "INFO \t Training with 6 minibatches per epoch\n",
      "INFO \t Evaluating 1 minibatches\n",
      "2025-04-26 07:54:06.444335: E tensorflow/core/framework/node_def_util.cc:676] NodeDef mentions attribute use_unbounded_threadpool which is not in the op definition: Op<name=MapDataset; signature=input_dataset:variant, other_arguments: -> handle:variant; attr=f:func; attr=Targuments:list(type),min=0; attr=output_types:list(type),min=1; attr=output_shapes:list(shape),min=1; attr=use_inter_op_parallelism:bool,default=true; attr=preserve_cardinality:bool,default=false; attr=force_synchronous:bool,default=false; attr=metadata:string,default=\"\"> This may be expected if your graph generating binary is newer  than this binary. Unknown attributes will be ignored. NodeDef: {{node ParallelMapDatasetV2/_14}}\n",
      "2025-04-26 07:54:06.444735: E tensorflow/core/framework/node_def_util.cc:676] NodeDef mentions attribute use_unbounded_threadpool which is not in the op definition: Op<name=MapDataset; signature=input_dataset:variant, other_arguments: -> handle:variant; attr=f:func; attr=Targuments:list(type),min=0; attr=output_types:list(type),min=1; attr=output_shapes:list(shape),min=1; attr=use_inter_op_parallelism:bool,default=true; attr=preserve_cardinality:bool,default=false; attr=force_synchronous:bool,default=false; attr=metadata:string,default=\"\"> This may be expected if your graph generating binary is newer  than this binary. Unknown attributes will be ignored. NodeDef: {{node ParallelMapDatasetV2/_14}}\n",
      "2025-04-26 07:54:12.210183: E tensorflow/core/framework/node_def_util.cc:676] NodeDef mentions attribute use_unbounded_threadpool which is not in the op definition: Op<name=MapDataset; signature=input_dataset:variant, other_arguments: -> handle:variant; attr=f:func; attr=Targuments:list(type),min=0; attr=output_types:list(type),min=1; attr=output_shapes:list(shape),min=1; attr=use_inter_op_parallelism:bool,default=true; attr=preserve_cardinality:bool,default=false; attr=force_synchronous:bool,default=false; attr=metadata:string,default=\"\"> This may be expected if your graph generating binary is newer  than this binary. Unknown attributes will be ignored. NodeDef: {{node ParallelMapDatasetV2/_14}}\n",
      "2025-04-26 07:54:12.210479: E tensorflow/core/framework/node_def_util.cc:676] NodeDef mentions attribute use_unbounded_threadpool which is not in the op definition: Op<name=MapDataset; signature=input_dataset:variant, other_arguments: -> handle:variant; attr=f:func; attr=Targuments:list(type),min=0; attr=output_types:list(type),min=1; attr=output_shapes:list(shape),min=1; attr=use_inter_op_parallelism:bool,default=true; attr=preserve_cardinality:bool,default=false; attr=force_synchronous:bool,default=false; attr=metadata:string,default=\"\"> This may be expected if your graph generating binary is newer  than this binary. Unknown attributes will be ignored. NodeDef: {{node ParallelMapDatasetV2/_14}}\n",
      " 10%|█         | 3/30 [14:12<1:39:52, 221.96s/it]"
     ]
    },
    {
     "name": "stdout",
     "output_type": "stream",
     "text": [
      "The average treatment effect (ATE) is 1.7911233\n",
      "Epoch 1: loss 2.4212,\tloss_y 1.6531, 1.6995, 0.0927,\tloss_eta 0.7681, 0.8062, 0.0762\n",
      "Warning: covariate dimension does not aligned with the specified input dimension; filling in the remaining dimension with noise.\n",
      "Warning: covariate dimension does not aligned with the specified input dimension; filling in the remaining dimension with noise.\n"
     ]
    },
    {
     "name": "stderr",
     "output_type": "stream",
     "text": [
      "INFO \t Training with 6 minibatches per epoch\n",
      "INFO \t Evaluating 1 minibatches\n",
      "2025-04-26 07:55:48.765040: E tensorflow/core/framework/node_def_util.cc:676] NodeDef mentions attribute use_unbounded_threadpool which is not in the op definition: Op<name=MapDataset; signature=input_dataset:variant, other_arguments: -> handle:variant; attr=f:func; attr=Targuments:list(type),min=0; attr=output_types:list(type),min=1; attr=output_shapes:list(shape),min=1; attr=use_inter_op_parallelism:bool,default=true; attr=preserve_cardinality:bool,default=false; attr=force_synchronous:bool,default=false; attr=metadata:string,default=\"\"> This may be expected if your graph generating binary is newer  than this binary. Unknown attributes will be ignored. NodeDef: {{node ParallelMapDatasetV2/_14}}\n",
      "2025-04-26 07:55:48.765325: E tensorflow/core/framework/node_def_util.cc:676] NodeDef mentions attribute use_unbounded_threadpool which is not in the op definition: Op<name=MapDataset; signature=input_dataset:variant, other_arguments: -> handle:variant; attr=f:func; attr=Targuments:list(type),min=0; attr=output_types:list(type),min=1; attr=output_shapes:list(shape),min=1; attr=use_inter_op_parallelism:bool,default=true; attr=preserve_cardinality:bool,default=false; attr=force_synchronous:bool,default=false; attr=metadata:string,default=\"\"> This may be expected if your graph generating binary is newer  than this binary. Unknown attributes will be ignored. NodeDef: {{node ParallelMapDatasetV2/_14}}\n",
      "2025-04-26 07:55:55.165710: E tensorflow/core/framework/node_def_util.cc:676] NodeDef mentions attribute use_unbounded_threadpool which is not in the op definition: Op<name=MapDataset; signature=input_dataset:variant, other_arguments: -> handle:variant; attr=f:func; attr=Targuments:list(type),min=0; attr=output_types:list(type),min=1; attr=output_shapes:list(shape),min=1; attr=use_inter_op_parallelism:bool,default=true; attr=preserve_cardinality:bool,default=false; attr=force_synchronous:bool,default=false; attr=metadata:string,default=\"\"> This may be expected if your graph generating binary is newer  than this binary. Unknown attributes will be ignored. NodeDef: {{node ParallelMapDatasetV2/_14}}\n",
      "2025-04-26 07:55:55.166037: E tensorflow/core/framework/node_def_util.cc:676] NodeDef mentions attribute use_unbounded_threadpool which is not in the op definition: Op<name=MapDataset; signature=input_dataset:variant, other_arguments: -> handle:variant; attr=f:func; attr=Targuments:list(type),min=0; attr=output_types:list(type),min=1; attr=output_shapes:list(shape),min=1; attr=use_inter_op_parallelism:bool,default=true; attr=preserve_cardinality:bool,default=false; attr=force_synchronous:bool,default=false; attr=metadata:string,default=\"\"> This may be expected if your graph generating binary is newer  than this binary. Unknown attributes will be ignored. NodeDef: {{node ParallelMapDatasetV2/_14}}\n",
      " 13%|█▎        | 4/30 [15:55<1:15:49, 174.98s/it]"
     ]
    },
    {
     "name": "stdout",
     "output_type": "stream",
     "text": [
      "The average treatment effect (ATE) is 1.6682638\n",
      "Epoch 1: loss 2.4025,\tloss_y 1.6353, 1.6528, 0.0351,\tloss_eta 0.7672, 0.8009, 0.0673\n",
      "Warning: covariate dimension does not aligned with the specified input dimension; filling in the remaining dimension with noise.\n",
      "Warning: covariate dimension does not aligned with the specified input dimension; filling in the remaining dimension with noise.\n"
     ]
    },
    {
     "name": "stderr",
     "output_type": "stream",
     "text": [
      "INFO \t Training with 6 minibatches per epoch\n",
      "INFO \t Evaluating 1 minibatches\n",
      "2025-04-26 07:57:42.213203: E tensorflow/core/framework/node_def_util.cc:676] NodeDef mentions attribute use_unbounded_threadpool which is not in the op definition: Op<name=MapDataset; signature=input_dataset:variant, other_arguments: -> handle:variant; attr=f:func; attr=Targuments:list(type),min=0; attr=output_types:list(type),min=1; attr=output_shapes:list(shape),min=1; attr=use_inter_op_parallelism:bool,default=true; attr=preserve_cardinality:bool,default=false; attr=force_synchronous:bool,default=false; attr=metadata:string,default=\"\"> This may be expected if your graph generating binary is newer  than this binary. Unknown attributes will be ignored. NodeDef: {{node ParallelMapDatasetV2/_14}}\n",
      "2025-04-26 07:57:42.213494: E tensorflow/core/framework/node_def_util.cc:676] NodeDef mentions attribute use_unbounded_threadpool which is not in the op definition: Op<name=MapDataset; signature=input_dataset:variant, other_arguments: -> handle:variant; attr=f:func; attr=Targuments:list(type),min=0; attr=output_types:list(type),min=1; attr=output_shapes:list(shape),min=1; attr=use_inter_op_parallelism:bool,default=true; attr=preserve_cardinality:bool,default=false; attr=force_synchronous:bool,default=false; attr=metadata:string,default=\"\"> This may be expected if your graph generating binary is newer  than this binary. Unknown attributes will be ignored. NodeDef: {{node ParallelMapDatasetV2/_14}}\n",
      "2025-04-26 07:57:48.287062: E tensorflow/core/framework/node_def_util.cc:676] NodeDef mentions attribute use_unbounded_threadpool which is not in the op definition: Op<name=MapDataset; signature=input_dataset:variant, other_arguments: -> handle:variant; attr=f:func; attr=Targuments:list(type),min=0; attr=output_types:list(type),min=1; attr=output_shapes:list(shape),min=1; attr=use_inter_op_parallelism:bool,default=true; attr=preserve_cardinality:bool,default=false; attr=force_synchronous:bool,default=false; attr=metadata:string,default=\"\"> This may be expected if your graph generating binary is newer  than this binary. Unknown attributes will be ignored. NodeDef: {{node ParallelMapDatasetV2/_14}}\n",
      "2025-04-26 07:57:48.287350: E tensorflow/core/framework/node_def_util.cc:676] NodeDef mentions attribute use_unbounded_threadpool which is not in the op definition: Op<name=MapDataset; signature=input_dataset:variant, other_arguments: -> handle:variant; attr=f:func; attr=Targuments:list(type),min=0; attr=output_types:list(type),min=1; attr=output_shapes:list(shape),min=1; attr=use_inter_op_parallelism:bool,default=true; attr=preserve_cardinality:bool,default=false; attr=force_synchronous:bool,default=false; attr=metadata:string,default=\"\"> This may be expected if your graph generating binary is newer  than this binary. Unknown attributes will be ignored. NodeDef: {{node ParallelMapDatasetV2/_14}}\n",
      " 17%|█▋        | 5/30 [17:49<1:03:36, 152.67s/it]"
     ]
    },
    {
     "name": "stdout",
     "output_type": "stream",
     "text": [
      "The average treatment effect (ATE) is 1.8257073\n",
      "Epoch 1: loss 2.4351,\tloss_y 1.6546, 1.6663, 0.0234,\tloss_eta 0.7805, 0.8244, 0.0877\n",
      "Warning: covariate dimension does not aligned with the specified input dimension; filling in the remaining dimension with noise.\n",
      "Warning: covariate dimension does not aligned with the specified input dimension; filling in the remaining dimension with noise.\n"
     ]
    },
    {
     "name": "stderr",
     "output_type": "stream",
     "text": [
      "INFO \t Training with 6 minibatches per epoch\n",
      "INFO \t Evaluating 1 minibatches\n",
      "2025-04-26 07:59:33.262049: E tensorflow/core/framework/node_def_util.cc:676] NodeDef mentions attribute use_unbounded_threadpool which is not in the op definition: Op<name=MapDataset; signature=input_dataset:variant, other_arguments: -> handle:variant; attr=f:func; attr=Targuments:list(type),min=0; attr=output_types:list(type),min=1; attr=output_shapes:list(shape),min=1; attr=use_inter_op_parallelism:bool,default=true; attr=preserve_cardinality:bool,default=false; attr=force_synchronous:bool,default=false; attr=metadata:string,default=\"\"> This may be expected if your graph generating binary is newer  than this binary. Unknown attributes will be ignored. NodeDef: {{node ParallelMapDatasetV2/_14}}\n",
      "2025-04-26 07:59:33.262360: E tensorflow/core/framework/node_def_util.cc:676] NodeDef mentions attribute use_unbounded_threadpool which is not in the op definition: Op<name=MapDataset; signature=input_dataset:variant, other_arguments: -> handle:variant; attr=f:func; attr=Targuments:list(type),min=0; attr=output_types:list(type),min=1; attr=output_shapes:list(shape),min=1; attr=use_inter_op_parallelism:bool,default=true; attr=preserve_cardinality:bool,default=false; attr=force_synchronous:bool,default=false; attr=metadata:string,default=\"\"> This may be expected if your graph generating binary is newer  than this binary. Unknown attributes will be ignored. NodeDef: {{node ParallelMapDatasetV2/_14}}\n",
      "2025-04-26 07:59:39.171959: E tensorflow/core/framework/node_def_util.cc:676] NodeDef mentions attribute use_unbounded_threadpool which is not in the op definition: Op<name=MapDataset; signature=input_dataset:variant, other_arguments: -> handle:variant; attr=f:func; attr=Targuments:list(type),min=0; attr=output_types:list(type),min=1; attr=output_shapes:list(shape),min=1; attr=use_inter_op_parallelism:bool,default=true; attr=preserve_cardinality:bool,default=false; attr=force_synchronous:bool,default=false; attr=metadata:string,default=\"\"> This may be expected if your graph generating binary is newer  than this binary. Unknown attributes will be ignored. NodeDef: {{node ParallelMapDatasetV2/_14}}\n",
      "2025-04-26 07:59:39.172243: E tensorflow/core/framework/node_def_util.cc:676] NodeDef mentions attribute use_unbounded_threadpool which is not in the op definition: Op<name=MapDataset; signature=input_dataset:variant, other_arguments: -> handle:variant; attr=f:func; attr=Targuments:list(type),min=0; attr=output_types:list(type),min=1; attr=output_shapes:list(shape),min=1; attr=use_inter_op_parallelism:bool,default=true; attr=preserve_cardinality:bool,default=false; attr=force_synchronous:bool,default=false; attr=metadata:string,default=\"\"> This may be expected if your graph generating binary is newer  than this binary. Unknown attributes will be ignored. NodeDef: {{node ParallelMapDatasetV2/_14}}\n",
      " 20%|██        | 6/30 [19:39<55:23, 138.46s/it]  "
     ]
    },
    {
     "name": "stdout",
     "output_type": "stream",
     "text": [
      "The average treatment effect (ATE) is 1.7997019\n",
      "Epoch 1: loss 2.4886,\tloss_y 1.6845, 1.7005, 0.0319,\tloss_eta 0.8041, 0.8415, 0.0750\n",
      "Warning: covariate dimension does not aligned with the specified input dimension; filling in the remaining dimension with noise.\n",
      "Warning: covariate dimension does not aligned with the specified input dimension; filling in the remaining dimension with noise.\n"
     ]
    },
    {
     "name": "stderr",
     "output_type": "stream",
     "text": [
      "INFO \t Training with 6 minibatches per epoch\n",
      "INFO \t Evaluating 1 minibatches\n",
      "2025-04-26 08:01:22.084218: E tensorflow/core/framework/node_def_util.cc:676] NodeDef mentions attribute use_unbounded_threadpool which is not in the op definition: Op<name=MapDataset; signature=input_dataset:variant, other_arguments: -> handle:variant; attr=f:func; attr=Targuments:list(type),min=0; attr=output_types:list(type),min=1; attr=output_shapes:list(shape),min=1; attr=use_inter_op_parallelism:bool,default=true; attr=preserve_cardinality:bool,default=false; attr=force_synchronous:bool,default=false; attr=metadata:string,default=\"\"> This may be expected if your graph generating binary is newer  than this binary. Unknown attributes will be ignored. NodeDef: {{node ParallelMapDatasetV2/_14}}\n",
      "2025-04-26 08:01:22.084504: E tensorflow/core/framework/node_def_util.cc:676] NodeDef mentions attribute use_unbounded_threadpool which is not in the op definition: Op<name=MapDataset; signature=input_dataset:variant, other_arguments: -> handle:variant; attr=f:func; attr=Targuments:list(type),min=0; attr=output_types:list(type),min=1; attr=output_shapes:list(shape),min=1; attr=use_inter_op_parallelism:bool,default=true; attr=preserve_cardinality:bool,default=false; attr=force_synchronous:bool,default=false; attr=metadata:string,default=\"\"> This may be expected if your graph generating binary is newer  than this binary. Unknown attributes will be ignored. NodeDef: {{node ParallelMapDatasetV2/_14}}\n",
      "2025-04-26 08:01:28.709729: E tensorflow/core/framework/node_def_util.cc:676] NodeDef mentions attribute use_unbounded_threadpool which is not in the op definition: Op<name=MapDataset; signature=input_dataset:variant, other_arguments: -> handle:variant; attr=f:func; attr=Targuments:list(type),min=0; attr=output_types:list(type),min=1; attr=output_shapes:list(shape),min=1; attr=use_inter_op_parallelism:bool,default=true; attr=preserve_cardinality:bool,default=false; attr=force_synchronous:bool,default=false; attr=metadata:string,default=\"\"> This may be expected if your graph generating binary is newer  than this binary. Unknown attributes will be ignored. NodeDef: {{node ParallelMapDatasetV2/_14}}\n",
      "2025-04-26 08:01:28.710034: E tensorflow/core/framework/node_def_util.cc:676] NodeDef mentions attribute use_unbounded_threadpool which is not in the op definition: Op<name=MapDataset; signature=input_dataset:variant, other_arguments: -> handle:variant; attr=f:func; attr=Targuments:list(type),min=0; attr=output_types:list(type),min=1; attr=output_shapes:list(shape),min=1; attr=use_inter_op_parallelism:bool,default=true; attr=preserve_cardinality:bool,default=false; attr=force_synchronous:bool,default=false; attr=metadata:string,default=\"\"> This may be expected if your graph generating binary is newer  than this binary. Unknown attributes will be ignored. NodeDef: {{node ParallelMapDatasetV2/_14}}\n",
      " 23%|██▎       | 7/30 [21:29<49:27, 129.01s/it]"
     ]
    },
    {
     "name": "stdout",
     "output_type": "stream",
     "text": [
      "The average treatment effect (ATE) is 1.7318991\n",
      "Epoch 1: loss 2.3619,\tloss_y 1.5956, 1.6313, 0.0713,\tloss_eta 0.7662, 0.8078, 0.0832\n",
      "Warning: covariate dimension does not aligned with the specified input dimension; filling in the remaining dimension with noise.\n",
      "Warning: covariate dimension does not aligned with the specified input dimension; filling in the remaining dimension with noise.\n"
     ]
    },
    {
     "name": "stderr",
     "output_type": "stream",
     "text": [
      "INFO \t Training with 6 minibatches per epoch\n",
      "INFO \t Evaluating 1 minibatches\n",
      "2025-04-26 08:03:09.359021: E tensorflow/core/framework/node_def_util.cc:676] NodeDef mentions attribute use_unbounded_threadpool which is not in the op definition: Op<name=MapDataset; signature=input_dataset:variant, other_arguments: -> handle:variant; attr=f:func; attr=Targuments:list(type),min=0; attr=output_types:list(type),min=1; attr=output_shapes:list(shape),min=1; attr=use_inter_op_parallelism:bool,default=true; attr=preserve_cardinality:bool,default=false; attr=force_synchronous:bool,default=false; attr=metadata:string,default=\"\"> This may be expected if your graph generating binary is newer  than this binary. Unknown attributes will be ignored. NodeDef: {{node ParallelMapDatasetV2/_14}}\n",
      "2025-04-26 08:03:09.359294: E tensorflow/core/framework/node_def_util.cc:676] NodeDef mentions attribute use_unbounded_threadpool which is not in the op definition: Op<name=MapDataset; signature=input_dataset:variant, other_arguments: -> handle:variant; attr=f:func; attr=Targuments:list(type),min=0; attr=output_types:list(type),min=1; attr=output_shapes:list(shape),min=1; attr=use_inter_op_parallelism:bool,default=true; attr=preserve_cardinality:bool,default=false; attr=force_synchronous:bool,default=false; attr=metadata:string,default=\"\"> This may be expected if your graph generating binary is newer  than this binary. Unknown attributes will be ignored. NodeDef: {{node ParallelMapDatasetV2/_14}}\n",
      "2025-04-26 08:03:15.382827: E tensorflow/core/framework/node_def_util.cc:676] NodeDef mentions attribute use_unbounded_threadpool which is not in the op definition: Op<name=MapDataset; signature=input_dataset:variant, other_arguments: -> handle:variant; attr=f:func; attr=Targuments:list(type),min=0; attr=output_types:list(type),min=1; attr=output_shapes:list(shape),min=1; attr=use_inter_op_parallelism:bool,default=true; attr=preserve_cardinality:bool,default=false; attr=force_synchronous:bool,default=false; attr=metadata:string,default=\"\"> This may be expected if your graph generating binary is newer  than this binary. Unknown attributes will be ignored. NodeDef: {{node ParallelMapDatasetV2/_14}}\n",
      "2025-04-26 08:03:15.383141: E tensorflow/core/framework/node_def_util.cc:676] NodeDef mentions attribute use_unbounded_threadpool which is not in the op definition: Op<name=MapDataset; signature=input_dataset:variant, other_arguments: -> handle:variant; attr=f:func; attr=Targuments:list(type),min=0; attr=output_types:list(type),min=1; attr=output_shapes:list(shape),min=1; attr=use_inter_op_parallelism:bool,default=true; attr=preserve_cardinality:bool,default=false; attr=force_synchronous:bool,default=false; attr=metadata:string,default=\"\"> This may be expected if your graph generating binary is newer  than this binary. Unknown attributes will be ignored. NodeDef: {{node ParallelMapDatasetV2/_14}}\n",
      " 27%|██▋       | 8/30 [23:16<44:41, 121.90s/it]"
     ]
    },
    {
     "name": "stdout",
     "output_type": "stream",
     "text": [
      "The average treatment effect (ATE) is 1.8456714\n",
      "Epoch 1: loss 2.4352,\tloss_y 1.6727, 1.6996, 0.0538,\tloss_eta 0.7625, 0.7941, 0.0632\n",
      "Warning: covariate dimension does not aligned with the specified input dimension; filling in the remaining dimension with noise.\n",
      "Warning: covariate dimension does not aligned with the specified input dimension; filling in the remaining dimension with noise.\n"
     ]
    },
    {
     "name": "stderr",
     "output_type": "stream",
     "text": [
      "INFO \t Training with 6 minibatches per epoch\n",
      "INFO \t Evaluating 1 minibatches\n",
      "2025-04-26 08:04:59.737061: E tensorflow/core/framework/node_def_util.cc:676] NodeDef mentions attribute use_unbounded_threadpool which is not in the op definition: Op<name=MapDataset; signature=input_dataset:variant, other_arguments: -> handle:variant; attr=f:func; attr=Targuments:list(type),min=0; attr=output_types:list(type),min=1; attr=output_shapes:list(shape),min=1; attr=use_inter_op_parallelism:bool,default=true; attr=preserve_cardinality:bool,default=false; attr=force_synchronous:bool,default=false; attr=metadata:string,default=\"\"> This may be expected if your graph generating binary is newer  than this binary. Unknown attributes will be ignored. NodeDef: {{node ParallelMapDatasetV2/_14}}\n",
      "2025-04-26 08:04:59.737385: E tensorflow/core/framework/node_def_util.cc:676] NodeDef mentions attribute use_unbounded_threadpool which is not in the op definition: Op<name=MapDataset; signature=input_dataset:variant, other_arguments: -> handle:variant; attr=f:func; attr=Targuments:list(type),min=0; attr=output_types:list(type),min=1; attr=output_shapes:list(shape),min=1; attr=use_inter_op_parallelism:bool,default=true; attr=preserve_cardinality:bool,default=false; attr=force_synchronous:bool,default=false; attr=metadata:string,default=\"\"> This may be expected if your graph generating binary is newer  than this binary. Unknown attributes will be ignored. NodeDef: {{node ParallelMapDatasetV2/_14}}\n",
      "2025-04-26 08:05:05.686722: E tensorflow/core/framework/node_def_util.cc:676] NodeDef mentions attribute use_unbounded_threadpool which is not in the op definition: Op<name=MapDataset; signature=input_dataset:variant, other_arguments: -> handle:variant; attr=f:func; attr=Targuments:list(type),min=0; attr=output_types:list(type),min=1; attr=output_shapes:list(shape),min=1; attr=use_inter_op_parallelism:bool,default=true; attr=preserve_cardinality:bool,default=false; attr=force_synchronous:bool,default=false; attr=metadata:string,default=\"\"> This may be expected if your graph generating binary is newer  than this binary. Unknown attributes will be ignored. NodeDef: {{node ParallelMapDatasetV2/_14}}\n",
      "2025-04-26 08:05:05.687020: E tensorflow/core/framework/node_def_util.cc:676] NodeDef mentions attribute use_unbounded_threadpool which is not in the op definition: Op<name=MapDataset; signature=input_dataset:variant, other_arguments: -> handle:variant; attr=f:func; attr=Targuments:list(type),min=0; attr=output_types:list(type),min=1; attr=output_shapes:list(shape),min=1; attr=use_inter_op_parallelism:bool,default=true; attr=preserve_cardinality:bool,default=false; attr=force_synchronous:bool,default=false; attr=metadata:string,default=\"\"> This may be expected if your graph generating binary is newer  than this binary. Unknown attributes will be ignored. NodeDef: {{node ParallelMapDatasetV2/_14}}\n",
      " 30%|███       | 9/30 [25:06<41:23, 118.27s/it]"
     ]
    },
    {
     "name": "stdout",
     "output_type": "stream",
     "text": [
      "The average treatment effect (ATE) is 1.7384518\n",
      "Epoch 1: loss 2.3103,\tloss_y 1.5678, 1.6095, 0.0834,\tloss_eta 0.7425, 0.7691, 0.0533\n",
      "Warning: covariate dimension does not aligned with the specified input dimension; filling in the remaining dimension with noise.\n",
      "Warning: covariate dimension does not aligned with the specified input dimension; filling in the remaining dimension with noise.\n"
     ]
    },
    {
     "name": "stderr",
     "output_type": "stream",
     "text": [
      "INFO \t Training with 6 minibatches per epoch\n",
      "INFO \t Evaluating 1 minibatches\n",
      "2025-04-26 08:06:48.717260: E tensorflow/core/framework/node_def_util.cc:676] NodeDef mentions attribute use_unbounded_threadpool which is not in the op definition: Op<name=MapDataset; signature=input_dataset:variant, other_arguments: -> handle:variant; attr=f:func; attr=Targuments:list(type),min=0; attr=output_types:list(type),min=1; attr=output_shapes:list(shape),min=1; attr=use_inter_op_parallelism:bool,default=true; attr=preserve_cardinality:bool,default=false; attr=force_synchronous:bool,default=false; attr=metadata:string,default=\"\"> This may be expected if your graph generating binary is newer  than this binary. Unknown attributes will be ignored. NodeDef: {{node ParallelMapDatasetV2/_14}}\n",
      "2025-04-26 08:06:48.717620: E tensorflow/core/framework/node_def_util.cc:676] NodeDef mentions attribute use_unbounded_threadpool which is not in the op definition: Op<name=MapDataset; signature=input_dataset:variant, other_arguments: -> handle:variant; attr=f:func; attr=Targuments:list(type),min=0; attr=output_types:list(type),min=1; attr=output_shapes:list(shape),min=1; attr=use_inter_op_parallelism:bool,default=true; attr=preserve_cardinality:bool,default=false; attr=force_synchronous:bool,default=false; attr=metadata:string,default=\"\"> This may be expected if your graph generating binary is newer  than this binary. Unknown attributes will be ignored. NodeDef: {{node ParallelMapDatasetV2/_14}}\n",
      "2025-04-26 08:06:54.909932: E tensorflow/core/framework/node_def_util.cc:676] NodeDef mentions attribute use_unbounded_threadpool which is not in the op definition: Op<name=MapDataset; signature=input_dataset:variant, other_arguments: -> handle:variant; attr=f:func; attr=Targuments:list(type),min=0; attr=output_types:list(type),min=1; attr=output_shapes:list(shape),min=1; attr=use_inter_op_parallelism:bool,default=true; attr=preserve_cardinality:bool,default=false; attr=force_synchronous:bool,default=false; attr=metadata:string,default=\"\"> This may be expected if your graph generating binary is newer  than this binary. Unknown attributes will be ignored. NodeDef: {{node ParallelMapDatasetV2/_14}}\n",
      "2025-04-26 08:06:54.910259: E tensorflow/core/framework/node_def_util.cc:676] NodeDef mentions attribute use_unbounded_threadpool which is not in the op definition: Op<name=MapDataset; signature=input_dataset:variant, other_arguments: -> handle:variant; attr=f:func; attr=Targuments:list(type),min=0; attr=output_types:list(type),min=1; attr=output_shapes:list(shape),min=1; attr=use_inter_op_parallelism:bool,default=true; attr=preserve_cardinality:bool,default=false; attr=force_synchronous:bool,default=false; attr=metadata:string,default=\"\"> This may be expected if your graph generating binary is newer  than this binary. Unknown attributes will be ignored. NodeDef: {{node ParallelMapDatasetV2/_14}}\n",
      " 33%|███▎      | 10/30 [26:55<38:29, 115.48s/it]"
     ]
    },
    {
     "name": "stdout",
     "output_type": "stream",
     "text": [
      "The average treatment effect (ATE) is 1.6856823\n",
      "Epoch 1: loss 2.3936,\tloss_y 1.6071, 1.6224, 0.0304,\tloss_eta 0.7864, 0.8291, 0.0853\n",
      "Warning: covariate dimension does not aligned with the specified input dimension; filling in the remaining dimension with noise.\n",
      "Warning: covariate dimension does not aligned with the specified input dimension; filling in the remaining dimension with noise.\n"
     ]
    },
    {
     "name": "stderr",
     "output_type": "stream",
     "text": [
      "INFO \t Training with 6 minibatches per epoch\n",
      "INFO \t Evaluating 1 minibatches\n",
      "2025-04-26 08:08:43.093811: E tensorflow/core/framework/node_def_util.cc:676] NodeDef mentions attribute use_unbounded_threadpool which is not in the op definition: Op<name=MapDataset; signature=input_dataset:variant, other_arguments: -> handle:variant; attr=f:func; attr=Targuments:list(type),min=0; attr=output_types:list(type),min=1; attr=output_shapes:list(shape),min=1; attr=use_inter_op_parallelism:bool,default=true; attr=preserve_cardinality:bool,default=false; attr=force_synchronous:bool,default=false; attr=metadata:string,default=\"\"> This may be expected if your graph generating binary is newer  than this binary. Unknown attributes will be ignored. NodeDef: {{node ParallelMapDatasetV2/_14}}\n",
      "2025-04-26 08:08:43.094137: E tensorflow/core/framework/node_def_util.cc:676] NodeDef mentions attribute use_unbounded_threadpool which is not in the op definition: Op<name=MapDataset; signature=input_dataset:variant, other_arguments: -> handle:variant; attr=f:func; attr=Targuments:list(type),min=0; attr=output_types:list(type),min=1; attr=output_shapes:list(shape),min=1; attr=use_inter_op_parallelism:bool,default=true; attr=preserve_cardinality:bool,default=false; attr=force_synchronous:bool,default=false; attr=metadata:string,default=\"\"> This may be expected if your graph generating binary is newer  than this binary. Unknown attributes will be ignored. NodeDef: {{node ParallelMapDatasetV2/_14}}\n",
      "2025-04-26 08:08:49.377038: E tensorflow/core/framework/node_def_util.cc:676] NodeDef mentions attribute use_unbounded_threadpool which is not in the op definition: Op<name=MapDataset; signature=input_dataset:variant, other_arguments: -> handle:variant; attr=f:func; attr=Targuments:list(type),min=0; attr=output_types:list(type),min=1; attr=output_shapes:list(shape),min=1; attr=use_inter_op_parallelism:bool,default=true; attr=preserve_cardinality:bool,default=false; attr=force_synchronous:bool,default=false; attr=metadata:string,default=\"\"> This may be expected if your graph generating binary is newer  than this binary. Unknown attributes will be ignored. NodeDef: {{node ParallelMapDatasetV2/_14}}\n",
      "2025-04-26 08:08:49.377344: E tensorflow/core/framework/node_def_util.cc:676] NodeDef mentions attribute use_unbounded_threadpool which is not in the op definition: Op<name=MapDataset; signature=input_dataset:variant, other_arguments: -> handle:variant; attr=f:func; attr=Targuments:list(type),min=0; attr=output_types:list(type),min=1; attr=output_shapes:list(shape),min=1; attr=use_inter_op_parallelism:bool,default=true; attr=preserve_cardinality:bool,default=false; attr=force_synchronous:bool,default=false; attr=metadata:string,default=\"\"> This may be expected if your graph generating binary is newer  than this binary. Unknown attributes will be ignored. NodeDef: {{node ParallelMapDatasetV2/_14}}\n",
      " 37%|███▋      | 11/30 [28:50<36:28, 115.17s/it]"
     ]
    },
    {
     "name": "stdout",
     "output_type": "stream",
     "text": [
      "The average treatment effect (ATE) is 1.7796936\n",
      "Epoch 1: loss 2.3872,\tloss_y 1.6286, 1.6507, 0.0443,\tloss_eta 0.7586, 0.7865, 0.0557\n",
      "Warning: covariate dimension does not aligned with the specified input dimension; filling in the remaining dimension with noise.\n",
      "Warning: covariate dimension does not aligned with the specified input dimension; filling in the remaining dimension with noise.\n"
     ]
    },
    {
     "name": "stderr",
     "output_type": "stream",
     "text": [
      "INFO \t Training with 6 minibatches per epoch\n",
      "INFO \t Evaluating 1 minibatches\n",
      "2025-04-26 08:10:36.392652: E tensorflow/core/framework/node_def_util.cc:676] NodeDef mentions attribute use_unbounded_threadpool which is not in the op definition: Op<name=MapDataset; signature=input_dataset:variant, other_arguments: -> handle:variant; attr=f:func; attr=Targuments:list(type),min=0; attr=output_types:list(type),min=1; attr=output_shapes:list(shape),min=1; attr=use_inter_op_parallelism:bool,default=true; attr=preserve_cardinality:bool,default=false; attr=force_synchronous:bool,default=false; attr=metadata:string,default=\"\"> This may be expected if your graph generating binary is newer  than this binary. Unknown attributes will be ignored. NodeDef: {{node ParallelMapDatasetV2/_14}}\n",
      "2025-04-26 08:10:36.392946: E tensorflow/core/framework/node_def_util.cc:676] NodeDef mentions attribute use_unbounded_threadpool which is not in the op definition: Op<name=MapDataset; signature=input_dataset:variant, other_arguments: -> handle:variant; attr=f:func; attr=Targuments:list(type),min=0; attr=output_types:list(type),min=1; attr=output_shapes:list(shape),min=1; attr=use_inter_op_parallelism:bool,default=true; attr=preserve_cardinality:bool,default=false; attr=force_synchronous:bool,default=false; attr=metadata:string,default=\"\"> This may be expected if your graph generating binary is newer  than this binary. Unknown attributes will be ignored. NodeDef: {{node ParallelMapDatasetV2/_14}}\n",
      "2025-04-26 08:10:42.328364: E tensorflow/core/framework/node_def_util.cc:676] NodeDef mentions attribute use_unbounded_threadpool which is not in the op definition: Op<name=MapDataset; signature=input_dataset:variant, other_arguments: -> handle:variant; attr=f:func; attr=Targuments:list(type),min=0; attr=output_types:list(type),min=1; attr=output_shapes:list(shape),min=1; attr=use_inter_op_parallelism:bool,default=true; attr=preserve_cardinality:bool,default=false; attr=force_synchronous:bool,default=false; attr=metadata:string,default=\"\"> This may be expected if your graph generating binary is newer  than this binary. Unknown attributes will be ignored. NodeDef: {{node ParallelMapDatasetV2/_14}}\n",
      "2025-04-26 08:10:42.328644: E tensorflow/core/framework/node_def_util.cc:676] NodeDef mentions attribute use_unbounded_threadpool which is not in the op definition: Op<name=MapDataset; signature=input_dataset:variant, other_arguments: -> handle:variant; attr=f:func; attr=Targuments:list(type),min=0; attr=output_types:list(type),min=1; attr=output_shapes:list(shape),min=1; attr=use_inter_op_parallelism:bool,default=true; attr=preserve_cardinality:bool,default=false; attr=force_synchronous:bool,default=false; attr=metadata:string,default=\"\"> This may be expected if your graph generating binary is newer  than this binary. Unknown attributes will be ignored. NodeDef: {{node ParallelMapDatasetV2/_14}}\n",
      " 40%|████      | 12/30 [30:43<34:20, 114.49s/it]"
     ]
    },
    {
     "name": "stdout",
     "output_type": "stream",
     "text": [
      "The average treatment effect (ATE) is 1.8311994\n",
      "Epoch 1: loss 2.3861,\tloss_y 1.6273, 1.6558, 0.0571,\tloss_eta 0.7589, 0.7918, 0.0658\n",
      "Warning: covariate dimension does not aligned with the specified input dimension; filling in the remaining dimension with noise.\n",
      "Warning: covariate dimension does not aligned with the specified input dimension; filling in the remaining dimension with noise.\n"
     ]
    },
    {
     "name": "stderr",
     "output_type": "stream",
     "text": [
      "INFO \t Training with 6 minibatches per epoch\n",
      "INFO \t Evaluating 1 minibatches\n",
      "2025-04-26 08:12:26.571625: E tensorflow/core/framework/node_def_util.cc:676] NodeDef mentions attribute use_unbounded_threadpool which is not in the op definition: Op<name=MapDataset; signature=input_dataset:variant, other_arguments: -> handle:variant; attr=f:func; attr=Targuments:list(type),min=0; attr=output_types:list(type),min=1; attr=output_shapes:list(shape),min=1; attr=use_inter_op_parallelism:bool,default=true; attr=preserve_cardinality:bool,default=false; attr=force_synchronous:bool,default=false; attr=metadata:string,default=\"\"> This may be expected if your graph generating binary is newer  than this binary. Unknown attributes will be ignored. NodeDef: {{node ParallelMapDatasetV2/_14}}\n",
      "2025-04-26 08:12:26.571965: E tensorflow/core/framework/node_def_util.cc:676] NodeDef mentions attribute use_unbounded_threadpool which is not in the op definition: Op<name=MapDataset; signature=input_dataset:variant, other_arguments: -> handle:variant; attr=f:func; attr=Targuments:list(type),min=0; attr=output_types:list(type),min=1; attr=output_shapes:list(shape),min=1; attr=use_inter_op_parallelism:bool,default=true; attr=preserve_cardinality:bool,default=false; attr=force_synchronous:bool,default=false; attr=metadata:string,default=\"\"> This may be expected if your graph generating binary is newer  than this binary. Unknown attributes will be ignored. NodeDef: {{node ParallelMapDatasetV2/_14}}\n",
      "2025-04-26 08:12:32.554630: E tensorflow/core/framework/node_def_util.cc:676] NodeDef mentions attribute use_unbounded_threadpool which is not in the op definition: Op<name=MapDataset; signature=input_dataset:variant, other_arguments: -> handle:variant; attr=f:func; attr=Targuments:list(type),min=0; attr=output_types:list(type),min=1; attr=output_shapes:list(shape),min=1; attr=use_inter_op_parallelism:bool,default=true; attr=preserve_cardinality:bool,default=false; attr=force_synchronous:bool,default=false; attr=metadata:string,default=\"\"> This may be expected if your graph generating binary is newer  than this binary. Unknown attributes will be ignored. NodeDef: {{node ParallelMapDatasetV2/_14}}\n",
      "2025-04-26 08:12:32.554915: E tensorflow/core/framework/node_def_util.cc:676] NodeDef mentions attribute use_unbounded_threadpool which is not in the op definition: Op<name=MapDataset; signature=input_dataset:variant, other_arguments: -> handle:variant; attr=f:func; attr=Targuments:list(type),min=0; attr=output_types:list(type),min=1; attr=output_shapes:list(shape),min=1; attr=use_inter_op_parallelism:bool,default=true; attr=preserve_cardinality:bool,default=false; attr=force_synchronous:bool,default=false; attr=metadata:string,default=\"\"> This may be expected if your graph generating binary is newer  than this binary. Unknown attributes will be ignored. NodeDef: {{node ParallelMapDatasetV2/_14}}\n",
      " 43%|████▎     | 13/30 [32:33<32:04, 113.21s/it]"
     ]
    },
    {
     "name": "stdout",
     "output_type": "stream",
     "text": [
      "The average treatment effect (ATE) is 1.8970141\n",
      "Epoch 1: loss 2.6000,\tloss_y 1.8076, 1.8341, 0.0529,\tloss_eta 0.7924, 0.8192, 0.0535\n",
      "Warning: covariate dimension does not aligned with the specified input dimension; filling in the remaining dimension with noise.\n",
      "Warning: covariate dimension does not aligned with the specified input dimension; filling in the remaining dimension with noise.\n"
     ]
    },
    {
     "name": "stderr",
     "output_type": "stream",
     "text": [
      "INFO \t Training with 6 minibatches per epoch\n",
      "INFO \t Evaluating 1 minibatches\n",
      "2025-04-26 08:14:17.933088: E tensorflow/core/framework/node_def_util.cc:676] NodeDef mentions attribute use_unbounded_threadpool which is not in the op definition: Op<name=MapDataset; signature=input_dataset:variant, other_arguments: -> handle:variant; attr=f:func; attr=Targuments:list(type),min=0; attr=output_types:list(type),min=1; attr=output_shapes:list(shape),min=1; attr=use_inter_op_parallelism:bool,default=true; attr=preserve_cardinality:bool,default=false; attr=force_synchronous:bool,default=false; attr=metadata:string,default=\"\"> This may be expected if your graph generating binary is newer  than this binary. Unknown attributes will be ignored. NodeDef: {{node ParallelMapDatasetV2/_14}}\n",
      "2025-04-26 08:14:17.933419: E tensorflow/core/framework/node_def_util.cc:676] NodeDef mentions attribute use_unbounded_threadpool which is not in the op definition: Op<name=MapDataset; signature=input_dataset:variant, other_arguments: -> handle:variant; attr=f:func; attr=Targuments:list(type),min=0; attr=output_types:list(type),min=1; attr=output_shapes:list(shape),min=1; attr=use_inter_op_parallelism:bool,default=true; attr=preserve_cardinality:bool,default=false; attr=force_synchronous:bool,default=false; attr=metadata:string,default=\"\"> This may be expected if your graph generating binary is newer  than this binary. Unknown attributes will be ignored. NodeDef: {{node ParallelMapDatasetV2/_14}}\n",
      "2025-04-26 08:14:23.659024: E tensorflow/core/framework/node_def_util.cc:676] NodeDef mentions attribute use_unbounded_threadpool which is not in the op definition: Op<name=MapDataset; signature=input_dataset:variant, other_arguments: -> handle:variant; attr=f:func; attr=Targuments:list(type),min=0; attr=output_types:list(type),min=1; attr=output_shapes:list(shape),min=1; attr=use_inter_op_parallelism:bool,default=true; attr=preserve_cardinality:bool,default=false; attr=force_synchronous:bool,default=false; attr=metadata:string,default=\"\"> This may be expected if your graph generating binary is newer  than this binary. Unknown attributes will be ignored. NodeDef: {{node ParallelMapDatasetV2/_14}}\n",
      "2025-04-26 08:14:23.659334: E tensorflow/core/framework/node_def_util.cc:676] NodeDef mentions attribute use_unbounded_threadpool which is not in the op definition: Op<name=MapDataset; signature=input_dataset:variant, other_arguments: -> handle:variant; attr=f:func; attr=Targuments:list(type),min=0; attr=output_types:list(type),min=1; attr=output_shapes:list(shape),min=1; attr=use_inter_op_parallelism:bool,default=true; attr=preserve_cardinality:bool,default=false; attr=force_synchronous:bool,default=false; attr=metadata:string,default=\"\"> This may be expected if your graph generating binary is newer  than this binary. Unknown attributes will be ignored. NodeDef: {{node ParallelMapDatasetV2/_14}}\n",
      " 47%|████▋     | 14/30 [34:24<30:01, 112.57s/it]"
     ]
    },
    {
     "name": "stdout",
     "output_type": "stream",
     "text": [
      "The average treatment effect (ATE) is 1.8036228\n",
      "Epoch 1: loss 2.3664,\tloss_y 1.5796, 1.5970, 0.0348,\tloss_eta 0.7868, 0.8189, 0.0641\n",
      "Warning: covariate dimension does not aligned with the specified input dimension; filling in the remaining dimension with noise.\n",
      "Warning: covariate dimension does not aligned with the specified input dimension; filling in the remaining dimension with noise.\n"
     ]
    },
    {
     "name": "stderr",
     "output_type": "stream",
     "text": [
      "INFO \t Training with 6 minibatches per epoch\n",
      "INFO \t Evaluating 1 minibatches\n",
      "2025-04-26 08:16:06.804299: E tensorflow/core/framework/node_def_util.cc:676] NodeDef mentions attribute use_unbounded_threadpool which is not in the op definition: Op<name=MapDataset; signature=input_dataset:variant, other_arguments: -> handle:variant; attr=f:func; attr=Targuments:list(type),min=0; attr=output_types:list(type),min=1; attr=output_shapes:list(shape),min=1; attr=use_inter_op_parallelism:bool,default=true; attr=preserve_cardinality:bool,default=false; attr=force_synchronous:bool,default=false; attr=metadata:string,default=\"\"> This may be expected if your graph generating binary is newer  than this binary. Unknown attributes will be ignored. NodeDef: {{node ParallelMapDatasetV2/_14}}\n",
      "2025-04-26 08:16:06.804611: E tensorflow/core/framework/node_def_util.cc:676] NodeDef mentions attribute use_unbounded_threadpool which is not in the op definition: Op<name=MapDataset; signature=input_dataset:variant, other_arguments: -> handle:variant; attr=f:func; attr=Targuments:list(type),min=0; attr=output_types:list(type),min=1; attr=output_shapes:list(shape),min=1; attr=use_inter_op_parallelism:bool,default=true; attr=preserve_cardinality:bool,default=false; attr=force_synchronous:bool,default=false; attr=metadata:string,default=\"\"> This may be expected if your graph generating binary is newer  than this binary. Unknown attributes will be ignored. NodeDef: {{node ParallelMapDatasetV2/_14}}\n",
      "2025-04-26 08:16:13.690038: E tensorflow/core/framework/node_def_util.cc:676] NodeDef mentions attribute use_unbounded_threadpool which is not in the op definition: Op<name=MapDataset; signature=input_dataset:variant, other_arguments: -> handle:variant; attr=f:func; attr=Targuments:list(type),min=0; attr=output_types:list(type),min=1; attr=output_shapes:list(shape),min=1; attr=use_inter_op_parallelism:bool,default=true; attr=preserve_cardinality:bool,default=false; attr=force_synchronous:bool,default=false; attr=metadata:string,default=\"\"> This may be expected if your graph generating binary is newer  than this binary. Unknown attributes will be ignored. NodeDef: {{node ParallelMapDatasetV2/_14}}\n",
      "2025-04-26 08:16:13.690344: E tensorflow/core/framework/node_def_util.cc:676] NodeDef mentions attribute use_unbounded_threadpool which is not in the op definition: Op<name=MapDataset; signature=input_dataset:variant, other_arguments: -> handle:variant; attr=f:func; attr=Targuments:list(type),min=0; attr=output_types:list(type),min=1; attr=output_shapes:list(shape),min=1; attr=use_inter_op_parallelism:bool,default=true; attr=preserve_cardinality:bool,default=false; attr=force_synchronous:bool,default=false; attr=metadata:string,default=\"\"> This may be expected if your graph generating binary is newer  than this binary. Unknown attributes will be ignored. NodeDef: {{node ParallelMapDatasetV2/_14}}\n",
      " 50%|█████     | 15/30 [36:14<27:57, 111.80s/it]"
     ]
    },
    {
     "name": "stdout",
     "output_type": "stream",
     "text": [
      "The average treatment effect (ATE) is 1.6470879\n",
      "Epoch 1: loss 2.3467,\tloss_y 1.6128, 1.6324, 0.0391,\tloss_eta 0.7338, 0.7736, 0.0796\n",
      "Warning: covariate dimension does not aligned with the specified input dimension; filling in the remaining dimension with noise.\n",
      "Warning: covariate dimension does not aligned with the specified input dimension; filling in the remaining dimension with noise.\n"
     ]
    },
    {
     "name": "stderr",
     "output_type": "stream",
     "text": [
      "INFO \t Training with 6 minibatches per epoch\n",
      "INFO \t Evaluating 1 minibatches\n",
      "2025-04-26 08:17:56.813035: E tensorflow/core/framework/node_def_util.cc:676] NodeDef mentions attribute use_unbounded_threadpool which is not in the op definition: Op<name=MapDataset; signature=input_dataset:variant, other_arguments: -> handle:variant; attr=f:func; attr=Targuments:list(type),min=0; attr=output_types:list(type),min=1; attr=output_shapes:list(shape),min=1; attr=use_inter_op_parallelism:bool,default=true; attr=preserve_cardinality:bool,default=false; attr=force_synchronous:bool,default=false; attr=metadata:string,default=\"\"> This may be expected if your graph generating binary is newer  than this binary. Unknown attributes will be ignored. NodeDef: {{node ParallelMapDatasetV2/_14}}\n",
      "2025-04-26 08:17:56.813392: E tensorflow/core/framework/node_def_util.cc:676] NodeDef mentions attribute use_unbounded_threadpool which is not in the op definition: Op<name=MapDataset; signature=input_dataset:variant, other_arguments: -> handle:variant; attr=f:func; attr=Targuments:list(type),min=0; attr=output_types:list(type),min=1; attr=output_shapes:list(shape),min=1; attr=use_inter_op_parallelism:bool,default=true; attr=preserve_cardinality:bool,default=false; attr=force_synchronous:bool,default=false; attr=metadata:string,default=\"\"> This may be expected if your graph generating binary is newer  than this binary. Unknown attributes will be ignored. NodeDef: {{node ParallelMapDatasetV2/_14}}\n",
      "2025-04-26 08:18:02.650093: E tensorflow/core/framework/node_def_util.cc:676] NodeDef mentions attribute use_unbounded_threadpool which is not in the op definition: Op<name=MapDataset; signature=input_dataset:variant, other_arguments: -> handle:variant; attr=f:func; attr=Targuments:list(type),min=0; attr=output_types:list(type),min=1; attr=output_shapes:list(shape),min=1; attr=use_inter_op_parallelism:bool,default=true; attr=preserve_cardinality:bool,default=false; attr=force_synchronous:bool,default=false; attr=metadata:string,default=\"\"> This may be expected if your graph generating binary is newer  than this binary. Unknown attributes will be ignored. NodeDef: {{node ParallelMapDatasetV2/_14}}\n",
      "2025-04-26 08:18:02.650420: E tensorflow/core/framework/node_def_util.cc:676] NodeDef mentions attribute use_unbounded_threadpool which is not in the op definition: Op<name=MapDataset; signature=input_dataset:variant, other_arguments: -> handle:variant; attr=f:func; attr=Targuments:list(type),min=0; attr=output_types:list(type),min=1; attr=output_shapes:list(shape),min=1; attr=use_inter_op_parallelism:bool,default=true; attr=preserve_cardinality:bool,default=false; attr=force_synchronous:bool,default=false; attr=metadata:string,default=\"\"> This may be expected if your graph generating binary is newer  than this binary. Unknown attributes will be ignored. NodeDef: {{node ParallelMapDatasetV2/_14}}\n",
      " 53%|█████▎    | 16/30 [38:03<25:53, 110.95s/it]"
     ]
    },
    {
     "name": "stdout",
     "output_type": "stream",
     "text": [
      "The average treatment effect (ATE) is 1.8046848\n",
      "Epoch 1: loss 2.3922,\tloss_y 1.6125, 1.6471, 0.0692,\tloss_eta 0.7797, 0.8224, 0.0854\n",
      "Warning: covariate dimension does not aligned with the specified input dimension; filling in the remaining dimension with noise.\n",
      "Warning: covariate dimension does not aligned with the specified input dimension; filling in the remaining dimension with noise.\n"
     ]
    },
    {
     "name": "stderr",
     "output_type": "stream",
     "text": [
      "INFO \t Training with 6 minibatches per epoch\n",
      "INFO \t Evaluating 1 minibatches\n",
      "2025-04-26 08:19:27.318951: E tensorflow/core/framework/node_def_util.cc:676] NodeDef mentions attribute use_unbounded_threadpool which is not in the op definition: Op<name=MapDataset; signature=input_dataset:variant, other_arguments: -> handle:variant; attr=f:func; attr=Targuments:list(type),min=0; attr=output_types:list(type),min=1; attr=output_shapes:list(shape),min=1; attr=use_inter_op_parallelism:bool,default=true; attr=preserve_cardinality:bool,default=false; attr=force_synchronous:bool,default=false; attr=metadata:string,default=\"\"> This may be expected if your graph generating binary is newer  than this binary. Unknown attributes will be ignored. NodeDef: {{node ParallelMapDatasetV2/_14}}\n",
      "2025-04-26 08:19:27.319232: E tensorflow/core/framework/node_def_util.cc:676] NodeDef mentions attribute use_unbounded_threadpool which is not in the op definition: Op<name=MapDataset; signature=input_dataset:variant, other_arguments: -> handle:variant; attr=f:func; attr=Targuments:list(type),min=0; attr=output_types:list(type),min=1; attr=output_shapes:list(shape),min=1; attr=use_inter_op_parallelism:bool,default=true; attr=preserve_cardinality:bool,default=false; attr=force_synchronous:bool,default=false; attr=metadata:string,default=\"\"> This may be expected if your graph generating binary is newer  than this binary. Unknown attributes will be ignored. NodeDef: {{node ParallelMapDatasetV2/_14}}\n",
      "2025-04-26 08:19:32.844537: E tensorflow/core/framework/node_def_util.cc:676] NodeDef mentions attribute use_unbounded_threadpool which is not in the op definition: Op<name=MapDataset; signature=input_dataset:variant, other_arguments: -> handle:variant; attr=f:func; attr=Targuments:list(type),min=0; attr=output_types:list(type),min=1; attr=output_shapes:list(shape),min=1; attr=use_inter_op_parallelism:bool,default=true; attr=preserve_cardinality:bool,default=false; attr=force_synchronous:bool,default=false; attr=metadata:string,default=\"\"> This may be expected if your graph generating binary is newer  than this binary. Unknown attributes will be ignored. NodeDef: {{node ParallelMapDatasetV2/_14}}\n",
      "2025-04-26 08:19:32.844805: E tensorflow/core/framework/node_def_util.cc:676] NodeDef mentions attribute use_unbounded_threadpool which is not in the op definition: Op<name=MapDataset; signature=input_dataset:variant, other_arguments: -> handle:variant; attr=f:func; attr=Targuments:list(type),min=0; attr=output_types:list(type),min=1; attr=output_shapes:list(shape),min=1; attr=use_inter_op_parallelism:bool,default=true; attr=preserve_cardinality:bool,default=false; attr=force_synchronous:bool,default=false; attr=metadata:string,default=\"\"> This may be expected if your graph generating binary is newer  than this binary. Unknown attributes will be ignored. NodeDef: {{node ParallelMapDatasetV2/_14}}\n",
      " 57%|█████▋    | 17/30 [39:33<22:41, 104.71s/it]"
     ]
    },
    {
     "name": "stdout",
     "output_type": "stream",
     "text": [
      "The average treatment effect (ATE) is 1.9262025\n",
      "Epoch 1: loss 2.3316,\tloss_y 1.5774, 1.6161, 0.0774,\tloss_eta 0.7542, 0.8004, 0.0924\n",
      "Warning: covariate dimension does not aligned with the specified input dimension; filling in the remaining dimension with noise.\n",
      "Warning: covariate dimension does not aligned with the specified input dimension; filling in the remaining dimension with noise.\n"
     ]
    },
    {
     "name": "stderr",
     "output_type": "stream",
     "text": [
      "INFO \t Training with 6 minibatches per epoch\n",
      "INFO \t Evaluating 1 minibatches\n",
      "2025-04-26 08:21:02.961082: E tensorflow/core/framework/node_def_util.cc:676] NodeDef mentions attribute use_unbounded_threadpool which is not in the op definition: Op<name=MapDataset; signature=input_dataset:variant, other_arguments: -> handle:variant; attr=f:func; attr=Targuments:list(type),min=0; attr=output_types:list(type),min=1; attr=output_shapes:list(shape),min=1; attr=use_inter_op_parallelism:bool,default=true; attr=preserve_cardinality:bool,default=false; attr=force_synchronous:bool,default=false; attr=metadata:string,default=\"\"> This may be expected if your graph generating binary is newer  than this binary. Unknown attributes will be ignored. NodeDef: {{node ParallelMapDatasetV2/_14}}\n",
      "2025-04-26 08:21:02.961395: E tensorflow/core/framework/node_def_util.cc:676] NodeDef mentions attribute use_unbounded_threadpool which is not in the op definition: Op<name=MapDataset; signature=input_dataset:variant, other_arguments: -> handle:variant; attr=f:func; attr=Targuments:list(type),min=0; attr=output_types:list(type),min=1; attr=output_shapes:list(shape),min=1; attr=use_inter_op_parallelism:bool,default=true; attr=preserve_cardinality:bool,default=false; attr=force_synchronous:bool,default=false; attr=metadata:string,default=\"\"> This may be expected if your graph generating binary is newer  than this binary. Unknown attributes will be ignored. NodeDef: {{node ParallelMapDatasetV2/_14}}\n",
      "2025-04-26 08:21:08.424705: E tensorflow/core/framework/node_def_util.cc:676] NodeDef mentions attribute use_unbounded_threadpool which is not in the op definition: Op<name=MapDataset; signature=input_dataset:variant, other_arguments: -> handle:variant; attr=f:func; attr=Targuments:list(type),min=0; attr=output_types:list(type),min=1; attr=output_shapes:list(shape),min=1; attr=use_inter_op_parallelism:bool,default=true; attr=preserve_cardinality:bool,default=false; attr=force_synchronous:bool,default=false; attr=metadata:string,default=\"\"> This may be expected if your graph generating binary is newer  than this binary. Unknown attributes will be ignored. NodeDef: {{node ParallelMapDatasetV2/_14}}\n",
      "2025-04-26 08:21:08.424992: E tensorflow/core/framework/node_def_util.cc:676] NodeDef mentions attribute use_unbounded_threadpool which is not in the op definition: Op<name=MapDataset; signature=input_dataset:variant, other_arguments: -> handle:variant; attr=f:func; attr=Targuments:list(type),min=0; attr=output_types:list(type),min=1; attr=output_shapes:list(shape),min=1; attr=use_inter_op_parallelism:bool,default=true; attr=preserve_cardinality:bool,default=false; attr=force_synchronous:bool,default=false; attr=metadata:string,default=\"\"> This may be expected if your graph generating binary is newer  than this binary. Unknown attributes will be ignored. NodeDef: {{node ParallelMapDatasetV2/_14}}\n",
      " 60%|██████    | 18/30 [41:09<20:23, 101.96s/it]"
     ]
    },
    {
     "name": "stdout",
     "output_type": "stream",
     "text": [
      "The average treatment effect (ATE) is 1.6840732\n",
      "Epoch 1: loss 2.3942,\tloss_y 1.6178, 1.6329, 0.0302,\tloss_eta 0.7765, 0.8126, 0.0722\n",
      "Warning: covariate dimension does not aligned with the specified input dimension; filling in the remaining dimension with noise.\n",
      "Warning: covariate dimension does not aligned with the specified input dimension; filling in the remaining dimension with noise.\n"
     ]
    },
    {
     "name": "stderr",
     "output_type": "stream",
     "text": [
      "INFO \t Training with 6 minibatches per epoch\n",
      "INFO \t Evaluating 1 minibatches\n",
      "2025-04-26 08:22:33.658604: E tensorflow/core/framework/node_def_util.cc:676] NodeDef mentions attribute use_unbounded_threadpool which is not in the op definition: Op<name=MapDataset; signature=input_dataset:variant, other_arguments: -> handle:variant; attr=f:func; attr=Targuments:list(type),min=0; attr=output_types:list(type),min=1; attr=output_shapes:list(shape),min=1; attr=use_inter_op_parallelism:bool,default=true; attr=preserve_cardinality:bool,default=false; attr=force_synchronous:bool,default=false; attr=metadata:string,default=\"\"> This may be expected if your graph generating binary is newer  than this binary. Unknown attributes will be ignored. NodeDef: {{node ParallelMapDatasetV2/_14}}\n",
      "2025-04-26 08:22:33.658880: E tensorflow/core/framework/node_def_util.cc:676] NodeDef mentions attribute use_unbounded_threadpool which is not in the op definition: Op<name=MapDataset; signature=input_dataset:variant, other_arguments: -> handle:variant; attr=f:func; attr=Targuments:list(type),min=0; attr=output_types:list(type),min=1; attr=output_shapes:list(shape),min=1; attr=use_inter_op_parallelism:bool,default=true; attr=preserve_cardinality:bool,default=false; attr=force_synchronous:bool,default=false; attr=metadata:string,default=\"\"> This may be expected if your graph generating binary is newer  than this binary. Unknown attributes will be ignored. NodeDef: {{node ParallelMapDatasetV2/_14}}\n",
      "2025-04-26 08:22:39.221959: E tensorflow/core/framework/node_def_util.cc:676] NodeDef mentions attribute use_unbounded_threadpool which is not in the op definition: Op<name=MapDataset; signature=input_dataset:variant, other_arguments: -> handle:variant; attr=f:func; attr=Targuments:list(type),min=0; attr=output_types:list(type),min=1; attr=output_shapes:list(shape),min=1; attr=use_inter_op_parallelism:bool,default=true; attr=preserve_cardinality:bool,default=false; attr=force_synchronous:bool,default=false; attr=metadata:string,default=\"\"> This may be expected if your graph generating binary is newer  than this binary. Unknown attributes will be ignored. NodeDef: {{node ParallelMapDatasetV2/_14}}\n",
      "2025-04-26 08:22:39.222236: E tensorflow/core/framework/node_def_util.cc:676] NodeDef mentions attribute use_unbounded_threadpool which is not in the op definition: Op<name=MapDataset; signature=input_dataset:variant, other_arguments: -> handle:variant; attr=f:func; attr=Targuments:list(type),min=0; attr=output_types:list(type),min=1; attr=output_shapes:list(shape),min=1; attr=use_inter_op_parallelism:bool,default=true; attr=preserve_cardinality:bool,default=false; attr=force_synchronous:bool,default=false; attr=metadata:string,default=\"\"> This may be expected if your graph generating binary is newer  than this binary. Unknown attributes will be ignored. NodeDef: {{node ParallelMapDatasetV2/_14}}\n",
      " 63%|██████▎   | 19/30 [42:39<18:04, 98.61s/it] "
     ]
    },
    {
     "name": "stdout",
     "output_type": "stream",
     "text": [
      "The average treatment effect (ATE) is 1.8118808\n",
      "Epoch 1: loss 2.5029,\tloss_y 1.6999, 1.7397, 0.0798,\tloss_eta 0.8030, 0.8463, 0.0865\n",
      "Warning: covariate dimension does not aligned with the specified input dimension; filling in the remaining dimension with noise.\n",
      "Warning: covariate dimension does not aligned with the specified input dimension; filling in the remaining dimension with noise.\n"
     ]
    },
    {
     "name": "stderr",
     "output_type": "stream",
     "text": [
      "INFO \t Training with 6 minibatches per epoch\n",
      "INFO \t Evaluating 1 minibatches\n",
      "2025-04-26 08:24:06.182456: E tensorflow/core/framework/node_def_util.cc:676] NodeDef mentions attribute use_unbounded_threadpool which is not in the op definition: Op<name=MapDataset; signature=input_dataset:variant, other_arguments: -> handle:variant; attr=f:func; attr=Targuments:list(type),min=0; attr=output_types:list(type),min=1; attr=output_shapes:list(shape),min=1; attr=use_inter_op_parallelism:bool,default=true; attr=preserve_cardinality:bool,default=false; attr=force_synchronous:bool,default=false; attr=metadata:string,default=\"\"> This may be expected if your graph generating binary is newer  than this binary. Unknown attributes will be ignored. NodeDef: {{node ParallelMapDatasetV2/_14}}\n",
      "2025-04-26 08:24:06.182730: E tensorflow/core/framework/node_def_util.cc:676] NodeDef mentions attribute use_unbounded_threadpool which is not in the op definition: Op<name=MapDataset; signature=input_dataset:variant, other_arguments: -> handle:variant; attr=f:func; attr=Targuments:list(type),min=0; attr=output_types:list(type),min=1; attr=output_shapes:list(shape),min=1; attr=use_inter_op_parallelism:bool,default=true; attr=preserve_cardinality:bool,default=false; attr=force_synchronous:bool,default=false; attr=metadata:string,default=\"\"> This may be expected if your graph generating binary is newer  than this binary. Unknown attributes will be ignored. NodeDef: {{node ParallelMapDatasetV2/_14}}\n",
      "2025-04-26 08:24:11.785037: E tensorflow/core/framework/node_def_util.cc:676] NodeDef mentions attribute use_unbounded_threadpool which is not in the op definition: Op<name=MapDataset; signature=input_dataset:variant, other_arguments: -> handle:variant; attr=f:func; attr=Targuments:list(type),min=0; attr=output_types:list(type),min=1; attr=output_shapes:list(shape),min=1; attr=use_inter_op_parallelism:bool,default=true; attr=preserve_cardinality:bool,default=false; attr=force_synchronous:bool,default=false; attr=metadata:string,default=\"\"> This may be expected if your graph generating binary is newer  than this binary. Unknown attributes will be ignored. NodeDef: {{node ParallelMapDatasetV2/_14}}\n",
      "2025-04-26 08:24:11.785319: E tensorflow/core/framework/node_def_util.cc:676] NodeDef mentions attribute use_unbounded_threadpool which is not in the op definition: Op<name=MapDataset; signature=input_dataset:variant, other_arguments: -> handle:variant; attr=f:func; attr=Targuments:list(type),min=0; attr=output_types:list(type),min=1; attr=output_shapes:list(shape),min=1; attr=use_inter_op_parallelism:bool,default=true; attr=preserve_cardinality:bool,default=false; attr=force_synchronous:bool,default=false; attr=metadata:string,default=\"\"> This may be expected if your graph generating binary is newer  than this binary. Unknown attributes will be ignored. NodeDef: {{node ParallelMapDatasetV2/_14}}\n",
      " 67%|██████▋   | 20/30 [44:12<16:07, 96.79s/it]"
     ]
    },
    {
     "name": "stdout",
     "output_type": "stream",
     "text": [
      "The average treatment effect (ATE) is 1.5934802\n",
      "Epoch 1: loss 2.4152,\tloss_y 1.6656, 1.6892, 0.0473,\tloss_eta 0.7495, 0.7838, 0.0686\n",
      "Warning: covariate dimension does not aligned with the specified input dimension; filling in the remaining dimension with noise.\n",
      "Warning: covariate dimension does not aligned with the specified input dimension; filling in the remaining dimension with noise.\n"
     ]
    },
    {
     "name": "stderr",
     "output_type": "stream",
     "text": [
      "INFO \t Training with 6 minibatches per epoch\n",
      "INFO \t Evaluating 1 minibatches\n",
      "2025-04-26 08:25:37.816182: E tensorflow/core/framework/node_def_util.cc:676] NodeDef mentions attribute use_unbounded_threadpool which is not in the op definition: Op<name=MapDataset; signature=input_dataset:variant, other_arguments: -> handle:variant; attr=f:func; attr=Targuments:list(type),min=0; attr=output_types:list(type),min=1; attr=output_shapes:list(shape),min=1; attr=use_inter_op_parallelism:bool,default=true; attr=preserve_cardinality:bool,default=false; attr=force_synchronous:bool,default=false; attr=metadata:string,default=\"\"> This may be expected if your graph generating binary is newer  than this binary. Unknown attributes will be ignored. NodeDef: {{node ParallelMapDatasetV2/_14}}\n",
      "2025-04-26 08:25:37.816469: E tensorflow/core/framework/node_def_util.cc:676] NodeDef mentions attribute use_unbounded_threadpool which is not in the op definition: Op<name=MapDataset; signature=input_dataset:variant, other_arguments: -> handle:variant; attr=f:func; attr=Targuments:list(type),min=0; attr=output_types:list(type),min=1; attr=output_shapes:list(shape),min=1; attr=use_inter_op_parallelism:bool,default=true; attr=preserve_cardinality:bool,default=false; attr=force_synchronous:bool,default=false; attr=metadata:string,default=\"\"> This may be expected if your graph generating binary is newer  than this binary. Unknown attributes will be ignored. NodeDef: {{node ParallelMapDatasetV2/_14}}\n",
      "2025-04-26 08:25:43.379720: E tensorflow/core/framework/node_def_util.cc:676] NodeDef mentions attribute use_unbounded_threadpool which is not in the op definition: Op<name=MapDataset; signature=input_dataset:variant, other_arguments: -> handle:variant; attr=f:func; attr=Targuments:list(type),min=0; attr=output_types:list(type),min=1; attr=output_shapes:list(shape),min=1; attr=use_inter_op_parallelism:bool,default=true; attr=preserve_cardinality:bool,default=false; attr=force_synchronous:bool,default=false; attr=metadata:string,default=\"\"> This may be expected if your graph generating binary is newer  than this binary. Unknown attributes will be ignored. NodeDef: {{node ParallelMapDatasetV2/_14}}\n",
      "2025-04-26 08:25:43.380003: E tensorflow/core/framework/node_def_util.cc:676] NodeDef mentions attribute use_unbounded_threadpool which is not in the op definition: Op<name=MapDataset; signature=input_dataset:variant, other_arguments: -> handle:variant; attr=f:func; attr=Targuments:list(type),min=0; attr=output_types:list(type),min=1; attr=output_shapes:list(shape),min=1; attr=use_inter_op_parallelism:bool,default=true; attr=preserve_cardinality:bool,default=false; attr=force_synchronous:bool,default=false; attr=metadata:string,default=\"\"> This may be expected if your graph generating binary is newer  than this binary. Unknown attributes will be ignored. NodeDef: {{node ParallelMapDatasetV2/_14}}\n",
      " 70%|███████   | 21/30 [45:44<14:17, 95.23s/it]"
     ]
    },
    {
     "name": "stdout",
     "output_type": "stream",
     "text": [
      "The average treatment effect (ATE) is 1.7372224\n",
      "Epoch 1: loss 2.4847,\tloss_y 1.7076, 1.7312, 0.0473,\tloss_eta 0.7772, 0.8175, 0.0806\n",
      "Warning: covariate dimension does not aligned with the specified input dimension; filling in the remaining dimension with noise.\n",
      "Warning: covariate dimension does not aligned with the specified input dimension; filling in the remaining dimension with noise.\n"
     ]
    },
    {
     "name": "stderr",
     "output_type": "stream",
     "text": [
      "INFO \t Training with 6 minibatches per epoch\n",
      "INFO \t Evaluating 1 minibatches\n",
      "2025-04-26 08:27:11.727049: E tensorflow/core/framework/node_def_util.cc:676] NodeDef mentions attribute use_unbounded_threadpool which is not in the op definition: Op<name=MapDataset; signature=input_dataset:variant, other_arguments: -> handle:variant; attr=f:func; attr=Targuments:list(type),min=0; attr=output_types:list(type),min=1; attr=output_shapes:list(shape),min=1; attr=use_inter_op_parallelism:bool,default=true; attr=preserve_cardinality:bool,default=false; attr=force_synchronous:bool,default=false; attr=metadata:string,default=\"\"> This may be expected if your graph generating binary is newer  than this binary. Unknown attributes will be ignored. NodeDef: {{node ParallelMapDatasetV2/_14}}\n",
      "2025-04-26 08:27:11.727345: E tensorflow/core/framework/node_def_util.cc:676] NodeDef mentions attribute use_unbounded_threadpool which is not in the op definition: Op<name=MapDataset; signature=input_dataset:variant, other_arguments: -> handle:variant; attr=f:func; attr=Targuments:list(type),min=0; attr=output_types:list(type),min=1; attr=output_shapes:list(shape),min=1; attr=use_inter_op_parallelism:bool,default=true; attr=preserve_cardinality:bool,default=false; attr=force_synchronous:bool,default=false; attr=metadata:string,default=\"\"> This may be expected if your graph generating binary is newer  than this binary. Unknown attributes will be ignored. NodeDef: {{node ParallelMapDatasetV2/_14}}\n",
      "2025-04-26 08:27:17.294840: E tensorflow/core/framework/node_def_util.cc:676] NodeDef mentions attribute use_unbounded_threadpool which is not in the op definition: Op<name=MapDataset; signature=input_dataset:variant, other_arguments: -> handle:variant; attr=f:func; attr=Targuments:list(type),min=0; attr=output_types:list(type),min=1; attr=output_shapes:list(shape),min=1; attr=use_inter_op_parallelism:bool,default=true; attr=preserve_cardinality:bool,default=false; attr=force_synchronous:bool,default=false; attr=metadata:string,default=\"\"> This may be expected if your graph generating binary is newer  than this binary. Unknown attributes will be ignored. NodeDef: {{node ParallelMapDatasetV2/_14}}\n",
      "2025-04-26 08:27:17.295112: E tensorflow/core/framework/node_def_util.cc:676] NodeDef mentions attribute use_unbounded_threadpool which is not in the op definition: Op<name=MapDataset; signature=input_dataset:variant, other_arguments: -> handle:variant; attr=f:func; attr=Targuments:list(type),min=0; attr=output_types:list(type),min=1; attr=output_shapes:list(shape),min=1; attr=use_inter_op_parallelism:bool,default=true; attr=preserve_cardinality:bool,default=false; attr=force_synchronous:bool,default=false; attr=metadata:string,default=\"\"> This may be expected if your graph generating binary is newer  than this binary. Unknown attributes will be ignored. NodeDef: {{node ParallelMapDatasetV2/_14}}\n",
      " 73%|███████▎  | 22/30 [47:18<12:38, 94.84s/it]"
     ]
    },
    {
     "name": "stdout",
     "output_type": "stream",
     "text": [
      "The average treatment effect (ATE) is 1.7817006\n",
      "Epoch 1: loss 2.4288,\tloss_y 1.6722, 1.6932, 0.0421,\tloss_eta 0.7566, 0.7871, 0.0611\n",
      "Warning: covariate dimension does not aligned with the specified input dimension; filling in the remaining dimension with noise.\n",
      "Warning: covariate dimension does not aligned with the specified input dimension; filling in the remaining dimension with noise.\n"
     ]
    },
    {
     "name": "stderr",
     "output_type": "stream",
     "text": [
      "INFO \t Training with 6 minibatches per epoch\n",
      "INFO \t Evaluating 1 minibatches\n",
      "2025-04-26 08:28:42.831588: E tensorflow/core/framework/node_def_util.cc:676] NodeDef mentions attribute use_unbounded_threadpool which is not in the op definition: Op<name=MapDataset; signature=input_dataset:variant, other_arguments: -> handle:variant; attr=f:func; attr=Targuments:list(type),min=0; attr=output_types:list(type),min=1; attr=output_shapes:list(shape),min=1; attr=use_inter_op_parallelism:bool,default=true; attr=preserve_cardinality:bool,default=false; attr=force_synchronous:bool,default=false; attr=metadata:string,default=\"\"> This may be expected if your graph generating binary is newer  than this binary. Unknown attributes will be ignored. NodeDef: {{node ParallelMapDatasetV2/_14}}\n",
      "2025-04-26 08:28:42.831879: E tensorflow/core/framework/node_def_util.cc:676] NodeDef mentions attribute use_unbounded_threadpool which is not in the op definition: Op<name=MapDataset; signature=input_dataset:variant, other_arguments: -> handle:variant; attr=f:func; attr=Targuments:list(type),min=0; attr=output_types:list(type),min=1; attr=output_shapes:list(shape),min=1; attr=use_inter_op_parallelism:bool,default=true; attr=preserve_cardinality:bool,default=false; attr=force_synchronous:bool,default=false; attr=metadata:string,default=\"\"> This may be expected if your graph generating binary is newer  than this binary. Unknown attributes will be ignored. NodeDef: {{node ParallelMapDatasetV2/_14}}\n",
      "2025-04-26 08:28:48.329175: E tensorflow/core/framework/node_def_util.cc:676] NodeDef mentions attribute use_unbounded_threadpool which is not in the op definition: Op<name=MapDataset; signature=input_dataset:variant, other_arguments: -> handle:variant; attr=f:func; attr=Targuments:list(type),min=0; attr=output_types:list(type),min=1; attr=output_shapes:list(shape),min=1; attr=use_inter_op_parallelism:bool,default=true; attr=preserve_cardinality:bool,default=false; attr=force_synchronous:bool,default=false; attr=metadata:string,default=\"\"> This may be expected if your graph generating binary is newer  than this binary. Unknown attributes will be ignored. NodeDef: {{node ParallelMapDatasetV2/_14}}\n",
      "2025-04-26 08:28:48.329467: E tensorflow/core/framework/node_def_util.cc:676] NodeDef mentions attribute use_unbounded_threadpool which is not in the op definition: Op<name=MapDataset; signature=input_dataset:variant, other_arguments: -> handle:variant; attr=f:func; attr=Targuments:list(type),min=0; attr=output_types:list(type),min=1; attr=output_shapes:list(shape),min=1; attr=use_inter_op_parallelism:bool,default=true; attr=preserve_cardinality:bool,default=false; attr=force_synchronous:bool,default=false; attr=metadata:string,default=\"\"> This may be expected if your graph generating binary is newer  than this binary. Unknown attributes will be ignored. NodeDef: {{node ParallelMapDatasetV2/_14}}\n",
      " 77%|███████▋  | 23/30 [48:49<10:55, 93.70s/it]"
     ]
    },
    {
     "name": "stdout",
     "output_type": "stream",
     "text": [
      "The average treatment effect (ATE) is 1.7629836\n",
      "Epoch 1: loss 2.4257,\tloss_y 1.6507, 1.6752, 0.0491,\tloss_eta 0.7750, 0.8093, 0.0684\n",
      "Warning: covariate dimension does not aligned with the specified input dimension; filling in the remaining dimension with noise.\n",
      "Warning: covariate dimension does not aligned with the specified input dimension; filling in the remaining dimension with noise.\n"
     ]
    },
    {
     "name": "stderr",
     "output_type": "stream",
     "text": [
      "INFO \t Training with 6 minibatches per epoch\n",
      "INFO \t Evaluating 1 minibatches\n",
      "2025-04-26 08:44:12.421266: E tensorflow/core/framework/node_def_util.cc:676] NodeDef mentions attribute use_unbounded_threadpool which is not in the op definition: Op<name=MapDataset; signature=input_dataset:variant, other_arguments: -> handle:variant; attr=f:func; attr=Targuments:list(type),min=0; attr=output_types:list(type),min=1; attr=output_shapes:list(shape),min=1; attr=use_inter_op_parallelism:bool,default=true; attr=preserve_cardinality:bool,default=false; attr=force_synchronous:bool,default=false; attr=metadata:string,default=\"\"> This may be expected if your graph generating binary is newer  than this binary. Unknown attributes will be ignored. NodeDef: {{node ParallelMapDatasetV2/_14}}\n",
      "2025-04-26 08:44:12.421582: E tensorflow/core/framework/node_def_util.cc:676] NodeDef mentions attribute use_unbounded_threadpool which is not in the op definition: Op<name=MapDataset; signature=input_dataset:variant, other_arguments: -> handle:variant; attr=f:func; attr=Targuments:list(type),min=0; attr=output_types:list(type),min=1; attr=output_shapes:list(shape),min=1; attr=use_inter_op_parallelism:bool,default=true; attr=preserve_cardinality:bool,default=false; attr=force_synchronous:bool,default=false; attr=metadata:string,default=\"\"> This may be expected if your graph generating binary is newer  than this binary. Unknown attributes will be ignored. NodeDef: {{node ParallelMapDatasetV2/_14}}\n",
      "2025-04-26 08:44:18.025233: E tensorflow/core/framework/node_def_util.cc:676] NodeDef mentions attribute use_unbounded_threadpool which is not in the op definition: Op<name=MapDataset; signature=input_dataset:variant, other_arguments: -> handle:variant; attr=f:func; attr=Targuments:list(type),min=0; attr=output_types:list(type),min=1; attr=output_shapes:list(shape),min=1; attr=use_inter_op_parallelism:bool,default=true; attr=preserve_cardinality:bool,default=false; attr=force_synchronous:bool,default=false; attr=metadata:string,default=\"\"> This may be expected if your graph generating binary is newer  than this binary. Unknown attributes will be ignored. NodeDef: {{node ParallelMapDatasetV2/_14}}\n",
      "2025-04-26 08:44:18.025521: E tensorflow/core/framework/node_def_util.cc:676] NodeDef mentions attribute use_unbounded_threadpool which is not in the op definition: Op<name=MapDataset; signature=input_dataset:variant, other_arguments: -> handle:variant; attr=f:func; attr=Targuments:list(type),min=0; attr=output_types:list(type),min=1; attr=output_shapes:list(shape),min=1; attr=use_inter_op_parallelism:bool,default=true; attr=preserve_cardinality:bool,default=false; attr=force_synchronous:bool,default=false; attr=metadata:string,default=\"\"> This may be expected if your graph generating binary is newer  than this binary. Unknown attributes will be ignored. NodeDef: {{node ParallelMapDatasetV2/_14}}\n",
      " 80%|████████  | 24/30 [1:04:18<34:27, 344.54s/it]"
     ]
    },
    {
     "name": "stdout",
     "output_type": "stream",
     "text": [
      "The average treatment effect (ATE) is 1.755211\n",
      "Epoch 1: loss 2.4490,\tloss_y 1.6868, 1.6962, 0.0187,\tloss_eta 0.7622, 0.8000, 0.0757\n",
      "Warning: covariate dimension does not aligned with the specified input dimension; filling in the remaining dimension with noise.\n",
      "Warning: covariate dimension does not aligned with the specified input dimension; filling in the remaining dimension with noise.\n"
     ]
    },
    {
     "name": "stderr",
     "output_type": "stream",
     "text": [
      "INFO \t Training with 6 minibatches per epoch\n",
      "INFO \t Evaluating 1 minibatches\n",
      "2025-04-26 08:45:44.170615: E tensorflow/core/framework/node_def_util.cc:676] NodeDef mentions attribute use_unbounded_threadpool which is not in the op definition: Op<name=MapDataset; signature=input_dataset:variant, other_arguments: -> handle:variant; attr=f:func; attr=Targuments:list(type),min=0; attr=output_types:list(type),min=1; attr=output_shapes:list(shape),min=1; attr=use_inter_op_parallelism:bool,default=true; attr=preserve_cardinality:bool,default=false; attr=force_synchronous:bool,default=false; attr=metadata:string,default=\"\"> This may be expected if your graph generating binary is newer  than this binary. Unknown attributes will be ignored. NodeDef: {{node ParallelMapDatasetV2/_14}}\n",
      "2025-04-26 08:45:44.170915: E tensorflow/core/framework/node_def_util.cc:676] NodeDef mentions attribute use_unbounded_threadpool which is not in the op definition: Op<name=MapDataset; signature=input_dataset:variant, other_arguments: -> handle:variant; attr=f:func; attr=Targuments:list(type),min=0; attr=output_types:list(type),min=1; attr=output_shapes:list(shape),min=1; attr=use_inter_op_parallelism:bool,default=true; attr=preserve_cardinality:bool,default=false; attr=force_synchronous:bool,default=false; attr=metadata:string,default=\"\"> This may be expected if your graph generating binary is newer  than this binary. Unknown attributes will be ignored. NodeDef: {{node ParallelMapDatasetV2/_14}}\n",
      "2025-04-26 08:45:49.764025: E tensorflow/core/framework/node_def_util.cc:676] NodeDef mentions attribute use_unbounded_threadpool which is not in the op definition: Op<name=MapDataset; signature=input_dataset:variant, other_arguments: -> handle:variant; attr=f:func; attr=Targuments:list(type),min=0; attr=output_types:list(type),min=1; attr=output_shapes:list(shape),min=1; attr=use_inter_op_parallelism:bool,default=true; attr=preserve_cardinality:bool,default=false; attr=force_synchronous:bool,default=false; attr=metadata:string,default=\"\"> This may be expected if your graph generating binary is newer  than this binary. Unknown attributes will be ignored. NodeDef: {{node ParallelMapDatasetV2/_14}}\n",
      "2025-04-26 08:45:49.764336: E tensorflow/core/framework/node_def_util.cc:676] NodeDef mentions attribute use_unbounded_threadpool which is not in the op definition: Op<name=MapDataset; signature=input_dataset:variant, other_arguments: -> handle:variant; attr=f:func; attr=Targuments:list(type),min=0; attr=output_types:list(type),min=1; attr=output_shapes:list(shape),min=1; attr=use_inter_op_parallelism:bool,default=true; attr=preserve_cardinality:bool,default=false; attr=force_synchronous:bool,default=false; attr=metadata:string,default=\"\"> This may be expected if your graph generating binary is newer  than this binary. Unknown attributes will be ignored. NodeDef: {{node ParallelMapDatasetV2/_14}}\n",
      " 83%|████████▎ | 25/30 [1:05:50<22:23, 268.69s/it]"
     ]
    },
    {
     "name": "stdout",
     "output_type": "stream",
     "text": [
      "The average treatment effect (ATE) is 1.7782729\n",
      "Epoch 1: loss 2.3408,\tloss_y 1.5915, 1.6017, 0.0205,\tloss_eta 0.7493, 0.7928, 0.0868\n",
      "Warning: covariate dimension does not aligned with the specified input dimension; filling in the remaining dimension with noise.\n",
      "Warning: covariate dimension does not aligned with the specified input dimension; filling in the remaining dimension with noise.\n"
     ]
    },
    {
     "name": "stderr",
     "output_type": "stream",
     "text": [
      "INFO \t Training with 6 minibatches per epoch\n",
      "INFO \t Evaluating 1 minibatches\n",
      "2025-04-26 08:47:17.071810: E tensorflow/core/framework/node_def_util.cc:676] NodeDef mentions attribute use_unbounded_threadpool which is not in the op definition: Op<name=MapDataset; signature=input_dataset:variant, other_arguments: -> handle:variant; attr=f:func; attr=Targuments:list(type),min=0; attr=output_types:list(type),min=1; attr=output_shapes:list(shape),min=1; attr=use_inter_op_parallelism:bool,default=true; attr=preserve_cardinality:bool,default=false; attr=force_synchronous:bool,default=false; attr=metadata:string,default=\"\"> This may be expected if your graph generating binary is newer  than this binary. Unknown attributes will be ignored. NodeDef: {{node ParallelMapDatasetV2/_14}}\n",
      "2025-04-26 08:47:17.072091: E tensorflow/core/framework/node_def_util.cc:676] NodeDef mentions attribute use_unbounded_threadpool which is not in the op definition: Op<name=MapDataset; signature=input_dataset:variant, other_arguments: -> handle:variant; attr=f:func; attr=Targuments:list(type),min=0; attr=output_types:list(type),min=1; attr=output_shapes:list(shape),min=1; attr=use_inter_op_parallelism:bool,default=true; attr=preserve_cardinality:bool,default=false; attr=force_synchronous:bool,default=false; attr=metadata:string,default=\"\"> This may be expected if your graph generating binary is newer  than this binary. Unknown attributes will be ignored. NodeDef: {{node ParallelMapDatasetV2/_14}}\n",
      "2025-04-26 08:47:22.590233: E tensorflow/core/framework/node_def_util.cc:676] NodeDef mentions attribute use_unbounded_threadpool which is not in the op definition: Op<name=MapDataset; signature=input_dataset:variant, other_arguments: -> handle:variant; attr=f:func; attr=Targuments:list(type),min=0; attr=output_types:list(type),min=1; attr=output_shapes:list(shape),min=1; attr=use_inter_op_parallelism:bool,default=true; attr=preserve_cardinality:bool,default=false; attr=force_synchronous:bool,default=false; attr=metadata:string,default=\"\"> This may be expected if your graph generating binary is newer  than this binary. Unknown attributes will be ignored. NodeDef: {{node ParallelMapDatasetV2/_14}}\n",
      "2025-04-26 08:47:22.590506: E tensorflow/core/framework/node_def_util.cc:676] NodeDef mentions attribute use_unbounded_threadpool which is not in the op definition: Op<name=MapDataset; signature=input_dataset:variant, other_arguments: -> handle:variant; attr=f:func; attr=Targuments:list(type),min=0; attr=output_types:list(type),min=1; attr=output_shapes:list(shape),min=1; attr=use_inter_op_parallelism:bool,default=true; attr=preserve_cardinality:bool,default=false; attr=force_synchronous:bool,default=false; attr=metadata:string,default=\"\"> This may be expected if your graph generating binary is newer  than this binary. Unknown attributes will be ignored. NodeDef: {{node ParallelMapDatasetV2/_14}}\n",
      " 87%|████████▋ | 26/30 [1:07:23<14:23, 215.93s/it]"
     ]
    },
    {
     "name": "stdout",
     "output_type": "stream",
     "text": [
      "The average treatment effect (ATE) is 1.7325811\n",
      "Epoch 1: loss 2.4591,\tloss_y 1.6945, 1.7074, 0.0257,\tloss_eta 0.7646, 0.8035, 0.0778\n",
      "Warning: covariate dimension does not aligned with the specified input dimension; filling in the remaining dimension with noise.\n",
      "Warning: covariate dimension does not aligned with the specified input dimension; filling in the remaining dimension with noise.\n"
     ]
    },
    {
     "name": "stderr",
     "output_type": "stream",
     "text": [
      "INFO \t Training with 6 minibatches per epoch\n",
      "INFO \t Evaluating 1 minibatches\n",
      "2025-04-26 08:48:49.306043: E tensorflow/core/framework/node_def_util.cc:676] NodeDef mentions attribute use_unbounded_threadpool which is not in the op definition: Op<name=MapDataset; signature=input_dataset:variant, other_arguments: -> handle:variant; attr=f:func; attr=Targuments:list(type),min=0; attr=output_types:list(type),min=1; attr=output_shapes:list(shape),min=1; attr=use_inter_op_parallelism:bool,default=true; attr=preserve_cardinality:bool,default=false; attr=force_synchronous:bool,default=false; attr=metadata:string,default=\"\"> This may be expected if your graph generating binary is newer  than this binary. Unknown attributes will be ignored. NodeDef: {{node ParallelMapDatasetV2/_14}}\n",
      "2025-04-26 08:48:49.306332: E tensorflow/core/framework/node_def_util.cc:676] NodeDef mentions attribute use_unbounded_threadpool which is not in the op definition: Op<name=MapDataset; signature=input_dataset:variant, other_arguments: -> handle:variant; attr=f:func; attr=Targuments:list(type),min=0; attr=output_types:list(type),min=1; attr=output_shapes:list(shape),min=1; attr=use_inter_op_parallelism:bool,default=true; attr=preserve_cardinality:bool,default=false; attr=force_synchronous:bool,default=false; attr=metadata:string,default=\"\"> This may be expected if your graph generating binary is newer  than this binary. Unknown attributes will be ignored. NodeDef: {{node ParallelMapDatasetV2/_14}}\n",
      "2025-04-26 08:48:54.795530: E tensorflow/core/framework/node_def_util.cc:676] NodeDef mentions attribute use_unbounded_threadpool which is not in the op definition: Op<name=MapDataset; signature=input_dataset:variant, other_arguments: -> handle:variant; attr=f:func; attr=Targuments:list(type),min=0; attr=output_types:list(type),min=1; attr=output_shapes:list(shape),min=1; attr=use_inter_op_parallelism:bool,default=true; attr=preserve_cardinality:bool,default=false; attr=force_synchronous:bool,default=false; attr=metadata:string,default=\"\"> This may be expected if your graph generating binary is newer  than this binary. Unknown attributes will be ignored. NodeDef: {{node ParallelMapDatasetV2/_14}}\n",
      "2025-04-26 08:48:54.795821: E tensorflow/core/framework/node_def_util.cc:676] NodeDef mentions attribute use_unbounded_threadpool which is not in the op definition: Op<name=MapDataset; signature=input_dataset:variant, other_arguments: -> handle:variant; attr=f:func; attr=Targuments:list(type),min=0; attr=output_types:list(type),min=1; attr=output_shapes:list(shape),min=1; attr=use_inter_op_parallelism:bool,default=true; attr=preserve_cardinality:bool,default=false; attr=force_synchronous:bool,default=false; attr=metadata:string,default=\"\"> This may be expected if your graph generating binary is newer  than this binary. Unknown attributes will be ignored. NodeDef: {{node ParallelMapDatasetV2/_14}}\n",
      " 90%|█████████ | 27/30 [1:08:55<08:56, 178.81s/it]"
     ]
    },
    {
     "name": "stdout",
     "output_type": "stream",
     "text": [
      "The average treatment effect (ATE) is 1.7957542\n",
      "Epoch 1: loss 2.3990,\tloss_y 1.6246, 1.6378, 0.0263,\tloss_eta 0.7744, 0.7974, 0.0460\n",
      "Warning: covariate dimension does not aligned with the specified input dimension; filling in the remaining dimension with noise.\n",
      "Warning: covariate dimension does not aligned with the specified input dimension; filling in the remaining dimension with noise.\n"
     ]
    },
    {
     "name": "stderr",
     "output_type": "stream",
     "text": [
      "INFO \t Training with 6 minibatches per epoch\n",
      "INFO \t Evaluating 1 minibatches\n",
      "2025-04-26 08:50:18.751508: E tensorflow/core/framework/node_def_util.cc:676] NodeDef mentions attribute use_unbounded_threadpool which is not in the op definition: Op<name=MapDataset; signature=input_dataset:variant, other_arguments: -> handle:variant; attr=f:func; attr=Targuments:list(type),min=0; attr=output_types:list(type),min=1; attr=output_shapes:list(shape),min=1; attr=use_inter_op_parallelism:bool,default=true; attr=preserve_cardinality:bool,default=false; attr=force_synchronous:bool,default=false; attr=metadata:string,default=\"\"> This may be expected if your graph generating binary is newer  than this binary. Unknown attributes will be ignored. NodeDef: {{node ParallelMapDatasetV2/_14}}\n",
      "2025-04-26 08:50:18.751812: E tensorflow/core/framework/node_def_util.cc:676] NodeDef mentions attribute use_unbounded_threadpool which is not in the op definition: Op<name=MapDataset; signature=input_dataset:variant, other_arguments: -> handle:variant; attr=f:func; attr=Targuments:list(type),min=0; attr=output_types:list(type),min=1; attr=output_shapes:list(shape),min=1; attr=use_inter_op_parallelism:bool,default=true; attr=preserve_cardinality:bool,default=false; attr=force_synchronous:bool,default=false; attr=metadata:string,default=\"\"> This may be expected if your graph generating binary is newer  than this binary. Unknown attributes will be ignored. NodeDef: {{node ParallelMapDatasetV2/_14}}\n",
      "2025-04-26 08:50:24.224006: E tensorflow/core/framework/node_def_util.cc:676] NodeDef mentions attribute use_unbounded_threadpool which is not in the op definition: Op<name=MapDataset; signature=input_dataset:variant, other_arguments: -> handle:variant; attr=f:func; attr=Targuments:list(type),min=0; attr=output_types:list(type),min=1; attr=output_shapes:list(shape),min=1; attr=use_inter_op_parallelism:bool,default=true; attr=preserve_cardinality:bool,default=false; attr=force_synchronous:bool,default=false; attr=metadata:string,default=\"\"> This may be expected if your graph generating binary is newer  than this binary. Unknown attributes will be ignored. NodeDef: {{node ParallelMapDatasetV2/_14}}\n",
      "2025-04-26 08:50:24.224298: E tensorflow/core/framework/node_def_util.cc:676] NodeDef mentions attribute use_unbounded_threadpool which is not in the op definition: Op<name=MapDataset; signature=input_dataset:variant, other_arguments: -> handle:variant; attr=f:func; attr=Targuments:list(type),min=0; attr=output_types:list(type),min=1; attr=output_shapes:list(shape),min=1; attr=use_inter_op_parallelism:bool,default=true; attr=preserve_cardinality:bool,default=false; attr=force_synchronous:bool,default=false; attr=metadata:string,default=\"\"> This may be expected if your graph generating binary is newer  than this binary. Unknown attributes will be ignored. NodeDef: {{node ParallelMapDatasetV2/_14}}\n",
      " 93%|█████████▎| 28/30 [1:10:24<05:03, 151.99s/it]"
     ]
    },
    {
     "name": "stdout",
     "output_type": "stream",
     "text": [
      "The average treatment effect (ATE) is 1.7719679\n",
      "Epoch 1: loss 2.4767,\tloss_y 1.7093, 1.7282, 0.0379,\tloss_eta 0.7674, 0.7953, 0.0559\n",
      "Warning: covariate dimension does not aligned with the specified input dimension; filling in the remaining dimension with noise.\n",
      "Warning: covariate dimension does not aligned with the specified input dimension; filling in the remaining dimension with noise.\n"
     ]
    },
    {
     "name": "stderr",
     "output_type": "stream",
     "text": [
      "INFO \t Training with 6 minibatches per epoch\n",
      "INFO \t Evaluating 1 minibatches\n",
      "2025-04-26 08:51:49.455000: E tensorflow/core/framework/node_def_util.cc:676] NodeDef mentions attribute use_unbounded_threadpool which is not in the op definition: Op<name=MapDataset; signature=input_dataset:variant, other_arguments: -> handle:variant; attr=f:func; attr=Targuments:list(type),min=0; attr=output_types:list(type),min=1; attr=output_shapes:list(shape),min=1; attr=use_inter_op_parallelism:bool,default=true; attr=preserve_cardinality:bool,default=false; attr=force_synchronous:bool,default=false; attr=metadata:string,default=\"\"> This may be expected if your graph generating binary is newer  than this binary. Unknown attributes will be ignored. NodeDef: {{node ParallelMapDatasetV2/_14}}\n",
      "2025-04-26 08:51:49.455302: E tensorflow/core/framework/node_def_util.cc:676] NodeDef mentions attribute use_unbounded_threadpool which is not in the op definition: Op<name=MapDataset; signature=input_dataset:variant, other_arguments: -> handle:variant; attr=f:func; attr=Targuments:list(type),min=0; attr=output_types:list(type),min=1; attr=output_shapes:list(shape),min=1; attr=use_inter_op_parallelism:bool,default=true; attr=preserve_cardinality:bool,default=false; attr=force_synchronous:bool,default=false; attr=metadata:string,default=\"\"> This may be expected if your graph generating binary is newer  than this binary. Unknown attributes will be ignored. NodeDef: {{node ParallelMapDatasetV2/_14}}\n",
      "2025-04-26 08:51:55.212294: E tensorflow/core/framework/node_def_util.cc:676] NodeDef mentions attribute use_unbounded_threadpool which is not in the op definition: Op<name=MapDataset; signature=input_dataset:variant, other_arguments: -> handle:variant; attr=f:func; attr=Targuments:list(type),min=0; attr=output_types:list(type),min=1; attr=output_shapes:list(shape),min=1; attr=use_inter_op_parallelism:bool,default=true; attr=preserve_cardinality:bool,default=false; attr=force_synchronous:bool,default=false; attr=metadata:string,default=\"\"> This may be expected if your graph generating binary is newer  than this binary. Unknown attributes will be ignored. NodeDef: {{node ParallelMapDatasetV2/_14}}\n",
      "2025-04-26 08:51:55.212570: E tensorflow/core/framework/node_def_util.cc:676] NodeDef mentions attribute use_unbounded_threadpool which is not in the op definition: Op<name=MapDataset; signature=input_dataset:variant, other_arguments: -> handle:variant; attr=f:func; attr=Targuments:list(type),min=0; attr=output_types:list(type),min=1; attr=output_shapes:list(shape),min=1; attr=use_inter_op_parallelism:bool,default=true; attr=preserve_cardinality:bool,default=false; attr=force_synchronous:bool,default=false; attr=metadata:string,default=\"\"> This may be expected if your graph generating binary is newer  than this binary. Unknown attributes will be ignored. NodeDef: {{node ParallelMapDatasetV2/_14}}\n",
      " 97%|█████████▋| 29/30 [1:11:55<02:13, 133.69s/it]"
     ]
    },
    {
     "name": "stdout",
     "output_type": "stream",
     "text": [
      "The average treatment effect (ATE) is 1.7168877\n",
      "Epoch 1: loss 2.4412,\tloss_y 1.6341, 1.6481, 0.0280,\tloss_eta 0.8071, 0.8447, 0.0750\n",
      "Warning: covariate dimension does not aligned with the specified input dimension; filling in the remaining dimension with noise.\n",
      "Warning: covariate dimension does not aligned with the specified input dimension; filling in the remaining dimension with noise.\n"
     ]
    },
    {
     "name": "stderr",
     "output_type": "stream",
     "text": [
      "INFO \t Training with 6 minibatches per epoch\n",
      "INFO \t Evaluating 1 minibatches\n",
      "2025-04-26 08:53:18.638822: E tensorflow/core/framework/node_def_util.cc:676] NodeDef mentions attribute use_unbounded_threadpool which is not in the op definition: Op<name=MapDataset; signature=input_dataset:variant, other_arguments: -> handle:variant; attr=f:func; attr=Targuments:list(type),min=0; attr=output_types:list(type),min=1; attr=output_shapes:list(shape),min=1; attr=use_inter_op_parallelism:bool,default=true; attr=preserve_cardinality:bool,default=false; attr=force_synchronous:bool,default=false; attr=metadata:string,default=\"\"> This may be expected if your graph generating binary is newer  than this binary. Unknown attributes will be ignored. NodeDef: {{node ParallelMapDatasetV2/_14}}\n",
      "2025-04-26 08:53:18.639132: E tensorflow/core/framework/node_def_util.cc:676] NodeDef mentions attribute use_unbounded_threadpool which is not in the op definition: Op<name=MapDataset; signature=input_dataset:variant, other_arguments: -> handle:variant; attr=f:func; attr=Targuments:list(type),min=0; attr=output_types:list(type),min=1; attr=output_shapes:list(shape),min=1; attr=use_inter_op_parallelism:bool,default=true; attr=preserve_cardinality:bool,default=false; attr=force_synchronous:bool,default=false; attr=metadata:string,default=\"\"> This may be expected if your graph generating binary is newer  than this binary. Unknown attributes will be ignored. NodeDef: {{node ParallelMapDatasetV2/_14}}\n",
      "2025-04-26 08:53:24.240664: E tensorflow/core/framework/node_def_util.cc:676] NodeDef mentions attribute use_unbounded_threadpool which is not in the op definition: Op<name=MapDataset; signature=input_dataset:variant, other_arguments: -> handle:variant; attr=f:func; attr=Targuments:list(type),min=0; attr=output_types:list(type),min=1; attr=output_shapes:list(shape),min=1; attr=use_inter_op_parallelism:bool,default=true; attr=preserve_cardinality:bool,default=false; attr=force_synchronous:bool,default=false; attr=metadata:string,default=\"\"> This may be expected if your graph generating binary is newer  than this binary. Unknown attributes will be ignored. NodeDef: {{node ParallelMapDatasetV2/_14}}\n",
      "2025-04-26 08:53:24.240936: E tensorflow/core/framework/node_def_util.cc:676] NodeDef mentions attribute use_unbounded_threadpool which is not in the op definition: Op<name=MapDataset; signature=input_dataset:variant, other_arguments: -> handle:variant; attr=f:func; attr=Targuments:list(type),min=0; attr=output_types:list(type),min=1; attr=output_shapes:list(shape),min=1; attr=use_inter_op_parallelism:bool,default=true; attr=preserve_cardinality:bool,default=false; attr=force_synchronous:bool,default=false; attr=metadata:string,default=\"\"> This may be expected if your graph generating binary is newer  than this binary. Unknown attributes will be ignored. NodeDef: {{node ParallelMapDatasetV2/_14}}\n",
      "100%|██████████| 30/30 [1:13:25<00:00, 146.83s/it]\n"
     ]
    },
    {
     "name": "stdout",
     "output_type": "stream",
     "text": [
      "The average treatment effect (ATE) is 1.66616\n",
      "Running experiments for strength_instr = 2.0\n"
     ]
    },
    {
     "name": "stderr",
     "output_type": "stream",
     "text": [
      "  0%|          | 0/30 [00:00<?, ?it/s]"
     ]
    },
    {
     "name": "stdout",
     "output_type": "stream",
     "text": [
      "Epoch 1: loss 2.3948,\tloss_y 1.6421, 1.6547, 0.0252,\tloss_eta 0.7527, 0.8000, 0.0947\n",
      "Warning: covariate dimension does not aligned with the specified input dimension; filling in the remaining dimension with noise.\n",
      "Warning: covariate dimension does not aligned with the specified input dimension; filling in the remaining dimension with noise.\n"
     ]
    },
    {
     "name": "stderr",
     "output_type": "stream",
     "text": [
      "[I 2025-04-26 08:53:27,721] A new study created in memory with name: tarnet_tune\n",
      "[I 2025-04-26 08:53:29,900] Trial 0 finished with value: 0.5690457224845886 and parameters: {'lr': 0.00038773113666979185, 'wd': 0.00017266936909395722, 'bs': 256, 'epochs': 305, 'rep1': 35, 'rep2': 97, 'head': 76, 'drop': 0.0005903241060662431}. Best is trial 0 with value: 0.5690457224845886.\n",
      "[I 2025-04-26 08:53:35,114] Trial 1 finished with value: 0.75579434633255 and parameters: {'lr': 2.3019804962492707e-05, 'wd': 0.006237109376731511, 'bs': 256, 'epochs': 770, 'rep1': 26, 'rep2': 64, 'head': 81, 'drop': 0.0006855140187333315}. Best is trial 0 with value: 0.5690457224845886.\n",
      "[I 2025-04-26 08:53:39,516] Trial 2 finished with value: 0.5605975389480591 and parameters: {'lr': 5.278534226776039e-05, 'wd': 0.004413024415881155, 'bs': 256, 'epochs': 616, 'rep1': 22, 'rep2': 95, 'head': 93, 'drop': 1.0737293284995952e-05}. Best is trial 2 with value: 0.5605975389480591.\n",
      "[I 2025-04-26 08:53:43,554] Trial 3 finished with value: 0.5647000670433044 and parameters: {'lr': 0.00029395834959768276, 'wd': 0.00018744152087924783, 'bs': 128, 'epochs': 489, 'rep1': 47, 'rep2': 62, 'head': 61, 'drop': 0.000815886741387547}. Best is trial 2 with value: 0.5605975389480591.\n",
      "[I 2025-04-26 08:53:56,079] Trial 4 finished with value: 0.5272149443626404 and parameters: {'lr': 0.003651433421244222, 'wd': 0.000731724975082132, 'bs': 32, 'epochs': 677, 'rep1': 21, 'rep2': 62, 'head': 62, 'drop': 0.0005212473907384914}. Best is trial 4 with value: 0.5272149443626404.\n",
      "[I 2025-04-26 08:53:58,326] Trial 5 finished with value: 0.5332127213478088 and parameters: {'lr': 0.0016775400053244294, 'wd': 3.3536391657597906e-05, 'bs': 256, 'epochs': 328, 'rep1': 48, 'rep2': 85, 'head': 63, 'drop': 0.00012642402840477786}. Best is trial 4 with value: 0.5272149443626404.\n",
      "[I 2025-04-26 08:54:01,575] Trial 6 finished with value: 0.5559117197990417 and parameters: {'lr': 0.0004539613182437915, 'wd': 0.0007443440074123675, 'bs': 256, 'epochs': 485, 'rep1': 32, 'rep2': 75, 'head': 64, 'drop': 0.0005034262402106457}. Best is trial 4 with value: 0.5272149443626404.\n",
      "[I 2025-04-26 08:54:12,182] Trial 7 finished with value: 0.5546543002128601 and parameters: {'lr': 3.380583387426261e-05, 'wd': 7.131599398799648e-05, 'bs': 32, 'epochs': 567, 'rep1': 26, 'rep2': 79, 'head': 57, 'drop': 0.00033972532756456887}. Best is trial 4 with value: 0.5272149443626404.\n",
      "[I 2025-04-26 08:54:17,316] Trial 8 finished with value: 0.6920904517173767 and parameters: {'lr': 1.0667261757636613e-05, 'wd': 5.1249212452092224e-05, 'bs': 128, 'epochs': 592, 'rep1': 50, 'rep2': 87, 'head': 63, 'drop': 0.0002905879177862907}. Best is trial 4 with value: 0.5272149443626404.\n",
      "[I 2025-04-26 08:54:20,816] Trial 9 finished with value: 0.5260626673698425 and parameters: {'lr': 0.005204816523362531, 'wd': 0.007160769303236418, 'bs': 256, 'epochs': 516, 'rep1': 26, 'rep2': 95, 'head': 64, 'drop': 0.0008045370135737336}. Best is trial 9 with value: 0.5260626673698425.\n"
     ]
    },
    {
     "name": "stdout",
     "output_type": "stream",
     "text": [
      "🔍 Best params for tarnet: {'lr': 0.005204816523362531, 'wd': 0.007160769303236418, 'bs': 256, 'epochs': 516, 'rep1': 26, 'rep2': 95, 'head': 64, 'drop': 0.0008045370135737336}\n"
     ]
    },
    {
     "name": "stderr",
     "output_type": "stream",
     "text": [
      "[I 2025-04-26 08:54:26,768] A new study created in memory with name: cfrnet_tune\n",
      "[I 2025-04-26 08:54:36,729] Trial 0 finished with value: 0.6490288376808167 and parameters: {'lr': 0.0004811894201044264, 'wd': 0.0014706521887218335, 'bs': 256, 'epochs': 725, 'rep1': 78, 'rep2': 192, 'head': 179, 'drop': 0.0005356653416799307, 'ipm_weight': 4.442990019070784}. Best is trial 0 with value: 0.6490288376808167.\n",
      "[I 2025-04-26 08:54:43,090] Trial 1 finished with value: 0.5805322527885437 and parameters: {'lr': 0.0016800035263000342, 'wd': 0.0019177544151207696, 'bs': 256, 'epochs': 473, 'rep1': 147, 'rep2': 188, 'head': 91, 'drop': 0.0007927169529237803, 'ipm_weight': 2.4863134616905196}. Best is trial 1 with value: 0.5805322527885437.\n",
      "[I 2025-04-26 08:54:50,684] Trial 2 finished with value: 0.556387186050415 and parameters: {'lr': 0.0023060476690568424, 'wd': 0.00016482483928620138, 'bs': 256, 'epochs': 593, 'rep1': 188, 'rep2': 90, 'head': 151, 'drop': 0.0005265780552714775, 'ipm_weight': 0.014333103959978525}. Best is trial 2 with value: 0.556387186050415.\n",
      "[I 2025-04-26 08:54:55,439] Trial 3 finished with value: 0.5371631383895874 and parameters: {'lr': 0.001473253574128239, 'wd': 0.008872716839266525, 'bs': 128, 'epochs': 325, 'rep1': 80, 'rep2': 172, 'head': 148, 'drop': 0.00013939542813729233, 'ipm_weight': 0.19576642021386262}. Best is trial 3 with value: 0.5371631383895874.\n",
      "[I 2025-04-26 08:55:00,125] Trial 4 finished with value: 0.6202204823493958 and parameters: {'lr': 0.0022874182635085026, 'wd': 0.000229769159309286, 'bs': 128, 'epochs': 348, 'rep1': 158, 'rep2': 89, 'head': 83, 'drop': 0.0008421574671817574, 'ipm_weight': 3.62504242816814}. Best is trial 3 with value: 0.5371631383895874.\n",
      "[I 2025-04-26 08:55:16,684] Trial 5 finished with value: 0.533158004283905 and parameters: {'lr': 1.4005509730182948e-05, 'wd': 9.152807196208509e-05, 'bs': 32, 'epochs': 567, 'rep1': 132, 'rep2': 53, 'head': 162, 'drop': 0.0003213928677913599, 'ipm_weight': 0.04814926294578235}. Best is trial 5 with value: 0.533158004283905.\n",
      "[I 2025-04-26 08:55:28,608] Trial 6 finished with value: 0.5476068258285522 and parameters: {'lr': 0.00024313762362734872, 'wd': 0.0003937478298921001, 'bs': 32, 'epochs': 394, 'rep1': 97, 'rep2': 163, 'head': 111, 'drop': 0.0005398146441146579, 'ipm_weight': 0.07251511656415338}. Best is trial 5 with value: 0.533158004283905.\n",
      "[I 2025-04-26 08:55:47,947] Trial 7 finished with value: 0.5916609168052673 and parameters: {'lr': 1.1783959797046808e-05, 'wd': 0.007627929862093887, 'bs': 32, 'epochs': 638, 'rep1': 151, 'rep2': 88, 'head': 167, 'drop': 0.00021121902856167685, 'ipm_weight': 0.5907298815232226}. Best is trial 5 with value: 0.533158004283905.\n",
      "[I 2025-04-26 08:56:04,258] Trial 8 finished with value: 0.677460789680481 and parameters: {'lr': 0.0066283452537500755, 'wd': 0.0018043068453387557, 'bs': 32, 'epochs': 533, 'rep1': 120, 'rep2': 149, 'head': 118, 'drop': 0.0008678676002391991, 'ipm_weight': 5.548838459985732}. Best is trial 5 with value: 0.533158004283905.\n",
      "[I 2025-04-26 08:56:24,715] Trial 9 finished with value: 0.5710405111312866 and parameters: {'lr': 1.719631853494084e-05, 'wd': 0.0033431176692554085, 'bs': 32, 'epochs': 644, 'rep1': 121, 'rep2': 118, 'head': 196, 'drop': 4.3251987740039245e-05, 'ipm_weight': 0.2806030346707042}. Best is trial 5 with value: 0.533158004283905.\n"
     ]
    },
    {
     "name": "stdout",
     "output_type": "stream",
     "text": [
      "🔍 Best params for cfrnet: {'lr': 1.4005509730182948e-05, 'wd': 9.152807196208509e-05, 'bs': 32, 'epochs': 567, 'rep1': 132, 'rep2': 53, 'head': 162, 'drop': 0.0003213928677913599, 'ipm_weight': 0.04814926294578235}\n"
     ]
    },
    {
     "name": "stderr",
     "output_type": "stream",
     "text": [
      "[I 2025-04-26 08:56:47,528] A new study created in memory with name: cevae_tune\n",
      "INFO \t Training with 32 minibatches per epoch\n",
      "[I 2025-04-26 08:58:33,252] Trial 0 finished with value: 51.79288922119141 and parameters: {'lr': 1.2640495572190085e-05, 'wd': 0.00045879401146779026, 'bs': 32, 'epochs': 786, 'latent_dim': 76, 'hidden_dim': 247, 'num_layers': 2, 'num_samples': 100}. Best is trial 0 with value: 51.79288922119141.\n",
      "INFO \t Training with 8 minibatches per epoch\n",
      "[I 2025-04-26 08:59:04,361] Trial 1 finished with value: 40.86751544189453 and parameters: {'lr': 4.012465575111669e-05, 'wd': 0.000300425994803817, 'bs': 128, 'epochs': 363, 'latent_dim': 122, 'hidden_dim': 309, 'num_layers': 5, 'num_samples': 50}. Best is trial 1 with value: 40.86751544189453.\n",
      "INFO \t Training with 4 minibatches per epoch\n",
      "[I 2025-04-26 08:59:29,775] Trial 2 finished with value: 31.404023193359375 and parameters: {'lr': 0.0007563317906602179, 'wd': 5.216105547029647e-05, 'bs': 256, 'epochs': 575, 'latent_dim': 34, 'hidden_dim': 223, 'num_layers': 5, 'num_samples': 50}. Best is trial 2 with value: 31.404023193359375.\n",
      "INFO \t Training with 8 minibatches per epoch\n",
      "[I 2025-04-26 09:00:12,340] Trial 3 finished with value: 44.064159545898434 and parameters: {'lr': 1.8555918979779187e-05, 'wd': 6.868090837717368e-05, 'bs': 128, 'epochs': 598, 'latent_dim': 155, 'hidden_dim': 133, 'num_layers': 5, 'num_samples': 100}. Best is trial 2 with value: 31.404023193359375.\n",
      "INFO \t Training with 4 minibatches per epoch\n",
      "[I 2025-04-26 09:00:22,505] Trial 4 finished with value: 32.45035455322266 and parameters: {'lr': 0.00015390189692178548, 'wd': 7.846336062627526e-05, 'bs': 256, 'epochs': 336, 'latent_dim': 42, 'hidden_dim': 172, 'num_layers': 3, 'num_samples': 10}. Best is trial 2 with value: 31.404023193359375.\n",
      "INFO \t Training with 8 minibatches per epoch\n",
      "[I 2025-04-26 09:01:04,993] Trial 5 finished with value: 49.02159832763672 and parameters: {'lr': 0.0030385065421002213, 'wd': 0.0028116529648684325, 'bs': 128, 'epochs': 575, 'latent_dim': 200, 'hidden_dim': 238, 'num_layers': 4, 'num_samples': 200}. Best is trial 2 with value: 31.404023193359375.\n",
      "INFO \t Training with 32 minibatches per epoch\n",
      "[I 2025-04-26 09:02:39,927] Trial 6 finished with value: 43.37980865478516 and parameters: {'lr': 0.0032914647902706085, 'wd': 0.00025942964336283825, 'bs': 32, 'epochs': 787, 'latent_dim': 56, 'hidden_dim': 67, 'num_layers': 2, 'num_samples': 50}. Best is trial 2 with value: 31.404023193359375.\n",
      "INFO \t Training with 4 minibatches per epoch\n",
      "[I 2025-04-26 09:02:55,047] Trial 7 finished with value: 41.39128271484375 and parameters: {'lr': 0.00011758978350176203, 'wd': 0.0016647256853813998, 'bs': 256, 'epochs': 581, 'latent_dim': 74, 'hidden_dim': 197, 'num_layers': 2, 'num_samples': 50}. Best is trial 2 with value: 31.404023193359375.\n",
      "INFO \t Training with 4 minibatches per epoch\n",
      "[I 2025-04-26 09:03:36,791] Trial 8 finished with value: 45.48308959960937 and parameters: {'lr': 0.0011246274245242255, 'wd': 0.0004638455669224506, 'bs': 256, 'epochs': 676, 'latent_dim': 165, 'hidden_dim': 364, 'num_layers': 5, 'num_samples': 200}. Best is trial 2 with value: 31.404023193359375.\n",
      "INFO \t Training with 32 minibatches per epoch\n",
      "[I 2025-04-26 09:04:50,078] Trial 9 finished with value: 46.00977459716797 and parameters: {'lr': 8.16116251028286e-05, 'wd': 2.940794707152705e-05, 'bs': 32, 'epochs': 415, 'latent_dim': 138, 'hidden_dim': 125, 'num_layers': 4, 'num_samples': 10}. Best is trial 2 with value: 31.404023193359375.\n",
      "INFO \t Training with 6 minibatches per epoch\n"
     ]
    },
    {
     "name": "stdout",
     "output_type": "stream",
     "text": [
      "🔍 Best params for cevae: {'lr': 0.0007563317906602179, 'wd': 5.216105547029647e-05, 'bs': 256, 'epochs': 575, 'latent_dim': 34, 'hidden_dim': 223, 'num_layers': 5, 'num_samples': 50}\n"
     ]
    },
    {
     "name": "stderr",
     "output_type": "stream",
     "text": [
      "INFO \t Evaluating 1 minibatches\n",
      "[I 2025-04-26 09:05:28,959] A new study created in memory with name: dragonnet_tune\n",
      "[I 2025-04-26 09:05:37,057] Trial 0 finished with value: 0.24141529202461243 and parameters: {'lr': 0.0063743881940545016, 'wd': 5.015744126406098e-05, 'bs': 128, 'epochs': 665, 'shared_hidden': 157, 'outcome_hidden': 151}. Best is trial 0 with value: 0.24141529202461243.\n",
      "[I 2025-04-26 09:05:40,887] Trial 1 finished with value: 0.24415363371372223 and parameters: {'lr': 0.00027107882391660444, 'wd': 0.002583454128297855, 'bs': 128, 'epochs': 344, 'shared_hidden': 109, 'outcome_hidden': 131}. Best is trial 0 with value: 0.24141529202461243.\n",
      "[I 2025-04-26 09:05:47,126] Trial 2 finished with value: 0.2552003860473633 and parameters: {'lr': 3.1370040393498496e-05, 'wd': 2.8182790159475955e-05, 'bs': 128, 'epochs': 454, 'shared_hidden': 161, 'outcome_hidden': 184}. Best is trial 0 with value: 0.24141529202461243.\n",
      "[I 2025-04-26 09:05:51,381] Trial 3 finished with value: 0.24542275071144104 and parameters: {'lr': 2.5420595566237542e-05, 'wd': 1.782142198464867e-05, 'bs': 128, 'epochs': 404, 'shared_hidden': 157, 'outcome_hidden': 77}. Best is trial 0 with value: 0.24141529202461243.\n",
      "[I 2025-04-26 09:05:57,858] Trial 4 finished with value: 0.239825040102005 and parameters: {'lr': 0.009654540785509643, 'wd': 0.008195956872874591, 'bs': 128, 'epochs': 649, 'shared_hidden': 64, 'outcome_hidden': 143}. Best is trial 4 with value: 0.239825040102005.\n",
      "[I 2025-04-26 09:06:00,864] Trial 5 finished with value: 0.23924124240875244 and parameters: {'lr': 0.001401447798823968, 'wd': 0.00021991229534387555, 'bs': 256, 'epochs': 322, 'shared_hidden': 199, 'outcome_hidden': 165}. Best is trial 5 with value: 0.23924124240875244.\n",
      "[I 2025-04-26 09:06:06,717] Trial 6 finished with value: 0.2450919896364212 and parameters: {'lr': 7.775765749307971e-05, 'wd': 0.003350146197439688, 'bs': 128, 'epochs': 560, 'shared_hidden': 148, 'outcome_hidden': 67}. Best is trial 5 with value: 0.23924124240875244.\n",
      "[I 2025-04-26 09:06:12,538] Trial 7 finished with value: 0.25105229020118713 and parameters: {'lr': 0.0012475113601197354, 'wd': 0.0005121793357562996, 'bs': 128, 'epochs': 566, 'shared_hidden': 125, 'outcome_hidden': 68}. Best is trial 5 with value: 0.23924124240875244.\n",
      "[I 2025-04-26 09:06:19,221] Trial 8 finished with value: 0.24175448715686798 and parameters: {'lr': 0.006160070769901169, 'wd': 0.0012983177372521912, 'bs': 128, 'epochs': 598, 'shared_hidden': 139, 'outcome_hidden': 117}. Best is trial 5 with value: 0.23924124240875244.\n",
      "[I 2025-04-26 09:06:23,055] Trial 9 finished with value: 0.24753990769386292 and parameters: {'lr': 0.004288002938412536, 'wd': 1.3005872486199916e-05, 'bs': 256, 'epochs': 501, 'shared_hidden': 140, 'outcome_hidden': 73}. Best is trial 5 with value: 0.23924124240875244.\n"
     ]
    },
    {
     "name": "stdout",
     "output_type": "stream",
     "text": [
      "🔍 Best params for dragonnet: {'lr': 0.001401447798823968, 'wd': 0.00021991229534387555, 'bs': 256, 'epochs': 322, 'shared_hidden': 199, 'outcome_hidden': 165}\n"
     ]
    },
    {
     "name": "stderr",
     "output_type": "stream",
     "text": [
      "2025-04-26 09:06:30.722672: E tensorflow/core/framework/node_def_util.cc:676] NodeDef mentions attribute use_unbounded_threadpool which is not in the op definition: Op<name=MapDataset; signature=input_dataset:variant, other_arguments: -> handle:variant; attr=f:func; attr=Targuments:list(type),min=0; attr=output_types:list(type),min=1; attr=output_shapes:list(shape),min=1; attr=use_inter_op_parallelism:bool,default=true; attr=preserve_cardinality:bool,default=false; attr=force_synchronous:bool,default=false; attr=metadata:string,default=\"\"> This may be expected if your graph generating binary is newer  than this binary. Unknown attributes will be ignored. NodeDef: {{node ParallelMapDatasetV2/_14}}\n",
      "2025-04-26 09:06:30.722964: E tensorflow/core/framework/node_def_util.cc:676] NodeDef mentions attribute use_unbounded_threadpool which is not in the op definition: Op<name=MapDataset; signature=input_dataset:variant, other_arguments: -> handle:variant; attr=f:func; attr=Targuments:list(type),min=0; attr=output_types:list(type),min=1; attr=output_shapes:list(shape),min=1; attr=use_inter_op_parallelism:bool,default=true; attr=preserve_cardinality:bool,default=false; attr=force_synchronous:bool,default=false; attr=metadata:string,default=\"\"> This may be expected if your graph generating binary is newer  than this binary. Unknown attributes will be ignored. NodeDef: {{node ParallelMapDatasetV2/_14}}\n",
      "2025-04-26 09:06:36.467659: E tensorflow/core/framework/node_def_util.cc:676] NodeDef mentions attribute use_unbounded_threadpool which is not in the op definition: Op<name=MapDataset; signature=input_dataset:variant, other_arguments: -> handle:variant; attr=f:func; attr=Targuments:list(type),min=0; attr=output_types:list(type),min=1; attr=output_shapes:list(shape),min=1; attr=use_inter_op_parallelism:bool,default=true; attr=preserve_cardinality:bool,default=false; attr=force_synchronous:bool,default=false; attr=metadata:string,default=\"\"> This may be expected if your graph generating binary is newer  than this binary. Unknown attributes will be ignored. NodeDef: {{node ParallelMapDatasetV2/_14}}\n",
      "2025-04-26 09:06:36.467953: E tensorflow/core/framework/node_def_util.cc:676] NodeDef mentions attribute use_unbounded_threadpool which is not in the op definition: Op<name=MapDataset; signature=input_dataset:variant, other_arguments: -> handle:variant; attr=f:func; attr=Targuments:list(type),min=0; attr=output_types:list(type),min=1; attr=output_shapes:list(shape),min=1; attr=use_inter_op_parallelism:bool,default=true; attr=preserve_cardinality:bool,default=false; attr=force_synchronous:bool,default=false; attr=metadata:string,default=\"\"> This may be expected if your graph generating binary is newer  than this binary. Unknown attributes will be ignored. NodeDef: {{node ParallelMapDatasetV2/_14}}\n",
      "  3%|▎         | 1/30 [13:12<6:22:54, 792.23s/it]"
     ]
    },
    {
     "name": "stdout",
     "output_type": "stream",
     "text": [
      "The average treatment effect (ATE) is 1.6464595\n",
      "Epoch 1: loss 2.3833,\tloss_y 1.6509, 1.6781, 0.0545,\tloss_eta 0.7325, 0.7618, 0.0587\n",
      "Warning: covariate dimension does not aligned with the specified input dimension; filling in the remaining dimension with noise.\n",
      "Warning: covariate dimension does not aligned with the specified input dimension; filling in the remaining dimension with noise.\n"
     ]
    },
    {
     "name": "stderr",
     "output_type": "stream",
     "text": [
      "INFO \t Training with 6 minibatches per epoch\n",
      "INFO \t Evaluating 1 minibatches\n",
      "2025-04-26 09:07:55.297128: E tensorflow/core/framework/node_def_util.cc:676] NodeDef mentions attribute use_unbounded_threadpool which is not in the op definition: Op<name=MapDataset; signature=input_dataset:variant, other_arguments: -> handle:variant; attr=f:func; attr=Targuments:list(type),min=0; attr=output_types:list(type),min=1; attr=output_shapes:list(shape),min=1; attr=use_inter_op_parallelism:bool,default=true; attr=preserve_cardinality:bool,default=false; attr=force_synchronous:bool,default=false; attr=metadata:string,default=\"\"> This may be expected if your graph generating binary is newer  than this binary. Unknown attributes will be ignored. NodeDef: {{node ParallelMapDatasetV2/_14}}\n",
      "2025-04-26 09:07:55.297470: E tensorflow/core/framework/node_def_util.cc:676] NodeDef mentions attribute use_unbounded_threadpool which is not in the op definition: Op<name=MapDataset; signature=input_dataset:variant, other_arguments: -> handle:variant; attr=f:func; attr=Targuments:list(type),min=0; attr=output_types:list(type),min=1; attr=output_shapes:list(shape),min=1; attr=use_inter_op_parallelism:bool,default=true; attr=preserve_cardinality:bool,default=false; attr=force_synchronous:bool,default=false; attr=metadata:string,default=\"\"> This may be expected if your graph generating binary is newer  than this binary. Unknown attributes will be ignored. NodeDef: {{node ParallelMapDatasetV2/_14}}\n",
      "2025-04-26 09:08:00.942803: E tensorflow/core/framework/node_def_util.cc:676] NodeDef mentions attribute use_unbounded_threadpool which is not in the op definition: Op<name=MapDataset; signature=input_dataset:variant, other_arguments: -> handle:variant; attr=f:func; attr=Targuments:list(type),min=0; attr=output_types:list(type),min=1; attr=output_shapes:list(shape),min=1; attr=use_inter_op_parallelism:bool,default=true; attr=preserve_cardinality:bool,default=false; attr=force_synchronous:bool,default=false; attr=metadata:string,default=\"\"> This may be expected if your graph generating binary is newer  than this binary. Unknown attributes will be ignored. NodeDef: {{node ParallelMapDatasetV2/_14}}\n",
      "2025-04-26 09:08:00.943077: E tensorflow/core/framework/node_def_util.cc:676] NodeDef mentions attribute use_unbounded_threadpool which is not in the op definition: Op<name=MapDataset; signature=input_dataset:variant, other_arguments: -> handle:variant; attr=f:func; attr=Targuments:list(type),min=0; attr=output_types:list(type),min=1; attr=output_shapes:list(shape),min=1; attr=use_inter_op_parallelism:bool,default=true; attr=preserve_cardinality:bool,default=false; attr=force_synchronous:bool,default=false; attr=metadata:string,default=\"\"> This may be expected if your graph generating binary is newer  than this binary. Unknown attributes will be ignored. NodeDef: {{node ParallelMapDatasetV2/_14}}\n",
      "  7%|▋         | 2/30 [14:36<2:55:25, 375.90s/it]"
     ]
    },
    {
     "name": "stdout",
     "output_type": "stream",
     "text": [
      "The average treatment effect (ATE) is 1.5249802\n",
      "Epoch 1: loss 2.4724,\tloss_y 1.7149, 1.7405, 0.0511,\tloss_eta 0.7575, 0.8007, 0.0864\n",
      "Warning: covariate dimension does not aligned with the specified input dimension; filling in the remaining dimension with noise.\n",
      "Warning: covariate dimension does not aligned with the specified input dimension; filling in the remaining dimension with noise.\n"
     ]
    },
    {
     "name": "stderr",
     "output_type": "stream",
     "text": [
      "INFO \t Training with 6 minibatches per epoch\n",
      "INFO \t Evaluating 1 minibatches\n",
      "2025-04-26 09:09:19.245861: E tensorflow/core/framework/node_def_util.cc:676] NodeDef mentions attribute use_unbounded_threadpool which is not in the op definition: Op<name=MapDataset; signature=input_dataset:variant, other_arguments: -> handle:variant; attr=f:func; attr=Targuments:list(type),min=0; attr=output_types:list(type),min=1; attr=output_shapes:list(shape),min=1; attr=use_inter_op_parallelism:bool,default=true; attr=preserve_cardinality:bool,default=false; attr=force_synchronous:bool,default=false; attr=metadata:string,default=\"\"> This may be expected if your graph generating binary is newer  than this binary. Unknown attributes will be ignored. NodeDef: {{node ParallelMapDatasetV2/_14}}\n",
      "2025-04-26 09:09:19.246162: E tensorflow/core/framework/node_def_util.cc:676] NodeDef mentions attribute use_unbounded_threadpool which is not in the op definition: Op<name=MapDataset; signature=input_dataset:variant, other_arguments: -> handle:variant; attr=f:func; attr=Targuments:list(type),min=0; attr=output_types:list(type),min=1; attr=output_shapes:list(shape),min=1; attr=use_inter_op_parallelism:bool,default=true; attr=preserve_cardinality:bool,default=false; attr=force_synchronous:bool,default=false; attr=metadata:string,default=\"\"> This may be expected if your graph generating binary is newer  than this binary. Unknown attributes will be ignored. NodeDef: {{node ParallelMapDatasetV2/_14}}\n",
      "2025-04-26 09:09:24.820981: E tensorflow/core/framework/node_def_util.cc:676] NodeDef mentions attribute use_unbounded_threadpool which is not in the op definition: Op<name=MapDataset; signature=input_dataset:variant, other_arguments: -> handle:variant; attr=f:func; attr=Targuments:list(type),min=0; attr=output_types:list(type),min=1; attr=output_shapes:list(shape),min=1; attr=use_inter_op_parallelism:bool,default=true; attr=preserve_cardinality:bool,default=false; attr=force_synchronous:bool,default=false; attr=metadata:string,default=\"\"> This may be expected if your graph generating binary is newer  than this binary. Unknown attributes will be ignored. NodeDef: {{node ParallelMapDatasetV2/_14}}\n",
      "2025-04-26 09:09:24.821278: E tensorflow/core/framework/node_def_util.cc:676] NodeDef mentions attribute use_unbounded_threadpool which is not in the op definition: Op<name=MapDataset; signature=input_dataset:variant, other_arguments: -> handle:variant; attr=f:func; attr=Targuments:list(type),min=0; attr=output_types:list(type),min=1; attr=output_shapes:list(shape),min=1; attr=use_inter_op_parallelism:bool,default=true; attr=preserve_cardinality:bool,default=false; attr=force_synchronous:bool,default=false; attr=metadata:string,default=\"\"> This may be expected if your graph generating binary is newer  than this binary. Unknown attributes will be ignored. NodeDef: {{node ParallelMapDatasetV2/_14}}\n",
      " 10%|█         | 3/30 [16:00<1:49:09, 242.56s/it]"
     ]
    },
    {
     "name": "stdout",
     "output_type": "stream",
     "text": [
      "The average treatment effect (ATE) is 1.7392269\n",
      "Epoch 1: loss 2.4407,\tloss_y 1.7103, 1.7233, 0.0260,\tloss_eta 0.7304, 0.7615, 0.0621\n",
      "Warning: covariate dimension does not aligned with the specified input dimension; filling in the remaining dimension with noise.\n",
      "Warning: covariate dimension does not aligned with the specified input dimension; filling in the remaining dimension with noise.\n"
     ]
    },
    {
     "name": "stderr",
     "output_type": "stream",
     "text": [
      "INFO \t Training with 6 minibatches per epoch\n",
      "INFO \t Evaluating 1 minibatches\n",
      "2025-04-26 09:10:41.083117: E tensorflow/core/framework/node_def_util.cc:676] NodeDef mentions attribute use_unbounded_threadpool which is not in the op definition: Op<name=MapDataset; signature=input_dataset:variant, other_arguments: -> handle:variant; attr=f:func; attr=Targuments:list(type),min=0; attr=output_types:list(type),min=1; attr=output_shapes:list(shape),min=1; attr=use_inter_op_parallelism:bool,default=true; attr=preserve_cardinality:bool,default=false; attr=force_synchronous:bool,default=false; attr=metadata:string,default=\"\"> This may be expected if your graph generating binary is newer  than this binary. Unknown attributes will be ignored. NodeDef: {{node ParallelMapDatasetV2/_14}}\n",
      "2025-04-26 09:10:41.083454: E tensorflow/core/framework/node_def_util.cc:676] NodeDef mentions attribute use_unbounded_threadpool which is not in the op definition: Op<name=MapDataset; signature=input_dataset:variant, other_arguments: -> handle:variant; attr=f:func; attr=Targuments:list(type),min=0; attr=output_types:list(type),min=1; attr=output_shapes:list(shape),min=1; attr=use_inter_op_parallelism:bool,default=true; attr=preserve_cardinality:bool,default=false; attr=force_synchronous:bool,default=false; attr=metadata:string,default=\"\"> This may be expected if your graph generating binary is newer  than this binary. Unknown attributes will be ignored. NodeDef: {{node ParallelMapDatasetV2/_14}}\n",
      "2025-04-26 09:10:46.598305: E tensorflow/core/framework/node_def_util.cc:676] NodeDef mentions attribute use_unbounded_threadpool which is not in the op definition: Op<name=MapDataset; signature=input_dataset:variant, other_arguments: -> handle:variant; attr=f:func; attr=Targuments:list(type),min=0; attr=output_types:list(type),min=1; attr=output_shapes:list(shape),min=1; attr=use_inter_op_parallelism:bool,default=true; attr=preserve_cardinality:bool,default=false; attr=force_synchronous:bool,default=false; attr=metadata:string,default=\"\"> This may be expected if your graph generating binary is newer  than this binary. Unknown attributes will be ignored. NodeDef: {{node ParallelMapDatasetV2/_14}}\n",
      "2025-04-26 09:10:46.598632: E tensorflow/core/framework/node_def_util.cc:676] NodeDef mentions attribute use_unbounded_threadpool which is not in the op definition: Op<name=MapDataset; signature=input_dataset:variant, other_arguments: -> handle:variant; attr=f:func; attr=Targuments:list(type),min=0; attr=output_types:list(type),min=1; attr=output_shapes:list(shape),min=1; attr=use_inter_op_parallelism:bool,default=true; attr=preserve_cardinality:bool,default=false; attr=force_synchronous:bool,default=false; attr=metadata:string,default=\"\"> This may be expected if your graph generating binary is newer  than this binary. Unknown attributes will be ignored. NodeDef: {{node ParallelMapDatasetV2/_14}}\n",
      " 13%|█▎        | 4/30 [17:22<1:17:36, 179.08s/it]"
     ]
    },
    {
     "name": "stdout",
     "output_type": "stream",
     "text": [
      "The average treatment effect (ATE) is 1.6945409\n",
      "Epoch 1: loss 2.5218,\tloss_y 1.7429, 1.7513, 0.0169,\tloss_eta 0.7789, 0.8115, 0.0652\n",
      "Warning: covariate dimension does not aligned with the specified input dimension; filling in the remaining dimension with noise.\n",
      "Warning: covariate dimension does not aligned with the specified input dimension; filling in the remaining dimension with noise.\n"
     ]
    },
    {
     "name": "stderr",
     "output_type": "stream",
     "text": [
      "INFO \t Training with 6 minibatches per epoch\n",
      "INFO \t Evaluating 1 minibatches\n",
      "2025-04-26 09:12:03.527744: E tensorflow/core/framework/node_def_util.cc:676] NodeDef mentions attribute use_unbounded_threadpool which is not in the op definition: Op<name=MapDataset; signature=input_dataset:variant, other_arguments: -> handle:variant; attr=f:func; attr=Targuments:list(type),min=0; attr=output_types:list(type),min=1; attr=output_shapes:list(shape),min=1; attr=use_inter_op_parallelism:bool,default=true; attr=preserve_cardinality:bool,default=false; attr=force_synchronous:bool,default=false; attr=metadata:string,default=\"\"> This may be expected if your graph generating binary is newer  than this binary. Unknown attributes will be ignored. NodeDef: {{node ParallelMapDatasetV2/_14}}\n",
      "2025-04-26 09:12:03.528052: E tensorflow/core/framework/node_def_util.cc:676] NodeDef mentions attribute use_unbounded_threadpool which is not in the op definition: Op<name=MapDataset; signature=input_dataset:variant, other_arguments: -> handle:variant; attr=f:func; attr=Targuments:list(type),min=0; attr=output_types:list(type),min=1; attr=output_shapes:list(shape),min=1; attr=use_inter_op_parallelism:bool,default=true; attr=preserve_cardinality:bool,default=false; attr=force_synchronous:bool,default=false; attr=metadata:string,default=\"\"> This may be expected if your graph generating binary is newer  than this binary. Unknown attributes will be ignored. NodeDef: {{node ParallelMapDatasetV2/_14}}\n",
      "2025-04-26 09:12:09.144699: E tensorflow/core/framework/node_def_util.cc:676] NodeDef mentions attribute use_unbounded_threadpool which is not in the op definition: Op<name=MapDataset; signature=input_dataset:variant, other_arguments: -> handle:variant; attr=f:func; attr=Targuments:list(type),min=0; attr=output_types:list(type),min=1; attr=output_shapes:list(shape),min=1; attr=use_inter_op_parallelism:bool,default=true; attr=preserve_cardinality:bool,default=false; attr=force_synchronous:bool,default=false; attr=metadata:string,default=\"\"> This may be expected if your graph generating binary is newer  than this binary. Unknown attributes will be ignored. NodeDef: {{node ParallelMapDatasetV2/_14}}\n",
      "2025-04-26 09:12:09.145022: E tensorflow/core/framework/node_def_util.cc:676] NodeDef mentions attribute use_unbounded_threadpool which is not in the op definition: Op<name=MapDataset; signature=input_dataset:variant, other_arguments: -> handle:variant; attr=f:func; attr=Targuments:list(type),min=0; attr=output_types:list(type),min=1; attr=output_shapes:list(shape),min=1; attr=use_inter_op_parallelism:bool,default=true; attr=preserve_cardinality:bool,default=false; attr=force_synchronous:bool,default=false; attr=metadata:string,default=\"\"> This may be expected if your graph generating binary is newer  than this binary. Unknown attributes will be ignored. NodeDef: {{node ParallelMapDatasetV2/_14}}\n",
      " 17%|█▋        | 5/30 [18:44<1:00:06, 144.27s/it]"
     ]
    },
    {
     "name": "stdout",
     "output_type": "stream",
     "text": [
      "The average treatment effect (ATE) is 1.6377302\n",
      "Epoch 1: loss 2.4594,\tloss_y 1.6773, 1.6906, 0.0265,\tloss_eta 0.7821, 0.8262, 0.0882\n",
      "Warning: covariate dimension does not aligned with the specified input dimension; filling in the remaining dimension with noise.\n",
      "Warning: covariate dimension does not aligned with the specified input dimension; filling in the remaining dimension with noise.\n"
     ]
    },
    {
     "name": "stderr",
     "output_type": "stream",
     "text": [
      "INFO \t Training with 6 minibatches per epoch\n",
      "INFO \t Evaluating 1 minibatches\n",
      "2025-04-26 09:13:25.669963: E tensorflow/core/framework/node_def_util.cc:676] NodeDef mentions attribute use_unbounded_threadpool which is not in the op definition: Op<name=MapDataset; signature=input_dataset:variant, other_arguments: -> handle:variant; attr=f:func; attr=Targuments:list(type),min=0; attr=output_types:list(type),min=1; attr=output_shapes:list(shape),min=1; attr=use_inter_op_parallelism:bool,default=true; attr=preserve_cardinality:bool,default=false; attr=force_synchronous:bool,default=false; attr=metadata:string,default=\"\"> This may be expected if your graph generating binary is newer  than this binary. Unknown attributes will be ignored. NodeDef: {{node ParallelMapDatasetV2/_14}}\n",
      "2025-04-26 09:13:25.670260: E tensorflow/core/framework/node_def_util.cc:676] NodeDef mentions attribute use_unbounded_threadpool which is not in the op definition: Op<name=MapDataset; signature=input_dataset:variant, other_arguments: -> handle:variant; attr=f:func; attr=Targuments:list(type),min=0; attr=output_types:list(type),min=1; attr=output_shapes:list(shape),min=1; attr=use_inter_op_parallelism:bool,default=true; attr=preserve_cardinality:bool,default=false; attr=force_synchronous:bool,default=false; attr=metadata:string,default=\"\"> This may be expected if your graph generating binary is newer  than this binary. Unknown attributes will be ignored. NodeDef: {{node ParallelMapDatasetV2/_14}}\n",
      "2025-04-26 09:13:31.164092: E tensorflow/core/framework/node_def_util.cc:676] NodeDef mentions attribute use_unbounded_threadpool which is not in the op definition: Op<name=MapDataset; signature=input_dataset:variant, other_arguments: -> handle:variant; attr=f:func; attr=Targuments:list(type),min=0; attr=output_types:list(type),min=1; attr=output_shapes:list(shape),min=1; attr=use_inter_op_parallelism:bool,default=true; attr=preserve_cardinality:bool,default=false; attr=force_synchronous:bool,default=false; attr=metadata:string,default=\"\"> This may be expected if your graph generating binary is newer  than this binary. Unknown attributes will be ignored. NodeDef: {{node ParallelMapDatasetV2/_14}}\n",
      "2025-04-26 09:13:31.164373: E tensorflow/core/framework/node_def_util.cc:676] NodeDef mentions attribute use_unbounded_threadpool which is not in the op definition: Op<name=MapDataset; signature=input_dataset:variant, other_arguments: -> handle:variant; attr=f:func; attr=Targuments:list(type),min=0; attr=output_types:list(type),min=1; attr=output_shapes:list(shape),min=1; attr=use_inter_op_parallelism:bool,default=true; attr=preserve_cardinality:bool,default=false; attr=force_synchronous:bool,default=false; attr=metadata:string,default=\"\"> This may be expected if your graph generating binary is newer  than this binary. Unknown attributes will be ignored. NodeDef: {{node ParallelMapDatasetV2/_14}}\n",
      " 20%|██        | 6/30 [20:06<49:14, 123.11s/it]  "
     ]
    },
    {
     "name": "stdout",
     "output_type": "stream",
     "text": [
      "The average treatment effect (ATE) is 1.5809122\n",
      "Epoch 1: loss 2.4360,\tloss_y 1.7170, 1.7388, 0.0436,\tloss_eta 0.7190, 0.7549, 0.0717\n",
      "Warning: covariate dimension does not aligned with the specified input dimension; filling in the remaining dimension with noise.\n",
      "Warning: covariate dimension does not aligned with the specified input dimension; filling in the remaining dimension with noise.\n"
     ]
    },
    {
     "name": "stderr",
     "output_type": "stream",
     "text": [
      "INFO \t Training with 6 minibatches per epoch\n",
      "INFO \t Evaluating 1 minibatches\n",
      "2025-04-26 09:14:48.938899: E tensorflow/core/framework/node_def_util.cc:676] NodeDef mentions attribute use_unbounded_threadpool which is not in the op definition: Op<name=MapDataset; signature=input_dataset:variant, other_arguments: -> handle:variant; attr=f:func; attr=Targuments:list(type),min=0; attr=output_types:list(type),min=1; attr=output_shapes:list(shape),min=1; attr=use_inter_op_parallelism:bool,default=true; attr=preserve_cardinality:bool,default=false; attr=force_synchronous:bool,default=false; attr=metadata:string,default=\"\"> This may be expected if your graph generating binary is newer  than this binary. Unknown attributes will be ignored. NodeDef: {{node ParallelMapDatasetV2/_14}}\n",
      "2025-04-26 09:14:48.939235: E tensorflow/core/framework/node_def_util.cc:676] NodeDef mentions attribute use_unbounded_threadpool which is not in the op definition: Op<name=MapDataset; signature=input_dataset:variant, other_arguments: -> handle:variant; attr=f:func; attr=Targuments:list(type),min=0; attr=output_types:list(type),min=1; attr=output_shapes:list(shape),min=1; attr=use_inter_op_parallelism:bool,default=true; attr=preserve_cardinality:bool,default=false; attr=force_synchronous:bool,default=false; attr=metadata:string,default=\"\"> This may be expected if your graph generating binary is newer  than this binary. Unknown attributes will be ignored. NodeDef: {{node ParallelMapDatasetV2/_14}}\n",
      "2025-04-26 09:14:54.562649: E tensorflow/core/framework/node_def_util.cc:676] NodeDef mentions attribute use_unbounded_threadpool which is not in the op definition: Op<name=MapDataset; signature=input_dataset:variant, other_arguments: -> handle:variant; attr=f:func; attr=Targuments:list(type),min=0; attr=output_types:list(type),min=1; attr=output_shapes:list(shape),min=1; attr=use_inter_op_parallelism:bool,default=true; attr=preserve_cardinality:bool,default=false; attr=force_synchronous:bool,default=false; attr=metadata:string,default=\"\"> This may be expected if your graph generating binary is newer  than this binary. Unknown attributes will be ignored. NodeDef: {{node ParallelMapDatasetV2/_14}}\n",
      "2025-04-26 09:14:54.562967: E tensorflow/core/framework/node_def_util.cc:676] NodeDef mentions attribute use_unbounded_threadpool which is not in the op definition: Op<name=MapDataset; signature=input_dataset:variant, other_arguments: -> handle:variant; attr=f:func; attr=Targuments:list(type),min=0; attr=output_types:list(type),min=1; attr=output_shapes:list(shape),min=1; attr=use_inter_op_parallelism:bool,default=true; attr=preserve_cardinality:bool,default=false; attr=force_synchronous:bool,default=false; attr=metadata:string,default=\"\"> This may be expected if your graph generating binary is newer  than this binary. Unknown attributes will be ignored. NodeDef: {{node ParallelMapDatasetV2/_14}}\n",
      " 23%|██▎       | 7/30 [21:30<42:12, 110.12s/it]"
     ]
    },
    {
     "name": "stdout",
     "output_type": "stream",
     "text": [
      "The average treatment effect (ATE) is 1.753279\n",
      "Epoch 1: loss 2.3754,\tloss_y 1.6166, 1.6354, 0.0376,\tloss_eta 0.7588, 0.7964, 0.0751\n",
      "Warning: covariate dimension does not aligned with the specified input dimension; filling in the remaining dimension with noise.\n",
      "Warning: covariate dimension does not aligned with the specified input dimension; filling in the remaining dimension with noise.\n"
     ]
    },
    {
     "name": "stderr",
     "output_type": "stream",
     "text": [
      "INFO \t Training with 6 minibatches per epoch\n",
      "INFO \t Evaluating 1 minibatches\n",
      "2025-04-26 09:16:16.962272: E tensorflow/core/framework/node_def_util.cc:676] NodeDef mentions attribute use_unbounded_threadpool which is not in the op definition: Op<name=MapDataset; signature=input_dataset:variant, other_arguments: -> handle:variant; attr=f:func; attr=Targuments:list(type),min=0; attr=output_types:list(type),min=1; attr=output_shapes:list(shape),min=1; attr=use_inter_op_parallelism:bool,default=true; attr=preserve_cardinality:bool,default=false; attr=force_synchronous:bool,default=false; attr=metadata:string,default=\"\"> This may be expected if your graph generating binary is newer  than this binary. Unknown attributes will be ignored. NodeDef: {{node ParallelMapDatasetV2/_14}}\n",
      "2025-04-26 09:16:16.962644: E tensorflow/core/framework/node_def_util.cc:676] NodeDef mentions attribute use_unbounded_threadpool which is not in the op definition: Op<name=MapDataset; signature=input_dataset:variant, other_arguments: -> handle:variant; attr=f:func; attr=Targuments:list(type),min=0; attr=output_types:list(type),min=1; attr=output_shapes:list(shape),min=1; attr=use_inter_op_parallelism:bool,default=true; attr=preserve_cardinality:bool,default=false; attr=force_synchronous:bool,default=false; attr=metadata:string,default=\"\"> This may be expected if your graph generating binary is newer  than this binary. Unknown attributes will be ignored. NodeDef: {{node ParallelMapDatasetV2/_14}}\n",
      "2025-04-26 09:16:22.494430: E tensorflow/core/framework/node_def_util.cc:676] NodeDef mentions attribute use_unbounded_threadpool which is not in the op definition: Op<name=MapDataset; signature=input_dataset:variant, other_arguments: -> handle:variant; attr=f:func; attr=Targuments:list(type),min=0; attr=output_types:list(type),min=1; attr=output_shapes:list(shape),min=1; attr=use_inter_op_parallelism:bool,default=true; attr=preserve_cardinality:bool,default=false; attr=force_synchronous:bool,default=false; attr=metadata:string,default=\"\"> This may be expected if your graph generating binary is newer  than this binary. Unknown attributes will be ignored. NodeDef: {{node ParallelMapDatasetV2/_14}}\n",
      "2025-04-26 09:16:22.494714: E tensorflow/core/framework/node_def_util.cc:676] NodeDef mentions attribute use_unbounded_threadpool which is not in the op definition: Op<name=MapDataset; signature=input_dataset:variant, other_arguments: -> handle:variant; attr=f:func; attr=Targuments:list(type),min=0; attr=output_types:list(type),min=1; attr=output_shapes:list(shape),min=1; attr=use_inter_op_parallelism:bool,default=true; attr=preserve_cardinality:bool,default=false; attr=force_synchronous:bool,default=false; attr=metadata:string,default=\"\"> This may be expected if your graph generating binary is newer  than this binary. Unknown attributes will be ignored. NodeDef: {{node ParallelMapDatasetV2/_14}}\n",
      " 27%|██▋       | 8/30 [22:58<37:47, 103.06s/it]"
     ]
    },
    {
     "name": "stdout",
     "output_type": "stream",
     "text": [
      "The average treatment effect (ATE) is 1.552808\n",
      "Epoch 1: loss 2.4549,\tloss_y 1.6848, 1.6955, 0.0215,\tloss_eta 0.7701, 0.7977, 0.0551\n",
      "Warning: covariate dimension does not aligned with the specified input dimension; filling in the remaining dimension with noise.\n",
      "Warning: covariate dimension does not aligned with the specified input dimension; filling in the remaining dimension with noise.\n"
     ]
    },
    {
     "name": "stderr",
     "output_type": "stream",
     "text": [
      "INFO \t Training with 6 minibatches per epoch\n",
      "INFO \t Evaluating 1 minibatches\n",
      "2025-04-26 09:17:42.766873: E tensorflow/core/framework/node_def_util.cc:676] NodeDef mentions attribute use_unbounded_threadpool which is not in the op definition: Op<name=MapDataset; signature=input_dataset:variant, other_arguments: -> handle:variant; attr=f:func; attr=Targuments:list(type),min=0; attr=output_types:list(type),min=1; attr=output_shapes:list(shape),min=1; attr=use_inter_op_parallelism:bool,default=true; attr=preserve_cardinality:bool,default=false; attr=force_synchronous:bool,default=false; attr=metadata:string,default=\"\"> This may be expected if your graph generating binary is newer  than this binary. Unknown attributes will be ignored. NodeDef: {{node ParallelMapDatasetV2/_14}}\n",
      "2025-04-26 09:17:42.767160: E tensorflow/core/framework/node_def_util.cc:676] NodeDef mentions attribute use_unbounded_threadpool which is not in the op definition: Op<name=MapDataset; signature=input_dataset:variant, other_arguments: -> handle:variant; attr=f:func; attr=Targuments:list(type),min=0; attr=output_types:list(type),min=1; attr=output_shapes:list(shape),min=1; attr=use_inter_op_parallelism:bool,default=true; attr=preserve_cardinality:bool,default=false; attr=force_synchronous:bool,default=false; attr=metadata:string,default=\"\"> This may be expected if your graph generating binary is newer  than this binary. Unknown attributes will be ignored. NodeDef: {{node ParallelMapDatasetV2/_14}}\n",
      "2025-04-26 09:17:48.404088: E tensorflow/core/framework/node_def_util.cc:676] NodeDef mentions attribute use_unbounded_threadpool which is not in the op definition: Op<name=MapDataset; signature=input_dataset:variant, other_arguments: -> handle:variant; attr=f:func; attr=Targuments:list(type),min=0; attr=output_types:list(type),min=1; attr=output_shapes:list(shape),min=1; attr=use_inter_op_parallelism:bool,default=true; attr=preserve_cardinality:bool,default=false; attr=force_synchronous:bool,default=false; attr=metadata:string,default=\"\"> This may be expected if your graph generating binary is newer  than this binary. Unknown attributes will be ignored. NodeDef: {{node ParallelMapDatasetV2/_14}}\n",
      "2025-04-26 09:17:48.404383: E tensorflow/core/framework/node_def_util.cc:676] NodeDef mentions attribute use_unbounded_threadpool which is not in the op definition: Op<name=MapDataset; signature=input_dataset:variant, other_arguments: -> handle:variant; attr=f:func; attr=Targuments:list(type),min=0; attr=output_types:list(type),min=1; attr=output_shapes:list(shape),min=1; attr=use_inter_op_parallelism:bool,default=true; attr=preserve_cardinality:bool,default=false; attr=force_synchronous:bool,default=false; attr=metadata:string,default=\"\"> This may be expected if your graph generating binary is newer  than this binary. Unknown attributes will be ignored. NodeDef: {{node ParallelMapDatasetV2/_14}}\n",
      " 30%|███       | 9/30 [24:24<34:11, 97.70s/it] "
     ]
    },
    {
     "name": "stdout",
     "output_type": "stream",
     "text": [
      "The average treatment effect (ATE) is 1.7356358\n",
      "Epoch 1: loss 2.4217,\tloss_y 1.6465, 1.6586, 0.0240,\tloss_eta 0.7752, 0.8148, 0.0792\n",
      "Warning: covariate dimension does not aligned with the specified input dimension; filling in the remaining dimension with noise.\n",
      "Warning: covariate dimension does not aligned with the specified input dimension; filling in the remaining dimension with noise.\n"
     ]
    },
    {
     "name": "stderr",
     "output_type": "stream",
     "text": [
      "INFO \t Training with 6 minibatches per epoch\n",
      "INFO \t Evaluating 1 minibatches\n",
      "2025-04-26 09:19:07.230639: E tensorflow/core/framework/node_def_util.cc:676] NodeDef mentions attribute use_unbounded_threadpool which is not in the op definition: Op<name=MapDataset; signature=input_dataset:variant, other_arguments: -> handle:variant; attr=f:func; attr=Targuments:list(type),min=0; attr=output_types:list(type),min=1; attr=output_shapes:list(shape),min=1; attr=use_inter_op_parallelism:bool,default=true; attr=preserve_cardinality:bool,default=false; attr=force_synchronous:bool,default=false; attr=metadata:string,default=\"\"> This may be expected if your graph generating binary is newer  than this binary. Unknown attributes will be ignored. NodeDef: {{node ParallelMapDatasetV2/_14}}\n",
      "2025-04-26 09:19:07.230924: E tensorflow/core/framework/node_def_util.cc:676] NodeDef mentions attribute use_unbounded_threadpool which is not in the op definition: Op<name=MapDataset; signature=input_dataset:variant, other_arguments: -> handle:variant; attr=f:func; attr=Targuments:list(type),min=0; attr=output_types:list(type),min=1; attr=output_shapes:list(shape),min=1; attr=use_inter_op_parallelism:bool,default=true; attr=preserve_cardinality:bool,default=false; attr=force_synchronous:bool,default=false; attr=metadata:string,default=\"\"> This may be expected if your graph generating binary is newer  than this binary. Unknown attributes will be ignored. NodeDef: {{node ParallelMapDatasetV2/_14}}\n",
      "2025-04-26 09:19:12.871688: E tensorflow/core/framework/node_def_util.cc:676] NodeDef mentions attribute use_unbounded_threadpool which is not in the op definition: Op<name=MapDataset; signature=input_dataset:variant, other_arguments: -> handle:variant; attr=f:func; attr=Targuments:list(type),min=0; attr=output_types:list(type),min=1; attr=output_shapes:list(shape),min=1; attr=use_inter_op_parallelism:bool,default=true; attr=preserve_cardinality:bool,default=false; attr=force_synchronous:bool,default=false; attr=metadata:string,default=\"\"> This may be expected if your graph generating binary is newer  than this binary. Unknown attributes will be ignored. NodeDef: {{node ParallelMapDatasetV2/_14}}\n",
      "2025-04-26 09:19:12.872028: E tensorflow/core/framework/node_def_util.cc:676] NodeDef mentions attribute use_unbounded_threadpool which is not in the op definition: Op<name=MapDataset; signature=input_dataset:variant, other_arguments: -> handle:variant; attr=f:func; attr=Targuments:list(type),min=0; attr=output_types:list(type),min=1; attr=output_shapes:list(shape),min=1; attr=use_inter_op_parallelism:bool,default=true; attr=preserve_cardinality:bool,default=false; attr=force_synchronous:bool,default=false; attr=metadata:string,default=\"\"> This may be expected if your graph generating binary is newer  than this binary. Unknown attributes will be ignored. NodeDef: {{node ParallelMapDatasetV2/_14}}\n",
      " 33%|███▎      | 10/30 [25:48<31:12, 93.61s/it]"
     ]
    },
    {
     "name": "stdout",
     "output_type": "stream",
     "text": [
      "The average treatment effect (ATE) is 1.7453784\n",
      "Epoch 1: loss 2.4638,\tloss_y 1.6900, 1.7041, 0.0282,\tloss_eta 0.7738, 0.8158, 0.0840\n",
      "Warning: covariate dimension does not aligned with the specified input dimension; filling in the remaining dimension with noise.\n",
      "Warning: covariate dimension does not aligned with the specified input dimension; filling in the remaining dimension with noise.\n"
     ]
    },
    {
     "name": "stderr",
     "output_type": "stream",
     "text": [
      "INFO \t Training with 6 minibatches per epoch\n",
      "INFO \t Evaluating 1 minibatches\n",
      "2025-04-26 09:20:34.715058: E tensorflow/core/framework/node_def_util.cc:676] NodeDef mentions attribute use_unbounded_threadpool which is not in the op definition: Op<name=MapDataset; signature=input_dataset:variant, other_arguments: -> handle:variant; attr=f:func; attr=Targuments:list(type),min=0; attr=output_types:list(type),min=1; attr=output_shapes:list(shape),min=1; attr=use_inter_op_parallelism:bool,default=true; attr=preserve_cardinality:bool,default=false; attr=force_synchronous:bool,default=false; attr=metadata:string,default=\"\"> This may be expected if your graph generating binary is newer  than this binary. Unknown attributes will be ignored. NodeDef: {{node ParallelMapDatasetV2/_14}}\n",
      "2025-04-26 09:20:34.715342: E tensorflow/core/framework/node_def_util.cc:676] NodeDef mentions attribute use_unbounded_threadpool which is not in the op definition: Op<name=MapDataset; signature=input_dataset:variant, other_arguments: -> handle:variant; attr=f:func; attr=Targuments:list(type),min=0; attr=output_types:list(type),min=1; attr=output_shapes:list(shape),min=1; attr=use_inter_op_parallelism:bool,default=true; attr=preserve_cardinality:bool,default=false; attr=force_synchronous:bool,default=false; attr=metadata:string,default=\"\"> This may be expected if your graph generating binary is newer  than this binary. Unknown attributes will be ignored. NodeDef: {{node ParallelMapDatasetV2/_14}}\n",
      "2025-04-26 09:20:40.390126: E tensorflow/core/framework/node_def_util.cc:676] NodeDef mentions attribute use_unbounded_threadpool which is not in the op definition: Op<name=MapDataset; signature=input_dataset:variant, other_arguments: -> handle:variant; attr=f:func; attr=Targuments:list(type),min=0; attr=output_types:list(type),min=1; attr=output_shapes:list(shape),min=1; attr=use_inter_op_parallelism:bool,default=true; attr=preserve_cardinality:bool,default=false; attr=force_synchronous:bool,default=false; attr=metadata:string,default=\"\"> This may be expected if your graph generating binary is newer  than this binary. Unknown attributes will be ignored. NodeDef: {{node ParallelMapDatasetV2/_14}}\n",
      "2025-04-26 09:20:40.390434: E tensorflow/core/framework/node_def_util.cc:676] NodeDef mentions attribute use_unbounded_threadpool which is not in the op definition: Op<name=MapDataset; signature=input_dataset:variant, other_arguments: -> handle:variant; attr=f:func; attr=Targuments:list(type),min=0; attr=output_types:list(type),min=1; attr=output_shapes:list(shape),min=1; attr=use_inter_op_parallelism:bool,default=true; attr=preserve_cardinality:bool,default=false; attr=force_synchronous:bool,default=false; attr=metadata:string,default=\"\"> This may be expected if your graph generating binary is newer  than this binary. Unknown attributes will be ignored. NodeDef: {{node ParallelMapDatasetV2/_14}}\n",
      " 37%|███▋      | 11/30 [27:16<29:03, 91.75s/it]"
     ]
    },
    {
     "name": "stdout",
     "output_type": "stream",
     "text": [
      "The average treatment effect (ATE) is 1.7287356\n",
      "Epoch 1: loss 2.4395,\tloss_y 1.7070, 1.7225, 0.0310,\tloss_eta 0.7325, 0.7790, 0.0928\n",
      "Warning: covariate dimension does not aligned with the specified input dimension; filling in the remaining dimension with noise.\n",
      "Warning: covariate dimension does not aligned with the specified input dimension; filling in the remaining dimension with noise.\n"
     ]
    },
    {
     "name": "stderr",
     "output_type": "stream",
     "text": [
      "INFO \t Training with 6 minibatches per epoch\n",
      "INFO \t Evaluating 1 minibatches\n",
      "2025-04-26 09:22:00.334610: E tensorflow/core/framework/node_def_util.cc:676] NodeDef mentions attribute use_unbounded_threadpool which is not in the op definition: Op<name=MapDataset; signature=input_dataset:variant, other_arguments: -> handle:variant; attr=f:func; attr=Targuments:list(type),min=0; attr=output_types:list(type),min=1; attr=output_shapes:list(shape),min=1; attr=use_inter_op_parallelism:bool,default=true; attr=preserve_cardinality:bool,default=false; attr=force_synchronous:bool,default=false; attr=metadata:string,default=\"\"> This may be expected if your graph generating binary is newer  than this binary. Unknown attributes will be ignored. NodeDef: {{node ParallelMapDatasetV2/_14}}\n",
      "2025-04-26 09:22:00.334887: E tensorflow/core/framework/node_def_util.cc:676] NodeDef mentions attribute use_unbounded_threadpool which is not in the op definition: Op<name=MapDataset; signature=input_dataset:variant, other_arguments: -> handle:variant; attr=f:func; attr=Targuments:list(type),min=0; attr=output_types:list(type),min=1; attr=output_shapes:list(shape),min=1; attr=use_inter_op_parallelism:bool,default=true; attr=preserve_cardinality:bool,default=false; attr=force_synchronous:bool,default=false; attr=metadata:string,default=\"\"> This may be expected if your graph generating binary is newer  than this binary. Unknown attributes will be ignored. NodeDef: {{node ParallelMapDatasetV2/_14}}\n",
      "2025-04-26 09:22:06.003064: E tensorflow/core/framework/node_def_util.cc:676] NodeDef mentions attribute use_unbounded_threadpool which is not in the op definition: Op<name=MapDataset; signature=input_dataset:variant, other_arguments: -> handle:variant; attr=f:func; attr=Targuments:list(type),min=0; attr=output_types:list(type),min=1; attr=output_shapes:list(shape),min=1; attr=use_inter_op_parallelism:bool,default=true; attr=preserve_cardinality:bool,default=false; attr=force_synchronous:bool,default=false; attr=metadata:string,default=\"\"> This may be expected if your graph generating binary is newer  than this binary. Unknown attributes will be ignored. NodeDef: {{node ParallelMapDatasetV2/_14}}\n",
      "2025-04-26 09:22:06.003354: E tensorflow/core/framework/node_def_util.cc:676] NodeDef mentions attribute use_unbounded_threadpool which is not in the op definition: Op<name=MapDataset; signature=input_dataset:variant, other_arguments: -> handle:variant; attr=f:func; attr=Targuments:list(type),min=0; attr=output_types:list(type),min=1; attr=output_shapes:list(shape),min=1; attr=use_inter_op_parallelism:bool,default=true; attr=preserve_cardinality:bool,default=false; attr=force_synchronous:bool,default=false; attr=metadata:string,default=\"\"> This may be expected if your graph generating binary is newer  than this binary. Unknown attributes will be ignored. NodeDef: {{node ParallelMapDatasetV2/_14}}\n",
      " 40%|████      | 12/30 [28:41<26:57, 89.88s/it]"
     ]
    },
    {
     "name": "stdout",
     "output_type": "stream",
     "text": [
      "The average treatment effect (ATE) is 1.5516675\n",
      "Epoch 1: loss 2.4793,\tloss_y 1.6821, 1.7197, 0.0751,\tloss_eta 0.7972, 0.8356, 0.0767\n",
      "Warning: covariate dimension does not aligned with the specified input dimension; filling in the remaining dimension with noise.\n",
      "Warning: covariate dimension does not aligned with the specified input dimension; filling in the remaining dimension with noise.\n"
     ]
    },
    {
     "name": "stderr",
     "output_type": "stream",
     "text": [
      "INFO \t Training with 6 minibatches per epoch\n",
      "INFO \t Evaluating 1 minibatches\n",
      "2025-04-26 09:23:26.063045: E tensorflow/core/framework/node_def_util.cc:676] NodeDef mentions attribute use_unbounded_threadpool which is not in the op definition: Op<name=MapDataset; signature=input_dataset:variant, other_arguments: -> handle:variant; attr=f:func; attr=Targuments:list(type),min=0; attr=output_types:list(type),min=1; attr=output_shapes:list(shape),min=1; attr=use_inter_op_parallelism:bool,default=true; attr=preserve_cardinality:bool,default=false; attr=force_synchronous:bool,default=false; attr=metadata:string,default=\"\"> This may be expected if your graph generating binary is newer  than this binary. Unknown attributes will be ignored. NodeDef: {{node ParallelMapDatasetV2/_14}}\n",
      "2025-04-26 09:23:26.063328: E tensorflow/core/framework/node_def_util.cc:676] NodeDef mentions attribute use_unbounded_threadpool which is not in the op definition: Op<name=MapDataset; signature=input_dataset:variant, other_arguments: -> handle:variant; attr=f:func; attr=Targuments:list(type),min=0; attr=output_types:list(type),min=1; attr=output_shapes:list(shape),min=1; attr=use_inter_op_parallelism:bool,default=true; attr=preserve_cardinality:bool,default=false; attr=force_synchronous:bool,default=false; attr=metadata:string,default=\"\"> This may be expected if your graph generating binary is newer  than this binary. Unknown attributes will be ignored. NodeDef: {{node ParallelMapDatasetV2/_14}}\n",
      "2025-04-26 09:23:31.727643: E tensorflow/core/framework/node_def_util.cc:676] NodeDef mentions attribute use_unbounded_threadpool which is not in the op definition: Op<name=MapDataset; signature=input_dataset:variant, other_arguments: -> handle:variant; attr=f:func; attr=Targuments:list(type),min=0; attr=output_types:list(type),min=1; attr=output_shapes:list(shape),min=1; attr=use_inter_op_parallelism:bool,default=true; attr=preserve_cardinality:bool,default=false; attr=force_synchronous:bool,default=false; attr=metadata:string,default=\"\"> This may be expected if your graph generating binary is newer  than this binary. Unknown attributes will be ignored. NodeDef: {{node ParallelMapDatasetV2/_14}}\n",
      "2025-04-26 09:23:31.727931: E tensorflow/core/framework/node_def_util.cc:676] NodeDef mentions attribute use_unbounded_threadpool which is not in the op definition: Op<name=MapDataset; signature=input_dataset:variant, other_arguments: -> handle:variant; attr=f:func; attr=Targuments:list(type),min=0; attr=output_types:list(type),min=1; attr=output_shapes:list(shape),min=1; attr=use_inter_op_parallelism:bool,default=true; attr=preserve_cardinality:bool,default=false; attr=force_synchronous:bool,default=false; attr=metadata:string,default=\"\"> This may be expected if your graph generating binary is newer  than this binary. Unknown attributes will be ignored. NodeDef: {{node ParallelMapDatasetV2/_14}}\n",
      " 43%|████▎     | 13/30 [30:07<25:06, 88.62s/it]"
     ]
    },
    {
     "name": "stdout",
     "output_type": "stream",
     "text": [
      "The average treatment effect (ATE) is 1.5991087\n",
      "Epoch 1: loss 2.5233,\tloss_y 1.7318, 1.7511, 0.0387,\tloss_eta 0.7915, 0.8231, 0.0633\n",
      "Warning: covariate dimension does not aligned with the specified input dimension; filling in the remaining dimension with noise.\n",
      "Warning: covariate dimension does not aligned with the specified input dimension; filling in the remaining dimension with noise.\n"
     ]
    },
    {
     "name": "stderr",
     "output_type": "stream",
     "text": [
      "INFO \t Training with 6 minibatches per epoch\n",
      "INFO \t Evaluating 1 minibatches\n",
      "2025-04-26 09:24:52.998558: E tensorflow/core/framework/node_def_util.cc:676] NodeDef mentions attribute use_unbounded_threadpool which is not in the op definition: Op<name=MapDataset; signature=input_dataset:variant, other_arguments: -> handle:variant; attr=f:func; attr=Targuments:list(type),min=0; attr=output_types:list(type),min=1; attr=output_shapes:list(shape),min=1; attr=use_inter_op_parallelism:bool,default=true; attr=preserve_cardinality:bool,default=false; attr=force_synchronous:bool,default=false; attr=metadata:string,default=\"\"> This may be expected if your graph generating binary is newer  than this binary. Unknown attributes will be ignored. NodeDef: {{node ParallelMapDatasetV2/_14}}\n",
      "2025-04-26 09:24:52.998866: E tensorflow/core/framework/node_def_util.cc:676] NodeDef mentions attribute use_unbounded_threadpool which is not in the op definition: Op<name=MapDataset; signature=input_dataset:variant, other_arguments: -> handle:variant; attr=f:func; attr=Targuments:list(type),min=0; attr=output_types:list(type),min=1; attr=output_shapes:list(shape),min=1; attr=use_inter_op_parallelism:bool,default=true; attr=preserve_cardinality:bool,default=false; attr=force_synchronous:bool,default=false; attr=metadata:string,default=\"\"> This may be expected if your graph generating binary is newer  than this binary. Unknown attributes will be ignored. NodeDef: {{node ParallelMapDatasetV2/_14}}\n",
      "2025-04-26 09:24:58.592597: E tensorflow/core/framework/node_def_util.cc:676] NodeDef mentions attribute use_unbounded_threadpool which is not in the op definition: Op<name=MapDataset; signature=input_dataset:variant, other_arguments: -> handle:variant; attr=f:func; attr=Targuments:list(type),min=0; attr=output_types:list(type),min=1; attr=output_shapes:list(shape),min=1; attr=use_inter_op_parallelism:bool,default=true; attr=preserve_cardinality:bool,default=false; attr=force_synchronous:bool,default=false; attr=metadata:string,default=\"\"> This may be expected if your graph generating binary is newer  than this binary. Unknown attributes will be ignored. NodeDef: {{node ParallelMapDatasetV2/_14}}\n",
      "2025-04-26 09:24:58.592906: E tensorflow/core/framework/node_def_util.cc:676] NodeDef mentions attribute use_unbounded_threadpool which is not in the op definition: Op<name=MapDataset; signature=input_dataset:variant, other_arguments: -> handle:variant; attr=f:func; attr=Targuments:list(type),min=0; attr=output_types:list(type),min=1; attr=output_shapes:list(shape),min=1; attr=use_inter_op_parallelism:bool,default=true; attr=preserve_cardinality:bool,default=false; attr=force_synchronous:bool,default=false; attr=metadata:string,default=\"\"> This may be expected if your graph generating binary is newer  than this binary. Unknown attributes will be ignored. NodeDef: {{node ParallelMapDatasetV2/_14}}\n",
      " 47%|████▋     | 14/30 [31:34<23:29, 88.09s/it]"
     ]
    },
    {
     "name": "stdout",
     "output_type": "stream",
     "text": [
      "The average treatment effect (ATE) is 1.7256526\n",
      "Epoch 1: loss 2.5416,\tloss_y 1.7524, 1.7764, 0.0481,\tloss_eta 0.7893, 0.8256, 0.0727\n",
      "Warning: covariate dimension does not aligned with the specified input dimension; filling in the remaining dimension with noise.\n",
      "Warning: covariate dimension does not aligned with the specified input dimension; filling in the remaining dimension with noise.\n"
     ]
    },
    {
     "name": "stderr",
     "output_type": "stream",
     "text": [
      "INFO \t Training with 6 minibatches per epoch\n",
      "INFO \t Evaluating 1 minibatches\n",
      "2025-04-26 09:26:18.403208: E tensorflow/core/framework/node_def_util.cc:676] NodeDef mentions attribute use_unbounded_threadpool which is not in the op definition: Op<name=MapDataset; signature=input_dataset:variant, other_arguments: -> handle:variant; attr=f:func; attr=Targuments:list(type),min=0; attr=output_types:list(type),min=1; attr=output_shapes:list(shape),min=1; attr=use_inter_op_parallelism:bool,default=true; attr=preserve_cardinality:bool,default=false; attr=force_synchronous:bool,default=false; attr=metadata:string,default=\"\"> This may be expected if your graph generating binary is newer  than this binary. Unknown attributes will be ignored. NodeDef: {{node ParallelMapDatasetV2/_14}}\n",
      "2025-04-26 09:26:18.403487: E tensorflow/core/framework/node_def_util.cc:676] NodeDef mentions attribute use_unbounded_threadpool which is not in the op definition: Op<name=MapDataset; signature=input_dataset:variant, other_arguments: -> handle:variant; attr=f:func; attr=Targuments:list(type),min=0; attr=output_types:list(type),min=1; attr=output_shapes:list(shape),min=1; attr=use_inter_op_parallelism:bool,default=true; attr=preserve_cardinality:bool,default=false; attr=force_synchronous:bool,default=false; attr=metadata:string,default=\"\"> This may be expected if your graph generating binary is newer  than this binary. Unknown attributes will be ignored. NodeDef: {{node ParallelMapDatasetV2/_14}}\n",
      "2025-04-26 09:26:24.002305: E tensorflow/core/framework/node_def_util.cc:676] NodeDef mentions attribute use_unbounded_threadpool which is not in the op definition: Op<name=MapDataset; signature=input_dataset:variant, other_arguments: -> handle:variant; attr=f:func; attr=Targuments:list(type),min=0; attr=output_types:list(type),min=1; attr=output_shapes:list(shape),min=1; attr=use_inter_op_parallelism:bool,default=true; attr=preserve_cardinality:bool,default=false; attr=force_synchronous:bool,default=false; attr=metadata:string,default=\"\"> This may be expected if your graph generating binary is newer  than this binary. Unknown attributes will be ignored. NodeDef: {{node ParallelMapDatasetV2/_14}}\n",
      "2025-04-26 09:26:24.002590: E tensorflow/core/framework/node_def_util.cc:676] NodeDef mentions attribute use_unbounded_threadpool which is not in the op definition: Op<name=MapDataset; signature=input_dataset:variant, other_arguments: -> handle:variant; attr=f:func; attr=Targuments:list(type),min=0; attr=output_types:list(type),min=1; attr=output_shapes:list(shape),min=1; attr=use_inter_op_parallelism:bool,default=true; attr=preserve_cardinality:bool,default=false; attr=force_synchronous:bool,default=false; attr=metadata:string,default=\"\"> This may be expected if your graph generating binary is newer  than this binary. Unknown attributes will be ignored. NodeDef: {{node ParallelMapDatasetV2/_14}}\n",
      " 50%|█████     | 15/30 [32:59<21:49, 87.28s/it]"
     ]
    },
    {
     "name": "stdout",
     "output_type": "stream",
     "text": [
      "The average treatment effect (ATE) is 1.6949079\n",
      "Epoch 1: loss 2.5173,\tloss_y 1.7484, 1.7612, 0.0255,\tloss_eta 0.7688, 0.8046, 0.0714\n",
      "Warning: covariate dimension does not aligned with the specified input dimension; filling in the remaining dimension with noise.\n",
      "Warning: covariate dimension does not aligned with the specified input dimension; filling in the remaining dimension with noise.\n"
     ]
    },
    {
     "name": "stderr",
     "output_type": "stream",
     "text": [
      "INFO \t Training with 6 minibatches per epoch\n",
      "INFO \t Evaluating 1 minibatches\n",
      "2025-04-26 09:27:45.464514: E tensorflow/core/framework/node_def_util.cc:676] NodeDef mentions attribute use_unbounded_threadpool which is not in the op definition: Op<name=MapDataset; signature=input_dataset:variant, other_arguments: -> handle:variant; attr=f:func; attr=Targuments:list(type),min=0; attr=output_types:list(type),min=1; attr=output_shapes:list(shape),min=1; attr=use_inter_op_parallelism:bool,default=true; attr=preserve_cardinality:bool,default=false; attr=force_synchronous:bool,default=false; attr=metadata:string,default=\"\"> This may be expected if your graph generating binary is newer  than this binary. Unknown attributes will be ignored. NodeDef: {{node ParallelMapDatasetV2/_14}}\n",
      "2025-04-26 09:27:45.464836: E tensorflow/core/framework/node_def_util.cc:676] NodeDef mentions attribute use_unbounded_threadpool which is not in the op definition: Op<name=MapDataset; signature=input_dataset:variant, other_arguments: -> handle:variant; attr=f:func; attr=Targuments:list(type),min=0; attr=output_types:list(type),min=1; attr=output_shapes:list(shape),min=1; attr=use_inter_op_parallelism:bool,default=true; attr=preserve_cardinality:bool,default=false; attr=force_synchronous:bool,default=false; attr=metadata:string,default=\"\"> This may be expected if your graph generating binary is newer  than this binary. Unknown attributes will be ignored. NodeDef: {{node ParallelMapDatasetV2/_14}}\n",
      "2025-04-26 09:27:51.072286: E tensorflow/core/framework/node_def_util.cc:676] NodeDef mentions attribute use_unbounded_threadpool which is not in the op definition: Op<name=MapDataset; signature=input_dataset:variant, other_arguments: -> handle:variant; attr=f:func; attr=Targuments:list(type),min=0; attr=output_types:list(type),min=1; attr=output_shapes:list(shape),min=1; attr=use_inter_op_parallelism:bool,default=true; attr=preserve_cardinality:bool,default=false; attr=force_synchronous:bool,default=false; attr=metadata:string,default=\"\"> This may be expected if your graph generating binary is newer  than this binary. Unknown attributes will be ignored. NodeDef: {{node ParallelMapDatasetV2/_14}}\n",
      "2025-04-26 09:27:51.072557: E tensorflow/core/framework/node_def_util.cc:676] NodeDef mentions attribute use_unbounded_threadpool which is not in the op definition: Op<name=MapDataset; signature=input_dataset:variant, other_arguments: -> handle:variant; attr=f:func; attr=Targuments:list(type),min=0; attr=output_types:list(type),min=1; attr=output_shapes:list(shape),min=1; attr=use_inter_op_parallelism:bool,default=true; attr=preserve_cardinality:bool,default=false; attr=force_synchronous:bool,default=false; attr=metadata:string,default=\"\"> This may be expected if your graph generating binary is newer  than this binary. Unknown attributes will be ignored. NodeDef: {{node ParallelMapDatasetV2/_14}}\n",
      " 53%|█████▎    | 16/30 [34:26<20:21, 87.22s/it]"
     ]
    },
    {
     "name": "stdout",
     "output_type": "stream",
     "text": [
      "The average treatment effect (ATE) is 1.5944455\n",
      "Epoch 1: loss 2.4891,\tloss_y 1.7344, 1.7451, 0.0213,\tloss_eta 0.7547, 0.7876, 0.0658\n",
      "Warning: covariate dimension does not aligned with the specified input dimension; filling in the remaining dimension with noise.\n",
      "Warning: covariate dimension does not aligned with the specified input dimension; filling in the remaining dimension with noise.\n"
     ]
    },
    {
     "name": "stderr",
     "output_type": "stream",
     "text": [
      "INFO \t Training with 6 minibatches per epoch\n",
      "INFO \t Evaluating 1 minibatches\n",
      "2025-04-26 09:29:10.508683: E tensorflow/core/framework/node_def_util.cc:676] NodeDef mentions attribute use_unbounded_threadpool which is not in the op definition: Op<name=MapDataset; signature=input_dataset:variant, other_arguments: -> handle:variant; attr=f:func; attr=Targuments:list(type),min=0; attr=output_types:list(type),min=1; attr=output_shapes:list(shape),min=1; attr=use_inter_op_parallelism:bool,default=true; attr=preserve_cardinality:bool,default=false; attr=force_synchronous:bool,default=false; attr=metadata:string,default=\"\"> This may be expected if your graph generating binary is newer  than this binary. Unknown attributes will be ignored. NodeDef: {{node ParallelMapDatasetV2/_14}}\n",
      "2025-04-26 09:29:10.509026: E tensorflow/core/framework/node_def_util.cc:676] NodeDef mentions attribute use_unbounded_threadpool which is not in the op definition: Op<name=MapDataset; signature=input_dataset:variant, other_arguments: -> handle:variant; attr=f:func; attr=Targuments:list(type),min=0; attr=output_types:list(type),min=1; attr=output_shapes:list(shape),min=1; attr=use_inter_op_parallelism:bool,default=true; attr=preserve_cardinality:bool,default=false; attr=force_synchronous:bool,default=false; attr=metadata:string,default=\"\"> This may be expected if your graph generating binary is newer  than this binary. Unknown attributes will be ignored. NodeDef: {{node ParallelMapDatasetV2/_14}}\n",
      "2025-04-26 09:29:16.069829: E tensorflow/core/framework/node_def_util.cc:676] NodeDef mentions attribute use_unbounded_threadpool which is not in the op definition: Op<name=MapDataset; signature=input_dataset:variant, other_arguments: -> handle:variant; attr=f:func; attr=Targuments:list(type),min=0; attr=output_types:list(type),min=1; attr=output_shapes:list(shape),min=1; attr=use_inter_op_parallelism:bool,default=true; attr=preserve_cardinality:bool,default=false; attr=force_synchronous:bool,default=false; attr=metadata:string,default=\"\"> This may be expected if your graph generating binary is newer  than this binary. Unknown attributes will be ignored. NodeDef: {{node ParallelMapDatasetV2/_14}}\n",
      "2025-04-26 09:29:16.070098: E tensorflow/core/framework/node_def_util.cc:676] NodeDef mentions attribute use_unbounded_threadpool which is not in the op definition: Op<name=MapDataset; signature=input_dataset:variant, other_arguments: -> handle:variant; attr=f:func; attr=Targuments:list(type),min=0; attr=output_types:list(type),min=1; attr=output_shapes:list(shape),min=1; attr=use_inter_op_parallelism:bool,default=true; attr=preserve_cardinality:bool,default=false; attr=force_synchronous:bool,default=false; attr=metadata:string,default=\"\"> This may be expected if your graph generating binary is newer  than this binary. Unknown attributes will be ignored. NodeDef: {{node ParallelMapDatasetV2/_14}}\n",
      " 57%|█████▋    | 17/30 [35:51<18:45, 86.55s/it]"
     ]
    },
    {
     "name": "stdout",
     "output_type": "stream",
     "text": [
      "The average treatment effect (ATE) is 1.7099112\n",
      "Epoch 1: loss 2.4385,\tloss_y 1.6852, 1.7157, 0.0609,\tloss_eta 0.7533, 0.7941, 0.0815\n",
      "Warning: covariate dimension does not aligned with the specified input dimension; filling in the remaining dimension with noise.\n",
      "Warning: covariate dimension does not aligned with the specified input dimension; filling in the remaining dimension with noise.\n"
     ]
    },
    {
     "name": "stderr",
     "output_type": "stream",
     "text": [
      "INFO \t Training with 6 minibatches per epoch\n",
      "INFO \t Evaluating 1 minibatches\n",
      "2025-04-26 09:30:37.460200: E tensorflow/core/framework/node_def_util.cc:676] NodeDef mentions attribute use_unbounded_threadpool which is not in the op definition: Op<name=MapDataset; signature=input_dataset:variant, other_arguments: -> handle:variant; attr=f:func; attr=Targuments:list(type),min=0; attr=output_types:list(type),min=1; attr=output_shapes:list(shape),min=1; attr=use_inter_op_parallelism:bool,default=true; attr=preserve_cardinality:bool,default=false; attr=force_synchronous:bool,default=false; attr=metadata:string,default=\"\"> This may be expected if your graph generating binary is newer  than this binary. Unknown attributes will be ignored. NodeDef: {{node ParallelMapDatasetV2/_14}}\n",
      "2025-04-26 09:30:37.460497: E tensorflow/core/framework/node_def_util.cc:676] NodeDef mentions attribute use_unbounded_threadpool which is not in the op definition: Op<name=MapDataset; signature=input_dataset:variant, other_arguments: -> handle:variant; attr=f:func; attr=Targuments:list(type),min=0; attr=output_types:list(type),min=1; attr=output_shapes:list(shape),min=1; attr=use_inter_op_parallelism:bool,default=true; attr=preserve_cardinality:bool,default=false; attr=force_synchronous:bool,default=false; attr=metadata:string,default=\"\"> This may be expected if your graph generating binary is newer  than this binary. Unknown attributes will be ignored. NodeDef: {{node ParallelMapDatasetV2/_14}}\n",
      "2025-04-26 09:30:43.092707: E tensorflow/core/framework/node_def_util.cc:676] NodeDef mentions attribute use_unbounded_threadpool which is not in the op definition: Op<name=MapDataset; signature=input_dataset:variant, other_arguments: -> handle:variant; attr=f:func; attr=Targuments:list(type),min=0; attr=output_types:list(type),min=1; attr=output_shapes:list(shape),min=1; attr=use_inter_op_parallelism:bool,default=true; attr=preserve_cardinality:bool,default=false; attr=force_synchronous:bool,default=false; attr=metadata:string,default=\"\"> This may be expected if your graph generating binary is newer  than this binary. Unknown attributes will be ignored. NodeDef: {{node ParallelMapDatasetV2/_14}}\n",
      "2025-04-26 09:30:43.093000: E tensorflow/core/framework/node_def_util.cc:676] NodeDef mentions attribute use_unbounded_threadpool which is not in the op definition: Op<name=MapDataset; signature=input_dataset:variant, other_arguments: -> handle:variant; attr=f:func; attr=Targuments:list(type),min=0; attr=output_types:list(type),min=1; attr=output_shapes:list(shape),min=1; attr=use_inter_op_parallelism:bool,default=true; attr=preserve_cardinality:bool,default=false; attr=force_synchronous:bool,default=false; attr=metadata:string,default=\"\"> This may be expected if your graph generating binary is newer  than this binary. Unknown attributes will be ignored. NodeDef: {{node ParallelMapDatasetV2/_14}}\n",
      " 60%|██████    | 18/30 [37:18<17:20, 86.69s/it]"
     ]
    },
    {
     "name": "stdout",
     "output_type": "stream",
     "text": [
      "The average treatment effect (ATE) is 1.6849651\n",
      "Epoch 1: loss 2.4734,\tloss_y 1.7170, 1.7430, 0.0521,\tloss_eta 0.7564, 0.7972, 0.0816\n",
      "Warning: covariate dimension does not aligned with the specified input dimension; filling in the remaining dimension with noise.\n",
      "Warning: covariate dimension does not aligned with the specified input dimension; filling in the remaining dimension with noise.\n"
     ]
    },
    {
     "name": "stderr",
     "output_type": "stream",
     "text": [
      "INFO \t Training with 6 minibatches per epoch\n",
      "INFO \t Evaluating 1 minibatches\n",
      "2025-04-26 09:32:02.306133: E tensorflow/core/framework/node_def_util.cc:676] NodeDef mentions attribute use_unbounded_threadpool which is not in the op definition: Op<name=MapDataset; signature=input_dataset:variant, other_arguments: -> handle:variant; attr=f:func; attr=Targuments:list(type),min=0; attr=output_types:list(type),min=1; attr=output_shapes:list(shape),min=1; attr=use_inter_op_parallelism:bool,default=true; attr=preserve_cardinality:bool,default=false; attr=force_synchronous:bool,default=false; attr=metadata:string,default=\"\"> This may be expected if your graph generating binary is newer  than this binary. Unknown attributes will be ignored. NodeDef: {{node ParallelMapDatasetV2/_14}}\n",
      "2025-04-26 09:32:02.306414: E tensorflow/core/framework/node_def_util.cc:676] NodeDef mentions attribute use_unbounded_threadpool which is not in the op definition: Op<name=MapDataset; signature=input_dataset:variant, other_arguments: -> handle:variant; attr=f:func; attr=Targuments:list(type),min=0; attr=output_types:list(type),min=1; attr=output_shapes:list(shape),min=1; attr=use_inter_op_parallelism:bool,default=true; attr=preserve_cardinality:bool,default=false; attr=force_synchronous:bool,default=false; attr=metadata:string,default=\"\"> This may be expected if your graph generating binary is newer  than this binary. Unknown attributes will be ignored. NodeDef: {{node ParallelMapDatasetV2/_14}}\n",
      "2025-04-26 09:32:07.952083: E tensorflow/core/framework/node_def_util.cc:676] NodeDef mentions attribute use_unbounded_threadpool which is not in the op definition: Op<name=MapDataset; signature=input_dataset:variant, other_arguments: -> handle:variant; attr=f:func; attr=Targuments:list(type),min=0; attr=output_types:list(type),min=1; attr=output_shapes:list(shape),min=1; attr=use_inter_op_parallelism:bool,default=true; attr=preserve_cardinality:bool,default=false; attr=force_synchronous:bool,default=false; attr=metadata:string,default=\"\"> This may be expected if your graph generating binary is newer  than this binary. Unknown attributes will be ignored. NodeDef: {{node ParallelMapDatasetV2/_14}}\n",
      "2025-04-26 09:32:07.952378: E tensorflow/core/framework/node_def_util.cc:676] NodeDef mentions attribute use_unbounded_threadpool which is not in the op definition: Op<name=MapDataset; signature=input_dataset:variant, other_arguments: -> handle:variant; attr=f:func; attr=Targuments:list(type),min=0; attr=output_types:list(type),min=1; attr=output_shapes:list(shape),min=1; attr=use_inter_op_parallelism:bool,default=true; attr=preserve_cardinality:bool,default=false; attr=force_synchronous:bool,default=false; attr=metadata:string,default=\"\"> This may be expected if your graph generating binary is newer  than this binary. Unknown attributes will be ignored. NodeDef: {{node ParallelMapDatasetV2/_14}}\n",
      " 63%|██████▎   | 19/30 [38:43<15:47, 86.14s/it]"
     ]
    },
    {
     "name": "stdout",
     "output_type": "stream",
     "text": [
      "The average treatment effect (ATE) is 1.6760086\n",
      "Epoch 1: loss 2.3355,\tloss_y 1.5984, 1.6254, 0.0540,\tloss_eta 0.7371, 0.7714, 0.0686\n",
      "Warning: covariate dimension does not aligned with the specified input dimension; filling in the remaining dimension with noise.\n",
      "Warning: covariate dimension does not aligned with the specified input dimension; filling in the remaining dimension with noise.\n"
     ]
    },
    {
     "name": "stderr",
     "output_type": "stream",
     "text": [
      "INFO \t Training with 6 minibatches per epoch\n",
      "INFO \t Evaluating 1 minibatches\n",
      "2025-04-26 09:33:28.854929: E tensorflow/core/framework/node_def_util.cc:676] NodeDef mentions attribute use_unbounded_threadpool which is not in the op definition: Op<name=MapDataset; signature=input_dataset:variant, other_arguments: -> handle:variant; attr=f:func; attr=Targuments:list(type),min=0; attr=output_types:list(type),min=1; attr=output_shapes:list(shape),min=1; attr=use_inter_op_parallelism:bool,default=true; attr=preserve_cardinality:bool,default=false; attr=force_synchronous:bool,default=false; attr=metadata:string,default=\"\"> This may be expected if your graph generating binary is newer  than this binary. Unknown attributes will be ignored. NodeDef: {{node ParallelMapDatasetV2/_14}}\n",
      "2025-04-26 09:33:28.855235: E tensorflow/core/framework/node_def_util.cc:676] NodeDef mentions attribute use_unbounded_threadpool which is not in the op definition: Op<name=MapDataset; signature=input_dataset:variant, other_arguments: -> handle:variant; attr=f:func; attr=Targuments:list(type),min=0; attr=output_types:list(type),min=1; attr=output_shapes:list(shape),min=1; attr=use_inter_op_parallelism:bool,default=true; attr=preserve_cardinality:bool,default=false; attr=force_synchronous:bool,default=false; attr=metadata:string,default=\"\"> This may be expected if your graph generating binary is newer  than this binary. Unknown attributes will be ignored. NodeDef: {{node ParallelMapDatasetV2/_14}}\n",
      "2025-04-26 09:33:34.470331: E tensorflow/core/framework/node_def_util.cc:676] NodeDef mentions attribute use_unbounded_threadpool which is not in the op definition: Op<name=MapDataset; signature=input_dataset:variant, other_arguments: -> handle:variant; attr=f:func; attr=Targuments:list(type),min=0; attr=output_types:list(type),min=1; attr=output_shapes:list(shape),min=1; attr=use_inter_op_parallelism:bool,default=true; attr=preserve_cardinality:bool,default=false; attr=force_synchronous:bool,default=false; attr=metadata:string,default=\"\"> This may be expected if your graph generating binary is newer  than this binary. Unknown attributes will be ignored. NodeDef: {{node ParallelMapDatasetV2/_14}}\n",
      "2025-04-26 09:33:34.470600: E tensorflow/core/framework/node_def_util.cc:676] NodeDef mentions attribute use_unbounded_threadpool which is not in the op definition: Op<name=MapDataset; signature=input_dataset:variant, other_arguments: -> handle:variant; attr=f:func; attr=Targuments:list(type),min=0; attr=output_types:list(type),min=1; attr=output_shapes:list(shape),min=1; attr=use_inter_op_parallelism:bool,default=true; attr=preserve_cardinality:bool,default=false; attr=force_synchronous:bool,default=false; attr=metadata:string,default=\"\"> This may be expected if your graph generating binary is newer  than this binary. Unknown attributes will be ignored. NodeDef: {{node ParallelMapDatasetV2/_14}}\n",
      " 67%|██████▋   | 20/30 [40:10<14:22, 86.25s/it]"
     ]
    },
    {
     "name": "stdout",
     "output_type": "stream",
     "text": [
      "The average treatment effect (ATE) is 1.7638482\n",
      "Epoch 1: loss 2.3822,\tloss_y 1.6544, 1.6797, 0.0505,\tloss_eta 0.7278, 0.7625, 0.0695\n",
      "Warning: covariate dimension does not aligned with the specified input dimension; filling in the remaining dimension with noise.\n",
      "Warning: covariate dimension does not aligned with the specified input dimension; filling in the remaining dimension with noise.\n"
     ]
    },
    {
     "name": "stderr",
     "output_type": "stream",
     "text": [
      "INFO \t Training with 6 minibatches per epoch\n",
      "INFO \t Evaluating 1 minibatches\n",
      "2025-04-26 09:34:54.087920: E tensorflow/core/framework/node_def_util.cc:676] NodeDef mentions attribute use_unbounded_threadpool which is not in the op definition: Op<name=MapDataset; signature=input_dataset:variant, other_arguments: -> handle:variant; attr=f:func; attr=Targuments:list(type),min=0; attr=output_types:list(type),min=1; attr=output_shapes:list(shape),min=1; attr=use_inter_op_parallelism:bool,default=true; attr=preserve_cardinality:bool,default=false; attr=force_synchronous:bool,default=false; attr=metadata:string,default=\"\"> This may be expected if your graph generating binary is newer  than this binary. Unknown attributes will be ignored. NodeDef: {{node ParallelMapDatasetV2/_14}}\n",
      "2025-04-26 09:34:54.088209: E tensorflow/core/framework/node_def_util.cc:676] NodeDef mentions attribute use_unbounded_threadpool which is not in the op definition: Op<name=MapDataset; signature=input_dataset:variant, other_arguments: -> handle:variant; attr=f:func; attr=Targuments:list(type),min=0; attr=output_types:list(type),min=1; attr=output_shapes:list(shape),min=1; attr=use_inter_op_parallelism:bool,default=true; attr=preserve_cardinality:bool,default=false; attr=force_synchronous:bool,default=false; attr=metadata:string,default=\"\"> This may be expected if your graph generating binary is newer  than this binary. Unknown attributes will be ignored. NodeDef: {{node ParallelMapDatasetV2/_14}}\n",
      "2025-04-26 09:34:59.607713: E tensorflow/core/framework/node_def_util.cc:676] NodeDef mentions attribute use_unbounded_threadpool which is not in the op definition: Op<name=MapDataset; signature=input_dataset:variant, other_arguments: -> handle:variant; attr=f:func; attr=Targuments:list(type),min=0; attr=output_types:list(type),min=1; attr=output_shapes:list(shape),min=1; attr=use_inter_op_parallelism:bool,default=true; attr=preserve_cardinality:bool,default=false; attr=force_synchronous:bool,default=false; attr=metadata:string,default=\"\"> This may be expected if your graph generating binary is newer  than this binary. Unknown attributes will be ignored. NodeDef: {{node ParallelMapDatasetV2/_14}}\n",
      "2025-04-26 09:34:59.608011: E tensorflow/core/framework/node_def_util.cc:676] NodeDef mentions attribute use_unbounded_threadpool which is not in the op definition: Op<name=MapDataset; signature=input_dataset:variant, other_arguments: -> handle:variant; attr=f:func; attr=Targuments:list(type),min=0; attr=output_types:list(type),min=1; attr=output_shapes:list(shape),min=1; attr=use_inter_op_parallelism:bool,default=true; attr=preserve_cardinality:bool,default=false; attr=force_synchronous:bool,default=false; attr=metadata:string,default=\"\"> This may be expected if your graph generating binary is newer  than this binary. Unknown attributes will be ignored. NodeDef: {{node ParallelMapDatasetV2/_14}}\n",
      " 70%|███████   | 21/30 [41:35<12:53, 85.92s/it]"
     ]
    },
    {
     "name": "stdout",
     "output_type": "stream",
     "text": [
      "The average treatment effect (ATE) is 1.6610385\n",
      "Epoch 1: loss 2.4288,\tloss_y 1.6647, 1.6730, 0.0164,\tloss_eta 0.7640, 0.7932, 0.0584\n",
      "Warning: covariate dimension does not aligned with the specified input dimension; filling in the remaining dimension with noise.\n",
      "Warning: covariate dimension does not aligned with the specified input dimension; filling in the remaining dimension with noise.\n"
     ]
    },
    {
     "name": "stderr",
     "output_type": "stream",
     "text": [
      "INFO \t Training with 6 minibatches per epoch\n",
      "INFO \t Evaluating 1 minibatches\n",
      "2025-04-26 09:36:20.503223: E tensorflow/core/framework/node_def_util.cc:676] NodeDef mentions attribute use_unbounded_threadpool which is not in the op definition: Op<name=MapDataset; signature=input_dataset:variant, other_arguments: -> handle:variant; attr=f:func; attr=Targuments:list(type),min=0; attr=output_types:list(type),min=1; attr=output_shapes:list(shape),min=1; attr=use_inter_op_parallelism:bool,default=true; attr=preserve_cardinality:bool,default=false; attr=force_synchronous:bool,default=false; attr=metadata:string,default=\"\"> This may be expected if your graph generating binary is newer  than this binary. Unknown attributes will be ignored. NodeDef: {{node ParallelMapDatasetV2/_14}}\n",
      "2025-04-26 09:36:20.503557: E tensorflow/core/framework/node_def_util.cc:676] NodeDef mentions attribute use_unbounded_threadpool which is not in the op definition: Op<name=MapDataset; signature=input_dataset:variant, other_arguments: -> handle:variant; attr=f:func; attr=Targuments:list(type),min=0; attr=output_types:list(type),min=1; attr=output_shapes:list(shape),min=1; attr=use_inter_op_parallelism:bool,default=true; attr=preserve_cardinality:bool,default=false; attr=force_synchronous:bool,default=false; attr=metadata:string,default=\"\"> This may be expected if your graph generating binary is newer  than this binary. Unknown attributes will be ignored. NodeDef: {{node ParallelMapDatasetV2/_14}}\n",
      "2025-04-26 09:36:26.176572: E tensorflow/core/framework/node_def_util.cc:676] NodeDef mentions attribute use_unbounded_threadpool which is not in the op definition: Op<name=MapDataset; signature=input_dataset:variant, other_arguments: -> handle:variant; attr=f:func; attr=Targuments:list(type),min=0; attr=output_types:list(type),min=1; attr=output_shapes:list(shape),min=1; attr=use_inter_op_parallelism:bool,default=true; attr=preserve_cardinality:bool,default=false; attr=force_synchronous:bool,default=false; attr=metadata:string,default=\"\"> This may be expected if your graph generating binary is newer  than this binary. Unknown attributes will be ignored. NodeDef: {{node ParallelMapDatasetV2/_14}}\n",
      "2025-04-26 09:36:26.176859: E tensorflow/core/framework/node_def_util.cc:676] NodeDef mentions attribute use_unbounded_threadpool which is not in the op definition: Op<name=MapDataset; signature=input_dataset:variant, other_arguments: -> handle:variant; attr=f:func; attr=Targuments:list(type),min=0; attr=output_types:list(type),min=1; attr=output_shapes:list(shape),min=1; attr=use_inter_op_parallelism:bool,default=true; attr=preserve_cardinality:bool,default=false; attr=force_synchronous:bool,default=false; attr=metadata:string,default=\"\"> This may be expected if your graph generating binary is newer  than this binary. Unknown attributes will be ignored. NodeDef: {{node ParallelMapDatasetV2/_14}}\n",
      " 73%|███████▎  | 22/30 [43:01<11:28, 86.11s/it]"
     ]
    },
    {
     "name": "stdout",
     "output_type": "stream",
     "text": [
      "The average treatment effect (ATE) is 1.6158249\n",
      "Epoch 1: loss 2.4719,\tloss_y 1.6837, 1.6871, 0.0068,\tloss_eta 0.7882, 0.8170, 0.0575\n",
      "Warning: covariate dimension does not aligned with the specified input dimension; filling in the remaining dimension with noise.\n",
      "Warning: covariate dimension does not aligned with the specified input dimension; filling in the remaining dimension with noise.\n"
     ]
    },
    {
     "name": "stderr",
     "output_type": "stream",
     "text": [
      "INFO \t Training with 6 minibatches per epoch\n",
      "INFO \t Evaluating 1 minibatches\n",
      "2025-04-26 09:37:44.969151: E tensorflow/core/framework/node_def_util.cc:676] NodeDef mentions attribute use_unbounded_threadpool which is not in the op definition: Op<name=MapDataset; signature=input_dataset:variant, other_arguments: -> handle:variant; attr=f:func; attr=Targuments:list(type),min=0; attr=output_types:list(type),min=1; attr=output_shapes:list(shape),min=1; attr=use_inter_op_parallelism:bool,default=true; attr=preserve_cardinality:bool,default=false; attr=force_synchronous:bool,default=false; attr=metadata:string,default=\"\"> This may be expected if your graph generating binary is newer  than this binary. Unknown attributes will be ignored. NodeDef: {{node ParallelMapDatasetV2/_14}}\n",
      "2025-04-26 09:37:44.969467: E tensorflow/core/framework/node_def_util.cc:676] NodeDef mentions attribute use_unbounded_threadpool which is not in the op definition: Op<name=MapDataset; signature=input_dataset:variant, other_arguments: -> handle:variant; attr=f:func; attr=Targuments:list(type),min=0; attr=output_types:list(type),min=1; attr=output_shapes:list(shape),min=1; attr=use_inter_op_parallelism:bool,default=true; attr=preserve_cardinality:bool,default=false; attr=force_synchronous:bool,default=false; attr=metadata:string,default=\"\"> This may be expected if your graph generating binary is newer  than this binary. Unknown attributes will be ignored. NodeDef: {{node ParallelMapDatasetV2/_14}}\n",
      "2025-04-26 09:37:50.675292: E tensorflow/core/framework/node_def_util.cc:676] NodeDef mentions attribute use_unbounded_threadpool which is not in the op definition: Op<name=MapDataset; signature=input_dataset:variant, other_arguments: -> handle:variant; attr=f:func; attr=Targuments:list(type),min=0; attr=output_types:list(type),min=1; attr=output_shapes:list(shape),min=1; attr=use_inter_op_parallelism:bool,default=true; attr=preserve_cardinality:bool,default=false; attr=force_synchronous:bool,default=false; attr=metadata:string,default=\"\"> This may be expected if your graph generating binary is newer  than this binary. Unknown attributes will be ignored. NodeDef: {{node ParallelMapDatasetV2/_14}}\n",
      "2025-04-26 09:37:50.675626: E tensorflow/core/framework/node_def_util.cc:676] NodeDef mentions attribute use_unbounded_threadpool which is not in the op definition: Op<name=MapDataset; signature=input_dataset:variant, other_arguments: -> handle:variant; attr=f:func; attr=Targuments:list(type),min=0; attr=output_types:list(type),min=1; attr=output_shapes:list(shape),min=1; attr=use_inter_op_parallelism:bool,default=true; attr=preserve_cardinality:bool,default=false; attr=force_synchronous:bool,default=false; attr=metadata:string,default=\"\"> This may be expected if your graph generating binary is newer  than this binary. Unknown attributes will be ignored. NodeDef: {{node ParallelMapDatasetV2/_14}}\n",
      " 77%|███████▋  | 23/30 [44:26<09:59, 85.63s/it]"
     ]
    },
    {
     "name": "stdout",
     "output_type": "stream",
     "text": [
      "The average treatment effect (ATE) is 1.7408092\n",
      "Epoch 1: loss 2.5020,\tloss_y 1.7172, 1.7512, 0.0680,\tloss_eta 0.7847, 0.8163, 0.0632\n",
      "Warning: covariate dimension does not aligned with the specified input dimension; filling in the remaining dimension with noise.\n",
      "Warning: covariate dimension does not aligned with the specified input dimension; filling in the remaining dimension with noise.\n"
     ]
    },
    {
     "name": "stderr",
     "output_type": "stream",
     "text": [
      "INFO \t Training with 6 minibatches per epoch\n",
      "INFO \t Evaluating 1 minibatches\n",
      "2025-04-26 09:39:11.378813: E tensorflow/core/framework/node_def_util.cc:676] NodeDef mentions attribute use_unbounded_threadpool which is not in the op definition: Op<name=MapDataset; signature=input_dataset:variant, other_arguments: -> handle:variant; attr=f:func; attr=Targuments:list(type),min=0; attr=output_types:list(type),min=1; attr=output_shapes:list(shape),min=1; attr=use_inter_op_parallelism:bool,default=true; attr=preserve_cardinality:bool,default=false; attr=force_synchronous:bool,default=false; attr=metadata:string,default=\"\"> This may be expected if your graph generating binary is newer  than this binary. Unknown attributes will be ignored. NodeDef: {{node ParallelMapDatasetV2/_14}}\n",
      "2025-04-26 09:39:11.379114: E tensorflow/core/framework/node_def_util.cc:676] NodeDef mentions attribute use_unbounded_threadpool which is not in the op definition: Op<name=MapDataset; signature=input_dataset:variant, other_arguments: -> handle:variant; attr=f:func; attr=Targuments:list(type),min=0; attr=output_types:list(type),min=1; attr=output_shapes:list(shape),min=1; attr=use_inter_op_parallelism:bool,default=true; attr=preserve_cardinality:bool,default=false; attr=force_synchronous:bool,default=false; attr=metadata:string,default=\"\"> This may be expected if your graph generating binary is newer  than this binary. Unknown attributes will be ignored. NodeDef: {{node ParallelMapDatasetV2/_14}}\n",
      "2025-04-26 09:39:16.996475: E tensorflow/core/framework/node_def_util.cc:676] NodeDef mentions attribute use_unbounded_threadpool which is not in the op definition: Op<name=MapDataset; signature=input_dataset:variant, other_arguments: -> handle:variant; attr=f:func; attr=Targuments:list(type),min=0; attr=output_types:list(type),min=1; attr=output_shapes:list(shape),min=1; attr=use_inter_op_parallelism:bool,default=true; attr=preserve_cardinality:bool,default=false; attr=force_synchronous:bool,default=false; attr=metadata:string,default=\"\"> This may be expected if your graph generating binary is newer  than this binary. Unknown attributes will be ignored. NodeDef: {{node ParallelMapDatasetV2/_14}}\n",
      "2025-04-26 09:39:16.996845: E tensorflow/core/framework/node_def_util.cc:676] NodeDef mentions attribute use_unbounded_threadpool which is not in the op definition: Op<name=MapDataset; signature=input_dataset:variant, other_arguments: -> handle:variant; attr=f:func; attr=Targuments:list(type),min=0; attr=output_types:list(type),min=1; attr=output_shapes:list(shape),min=1; attr=use_inter_op_parallelism:bool,default=true; attr=preserve_cardinality:bool,default=false; attr=force_synchronous:bool,default=false; attr=metadata:string,default=\"\"> This may be expected if your graph generating binary is newer  than this binary. Unknown attributes will be ignored. NodeDef: {{node ParallelMapDatasetV2/_14}}\n",
      " 80%|████████  | 24/30 [45:52<08:35, 85.84s/it]"
     ]
    },
    {
     "name": "stdout",
     "output_type": "stream",
     "text": [
      "The average treatment effect (ATE) is 1.6671607\n",
      "Epoch 1: loss 2.3727,\tloss_y 1.6196, 1.6383, 0.0375,\tloss_eta 0.7531, 0.7931, 0.0801\n",
      "Warning: covariate dimension does not aligned with the specified input dimension; filling in the remaining dimension with noise.\n",
      "Warning: covariate dimension does not aligned with the specified input dimension; filling in the remaining dimension with noise.\n"
     ]
    },
    {
     "name": "stderr",
     "output_type": "stream",
     "text": [
      "INFO \t Training with 6 minibatches per epoch\n",
      "INFO \t Evaluating 1 minibatches\n",
      "2025-04-26 09:40:35.864940: E tensorflow/core/framework/node_def_util.cc:676] NodeDef mentions attribute use_unbounded_threadpool which is not in the op definition: Op<name=MapDataset; signature=input_dataset:variant, other_arguments: -> handle:variant; attr=f:func; attr=Targuments:list(type),min=0; attr=output_types:list(type),min=1; attr=output_shapes:list(shape),min=1; attr=use_inter_op_parallelism:bool,default=true; attr=preserve_cardinality:bool,default=false; attr=force_synchronous:bool,default=false; attr=metadata:string,default=\"\"> This may be expected if your graph generating binary is newer  than this binary. Unknown attributes will be ignored. NodeDef: {{node ParallelMapDatasetV2/_14}}\n",
      "2025-04-26 09:40:35.865209: E tensorflow/core/framework/node_def_util.cc:676] NodeDef mentions attribute use_unbounded_threadpool which is not in the op definition: Op<name=MapDataset; signature=input_dataset:variant, other_arguments: -> handle:variant; attr=f:func; attr=Targuments:list(type),min=0; attr=output_types:list(type),min=1; attr=output_shapes:list(shape),min=1; attr=use_inter_op_parallelism:bool,default=true; attr=preserve_cardinality:bool,default=false; attr=force_synchronous:bool,default=false; attr=metadata:string,default=\"\"> This may be expected if your graph generating binary is newer  than this binary. Unknown attributes will be ignored. NodeDef: {{node ParallelMapDatasetV2/_14}}\n",
      "2025-04-26 09:40:41.576577: E tensorflow/core/framework/node_def_util.cc:676] NodeDef mentions attribute use_unbounded_threadpool which is not in the op definition: Op<name=MapDataset; signature=input_dataset:variant, other_arguments: -> handle:variant; attr=f:func; attr=Targuments:list(type),min=0; attr=output_types:list(type),min=1; attr=output_shapes:list(shape),min=1; attr=use_inter_op_parallelism:bool,default=true; attr=preserve_cardinality:bool,default=false; attr=force_synchronous:bool,default=false; attr=metadata:string,default=\"\"> This may be expected if your graph generating binary is newer  than this binary. Unknown attributes will be ignored. NodeDef: {{node ParallelMapDatasetV2/_14}}\n",
      "2025-04-26 09:40:41.576863: E tensorflow/core/framework/node_def_util.cc:676] NodeDef mentions attribute use_unbounded_threadpool which is not in the op definition: Op<name=MapDataset; signature=input_dataset:variant, other_arguments: -> handle:variant; attr=f:func; attr=Targuments:list(type),min=0; attr=output_types:list(type),min=1; attr=output_shapes:list(shape),min=1; attr=use_inter_op_parallelism:bool,default=true; attr=preserve_cardinality:bool,default=false; attr=force_synchronous:bool,default=false; attr=metadata:string,default=\"\"> This may be expected if your graph generating binary is newer  than this binary. Unknown attributes will be ignored. NodeDef: {{node ParallelMapDatasetV2/_14}}\n",
      " 83%|████████▎ | 25/30 [47:17<07:07, 85.46s/it]"
     ]
    },
    {
     "name": "stdout",
     "output_type": "stream",
     "text": [
      "The average treatment effect (ATE) is 1.6054809\n",
      "Epoch 1: loss 2.4059,\tloss_y 1.6702, 1.6877, 0.0349,\tloss_eta 0.7357, 0.7843, 0.0972\n",
      "Warning: covariate dimension does not aligned with the specified input dimension; filling in the remaining dimension with noise.\n",
      "Warning: covariate dimension does not aligned with the specified input dimension; filling in the remaining dimension with noise.\n"
     ]
    },
    {
     "name": "stderr",
     "output_type": "stream",
     "text": [
      "INFO \t Training with 6 minibatches per epoch\n",
      "INFO \t Evaluating 1 minibatches\n",
      "2025-04-26 09:42:02.336160: E tensorflow/core/framework/node_def_util.cc:676] NodeDef mentions attribute use_unbounded_threadpool which is not in the op definition: Op<name=MapDataset; signature=input_dataset:variant, other_arguments: -> handle:variant; attr=f:func; attr=Targuments:list(type),min=0; attr=output_types:list(type),min=1; attr=output_shapes:list(shape),min=1; attr=use_inter_op_parallelism:bool,default=true; attr=preserve_cardinality:bool,default=false; attr=force_synchronous:bool,default=false; attr=metadata:string,default=\"\"> This may be expected if your graph generating binary is newer  than this binary. Unknown attributes will be ignored. NodeDef: {{node ParallelMapDatasetV2/_14}}\n",
      "2025-04-26 09:42:02.336461: E tensorflow/core/framework/node_def_util.cc:676] NodeDef mentions attribute use_unbounded_threadpool which is not in the op definition: Op<name=MapDataset; signature=input_dataset:variant, other_arguments: -> handle:variant; attr=f:func; attr=Targuments:list(type),min=0; attr=output_types:list(type),min=1; attr=output_shapes:list(shape),min=1; attr=use_inter_op_parallelism:bool,default=true; attr=preserve_cardinality:bool,default=false; attr=force_synchronous:bool,default=false; attr=metadata:string,default=\"\"> This may be expected if your graph generating binary is newer  than this binary. Unknown attributes will be ignored. NodeDef: {{node ParallelMapDatasetV2/_14}}\n",
      "2025-04-26 09:42:07.923465: E tensorflow/core/framework/node_def_util.cc:676] NodeDef mentions attribute use_unbounded_threadpool which is not in the op definition: Op<name=MapDataset; signature=input_dataset:variant, other_arguments: -> handle:variant; attr=f:func; attr=Targuments:list(type),min=0; attr=output_types:list(type),min=1; attr=output_shapes:list(shape),min=1; attr=use_inter_op_parallelism:bool,default=true; attr=preserve_cardinality:bool,default=false; attr=force_synchronous:bool,default=false; attr=metadata:string,default=\"\"> This may be expected if your graph generating binary is newer  than this binary. Unknown attributes will be ignored. NodeDef: {{node ParallelMapDatasetV2/_14}}\n",
      "2025-04-26 09:42:07.923760: E tensorflow/core/framework/node_def_util.cc:676] NodeDef mentions attribute use_unbounded_threadpool which is not in the op definition: Op<name=MapDataset; signature=input_dataset:variant, other_arguments: -> handle:variant; attr=f:func; attr=Targuments:list(type),min=0; attr=output_types:list(type),min=1; attr=output_shapes:list(shape),min=1; attr=use_inter_op_parallelism:bool,default=true; attr=preserve_cardinality:bool,default=false; attr=force_synchronous:bool,default=false; attr=metadata:string,default=\"\"> This may be expected if your graph generating binary is newer  than this binary. Unknown attributes will be ignored. NodeDef: {{node ParallelMapDatasetV2/_14}}\n",
      " 87%|████████▋ | 26/30 [48:43<05:42, 85.73s/it]"
     ]
    },
    {
     "name": "stdout",
     "output_type": "stream",
     "text": [
      "The average treatment effect (ATE) is 1.5607432\n",
      "Epoch 1: loss 2.4101,\tloss_y 1.6704, 1.7025, 0.0643,\tloss_eta 0.7397, 0.7849, 0.0903\n",
      "Warning: covariate dimension does not aligned with the specified input dimension; filling in the remaining dimension with noise.\n",
      "Warning: covariate dimension does not aligned with the specified input dimension; filling in the remaining dimension with noise.\n"
     ]
    },
    {
     "name": "stderr",
     "output_type": "stream",
     "text": [
      "INFO \t Training with 6 minibatches per epoch\n",
      "INFO \t Evaluating 1 minibatches\n",
      "2025-04-26 09:43:25.540502: E tensorflow/core/framework/node_def_util.cc:676] NodeDef mentions attribute use_unbounded_threadpool which is not in the op definition: Op<name=MapDataset; signature=input_dataset:variant, other_arguments: -> handle:variant; attr=f:func; attr=Targuments:list(type),min=0; attr=output_types:list(type),min=1; attr=output_shapes:list(shape),min=1; attr=use_inter_op_parallelism:bool,default=true; attr=preserve_cardinality:bool,default=false; attr=force_synchronous:bool,default=false; attr=metadata:string,default=\"\"> This may be expected if your graph generating binary is newer  than this binary. Unknown attributes will be ignored. NodeDef: {{node ParallelMapDatasetV2/_14}}\n",
      "2025-04-26 09:43:25.540852: E tensorflow/core/framework/node_def_util.cc:676] NodeDef mentions attribute use_unbounded_threadpool which is not in the op definition: Op<name=MapDataset; signature=input_dataset:variant, other_arguments: -> handle:variant; attr=f:func; attr=Targuments:list(type),min=0; attr=output_types:list(type),min=1; attr=output_shapes:list(shape),min=1; attr=use_inter_op_parallelism:bool,default=true; attr=preserve_cardinality:bool,default=false; attr=force_synchronous:bool,default=false; attr=metadata:string,default=\"\"> This may be expected if your graph generating binary is newer  than this binary. Unknown attributes will be ignored. NodeDef: {{node ParallelMapDatasetV2/_14}}\n",
      "2025-04-26 09:43:31.096003: E tensorflow/core/framework/node_def_util.cc:676] NodeDef mentions attribute use_unbounded_threadpool which is not in the op definition: Op<name=MapDataset; signature=input_dataset:variant, other_arguments: -> handle:variant; attr=f:func; attr=Targuments:list(type),min=0; attr=output_types:list(type),min=1; attr=output_shapes:list(shape),min=1; attr=use_inter_op_parallelism:bool,default=true; attr=preserve_cardinality:bool,default=false; attr=force_synchronous:bool,default=false; attr=metadata:string,default=\"\"> This may be expected if your graph generating binary is newer  than this binary. Unknown attributes will be ignored. NodeDef: {{node ParallelMapDatasetV2/_14}}\n",
      "2025-04-26 09:43:31.096294: E tensorflow/core/framework/node_def_util.cc:676] NodeDef mentions attribute use_unbounded_threadpool which is not in the op definition: Op<name=MapDataset; signature=input_dataset:variant, other_arguments: -> handle:variant; attr=f:func; attr=Targuments:list(type),min=0; attr=output_types:list(type),min=1; attr=output_shapes:list(shape),min=1; attr=use_inter_op_parallelism:bool,default=true; attr=preserve_cardinality:bool,default=false; attr=force_synchronous:bool,default=false; attr=metadata:string,default=\"\"> This may be expected if your graph generating binary is newer  than this binary. Unknown attributes will be ignored. NodeDef: {{node ParallelMapDatasetV2/_14}}\n",
      " 90%|█████████ | 27/30 [50:06<04:14, 84.96s/it]"
     ]
    },
    {
     "name": "stdout",
     "output_type": "stream",
     "text": [
      "The average treatment effect (ATE) is 1.7162017\n",
      "Epoch 1: loss 2.4890,\tloss_y 1.7057, 1.7192, 0.0269,\tloss_eta 0.7833, 0.8229, 0.0793\n",
      "Warning: covariate dimension does not aligned with the specified input dimension; filling in the remaining dimension with noise.\n",
      "Warning: covariate dimension does not aligned with the specified input dimension; filling in the remaining dimension with noise.\n"
     ]
    },
    {
     "name": "stderr",
     "output_type": "stream",
     "text": [
      "INFO \t Training with 6 minibatches per epoch\n",
      "INFO \t Evaluating 1 minibatches\n",
      "2025-04-26 09:44:51.011085: E tensorflow/core/framework/node_def_util.cc:676] NodeDef mentions attribute use_unbounded_threadpool which is not in the op definition: Op<name=MapDataset; signature=input_dataset:variant, other_arguments: -> handle:variant; attr=f:func; attr=Targuments:list(type),min=0; attr=output_types:list(type),min=1; attr=output_shapes:list(shape),min=1; attr=use_inter_op_parallelism:bool,default=true; attr=preserve_cardinality:bool,default=false; attr=force_synchronous:bool,default=false; attr=metadata:string,default=\"\"> This may be expected if your graph generating binary is newer  than this binary. Unknown attributes will be ignored. NodeDef: {{node ParallelMapDatasetV2/_14}}\n",
      "2025-04-26 09:44:51.011410: E tensorflow/core/framework/node_def_util.cc:676] NodeDef mentions attribute use_unbounded_threadpool which is not in the op definition: Op<name=MapDataset; signature=input_dataset:variant, other_arguments: -> handle:variant; attr=f:func; attr=Targuments:list(type),min=0; attr=output_types:list(type),min=1; attr=output_shapes:list(shape),min=1; attr=use_inter_op_parallelism:bool,default=true; attr=preserve_cardinality:bool,default=false; attr=force_synchronous:bool,default=false; attr=metadata:string,default=\"\"> This may be expected if your graph generating binary is newer  than this binary. Unknown attributes will be ignored. NodeDef: {{node ParallelMapDatasetV2/_14}}\n",
      "2025-04-26 09:44:56.702579: E tensorflow/core/framework/node_def_util.cc:676] NodeDef mentions attribute use_unbounded_threadpool which is not in the op definition: Op<name=MapDataset; signature=input_dataset:variant, other_arguments: -> handle:variant; attr=f:func; attr=Targuments:list(type),min=0; attr=output_types:list(type),min=1; attr=output_shapes:list(shape),min=1; attr=use_inter_op_parallelism:bool,default=true; attr=preserve_cardinality:bool,default=false; attr=force_synchronous:bool,default=false; attr=metadata:string,default=\"\"> This may be expected if your graph generating binary is newer  than this binary. Unknown attributes will be ignored. NodeDef: {{node ParallelMapDatasetV2/_14}}\n",
      "2025-04-26 09:44:56.702904: E tensorflow/core/framework/node_def_util.cc:676] NodeDef mentions attribute use_unbounded_threadpool which is not in the op definition: Op<name=MapDataset; signature=input_dataset:variant, other_arguments: -> handle:variant; attr=f:func; attr=Targuments:list(type),min=0; attr=output_types:list(type),min=1; attr=output_shapes:list(shape),min=1; attr=use_inter_op_parallelism:bool,default=true; attr=preserve_cardinality:bool,default=false; attr=force_synchronous:bool,default=false; attr=metadata:string,default=\"\"> This may be expected if your graph generating binary is newer  than this binary. Unknown attributes will be ignored. NodeDef: {{node ParallelMapDatasetV2/_14}}\n",
      " 93%|█████████▎| 28/30 [51:32<02:50, 85.15s/it]"
     ]
    },
    {
     "name": "stdout",
     "output_type": "stream",
     "text": [
      "The average treatment effect (ATE) is 1.6624709\n",
      "Epoch 1: loss 2.6023,\tloss_y 1.7767, 1.7884, 0.0234,\tloss_eta 0.8256, 0.8621, 0.0731\n",
      "Warning: covariate dimension does not aligned with the specified input dimension; filling in the remaining dimension with noise.\n",
      "Warning: covariate dimension does not aligned with the specified input dimension; filling in the remaining dimension with noise.\n"
     ]
    },
    {
     "name": "stderr",
     "output_type": "stream",
     "text": [
      "INFO \t Training with 6 minibatches per epoch\n",
      "INFO \t Evaluating 1 minibatches\n",
      "2025-04-26 09:46:14.411813: E tensorflow/core/framework/node_def_util.cc:676] NodeDef mentions attribute use_unbounded_threadpool which is not in the op definition: Op<name=MapDataset; signature=input_dataset:variant, other_arguments: -> handle:variant; attr=f:func; attr=Targuments:list(type),min=0; attr=output_types:list(type),min=1; attr=output_shapes:list(shape),min=1; attr=use_inter_op_parallelism:bool,default=true; attr=preserve_cardinality:bool,default=false; attr=force_synchronous:bool,default=false; attr=metadata:string,default=\"\"> This may be expected if your graph generating binary is newer  than this binary. Unknown attributes will be ignored. NodeDef: {{node ParallelMapDatasetV2/_14}}\n",
      "2025-04-26 09:46:14.412149: E tensorflow/core/framework/node_def_util.cc:676] NodeDef mentions attribute use_unbounded_threadpool which is not in the op definition: Op<name=MapDataset; signature=input_dataset:variant, other_arguments: -> handle:variant; attr=f:func; attr=Targuments:list(type),min=0; attr=output_types:list(type),min=1; attr=output_shapes:list(shape),min=1; attr=use_inter_op_parallelism:bool,default=true; attr=preserve_cardinality:bool,default=false; attr=force_synchronous:bool,default=false; attr=metadata:string,default=\"\"> This may be expected if your graph generating binary is newer  than this binary. Unknown attributes will be ignored. NodeDef: {{node ParallelMapDatasetV2/_14}}\n",
      "2025-04-26 09:46:19.976400: E tensorflow/core/framework/node_def_util.cc:676] NodeDef mentions attribute use_unbounded_threadpool which is not in the op definition: Op<name=MapDataset; signature=input_dataset:variant, other_arguments: -> handle:variant; attr=f:func; attr=Targuments:list(type),min=0; attr=output_types:list(type),min=1; attr=output_shapes:list(shape),min=1; attr=use_inter_op_parallelism:bool,default=true; attr=preserve_cardinality:bool,default=false; attr=force_synchronous:bool,default=false; attr=metadata:string,default=\"\"> This may be expected if your graph generating binary is newer  than this binary. Unknown attributes will be ignored. NodeDef: {{node ParallelMapDatasetV2/_14}}\n",
      "2025-04-26 09:46:19.976753: E tensorflow/core/framework/node_def_util.cc:676] NodeDef mentions attribute use_unbounded_threadpool which is not in the op definition: Op<name=MapDataset; signature=input_dataset:variant, other_arguments: -> handle:variant; attr=f:func; attr=Targuments:list(type),min=0; attr=output_types:list(type),min=1; attr=output_shapes:list(shape),min=1; attr=use_inter_op_parallelism:bool,default=true; attr=preserve_cardinality:bool,default=false; attr=force_synchronous:bool,default=false; attr=metadata:string,default=\"\"> This may be expected if your graph generating binary is newer  than this binary. Unknown attributes will be ignored. NodeDef: {{node ParallelMapDatasetV2/_14}}\n",
      " 97%|█████████▋| 29/30 [52:55<01:24, 84.59s/it]"
     ]
    },
    {
     "name": "stdout",
     "output_type": "stream",
     "text": [
      "The average treatment effect (ATE) is 1.891684\n",
      "Epoch 1: loss 2.4594,\tloss_y 1.6951, 1.7249, 0.0595,\tloss_eta 0.7643, 0.7890, 0.0493\n",
      "Warning: covariate dimension does not aligned with the specified input dimension; filling in the remaining dimension with noise.\n",
      "Warning: covariate dimension does not aligned with the specified input dimension; filling in the remaining dimension with noise.\n"
     ]
    },
    {
     "name": "stderr",
     "output_type": "stream",
     "text": [
      "INFO \t Training with 6 minibatches per epoch\n",
      "INFO \t Evaluating 1 minibatches\n",
      "2025-04-26 09:47:38.174272: E tensorflow/core/framework/node_def_util.cc:676] NodeDef mentions attribute use_unbounded_threadpool which is not in the op definition: Op<name=MapDataset; signature=input_dataset:variant, other_arguments: -> handle:variant; attr=f:func; attr=Targuments:list(type),min=0; attr=output_types:list(type),min=1; attr=output_shapes:list(shape),min=1; attr=use_inter_op_parallelism:bool,default=true; attr=preserve_cardinality:bool,default=false; attr=force_synchronous:bool,default=false; attr=metadata:string,default=\"\"> This may be expected if your graph generating binary is newer  than this binary. Unknown attributes will be ignored. NodeDef: {{node ParallelMapDatasetV2/_14}}\n",
      "2025-04-26 09:47:38.174624: E tensorflow/core/framework/node_def_util.cc:676] NodeDef mentions attribute use_unbounded_threadpool which is not in the op definition: Op<name=MapDataset; signature=input_dataset:variant, other_arguments: -> handle:variant; attr=f:func; attr=Targuments:list(type),min=0; attr=output_types:list(type),min=1; attr=output_shapes:list(shape),min=1; attr=use_inter_op_parallelism:bool,default=true; attr=preserve_cardinality:bool,default=false; attr=force_synchronous:bool,default=false; attr=metadata:string,default=\"\"> This may be expected if your graph generating binary is newer  than this binary. Unknown attributes will be ignored. NodeDef: {{node ParallelMapDatasetV2/_14}}\n",
      "2025-04-26 09:47:43.850336: E tensorflow/core/framework/node_def_util.cc:676] NodeDef mentions attribute use_unbounded_threadpool which is not in the op definition: Op<name=MapDataset; signature=input_dataset:variant, other_arguments: -> handle:variant; attr=f:func; attr=Targuments:list(type),min=0; attr=output_types:list(type),min=1; attr=output_shapes:list(shape),min=1; attr=use_inter_op_parallelism:bool,default=true; attr=preserve_cardinality:bool,default=false; attr=force_synchronous:bool,default=false; attr=metadata:string,default=\"\"> This may be expected if your graph generating binary is newer  than this binary. Unknown attributes will be ignored. NodeDef: {{node ParallelMapDatasetV2/_14}}\n",
      "2025-04-26 09:47:43.850629: E tensorflow/core/framework/node_def_util.cc:676] NodeDef mentions attribute use_unbounded_threadpool which is not in the op definition: Op<name=MapDataset; signature=input_dataset:variant, other_arguments: -> handle:variant; attr=f:func; attr=Targuments:list(type),min=0; attr=output_types:list(type),min=1; attr=output_shapes:list(shape),min=1; attr=use_inter_op_parallelism:bool,default=true; attr=preserve_cardinality:bool,default=false; attr=force_synchronous:bool,default=false; attr=metadata:string,default=\"\"> This may be expected if your graph generating binary is newer  than this binary. Unknown attributes will be ignored. NodeDef: {{node ParallelMapDatasetV2/_14}}\n",
      "100%|██████████| 30/30 [54:19<00:00, 108.65s/it]\n"
     ]
    },
    {
     "name": "stdout",
     "output_type": "stream",
     "text": [
      "The average treatment effect (ATE) is 1.6433657\n",
      "Running experiments for strength_instr = 3.0\n"
     ]
    },
    {
     "name": "stderr",
     "output_type": "stream",
     "text": [
      "  0%|          | 0/30 [00:00<?, ?it/s]"
     ]
    },
    {
     "name": "stdout",
     "output_type": "stream",
     "text": [
      "Epoch 1: loss 2.4766,\tloss_y 1.6799, 1.7011, 0.0424,\tloss_eta 0.7966, 0.8344, 0.0755\n",
      "Warning: covariate dimension does not aligned with the specified input dimension; filling in the remaining dimension with noise.\n",
      "Warning: covariate dimension does not aligned with the specified input dimension; filling in the remaining dimension with noise.\n"
     ]
    },
    {
     "name": "stderr",
     "output_type": "stream",
     "text": [
      "[I 2025-04-26 09:47:47,153] A new study created in memory with name: tarnet_tune\n",
      "[I 2025-04-26 09:47:51,303] Trial 0 finished with value: 0.5597233772277832 and parameters: {'lr': 0.004833685799851328, 'wd': 3.2322570193559415e-05, 'bs': 128, 'epochs': 490, 'rep1': 27, 'rep2': 75, 'head': 76, 'drop': 0.00047478580745809895}. Best is trial 0 with value: 0.5597233772277832.\n",
      "[I 2025-04-26 09:48:03,624] Trial 1 finished with value: 0.5640031695365906 and parameters: {'lr': 5.5426164290526e-05, 'wd': 0.0002983530627648499, 'bs': 32, 'epochs': 666, 'rep1': 41, 'rep2': 61, 'head': 58, 'drop': 0.0009001280711571115}. Best is trial 0 with value: 0.5597233772277832.\n",
      "[I 2025-04-26 09:48:14,935] Trial 2 finished with value: 0.6007705330848694 and parameters: {'lr': 1.2897836924481554e-05, 'wd': 0.004027944823959282, 'bs': 32, 'epochs': 597, 'rep1': 33, 'rep2': 86, 'head': 77, 'drop': 0.0005735759648666192}. Best is trial 0 with value: 0.5597233772277832.\n",
      "[I 2025-04-26 09:48:17,557] Trial 3 finished with value: 0.5677019953727722 and parameters: {'lr': 0.00011401479272284412, 'wd': 4.2776501838847196e-05, 'bs': 256, 'epochs': 380, 'rep1': 43, 'rep2': 98, 'head': 63, 'drop': 0.00043229830635337644}. Best is trial 0 with value: 0.5597233772277832.\n",
      "[I 2025-04-26 09:48:21,398] Trial 4 finished with value: 0.539078950881958 and parameters: {'lr': 0.007011650922684305, 'wd': 0.0005417150160136108, 'bs': 128, 'epochs': 444, 'rep1': 36, 'rep2': 96, 'head': 79, 'drop': 0.0007382899934918625}. Best is trial 4 with value: 0.539078950881958.\n",
      "[I 2025-04-26 09:48:26,576] Trial 5 finished with value: 0.5990048050880432 and parameters: {'lr': 3.40400749843529e-05, 'wd': 1.5928415984088522e-05, 'bs': 128, 'epochs': 659, 'rep1': 27, 'rep2': 54, 'head': 50, 'drop': 0.0006946903623128047}. Best is trial 4 with value: 0.539078950881958.\n",
      "[I 2025-04-26 09:48:32,549] Trial 6 finished with value: 0.6856443285942078 and parameters: {'lr': 2.0300772218965102e-05, 'wd': 0.0011759141054013583, 'bs': 256, 'epochs': 561, 'rep1': 49, 'rep2': 63, 'head': 97, 'drop': 0.0007867426909880909}. Best is trial 4 with value: 0.539078950881958.\n",
      "[I 2025-04-26 09:48:35,677] Trial 7 finished with value: 0.5471101999282837 and parameters: {'lr': 0.00015967285896609435, 'wd': 2.9075647646460602e-05, 'bs': 256, 'epochs': 456, 'rep1': 27, 'rep2': 64, 'head': 93, 'drop': 0.0008902653366967004}. Best is trial 4 with value: 0.539078950881958.\n",
      "[I 2025-04-26 09:48:38,456] Trial 8 finished with value: 0.9289200305938721 and parameters: {'lr': 3.123947702810203e-05, 'wd': 1.4711323170336295e-05, 'bs': 256, 'epochs': 394, 'rep1': 20, 'rep2': 84, 'head': 91, 'drop': 0.0009296450044115756}. Best is trial 4 with value: 0.539078950881958.\n",
      "[I 2025-04-26 09:48:51,307] Trial 9 finished with value: 0.5352838635444641 and parameters: {'lr': 0.0010509828821273861, 'wd': 0.0004947290160068736, 'bs': 32, 'epochs': 678, 'rep1': 44, 'rep2': 58, 'head': 88, 'drop': 0.00040694619686637427}. Best is trial 9 with value: 0.5352838635444641.\n"
     ]
    },
    {
     "name": "stdout",
     "output_type": "stream",
     "text": [
      "🔍 Best params for tarnet: {'lr': 0.0010509828821273861, 'wd': 0.0004947290160068736, 'bs': 32, 'epochs': 678, 'rep1': 44, 'rep2': 58, 'head': 88, 'drop': 0.00040694619686637427}\n"
     ]
    },
    {
     "name": "stderr",
     "output_type": "stream",
     "text": [
      "[I 2025-04-26 09:49:08,996] A new study created in memory with name: cfrnet_tune\n",
      "[I 2025-04-26 09:49:16,904] Trial 0 finished with value: 0.5406243205070496 and parameters: {'lr': 0.0003499585142050816, 'wd': 0.00010634855206554528, 'bs': 256, 'epochs': 636, 'rep1': 146, 'rep2': 125, 'head': 83, 'drop': 0.0005045086642947371, 'ipm_weight': 0.030608736422844552}. Best is trial 0 with value: 0.5406243205070496.\n",
      "[I 2025-04-26 09:49:24,117] Trial 1 finished with value: 0.6798086166381836 and parameters: {'lr': 0.0001403894139960337, 'wd': 4.102138751386794e-05, 'bs': 256, 'epochs': 556, 'rep1': 93, 'rep2': 132, 'head': 138, 'drop': 0.0002023248495861435, 'ipm_weight': 2.5200277408745264}. Best is trial 0 with value: 0.5406243205070496.\n",
      "[I 2025-04-26 09:49:34,581] Trial 2 finished with value: 0.5902286171913147 and parameters: {'lr': 0.00041322201663135285, 'wd': 0.001423537255332363, 'bs': 256, 'epochs': 737, 'rep1': 174, 'rep2': 159, 'head': 178, 'drop': 0.00025999116447528923, 'ipm_weight': 0.7000649916042665}. Best is trial 0 with value: 0.5406243205070496.\n",
      "[I 2025-04-26 09:49:40,750] Trial 3 finished with value: 0.5798487067222595 and parameters: {'lr': 5.589456794817185e-05, 'wd': 3.182155997456302e-05, 'bs': 128, 'epochs': 491, 'rep1': 73, 'rep2': 56, 'head': 96, 'drop': 0.00019986167464861227, 'ipm_weight': 0.19044338843274805}. Best is trial 0 with value: 0.5406243205070496.\n",
      "[I 2025-04-26 09:49:49,389] Trial 4 finished with value: 0.5781008005142212 and parameters: {'lr': 0.00092569596706284, 'wd': 6.0660936452373394e-05, 'bs': 256, 'epochs': 677, 'rep1': 99, 'rep2': 110, 'head': 144, 'drop': 0.0009420480330311789, 'ipm_weight': 0.1287194286000542}. Best is trial 0 with value: 0.5406243205070496.\n",
      "[I 2025-04-26 09:50:13,473] Trial 5 finished with value: 0.6113771200180054 and parameters: {'lr': 6.859517688260678e-05, 'wd': 3.191570596438734e-05, 'bs': 32, 'epochs': 727, 'rep1': 138, 'rep2': 161, 'head': 180, 'drop': 0.0003331700047574122, 'ipm_weight': 1.3257919472668158}. Best is trial 0 with value: 0.5406243205070496.\n",
      "[I 2025-04-26 09:50:18,613] Trial 6 finished with value: 0.5685737133026123 and parameters: {'lr': 0.0005154974703964924, 'wd': 0.00010390086662054946, 'bs': 128, 'epochs': 377, 'rep1': 66, 'rep2': 194, 'head': 57, 'drop': 0.0007347573948125025, 'ipm_weight': 0.010115419573494629}. Best is trial 0 with value: 0.5406243205070496.\n",
      "[I 2025-04-26 09:50:26,954] Trial 7 finished with value: 0.5870903134346008 and parameters: {'lr': 3.6114729687991454e-05, 'wd': 0.00023492433102744665, 'bs': 128, 'epochs': 643, 'rep1': 135, 'rep2': 96, 'head': 52, 'drop': 0.00038938056167432965, 'ipm_weight': 0.6930567942272045}. Best is trial 0 with value: 0.5406243205070496.\n",
      "[I 2025-04-26 09:50:44,008] Trial 8 finished with value: 0.5822679400444031 and parameters: {'lr': 0.00011696249478957331, 'wd': 3.2858834383751195e-05, 'bs': 32, 'epochs': 531, 'rep1': 122, 'rep2': 138, 'head': 161, 'drop': 4.613828656514607e-05, 'ipm_weight': 0.03649333966944845}. Best is trial 0 with value: 0.5406243205070496.\n",
      "[I 2025-04-26 09:51:07,711] Trial 9 finished with value: 0.5777634978294373 and parameters: {'lr': 0.002021133046865609, 'wd': 0.0005091223095638172, 'bs': 32, 'epochs': 764, 'rep1': 107, 'rep2': 123, 'head': 158, 'drop': 0.0004657410903996341, 'ipm_weight': 0.30302616816463757}. Best is trial 0 with value: 0.5406243205070496.\n"
     ]
    },
    {
     "name": "stdout",
     "output_type": "stream",
     "text": [
      "🔍 Best params for cfrnet: {'lr': 0.0003499585142050816, 'wd': 0.00010634855206554528, 'bs': 256, 'epochs': 636, 'rep1': 146, 'rep2': 125, 'head': 83, 'drop': 0.0005045086642947371, 'ipm_weight': 0.030608736422844552}\n"
     ]
    },
    {
     "name": "stderr",
     "output_type": "stream",
     "text": [
      "[I 2025-04-26 09:51:18,881] A new study created in memory with name: cevae_tune\n",
      "INFO \t Training with 4 minibatches per epoch\n",
      "[I 2025-04-26 09:51:36,794] Trial 0 finished with value: 64.59365167236328 and parameters: {'lr': 6.926757273882938e-05, 'wd': 2.2156324681094963e-05, 'bs': 256, 'epochs': 541, 'latent_dim': 174, 'hidden_dim': 300, 'num_layers': 2, 'num_samples': 10}. Best is trial 0 with value: 64.59365167236328.\n",
      "INFO \t Training with 8 minibatches per epoch\n",
      "[I 2025-04-26 09:52:17,630] Trial 1 finished with value: 43.01527526855469 and parameters: {'lr': 0.0002949467460962766, 'wd': 0.005502692532664932, 'bs': 128, 'epochs': 503, 'latent_dim': 141, 'hidden_dim': 326, 'num_layers': 4, 'num_samples': 10}. Best is trial 1 with value: 43.01527526855469.\n",
      "INFO \t Training with 8 minibatches per epoch\n",
      "[I 2025-04-26 09:52:49,141] Trial 2 finished with value: 43.311237487792965 and parameters: {'lr': 0.00384573684222802, 'wd': 0.0016515867012749754, 'bs': 128, 'epochs': 597, 'latent_dim': 126, 'hidden_dim': 97, 'num_layers': 3, 'num_samples': 100}. Best is trial 1 with value: 43.01527526855469.\n",
      "INFO \t Training with 8 minibatches per epoch\n",
      "[I 2025-04-26 09:53:31,363] Trial 3 finished with value: 35.13387756347656 and parameters: {'lr': 0.007755341352304708, 'wd': 0.0003128478604065148, 'bs': 128, 'epochs': 603, 'latent_dim': 69, 'hidden_dim': 148, 'num_layers': 5, 'num_samples': 200}. Best is trial 3 with value: 35.13387756347656.\n",
      "INFO \t Training with 32 minibatches per epoch\n",
      "[I 2025-04-26 09:56:12,191] Trial 4 finished with value: 48.63268841552734 and parameters: {'lr': 0.0002665558473313143, 'wd': 1.605522442128851e-05, 'bs': 32, 'epochs': 733, 'latent_dim': 200, 'hidden_dim': 399, 'num_layers': 3, 'num_samples': 200}. Best is trial 3 with value: 35.13387756347656.\n",
      "INFO \t Training with 8 minibatches per epoch\n",
      "[I 2025-04-26 09:56:54,784] Trial 5 finished with value: 40.758850830078124 and parameters: {'lr': 0.00028443390813983, 'wd': 0.000765973395895655, 'bs': 128, 'epochs': 625, 'latent_dim': 108, 'hidden_dim': 383, 'num_layers': 3, 'num_samples': 200}. Best is trial 3 with value: 35.13387756347656.\n",
      "INFO \t Training with 8 minibatches per epoch\n",
      "[I 2025-04-26 09:57:45,924] Trial 6 finished with value: 29.73890985107422 and parameters: {'lr': 0.00030011514247155554, 'wd': 8.787504808797236e-05, 'bs': 128, 'epochs': 579, 'latent_dim': 38, 'hidden_dim': 312, 'num_layers': 5, 'num_samples': 50}. Best is trial 6 with value: 29.73890985107422.\n",
      "INFO \t Training with 4 minibatches per epoch\n",
      "[I 2025-04-26 09:58:08,168] Trial 7 finished with value: 63.884002868652345 and parameters: {'lr': 0.007172622876865481, 'wd': 0.0002307548786350289, 'bs': 256, 'epochs': 800, 'latent_dim': 187, 'hidden_dim': 80, 'num_layers': 2, 'num_samples': 50}. Best is trial 6 with value: 29.73890985107422.\n",
      "INFO \t Training with 32 minibatches per epoch\n",
      "[I 2025-04-26 09:59:41,050] Trial 8 finished with value: 38.321557983398435 and parameters: {'lr': 0.00041979289028192814, 'wd': 0.00016895755124627735, 'bs': 32, 'epochs': 521, 'latent_dim': 124, 'hidden_dim': 247, 'num_layers': 3, 'num_samples': 50}. Best is trial 6 with value: 29.73890985107422.\n",
      "INFO \t Training with 32 minibatches per epoch\n",
      "[I 2025-04-26 10:01:24,934] Trial 9 finished with value: 35.81045227050781 and parameters: {'lr': 0.0003148865784475806, 'wd': 0.0073328124149800765, 'bs': 32, 'epochs': 565, 'latent_dim': 80, 'hidden_dim': 139, 'num_layers': 4, 'num_samples': 10}. Best is trial 6 with value: 29.73890985107422.\n",
      "INFO \t Training with 11 minibatches per epoch\n"
     ]
    },
    {
     "name": "stdout",
     "output_type": "stream",
     "text": [
      "🔍 Best params for cevae: {'lr': 0.00030011514247155554, 'wd': 8.787504808797236e-05, 'bs': 128, 'epochs': 579, 'latent_dim': 38, 'hidden_dim': 312, 'num_layers': 5, 'num_samples': 50}\n"
     ]
    },
    {
     "name": "stderr",
     "output_type": "stream",
     "text": [
      "INFO \t Evaluating 1 minibatches\n",
      "[I 2025-04-26 10:02:33,701] A new study created in memory with name: dragonnet_tune\n",
      "[I 2025-04-26 10:02:37,475] Trial 0 finished with value: 0.2602767050266266 and parameters: {'lr': 0.00015572319125319395, 'wd': 0.002524284122151649, 'bs': 128, 'epochs': 307, 'shared_hidden': 163, 'outcome_hidden': 141}. Best is trial 0 with value: 0.2602767050266266.\n",
      "[I 2025-04-26 10:02:43,479] Trial 1 finished with value: 0.26209187507629395 and parameters: {'lr': 3.497450573687867e-05, 'wd': 0.0024528721636322653, 'bs': 256, 'epochs': 684, 'shared_hidden': 111, 'outcome_hidden': 181}. Best is trial 0 with value: 0.2602767050266266.\n",
      "[I 2025-04-26 10:03:00,038] Trial 2 finished with value: 0.2606009244918823 and parameters: {'lr': 0.0007448484118931195, 'wd': 0.0010670448899353648, 'bs': 32, 'epochs': 553, 'shared_hidden': 126, 'outcome_hidden': 192}. Best is trial 0 with value: 0.2602767050266266.\n",
      "[I 2025-04-26 10:03:03,517] Trial 3 finished with value: 0.2602040767669678 and parameters: {'lr': 0.0019540691348963694, 'wd': 9.222074719783394e-05, 'bs': 128, 'epochs': 301, 'shared_hidden': 75, 'outcome_hidden': 191}. Best is trial 3 with value: 0.2602040767669678.\n",
      "[I 2025-04-26 10:03:06,598] Trial 4 finished with value: 0.25107964873313904 and parameters: {'lr': 0.0048591179197542125, 'wd': 0.004745637033193113, 'bs': 256, 'epochs': 352, 'shared_hidden': 121, 'outcome_hidden': 169}. Best is trial 4 with value: 0.25107964873313904.\n",
      "[I 2025-04-26 10:03:19,545] Trial 5 finished with value: 0.27810925245285034 and parameters: {'lr': 0.0006458970717018441, 'wd': 2.2049523444483076e-05, 'bs': 32, 'epochs': 521, 'shared_hidden': 68, 'outcome_hidden': 114}. Best is trial 4 with value: 0.25107964873313904.\n",
      "[I 2025-04-26 10:03:25,062] Trial 6 finished with value: 0.2557818293571472 and parameters: {'lr': 0.0031762269131381977, 'wd': 0.000494417211480831, 'bs': 256, 'epochs': 673, 'shared_hidden': 126, 'outcome_hidden': 106}. Best is trial 4 with value: 0.25107964873313904.\n",
      "[I 2025-04-26 10:03:30,399] Trial 7 finished with value: 0.2584752142429352 and parameters: {'lr': 2.9370882864798773e-05, 'wd': 3.6232357909067056e-05, 'bs': 256, 'epochs': 743, 'shared_hidden': 117, 'outcome_hidden': 50}. Best is trial 4 with value: 0.25107964873313904.\n",
      "[I 2025-04-26 10:03:34,675] Trial 8 finished with value: 0.2592638432979584 and parameters: {'lr': 0.0002082318417618858, 'wd': 0.0012814483495056854, 'bs': 128, 'epochs': 361, 'shared_hidden': 186, 'outcome_hidden': 106}. Best is trial 4 with value: 0.25107964873313904.\n",
      "[I 2025-04-26 10:03:37,718] Trial 9 finished with value: 0.338064044713974 and parameters: {'lr': 1.2715737954952414e-05, 'wd': 6.963919465364875e-05, 'bs': 256, 'epochs': 356, 'shared_hidden': 132, 'outcome_hidden': 151}. Best is trial 4 with value: 0.25107964873313904.\n"
     ]
    },
    {
     "name": "stdout",
     "output_type": "stream",
     "text": [
      "🔍 Best params for dragonnet: {'lr': 0.0048591179197542125, 'wd': 0.004745637033193113, 'bs': 256, 'epochs': 352, 'shared_hidden': 121, 'outcome_hidden': 169}\n"
     ]
    },
    {
     "name": "stderr",
     "output_type": "stream",
     "text": [
      "2025-04-26 10:03:45.547307: E tensorflow/core/framework/node_def_util.cc:676] NodeDef mentions attribute use_unbounded_threadpool which is not in the op definition: Op<name=MapDataset; signature=input_dataset:variant, other_arguments: -> handle:variant; attr=f:func; attr=Targuments:list(type),min=0; attr=output_types:list(type),min=1; attr=output_shapes:list(shape),min=1; attr=use_inter_op_parallelism:bool,default=true; attr=preserve_cardinality:bool,default=false; attr=force_synchronous:bool,default=false; attr=metadata:string,default=\"\"> This may be expected if your graph generating binary is newer  than this binary. Unknown attributes will be ignored. NodeDef: {{node ParallelMapDatasetV2/_14}}\n",
      "2025-04-26 10:03:45.547611: E tensorflow/core/framework/node_def_util.cc:676] NodeDef mentions attribute use_unbounded_threadpool which is not in the op definition: Op<name=MapDataset; signature=input_dataset:variant, other_arguments: -> handle:variant; attr=f:func; attr=Targuments:list(type),min=0; attr=output_types:list(type),min=1; attr=output_shapes:list(shape),min=1; attr=use_inter_op_parallelism:bool,default=true; attr=preserve_cardinality:bool,default=false; attr=force_synchronous:bool,default=false; attr=metadata:string,default=\"\"> This may be expected if your graph generating binary is newer  than this binary. Unknown attributes will be ignored. NodeDef: {{node ParallelMapDatasetV2/_14}}\n",
      "2025-04-26 10:03:51.101768: E tensorflow/core/framework/node_def_util.cc:676] NodeDef mentions attribute use_unbounded_threadpool which is not in the op definition: Op<name=MapDataset; signature=input_dataset:variant, other_arguments: -> handle:variant; attr=f:func; attr=Targuments:list(type),min=0; attr=output_types:list(type),min=1; attr=output_shapes:list(shape),min=1; attr=use_inter_op_parallelism:bool,default=true; attr=preserve_cardinality:bool,default=false; attr=force_synchronous:bool,default=false; attr=metadata:string,default=\"\"> This may be expected if your graph generating binary is newer  than this binary. Unknown attributes will be ignored. NodeDef: {{node ParallelMapDatasetV2/_14}}\n",
      "2025-04-26 10:03:51.102040: E tensorflow/core/framework/node_def_util.cc:676] NodeDef mentions attribute use_unbounded_threadpool which is not in the op definition: Op<name=MapDataset; signature=input_dataset:variant, other_arguments: -> handle:variant; attr=f:func; attr=Targuments:list(type),min=0; attr=output_types:list(type),min=1; attr=output_shapes:list(shape),min=1; attr=use_inter_op_parallelism:bool,default=true; attr=preserve_cardinality:bool,default=false; attr=force_synchronous:bool,default=false; attr=metadata:string,default=\"\"> This may be expected if your graph generating binary is newer  than this binary. Unknown attributes will be ignored. NodeDef: {{node ParallelMapDatasetV2/_14}}\n",
      "  3%|▎         | 1/30 [16:07<7:47:30, 967.25s/it]"
     ]
    },
    {
     "name": "stdout",
     "output_type": "stream",
     "text": [
      "The average treatment effect (ATE) is 1.6511091\n",
      "Epoch 1: loss 2.4975,\tloss_y 1.7502, 1.7626, 0.0248,\tloss_eta 0.7473, 0.7931, 0.0917\n",
      "Warning: covariate dimension does not aligned with the specified input dimension; filling in the remaining dimension with noise.\n",
      "Warning: covariate dimension does not aligned with the specified input dimension; filling in the remaining dimension with noise.\n"
     ]
    },
    {
     "name": "stderr",
     "output_type": "stream",
     "text": [
      "INFO \t Training with 11 minibatches per epoch\n",
      "INFO \t Evaluating 1 minibatches\n",
      "2025-04-26 10:05:36.122927: E tensorflow/core/framework/node_def_util.cc:676] NodeDef mentions attribute use_unbounded_threadpool which is not in the op definition: Op<name=MapDataset; signature=input_dataset:variant, other_arguments: -> handle:variant; attr=f:func; attr=Targuments:list(type),min=0; attr=output_types:list(type),min=1; attr=output_shapes:list(shape),min=1; attr=use_inter_op_parallelism:bool,default=true; attr=preserve_cardinality:bool,default=false; attr=force_synchronous:bool,default=false; attr=metadata:string,default=\"\"> This may be expected if your graph generating binary is newer  than this binary. Unknown attributes will be ignored. NodeDef: {{node ParallelMapDatasetV2/_14}}\n",
      "2025-04-26 10:05:36.123224: E tensorflow/core/framework/node_def_util.cc:676] NodeDef mentions attribute use_unbounded_threadpool which is not in the op definition: Op<name=MapDataset; signature=input_dataset:variant, other_arguments: -> handle:variant; attr=f:func; attr=Targuments:list(type),min=0; attr=output_types:list(type),min=1; attr=output_shapes:list(shape),min=1; attr=use_inter_op_parallelism:bool,default=true; attr=preserve_cardinality:bool,default=false; attr=force_synchronous:bool,default=false; attr=metadata:string,default=\"\"> This may be expected if your graph generating binary is newer  than this binary. Unknown attributes will be ignored. NodeDef: {{node ParallelMapDatasetV2/_14}}\n",
      "2025-04-26 10:05:41.632968: E tensorflow/core/framework/node_def_util.cc:676] NodeDef mentions attribute use_unbounded_threadpool which is not in the op definition: Op<name=MapDataset; signature=input_dataset:variant, other_arguments: -> handle:variant; attr=f:func; attr=Targuments:list(type),min=0; attr=output_types:list(type),min=1; attr=output_shapes:list(shape),min=1; attr=use_inter_op_parallelism:bool,default=true; attr=preserve_cardinality:bool,default=false; attr=force_synchronous:bool,default=false; attr=metadata:string,default=\"\"> This may be expected if your graph generating binary is newer  than this binary. Unknown attributes will be ignored. NodeDef: {{node ParallelMapDatasetV2/_14}}\n",
      "2025-04-26 10:05:41.633256: E tensorflow/core/framework/node_def_util.cc:676] NodeDef mentions attribute use_unbounded_threadpool which is not in the op definition: Op<name=MapDataset; signature=input_dataset:variant, other_arguments: -> handle:variant; attr=f:func; attr=Targuments:list(type),min=0; attr=output_types:list(type),min=1; attr=output_shapes:list(shape),min=1; attr=use_inter_op_parallelism:bool,default=true; attr=preserve_cardinality:bool,default=false; attr=force_synchronous:bool,default=false; attr=metadata:string,default=\"\"> This may be expected if your graph generating binary is newer  than this binary. Unknown attributes will be ignored. NodeDef: {{node ParallelMapDatasetV2/_14}}\n",
      "  7%|▋         | 2/30 [17:57<3:36:12, 463.30s/it]"
     ]
    },
    {
     "name": "stdout",
     "output_type": "stream",
     "text": [
      "The average treatment effect (ATE) is 1.770556\n",
      "Epoch 1: loss 2.3519,\tloss_y 1.6056, 1.6704, 0.1298,\tloss_eta 0.7463, 0.7863, 0.0799\n",
      "Warning: covariate dimension does not aligned with the specified input dimension; filling in the remaining dimension with noise.\n",
      "Warning: covariate dimension does not aligned with the specified input dimension; filling in the remaining dimension with noise.\n"
     ]
    },
    {
     "name": "stderr",
     "output_type": "stream",
     "text": [
      "INFO \t Training with 11 minibatches per epoch\n",
      "INFO \t Evaluating 1 minibatches\n",
      "2025-04-26 10:07:30.281495: E tensorflow/core/framework/node_def_util.cc:676] NodeDef mentions attribute use_unbounded_threadpool which is not in the op definition: Op<name=MapDataset; signature=input_dataset:variant, other_arguments: -> handle:variant; attr=f:func; attr=Targuments:list(type),min=0; attr=output_types:list(type),min=1; attr=output_shapes:list(shape),min=1; attr=use_inter_op_parallelism:bool,default=true; attr=preserve_cardinality:bool,default=false; attr=force_synchronous:bool,default=false; attr=metadata:string,default=\"\"> This may be expected if your graph generating binary is newer  than this binary. Unknown attributes will be ignored. NodeDef: {{node ParallelMapDatasetV2/_14}}\n",
      "2025-04-26 10:07:30.281796: E tensorflow/core/framework/node_def_util.cc:676] NodeDef mentions attribute use_unbounded_threadpool which is not in the op definition: Op<name=MapDataset; signature=input_dataset:variant, other_arguments: -> handle:variant; attr=f:func; attr=Targuments:list(type),min=0; attr=output_types:list(type),min=1; attr=output_shapes:list(shape),min=1; attr=use_inter_op_parallelism:bool,default=true; attr=preserve_cardinality:bool,default=false; attr=force_synchronous:bool,default=false; attr=metadata:string,default=\"\"> This may be expected if your graph generating binary is newer  than this binary. Unknown attributes will be ignored. NodeDef: {{node ParallelMapDatasetV2/_14}}\n",
      "2025-04-26 10:07:35.814240: E tensorflow/core/framework/node_def_util.cc:676] NodeDef mentions attribute use_unbounded_threadpool which is not in the op definition: Op<name=MapDataset; signature=input_dataset:variant, other_arguments: -> handle:variant; attr=f:func; attr=Targuments:list(type),min=0; attr=output_types:list(type),min=1; attr=output_shapes:list(shape),min=1; attr=use_inter_op_parallelism:bool,default=true; attr=preserve_cardinality:bool,default=false; attr=force_synchronous:bool,default=false; attr=metadata:string,default=\"\"> This may be expected if your graph generating binary is newer  than this binary. Unknown attributes will be ignored. NodeDef: {{node ParallelMapDatasetV2/_14}}\n",
      "2025-04-26 10:07:35.814529: E tensorflow/core/framework/node_def_util.cc:676] NodeDef mentions attribute use_unbounded_threadpool which is not in the op definition: Op<name=MapDataset; signature=input_dataset:variant, other_arguments: -> handle:variant; attr=f:func; attr=Targuments:list(type),min=0; attr=output_types:list(type),min=1; attr=output_shapes:list(shape),min=1; attr=use_inter_op_parallelism:bool,default=true; attr=preserve_cardinality:bool,default=false; attr=force_synchronous:bool,default=false; attr=metadata:string,default=\"\"> This may be expected if your graph generating binary is newer  than this binary. Unknown attributes will be ignored. NodeDef: {{node ParallelMapDatasetV2/_14}}\n",
      " 10%|█         | 3/30 [19:51<2:16:44, 303.88s/it]"
     ]
    },
    {
     "name": "stdout",
     "output_type": "stream",
     "text": [
      "The average treatment effect (ATE) is 1.7946063\n",
      "Epoch 1: loss 2.4773,\tloss_y 1.7492, 1.7574, 0.0166,\tloss_eta 0.7281, 0.7687, 0.0811\n",
      "Warning: covariate dimension does not aligned with the specified input dimension; filling in the remaining dimension with noise.\n",
      "Warning: covariate dimension does not aligned with the specified input dimension; filling in the remaining dimension with noise.\n"
     ]
    },
    {
     "name": "stderr",
     "output_type": "stream",
     "text": [
      "INFO \t Training with 11 minibatches per epoch\n",
      "INFO \t Evaluating 1 minibatches\n",
      "2025-04-26 10:09:21.876631: E tensorflow/core/framework/node_def_util.cc:676] NodeDef mentions attribute use_unbounded_threadpool which is not in the op definition: Op<name=MapDataset; signature=input_dataset:variant, other_arguments: -> handle:variant; attr=f:func; attr=Targuments:list(type),min=0; attr=output_types:list(type),min=1; attr=output_shapes:list(shape),min=1; attr=use_inter_op_parallelism:bool,default=true; attr=preserve_cardinality:bool,default=false; attr=force_synchronous:bool,default=false; attr=metadata:string,default=\"\"> This may be expected if your graph generating binary is newer  than this binary. Unknown attributes will be ignored. NodeDef: {{node ParallelMapDatasetV2/_14}}\n",
      "2025-04-26 10:09:21.876946: E tensorflow/core/framework/node_def_util.cc:676] NodeDef mentions attribute use_unbounded_threadpool which is not in the op definition: Op<name=MapDataset; signature=input_dataset:variant, other_arguments: -> handle:variant; attr=f:func; attr=Targuments:list(type),min=0; attr=output_types:list(type),min=1; attr=output_shapes:list(shape),min=1; attr=use_inter_op_parallelism:bool,default=true; attr=preserve_cardinality:bool,default=false; attr=force_synchronous:bool,default=false; attr=metadata:string,default=\"\"> This may be expected if your graph generating binary is newer  than this binary. Unknown attributes will be ignored. NodeDef: {{node ParallelMapDatasetV2/_14}}\n",
      "2025-04-26 10:09:27.450107: E tensorflow/core/framework/node_def_util.cc:676] NodeDef mentions attribute use_unbounded_threadpool which is not in the op definition: Op<name=MapDataset; signature=input_dataset:variant, other_arguments: -> handle:variant; attr=f:func; attr=Targuments:list(type),min=0; attr=output_types:list(type),min=1; attr=output_shapes:list(shape),min=1; attr=use_inter_op_parallelism:bool,default=true; attr=preserve_cardinality:bool,default=false; attr=force_synchronous:bool,default=false; attr=metadata:string,default=\"\"> This may be expected if your graph generating binary is newer  than this binary. Unknown attributes will be ignored. NodeDef: {{node ParallelMapDatasetV2/_14}}\n",
      "2025-04-26 10:09:27.450418: E tensorflow/core/framework/node_def_util.cc:676] NodeDef mentions attribute use_unbounded_threadpool which is not in the op definition: Op<name=MapDataset; signature=input_dataset:variant, other_arguments: -> handle:variant; attr=f:func; attr=Targuments:list(type),min=0; attr=output_types:list(type),min=1; attr=output_shapes:list(shape),min=1; attr=use_inter_op_parallelism:bool,default=true; attr=preserve_cardinality:bool,default=false; attr=force_synchronous:bool,default=false; attr=metadata:string,default=\"\"> This may be expected if your graph generating binary is newer  than this binary. Unknown attributes will be ignored. NodeDef: {{node ParallelMapDatasetV2/_14}}\n",
      " 13%|█▎        | 4/30 [21:43<1:38:47, 227.99s/it]"
     ]
    },
    {
     "name": "stdout",
     "output_type": "stream",
     "text": [
      "The average treatment effect (ATE) is 1.4952537\n",
      "Epoch 1: loss 2.4793,\tloss_y 1.7268, 1.7362, 0.0189,\tloss_eta 0.7525, 0.7915, 0.0779\n",
      "Warning: covariate dimension does not aligned with the specified input dimension; filling in the remaining dimension with noise.\n",
      "Warning: covariate dimension does not aligned with the specified input dimension; filling in the remaining dimension with noise.\n"
     ]
    },
    {
     "name": "stderr",
     "output_type": "stream",
     "text": [
      "INFO \t Training with 11 minibatches per epoch\n",
      "INFO \t Evaluating 1 minibatches\n",
      "2025-04-26 10:11:18.181144: E tensorflow/core/framework/node_def_util.cc:676] NodeDef mentions attribute use_unbounded_threadpool which is not in the op definition: Op<name=MapDataset; signature=input_dataset:variant, other_arguments: -> handle:variant; attr=f:func; attr=Targuments:list(type),min=0; attr=output_types:list(type),min=1; attr=output_shapes:list(shape),min=1; attr=use_inter_op_parallelism:bool,default=true; attr=preserve_cardinality:bool,default=false; attr=force_synchronous:bool,default=false; attr=metadata:string,default=\"\"> This may be expected if your graph generating binary is newer  than this binary. Unknown attributes will be ignored. NodeDef: {{node ParallelMapDatasetV2/_14}}\n",
      "2025-04-26 10:11:18.181454: E tensorflow/core/framework/node_def_util.cc:676] NodeDef mentions attribute use_unbounded_threadpool which is not in the op definition: Op<name=MapDataset; signature=input_dataset:variant, other_arguments: -> handle:variant; attr=f:func; attr=Targuments:list(type),min=0; attr=output_types:list(type),min=1; attr=output_shapes:list(shape),min=1; attr=use_inter_op_parallelism:bool,default=true; attr=preserve_cardinality:bool,default=false; attr=force_synchronous:bool,default=false; attr=metadata:string,default=\"\"> This may be expected if your graph generating binary is newer  than this binary. Unknown attributes will be ignored. NodeDef: {{node ParallelMapDatasetV2/_14}}\n",
      "2025-04-26 10:11:23.874984: E tensorflow/core/framework/node_def_util.cc:676] NodeDef mentions attribute use_unbounded_threadpool which is not in the op definition: Op<name=MapDataset; signature=input_dataset:variant, other_arguments: -> handle:variant; attr=f:func; attr=Targuments:list(type),min=0; attr=output_types:list(type),min=1; attr=output_shapes:list(shape),min=1; attr=use_inter_op_parallelism:bool,default=true; attr=preserve_cardinality:bool,default=false; attr=force_synchronous:bool,default=false; attr=metadata:string,default=\"\"> This may be expected if your graph generating binary is newer  than this binary. Unknown attributes will be ignored. NodeDef: {{node ParallelMapDatasetV2/_14}}\n",
      "2025-04-26 10:11:23.875249: E tensorflow/core/framework/node_def_util.cc:676] NodeDef mentions attribute use_unbounded_threadpool which is not in the op definition: Op<name=MapDataset; signature=input_dataset:variant, other_arguments: -> handle:variant; attr=f:func; attr=Targuments:list(type),min=0; attr=output_types:list(type),min=1; attr=output_shapes:list(shape),min=1; attr=use_inter_op_parallelism:bool,default=true; attr=preserve_cardinality:bool,default=false; attr=force_synchronous:bool,default=false; attr=metadata:string,default=\"\"> This may be expected if your graph generating binary is newer  than this binary. Unknown attributes will be ignored. NodeDef: {{node ParallelMapDatasetV2/_14}}\n",
      " 17%|█▋        | 5/30 [23:40<1:18:13, 187.76s/it]"
     ]
    },
    {
     "name": "stdout",
     "output_type": "stream",
     "text": [
      "The average treatment effect (ATE) is 1.6499352\n",
      "Epoch 1: loss 2.4202,\tloss_y 1.6433, 1.6753, 0.0639,\tloss_eta 0.7769, 0.8083, 0.0628\n",
      "Warning: covariate dimension does not aligned with the specified input dimension; filling in the remaining dimension with noise.\n",
      "Warning: covariate dimension does not aligned with the specified input dimension; filling in the remaining dimension with noise.\n"
     ]
    },
    {
     "name": "stderr",
     "output_type": "stream",
     "text": [
      "INFO \t Training with 11 minibatches per epoch\n",
      "INFO \t Evaluating 1 minibatches\n",
      "2025-04-26 10:13:11.550117: E tensorflow/core/framework/node_def_util.cc:676] NodeDef mentions attribute use_unbounded_threadpool which is not in the op definition: Op<name=MapDataset; signature=input_dataset:variant, other_arguments: -> handle:variant; attr=f:func; attr=Targuments:list(type),min=0; attr=output_types:list(type),min=1; attr=output_shapes:list(shape),min=1; attr=use_inter_op_parallelism:bool,default=true; attr=preserve_cardinality:bool,default=false; attr=force_synchronous:bool,default=false; attr=metadata:string,default=\"\"> This may be expected if your graph generating binary is newer  than this binary. Unknown attributes will be ignored. NodeDef: {{node ParallelMapDatasetV2/_14}}\n",
      "2025-04-26 10:13:11.550403: E tensorflow/core/framework/node_def_util.cc:676] NodeDef mentions attribute use_unbounded_threadpool which is not in the op definition: Op<name=MapDataset; signature=input_dataset:variant, other_arguments: -> handle:variant; attr=f:func; attr=Targuments:list(type),min=0; attr=output_types:list(type),min=1; attr=output_shapes:list(shape),min=1; attr=use_inter_op_parallelism:bool,default=true; attr=preserve_cardinality:bool,default=false; attr=force_synchronous:bool,default=false; attr=metadata:string,default=\"\"> This may be expected if your graph generating binary is newer  than this binary. Unknown attributes will be ignored. NodeDef: {{node ParallelMapDatasetV2/_14}}\n",
      "2025-04-26 10:13:17.167897: E tensorflow/core/framework/node_def_util.cc:676] NodeDef mentions attribute use_unbounded_threadpool which is not in the op definition: Op<name=MapDataset; signature=input_dataset:variant, other_arguments: -> handle:variant; attr=f:func; attr=Targuments:list(type),min=0; attr=output_types:list(type),min=1; attr=output_shapes:list(shape),min=1; attr=use_inter_op_parallelism:bool,default=true; attr=preserve_cardinality:bool,default=false; attr=force_synchronous:bool,default=false; attr=metadata:string,default=\"\"> This may be expected if your graph generating binary is newer  than this binary. Unknown attributes will be ignored. NodeDef: {{node ParallelMapDatasetV2/_14}}\n",
      "2025-04-26 10:13:17.168223: E tensorflow/core/framework/node_def_util.cc:676] NodeDef mentions attribute use_unbounded_threadpool which is not in the op definition: Op<name=MapDataset; signature=input_dataset:variant, other_arguments: -> handle:variant; attr=f:func; attr=Targuments:list(type),min=0; attr=output_types:list(type),min=1; attr=output_shapes:list(shape),min=1; attr=use_inter_op_parallelism:bool,default=true; attr=preserve_cardinality:bool,default=false; attr=force_synchronous:bool,default=false; attr=metadata:string,default=\"\"> This may be expected if your graph generating binary is newer  than this binary. Unknown attributes will be ignored. NodeDef: {{node ParallelMapDatasetV2/_14}}\n",
      " 20%|██        | 6/30 [25:33<1:04:58, 162.44s/it]"
     ]
    },
    {
     "name": "stdout",
     "output_type": "stream",
     "text": [
      "The average treatment effect (ATE) is 1.7951267\n",
      "Epoch 1: loss 2.4653,\tloss_y 1.6910, 1.7205, 0.0589,\tloss_eta 0.7743, 0.8131, 0.0776\n",
      "Warning: covariate dimension does not aligned with the specified input dimension; filling in the remaining dimension with noise.\n",
      "Warning: covariate dimension does not aligned with the specified input dimension; filling in the remaining dimension with noise.\n"
     ]
    },
    {
     "name": "stderr",
     "output_type": "stream",
     "text": [
      "INFO \t Training with 11 minibatches per epoch\n",
      "INFO \t Evaluating 1 minibatches\n",
      "2025-04-26 10:15:05.639901: E tensorflow/core/framework/node_def_util.cc:676] NodeDef mentions attribute use_unbounded_threadpool which is not in the op definition: Op<name=MapDataset; signature=input_dataset:variant, other_arguments: -> handle:variant; attr=f:func; attr=Targuments:list(type),min=0; attr=output_types:list(type),min=1; attr=output_shapes:list(shape),min=1; attr=use_inter_op_parallelism:bool,default=true; attr=preserve_cardinality:bool,default=false; attr=force_synchronous:bool,default=false; attr=metadata:string,default=\"\"> This may be expected if your graph generating binary is newer  than this binary. Unknown attributes will be ignored. NodeDef: {{node ParallelMapDatasetV2/_14}}\n",
      "2025-04-26 10:15:05.640190: E tensorflow/core/framework/node_def_util.cc:676] NodeDef mentions attribute use_unbounded_threadpool which is not in the op definition: Op<name=MapDataset; signature=input_dataset:variant, other_arguments: -> handle:variant; attr=f:func; attr=Targuments:list(type),min=0; attr=output_types:list(type),min=1; attr=output_shapes:list(shape),min=1; attr=use_inter_op_parallelism:bool,default=true; attr=preserve_cardinality:bool,default=false; attr=force_synchronous:bool,default=false; attr=metadata:string,default=\"\"> This may be expected if your graph generating binary is newer  than this binary. Unknown attributes will be ignored. NodeDef: {{node ParallelMapDatasetV2/_14}}\n",
      "2025-04-26 10:15:11.209387: E tensorflow/core/framework/node_def_util.cc:676] NodeDef mentions attribute use_unbounded_threadpool which is not in the op definition: Op<name=MapDataset; signature=input_dataset:variant, other_arguments: -> handle:variant; attr=f:func; attr=Targuments:list(type),min=0; attr=output_types:list(type),min=1; attr=output_shapes:list(shape),min=1; attr=use_inter_op_parallelism:bool,default=true; attr=preserve_cardinality:bool,default=false; attr=force_synchronous:bool,default=false; attr=metadata:string,default=\"\"> This may be expected if your graph generating binary is newer  than this binary. Unknown attributes will be ignored. NodeDef: {{node ParallelMapDatasetV2/_14}}\n",
      "2025-04-26 10:15:11.209742: E tensorflow/core/framework/node_def_util.cc:676] NodeDef mentions attribute use_unbounded_threadpool which is not in the op definition: Op<name=MapDataset; signature=input_dataset:variant, other_arguments: -> handle:variant; attr=f:func; attr=Targuments:list(type),min=0; attr=output_types:list(type),min=1; attr=output_shapes:list(shape),min=1; attr=use_inter_op_parallelism:bool,default=true; attr=preserve_cardinality:bool,default=false; attr=force_synchronous:bool,default=false; attr=metadata:string,default=\"\"> This may be expected if your graph generating binary is newer  than this binary. Unknown attributes will be ignored. NodeDef: {{node ParallelMapDatasetV2/_14}}\n",
      " 23%|██▎       | 7/30 [27:27<56:12, 146.62s/it]  "
     ]
    },
    {
     "name": "stdout",
     "output_type": "stream",
     "text": [
      "The average treatment effect (ATE) is 1.6460981\n",
      "Epoch 1: loss 2.4527,\tloss_y 1.6579, 1.6709, 0.0259,\tloss_eta 0.7948, 0.8345, 0.0794\n",
      "Warning: covariate dimension does not aligned with the specified input dimension; filling in the remaining dimension with noise.\n",
      "Warning: covariate dimension does not aligned with the specified input dimension; filling in the remaining dimension with noise.\n"
     ]
    },
    {
     "name": "stderr",
     "output_type": "stream",
     "text": [
      "INFO \t Training with 11 minibatches per epoch\n",
      "INFO \t Evaluating 1 minibatches\n",
      "2025-04-26 10:16:57.751916: E tensorflow/core/framework/node_def_util.cc:676] NodeDef mentions attribute use_unbounded_threadpool which is not in the op definition: Op<name=MapDataset; signature=input_dataset:variant, other_arguments: -> handle:variant; attr=f:func; attr=Targuments:list(type),min=0; attr=output_types:list(type),min=1; attr=output_shapes:list(shape),min=1; attr=use_inter_op_parallelism:bool,default=true; attr=preserve_cardinality:bool,default=false; attr=force_synchronous:bool,default=false; attr=metadata:string,default=\"\"> This may be expected if your graph generating binary is newer  than this binary. Unknown attributes will be ignored. NodeDef: {{node ParallelMapDatasetV2/_14}}\n",
      "2025-04-26 10:16:57.752204: E tensorflow/core/framework/node_def_util.cc:676] NodeDef mentions attribute use_unbounded_threadpool which is not in the op definition: Op<name=MapDataset; signature=input_dataset:variant, other_arguments: -> handle:variant; attr=f:func; attr=Targuments:list(type),min=0; attr=output_types:list(type),min=1; attr=output_shapes:list(shape),min=1; attr=use_inter_op_parallelism:bool,default=true; attr=preserve_cardinality:bool,default=false; attr=force_synchronous:bool,default=false; attr=metadata:string,default=\"\"> This may be expected if your graph generating binary is newer  than this binary. Unknown attributes will be ignored. NodeDef: {{node ParallelMapDatasetV2/_14}}\n",
      "2025-04-26 10:17:03.302937: E tensorflow/core/framework/node_def_util.cc:676] NodeDef mentions attribute use_unbounded_threadpool which is not in the op definition: Op<name=MapDataset; signature=input_dataset:variant, other_arguments: -> handle:variant; attr=f:func; attr=Targuments:list(type),min=0; attr=output_types:list(type),min=1; attr=output_shapes:list(shape),min=1; attr=use_inter_op_parallelism:bool,default=true; attr=preserve_cardinality:bool,default=false; attr=force_synchronous:bool,default=false; attr=metadata:string,default=\"\"> This may be expected if your graph generating binary is newer  than this binary. Unknown attributes will be ignored. NodeDef: {{node ParallelMapDatasetV2/_14}}\n",
      "2025-04-26 10:17:03.303197: E tensorflow/core/framework/node_def_util.cc:676] NodeDef mentions attribute use_unbounded_threadpool which is not in the op definition: Op<name=MapDataset; signature=input_dataset:variant, other_arguments: -> handle:variant; attr=f:func; attr=Targuments:list(type),min=0; attr=output_types:list(type),min=1; attr=output_shapes:list(shape),min=1; attr=use_inter_op_parallelism:bool,default=true; attr=preserve_cardinality:bool,default=false; attr=force_synchronous:bool,default=false; attr=metadata:string,default=\"\"> This may be expected if your graph generating binary is newer  than this binary. Unknown attributes will be ignored. NodeDef: {{node ParallelMapDatasetV2/_14}}\n",
      " 27%|██▋       | 8/30 [29:19<49:43, 135.63s/it]"
     ]
    },
    {
     "name": "stdout",
     "output_type": "stream",
     "text": [
      "The average treatment effect (ATE) is 1.6931926\n",
      "Epoch 1: loss 2.4554,\tloss_y 1.7065, 1.7233, 0.0337,\tloss_eta 0.7489, 0.7825, 0.0672\n",
      "Warning: covariate dimension does not aligned with the specified input dimension; filling in the remaining dimension with noise.\n",
      "Warning: covariate dimension does not aligned with the specified input dimension; filling in the remaining dimension with noise.\n"
     ]
    },
    {
     "name": "stderr",
     "output_type": "stream",
     "text": [
      "INFO \t Training with 11 minibatches per epoch\n",
      "INFO \t Evaluating 1 minibatches\n",
      "2025-04-26 10:18:50.626711: E tensorflow/core/framework/node_def_util.cc:676] NodeDef mentions attribute use_unbounded_threadpool which is not in the op definition: Op<name=MapDataset; signature=input_dataset:variant, other_arguments: -> handle:variant; attr=f:func; attr=Targuments:list(type),min=0; attr=output_types:list(type),min=1; attr=output_shapes:list(shape),min=1; attr=use_inter_op_parallelism:bool,default=true; attr=preserve_cardinality:bool,default=false; attr=force_synchronous:bool,default=false; attr=metadata:string,default=\"\"> This may be expected if your graph generating binary is newer  than this binary. Unknown attributes will be ignored. NodeDef: {{node ParallelMapDatasetV2/_14}}\n",
      "2025-04-26 10:18:50.627007: E tensorflow/core/framework/node_def_util.cc:676] NodeDef mentions attribute use_unbounded_threadpool which is not in the op definition: Op<name=MapDataset; signature=input_dataset:variant, other_arguments: -> handle:variant; attr=f:func; attr=Targuments:list(type),min=0; attr=output_types:list(type),min=1; attr=output_shapes:list(shape),min=1; attr=use_inter_op_parallelism:bool,default=true; attr=preserve_cardinality:bool,default=false; attr=force_synchronous:bool,default=false; attr=metadata:string,default=\"\"> This may be expected if your graph generating binary is newer  than this binary. Unknown attributes will be ignored. NodeDef: {{node ParallelMapDatasetV2/_14}}\n",
      "2025-04-26 10:18:56.224234: E tensorflow/core/framework/node_def_util.cc:676] NodeDef mentions attribute use_unbounded_threadpool which is not in the op definition: Op<name=MapDataset; signature=input_dataset:variant, other_arguments: -> handle:variant; attr=f:func; attr=Targuments:list(type),min=0; attr=output_types:list(type),min=1; attr=output_shapes:list(shape),min=1; attr=use_inter_op_parallelism:bool,default=true; attr=preserve_cardinality:bool,default=false; attr=force_synchronous:bool,default=false; attr=metadata:string,default=\"\"> This may be expected if your graph generating binary is newer  than this binary. Unknown attributes will be ignored. NodeDef: {{node ParallelMapDatasetV2/_14}}\n",
      "2025-04-26 10:18:56.224614: E tensorflow/core/framework/node_def_util.cc:676] NodeDef mentions attribute use_unbounded_threadpool which is not in the op definition: Op<name=MapDataset; signature=input_dataset:variant, other_arguments: -> handle:variant; attr=f:func; attr=Targuments:list(type),min=0; attr=output_types:list(type),min=1; attr=output_shapes:list(shape),min=1; attr=use_inter_op_parallelism:bool,default=true; attr=preserve_cardinality:bool,default=false; attr=force_synchronous:bool,default=false; attr=metadata:string,default=\"\"> This may be expected if your graph generating binary is newer  than this binary. Unknown attributes will be ignored. NodeDef: {{node ParallelMapDatasetV2/_14}}\n",
      " 30%|███       | 9/30 [31:12<44:59, 128.53s/it]"
     ]
    },
    {
     "name": "stdout",
     "output_type": "stream",
     "text": [
      "The average treatment effect (ATE) is 1.5492243\n",
      "Epoch 1: loss 2.4556,\tloss_y 1.6802, 1.7052, 0.0501,\tloss_eta 0.7754, 0.8130, 0.0752\n",
      "Warning: covariate dimension does not aligned with the specified input dimension; filling in the remaining dimension with noise.\n",
      "Warning: covariate dimension does not aligned with the specified input dimension; filling in the remaining dimension with noise.\n"
     ]
    },
    {
     "name": "stderr",
     "output_type": "stream",
     "text": [
      "INFO \t Training with 11 minibatches per epoch\n",
      "INFO \t Evaluating 1 minibatches\n",
      "2025-04-26 10:20:48.336991: E tensorflow/core/framework/node_def_util.cc:676] NodeDef mentions attribute use_unbounded_threadpool which is not in the op definition: Op<name=MapDataset; signature=input_dataset:variant, other_arguments: -> handle:variant; attr=f:func; attr=Targuments:list(type),min=0; attr=output_types:list(type),min=1; attr=output_shapes:list(shape),min=1; attr=use_inter_op_parallelism:bool,default=true; attr=preserve_cardinality:bool,default=false; attr=force_synchronous:bool,default=false; attr=metadata:string,default=\"\"> This may be expected if your graph generating binary is newer  than this binary. Unknown attributes will be ignored. NodeDef: {{node ParallelMapDatasetV2/_14}}\n",
      "2025-04-26 10:20:48.337283: E tensorflow/core/framework/node_def_util.cc:676] NodeDef mentions attribute use_unbounded_threadpool which is not in the op definition: Op<name=MapDataset; signature=input_dataset:variant, other_arguments: -> handle:variant; attr=f:func; attr=Targuments:list(type),min=0; attr=output_types:list(type),min=1; attr=output_shapes:list(shape),min=1; attr=use_inter_op_parallelism:bool,default=true; attr=preserve_cardinality:bool,default=false; attr=force_synchronous:bool,default=false; attr=metadata:string,default=\"\"> This may be expected if your graph generating binary is newer  than this binary. Unknown attributes will be ignored. NodeDef: {{node ParallelMapDatasetV2/_14}}\n",
      "2025-04-26 10:20:53.976644: E tensorflow/core/framework/node_def_util.cc:676] NodeDef mentions attribute use_unbounded_threadpool which is not in the op definition: Op<name=MapDataset; signature=input_dataset:variant, other_arguments: -> handle:variant; attr=f:func; attr=Targuments:list(type),min=0; attr=output_types:list(type),min=1; attr=output_shapes:list(shape),min=1; attr=use_inter_op_parallelism:bool,default=true; attr=preserve_cardinality:bool,default=false; attr=force_synchronous:bool,default=false; attr=metadata:string,default=\"\"> This may be expected if your graph generating binary is newer  than this binary. Unknown attributes will be ignored. NodeDef: {{node ParallelMapDatasetV2/_14}}\n",
      "2025-04-26 10:20:53.976941: E tensorflow/core/framework/node_def_util.cc:676] NodeDef mentions attribute use_unbounded_threadpool which is not in the op definition: Op<name=MapDataset; signature=input_dataset:variant, other_arguments: -> handle:variant; attr=f:func; attr=Targuments:list(type),min=0; attr=output_types:list(type),min=1; attr=output_shapes:list(shape),min=1; attr=use_inter_op_parallelism:bool,default=true; attr=preserve_cardinality:bool,default=false; attr=force_synchronous:bool,default=false; attr=metadata:string,default=\"\"> This may be expected if your graph generating binary is newer  than this binary. Unknown attributes will be ignored. NodeDef: {{node ParallelMapDatasetV2/_14}}\n",
      " 33%|███▎      | 10/30 [33:10<41:44, 125.20s/it]"
     ]
    },
    {
     "name": "stdout",
     "output_type": "stream",
     "text": [
      "The average treatment effect (ATE) is 1.6407452\n",
      "Epoch 1: loss 2.4156,\tloss_y 1.6282, 1.6435, 0.0307,\tloss_eta 0.7875, 0.8237, 0.0725\n",
      "Warning: covariate dimension does not aligned with the specified input dimension; filling in the remaining dimension with noise.\n",
      "Warning: covariate dimension does not aligned with the specified input dimension; filling in the remaining dimension with noise.\n"
     ]
    },
    {
     "name": "stderr",
     "output_type": "stream",
     "text": [
      "INFO \t Training with 11 minibatches per epoch\n",
      "INFO \t Evaluating 1 minibatches\n",
      "2025-04-26 10:22:41.961286: E tensorflow/core/framework/node_def_util.cc:676] NodeDef mentions attribute use_unbounded_threadpool which is not in the op definition: Op<name=MapDataset; signature=input_dataset:variant, other_arguments: -> handle:variant; attr=f:func; attr=Targuments:list(type),min=0; attr=output_types:list(type),min=1; attr=output_shapes:list(shape),min=1; attr=use_inter_op_parallelism:bool,default=true; attr=preserve_cardinality:bool,default=false; attr=force_synchronous:bool,default=false; attr=metadata:string,default=\"\"> This may be expected if your graph generating binary is newer  than this binary. Unknown attributes will be ignored. NodeDef: {{node ParallelMapDatasetV2/_14}}\n",
      "2025-04-26 10:22:41.961586: E tensorflow/core/framework/node_def_util.cc:676] NodeDef mentions attribute use_unbounded_threadpool which is not in the op definition: Op<name=MapDataset; signature=input_dataset:variant, other_arguments: -> handle:variant; attr=f:func; attr=Targuments:list(type),min=0; attr=output_types:list(type),min=1; attr=output_shapes:list(shape),min=1; attr=use_inter_op_parallelism:bool,default=true; attr=preserve_cardinality:bool,default=false; attr=force_synchronous:bool,default=false; attr=metadata:string,default=\"\"> This may be expected if your graph generating binary is newer  than this binary. Unknown attributes will be ignored. NodeDef: {{node ParallelMapDatasetV2/_14}}\n",
      "2025-04-26 10:22:47.554853: E tensorflow/core/framework/node_def_util.cc:676] NodeDef mentions attribute use_unbounded_threadpool which is not in the op definition: Op<name=MapDataset; signature=input_dataset:variant, other_arguments: -> handle:variant; attr=f:func; attr=Targuments:list(type),min=0; attr=output_types:list(type),min=1; attr=output_shapes:list(shape),min=1; attr=use_inter_op_parallelism:bool,default=true; attr=preserve_cardinality:bool,default=false; attr=force_synchronous:bool,default=false; attr=metadata:string,default=\"\"> This may be expected if your graph generating binary is newer  than this binary. Unknown attributes will be ignored. NodeDef: {{node ParallelMapDatasetV2/_14}}\n",
      "2025-04-26 10:22:47.555156: E tensorflow/core/framework/node_def_util.cc:676] NodeDef mentions attribute use_unbounded_threadpool which is not in the op definition: Op<name=MapDataset; signature=input_dataset:variant, other_arguments: -> handle:variant; attr=f:func; attr=Targuments:list(type),min=0; attr=output_types:list(type),min=1; attr=output_shapes:list(shape),min=1; attr=use_inter_op_parallelism:bool,default=true; attr=preserve_cardinality:bool,default=false; attr=force_synchronous:bool,default=false; attr=metadata:string,default=\"\"> This may be expected if your graph generating binary is newer  than this binary. Unknown attributes will be ignored. NodeDef: {{node ParallelMapDatasetV2/_14}}\n",
      " 37%|███▋      | 11/30 [35:03<38:31, 121.64s/it]"
     ]
    },
    {
     "name": "stdout",
     "output_type": "stream",
     "text": [
      "The average treatment effect (ATE) is 1.7140601\n",
      "Epoch 1: loss 2.5497,\tloss_y 1.8154, 1.8234, 0.0159,\tloss_eta 0.7343, 0.7730, 0.0774\n",
      "Warning: covariate dimension does not aligned with the specified input dimension; filling in the remaining dimension with noise.\n",
      "Warning: covariate dimension does not aligned with the specified input dimension; filling in the remaining dimension with noise.\n"
     ]
    },
    {
     "name": "stderr",
     "output_type": "stream",
     "text": [
      "INFO \t Training with 11 minibatches per epoch\n",
      "INFO \t Evaluating 1 minibatches\n",
      "2025-04-26 10:24:38.721012: E tensorflow/core/framework/node_def_util.cc:676] NodeDef mentions attribute use_unbounded_threadpool which is not in the op definition: Op<name=MapDataset; signature=input_dataset:variant, other_arguments: -> handle:variant; attr=f:func; attr=Targuments:list(type),min=0; attr=output_types:list(type),min=1; attr=output_shapes:list(shape),min=1; attr=use_inter_op_parallelism:bool,default=true; attr=preserve_cardinality:bool,default=false; attr=force_synchronous:bool,default=false; attr=metadata:string,default=\"\"> This may be expected if your graph generating binary is newer  than this binary. Unknown attributes will be ignored. NodeDef: {{node ParallelMapDatasetV2/_14}}\n",
      "2025-04-26 10:24:38.721344: E tensorflow/core/framework/node_def_util.cc:676] NodeDef mentions attribute use_unbounded_threadpool which is not in the op definition: Op<name=MapDataset; signature=input_dataset:variant, other_arguments: -> handle:variant; attr=f:func; attr=Targuments:list(type),min=0; attr=output_types:list(type),min=1; attr=output_shapes:list(shape),min=1; attr=use_inter_op_parallelism:bool,default=true; attr=preserve_cardinality:bool,default=false; attr=force_synchronous:bool,default=false; attr=metadata:string,default=\"\"> This may be expected if your graph generating binary is newer  than this binary. Unknown attributes will be ignored. NodeDef: {{node ParallelMapDatasetV2/_14}}\n",
      "2025-04-26 10:24:44.385061: E tensorflow/core/framework/node_def_util.cc:676] NodeDef mentions attribute use_unbounded_threadpool which is not in the op definition: Op<name=MapDataset; signature=input_dataset:variant, other_arguments: -> handle:variant; attr=f:func; attr=Targuments:list(type),min=0; attr=output_types:list(type),min=1; attr=output_shapes:list(shape),min=1; attr=use_inter_op_parallelism:bool,default=true; attr=preserve_cardinality:bool,default=false; attr=force_synchronous:bool,default=false; attr=metadata:string,default=\"\"> This may be expected if your graph generating binary is newer  than this binary. Unknown attributes will be ignored. NodeDef: {{node ParallelMapDatasetV2/_14}}\n",
      "2025-04-26 10:24:44.385334: E tensorflow/core/framework/node_def_util.cc:676] NodeDef mentions attribute use_unbounded_threadpool which is not in the op definition: Op<name=MapDataset; signature=input_dataset:variant, other_arguments: -> handle:variant; attr=f:func; attr=Targuments:list(type),min=0; attr=output_types:list(type),min=1; attr=output_shapes:list(shape),min=1; attr=use_inter_op_parallelism:bool,default=true; attr=preserve_cardinality:bool,default=false; attr=force_synchronous:bool,default=false; attr=metadata:string,default=\"\"> This may be expected if your graph generating binary is newer  than this binary. Unknown attributes will be ignored. NodeDef: {{node ParallelMapDatasetV2/_14}}\n",
      " 40%|████      | 12/30 [37:00<36:03, 120.18s/it]"
     ]
    },
    {
     "name": "stdout",
     "output_type": "stream",
     "text": [
      "The average treatment effect (ATE) is 1.6422946\n",
      "Epoch 1: loss 2.4942,\tloss_y 1.7246, 1.7307, 0.0123,\tloss_eta 0.7696, 0.7944, 0.0495\n",
      "Warning: covariate dimension does not aligned with the specified input dimension; filling in the remaining dimension with noise.\n",
      "Warning: covariate dimension does not aligned with the specified input dimension; filling in the remaining dimension with noise.\n"
     ]
    },
    {
     "name": "stderr",
     "output_type": "stream",
     "text": [
      "INFO \t Training with 11 minibatches per epoch\n",
      "INFO \t Evaluating 1 minibatches\n",
      "2025-04-26 10:26:32.958445: E tensorflow/core/framework/node_def_util.cc:676] NodeDef mentions attribute use_unbounded_threadpool which is not in the op definition: Op<name=MapDataset; signature=input_dataset:variant, other_arguments: -> handle:variant; attr=f:func; attr=Targuments:list(type),min=0; attr=output_types:list(type),min=1; attr=output_shapes:list(shape),min=1; attr=use_inter_op_parallelism:bool,default=true; attr=preserve_cardinality:bool,default=false; attr=force_synchronous:bool,default=false; attr=metadata:string,default=\"\"> This may be expected if your graph generating binary is newer  than this binary. Unknown attributes will be ignored. NodeDef: {{node ParallelMapDatasetV2/_14}}\n",
      "2025-04-26 10:26:32.958800: E tensorflow/core/framework/node_def_util.cc:676] NodeDef mentions attribute use_unbounded_threadpool which is not in the op definition: Op<name=MapDataset; signature=input_dataset:variant, other_arguments: -> handle:variant; attr=f:func; attr=Targuments:list(type),min=0; attr=output_types:list(type),min=1; attr=output_shapes:list(shape),min=1; attr=use_inter_op_parallelism:bool,default=true; attr=preserve_cardinality:bool,default=false; attr=force_synchronous:bool,default=false; attr=metadata:string,default=\"\"> This may be expected if your graph generating binary is newer  than this binary. Unknown attributes will be ignored. NodeDef: {{node ParallelMapDatasetV2/_14}}\n",
      "2025-04-26 10:26:38.698608: E tensorflow/core/framework/node_def_util.cc:676] NodeDef mentions attribute use_unbounded_threadpool which is not in the op definition: Op<name=MapDataset; signature=input_dataset:variant, other_arguments: -> handle:variant; attr=f:func; attr=Targuments:list(type),min=0; attr=output_types:list(type),min=1; attr=output_shapes:list(shape),min=1; attr=use_inter_op_parallelism:bool,default=true; attr=preserve_cardinality:bool,default=false; attr=force_synchronous:bool,default=false; attr=metadata:string,default=\"\"> This may be expected if your graph generating binary is newer  than this binary. Unknown attributes will be ignored. NodeDef: {{node ParallelMapDatasetV2/_14}}\n",
      "2025-04-26 10:26:38.698947: E tensorflow/core/framework/node_def_util.cc:676] NodeDef mentions attribute use_unbounded_threadpool which is not in the op definition: Op<name=MapDataset; signature=input_dataset:variant, other_arguments: -> handle:variant; attr=f:func; attr=Targuments:list(type),min=0; attr=output_types:list(type),min=1; attr=output_shapes:list(shape),min=1; attr=use_inter_op_parallelism:bool,default=true; attr=preserve_cardinality:bool,default=false; attr=force_synchronous:bool,default=false; attr=metadata:string,default=\"\"> This may be expected if your graph generating binary is newer  than this binary. Unknown attributes will be ignored. NodeDef: {{node ParallelMapDatasetV2/_14}}\n",
      " 43%|████▎     | 13/30 [38:54<33:32, 118.40s/it]"
     ]
    },
    {
     "name": "stdout",
     "output_type": "stream",
     "text": [
      "The average treatment effect (ATE) is 1.6159356\n",
      "Epoch 1: loss 2.4286,\tloss_y 1.6619, 1.6794, 0.0351,\tloss_eta 0.7667, 0.7987, 0.0640\n",
      "Warning: covariate dimension does not aligned with the specified input dimension; filling in the remaining dimension with noise.\n",
      "Warning: covariate dimension does not aligned with the specified input dimension; filling in the remaining dimension with noise.\n"
     ]
    },
    {
     "name": "stderr",
     "output_type": "stream",
     "text": [
      "INFO \t Training with 11 minibatches per epoch\n",
      "INFO \t Evaluating 1 minibatches\n",
      "2025-04-26 10:28:27.542526: E tensorflow/core/framework/node_def_util.cc:676] NodeDef mentions attribute use_unbounded_threadpool which is not in the op definition: Op<name=MapDataset; signature=input_dataset:variant, other_arguments: -> handle:variant; attr=f:func; attr=Targuments:list(type),min=0; attr=output_types:list(type),min=1; attr=output_shapes:list(shape),min=1; attr=use_inter_op_parallelism:bool,default=true; attr=preserve_cardinality:bool,default=false; attr=force_synchronous:bool,default=false; attr=metadata:string,default=\"\"> This may be expected if your graph generating binary is newer  than this binary. Unknown attributes will be ignored. NodeDef: {{node ParallelMapDatasetV2/_14}}\n",
      "2025-04-26 10:28:27.542823: E tensorflow/core/framework/node_def_util.cc:676] NodeDef mentions attribute use_unbounded_threadpool which is not in the op definition: Op<name=MapDataset; signature=input_dataset:variant, other_arguments: -> handle:variant; attr=f:func; attr=Targuments:list(type),min=0; attr=output_types:list(type),min=1; attr=output_shapes:list(shape),min=1; attr=use_inter_op_parallelism:bool,default=true; attr=preserve_cardinality:bool,default=false; attr=force_synchronous:bool,default=false; attr=metadata:string,default=\"\"> This may be expected if your graph generating binary is newer  than this binary. Unknown attributes will be ignored. NodeDef: {{node ParallelMapDatasetV2/_14}}\n",
      "2025-04-26 10:28:33.184249: E tensorflow/core/framework/node_def_util.cc:676] NodeDef mentions attribute use_unbounded_threadpool which is not in the op definition: Op<name=MapDataset; signature=input_dataset:variant, other_arguments: -> handle:variant; attr=f:func; attr=Targuments:list(type),min=0; attr=output_types:list(type),min=1; attr=output_shapes:list(shape),min=1; attr=use_inter_op_parallelism:bool,default=true; attr=preserve_cardinality:bool,default=false; attr=force_synchronous:bool,default=false; attr=metadata:string,default=\"\"> This may be expected if your graph generating binary is newer  than this binary. Unknown attributes will be ignored. NodeDef: {{node ParallelMapDatasetV2/_14}}\n",
      "2025-04-26 10:28:33.184608: E tensorflow/core/framework/node_def_util.cc:676] NodeDef mentions attribute use_unbounded_threadpool which is not in the op definition: Op<name=MapDataset; signature=input_dataset:variant, other_arguments: -> handle:variant; attr=f:func; attr=Targuments:list(type),min=0; attr=output_types:list(type),min=1; attr=output_shapes:list(shape),min=1; attr=use_inter_op_parallelism:bool,default=true; attr=preserve_cardinality:bool,default=false; attr=force_synchronous:bool,default=false; attr=metadata:string,default=\"\"> This may be expected if your graph generating binary is newer  than this binary. Unknown attributes will be ignored. NodeDef: {{node ParallelMapDatasetV2/_14}}\n",
      " 47%|████▋     | 14/30 [40:49<31:15, 117.22s/it]"
     ]
    },
    {
     "name": "stdout",
     "output_type": "stream",
     "text": [
      "The average treatment effect (ATE) is 1.5584908\n",
      "Epoch 1: loss 2.4440,\tloss_y 1.6825, 1.6899, 0.0148,\tloss_eta 0.7614, 0.7976, 0.0724\n",
      "Warning: covariate dimension does not aligned with the specified input dimension; filling in the remaining dimension with noise.\n",
      "Warning: covariate dimension does not aligned with the specified input dimension; filling in the remaining dimension with noise.\n"
     ]
    },
    {
     "name": "stderr",
     "output_type": "stream",
     "text": [
      "INFO \t Training with 11 minibatches per epoch\n",
      "INFO \t Evaluating 1 minibatches\n",
      "2025-04-26 10:30:24.180260: E tensorflow/core/framework/node_def_util.cc:676] NodeDef mentions attribute use_unbounded_threadpool which is not in the op definition: Op<name=MapDataset; signature=input_dataset:variant, other_arguments: -> handle:variant; attr=f:func; attr=Targuments:list(type),min=0; attr=output_types:list(type),min=1; attr=output_shapes:list(shape),min=1; attr=use_inter_op_parallelism:bool,default=true; attr=preserve_cardinality:bool,default=false; attr=force_synchronous:bool,default=false; attr=metadata:string,default=\"\"> This may be expected if your graph generating binary is newer  than this binary. Unknown attributes will be ignored. NodeDef: {{node ParallelMapDatasetV2/_14}}\n",
      "2025-04-26 10:30:24.180596: E tensorflow/core/framework/node_def_util.cc:676] NodeDef mentions attribute use_unbounded_threadpool which is not in the op definition: Op<name=MapDataset; signature=input_dataset:variant, other_arguments: -> handle:variant; attr=f:func; attr=Targuments:list(type),min=0; attr=output_types:list(type),min=1; attr=output_shapes:list(shape),min=1; attr=use_inter_op_parallelism:bool,default=true; attr=preserve_cardinality:bool,default=false; attr=force_synchronous:bool,default=false; attr=metadata:string,default=\"\"> This may be expected if your graph generating binary is newer  than this binary. Unknown attributes will be ignored. NodeDef: {{node ParallelMapDatasetV2/_14}}\n",
      "2025-04-26 10:30:29.761997: E tensorflow/core/framework/node_def_util.cc:676] NodeDef mentions attribute use_unbounded_threadpool which is not in the op definition: Op<name=MapDataset; signature=input_dataset:variant, other_arguments: -> handle:variant; attr=f:func; attr=Targuments:list(type),min=0; attr=output_types:list(type),min=1; attr=output_shapes:list(shape),min=1; attr=use_inter_op_parallelism:bool,default=true; attr=preserve_cardinality:bool,default=false; attr=force_synchronous:bool,default=false; attr=metadata:string,default=\"\"> This may be expected if your graph generating binary is newer  than this binary. Unknown attributes will be ignored. NodeDef: {{node ParallelMapDatasetV2/_14}}\n",
      "2025-04-26 10:30:29.762292: E tensorflow/core/framework/node_def_util.cc:676] NodeDef mentions attribute use_unbounded_threadpool which is not in the op definition: Op<name=MapDataset; signature=input_dataset:variant, other_arguments: -> handle:variant; attr=f:func; attr=Targuments:list(type),min=0; attr=output_types:list(type),min=1; attr=output_shapes:list(shape),min=1; attr=use_inter_op_parallelism:bool,default=true; attr=preserve_cardinality:bool,default=false; attr=force_synchronous:bool,default=false; attr=metadata:string,default=\"\"> This may be expected if your graph generating binary is newer  than this binary. Unknown attributes will be ignored. NodeDef: {{node ParallelMapDatasetV2/_14}}\n",
      " 50%|█████     | 15/30 [42:45<29:15, 117.03s/it]"
     ]
    },
    {
     "name": "stdout",
     "output_type": "stream",
     "text": [
      "The average treatment effect (ATE) is 1.5555849\n",
      "Epoch 1: loss 2.5272,\tloss_y 1.7363, 1.7816, 0.0905,\tloss_eta 0.7908, 0.8291, 0.0764\n",
      "Warning: covariate dimension does not aligned with the specified input dimension; filling in the remaining dimension with noise.\n",
      "Warning: covariate dimension does not aligned with the specified input dimension; filling in the remaining dimension with noise.\n"
     ]
    },
    {
     "name": "stderr",
     "output_type": "stream",
     "text": [
      "INFO \t Training with 11 minibatches per epoch\n",
      "INFO \t Evaluating 1 minibatches\n",
      "2025-04-26 10:32:16.859789: E tensorflow/core/framework/node_def_util.cc:676] NodeDef mentions attribute use_unbounded_threadpool which is not in the op definition: Op<name=MapDataset; signature=input_dataset:variant, other_arguments: -> handle:variant; attr=f:func; attr=Targuments:list(type),min=0; attr=output_types:list(type),min=1; attr=output_shapes:list(shape),min=1; attr=use_inter_op_parallelism:bool,default=true; attr=preserve_cardinality:bool,default=false; attr=force_synchronous:bool,default=false; attr=metadata:string,default=\"\"> This may be expected if your graph generating binary is newer  than this binary. Unknown attributes will be ignored. NodeDef: {{node ParallelMapDatasetV2/_14}}\n",
      "2025-04-26 10:32:16.860104: E tensorflow/core/framework/node_def_util.cc:676] NodeDef mentions attribute use_unbounded_threadpool which is not in the op definition: Op<name=MapDataset; signature=input_dataset:variant, other_arguments: -> handle:variant; attr=f:func; attr=Targuments:list(type),min=0; attr=output_types:list(type),min=1; attr=output_shapes:list(shape),min=1; attr=use_inter_op_parallelism:bool,default=true; attr=preserve_cardinality:bool,default=false; attr=force_synchronous:bool,default=false; attr=metadata:string,default=\"\"> This may be expected if your graph generating binary is newer  than this binary. Unknown attributes will be ignored. NodeDef: {{node ParallelMapDatasetV2/_14}}\n",
      "2025-04-26 10:32:22.452216: E tensorflow/core/framework/node_def_util.cc:676] NodeDef mentions attribute use_unbounded_threadpool which is not in the op definition: Op<name=MapDataset; signature=input_dataset:variant, other_arguments: -> handle:variant; attr=f:func; attr=Targuments:list(type),min=0; attr=output_types:list(type),min=1; attr=output_shapes:list(shape),min=1; attr=use_inter_op_parallelism:bool,default=true; attr=preserve_cardinality:bool,default=false; attr=force_synchronous:bool,default=false; attr=metadata:string,default=\"\"> This may be expected if your graph generating binary is newer  than this binary. Unknown attributes will be ignored. NodeDef: {{node ParallelMapDatasetV2/_14}}\n",
      "2025-04-26 10:32:22.452514: E tensorflow/core/framework/node_def_util.cc:676] NodeDef mentions attribute use_unbounded_threadpool which is not in the op definition: Op<name=MapDataset; signature=input_dataset:variant, other_arguments: -> handle:variant; attr=f:func; attr=Targuments:list(type),min=0; attr=output_types:list(type),min=1; attr=output_shapes:list(shape),min=1; attr=use_inter_op_parallelism:bool,default=true; attr=preserve_cardinality:bool,default=false; attr=force_synchronous:bool,default=false; attr=metadata:string,default=\"\"> This may be expected if your graph generating binary is newer  than this binary. Unknown attributes will be ignored. NodeDef: {{node ParallelMapDatasetV2/_14}}\n",
      " 53%|█████▎    | 16/30 [44:38<27:00, 115.72s/it]"
     ]
    },
    {
     "name": "stdout",
     "output_type": "stream",
     "text": [
      "The average treatment effect (ATE) is 1.6710368\n",
      "Epoch 1: loss 2.4202,\tloss_y 1.5990, 1.6209, 0.0437,\tloss_eta 0.8211, 0.8537, 0.0652\n",
      "Warning: covariate dimension does not aligned with the specified input dimension; filling in the remaining dimension with noise.\n",
      "Warning: covariate dimension does not aligned with the specified input dimension; filling in the remaining dimension with noise.\n"
     ]
    },
    {
     "name": "stderr",
     "output_type": "stream",
     "text": [
      "INFO \t Training with 11 minibatches per epoch\n",
      "INFO \t Evaluating 1 minibatches\n",
      "2025-04-26 10:34:11.666204: E tensorflow/core/framework/node_def_util.cc:676] NodeDef mentions attribute use_unbounded_threadpool which is not in the op definition: Op<name=MapDataset; signature=input_dataset:variant, other_arguments: -> handle:variant; attr=f:func; attr=Targuments:list(type),min=0; attr=output_types:list(type),min=1; attr=output_shapes:list(shape),min=1; attr=use_inter_op_parallelism:bool,default=true; attr=preserve_cardinality:bool,default=false; attr=force_synchronous:bool,default=false; attr=metadata:string,default=\"\"> This may be expected if your graph generating binary is newer  than this binary. Unknown attributes will be ignored. NodeDef: {{node ParallelMapDatasetV2/_14}}\n",
      "2025-04-26 10:34:11.666489: E tensorflow/core/framework/node_def_util.cc:676] NodeDef mentions attribute use_unbounded_threadpool which is not in the op definition: Op<name=MapDataset; signature=input_dataset:variant, other_arguments: -> handle:variant; attr=f:func; attr=Targuments:list(type),min=0; attr=output_types:list(type),min=1; attr=output_shapes:list(shape),min=1; attr=use_inter_op_parallelism:bool,default=true; attr=preserve_cardinality:bool,default=false; attr=force_synchronous:bool,default=false; attr=metadata:string,default=\"\"> This may be expected if your graph generating binary is newer  than this binary. Unknown attributes will be ignored. NodeDef: {{node ParallelMapDatasetV2/_14}}\n",
      "2025-04-26 10:34:17.247541: E tensorflow/core/framework/node_def_util.cc:676] NodeDef mentions attribute use_unbounded_threadpool which is not in the op definition: Op<name=MapDataset; signature=input_dataset:variant, other_arguments: -> handle:variant; attr=f:func; attr=Targuments:list(type),min=0; attr=output_types:list(type),min=1; attr=output_shapes:list(shape),min=1; attr=use_inter_op_parallelism:bool,default=true; attr=preserve_cardinality:bool,default=false; attr=force_synchronous:bool,default=false; attr=metadata:string,default=\"\"> This may be expected if your graph generating binary is newer  than this binary. Unknown attributes will be ignored. NodeDef: {{node ParallelMapDatasetV2/_14}}\n",
      "2025-04-26 10:34:17.247831: E tensorflow/core/framework/node_def_util.cc:676] NodeDef mentions attribute use_unbounded_threadpool which is not in the op definition: Op<name=MapDataset; signature=input_dataset:variant, other_arguments: -> handle:variant; attr=f:func; attr=Targuments:list(type),min=0; attr=output_types:list(type),min=1; attr=output_shapes:list(shape),min=1; attr=use_inter_op_parallelism:bool,default=true; attr=preserve_cardinality:bool,default=false; attr=force_synchronous:bool,default=false; attr=metadata:string,default=\"\"> This may be expected if your graph generating binary is newer  than this binary. Unknown attributes will be ignored. NodeDef: {{node ParallelMapDatasetV2/_14}}\n",
      " 57%|█████▋    | 17/30 [46:33<25:00, 115.44s/it]"
     ]
    },
    {
     "name": "stdout",
     "output_type": "stream",
     "text": [
      "The average treatment effect (ATE) is 1.5757754\n",
      "Epoch 1: loss 2.4412,\tloss_y 1.6973, 1.7208, 0.0470,\tloss_eta 0.7439, 0.7869, 0.0859\n",
      "Warning: covariate dimension does not aligned with the specified input dimension; filling in the remaining dimension with noise.\n",
      "Warning: covariate dimension does not aligned with the specified input dimension; filling in the remaining dimension with noise.\n"
     ]
    },
    {
     "name": "stderr",
     "output_type": "stream",
     "text": [
      "INFO \t Training with 11 minibatches per epoch\n",
      "INFO \t Evaluating 1 minibatches\n",
      "2025-04-26 10:36:04.137107: E tensorflow/core/framework/node_def_util.cc:676] NodeDef mentions attribute use_unbounded_threadpool which is not in the op definition: Op<name=MapDataset; signature=input_dataset:variant, other_arguments: -> handle:variant; attr=f:func; attr=Targuments:list(type),min=0; attr=output_types:list(type),min=1; attr=output_shapes:list(shape),min=1; attr=use_inter_op_parallelism:bool,default=true; attr=preserve_cardinality:bool,default=false; attr=force_synchronous:bool,default=false; attr=metadata:string,default=\"\"> This may be expected if your graph generating binary is newer  than this binary. Unknown attributes will be ignored. NodeDef: {{node ParallelMapDatasetV2/_14}}\n",
      "2025-04-26 10:36:04.137469: E tensorflow/core/framework/node_def_util.cc:676] NodeDef mentions attribute use_unbounded_threadpool which is not in the op definition: Op<name=MapDataset; signature=input_dataset:variant, other_arguments: -> handle:variant; attr=f:func; attr=Targuments:list(type),min=0; attr=output_types:list(type),min=1; attr=output_shapes:list(shape),min=1; attr=use_inter_op_parallelism:bool,default=true; attr=preserve_cardinality:bool,default=false; attr=force_synchronous:bool,default=false; attr=metadata:string,default=\"\"> This may be expected if your graph generating binary is newer  than this binary. Unknown attributes will be ignored. NodeDef: {{node ParallelMapDatasetV2/_14}}\n",
      "2025-04-26 10:36:09.682509: E tensorflow/core/framework/node_def_util.cc:676] NodeDef mentions attribute use_unbounded_threadpool which is not in the op definition: Op<name=MapDataset; signature=input_dataset:variant, other_arguments: -> handle:variant; attr=f:func; attr=Targuments:list(type),min=0; attr=output_types:list(type),min=1; attr=output_shapes:list(shape),min=1; attr=use_inter_op_parallelism:bool,default=true; attr=preserve_cardinality:bool,default=false; attr=force_synchronous:bool,default=false; attr=metadata:string,default=\"\"> This may be expected if your graph generating binary is newer  than this binary. Unknown attributes will be ignored. NodeDef: {{node ParallelMapDatasetV2/_14}}\n",
      "2025-04-26 10:36:09.682804: E tensorflow/core/framework/node_def_util.cc:676] NodeDef mentions attribute use_unbounded_threadpool which is not in the op definition: Op<name=MapDataset; signature=input_dataset:variant, other_arguments: -> handle:variant; attr=f:func; attr=Targuments:list(type),min=0; attr=output_types:list(type),min=1; attr=output_shapes:list(shape),min=1; attr=use_inter_op_parallelism:bool,default=true; attr=preserve_cardinality:bool,default=false; attr=force_synchronous:bool,default=false; attr=metadata:string,default=\"\"> This may be expected if your graph generating binary is newer  than this binary. Unknown attributes will be ignored. NodeDef: {{node ParallelMapDatasetV2/_14}}\n",
      " 60%|██████    | 18/30 [48:25<22:54, 114.54s/it]"
     ]
    },
    {
     "name": "stdout",
     "output_type": "stream",
     "text": [
      "The average treatment effect (ATE) is 1.7036154\n",
      "Epoch 1: loss 2.3956,\tloss_y 1.6519, 1.6722, 0.0407,\tloss_eta 0.7438, 0.7846, 0.0817\n",
      "Warning: covariate dimension does not aligned with the specified input dimension; filling in the remaining dimension with noise.\n",
      "Warning: covariate dimension does not aligned with the specified input dimension; filling in the remaining dimension with noise.\n"
     ]
    },
    {
     "name": "stderr",
     "output_type": "stream",
     "text": [
      "INFO \t Training with 11 minibatches per epoch\n",
      "INFO \t Evaluating 1 minibatches\n",
      "2025-04-26 10:37:57.043137: E tensorflow/core/framework/node_def_util.cc:676] NodeDef mentions attribute use_unbounded_threadpool which is not in the op definition: Op<name=MapDataset; signature=input_dataset:variant, other_arguments: -> handle:variant; attr=f:func; attr=Targuments:list(type),min=0; attr=output_types:list(type),min=1; attr=output_shapes:list(shape),min=1; attr=use_inter_op_parallelism:bool,default=true; attr=preserve_cardinality:bool,default=false; attr=force_synchronous:bool,default=false; attr=metadata:string,default=\"\"> This may be expected if your graph generating binary is newer  than this binary. Unknown attributes will be ignored. NodeDef: {{node ParallelMapDatasetV2/_14}}\n",
      "2025-04-26 10:37:57.043419: E tensorflow/core/framework/node_def_util.cc:676] NodeDef mentions attribute use_unbounded_threadpool which is not in the op definition: Op<name=MapDataset; signature=input_dataset:variant, other_arguments: -> handle:variant; attr=f:func; attr=Targuments:list(type),min=0; attr=output_types:list(type),min=1; attr=output_shapes:list(shape),min=1; attr=use_inter_op_parallelism:bool,default=true; attr=preserve_cardinality:bool,default=false; attr=force_synchronous:bool,default=false; attr=metadata:string,default=\"\"> This may be expected if your graph generating binary is newer  than this binary. Unknown attributes will be ignored. NodeDef: {{node ParallelMapDatasetV2/_14}}\n",
      "2025-04-26 10:38:02.557092: E tensorflow/core/framework/node_def_util.cc:676] NodeDef mentions attribute use_unbounded_threadpool which is not in the op definition: Op<name=MapDataset; signature=input_dataset:variant, other_arguments: -> handle:variant; attr=f:func; attr=Targuments:list(type),min=0; attr=output_types:list(type),min=1; attr=output_shapes:list(shape),min=1; attr=use_inter_op_parallelism:bool,default=true; attr=preserve_cardinality:bool,default=false; attr=force_synchronous:bool,default=false; attr=metadata:string,default=\"\"> This may be expected if your graph generating binary is newer  than this binary. Unknown attributes will be ignored. NodeDef: {{node ParallelMapDatasetV2/_14}}\n",
      "2025-04-26 10:38:02.557387: E tensorflow/core/framework/node_def_util.cc:676] NodeDef mentions attribute use_unbounded_threadpool which is not in the op definition: Op<name=MapDataset; signature=input_dataset:variant, other_arguments: -> handle:variant; attr=f:func; attr=Targuments:list(type),min=0; attr=output_types:list(type),min=1; attr=output_shapes:list(shape),min=1; attr=use_inter_op_parallelism:bool,default=true; attr=preserve_cardinality:bool,default=false; attr=force_synchronous:bool,default=false; attr=metadata:string,default=\"\"> This may be expected if your graph generating binary is newer  than this binary. Unknown attributes will be ignored. NodeDef: {{node ParallelMapDatasetV2/_14}}\n",
      " 63%|██████▎   | 19/30 [50:18<20:54, 114.04s/it]"
     ]
    },
    {
     "name": "stdout",
     "output_type": "stream",
     "text": [
      "The average treatment effect (ATE) is 1.5584077\n",
      "Epoch 1: loss 2.5930,\tloss_y 1.8200, 1.8393, 0.0385,\tloss_eta 0.7730, 0.8230, 0.1000\n",
      "Warning: covariate dimension does not aligned with the specified input dimension; filling in the remaining dimension with noise.\n",
      "Warning: covariate dimension does not aligned with the specified input dimension; filling in the remaining dimension with noise.\n"
     ]
    },
    {
     "name": "stderr",
     "output_type": "stream",
     "text": [
      "INFO \t Training with 11 minibatches per epoch\n",
      "INFO \t Evaluating 1 minibatches\n",
      "2025-04-26 10:39:53.494799: E tensorflow/core/framework/node_def_util.cc:676] NodeDef mentions attribute use_unbounded_threadpool which is not in the op definition: Op<name=MapDataset; signature=input_dataset:variant, other_arguments: -> handle:variant; attr=f:func; attr=Targuments:list(type),min=0; attr=output_types:list(type),min=1; attr=output_shapes:list(shape),min=1; attr=use_inter_op_parallelism:bool,default=true; attr=preserve_cardinality:bool,default=false; attr=force_synchronous:bool,default=false; attr=metadata:string,default=\"\"> This may be expected if your graph generating binary is newer  than this binary. Unknown attributes will be ignored. NodeDef: {{node ParallelMapDatasetV2/_14}}\n",
      "2025-04-26 10:39:53.495066: E tensorflow/core/framework/node_def_util.cc:676] NodeDef mentions attribute use_unbounded_threadpool which is not in the op definition: Op<name=MapDataset; signature=input_dataset:variant, other_arguments: -> handle:variant; attr=f:func; attr=Targuments:list(type),min=0; attr=output_types:list(type),min=1; attr=output_shapes:list(shape),min=1; attr=use_inter_op_parallelism:bool,default=true; attr=preserve_cardinality:bool,default=false; attr=force_synchronous:bool,default=false; attr=metadata:string,default=\"\"> This may be expected if your graph generating binary is newer  than this binary. Unknown attributes will be ignored. NodeDef: {{node ParallelMapDatasetV2/_14}}\n",
      "2025-04-26 10:39:59.069167: E tensorflow/core/framework/node_def_util.cc:676] NodeDef mentions attribute use_unbounded_threadpool which is not in the op definition: Op<name=MapDataset; signature=input_dataset:variant, other_arguments: -> handle:variant; attr=f:func; attr=Targuments:list(type),min=0; attr=output_types:list(type),min=1; attr=output_shapes:list(shape),min=1; attr=use_inter_op_parallelism:bool,default=true; attr=preserve_cardinality:bool,default=false; attr=force_synchronous:bool,default=false; attr=metadata:string,default=\"\"> This may be expected if your graph generating binary is newer  than this binary. Unknown attributes will be ignored. NodeDef: {{node ParallelMapDatasetV2/_14}}\n",
      "2025-04-26 10:39:59.069482: E tensorflow/core/framework/node_def_util.cc:676] NodeDef mentions attribute use_unbounded_threadpool which is not in the op definition: Op<name=MapDataset; signature=input_dataset:variant, other_arguments: -> handle:variant; attr=f:func; attr=Targuments:list(type),min=0; attr=output_types:list(type),min=1; attr=output_shapes:list(shape),min=1; attr=use_inter_op_parallelism:bool,default=true; attr=preserve_cardinality:bool,default=false; attr=force_synchronous:bool,default=false; attr=metadata:string,default=\"\"> This may be expected if your graph generating binary is newer  than this binary. Unknown attributes will be ignored. NodeDef: {{node ParallelMapDatasetV2/_14}}\n",
      " 67%|██████▋   | 20/30 [52:15<19:07, 114.78s/it]"
     ]
    },
    {
     "name": "stdout",
     "output_type": "stream",
     "text": [
      "The average treatment effect (ATE) is 1.6177034\n",
      "Epoch 1: loss 2.3851,\tloss_y 1.6549, 1.6751, 0.0403,\tloss_eta 0.7301, 0.7616, 0.0629\n",
      "Warning: covariate dimension does not aligned with the specified input dimension; filling in the remaining dimension with noise.\n",
      "Warning: covariate dimension does not aligned with the specified input dimension; filling in the remaining dimension with noise.\n"
     ]
    },
    {
     "name": "stderr",
     "output_type": "stream",
     "text": [
      "INFO \t Training with 11 minibatches per epoch\n",
      "INFO \t Evaluating 1 minibatches\n",
      "2025-04-26 10:41:44.651965: E tensorflow/core/framework/node_def_util.cc:676] NodeDef mentions attribute use_unbounded_threadpool which is not in the op definition: Op<name=MapDataset; signature=input_dataset:variant, other_arguments: -> handle:variant; attr=f:func; attr=Targuments:list(type),min=0; attr=output_types:list(type),min=1; attr=output_shapes:list(shape),min=1; attr=use_inter_op_parallelism:bool,default=true; attr=preserve_cardinality:bool,default=false; attr=force_synchronous:bool,default=false; attr=metadata:string,default=\"\"> This may be expected if your graph generating binary is newer  than this binary. Unknown attributes will be ignored. NodeDef: {{node ParallelMapDatasetV2/_14}}\n",
      "2025-04-26 10:41:44.652266: E tensorflow/core/framework/node_def_util.cc:676] NodeDef mentions attribute use_unbounded_threadpool which is not in the op definition: Op<name=MapDataset; signature=input_dataset:variant, other_arguments: -> handle:variant; attr=f:func; attr=Targuments:list(type),min=0; attr=output_types:list(type),min=1; attr=output_shapes:list(shape),min=1; attr=use_inter_op_parallelism:bool,default=true; attr=preserve_cardinality:bool,default=false; attr=force_synchronous:bool,default=false; attr=metadata:string,default=\"\"> This may be expected if your graph generating binary is newer  than this binary. Unknown attributes will be ignored. NodeDef: {{node ParallelMapDatasetV2/_14}}\n",
      "2025-04-26 10:41:50.214424: E tensorflow/core/framework/node_def_util.cc:676] NodeDef mentions attribute use_unbounded_threadpool which is not in the op definition: Op<name=MapDataset; signature=input_dataset:variant, other_arguments: -> handle:variant; attr=f:func; attr=Targuments:list(type),min=0; attr=output_types:list(type),min=1; attr=output_shapes:list(shape),min=1; attr=use_inter_op_parallelism:bool,default=true; attr=preserve_cardinality:bool,default=false; attr=force_synchronous:bool,default=false; attr=metadata:string,default=\"\"> This may be expected if your graph generating binary is newer  than this binary. Unknown attributes will be ignored. NodeDef: {{node ParallelMapDatasetV2/_14}}\n",
      "2025-04-26 10:41:50.214737: E tensorflow/core/framework/node_def_util.cc:676] NodeDef mentions attribute use_unbounded_threadpool which is not in the op definition: Op<name=MapDataset; signature=input_dataset:variant, other_arguments: -> handle:variant; attr=f:func; attr=Targuments:list(type),min=0; attr=output_types:list(type),min=1; attr=output_shapes:list(shape),min=1; attr=use_inter_op_parallelism:bool,default=true; attr=preserve_cardinality:bool,default=false; attr=force_synchronous:bool,default=false; attr=metadata:string,default=\"\"> This may be expected if your graph generating binary is newer  than this binary. Unknown attributes will be ignored. NodeDef: {{node ParallelMapDatasetV2/_14}}\n",
      " 70%|███████   | 21/30 [54:06<17:03, 113.69s/it]"
     ]
    },
    {
     "name": "stdout",
     "output_type": "stream",
     "text": [
      "The average treatment effect (ATE) is 1.5528501\n",
      "Epoch 1: loss 2.5214,\tloss_y 1.7034, 1.7189, 0.0310,\tloss_eta 0.8180, 0.8499, 0.0637\n",
      "Warning: covariate dimension does not aligned with the specified input dimension; filling in the remaining dimension with noise.\n",
      "Warning: covariate dimension does not aligned with the specified input dimension; filling in the remaining dimension with noise.\n"
     ]
    },
    {
     "name": "stderr",
     "output_type": "stream",
     "text": [
      "INFO \t Training with 11 minibatches per epoch\n",
      "INFO \t Evaluating 1 minibatches\n",
      "2025-04-26 10:43:37.639744: E tensorflow/core/framework/node_def_util.cc:676] NodeDef mentions attribute use_unbounded_threadpool which is not in the op definition: Op<name=MapDataset; signature=input_dataset:variant, other_arguments: -> handle:variant; attr=f:func; attr=Targuments:list(type),min=0; attr=output_types:list(type),min=1; attr=output_shapes:list(shape),min=1; attr=use_inter_op_parallelism:bool,default=true; attr=preserve_cardinality:bool,default=false; attr=force_synchronous:bool,default=false; attr=metadata:string,default=\"\"> This may be expected if your graph generating binary is newer  than this binary. Unknown attributes will be ignored. NodeDef: {{node ParallelMapDatasetV2/_14}}\n",
      "2025-04-26 10:43:37.640019: E tensorflow/core/framework/node_def_util.cc:676] NodeDef mentions attribute use_unbounded_threadpool which is not in the op definition: Op<name=MapDataset; signature=input_dataset:variant, other_arguments: -> handle:variant; attr=f:func; attr=Targuments:list(type),min=0; attr=output_types:list(type),min=1; attr=output_shapes:list(shape),min=1; attr=use_inter_op_parallelism:bool,default=true; attr=preserve_cardinality:bool,default=false; attr=force_synchronous:bool,default=false; attr=metadata:string,default=\"\"> This may be expected if your graph generating binary is newer  than this binary. Unknown attributes will be ignored. NodeDef: {{node ParallelMapDatasetV2/_14}}\n",
      "2025-04-26 10:43:43.225170: E tensorflow/core/framework/node_def_util.cc:676] NodeDef mentions attribute use_unbounded_threadpool which is not in the op definition: Op<name=MapDataset; signature=input_dataset:variant, other_arguments: -> handle:variant; attr=f:func; attr=Targuments:list(type),min=0; attr=output_types:list(type),min=1; attr=output_shapes:list(shape),min=1; attr=use_inter_op_parallelism:bool,default=true; attr=preserve_cardinality:bool,default=false; attr=force_synchronous:bool,default=false; attr=metadata:string,default=\"\"> This may be expected if your graph generating binary is newer  than this binary. Unknown attributes will be ignored. NodeDef: {{node ParallelMapDatasetV2/_14}}\n",
      "2025-04-26 10:43:43.225457: E tensorflow/core/framework/node_def_util.cc:676] NodeDef mentions attribute use_unbounded_threadpool which is not in the op definition: Op<name=MapDataset; signature=input_dataset:variant, other_arguments: -> handle:variant; attr=f:func; attr=Targuments:list(type),min=0; attr=output_types:list(type),min=1; attr=output_shapes:list(shape),min=1; attr=use_inter_op_parallelism:bool,default=true; attr=preserve_cardinality:bool,default=false; attr=force_synchronous:bool,default=false; attr=metadata:string,default=\"\"> This may be expected if your graph generating binary is newer  than this binary. Unknown attributes will be ignored. NodeDef: {{node ParallelMapDatasetV2/_14}}\n",
      " 73%|███████▎  | 22/30 [55:59<15:07, 113.49s/it]"
     ]
    },
    {
     "name": "stdout",
     "output_type": "stream",
     "text": [
      "The average treatment effect (ATE) is 1.5455234\n",
      "Epoch 1: loss 2.5163,\tloss_y 1.7507, 1.7719, 0.0424,\tloss_eta 0.7656, 0.7959, 0.0606\n",
      "Warning: covariate dimension does not aligned with the specified input dimension; filling in the remaining dimension with noise.\n",
      "Warning: covariate dimension does not aligned with the specified input dimension; filling in the remaining dimension with noise.\n"
     ]
    },
    {
     "name": "stderr",
     "output_type": "stream",
     "text": [
      "INFO \t Training with 11 minibatches per epoch\n",
      "INFO \t Evaluating 1 minibatches\n",
      "2025-04-26 10:45:33.481282: E tensorflow/core/framework/node_def_util.cc:676] NodeDef mentions attribute use_unbounded_threadpool which is not in the op definition: Op<name=MapDataset; signature=input_dataset:variant, other_arguments: -> handle:variant; attr=f:func; attr=Targuments:list(type),min=0; attr=output_types:list(type),min=1; attr=output_shapes:list(shape),min=1; attr=use_inter_op_parallelism:bool,default=true; attr=preserve_cardinality:bool,default=false; attr=force_synchronous:bool,default=false; attr=metadata:string,default=\"\"> This may be expected if your graph generating binary is newer  than this binary. Unknown attributes will be ignored. NodeDef: {{node ParallelMapDatasetV2/_14}}\n",
      "2025-04-26 10:45:33.481568: E tensorflow/core/framework/node_def_util.cc:676] NodeDef mentions attribute use_unbounded_threadpool which is not in the op definition: Op<name=MapDataset; signature=input_dataset:variant, other_arguments: -> handle:variant; attr=f:func; attr=Targuments:list(type),min=0; attr=output_types:list(type),min=1; attr=output_shapes:list(shape),min=1; attr=use_inter_op_parallelism:bool,default=true; attr=preserve_cardinality:bool,default=false; attr=force_synchronous:bool,default=false; attr=metadata:string,default=\"\"> This may be expected if your graph generating binary is newer  than this binary. Unknown attributes will be ignored. NodeDef: {{node ParallelMapDatasetV2/_14}}\n",
      "2025-04-26 10:45:39.183054: E tensorflow/core/framework/node_def_util.cc:676] NodeDef mentions attribute use_unbounded_threadpool which is not in the op definition: Op<name=MapDataset; signature=input_dataset:variant, other_arguments: -> handle:variant; attr=f:func; attr=Targuments:list(type),min=0; attr=output_types:list(type),min=1; attr=output_shapes:list(shape),min=1; attr=use_inter_op_parallelism:bool,default=true; attr=preserve_cardinality:bool,default=false; attr=force_synchronous:bool,default=false; attr=metadata:string,default=\"\"> This may be expected if your graph generating binary is newer  than this binary. Unknown attributes will be ignored. NodeDef: {{node ParallelMapDatasetV2/_14}}\n",
      "2025-04-26 10:45:39.183388: E tensorflow/core/framework/node_def_util.cc:676] NodeDef mentions attribute use_unbounded_threadpool which is not in the op definition: Op<name=MapDataset; signature=input_dataset:variant, other_arguments: -> handle:variant; attr=f:func; attr=Targuments:list(type),min=0; attr=output_types:list(type),min=1; attr=output_shapes:list(shape),min=1; attr=use_inter_op_parallelism:bool,default=true; attr=preserve_cardinality:bool,default=false; attr=force_synchronous:bool,default=false; attr=metadata:string,default=\"\"> This may be expected if your graph generating binary is newer  than this binary. Unknown attributes will be ignored. NodeDef: {{node ParallelMapDatasetV2/_14}}\n",
      " 77%|███████▋  | 23/30 [57:55<13:19, 114.23s/it]"
     ]
    },
    {
     "name": "stdout",
     "output_type": "stream",
     "text": [
      "The average treatment effect (ATE) is 1.5629351\n",
      "Epoch 1: loss 2.3655,\tloss_y 1.6185, 1.6586, 0.0802,\tloss_eta 0.7471, 0.7852, 0.0762\n",
      "Warning: covariate dimension does not aligned with the specified input dimension; filling in the remaining dimension with noise.\n",
      "Warning: covariate dimension does not aligned with the specified input dimension; filling in the remaining dimension with noise.\n"
     ]
    },
    {
     "name": "stderr",
     "output_type": "stream",
     "text": [
      "INFO \t Training with 11 minibatches per epoch\n",
      "INFO \t Evaluating 1 minibatches\n",
      "2025-04-26 10:47:27.089366: E tensorflow/core/framework/node_def_util.cc:676] NodeDef mentions attribute use_unbounded_threadpool which is not in the op definition: Op<name=MapDataset; signature=input_dataset:variant, other_arguments: -> handle:variant; attr=f:func; attr=Targuments:list(type),min=0; attr=output_types:list(type),min=1; attr=output_shapes:list(shape),min=1; attr=use_inter_op_parallelism:bool,default=true; attr=preserve_cardinality:bool,default=false; attr=force_synchronous:bool,default=false; attr=metadata:string,default=\"\"> This may be expected if your graph generating binary is newer  than this binary. Unknown attributes will be ignored. NodeDef: {{node ParallelMapDatasetV2/_14}}\n",
      "2025-04-26 10:47:27.089661: E tensorflow/core/framework/node_def_util.cc:676] NodeDef mentions attribute use_unbounded_threadpool which is not in the op definition: Op<name=MapDataset; signature=input_dataset:variant, other_arguments: -> handle:variant; attr=f:func; attr=Targuments:list(type),min=0; attr=output_types:list(type),min=1; attr=output_shapes:list(shape),min=1; attr=use_inter_op_parallelism:bool,default=true; attr=preserve_cardinality:bool,default=false; attr=force_synchronous:bool,default=false; attr=metadata:string,default=\"\"> This may be expected if your graph generating binary is newer  than this binary. Unknown attributes will be ignored. NodeDef: {{node ParallelMapDatasetV2/_14}}\n",
      "2025-04-26 10:47:32.662021: E tensorflow/core/framework/node_def_util.cc:676] NodeDef mentions attribute use_unbounded_threadpool which is not in the op definition: Op<name=MapDataset; signature=input_dataset:variant, other_arguments: -> handle:variant; attr=f:func; attr=Targuments:list(type),min=0; attr=output_types:list(type),min=1; attr=output_shapes:list(shape),min=1; attr=use_inter_op_parallelism:bool,default=true; attr=preserve_cardinality:bool,default=false; attr=force_synchronous:bool,default=false; attr=metadata:string,default=\"\"> This may be expected if your graph generating binary is newer  than this binary. Unknown attributes will be ignored. NodeDef: {{node ParallelMapDatasetV2/_14}}\n",
      "2025-04-26 10:47:32.662312: E tensorflow/core/framework/node_def_util.cc:676] NodeDef mentions attribute use_unbounded_threadpool which is not in the op definition: Op<name=MapDataset; signature=input_dataset:variant, other_arguments: -> handle:variant; attr=f:func; attr=Targuments:list(type),min=0; attr=output_types:list(type),min=1; attr=output_shapes:list(shape),min=1; attr=use_inter_op_parallelism:bool,default=true; attr=preserve_cardinality:bool,default=false; attr=force_synchronous:bool,default=false; attr=metadata:string,default=\"\"> This may be expected if your graph generating binary is newer  than this binary. Unknown attributes will be ignored. NodeDef: {{node ParallelMapDatasetV2/_14}}\n",
      " 80%|████████  | 24/30 [59:48<11:24, 114.00s/it]"
     ]
    },
    {
     "name": "stdout",
     "output_type": "stream",
     "text": [
      "The average treatment effect (ATE) is 1.602947\n",
      "Epoch 1: loss 2.4787,\tloss_y 1.7194, 1.7293, 0.0198,\tloss_eta 0.7594, 0.7960, 0.0733\n",
      "Warning: covariate dimension does not aligned with the specified input dimension; filling in the remaining dimension with noise.\n",
      "Warning: covariate dimension does not aligned with the specified input dimension; filling in the remaining dimension with noise.\n"
     ]
    },
    {
     "name": "stderr",
     "output_type": "stream",
     "text": [
      "INFO \t Training with 11 minibatches per epoch\n",
      "INFO \t Evaluating 1 minibatches\n",
      "2025-04-26 10:49:20.576546: E tensorflow/core/framework/node_def_util.cc:676] NodeDef mentions attribute use_unbounded_threadpool which is not in the op definition: Op<name=MapDataset; signature=input_dataset:variant, other_arguments: -> handle:variant; attr=f:func; attr=Targuments:list(type),min=0; attr=output_types:list(type),min=1; attr=output_shapes:list(shape),min=1; attr=use_inter_op_parallelism:bool,default=true; attr=preserve_cardinality:bool,default=false; attr=force_synchronous:bool,default=false; attr=metadata:string,default=\"\"> This may be expected if your graph generating binary is newer  than this binary. Unknown attributes will be ignored. NodeDef: {{node ParallelMapDatasetV2/_14}}\n",
      "2025-04-26 10:49:20.576838: E tensorflow/core/framework/node_def_util.cc:676] NodeDef mentions attribute use_unbounded_threadpool which is not in the op definition: Op<name=MapDataset; signature=input_dataset:variant, other_arguments: -> handle:variant; attr=f:func; attr=Targuments:list(type),min=0; attr=output_types:list(type),min=1; attr=output_shapes:list(shape),min=1; attr=use_inter_op_parallelism:bool,default=true; attr=preserve_cardinality:bool,default=false; attr=force_synchronous:bool,default=false; attr=metadata:string,default=\"\"> This may be expected if your graph generating binary is newer  than this binary. Unknown attributes will be ignored. NodeDef: {{node ParallelMapDatasetV2/_14}}\n",
      "2025-04-26 10:49:26.195640: E tensorflow/core/framework/node_def_util.cc:676] NodeDef mentions attribute use_unbounded_threadpool which is not in the op definition: Op<name=MapDataset; signature=input_dataset:variant, other_arguments: -> handle:variant; attr=f:func; attr=Targuments:list(type),min=0; attr=output_types:list(type),min=1; attr=output_shapes:list(shape),min=1; attr=use_inter_op_parallelism:bool,default=true; attr=preserve_cardinality:bool,default=false; attr=force_synchronous:bool,default=false; attr=metadata:string,default=\"\"> This may be expected if your graph generating binary is newer  than this binary. Unknown attributes will be ignored. NodeDef: {{node ParallelMapDatasetV2/_14}}\n",
      "2025-04-26 10:49:26.195930: E tensorflow/core/framework/node_def_util.cc:676] NodeDef mentions attribute use_unbounded_threadpool which is not in the op definition: Op<name=MapDataset; signature=input_dataset:variant, other_arguments: -> handle:variant; attr=f:func; attr=Targuments:list(type),min=0; attr=output_types:list(type),min=1; attr=output_shapes:list(shape),min=1; attr=use_inter_op_parallelism:bool,default=true; attr=preserve_cardinality:bool,default=false; attr=force_synchronous:bool,default=false; attr=metadata:string,default=\"\"> This may be expected if your graph generating binary is newer  than this binary. Unknown attributes will be ignored. NodeDef: {{node ParallelMapDatasetV2/_14}}\n",
      " 83%|████████▎ | 25/30 [1:01:42<09:29, 113.86s/it]"
     ]
    },
    {
     "name": "stdout",
     "output_type": "stream",
     "text": [
      "The average treatment effect (ATE) is 1.721738\n",
      "Epoch 1: loss 2.3248,\tloss_y 1.5920, 1.6151, 0.0464,\tloss_eta 0.7329, 0.7823, 0.0989\n",
      "Warning: covariate dimension does not aligned with the specified input dimension; filling in the remaining dimension with noise.\n",
      "Warning: covariate dimension does not aligned with the specified input dimension; filling in the remaining dimension with noise.\n"
     ]
    },
    {
     "name": "stderr",
     "output_type": "stream",
     "text": [
      "INFO \t Training with 11 minibatches per epoch\n",
      "INFO \t Evaluating 1 minibatches\n",
      "2025-04-26 10:51:18.521449: E tensorflow/core/framework/node_def_util.cc:676] NodeDef mentions attribute use_unbounded_threadpool which is not in the op definition: Op<name=MapDataset; signature=input_dataset:variant, other_arguments: -> handle:variant; attr=f:func; attr=Targuments:list(type),min=0; attr=output_types:list(type),min=1; attr=output_shapes:list(shape),min=1; attr=use_inter_op_parallelism:bool,default=true; attr=preserve_cardinality:bool,default=false; attr=force_synchronous:bool,default=false; attr=metadata:string,default=\"\"> This may be expected if your graph generating binary is newer  than this binary. Unknown attributes will be ignored. NodeDef: {{node ParallelMapDatasetV2/_14}}\n",
      "2025-04-26 10:51:18.521766: E tensorflow/core/framework/node_def_util.cc:676] NodeDef mentions attribute use_unbounded_threadpool which is not in the op definition: Op<name=MapDataset; signature=input_dataset:variant, other_arguments: -> handle:variant; attr=f:func; attr=Targuments:list(type),min=0; attr=output_types:list(type),min=1; attr=output_shapes:list(shape),min=1; attr=use_inter_op_parallelism:bool,default=true; attr=preserve_cardinality:bool,default=false; attr=force_synchronous:bool,default=false; attr=metadata:string,default=\"\"> This may be expected if your graph generating binary is newer  than this binary. Unknown attributes will be ignored. NodeDef: {{node ParallelMapDatasetV2/_14}}\n",
      "2025-04-26 10:51:24.126171: E tensorflow/core/framework/node_def_util.cc:676] NodeDef mentions attribute use_unbounded_threadpool which is not in the op definition: Op<name=MapDataset; signature=input_dataset:variant, other_arguments: -> handle:variant; attr=f:func; attr=Targuments:list(type),min=0; attr=output_types:list(type),min=1; attr=output_shapes:list(shape),min=1; attr=use_inter_op_parallelism:bool,default=true; attr=preserve_cardinality:bool,default=false; attr=force_synchronous:bool,default=false; attr=metadata:string,default=\"\"> This may be expected if your graph generating binary is newer  than this binary. Unknown attributes will be ignored. NodeDef: {{node ParallelMapDatasetV2/_14}}\n",
      "2025-04-26 10:51:24.126479: E tensorflow/core/framework/node_def_util.cc:676] NodeDef mentions attribute use_unbounded_threadpool which is not in the op definition: Op<name=MapDataset; signature=input_dataset:variant, other_arguments: -> handle:variant; attr=f:func; attr=Targuments:list(type),min=0; attr=output_types:list(type),min=1; attr=output_shapes:list(shape),min=1; attr=use_inter_op_parallelism:bool,default=true; attr=preserve_cardinality:bool,default=false; attr=force_synchronous:bool,default=false; attr=metadata:string,default=\"\"> This may be expected if your graph generating binary is newer  than this binary. Unknown attributes will be ignored. NodeDef: {{node ParallelMapDatasetV2/_14}}\n",
      " 87%|████████▋ | 26/30 [1:03:40<07:40, 115.08s/it]"
     ]
    },
    {
     "name": "stdout",
     "output_type": "stream",
     "text": [
      "The average treatment effect (ATE) is 1.5558585\n",
      "Epoch 1: loss 2.4389,\tloss_y 1.6958, 1.7054, 0.0192,\tloss_eta 0.7431, 0.7753, 0.0645\n",
      "Warning: covariate dimension does not aligned with the specified input dimension; filling in the remaining dimension with noise.\n",
      "Warning: covariate dimension does not aligned with the specified input dimension; filling in the remaining dimension with noise.\n"
     ]
    },
    {
     "name": "stderr",
     "output_type": "stream",
     "text": [
      "INFO \t Training with 11 minibatches per epoch\n",
      "INFO \t Evaluating 1 minibatches\n",
      "2025-04-26 10:53:11.369989: E tensorflow/core/framework/node_def_util.cc:676] NodeDef mentions attribute use_unbounded_threadpool which is not in the op definition: Op<name=MapDataset; signature=input_dataset:variant, other_arguments: -> handle:variant; attr=f:func; attr=Targuments:list(type),min=0; attr=output_types:list(type),min=1; attr=output_shapes:list(shape),min=1; attr=use_inter_op_parallelism:bool,default=true; attr=preserve_cardinality:bool,default=false; attr=force_synchronous:bool,default=false; attr=metadata:string,default=\"\"> This may be expected if your graph generating binary is newer  than this binary. Unknown attributes will be ignored. NodeDef: {{node ParallelMapDatasetV2/_14}}\n",
      "2025-04-26 10:53:11.370302: E tensorflow/core/framework/node_def_util.cc:676] NodeDef mentions attribute use_unbounded_threadpool which is not in the op definition: Op<name=MapDataset; signature=input_dataset:variant, other_arguments: -> handle:variant; attr=f:func; attr=Targuments:list(type),min=0; attr=output_types:list(type),min=1; attr=output_shapes:list(shape),min=1; attr=use_inter_op_parallelism:bool,default=true; attr=preserve_cardinality:bool,default=false; attr=force_synchronous:bool,default=false; attr=metadata:string,default=\"\"> This may be expected if your graph generating binary is newer  than this binary. Unknown attributes will be ignored. NodeDef: {{node ParallelMapDatasetV2/_14}}\n",
      "2025-04-26 10:53:17.057342: E tensorflow/core/framework/node_def_util.cc:676] NodeDef mentions attribute use_unbounded_threadpool which is not in the op definition: Op<name=MapDataset; signature=input_dataset:variant, other_arguments: -> handle:variant; attr=f:func; attr=Targuments:list(type),min=0; attr=output_types:list(type),min=1; attr=output_shapes:list(shape),min=1; attr=use_inter_op_parallelism:bool,default=true; attr=preserve_cardinality:bool,default=false; attr=force_synchronous:bool,default=false; attr=metadata:string,default=\"\"> This may be expected if your graph generating binary is newer  than this binary. Unknown attributes will be ignored. NodeDef: {{node ParallelMapDatasetV2/_14}}\n",
      "2025-04-26 10:53:17.057634: E tensorflow/core/framework/node_def_util.cc:676] NodeDef mentions attribute use_unbounded_threadpool which is not in the op definition: Op<name=MapDataset; signature=input_dataset:variant, other_arguments: -> handle:variant; attr=f:func; attr=Targuments:list(type),min=0; attr=output_types:list(type),min=1; attr=output_shapes:list(shape),min=1; attr=use_inter_op_parallelism:bool,default=true; attr=preserve_cardinality:bool,default=false; attr=force_synchronous:bool,default=false; attr=metadata:string,default=\"\"> This may be expected if your graph generating binary is newer  than this binary. Unknown attributes will be ignored. NodeDef: {{node ParallelMapDatasetV2/_14}}\n",
      " 90%|█████████ | 27/30 [1:05:33<05:43, 114.44s/it]"
     ]
    },
    {
     "name": "stdout",
     "output_type": "stream",
     "text": [
      "The average treatment effect (ATE) is 1.681853\n",
      "Epoch 1: loss 2.3774,\tloss_y 1.6348, 1.6523, 0.0349,\tloss_eta 0.7426, 0.7857, 0.0862\n",
      "Warning: covariate dimension does not aligned with the specified input dimension; filling in the remaining dimension with noise.\n",
      "Warning: covariate dimension does not aligned with the specified input dimension; filling in the remaining dimension with noise.\n"
     ]
    },
    {
     "name": "stderr",
     "output_type": "stream",
     "text": [
      "INFO \t Training with 11 minibatches per epoch\n",
      "INFO \t Evaluating 1 minibatches\n",
      "2025-04-26 10:55:05.017134: E tensorflow/core/framework/node_def_util.cc:676] NodeDef mentions attribute use_unbounded_threadpool which is not in the op definition: Op<name=MapDataset; signature=input_dataset:variant, other_arguments: -> handle:variant; attr=f:func; attr=Targuments:list(type),min=0; attr=output_types:list(type),min=1; attr=output_shapes:list(shape),min=1; attr=use_inter_op_parallelism:bool,default=true; attr=preserve_cardinality:bool,default=false; attr=force_synchronous:bool,default=false; attr=metadata:string,default=\"\"> This may be expected if your graph generating binary is newer  than this binary. Unknown attributes will be ignored. NodeDef: {{node ParallelMapDatasetV2/_14}}\n",
      "2025-04-26 10:55:05.017439: E tensorflow/core/framework/node_def_util.cc:676] NodeDef mentions attribute use_unbounded_threadpool which is not in the op definition: Op<name=MapDataset; signature=input_dataset:variant, other_arguments: -> handle:variant; attr=f:func; attr=Targuments:list(type),min=0; attr=output_types:list(type),min=1; attr=output_shapes:list(shape),min=1; attr=use_inter_op_parallelism:bool,default=true; attr=preserve_cardinality:bool,default=false; attr=force_synchronous:bool,default=false; attr=metadata:string,default=\"\"> This may be expected if your graph generating binary is newer  than this binary. Unknown attributes will be ignored. NodeDef: {{node ParallelMapDatasetV2/_14}}\n",
      "2025-04-26 10:55:10.574721: E tensorflow/core/framework/node_def_util.cc:676] NodeDef mentions attribute use_unbounded_threadpool which is not in the op definition: Op<name=MapDataset; signature=input_dataset:variant, other_arguments: -> handle:variant; attr=f:func; attr=Targuments:list(type),min=0; attr=output_types:list(type),min=1; attr=output_shapes:list(shape),min=1; attr=use_inter_op_parallelism:bool,default=true; attr=preserve_cardinality:bool,default=false; attr=force_synchronous:bool,default=false; attr=metadata:string,default=\"\"> This may be expected if your graph generating binary is newer  than this binary. Unknown attributes will be ignored. NodeDef: {{node ParallelMapDatasetV2/_14}}\n",
      "2025-04-26 10:55:10.575018: E tensorflow/core/framework/node_def_util.cc:676] NodeDef mentions attribute use_unbounded_threadpool which is not in the op definition: Op<name=MapDataset; signature=input_dataset:variant, other_arguments: -> handle:variant; attr=f:func; attr=Targuments:list(type),min=0; attr=output_types:list(type),min=1; attr=output_shapes:list(shape),min=1; attr=use_inter_op_parallelism:bool,default=true; attr=preserve_cardinality:bool,default=false; attr=force_synchronous:bool,default=false; attr=metadata:string,default=\"\"> This may be expected if your graph generating binary is newer  than this binary. Unknown attributes will be ignored. NodeDef: {{node ParallelMapDatasetV2/_14}}\n",
      " 93%|█████████▎| 28/30 [1:07:26<03:48, 114.16s/it]"
     ]
    },
    {
     "name": "stdout",
     "output_type": "stream",
     "text": [
      "The average treatment effect (ATE) is 1.6665763\n",
      "Epoch 1: loss 2.4958,\tloss_y 1.7021, 1.7236, 0.0432,\tloss_eta 0.7938, 0.8391, 0.0906\n",
      "Warning: covariate dimension does not aligned with the specified input dimension; filling in the remaining dimension with noise.\n",
      "Warning: covariate dimension does not aligned with the specified input dimension; filling in the remaining dimension with noise.\n"
     ]
    },
    {
     "name": "stderr",
     "output_type": "stream",
     "text": [
      "INFO \t Training with 11 minibatches per epoch\n",
      "INFO \t Evaluating 1 minibatches\n",
      "2025-04-26 10:57:00.344020: E tensorflow/core/framework/node_def_util.cc:676] NodeDef mentions attribute use_unbounded_threadpool which is not in the op definition: Op<name=MapDataset; signature=input_dataset:variant, other_arguments: -> handle:variant; attr=f:func; attr=Targuments:list(type),min=0; attr=output_types:list(type),min=1; attr=output_shapes:list(shape),min=1; attr=use_inter_op_parallelism:bool,default=true; attr=preserve_cardinality:bool,default=false; attr=force_synchronous:bool,default=false; attr=metadata:string,default=\"\"> This may be expected if your graph generating binary is newer  than this binary. Unknown attributes will be ignored. NodeDef: {{node ParallelMapDatasetV2/_14}}\n",
      "2025-04-26 10:57:00.344324: E tensorflow/core/framework/node_def_util.cc:676] NodeDef mentions attribute use_unbounded_threadpool which is not in the op definition: Op<name=MapDataset; signature=input_dataset:variant, other_arguments: -> handle:variant; attr=f:func; attr=Targuments:list(type),min=0; attr=output_types:list(type),min=1; attr=output_shapes:list(shape),min=1; attr=use_inter_op_parallelism:bool,default=true; attr=preserve_cardinality:bool,default=false; attr=force_synchronous:bool,default=false; attr=metadata:string,default=\"\"> This may be expected if your graph generating binary is newer  than this binary. Unknown attributes will be ignored. NodeDef: {{node ParallelMapDatasetV2/_14}}\n",
      "2025-04-26 10:57:05.889290: E tensorflow/core/framework/node_def_util.cc:676] NodeDef mentions attribute use_unbounded_threadpool which is not in the op definition: Op<name=MapDataset; signature=input_dataset:variant, other_arguments: -> handle:variant; attr=f:func; attr=Targuments:list(type),min=0; attr=output_types:list(type),min=1; attr=output_shapes:list(shape),min=1; attr=use_inter_op_parallelism:bool,default=true; attr=preserve_cardinality:bool,default=false; attr=force_synchronous:bool,default=false; attr=metadata:string,default=\"\"> This may be expected if your graph generating binary is newer  than this binary. Unknown attributes will be ignored. NodeDef: {{node ParallelMapDatasetV2/_14}}\n",
      "2025-04-26 10:57:05.889592: E tensorflow/core/framework/node_def_util.cc:676] NodeDef mentions attribute use_unbounded_threadpool which is not in the op definition: Op<name=MapDataset; signature=input_dataset:variant, other_arguments: -> handle:variant; attr=f:func; attr=Targuments:list(type),min=0; attr=output_types:list(type),min=1; attr=output_shapes:list(shape),min=1; attr=use_inter_op_parallelism:bool,default=true; attr=preserve_cardinality:bool,default=false; attr=force_synchronous:bool,default=false; attr=metadata:string,default=\"\"> This may be expected if your graph generating binary is newer  than this binary. Unknown attributes will be ignored. NodeDef: {{node ParallelMapDatasetV2/_14}}\n",
      " 97%|█████████▋| 29/30 [1:09:22<01:54, 114.51s/it]"
     ]
    },
    {
     "name": "stdout",
     "output_type": "stream",
     "text": [
      "The average treatment effect (ATE) is 1.526685\n",
      "Epoch 1: loss 2.4896,\tloss_y 1.7082, 1.7248, 0.0333,\tloss_eta 0.7814, 0.8140, 0.0652\n",
      "Warning: covariate dimension does not aligned with the specified input dimension; filling in the remaining dimension with noise.\n",
      "Warning: covariate dimension does not aligned with the specified input dimension; filling in the remaining dimension with noise.\n"
     ]
    },
    {
     "name": "stderr",
     "output_type": "stream",
     "text": [
      "INFO \t Training with 11 minibatches per epoch\n",
      "INFO \t Evaluating 1 minibatches\n",
      "2025-04-26 10:58:51.313034: E tensorflow/core/framework/node_def_util.cc:676] NodeDef mentions attribute use_unbounded_threadpool which is not in the op definition: Op<name=MapDataset; signature=input_dataset:variant, other_arguments: -> handle:variant; attr=f:func; attr=Targuments:list(type),min=0; attr=output_types:list(type),min=1; attr=output_shapes:list(shape),min=1; attr=use_inter_op_parallelism:bool,default=true; attr=preserve_cardinality:bool,default=false; attr=force_synchronous:bool,default=false; attr=metadata:string,default=\"\"> This may be expected if your graph generating binary is newer  than this binary. Unknown attributes will be ignored. NodeDef: {{node ParallelMapDatasetV2/_14}}\n",
      "2025-04-26 10:58:51.313301: E tensorflow/core/framework/node_def_util.cc:676] NodeDef mentions attribute use_unbounded_threadpool which is not in the op definition: Op<name=MapDataset; signature=input_dataset:variant, other_arguments: -> handle:variant; attr=f:func; attr=Targuments:list(type),min=0; attr=output_types:list(type),min=1; attr=output_shapes:list(shape),min=1; attr=use_inter_op_parallelism:bool,default=true; attr=preserve_cardinality:bool,default=false; attr=force_synchronous:bool,default=false; attr=metadata:string,default=\"\"> This may be expected if your graph generating binary is newer  than this binary. Unknown attributes will be ignored. NodeDef: {{node ParallelMapDatasetV2/_14}}\n",
      "2025-04-26 10:58:56.899255: E tensorflow/core/framework/node_def_util.cc:676] NodeDef mentions attribute use_unbounded_threadpool which is not in the op definition: Op<name=MapDataset; signature=input_dataset:variant, other_arguments: -> handle:variant; attr=f:func; attr=Targuments:list(type),min=0; attr=output_types:list(type),min=1; attr=output_shapes:list(shape),min=1; attr=use_inter_op_parallelism:bool,default=true; attr=preserve_cardinality:bool,default=false; attr=force_synchronous:bool,default=false; attr=metadata:string,default=\"\"> This may be expected if your graph generating binary is newer  than this binary. Unknown attributes will be ignored. NodeDef: {{node ParallelMapDatasetV2/_14}}\n",
      "2025-04-26 10:58:56.899516: E tensorflow/core/framework/node_def_util.cc:676] NodeDef mentions attribute use_unbounded_threadpool which is not in the op definition: Op<name=MapDataset; signature=input_dataset:variant, other_arguments: -> handle:variant; attr=f:func; attr=Targuments:list(type),min=0; attr=output_types:list(type),min=1; attr=output_shapes:list(shape),min=1; attr=use_inter_op_parallelism:bool,default=true; attr=preserve_cardinality:bool,default=false; attr=force_synchronous:bool,default=false; attr=metadata:string,default=\"\"> This may be expected if your graph generating binary is newer  than this binary. Unknown attributes will be ignored. NodeDef: {{node ParallelMapDatasetV2/_14}}\n",
      "100%|██████████| 30/30 [1:11:13<00:00, 142.43s/it]\n"
     ]
    },
    {
     "name": "stdout",
     "output_type": "stream",
     "text": [
      "The average treatment effect (ATE) is 1.606668\n",
      "Running experiments for strength_instr = 4.0\n"
     ]
    },
    {
     "name": "stderr",
     "output_type": "stream",
     "text": [
      "  0%|          | 0/30 [00:00<?, ?it/s]"
     ]
    },
    {
     "name": "stdout",
     "output_type": "stream",
     "text": [
      "Epoch 1: loss 2.4025,\tloss_y 1.6539, 1.6788, 0.0498,\tloss_eta 0.7486, 0.7875, 0.0778\n",
      "Warning: covariate dimension does not aligned with the specified input dimension; filling in the remaining dimension with noise.\n",
      "Warning: covariate dimension does not aligned with the specified input dimension; filling in the remaining dimension with noise.\n"
     ]
    },
    {
     "name": "stderr",
     "output_type": "stream",
     "text": [
      "[I 2025-04-26 10:59:00,176] A new study created in memory with name: tarnet_tune\n",
      "[I 2025-04-26 10:59:03,923] Trial 0 finished with value: 1.2366102933883667 and parameters: {'lr': 1.0339056871142322e-05, 'wd': 5.0706536248238555e-05, 'bs': 128, 'epochs': 450, 'rep1': 23, 'rep2': 78, 'head': 78, 'drop': 0.0005276535809601268}. Best is trial 0 with value: 1.2366102933883667.\n",
      "[I 2025-04-26 10:59:17,224] Trial 1 finished with value: 0.47814810276031494 and parameters: {'lr': 1.0612794150647127e-05, 'wd': 0.000881603065885819, 'bs': 32, 'epochs': 715, 'rep1': 23, 'rep2': 56, 'head': 95, 'drop': 0.0007482476888166846}. Best is trial 1 with value: 0.47814810276031494.\n",
      "[I 2025-04-26 10:59:23,215] Trial 2 finished with value: 0.4191761612892151 and parameters: {'lr': 0.0047910810134307105, 'wd': 0.000593859909663903, 'bs': 128, 'epochs': 680, 'rep1': 50, 'rep2': 81, 'head': 97, 'drop': 0.0006166935230057314}. Best is trial 2 with value: 0.4191761612892151.\n",
      "[I 2025-04-26 10:59:30,913] Trial 3 finished with value: 0.43886497616767883 and parameters: {'lr': 4.6173101164458605e-05, 'wd': 8.064790537405742e-05, 'bs': 32, 'epochs': 394, 'rep1': 31, 'rep2': 78, 'head': 100, 'drop': 0.0003268786950888833}. Best is trial 2 with value: 0.4191761612892151.\n",
      "[I 2025-04-26 10:59:42,448] Trial 4 finished with value: 0.39149752259254456 and parameters: {'lr': 0.009006926917536911, 'wd': 0.0014051076275082208, 'bs': 32, 'epochs': 623, 'rep1': 49, 'rep2': 65, 'head': 51, 'drop': 0.0008959178808924625}. Best is trial 4 with value: 0.39149752259254456.\n",
      "[I 2025-04-26 10:59:45,324] Trial 5 finished with value: 0.4244290888309479 and parameters: {'lr': 0.00195980119950576, 'wd': 0.00033676838644539905, 'bs': 256, 'epochs': 440, 'rep1': 38, 'rep2': 79, 'head': 64, 'drop': 6.821820747875696e-05}. Best is trial 4 with value: 0.39149752259254456.\n",
      "[I 2025-04-26 10:59:51,014] Trial 6 finished with value: 0.43255215883255005 and parameters: {'lr': 0.00010763904234653625, 'wd': 0.0037372972736547647, 'bs': 128, 'epochs': 682, 'rep1': 49, 'rep2': 87, 'head': 60, 'drop': 0.00024805934572920375}. Best is trial 4 with value: 0.39149752259254456.\n",
      "[I 2025-04-26 10:59:53,747] Trial 7 finished with value: 0.44471675157546997 and parameters: {'lr': 8.778628187285483e-05, 'wd': 0.00024131618050358231, 'bs': 128, 'epochs': 333, 'rep1': 41, 'rep2': 70, 'head': 59, 'drop': 7.525088792430923e-05}. Best is trial 4 with value: 0.39149752259254456.\n",
      "[I 2025-04-26 11:00:00,270] Trial 8 finished with value: 0.5649221539497375 and parameters: {'lr': 1.1622184377427019e-05, 'wd': 0.0002088933525755439, 'bs': 128, 'epochs': 770, 'rep1': 47, 'rep2': 50, 'head': 83, 'drop': 2.520655533650118e-05}. Best is trial 4 with value: 0.39149752259254456.\n",
      "[I 2025-04-26 11:00:05,072] Trial 9 finished with value: 0.39179566502571106 and parameters: {'lr': 8.187537801468783e-05, 'wd': 0.0026107637768398415, 'bs': 128, 'epochs': 587, 'rep1': 44, 'rep2': 83, 'head': 51, 'drop': 0.00033557370004480926}. Best is trial 4 with value: 0.39149752259254456.\n"
     ]
    },
    {
     "name": "stdout",
     "output_type": "stream",
     "text": [
      "🔍 Best params for tarnet: {'lr': 0.009006926917536911, 'wd': 0.0014051076275082208, 'bs': 32, 'epochs': 623, 'rep1': 49, 'rep2': 65, 'head': 51, 'drop': 0.0008959178808924625}\n"
     ]
    },
    {
     "name": "stderr",
     "output_type": "stream",
     "text": [
      "[I 2025-04-26 11:00:20,913] A new study created in memory with name: cfrnet_tune\n",
      "[I 2025-04-26 11:00:29,674] Trial 0 finished with value: 0.45023563504219055 and parameters: {'lr': 5.0876683166861595e-05, 'wd': 0.0010109979731186853, 'bs': 256, 'epochs': 722, 'rep1': 183, 'rep2': 70, 'head': 110, 'drop': 0.0006933392519887571, 'ipm_weight': 1.6635812002132333}. Best is trial 0 with value: 0.45023563504219055.\n",
      "[I 2025-04-26 11:00:37,071] Trial 1 finished with value: 0.41939598321914673 and parameters: {'lr': 0.0001140541828506177, 'wd': 0.007971696397455158, 'bs': 128, 'epochs': 508, 'rep1': 169, 'rep2': 138, 'head': 138, 'drop': 0.0003757456680703957, 'ipm_weight': 0.15903689229891643}. Best is trial 1 with value: 0.41939598321914673.\n",
      "[I 2025-04-26 11:00:43,987] Trial 2 finished with value: 0.4315132200717926 and parameters: {'lr': 0.0003234024487250443, 'wd': 9.49130650876421e-05, 'bs': 256, 'epochs': 587, 'rep1': 190, 'rep2': 60, 'head': 109, 'drop': 0.0006856893748297085, 'ipm_weight': 0.036898229509414855}. Best is trial 1 with value: 0.41939598321914673.\n",
      "[I 2025-04-26 11:00:52,805] Trial 3 finished with value: 0.41477730870246887 and parameters: {'lr': 0.0007606617595363129, 'wd': 0.0028080325489197922, 'bs': 256, 'epochs': 755, 'rep1': 117, 'rep2': 99, 'head': 96, 'drop': 0.00018809349139064436, 'ipm_weight': 0.011727356027175888}. Best is trial 3 with value: 0.41477730870246887.\n",
      "[I 2025-04-26 11:01:11,284] Trial 4 finished with value: 0.42961347103118896 and parameters: {'lr': 0.00063113133363265, 'wd': 0.00015310188834727326, 'bs': 32, 'epochs': 598, 'rep1': 97, 'rep2': 162, 'head': 141, 'drop': 0.0002904176474446162, 'ipm_weight': 0.049323017781713}. Best is trial 3 with value: 0.41477730870246887.\n",
      "[I 2025-04-26 11:01:19,521] Trial 5 finished with value: 0.49115362763404846 and parameters: {'lr': 5.75385187527836e-05, 'wd': 3.9480592891467355e-05, 'bs': 128, 'epochs': 623, 'rep1': 53, 'rep2': 147, 'head': 100, 'drop': 0.0009260806225637396, 'ipm_weight': 2.6094670216344955}. Best is trial 3 with value: 0.41477730870246887.\n",
      "[I 2025-04-26 11:01:28,640] Trial 6 finished with value: 0.489376038312912 and parameters: {'lr': 7.960783296911511e-05, 'wd': 1.2705096539051897e-05, 'bs': 256, 'epochs': 738, 'rep1': 182, 'rep2': 172, 'head': 55, 'drop': 0.0009906195841403924, 'ipm_weight': 1.707114851895285}. Best is trial 3 with value: 0.41477730870246887.\n",
      "[I 2025-04-26 11:01:32,679] Trial 7 finished with value: 0.46905848383903503 and parameters: {'lr': 0.0030379267287115796, 'wd': 7.051452866925781e-05, 'bs': 256, 'epochs': 334, 'rep1': 124, 'rep2': 152, 'head': 62, 'drop': 0.00011795763427056727, 'ipm_weight': 0.5747979104225501}. Best is trial 3 with value: 0.41477730870246887.\n",
      "[I 2025-04-26 11:01:40,972] Trial 8 finished with value: 0.4905623495578766 and parameters: {'lr': 0.002701055956454769, 'wd': 0.004479178557662487, 'bs': 256, 'epochs': 687, 'rep1': 127, 'rep2': 94, 'head': 103, 'drop': 0.0006785577622443965, 'ipm_weight': 2.297117150874683}. Best is trial 3 with value: 0.41477730870246887.\n",
      "[I 2025-04-26 11:01:49,392] Trial 9 finished with value: 0.42520877718925476 and parameters: {'lr': 0.0006822577507419389, 'wd': 0.00012248612336255313, 'bs': 128, 'epochs': 646, 'rep1': 188, 'rep2': 113, 'head': 50, 'drop': 0.0005470461468128477, 'ipm_weight': 0.26984405304134246}. Best is trial 3 with value: 0.41477730870246887.\n"
     ]
    },
    {
     "name": "stdout",
     "output_type": "stream",
     "text": [
      "🔍 Best params for cfrnet: {'lr': 0.0007606617595363129, 'wd': 0.0028080325489197922, 'bs': 256, 'epochs': 755, 'rep1': 117, 'rep2': 99, 'head': 96, 'drop': 0.00018809349139064436, 'ipm_weight': 0.011727356027175888}\n"
     ]
    },
    {
     "name": "stderr",
     "output_type": "stream",
     "text": [
      "[I 2025-04-26 11:02:01,747] A new study created in memory with name: cevae_tune\n",
      "INFO \t Training with 4 minibatches per epoch\n",
      "[I 2025-04-26 11:02:19,204] Trial 0 finished with value: 33.0376713256836 and parameters: {'lr': 0.0013364600715444356, 'wd': 2.654694645469461e-05, 'bs': 256, 'epochs': 618, 'latent_dim': 31, 'hidden_dim': 144, 'num_layers': 3, 'num_samples': 100}. Best is trial 0 with value: 33.0376713256836.\n",
      "INFO \t Training with 4 minibatches per epoch\n",
      "[I 2025-04-26 11:02:33,966] Trial 1 finished with value: 48.8326548461914 and parameters: {'lr': 0.005412081220532825, 'wd': 0.00037515856940589825, 'bs': 256, 'epochs': 544, 'latent_dim': 151, 'hidden_dim': 20, 'num_layers': 3, 'num_samples': 50}. Best is trial 0 with value: 33.0376713256836.\n",
      "INFO \t Training with 8 minibatches per epoch\n",
      "[I 2025-04-26 11:03:00,149] Trial 2 finished with value: 45.992677734375 and parameters: {'lr': 0.00033400301685986456, 'wd': 1.037107831530392e-05, 'bs': 128, 'epochs': 364, 'latent_dim': 164, 'hidden_dim': 143, 'num_layers': 4, 'num_samples': 50}. Best is trial 0 with value: 33.0376713256836.\n",
      "INFO \t Training with 32 minibatches per epoch\n",
      "[I 2025-04-26 11:04:55,874] Trial 3 finished with value: 34.77285241699219 and parameters: {'lr': 0.00021998614607190474, 'wd': 2.7083730966113933e-05, 'bs': 32, 'epochs': 597, 'latent_dim': 64, 'hidden_dim': 40, 'num_layers': 5, 'num_samples': 200}. Best is trial 0 with value: 33.0376713256836.\n",
      "INFO \t Training with 4 minibatches per epoch\n",
      "[I 2025-04-26 11:05:14,713] Trial 4 finished with value: 36.72614874267578 and parameters: {'lr': 0.0005395530841598308, 'wd': 0.000272970893756137, 'bs': 256, 'epochs': 648, 'latent_dim': 42, 'hidden_dim': 378, 'num_layers': 2, 'num_samples': 200}. Best is trial 0 with value: 33.0376713256836.\n",
      "INFO \t Training with 4 minibatches per epoch\n",
      "[I 2025-04-26 11:05:47,960] Trial 5 finished with value: 43.76342376708985 and parameters: {'lr': 0.00010437475715676472, 'wd': 0.00024098273098470898, 'bs': 256, 'epochs': 778, 'latent_dim': 136, 'hidden_dim': 132, 'num_layers': 5, 'num_samples': 10}. Best is trial 0 with value: 33.0376713256836.\n",
      "INFO \t Training with 4 minibatches per epoch\n",
      "[I 2025-04-26 11:06:10,229] Trial 6 finished with value: 39.77750073242188 and parameters: {'lr': 0.0006421640560435622, 'wd': 2.7414649018292955e-05, 'bs': 256, 'epochs': 521, 'latent_dim': 97, 'hidden_dim': 362, 'num_layers': 3, 'num_samples': 10}. Best is trial 0 with value: 33.0376713256836.\n",
      "INFO \t Training with 4 minibatches per epoch\n",
      "[I 2025-04-26 11:06:26,452] Trial 7 finished with value: 36.04532098388672 and parameters: {'lr': 0.0005330576867385399, 'wd': 0.0012364890855894983, 'bs': 256, 'epochs': 407, 'latent_dim': 56, 'hidden_dim': 112, 'num_layers': 5, 'num_samples': 100}. Best is trial 0 with value: 33.0376713256836.\n",
      "INFO \t Training with 32 minibatches per epoch\n",
      "[I 2025-04-26 11:07:59,643] Trial 8 finished with value: 49.36341265869141 and parameters: {'lr': 3.756168114916415e-05, 'wd': 1.6857320274156796e-05, 'bs': 32, 'epochs': 621, 'latent_dim': 162, 'hidden_dim': 257, 'num_layers': 2, 'num_samples': 200}. Best is trial 0 with value: 33.0376713256836.\n",
      "INFO \t Training with 8 minibatches per epoch\n",
      "[I 2025-04-26 11:09:01,203] Trial 9 finished with value: 31.582934814453125 and parameters: {'lr': 0.008090124231319128, 'wd': 0.0001453254034664695, 'bs': 128, 'epochs': 633, 'latent_dim': 47, 'hidden_dim': 400, 'num_layers': 5, 'num_samples': 10}. Best is trial 9 with value: 31.582934814453125.\n",
      "INFO \t Training with 11 minibatches per epoch\n"
     ]
    },
    {
     "name": "stdout",
     "output_type": "stream",
     "text": [
      "🔍 Best params for cevae: {'lr': 0.008090124231319128, 'wd': 0.0001453254034664695, 'bs': 128, 'epochs': 633, 'latent_dim': 47, 'hidden_dim': 400, 'num_layers': 5, 'num_samples': 10}\n"
     ]
    },
    {
     "name": "stderr",
     "output_type": "stream",
     "text": [
      "INFO \t Evaluating 1 minibatches\n",
      "[I 2025-04-26 11:10:29,408] A new study created in memory with name: dragonnet_tune\n",
      "[I 2025-04-26 11:10:41,795] Trial 0 finished with value: 0.2255006581544876 and parameters: {'lr': 4.7660678885711944e-05, 'wd': 0.006135828427667704, 'bs': 32, 'epochs': 440, 'shared_hidden': 164, 'outcome_hidden': 130}. Best is trial 0 with value: 0.2255006581544876.\n",
      "[I 2025-04-26 11:10:58,134] Trial 1 finished with value: 0.2138528972864151 and parameters: {'lr': 0.0007995363630652968, 'wd': 0.0052832005860395555, 'bs': 32, 'epochs': 649, 'shared_hidden': 107, 'outcome_hidden': 103}. Best is trial 1 with value: 0.2138528972864151.\n",
      "[I 2025-04-26 11:11:04,608] Trial 2 finished with value: 0.23471319675445557 and parameters: {'lr': 0.0012438555955276934, 'wd': 2.9500690580306985e-05, 'bs': 128, 'epochs': 556, 'shared_hidden': 199, 'outcome_hidden': 116}. Best is trial 1 with value: 0.2138528972864151.\n",
      "[I 2025-04-26 11:11:10,702] Trial 3 finished with value: 0.22383248805999756 and parameters: {'lr': 0.0007004275204555515, 'wd': 0.0021680499056093917, 'bs': 256, 'epochs': 679, 'shared_hidden': 197, 'outcome_hidden': 156}. Best is trial 1 with value: 0.2138528972864151.\n",
      "[I 2025-04-26 11:11:20,038] Trial 4 finished with value: 0.22410041093826294 and parameters: {'lr': 4.1166419469765595e-05, 'wd': 0.001348150988240453, 'bs': 32, 'epochs': 338, 'shared_hidden': 139, 'outcome_hidden': 133}. Best is trial 1 with value: 0.2138528972864151.\n",
      "[I 2025-04-26 11:11:35,849] Trial 5 finished with value: 0.23531265556812286 and parameters: {'lr': 0.0008721335954443149, 'wd': 0.00026137622208764294, 'bs': 32, 'epochs': 594, 'shared_hidden': 109, 'outcome_hidden': 150}. Best is trial 1 with value: 0.2138528972864151.\n",
      "[I 2025-04-26 11:11:38,004] Trial 6 finished with value: 0.23813876509666443 and parameters: {'lr': 8.375357115113586e-05, 'wd': 0.0012718132725110366, 'bs': 256, 'epochs': 305, 'shared_hidden': 65, 'outcome_hidden': 79}. Best is trial 1 with value: 0.2138528972864151.\n",
      "[I 2025-04-26 11:11:44,728] Trial 7 finished with value: 0.2294977307319641 and parameters: {'lr': 3.898815746050542e-05, 'wd': 0.00022611515294629212, 'bs': 128, 'epochs': 588, 'shared_hidden': 77, 'outcome_hidden': 195}. Best is trial 1 with value: 0.2138528972864151.\n",
      "[I 2025-04-26 11:11:49,603] Trial 8 finished with value: 0.23081852495670319 and parameters: {'lr': 0.00010713952115933203, 'wd': 7.885873440465877e-05, 'bs': 256, 'epochs': 569, 'shared_hidden': 94, 'outcome_hidden': 185}. Best is trial 1 with value: 0.2138528972864151.\n",
      "[I 2025-04-26 11:11:54,340] Trial 9 finished with value: 0.21929490566253662 and parameters: {'lr': 0.0018762543130304227, 'wd': 4.124134358630447e-05, 'bs': 256, 'epochs': 596, 'shared_hidden': 112, 'outcome_hidden': 152}. Best is trial 1 with value: 0.2138528972864151.\n"
     ]
    },
    {
     "name": "stdout",
     "output_type": "stream",
     "text": [
      "🔍 Best params for dragonnet: {'lr': 0.0007995363630652968, 'wd': 0.0052832005860395555, 'bs': 32, 'epochs': 649, 'shared_hidden': 107, 'outcome_hidden': 103}\n"
     ]
    },
    {
     "name": "stderr",
     "output_type": "stream",
     "text": [
      "2025-04-26 11:12:20.233051: E tensorflow/core/framework/node_def_util.cc:676] NodeDef mentions attribute use_unbounded_threadpool which is not in the op definition: Op<name=MapDataset; signature=input_dataset:variant, other_arguments: -> handle:variant; attr=f:func; attr=Targuments:list(type),min=0; attr=output_types:list(type),min=1; attr=output_shapes:list(shape),min=1; attr=use_inter_op_parallelism:bool,default=true; attr=preserve_cardinality:bool,default=false; attr=force_synchronous:bool,default=false; attr=metadata:string,default=\"\"> This may be expected if your graph generating binary is newer  than this binary. Unknown attributes will be ignored. NodeDef: {{node ParallelMapDatasetV2/_14}}\n",
      "2025-04-26 11:12:20.233341: E tensorflow/core/framework/node_def_util.cc:676] NodeDef mentions attribute use_unbounded_threadpool which is not in the op definition: Op<name=MapDataset; signature=input_dataset:variant, other_arguments: -> handle:variant; attr=f:func; attr=Targuments:list(type),min=0; attr=output_types:list(type),min=1; attr=output_shapes:list(shape),min=1; attr=use_inter_op_parallelism:bool,default=true; attr=preserve_cardinality:bool,default=false; attr=force_synchronous:bool,default=false; attr=metadata:string,default=\"\"> This may be expected if your graph generating binary is newer  than this binary. Unknown attributes will be ignored. NodeDef: {{node ParallelMapDatasetV2/_14}}\n",
      "2025-04-26 11:12:25.757592: E tensorflow/core/framework/node_def_util.cc:676] NodeDef mentions attribute use_unbounded_threadpool which is not in the op definition: Op<name=MapDataset; signature=input_dataset:variant, other_arguments: -> handle:variant; attr=f:func; attr=Targuments:list(type),min=0; attr=output_types:list(type),min=1; attr=output_shapes:list(shape),min=1; attr=use_inter_op_parallelism:bool,default=true; attr=preserve_cardinality:bool,default=false; attr=force_synchronous:bool,default=false; attr=metadata:string,default=\"\"> This may be expected if your graph generating binary is newer  than this binary. Unknown attributes will be ignored. NodeDef: {{node ParallelMapDatasetV2/_14}}\n",
      "2025-04-26 11:12:25.757888: E tensorflow/core/framework/node_def_util.cc:676] NodeDef mentions attribute use_unbounded_threadpool which is not in the op definition: Op<name=MapDataset; signature=input_dataset:variant, other_arguments: -> handle:variant; attr=f:func; attr=Targuments:list(type),min=0; attr=output_types:list(type),min=1; attr=output_shapes:list(shape),min=1; attr=use_inter_op_parallelism:bool,default=true; attr=preserve_cardinality:bool,default=false; attr=force_synchronous:bool,default=false; attr=metadata:string,default=\"\"> This may be expected if your graph generating binary is newer  than this binary. Unknown attributes will be ignored. NodeDef: {{node ParallelMapDatasetV2/_14}}\n",
      "  3%|▎         | 1/30 [13:28<6:30:56, 808.86s/it]"
     ]
    },
    {
     "name": "stdout",
     "output_type": "stream",
     "text": [
      "The average treatment effect (ATE) is 1.6286653\n",
      "Epoch 1: loss 2.4931,\tloss_y 1.7369, 1.7507, 0.0276,\tloss_eta 0.7562, 0.7955, 0.0786\n",
      "Warning: covariate dimension does not aligned with the specified input dimension; filling in the remaining dimension with noise.\n",
      "Warning: covariate dimension does not aligned with the specified input dimension; filling in the remaining dimension with noise.\n"
     ]
    },
    {
     "name": "stderr",
     "output_type": "stream",
     "text": [
      "INFO \t Training with 11 minibatches per epoch\n",
      "INFO \t Evaluating 1 minibatches\n",
      "2025-04-26 11:14:48.333544: E tensorflow/core/framework/node_def_util.cc:676] NodeDef mentions attribute use_unbounded_threadpool which is not in the op definition: Op<name=MapDataset; signature=input_dataset:variant, other_arguments: -> handle:variant; attr=f:func; attr=Targuments:list(type),min=0; attr=output_types:list(type),min=1; attr=output_shapes:list(shape),min=1; attr=use_inter_op_parallelism:bool,default=true; attr=preserve_cardinality:bool,default=false; attr=force_synchronous:bool,default=false; attr=metadata:string,default=\"\"> This may be expected if your graph generating binary is newer  than this binary. Unknown attributes will be ignored. NodeDef: {{node ParallelMapDatasetV2/_14}}\n",
      "2025-04-26 11:14:48.333854: E tensorflow/core/framework/node_def_util.cc:676] NodeDef mentions attribute use_unbounded_threadpool which is not in the op definition: Op<name=MapDataset; signature=input_dataset:variant, other_arguments: -> handle:variant; attr=f:func; attr=Targuments:list(type),min=0; attr=output_types:list(type),min=1; attr=output_shapes:list(shape),min=1; attr=use_inter_op_parallelism:bool,default=true; attr=preserve_cardinality:bool,default=false; attr=force_synchronous:bool,default=false; attr=metadata:string,default=\"\"> This may be expected if your graph generating binary is newer  than this binary. Unknown attributes will be ignored. NodeDef: {{node ParallelMapDatasetV2/_14}}\n",
      "2025-04-26 11:14:53.971310: E tensorflow/core/framework/node_def_util.cc:676] NodeDef mentions attribute use_unbounded_threadpool which is not in the op definition: Op<name=MapDataset; signature=input_dataset:variant, other_arguments: -> handle:variant; attr=f:func; attr=Targuments:list(type),min=0; attr=output_types:list(type),min=1; attr=output_shapes:list(shape),min=1; attr=use_inter_op_parallelism:bool,default=true; attr=preserve_cardinality:bool,default=false; attr=force_synchronous:bool,default=false; attr=metadata:string,default=\"\"> This may be expected if your graph generating binary is newer  than this binary. Unknown attributes will be ignored. NodeDef: {{node ParallelMapDatasetV2/_14}}\n",
      "2025-04-26 11:14:53.971628: E tensorflow/core/framework/node_def_util.cc:676] NodeDef mentions attribute use_unbounded_threadpool which is not in the op definition: Op<name=MapDataset; signature=input_dataset:variant, other_arguments: -> handle:variant; attr=f:func; attr=Targuments:list(type),min=0; attr=output_types:list(type),min=1; attr=output_shapes:list(shape),min=1; attr=use_inter_op_parallelism:bool,default=true; attr=preserve_cardinality:bool,default=false; attr=force_synchronous:bool,default=false; attr=metadata:string,default=\"\"> This may be expected if your graph generating binary is newer  than this binary. Unknown attributes will be ignored. NodeDef: {{node ParallelMapDatasetV2/_14}}\n",
      "  7%|▋         | 2/30 [15:57<3:16:06, 420.25s/it]"
     ]
    },
    {
     "name": "stdout",
     "output_type": "stream",
     "text": [
      "The average treatment effect (ATE) is 1.5013294\n",
      "Epoch 1: loss 2.5563,\tloss_y 1.7785, 1.7927, 0.0283,\tloss_eta 0.7778, 0.8061, 0.0566\n",
      "Warning: covariate dimension does not aligned with the specified input dimension; filling in the remaining dimension with noise.\n",
      "Warning: covariate dimension does not aligned with the specified input dimension; filling in the remaining dimension with noise.\n"
     ]
    },
    {
     "name": "stderr",
     "output_type": "stream",
     "text": [
      "INFO \t Training with 11 minibatches per epoch\n",
      "INFO \t Evaluating 1 minibatches\n",
      "2025-04-26 11:17:16.407705: E tensorflow/core/framework/node_def_util.cc:676] NodeDef mentions attribute use_unbounded_threadpool which is not in the op definition: Op<name=MapDataset; signature=input_dataset:variant, other_arguments: -> handle:variant; attr=f:func; attr=Targuments:list(type),min=0; attr=output_types:list(type),min=1; attr=output_shapes:list(shape),min=1; attr=use_inter_op_parallelism:bool,default=true; attr=preserve_cardinality:bool,default=false; attr=force_synchronous:bool,default=false; attr=metadata:string,default=\"\"> This may be expected if your graph generating binary is newer  than this binary. Unknown attributes will be ignored. NodeDef: {{node ParallelMapDatasetV2/_14}}\n",
      "2025-04-26 11:17:16.408013: E tensorflow/core/framework/node_def_util.cc:676] NodeDef mentions attribute use_unbounded_threadpool which is not in the op definition: Op<name=MapDataset; signature=input_dataset:variant, other_arguments: -> handle:variant; attr=f:func; attr=Targuments:list(type),min=0; attr=output_types:list(type),min=1; attr=output_shapes:list(shape),min=1; attr=use_inter_op_parallelism:bool,default=true; attr=preserve_cardinality:bool,default=false; attr=force_synchronous:bool,default=false; attr=metadata:string,default=\"\"> This may be expected if your graph generating binary is newer  than this binary. Unknown attributes will be ignored. NodeDef: {{node ParallelMapDatasetV2/_14}}\n",
      "2025-04-26 11:17:21.916713: E tensorflow/core/framework/node_def_util.cc:676] NodeDef mentions attribute use_unbounded_threadpool which is not in the op definition: Op<name=MapDataset; signature=input_dataset:variant, other_arguments: -> handle:variant; attr=f:func; attr=Targuments:list(type),min=0; attr=output_types:list(type),min=1; attr=output_shapes:list(shape),min=1; attr=use_inter_op_parallelism:bool,default=true; attr=preserve_cardinality:bool,default=false; attr=force_synchronous:bool,default=false; attr=metadata:string,default=\"\"> This may be expected if your graph generating binary is newer  than this binary. Unknown attributes will be ignored. NodeDef: {{node ParallelMapDatasetV2/_14}}\n",
      "2025-04-26 11:17:21.917003: E tensorflow/core/framework/node_def_util.cc:676] NodeDef mentions attribute use_unbounded_threadpool which is not in the op definition: Op<name=MapDataset; signature=input_dataset:variant, other_arguments: -> handle:variant; attr=f:func; attr=Targuments:list(type),min=0; attr=output_types:list(type),min=1; attr=output_shapes:list(shape),min=1; attr=use_inter_op_parallelism:bool,default=true; attr=preserve_cardinality:bool,default=false; attr=force_synchronous:bool,default=false; attr=metadata:string,default=\"\"> This may be expected if your graph generating binary is newer  than this binary. Unknown attributes will be ignored. NodeDef: {{node ParallelMapDatasetV2/_14}}\n",
      " 10%|█         | 3/30 [18:25<2:13:09, 295.91s/it]"
     ]
    },
    {
     "name": "stdout",
     "output_type": "stream",
     "text": [
      "The average treatment effect (ATE) is 1.62911\n",
      "Epoch 1: loss 2.4285,\tloss_y 1.6478, 1.6673, 0.0389,\tloss_eta 0.7807, 0.8144, 0.0675\n",
      "Warning: covariate dimension does not aligned with the specified input dimension; filling in the remaining dimension with noise.\n",
      "Warning: covariate dimension does not aligned with the specified input dimension; filling in the remaining dimension with noise.\n"
     ]
    },
    {
     "name": "stderr",
     "output_type": "stream",
     "text": [
      "INFO \t Training with 11 minibatches per epoch\n",
      "INFO \t Evaluating 1 minibatches\n",
      "2025-04-26 11:19:48.093259: E tensorflow/core/framework/node_def_util.cc:676] NodeDef mentions attribute use_unbounded_threadpool which is not in the op definition: Op<name=MapDataset; signature=input_dataset:variant, other_arguments: -> handle:variant; attr=f:func; attr=Targuments:list(type),min=0; attr=output_types:list(type),min=1; attr=output_shapes:list(shape),min=1; attr=use_inter_op_parallelism:bool,default=true; attr=preserve_cardinality:bool,default=false; attr=force_synchronous:bool,default=false; attr=metadata:string,default=\"\"> This may be expected if your graph generating binary is newer  than this binary. Unknown attributes will be ignored. NodeDef: {{node ParallelMapDatasetV2/_14}}\n",
      "2025-04-26 11:19:48.093547: E tensorflow/core/framework/node_def_util.cc:676] NodeDef mentions attribute use_unbounded_threadpool which is not in the op definition: Op<name=MapDataset; signature=input_dataset:variant, other_arguments: -> handle:variant; attr=f:func; attr=Targuments:list(type),min=0; attr=output_types:list(type),min=1; attr=output_shapes:list(shape),min=1; attr=use_inter_op_parallelism:bool,default=true; attr=preserve_cardinality:bool,default=false; attr=force_synchronous:bool,default=false; attr=metadata:string,default=\"\"> This may be expected if your graph generating binary is newer  than this binary. Unknown attributes will be ignored. NodeDef: {{node ParallelMapDatasetV2/_14}}\n",
      "2025-04-26 11:19:53.622027: E tensorflow/core/framework/node_def_util.cc:676] NodeDef mentions attribute use_unbounded_threadpool which is not in the op definition: Op<name=MapDataset; signature=input_dataset:variant, other_arguments: -> handle:variant; attr=f:func; attr=Targuments:list(type),min=0; attr=output_types:list(type),min=1; attr=output_shapes:list(shape),min=1; attr=use_inter_op_parallelism:bool,default=true; attr=preserve_cardinality:bool,default=false; attr=force_synchronous:bool,default=false; attr=metadata:string,default=\"\"> This may be expected if your graph generating binary is newer  than this binary. Unknown attributes will be ignored. NodeDef: {{node ParallelMapDatasetV2/_14}}\n",
      "2025-04-26 11:19:53.622315: E tensorflow/core/framework/node_def_util.cc:676] NodeDef mentions attribute use_unbounded_threadpool which is not in the op definition: Op<name=MapDataset; signature=input_dataset:variant, other_arguments: -> handle:variant; attr=f:func; attr=Targuments:list(type),min=0; attr=output_types:list(type),min=1; attr=output_shapes:list(shape),min=1; attr=use_inter_op_parallelism:bool,default=true; attr=preserve_cardinality:bool,default=false; attr=force_synchronous:bool,default=false; attr=metadata:string,default=\"\"> This may be expected if your graph generating binary is newer  than this binary. Unknown attributes will be ignored. NodeDef: {{node ParallelMapDatasetV2/_14}}\n",
      " 13%|█▎        | 4/30 [20:56<1:43:33, 238.98s/it]"
     ]
    },
    {
     "name": "stdout",
     "output_type": "stream",
     "text": [
      "The average treatment effect (ATE) is 1.639405\n",
      "Epoch 1: loss 2.4204,\tloss_y 1.6324, 1.6427, 0.0207,\tloss_eta 0.7880, 0.8239, 0.0719\n",
      "Warning: covariate dimension does not aligned with the specified input dimension; filling in the remaining dimension with noise.\n",
      "Warning: covariate dimension does not aligned with the specified input dimension; filling in the remaining dimension with noise.\n"
     ]
    },
    {
     "name": "stderr",
     "output_type": "stream",
     "text": [
      "INFO \t Training with 11 minibatches per epoch\n",
      "INFO \t Evaluating 1 minibatches\n",
      "2025-04-26 11:22:15.755728: E tensorflow/core/framework/node_def_util.cc:676] NodeDef mentions attribute use_unbounded_threadpool which is not in the op definition: Op<name=MapDataset; signature=input_dataset:variant, other_arguments: -> handle:variant; attr=f:func; attr=Targuments:list(type),min=0; attr=output_types:list(type),min=1; attr=output_shapes:list(shape),min=1; attr=use_inter_op_parallelism:bool,default=true; attr=preserve_cardinality:bool,default=false; attr=force_synchronous:bool,default=false; attr=metadata:string,default=\"\"> This may be expected if your graph generating binary is newer  than this binary. Unknown attributes will be ignored. NodeDef: {{node ParallelMapDatasetV2/_14}}\n",
      "2025-04-26 11:22:15.756028: E tensorflow/core/framework/node_def_util.cc:676] NodeDef mentions attribute use_unbounded_threadpool which is not in the op definition: Op<name=MapDataset; signature=input_dataset:variant, other_arguments: -> handle:variant; attr=f:func; attr=Targuments:list(type),min=0; attr=output_types:list(type),min=1; attr=output_shapes:list(shape),min=1; attr=use_inter_op_parallelism:bool,default=true; attr=preserve_cardinality:bool,default=false; attr=force_synchronous:bool,default=false; attr=metadata:string,default=\"\"> This may be expected if your graph generating binary is newer  than this binary. Unknown attributes will be ignored. NodeDef: {{node ParallelMapDatasetV2/_14}}\n",
      "2025-04-26 11:22:21.266221: E tensorflow/core/framework/node_def_util.cc:676] NodeDef mentions attribute use_unbounded_threadpool which is not in the op definition: Op<name=MapDataset; signature=input_dataset:variant, other_arguments: -> handle:variant; attr=f:func; attr=Targuments:list(type),min=0; attr=output_types:list(type),min=1; attr=output_shapes:list(shape),min=1; attr=use_inter_op_parallelism:bool,default=true; attr=preserve_cardinality:bool,default=false; attr=force_synchronous:bool,default=false; attr=metadata:string,default=\"\"> This may be expected if your graph generating binary is newer  than this binary. Unknown attributes will be ignored. NodeDef: {{node ParallelMapDatasetV2/_14}}\n",
      "2025-04-26 11:22:21.266503: E tensorflow/core/framework/node_def_util.cc:676] NodeDef mentions attribute use_unbounded_threadpool which is not in the op definition: Op<name=MapDataset; signature=input_dataset:variant, other_arguments: -> handle:variant; attr=f:func; attr=Targuments:list(type),min=0; attr=output_types:list(type),min=1; attr=output_shapes:list(shape),min=1; attr=use_inter_op_parallelism:bool,default=true; attr=preserve_cardinality:bool,default=false; attr=force_synchronous:bool,default=false; attr=metadata:string,default=\"\"> This may be expected if your graph generating binary is newer  than this binary. Unknown attributes will be ignored. NodeDef: {{node ParallelMapDatasetV2/_14}}\n",
      " 17%|█▋        | 5/30 [23:24<1:25:51, 206.04s/it]"
     ]
    },
    {
     "name": "stdout",
     "output_type": "stream",
     "text": [
      "The average treatment effect (ATE) is 1.5173293\n",
      "Epoch 1: loss 2.4401,\tloss_y 1.6782, 1.6974, 0.0384,\tloss_eta 0.7619, 0.8100, 0.0962\n",
      "Warning: covariate dimension does not aligned with the specified input dimension; filling in the remaining dimension with noise.\n",
      "Warning: covariate dimension does not aligned with the specified input dimension; filling in the remaining dimension with noise.\n"
     ]
    },
    {
     "name": "stderr",
     "output_type": "stream",
     "text": [
      "INFO \t Training with 11 minibatches per epoch\n",
      "INFO \t Evaluating 1 minibatches\n",
      "2025-04-26 11:24:44.298401: E tensorflow/core/framework/node_def_util.cc:676] NodeDef mentions attribute use_unbounded_threadpool which is not in the op definition: Op<name=MapDataset; signature=input_dataset:variant, other_arguments: -> handle:variant; attr=f:func; attr=Targuments:list(type),min=0; attr=output_types:list(type),min=1; attr=output_shapes:list(shape),min=1; attr=use_inter_op_parallelism:bool,default=true; attr=preserve_cardinality:bool,default=false; attr=force_synchronous:bool,default=false; attr=metadata:string,default=\"\"> This may be expected if your graph generating binary is newer  than this binary. Unknown attributes will be ignored. NodeDef: {{node ParallelMapDatasetV2/_14}}\n",
      "2025-04-26 11:24:44.298714: E tensorflow/core/framework/node_def_util.cc:676] NodeDef mentions attribute use_unbounded_threadpool which is not in the op definition: Op<name=MapDataset; signature=input_dataset:variant, other_arguments: -> handle:variant; attr=f:func; attr=Targuments:list(type),min=0; attr=output_types:list(type),min=1; attr=output_shapes:list(shape),min=1; attr=use_inter_op_parallelism:bool,default=true; attr=preserve_cardinality:bool,default=false; attr=force_synchronous:bool,default=false; attr=metadata:string,default=\"\"> This may be expected if your graph generating binary is newer  than this binary. Unknown attributes will be ignored. NodeDef: {{node ParallelMapDatasetV2/_14}}\n",
      "2025-04-26 11:24:49.817468: E tensorflow/core/framework/node_def_util.cc:676] NodeDef mentions attribute use_unbounded_threadpool which is not in the op definition: Op<name=MapDataset; signature=input_dataset:variant, other_arguments: -> handle:variant; attr=f:func; attr=Targuments:list(type),min=0; attr=output_types:list(type),min=1; attr=output_shapes:list(shape),min=1; attr=use_inter_op_parallelism:bool,default=true; attr=preserve_cardinality:bool,default=false; attr=force_synchronous:bool,default=false; attr=metadata:string,default=\"\"> This may be expected if your graph generating binary is newer  than this binary. Unknown attributes will be ignored. NodeDef: {{node ParallelMapDatasetV2/_14}}\n",
      "2025-04-26 11:24:49.817739: E tensorflow/core/framework/node_def_util.cc:676] NodeDef mentions attribute use_unbounded_threadpool which is not in the op definition: Op<name=MapDataset; signature=input_dataset:variant, other_arguments: -> handle:variant; attr=f:func; attr=Targuments:list(type),min=0; attr=output_types:list(type),min=1; attr=output_shapes:list(shape),min=1; attr=use_inter_op_parallelism:bool,default=true; attr=preserve_cardinality:bool,default=false; attr=force_synchronous:bool,default=false; attr=metadata:string,default=\"\"> This may be expected if your graph generating binary is newer  than this binary. Unknown attributes will be ignored. NodeDef: {{node ParallelMapDatasetV2/_14}}\n",
      " 20%|██        | 6/30 [25:52<1:14:35, 186.49s/it]"
     ]
    },
    {
     "name": "stdout",
     "output_type": "stream",
     "text": [
      "The average treatment effect (ATE) is 1.6338418\n",
      "Epoch 1: loss 2.5122,\tloss_y 1.7374, 1.7582, 0.0416,\tloss_eta 0.7748, 0.8178, 0.0859\n",
      "Warning: covariate dimension does not aligned with the specified input dimension; filling in the remaining dimension with noise.\n",
      "Warning: covariate dimension does not aligned with the specified input dimension; filling in the remaining dimension with noise.\n"
     ]
    },
    {
     "name": "stderr",
     "output_type": "stream",
     "text": [
      "INFO \t Training with 11 minibatches per epoch\n",
      "INFO \t Evaluating 1 minibatches\n",
      "2025-04-26 11:27:16.828055: E tensorflow/core/framework/node_def_util.cc:676] NodeDef mentions attribute use_unbounded_threadpool which is not in the op definition: Op<name=MapDataset; signature=input_dataset:variant, other_arguments: -> handle:variant; attr=f:func; attr=Targuments:list(type),min=0; attr=output_types:list(type),min=1; attr=output_shapes:list(shape),min=1; attr=use_inter_op_parallelism:bool,default=true; attr=preserve_cardinality:bool,default=false; attr=force_synchronous:bool,default=false; attr=metadata:string,default=\"\"> This may be expected if your graph generating binary is newer  than this binary. Unknown attributes will be ignored. NodeDef: {{node ParallelMapDatasetV2/_14}}\n",
      "2025-04-26 11:27:16.828349: E tensorflow/core/framework/node_def_util.cc:676] NodeDef mentions attribute use_unbounded_threadpool which is not in the op definition: Op<name=MapDataset; signature=input_dataset:variant, other_arguments: -> handle:variant; attr=f:func; attr=Targuments:list(type),min=0; attr=output_types:list(type),min=1; attr=output_shapes:list(shape),min=1; attr=use_inter_op_parallelism:bool,default=true; attr=preserve_cardinality:bool,default=false; attr=force_synchronous:bool,default=false; attr=metadata:string,default=\"\"> This may be expected if your graph generating binary is newer  than this binary. Unknown attributes will be ignored. NodeDef: {{node ParallelMapDatasetV2/_14}}\n",
      "2025-04-26 11:27:22.381737: E tensorflow/core/framework/node_def_util.cc:676] NodeDef mentions attribute use_unbounded_threadpool which is not in the op definition: Op<name=MapDataset; signature=input_dataset:variant, other_arguments: -> handle:variant; attr=f:func; attr=Targuments:list(type),min=0; attr=output_types:list(type),min=1; attr=output_shapes:list(shape),min=1; attr=use_inter_op_parallelism:bool,default=true; attr=preserve_cardinality:bool,default=false; attr=force_synchronous:bool,default=false; attr=metadata:string,default=\"\"> This may be expected if your graph generating binary is newer  than this binary. Unknown attributes will be ignored. NodeDef: {{node ParallelMapDatasetV2/_14}}\n",
      "2025-04-26 11:27:22.382030: E tensorflow/core/framework/node_def_util.cc:676] NodeDef mentions attribute use_unbounded_threadpool which is not in the op definition: Op<name=MapDataset; signature=input_dataset:variant, other_arguments: -> handle:variant; attr=f:func; attr=Targuments:list(type),min=0; attr=output_types:list(type),min=1; attr=output_shapes:list(shape),min=1; attr=use_inter_op_parallelism:bool,default=true; attr=preserve_cardinality:bool,default=false; attr=force_synchronous:bool,default=false; attr=metadata:string,default=\"\"> This may be expected if your graph generating binary is newer  than this binary. Unknown attributes will be ignored. NodeDef: {{node ParallelMapDatasetV2/_14}}\n",
      " 23%|██▎       | 7/30 [28:25<1:07:14, 175.40s/it]"
     ]
    },
    {
     "name": "stdout",
     "output_type": "stream",
     "text": [
      "The average treatment effect (ATE) is 1.4937061\n",
      "Epoch 1: loss 2.5265,\tloss_y 1.7392, 1.7613, 0.0443,\tloss_eta 0.7874, 0.8249, 0.0751\n",
      "Warning: covariate dimension does not aligned with the specified input dimension; filling in the remaining dimension with noise.\n",
      "Warning: covariate dimension does not aligned with the specified input dimension; filling in the remaining dimension with noise.\n"
     ]
    },
    {
     "name": "stderr",
     "output_type": "stream",
     "text": [
      "INFO \t Training with 11 minibatches per epoch\n",
      "INFO \t Evaluating 1 minibatches\n",
      "2025-04-26 11:29:44.234504: E tensorflow/core/framework/node_def_util.cc:676] NodeDef mentions attribute use_unbounded_threadpool which is not in the op definition: Op<name=MapDataset; signature=input_dataset:variant, other_arguments: -> handle:variant; attr=f:func; attr=Targuments:list(type),min=0; attr=output_types:list(type),min=1; attr=output_shapes:list(shape),min=1; attr=use_inter_op_parallelism:bool,default=true; attr=preserve_cardinality:bool,default=false; attr=force_synchronous:bool,default=false; attr=metadata:string,default=\"\"> This may be expected if your graph generating binary is newer  than this binary. Unknown attributes will be ignored. NodeDef: {{node ParallelMapDatasetV2/_14}}\n",
      "2025-04-26 11:29:44.234811: E tensorflow/core/framework/node_def_util.cc:676] NodeDef mentions attribute use_unbounded_threadpool which is not in the op definition: Op<name=MapDataset; signature=input_dataset:variant, other_arguments: -> handle:variant; attr=f:func; attr=Targuments:list(type),min=0; attr=output_types:list(type),min=1; attr=output_shapes:list(shape),min=1; attr=use_inter_op_parallelism:bool,default=true; attr=preserve_cardinality:bool,default=false; attr=force_synchronous:bool,default=false; attr=metadata:string,default=\"\"> This may be expected if your graph generating binary is newer  than this binary. Unknown attributes will be ignored. NodeDef: {{node ParallelMapDatasetV2/_14}}\n",
      "2025-04-26 11:29:49.791487: E tensorflow/core/framework/node_def_util.cc:676] NodeDef mentions attribute use_unbounded_threadpool which is not in the op definition: Op<name=MapDataset; signature=input_dataset:variant, other_arguments: -> handle:variant; attr=f:func; attr=Targuments:list(type),min=0; attr=output_types:list(type),min=1; attr=output_shapes:list(shape),min=1; attr=use_inter_op_parallelism:bool,default=true; attr=preserve_cardinality:bool,default=false; attr=force_synchronous:bool,default=false; attr=metadata:string,default=\"\"> This may be expected if your graph generating binary is newer  than this binary. Unknown attributes will be ignored. NodeDef: {{node ParallelMapDatasetV2/_14}}\n",
      "2025-04-26 11:29:49.791781: E tensorflow/core/framework/node_def_util.cc:676] NodeDef mentions attribute use_unbounded_threadpool which is not in the op definition: Op<name=MapDataset; signature=input_dataset:variant, other_arguments: -> handle:variant; attr=f:func; attr=Targuments:list(type),min=0; attr=output_types:list(type),min=1; attr=output_shapes:list(shape),min=1; attr=use_inter_op_parallelism:bool,default=true; attr=preserve_cardinality:bool,default=false; attr=force_synchronous:bool,default=false; attr=metadata:string,default=\"\"> This may be expected if your graph generating binary is newer  than this binary. Unknown attributes will be ignored. NodeDef: {{node ParallelMapDatasetV2/_14}}\n",
      " 27%|██▋       | 8/30 [30:52<1:01:02, 166.49s/it]"
     ]
    },
    {
     "name": "stdout",
     "output_type": "stream",
     "text": [
      "The average treatment effect (ATE) is 1.5099787\n",
      "Epoch 1: loss 2.4187,\tloss_y 1.6809, 1.7278, 0.0938,\tloss_eta 0.7378, 0.7762, 0.0768\n",
      "Warning: covariate dimension does not aligned with the specified input dimension; filling in the remaining dimension with noise.\n",
      "Warning: covariate dimension does not aligned with the specified input dimension; filling in the remaining dimension with noise.\n"
     ]
    },
    {
     "name": "stderr",
     "output_type": "stream",
     "text": [
      "INFO \t Training with 11 minibatches per epoch\n",
      "INFO \t Evaluating 1 minibatches\n",
      "2025-04-26 11:32:10.929956: E tensorflow/core/framework/node_def_util.cc:676] NodeDef mentions attribute use_unbounded_threadpool which is not in the op definition: Op<name=MapDataset; signature=input_dataset:variant, other_arguments: -> handle:variant; attr=f:func; attr=Targuments:list(type),min=0; attr=output_types:list(type),min=1; attr=output_shapes:list(shape),min=1; attr=use_inter_op_parallelism:bool,default=true; attr=preserve_cardinality:bool,default=false; attr=force_synchronous:bool,default=false; attr=metadata:string,default=\"\"> This may be expected if your graph generating binary is newer  than this binary. Unknown attributes will be ignored. NodeDef: {{node ParallelMapDatasetV2/_14}}\n",
      "2025-04-26 11:32:10.930246: E tensorflow/core/framework/node_def_util.cc:676] NodeDef mentions attribute use_unbounded_threadpool which is not in the op definition: Op<name=MapDataset; signature=input_dataset:variant, other_arguments: -> handle:variant; attr=f:func; attr=Targuments:list(type),min=0; attr=output_types:list(type),min=1; attr=output_shapes:list(shape),min=1; attr=use_inter_op_parallelism:bool,default=true; attr=preserve_cardinality:bool,default=false; attr=force_synchronous:bool,default=false; attr=metadata:string,default=\"\"> This may be expected if your graph generating binary is newer  than this binary. Unknown attributes will be ignored. NodeDef: {{node ParallelMapDatasetV2/_14}}\n",
      "2025-04-26 11:32:16.446982: E tensorflow/core/framework/node_def_util.cc:676] NodeDef mentions attribute use_unbounded_threadpool which is not in the op definition: Op<name=MapDataset; signature=input_dataset:variant, other_arguments: -> handle:variant; attr=f:func; attr=Targuments:list(type),min=0; attr=output_types:list(type),min=1; attr=output_shapes:list(shape),min=1; attr=use_inter_op_parallelism:bool,default=true; attr=preserve_cardinality:bool,default=false; attr=force_synchronous:bool,default=false; attr=metadata:string,default=\"\"> This may be expected if your graph generating binary is newer  than this binary. Unknown attributes will be ignored. NodeDef: {{node ParallelMapDatasetV2/_14}}\n",
      "2025-04-26 11:32:16.447269: E tensorflow/core/framework/node_def_util.cc:676] NodeDef mentions attribute use_unbounded_threadpool which is not in the op definition: Op<name=MapDataset; signature=input_dataset:variant, other_arguments: -> handle:variant; attr=f:func; attr=Targuments:list(type),min=0; attr=output_types:list(type),min=1; attr=output_shapes:list(shape),min=1; attr=use_inter_op_parallelism:bool,default=true; attr=preserve_cardinality:bool,default=false; attr=force_synchronous:bool,default=false; attr=metadata:string,default=\"\"> This may be expected if your graph generating binary is newer  than this binary. Unknown attributes will be ignored. NodeDef: {{node ParallelMapDatasetV2/_14}}\n",
      " 30%|███       | 9/30 [33:19<56:06, 160.29s/it]  "
     ]
    },
    {
     "name": "stdout",
     "output_type": "stream",
     "text": [
      "The average treatment effect (ATE) is 1.6562346\n",
      "Epoch 1: loss 2.4305,\tloss_y 1.6769, 1.6904, 0.0271,\tloss_eta 0.7536, 0.7901, 0.0730\n",
      "Warning: covariate dimension does not aligned with the specified input dimension; filling in the remaining dimension with noise.\n",
      "Warning: covariate dimension does not aligned with the specified input dimension; filling in the remaining dimension with noise.\n"
     ]
    },
    {
     "name": "stderr",
     "output_type": "stream",
     "text": [
      "INFO \t Training with 11 minibatches per epoch\n",
      "INFO \t Evaluating 1 minibatches\n",
      "2025-04-26 11:34:38.324857: E tensorflow/core/framework/node_def_util.cc:676] NodeDef mentions attribute use_unbounded_threadpool which is not in the op definition: Op<name=MapDataset; signature=input_dataset:variant, other_arguments: -> handle:variant; attr=f:func; attr=Targuments:list(type),min=0; attr=output_types:list(type),min=1; attr=output_shapes:list(shape),min=1; attr=use_inter_op_parallelism:bool,default=true; attr=preserve_cardinality:bool,default=false; attr=force_synchronous:bool,default=false; attr=metadata:string,default=\"\"> This may be expected if your graph generating binary is newer  than this binary. Unknown attributes will be ignored. NodeDef: {{node ParallelMapDatasetV2/_14}}\n",
      "2025-04-26 11:34:38.325154: E tensorflow/core/framework/node_def_util.cc:676] NodeDef mentions attribute use_unbounded_threadpool which is not in the op definition: Op<name=MapDataset; signature=input_dataset:variant, other_arguments: -> handle:variant; attr=f:func; attr=Targuments:list(type),min=0; attr=output_types:list(type),min=1; attr=output_shapes:list(shape),min=1; attr=use_inter_op_parallelism:bool,default=true; attr=preserve_cardinality:bool,default=false; attr=force_synchronous:bool,default=false; attr=metadata:string,default=\"\"> This may be expected if your graph generating binary is newer  than this binary. Unknown attributes will be ignored. NodeDef: {{node ParallelMapDatasetV2/_14}}\n",
      "2025-04-26 11:34:43.931571: E tensorflow/core/framework/node_def_util.cc:676] NodeDef mentions attribute use_unbounded_threadpool which is not in the op definition: Op<name=MapDataset; signature=input_dataset:variant, other_arguments: -> handle:variant; attr=f:func; attr=Targuments:list(type),min=0; attr=output_types:list(type),min=1; attr=output_shapes:list(shape),min=1; attr=use_inter_op_parallelism:bool,default=true; attr=preserve_cardinality:bool,default=false; attr=force_synchronous:bool,default=false; attr=metadata:string,default=\"\"> This may be expected if your graph generating binary is newer  than this binary. Unknown attributes will be ignored. NodeDef: {{node ParallelMapDatasetV2/_14}}\n",
      "2025-04-26 11:34:43.931891: E tensorflow/core/framework/node_def_util.cc:676] NodeDef mentions attribute use_unbounded_threadpool which is not in the op definition: Op<name=MapDataset; signature=input_dataset:variant, other_arguments: -> handle:variant; attr=f:func; attr=Targuments:list(type),min=0; attr=output_types:list(type),min=1; attr=output_shapes:list(shape),min=1; attr=use_inter_op_parallelism:bool,default=true; attr=preserve_cardinality:bool,default=false; attr=force_synchronous:bool,default=false; attr=metadata:string,default=\"\"> This may be expected if your graph generating binary is newer  than this binary. Unknown attributes will be ignored. NodeDef: {{node ParallelMapDatasetV2/_14}}\n",
      " 33%|███▎      | 10/30 [35:47<52:06, 156.34s/it]"
     ]
    },
    {
     "name": "stdout",
     "output_type": "stream",
     "text": [
      "The average treatment effect (ATE) is 1.7695881\n",
      "Epoch 1: loss 2.4680,\tloss_y 1.6944, 1.7311, 0.0732,\tloss_eta 0.7736, 0.8037, 0.0603\n",
      "Warning: covariate dimension does not aligned with the specified input dimension; filling in the remaining dimension with noise.\n",
      "Warning: covariate dimension does not aligned with the specified input dimension; filling in the remaining dimension with noise.\n"
     ]
    },
    {
     "name": "stderr",
     "output_type": "stream",
     "text": [
      "INFO \t Training with 11 minibatches per epoch\n",
      "INFO \t Evaluating 1 minibatches\n",
      "2025-04-26 11:37:13.599196: E tensorflow/core/framework/node_def_util.cc:676] NodeDef mentions attribute use_unbounded_threadpool which is not in the op definition: Op<name=MapDataset; signature=input_dataset:variant, other_arguments: -> handle:variant; attr=f:func; attr=Targuments:list(type),min=0; attr=output_types:list(type),min=1; attr=output_shapes:list(shape),min=1; attr=use_inter_op_parallelism:bool,default=true; attr=preserve_cardinality:bool,default=false; attr=force_synchronous:bool,default=false; attr=metadata:string,default=\"\"> This may be expected if your graph generating binary is newer  than this binary. Unknown attributes will be ignored. NodeDef: {{node ParallelMapDatasetV2/_14}}\n",
      "2025-04-26 11:37:13.599469: E tensorflow/core/framework/node_def_util.cc:676] NodeDef mentions attribute use_unbounded_threadpool which is not in the op definition: Op<name=MapDataset; signature=input_dataset:variant, other_arguments: -> handle:variant; attr=f:func; attr=Targuments:list(type),min=0; attr=output_types:list(type),min=1; attr=output_shapes:list(shape),min=1; attr=use_inter_op_parallelism:bool,default=true; attr=preserve_cardinality:bool,default=false; attr=force_synchronous:bool,default=false; attr=metadata:string,default=\"\"> This may be expected if your graph generating binary is newer  than this binary. Unknown attributes will be ignored. NodeDef: {{node ParallelMapDatasetV2/_14}}\n",
      "2025-04-26 11:37:19.133460: E tensorflow/core/framework/node_def_util.cc:676] NodeDef mentions attribute use_unbounded_threadpool which is not in the op definition: Op<name=MapDataset; signature=input_dataset:variant, other_arguments: -> handle:variant; attr=f:func; attr=Targuments:list(type),min=0; attr=output_types:list(type),min=1; attr=output_shapes:list(shape),min=1; attr=use_inter_op_parallelism:bool,default=true; attr=preserve_cardinality:bool,default=false; attr=force_synchronous:bool,default=false; attr=metadata:string,default=\"\"> This may be expected if your graph generating binary is newer  than this binary. Unknown attributes will be ignored. NodeDef: {{node ParallelMapDatasetV2/_14}}\n",
      "2025-04-26 11:37:19.133756: E tensorflow/core/framework/node_def_util.cc:676] NodeDef mentions attribute use_unbounded_threadpool which is not in the op definition: Op<name=MapDataset; signature=input_dataset:variant, other_arguments: -> handle:variant; attr=f:func; attr=Targuments:list(type),min=0; attr=output_types:list(type),min=1; attr=output_shapes:list(shape),min=1; attr=use_inter_op_parallelism:bool,default=true; attr=preserve_cardinality:bool,default=false; attr=force_synchronous:bool,default=false; attr=metadata:string,default=\"\"> This may be expected if your graph generating binary is newer  than this binary. Unknown attributes will be ignored. NodeDef: {{node ParallelMapDatasetV2/_14}}\n",
      " 37%|███▋      | 11/30 [38:22<49:23, 155.99s/it]"
     ]
    },
    {
     "name": "stdout",
     "output_type": "stream",
     "text": [
      "The average treatment effect (ATE) is 1.4765657\n",
      "Epoch 1: loss 2.4198,\tloss_y 1.6543, 1.6745, 0.0404,\tloss_eta 0.7655, 0.8048, 0.0788\n",
      "Warning: covariate dimension does not aligned with the specified input dimension; filling in the remaining dimension with noise.\n",
      "Warning: covariate dimension does not aligned with the specified input dimension; filling in the remaining dimension with noise.\n"
     ]
    },
    {
     "name": "stderr",
     "output_type": "stream",
     "text": [
      "INFO \t Training with 11 minibatches per epoch\n",
      "INFO \t Evaluating 1 minibatches\n",
      "2025-04-26 11:39:42.054818: E tensorflow/core/framework/node_def_util.cc:676] NodeDef mentions attribute use_unbounded_threadpool which is not in the op definition: Op<name=MapDataset; signature=input_dataset:variant, other_arguments: -> handle:variant; attr=f:func; attr=Targuments:list(type),min=0; attr=output_types:list(type),min=1; attr=output_shapes:list(shape),min=1; attr=use_inter_op_parallelism:bool,default=true; attr=preserve_cardinality:bool,default=false; attr=force_synchronous:bool,default=false; attr=metadata:string,default=\"\"> This may be expected if your graph generating binary is newer  than this binary. Unknown attributes will be ignored. NodeDef: {{node ParallelMapDatasetV2/_14}}\n",
      "2025-04-26 11:39:42.055118: E tensorflow/core/framework/node_def_util.cc:676] NodeDef mentions attribute use_unbounded_threadpool which is not in the op definition: Op<name=MapDataset; signature=input_dataset:variant, other_arguments: -> handle:variant; attr=f:func; attr=Targuments:list(type),min=0; attr=output_types:list(type),min=1; attr=output_shapes:list(shape),min=1; attr=use_inter_op_parallelism:bool,default=true; attr=preserve_cardinality:bool,default=false; attr=force_synchronous:bool,default=false; attr=metadata:string,default=\"\"> This may be expected if your graph generating binary is newer  than this binary. Unknown attributes will be ignored. NodeDef: {{node ParallelMapDatasetV2/_14}}\n",
      "2025-04-26 11:39:47.648482: E tensorflow/core/framework/node_def_util.cc:676] NodeDef mentions attribute use_unbounded_threadpool which is not in the op definition: Op<name=MapDataset; signature=input_dataset:variant, other_arguments: -> handle:variant; attr=f:func; attr=Targuments:list(type),min=0; attr=output_types:list(type),min=1; attr=output_shapes:list(shape),min=1; attr=use_inter_op_parallelism:bool,default=true; attr=preserve_cardinality:bool,default=false; attr=force_synchronous:bool,default=false; attr=metadata:string,default=\"\"> This may be expected if your graph generating binary is newer  than this binary. Unknown attributes will be ignored. NodeDef: {{node ParallelMapDatasetV2/_14}}\n",
      "2025-04-26 11:39:47.648779: E tensorflow/core/framework/node_def_util.cc:676] NodeDef mentions attribute use_unbounded_threadpool which is not in the op definition: Op<name=MapDataset; signature=input_dataset:variant, other_arguments: -> handle:variant; attr=f:func; attr=Targuments:list(type),min=0; attr=output_types:list(type),min=1; attr=output_shapes:list(shape),min=1; attr=use_inter_op_parallelism:bool,default=true; attr=preserve_cardinality:bool,default=false; attr=force_synchronous:bool,default=false; attr=metadata:string,default=\"\"> This may be expected if your graph generating binary is newer  than this binary. Unknown attributes will be ignored. NodeDef: {{node ParallelMapDatasetV2/_14}}\n",
      " 40%|████      | 12/30 [40:50<46:06, 153.72s/it]"
     ]
    },
    {
     "name": "stdout",
     "output_type": "stream",
     "text": [
      "The average treatment effect (ATE) is 1.5909091\n",
      "Epoch 1: loss 2.4179,\tloss_y 1.6667, 1.6727, 0.0119,\tloss_eta 0.7512, 0.7794, 0.0563\n",
      "Warning: covariate dimension does not aligned with the specified input dimension; filling in the remaining dimension with noise.\n",
      "Warning: covariate dimension does not aligned with the specified input dimension; filling in the remaining dimension with noise.\n"
     ]
    },
    {
     "name": "stderr",
     "output_type": "stream",
     "text": [
      "INFO \t Training with 11 minibatches per epoch\n",
      "INFO \t Evaluating 1 minibatches\n",
      "2025-04-26 11:42:11.436366: E tensorflow/core/framework/node_def_util.cc:676] NodeDef mentions attribute use_unbounded_threadpool which is not in the op definition: Op<name=MapDataset; signature=input_dataset:variant, other_arguments: -> handle:variant; attr=f:func; attr=Targuments:list(type),min=0; attr=output_types:list(type),min=1; attr=output_shapes:list(shape),min=1; attr=use_inter_op_parallelism:bool,default=true; attr=preserve_cardinality:bool,default=false; attr=force_synchronous:bool,default=false; attr=metadata:string,default=\"\"> This may be expected if your graph generating binary is newer  than this binary. Unknown attributes will be ignored. NodeDef: {{node ParallelMapDatasetV2/_14}}\n",
      "2025-04-26 11:42:11.436654: E tensorflow/core/framework/node_def_util.cc:676] NodeDef mentions attribute use_unbounded_threadpool which is not in the op definition: Op<name=MapDataset; signature=input_dataset:variant, other_arguments: -> handle:variant; attr=f:func; attr=Targuments:list(type),min=0; attr=output_types:list(type),min=1; attr=output_shapes:list(shape),min=1; attr=use_inter_op_parallelism:bool,default=true; attr=preserve_cardinality:bool,default=false; attr=force_synchronous:bool,default=false; attr=metadata:string,default=\"\"> This may be expected if your graph generating binary is newer  than this binary. Unknown attributes will be ignored. NodeDef: {{node ParallelMapDatasetV2/_14}}\n",
      "2025-04-26 11:42:16.938666: E tensorflow/core/framework/node_def_util.cc:676] NodeDef mentions attribute use_unbounded_threadpool which is not in the op definition: Op<name=MapDataset; signature=input_dataset:variant, other_arguments: -> handle:variant; attr=f:func; attr=Targuments:list(type),min=0; attr=output_types:list(type),min=1; attr=output_shapes:list(shape),min=1; attr=use_inter_op_parallelism:bool,default=true; attr=preserve_cardinality:bool,default=false; attr=force_synchronous:bool,default=false; attr=metadata:string,default=\"\"> This may be expected if your graph generating binary is newer  than this binary. Unknown attributes will be ignored. NodeDef: {{node ParallelMapDatasetV2/_14}}\n",
      "2025-04-26 11:42:16.938950: E tensorflow/core/framework/node_def_util.cc:676] NodeDef mentions attribute use_unbounded_threadpool which is not in the op definition: Op<name=MapDataset; signature=input_dataset:variant, other_arguments: -> handle:variant; attr=f:func; attr=Targuments:list(type),min=0; attr=output_types:list(type),min=1; attr=output_shapes:list(shape),min=1; attr=use_inter_op_parallelism:bool,default=true; attr=preserve_cardinality:bool,default=false; attr=force_synchronous:bool,default=false; attr=metadata:string,default=\"\"> This may be expected if your graph generating binary is newer  than this binary. Unknown attributes will be ignored. NodeDef: {{node ParallelMapDatasetV2/_14}}\n",
      " 43%|████▎     | 13/30 [43:20<43:10, 152.38s/it]"
     ]
    },
    {
     "name": "stdout",
     "output_type": "stream",
     "text": [
      "The average treatment effect (ATE) is 1.7485385\n",
      "Epoch 1: loss 2.4818,\tloss_y 1.6914, 1.7001, 0.0175,\tloss_eta 0.7904, 0.8276, 0.0744\n",
      "Warning: covariate dimension does not aligned with the specified input dimension; filling in the remaining dimension with noise.\n",
      "Warning: covariate dimension does not aligned with the specified input dimension; filling in the remaining dimension with noise.\n"
     ]
    },
    {
     "name": "stderr",
     "output_type": "stream",
     "text": [
      "INFO \t Training with 11 minibatches per epoch\n",
      "INFO \t Evaluating 1 minibatches\n",
      "2025-04-26 11:44:47.104370: E tensorflow/core/framework/node_def_util.cc:676] NodeDef mentions attribute use_unbounded_threadpool which is not in the op definition: Op<name=MapDataset; signature=input_dataset:variant, other_arguments: -> handle:variant; attr=f:func; attr=Targuments:list(type),min=0; attr=output_types:list(type),min=1; attr=output_shapes:list(shape),min=1; attr=use_inter_op_parallelism:bool,default=true; attr=preserve_cardinality:bool,default=false; attr=force_synchronous:bool,default=false; attr=metadata:string,default=\"\"> This may be expected if your graph generating binary is newer  than this binary. Unknown attributes will be ignored. NodeDef: {{node ParallelMapDatasetV2/_14}}\n",
      "2025-04-26 11:44:47.104639: E tensorflow/core/framework/node_def_util.cc:676] NodeDef mentions attribute use_unbounded_threadpool which is not in the op definition: Op<name=MapDataset; signature=input_dataset:variant, other_arguments: -> handle:variant; attr=f:func; attr=Targuments:list(type),min=0; attr=output_types:list(type),min=1; attr=output_shapes:list(shape),min=1; attr=use_inter_op_parallelism:bool,default=true; attr=preserve_cardinality:bool,default=false; attr=force_synchronous:bool,default=false; attr=metadata:string,default=\"\"> This may be expected if your graph generating binary is newer  than this binary. Unknown attributes will be ignored. NodeDef: {{node ParallelMapDatasetV2/_14}}\n",
      "2025-04-26 11:44:52.743775: E tensorflow/core/framework/node_def_util.cc:676] NodeDef mentions attribute use_unbounded_threadpool which is not in the op definition: Op<name=MapDataset; signature=input_dataset:variant, other_arguments: -> handle:variant; attr=f:func; attr=Targuments:list(type),min=0; attr=output_types:list(type),min=1; attr=output_shapes:list(shape),min=1; attr=use_inter_op_parallelism:bool,default=true; attr=preserve_cardinality:bool,default=false; attr=force_synchronous:bool,default=false; attr=metadata:string,default=\"\"> This may be expected if your graph generating binary is newer  than this binary. Unknown attributes will be ignored. NodeDef: {{node ParallelMapDatasetV2/_14}}\n",
      "2025-04-26 11:44:52.744067: E tensorflow/core/framework/node_def_util.cc:676] NodeDef mentions attribute use_unbounded_threadpool which is not in the op definition: Op<name=MapDataset; signature=input_dataset:variant, other_arguments: -> handle:variant; attr=f:func; attr=Targuments:list(type),min=0; attr=output_types:list(type),min=1; attr=output_shapes:list(shape),min=1; attr=use_inter_op_parallelism:bool,default=true; attr=preserve_cardinality:bool,default=false; attr=force_synchronous:bool,default=false; attr=metadata:string,default=\"\"> This may be expected if your graph generating binary is newer  than this binary. Unknown attributes will be ignored. NodeDef: {{node ParallelMapDatasetV2/_14}}\n",
      " 47%|████▋     | 14/30 [45:55<40:54, 153.41s/it]"
     ]
    },
    {
     "name": "stdout",
     "output_type": "stream",
     "text": [
      "The average treatment effect (ATE) is 1.5283713\n",
      "Epoch 1: loss 2.4095,\tloss_y 1.6539, 1.6850, 0.0621,\tloss_eta 0.7556, 0.8072, 0.1032\n",
      "Warning: covariate dimension does not aligned with the specified input dimension; filling in the remaining dimension with noise.\n",
      "Warning: covariate dimension does not aligned with the specified input dimension; filling in the remaining dimension with noise.\n"
     ]
    },
    {
     "name": "stderr",
     "output_type": "stream",
     "text": [
      "INFO \t Training with 11 minibatches per epoch\n",
      "INFO \t Evaluating 1 minibatches\n",
      "2025-04-26 11:47:13.958250: E tensorflow/core/framework/node_def_util.cc:676] NodeDef mentions attribute use_unbounded_threadpool which is not in the op definition: Op<name=MapDataset; signature=input_dataset:variant, other_arguments: -> handle:variant; attr=f:func; attr=Targuments:list(type),min=0; attr=output_types:list(type),min=1; attr=output_shapes:list(shape),min=1; attr=use_inter_op_parallelism:bool,default=true; attr=preserve_cardinality:bool,default=false; attr=force_synchronous:bool,default=false; attr=metadata:string,default=\"\"> This may be expected if your graph generating binary is newer  than this binary. Unknown attributes will be ignored. NodeDef: {{node ParallelMapDatasetV2/_14}}\n",
      "2025-04-26 11:47:13.958559: E tensorflow/core/framework/node_def_util.cc:676] NodeDef mentions attribute use_unbounded_threadpool which is not in the op definition: Op<name=MapDataset; signature=input_dataset:variant, other_arguments: -> handle:variant; attr=f:func; attr=Targuments:list(type),min=0; attr=output_types:list(type),min=1; attr=output_shapes:list(shape),min=1; attr=use_inter_op_parallelism:bool,default=true; attr=preserve_cardinality:bool,default=false; attr=force_synchronous:bool,default=false; attr=metadata:string,default=\"\"> This may be expected if your graph generating binary is newer  than this binary. Unknown attributes will be ignored. NodeDef: {{node ParallelMapDatasetV2/_14}}\n",
      "2025-04-26 11:47:19.493480: E tensorflow/core/framework/node_def_util.cc:676] NodeDef mentions attribute use_unbounded_threadpool which is not in the op definition: Op<name=MapDataset; signature=input_dataset:variant, other_arguments: -> handle:variant; attr=f:func; attr=Targuments:list(type),min=0; attr=output_types:list(type),min=1; attr=output_shapes:list(shape),min=1; attr=use_inter_op_parallelism:bool,default=true; attr=preserve_cardinality:bool,default=false; attr=force_synchronous:bool,default=false; attr=metadata:string,default=\"\"> This may be expected if your graph generating binary is newer  than this binary. Unknown attributes will be ignored. NodeDef: {{node ParallelMapDatasetV2/_14}}\n",
      "2025-04-26 11:47:19.493767: E tensorflow/core/framework/node_def_util.cc:676] NodeDef mentions attribute use_unbounded_threadpool which is not in the op definition: Op<name=MapDataset; signature=input_dataset:variant, other_arguments: -> handle:variant; attr=f:func; attr=Targuments:list(type),min=0; attr=output_types:list(type),min=1; attr=output_shapes:list(shape),min=1; attr=use_inter_op_parallelism:bool,default=true; attr=preserve_cardinality:bool,default=false; attr=force_synchronous:bool,default=false; attr=metadata:string,default=\"\"> This may be expected if your graph generating binary is newer  than this binary. Unknown attributes will be ignored. NodeDef: {{node ParallelMapDatasetV2/_14}}\n",
      " 50%|█████     | 15/30 [48:22<37:51, 151.40s/it]"
     ]
    },
    {
     "name": "stdout",
     "output_type": "stream",
     "text": [
      "The average treatment effect (ATE) is 1.4890107\n",
      "Epoch 1: loss 2.5257,\tloss_y 1.7175, 1.7321, 0.0291,\tloss_eta 0.8082, 0.8448, 0.0732\n",
      "Warning: covariate dimension does not aligned with the specified input dimension; filling in the remaining dimension with noise.\n",
      "Warning: covariate dimension does not aligned with the specified input dimension; filling in the remaining dimension with noise.\n"
     ]
    },
    {
     "name": "stderr",
     "output_type": "stream",
     "text": [
      "INFO \t Training with 11 minibatches per epoch\n",
      "INFO \t Evaluating 1 minibatches\n",
      "2025-04-26 11:49:43.837856: E tensorflow/core/framework/node_def_util.cc:676] NodeDef mentions attribute use_unbounded_threadpool which is not in the op definition: Op<name=MapDataset; signature=input_dataset:variant, other_arguments: -> handle:variant; attr=f:func; attr=Targuments:list(type),min=0; attr=output_types:list(type),min=1; attr=output_shapes:list(shape),min=1; attr=use_inter_op_parallelism:bool,default=true; attr=preserve_cardinality:bool,default=false; attr=force_synchronous:bool,default=false; attr=metadata:string,default=\"\"> This may be expected if your graph generating binary is newer  than this binary. Unknown attributes will be ignored. NodeDef: {{node ParallelMapDatasetV2/_14}}\n",
      "2025-04-26 11:49:43.838153: E tensorflow/core/framework/node_def_util.cc:676] NodeDef mentions attribute use_unbounded_threadpool which is not in the op definition: Op<name=MapDataset; signature=input_dataset:variant, other_arguments: -> handle:variant; attr=f:func; attr=Targuments:list(type),min=0; attr=output_types:list(type),min=1; attr=output_shapes:list(shape),min=1; attr=use_inter_op_parallelism:bool,default=true; attr=preserve_cardinality:bool,default=false; attr=force_synchronous:bool,default=false; attr=metadata:string,default=\"\"> This may be expected if your graph generating binary is newer  than this binary. Unknown attributes will be ignored. NodeDef: {{node ParallelMapDatasetV2/_14}}\n",
      "2025-04-26 11:49:49.340076: E tensorflow/core/framework/node_def_util.cc:676] NodeDef mentions attribute use_unbounded_threadpool which is not in the op definition: Op<name=MapDataset; signature=input_dataset:variant, other_arguments: -> handle:variant; attr=f:func; attr=Targuments:list(type),min=0; attr=output_types:list(type),min=1; attr=output_shapes:list(shape),min=1; attr=use_inter_op_parallelism:bool,default=true; attr=preserve_cardinality:bool,default=false; attr=force_synchronous:bool,default=false; attr=metadata:string,default=\"\"> This may be expected if your graph generating binary is newer  than this binary. Unknown attributes will be ignored. NodeDef: {{node ParallelMapDatasetV2/_14}}\n",
      "2025-04-26 11:49:49.340362: E tensorflow/core/framework/node_def_util.cc:676] NodeDef mentions attribute use_unbounded_threadpool which is not in the op definition: Op<name=MapDataset; signature=input_dataset:variant, other_arguments: -> handle:variant; attr=f:func; attr=Targuments:list(type),min=0; attr=output_types:list(type),min=1; attr=output_shapes:list(shape),min=1; attr=use_inter_op_parallelism:bool,default=true; attr=preserve_cardinality:bool,default=false; attr=force_synchronous:bool,default=false; attr=metadata:string,default=\"\"> This may be expected if your graph generating binary is newer  than this binary. Unknown attributes will be ignored. NodeDef: {{node ParallelMapDatasetV2/_14}}\n",
      " 53%|█████▎    | 16/30 [50:52<35:13, 150.93s/it]"
     ]
    },
    {
     "name": "stdout",
     "output_type": "stream",
     "text": [
      "The average treatment effect (ATE) is 1.6281366\n",
      "Epoch 1: loss 2.4860,\tloss_y 1.7145, 1.7546, 0.0801,\tloss_eta 0.7714, 0.8085, 0.0741\n",
      "Warning: covariate dimension does not aligned with the specified input dimension; filling in the remaining dimension with noise.\n",
      "Warning: covariate dimension does not aligned with the specified input dimension; filling in the remaining dimension with noise.\n"
     ]
    },
    {
     "name": "stderr",
     "output_type": "stream",
     "text": [
      "INFO \t Training with 11 minibatches per epoch\n",
      "INFO \t Evaluating 1 minibatches\n",
      "2025-04-26 11:52:17.043316: E tensorflow/core/framework/node_def_util.cc:676] NodeDef mentions attribute use_unbounded_threadpool which is not in the op definition: Op<name=MapDataset; signature=input_dataset:variant, other_arguments: -> handle:variant; attr=f:func; attr=Targuments:list(type),min=0; attr=output_types:list(type),min=1; attr=output_shapes:list(shape),min=1; attr=use_inter_op_parallelism:bool,default=true; attr=preserve_cardinality:bool,default=false; attr=force_synchronous:bool,default=false; attr=metadata:string,default=\"\"> This may be expected if your graph generating binary is newer  than this binary. Unknown attributes will be ignored. NodeDef: {{node ParallelMapDatasetV2/_14}}\n",
      "2025-04-26 11:52:17.043619: E tensorflow/core/framework/node_def_util.cc:676] NodeDef mentions attribute use_unbounded_threadpool which is not in the op definition: Op<name=MapDataset; signature=input_dataset:variant, other_arguments: -> handle:variant; attr=f:func; attr=Targuments:list(type),min=0; attr=output_types:list(type),min=1; attr=output_shapes:list(shape),min=1; attr=use_inter_op_parallelism:bool,default=true; attr=preserve_cardinality:bool,default=false; attr=force_synchronous:bool,default=false; attr=metadata:string,default=\"\"> This may be expected if your graph generating binary is newer  than this binary. Unknown attributes will be ignored. NodeDef: {{node ParallelMapDatasetV2/_14}}\n",
      "2025-04-26 11:52:22.619856: E tensorflow/core/framework/node_def_util.cc:676] NodeDef mentions attribute use_unbounded_threadpool which is not in the op definition: Op<name=MapDataset; signature=input_dataset:variant, other_arguments: -> handle:variant; attr=f:func; attr=Targuments:list(type),min=0; attr=output_types:list(type),min=1; attr=output_shapes:list(shape),min=1; attr=use_inter_op_parallelism:bool,default=true; attr=preserve_cardinality:bool,default=false; attr=force_synchronous:bool,default=false; attr=metadata:string,default=\"\"> This may be expected if your graph generating binary is newer  than this binary. Unknown attributes will be ignored. NodeDef: {{node ParallelMapDatasetV2/_14}}\n",
      "2025-04-26 11:52:22.620142: E tensorflow/core/framework/node_def_util.cc:676] NodeDef mentions attribute use_unbounded_threadpool which is not in the op definition: Op<name=MapDataset; signature=input_dataset:variant, other_arguments: -> handle:variant; attr=f:func; attr=Targuments:list(type),min=0; attr=output_types:list(type),min=1; attr=output_shapes:list(shape),min=1; attr=use_inter_op_parallelism:bool,default=true; attr=preserve_cardinality:bool,default=false; attr=force_synchronous:bool,default=false; attr=metadata:string,default=\"\"> This may be expected if your graph generating binary is newer  than this binary. Unknown attributes will be ignored. NodeDef: {{node ParallelMapDatasetV2/_14}}\n",
      " 57%|█████▋    | 17/30 [53:25<32:51, 151.64s/it]"
     ]
    },
    {
     "name": "stdout",
     "output_type": "stream",
     "text": [
      "The average treatment effect (ATE) is 1.5911998\n",
      "Epoch 1: loss 2.4068,\tloss_y 1.6550, 1.6651, 0.0203,\tloss_eta 0.7518, 0.7918, 0.0801\n",
      "Warning: covariate dimension does not aligned with the specified input dimension; filling in the remaining dimension with noise.\n",
      "Warning: covariate dimension does not aligned with the specified input dimension; filling in the remaining dimension with noise.\n"
     ]
    },
    {
     "name": "stderr",
     "output_type": "stream",
     "text": [
      "INFO \t Training with 11 minibatches per epoch\n",
      "INFO \t Evaluating 1 minibatches\n",
      "2025-04-26 11:54:54.662873: E tensorflow/core/framework/node_def_util.cc:676] NodeDef mentions attribute use_unbounded_threadpool which is not in the op definition: Op<name=MapDataset; signature=input_dataset:variant, other_arguments: -> handle:variant; attr=f:func; attr=Targuments:list(type),min=0; attr=output_types:list(type),min=1; attr=output_shapes:list(shape),min=1; attr=use_inter_op_parallelism:bool,default=true; attr=preserve_cardinality:bool,default=false; attr=force_synchronous:bool,default=false; attr=metadata:string,default=\"\"> This may be expected if your graph generating binary is newer  than this binary. Unknown attributes will be ignored. NodeDef: {{node ParallelMapDatasetV2/_14}}\n",
      "2025-04-26 11:54:54.663169: E tensorflow/core/framework/node_def_util.cc:676] NodeDef mentions attribute use_unbounded_threadpool which is not in the op definition: Op<name=MapDataset; signature=input_dataset:variant, other_arguments: -> handle:variant; attr=f:func; attr=Targuments:list(type),min=0; attr=output_types:list(type),min=1; attr=output_shapes:list(shape),min=1; attr=use_inter_op_parallelism:bool,default=true; attr=preserve_cardinality:bool,default=false; attr=force_synchronous:bool,default=false; attr=metadata:string,default=\"\"> This may be expected if your graph generating binary is newer  than this binary. Unknown attributes will be ignored. NodeDef: {{node ParallelMapDatasetV2/_14}}\n",
      "2025-04-26 11:55:00.249652: E tensorflow/core/framework/node_def_util.cc:676] NodeDef mentions attribute use_unbounded_threadpool which is not in the op definition: Op<name=MapDataset; signature=input_dataset:variant, other_arguments: -> handle:variant; attr=f:func; attr=Targuments:list(type),min=0; attr=output_types:list(type),min=1; attr=output_shapes:list(shape),min=1; attr=use_inter_op_parallelism:bool,default=true; attr=preserve_cardinality:bool,default=false; attr=force_synchronous:bool,default=false; attr=metadata:string,default=\"\"> This may be expected if your graph generating binary is newer  than this binary. Unknown attributes will be ignored. NodeDef: {{node ParallelMapDatasetV2/_14}}\n",
      "2025-04-26 11:55:00.249986: E tensorflow/core/framework/node_def_util.cc:676] NodeDef mentions attribute use_unbounded_threadpool which is not in the op definition: Op<name=MapDataset; signature=input_dataset:variant, other_arguments: -> handle:variant; attr=f:func; attr=Targuments:list(type),min=0; attr=output_types:list(type),min=1; attr=output_shapes:list(shape),min=1; attr=use_inter_op_parallelism:bool,default=true; attr=preserve_cardinality:bool,default=false; attr=force_synchronous:bool,default=false; attr=metadata:string,default=\"\"> This may be expected if your graph generating binary is newer  than this binary. Unknown attributes will be ignored. NodeDef: {{node ParallelMapDatasetV2/_14}}\n",
      " 60%|██████    | 18/30 [56:03<30:41, 153.44s/it]"
     ]
    },
    {
     "name": "stdout",
     "output_type": "stream",
     "text": [
      "The average treatment effect (ATE) is 1.7539752\n",
      "Epoch 1: loss 2.4425,\tloss_y 1.6850, 1.7132, 0.0565,\tloss_eta 0.7576, 0.7914, 0.0677\n",
      "Warning: covariate dimension does not aligned with the specified input dimension; filling in the remaining dimension with noise.\n",
      "Warning: covariate dimension does not aligned with the specified input dimension; filling in the remaining dimension with noise.\n"
     ]
    },
    {
     "name": "stderr",
     "output_type": "stream",
     "text": [
      "INFO \t Training with 11 minibatches per epoch\n",
      "INFO \t Evaluating 1 minibatches\n",
      "2025-04-26 11:57:27.653967: E tensorflow/core/framework/node_def_util.cc:676] NodeDef mentions attribute use_unbounded_threadpool which is not in the op definition: Op<name=MapDataset; signature=input_dataset:variant, other_arguments: -> handle:variant; attr=f:func; attr=Targuments:list(type),min=0; attr=output_types:list(type),min=1; attr=output_shapes:list(shape),min=1; attr=use_inter_op_parallelism:bool,default=true; attr=preserve_cardinality:bool,default=false; attr=force_synchronous:bool,default=false; attr=metadata:string,default=\"\"> This may be expected if your graph generating binary is newer  than this binary. Unknown attributes will be ignored. NodeDef: {{node ParallelMapDatasetV2/_14}}\n",
      "2025-04-26 11:57:27.654304: E tensorflow/core/framework/node_def_util.cc:676] NodeDef mentions attribute use_unbounded_threadpool which is not in the op definition: Op<name=MapDataset; signature=input_dataset:variant, other_arguments: -> handle:variant; attr=f:func; attr=Targuments:list(type),min=0; attr=output_types:list(type),min=1; attr=output_shapes:list(shape),min=1; attr=use_inter_op_parallelism:bool,default=true; attr=preserve_cardinality:bool,default=false; attr=force_synchronous:bool,default=false; attr=metadata:string,default=\"\"> This may be expected if your graph generating binary is newer  than this binary. Unknown attributes will be ignored. NodeDef: {{node ParallelMapDatasetV2/_14}}\n",
      "2025-04-26 11:57:33.187617: E tensorflow/core/framework/node_def_util.cc:676] NodeDef mentions attribute use_unbounded_threadpool which is not in the op definition: Op<name=MapDataset; signature=input_dataset:variant, other_arguments: -> handle:variant; attr=f:func; attr=Targuments:list(type),min=0; attr=output_types:list(type),min=1; attr=output_shapes:list(shape),min=1; attr=use_inter_op_parallelism:bool,default=true; attr=preserve_cardinality:bool,default=false; attr=force_synchronous:bool,default=false; attr=metadata:string,default=\"\"> This may be expected if your graph generating binary is newer  than this binary. Unknown attributes will be ignored. NodeDef: {{node ParallelMapDatasetV2/_14}}\n",
      "2025-04-26 11:57:33.187972: E tensorflow/core/framework/node_def_util.cc:676] NodeDef mentions attribute use_unbounded_threadpool which is not in the op definition: Op<name=MapDataset; signature=input_dataset:variant, other_arguments: -> handle:variant; attr=f:func; attr=Targuments:list(type),min=0; attr=output_types:list(type),min=1; attr=output_shapes:list(shape),min=1; attr=use_inter_op_parallelism:bool,default=true; attr=preserve_cardinality:bool,default=false; attr=force_synchronous:bool,default=false; attr=metadata:string,default=\"\"> This may be expected if your graph generating binary is newer  than this binary. Unknown attributes will be ignored. NodeDef: {{node ParallelMapDatasetV2/_14}}\n",
      " 63%|██████▎   | 19/30 [58:36<28:06, 153.29s/it]"
     ]
    },
    {
     "name": "stdout",
     "output_type": "stream",
     "text": [
      "The average treatment effect (ATE) is 1.4331721\n",
      "Epoch 1: loss 2.4935,\tloss_y 1.7146, 1.7492, 0.0692,\tloss_eta 0.7789, 0.8195, 0.0811\n",
      "Warning: covariate dimension does not aligned with the specified input dimension; filling in the remaining dimension with noise.\n",
      "Warning: covariate dimension does not aligned with the specified input dimension; filling in the remaining dimension with noise.\n"
     ]
    },
    {
     "name": "stderr",
     "output_type": "stream",
     "text": [
      "INFO \t Training with 11 minibatches per epoch\n",
      "INFO \t Evaluating 1 minibatches\n",
      "2025-04-26 11:59:59.170704: E tensorflow/core/framework/node_def_util.cc:676] NodeDef mentions attribute use_unbounded_threadpool which is not in the op definition: Op<name=MapDataset; signature=input_dataset:variant, other_arguments: -> handle:variant; attr=f:func; attr=Targuments:list(type),min=0; attr=output_types:list(type),min=1; attr=output_shapes:list(shape),min=1; attr=use_inter_op_parallelism:bool,default=true; attr=preserve_cardinality:bool,default=false; attr=force_synchronous:bool,default=false; attr=metadata:string,default=\"\"> This may be expected if your graph generating binary is newer  than this binary. Unknown attributes will be ignored. NodeDef: {{node ParallelMapDatasetV2/_14}}\n",
      "2025-04-26 11:59:59.170999: E tensorflow/core/framework/node_def_util.cc:676] NodeDef mentions attribute use_unbounded_threadpool which is not in the op definition: Op<name=MapDataset; signature=input_dataset:variant, other_arguments: -> handle:variant; attr=f:func; attr=Targuments:list(type),min=0; attr=output_types:list(type),min=1; attr=output_shapes:list(shape),min=1; attr=use_inter_op_parallelism:bool,default=true; attr=preserve_cardinality:bool,default=false; attr=force_synchronous:bool,default=false; attr=metadata:string,default=\"\"> This may be expected if your graph generating binary is newer  than this binary. Unknown attributes will be ignored. NodeDef: {{node ParallelMapDatasetV2/_14}}\n",
      "2025-04-26 12:00:04.726252: E tensorflow/core/framework/node_def_util.cc:676] NodeDef mentions attribute use_unbounded_threadpool which is not in the op definition: Op<name=MapDataset; signature=input_dataset:variant, other_arguments: -> handle:variant; attr=f:func; attr=Targuments:list(type),min=0; attr=output_types:list(type),min=1; attr=output_shapes:list(shape),min=1; attr=use_inter_op_parallelism:bool,default=true; attr=preserve_cardinality:bool,default=false; attr=force_synchronous:bool,default=false; attr=metadata:string,default=\"\"> This may be expected if your graph generating binary is newer  than this binary. Unknown attributes will be ignored. NodeDef: {{node ParallelMapDatasetV2/_14}}\n",
      "2025-04-26 12:00:04.726536: E tensorflow/core/framework/node_def_util.cc:676] NodeDef mentions attribute use_unbounded_threadpool which is not in the op definition: Op<name=MapDataset; signature=input_dataset:variant, other_arguments: -> handle:variant; attr=f:func; attr=Targuments:list(type),min=0; attr=output_types:list(type),min=1; attr=output_shapes:list(shape),min=1; attr=use_inter_op_parallelism:bool,default=true; attr=preserve_cardinality:bool,default=false; attr=force_synchronous:bool,default=false; attr=metadata:string,default=\"\"> This may be expected if your graph generating binary is newer  than this binary. Unknown attributes will be ignored. NodeDef: {{node ParallelMapDatasetV2/_14}}\n",
      " 67%|██████▋   | 20/30 [1:01:07<25:27, 152.76s/it]"
     ]
    },
    {
     "name": "stdout",
     "output_type": "stream",
     "text": [
      "The average treatment effect (ATE) is 1.6243662\n",
      "Epoch 1: loss 2.4844,\tloss_y 1.7243, 1.7535, 0.0585,\tloss_eta 0.7601, 0.7988, 0.0773\n",
      "Warning: covariate dimension does not aligned with the specified input dimension; filling in the remaining dimension with noise.\n",
      "Warning: covariate dimension does not aligned with the specified input dimension; filling in the remaining dimension with noise.\n"
     ]
    },
    {
     "name": "stderr",
     "output_type": "stream",
     "text": [
      "INFO \t Training with 11 minibatches per epoch\n",
      "INFO \t Evaluating 1 minibatches\n",
      "2025-04-26 12:02:32.928154: E tensorflow/core/framework/node_def_util.cc:676] NodeDef mentions attribute use_unbounded_threadpool which is not in the op definition: Op<name=MapDataset; signature=input_dataset:variant, other_arguments: -> handle:variant; attr=f:func; attr=Targuments:list(type),min=0; attr=output_types:list(type),min=1; attr=output_shapes:list(shape),min=1; attr=use_inter_op_parallelism:bool,default=true; attr=preserve_cardinality:bool,default=false; attr=force_synchronous:bool,default=false; attr=metadata:string,default=\"\"> This may be expected if your graph generating binary is newer  than this binary. Unknown attributes will be ignored. NodeDef: {{node ParallelMapDatasetV2/_14}}\n",
      "2025-04-26 12:02:32.928484: E tensorflow/core/framework/node_def_util.cc:676] NodeDef mentions attribute use_unbounded_threadpool which is not in the op definition: Op<name=MapDataset; signature=input_dataset:variant, other_arguments: -> handle:variant; attr=f:func; attr=Targuments:list(type),min=0; attr=output_types:list(type),min=1; attr=output_shapes:list(shape),min=1; attr=use_inter_op_parallelism:bool,default=true; attr=preserve_cardinality:bool,default=false; attr=force_synchronous:bool,default=false; attr=metadata:string,default=\"\"> This may be expected if your graph generating binary is newer  than this binary. Unknown attributes will be ignored. NodeDef: {{node ParallelMapDatasetV2/_14}}\n",
      "2025-04-26 12:02:38.503359: E tensorflow/core/framework/node_def_util.cc:676] NodeDef mentions attribute use_unbounded_threadpool which is not in the op definition: Op<name=MapDataset; signature=input_dataset:variant, other_arguments: -> handle:variant; attr=f:func; attr=Targuments:list(type),min=0; attr=output_types:list(type),min=1; attr=output_shapes:list(shape),min=1; attr=use_inter_op_parallelism:bool,default=true; attr=preserve_cardinality:bool,default=false; attr=force_synchronous:bool,default=false; attr=metadata:string,default=\"\"> This may be expected if your graph generating binary is newer  than this binary. Unknown attributes will be ignored. NodeDef: {{node ParallelMapDatasetV2/_14}}\n",
      "2025-04-26 12:02:38.503643: E tensorflow/core/framework/node_def_util.cc:676] NodeDef mentions attribute use_unbounded_threadpool which is not in the op definition: Op<name=MapDataset; signature=input_dataset:variant, other_arguments: -> handle:variant; attr=f:func; attr=Targuments:list(type),min=0; attr=output_types:list(type),min=1; attr=output_shapes:list(shape),min=1; attr=use_inter_op_parallelism:bool,default=true; attr=preserve_cardinality:bool,default=false; attr=force_synchronous:bool,default=false; attr=metadata:string,default=\"\"> This may be expected if your graph generating binary is newer  than this binary. Unknown attributes will be ignored. NodeDef: {{node ParallelMapDatasetV2/_14}}\n",
      " 70%|███████   | 21/30 [1:03:41<22:57, 153.07s/it]"
     ]
    },
    {
     "name": "stdout",
     "output_type": "stream",
     "text": [
      "The average treatment effect (ATE) is 1.3904314\n",
      "Epoch 1: loss 2.4783,\tloss_y 1.7257, 1.7458, 0.0402,\tloss_eta 0.7526, 0.8088, 0.1124\n",
      "Warning: covariate dimension does not aligned with the specified input dimension; filling in the remaining dimension with noise.\n",
      "Warning: covariate dimension does not aligned with the specified input dimension; filling in the remaining dimension with noise.\n"
     ]
    },
    {
     "name": "stderr",
     "output_type": "stream",
     "text": [
      "INFO \t Training with 11 minibatches per epoch\n",
      "INFO \t Evaluating 1 minibatches\n",
      "2025-04-26 12:05:10.129638: E tensorflow/core/framework/node_def_util.cc:676] NodeDef mentions attribute use_unbounded_threadpool which is not in the op definition: Op<name=MapDataset; signature=input_dataset:variant, other_arguments: -> handle:variant; attr=f:func; attr=Targuments:list(type),min=0; attr=output_types:list(type),min=1; attr=output_shapes:list(shape),min=1; attr=use_inter_op_parallelism:bool,default=true; attr=preserve_cardinality:bool,default=false; attr=force_synchronous:bool,default=false; attr=metadata:string,default=\"\"> This may be expected if your graph generating binary is newer  than this binary. Unknown attributes will be ignored. NodeDef: {{node ParallelMapDatasetV2/_14}}\n",
      "2025-04-26 12:05:10.129925: E tensorflow/core/framework/node_def_util.cc:676] NodeDef mentions attribute use_unbounded_threadpool which is not in the op definition: Op<name=MapDataset; signature=input_dataset:variant, other_arguments: -> handle:variant; attr=f:func; attr=Targuments:list(type),min=0; attr=output_types:list(type),min=1; attr=output_shapes:list(shape),min=1; attr=use_inter_op_parallelism:bool,default=true; attr=preserve_cardinality:bool,default=false; attr=force_synchronous:bool,default=false; attr=metadata:string,default=\"\"> This may be expected if your graph generating binary is newer  than this binary. Unknown attributes will be ignored. NodeDef: {{node ParallelMapDatasetV2/_14}}\n",
      "2025-04-26 12:05:15.691820: E tensorflow/core/framework/node_def_util.cc:676] NodeDef mentions attribute use_unbounded_threadpool which is not in the op definition: Op<name=MapDataset; signature=input_dataset:variant, other_arguments: -> handle:variant; attr=f:func; attr=Targuments:list(type),min=0; attr=output_types:list(type),min=1; attr=output_shapes:list(shape),min=1; attr=use_inter_op_parallelism:bool,default=true; attr=preserve_cardinality:bool,default=false; attr=force_synchronous:bool,default=false; attr=metadata:string,default=\"\"> This may be expected if your graph generating binary is newer  than this binary. Unknown attributes will be ignored. NodeDef: {{node ParallelMapDatasetV2/_14}}\n",
      "2025-04-26 12:05:15.692116: E tensorflow/core/framework/node_def_util.cc:676] NodeDef mentions attribute use_unbounded_threadpool which is not in the op definition: Op<name=MapDataset; signature=input_dataset:variant, other_arguments: -> handle:variant; attr=f:func; attr=Targuments:list(type),min=0; attr=output_types:list(type),min=1; attr=output_shapes:list(shape),min=1; attr=use_inter_op_parallelism:bool,default=true; attr=preserve_cardinality:bool,default=false; attr=force_synchronous:bool,default=false; attr=metadata:string,default=\"\"> This may be expected if your graph generating binary is newer  than this binary. Unknown attributes will be ignored. NodeDef: {{node ParallelMapDatasetV2/_14}}\n",
      " 73%|███████▎  | 22/30 [1:06:18<20:34, 154.30s/it]"
     ]
    },
    {
     "name": "stdout",
     "output_type": "stream",
     "text": [
      "The average treatment effect (ATE) is 1.5316991\n",
      "Epoch 1: loss 2.4308,\tloss_y 1.6367, 1.6672, 0.0609,\tloss_eta 0.7941, 0.8270, 0.0657\n",
      "Warning: covariate dimension does not aligned with the specified input dimension; filling in the remaining dimension with noise.\n",
      "Warning: covariate dimension does not aligned with the specified input dimension; filling in the remaining dimension with noise.\n"
     ]
    },
    {
     "name": "stderr",
     "output_type": "stream",
     "text": [
      "INFO \t Training with 11 minibatches per epoch\n",
      "INFO \t Evaluating 1 minibatches\n",
      "2025-04-26 12:07:41.203383: E tensorflow/core/framework/node_def_util.cc:676] NodeDef mentions attribute use_unbounded_threadpool which is not in the op definition: Op<name=MapDataset; signature=input_dataset:variant, other_arguments: -> handle:variant; attr=f:func; attr=Targuments:list(type),min=0; attr=output_types:list(type),min=1; attr=output_shapes:list(shape),min=1; attr=use_inter_op_parallelism:bool,default=true; attr=preserve_cardinality:bool,default=false; attr=force_synchronous:bool,default=false; attr=metadata:string,default=\"\"> This may be expected if your graph generating binary is newer  than this binary. Unknown attributes will be ignored. NodeDef: {{node ParallelMapDatasetV2/_14}}\n",
      "2025-04-26 12:07:41.203668: E tensorflow/core/framework/node_def_util.cc:676] NodeDef mentions attribute use_unbounded_threadpool which is not in the op definition: Op<name=MapDataset; signature=input_dataset:variant, other_arguments: -> handle:variant; attr=f:func; attr=Targuments:list(type),min=0; attr=output_types:list(type),min=1; attr=output_shapes:list(shape),min=1; attr=use_inter_op_parallelism:bool,default=true; attr=preserve_cardinality:bool,default=false; attr=force_synchronous:bool,default=false; attr=metadata:string,default=\"\"> This may be expected if your graph generating binary is newer  than this binary. Unknown attributes will be ignored. NodeDef: {{node ParallelMapDatasetV2/_14}}\n",
      "2025-04-26 12:07:46.785870: E tensorflow/core/framework/node_def_util.cc:676] NodeDef mentions attribute use_unbounded_threadpool which is not in the op definition: Op<name=MapDataset; signature=input_dataset:variant, other_arguments: -> handle:variant; attr=f:func; attr=Targuments:list(type),min=0; attr=output_types:list(type),min=1; attr=output_shapes:list(shape),min=1; attr=use_inter_op_parallelism:bool,default=true; attr=preserve_cardinality:bool,default=false; attr=force_synchronous:bool,default=false; attr=metadata:string,default=\"\"> This may be expected if your graph generating binary is newer  than this binary. Unknown attributes will be ignored. NodeDef: {{node ParallelMapDatasetV2/_14}}\n",
      "2025-04-26 12:07:46.786160: E tensorflow/core/framework/node_def_util.cc:676] NodeDef mentions attribute use_unbounded_threadpool which is not in the op definition: Op<name=MapDataset; signature=input_dataset:variant, other_arguments: -> handle:variant; attr=f:func; attr=Targuments:list(type),min=0; attr=output_types:list(type),min=1; attr=output_shapes:list(shape),min=1; attr=use_inter_op_parallelism:bool,default=true; attr=preserve_cardinality:bool,default=false; attr=force_synchronous:bool,default=false; attr=metadata:string,default=\"\"> This may be expected if your graph generating binary is newer  than this binary. Unknown attributes will be ignored. NodeDef: {{node ParallelMapDatasetV2/_14}}\n",
      " 77%|███████▋  | 23/30 [1:08:49<17:53, 153.34s/it]"
     ]
    },
    {
     "name": "stdout",
     "output_type": "stream",
     "text": [
      "The average treatment effect (ATE) is 1.5697542\n",
      "Epoch 1: loss 2.3484,\tloss_y 1.6015, 1.6147, 0.0264,\tloss_eta 0.7470, 0.7896, 0.0852\n",
      "Warning: covariate dimension does not aligned with the specified input dimension; filling in the remaining dimension with noise.\n",
      "Warning: covariate dimension does not aligned with the specified input dimension; filling in the remaining dimension with noise.\n"
     ]
    },
    {
     "name": "stderr",
     "output_type": "stream",
     "text": [
      "INFO \t Training with 11 minibatches per epoch\n",
      "INFO \t Evaluating 1 minibatches\n",
      "2025-04-26 12:10:12.561451: E tensorflow/core/framework/node_def_util.cc:676] NodeDef mentions attribute use_unbounded_threadpool which is not in the op definition: Op<name=MapDataset; signature=input_dataset:variant, other_arguments: -> handle:variant; attr=f:func; attr=Targuments:list(type),min=0; attr=output_types:list(type),min=1; attr=output_shapes:list(shape),min=1; attr=use_inter_op_parallelism:bool,default=true; attr=preserve_cardinality:bool,default=false; attr=force_synchronous:bool,default=false; attr=metadata:string,default=\"\"> This may be expected if your graph generating binary is newer  than this binary. Unknown attributes will be ignored. NodeDef: {{node ParallelMapDatasetV2/_14}}\n",
      "2025-04-26 12:10:12.561744: E tensorflow/core/framework/node_def_util.cc:676] NodeDef mentions attribute use_unbounded_threadpool which is not in the op definition: Op<name=MapDataset; signature=input_dataset:variant, other_arguments: -> handle:variant; attr=f:func; attr=Targuments:list(type),min=0; attr=output_types:list(type),min=1; attr=output_shapes:list(shape),min=1; attr=use_inter_op_parallelism:bool,default=true; attr=preserve_cardinality:bool,default=false; attr=force_synchronous:bool,default=false; attr=metadata:string,default=\"\"> This may be expected if your graph generating binary is newer  than this binary. Unknown attributes will be ignored. NodeDef: {{node ParallelMapDatasetV2/_14}}\n",
      "2025-04-26 12:10:18.150373: E tensorflow/core/framework/node_def_util.cc:676] NodeDef mentions attribute use_unbounded_threadpool which is not in the op definition: Op<name=MapDataset; signature=input_dataset:variant, other_arguments: -> handle:variant; attr=f:func; attr=Targuments:list(type),min=0; attr=output_types:list(type),min=1; attr=output_shapes:list(shape),min=1; attr=use_inter_op_parallelism:bool,default=true; attr=preserve_cardinality:bool,default=false; attr=force_synchronous:bool,default=false; attr=metadata:string,default=\"\"> This may be expected if your graph generating binary is newer  than this binary. Unknown attributes will be ignored. NodeDef: {{node ParallelMapDatasetV2/_14}}\n",
      "2025-04-26 12:10:18.150659: E tensorflow/core/framework/node_def_util.cc:676] NodeDef mentions attribute use_unbounded_threadpool which is not in the op definition: Op<name=MapDataset; signature=input_dataset:variant, other_arguments: -> handle:variant; attr=f:func; attr=Targuments:list(type),min=0; attr=output_types:list(type),min=1; attr=output_shapes:list(shape),min=1; attr=use_inter_op_parallelism:bool,default=true; attr=preserve_cardinality:bool,default=false; attr=force_synchronous:bool,default=false; attr=metadata:string,default=\"\"> This may be expected if your graph generating binary is newer  than this binary. Unknown attributes will be ignored. NodeDef: {{node ParallelMapDatasetV2/_14}}\n",
      " 80%|████████  | 24/30 [1:11:21<15:16, 152.75s/it]"
     ]
    },
    {
     "name": "stdout",
     "output_type": "stream",
     "text": [
      "The average treatment effect (ATE) is 1.687206\n",
      "Epoch 1: loss 2.4784,\tloss_y 1.7089, 1.7397, 0.0615,\tloss_eta 0.7695, 0.8042, 0.0694\n",
      "Warning: covariate dimension does not aligned with the specified input dimension; filling in the remaining dimension with noise.\n",
      "Warning: covariate dimension does not aligned with the specified input dimension; filling in the remaining dimension with noise.\n"
     ]
    },
    {
     "name": "stderr",
     "output_type": "stream",
     "text": [
      "INFO \t Training with 11 minibatches per epoch\n",
      "INFO \t Evaluating 1 minibatches\n",
      "2025-04-26 12:12:44.710907: E tensorflow/core/framework/node_def_util.cc:676] NodeDef mentions attribute use_unbounded_threadpool which is not in the op definition: Op<name=MapDataset; signature=input_dataset:variant, other_arguments: -> handle:variant; attr=f:func; attr=Targuments:list(type),min=0; attr=output_types:list(type),min=1; attr=output_shapes:list(shape),min=1; attr=use_inter_op_parallelism:bool,default=true; attr=preserve_cardinality:bool,default=false; attr=force_synchronous:bool,default=false; attr=metadata:string,default=\"\"> This may be expected if your graph generating binary is newer  than this binary. Unknown attributes will be ignored. NodeDef: {{node ParallelMapDatasetV2/_14}}\n",
      "2025-04-26 12:12:44.711229: E tensorflow/core/framework/node_def_util.cc:676] NodeDef mentions attribute use_unbounded_threadpool which is not in the op definition: Op<name=MapDataset; signature=input_dataset:variant, other_arguments: -> handle:variant; attr=f:func; attr=Targuments:list(type),min=0; attr=output_types:list(type),min=1; attr=output_shapes:list(shape),min=1; attr=use_inter_op_parallelism:bool,default=true; attr=preserve_cardinality:bool,default=false; attr=force_synchronous:bool,default=false; attr=metadata:string,default=\"\"> This may be expected if your graph generating binary is newer  than this binary. Unknown attributes will be ignored. NodeDef: {{node ParallelMapDatasetV2/_14}}\n",
      "2025-04-26 12:12:50.327703: E tensorflow/core/framework/node_def_util.cc:676] NodeDef mentions attribute use_unbounded_threadpool which is not in the op definition: Op<name=MapDataset; signature=input_dataset:variant, other_arguments: -> handle:variant; attr=f:func; attr=Targuments:list(type),min=0; attr=output_types:list(type),min=1; attr=output_shapes:list(shape),min=1; attr=use_inter_op_parallelism:bool,default=true; attr=preserve_cardinality:bool,default=false; attr=force_synchronous:bool,default=false; attr=metadata:string,default=\"\"> This may be expected if your graph generating binary is newer  than this binary. Unknown attributes will be ignored. NodeDef: {{node ParallelMapDatasetV2/_14}}\n",
      "2025-04-26 12:12:50.327998: E tensorflow/core/framework/node_def_util.cc:676] NodeDef mentions attribute use_unbounded_threadpool which is not in the op definition: Op<name=MapDataset; signature=input_dataset:variant, other_arguments: -> handle:variant; attr=f:func; attr=Targuments:list(type),min=0; attr=output_types:list(type),min=1; attr=output_shapes:list(shape),min=1; attr=use_inter_op_parallelism:bool,default=true; attr=preserve_cardinality:bool,default=false; attr=force_synchronous:bool,default=false; attr=metadata:string,default=\"\"> This may be expected if your graph generating binary is newer  than this binary. Unknown attributes will be ignored. NodeDef: {{node ParallelMapDatasetV2/_14}}\n",
      " 83%|████████▎ | 25/30 [1:13:53<12:42, 152.58s/it]"
     ]
    },
    {
     "name": "stdout",
     "output_type": "stream",
     "text": [
      "The average treatment effect (ATE) is 1.5578715\n",
      "Epoch 1: loss 2.4605,\tloss_y 1.6795, 1.7029, 0.0468,\tloss_eta 0.7810, 0.8192, 0.0763\n",
      "Warning: covariate dimension does not aligned with the specified input dimension; filling in the remaining dimension with noise.\n",
      "Warning: covariate dimension does not aligned with the specified input dimension; filling in the remaining dimension with noise.\n"
     ]
    },
    {
     "name": "stderr",
     "output_type": "stream",
     "text": [
      "INFO \t Training with 11 minibatches per epoch\n",
      "INFO \t Evaluating 1 minibatches\n",
      "2025-04-26 12:15:19.832235: E tensorflow/core/framework/node_def_util.cc:676] NodeDef mentions attribute use_unbounded_threadpool which is not in the op definition: Op<name=MapDataset; signature=input_dataset:variant, other_arguments: -> handle:variant; attr=f:func; attr=Targuments:list(type),min=0; attr=output_types:list(type),min=1; attr=output_shapes:list(shape),min=1; attr=use_inter_op_parallelism:bool,default=true; attr=preserve_cardinality:bool,default=false; attr=force_synchronous:bool,default=false; attr=metadata:string,default=\"\"> This may be expected if your graph generating binary is newer  than this binary. Unknown attributes will be ignored. NodeDef: {{node ParallelMapDatasetV2/_14}}\n",
      "2025-04-26 12:15:19.832559: E tensorflow/core/framework/node_def_util.cc:676] NodeDef mentions attribute use_unbounded_threadpool which is not in the op definition: Op<name=MapDataset; signature=input_dataset:variant, other_arguments: -> handle:variant; attr=f:func; attr=Targuments:list(type),min=0; attr=output_types:list(type),min=1; attr=output_shapes:list(shape),min=1; attr=use_inter_op_parallelism:bool,default=true; attr=preserve_cardinality:bool,default=false; attr=force_synchronous:bool,default=false; attr=metadata:string,default=\"\"> This may be expected if your graph generating binary is newer  than this binary. Unknown attributes will be ignored. NodeDef: {{node ParallelMapDatasetV2/_14}}\n",
      "2025-04-26 12:15:25.398921: E tensorflow/core/framework/node_def_util.cc:676] NodeDef mentions attribute use_unbounded_threadpool which is not in the op definition: Op<name=MapDataset; signature=input_dataset:variant, other_arguments: -> handle:variant; attr=f:func; attr=Targuments:list(type),min=0; attr=output_types:list(type),min=1; attr=output_shapes:list(shape),min=1; attr=use_inter_op_parallelism:bool,default=true; attr=preserve_cardinality:bool,default=false; attr=force_synchronous:bool,default=false; attr=metadata:string,default=\"\"> This may be expected if your graph generating binary is newer  than this binary. Unknown attributes will be ignored. NodeDef: {{node ParallelMapDatasetV2/_14}}\n",
      "2025-04-26 12:15:25.399238: E tensorflow/core/framework/node_def_util.cc:676] NodeDef mentions attribute use_unbounded_threadpool which is not in the op definition: Op<name=MapDataset; signature=input_dataset:variant, other_arguments: -> handle:variant; attr=f:func; attr=Targuments:list(type),min=0; attr=output_types:list(type),min=1; attr=output_shapes:list(shape),min=1; attr=use_inter_op_parallelism:bool,default=true; attr=preserve_cardinality:bool,default=false; attr=force_synchronous:bool,default=false; attr=metadata:string,default=\"\"> This may be expected if your graph generating binary is newer  than this binary. Unknown attributes will be ignored. NodeDef: {{node ParallelMapDatasetV2/_14}}\n",
      " 87%|████████▋ | 26/30 [1:16:28<10:13, 153.33s/it]"
     ]
    },
    {
     "name": "stdout",
     "output_type": "stream",
     "text": [
      "The average treatment effect (ATE) is 1.6562784\n",
      "Epoch 1: loss 2.4268,\tloss_y 1.6681, 1.6962, 0.0563,\tloss_eta 0.7587, 0.7903, 0.0633\n",
      "Warning: covariate dimension does not aligned with the specified input dimension; filling in the remaining dimension with noise.\n",
      "Warning: covariate dimension does not aligned with the specified input dimension; filling in the remaining dimension with noise.\n"
     ]
    },
    {
     "name": "stderr",
     "output_type": "stream",
     "text": [
      "INFO \t Training with 11 minibatches per epoch\n",
      "INFO \t Evaluating 1 minibatches\n",
      "2025-04-26 12:17:47.203025: E tensorflow/core/framework/node_def_util.cc:676] NodeDef mentions attribute use_unbounded_threadpool which is not in the op definition: Op<name=MapDataset; signature=input_dataset:variant, other_arguments: -> handle:variant; attr=f:func; attr=Targuments:list(type),min=0; attr=output_types:list(type),min=1; attr=output_shapes:list(shape),min=1; attr=use_inter_op_parallelism:bool,default=true; attr=preserve_cardinality:bool,default=false; attr=force_synchronous:bool,default=false; attr=metadata:string,default=\"\"> This may be expected if your graph generating binary is newer  than this binary. Unknown attributes will be ignored. NodeDef: {{node ParallelMapDatasetV2/_14}}\n",
      "2025-04-26 12:17:47.203369: E tensorflow/core/framework/node_def_util.cc:676] NodeDef mentions attribute use_unbounded_threadpool which is not in the op definition: Op<name=MapDataset; signature=input_dataset:variant, other_arguments: -> handle:variant; attr=f:func; attr=Targuments:list(type),min=0; attr=output_types:list(type),min=1; attr=output_shapes:list(shape),min=1; attr=use_inter_op_parallelism:bool,default=true; attr=preserve_cardinality:bool,default=false; attr=force_synchronous:bool,default=false; attr=metadata:string,default=\"\"> This may be expected if your graph generating binary is newer  than this binary. Unknown attributes will be ignored. NodeDef: {{node ParallelMapDatasetV2/_14}}\n",
      "2025-04-26 12:17:52.726867: E tensorflow/core/framework/node_def_util.cc:676] NodeDef mentions attribute use_unbounded_threadpool which is not in the op definition: Op<name=MapDataset; signature=input_dataset:variant, other_arguments: -> handle:variant; attr=f:func; attr=Targuments:list(type),min=0; attr=output_types:list(type),min=1; attr=output_shapes:list(shape),min=1; attr=use_inter_op_parallelism:bool,default=true; attr=preserve_cardinality:bool,default=false; attr=force_synchronous:bool,default=false; attr=metadata:string,default=\"\"> This may be expected if your graph generating binary is newer  than this binary. Unknown attributes will be ignored. NodeDef: {{node ParallelMapDatasetV2/_14}}\n",
      "2025-04-26 12:17:52.727133: E tensorflow/core/framework/node_def_util.cc:676] NodeDef mentions attribute use_unbounded_threadpool which is not in the op definition: Op<name=MapDataset; signature=input_dataset:variant, other_arguments: -> handle:variant; attr=f:func; attr=Targuments:list(type),min=0; attr=output_types:list(type),min=1; attr=output_shapes:list(shape),min=1; attr=use_inter_op_parallelism:bool,default=true; attr=preserve_cardinality:bool,default=false; attr=force_synchronous:bool,default=false; attr=metadata:string,default=\"\"> This may be expected if your graph generating binary is newer  than this binary. Unknown attributes will be ignored. NodeDef: {{node ParallelMapDatasetV2/_14}}\n",
      " 90%|█████████ | 27/30 [1:18:55<07:34, 151.53s/it]"
     ]
    },
    {
     "name": "stdout",
     "output_type": "stream",
     "text": [
      "The average treatment effect (ATE) is 1.5145111\n",
      "Epoch 1: loss 2.5386,\tloss_y 1.7587, 1.7688, 0.0201,\tloss_eta 0.7799, 0.8165, 0.0732\n",
      "Warning: covariate dimension does not aligned with the specified input dimension; filling in the remaining dimension with noise.\n",
      "Warning: covariate dimension does not aligned with the specified input dimension; filling in the remaining dimension with noise.\n"
     ]
    },
    {
     "name": "stderr",
     "output_type": "stream",
     "text": [
      "INFO \t Training with 11 minibatches per epoch\n",
      "INFO \t Evaluating 1 minibatches\n",
      "2025-04-26 12:20:17.608073: E tensorflow/core/framework/node_def_util.cc:676] NodeDef mentions attribute use_unbounded_threadpool which is not in the op definition: Op<name=MapDataset; signature=input_dataset:variant, other_arguments: -> handle:variant; attr=f:func; attr=Targuments:list(type),min=0; attr=output_types:list(type),min=1; attr=output_shapes:list(shape),min=1; attr=use_inter_op_parallelism:bool,default=true; attr=preserve_cardinality:bool,default=false; attr=force_synchronous:bool,default=false; attr=metadata:string,default=\"\"> This may be expected if your graph generating binary is newer  than this binary. Unknown attributes will be ignored. NodeDef: {{node ParallelMapDatasetV2/_14}}\n",
      "2025-04-26 12:20:17.608360: E tensorflow/core/framework/node_def_util.cc:676] NodeDef mentions attribute use_unbounded_threadpool which is not in the op definition: Op<name=MapDataset; signature=input_dataset:variant, other_arguments: -> handle:variant; attr=f:func; attr=Targuments:list(type),min=0; attr=output_types:list(type),min=1; attr=output_shapes:list(shape),min=1; attr=use_inter_op_parallelism:bool,default=true; attr=preserve_cardinality:bool,default=false; attr=force_synchronous:bool,default=false; attr=metadata:string,default=\"\"> This may be expected if your graph generating binary is newer  than this binary. Unknown attributes will be ignored. NodeDef: {{node ParallelMapDatasetV2/_14}}\n",
      "2025-04-26 12:20:23.142416: E tensorflow/core/framework/node_def_util.cc:676] NodeDef mentions attribute use_unbounded_threadpool which is not in the op definition: Op<name=MapDataset; signature=input_dataset:variant, other_arguments: -> handle:variant; attr=f:func; attr=Targuments:list(type),min=0; attr=output_types:list(type),min=1; attr=output_shapes:list(shape),min=1; attr=use_inter_op_parallelism:bool,default=true; attr=preserve_cardinality:bool,default=false; attr=force_synchronous:bool,default=false; attr=metadata:string,default=\"\"> This may be expected if your graph generating binary is newer  than this binary. Unknown attributes will be ignored. NodeDef: {{node ParallelMapDatasetV2/_14}}\n",
      "2025-04-26 12:20:23.142686: E tensorflow/core/framework/node_def_util.cc:676] NodeDef mentions attribute use_unbounded_threadpool which is not in the op definition: Op<name=MapDataset; signature=input_dataset:variant, other_arguments: -> handle:variant; attr=f:func; attr=Targuments:list(type),min=0; attr=output_types:list(type),min=1; attr=output_shapes:list(shape),min=1; attr=use_inter_op_parallelism:bool,default=true; attr=preserve_cardinality:bool,default=false; attr=force_synchronous:bool,default=false; attr=metadata:string,default=\"\"> This may be expected if your graph generating binary is newer  than this binary. Unknown attributes will be ignored. NodeDef: {{node ParallelMapDatasetV2/_14}}\n",
      " 93%|█████████▎| 28/30 [1:21:26<05:02, 151.19s/it]"
     ]
    },
    {
     "name": "stdout",
     "output_type": "stream",
     "text": [
      "The average treatment effect (ATE) is 1.5856658\n",
      "Epoch 1: loss 2.4312,\tloss_y 1.6956, 1.7220, 0.0528,\tloss_eta 0.7356, 0.7811, 0.0909\n",
      "Warning: covariate dimension does not aligned with the specified input dimension; filling in the remaining dimension with noise.\n",
      "Warning: covariate dimension does not aligned with the specified input dimension; filling in the remaining dimension with noise.\n"
     ]
    },
    {
     "name": "stderr",
     "output_type": "stream",
     "text": [
      "INFO \t Training with 11 minibatches per epoch\n",
      "INFO \t Evaluating 1 minibatches\n",
      "2025-04-26 12:22:47.075900: E tensorflow/core/framework/node_def_util.cc:676] NodeDef mentions attribute use_unbounded_threadpool which is not in the op definition: Op<name=MapDataset; signature=input_dataset:variant, other_arguments: -> handle:variant; attr=f:func; attr=Targuments:list(type),min=0; attr=output_types:list(type),min=1; attr=output_shapes:list(shape),min=1; attr=use_inter_op_parallelism:bool,default=true; attr=preserve_cardinality:bool,default=false; attr=force_synchronous:bool,default=false; attr=metadata:string,default=\"\"> This may be expected if your graph generating binary is newer  than this binary. Unknown attributes will be ignored. NodeDef: {{node ParallelMapDatasetV2/_14}}\n",
      "2025-04-26 12:22:47.076210: E tensorflow/core/framework/node_def_util.cc:676] NodeDef mentions attribute use_unbounded_threadpool which is not in the op definition: Op<name=MapDataset; signature=input_dataset:variant, other_arguments: -> handle:variant; attr=f:func; attr=Targuments:list(type),min=0; attr=output_types:list(type),min=1; attr=output_shapes:list(shape),min=1; attr=use_inter_op_parallelism:bool,default=true; attr=preserve_cardinality:bool,default=false; attr=force_synchronous:bool,default=false; attr=metadata:string,default=\"\"> This may be expected if your graph generating binary is newer  than this binary. Unknown attributes will be ignored. NodeDef: {{node ParallelMapDatasetV2/_14}}\n",
      "2025-04-26 12:22:52.666627: E tensorflow/core/framework/node_def_util.cc:676] NodeDef mentions attribute use_unbounded_threadpool which is not in the op definition: Op<name=MapDataset; signature=input_dataset:variant, other_arguments: -> handle:variant; attr=f:func; attr=Targuments:list(type),min=0; attr=output_types:list(type),min=1; attr=output_shapes:list(shape),min=1; attr=use_inter_op_parallelism:bool,default=true; attr=preserve_cardinality:bool,default=false; attr=force_synchronous:bool,default=false; attr=metadata:string,default=\"\"> This may be expected if your graph generating binary is newer  than this binary. Unknown attributes will be ignored. NodeDef: {{node ParallelMapDatasetV2/_14}}\n",
      "2025-04-26 12:22:52.666943: E tensorflow/core/framework/node_def_util.cc:676] NodeDef mentions attribute use_unbounded_threadpool which is not in the op definition: Op<name=MapDataset; signature=input_dataset:variant, other_arguments: -> handle:variant; attr=f:func; attr=Targuments:list(type),min=0; attr=output_types:list(type),min=1; attr=output_shapes:list(shape),min=1; attr=use_inter_op_parallelism:bool,default=true; attr=preserve_cardinality:bool,default=false; attr=force_synchronous:bool,default=false; attr=metadata:string,default=\"\"> This may be expected if your graph generating binary is newer  than this binary. Unknown attributes will be ignored. NodeDef: {{node ParallelMapDatasetV2/_14}}\n",
      " 97%|█████████▋| 29/30 [1:23:55<02:30, 150.69s/it]"
     ]
    },
    {
     "name": "stdout",
     "output_type": "stream",
     "text": [
      "The average treatment effect (ATE) is 1.6054076\n",
      "Epoch 1: loss 2.3800,\tloss_y 1.6357, 1.6658, 0.0602,\tloss_eta 0.7443, 0.7776, 0.0666\n",
      "Warning: covariate dimension does not aligned with the specified input dimension; filling in the remaining dimension with noise.\n",
      "Warning: covariate dimension does not aligned with the specified input dimension; filling in the remaining dimension with noise.\n"
     ]
    },
    {
     "name": "stderr",
     "output_type": "stream",
     "text": [
      "INFO \t Training with 11 minibatches per epoch\n",
      "INFO \t Evaluating 1 minibatches\n",
      "2025-04-26 12:25:19.331807: E tensorflow/core/framework/node_def_util.cc:676] NodeDef mentions attribute use_unbounded_threadpool which is not in the op definition: Op<name=MapDataset; signature=input_dataset:variant, other_arguments: -> handle:variant; attr=f:func; attr=Targuments:list(type),min=0; attr=output_types:list(type),min=1; attr=output_shapes:list(shape),min=1; attr=use_inter_op_parallelism:bool,default=true; attr=preserve_cardinality:bool,default=false; attr=force_synchronous:bool,default=false; attr=metadata:string,default=\"\"> This may be expected if your graph generating binary is newer  than this binary. Unknown attributes will be ignored. NodeDef: {{node ParallelMapDatasetV2/_14}}\n",
      "2025-04-26 12:25:19.332084: E tensorflow/core/framework/node_def_util.cc:676] NodeDef mentions attribute use_unbounded_threadpool which is not in the op definition: Op<name=MapDataset; signature=input_dataset:variant, other_arguments: -> handle:variant; attr=f:func; attr=Targuments:list(type),min=0; attr=output_types:list(type),min=1; attr=output_shapes:list(shape),min=1; attr=use_inter_op_parallelism:bool,default=true; attr=preserve_cardinality:bool,default=false; attr=force_synchronous:bool,default=false; attr=metadata:string,default=\"\"> This may be expected if your graph generating binary is newer  than this binary. Unknown attributes will be ignored. NodeDef: {{node ParallelMapDatasetV2/_14}}\n",
      "2025-04-26 12:25:24.879622: E tensorflow/core/framework/node_def_util.cc:676] NodeDef mentions attribute use_unbounded_threadpool which is not in the op definition: Op<name=MapDataset; signature=input_dataset:variant, other_arguments: -> handle:variant; attr=f:func; attr=Targuments:list(type),min=0; attr=output_types:list(type),min=1; attr=output_shapes:list(shape),min=1; attr=use_inter_op_parallelism:bool,default=true; attr=preserve_cardinality:bool,default=false; attr=force_synchronous:bool,default=false; attr=metadata:string,default=\"\"> This may be expected if your graph generating binary is newer  than this binary. Unknown attributes will be ignored. NodeDef: {{node ParallelMapDatasetV2/_14}}\n",
      "2025-04-26 12:25:24.879913: E tensorflow/core/framework/node_def_util.cc:676] NodeDef mentions attribute use_unbounded_threadpool which is not in the op definition: Op<name=MapDataset; signature=input_dataset:variant, other_arguments: -> handle:variant; attr=f:func; attr=Targuments:list(type),min=0; attr=output_types:list(type),min=1; attr=output_shapes:list(shape),min=1; attr=use_inter_op_parallelism:bool,default=true; attr=preserve_cardinality:bool,default=false; attr=force_synchronous:bool,default=false; attr=metadata:string,default=\"\"> This may be expected if your graph generating binary is newer  than this binary. Unknown attributes will be ignored. NodeDef: {{node ParallelMapDatasetV2/_14}}\n",
      "100%|██████████| 30/30 [1:26:27<00:00, 172.93s/it]"
     ]
    },
    {
     "name": "stdout",
     "output_type": "stream",
     "text": [
      "The average treatment effect (ATE) is 1.6432047\n"
     ]
    },
    {
     "name": "stderr",
     "output_type": "stream",
     "text": [
      "\n"
     ]
    }
   ],
   "source": [
    "nrep = 30  # Number of repetitions\n",
    "n_tr = 1000  # Training sample size\n",
    "n_val = 400\n",
    "n_te = 400  # Testing sample size\n",
    "strength_instr_values = np.arange(1,4.5,1)  # Varying strength of instrumental variables\n",
    "nI = 4 # Fixed number of instrumental variables\n",
    "nX = 3\n",
    "nO = 3\n",
    "nS = 0\n",
    "binary_intervention = True\n",
    "num_iters = 800  # Fixed number of training iterations\n",
    "ate = 2\n",
    "strength_conf = 1\n",
    "strength_outcome = 1\n",
    "\n",
    "# Initialize tracker for strength_instr\n",
    "tracker = {strength_instr: {\"fr\": [], \"dr\": [], \"causalegm\":[], \"tarnet\":[], \"cfrnet\":[], \"cevae\":[], \"dragonnet\":[]}\n",
    "           for strength_instr in strength_instr_values}\n",
    "best_hps = {model: None for model in [\"tarnet\",\"cfrnet\",\"cevae\",\"dragonnet\"]}\n",
    "# Begin loop over strength_instr\n",
    "for strength_instr in strength_instr_values:\n",
    "    print(f\"Running experiments for strength_instr = {strength_instr}\")\n",
    "    p = nI + nX + nO + nS  # Update the number of covariates\n",
    "    \n",
    "    for rep in tqdm(range(nrep)):\n",
    "        # Generate training and testing data\n",
    "        df_tr = generate_data_causl(n=n_tr, nI=nI, nX=nX, nO=nO, nS=nS, ate=ate, \n",
    "                                    beta_cov=beta_cov, strength_instr=strength_instr, \n",
    "                                    strength_conf=strength_conf, \n",
    "                                    strength_outcome=strength_outcome, \n",
    "                                    binary_intervention=binary_intervention)\n",
    "        z_tr = torch.tensor(df_tr[[f\"X{i}\" for i in range(1, p + 1)]].values, dtype=torch.float32)\n",
    "        x_tr = torch.tensor(df_tr['A'].values, dtype=torch.int32).view(-1, 1) if binary_intervention else \\\n",
    "            torch.tensor(df_tr['A'].values, dtype=torch.float32).view(-1, 1)\n",
    "        y_tr = torch.tensor(df_tr['y'].values, dtype=torch.float32).view(-1, 1)\n",
    "        \n",
    "        z_tr_np = df_tr[[f\"X{i}\" for i in range(1, p + 1)]].values\n",
    "        x_tr_np = df_tr['A'].values\n",
    "        y_tr_np = df_tr['y'].values\n",
    "\n",
    "        df_val = generate_data_causl(n=n_val, nI=nI, nX=nX, nO=nO, nS=nS, ate=ate, \n",
    "                                    beta_cov=beta_cov, strength_instr=strength_instr, \n",
    "                                    strength_conf=strength_conf, \n",
    "                                    strength_outcome=strength_outcome, \n",
    "                                    binary_intervention=binary_intervention)\n",
    "\n",
    "\n",
    "        z_val_np = df_val[[f\"X{i}\" for i in range(1, p + 1)]].values\n",
    "        x_val_np = df_val['A'].values\n",
    "        y_val_np = df_val['y'].values\n",
    "\n",
    "        df_te = generate_data_causl(n=n_te, nI=nI, nX=nX, nO=nO, nS=nS, ate=ate, \n",
    "                                    beta_cov=beta_cov, strength_instr=strength_instr, \n",
    "                                    strength_conf=strength_conf, \n",
    "                                    strength_outcome=strength_outcome, \n",
    "                                    binary_intervention=binary_intervention)\n",
    "\n",
    "        z_te_np = df_te[[f\"X{i}\" for i in range(1, p + 1)]].values\n",
    "        x_te_np = df_te['A'].values\n",
    "        y_te_np = df_te['y'].values\n",
    "        z_te = torch.tensor(z_te_np, dtype=torch.float32)\n",
    "\n",
    "        model = Frengression(x_dim = x_tr.shape[1], y_dim = 1, z_dim =z_tr.shape[1], \n",
    "                             noise_dim=1, num_layer=3, hidden_dim=100, \n",
    "                             device=device, x_binary=binary_intervention, z_binary_dims=0)\n",
    "\n",
    "        # Train Frengression model\n",
    "        model.train_y(x=x_tr,\n",
    "                      z=z_tr, \n",
    "                      y=y_tr, \n",
    "                      num_iters=num_iters, lr=1e-4, print_every_iter=1000)\n",
    "\n",
    "        # Sample model distributions\n",
    "        P0 = model.sample_causal_margin(torch.tensor([0], dtype=torch.int32), sample_size=n_te).numpy().reshape(-1, 1)\n",
    "        P1 = model.sample_causal_margin(torch.tensor([1], dtype=torch.int32), sample_size=n_te).numpy().reshape(-1, 1)\n",
    "        ate_fr = np.mean(P1) - np.mean(P0)\n",
    "\n",
    "        # DR Estimation\n",
    "        ate_dr, _ = dr_ate(x_tr_np, y_tr_np, z_tr_np ,x_te_np, y_te_np, z_te_np)\n",
    "\n",
    "        for model in [\"tarnet\",\"cfrnet\",\"cevae\",\"dragonnet\"]:\n",
    "            if rep == 0:\n",
    "                ite, best_hps[model] = tune_and_eval(\n",
    "                    model,\n",
    "                    z_tr_np, x_tr_np, y_tr_np,\n",
    "                    z_val_np, x_val_np, y_val_np,\n",
    "                    z_te_np, x_te_np,y_te_np,\n",
    "                    provided_params=None,\n",
    "                    n_trials=10\n",
    "                )\n",
    "            else:\n",
    "                ite = tune_and_eval(\n",
    "                    model,\n",
    "                    z_tr_np, x_tr_np, y_tr_np,\n",
    "                    z_val_np, x_val_np, y_val_np,\n",
    "                    z_te_np, x_te_np,y_te_np,\n",
    "                    provided_params=best_hps[model]\n",
    "                )\n",
    "            tracker[strength_instr][model].append(ite.mean())\n",
    "\n",
    "\n",
    "        cegm_params = {'dataset': 'Semi_acic', \n",
    "                        'output_dir': '.', \n",
    "                        'v_dim': z_tr.shape[1], \n",
    "                        'z_dims': [1, 1, 1, 1], \n",
    "                        'lr': 0.0002, \n",
    "                        'alpha': 1, \n",
    "                        'beta': 1, \n",
    "                        'gamma': 10, \n",
    "                        'g_d_freq': 5, \n",
    "                        'g_units': [64, 64, 64, 64, 64], \n",
    "                        'e_units': [64, 64, 64, 64, 64], \n",
    "                        'f_units': [64, 32, 8], \n",
    "                        'h_units': [64, 32, 8], \n",
    "                        'dz_units': [64, 32, 8], \n",
    "                        'dv_units': [64, 32, 8], 'save_res': False, 'save_model': False, 'binary_treatment': True, 'use_z_rec': True, 'use_v_gan': True}\n",
    "        egm_model = cegm.CausalEGM(params=cegm_params, random_seed=42)\n",
    "        egm_model.train(data=[x_tr,y_tr,z_tr],n_iter=800, verbose=False)\n",
    "        ate_causalegm=egm_model.getCATE(z_te).mean()\n",
    "\n",
    "        # Log results\n",
    "        tracker[strength_instr][\"fr\"].append(ate_fr)\n",
    "        tracker[strength_instr][\"dr\"].append(ate_dr)\n",
    "        tracker[strength_instr][\"causalegm\"].append(ate_causalegm)\n",
    "    \n",
    "        "
   ]
  },
  {
   "cell_type": "code",
   "execution_count": 4,
   "id": "4dd4b73d",
   "metadata": {},
   "outputs": [],
   "source": [
    "import json\n",
    "output_dir = \"result/binary\"\n",
    "os.makedirs(output_dir, exist_ok=True)\n",
    "tracker_serializable = {\n",
    "    str(k): [float(x) for x in v_dict.get(\"fr\",[])] \n",
    "              + []  # (we'll overwrite below) \n",
    "    for k, v_dict in tracker.items()\n",
    "}\n",
    "# actually build full dict:\n",
    "tracker_serializable = {\n",
    "    str(k): {\n",
    "        model: [float(x) for x in v_list]\n",
    "        for model, v_list in v_dict.items()\n",
    "    }\n",
    "    for k, v_dict in tracker.items()\n",
    "}\n",
    "\n",
    "# 3) write it out\n",
    "with open(os.path.join(output_dir, \"synthetic_1k.json\"), \"w\") as f:\n",
    "    json.dump(tracker_serializable, f, indent=4)\n"
   ]
  },
  {
   "cell_type": "markdown",
   "id": "351bf788",
   "metadata": {},
   "source": [
    "## IHDP"
   ]
  },
  {
   "cell_type": "code",
   "execution_count": null,
   "id": "7324f605",
   "metadata": {},
   "outputs": [
    {
     "name": "stdout",
     "output_type": "stream",
     "text": [
      "Checking trial = 0\n",
      "Running on valid trial = 0\n",
      "Epoch 1: loss 3.8401,\tloss_y 3.1015, 3.1212, 0.0394,\tloss_eta 0.7386, 0.7636, 0.0499\n",
      "Epoch 400: loss 1.0217,\tloss_y 0.4154, 0.9185, 1.0062,\tloss_eta 0.6064, 1.0806, 0.9484\n",
      "Warning: covariate dimension does not aligned with the specified input dimension; filling in the remaining dimension with noise.\n",
      "Warning: covariate dimension does not aligned with the specified input dimension; filling in the remaining dimension with noise.\n"
     ]
    },
    {
     "name": "stderr",
     "output_type": "stream",
     "text": [
      "[I 2025-04-26 17:04:09,260] A new study created in memory with name: tarnet_tune\n",
      "[I 2025-04-26 17:04:14,035] Trial 0 finished with value: 1.0104341506958008 and parameters: {'lr': 0.0001452698617364503, 'wd': 0.0012526263115156919, 'bs': 128, 'epochs': 659, 'rep1': 46, 'rep2': 78, 'head': 88, 'drop': 0.0009131326037892298}. Best is trial 0 with value: 1.0104341506958008.\n",
      "[I 2025-04-26 17:04:17,774] Trial 1 finished with value: 0.2894759178161621 and parameters: {'lr': 0.000878751123383489, 'wd': 0.003866714596225409, 'bs': 256, 'epochs': 692, 'rep1': 24, 'rep2': 95, 'head': 66, 'drop': 0.0003449875654759119}. Best is trial 1 with value: 0.2894759178161621.\n",
      "[I 2025-04-26 17:04:22,465] Trial 2 finished with value: 3.1734859943389893 and parameters: {'lr': 4.041837938030283e-05, 'wd': 0.007880803908061782, 'bs': 32, 'epochs': 344, 'rep1': 21, 'rep2': 81, 'head': 65, 'drop': 3.0919445356371586e-05}. Best is trial 1 with value: 0.2894759178161621.\n",
      "[I 2025-04-26 17:04:27,419] Trial 3 finished with value: 3.4630887508392334 and parameters: {'lr': 2.3042632408143408e-05, 'wd': 1.20865920464166e-05, 'bs': 256, 'epochs': 778, 'rep1': 38, 'rep2': 85, 'head': 92, 'drop': 0.0008428577269057257}. Best is trial 1 with value: 0.2894759178161621.\n",
      "[I 2025-04-26 17:04:32,043] Trial 4 finished with value: 0.4074551463127136 and parameters: {'lr': 0.0003168532789476641, 'wd': 0.0026990853660115253, 'bs': 256, 'epochs': 758, 'rep1': 39, 'rep2': 78, 'head': 81, 'drop': 0.00035806819204816986}. Best is trial 1 with value: 0.2894759178161621.\n",
      "[I 2025-04-26 17:04:35,496] Trial 5 finished with value: 3.211256980895996 and parameters: {'lr': 4.662869260584224e-05, 'wd': 0.008808767215745987, 'bs': 256, 'epochs': 624, 'rep1': 46, 'rep2': 92, 'head': 69, 'drop': 0.00014796948246437292}. Best is trial 1 with value: 0.2894759178161621.\n",
      "[I 2025-04-26 17:04:38,930] Trial 6 finished with value: 0.2750293016433716 and parameters: {'lr': 0.0011148410665372066, 'wd': 0.008654565355445577, 'bs': 256, 'epochs': 619, 'rep1': 30, 'rep2': 65, 'head': 84, 'drop': 0.0002024579312256767}. Best is trial 6 with value: 0.2750293016433716.\n",
      "[I 2025-04-26 17:04:42,427] Trial 7 finished with value: 0.9113817811012268 and parameters: {'lr': 0.0002536927231003887, 'wd': 0.0005400104063712457, 'bs': 128, 'epochs': 450, 'rep1': 47, 'rep2': 59, 'head': 78, 'drop': 0.00028183365334413855}. Best is trial 6 with value: 0.2750293016433716.\n",
      "[I 2025-04-26 17:04:44,713] Trial 8 finished with value: 1.1030685901641846 and parameters: {'lr': 0.0005509318332072556, 'wd': 0.000760743092244298, 'bs': 256, 'epochs': 358, 'rep1': 35, 'rep2': 53, 'head': 60, 'drop': 6.552258819659252e-05}. Best is trial 6 with value: 0.2750293016433716.\n",
      "[I 2025-04-26 17:04:55,086] Trial 9 finished with value: 0.005236624274402857 and parameters: {'lr': 0.0014377451537955332, 'wd': 0.00014915824534616717, 'bs': 32, 'epochs': 747, 'rep1': 46, 'rep2': 71, 'head': 79, 'drop': 0.0004129491998637863}. Best is trial 9 with value: 0.005236624274402857.\n",
      "[I 2025-04-26 17:05:01,855] Trial 10 finished with value: 0.007661727722734213 and parameters: {'lr': 0.008608975207029138, 'wd': 7.556019039507086e-05, 'bs': 32, 'epochs': 487, 'rep1': 50, 'rep2': 67, 'head': 98, 'drop': 0.000646364704505328}. Best is trial 9 with value: 0.005236624274402857.\n",
      "[I 2025-04-26 17:05:08,991] Trial 11 finished with value: 0.008360828272998333 and parameters: {'lr': 0.009490255496236902, 'wd': 8.330044239034576e-05, 'bs': 32, 'epochs': 501, 'rep1': 50, 'rep2': 67, 'head': 100, 'drop': 0.0006278090376325431}. Best is trial 9 with value: 0.005236624274402857.\n",
      "[I 2025-04-26 17:05:17,085] Trial 12 finished with value: 0.010080991312861443 and parameters: {'lr': 0.006583949007206708, 'wd': 0.00012333305054612148, 'bs': 32, 'epochs': 526, 'rep1': 42, 'rep2': 70, 'head': 100, 'drop': 0.0006022795280575226}. Best is trial 9 with value: 0.005236624274402857.\n",
      "[I 2025-04-26 17:05:22,600] Trial 13 finished with value: 0.011997593566775322 and parameters: {'lr': 0.00324416935082724, 'wd': 4.183383255743535e-05, 'bs': 32, 'epochs': 432, 'rep1': 50, 'rep2': 58, 'head': 50, 'drop': 0.0004992200666400499}. Best is trial 9 with value: 0.005236624274402857.\n",
      "[I 2025-04-26 17:05:30,302] Trial 14 finished with value: 0.006843811832368374 and parameters: {'lr': 0.0025190576102133173, 'wd': 0.000188835792870284, 'bs': 32, 'epochs': 537, 'rep1': 43, 'rep2': 70, 'head': 93, 'drop': 0.0007194117871718376}. Best is trial 9 with value: 0.005236624274402857.\n",
      "[I 2025-04-26 17:05:38,189] Trial 15 finished with value: 0.012717382982373238 and parameters: {'lr': 0.0021170574342226126, 'wd': 0.00022579763322120712, 'bs': 32, 'epochs': 569, 'rep1': 42, 'rep2': 87, 'head': 73, 'drop': 0.0007646036846086719}. Best is trial 9 with value: 0.005236624274402857.\n",
      "[I 2025-04-26 17:05:46,253] Trial 16 finished with value: 0.010182575322687626 and parameters: {'lr': 0.00243341819212018, 'wd': 0.0002539076253133718, 'bs': 32, 'epochs': 575, 'rep1': 33, 'rep2': 74, 'head': 91, 'drop': 0.0005078180061200292}. Best is trial 9 with value: 0.005236624274402857.\n",
      "[I 2025-04-26 17:05:51,315] Trial 17 finished with value: 0.00720237335190177 and parameters: {'lr': 0.0013359622723631277, 'wd': 2.5261927367359358e-05, 'bs': 128, 'epochs': 706, 'rep1': 43, 'rep2': 100, 'head': 85, 'drop': 0.000973767484905586}. Best is trial 9 with value: 0.005236624274402857.\n",
      "[I 2025-04-26 17:05:57,643] Trial 18 finished with value: 0.021104363724589348 and parameters: {'lr': 0.004172558732825238, 'wd': 0.00015955586499867062, 'bs': 32, 'epochs': 410, 'rep1': 29, 'rep2': 73, 'head': 93, 'drop': 0.0007399830910999032}. Best is trial 9 with value: 0.005236624274402857.\n",
      "[I 2025-04-26 17:06:07,851] Trial 19 finished with value: 0.009495224803686142 and parameters: {'lr': 0.0004884122524233915, 'wd': 0.0004608867994521493, 'bs': 32, 'epochs': 743, 'rep1': 39, 'rep2': 62, 'head': 76, 'drop': 0.00046428591659436854}. Best is trial 9 with value: 0.005236624274402857.\n"
     ]
    },
    {
     "name": "stdout",
     "output_type": "stream",
     "text": [
      "🔍 Best params for tarnet: {'lr': 0.0014377451537955332, 'wd': 0.00014915824534616717, 'bs': 32, 'epochs': 747, 'rep1': 46, 'rep2': 71, 'head': 79, 'drop': 0.0004129491998637863}\n"
     ]
    },
    {
     "name": "stderr",
     "output_type": "stream",
     "text": [
      "[I 2025-04-26 17:06:27,707] A new study created in memory with name: cfrnet_tune\n",
      "[I 2025-04-26 17:06:36,546] Trial 0 finished with value: 2.7676749229431152 and parameters: {'lr': 2.2039127359395403e-05, 'wd': 1.217439232042258e-05, 'bs': 32, 'epochs': 413, 'rep1': 149, 'rep2': 66, 'head': 136, 'drop': 0.0009169815855689647, 'ipm_weight': 1.6039062901497152}. Best is trial 0 with value: 2.7676749229431152.\n",
      "[I 2025-04-26 17:06:43,674] Trial 1 finished with value: 2.4398536682128906 and parameters: {'lr': 4.605096578840947e-05, 'wd': 0.0022885998770808902, 'bs': 128, 'epochs': 502, 'rep1': 183, 'rep2': 118, 'head': 159, 'drop': 0.0007848379361446074, 'ipm_weight': 9.034406373662197}. Best is trial 1 with value: 2.4398536682128906.\n",
      "[I 2025-04-26 17:06:48,988] Trial 2 finished with value: 3.7480759620666504 and parameters: {'lr': 1.4678047962851243e-05, 'wd': 0.0011784882960546742, 'bs': 256, 'epochs': 531, 'rep1': 157, 'rep2': 73, 'head': 89, 'drop': 1.616635189756932e-05, 'ipm_weight': 0.03602061572104704}. Best is trial 1 with value: 2.4398536682128906.\n",
      "[I 2025-04-26 17:06:58,228] Trial 3 finished with value: 0.0027898114640265703 and parameters: {'lr': 0.0032280434598455448, 'wd': 1.2015751684741374e-05, 'bs': 256, 'epochs': 757, 'rep1': 199, 'rep2': 157, 'head': 171, 'drop': 0.0008975489080931404, 'ipm_weight': 1.8455820842166288}. Best is trial 3 with value: 0.0027898114640265703.\n",
      "[I 2025-04-26 17:07:02,095] Trial 4 finished with value: 1.4252594709396362 and parameters: {'lr': 0.00014707073782403693, 'wd': 0.0002411183156341424, 'bs': 256, 'epochs': 371, 'rep1': 148, 'rep2': 195, 'head': 74, 'drop': 0.00032360095348191474, 'ipm_weight': 0.12378427216279639}. Best is trial 3 with value: 0.0027898114640265703.\n",
      "[I 2025-04-26 17:07:08,959] Trial 5 finished with value: 0.0015491214580833912 and parameters: {'lr': 0.0006431055824588748, 'wd': 1.142591812122286e-05, 'bs': 256, 'epochs': 746, 'rep1': 73, 'rep2': 74, 'head': 136, 'drop': 9.32900578728667e-05, 'ipm_weight': 0.1619889370330942}. Best is trial 5 with value: 0.0015491214580833912.\n",
      "[I 2025-04-26 17:07:15,113] Trial 6 finished with value: 3.6885855197906494 and parameters: {'lr': 1.0980971526890952e-05, 'wd': 0.00014800874639350365, 'bs': 256, 'epochs': 615, 'rep1': 177, 'rep2': 90, 'head': 192, 'drop': 0.0006514007397445766, 'ipm_weight': 0.11978578632370346}. Best is trial 5 with value: 0.0015491214580833912.\n",
      "[I 2025-04-26 17:07:19,397] Trial 7 finished with value: 0.007937334477901459 and parameters: {'lr': 0.002412244736823822, 'wd': 1.1449689477336703e-05, 'bs': 256, 'epochs': 475, 'rep1': 51, 'rep2': 95, 'head': 86, 'drop': 0.0005752009123023793, 'ipm_weight': 1.610752067252729}. Best is trial 5 with value: 0.0015491214580833912.\n",
      "[I 2025-04-26 17:07:28,814] Trial 8 finished with value: 0.015046928077936172 and parameters: {'lr': 0.00021952033503663847, 'wd': 0.004389869312118255, 'bs': 32, 'epochs': 423, 'rep1': 138, 'rep2': 91, 'head': 125, 'drop': 0.0007021943102956368, 'ipm_weight': 0.16521709691098863}. Best is trial 5 with value: 0.0015491214580833912.\n",
      "[I 2025-04-26 17:07:39,062] Trial 9 finished with value: 0.010140861384570599 and parameters: {'lr': 0.0002520980998989301, 'wd': 0.003951939898033315, 'bs': 32, 'epochs': 459, 'rep1': 153, 'rep2': 188, 'head': 93, 'drop': 0.0005362565669622254, 'ipm_weight': 0.02667329947519699}. Best is trial 5 with value: 0.0015491214580833912.\n",
      "[I 2025-04-26 17:07:47,457] Trial 10 finished with value: 0.0003857968549709767 and parameters: {'lr': 0.0010446371729586333, 'wd': 6.675134668318002e-05, 'bs': 128, 'epochs': 781, 'rep1': 86, 'rep2': 132, 'head': 123, 'drop': 4.620506851541958e-06, 'ipm_weight': 0.5146342262389219}. Best is trial 10 with value: 0.0003857968549709767.\n",
      "[I 2025-04-26 17:07:56,126] Trial 11 finished with value: 0.0007934770546853542 and parameters: {'lr': 0.0009387251763194646, 'wd': 5.102395211187607e-05, 'bs': 128, 'epochs': 796, 'rep1': 83, 'rep2': 143, 'head': 122, 'drop': 3.340729189872272e-05, 'ipm_weight': 0.47377298452194544}. Best is trial 10 with value: 0.0003857968549709767.\n",
      "[I 2025-04-26 17:08:03,359] Trial 12 finished with value: 0.005825246684253216 and parameters: {'lr': 0.00954063378997519, 'wd': 6.959680394972189e-05, 'bs': 128, 'epochs': 661, 'rep1': 101, 'rep2': 149, 'head': 111, 'drop': 0.0002568165277057404, 'ipm_weight': 0.5462711716901419}. Best is trial 10 with value: 0.0003857968549709767.\n",
      "[I 2025-04-26 17:08:11,546] Trial 13 finished with value: 0.001691661193035543 and parameters: {'lr': 0.0008404976291098343, 'wd': 5.567292688246858e-05, 'bs': 128, 'epochs': 785, 'rep1': 104, 'rep2': 136, 'head': 61, 'drop': 0.00019788078876027272, 'ipm_weight': 0.47173693302137665}. Best is trial 10 with value: 0.0003857968549709767.\n",
      "[I 2025-04-26 17:08:20,219] Trial 14 finished with value: 0.004159898031502962 and parameters: {'lr': 0.0012359231601319224, 'wd': 4.5567667865735425e-05, 'bs': 128, 'epochs': 684, 'rep1': 91, 'rep2': 165, 'head': 110, 'drop': 0.00037151960941510633, 'ipm_weight': 0.7784764663246072}. Best is trial 10 with value: 0.0003857968549709767.\n",
      "[I 2025-04-26 17:08:23,578] Trial 15 finished with value: 0.03988499566912651 and parameters: {'lr': 0.005489454519394294, 'wd': 0.0007485626934073018, 'bs': 128, 'epochs': 302, 'rep1': 73, 'rep2': 120, 'head': 154, 'drop': 0.00013266629530379835, 'ipm_weight': 5.781410747209216}. Best is trial 10 with value: 0.0003857968549709767.\n",
      "[I 2025-04-26 17:08:31,628] Trial 16 finished with value: 0.47813454270362854 and parameters: {'lr': 8.338422633050383e-05, 'wd': 3.240027075286749e-05, 'bs': 128, 'epochs': 712, 'rep1': 120, 'rep2': 176, 'head': 112, 'drop': 3.356209042184939e-06, 'ipm_weight': 0.061974271926452405}. Best is trial 10 with value: 0.0003857968549709767.\n",
      "[I 2025-04-26 17:08:38,299] Trial 17 finished with value: 0.005150301847606897 and parameters: {'lr': 0.0004952787640563044, 'wd': 0.00012962004442074784, 'bs': 128, 'epochs': 605, 'rep1': 55, 'rep2': 137, 'head': 149, 'drop': 0.0004327909741373225, 'ipm_weight': 0.015026388059564048}. Best is trial 10 with value: 0.0003857968549709767.\n",
      "[I 2025-04-26 17:08:47,067] Trial 18 finished with value: 0.001894929213449359 and parameters: {'lr': 0.0012991313468044034, 'wd': 0.0006366240379025667, 'bs': 128, 'epochs': 796, 'rep1': 82, 'rep2': 111, 'head': 176, 'drop': 0.00014800475773294784, 'ipm_weight': 0.2734732988561021}. Best is trial 10 with value: 0.0003857968549709767.\n",
      "[I 2025-04-26 17:08:52,694] Trial 19 finished with value: 0.010018980130553246 and parameters: {'lr': 0.002295701365472228, 'wd': 2.8569925331416224e-05, 'bs': 128, 'epochs': 595, 'rep1': 120, 'rep2': 52, 'head': 51, 'drop': 0.00028033008013779855, 'ipm_weight': 3.0211459191631023}. Best is trial 10 with value: 0.0003857968549709767.\n"
     ]
    },
    {
     "name": "stdout",
     "output_type": "stream",
     "text": [
      "🔍 Best params for cfrnet: {'lr': 0.0010446371729586333, 'wd': 6.675134668318002e-05, 'bs': 128, 'epochs': 781, 'rep1': 86, 'rep2': 132, 'head': 123, 'drop': 4.620506851541958e-06, 'ipm_weight': 0.5146342262389219}\n"
     ]
    },
    {
     "name": "stderr",
     "output_type": "stream",
     "text": [
      "[I 2025-04-26 17:09:08,505] A new study created in memory with name: cevae_tune\n",
      "INFO \t Training with 21 minibatches per epoch\n",
      "[I 2025-04-26 17:10:44,089] Trial 0 finished with value: 96.59444845290412 and parameters: {'lr': 0.00017873475294017044, 'wd': 0.0030151510875864713, 'bs': 32, 'epochs': 525, 'latent_dim': 147, 'hidden_dim': 356, 'num_layers': 4, 'num_samples': 200}. Best is trial 0 with value: 96.59444845290412.\n",
      "INFO \t Training with 3 minibatches per epoch\n",
      "[I 2025-04-26 17:11:00,510] Trial 1 finished with value: 90.9090089343843 and parameters: {'lr': 0.0001555445271530631, 'wd': 0.001080261415039497, 'bs': 256, 'epochs': 543, 'latent_dim': 137, 'hidden_dim': 78, 'num_layers': 4, 'num_samples': 50}. Best is trial 1 with value: 90.9090089343843.\n",
      "INFO \t Training with 3 minibatches per epoch\n",
      "[I 2025-04-26 17:11:28,636] Trial 2 finished with value: 80.85568909418015 and parameters: {'lr': 0.00032482718954760144, 'wd': 0.0004575355168402897, 'bs': 256, 'epochs': 580, 'latent_dim': 33, 'hidden_dim': 334, 'num_layers': 5, 'num_samples': 50}. Best is trial 2 with value: 80.85568909418015.\n",
      "INFO \t Training with 3 minibatches per epoch\n",
      "[I 2025-04-26 17:11:39,097] Trial 3 finished with value: 91.20431995391846 and parameters: {'lr': 4.2892246989612636e-05, 'wd': 0.005780593027314419, 'bs': 256, 'epochs': 304, 'latent_dim': 144, 'hidden_dim': 155, 'num_layers': 4, 'num_samples': 200}. Best is trial 2 with value: 80.85568909418015.\n",
      "INFO \t Training with 3 minibatches per epoch\n",
      "[I 2025-04-26 17:12:08,860] Trial 4 finished with value: 72.69884658995129 and parameters: {'lr': 0.004658651715616038, 'wd': 0.001185703674244106, 'bs': 256, 'epochs': 737, 'latent_dim': 10, 'hidden_dim': 345, 'num_layers': 4, 'num_samples': 100}. Best is trial 4 with value: 72.69884658995129.\n",
      "INFO \t Training with 6 minibatches per epoch\n",
      "[I 2025-04-26 17:12:36,561] Trial 5 finished with value: 74.92435714176723 and parameters: {'lr': 0.0037448114650798945, 'wd': 0.0038916365969438216, 'bs': 128, 'epochs': 524, 'latent_dim': 94, 'hidden_dim': 143, 'num_layers': 4, 'num_samples': 50}. Best is trial 4 with value: 72.69884658995129.\n",
      "INFO \t Training with 21 minibatches per epoch\n",
      "[I 2025-04-26 17:14:20,149] Trial 6 finished with value: 99.37840638841901 and parameters: {'lr': 0.0001996155626144112, 'wd': 5.728064109498073e-05, 'bs': 32, 'epochs': 541, 'latent_dim': 167, 'hidden_dim': 210, 'num_layers': 5, 'num_samples': 100}. Best is trial 4 with value: 72.69884658995129.\n",
      "INFO \t Training with 6 minibatches per epoch\n",
      "[I 2025-04-26 17:14:50,164] Trial 7 finished with value: 88.77025127410889 and parameters: {'lr': 0.0022703052702913273, 'wd': 0.0006182019979311328, 'bs': 128, 'epochs': 545, 'latent_dim': 168, 'hidden_dim': 119, 'num_layers': 4, 'num_samples': 100}. Best is trial 4 with value: 72.69884658995129.\n",
      "INFO \t Training with 3 minibatches per epoch\n",
      "[I 2025-04-26 17:15:14,255] Trial 8 finished with value: 81.43195361182804 and parameters: {'lr': 0.0011298178974681276, 'wd': 0.00024517813017614474, 'bs': 256, 'epochs': 792, 'latent_dim': 79, 'hidden_dim': 109, 'num_layers': 4, 'num_samples': 100}. Best is trial 4 with value: 72.69884658995129.\n",
      "INFO \t Training with 3 minibatches per epoch\n",
      "[I 2025-04-26 17:15:36,119] Trial 9 finished with value: 82.66816679636638 and parameters: {'lr': 0.0013797950838911105, 'wd': 4.6608477019591096e-05, 'bs': 256, 'epochs': 376, 'latent_dim': 72, 'hidden_dim': 388, 'num_layers': 5, 'num_samples': 200}. Best is trial 4 with value: 72.69884658995129.\n",
      "INFO \t Training with 6 minibatches per epoch\n",
      "[I 2025-04-26 17:16:07,436] Trial 10 finished with value: 99.27940704709007 and parameters: {'lr': 0.009478608502508265, 'wd': 1.454185693785672e-05, 'bs': 128, 'epochs': 798, 'latent_dim': 12, 'hidden_dim': 286, 'num_layers': 2, 'num_samples': 10}. Best is trial 4 with value: 72.69884658995129.\n",
      "INFO \t Training with 6 minibatches per epoch\n",
      "[I 2025-04-26 17:16:37,991] Trial 11 finished with value: 111.8839327948434 and parameters: {'lr': 0.008817978545112537, 'wd': 0.0021583365349897906, 'bs': 128, 'epochs': 674, 'latent_dim': 200, 'hidden_dim': 23, 'num_layers': 3, 'num_samples': 50}. Best is trial 4 with value: 72.69884658995129.\n",
      "INFO \t Training with 6 minibatches per epoch\n",
      "[I 2025-04-26 17:17:12,752] Trial 12 finished with value: 78.85619953700474 and parameters: {'lr': 0.0029161385166422784, 'wd': 0.00844349803121134, 'bs': 128, 'epochs': 670, 'latent_dim': 57, 'hidden_dim': 255, 'num_layers': 3, 'num_samples': 10}. Best is trial 4 with value: 72.69884658995129.\n",
      "INFO \t Training with 6 minibatches per epoch\n",
      "[I 2025-04-26 17:17:33,840] Trial 13 finished with value: 96.4624583380563 and parameters: {'lr': 1.2347537892159569e-05, 'wd': 0.0018625486735850758, 'bs': 128, 'epochs': 430, 'latent_dim': 105, 'hidden_dim': 195, 'num_layers': 3, 'num_samples': 100}. Best is trial 4 with value: 72.69884658995129.\n",
      "INFO \t Training with 21 minibatches per epoch\n",
      "[I 2025-04-26 17:18:53,598] Trial 14 finished with value: 88.54312992095947 and parameters: {'lr': 0.0007082616944978629, 'wd': 0.0002129576563579128, 'bs': 32, 'epochs': 663, 'latent_dim': 95, 'hidden_dim': 269, 'num_layers': 2, 'num_samples': 50}. Best is trial 4 with value: 72.69884658995129.\n",
      "INFO \t Training with 3 minibatches per epoch\n",
      "[I 2025-04-26 17:19:05,277] Trial 15 finished with value: 78.02768162318638 and parameters: {'lr': 0.003937905032808751, 'wd': 0.00472668467521299, 'bs': 256, 'epochs': 429, 'latent_dim': 47, 'hidden_dim': 155, 'num_layers': 3, 'num_samples': 100}. Best is trial 4 with value: 72.69884658995129.\n",
      "INFO \t Training with 6 minibatches per epoch\n",
      "[I 2025-04-26 17:19:51,618] Trial 16 finished with value: 76.5018736521403 and parameters: {'lr': 0.004382536450107703, 'wd': 0.001318244530467909, 'bs': 128, 'epochs': 726, 'latent_dim': 26, 'hidden_dim': 307, 'num_layers': 5, 'num_samples': 50}. Best is trial 4 with value: 72.69884658995129.\n",
      "INFO \t Training with 3 minibatches per epoch\n",
      "[I 2025-04-26 17:20:19,412] Trial 17 finished with value: 91.72842529841832 and parameters: {'lr': 0.0004922470929674363, 'wd': 0.0007457668346847902, 'bs': 256, 'epochs': 609, 'latent_dim': 128, 'hidden_dim': 246, 'num_layers': 4, 'num_samples': 10}. Best is trial 4 with value: 72.69884658995129.\n",
      "INFO \t Training with 6 minibatches per epoch\n",
      "[I 2025-04-26 17:20:39,355] Trial 18 finished with value: 85.5405856541225 and parameters: {'lr': 0.005479929969354694, 'wd': 0.00926474727032553, 'bs': 128, 'epochs': 483, 'latent_dim': 87, 'hidden_dim': 209, 'num_layers': 3, 'num_samples': 100}. Best is trial 4 with value: 72.69884658995129.\n",
      "INFO \t Training with 21 minibatches per epoch\n",
      "[I 2025-04-26 17:22:40,728] Trial 19 finished with value: 81.9214119229998 and parameters: {'lr': 0.0017624900931468366, 'wd': 0.00011897217406804666, 'bs': 32, 'epochs': 613, 'latent_dim': 120, 'hidden_dim': 395, 'num_layers': 5, 'num_samples': 50}. Best is trial 4 with value: 72.69884658995129.\n",
      "INFO \t Training with 6 minibatches per epoch\n"
     ]
    },
    {
     "name": "stdout",
     "output_type": "stream",
     "text": [
      "🔍 Best params for cevae: {'lr': 0.004658651715616038, 'wd': 0.001185703674244106, 'bs': 256, 'epochs': 737, 'latent_dim': 10, 'hidden_dim': 345, 'num_layers': 4, 'num_samples': 100}\n"
     ]
    },
    {
     "name": "stderr",
     "output_type": "stream",
     "text": [
      "INFO \t Evaluating 1 minibatches\n",
      "[I 2025-04-26 17:23:30,226] A new study created in memory with name: dragonnet_tune\n",
      "[I 2025-04-26 17:23:37,436] Trial 0 finished with value: 0.0013177674263715744 and parameters: {'lr': 0.001007107604287118, 'wd': 2.214926837557108e-05, 'bs': 32, 'epochs': 443, 'shared_hidden': 83, 'outcome_hidden': 67}. Best is trial 0 with value: 0.0013177674263715744.\n",
      "[I 2025-04-26 17:23:47,326] Trial 1 finished with value: 0.009672410786151886 and parameters: {'lr': 0.0017327702748566951, 'wd': 0.00496272112419226, 'bs': 32, 'epochs': 510, 'shared_hidden': 101, 'outcome_hidden': 177}. Best is trial 0 with value: 0.0013177674263715744.\n",
      "[I 2025-04-26 17:23:58,887] Trial 2 finished with value: 0.35350796580314636 and parameters: {'lr': 3.1497162158662807e-05, 'wd': 0.0009925479542374732, 'bs': 32, 'epochs': 604, 'shared_hidden': 75, 'outcome_hidden': 199}. Best is trial 0 with value: 0.0013177674263715744.\n",
      "[I 2025-04-26 17:24:06,090] Trial 3 finished with value: 0.4166658818721771 and parameters: {'lr': 5.749614334230847e-05, 'wd': 0.00012615670594205445, 'bs': 32, 'epochs': 451, 'shared_hidden': 80, 'outcome_hidden': 66}. Best is trial 0 with value: 0.0013177674263715744.\n",
      "[I 2025-04-26 17:24:09,665] Trial 4 finished with value: 0.1445884257555008 and parameters: {'lr': 0.00010977386461149389, 'wd': 4.7324545675232426e-05, 'bs': 256, 'epochs': 539, 'shared_hidden': 83, 'outcome_hidden': 193}. Best is trial 0 with value: 0.0013177674263715744.\n",
      "[I 2025-04-26 17:24:13,023] Trial 5 finished with value: 1.4897916316986084 and parameters: {'lr': 1.3699789780158417e-05, 'wd': 0.00014247581728847418, 'bs': 128, 'epochs': 448, 'shared_hidden': 72, 'outcome_hidden': 103}. Best is trial 0 with value: 0.0013177674263715744.\n",
      "[I 2025-04-26 17:24:19,652] Trial 6 finished with value: 0.0033071062061935663 and parameters: {'lr': 8.845250477706559e-05, 'wd': 6.247753363447814e-05, 'bs': 128, 'epochs': 741, 'shared_hidden': 108, 'outcome_hidden': 170}. Best is trial 0 with value: 0.0013177674263715744.\n",
      "[I 2025-04-26 17:24:35,540] Trial 7 finished with value: 0.0005505408043973148 and parameters: {'lr': 0.006070055009719818, 'wd': 0.00013479170309775053, 'bs': 32, 'epochs': 752, 'shared_hidden': 179, 'outcome_hidden': 168}. Best is trial 7 with value: 0.0005505408043973148.\n",
      "[I 2025-04-26 17:24:39,211] Trial 8 finished with value: 0.0005656425491906703 and parameters: {'lr': 0.003505402680727421, 'wd': 2.6465472254648397e-05, 'bs': 256, 'epochs': 715, 'shared_hidden': 70, 'outcome_hidden': 68}. Best is trial 7 with value: 0.0005505408043973148.\n",
      "[I 2025-04-26 17:24:42,698] Trial 9 finished with value: 1.0006440877914429 and parameters: {'lr': 3.088983076463924e-05, 'wd': 0.0027355646707273116, 'bs': 256, 'epochs': 620, 'shared_hidden': 106, 'outcome_hidden': 68}. Best is trial 7 with value: 0.0005505408043973148.\n",
      "[I 2025-04-26 17:24:49,611] Trial 10 finished with value: 0.010156904347240925 and parameters: {'lr': 0.009989567840204128, 'wd': 0.0005464731657144669, 'bs': 32, 'epochs': 334, 'shared_hidden': 185, 'outcome_hidden': 142}. Best is trial 7 with value: 0.0005505408043973148.\n",
      "[I 2025-04-26 17:24:54,845] Trial 11 finished with value: 9.882137419481296e-07 and parameters: {'lr': 0.007156947650461552, 'wd': 1.045750875241991e-05, 'bs': 256, 'epochs': 794, 'shared_hidden': 156, 'outcome_hidden': 116}. Best is trial 11 with value: 9.882137419481296e-07.\n",
      "[I 2025-04-26 17:25:00,129] Trial 12 finished with value: 6.3277402659878135e-06 and parameters: {'lr': 0.008737732240085514, 'wd': 1.1869710292217402e-05, 'bs': 256, 'epochs': 789, 'shared_hidden': 165, 'outcome_hidden': 124}. Best is trial 11 with value: 9.882137419481296e-07.\n",
      "[I 2025-04-26 17:25:05,261] Trial 13 finished with value: 1.4378411833604332e-05 and parameters: {'lr': 0.0004176654267040982, 'wd': 1.2141516250547571e-05, 'bs': 256, 'epochs': 794, 'shared_hidden': 153, 'outcome_hidden': 113}. Best is trial 11 with value: 9.882137419481296e-07.\n",
      "[I 2025-04-26 17:25:09,667] Trial 14 finished with value: 2.4670776838320307e-05 and parameters: {'lr': 0.002398637360973172, 'wd': 1.0092956712046419e-05, 'bs': 256, 'epochs': 672, 'shared_hidden': 145, 'outcome_hidden': 139}. Best is trial 11 with value: 9.882137419481296e-07.\n",
      "[I 2025-04-26 17:25:14,602] Trial 15 finished with value: 2.3770673578837886e-05 and parameters: {'lr': 0.0005374759688902011, 'wd': 3.073302103707451e-05, 'bs': 256, 'epochs': 796, 'shared_hidden': 153, 'outcome_hidden': 93}. Best is trial 11 with value: 9.882137419481296e-07.\n",
      "[I 2025-04-26 17:25:19,071] Trial 16 finished with value: 0.00010131845192518085 and parameters: {'lr': 0.0055727848836747505, 'wd': 0.00028590969998531704, 'bs': 256, 'epochs': 667, 'shared_hidden': 169, 'outcome_hidden': 131}. Best is trial 11 with value: 9.882137419481296e-07.\n",
      "[I 2025-04-26 17:25:23,398] Trial 17 finished with value: 2.005382611969253e-06 and parameters: {'lr': 0.0011354082705866274, 'wd': 1.0166649981869367e-05, 'bs': 256, 'epochs': 661, 'shared_hidden': 197, 'outcome_hidden': 90}. Best is trial 11 with value: 9.882137419481296e-07.\n",
      "[I 2025-04-26 17:25:29,300] Trial 18 finished with value: 3.582921999623068e-05 and parameters: {'lr': 0.0009766335972955366, 'wd': 7.181049961665815e-05, 'bs': 128, 'epochs': 685, 'shared_hidden': 196, 'outcome_hidden': 86}. Best is trial 11 with value: 9.882137419481296e-07.\n",
      "[I 2025-04-26 17:25:32,930] Trial 19 finished with value: 0.00023680031881667674 and parameters: {'lr': 0.00024978687711111084, 'wd': 2.0058946619962806e-05, 'bs': 256, 'epochs': 607, 'shared_hidden': 131, 'outcome_hidden': 86}. Best is trial 11 with value: 9.882137419481296e-07.\n"
     ]
    },
    {
     "name": "stdout",
     "output_type": "stream",
     "text": [
      "🔍 Best params for dragonnet: {'lr': 0.007156947650461552, 'wd': 1.045750875241991e-05, 'bs': 256, 'epochs': 794, 'shared_hidden': 156, 'outcome_hidden': 116}\n",
      "The average treatment effect (ATE) is 1.3675321\n",
      "Checking trial = 1\n"
     ]
    },
    {
     "name": "stderr",
     "output_type": "stream",
     "text": [
      "2025-04-26 17:25:52.019923: E tensorflow/core/framework/node_def_util.cc:676] NodeDef mentions attribute use_unbounded_threadpool which is not in the op definition: Op<name=MapDataset; signature=input_dataset:variant, other_arguments: -> handle:variant; attr=f:func; attr=Targuments:list(type),min=0; attr=output_types:list(type),min=1; attr=output_shapes:list(shape),min=1; attr=use_inter_op_parallelism:bool,default=true; attr=preserve_cardinality:bool,default=false; attr=force_synchronous:bool,default=false; attr=metadata:string,default=\"\"> This may be expected if your graph generating binary is newer  than this binary. Unknown attributes will be ignored. NodeDef: {{node ParallelMapDatasetV2/_14}}\n",
      "2025-04-26 17:25:52.020326: E tensorflow/core/framework/node_def_util.cc:676] NodeDef mentions attribute use_unbounded_threadpool which is not in the op definition: Op<name=MapDataset; signature=input_dataset:variant, other_arguments: -> handle:variant; attr=f:func; attr=Targuments:list(type),min=0; attr=output_types:list(type),min=1; attr=output_shapes:list(shape),min=1; attr=use_inter_op_parallelism:bool,default=true; attr=preserve_cardinality:bool,default=false; attr=force_synchronous:bool,default=false; attr=metadata:string,default=\"\"> This may be expected if your graph generating binary is newer  than this binary. Unknown attributes will be ignored. NodeDef: {{node ParallelMapDatasetV2/_14}}\n"
     ]
    },
    {
     "name": "stdout",
     "output_type": "stream",
     "text": [
      "Running on valid trial = 1\n",
      "Epoch 1: loss 5.7088,\tloss_y 4.9659, 5.0085, 0.0852,\tloss_eta 0.7429, 0.7719, 0.0580\n",
      "Epoch 400: loss 1.0505,\tloss_y 0.4790, 1.1160, 1.2740,\tloss_eta 0.5715, 1.0339, 0.9248\n",
      "Warning: covariate dimension does not aligned with the specified input dimension; filling in the remaining dimension with noise.\n",
      "Warning: covariate dimension does not aligned with the specified input dimension; filling in the remaining dimension with noise.\n"
     ]
    },
    {
     "name": "stderr",
     "output_type": "stream",
     "text": [
      "INFO \t Training with 6 minibatches per epoch\n",
      "INFO \t Evaluating 1 minibatches\n"
     ]
    },
    {
     "name": "stdout",
     "output_type": "stream",
     "text": [
      "The average treatment effect (ATE) is 0.7479045\n",
      "Checking trial = 2\n"
     ]
    },
    {
     "name": "stderr",
     "output_type": "stream",
     "text": [
      "2025-04-26 17:27:35.529833: E tensorflow/core/framework/node_def_util.cc:676] NodeDef mentions attribute use_unbounded_threadpool which is not in the op definition: Op<name=MapDataset; signature=input_dataset:variant, other_arguments: -> handle:variant; attr=f:func; attr=Targuments:list(type),min=0; attr=output_types:list(type),min=1; attr=output_shapes:list(shape),min=1; attr=use_inter_op_parallelism:bool,default=true; attr=preserve_cardinality:bool,default=false; attr=force_synchronous:bool,default=false; attr=metadata:string,default=\"\"> This may be expected if your graph generating binary is newer  than this binary. Unknown attributes will be ignored. NodeDef: {{node ParallelMapDatasetV2/_14}}\n",
      "2025-04-26 17:27:35.530141: E tensorflow/core/framework/node_def_util.cc:676] NodeDef mentions attribute use_unbounded_threadpool which is not in the op definition: Op<name=MapDataset; signature=input_dataset:variant, other_arguments: -> handle:variant; attr=f:func; attr=Targuments:list(type),min=0; attr=output_types:list(type),min=1; attr=output_shapes:list(shape),min=1; attr=use_inter_op_parallelism:bool,default=true; attr=preserve_cardinality:bool,default=false; attr=force_synchronous:bool,default=false; attr=metadata:string,default=\"\"> This may be expected if your graph generating binary is newer  than this binary. Unknown attributes will be ignored. NodeDef: {{node ParallelMapDatasetV2/_14}}\n"
     ]
    },
    {
     "name": "stdout",
     "output_type": "stream",
     "text": [
      "Running on valid trial = 2\n",
      "Epoch 1: loss 4.7569,\tloss_y 4.0222, 4.0440, 0.0436,\tloss_eta 0.7347, 0.7654, 0.0614\n",
      "Epoch 400: loss 1.0191,\tloss_y 0.4486, 0.9648, 1.0324,\tloss_eta 0.5705, 1.0229, 0.9047\n",
      "Warning: covariate dimension does not aligned with the specified input dimension; filling in the remaining dimension with noise.\n",
      "Warning: covariate dimension does not aligned with the specified input dimension; filling in the remaining dimension with noise.\n"
     ]
    },
    {
     "name": "stderr",
     "output_type": "stream",
     "text": [
      "INFO \t Training with 6 minibatches per epoch\n",
      "INFO \t Evaluating 1 minibatches\n"
     ]
    },
    {
     "name": "stdout",
     "output_type": "stream",
     "text": [
      "The average treatment effect (ATE) is 0.85535175\n",
      "Checking trial = 3\n"
     ]
    },
    {
     "name": "stderr",
     "output_type": "stream",
     "text": [
      "2025-04-26 17:29:16.629057: E tensorflow/core/framework/node_def_util.cc:676] NodeDef mentions attribute use_unbounded_threadpool which is not in the op definition: Op<name=MapDataset; signature=input_dataset:variant, other_arguments: -> handle:variant; attr=f:func; attr=Targuments:list(type),min=0; attr=output_types:list(type),min=1; attr=output_shapes:list(shape),min=1; attr=use_inter_op_parallelism:bool,default=true; attr=preserve_cardinality:bool,default=false; attr=force_synchronous:bool,default=false; attr=metadata:string,default=\"\"> This may be expected if your graph generating binary is newer  than this binary. Unknown attributes will be ignored. NodeDef: {{node ParallelMapDatasetV2/_14}}\n",
      "2025-04-26 17:29:16.629331: E tensorflow/core/framework/node_def_util.cc:676] NodeDef mentions attribute use_unbounded_threadpool which is not in the op definition: Op<name=MapDataset; signature=input_dataset:variant, other_arguments: -> handle:variant; attr=f:func; attr=Targuments:list(type),min=0; attr=output_types:list(type),min=1; attr=output_shapes:list(shape),min=1; attr=use_inter_op_parallelism:bool,default=true; attr=preserve_cardinality:bool,default=false; attr=force_synchronous:bool,default=false; attr=metadata:string,default=\"\"> This may be expected if your graph generating binary is newer  than this binary. Unknown attributes will be ignored. NodeDef: {{node ParallelMapDatasetV2/_14}}\n"
     ]
    },
    {
     "name": "stdout",
     "output_type": "stream",
     "text": [
      "Running on valid trial = 3\n",
      "Epoch 1: loss 9.6476,\tloss_y 8.8850, 8.9023, 0.0346,\tloss_eta 0.7626, 0.7822, 0.0392\n",
      "Epoch 400: loss 1.1556,\tloss_y 0.5495, 1.4763, 1.8537,\tloss_eta 0.6061, 0.9817, 0.7512\n",
      "Warning: covariate dimension does not aligned with the specified input dimension; filling in the remaining dimension with noise.\n",
      "Warning: covariate dimension does not aligned with the specified input dimension; filling in the remaining dimension with noise.\n"
     ]
    },
    {
     "name": "stderr",
     "output_type": "stream",
     "text": [
      "INFO \t Training with 6 minibatches per epoch\n",
      "INFO \t Evaluating 1 minibatches\n"
     ]
    },
    {
     "name": "stdout",
     "output_type": "stream",
     "text": [
      "The average treatment effect (ATE) is 0.6805011\n",
      "Checking trial = 4\n"
     ]
    },
    {
     "name": "stderr",
     "output_type": "stream",
     "text": [
      "2025-04-26 17:31:01.359527: E tensorflow/core/framework/node_def_util.cc:676] NodeDef mentions attribute use_unbounded_threadpool which is not in the op definition: Op<name=MapDataset; signature=input_dataset:variant, other_arguments: -> handle:variant; attr=f:func; attr=Targuments:list(type),min=0; attr=output_types:list(type),min=1; attr=output_shapes:list(shape),min=1; attr=use_inter_op_parallelism:bool,default=true; attr=preserve_cardinality:bool,default=false; attr=force_synchronous:bool,default=false; attr=metadata:string,default=\"\"> This may be expected if your graph generating binary is newer  than this binary. Unknown attributes will be ignored. NodeDef: {{node ParallelMapDatasetV2/_14}}\n",
      "2025-04-26 17:31:01.359821: E tensorflow/core/framework/node_def_util.cc:676] NodeDef mentions attribute use_unbounded_threadpool which is not in the op definition: Op<name=MapDataset; signature=input_dataset:variant, other_arguments: -> handle:variant; attr=f:func; attr=Targuments:list(type),min=0; attr=output_types:list(type),min=1; attr=output_shapes:list(shape),min=1; attr=use_inter_op_parallelism:bool,default=true; attr=preserve_cardinality:bool,default=false; attr=force_synchronous:bool,default=false; attr=metadata:string,default=\"\"> This may be expected if your graph generating binary is newer  than this binary. Unknown attributes will be ignored. NodeDef: {{node ParallelMapDatasetV2/_14}}\n"
     ]
    },
    {
     "name": "stdout",
     "output_type": "stream",
     "text": [
      "Running on valid trial = 4\n",
      "Epoch 1: loss 8.6070,\tloss_y 7.8207, 7.8355, 0.0295,\tloss_eta 0.7862, 0.8181, 0.0638\n",
      "Epoch 400: loss 1.2320,\tloss_y 0.6821, 1.7345, 2.1048,\tloss_eta 0.5499, 1.0637, 1.0275\n",
      "Warning: covariate dimension does not aligned with the specified input dimension; filling in the remaining dimension with noise.\n",
      "Warning: covariate dimension does not aligned with the specified input dimension; filling in the remaining dimension with noise.\n"
     ]
    },
    {
     "name": "stderr",
     "output_type": "stream",
     "text": [
      "INFO \t Training with 6 minibatches per epoch\n",
      "INFO \t Evaluating 1 minibatches\n"
     ]
    },
    {
     "name": "stdout",
     "output_type": "stream",
     "text": [
      "The average treatment effect (ATE) is 0.5925154\n",
      "Checking trial = 5\n"
     ]
    },
    {
     "name": "stderr",
     "output_type": "stream",
     "text": [
      "2025-04-26 17:32:54.079578: E tensorflow/core/framework/node_def_util.cc:676] NodeDef mentions attribute use_unbounded_threadpool which is not in the op definition: Op<name=MapDataset; signature=input_dataset:variant, other_arguments: -> handle:variant; attr=f:func; attr=Targuments:list(type),min=0; attr=output_types:list(type),min=1; attr=output_shapes:list(shape),min=1; attr=use_inter_op_parallelism:bool,default=true; attr=preserve_cardinality:bool,default=false; attr=force_synchronous:bool,default=false; attr=metadata:string,default=\"\"> This may be expected if your graph generating binary is newer  than this binary. Unknown attributes will be ignored. NodeDef: {{node ParallelMapDatasetV2/_14}}\n",
      "2025-04-26 17:32:54.079859: E tensorflow/core/framework/node_def_util.cc:676] NodeDef mentions attribute use_unbounded_threadpool which is not in the op definition: Op<name=MapDataset; signature=input_dataset:variant, other_arguments: -> handle:variant; attr=f:func; attr=Targuments:list(type),min=0; attr=output_types:list(type),min=1; attr=output_shapes:list(shape),min=1; attr=use_inter_op_parallelism:bool,default=true; attr=preserve_cardinality:bool,default=false; attr=force_synchronous:bool,default=false; attr=metadata:string,default=\"\"> This may be expected if your graph generating binary is newer  than this binary. Unknown attributes will be ignored. NodeDef: {{node ParallelMapDatasetV2/_14}}\n"
     ]
    },
    {
     "name": "stdout",
     "output_type": "stream",
     "text": [
      "Running on valid trial = 5\n",
      "Epoch 1: loss 3.8823,\tloss_y 3.0941, 3.1003, 0.0123,\tloss_eta 0.7882, 0.8134, 0.0504\n",
      "Epoch 400: loss 1.0210,\tloss_y 0.4656, 0.9336, 0.9358,\tloss_eta 0.5554, 1.0697, 1.0287\n",
      "Warning: covariate dimension does not aligned with the specified input dimension; filling in the remaining dimension with noise.\n",
      "Warning: covariate dimension does not aligned with the specified input dimension; filling in the remaining dimension with noise.\n"
     ]
    },
    {
     "name": "stderr",
     "output_type": "stream",
     "text": [
      "INFO \t Training with 6 minibatches per epoch\n",
      "INFO \t Evaluating 1 minibatches\n"
     ]
    },
    {
     "name": "stdout",
     "output_type": "stream",
     "text": [
      "The average treatment effect (ATE) is 1.3747547\n",
      "Checking trial = 6\n"
     ]
    },
    {
     "name": "stderr",
     "output_type": "stream",
     "text": [
      "2025-04-26 17:34:40.558546: E tensorflow/core/framework/node_def_util.cc:676] NodeDef mentions attribute use_unbounded_threadpool which is not in the op definition: Op<name=MapDataset; signature=input_dataset:variant, other_arguments: -> handle:variant; attr=f:func; attr=Targuments:list(type),min=0; attr=output_types:list(type),min=1; attr=output_shapes:list(shape),min=1; attr=use_inter_op_parallelism:bool,default=true; attr=preserve_cardinality:bool,default=false; attr=force_synchronous:bool,default=false; attr=metadata:string,default=\"\"> This may be expected if your graph generating binary is newer  than this binary. Unknown attributes will be ignored. NodeDef: {{node ParallelMapDatasetV2/_14}}\n",
      "2025-04-26 17:34:40.558856: E tensorflow/core/framework/node_def_util.cc:676] NodeDef mentions attribute use_unbounded_threadpool which is not in the op definition: Op<name=MapDataset; signature=input_dataset:variant, other_arguments: -> handle:variant; attr=f:func; attr=Targuments:list(type),min=0; attr=output_types:list(type),min=1; attr=output_shapes:list(shape),min=1; attr=use_inter_op_parallelism:bool,default=true; attr=preserve_cardinality:bool,default=false; attr=force_synchronous:bool,default=false; attr=metadata:string,default=\"\"> This may be expected if your graph generating binary is newer  than this binary. Unknown attributes will be ignored. NodeDef: {{node ParallelMapDatasetV2/_14}}\n"
     ]
    },
    {
     "name": "stdout",
     "output_type": "stream",
     "text": [
      "Running on valid trial = 6\n",
      "Epoch 1: loss 2.8575,\tloss_y 2.0910, 2.1322, 0.0823,\tloss_eta 0.7665, 0.7919, 0.0509\n",
      "Epoch 400: loss 0.9654,\tloss_y 0.4073, 0.8885, 0.9625,\tloss_eta 0.5581, 1.0275, 0.9389\n",
      "Warning: covariate dimension does not aligned with the specified input dimension; filling in the remaining dimension with noise.\n",
      "Warning: covariate dimension does not aligned with the specified input dimension; filling in the remaining dimension with noise.\n"
     ]
    },
    {
     "name": "stderr",
     "output_type": "stream",
     "text": [
      "INFO \t Training with 6 minibatches per epoch\n",
      "INFO \t Evaluating 1 minibatches\n"
     ]
    },
    {
     "name": "stdout",
     "output_type": "stream",
     "text": [
      "The average treatment effect (ATE) is 2.6106825\n",
      "Checking trial = 7\n"
     ]
    },
    {
     "name": "stderr",
     "output_type": "stream",
     "text": [
      "2025-04-26 17:36:28.599995: E tensorflow/core/framework/node_def_util.cc:676] NodeDef mentions attribute use_unbounded_threadpool which is not in the op definition: Op<name=MapDataset; signature=input_dataset:variant, other_arguments: -> handle:variant; attr=f:func; attr=Targuments:list(type),min=0; attr=output_types:list(type),min=1; attr=output_shapes:list(shape),min=1; attr=use_inter_op_parallelism:bool,default=true; attr=preserve_cardinality:bool,default=false; attr=force_synchronous:bool,default=false; attr=metadata:string,default=\"\"> This may be expected if your graph generating binary is newer  than this binary. Unknown attributes will be ignored. NodeDef: {{node ParallelMapDatasetV2/_14}}\n",
      "2025-04-26 17:36:28.600345: E tensorflow/core/framework/node_def_util.cc:676] NodeDef mentions attribute use_unbounded_threadpool which is not in the op definition: Op<name=MapDataset; signature=input_dataset:variant, other_arguments: -> handle:variant; attr=f:func; attr=Targuments:list(type),min=0; attr=output_types:list(type),min=1; attr=output_shapes:list(shape),min=1; attr=use_inter_op_parallelism:bool,default=true; attr=preserve_cardinality:bool,default=false; attr=force_synchronous:bool,default=false; attr=metadata:string,default=\"\"> This may be expected if your graph generating binary is newer  than this binary. Unknown attributes will be ignored. NodeDef: {{node ParallelMapDatasetV2/_14}}\n"
     ]
    },
    {
     "name": "stdout",
     "output_type": "stream",
     "text": [
      "Running on valid trial = 7\n",
      "Epoch 1: loss 6.0175,\tloss_y 5.2686, 5.2818, 0.0263,\tloss_eta 0.7489, 0.7772, 0.0565\n",
      "Epoch 400: loss 1.0604,\tloss_y 0.4741, 1.0957, 1.2432,\tloss_eta 0.5863, 1.0297, 0.8870\n",
      "Warning: covariate dimension does not aligned with the specified input dimension; filling in the remaining dimension with noise.\n",
      "Warning: covariate dimension does not aligned with the specified input dimension; filling in the remaining dimension with noise.\n"
     ]
    },
    {
     "name": "stderr",
     "output_type": "stream",
     "text": [
      "INFO \t Training with 6 minibatches per epoch\n",
      "INFO \t Evaluating 1 minibatches\n"
     ]
    },
    {
     "name": "stdout",
     "output_type": "stream",
     "text": [
      "The average treatment effect (ATE) is 0.96552116\n",
      "Checking trial = 8\n"
     ]
    },
    {
     "name": "stderr",
     "output_type": "stream",
     "text": [
      "2025-04-26 17:38:35.644214: E tensorflow/core/framework/node_def_util.cc:676] NodeDef mentions attribute use_unbounded_threadpool which is not in the op definition: Op<name=MapDataset; signature=input_dataset:variant, other_arguments: -> handle:variant; attr=f:func; attr=Targuments:list(type),min=0; attr=output_types:list(type),min=1; attr=output_shapes:list(shape),min=1; attr=use_inter_op_parallelism:bool,default=true; attr=preserve_cardinality:bool,default=false; attr=force_synchronous:bool,default=false; attr=metadata:string,default=\"\"> This may be expected if your graph generating binary is newer  than this binary. Unknown attributes will be ignored. NodeDef: {{node ParallelMapDatasetV2/_14}}\n",
      "2025-04-26 17:38:35.644546: E tensorflow/core/framework/node_def_util.cc:676] NodeDef mentions attribute use_unbounded_threadpool which is not in the op definition: Op<name=MapDataset; signature=input_dataset:variant, other_arguments: -> handle:variant; attr=f:func; attr=Targuments:list(type),min=0; attr=output_types:list(type),min=1; attr=output_shapes:list(shape),min=1; attr=use_inter_op_parallelism:bool,default=true; attr=preserve_cardinality:bool,default=false; attr=force_synchronous:bool,default=false; attr=metadata:string,default=\"\"> This may be expected if your graph generating binary is newer  than this binary. Unknown attributes will be ignored. NodeDef: {{node ParallelMapDatasetV2/_14}}\n"
     ]
    },
    {
     "name": "stdout",
     "output_type": "stream",
     "text": [
      "Skipping trial 8 because y_factual > 20\n",
      "Checking trial = 9\n",
      "Skipping trial 9 because y_factual > 20\n",
      "Checking trial = 10\n",
      "Skipping trial 10 because y_factual > 20\n",
      "Checking trial = 11\n",
      "Skipping trial 11 because y_factual > 20\n",
      "Checking trial = 12\n",
      "Skipping trial 12 because y_factual > 20\n",
      "Checking trial = 13\n",
      "Running on valid trial = 13\n",
      "Epoch 1: loss 4.0903,\tloss_y 3.3117, 3.3298, 0.0361,\tloss_eta 0.7786, 0.8015, 0.0460\n",
      "Epoch 400: loss 1.1389,\tloss_y 0.5547, 1.1381, 1.1669,\tloss_eta 0.5842, 1.1459, 1.1234\n",
      "Warning: covariate dimension does not aligned with the specified input dimension; filling in the remaining dimension with noise.\n",
      "Warning: covariate dimension does not aligned with the specified input dimension; filling in the remaining dimension with noise.\n"
     ]
    },
    {
     "name": "stderr",
     "output_type": "stream",
     "text": [
      "INFO \t Training with 6 minibatches per epoch\n",
      "INFO \t Evaluating 1 minibatches\n"
     ]
    },
    {
     "name": "stdout",
     "output_type": "stream",
     "text": [
      "The average treatment effect (ATE) is 1.1278048\n",
      "Checking trial = 14\n"
     ]
    },
    {
     "name": "stderr",
     "output_type": "stream",
     "text": [
      "2025-04-26 17:40:40.566958: E tensorflow/core/framework/node_def_util.cc:676] NodeDef mentions attribute use_unbounded_threadpool which is not in the op definition: Op<name=MapDataset; signature=input_dataset:variant, other_arguments: -> handle:variant; attr=f:func; attr=Targuments:list(type),min=0; attr=output_types:list(type),min=1; attr=output_shapes:list(shape),min=1; attr=use_inter_op_parallelism:bool,default=true; attr=preserve_cardinality:bool,default=false; attr=force_synchronous:bool,default=false; attr=metadata:string,default=\"\"> This may be expected if your graph generating binary is newer  than this binary. Unknown attributes will be ignored. NodeDef: {{node ParallelMapDatasetV2/_14}}\n",
      "2025-04-26 17:40:40.567257: E tensorflow/core/framework/node_def_util.cc:676] NodeDef mentions attribute use_unbounded_threadpool which is not in the op definition: Op<name=MapDataset; signature=input_dataset:variant, other_arguments: -> handle:variant; attr=f:func; attr=Targuments:list(type),min=0; attr=output_types:list(type),min=1; attr=output_shapes:list(shape),min=1; attr=use_inter_op_parallelism:bool,default=true; attr=preserve_cardinality:bool,default=false; attr=force_synchronous:bool,default=false; attr=metadata:string,default=\"\"> This may be expected if your graph generating binary is newer  than this binary. Unknown attributes will be ignored. NodeDef: {{node ParallelMapDatasetV2/_14}}\n"
     ]
    },
    {
     "name": "stdout",
     "output_type": "stream",
     "text": [
      "Skipping trial 14 because y_factual > 20\n",
      "Checking trial = 15\n",
      "Running on valid trial = 15\n",
      "Epoch 1: loss 6.0006,\tloss_y 5.1965, 5.2202, 0.0474,\tloss_eta 0.8042, 0.8287, 0.0491\n",
      "Epoch 400: loss 1.0310,\tloss_y 0.4566, 0.9874, 1.0615,\tloss_eta 0.5744, 0.9978, 0.8467\n",
      "Warning: covariate dimension does not aligned with the specified input dimension; filling in the remaining dimension with noise.\n",
      "Warning: covariate dimension does not aligned with the specified input dimension; filling in the remaining dimension with noise.\n"
     ]
    },
    {
     "name": "stderr",
     "output_type": "stream",
     "text": [
      "INFO \t Training with 6 minibatches per epoch\n",
      "INFO \t Evaluating 1 minibatches\n"
     ]
    },
    {
     "name": "stdout",
     "output_type": "stream",
     "text": [
      "The average treatment effect (ATE) is 1.1112571\n",
      "Checking trial = 16\n"
     ]
    },
    {
     "name": "stderr",
     "output_type": "stream",
     "text": [
      "2025-04-26 17:42:42.532408: E tensorflow/core/framework/node_def_util.cc:676] NodeDef mentions attribute use_unbounded_threadpool which is not in the op definition: Op<name=MapDataset; signature=input_dataset:variant, other_arguments: -> handle:variant; attr=f:func; attr=Targuments:list(type),min=0; attr=output_types:list(type),min=1; attr=output_shapes:list(shape),min=1; attr=use_inter_op_parallelism:bool,default=true; attr=preserve_cardinality:bool,default=false; attr=force_synchronous:bool,default=false; attr=metadata:string,default=\"\"> This may be expected if your graph generating binary is newer  than this binary. Unknown attributes will be ignored. NodeDef: {{node ParallelMapDatasetV2/_14}}\n",
      "2025-04-26 17:42:42.532728: E tensorflow/core/framework/node_def_util.cc:676] NodeDef mentions attribute use_unbounded_threadpool which is not in the op definition: Op<name=MapDataset; signature=input_dataset:variant, other_arguments: -> handle:variant; attr=f:func; attr=Targuments:list(type),min=0; attr=output_types:list(type),min=1; attr=output_shapes:list(shape),min=1; attr=use_inter_op_parallelism:bool,default=true; attr=preserve_cardinality:bool,default=false; attr=force_synchronous:bool,default=false; attr=metadata:string,default=\"\"> This may be expected if your graph generating binary is newer  than this binary. Unknown attributes will be ignored. NodeDef: {{node ParallelMapDatasetV2/_14}}\n"
     ]
    },
    {
     "name": "stdout",
     "output_type": "stream",
     "text": [
      "Skipping trial 16 because y_factual > 20\n",
      "Checking trial = 17\n",
      "Skipping trial 17 because y_factual > 20\n",
      "Checking trial = 18\n",
      "Skipping trial 18 because y_factual > 20\n",
      "Checking trial = 19\n",
      "Running on valid trial = 19\n",
      "Epoch 1: loss 4.6293,\tloss_y 3.8569, 3.8645, 0.0151,\tloss_eta 0.7724, 0.8002, 0.0556\n",
      "Epoch 400: loss 1.0038,\tloss_y 0.4207, 0.9109, 0.9804,\tloss_eta 0.5831, 1.0131, 0.8599\n",
      "Warning: covariate dimension does not aligned with the specified input dimension; filling in the remaining dimension with noise.\n",
      "Warning: covariate dimension does not aligned with the specified input dimension; filling in the remaining dimension with noise.\n"
     ]
    },
    {
     "name": "stderr",
     "output_type": "stream",
     "text": [
      "INFO \t Training with 6 minibatches per epoch\n",
      "INFO \t Evaluating 1 minibatches\n"
     ]
    },
    {
     "name": "stdout",
     "output_type": "stream",
     "text": [
      "The average treatment effect (ATE) is 1.1292235\n",
      "Checking trial = 20\n"
     ]
    },
    {
     "name": "stderr",
     "output_type": "stream",
     "text": [
      "2025-04-26 17:44:43.614827: E tensorflow/core/framework/node_def_util.cc:676] NodeDef mentions attribute use_unbounded_threadpool which is not in the op definition: Op<name=MapDataset; signature=input_dataset:variant, other_arguments: -> handle:variant; attr=f:func; attr=Targuments:list(type),min=0; attr=output_types:list(type),min=1; attr=output_shapes:list(shape),min=1; attr=use_inter_op_parallelism:bool,default=true; attr=preserve_cardinality:bool,default=false; attr=force_synchronous:bool,default=false; attr=metadata:string,default=\"\"> This may be expected if your graph generating binary is newer  than this binary. Unknown attributes will be ignored. NodeDef: {{node ParallelMapDatasetV2/_14}}\n",
      "2025-04-26 17:44:43.615128: E tensorflow/core/framework/node_def_util.cc:676] NodeDef mentions attribute use_unbounded_threadpool which is not in the op definition: Op<name=MapDataset; signature=input_dataset:variant, other_arguments: -> handle:variant; attr=f:func; attr=Targuments:list(type),min=0; attr=output_types:list(type),min=1; attr=output_shapes:list(shape),min=1; attr=use_inter_op_parallelism:bool,default=true; attr=preserve_cardinality:bool,default=false; attr=force_synchronous:bool,default=false; attr=metadata:string,default=\"\"> This may be expected if your graph generating binary is newer  than this binary. Unknown attributes will be ignored. NodeDef: {{node ParallelMapDatasetV2/_14}}\n"
     ]
    },
    {
     "name": "stdout",
     "output_type": "stream",
     "text": [
      "Skipping trial 20 because y_factual > 20\n",
      "Checking trial = 21\n",
      "Running on valid trial = 21\n",
      "Epoch 1: loss 4.6237,\tloss_y 3.8798, 3.9037, 0.0478,\tloss_eta 0.7439, 0.7701, 0.0524\n",
      "Epoch 400: loss 1.0294,\tloss_y 0.4524, 0.9921, 1.0795,\tloss_eta 0.5770, 1.0274, 0.9006\n",
      "Warning: covariate dimension does not aligned with the specified input dimension; filling in the remaining dimension with noise.\n",
      "Warning: covariate dimension does not aligned with the specified input dimension; filling in the remaining dimension with noise.\n"
     ]
    },
    {
     "name": "stderr",
     "output_type": "stream",
     "text": [
      "INFO \t Training with 6 minibatches per epoch\n",
      "INFO \t Evaluating 1 minibatches\n"
     ]
    },
    {
     "name": "stdout",
     "output_type": "stream",
     "text": [
      "The average treatment effect (ATE) is 0.9205456\n",
      "Checking trial = 22\n"
     ]
    },
    {
     "name": "stderr",
     "output_type": "stream",
     "text": [
      "2025-04-26 17:46:54.353256: E tensorflow/core/framework/node_def_util.cc:676] NodeDef mentions attribute use_unbounded_threadpool which is not in the op definition: Op<name=MapDataset; signature=input_dataset:variant, other_arguments: -> handle:variant; attr=f:func; attr=Targuments:list(type),min=0; attr=output_types:list(type),min=1; attr=output_shapes:list(shape),min=1; attr=use_inter_op_parallelism:bool,default=true; attr=preserve_cardinality:bool,default=false; attr=force_synchronous:bool,default=false; attr=metadata:string,default=\"\"> This may be expected if your graph generating binary is newer  than this binary. Unknown attributes will be ignored. NodeDef: {{node ParallelMapDatasetV2/_14}}\n",
      "2025-04-26 17:46:54.353565: E tensorflow/core/framework/node_def_util.cc:676] NodeDef mentions attribute use_unbounded_threadpool which is not in the op definition: Op<name=MapDataset; signature=input_dataset:variant, other_arguments: -> handle:variant; attr=f:func; attr=Targuments:list(type),min=0; attr=output_types:list(type),min=1; attr=output_shapes:list(shape),min=1; attr=use_inter_op_parallelism:bool,default=true; attr=preserve_cardinality:bool,default=false; attr=force_synchronous:bool,default=false; attr=metadata:string,default=\"\"> This may be expected if your graph generating binary is newer  than this binary. Unknown attributes will be ignored. NodeDef: {{node ParallelMapDatasetV2/_14}}\n"
     ]
    },
    {
     "name": "stdout",
     "output_type": "stream",
     "text": [
      "Skipping trial 22 because y_factual > 20\n",
      "Checking trial = 23\n",
      "Skipping trial 23 because y_factual > 20\n",
      "Checking trial = 24\n",
      "Skipping trial 24 because y_factual > 20\n",
      "Checking trial = 25\n",
      "Skipping trial 25 because y_factual > 20\n",
      "Checking trial = 26\n",
      "Running on valid trial = 26\n",
      "Epoch 1: loss 6.6264,\tloss_y 5.8427, 5.8664, 0.0473,\tloss_eta 0.7837, 0.8125, 0.0576\n",
      "Epoch 400: loss 1.2105,\tloss_y 0.5990, 1.4106, 1.6232,\tloss_eta 0.6115, 1.2330, 1.2431\n",
      "Warning: covariate dimension does not aligned with the specified input dimension; filling in the remaining dimension with noise.\n",
      "Warning: covariate dimension does not aligned with the specified input dimension; filling in the remaining dimension with noise.\n"
     ]
    },
    {
     "name": "stderr",
     "output_type": "stream",
     "text": [
      "INFO \t Training with 6 minibatches per epoch\n",
      "INFO \t Evaluating 1 minibatches\n"
     ]
    },
    {
     "name": "stdout",
     "output_type": "stream",
     "text": [
      "The average treatment effect (ATE) is 1.0049689\n",
      "Checking trial = 27\n"
     ]
    },
    {
     "name": "stderr",
     "output_type": "stream",
     "text": [
      "2025-04-26 17:48:58.252426: E tensorflow/core/framework/node_def_util.cc:676] NodeDef mentions attribute use_unbounded_threadpool which is not in the op definition: Op<name=MapDataset; signature=input_dataset:variant, other_arguments: -> handle:variant; attr=f:func; attr=Targuments:list(type),min=0; attr=output_types:list(type),min=1; attr=output_shapes:list(shape),min=1; attr=use_inter_op_parallelism:bool,default=true; attr=preserve_cardinality:bool,default=false; attr=force_synchronous:bool,default=false; attr=metadata:string,default=\"\"> This may be expected if your graph generating binary is newer  than this binary. Unknown attributes will be ignored. NodeDef: {{node ParallelMapDatasetV2/_14}}\n",
      "2025-04-26 17:48:58.252758: E tensorflow/core/framework/node_def_util.cc:676] NodeDef mentions attribute use_unbounded_threadpool which is not in the op definition: Op<name=MapDataset; signature=input_dataset:variant, other_arguments: -> handle:variant; attr=f:func; attr=Targuments:list(type),min=0; attr=output_types:list(type),min=1; attr=output_shapes:list(shape),min=1; attr=use_inter_op_parallelism:bool,default=true; attr=preserve_cardinality:bool,default=false; attr=force_synchronous:bool,default=false; attr=metadata:string,default=\"\"> This may be expected if your graph generating binary is newer  than this binary. Unknown attributes will be ignored. NodeDef: {{node ParallelMapDatasetV2/_14}}\n"
     ]
    },
    {
     "name": "stdout",
     "output_type": "stream",
     "text": [
      "Skipping trial 27 because y_factual > 20\n",
      "Checking trial = 28\n",
      "Skipping trial 28 because y_factual > 20\n",
      "Checking trial = 29\n",
      "Skipping trial 29 because y_factual > 20\n",
      "Checking trial = 30\n",
      "Skipping trial 30 because y_factual > 20\n",
      "Checking trial = 31\n",
      "Running on valid trial = 31\n",
      "Epoch 1: loss 5.7816,\tloss_y 4.9916, 5.0146, 0.0461,\tloss_eta 0.7901, 0.8102, 0.0402\n",
      "Epoch 400: loss 1.0984,\tloss_y 0.5468, 1.1482, 1.2027,\tloss_eta 0.5515, 1.0868, 1.0706\n",
      "Warning: covariate dimension does not aligned with the specified input dimension; filling in the remaining dimension with noise.\n",
      "Warning: covariate dimension does not aligned with the specified input dimension; filling in the remaining dimension with noise.\n"
     ]
    },
    {
     "name": "stderr",
     "output_type": "stream",
     "text": [
      "INFO \t Training with 6 minibatches per epoch\n",
      "INFO \t Evaluating 1 minibatches\n"
     ]
    },
    {
     "name": "stdout",
     "output_type": "stream",
     "text": [
      "The average treatment effect (ATE) is 1.342687\n",
      "Checking trial = 32\n"
     ]
    },
    {
     "name": "stderr",
     "output_type": "stream",
     "text": [
      "2025-04-26 17:51:06.110065: E tensorflow/core/framework/node_def_util.cc:676] NodeDef mentions attribute use_unbounded_threadpool which is not in the op definition: Op<name=MapDataset; signature=input_dataset:variant, other_arguments: -> handle:variant; attr=f:func; attr=Targuments:list(type),min=0; attr=output_types:list(type),min=1; attr=output_shapes:list(shape),min=1; attr=use_inter_op_parallelism:bool,default=true; attr=preserve_cardinality:bool,default=false; attr=force_synchronous:bool,default=false; attr=metadata:string,default=\"\"> This may be expected if your graph generating binary is newer  than this binary. Unknown attributes will be ignored. NodeDef: {{node ParallelMapDatasetV2/_14}}\n",
      "2025-04-26 17:51:06.110366: E tensorflow/core/framework/node_def_util.cc:676] NodeDef mentions attribute use_unbounded_threadpool which is not in the op definition: Op<name=MapDataset; signature=input_dataset:variant, other_arguments: -> handle:variant; attr=f:func; attr=Targuments:list(type),min=0; attr=output_types:list(type),min=1; attr=output_shapes:list(shape),min=1; attr=use_inter_op_parallelism:bool,default=true; attr=preserve_cardinality:bool,default=false; attr=force_synchronous:bool,default=false; attr=metadata:string,default=\"\"> This may be expected if your graph generating binary is newer  than this binary. Unknown attributes will be ignored. NodeDef: {{node ParallelMapDatasetV2/_14}}\n"
     ]
    },
    {
     "name": "stdout",
     "output_type": "stream",
     "text": [
      "Skipping trial 32 because y_factual > 20\n",
      "Checking trial = 33\n",
      "Skipping trial 33 because y_factual > 20\n",
      "Checking trial = 34\n",
      "Skipping trial 34 because y_factual > 20\n",
      "Checking trial = 35\n",
      "Skipping trial 35 because y_factual > 20\n",
      "Checking trial = 36\n",
      "Skipping trial 36 because y_factual > 20\n",
      "Checking trial = 37\n",
      "Skipping trial 37 because y_factual > 20\n",
      "Checking trial = 38\n",
      "Skipping trial 38 because y_factual > 20\n",
      "Checking trial = 39\n",
      "Skipping trial 39 because y_factual > 20\n",
      "Checking trial = 40\n",
      "Running on valid trial = 40\n",
      "Epoch 1: loss 5.0426,\tloss_y 4.2092, 4.2177, 0.0170,\tloss_eta 0.8334, 0.8681, 0.0694\n",
      "Epoch 400: loss 0.9974,\tloss_y 0.4203, 0.9083, 0.9761,\tloss_eta 0.5771, 1.0056, 0.8570\n",
      "Warning: covariate dimension does not aligned with the specified input dimension; filling in the remaining dimension with noise.\n",
      "Warning: covariate dimension does not aligned with the specified input dimension; filling in the remaining dimension with noise.\n"
     ]
    },
    {
     "name": "stderr",
     "output_type": "stream",
     "text": [
      "INFO \t Training with 6 minibatches per epoch\n",
      "INFO \t Evaluating 1 minibatches\n"
     ]
    },
    {
     "name": "stdout",
     "output_type": "stream",
     "text": [
      "The average treatment effect (ATE) is 1.2085865\n",
      "Checking trial = 41\n"
     ]
    },
    {
     "name": "stderr",
     "output_type": "stream",
     "text": [
      "2025-04-26 17:53:06.729865: E tensorflow/core/framework/node_def_util.cc:676] NodeDef mentions attribute use_unbounded_threadpool which is not in the op definition: Op<name=MapDataset; signature=input_dataset:variant, other_arguments: -> handle:variant; attr=f:func; attr=Targuments:list(type),min=0; attr=output_types:list(type),min=1; attr=output_shapes:list(shape),min=1; attr=use_inter_op_parallelism:bool,default=true; attr=preserve_cardinality:bool,default=false; attr=force_synchronous:bool,default=false; attr=metadata:string,default=\"\"> This may be expected if your graph generating binary is newer  than this binary. Unknown attributes will be ignored. NodeDef: {{node ParallelMapDatasetV2/_14}}\n",
      "2025-04-26 17:53:06.730175: E tensorflow/core/framework/node_def_util.cc:676] NodeDef mentions attribute use_unbounded_threadpool which is not in the op definition: Op<name=MapDataset; signature=input_dataset:variant, other_arguments: -> handle:variant; attr=f:func; attr=Targuments:list(type),min=0; attr=output_types:list(type),min=1; attr=output_shapes:list(shape),min=1; attr=use_inter_op_parallelism:bool,default=true; attr=preserve_cardinality:bool,default=false; attr=force_synchronous:bool,default=false; attr=metadata:string,default=\"\"> This may be expected if your graph generating binary is newer  than this binary. Unknown attributes will be ignored. NodeDef: {{node ParallelMapDatasetV2/_14}}\n"
     ]
    },
    {
     "name": "stdout",
     "output_type": "stream",
     "text": [
      "Running on valid trial = 41\n",
      "Epoch 1: loss 3.9722,\tloss_y 3.2050, 3.2429, 0.0757,\tloss_eta 0.7671, 0.7898, 0.0453\n",
      "Epoch 400: loss 1.0300,\tloss_y 0.4782, 0.9774, 0.9984,\tloss_eta 0.5518, 1.0837, 1.0639\n",
      "Warning: covariate dimension does not aligned with the specified input dimension; filling in the remaining dimension with noise.\n",
      "Warning: covariate dimension does not aligned with the specified input dimension; filling in the remaining dimension with noise.\n"
     ]
    },
    {
     "name": "stderr",
     "output_type": "stream",
     "text": [
      "INFO \t Training with 6 minibatches per epoch\n",
      "INFO \t Evaluating 1 minibatches\n"
     ]
    },
    {
     "name": "stdout",
     "output_type": "stream",
     "text": [
      "The average treatment effect (ATE) is 1.3738983\n",
      "Checking trial = 42\n"
     ]
    },
    {
     "name": "stderr",
     "output_type": "stream",
     "text": [
      "2025-04-26 17:55:08.134716: E tensorflow/core/framework/node_def_util.cc:676] NodeDef mentions attribute use_unbounded_threadpool which is not in the op definition: Op<name=MapDataset; signature=input_dataset:variant, other_arguments: -> handle:variant; attr=f:func; attr=Targuments:list(type),min=0; attr=output_types:list(type),min=1; attr=output_shapes:list(shape),min=1; attr=use_inter_op_parallelism:bool,default=true; attr=preserve_cardinality:bool,default=false; attr=force_synchronous:bool,default=false; attr=metadata:string,default=\"\"> This may be expected if your graph generating binary is newer  than this binary. Unknown attributes will be ignored. NodeDef: {{node ParallelMapDatasetV2/_14}}\n",
      "2025-04-26 17:55:08.135005: E tensorflow/core/framework/node_def_util.cc:676] NodeDef mentions attribute use_unbounded_threadpool which is not in the op definition: Op<name=MapDataset; signature=input_dataset:variant, other_arguments: -> handle:variant; attr=f:func; attr=Targuments:list(type),min=0; attr=output_types:list(type),min=1; attr=output_shapes:list(shape),min=1; attr=use_inter_op_parallelism:bool,default=true; attr=preserve_cardinality:bool,default=false; attr=force_synchronous:bool,default=false; attr=metadata:string,default=\"\"> This may be expected if your graph generating binary is newer  than this binary. Unknown attributes will be ignored. NodeDef: {{node ParallelMapDatasetV2/_14}}\n"
     ]
    },
    {
     "name": "stdout",
     "output_type": "stream",
     "text": [
      "Running on valid trial = 42\n",
      "Epoch 1: loss 6.7167,\tloss_y 5.9416, 5.9647, 0.0461,\tloss_eta 0.7751, 0.7957, 0.0414\n",
      "Epoch 400: loss 1.1604,\tloss_y 0.5480, 1.1726, 1.2492,\tloss_eta 0.6124, 1.0392, 0.8537\n",
      "Warning: covariate dimension does not aligned with the specified input dimension; filling in the remaining dimension with noise.\n",
      "Warning: covariate dimension does not aligned with the specified input dimension; filling in the remaining dimension with noise.\n"
     ]
    },
    {
     "name": "stderr",
     "output_type": "stream",
     "text": [
      "INFO \t Training with 6 minibatches per epoch\n",
      "INFO \t Evaluating 1 minibatches\n"
     ]
    },
    {
     "name": "stdout",
     "output_type": "stream",
     "text": [
      "The average treatment effect (ATE) is 0.9700446\n",
      "Checking trial = 43\n"
     ]
    },
    {
     "name": "stderr",
     "output_type": "stream",
     "text": [
      "2025-04-26 17:57:09.599484: E tensorflow/core/framework/node_def_util.cc:676] NodeDef mentions attribute use_unbounded_threadpool which is not in the op definition: Op<name=MapDataset; signature=input_dataset:variant, other_arguments: -> handle:variant; attr=f:func; attr=Targuments:list(type),min=0; attr=output_types:list(type),min=1; attr=output_shapes:list(shape),min=1; attr=use_inter_op_parallelism:bool,default=true; attr=preserve_cardinality:bool,default=false; attr=force_synchronous:bool,default=false; attr=metadata:string,default=\"\"> This may be expected if your graph generating binary is newer  than this binary. Unknown attributes will be ignored. NodeDef: {{node ParallelMapDatasetV2/_14}}\n",
      "2025-04-26 17:57:09.599807: E tensorflow/core/framework/node_def_util.cc:676] NodeDef mentions attribute use_unbounded_threadpool which is not in the op definition: Op<name=MapDataset; signature=input_dataset:variant, other_arguments: -> handle:variant; attr=f:func; attr=Targuments:list(type),min=0; attr=output_types:list(type),min=1; attr=output_shapes:list(shape),min=1; attr=use_inter_op_parallelism:bool,default=true; attr=preserve_cardinality:bool,default=false; attr=force_synchronous:bool,default=false; attr=metadata:string,default=\"\"> This may be expected if your graph generating binary is newer  than this binary. Unknown attributes will be ignored. NodeDef: {{node ParallelMapDatasetV2/_14}}\n"
     ]
    },
    {
     "name": "stdout",
     "output_type": "stream",
     "text": [
      "Skipping trial 43 because y_factual > 20\n",
      "Checking trial = 44\n",
      "Skipping trial 44 because y_factual > 20\n",
      "Checking trial = 45\n",
      "Skipping trial 45 because y_factual > 20\n",
      "Checking trial = 46\n",
      "Skipping trial 46 because y_factual > 20\n",
      "Checking trial = 47\n",
      "Running on valid trial = 47\n",
      "Epoch 1: loss 7.3618,\tloss_y 6.6073, 6.6254, 0.0362,\tloss_eta 0.7545, 0.7759, 0.0427\n",
      "Epoch 400: loss 1.1216,\tloss_y 0.5565, 1.3084, 1.5038,\tloss_eta 0.5651, 1.0714, 1.0127\n",
      "Warning: covariate dimension does not aligned with the specified input dimension; filling in the remaining dimension with noise.\n",
      "Warning: covariate dimension does not aligned with the specified input dimension; filling in the remaining dimension with noise.\n"
     ]
    },
    {
     "name": "stderr",
     "output_type": "stream",
     "text": [
      "INFO \t Training with 6 minibatches per epoch\n",
      "INFO \t Evaluating 1 minibatches\n"
     ]
    },
    {
     "name": "stdout",
     "output_type": "stream",
     "text": [
      "The average treatment effect (ATE) is 0.8236678\n",
      "Checking trial = 48\n"
     ]
    },
    {
     "name": "stderr",
     "output_type": "stream",
     "text": [
      "2025-04-26 17:59:10.149006: E tensorflow/core/framework/node_def_util.cc:676] NodeDef mentions attribute use_unbounded_threadpool which is not in the op definition: Op<name=MapDataset; signature=input_dataset:variant, other_arguments: -> handle:variant; attr=f:func; attr=Targuments:list(type),min=0; attr=output_types:list(type),min=1; attr=output_shapes:list(shape),min=1; attr=use_inter_op_parallelism:bool,default=true; attr=preserve_cardinality:bool,default=false; attr=force_synchronous:bool,default=false; attr=metadata:string,default=\"\"> This may be expected if your graph generating binary is newer  than this binary. Unknown attributes will be ignored. NodeDef: {{node ParallelMapDatasetV2/_14}}\n",
      "2025-04-26 17:59:10.149296: E tensorflow/core/framework/node_def_util.cc:676] NodeDef mentions attribute use_unbounded_threadpool which is not in the op definition: Op<name=MapDataset; signature=input_dataset:variant, other_arguments: -> handle:variant; attr=f:func; attr=Targuments:list(type),min=0; attr=output_types:list(type),min=1; attr=output_shapes:list(shape),min=1; attr=use_inter_op_parallelism:bool,default=true; attr=preserve_cardinality:bool,default=false; attr=force_synchronous:bool,default=false; attr=metadata:string,default=\"\"> This may be expected if your graph generating binary is newer  than this binary. Unknown attributes will be ignored. NodeDef: {{node ParallelMapDatasetV2/_14}}\n"
     ]
    },
    {
     "name": "stdout",
     "output_type": "stream",
     "text": [
      "Skipping trial 48 because y_factual > 20\n",
      "Checking trial = 49\n",
      "Skipping trial 49 because y_factual > 20\n",
      "Checking trial = 50\n",
      "Running on valid trial = 50\n",
      "Epoch 1: loss 8.3718,\tloss_y 7.6310, 7.6418, 0.0217,\tloss_eta 0.7409, 0.7686, 0.0555\n",
      "Epoch 400: loss 1.0187,\tloss_y 0.4626, 1.1251, 1.3249,\tloss_eta 0.5561, 0.9960, 0.8799\n",
      "Warning: covariate dimension does not aligned with the specified input dimension; filling in the remaining dimension with noise.\n",
      "Warning: covariate dimension does not aligned with the specified input dimension; filling in the remaining dimension with noise.\n"
     ]
    },
    {
     "name": "stderr",
     "output_type": "stream",
     "text": [
      "INFO \t Training with 6 minibatches per epoch\n",
      "INFO \t Evaluating 1 minibatches\n"
     ]
    },
    {
     "name": "stdout",
     "output_type": "stream",
     "text": [
      "The average treatment effect (ATE) is 0.8018161\n",
      "Checking trial = 51\n"
     ]
    },
    {
     "name": "stderr",
     "output_type": "stream",
     "text": [
      "2025-04-26 18:01:10.606924: E tensorflow/core/framework/node_def_util.cc:676] NodeDef mentions attribute use_unbounded_threadpool which is not in the op definition: Op<name=MapDataset; signature=input_dataset:variant, other_arguments: -> handle:variant; attr=f:func; attr=Targuments:list(type),min=0; attr=output_types:list(type),min=1; attr=output_shapes:list(shape),min=1; attr=use_inter_op_parallelism:bool,default=true; attr=preserve_cardinality:bool,default=false; attr=force_synchronous:bool,default=false; attr=metadata:string,default=\"\"> This may be expected if your graph generating binary is newer  than this binary. Unknown attributes will be ignored. NodeDef: {{node ParallelMapDatasetV2/_14}}\n",
      "2025-04-26 18:01:10.607203: E tensorflow/core/framework/node_def_util.cc:676] NodeDef mentions attribute use_unbounded_threadpool which is not in the op definition: Op<name=MapDataset; signature=input_dataset:variant, other_arguments: -> handle:variant; attr=f:func; attr=Targuments:list(type),min=0; attr=output_types:list(type),min=1; attr=output_shapes:list(shape),min=1; attr=use_inter_op_parallelism:bool,default=true; attr=preserve_cardinality:bool,default=false; attr=force_synchronous:bool,default=false; attr=metadata:string,default=\"\"> This may be expected if your graph generating binary is newer  than this binary. Unknown attributes will be ignored. NodeDef: {{node ParallelMapDatasetV2/_14}}\n"
     ]
    },
    {
     "name": "stdout",
     "output_type": "stream",
     "text": [
      "Skipping trial 51 because y_factual > 20\n",
      "Checking trial = 52\n",
      "Skipping trial 52 because y_factual > 20\n",
      "Checking trial = 53\n",
      "Skipping trial 53 because y_factual > 20\n",
      "Checking trial = 54\n",
      "Running on valid trial = 54\n",
      "Epoch 1: loss 4.3489,\tloss_y 3.6080, 3.6161, 0.0162,\tloss_eta 0.7409, 0.7635, 0.0452\n",
      "Epoch 400: loss 1.0007,\tloss_y 0.4240, 0.8985, 0.9488,\tloss_eta 0.5766, 1.0472, 0.9411\n",
      "Warning: covariate dimension does not aligned with the specified input dimension; filling in the remaining dimension with noise.\n",
      "Warning: covariate dimension does not aligned with the specified input dimension; filling in the remaining dimension with noise.\n"
     ]
    },
    {
     "name": "stderr",
     "output_type": "stream",
     "text": [
      "INFO \t Training with 6 minibatches per epoch\n",
      "INFO \t Evaluating 1 minibatches\n"
     ]
    },
    {
     "name": "stdout",
     "output_type": "stream",
     "text": [
      "The average treatment effect (ATE) is 1.3197176\n",
      "Checking trial = 55\n"
     ]
    },
    {
     "name": "stderr",
     "output_type": "stream",
     "text": [
      "2025-04-26 18:02:52.853917: E tensorflow/core/framework/node_def_util.cc:676] NodeDef mentions attribute use_unbounded_threadpool which is not in the op definition: Op<name=MapDataset; signature=input_dataset:variant, other_arguments: -> handle:variant; attr=f:func; attr=Targuments:list(type),min=0; attr=output_types:list(type),min=1; attr=output_shapes:list(shape),min=1; attr=use_inter_op_parallelism:bool,default=true; attr=preserve_cardinality:bool,default=false; attr=force_synchronous:bool,default=false; attr=metadata:string,default=\"\"> This may be expected if your graph generating binary is newer  than this binary. Unknown attributes will be ignored. NodeDef: {{node ParallelMapDatasetV2/_14}}\n",
      "2025-04-26 18:02:52.854173: E tensorflow/core/framework/node_def_util.cc:676] NodeDef mentions attribute use_unbounded_threadpool which is not in the op definition: Op<name=MapDataset; signature=input_dataset:variant, other_arguments: -> handle:variant; attr=f:func; attr=Targuments:list(type),min=0; attr=output_types:list(type),min=1; attr=output_shapes:list(shape),min=1; attr=use_inter_op_parallelism:bool,default=true; attr=preserve_cardinality:bool,default=false; attr=force_synchronous:bool,default=false; attr=metadata:string,default=\"\"> This may be expected if your graph generating binary is newer  than this binary. Unknown attributes will be ignored. NodeDef: {{node ParallelMapDatasetV2/_14}}\n"
     ]
    },
    {
     "name": "stdout",
     "output_type": "stream",
     "text": [
      "Running on valid trial = 55\n",
      "Epoch 1: loss 2.8520,\tloss_y 2.0814, 2.1111, 0.0593,\tloss_eta 0.7706, 0.7933, 0.0455\n",
      "Epoch 400: loss 1.0422,\tloss_y 0.4624, 1.0284, 1.1320,\tloss_eta 0.5799, 1.0704, 0.9811\n",
      "Warning: covariate dimension does not aligned with the specified input dimension; filling in the remaining dimension with noise.\n",
      "Warning: covariate dimension does not aligned with the specified input dimension; filling in the remaining dimension with noise.\n"
     ]
    },
    {
     "name": "stderr",
     "output_type": "stream",
     "text": [
      "INFO \t Training with 6 minibatches per epoch\n",
      "INFO \t Evaluating 1 minibatches\n"
     ]
    },
    {
     "name": "stdout",
     "output_type": "stream",
     "text": [
      "The average treatment effect (ATE) is 2.2943904\n",
      "Checking trial = 56\n"
     ]
    },
    {
     "name": "stderr",
     "output_type": "stream",
     "text": [
      "2025-04-26 18:04:33.616075: E tensorflow/core/framework/node_def_util.cc:676] NodeDef mentions attribute use_unbounded_threadpool which is not in the op definition: Op<name=MapDataset; signature=input_dataset:variant, other_arguments: -> handle:variant; attr=f:func; attr=Targuments:list(type),min=0; attr=output_types:list(type),min=1; attr=output_shapes:list(shape),min=1; attr=use_inter_op_parallelism:bool,default=true; attr=preserve_cardinality:bool,default=false; attr=force_synchronous:bool,default=false; attr=metadata:string,default=\"\"> This may be expected if your graph generating binary is newer  than this binary. Unknown attributes will be ignored. NodeDef: {{node ParallelMapDatasetV2/_14}}\n",
      "2025-04-26 18:04:33.616389: E tensorflow/core/framework/node_def_util.cc:676] NodeDef mentions attribute use_unbounded_threadpool which is not in the op definition: Op<name=MapDataset; signature=input_dataset:variant, other_arguments: -> handle:variant; attr=f:func; attr=Targuments:list(type),min=0; attr=output_types:list(type),min=1; attr=output_shapes:list(shape),min=1; attr=use_inter_op_parallelism:bool,default=true; attr=preserve_cardinality:bool,default=false; attr=force_synchronous:bool,default=false; attr=metadata:string,default=\"\"> This may be expected if your graph generating binary is newer  than this binary. Unknown attributes will be ignored. NodeDef: {{node ParallelMapDatasetV2/_14}}\n"
     ]
    },
    {
     "name": "stdout",
     "output_type": "stream",
     "text": [
      "Running on valid trial = 56\n",
      "Epoch 1: loss 4.7067,\tloss_y 3.9418, 3.9578, 0.0319,\tloss_eta 0.7649, 0.7927, 0.0555\n",
      "Epoch 400: loss 0.9497,\tloss_y 0.4111, 0.9382, 1.0542,\tloss_eta 0.5386, 0.9775, 0.8777\n",
      "Warning: covariate dimension does not aligned with the specified input dimension; filling in the remaining dimension with noise.\n",
      "Warning: covariate dimension does not aligned with the specified input dimension; filling in the remaining dimension with noise.\n"
     ]
    },
    {
     "name": "stderr",
     "output_type": "stream",
     "text": [
      "INFO \t Training with 6 minibatches per epoch\n",
      "INFO \t Evaluating 1 minibatches\n"
     ]
    },
    {
     "name": "stdout",
     "output_type": "stream",
     "text": [
      "The average treatment effect (ATE) is 1.5133396\n",
      "Checking trial = 57\n"
     ]
    },
    {
     "name": "stderr",
     "output_type": "stream",
     "text": [
      "2025-04-26 18:06:12.697331: E tensorflow/core/framework/node_def_util.cc:676] NodeDef mentions attribute use_unbounded_threadpool which is not in the op definition: Op<name=MapDataset; signature=input_dataset:variant, other_arguments: -> handle:variant; attr=f:func; attr=Targuments:list(type),min=0; attr=output_types:list(type),min=1; attr=output_shapes:list(shape),min=1; attr=use_inter_op_parallelism:bool,default=true; attr=preserve_cardinality:bool,default=false; attr=force_synchronous:bool,default=false; attr=metadata:string,default=\"\"> This may be expected if your graph generating binary is newer  than this binary. Unknown attributes will be ignored. NodeDef: {{node ParallelMapDatasetV2/_14}}\n",
      "2025-04-26 18:06:12.697601: E tensorflow/core/framework/node_def_util.cc:676] NodeDef mentions attribute use_unbounded_threadpool which is not in the op definition: Op<name=MapDataset; signature=input_dataset:variant, other_arguments: -> handle:variant; attr=f:func; attr=Targuments:list(type),min=0; attr=output_types:list(type),min=1; attr=output_shapes:list(shape),min=1; attr=use_inter_op_parallelism:bool,default=true; attr=preserve_cardinality:bool,default=false; attr=force_synchronous:bool,default=false; attr=metadata:string,default=\"\"> This may be expected if your graph generating binary is newer  than this binary. Unknown attributes will be ignored. NodeDef: {{node ParallelMapDatasetV2/_14}}\n"
     ]
    },
    {
     "name": "stdout",
     "output_type": "stream",
     "text": [
      "Skipping trial 57 because y_factual > 20\n",
      "Checking trial = 58\n",
      "Running on valid trial = 58\n",
      "Epoch 1: loss 4.8972,\tloss_y 4.1210, 4.1728, 0.1036,\tloss_eta 0.7762, 0.8005, 0.0487\n",
      "Epoch 400: loss 1.0194,\tloss_y 0.4475, 0.9748, 1.0545,\tloss_eta 0.5719, 1.0066, 0.8694\n",
      "Warning: covariate dimension does not aligned with the specified input dimension; filling in the remaining dimension with noise.\n",
      "Warning: covariate dimension does not aligned with the specified input dimension; filling in the remaining dimension with noise.\n"
     ]
    },
    {
     "name": "stderr",
     "output_type": "stream",
     "text": [
      "INFO \t Training with 6 minibatches per epoch\n",
      "INFO \t Evaluating 1 minibatches\n"
     ]
    },
    {
     "name": "stdout",
     "output_type": "stream",
     "text": [
      "The average treatment effect (ATE) is 1.2817407\n",
      "Checking trial = 59\n"
     ]
    },
    {
     "name": "stderr",
     "output_type": "stream",
     "text": [
      "2025-04-26 18:07:52.377343: E tensorflow/core/framework/node_def_util.cc:676] NodeDef mentions attribute use_unbounded_threadpool which is not in the op definition: Op<name=MapDataset; signature=input_dataset:variant, other_arguments: -> handle:variant; attr=f:func; attr=Targuments:list(type),min=0; attr=output_types:list(type),min=1; attr=output_shapes:list(shape),min=1; attr=use_inter_op_parallelism:bool,default=true; attr=preserve_cardinality:bool,default=false; attr=force_synchronous:bool,default=false; attr=metadata:string,default=\"\"> This may be expected if your graph generating binary is newer  than this binary. Unknown attributes will be ignored. NodeDef: {{node ParallelMapDatasetV2/_14}}\n",
      "2025-04-26 18:07:52.377651: E tensorflow/core/framework/node_def_util.cc:676] NodeDef mentions attribute use_unbounded_threadpool which is not in the op definition: Op<name=MapDataset; signature=input_dataset:variant, other_arguments: -> handle:variant; attr=f:func; attr=Targuments:list(type),min=0; attr=output_types:list(type),min=1; attr=output_shapes:list(shape),min=1; attr=use_inter_op_parallelism:bool,default=true; attr=preserve_cardinality:bool,default=false; attr=force_synchronous:bool,default=false; attr=metadata:string,default=\"\"> This may be expected if your graph generating binary is newer  than this binary. Unknown attributes will be ignored. NodeDef: {{node ParallelMapDatasetV2/_14}}\n"
     ]
    },
    {
     "name": "stdout",
     "output_type": "stream",
     "text": [
      "Skipping trial 59 because y_factual > 20\n",
      "Checking trial = 60\n",
      "Running on valid trial = 60\n",
      "Epoch 1: loss 4.6570,\tloss_y 3.8530, 3.8807, 0.0554,\tloss_eta 0.8041, 0.8250, 0.0418\n",
      "Epoch 400: loss 1.0367,\tloss_y 0.5160, 1.2017, 1.3713,\tloss_eta 0.5206, 1.0770, 1.1126\n",
      "Warning: covariate dimension does not aligned with the specified input dimension; filling in the remaining dimension with noise.\n",
      "Warning: covariate dimension does not aligned with the specified input dimension; filling in the remaining dimension with noise.\n"
     ]
    },
    {
     "name": "stderr",
     "output_type": "stream",
     "text": [
      "INFO \t Training with 6 minibatches per epoch\n",
      "INFO \t Evaluating 1 minibatches\n"
     ]
    },
    {
     "name": "stdout",
     "output_type": "stream",
     "text": [
      "The average treatment effect (ATE) is 0.92547315\n",
      "Checking trial = 61\n"
     ]
    },
    {
     "name": "stderr",
     "output_type": "stream",
     "text": [
      "2025-04-26 18:09:33.444821: E tensorflow/core/framework/node_def_util.cc:676] NodeDef mentions attribute use_unbounded_threadpool which is not in the op definition: Op<name=MapDataset; signature=input_dataset:variant, other_arguments: -> handle:variant; attr=f:func; attr=Targuments:list(type),min=0; attr=output_types:list(type),min=1; attr=output_shapes:list(shape),min=1; attr=use_inter_op_parallelism:bool,default=true; attr=preserve_cardinality:bool,default=false; attr=force_synchronous:bool,default=false; attr=metadata:string,default=\"\"> This may be expected if your graph generating binary is newer  than this binary. Unknown attributes will be ignored. NodeDef: {{node ParallelMapDatasetV2/_14}}\n",
      "2025-04-26 18:09:33.445137: E tensorflow/core/framework/node_def_util.cc:676] NodeDef mentions attribute use_unbounded_threadpool which is not in the op definition: Op<name=MapDataset; signature=input_dataset:variant, other_arguments: -> handle:variant; attr=f:func; attr=Targuments:list(type),min=0; attr=output_types:list(type),min=1; attr=output_shapes:list(shape),min=1; attr=use_inter_op_parallelism:bool,default=true; attr=preserve_cardinality:bool,default=false; attr=force_synchronous:bool,default=false; attr=metadata:string,default=\"\"> This may be expected if your graph generating binary is newer  than this binary. Unknown attributes will be ignored. NodeDef: {{node ParallelMapDatasetV2/_14}}\n"
     ]
    },
    {
     "name": "stdout",
     "output_type": "stream",
     "text": [
      "Running on valid trial = 61\n",
      "Epoch 1: loss 5.6384,\tloss_y 4.8729, 4.8829, 0.0199,\tloss_eta 0.7654, 0.7976, 0.0644\n",
      "Epoch 400: loss 1.0716,\tloss_y 0.4739, 1.0640, 1.1802,\tloss_eta 0.5977, 1.0799, 0.9644\n",
      "Warning: covariate dimension does not aligned with the specified input dimension; filling in the remaining dimension with noise.\n",
      "Warning: covariate dimension does not aligned with the specified input dimension; filling in the remaining dimension with noise.\n"
     ]
    },
    {
     "name": "stderr",
     "output_type": "stream",
     "text": [
      "INFO \t Training with 6 minibatches per epoch\n",
      "INFO \t Evaluating 1 minibatches\n"
     ]
    },
    {
     "name": "stdout",
     "output_type": "stream",
     "text": [
      "The average treatment effect (ATE) is 1.2152723\n",
      "Checking trial = 62\n"
     ]
    },
    {
     "name": "stderr",
     "output_type": "stream",
     "text": [
      "2025-04-26 18:11:15.128520: E tensorflow/core/framework/node_def_util.cc:676] NodeDef mentions attribute use_unbounded_threadpool which is not in the op definition: Op<name=MapDataset; signature=input_dataset:variant, other_arguments: -> handle:variant; attr=f:func; attr=Targuments:list(type),min=0; attr=output_types:list(type),min=1; attr=output_shapes:list(shape),min=1; attr=use_inter_op_parallelism:bool,default=true; attr=preserve_cardinality:bool,default=false; attr=force_synchronous:bool,default=false; attr=metadata:string,default=\"\"> This may be expected if your graph generating binary is newer  than this binary. Unknown attributes will be ignored. NodeDef: {{node ParallelMapDatasetV2/_14}}\n",
      "2025-04-26 18:11:15.128830: E tensorflow/core/framework/node_def_util.cc:676] NodeDef mentions attribute use_unbounded_threadpool which is not in the op definition: Op<name=MapDataset; signature=input_dataset:variant, other_arguments: -> handle:variant; attr=f:func; attr=Targuments:list(type),min=0; attr=output_types:list(type),min=1; attr=output_shapes:list(shape),min=1; attr=use_inter_op_parallelism:bool,default=true; attr=preserve_cardinality:bool,default=false; attr=force_synchronous:bool,default=false; attr=metadata:string,default=\"\"> This may be expected if your graph generating binary is newer  than this binary. Unknown attributes will be ignored. NodeDef: {{node ParallelMapDatasetV2/_14}}\n"
     ]
    },
    {
     "name": "stdout",
     "output_type": "stream",
     "text": [
      "Skipping trial 62 because y_factual > 20\n",
      "Checking trial = 63\n",
      "Skipping trial 63 because y_factual > 20\n",
      "Checking trial = 64\n",
      "Skipping trial 64 because y_factual > 20\n",
      "Checking trial = 65\n",
      "Running on valid trial = 65\n",
      "Epoch 1: loss 5.3305,\tloss_y 4.5690, 4.5761, 0.0142,\tloss_eta 0.7615, 0.7872, 0.0516\n",
      "Epoch 400: loss 1.0448,\tloss_y 0.5086, 1.0985, 1.1798,\tloss_eta 0.5362, 1.0642, 1.0560\n",
      "Warning: covariate dimension does not aligned with the specified input dimension; filling in the remaining dimension with noise.\n",
      "Warning: covariate dimension does not aligned with the specified input dimension; filling in the remaining dimension with noise.\n"
     ]
    },
    {
     "name": "stderr",
     "output_type": "stream",
     "text": [
      "INFO \t Training with 6 minibatches per epoch\n",
      "INFO \t Evaluating 1 minibatches\n"
     ]
    },
    {
     "name": "stdout",
     "output_type": "stream",
     "text": [
      "The average treatment effect (ATE) is 0.9343447\n",
      "Checking trial = 66\n"
     ]
    },
    {
     "name": "stderr",
     "output_type": "stream",
     "text": [
      "2025-04-26 18:12:55.502828: E tensorflow/core/framework/node_def_util.cc:676] NodeDef mentions attribute use_unbounded_threadpool which is not in the op definition: Op<name=MapDataset; signature=input_dataset:variant, other_arguments: -> handle:variant; attr=f:func; attr=Targuments:list(type),min=0; attr=output_types:list(type),min=1; attr=output_shapes:list(shape),min=1; attr=use_inter_op_parallelism:bool,default=true; attr=preserve_cardinality:bool,default=false; attr=force_synchronous:bool,default=false; attr=metadata:string,default=\"\"> This may be expected if your graph generating binary is newer  than this binary. Unknown attributes will be ignored. NodeDef: {{node ParallelMapDatasetV2/_14}}\n",
      "2025-04-26 18:12:55.503165: E tensorflow/core/framework/node_def_util.cc:676] NodeDef mentions attribute use_unbounded_threadpool which is not in the op definition: Op<name=MapDataset; signature=input_dataset:variant, other_arguments: -> handle:variant; attr=f:func; attr=Targuments:list(type),min=0; attr=output_types:list(type),min=1; attr=output_shapes:list(shape),min=1; attr=use_inter_op_parallelism:bool,default=true; attr=preserve_cardinality:bool,default=false; attr=force_synchronous:bool,default=false; attr=metadata:string,default=\"\"> This may be expected if your graph generating binary is newer  than this binary. Unknown attributes will be ignored. NodeDef: {{node ParallelMapDatasetV2/_14}}\n"
     ]
    },
    {
     "name": "stdout",
     "output_type": "stream",
     "text": [
      "Running on valid trial = 66\n",
      "Epoch 1: loss 4.6825,\tloss_y 3.9170, 3.9331, 0.0323,\tloss_eta 0.7655, 0.7916, 0.0523\n",
      "Epoch 400: loss 1.1038,\tloss_y 0.5440, 1.1744, 1.2608,\tloss_eta 0.5598, 1.1356, 1.1517\n",
      "Warning: covariate dimension does not aligned with the specified input dimension; filling in the remaining dimension with noise.\n",
      "Warning: covariate dimension does not aligned with the specified input dimension; filling in the remaining dimension with noise.\n"
     ]
    },
    {
     "name": "stderr",
     "output_type": "stream",
     "text": [
      "INFO \t Training with 6 minibatches per epoch\n",
      "INFO \t Evaluating 1 minibatches\n"
     ]
    },
    {
     "name": "stdout",
     "output_type": "stream",
     "text": [
      "The average treatment effect (ATE) is 1.1518902\n",
      "Checking trial = 67\n"
     ]
    },
    {
     "name": "stderr",
     "output_type": "stream",
     "text": [
      "2025-04-26 18:14:47.310792: E tensorflow/core/framework/node_def_util.cc:676] NodeDef mentions attribute use_unbounded_threadpool which is not in the op definition: Op<name=MapDataset; signature=input_dataset:variant, other_arguments: -> handle:variant; attr=f:func; attr=Targuments:list(type),min=0; attr=output_types:list(type),min=1; attr=output_shapes:list(shape),min=1; attr=use_inter_op_parallelism:bool,default=true; attr=preserve_cardinality:bool,default=false; attr=force_synchronous:bool,default=false; attr=metadata:string,default=\"\"> This may be expected if your graph generating binary is newer  than this binary. Unknown attributes will be ignored. NodeDef: {{node ParallelMapDatasetV2/_14}}\n",
      "2025-04-26 18:14:47.311049: E tensorflow/core/framework/node_def_util.cc:676] NodeDef mentions attribute use_unbounded_threadpool which is not in the op definition: Op<name=MapDataset; signature=input_dataset:variant, other_arguments: -> handle:variant; attr=f:func; attr=Targuments:list(type),min=0; attr=output_types:list(type),min=1; attr=output_shapes:list(shape),min=1; attr=use_inter_op_parallelism:bool,default=true; attr=preserve_cardinality:bool,default=false; attr=force_synchronous:bool,default=false; attr=metadata:string,default=\"\"> This may be expected if your graph generating binary is newer  than this binary. Unknown attributes will be ignored. NodeDef: {{node ParallelMapDatasetV2/_14}}\n"
     ]
    },
    {
     "name": "stdout",
     "output_type": "stream",
     "text": [
      "Skipping trial 67 because y_factual > 20\n",
      "Checking trial = 68\n",
      "Running on valid trial = 68\n",
      "Epoch 1: loss 5.2422,\tloss_y 4.4776, 4.5007, 0.0462,\tloss_eta 0.7646, 0.7866, 0.0440\n",
      "Epoch 400: loss 1.0925,\tloss_y 0.5114, 1.0530, 1.0831,\tloss_eta 0.5810, 1.1514, 1.1409\n",
      "Warning: covariate dimension does not aligned with the specified input dimension; filling in the remaining dimension with noise.\n",
      "Warning: covariate dimension does not aligned with the specified input dimension; filling in the remaining dimension with noise.\n"
     ]
    },
    {
     "name": "stderr",
     "output_type": "stream",
     "text": [
      "INFO \t Training with 6 minibatches per epoch\n",
      "INFO \t Evaluating 1 minibatches\n"
     ]
    },
    {
     "name": "stdout",
     "output_type": "stream",
     "text": [
      "The average treatment effect (ATE) is 1.566745\n",
      "Checking trial = 69\n"
     ]
    },
    {
     "name": "stderr",
     "output_type": "stream",
     "text": [
      "2025-04-26 18:16:33.095135: E tensorflow/core/framework/node_def_util.cc:676] NodeDef mentions attribute use_unbounded_threadpool which is not in the op definition: Op<name=MapDataset; signature=input_dataset:variant, other_arguments: -> handle:variant; attr=f:func; attr=Targuments:list(type),min=0; attr=output_types:list(type),min=1; attr=output_shapes:list(shape),min=1; attr=use_inter_op_parallelism:bool,default=true; attr=preserve_cardinality:bool,default=false; attr=force_synchronous:bool,default=false; attr=metadata:string,default=\"\"> This may be expected if your graph generating binary is newer  than this binary. Unknown attributes will be ignored. NodeDef: {{node ParallelMapDatasetV2/_14}}\n",
      "2025-04-26 18:16:33.095429: E tensorflow/core/framework/node_def_util.cc:676] NodeDef mentions attribute use_unbounded_threadpool which is not in the op definition: Op<name=MapDataset; signature=input_dataset:variant, other_arguments: -> handle:variant; attr=f:func; attr=Targuments:list(type),min=0; attr=output_types:list(type),min=1; attr=output_shapes:list(shape),min=1; attr=use_inter_op_parallelism:bool,default=true; attr=preserve_cardinality:bool,default=false; attr=force_synchronous:bool,default=false; attr=metadata:string,default=\"\"> This may be expected if your graph generating binary is newer  than this binary. Unknown attributes will be ignored. NodeDef: {{node ParallelMapDatasetV2/_14}}\n"
     ]
    },
    {
     "name": "stdout",
     "output_type": "stream",
     "text": [
      "Running on valid trial = 69\n",
      "Epoch 1: loss 3.0937,\tloss_y 2.3348, 2.3438, 0.0181,\tloss_eta 0.7589, 0.7826, 0.0474\n",
      "Epoch 400: loss 1.0522,\tloss_y 0.5048, 1.0433, 1.0770,\tloss_eta 0.5474, 1.0829, 1.0710\n",
      "Warning: covariate dimension does not aligned with the specified input dimension; filling in the remaining dimension with noise.\n",
      "Warning: covariate dimension does not aligned with the specified input dimension; filling in the remaining dimension with noise.\n"
     ]
    },
    {
     "name": "stderr",
     "output_type": "stream",
     "text": [
      "INFO \t Training with 6 minibatches per epoch\n",
      "INFO \t Evaluating 1 minibatches\n"
     ]
    },
    {
     "name": "stdout",
     "output_type": "stream",
     "text": [
      "The average treatment effect (ATE) is 1.6879237\n",
      "Checking trial = 70\n"
     ]
    },
    {
     "name": "stderr",
     "output_type": "stream",
     "text": [
      "2025-04-26 18:18:36.810939: E tensorflow/core/framework/node_def_util.cc:676] NodeDef mentions attribute use_unbounded_threadpool which is not in the op definition: Op<name=MapDataset; signature=input_dataset:variant, other_arguments: -> handle:variant; attr=f:func; attr=Targuments:list(type),min=0; attr=output_types:list(type),min=1; attr=output_shapes:list(shape),min=1; attr=use_inter_op_parallelism:bool,default=true; attr=preserve_cardinality:bool,default=false; attr=force_synchronous:bool,default=false; attr=metadata:string,default=\"\"> This may be expected if your graph generating binary is newer  than this binary. Unknown attributes will be ignored. NodeDef: {{node ParallelMapDatasetV2/_14}}\n",
      "2025-04-26 18:18:36.811231: E tensorflow/core/framework/node_def_util.cc:676] NodeDef mentions attribute use_unbounded_threadpool which is not in the op definition: Op<name=MapDataset; signature=input_dataset:variant, other_arguments: -> handle:variant; attr=f:func; attr=Targuments:list(type),min=0; attr=output_types:list(type),min=1; attr=output_shapes:list(shape),min=1; attr=use_inter_op_parallelism:bool,default=true; attr=preserve_cardinality:bool,default=false; attr=force_synchronous:bool,default=false; attr=metadata:string,default=\"\"> This may be expected if your graph generating binary is newer  than this binary. Unknown attributes will be ignored. NodeDef: {{node ParallelMapDatasetV2/_14}}\n"
     ]
    },
    {
     "name": "stdout",
     "output_type": "stream",
     "text": [
      "Skipping trial 70 because y_factual > 20\n",
      "Checking trial = 71\n",
      "Running on valid trial = 71\n",
      "Epoch 1: loss 2.5356,\tloss_y 1.7334, 1.7736, 0.0804,\tloss_eta 0.8022, 0.8311, 0.0578\n",
      "Epoch 400: loss 1.0901,\tloss_y 0.5283, 1.0773, 1.0980,\tloss_eta 0.5618, 1.0929, 1.0622\n",
      "Warning: covariate dimension does not aligned with the specified input dimension; filling in the remaining dimension with noise.\n",
      "Warning: covariate dimension does not aligned with the specified input dimension; filling in the remaining dimension with noise.\n"
     ]
    },
    {
     "name": "stderr",
     "output_type": "stream",
     "text": [
      "INFO \t Training with 6 minibatches per epoch\n",
      "INFO \t Evaluating 1 minibatches\n"
     ]
    },
    {
     "name": "stdout",
     "output_type": "stream",
     "text": [
      "The average treatment effect (ATE) is 1.9473966\n",
      "Checking trial = 72\n"
     ]
    },
    {
     "name": "stderr",
     "output_type": "stream",
     "text": [
      "2025-04-26 18:20:38.277277: E tensorflow/core/framework/node_def_util.cc:676] NodeDef mentions attribute use_unbounded_threadpool which is not in the op definition: Op<name=MapDataset; signature=input_dataset:variant, other_arguments: -> handle:variant; attr=f:func; attr=Targuments:list(type),min=0; attr=output_types:list(type),min=1; attr=output_shapes:list(shape),min=1; attr=use_inter_op_parallelism:bool,default=true; attr=preserve_cardinality:bool,default=false; attr=force_synchronous:bool,default=false; attr=metadata:string,default=\"\"> This may be expected if your graph generating binary is newer  than this binary. Unknown attributes will be ignored. NodeDef: {{node ParallelMapDatasetV2/_14}}\n",
      "2025-04-26 18:20:38.277587: E tensorflow/core/framework/node_def_util.cc:676] NodeDef mentions attribute use_unbounded_threadpool which is not in the op definition: Op<name=MapDataset; signature=input_dataset:variant, other_arguments: -> handle:variant; attr=f:func; attr=Targuments:list(type),min=0; attr=output_types:list(type),min=1; attr=output_shapes:list(shape),min=1; attr=use_inter_op_parallelism:bool,default=true; attr=preserve_cardinality:bool,default=false; attr=force_synchronous:bool,default=false; attr=metadata:string,default=\"\"> This may be expected if your graph generating binary is newer  than this binary. Unknown attributes will be ignored. NodeDef: {{node ParallelMapDatasetV2/_14}}\n"
     ]
    },
    {
     "name": "stdout",
     "output_type": "stream",
     "text": [
      "Running on valid trial = 72\n",
      "Epoch 1: loss 6.7741,\tloss_y 6.0280, 6.0431, 0.0302,\tloss_eta 0.7460, 0.7802, 0.0684\n",
      "Epoch 400: loss 1.1188,\tloss_y 0.5644, 1.3841, 1.6394,\tloss_eta 0.5545, 1.1170, 1.1251\n",
      "Warning: covariate dimension does not aligned with the specified input dimension; filling in the remaining dimension with noise.\n",
      "Warning: covariate dimension does not aligned with the specified input dimension; filling in the remaining dimension with noise.\n"
     ]
    },
    {
     "name": "stderr",
     "output_type": "stream",
     "text": [
      "INFO \t Training with 6 minibatches per epoch\n",
      "INFO \t Evaluating 1 minibatches\n"
     ]
    },
    {
     "name": "stdout",
     "output_type": "stream",
     "text": [
      "The average treatment effect (ATE) is 0.8106623\n",
      "Checking trial = 73\n"
     ]
    },
    {
     "name": "stderr",
     "output_type": "stream",
     "text": [
      "2025-04-26 18:22:40.340648: E tensorflow/core/framework/node_def_util.cc:676] NodeDef mentions attribute use_unbounded_threadpool which is not in the op definition: Op<name=MapDataset; signature=input_dataset:variant, other_arguments: -> handle:variant; attr=f:func; attr=Targuments:list(type),min=0; attr=output_types:list(type),min=1; attr=output_shapes:list(shape),min=1; attr=use_inter_op_parallelism:bool,default=true; attr=preserve_cardinality:bool,default=false; attr=force_synchronous:bool,default=false; attr=metadata:string,default=\"\"> This may be expected if your graph generating binary is newer  than this binary. Unknown attributes will be ignored. NodeDef: {{node ParallelMapDatasetV2/_14}}\n",
      "2025-04-26 18:22:40.340977: E tensorflow/core/framework/node_def_util.cc:676] NodeDef mentions attribute use_unbounded_threadpool which is not in the op definition: Op<name=MapDataset; signature=input_dataset:variant, other_arguments: -> handle:variant; attr=f:func; attr=Targuments:list(type),min=0; attr=output_types:list(type),min=1; attr=output_shapes:list(shape),min=1; attr=use_inter_op_parallelism:bool,default=true; attr=preserve_cardinality:bool,default=false; attr=force_synchronous:bool,default=false; attr=metadata:string,default=\"\"> This may be expected if your graph generating binary is newer  than this binary. Unknown attributes will be ignored. NodeDef: {{node ParallelMapDatasetV2/_14}}\n"
     ]
    },
    {
     "name": "stdout",
     "output_type": "stream",
     "text": [
      "Running on valid trial = 73\n",
      "Epoch 1: loss 3.8204,\tloss_y 3.0570, 3.0835, 0.0530,\tloss_eta 0.7634, 0.7893, 0.0518\n",
      "Epoch 400: loss 1.0149,\tloss_y 0.4800, 1.0088, 1.0575,\tloss_eta 0.5349, 1.0686, 1.0674\n",
      "Warning: covariate dimension does not aligned with the specified input dimension; filling in the remaining dimension with noise.\n",
      "Warning: covariate dimension does not aligned with the specified input dimension; filling in the remaining dimension with noise.\n"
     ]
    },
    {
     "name": "stderr",
     "output_type": "stream",
     "text": [
      "INFO \t Training with 6 minibatches per epoch\n",
      "INFO \t Evaluating 1 minibatches\n"
     ]
    },
    {
     "name": "stdout",
     "output_type": "stream",
     "text": [
      "The average treatment effect (ATE) is 1.7714539\n",
      "Checking trial = 74\n"
     ]
    },
    {
     "name": "stderr",
     "output_type": "stream",
     "text": [
      "2025-04-26 18:24:46.053069: E tensorflow/core/framework/node_def_util.cc:676] NodeDef mentions attribute use_unbounded_threadpool which is not in the op definition: Op<name=MapDataset; signature=input_dataset:variant, other_arguments: -> handle:variant; attr=f:func; attr=Targuments:list(type),min=0; attr=output_types:list(type),min=1; attr=output_shapes:list(shape),min=1; attr=use_inter_op_parallelism:bool,default=true; attr=preserve_cardinality:bool,default=false; attr=force_synchronous:bool,default=false; attr=metadata:string,default=\"\"> This may be expected if your graph generating binary is newer  than this binary. Unknown attributes will be ignored. NodeDef: {{node ParallelMapDatasetV2/_14}}\n",
      "2025-04-26 18:24:46.053464: E tensorflow/core/framework/node_def_util.cc:676] NodeDef mentions attribute use_unbounded_threadpool which is not in the op definition: Op<name=MapDataset; signature=input_dataset:variant, other_arguments: -> handle:variant; attr=f:func; attr=Targuments:list(type),min=0; attr=output_types:list(type),min=1; attr=output_shapes:list(shape),min=1; attr=use_inter_op_parallelism:bool,default=true; attr=preserve_cardinality:bool,default=false; attr=force_synchronous:bool,default=false; attr=metadata:string,default=\"\"> This may be expected if your graph generating binary is newer  than this binary. Unknown attributes will be ignored. NodeDef: {{node ParallelMapDatasetV2/_14}}\n"
     ]
    },
    {
     "name": "stdout",
     "output_type": "stream",
     "text": [
      "Running on valid trial = 74\n",
      "Epoch 1: loss 3.0557,\tloss_y 2.2769, 2.2973, 0.0408,\tloss_eta 0.7788, 0.8041, 0.0506\n",
      "Epoch 400: loss 1.0903,\tloss_y 0.5300, 1.0643, 1.0688,\tloss_eta 0.5604, 1.1043, 1.0878\n",
      "Warning: covariate dimension does not aligned with the specified input dimension; filling in the remaining dimension with noise.\n",
      "Warning: covariate dimension does not aligned with the specified input dimension; filling in the remaining dimension with noise.\n"
     ]
    },
    {
     "name": "stderr",
     "output_type": "stream",
     "text": [
      "INFO \t Training with 6 minibatches per epoch\n",
      "INFO \t Evaluating 1 minibatches\n"
     ]
    },
    {
     "name": "stdout",
     "output_type": "stream",
     "text": [
      "The average treatment effect (ATE) is 2.2307742\n",
      "Checking trial = 75\n"
     ]
    },
    {
     "name": "stderr",
     "output_type": "stream",
     "text": [
      "2025-04-26 18:26:50.042633: E tensorflow/core/framework/node_def_util.cc:676] NodeDef mentions attribute use_unbounded_threadpool which is not in the op definition: Op<name=MapDataset; signature=input_dataset:variant, other_arguments: -> handle:variant; attr=f:func; attr=Targuments:list(type),min=0; attr=output_types:list(type),min=1; attr=output_shapes:list(shape),min=1; attr=use_inter_op_parallelism:bool,default=true; attr=preserve_cardinality:bool,default=false; attr=force_synchronous:bool,default=false; attr=metadata:string,default=\"\"> This may be expected if your graph generating binary is newer  than this binary. Unknown attributes will be ignored. NodeDef: {{node ParallelMapDatasetV2/_14}}\n",
      "2025-04-26 18:26:50.042935: E tensorflow/core/framework/node_def_util.cc:676] NodeDef mentions attribute use_unbounded_threadpool which is not in the op definition: Op<name=MapDataset; signature=input_dataset:variant, other_arguments: -> handle:variant; attr=f:func; attr=Targuments:list(type),min=0; attr=output_types:list(type),min=1; attr=output_shapes:list(shape),min=1; attr=use_inter_op_parallelism:bool,default=true; attr=preserve_cardinality:bool,default=false; attr=force_synchronous:bool,default=false; attr=metadata:string,default=\"\"> This may be expected if your graph generating binary is newer  than this binary. Unknown attributes will be ignored. NodeDef: {{node ParallelMapDatasetV2/_14}}\n"
     ]
    },
    {
     "name": "stdout",
     "output_type": "stream",
     "text": [
      "Skipping trial 75 because y_factual > 20\n",
      "Checking trial = 76\n",
      "Running on valid trial = 76\n",
      "Epoch 1: loss 6.3499,\tloss_y 5.5765, 5.5837, 0.0145,\tloss_eta 0.7734, 0.8015, 0.0562\n",
      "Epoch 400: loss 1.0796,\tloss_y 0.5431, 1.2075, 1.3290,\tloss_eta 0.5366, 1.0210, 0.9688\n",
      "Warning: covariate dimension does not aligned with the specified input dimension; filling in the remaining dimension with noise.\n",
      "Warning: covariate dimension does not aligned with the specified input dimension; filling in the remaining dimension with noise.\n"
     ]
    },
    {
     "name": "stderr",
     "output_type": "stream",
     "text": [
      "INFO \t Training with 6 minibatches per epoch\n",
      "INFO \t Evaluating 1 minibatches\n"
     ]
    },
    {
     "name": "stdout",
     "output_type": "stream",
     "text": [
      "The average treatment effect (ATE) is 0.7727836\n",
      "Checking trial = 77\n"
     ]
    },
    {
     "name": "stderr",
     "output_type": "stream",
     "text": [
      "2025-04-26 18:28:58.872193: E tensorflow/core/framework/node_def_util.cc:676] NodeDef mentions attribute use_unbounded_threadpool which is not in the op definition: Op<name=MapDataset; signature=input_dataset:variant, other_arguments: -> handle:variant; attr=f:func; attr=Targuments:list(type),min=0; attr=output_types:list(type),min=1; attr=output_shapes:list(shape),min=1; attr=use_inter_op_parallelism:bool,default=true; attr=preserve_cardinality:bool,default=false; attr=force_synchronous:bool,default=false; attr=metadata:string,default=\"\"> This may be expected if your graph generating binary is newer  than this binary. Unknown attributes will be ignored. NodeDef: {{node ParallelMapDatasetV2/_14}}\n",
      "2025-04-26 18:28:58.872518: E tensorflow/core/framework/node_def_util.cc:676] NodeDef mentions attribute use_unbounded_threadpool which is not in the op definition: Op<name=MapDataset; signature=input_dataset:variant, other_arguments: -> handle:variant; attr=f:func; attr=Targuments:list(type),min=0; attr=output_types:list(type),min=1; attr=output_shapes:list(shape),min=1; attr=use_inter_op_parallelism:bool,default=true; attr=preserve_cardinality:bool,default=false; attr=force_synchronous:bool,default=false; attr=metadata:string,default=\"\"> This may be expected if your graph generating binary is newer  than this binary. Unknown attributes will be ignored. NodeDef: {{node ParallelMapDatasetV2/_14}}\n"
     ]
    },
    {
     "name": "stdout",
     "output_type": "stream",
     "text": [
      "Running on valid trial = 77\n",
      "Epoch 1: loss 4.4746,\tloss_y 3.6782, 3.6846, 0.0128,\tloss_eta 0.7963, 0.8255, 0.0583\n",
      "Epoch 400: loss 1.0685,\tloss_y 0.5030, 1.0343, 1.0625,\tloss_eta 0.5654, 1.0278, 0.9246\n",
      "Warning: covariate dimension does not aligned with the specified input dimension; filling in the remaining dimension with noise.\n",
      "Warning: covariate dimension does not aligned with the specified input dimension; filling in the remaining dimension with noise.\n"
     ]
    },
    {
     "name": "stderr",
     "output_type": "stream",
     "text": [
      "INFO \t Training with 6 minibatches per epoch\n",
      "INFO \t Evaluating 1 minibatches\n"
     ]
    },
    {
     "name": "stdout",
     "output_type": "stream",
     "text": [
      "The average treatment effect (ATE) is 1.7454183\n",
      "Checking trial = 78\n"
     ]
    },
    {
     "name": "stderr",
     "output_type": "stream",
     "text": [
      "2025-04-26 18:31:25.049517: E tensorflow/core/framework/node_def_util.cc:676] NodeDef mentions attribute use_unbounded_threadpool which is not in the op definition: Op<name=MapDataset; signature=input_dataset:variant, other_arguments: -> handle:variant; attr=f:func; attr=Targuments:list(type),min=0; attr=output_types:list(type),min=1; attr=output_shapes:list(shape),min=1; attr=use_inter_op_parallelism:bool,default=true; attr=preserve_cardinality:bool,default=false; attr=force_synchronous:bool,default=false; attr=metadata:string,default=\"\"> This may be expected if your graph generating binary is newer  than this binary. Unknown attributes will be ignored. NodeDef: {{node ParallelMapDatasetV2/_14}}\n",
      "2025-04-26 18:31:25.049818: E tensorflow/core/framework/node_def_util.cc:676] NodeDef mentions attribute use_unbounded_threadpool which is not in the op definition: Op<name=MapDataset; signature=input_dataset:variant, other_arguments: -> handle:variant; attr=f:func; attr=Targuments:list(type),min=0; attr=output_types:list(type),min=1; attr=output_shapes:list(shape),min=1; attr=use_inter_op_parallelism:bool,default=true; attr=preserve_cardinality:bool,default=false; attr=force_synchronous:bool,default=false; attr=metadata:string,default=\"\"> This may be expected if your graph generating binary is newer  than this binary. Unknown attributes will be ignored. NodeDef: {{node ParallelMapDatasetV2/_14}}\n"
     ]
    },
    {
     "name": "stdout",
     "output_type": "stream",
     "text": [
      "Running on valid trial = 78\n",
      "Epoch 1: loss 4.7344,\tloss_y 3.9666, 3.9759, 0.0186,\tloss_eta 0.7678, 0.7871, 0.0385\n",
      "Epoch 400: loss 0.9927,\tloss_y 0.4220, 0.9139, 0.9838,\tloss_eta 0.5707, 1.0120, 0.8827\n",
      "Warning: covariate dimension does not aligned with the specified input dimension; filling in the remaining dimension with noise.\n",
      "Warning: covariate dimension does not aligned with the specified input dimension; filling in the remaining dimension with noise.\n"
     ]
    },
    {
     "name": "stderr",
     "output_type": "stream",
     "text": [
      "INFO \t Training with 6 minibatches per epoch\n",
      "INFO \t Evaluating 1 minibatches\n"
     ]
    },
    {
     "name": "stdout",
     "output_type": "stream",
     "text": [
      "The average treatment effect (ATE) is 1.2310909\n",
      "Checking trial = 79\n"
     ]
    },
    {
     "name": "stderr",
     "output_type": "stream",
     "text": [
      "2025-04-26 18:33:39.007436: E tensorflow/core/framework/node_def_util.cc:676] NodeDef mentions attribute use_unbounded_threadpool which is not in the op definition: Op<name=MapDataset; signature=input_dataset:variant, other_arguments: -> handle:variant; attr=f:func; attr=Targuments:list(type),min=0; attr=output_types:list(type),min=1; attr=output_shapes:list(shape),min=1; attr=use_inter_op_parallelism:bool,default=true; attr=preserve_cardinality:bool,default=false; attr=force_synchronous:bool,default=false; attr=metadata:string,default=\"\"> This may be expected if your graph generating binary is newer  than this binary. Unknown attributes will be ignored. NodeDef: {{node ParallelMapDatasetV2/_14}}\n",
      "2025-04-26 18:33:39.007787: E tensorflow/core/framework/node_def_util.cc:676] NodeDef mentions attribute use_unbounded_threadpool which is not in the op definition: Op<name=MapDataset; signature=input_dataset:variant, other_arguments: -> handle:variant; attr=f:func; attr=Targuments:list(type),min=0; attr=output_types:list(type),min=1; attr=output_shapes:list(shape),min=1; attr=use_inter_op_parallelism:bool,default=true; attr=preserve_cardinality:bool,default=false; attr=force_synchronous:bool,default=false; attr=metadata:string,default=\"\"> This may be expected if your graph generating binary is newer  than this binary. Unknown attributes will be ignored. NodeDef: {{node ParallelMapDatasetV2/_14}}\n"
     ]
    },
    {
     "name": "stdout",
     "output_type": "stream",
     "text": [
      "Running on valid trial = 79\n",
      "Epoch 1: loss 3.6458,\tloss_y 2.8828, 2.9132, 0.0606,\tloss_eta 0.7630, 0.7873, 0.0487\n",
      "Epoch 400: loss 1.0847,\tloss_y 0.4893, 1.0758, 1.1730,\tloss_eta 0.5954, 1.1087, 1.0267\n",
      "Warning: covariate dimension does not aligned with the specified input dimension; filling in the remaining dimension with noise.\n",
      "Warning: covariate dimension does not aligned with the specified input dimension; filling in the remaining dimension with noise.\n"
     ]
    },
    {
     "name": "stderr",
     "output_type": "stream",
     "text": [
      "INFO \t Training with 6 minibatches per epoch\n",
      "INFO \t Evaluating 1 minibatches\n"
     ]
    },
    {
     "name": "stdout",
     "output_type": "stream",
     "text": [
      "The average treatment effect (ATE) is 1.4072407\n",
      "Checking trial = 80\n"
     ]
    },
    {
     "name": "stderr",
     "output_type": "stream",
     "text": [
      "2025-04-26 18:35:53.812011: E tensorflow/core/framework/node_def_util.cc:676] NodeDef mentions attribute use_unbounded_threadpool which is not in the op definition: Op<name=MapDataset; signature=input_dataset:variant, other_arguments: -> handle:variant; attr=f:func; attr=Targuments:list(type),min=0; attr=output_types:list(type),min=1; attr=output_shapes:list(shape),min=1; attr=use_inter_op_parallelism:bool,default=true; attr=preserve_cardinality:bool,default=false; attr=force_synchronous:bool,default=false; attr=metadata:string,default=\"\"> This may be expected if your graph generating binary is newer  than this binary. Unknown attributes will be ignored. NodeDef: {{node ParallelMapDatasetV2/_14}}\n",
      "2025-04-26 18:35:53.812350: E tensorflow/core/framework/node_def_util.cc:676] NodeDef mentions attribute use_unbounded_threadpool which is not in the op definition: Op<name=MapDataset; signature=input_dataset:variant, other_arguments: -> handle:variant; attr=f:func; attr=Targuments:list(type),min=0; attr=output_types:list(type),min=1; attr=output_shapes:list(shape),min=1; attr=use_inter_op_parallelism:bool,default=true; attr=preserve_cardinality:bool,default=false; attr=force_synchronous:bool,default=false; attr=metadata:string,default=\"\"> This may be expected if your graph generating binary is newer  than this binary. Unknown attributes will be ignored. NodeDef: {{node ParallelMapDatasetV2/_14}}\n"
     ]
    },
    {
     "name": "stdout",
     "output_type": "stream",
     "text": [
      "Skipping trial 80 because y_factual > 20\n",
      "Checking trial = 81\n",
      "Skipping trial 81 because y_factual > 20\n",
      "Checking trial = 82\n",
      "Skipping trial 82 because y_factual > 20\n",
      "Checking trial = 83\n",
      "Skipping trial 83 because y_factual > 20\n",
      "Checking trial = 84\n",
      "Skipping trial 84 because y_factual > 20\n",
      "Checking trial = 85\n",
      "Skipping trial 85 because y_factual > 20\n",
      "Checking trial = 86\n",
      "Skipping trial 86 because y_factual > 20\n",
      "Checking trial = 87\n",
      "Running on valid trial = 87\n",
      "Epoch 1: loss 2.7547,\tloss_y 2.0112, 2.0488, 0.0752,\tloss_eta 0.7434, 0.7690, 0.0511\n",
      "Epoch 400: loss 1.0265,\tloss_y 0.4845, 1.0045, 1.0401,\tloss_eta 0.5421, 1.0241, 0.9640\n",
      "Warning: covariate dimension does not aligned with the specified input dimension; filling in the remaining dimension with noise.\n",
      "Warning: covariate dimension does not aligned with the specified input dimension; filling in the remaining dimension with noise.\n"
     ]
    },
    {
     "name": "stderr",
     "output_type": "stream",
     "text": [
      "INFO \t Training with 6 minibatches per epoch\n",
      "INFO \t Evaluating 1 minibatches\n"
     ]
    },
    {
     "name": "stdout",
     "output_type": "stream",
     "text": [
      "The average treatment effect (ATE) is 2.8421957\n",
      "Checking trial = 88\n"
     ]
    },
    {
     "name": "stderr",
     "output_type": "stream",
     "text": [
      "2025-04-26 18:38:04.043068: E tensorflow/core/framework/node_def_util.cc:676] NodeDef mentions attribute use_unbounded_threadpool which is not in the op definition: Op<name=MapDataset; signature=input_dataset:variant, other_arguments: -> handle:variant; attr=f:func; attr=Targuments:list(type),min=0; attr=output_types:list(type),min=1; attr=output_shapes:list(shape),min=1; attr=use_inter_op_parallelism:bool,default=true; attr=preserve_cardinality:bool,default=false; attr=force_synchronous:bool,default=false; attr=metadata:string,default=\"\"> This may be expected if your graph generating binary is newer  than this binary. Unknown attributes will be ignored. NodeDef: {{node ParallelMapDatasetV2/_14}}\n",
      "2025-04-26 18:38:04.043336: E tensorflow/core/framework/node_def_util.cc:676] NodeDef mentions attribute use_unbounded_threadpool which is not in the op definition: Op<name=MapDataset; signature=input_dataset:variant, other_arguments: -> handle:variant; attr=f:func; attr=Targuments:list(type),min=0; attr=output_types:list(type),min=1; attr=output_shapes:list(shape),min=1; attr=use_inter_op_parallelism:bool,default=true; attr=preserve_cardinality:bool,default=false; attr=force_synchronous:bool,default=false; attr=metadata:string,default=\"\"> This may be expected if your graph generating binary is newer  than this binary. Unknown attributes will be ignored. NodeDef: {{node ParallelMapDatasetV2/_14}}\n"
     ]
    },
    {
     "name": "stdout",
     "output_type": "stream",
     "text": [
      "Skipping trial 88 because y_factual > 20\n",
      "Checking trial = 89\n",
      "Running on valid trial = 89\n",
      "Epoch 1: loss 10.1194,\tloss_y 9.3744, 9.4176, 0.0865,\tloss_eta 0.7450, 0.7715, 0.0528\n",
      "Epoch 400: loss 1.1929,\tloss_y 0.5831, 1.5102, 1.8541,\tloss_eta 0.6097, 1.0368, 0.8541\n",
      "Warning: covariate dimension does not aligned with the specified input dimension; filling in the remaining dimension with noise.\n",
      "Warning: covariate dimension does not aligned with the specified input dimension; filling in the remaining dimension with noise.\n"
     ]
    },
    {
     "name": "stderr",
     "output_type": "stream",
     "text": [
      "INFO \t Training with 6 minibatches per epoch\n",
      "INFO \t Evaluating 1 minibatches\n"
     ]
    },
    {
     "name": "stdout",
     "output_type": "stream",
     "text": [
      "The average treatment effect (ATE) is 0.6865088\n",
      "Checking trial = 90\n"
     ]
    },
    {
     "name": "stderr",
     "output_type": "stream",
     "text": [
      "2025-04-26 18:39:51.406750: E tensorflow/core/framework/node_def_util.cc:676] NodeDef mentions attribute use_unbounded_threadpool which is not in the op definition: Op<name=MapDataset; signature=input_dataset:variant, other_arguments: -> handle:variant; attr=f:func; attr=Targuments:list(type),min=0; attr=output_types:list(type),min=1; attr=output_shapes:list(shape),min=1; attr=use_inter_op_parallelism:bool,default=true; attr=preserve_cardinality:bool,default=false; attr=force_synchronous:bool,default=false; attr=metadata:string,default=\"\"> This may be expected if your graph generating binary is newer  than this binary. Unknown attributes will be ignored. NodeDef: {{node ParallelMapDatasetV2/_14}}\n",
      "2025-04-26 18:39:51.407050: E tensorflow/core/framework/node_def_util.cc:676] NodeDef mentions attribute use_unbounded_threadpool which is not in the op definition: Op<name=MapDataset; signature=input_dataset:variant, other_arguments: -> handle:variant; attr=f:func; attr=Targuments:list(type),min=0; attr=output_types:list(type),min=1; attr=output_shapes:list(shape),min=1; attr=use_inter_op_parallelism:bool,default=true; attr=preserve_cardinality:bool,default=false; attr=force_synchronous:bool,default=false; attr=metadata:string,default=\"\"> This may be expected if your graph generating binary is newer  than this binary. Unknown attributes will be ignored. NodeDef: {{node ParallelMapDatasetV2/_14}}\n"
     ]
    },
    {
     "name": "stdout",
     "output_type": "stream",
     "text": [
      "Running on valid trial = 90\n",
      "Epoch 1: loss 3.4561,\tloss_y 2.6567, 2.6779, 0.0425,\tloss_eta 0.7994, 0.8199, 0.0410\n",
      "Epoch 400: loss 1.0798,\tloss_y 0.5188, 1.0379, 1.0383,\tloss_eta 0.5611, 1.0661, 1.0101\n",
      "Warning: covariate dimension does not aligned with the specified input dimension; filling in the remaining dimension with noise.\n",
      "Warning: covariate dimension does not aligned with the specified input dimension; filling in the remaining dimension with noise.\n"
     ]
    },
    {
     "name": "stderr",
     "output_type": "stream",
     "text": [
      "INFO \t Training with 6 minibatches per epoch\n",
      "INFO \t Evaluating 1 minibatches\n"
     ]
    },
    {
     "name": "stdout",
     "output_type": "stream",
     "text": [
      "The average treatment effect (ATE) is 1.5442512\n",
      "Checking trial = 91\n"
     ]
    },
    {
     "name": "stderr",
     "output_type": "stream",
     "text": [
      "2025-04-26 18:41:39.647761: E tensorflow/core/framework/node_def_util.cc:676] NodeDef mentions attribute use_unbounded_threadpool which is not in the op definition: Op<name=MapDataset; signature=input_dataset:variant, other_arguments: -> handle:variant; attr=f:func; attr=Targuments:list(type),min=0; attr=output_types:list(type),min=1; attr=output_shapes:list(shape),min=1; attr=use_inter_op_parallelism:bool,default=true; attr=preserve_cardinality:bool,default=false; attr=force_synchronous:bool,default=false; attr=metadata:string,default=\"\"> This may be expected if your graph generating binary is newer  than this binary. Unknown attributes will be ignored. NodeDef: {{node ParallelMapDatasetV2/_14}}\n",
      "2025-04-26 18:41:39.648054: E tensorflow/core/framework/node_def_util.cc:676] NodeDef mentions attribute use_unbounded_threadpool which is not in the op definition: Op<name=MapDataset; signature=input_dataset:variant, other_arguments: -> handle:variant; attr=f:func; attr=Targuments:list(type),min=0; attr=output_types:list(type),min=1; attr=output_shapes:list(shape),min=1; attr=use_inter_op_parallelism:bool,default=true; attr=preserve_cardinality:bool,default=false; attr=force_synchronous:bool,default=false; attr=metadata:string,default=\"\"> This may be expected if your graph generating binary is newer  than this binary. Unknown attributes will be ignored. NodeDef: {{node ParallelMapDatasetV2/_14}}\n"
     ]
    },
    {
     "name": "stdout",
     "output_type": "stream",
     "text": [
      "Skipping trial 91 because y_factual > 20\n",
      "Checking trial = 92\n",
      "Skipping trial 92 because y_factual > 20\n",
      "Checking trial = 93\n",
      "Running on valid trial = 93\n",
      "Epoch 1: loss 6.8519,\tloss_y 6.0558, 6.0785, 0.0454,\tloss_eta 0.7960, 0.8177, 0.0433\n",
      "Epoch 400: loss 1.1262,\tloss_y 0.5594, 1.2552, 1.3915,\tloss_eta 0.5668, 0.9682, 0.8028\n",
      "Warning: covariate dimension does not aligned with the specified input dimension; filling in the remaining dimension with noise.\n",
      "Warning: covariate dimension does not aligned with the specified input dimension; filling in the remaining dimension with noise.\n"
     ]
    },
    {
     "name": "stderr",
     "output_type": "stream",
     "text": [
      "INFO \t Training with 6 minibatches per epoch\n",
      "INFO \t Evaluating 1 minibatches\n"
     ]
    },
    {
     "name": "stdout",
     "output_type": "stream",
     "text": [
      "The average treatment effect (ATE) is 0.98703057\n",
      "Checking trial = 94\n"
     ]
    },
    {
     "name": "stderr",
     "output_type": "stream",
     "text": [
      "2025-04-26 18:43:24.909716: E tensorflow/core/framework/node_def_util.cc:676] NodeDef mentions attribute use_unbounded_threadpool which is not in the op definition: Op<name=MapDataset; signature=input_dataset:variant, other_arguments: -> handle:variant; attr=f:func; attr=Targuments:list(type),min=0; attr=output_types:list(type),min=1; attr=output_shapes:list(shape),min=1; attr=use_inter_op_parallelism:bool,default=true; attr=preserve_cardinality:bool,default=false; attr=force_synchronous:bool,default=false; attr=metadata:string,default=\"\"> This may be expected if your graph generating binary is newer  than this binary. Unknown attributes will be ignored. NodeDef: {{node ParallelMapDatasetV2/_14}}\n",
      "2025-04-26 18:43:24.910007: E tensorflow/core/framework/node_def_util.cc:676] NodeDef mentions attribute use_unbounded_threadpool which is not in the op definition: Op<name=MapDataset; signature=input_dataset:variant, other_arguments: -> handle:variant; attr=f:func; attr=Targuments:list(type),min=0; attr=output_types:list(type),min=1; attr=output_shapes:list(shape),min=1; attr=use_inter_op_parallelism:bool,default=true; attr=preserve_cardinality:bool,default=false; attr=force_synchronous:bool,default=false; attr=metadata:string,default=\"\"> This may be expected if your graph generating binary is newer  than this binary. Unknown attributes will be ignored. NodeDef: {{node ParallelMapDatasetV2/_14}}\n"
     ]
    },
    {
     "name": "stdout",
     "output_type": "stream",
     "text": [
      "Running on valid trial = 94\n",
      "Epoch 1: loss 9.0768,\tloss_y 8.3139, 8.3477, 0.0675,\tloss_eta 0.7629, 0.7880, 0.0502\n",
      "Epoch 400: loss 1.0784,\tloss_y 0.5159, 1.1937, 1.3555,\tloss_eta 0.5625, 1.0467, 0.9683\n",
      "Warning: covariate dimension does not aligned with the specified input dimension; filling in the remaining dimension with noise.\n",
      "Warning: covariate dimension does not aligned with the specified input dimension; filling in the remaining dimension with noise.\n"
     ]
    },
    {
     "name": "stderr",
     "output_type": "stream",
     "text": [
      "INFO \t Training with 6 minibatches per epoch\n",
      "INFO \t Evaluating 1 minibatches\n"
     ]
    },
    {
     "name": "stdout",
     "output_type": "stream",
     "text": [
      "The average treatment effect (ATE) is 1.0078318\n",
      "Checking trial = 95\n"
     ]
    },
    {
     "name": "stderr",
     "output_type": "stream",
     "text": [
      "2025-04-26 18:45:11.650103: E tensorflow/core/framework/node_def_util.cc:676] NodeDef mentions attribute use_unbounded_threadpool which is not in the op definition: Op<name=MapDataset; signature=input_dataset:variant, other_arguments: -> handle:variant; attr=f:func; attr=Targuments:list(type),min=0; attr=output_types:list(type),min=1; attr=output_shapes:list(shape),min=1; attr=use_inter_op_parallelism:bool,default=true; attr=preserve_cardinality:bool,default=false; attr=force_synchronous:bool,default=false; attr=metadata:string,default=\"\"> This may be expected if your graph generating binary is newer  than this binary. Unknown attributes will be ignored. NodeDef: {{node ParallelMapDatasetV2/_14}}\n",
      "2025-04-26 18:45:11.650401: E tensorflow/core/framework/node_def_util.cc:676] NodeDef mentions attribute use_unbounded_threadpool which is not in the op definition: Op<name=MapDataset; signature=input_dataset:variant, other_arguments: -> handle:variant; attr=f:func; attr=Targuments:list(type),min=0; attr=output_types:list(type),min=1; attr=output_shapes:list(shape),min=1; attr=use_inter_op_parallelism:bool,default=true; attr=preserve_cardinality:bool,default=false; attr=force_synchronous:bool,default=false; attr=metadata:string,default=\"\"> This may be expected if your graph generating binary is newer  than this binary. Unknown attributes will be ignored. NodeDef: {{node ParallelMapDatasetV2/_14}}\n"
     ]
    },
    {
     "name": "stdout",
     "output_type": "stream",
     "text": [
      "Skipping trial 95 because y_factual > 20\n",
      "Checking trial = 96\n",
      "Running on valid trial = 96\n",
      "Epoch 1: loss 8.2941,\tloss_y 7.5365, 7.5682, 0.0634,\tloss_eta 0.7576, 0.7872, 0.0592\n",
      "Epoch 400: loss 1.0820,\tloss_y 0.5073, 1.2368, 1.4590,\tloss_eta 0.5747, 1.0020, 0.8545\n",
      "Warning: covariate dimension does not aligned with the specified input dimension; filling in the remaining dimension with noise.\n",
      "Warning: covariate dimension does not aligned with the specified input dimension; filling in the remaining dimension with noise.\n"
     ]
    },
    {
     "name": "stderr",
     "output_type": "stream",
     "text": [
      "INFO \t Training with 6 minibatches per epoch\n",
      "INFO \t Evaluating 1 minibatches\n"
     ]
    },
    {
     "name": "stdout",
     "output_type": "stream",
     "text": [
      "The average treatment effect (ATE) is 0.70001715\n",
      "Checking trial = 97\n"
     ]
    },
    {
     "name": "stderr",
     "output_type": "stream",
     "text": [
      "2025-04-26 18:47:09.841609: E tensorflow/core/framework/node_def_util.cc:676] NodeDef mentions attribute use_unbounded_threadpool which is not in the op definition: Op<name=MapDataset; signature=input_dataset:variant, other_arguments: -> handle:variant; attr=f:func; attr=Targuments:list(type),min=0; attr=output_types:list(type),min=1; attr=output_shapes:list(shape),min=1; attr=use_inter_op_parallelism:bool,default=true; attr=preserve_cardinality:bool,default=false; attr=force_synchronous:bool,default=false; attr=metadata:string,default=\"\"> This may be expected if your graph generating binary is newer  than this binary. Unknown attributes will be ignored. NodeDef: {{node ParallelMapDatasetV2/_14}}\n",
      "2025-04-26 18:47:09.841864: E tensorflow/core/framework/node_def_util.cc:676] NodeDef mentions attribute use_unbounded_threadpool which is not in the op definition: Op<name=MapDataset; signature=input_dataset:variant, other_arguments: -> handle:variant; attr=f:func; attr=Targuments:list(type),min=0; attr=output_types:list(type),min=1; attr=output_shapes:list(shape),min=1; attr=use_inter_op_parallelism:bool,default=true; attr=preserve_cardinality:bool,default=false; attr=force_synchronous:bool,default=false; attr=metadata:string,default=\"\"> This may be expected if your graph generating binary is newer  than this binary. Unknown attributes will be ignored. NodeDef: {{node ParallelMapDatasetV2/_14}}\n"
     ]
    },
    {
     "name": "stdout",
     "output_type": "stream",
     "text": [
      "Skipping trial 97 because y_factual > 20\n",
      "Checking trial = 98\n",
      "Skipping trial 98 because y_factual > 20\n",
      "Checking trial = 99\n",
      "Skipping trial 99 because y_factual > 20\n",
      "Checking trial = 100\n",
      "Skipping trial 100 because y_factual > 20\n",
      "Checking trial = 101\n",
      "Skipping trial 101 because y_factual > 20\n",
      "Checking trial = 102\n",
      "Running on valid trial = 102\n",
      "Epoch 1: loss 4.7951,\tloss_y 4.0369, 4.0578, 0.0418,\tloss_eta 0.7582, 0.7852, 0.0539\n",
      "Epoch 400: loss 0.9821,\tloss_y 0.4378, 0.9022, 0.9288,\tloss_eta 0.5443, 1.0637, 1.0388\n",
      "Warning: covariate dimension does not aligned with the specified input dimension; filling in the remaining dimension with noise.\n",
      "Warning: covariate dimension does not aligned with the specified input dimension; filling in the remaining dimension with noise.\n"
     ]
    },
    {
     "name": "stderr",
     "output_type": "stream",
     "text": [
      "INFO \t Training with 6 minibatches per epoch\n",
      "INFO \t Evaluating 1 minibatches\n"
     ]
    },
    {
     "name": "stdout",
     "output_type": "stream",
     "text": [
      "The average treatment effect (ATE) is 1.0805272\n",
      "Checking trial = 103\n"
     ]
    },
    {
     "name": "stderr",
     "output_type": "stream",
     "text": [
      "2025-04-26 18:48:58.612974: E tensorflow/core/framework/node_def_util.cc:676] NodeDef mentions attribute use_unbounded_threadpool which is not in the op definition: Op<name=MapDataset; signature=input_dataset:variant, other_arguments: -> handle:variant; attr=f:func; attr=Targuments:list(type),min=0; attr=output_types:list(type),min=1; attr=output_shapes:list(shape),min=1; attr=use_inter_op_parallelism:bool,default=true; attr=preserve_cardinality:bool,default=false; attr=force_synchronous:bool,default=false; attr=metadata:string,default=\"\"> This may be expected if your graph generating binary is newer  than this binary. Unknown attributes will be ignored. NodeDef: {{node ParallelMapDatasetV2/_14}}\n",
      "2025-04-26 18:48:58.613267: E tensorflow/core/framework/node_def_util.cc:676] NodeDef mentions attribute use_unbounded_threadpool which is not in the op definition: Op<name=MapDataset; signature=input_dataset:variant, other_arguments: -> handle:variant; attr=f:func; attr=Targuments:list(type),min=0; attr=output_types:list(type),min=1; attr=output_shapes:list(shape),min=1; attr=use_inter_op_parallelism:bool,default=true; attr=preserve_cardinality:bool,default=false; attr=force_synchronous:bool,default=false; attr=metadata:string,default=\"\"> This may be expected if your graph generating binary is newer  than this binary. Unknown attributes will be ignored. NodeDef: {{node ParallelMapDatasetV2/_14}}\n"
     ]
    },
    {
     "name": "stdout",
     "output_type": "stream",
     "text": [
      "Running on valid trial = 103\n",
      "Epoch 1: loss 11.3453,\tloss_y 10.5392, 10.5773, 0.0763,\tloss_eta 0.8061, 0.8383, 0.0644\n",
      "Epoch 400: loss 1.2838,\tloss_y 0.7028, 1.7857, 2.1658,\tloss_eta 0.5809, 1.1063, 1.0506\n",
      "Warning: covariate dimension does not aligned with the specified input dimension; filling in the remaining dimension with noise.\n",
      "Warning: covariate dimension does not aligned with the specified input dimension; filling in the remaining dimension with noise.\n"
     ]
    },
    {
     "name": "stderr",
     "output_type": "stream",
     "text": [
      "INFO \t Training with 6 minibatches per epoch\n",
      "INFO \t Evaluating 1 minibatches\n"
     ]
    },
    {
     "name": "stdout",
     "output_type": "stream",
     "text": [
      "The average treatment effect (ATE) is 0.7982681\n",
      "Checking trial = 104\n"
     ]
    },
    {
     "name": "stderr",
     "output_type": "stream",
     "text": [
      "2025-04-26 18:50:47.839506: E tensorflow/core/framework/node_def_util.cc:676] NodeDef mentions attribute use_unbounded_threadpool which is not in the op definition: Op<name=MapDataset; signature=input_dataset:variant, other_arguments: -> handle:variant; attr=f:func; attr=Targuments:list(type),min=0; attr=output_types:list(type),min=1; attr=output_shapes:list(shape),min=1; attr=use_inter_op_parallelism:bool,default=true; attr=preserve_cardinality:bool,default=false; attr=force_synchronous:bool,default=false; attr=metadata:string,default=\"\"> This may be expected if your graph generating binary is newer  than this binary. Unknown attributes will be ignored. NodeDef: {{node ParallelMapDatasetV2/_14}}\n",
      "2025-04-26 18:50:47.839777: E tensorflow/core/framework/node_def_util.cc:676] NodeDef mentions attribute use_unbounded_threadpool which is not in the op definition: Op<name=MapDataset; signature=input_dataset:variant, other_arguments: -> handle:variant; attr=f:func; attr=Targuments:list(type),min=0; attr=output_types:list(type),min=1; attr=output_shapes:list(shape),min=1; attr=use_inter_op_parallelism:bool,default=true; attr=preserve_cardinality:bool,default=false; attr=force_synchronous:bool,default=false; attr=metadata:string,default=\"\"> This may be expected if your graph generating binary is newer  than this binary. Unknown attributes will be ignored. NodeDef: {{node ParallelMapDatasetV2/_14}}\n"
     ]
    },
    {
     "name": "stdout",
     "output_type": "stream",
     "text": [
      "Skipping trial 104 because y_factual > 20\n",
      "Checking trial = 105\n",
      "Running on valid trial = 105\n",
      "Epoch 1: loss 7.5575,\tloss_y 6.7719, 6.7804, 0.0169,\tloss_eta 0.7855, 0.8140, 0.0570\n",
      "Epoch 400: loss 1.0151,\tloss_y 0.4688, 0.9898, 1.0421,\tloss_eta 0.5463, 1.0400, 0.9874\n",
      "Warning: covariate dimension does not aligned with the specified input dimension; filling in the remaining dimension with noise.\n",
      "Warning: covariate dimension does not aligned with the specified input dimension; filling in the remaining dimension with noise.\n"
     ]
    },
    {
     "name": "stderr",
     "output_type": "stream",
     "text": [
      "INFO \t Training with 6 minibatches per epoch\n",
      "INFO \t Evaluating 1 minibatches\n"
     ]
    },
    {
     "name": "stdout",
     "output_type": "stream",
     "text": [
      "The average treatment effect (ATE) is 0.7657838\n",
      "Checking trial = 106\n"
     ]
    },
    {
     "name": "stderr",
     "output_type": "stream",
     "text": [
      "2025-04-26 18:52:33.501005: E tensorflow/core/framework/node_def_util.cc:676] NodeDef mentions attribute use_unbounded_threadpool which is not in the op definition: Op<name=MapDataset; signature=input_dataset:variant, other_arguments: -> handle:variant; attr=f:func; attr=Targuments:list(type),min=0; attr=output_types:list(type),min=1; attr=output_shapes:list(shape),min=1; attr=use_inter_op_parallelism:bool,default=true; attr=preserve_cardinality:bool,default=false; attr=force_synchronous:bool,default=false; attr=metadata:string,default=\"\"> This may be expected if your graph generating binary is newer  than this binary. Unknown attributes will be ignored. NodeDef: {{node ParallelMapDatasetV2/_14}}\n",
      "2025-04-26 18:52:33.501298: E tensorflow/core/framework/node_def_util.cc:676] NodeDef mentions attribute use_unbounded_threadpool which is not in the op definition: Op<name=MapDataset; signature=input_dataset:variant, other_arguments: -> handle:variant; attr=f:func; attr=Targuments:list(type),min=0; attr=output_types:list(type),min=1; attr=output_shapes:list(shape),min=1; attr=use_inter_op_parallelism:bool,default=true; attr=preserve_cardinality:bool,default=false; attr=force_synchronous:bool,default=false; attr=metadata:string,default=\"\"> This may be expected if your graph generating binary is newer  than this binary. Unknown attributes will be ignored. NodeDef: {{node ParallelMapDatasetV2/_14}}\n"
     ]
    },
    {
     "name": "stdout",
     "output_type": "stream",
     "text": [
      "Running on valid trial = 106\n",
      "Epoch 1: loss 7.3050,\tloss_y 6.5093, 6.5207, 0.0230,\tloss_eta 0.7958, 0.8291, 0.0668\n",
      "Epoch 400: loss 1.1463,\tloss_y 0.5920, 1.3317, 1.4794,\tloss_eta 0.5543, 1.1000, 1.0913\n",
      "Warning: covariate dimension does not aligned with the specified input dimension; filling in the remaining dimension with noise.\n",
      "Warning: covariate dimension does not aligned with the specified input dimension; filling in the remaining dimension with noise.\n"
     ]
    },
    {
     "name": "stderr",
     "output_type": "stream",
     "text": [
      "INFO \t Training with 6 minibatches per epoch\n",
      "INFO \t Evaluating 1 minibatches\n"
     ]
    },
    {
     "name": "stdout",
     "output_type": "stream",
     "text": [
      "The average treatment effect (ATE) is 0.8495959\n",
      "Checking trial = 107\n"
     ]
    },
    {
     "name": "stderr",
     "output_type": "stream",
     "text": [
      "2025-04-26 18:54:23.673952: E tensorflow/core/framework/node_def_util.cc:676] NodeDef mentions attribute use_unbounded_threadpool which is not in the op definition: Op<name=MapDataset; signature=input_dataset:variant, other_arguments: -> handle:variant; attr=f:func; attr=Targuments:list(type),min=0; attr=output_types:list(type),min=1; attr=output_shapes:list(shape),min=1; attr=use_inter_op_parallelism:bool,default=true; attr=preserve_cardinality:bool,default=false; attr=force_synchronous:bool,default=false; attr=metadata:string,default=\"\"> This may be expected if your graph generating binary is newer  than this binary. Unknown attributes will be ignored. NodeDef: {{node ParallelMapDatasetV2/_14}}\n",
      "2025-04-26 18:54:23.674211: E tensorflow/core/framework/node_def_util.cc:676] NodeDef mentions attribute use_unbounded_threadpool which is not in the op definition: Op<name=MapDataset; signature=input_dataset:variant, other_arguments: -> handle:variant; attr=f:func; attr=Targuments:list(type),min=0; attr=output_types:list(type),min=1; attr=output_shapes:list(shape),min=1; attr=use_inter_op_parallelism:bool,default=true; attr=preserve_cardinality:bool,default=false; attr=force_synchronous:bool,default=false; attr=metadata:string,default=\"\"> This may be expected if your graph generating binary is newer  than this binary. Unknown attributes will be ignored. NodeDef: {{node ParallelMapDatasetV2/_14}}\n"
     ]
    },
    {
     "name": "stdout",
     "output_type": "stream",
     "text": [
      "Skipping trial 107 because y_factual > 20\n",
      "Checking trial = 108\n",
      "Skipping trial 108 because y_factual > 20\n",
      "Checking trial = 109\n",
      "Skipping trial 109 because y_factual > 20\n",
      "Checking trial = 110\n",
      "Skipping trial 110 because y_factual > 20\n",
      "Checking trial = 111\n",
      "Skipping trial 111 because y_factual > 20\n",
      "Checking trial = 112\n",
      "Skipping trial 112 because y_factual > 20\n",
      "Checking trial = 113\n",
      "Running on valid trial = 113\n",
      "Epoch 1: loss 4.8094,\tloss_y 4.0444, 4.0504, 0.0120,\tloss_eta 0.7650, 0.7892, 0.0483\n",
      "Epoch 400: loss 0.9931,\tloss_y 0.4378, 0.9271, 0.9784,\tloss_eta 0.5552, 1.0021, 0.8938\n",
      "Warning: covariate dimension does not aligned with the specified input dimension; filling in the remaining dimension with noise.\n",
      "Warning: covariate dimension does not aligned with the specified input dimension; filling in the remaining dimension with noise.\n"
     ]
    },
    {
     "name": "stderr",
     "output_type": "stream",
     "text": [
      "INFO \t Training with 6 minibatches per epoch\n",
      "INFO \t Evaluating 1 minibatches\n"
     ]
    },
    {
     "name": "stdout",
     "output_type": "stream",
     "text": [
      "The average treatment effect (ATE) is 1.2481616\n",
      "Checking trial = 114\n"
     ]
    },
    {
     "name": "stderr",
     "output_type": "stream",
     "text": [
      "2025-04-26 18:56:10.810925: E tensorflow/core/framework/node_def_util.cc:676] NodeDef mentions attribute use_unbounded_threadpool which is not in the op definition: Op<name=MapDataset; signature=input_dataset:variant, other_arguments: -> handle:variant; attr=f:func; attr=Targuments:list(type),min=0; attr=output_types:list(type),min=1; attr=output_shapes:list(shape),min=1; attr=use_inter_op_parallelism:bool,default=true; attr=preserve_cardinality:bool,default=false; attr=force_synchronous:bool,default=false; attr=metadata:string,default=\"\"> This may be expected if your graph generating binary is newer  than this binary. Unknown attributes will be ignored. NodeDef: {{node ParallelMapDatasetV2/_14}}\n",
      "2025-04-26 18:56:10.811214: E tensorflow/core/framework/node_def_util.cc:676] NodeDef mentions attribute use_unbounded_threadpool which is not in the op definition: Op<name=MapDataset; signature=input_dataset:variant, other_arguments: -> handle:variant; attr=f:func; attr=Targuments:list(type),min=0; attr=output_types:list(type),min=1; attr=output_shapes:list(shape),min=1; attr=use_inter_op_parallelism:bool,default=true; attr=preserve_cardinality:bool,default=false; attr=force_synchronous:bool,default=false; attr=metadata:string,default=\"\"> This may be expected if your graph generating binary is newer  than this binary. Unknown attributes will be ignored. NodeDef: {{node ParallelMapDatasetV2/_14}}\n"
     ]
    },
    {
     "name": "stdout",
     "output_type": "stream",
     "text": [
      "Skipping trial 114 because y_factual > 20\n",
      "Checking trial = 115\n",
      "Running on valid trial = 115\n",
      "Epoch 1: loss 6.2314,\tloss_y 5.4694, 5.4786, 0.0184,\tloss_eta 0.7620, 0.7820, 0.0398\n",
      "Epoch 400: loss 1.0376,\tloss_y 0.4918, 1.1272, 1.2709,\tloss_eta 0.5458, 1.0172, 0.9429\n",
      "Warning: covariate dimension does not aligned with the specified input dimension; filling in the remaining dimension with noise.\n",
      "Warning: covariate dimension does not aligned with the specified input dimension; filling in the remaining dimension with noise.\n"
     ]
    },
    {
     "name": "stderr",
     "output_type": "stream",
     "text": [
      "INFO \t Training with 6 minibatches per epoch\n",
      "INFO \t Evaluating 1 minibatches\n"
     ]
    },
    {
     "name": "stdout",
     "output_type": "stream",
     "text": [
      "The average treatment effect (ATE) is 0.816912\n",
      "Checking trial = 116\n"
     ]
    },
    {
     "name": "stderr",
     "output_type": "stream",
     "text": [
      "2025-04-26 18:57:58.910861: E tensorflow/core/framework/node_def_util.cc:676] NodeDef mentions attribute use_unbounded_threadpool which is not in the op definition: Op<name=MapDataset; signature=input_dataset:variant, other_arguments: -> handle:variant; attr=f:func; attr=Targuments:list(type),min=0; attr=output_types:list(type),min=1; attr=output_shapes:list(shape),min=1; attr=use_inter_op_parallelism:bool,default=true; attr=preserve_cardinality:bool,default=false; attr=force_synchronous:bool,default=false; attr=metadata:string,default=\"\"> This may be expected if your graph generating binary is newer  than this binary. Unknown attributes will be ignored. NodeDef: {{node ParallelMapDatasetV2/_14}}\n",
      "2025-04-26 18:57:58.911143: E tensorflow/core/framework/node_def_util.cc:676] NodeDef mentions attribute use_unbounded_threadpool which is not in the op definition: Op<name=MapDataset; signature=input_dataset:variant, other_arguments: -> handle:variant; attr=f:func; attr=Targuments:list(type),min=0; attr=output_types:list(type),min=1; attr=output_shapes:list(shape),min=1; attr=use_inter_op_parallelism:bool,default=true; attr=preserve_cardinality:bool,default=false; attr=force_synchronous:bool,default=false; attr=metadata:string,default=\"\"> This may be expected if your graph generating binary is newer  than this binary. Unknown attributes will be ignored. NodeDef: {{node ParallelMapDatasetV2/_14}}\n"
     ]
    },
    {
     "name": "stdout",
     "output_type": "stream",
     "text": [
      "Skipping trial 116 because y_factual > 20\n",
      "Checking trial = 117\n",
      "Skipping trial 117 because y_factual > 20\n",
      "Checking trial = 118\n",
      "Skipping trial 118 because y_factual > 20\n",
      "Checking trial = 119\n",
      "Skipping trial 119 because y_factual > 20\n",
      "Checking trial = 120\n",
      "Running on valid trial = 120\n",
      "Epoch 1: loss 6.2656,\tloss_y 5.4811, 5.4992, 0.0362,\tloss_eta 0.7845, 0.8033, 0.0377\n",
      "Epoch 400: loss 1.0095,\tloss_y 0.4146, 0.9762, 1.1233,\tloss_eta 0.5949, 1.0521, 0.9143\n",
      "Warning: covariate dimension does not aligned with the specified input dimension; filling in the remaining dimension with noise.\n",
      "Warning: covariate dimension does not aligned with the specified input dimension; filling in the remaining dimension with noise.\n"
     ]
    },
    {
     "name": "stderr",
     "output_type": "stream",
     "text": [
      "INFO \t Training with 6 minibatches per epoch\n",
      "INFO \t Evaluating 1 minibatches\n"
     ]
    },
    {
     "name": "stdout",
     "output_type": "stream",
     "text": [
      "The average treatment effect (ATE) is 0.8935405\n"
     ]
    },
    {
     "name": "stderr",
     "output_type": "stream",
     "text": [
      "2025-04-26 19:00:10.294492: E tensorflow/core/framework/node_def_util.cc:676] NodeDef mentions attribute use_unbounded_threadpool which is not in the op definition: Op<name=MapDataset; signature=input_dataset:variant, other_arguments: -> handle:variant; attr=f:func; attr=Targuments:list(type),min=0; attr=output_types:list(type),min=1; attr=output_shapes:list(shape),min=1; attr=use_inter_op_parallelism:bool,default=true; attr=preserve_cardinality:bool,default=false; attr=force_synchronous:bool,default=false; attr=metadata:string,default=\"\"> This may be expected if your graph generating binary is newer  than this binary. Unknown attributes will be ignored. NodeDef: {{node ParallelMapDatasetV2/_14}}\n",
      "2025-04-26 19:00:10.294801: E tensorflow/core/framework/node_def_util.cc:676] NodeDef mentions attribute use_unbounded_threadpool which is not in the op definition: Op<name=MapDataset; signature=input_dataset:variant, other_arguments: -> handle:variant; attr=f:func; attr=Targuments:list(type),min=0; attr=output_types:list(type),min=1; attr=output_shapes:list(shape),min=1; attr=use_inter_op_parallelism:bool,default=true; attr=preserve_cardinality:bool,default=false; attr=force_synchronous:bool,default=false; attr=metadata:string,default=\"\"> This may be expected if your graph generating binary is newer  than this binary. Unknown attributes will be ignored. NodeDef: {{node ParallelMapDatasetV2/_14}}\n"
     ]
    }
   ],
   "source": [
    "# Experiment parameters\n",
    "binary_intervention = True\n",
    "num_iters = 400\n",
    "p = 25\n",
    "z_binary_dims = 19\n",
    "path = '/Users/linyingyang/Documents/Project/frengression/frengression/data_causl'\n",
    "\n",
    "# Initialize tracker for valid trials\n",
    "\n",
    "valid_trials = 0\n",
    "max_trials = 50  # We want results from 50 valid trials\n",
    "trial = 0\n",
    "\n",
    "\n",
    "tracker = {\"fr\": [], \"dr\": [], \"causalegm\":[], \"tarnet\":[], \"cfrnet\":[], \"cevae\":[], \"dragonnet\":[]}\n",
    "best_hps = {model: None for model in [\"tarnet\",\"cfrnet\",\"cevae\",\"dragonnet\"]}\n",
    "\n",
    "while valid_trials < max_trials:\n",
    "    print(f\"Checking trial = {trial}\")\n",
    "    df_tr, df_te = process_data(path=path, trial=trial)\n",
    "\n",
    "    # Skip this trial if any y_factual in df_tr exceeds 20\n",
    "    if (df_tr['y_factual'] > 20).any():\n",
    "        print(f\"Skipping trial {trial} because y_factual > 20\")\n",
    "        trial += 1\n",
    "        continue\n",
    "\n",
    "    print(f\"Running on valid trial = {trial}\")\n",
    "    \n",
    "    # Prepare tensors for training\n",
    "    z_tr = torch.tensor(df_tr[[f\"X{i}\" for i in range(1, p + 1)]].values, dtype=torch.float32)\n",
    "    x_tr = torch.tensor(df_tr['treatment'].values, dtype=torch.float32).view(-1, 1)\n",
    "    y_tr = torch.tensor(df_tr['y_factual'].values, dtype=torch.float32).view(-1, 1)\n",
    "    ate_sample = torch.tensor(np.mean(df_tr['mu1'].values - df_tr['mu0'].values), dtype=torch.float32).view(-1, 1)\n",
    "    \n",
    "    # DR ATE estimation\n",
    "    z_tr_np = df_tr[[f\"X{i}\" for i in range(1, p + 1)]].values\n",
    "    x_tr_np = df_tr['treatment'].values\n",
    "    y_tr_np = df_tr['y_factual'].values\n",
    "\n",
    "    z_te_np = df_te[[f\"X{i}\" for i in range(1, p + 1)]].values\n",
    "    z_te = torch.tensor(df_te[[f\"X{i}\" for i in range(1, p + 1)]].values, dtype=torch.float32)\n",
    "    x_te_np = df_te['treatment'].values\n",
    "    y_te_np = df_te['y_factual'].values\n",
    "    hat_dr, _ = dr_ate(x_tr_np, y_tr_np, z_tr_np, x_te_np, y_te_np, z_te_np)\n",
    "\n",
    "    # Initialize Frengression model\n",
    "    model = Frengression(x_tr.shape[1], y_tr.shape[1], z_tr.shape[1], \n",
    "                         noise_dim=1, num_layer=3, hidden_dim=500, \n",
    "                         device=torch.device('cuda' if torch.cuda.is_available() else 'cpu'),\n",
    "                         x_binary=binary_intervention, z_binary_dims=0)\n",
    "    \n",
    "\n",
    "    model.train_y(x_tr, z_tr, y_tr, num_iters=400, lr=1e-4, print_every_iter=100)\n",
    "\n",
    "\n",
    "    # Sample model distributions\n",
    "    P0 = model.predict_causal(torch.tensor([0], dtype=torch.int32), sample_size=1000).numpy()\n",
    "    P1 = model.sample_causal_margin(torch.tensor([1], dtype=torch.int32), sample_size=1000).numpy().reshape(-1, 1)\n",
    "    ate_fr = np.mean(P1) - np.mean(P0)\n",
    "\n",
    "\n",
    "    # DR Estimation\n",
    "    ate_dr, _ = dr_ate(x_tr_np, y_tr_np, z_tr_np ,x_te_np, y_te_np, z_te_np)\n",
    "\n",
    "    for model in [\"tarnet\",\"cfrnet\",\"cevae\",\"dragonnet\"]:\n",
    "        if valid_trials == 0:\n",
    "            ite, best_hps[model] = tune_and_eval(\n",
    "                model,\n",
    "                z_tr_np, x_tr_np, y_tr_np,\n",
    "                z_tr_np, x_tr_np, y_tr_np,\n",
    "                z_te_np, x_te_np,y_te_np,\n",
    "                provided_params=None,\n",
    "                n_trials=20\n",
    "            )\n",
    "        else:\n",
    "            ite = tune_and_eval(\n",
    "                model,\n",
    "                z_tr_np, x_tr_np, y_tr_np,\n",
    "                z_tr_np, x_tr_np, y_tr_np,\n",
    "                z_te_np, x_te_np,y_te_np,\n",
    "                provided_params=best_hps[model]\n",
    "            )\n",
    "        tracker[model].append(ite.mean())\n",
    "\n",
    "\n",
    "    cegm_params = {'dataset': 'Semi_acic', \n",
    "                    'output_dir': '.', \n",
    "                    'v_dim': z_tr.shape[1], \n",
    "                    'z_dims': [1, 1, 1, 1], \n",
    "                    'lr': 0.0002, \n",
    "                    'alpha': 1, \n",
    "                    'beta': 1, \n",
    "                    'gamma': 10, \n",
    "                    'g_d_freq': 5, \n",
    "                    'g_units': [64, 64, 64, 64, 64], \n",
    "                    'e_units': [64, 64, 64, 64, 64], \n",
    "                    'f_units': [64, 32, 8], \n",
    "                    'h_units': [64, 32, 8], \n",
    "                    'dz_units': [64, 32, 8], \n",
    "                    'dv_units': [64, 32, 8], 'save_res': False, 'save_model': False, 'binary_treatment': True, 'use_z_rec': True, 'use_v_gan': True}\n",
    "    egm_model = cegm.CausalEGM(params=cegm_params, random_seed=42)\n",
    "    egm_model.train(data=[x_tr,y_tr,z_tr],n_iter=800, verbose=False)\n",
    "    ate_causalegm=egm_model.getCATE(z_te).mean()\n",
    "    tracker['causalegm'].append(ate_causalegm)\n",
    "    tracker['fr'].append(ate_fr)\n",
    "    tracker['dr'].append(ate_dr)\n",
    "\n",
    "    # Increment valid trials counter and move to the next trial\n",
    "    valid_trials += 1\n",
    "    trial += 1\n",
    "\n"
   ]
  },
  {
   "cell_type": "code",
   "execution_count": 247,
   "id": "8cda8d9f",
   "metadata": {},
   "outputs": [],
   "source": [
    "import json, os\n",
    "\n",
    "output_dir = \"result/binary\"\n",
    "os.makedirs(output_dir, exist_ok=True)\n",
    "\n",
    "# Convert each list of (possibly numpy) numbers into plain Python floats\n",
    "tracker_serializable = {\n",
    "    model: [float(x) for x in lst]\n",
    "    for model, lst in tracker.items()\n",
    "}\n",
    "\n",
    "with open(os.path.join(output_dir, \"ihdp.json\"), \"w\") as f:\n",
    "    json.dump(tracker_serializable, f, indent=4)\n"
   ]
  },
  {
   "cell_type": "code",
   "execution_count": 246,
   "id": "db703bb5",
   "metadata": {},
   "outputs": [
    {
     "data": {
      "text/plain": [
       "3.9843862"
      ]
     },
     "execution_count": 246,
     "metadata": {},
     "output_type": "execute_result"
    }
   ],
   "source": [
    "np.array(tracker['fr']).mean()"
   ]
  },
  {
   "cell_type": "code",
   "execution_count": 231,
   "id": "cb9f0cdc",
   "metadata": {},
   "outputs": [
    {
     "data": {
      "text/plain": [
       "3.998443755227415"
      ]
     },
     "execution_count": 231,
     "metadata": {},
     "output_type": "execute_result"
    }
   ],
   "source": [
    "np.array(tracker['dr']).mean()"
   ]
  },
  {
   "cell_type": "code",
   "execution_count": 232,
   "id": "b654253e",
   "metadata": {},
   "outputs": [
    {
     "data": {
      "text/plain": [
       "4.0953474"
      ]
     },
     "execution_count": 232,
     "metadata": {},
     "output_type": "execute_result"
    }
   ],
   "source": [
    "np.array(tracker['dragonnet']).mean()"
   ]
  },
  {
   "cell_type": "code",
   "execution_count": 242,
   "id": "7abf574a",
   "metadata": {},
   "outputs": [
    {
     "name": "stdout",
     "output_type": "stream",
     "text": [
      "Epoch 1: loss 6.0942,\tloss_y 5.3136, 5.3359, 0.0445,\tloss_eta 0.7806, 0.8070, 0.0528\n",
      "Epoch 100: loss 1.7600,\tloss_y 1.2007, 2.0666, 1.7318,\tloss_eta 0.5593, 1.0574, 0.9961\n",
      "Epoch 200: loss 1.2398,\tloss_y 0.7024, 1.5397, 1.6746,\tloss_eta 0.5374, 1.0438, 1.0129\n",
      "Epoch 300: loss 1.1299,\tloss_y 0.5241, 1.1548, 1.2613,\tloss_eta 0.6058, 1.0742, 0.9369\n",
      "Epoch 400: loss 1.0313,\tloss_y 0.4802, 0.9915, 1.0226,\tloss_eta 0.5511, 0.9981, 0.8939\n",
      "Warning: covariate dimension does not aligned with the specified input dimension; filling in the remaining dimension with noise.\n",
      "Warning: covariate dimension does not aligned with the specified input dimension; filling in the remaining dimension with noise.\n"
     ]
    },
    {
     "data": {
      "text/plain": [
       "4.643131"
      ]
     },
     "execution_count": 242,
     "metadata": {},
     "output_type": "execute_result"
    }
   ],
   "source": [
    "    # Initialize Frengression model\n",
    "    model = Frengression(x_tr.shape[1], y_tr.shape[1], z_tr.shape[1], \n",
    "                         noise_dim=1, num_layer=3, hidden_dim=500, \n",
    "                         device=torch.device('cuda' if torch.cuda.is_available() else 'cpu'),\n",
    "                         x_binary=binary_intervention, z_binary_dims=0)\n",
    "    \n",
    "\n",
    "    model.train_y(x_tr, z_tr, y_tr, num_iters=400, lr=1e-4, print_every_iter=100)\n",
    "\n",
    "\n",
    "    # Sample model distributions\n",
    "    P0 = model.predict_causal(torch.tensor([0], dtype=torch.int32), sample_size=1000).numpy()\n",
    "    P1 = model.sample_causal_margin(torch.tensor([1], dtype=torch.int32), sample_size=1000).numpy().reshape(-1, 1)\n",
    "    ate_fr = np.mean(P1) - np.mean(P0)\n",
    "\n",
    "    ate_fr"
   ]
  },
  {
   "cell_type": "code",
   "execution_count": null,
   "id": "90154e2d",
   "metadata": {},
   "outputs": [],
   "source": []
  }
 ],
 "metadata": {
  "kernelspec": {
   "display_name": "base",
   "language": "python",
   "name": "python3"
  },
  "language_info": {
   "codemirror_mode": {
    "name": "ipython",
    "version": 3
   },
   "file_extension": ".py",
   "mimetype": "text/x-python",
   "name": "python",
   "nbconvert_exporter": "python",
   "pygments_lexer": "ipython3",
   "version": "3.11.7"
  }
 },
 "nbformat": 4,
 "nbformat_minor": 5
}
