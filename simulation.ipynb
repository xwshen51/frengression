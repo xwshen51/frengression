{
 "cells": [
  {
   "cell_type": "code",
   "execution_count": 32,
   "metadata": {},
   "outputs": [],
   "source": [
    "import os\n",
    "os.chdir('/u/shenxi/frengression')\n",
    "from frengression import *\n",
    "import torch\n",
    "from torch import nn\n",
    "import matplotlib.pyplot as plt\n",
    "# from data_causl.data_causl import generate_data_causl\n",
    "\n",
    "device = torch.device('cuda:2')"
   ]
  },
  {
   "cell_type": "code",
   "execution_count": 26,
   "metadata": {},
   "outputs": [],
   "source": [
    "import importlib\n",
    "import frengression\n",
    "importlib.reload(frengression)\n",
    "from frengression import *"
   ]
  },
  {
   "cell_type": "code",
   "execution_count": 69,
   "metadata": {},
   "outputs": [],
   "source": [
    "n = 10000\n",
    "z = torch.randn(n, 1)\n",
    "x = z + torch.randn(n, 1)\n",
    "y = (2*x + torch.randn(n, 1)).pow(2)"
   ]
  },
  {
   "cell_type": "code",
   "execution_count": 70,
   "metadata": {},
   "outputs": [],
   "source": [
    "x = x.to(device)\n",
    "y = y.to(device)\n",
    "z = z.to(device)"
   ]
  },
  {
   "cell_type": "code",
   "execution_count": 71,
   "metadata": {},
   "outputs": [],
   "source": [
    "model = Frengression(1, 1, 1, noise_dim=1, num_layer=3, hidden_dim=400, device=device)"
   ]
  },
  {
   "cell_type": "code",
   "execution_count": 72,
   "metadata": {},
   "outputs": [
    {
     "name": "stdout",
     "output_type": "stream",
     "text": [
      "Epoch 1: loss 1.3945, loss1 1.4763, loss2 0.1635\n",
      "Epoch 100: loss 1.0436, loss1 2.0810, loss2 2.0746\n",
      "Epoch 200: loss 1.0247, loss1 2.0756, loss2 2.1019\n",
      "Epoch 300: loss 1.0511, loss1 2.0664, loss2 2.0306\n",
      "Epoch 400: loss 1.0359, loss1 2.0677, loss2 2.0638\n",
      "Epoch 500: loss 1.0495, loss1 2.0842, loss2 2.0694\n"
     ]
    }
   ],
   "source": [
    "model.train_xz(x, z, num_iters=500, print_every_iter=100)"
   ]
  },
  {
   "cell_type": "code",
   "execution_count": 73,
   "metadata": {},
   "outputs": [
    {
     "name": "stdout",
     "output_type": "stream",
     "text": [
      "Epoch 1: loss 9.5523, loss_y 8.7810, 8.8111, 0.0601,                      loss_eta 0.7713, 0.7974, 0.0523\n",
      "Epoch 100: loss 6.0413, loss_y 5.2490, 7.0661, 3.6344,                      loss_eta 0.7923, 2.1082, 2.6317\n",
      "Epoch 200: loss 4.6899, loss_y 3.6893, 6.7079, 6.0373,                      loss_eta 1.0006, 2.2154, 2.4295\n",
      "Epoch 300: loss 4.4769, loss_y 3.7073, 8.5396, 9.6646,                      loss_eta 0.7696, 2.2751, 3.0110\n",
      "Epoch 400: loss 3.8925, loss_y 3.2266, 5.9362, 5.4193,                      loss_eta 0.6659, 1.5863, 1.8409\n",
      "Epoch 500: loss 6.3200, loss_y 5.6655, 6.4633, 1.5957,                      loss_eta 0.6545, 1.3060, 1.3030\n",
      "Epoch 600: loss 4.5758, loss_y 3.8945, 5.8952, 4.0016,                      loss_eta 0.6814, 1.6178, 1.8729\n",
      "Epoch 700: loss 5.0751, loss_y 4.4792, 8.4665, 7.9745,                      loss_eta 0.5958, 1.3788, 1.5659\n",
      "Epoch 800: loss 3.6022, loss_y 2.8943, 5.8994, 6.0101,                      loss_eta 0.7078, 0.9546, 0.4936\n",
      "Epoch 900: loss 4.2506, loss_y 3.6228, 6.0541, 4.8625,                      loss_eta 0.6278, 0.9873, 0.7191\n",
      "Epoch 1000: loss 3.4934, loss_y 2.9076, 6.4985, 7.1819,                      loss_eta 0.5858, 1.2572, 1.3428\n",
      "Epoch 1100: loss 4.2699, loss_y 3.6532, 9.2952, 11.2841,                      loss_eta 0.6168, 1.6663, 2.0991\n",
      "Epoch 1200: loss 3.5210, loss_y 2.9008, 7.3768, 8.9519,                      loss_eta 0.6202, 1.7600, 2.2796\n",
      "Epoch 1300: loss 4.0317, loss_y 3.4174, 6.2333, 5.6318,                      loss_eta 0.6143, 1.7764, 2.3243\n",
      "Epoch 1400: loss 3.8048, loss_y 3.1957, 5.9683, 5.5452,                      loss_eta 0.6091, 1.5372, 1.8563\n",
      "Epoch 1500: loss 3.4099, loss_y 2.8192, 6.6547, 7.6711,                      loss_eta 0.5907, 1.2275, 1.2736\n",
      "Epoch 1600: loss 3.9361, loss_y 3.3137, 7.5265, 8.4256,                      loss_eta 0.6224, 1.1742, 1.1035\n",
      "Epoch 1700: loss 3.4413, loss_y 2.8268, 6.0931, 6.5327,                      loss_eta 0.6145, 1.3144, 1.3998\n",
      "Epoch 1800: loss 3.5466, loss_y 2.9577, 5.2929, 4.6705,                      loss_eta 0.5890, 1.5331, 1.8882\n",
      "Epoch 1900: loss 3.6752, loss_y 3.0739, 5.2519, 4.3559,                      loss_eta 0.6013, 1.6948, 2.1870\n",
      "Epoch 2000: loss 3.4594, loss_y 2.8422, 5.5642, 5.4439,                      loss_eta 0.6171, 1.9065, 2.5787\n"
     ]
    }
   ],
   "source": [
    "model.train_y(x, z, y, num_iters=2000, lr=1e-4, print_every_iter=100)"
   ]
  },
  {
   "cell_type": "code",
   "execution_count": 66,
   "metadata": {},
   "outputs": [
    {
     "name": "stdout",
     "output_type": "stream",
     "text": [
      "Epoch 1: loss 0.9356, loss_y 0.3486, 0.6666, 0.6358,                      loss_eta 0.5869, 1.3315, 1.4893\n",
      "Epoch 100: loss 0.8541, loss_y 0.2920, 0.6572, 0.7305,                      loss_eta 0.5621, 1.2166, 1.3090\n",
      "Epoch 200: loss 0.9051, loss_y 0.3184, 0.6627, 0.6886,                      loss_eta 0.5867, 1.1439, 1.1144\n",
      "Epoch 300: loss 0.8747, loss_y 0.3028, 0.5573, 0.5090,                      loss_eta 0.5719, 1.1237, 1.1037\n",
      "Epoch 400: loss 0.8806, loss_y 0.3026, 0.5400, 0.4747,                      loss_eta 0.5780, 1.1475, 1.1390\n",
      "Epoch 500: loss 0.8897, loss_y 0.3142, 0.6330, 0.6375,                      loss_eta 0.5755, 1.1726, 1.1941\n",
      "Epoch 600: loss 0.8603, loss_y 0.2885, 0.6351, 0.6931,                      loss_eta 0.5718, 1.2110, 1.2785\n",
      "Epoch 700: loss 0.9075, loss_y 0.3394, 0.6308, 0.5827,                      loss_eta 0.5681, 1.2422, 1.3481\n",
      "Epoch 800: loss 0.8621, loss_y 0.2955, 0.6228, 0.6546,                      loss_eta 0.5667, 1.1529, 1.1725\n",
      "Epoch 900: loss 0.9116, loss_y 0.3375, 0.7125, 0.7500,                      loss_eta 0.5741, 1.0569, 0.9655\n",
      "Epoch 1000: loss 0.8612, loss_y 0.2974, 0.6297, 0.6645,                      loss_eta 0.5638, 1.0714, 1.0153\n"
     ]
    }
   ],
   "source": [
    "model.train_y(x, z, y, num_iters=1000, lr=1e-4, print_every_iter=100)"
   ]
  },
  {
   "cell_type": "code",
   "execution_count": 74,
   "metadata": {},
   "outputs": [],
   "source": [
    "n_te = 1000\n",
    "z_te = torch.randn(n_te, 1)\n",
    "x_te = z_te + torch.randn(n_te, 1)\n",
    "y_te = (2*x_te + torch.randn(n_te, 1))**2"
   ]
  },
  {
   "cell_type": "code",
   "execution_count": 75,
   "metadata": {},
   "outputs": [
    {
     "name": "stdout",
     "output_type": "stream",
     "text": [
      "Warning: covariate dimension does not aligned with the specified input dimension; filling in the remaining dimension with noise.\n"
     ]
    }
   ],
   "source": [
    "y_pred_causal = model.predict_causal(x_te, sample_size=1000)"
   ]
  },
  {
   "cell_type": "code",
   "execution_count": 76,
   "metadata": {},
   "outputs": [
    {
     "data": {
      "image/png": "[encoded data removed]",
      "text/plain": [
       "<Figure size 640x480 with 1 Axes>"
      ]
     },
     "metadata": {},
     "output_type": "display_data"
    }
   ],
   "source": [
    "plt.scatter(x_te, y_te, s=1, label='true')\n",
    "plt.scatter(x_te, y_pred_causal.cpu(), s=1, label='pred')\n",
    "plt.legend(); plt.show()"
   ]
  },
  {
   "cell_type": "code",
   "execution_count": null,
   "metadata": {},
   "outputs": [],
   "source": []
  }
 ],
 "metadata": {
  "kernelspec": {
   "display_name": "Python 3",
   "language": "python",
   "name": "python3"
  },
  "language_info": {
   "codemirror_mode": {
    "name": "ipython",
    "version": 3
   },
   "file_extension": ".py",
   "mimetype": "text/x-python",
   "name": "python",
   "nbconvert_exporter": "python",
   "pygments_lexer": "ipython3",
   "version": "3.12.7"
  }
 },
 "nbformat": 4,
 "nbformat_minor": 2
}
