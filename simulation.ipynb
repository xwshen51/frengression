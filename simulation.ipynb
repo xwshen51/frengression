{
 "cells": [
  {
   "cell_type": "code",
   "execution_count": 1,
   "metadata": {},
   "outputs": [],
   "source": [
    "import importlib\n",
    "import frengression\n",
    "# importlib.reload(frengression)\n",
    "from data_causl.data_causl import *\n",
    "from frengression import *\n",
    "device = torch.device('cpu')\n",
    "\n",
    "import numpy as np\n",
    "import jax.numpy as jnp\n",
    "import pickle\n",
    "import os\n",
    "from tqdm import tqdm\n",
    "# import src.exp_utils as exp_utils\n",
    "\n",
    "from matplotlib import pyplot as plt\n",
    "\n",
    "\n",
    "np.random.seed(2024)\n",
    "n_tr = 1000\n",
    "n_p = 1000\n",
    "\n",
    "nI = 0\n",
    "nX = 1\n",
    "nO = 0\n",
    "nS= 0\n",
    "p = nI+nX+nO+nS\n",
    "ate = 2\n",
    "beta_cov = 0\n",
    "strength_instr = 1\n",
    "strength_conf = 1\n",
    "strength_outcome = 1\n",
    "binary_intervention=True\n"
   ]
  },
  {
   "cell_type": "markdown",
   "metadata": {},
   "source": [
    "# Evaluate Y|do(X)\n",
    "We mainly compare causal margin under binary treatments. P0, P1 store Ys sampled from fitted frengression under control and treatment, respectively. Q0, Q1 store Ys sampled from true Y|do(X) under control and treatment, respectively."
   ]
  },
  {
   "cell_type": "markdown",
   "metadata": {},
   "source": [
    "## when training size = 1000"
   ]
  },
  {
   "cell_type": "code",
   "execution_count": null,
   "metadata": {},
   "outputs": [
    {
     "name": "stderr",
     "output_type": "stream",
     "text": [
      "  0%|          | 0/10 [00:00<?, ?it/s]"
     ]
    },
    {
     "name": "stdout",
     "output_type": "stream",
     "text": [
      "Epoch 1: loss 0.9330, loss1 0.9953, loss2 0.1246\n",
      "Epoch 100: loss 0.6805, loss1 1.3548, loss2 1.3486\n",
      "Epoch 200: loss 0.6790, loss1 1.3306, loss2 1.3032\n",
      "Epoch 300: loss 0.6830, loss1 1.3249, loss2 1.2838\n",
      "Epoch 400: loss 0.7049, loss1 1.3576, loss2 1.3054\n",
      "Epoch 500: loss 0.6700, loss1 1.2692, loss2 1.1983\n",
      "Epoch 1: loss 2.1403,\tloss_y 1.3711, 1.3929, 0.0434,\tloss_eta 0.7692, 0.8039, 0.0694\n",
      "Epoch 100: loss 1.2404,\tloss_y 0.6389, 1.6720, 2.0662,\tloss_eta 0.6015, 1.0105, 0.8181\n",
      "Epoch 200: loss 1.1623,\tloss_y 0.5270, 0.9345, 0.8149,\tloss_eta 0.6353, 0.8768, 0.4829\n",
      "Epoch 300: loss 1.2771,\tloss_y 0.7224, 1.3178, 1.1907,\tloss_eta 0.5547, 1.0209, 0.9324\n",
      "Epoch 400: loss 1.2047,\tloss_y 0.6291, 1.3598, 1.4614,\tloss_eta 0.5757, 1.0912, 1.0310\n",
      "Epoch 500: loss 1.1577,\tloss_y 0.5479, 1.4510, 1.8062,\tloss_eta 0.6098, 1.3124, 1.4052\n",
      "Epoch 600: loss 1.4717,\tloss_y 0.7020, 0.9792, 0.5543,\tloss_eta 0.7697, 1.3411, 1.1427\n",
      "Epoch 700: loss 1.3246,\tloss_y 0.6768, 0.8329, 0.3122,\tloss_eta 0.6479, 0.8628, 0.4299\n",
      "Epoch 800: loss 1.4210,\tloss_y 0.7318, 1.0377, 0.6118,\tloss_eta 0.6892, 0.8549, 0.3315\n",
      "Epoch 900: loss 1.3180,\tloss_y 0.6984, 1.0874, 0.7781,\tloss_eta 0.6196, 0.9247, 0.6103\n"
     ]
    },
    {
     "name": "stderr",
     "output_type": "stream",
     "text": [
      " 10%|█         | 1/10 [00:14<02:06, 14.05s/it]"
     ]
    },
    {
     "name": "stdout",
     "output_type": "stream",
     "text": [
      "Epoch 1000: loss 1.1857,\tloss_y 0.6028, 1.5448, 1.8841,\tloss_eta 0.5829, 1.0969, 1.0281\n",
      "Warning: covariate dimension does not aligned with the specified input dimension; filling in the remaining dimension with noise.\n",
      "Warning: covariate dimension does not aligned with the specified input dimension; filling in the remaining dimension with noise.\n",
      "Epoch 1: loss 0.9699, loss1 0.9917, loss2 0.0436\n",
      "Epoch 100: loss 0.6537, loss1 1.3095, loss2 1.3117\n",
      "Epoch 200: loss 0.6770, loss1 1.3191, loss2 1.2842\n",
      "Epoch 300: loss 0.6966, loss1 1.3255, loss2 1.2578\n",
      "Epoch 400: loss 0.6849, loss1 1.3027, loss2 1.2355\n",
      "Epoch 500: loss 0.6749, loss1 1.3892, loss2 1.4286\n",
      "Epoch 1: loss 2.3165,\tloss_y 1.5303, 1.5531, 0.0457,\tloss_eta 0.7862, 0.8227, 0.0731\n",
      "Epoch 100: loss 1.2107,\tloss_y 0.6175, 1.6024, 1.9698,\tloss_eta 0.5932, 1.0546, 0.9229\n",
      "Epoch 200: loss 1.4229,\tloss_y 0.6074, 0.9485, 0.6823,\tloss_eta 0.8155, 0.9493, 0.2675\n",
      "Epoch 300: loss 1.2944,\tloss_y 0.6058, 1.3575, 1.5034,\tloss_eta 0.6886, 0.8284, 0.2797\n",
      "Epoch 400: loss 1.2872,\tloss_y 0.6590, 1.7318, 2.1457,\tloss_eta 0.6282, 0.9636, 0.6709\n",
      "Epoch 500: loss 1.4703,\tloss_y 0.8788, 1.2548, 0.7520,\tloss_eta 0.5915, 1.2695, 1.3559\n",
      "Epoch 600: loss 1.4312,\tloss_y 0.7055, 1.4771, 1.5431,\tloss_eta 0.7257, 1.6831, 1.9148\n",
      "Epoch 700: loss 1.2396,\tloss_y 0.6534, 1.4551, 1.6035,\tloss_eta 0.5862, 1.0628, 0.9533\n",
      "Epoch 800: loss 1.2750,\tloss_y 0.6408, 1.5380, 1.7944,\tloss_eta 0.6342, 0.8283, 0.3883\n",
      "Epoch 900: loss 1.3751,\tloss_y 0.6682, 1.0329, 0.7294,\tloss_eta 0.7069, 0.9067, 0.3996\n"
     ]
    },
    {
     "name": "stderr",
     "output_type": "stream",
     "text": [
      " 20%|██        | 2/10 [00:27<01:47, 13.42s/it]"
     ]
    },
    {
     "name": "stdout",
     "output_type": "stream",
     "text": [
      "Epoch 1000: loss 1.2049,\tloss_y 0.5640, 1.1684, 1.2087,\tloss_eta 0.6408, 1.0224, 0.7631\n",
      "Warning: covariate dimension does not aligned with the specified input dimension; filling in the remaining dimension with noise.\n",
      "Warning: covariate dimension does not aligned with the specified input dimension; filling in the remaining dimension with noise.\n",
      "Epoch 1: loss 0.9655, loss1 0.9972, loss2 0.0633\n",
      "Epoch 100: loss 0.6567, loss1 1.3310, loss2 1.3485\n",
      "Epoch 200: loss 0.6804, loss1 1.3952, loss2 1.4295\n",
      "Epoch 300: loss 0.6639, loss1 1.3306, loss2 1.3334\n",
      "Epoch 400: loss 0.6649, loss1 1.3095, loss2 1.2892\n",
      "Epoch 500: loss 0.6751, loss1 1.2941, loss2 1.2381\n",
      "Epoch 1: loss 2.1008,\tloss_y 1.3476, 1.3716, 0.0479,\tloss_eta 0.7531, 0.8043, 0.1023\n",
      "Epoch 100: loss 1.3155,\tloss_y 0.6570, 1.7063, 2.0987,\tloss_eta 0.6585, 0.8397, 0.3623\n",
      "Epoch 200: loss 1.1896,\tloss_y 0.5633, 0.9321, 0.7377,\tloss_eta 0.6263, 1.1212, 0.9897\n",
      "Epoch 300: loss 1.4877,\tloss_y 0.9073, 1.3975, 0.9803,\tloss_eta 0.5803, 1.3630, 1.5653\n",
      "Epoch 400: loss 1.1781,\tloss_y 0.5451, 1.1394, 1.1885,\tloss_eta 0.6330, 1.1080, 0.9501\n",
      "Epoch 500: loss 1.4345,\tloss_y 0.8677, 1.4301, 1.1247,\tloss_eta 0.5669, 1.1818, 1.2299\n",
      "Epoch 600: loss 1.5857,\tloss_y 0.8914, 2.2884, 2.7941,\tloss_eta 0.6943, 1.2581, 1.1277\n",
      "Epoch 700: loss 1.2929,\tloss_y 0.6981, 1.3347, 1.2732,\tloss_eta 0.5948, 1.1762, 1.1628\n",
      "Epoch 800: loss 1.3461,\tloss_y 0.7789, 1.1874, 0.8169,\tloss_eta 0.5672, 1.1236, 1.1129\n",
      "Epoch 900: loss 1.1743,\tloss_y 0.5870, 1.3858, 1.5977,\tloss_eta 0.5874, 1.1904, 1.2061\n"
     ]
    },
    {
     "name": "stderr",
     "output_type": "stream",
     "text": [
      " 30%|███       | 3/10 [00:39<01:31, 13.14s/it]"
     ]
    },
    {
     "name": "stdout",
     "output_type": "stream",
     "text": [
      "Epoch 1000: loss 1.3008,\tloss_y 0.7034, 1.6733, 1.9398,\tloss_eta 0.5973, 1.2986, 1.4026\n",
      "Warning: covariate dimension does not aligned with the specified input dimension; filling in the remaining dimension with noise.\n",
      "Warning: covariate dimension does not aligned with the specified input dimension; filling in the remaining dimension with noise.\n",
      "Epoch 1: loss 0.9574, loss1 1.0073, loss2 0.0997\n",
      "Epoch 100: loss 0.6573, loss1 1.3105, loss2 1.3064\n",
      "Epoch 200: loss 0.6801, loss1 1.3319, loss2 1.3037\n",
      "Epoch 300: loss 0.6850, loss1 1.3489, loss2 1.3277\n",
      "Epoch 400: loss 0.6843, loss1 1.3749, loss2 1.3811\n",
      "Epoch 500: loss 0.6963, loss1 1.3805, loss2 1.3684\n",
      "Epoch 1: loss 2.1914,\tloss_y 1.4479, 1.4677, 0.0397,\tloss_eta 0.7436, 0.7696, 0.0520\n",
      "Epoch 100: loss 1.4270,\tloss_y 0.7917, 1.8958, 2.2082,\tloss_eta 0.6353, 0.9730, 0.6754\n",
      "Epoch 200: loss 1.6112,\tloss_y 0.9307, 1.3116, 0.7618,\tloss_eta 0.6805, 1.0262, 0.6914\n",
      "Epoch 300: loss 1.3830,\tloss_y 0.7049, 1.4774, 1.5451,\tloss_eta 0.6781, 1.2058, 1.0554\n",
      "Epoch 400: loss 1.3334,\tloss_y 0.6712, 1.2761, 1.2099,\tloss_eta 0.6622, 0.9203, 0.5162\n",
      "Epoch 500: loss 1.2484,\tloss_y 0.5643, 1.3512, 1.5739,\tloss_eta 0.6841, 1.3857, 1.4032\n",
      "Epoch 600: loss 1.3435,\tloss_y 0.6061, 1.2121, 1.2119,\tloss_eta 0.7374, 1.1828, 0.8910\n",
      "Epoch 700: loss 1.3149,\tloss_y 0.6694, 1.4162, 1.4936,\tloss_eta 0.6454, 0.8827, 0.4745\n",
      "Epoch 800: loss 1.3507,\tloss_y 0.7637, 1.2323, 0.9372,\tloss_eta 0.5870, 0.9865, 0.7989\n",
      "Epoch 900: loss 1.5753,\tloss_y 0.9412, 2.0283, 2.1741,\tloss_eta 0.6340, 1.1921, 1.1161\n"
     ]
    },
    {
     "name": "stderr",
     "output_type": "stream",
     "text": [
      " 40%|████      | 4/10 [00:53<01:19, 13.22s/it]"
     ]
    },
    {
     "name": "stdout",
     "output_type": "stream",
     "text": [
      "Epoch 1000: loss 1.2445,\tloss_y 0.6269, 1.2109, 1.1680,\tloss_eta 0.6175, 0.9362, 0.6373\n",
      "Warning: covariate dimension does not aligned with the specified input dimension; filling in the remaining dimension with noise.\n",
      "Warning: covariate dimension does not aligned with the specified input dimension; filling in the remaining dimension with noise.\n",
      "Epoch 1: loss 0.9959, loss1 1.0251, loss2 0.0585\n",
      "Epoch 100: loss 0.6831, loss1 1.2929, loss2 1.2196\n",
      "Epoch 200: loss 0.7100, loss1 1.4151, loss2 1.4102\n",
      "Epoch 300: loss 0.7006, loss1 1.4108, loss2 1.4204\n",
      "Epoch 400: loss 0.6872, loss1 1.3164, loss2 1.2586\n",
      "Epoch 500: loss 0.6764, loss1 1.3273, loss2 1.3017\n",
      "Epoch 1: loss 2.2597,\tloss_y 1.5079, 1.5237, 0.0316,\tloss_eta 0.7518, 0.7786, 0.0535\n",
      "Epoch 100: loss 1.2574,\tloss_y 0.6569, 1.6052, 1.8966,\tloss_eta 0.6006, 0.9082, 0.6152\n",
      "Epoch 200: loss 1.1409,\tloss_y 0.5464, 0.9423, 0.7917,\tloss_eta 0.5944, 0.9931, 0.7973\n",
      "Epoch 300: loss 2.0977,\tloss_y 1.4666, 2.5718, 2.2103,\tloss_eta 0.6311, 1.2787, 1.2952\n",
      "Epoch 400: loss 1.9167,\tloss_y 1.1871, 1.4697, 0.5653,\tloss_eta 0.7296, 1.4087, 1.3582\n",
      "Epoch 500: loss 1.3781,\tloss_y 0.7542, 1.3559, 1.2035,\tloss_eta 0.6239, 0.8664, 0.4850\n",
      "Epoch 600: loss 1.4471,\tloss_y 0.7357, 1.5092, 1.5471,\tloss_eta 0.7114, 1.0168, 0.6108\n",
      "Epoch 700: loss 1.4524,\tloss_y 0.7391, 1.1368, 0.7954,\tloss_eta 0.7133, 1.1145, 0.8024\n",
      "Epoch 800: loss 1.3909,\tloss_y 0.7127, 1.1146, 0.8038,\tloss_eta 0.6782, 1.0044, 0.6523\n",
      "Epoch 900: loss 1.3182,\tloss_y 0.6082, 1.3246, 1.4328,\tloss_eta 0.7100, 0.9335, 0.4470\n"
     ]
    },
    {
     "name": "stderr",
     "output_type": "stream",
     "text": [
      " 50%|█████     | 5/10 [01:07<01:08, 13.62s/it]"
     ]
    },
    {
     "name": "stdout",
     "output_type": "stream",
     "text": [
      "Epoch 1000: loss 1.3414,\tloss_y 0.6783, 1.6092, 1.8617,\tloss_eta 0.6631, 0.9803, 0.6344\n",
      "Warning: covariate dimension does not aligned with the specified input dimension; filling in the remaining dimension with noise.\n",
      "Warning: covariate dimension does not aligned with the specified input dimension; filling in the remaining dimension with noise.\n",
      "Epoch 1: loss 0.9275, loss1 0.9741, loss2 0.0933\n",
      "Epoch 100: loss 0.6779, loss1 1.2980, loss2 1.2402\n",
      "Epoch 200: loss 0.6898, loss1 1.3279, loss2 1.2762\n",
      "Epoch 300: loss 0.6565, loss1 1.3469, loss2 1.3807\n",
      "Epoch 400: loss 0.6525, loss1 1.2902, loss2 1.2755\n",
      "Epoch 500: loss 0.6664, loss1 1.3133, loss2 1.2940\n",
      "Epoch 1: loss 2.2046,\tloss_y 1.4419, 1.4499, 0.0159,\tloss_eta 0.7626, 0.7925, 0.0598\n",
      "Epoch 100: loss 1.3743,\tloss_y 0.6942, 0.8890, 0.3896,\tloss_eta 0.6801, 1.1276, 0.8950\n",
      "Epoch 200: loss 1.3968,\tloss_y 0.6962, 1.1882, 0.9841,\tloss_eta 0.7006, 0.9061, 0.4109\n",
      "Epoch 300: loss 1.5420,\tloss_y 0.9447, 1.2424, 0.5953,\tloss_eta 0.5973, 0.9284, 0.6623\n",
      "Epoch 400: loss 1.2908,\tloss_y 0.7088, 1.4221, 1.4266,\tloss_eta 0.5820, 1.1629, 1.1618\n",
      "Epoch 500: loss 1.3469,\tloss_y 0.7884, 2.2273, 2.8778,\tloss_eta 0.5585, 1.3524, 1.5878\n",
      "Epoch 600: loss 1.2967,\tloss_y 0.6984, 1.6840, 1.9712,\tloss_eta 0.5983, 0.8879, 0.5792\n",
      "Epoch 700: loss 1.2744,\tloss_y 0.6857, 1.2181, 1.0648,\tloss_eta 0.5887, 1.1718, 1.1661\n",
      "Epoch 800: loss 1.4374,\tloss_y 0.8515, 1.3675, 1.0320,\tloss_eta 0.5859, 1.4696, 1.7672\n",
      "Epoch 900: loss 1.3224,\tloss_y 0.7268, 1.0046, 0.5555,\tloss_eta 0.5955, 1.4221, 1.6531\n"
     ]
    },
    {
     "name": "stderr",
     "output_type": "stream",
     "text": [
      " 60%|██████    | 6/10 [01:20<00:54, 13.50s/it]"
     ]
    },
    {
     "name": "stdout",
     "output_type": "stream",
     "text": [
      "Epoch 1000: loss 1.2901,\tloss_y 0.6846, 1.0182, 0.6670,\tloss_eta 0.6054, 1.4687, 1.7265\n",
      "Warning: covariate dimension does not aligned with the specified input dimension; filling in the remaining dimension with noise.\n",
      "Warning: covariate dimension does not aligned with the specified input dimension; filling in the remaining dimension with noise.\n",
      "Epoch 1: loss 0.9612, loss1 0.9967, loss2 0.0709\n",
      "Epoch 100: loss 0.6747, loss1 1.4139, loss2 1.4783\n",
      "Epoch 200: loss 0.6854, loss1 1.3549, loss2 1.3390\n",
      "Epoch 300: loss 0.6886, loss1 1.3802, loss2 1.3833\n",
      "Epoch 400: loss 0.6776, loss1 1.3877, loss2 1.4202\n",
      "Epoch 500: loss 0.6765, loss1 1.3457, loss2 1.3384\n",
      "Epoch 1: loss 2.2684,\tloss_y 1.5217, 1.5283, 0.0133,\tloss_eta 0.7467, 0.7990, 0.1046\n",
      "Epoch 100: loss 1.2811,\tloss_y 0.6843, 1.3948, 1.4209,\tloss_eta 0.5968, 1.1969, 1.2003\n",
      "Epoch 200: loss 1.3352,\tloss_y 0.6280, 1.5177, 1.7794,\tloss_eta 0.7072, 0.8311, 0.2478\n",
      "Epoch 300: loss 1.3494,\tloss_y 0.6636, 0.9370, 0.5467,\tloss_eta 0.6858, 0.9203, 0.4689\n",
      "Epoch 400: loss 1.1209,\tloss_y 0.5038, 1.1547, 1.3018,\tloss_eta 0.6171, 0.8758, 0.5174\n",
      "Epoch 500: loss 1.2371,\tloss_y 0.6675, 1.2189, 1.1027,\tloss_eta 0.5696, 1.0557, 0.9722\n",
      "Epoch 600: loss 1.3994,\tloss_y 0.7939, 2.1800, 2.7722,\tloss_eta 0.6055, 1.4320, 1.6530\n",
      "Epoch 700: loss 1.3016,\tloss_y 0.6979, 1.6571, 1.9184,\tloss_eta 0.6037, 1.3129, 1.4185\n",
      "Epoch 800: loss 1.2225,\tloss_y 0.5869, 1.0500, 0.9263,\tloss_eta 0.6357, 1.1309, 0.9906\n",
      "Epoch 900: loss 1.1426,\tloss_y 0.5489, 0.9800, 0.8622,\tloss_eta 0.5937, 1.1387, 1.0900\n"
     ]
    },
    {
     "name": "stderr",
     "output_type": "stream",
     "text": [
      " 70%|███████   | 7/10 [01:33<00:39, 13.32s/it]"
     ]
    },
    {
     "name": "stdout",
     "output_type": "stream",
     "text": [
      "Epoch 1000: loss 1.1183,\tloss_y 0.5404, 1.2711, 1.4614,\tloss_eta 0.5779, 1.4151, 1.6743\n",
      "Warning: covariate dimension does not aligned with the specified input dimension; filling in the remaining dimension with noise.\n",
      "Warning: covariate dimension does not aligned with the specified input dimension; filling in the remaining dimension with noise.\n",
      "Epoch 1: loss 0.9934, loss1 1.0306, loss2 0.0745\n",
      "Epoch 100: loss 0.7149, loss1 1.4586, loss2 1.4874\n",
      "Epoch 200: loss 0.6963, loss1 1.4461, loss2 1.4995\n",
      "Epoch 300: loss 0.6969, loss1 1.3808, loss2 1.3678\n",
      "Epoch 400: loss 0.7009, loss1 1.4609, loss2 1.5200\n",
      "Epoch 500: loss 0.6771, loss1 1.3413, loss2 1.3285\n",
      "Epoch 1: loss 2.3330,\tloss_y 1.5129, 1.5296, 0.0336,\tloss_eta 0.8202, 0.8447, 0.0491\n",
      "Epoch 100: loss 1.1980,\tloss_y 0.6246, 1.7659, 2.2827,\tloss_eta 0.5734, 1.0010, 0.8552\n",
      "Epoch 200: loss 1.4835,\tloss_y 0.5783, 0.9096, 0.6626,\tloss_eta 0.9052, 1.0172, 0.2239\n",
      "Epoch 300: loss 1.2108,\tloss_y 0.5557, 1.2491, 1.3869,\tloss_eta 0.6551, 0.8597, 0.4092\n",
      "Epoch 400: loss 1.5154,\tloss_y 0.9368, 1.6528, 1.4321,\tloss_eta 0.5786, 0.8996, 0.6420\n",
      "Epoch 500: loss 1.3501,\tloss_y 0.7563, 1.7252, 1.9378,\tloss_eta 0.5938, 1.0669, 0.9462\n",
      "Epoch 600: loss 1.7098,\tloss_y 0.9927, 2.2704, 2.5554,\tloss_eta 0.7171, 1.2224, 1.0106\n",
      "Epoch 700: loss 1.3308,\tloss_y 0.6749, 1.3894, 1.4290,\tloss_eta 0.6559, 0.9532, 0.5946\n",
      "Epoch 800: loss 1.4121,\tloss_y 0.8218, 1.4058, 1.1679,\tloss_eta 0.5903, 0.9929, 0.8053\n",
      "Epoch 900: loss 1.2157,\tloss_y 0.6343, 1.3104, 1.3522,\tloss_eta 0.5814, 1.0468, 0.9308\n"
     ]
    },
    {
     "name": "stderr",
     "output_type": "stream",
     "text": [
      " 80%|████████  | 8/10 [01:47<00:26, 13.35s/it]"
     ]
    },
    {
     "name": "stdout",
     "output_type": "stream",
     "text": [
      "Epoch 1000: loss 1.5029,\tloss_y 0.9155, 1.6932, 1.5553,\tloss_eta 0.5874, 0.9646, 0.7545\n",
      "Warning: covariate dimension does not aligned with the specified input dimension; filling in the remaining dimension with noise.\n",
      "Warning: covariate dimension does not aligned with the specified input dimension; filling in the remaining dimension with noise.\n",
      "Epoch 1: loss 0.9823, loss1 1.0131, loss2 0.0617\n",
      "Epoch 100: loss 0.6879, loss1 1.3555, loss2 1.3352\n",
      "Epoch 200: loss 0.6942, loss1 1.3374, loss2 1.2863\n",
      "Epoch 300: loss 0.6947, loss1 1.3490, loss2 1.3086\n",
      "Epoch 400: loss 0.6929, loss1 1.3862, loss2 1.3866\n",
      "Epoch 500: loss 0.7011, loss1 1.3870, loss2 1.3717\n",
      "Epoch 1: loss 2.2707,\tloss_y 1.4842, 1.4978, 0.0271,\tloss_eta 0.7864, 0.8344, 0.0959\n",
      "Epoch 100: loss 1.2036,\tloss_y 0.5958, 1.6023, 2.0130,\tloss_eta 0.6079, 0.9470, 0.6783\n",
      "Epoch 200: loss 1.2458,\tloss_y 0.5620, 0.9883, 0.8526,\tloss_eta 0.6838, 0.9050, 0.4424\n",
      "Epoch 300: loss 1.0918,\tloss_y 0.5156, 1.1891, 1.3469,\tloss_eta 0.5762, 1.0451, 0.9378\n",
      "Epoch 400: loss 1.5410,\tloss_y 0.7158, 1.2950, 1.1583,\tloss_eta 0.8252, 1.3753, 1.1002\n",
      "Epoch 500: loss 1.2457,\tloss_y 0.6253, 1.2084, 1.1660,\tloss_eta 0.6204, 0.9097, 0.5786\n",
      "Epoch 600: loss 1.2539,\tloss_y 0.6044, 1.2733, 1.3378,\tloss_eta 0.6495, 1.0828, 0.8666\n",
      "Epoch 700: loss 1.3744,\tloss_y 0.7874, 1.8819, 2.1889,\tloss_eta 0.5870, 1.2615, 1.3491\n",
      "Epoch 800: loss 1.3574,\tloss_y 0.7540, 1.2451, 0.9821,\tloss_eta 0.6034, 1.4663, 1.7257\n",
      "Epoch 900: loss 1.4723,\tloss_y 0.9159, 1.5446, 1.2574,\tloss_eta 0.5564, 1.3261, 1.5393\n"
     ]
    },
    {
     "name": "stderr",
     "output_type": "stream",
     "text": [
      " 90%|█████████ | 9/10 [02:00<00:13, 13.47s/it]"
     ]
    },
    {
     "name": "stdout",
     "output_type": "stream",
     "text": [
      "Epoch 1000: loss 1.2556,\tloss_y 0.6518, 1.0431, 0.7826,\tloss_eta 0.6038, 1.0615, 0.9154\n",
      "Warning: covariate dimension does not aligned with the specified input dimension; filling in the remaining dimension with noise.\n",
      "Warning: covariate dimension does not aligned with the specified input dimension; filling in the remaining dimension with noise.\n",
      "Epoch 1: loss 0.9407, loss1 0.9679, loss2 0.0545\n",
      "Epoch 100: loss 0.6377, loss1 1.2834, loss2 1.2914\n",
      "Epoch 200: loss 0.6308, loss1 1.2384, loss2 1.2153\n",
      "Epoch 300: loss 0.6409, loss1 1.2531, loss2 1.2244\n",
      "Epoch 400: loss 0.6474, loss1 1.2803, loss2 1.2660\n",
      "Epoch 500: loss 0.6613, loss1 1.3154, loss2 1.3082\n",
      "Epoch 1: loss 2.2948,\tloss_y 1.5195, 1.5345, 0.0300,\tloss_eta 0.7754, 0.8039, 0.0570\n",
      "Epoch 100: loss 1.3695,\tloss_y 0.7795, 2.0188, 2.4786,\tloss_eta 0.5900, 1.0084, 0.8368\n",
      "Epoch 200: loss 1.4251,\tloss_y 0.7171, 1.2774, 1.1207,\tloss_eta 0.7081, 1.1288, 0.8414\n",
      "Epoch 300: loss 1.4784,\tloss_y 0.7099, 1.2670, 1.1142,\tloss_eta 0.7685, 1.2215, 0.9059\n",
      "Epoch 400: loss 1.2396,\tloss_y 0.5996, 1.3705, 1.5418,\tloss_eta 0.6400, 0.8328, 0.3855\n",
      "Epoch 500: loss 1.5291,\tloss_y 0.8998, 1.3494, 0.8993,\tloss_eta 0.6293, 1.0317, 0.8047\n",
      "Epoch 600: loss 1.4793,\tloss_y 0.8815, 2.2739, 2.7849,\tloss_eta 0.5978, 1.1287, 1.0618\n",
      "Epoch 700: loss 1.5840,\tloss_y 0.9073, 1.5240, 1.2334,\tloss_eta 0.6767, 1.0121, 0.6707\n",
      "Epoch 800: loss 1.3510,\tloss_y 0.7167, 1.2322, 1.0311,\tloss_eta 0.6343, 0.8904, 0.5122\n",
      "Epoch 900: loss 1.3273,\tloss_y 0.6774, 1.1924, 1.0300,\tloss_eta 0.6499, 1.0813, 0.8629\n"
     ]
    },
    {
     "name": "stderr",
     "output_type": "stream",
     "text": [
      "100%|██████████| 10/10 [02:14<00:00, 13.50s/it]"
     ]
    },
    {
     "name": "stdout",
     "output_type": "stream",
     "text": [
      "Epoch 1000: loss 1.3421,\tloss_y 0.7547, 1.1988, 0.8882,\tloss_eta 0.5874, 1.2585, 1.3422\n",
      "Warning: covariate dimension does not aligned with the specified input dimension; filling in the remaining dimension with noise.\n",
      "Warning: covariate dimension does not aligned with the specified input dimension; filling in the remaining dimension with noise.\n"
     ]
    },
    {
     "name": "stderr",
     "output_type": "stream",
     "text": [
      "\n"
     ]
    },
    {
     "data": {
      "image/png": "[encoded data removed]",
      "text/plain": [
       "<Figure size 1200x600 with 2 Axes>"
      ]
     },
     "metadata": {},
     "output_type": "display_data"
    }
   ],
   "source": [
    "nrep = 10 # for equivalence testing\n",
    "n_tr = 1000\n",
    "n_p = 500\n",
    "# Initialize an empty list to store each Q_single\n",
    "nI = 0\n",
    "nX = 1\n",
    "nO = 0\n",
    "nS= 0\n",
    "p = nI+nX+nO+nS\n",
    "binary_intervention=True\n",
    "\n",
    "# Initialize an empty list to store each Q_single\n",
    "P0_list = []\n",
    "Q0_list = []\n",
    "P1_list = []\n",
    "Q1_list = []\n",
    "for _ in tqdm(range(nrep)):\n",
    "    df_tr = generate_data_causl(n=n_tr, nI =nI, nX= nX, nO = nO, nS = nS, ate = ate, beta_cov = beta_cov, strength_instr = strength_instr, strength_conf = strength_conf, strength_outcome =strength_outcome, binary_intervention=binary_intervention)\n",
    "\n",
    "    z_tr = torch.tensor(df_tr[[f\"X{i}\" for i in range(1, p + 1)]].values, dtype=torch.float32)\n",
    "    if binary_intervention:\n",
    "        x_tr = torch.tensor(df_tr['A'].values, dtype=torch.int32).view(-1, 1)\n",
    "    else:\n",
    "        x_tr = torch.tensor(df_tr['A'].values, dtype=torch.float32).view(-1, 1)\n",
    "\n",
    "    y_tr = torch.tensor(df_tr['y'].values, dtype=torch.float32).view(-1, 1)\n",
    "\n",
    "    model = Frengression(x_tr.shape[1], y_tr.shape[1], z_tr.shape[1], noise_dim=1, num_layer=3, hidden_dim=400, device=device, x_binary = binary_intervention)\n",
    "    model.train_xz(x_tr, z_tr, num_iters=500, print_every_iter=100)\n",
    "    model.train_y(x_tr, z_tr, y_tr, num_iters=1000, lr=1e-4, print_every_iter=100)\n",
    "\n",
    "    # sample from causal marginal distribution\n",
    "    Q0_single= np.random.normal(loc=0, scale=1, size=n_p).reshape([n_p,1])\n",
    "    Q0_list.append(Q0_single)\n",
    "    Q1_single= np.random.normal(loc=ate, scale=1, size=n_p).reshape([n_p,1])\n",
    "    Q1_list.append(Q1_single)\n",
    "\n",
    "\n",
    "    P0_single = (model.sample_causal_margin(torch.tensor([0], dtype=torch.int32), sample_size=n_p)).numpy().reshape(-1,1)\n",
    "    P0_list.append(P0_single)\n",
    "    P1_single = (model.sample_causal_margin(torch.tensor([1], dtype=torch.int32), sample_size=n_p)).numpy().reshape(-1,1)\n",
    "    P1_list.append(P1_single)\n",
    "  \n",
    "\n",
    "P0s = np.stack(P0_list, axis=0) #[nrep, n, 1]\n",
    "Q0s = np.stack(Q0_list, axis=0)\n",
    "P1s = np.stack(P1_list, axis=0)\n",
    "Q1s = np.stack(Q1_list, axis=0)\n",
    "\n",
    "\n",
    "# Create histograms with overlapping bars\n",
    "plt.figure(figsize=(12, 6))\n",
    "\n",
    "# Plot P0 vs Q0\n",
    "plt.subplot(1, 2, 1)\n",
    "plt.hist(P0s.reshape(-1), bins=30, alpha=0.5, label='P0', density=True)\n",
    "plt.hist(Q0s.reshape(-1), bins=30, alpha=0.5, label='Q0', density=True)\n",
    "plt.title('Comparison of P0 vs Q0')\n",
    "plt.xlabel('Value')\n",
    "plt.ylabel('Density')\n",
    "plt.legend()\n",
    "\n",
    "# Plot P1 vs Q1\n",
    "plt.subplot(1, 2, 2)\n",
    "plt.hist(P1s.reshape(-1), bins=30, alpha=0.5, label='P1', density=True)\n",
    "plt.hist(Q1s.reshape(-1), bins=30, alpha=0.5, label='Q1', density=True)\n",
    "plt.title('Comparison of P1 vs Q1')\n",
    "plt.xlabel('Value')\n",
    "plt.ylabel('Density')\n",
    "plt.legend()\n",
    "\n",
    "# Show plots\n",
    "plt.tight_layout()\n",
    "plt.show()"
   ]
  },
  {
   "cell_type": "markdown",
   "metadata": {},
   "source": [
    "## when training size = 500"
   ]
  },
  {
   "cell_type": "code",
   "execution_count": 3,
   "metadata": {},
   "outputs": [
    {
     "name": "stderr",
     "output_type": "stream",
     "text": [
      "  0%|          | 0/10 [00:00<?, ?it/s]"
     ]
    },
    {
     "name": "stdout",
     "output_type": "stream",
     "text": [
      "Epoch 1: loss 0.9772, loss1 1.0075, loss2 0.0605\n",
      "Epoch 100: loss 0.6843, loss1 1.4038, loss2 1.4388\n",
      "Epoch 200: loss 0.6754, loss1 1.3528, loss2 1.3548\n",
      "Epoch 300: loss 0.7000, loss1 1.3907, loss2 1.3815\n",
      "Epoch 400: loss 0.6937, loss1 1.3725, loss2 1.3576\n",
      "Epoch 500: loss 0.7155, loss1 1.3992, loss2 1.3673\n",
      "Epoch 1: loss 2.2865,\tloss_y 1.4999, 1.5470, 0.0943,\tloss_eta 0.7866, 0.8311, 0.0889\n",
      "Epoch 100: loss 1.3183,\tloss_y 0.7410, 1.7188, 1.9557,\tloss_eta 0.5774, 1.0804, 1.0060\n",
      "Epoch 200: loss 1.2555,\tloss_y 0.5769, 0.9888, 0.8239,\tloss_eta 0.6787, 0.8303, 0.3032\n",
      "Epoch 300: loss 1.6323,\tloss_y 0.9102, 1.7280, 1.6357,\tloss_eta 0.7221, 0.9919, 0.5396\n",
      "Epoch 400: loss 1.5113,\tloss_y 0.9144, 1.5710, 1.3132,\tloss_eta 0.5969, 1.0076, 0.8214\n",
      "Epoch 500: loss 1.5178,\tloss_y 0.9381, 2.2078, 2.5394,\tloss_eta 0.5796, 1.3854, 1.6116\n",
      "Epoch 600: loss 1.5457,\tloss_y 0.7990, 1.6795, 1.7610,\tloss_eta 0.7466, 1.0028, 0.5123\n",
      "Epoch 700: loss 1.1982,\tloss_y 0.6242, 1.4507, 1.6529,\tloss_eta 0.5740, 1.0628, 0.9778\n",
      "Epoch 800: loss 1.4385,\tloss_y 0.8257, 1.8418, 2.0322,\tloss_eta 0.6128, 1.6053, 1.9850\n",
      "Epoch 900: loss 1.4260,\tloss_y 0.6869, 1.4720, 1.5702,\tloss_eta 0.7392, 1.6418, 1.8052\n"
     ]
    },
    {
     "name": "stderr",
     "output_type": "stream",
     "text": [
      " 10%|█         | 1/10 [00:07<01:09,  7.77s/it]"
     ]
    },
    {
     "name": "stdout",
     "output_type": "stream",
     "text": [
      "Epoch 1000: loss 1.2238,\tloss_y 0.6074, 1.0192, 0.8237,\tloss_eta 0.6164, 1.1639, 1.0949\n",
      "Warning: covariate dimension does not aligned with the specified input dimension; filling in the remaining dimension with noise.\n",
      "Warning: covariate dimension does not aligned with the specified input dimension; filling in the remaining dimension with noise.\n",
      "Epoch 1: loss 0.9827, loss1 1.0213, loss2 0.0772\n",
      "Epoch 100: loss 0.6671, loss1 1.3649, loss2 1.3955\n",
      "Epoch 200: loss 0.6980, loss1 1.3825, loss2 1.3691\n",
      "Epoch 300: loss 0.6983, loss1 1.4099, loss2 1.4233\n",
      "Epoch 400: loss 0.6234, loss1 1.3216, loss2 1.3964\n",
      "Epoch 500: loss 0.6971, loss1 1.3340, loss2 1.2736\n",
      "Epoch 1: loss 2.2946,\tloss_y 1.5050, 1.5115, 0.0131,\tloss_eta 0.7897, 0.8013, 0.0233\n",
      "Epoch 100: loss 1.2671,\tloss_y 0.6584, 1.3249, 1.3330,\tloss_eta 0.6087, 1.3376, 1.4577\n",
      "Epoch 200: loss 1.6182,\tloss_y 0.9744, 1.2176, 0.4863,\tloss_eta 0.6438, 0.8526, 0.4176\n",
      "Epoch 300: loss 1.4546,\tloss_y 0.7894, 1.6978, 1.8167,\tloss_eta 0.6651, 0.9060, 0.4818\n",
      "Epoch 400: loss 1.4108,\tloss_y 0.7597, 1.4081, 1.2967,\tloss_eta 0.6511, 0.8059, 0.3096\n",
      "Epoch 500: loss 1.1730,\tloss_y 0.6337, 1.5688, 1.8702,\tloss_eta 0.5393, 1.1306, 1.1824\n",
      "Epoch 600: loss 1.1949,\tloss_y 0.6446, 1.7202, 2.1512,\tloss_eta 0.5503, 1.6709, 2.2412\n",
      "Epoch 700: loss 1.2537,\tloss_y 0.6682, 1.1224, 0.9085,\tloss_eta 0.5855, 1.3909, 1.6107\n",
      "Epoch 800: loss 1.3874,\tloss_y 0.7357, 1.2724, 1.0735,\tloss_eta 0.6517, 0.9648, 0.6262\n",
      "Epoch 900: loss 1.3948,\tloss_y 0.7535, 1.1219, 0.7370,\tloss_eta 0.6413, 0.8958, 0.5088\n"
     ]
    },
    {
     "name": "stderr",
     "output_type": "stream",
     "text": [
      " 20%|██        | 2/10 [00:15<01:03,  7.88s/it]"
     ]
    },
    {
     "name": "stdout",
     "output_type": "stream",
     "text": [
      "Epoch 1000: loss 1.2725,\tloss_y 0.6507, 1.4306, 1.5597,\tloss_eta 0.6217, 1.0848, 0.9262\n",
      "Warning: covariate dimension does not aligned with the specified input dimension; filling in the remaining dimension with noise.\n",
      "Warning: covariate dimension does not aligned with the specified input dimension; filling in the remaining dimension with noise.\n",
      "Epoch 1: loss 0.9597, loss1 0.9885, loss2 0.0575\n",
      "Epoch 100: loss 0.6965, loss1 1.4098, loss2 1.4266\n",
      "Epoch 200: loss 0.6657, loss1 1.3741, loss2 1.4168\n",
      "Epoch 300: loss 0.6126, loss1 1.3064, loss2 1.3876\n",
      "Epoch 400: loss 0.6502, loss1 1.4023, loss2 1.5042\n",
      "Epoch 500: loss 0.6812, loss1 1.3095, loss2 1.2566\n",
      "Epoch 1: loss 2.2824,\tloss_y 1.5400, 1.5461, 0.0123,\tloss_eta 0.7425, 0.7851, 0.0852\n",
      "Epoch 100: loss 1.1442,\tloss_y 0.5643, 1.2071, 1.2856,\tloss_eta 0.5799, 1.0733, 0.9867\n",
      "Epoch 200: loss 1.2049,\tloss_y 0.5999, 1.5510, 1.9022,\tloss_eta 0.6050, 0.8963, 0.5827\n",
      "Epoch 300: loss 1.3254,\tloss_y 0.6701, 0.9889, 0.6375,\tloss_eta 0.6553, 0.8620, 0.4135\n",
      "Epoch 400: loss 1.2100,\tloss_y 0.6001, 1.2285, 1.2566,\tloss_eta 0.6099, 0.9900, 0.7602\n",
      "Epoch 500: loss 1.1474,\tloss_y 0.5647, 1.2889, 1.4484,\tloss_eta 0.5827, 1.1199, 1.0743\n",
      "Epoch 600: loss 1.4116,\tloss_y 0.8346, 2.0776, 2.4861,\tloss_eta 0.5770, 1.3558, 1.5576\n",
      "Epoch 700: loss 1.3397,\tloss_y 0.7240, 1.4520, 1.4560,\tloss_eta 0.6157, 1.1165, 1.0017\n",
      "Epoch 800: loss 1.2266,\tloss_y 0.5848, 1.0738, 0.9780,\tloss_eta 0.6417, 0.8415, 0.3996\n",
      "Epoch 900: loss 1.3002,\tloss_y 0.5829, 1.3444, 1.5230,\tloss_eta 0.7172, 1.3482, 1.2619\n"
     ]
    },
    {
     "name": "stderr",
     "output_type": "stream",
     "text": [
      " 30%|███       | 3/10 [00:23<00:54,  7.72s/it]"
     ]
    },
    {
     "name": "stdout",
     "output_type": "stream",
     "text": [
      "Epoch 1000: loss 1.2649,\tloss_y 0.5380, 1.3926, 1.7094,\tloss_eta 0.7269, 1.5596, 1.6653\n",
      "Warning: covariate dimension does not aligned with the specified input dimension; filling in the remaining dimension with noise.\n",
      "Warning: covariate dimension does not aligned with the specified input dimension; filling in the remaining dimension with noise.\n",
      "Epoch 1: loss 0.9207, loss1 0.9704, loss2 0.0994\n",
      "Epoch 100: loss 0.6799, loss1 1.3346, loss2 1.3093\n",
      "Epoch 200: loss 0.6989, loss1 1.2756, loss2 1.1534\n",
      "Epoch 300: loss 0.6120, loss1 1.2133, loss2 1.2026\n",
      "Epoch 400: loss 0.5730, loss1 1.2501, loss2 1.3542\n",
      "Epoch 500: loss 0.6619, loss1 1.3247, loss2 1.3256\n",
      "Epoch 1: loss 2.2501,\tloss_y 1.5182, 1.5365, 0.0366,\tloss_eta 0.7320, 0.7580, 0.0520\n",
      "Epoch 100: loss 1.2314,\tloss_y 0.6738, 1.4556, 1.5636,\tloss_eta 0.5576, 1.0808, 1.0464\n",
      "Epoch 200: loss 1.3602,\tloss_y 0.5538, 1.0503, 0.9930,\tloss_eta 0.8064, 0.9791, 0.3455\n",
      "Epoch 300: loss 1.4321,\tloss_y 0.7584, 1.3121, 1.1073,\tloss_eta 0.6737, 0.8036, 0.2599\n",
      "Epoch 400: loss 1.4947,\tloss_y 0.8820, 1.8864, 2.0089,\tloss_eta 0.6127, 0.9337, 0.6420\n",
      "Epoch 500: loss 1.2955,\tloss_y 0.8053, 1.4176, 1.2246,\tloss_eta 0.4902, 1.2588, 1.5371\n",
      "Epoch 600: loss 1.5293,\tloss_y 0.8242, 1.4214, 1.1944,\tloss_eta 0.7050, 1.4536, 1.4970\n",
      "Epoch 700: loss 1.3206,\tloss_y 0.7153, 1.2023, 0.9739,\tloss_eta 0.6053, 0.9736, 0.7367\n",
      "Epoch 800: loss 1.3849,\tloss_y 0.7659, 1.9454, 2.3590,\tloss_eta 0.6190, 1.0621, 0.8862\n",
      "Epoch 900: loss 1.2409,\tloss_y 0.6100, 1.6136, 2.0072,\tloss_eta 0.6309, 1.2608, 1.2598\n"
     ]
    },
    {
     "name": "stderr",
     "output_type": "stream",
     "text": [
      " 40%|████      | 4/10 [00:30<00:46,  7.67s/it]"
     ]
    },
    {
     "name": "stdout",
     "output_type": "stream",
     "text": [
      "Epoch 1000: loss 1.3484,\tloss_y 0.6988, 1.0944, 0.7911,\tloss_eta 0.6495, 1.3767, 1.4543\n",
      "Warning: covariate dimension does not aligned with the specified input dimension; filling in the remaining dimension with noise.\n",
      "Warning: covariate dimension does not aligned with the specified input dimension; filling in the remaining dimension with noise.\n",
      "Epoch 1: loss 0.9617, loss1 0.9977, loss2 0.0720\n",
      "Epoch 100: loss 0.6729, loss1 1.4075, loss2 1.4694\n",
      "Epoch 200: loss 0.6624, loss1 1.3313, loss2 1.3377\n",
      "Epoch 300: loss 0.6783, loss1 1.3375, loss2 1.3183\n",
      "Epoch 400: loss 0.7291, loss1 1.3716, loss2 1.2849\n",
      "Epoch 500: loss 0.6874, loss1 1.3604, loss2 1.3460\n",
      "Epoch 1: loss 2.3000,\tloss_y 1.5642, 1.5808, 0.0332,\tloss_eta 0.7358, 0.7528, 0.0340\n",
      "Epoch 100: loss 1.2686,\tloss_y 0.6954, 1.7497, 2.1086,\tloss_eta 0.5732, 1.1185, 1.0906\n",
      "Epoch 200: loss 1.4487,\tloss_y 0.7322, 1.0090, 0.5535,\tloss_eta 0.7165, 0.9010, 0.3691\n",
      "Epoch 300: loss 1.6959,\tloss_y 1.2101, 2.4000, 2.3798,\tloss_eta 0.4858, 1.2553, 1.5390\n",
      "Epoch 400: loss 1.2921,\tloss_y 0.6588, 1.3478, 1.3779,\tloss_eta 0.6333, 0.9632, 0.6599\n",
      "Epoch 500: loss 1.4463,\tloss_y 0.6878, 1.3131, 1.2507,\tloss_eta 0.7585, 1.1464, 0.7758\n",
      "Epoch 600: loss 1.3361,\tloss_y 0.6765, 1.1157, 0.8785,\tloss_eta 0.6596, 0.9579, 0.5966\n",
      "Epoch 700: loss 1.5141,\tloss_y 0.7953, 1.6734, 1.7563,\tloss_eta 0.7188, 0.8675, 0.2975\n",
      "Epoch 800: loss 1.3872,\tloss_y 0.7368, 1.3412, 1.2088,\tloss_eta 0.6504, 0.8909, 0.4810\n",
      "Epoch 900: loss 1.2059,\tloss_y 0.5687, 1.2483, 1.3593,\tloss_eta 0.6372, 1.0160, 0.7576\n"
     ]
    },
    {
     "name": "stderr",
     "output_type": "stream",
     "text": [
      " 50%|█████     | 5/10 [00:38<00:38,  7.62s/it]"
     ]
    },
    {
     "name": "stdout",
     "output_type": "stream",
     "text": [
      "Epoch 1000: loss 1.2537,\tloss_y 0.6838, 1.6133, 1.8591,\tloss_eta 0.5699, 1.1260, 1.1122\n",
      "Warning: covariate dimension does not aligned with the specified input dimension; filling in the remaining dimension with noise.\n",
      "Warning: covariate dimension does not aligned with the specified input dimension; filling in the remaining dimension with noise.\n",
      "Epoch 1: loss 0.9796, loss1 1.0166, loss2 0.0740\n",
      "Epoch 100: loss 0.7080, loss1 1.3810, loss2 1.3460\n",
      "Epoch 200: loss 0.6818, loss1 1.3955, loss2 1.4275\n",
      "Epoch 300: loss 0.6953, loss1 1.3765, loss2 1.3624\n",
      "Epoch 400: loss 0.7248, loss1 1.4071, loss2 1.3645\n",
      "Epoch 500: loss 0.6980, loss1 1.3523, loss2 1.3087\n",
      "Epoch 1: loss 2.3195,\tloss_y 1.5050, 1.5171, 0.0244,\tloss_eta 0.8145, 0.8459, 0.0629\n",
      "Epoch 100: loss 1.1548,\tloss_y 0.5836, 1.4202, 1.6733,\tloss_eta 0.5712, 0.9383, 0.7342\n",
      "Epoch 200: loss 1.1874,\tloss_y 0.5280, 1.1033, 1.1506,\tloss_eta 0.6595, 0.9790, 0.6391\n",
      "Epoch 300: loss 1.0826,\tloss_y 0.5288, 0.9159, 0.7743,\tloss_eta 0.5539, 1.1180, 1.1284\n",
      "Epoch 400: loss 1.5424,\tloss_y 0.9239, 1.7677, 1.6875,\tloss_eta 0.6185, 1.3033, 1.3696\n",
      "Epoch 500: loss 1.3158,\tloss_y 0.6132, 1.1439, 1.0614,\tloss_eta 0.7026, 0.8481, 0.2911\n",
      "Epoch 600: loss 1.4541,\tloss_y 0.6927, 1.1433, 0.9012,\tloss_eta 0.7614, 1.2396, 0.9564\n",
      "Epoch 700: loss 1.3131,\tloss_y 0.6459, 1.6138, 1.9360,\tloss_eta 0.6673, 1.1001, 0.8657\n",
      "Epoch 800: loss 1.2153,\tloss_y 0.5696, 1.3818, 1.6243,\tloss_eta 0.6457, 0.9312, 0.5711\n",
      "Epoch 900: loss 1.2620,\tloss_y 0.6284, 1.1850, 1.1133,\tloss_eta 0.6336, 0.9282, 0.5892\n"
     ]
    },
    {
     "name": "stderr",
     "output_type": "stream",
     "text": [
      " 60%|██████    | 6/10 [00:45<00:30,  7.55s/it]"
     ]
    },
    {
     "name": "stdout",
     "output_type": "stream",
     "text": [
      "Epoch 1000: loss 1.3726,\tloss_y 0.7239, 1.4661, 1.4844,\tloss_eta 0.6487, 1.0437, 0.7901\n",
      "Warning: covariate dimension does not aligned with the specified input dimension; filling in the remaining dimension with noise.\n",
      "Warning: covariate dimension does not aligned with the specified input dimension; filling in the remaining dimension with noise.\n",
      "Epoch 1: loss 0.9615, loss1 0.9967, loss2 0.0704\n",
      "Epoch 100: loss 0.6893, loss1 1.3125, loss2 1.2464\n",
      "Epoch 200: loss 0.6330, loss1 1.2856, loss2 1.3053\n",
      "Epoch 300: loss 0.6790, loss1 1.3700, loss2 1.3820\n",
      "Epoch 400: loss 0.6908, loss1 1.3567, loss2 1.3318\n",
      "Epoch 500: loss 0.6652, loss1 1.3540, loss2 1.3775\n",
      "Epoch 1: loss 2.2853,\tloss_y 1.5445, 1.5565, 0.0240,\tloss_eta 0.7408, 0.7863, 0.0910\n",
      "Epoch 100: loss 1.4129,\tloss_y 0.7250, 1.7547, 2.0593,\tloss_eta 0.6879, 1.0666, 0.7574\n",
      "Epoch 200: loss 1.4399,\tloss_y 0.8714, 1.4871, 1.2313,\tloss_eta 0.5685, 0.9220, 0.7070\n",
      "Epoch 300: loss 1.0826,\tloss_y 0.5316, 1.1904, 1.3176,\tloss_eta 0.5510, 0.9671, 0.8321\n",
      "Epoch 400: loss 1.4365,\tloss_y 0.6598, 1.6182, 1.9168,\tloss_eta 0.7768, 1.4301, 1.3067\n",
      "Epoch 500: loss 1.3162,\tloss_y 0.6777, 1.3434, 1.3315,\tloss_eta 0.6385, 1.1764, 1.0758\n",
      "Epoch 600: loss 1.4851,\tloss_y 0.7966, 1.1164, 0.6396,\tloss_eta 0.6885, 1.2528, 1.1285\n",
      "Epoch 700: loss 1.3161,\tloss_y 0.7551, 1.8484, 2.1867,\tloss_eta 0.5610, 1.1855, 1.2490\n",
      "Epoch 800: loss 1.3741,\tloss_y 0.7561, 1.2749, 1.0376,\tloss_eta 0.6180, 1.0919, 0.9478\n",
      "Epoch 900: loss 1.4040,\tloss_y 0.7590, 1.4060, 1.2941,\tloss_eta 0.6450, 0.9434, 0.5967\n"
     ]
    },
    {
     "name": "stderr",
     "output_type": "stream",
     "text": [
      " 70%|███████   | 7/10 [00:53<00:22,  7.59s/it]"
     ]
    },
    {
     "name": "stdout",
     "output_type": "stream",
     "text": [
      "Epoch 1000: loss 1.2769,\tloss_y 0.6193, 1.0959, 0.9534,\tloss_eta 0.6577, 0.8854, 0.4555\n",
      "Warning: covariate dimension does not aligned with the specified input dimension; filling in the remaining dimension with noise.\n",
      "Warning: covariate dimension does not aligned with the specified input dimension; filling in the remaining dimension with noise.\n",
      "Epoch 1: loss 0.9560, loss1 0.9803, loss2 0.0487\n",
      "Epoch 100: loss 0.6560, loss1 1.2921, loss2 1.2722\n",
      "Epoch 200: loss 0.6837, loss1 1.2982, loss2 1.2291\n",
      "Epoch 300: loss 0.6479, loss1 1.2926, loss2 1.2894\n",
      "Epoch 400: loss 0.6955, loss1 1.3486, loss2 1.3063\n",
      "Epoch 500: loss 0.7204, loss1 1.3886, loss2 1.3362\n",
      "Epoch 1: loss 2.2317,\tloss_y 1.4786, 1.4945, 0.0317,\tloss_eta 0.7531, 0.7772, 0.0483\n",
      "Epoch 100: loss 1.0693,\tloss_y 0.5395, 1.1795, 1.2800,\tloss_eta 0.5298, 1.1345, 1.2093\n",
      "Epoch 200: loss 1.3132,\tloss_y 0.6221, 1.4096, 1.5751,\tloss_eta 0.6911, 0.8123, 0.2424\n",
      "Epoch 300: loss 1.2441,\tloss_y 0.5281, 1.0209, 0.9857,\tloss_eta 0.7160, 0.9457, 0.4593\n",
      "Epoch 400: loss 1.2350,\tloss_y 0.6654, 1.2977, 1.2648,\tloss_eta 0.5696, 0.9219, 0.7045\n",
      "Epoch 500: loss 1.2264,\tloss_y 0.6508, 1.4736, 1.6455,\tloss_eta 0.5755, 1.5674, 1.9838\n",
      "Epoch 600: loss 1.4592,\tloss_y 0.7860, 1.2119, 0.8517,\tloss_eta 0.6732, 1.2355, 1.1246\n",
      "Epoch 700: loss 1.3082,\tloss_y 0.5107, 1.2653, 1.5092,\tloss_eta 0.7975, 1.4682, 1.3415\n",
      "Epoch 800: loss 1.3520,\tloss_y 0.7819, 1.6294, 1.6951,\tloss_eta 0.5702, 0.9646, 0.7889\n",
      "Epoch 900: loss 1.4245,\tloss_y 0.8318, 1.2565, 0.8494,\tloss_eta 0.5926, 1.0171, 0.8489\n"
     ]
    },
    {
     "name": "stderr",
     "output_type": "stream",
     "text": [
      " 80%|████████  | 8/10 [01:00<00:14,  7.49s/it]"
     ]
    },
    {
     "name": "stdout",
     "output_type": "stream",
     "text": [
      "Epoch 1000: loss 1.1890,\tloss_y 0.5869, 1.0750, 0.9762,\tloss_eta 0.6021, 1.2604, 1.3166\n",
      "Warning: covariate dimension does not aligned with the specified input dimension; filling in the remaining dimension with noise.\n",
      "Warning: covariate dimension does not aligned with the specified input dimension; filling in the remaining dimension with noise.\n",
      "Epoch 1: loss 0.9881, loss1 1.0187, loss2 0.0613\n",
      "Epoch 100: loss 0.6645, loss1 1.3542, loss2 1.3795\n",
      "Epoch 200: loss 0.6993, loss1 1.4429, loss2 1.4873\n",
      "Epoch 300: loss 0.7441, loss1 1.4270, loss2 1.3658\n",
      "Epoch 400: loss 0.7083, loss1 1.3237, loss2 1.2308\n",
      "Epoch 500: loss 0.7101, loss1 1.4071, loss2 1.3940\n",
      "Epoch 1: loss 2.2230,\tloss_y 1.4383, 1.4647, 0.0528,\tloss_eta 0.7847, 0.8276, 0.0858\n",
      "Epoch 100: loss 1.2065,\tloss_y 0.5869, 1.6325, 2.0912,\tloss_eta 0.6196, 0.8962, 0.5533\n",
      "Epoch 200: loss 1.1067,\tloss_y 0.4820, 0.7896, 0.6151,\tloss_eta 0.6247, 0.8644, 0.4794\n",
      "Epoch 300: loss 1.1251,\tloss_y 0.5339, 1.1422, 1.2165,\tloss_eta 0.5912, 1.1717, 1.1610\n",
      "Epoch 400: loss 1.0889,\tloss_y 0.4989, 1.0027, 1.0076,\tloss_eta 0.5900, 1.0248, 0.8695\n",
      "Epoch 500: loss 1.5764,\tloss_y 0.9648, 1.6970, 1.4644,\tloss_eta 0.6116, 1.1492, 1.0751\n",
      "Epoch 600: loss 1.4623,\tloss_y 0.8556, 1.6926, 1.6741,\tloss_eta 0.6066, 1.3950, 1.5767\n",
      "Epoch 700: loss 1.3830,\tloss_y 0.6894, 1.6567, 1.9346,\tloss_eta 0.6936, 1.0961, 0.8049\n",
      "Epoch 800: loss 1.2295,\tloss_y 0.6732, 1.5063, 1.6661,\tloss_eta 0.5563, 1.1425, 1.1725\n",
      "Epoch 900: loss 1.2448,\tloss_y 0.6024, 0.9675, 0.7303,\tloss_eta 0.6424, 1.2648, 1.2447\n"
     ]
    },
    {
     "name": "stderr",
     "output_type": "stream",
     "text": [
      " 90%|█████████ | 9/10 [01:08<00:07,  7.49s/it]"
     ]
    },
    {
     "name": "stdout",
     "output_type": "stream",
     "text": [
      "Epoch 1000: loss 1.1507,\tloss_y 0.5232, 0.9565, 0.8666,\tloss_eta 0.6275, 1.1527, 1.0505\n",
      "Warning: covariate dimension does not aligned with the specified input dimension; filling in the remaining dimension with noise.\n",
      "Warning: covariate dimension does not aligned with the specified input dimension; filling in the remaining dimension with noise.\n",
      "Epoch 1: loss 0.9802, loss1 1.0131, loss2 0.0658\n",
      "Epoch 100: loss 0.7029, loss1 1.3993, loss2 1.3928\n",
      "Epoch 200: loss 0.6861, loss1 1.3719, loss2 1.3715\n",
      "Epoch 300: loss 0.7081, loss1 1.3713, loss2 1.3263\n",
      "Epoch 400: loss 0.6933, loss1 1.3958, loss2 1.4050\n",
      "Epoch 500: loss 0.7003, loss1 1.3830, loss2 1.3654\n",
      "Epoch 1: loss 2.3090,\tloss_y 1.5045, 1.5161, 0.0231,\tloss_eta 0.8045, 0.8303, 0.0516\n",
      "Epoch 100: loss 1.2633,\tloss_y 0.6928, 1.8453, 2.3050,\tloss_eta 0.5705, 0.9628, 0.7845\n",
      "Epoch 200: loss 1.6356,\tloss_y 0.8306, 1.1550, 0.6489,\tloss_eta 0.8050, 0.9998, 0.3896\n",
      "Epoch 300: loss 1.4184,\tloss_y 0.7831, 1.9839, 2.4015,\tloss_eta 0.6353, 0.8778, 0.4849\n",
      "Epoch 400: loss 1.4629,\tloss_y 0.9133, 1.7467, 1.6668,\tloss_eta 0.5496, 1.0810, 1.0628\n",
      "Epoch 500: loss 1.2504,\tloss_y 0.6833, 1.4331, 1.4995,\tloss_eta 0.5671, 1.2403, 1.3464\n",
      "Epoch 600: loss 1.5380,\tloss_y 0.9258, 1.9258, 2.0001,\tloss_eta 0.6122, 1.3193, 1.4141\n",
      "Epoch 700: loss 1.3578,\tloss_y 0.7513, 1.5929, 1.6832,\tloss_eta 0.6065, 0.8404, 0.4678\n",
      "Epoch 800: loss 1.3261,\tloss_y 0.7382, 1.4360, 1.3955,\tloss_eta 0.5879, 1.1915, 1.2073\n",
      "Epoch 900: loss 1.2508,\tloss_y 0.6804, 1.3977, 1.4346,\tloss_eta 0.5704, 1.5921, 2.0434\n"
     ]
    },
    {
     "name": "stderr",
     "output_type": "stream",
     "text": [
      "100%|██████████| 10/10 [01:15<00:00,  7.57s/it]"
     ]
    },
    {
     "name": "stdout",
     "output_type": "stream",
     "text": [
      "Epoch 1000: loss 1.2213,\tloss_y 0.5818, 1.2462, 1.3288,\tloss_eta 0.6395, 1.2009, 1.1227\n",
      "Warning: covariate dimension does not aligned with the specified input dimension; filling in the remaining dimension with noise.\n",
      "Warning: covariate dimension does not aligned with the specified input dimension; filling in the remaining dimension with noise.\n"
     ]
    },
    {
     "name": "stderr",
     "output_type": "stream",
     "text": [
      "\n"
     ]
    },
    {
     "data": {
      "image/png": "[encoded data removed]",
      "text/plain": [
       "<Figure size 1200x600 with 2 Axes>"
      ]
     },
     "metadata": {},
     "output_type": "display_data"
    }
   ],
   "source": [
    "nrep = 10 # for equivalence testing\n",
    "n_tr = 500\n",
    "n_p = 250\n",
    "# Initialize an empty list to store each Q_single\n",
    "nI = 0\n",
    "nX = 1\n",
    "nO = 0\n",
    "nS= 0\n",
    "p = nI+nX+nO+nS\n",
    "binary_intervention=True\n",
    "\n",
    "# Initialize an empty list to store each Q_single\n",
    "P0_list = []\n",
    "Q0_list = []\n",
    "P1_list = []\n",
    "Q1_list = []\n",
    "for _ in tqdm(range(nrep)):\n",
    "    df_tr = generate_data_causl(n=n_tr, nI =nI, nX= nX, nO = nO, nS = nS, ate = ate, beta_cov = beta_cov, strength_instr = strength_instr, strength_conf = strength_conf, strength_outcome =strength_outcome, binary_intervention=binary_intervention)\n",
    "\n",
    "    z_tr = torch.tensor(df_tr[[f\"X{i}\" for i in range(1, p + 1)]].values, dtype=torch.float32)\n",
    "    if binary_intervention:\n",
    "        x_tr = torch.tensor(df_tr['A'].values, dtype=torch.int32).view(-1, 1)\n",
    "    else:\n",
    "        x_tr = torch.tensor(df_tr['A'].values, dtype=torch.float32).view(-1, 1)\n",
    "\n",
    "    y_tr = torch.tensor(df_tr['y'].values, dtype=torch.float32).view(-1, 1)\n",
    "\n",
    "    model = Frengression(x_tr.shape[1], y_tr.shape[1], z_tr.shape[1], noise_dim=1, num_layer=3, hidden_dim=400, device=device, x_binary = binary_intervention)\n",
    "    model.train_xz(x_tr, z_tr, num_iters=500, print_every_iter=100)\n",
    "    model.train_y(x_tr, z_tr, y_tr, num_iters=1000, lr=1e-4, print_every_iter=100)\n",
    "\n",
    "    # sample from causal marginal distribution\n",
    "    Q0_single= np.random.normal(loc=0, scale=1, size=n_p).reshape([n_p,1])\n",
    "    Q0_list.append(Q0_single)\n",
    "    Q1_single= np.random.normal(loc=ate, scale=1, size=n_p).reshape([n_p,1])\n",
    "    Q1_list.append(Q1_single)\n",
    "\n",
    "\n",
    "    P0_single = (model.sample_causal_margin(torch.tensor([0], dtype=torch.int32), sample_size=n_p)).numpy().reshape(-1,1)\n",
    "    P0_list.append(P0_single)\n",
    "    P1_single = (model.sample_causal_margin(torch.tensor([1], dtype=torch.int32), sample_size=n_p)).numpy().reshape(-1,1)\n",
    "    P1_list.append(P1_single)\n",
    "  \n",
    "\n",
    "P0s = np.stack(P0_list, axis=0) #[nrep, n, 1]\n",
    "Q0s = np.stack(Q0_list, axis=0)\n",
    "P1s = np.stack(P1_list, axis=0)\n",
    "Q1s = np.stack(Q1_list, axis=0)\n",
    "\n",
    "\n",
    "# Create histograms with overlapping bars\n",
    "plt.figure(figsize=(12, 6))\n",
    "\n",
    "# Plot P0 vs Q0\n",
    "plt.subplot(1, 2, 1)\n",
    "plt.hist(P0s.reshape(-1), bins=30, alpha=0.5, label='P0', density=True)\n",
    "plt.hist(Q0s.reshape(-1), bins=30, alpha=0.5, label='Q0', density=True)\n",
    "plt.title('Comparison of P0 vs Q0')\n",
    "plt.xlabel('Value')\n",
    "plt.ylabel('Density')\n",
    "plt.legend()\n",
    "\n",
    "# Plot P1 vs Q1\n",
    "plt.subplot(1, 2, 2)\n",
    "plt.hist(P1s.reshape(-1), bins=30, alpha=0.5, label='P1', density=True)\n",
    "plt.hist(Q1s.reshape(-1), bins=30, alpha=0.5, label='Q1', density=True)\n",
    "plt.title('Comparison of P1 vs Q1')\n",
    "plt.xlabel('Value')\n",
    "plt.ylabel('Density')\n",
    "plt.legend()\n",
    "\n",
    "# Show plots\n",
    "plt.tight_layout()\n",
    "plt.show()"
   ]
  },
  {
   "cell_type": "markdown",
   "metadata": {},
   "source": [
    "## when training size = 1000, but introducing intrumental / prognostic / spurious variables"
   ]
  },
  {
   "cell_type": "code",
   "execution_count": 4,
   "metadata": {},
   "outputs": [
    {
     "name": "stderr",
     "output_type": "stream",
     "text": [
      "  0%|          | 0/10 [00:00<?, ?it/s]"
     ]
    },
    {
     "name": "stdout",
     "output_type": "stream",
     "text": [
      "Epoch 1: loss 1.8882, loss1 1.9554, loss2 0.1344\n",
      "Epoch 100: loss 1.3453, loss1 2.7498, loss2 2.8091\n",
      "Epoch 200: loss 1.3992, loss1 2.7676, loss2 2.7368\n",
      "Epoch 300: loss 1.3703, loss1 2.7560, loss2 2.7715\n",
      "Epoch 400: loss 1.3699, loss1 2.7672, loss2 2.7947\n",
      "Epoch 500: loss 1.3823, loss1 2.7884, loss2 2.8122\n",
      "Epoch 1: loss 2.3245,\tloss_y 1.5849, 1.6012, 0.0326,\tloss_eta 0.7395, 0.7742, 0.0693\n",
      "Epoch 100: loss 1.3226,\tloss_y 0.7410, 1.9212, 2.3604,\tloss_eta 0.5816, 1.2209, 1.2786\n",
      "Epoch 200: loss 1.3122,\tloss_y 0.6568, 1.1806, 1.0475,\tloss_eta 0.6554, 0.9461, 0.5814\n",
      "Epoch 300: loss 2.1315,\tloss_y 1.2457, 2.3595, 2.2275,\tloss_eta 0.8858, 1.2061, 0.6407\n",
      "Epoch 400: loss 1.6631,\tloss_y 0.9073, 2.0309, 2.2471,\tloss_eta 0.7557, 0.8029, 0.0943\n",
      "Epoch 500: loss 1.7872,\tloss_y 1.0814, 1.4493, 0.7357,\tloss_eta 0.7058, 0.8403, 0.2690\n",
      "Epoch 600: loss 1.5819,\tloss_y 0.9191, 2.2784, 2.7187,\tloss_eta 0.6628, 1.0252, 0.7247\n",
      "Epoch 700: loss 1.4942,\tloss_y 0.7767, 2.3580, 3.1626,\tloss_eta 0.7176, 1.0905, 0.7459\n",
      "Epoch 800: loss 1.3966,\tloss_y 0.6837, 1.6337, 1.9000,\tloss_eta 0.7129, 0.8669, 0.3081\n",
      "Epoch 900: loss 1.4125,\tloss_y 0.6599, 1.0383, 0.7568,\tloss_eta 0.7526, 0.8233, 0.1413\n"
     ]
    },
    {
     "name": "stderr",
     "output_type": "stream",
     "text": [
      " 10%|█         | 1/10 [00:13<02:00, 13.36s/it]"
     ]
    },
    {
     "name": "stdout",
     "output_type": "stream",
     "text": [
      "Epoch 1000: loss 1.2582,\tloss_y 0.5746, 1.1406, 1.1321,\tloss_eta 0.6836, 0.9093, 0.4514\n",
      "Warning: covariate dimension does not aligned with the specified input dimension; filling in the remaining dimension with noise.\n",
      "Warning: covariate dimension does not aligned with the specified input dimension; filling in the remaining dimension with noise.\n",
      "Epoch 1: loss 1.8867, loss1 1.9779, loss2 0.1824\n",
      "Epoch 100: loss 1.4343, loss1 2.7969, loss2 2.7253\n",
      "Epoch 200: loss 1.4133, loss1 2.7938, loss2 2.7611\n",
      "Epoch 300: loss 1.3952, loss1 2.7568, loss2 2.7231\n",
      "Epoch 400: loss 1.3627, loss1 2.7185, loss2 2.7116\n",
      "Epoch 500: loss 1.4145, loss1 2.7993, loss2 2.7696\n",
      "Epoch 1: loss 2.2604,\tloss_y 1.4853, 1.5050, 0.0395,\tloss_eta 0.7751, 0.8192, 0.0882\n",
      "Epoch 100: loss 1.3450,\tloss_y 0.7061, 1.8946, 2.3769,\tloss_eta 0.6389, 1.3052, 1.3325\n",
      "Epoch 200: loss 1.3343,\tloss_y 0.7058, 0.9780, 0.5445,\tloss_eta 0.6286, 0.8684, 0.4797\n",
      "Epoch 300: loss 1.7560,\tloss_y 1.1479, 2.2505, 2.2053,\tloss_eta 0.6081, 1.1890, 1.1617\n",
      "Epoch 400: loss 1.6337,\tloss_y 0.8875, 1.6574, 1.5398,\tloss_eta 0.7462, 1.1932, 0.8941\n",
      "Epoch 500: loss 1.6426,\tloss_y 0.9118, 1.7841, 1.7446,\tloss_eta 0.7308, 0.8057, 0.1497\n",
      "Epoch 600: loss 1.4869,\tloss_y 0.7728, 1.2606, 0.9757,\tloss_eta 0.7141, 0.8581, 0.2879\n",
      "Epoch 700: loss 1.5636,\tloss_y 0.8800, 2.0632, 2.3664,\tloss_eta 0.6836, 1.1420, 0.9168\n",
      "Epoch 800: loss 1.3693,\tloss_y 0.6042, 1.1827, 1.1569,\tloss_eta 0.7651, 1.3731, 1.2160\n",
      "Epoch 900: loss 1.3482,\tloss_y 0.6324, 1.0564, 0.8481,\tloss_eta 0.7158, 0.9777, 0.5237\n"
     ]
    },
    {
     "name": "stderr",
     "output_type": "stream",
     "text": [
      " 20%|██        | 2/10 [00:28<01:54, 14.36s/it]"
     ]
    },
    {
     "name": "stdout",
     "output_type": "stream",
     "text": [
      "Epoch 1000: loss 1.5001,\tloss_y 0.7950, 1.8297, 2.0692,\tloss_eta 0.7050, 0.7916, 0.1732\n",
      "Warning: covariate dimension does not aligned with the specified input dimension; filling in the remaining dimension with noise.\n",
      "Warning: covariate dimension does not aligned with the specified input dimension; filling in the remaining dimension with noise.\n",
      "Epoch 1: loss 1.8919, loss1 1.9777, loss2 0.1716\n",
      "Epoch 100: loss 1.3973, loss1 2.7690, loss2 2.7434\n",
      "Epoch 200: loss 1.3891, loss1 2.7905, loss2 2.8027\n",
      "Epoch 300: loss 1.3605, loss1 2.7522, loss2 2.7835\n",
      "Epoch 400: loss 1.4029, loss1 2.7904, loss2 2.7749\n",
      "Epoch 500: loss 1.3708, loss1 2.7819, loss2 2.8221\n",
      "Epoch 1: loss 2.2899,\tloss_y 1.5390, 1.5599, 0.0419,\tloss_eta 0.7510, 0.7807, 0.0595\n",
      "Epoch 100: loss 1.2219,\tloss_y 0.6775, 1.9178, 2.4806,\tloss_eta 0.5444, 1.0677, 1.0466\n",
      "Epoch 200: loss 1.2429,\tloss_y 0.6017, 1.1854, 1.1674,\tloss_eta 0.6412, 1.1483, 1.0142\n",
      "Epoch 300: loss 1.6030,\tloss_y 1.0105, 2.1060, 2.1910,\tloss_eta 0.5925, 0.9443, 0.7035\n",
      "Epoch 400: loss 1.1941,\tloss_y 0.6219, 1.5305, 1.8173,\tloss_eta 0.5722, 0.9727, 0.8009\n",
      "Epoch 500: loss 1.4716,\tloss_y 0.8697, 1.4239, 1.1084,\tloss_eta 0.6019, 1.0354, 0.8669\n",
      "Epoch 600: loss 1.4426,\tloss_y 0.8301, 1.0876, 0.5150,\tloss_eta 0.6125, 0.9841, 0.7433\n",
      "Epoch 700: loss 2.0038,\tloss_y 1.3624, 2.5157, 2.3065,\tloss_eta 0.6414, 1.0082, 0.7336\n",
      "Epoch 800: loss 1.8193,\tloss_y 1.0836, 1.6135, 1.0598,\tloss_eta 0.7357, 0.9523, 0.4332\n",
      "Epoch 900: loss 1.4382,\tloss_y 0.6749, 1.2817, 1.2136,\tloss_eta 0.7633, 0.7911, 0.0557\n"
     ]
    },
    {
     "name": "stderr",
     "output_type": "stream",
     "text": [
      " 30%|███       | 3/10 [00:42<01:40, 14.32s/it]"
     ]
    },
    {
     "name": "stdout",
     "output_type": "stream",
     "text": [
      "Epoch 1000: loss 1.6561,\tloss_y 0.8902, 2.1223, 2.4641,\tloss_eta 0.7659, 0.7944, 0.0569\n",
      "Warning: covariate dimension does not aligned with the specified input dimension; filling in the remaining dimension with noise.\n",
      "Warning: covariate dimension does not aligned with the specified input dimension; filling in the remaining dimension with noise.\n",
      "Epoch 1: loss 1.8823, loss1 1.9917, loss2 0.2188\n",
      "Epoch 100: loss 1.4270, loss1 2.8199, loss2 2.7859\n",
      "Epoch 200: loss 1.3902, loss1 2.7710, loss2 2.7616\n",
      "Epoch 300: loss 1.4163, loss1 2.8179, loss2 2.8032\n",
      "Epoch 400: loss 1.4278, loss1 2.8109, loss2 2.7663\n",
      "Epoch 500: loss 1.3947, loss1 2.7658, loss2 2.7423\n",
      "Epoch 1: loss 2.3438,\tloss_y 1.5702, 1.5971, 0.0538,\tloss_eta 0.7736, 0.8054, 0.0637\n",
      "Epoch 100: loss 1.4064,\tloss_y 0.7792, 2.1015, 2.6446,\tloss_eta 0.6272, 1.2508, 1.2473\n",
      "Epoch 200: loss 1.2917,\tloss_y 0.5715, 0.8566, 0.5700,\tloss_eta 0.7201, 0.8888, 0.3373\n",
      "Epoch 300: loss 1.3057,\tloss_y 0.5864, 1.4747, 1.7767,\tloss_eta 0.7194, 0.8919, 0.3451\n",
      "Epoch 400: loss 1.5390,\tloss_y 0.7829, 1.8132, 2.0606,\tloss_eta 0.7562, 0.8556, 0.1988\n",
      "Epoch 500: loss 1.3142,\tloss_y 0.6831, 1.6698, 1.9734,\tloss_eta 0.6310, 0.8905, 0.5188\n",
      "Epoch 600: loss 1.4751,\tloss_y 0.9160, 2.1147, 2.3975,\tloss_eta 0.5591, 1.1718, 1.2253\n",
      "Epoch 700: loss 1.5758,\tloss_y 0.9865, 1.5665, 1.1600,\tloss_eta 0.5893, 1.1935, 1.2085\n",
      "Epoch 800: loss 1.3320,\tloss_y 0.7494, 1.4284, 1.3579,\tloss_eta 0.5826, 1.0205, 0.8758\n",
      "Epoch 900: loss 1.2539,\tloss_y 0.6768, 1.7262, 2.0987,\tloss_eta 0.5771, 0.9759, 0.7976\n"
     ]
    },
    {
     "name": "stderr",
     "output_type": "stream",
     "text": [
      " 40%|████      | 4/10 [00:56<01:25, 14.24s/it]"
     ]
    },
    {
     "name": "stdout",
     "output_type": "stream",
     "text": [
      "Epoch 1000: loss 1.3681,\tloss_y 0.7483, 1.7292, 1.9619,\tloss_eta 0.6198, 1.1906, 1.1416\n",
      "Warning: covariate dimension does not aligned with the specified input dimension; filling in the remaining dimension with noise.\n",
      "Warning: covariate dimension does not aligned with the specified input dimension; filling in the remaining dimension with noise.\n",
      "Epoch 1: loss 1.8425, loss1 1.9409, loss2 0.1967\n",
      "Epoch 100: loss 1.3450, loss1 2.7039, loss2 2.7176\n",
      "Epoch 200: loss 1.3396, loss1 2.6919, loss2 2.7046\n",
      "Epoch 300: loss 1.3861, loss1 2.7067, loss2 2.6412\n",
      "Epoch 400: loss 1.3677, loss1 2.7179, loss2 2.7002\n",
      "Epoch 500: loss 1.3633, loss1 2.7594, loss2 2.7923\n",
      "Epoch 1: loss 2.1980,\tloss_y 1.4574, 1.4680, 0.0212,\tloss_eta 0.7406, 0.7873, 0.0934\n",
      "Epoch 100: loss 1.3431,\tloss_y 0.7456, 1.9018, 2.3124,\tloss_eta 0.5975, 1.0278, 0.8606\n",
      "Epoch 200: loss 1.5688,\tloss_y 0.7992, 1.2262, 0.8540,\tloss_eta 0.7696, 1.1387, 0.7382\n",
      "Epoch 300: loss 1.4642,\tloss_y 0.6716, 1.4527, 1.5622,\tloss_eta 0.7925, 1.1084, 0.6317\n",
      "Epoch 400: loss 1.3491,\tloss_y 0.5984, 1.3209, 1.4449,\tloss_eta 0.7506, 0.8309, 0.1606\n",
      "Epoch 500: loss 1.1664,\tloss_y 0.5371, 1.0247, 0.9752,\tloss_eta 0.6293, 0.9170, 0.5754\n",
      "Epoch 600: loss 1.2198,\tloss_y 0.5529, 0.9356, 0.7654,\tloss_eta 0.6669, 1.2937, 1.2535\n",
      "Epoch 700: loss 1.2940,\tloss_y 0.6368, 1.5123, 1.7509,\tloss_eta 0.6572, 1.1622, 1.0100\n",
      "Epoch 800: loss 1.3173,\tloss_y 0.6969, 1.9679, 2.5420,\tloss_eta 0.6203, 0.8603, 0.4799\n",
      "Epoch 900: loss 1.5154,\tloss_y 0.8320, 1.2052, 0.7464,\tloss_eta 0.6834, 0.8004, 0.2340\n"
     ]
    },
    {
     "name": "stderr",
     "output_type": "stream",
     "text": [
      " 50%|█████     | 5/10 [01:09<01:08, 13.70s/it]"
     ]
    },
    {
     "name": "stdout",
     "output_type": "stream",
     "text": [
      "Epoch 1000: loss 1.4694,\tloss_y 0.8479, 1.2464, 0.7969,\tloss_eta 0.6215, 0.8762, 0.5094\n",
      "Warning: covariate dimension does not aligned with the specified input dimension; filling in the remaining dimension with noise.\n",
      "Warning: covariate dimension does not aligned with the specified input dimension; filling in the remaining dimension with noise.\n",
      "Epoch 1: loss 1.8761, loss1 1.9688, loss2 0.1856\n",
      "Epoch 100: loss 1.3600, loss1 2.7245, loss2 2.7289\n",
      "Epoch 200: loss 1.4004, loss1 2.7997, loss2 2.7987\n",
      "Epoch 300: loss 1.3842, loss1 2.7648, loss2 2.7612\n",
      "Epoch 400: loss 1.3378, loss1 2.7438, loss2 2.8120\n",
      "Epoch 500: loss 1.3586, loss1 2.7584, loss2 2.7996\n",
      "Epoch 1: loss 2.3320,\tloss_y 1.5791, 1.5939, 0.0295,\tloss_eta 0.7529, 0.7877, 0.0696\n",
      "Epoch 100: loss 1.1746,\tloss_y 0.6380, 1.7806, 2.2853,\tloss_eta 0.5366, 1.1125, 1.1516\n",
      "Epoch 200: loss 1.2822,\tloss_y 0.7045, 1.1366, 0.8643,\tloss_eta 0.5777, 0.9679, 0.7803\n",
      "Epoch 300: loss 1.7735,\tloss_y 1.0511, 2.2293, 2.3563,\tloss_eta 0.7223, 1.0765, 0.7084\n",
      "Epoch 400: loss 1.5086,\tloss_y 0.7620, 1.8963, 2.2687,\tloss_eta 0.7466, 1.1215, 0.7497\n",
      "Epoch 500: loss 1.3788,\tloss_y 0.7155, 1.0514, 0.6719,\tloss_eta 0.6633, 0.8321, 0.3374\n",
      "Epoch 600: loss 1.3217,\tloss_y 0.6499, 1.6055, 1.9113,\tloss_eta 0.6718, 0.8002, 0.2568\n",
      "Epoch 700: loss 1.4620,\tloss_y 0.8442, 1.5542, 1.4200,\tloss_eta 0.6178, 0.9482, 0.6607\n",
      "Epoch 800: loss 1.5960,\tloss_y 0.9111, 1.9348, 2.0474,\tloss_eta 0.6849, 0.9565, 0.5432\n",
      "Epoch 900: loss 1.2544,\tloss_y 0.6482, 1.0087, 0.7210,\tloss_eta 0.6062, 1.0248, 0.8374\n"
     ]
    },
    {
     "name": "stderr",
     "output_type": "stream",
     "text": [
      " 60%|██████    | 6/10 [01:22<00:53, 13.47s/it]"
     ]
    },
    {
     "name": "stdout",
     "output_type": "stream",
     "text": [
      "Epoch 1000: loss 1.2948,\tloss_y 0.6699, 1.2678, 1.1958,\tloss_eta 0.6249, 1.4508, 1.6518\n",
      "Warning: covariate dimension does not aligned with the specified input dimension; filling in the remaining dimension with noise.\n",
      "Warning: covariate dimension does not aligned with the specified input dimension; filling in the remaining dimension with noise.\n",
      "Epoch 1: loss 1.9019, loss1 1.9762, loss2 0.1487\n",
      "Epoch 100: loss 1.3938, loss1 2.7747, loss2 2.7618\n",
      "Epoch 200: loss 1.4041, loss1 2.8030, loss2 2.7978\n",
      "Epoch 300: loss 1.3499, loss1 2.7824, loss2 2.8650\n",
      "Epoch 400: loss 1.3957, loss1 2.7500, loss2 2.7087\n",
      "Epoch 500: loss 1.4315, loss1 2.8032, loss2 2.7433\n",
      "Epoch 1: loss 2.2506,\tloss_y 1.4827, 1.5019, 0.0384,\tloss_eta 0.7679, 0.8146, 0.0933\n",
      "Epoch 100: loss 1.2196,\tloss_y 0.6666, 1.8061, 2.2790,\tloss_eta 0.5530, 1.1657, 1.2253\n",
      "Epoch 200: loss 1.3527,\tloss_y 0.6110, 1.0074, 0.7928,\tloss_eta 0.7418, 0.8669, 0.2503\n",
      "Epoch 300: loss 1.1835,\tloss_y 0.5319, 1.2486, 1.4334,\tloss_eta 0.6516, 0.8599, 0.4167\n",
      "Epoch 400: loss 1.2583,\tloss_y 0.5826, 1.4305, 1.6959,\tloss_eta 0.6757, 0.8842, 0.4169\n",
      "Epoch 500: loss 1.2390,\tloss_y 0.5799, 1.5478, 1.9359,\tloss_eta 0.6591, 0.8423, 0.3662\n",
      "Epoch 600: loss 1.3527,\tloss_y 0.7066, 1.4444, 1.4755,\tloss_eta 0.6461, 0.9344, 0.5767\n",
      "Epoch 700: loss 1.3469,\tloss_y 0.7478, 1.9591, 2.4225,\tloss_eta 0.5991, 1.3812, 1.5642\n",
      "Epoch 800: loss 1.2147,\tloss_y 0.5561, 0.9855, 0.8588,\tloss_eta 0.6586, 1.5960, 1.8747\n",
      "Epoch 900: loss 1.1812,\tloss_y 0.5394, 0.8726, 0.6665,\tloss_eta 0.6419, 1.4158, 1.5479\n"
     ]
    },
    {
     "name": "stderr",
     "output_type": "stream",
     "text": [
      " 70%|███████   | 7/10 [01:35<00:40, 13.43s/it]"
     ]
    },
    {
     "name": "stdout",
     "output_type": "stream",
     "text": [
      "Epoch 1000: loss 1.1753,\tloss_y 0.6017, 1.3608, 1.5182,\tloss_eta 0.5736, 1.0550, 0.9628\n",
      "Warning: covariate dimension does not aligned with the specified input dimension; filling in the remaining dimension with noise.\n",
      "Warning: covariate dimension does not aligned with the specified input dimension; filling in the remaining dimension with noise.\n",
      "Epoch 1: loss 1.8830, loss1 1.9753, loss2 0.1847\n",
      "Epoch 100: loss 1.4059, loss1 2.8098, loss2 2.8078\n",
      "Epoch 200: loss 1.4000, loss1 2.8031, loss2 2.8061\n",
      "Epoch 300: loss 1.4176, loss1 2.7711, loss2 2.7070\n",
      "Epoch 400: loss 1.4186, loss1 2.7988, loss2 2.7605\n",
      "Epoch 500: loss 1.3466, loss1 2.7178, loss2 2.7424\n",
      "Epoch 1: loss 2.2683,\tloss_y 1.5141, 1.5245, 0.0207,\tloss_eta 0.7542, 0.7871, 0.0657\n",
      "Epoch 100: loss 1.3040,\tloss_y 0.6634, 1.1651, 1.0035,\tloss_eta 0.6406, 1.1783, 1.0752\n",
      "Epoch 200: loss 1.4503,\tloss_y 0.6720, 1.5455, 1.7470,\tloss_eta 0.7783, 1.0418, 0.5270\n",
      "Epoch 300: loss 1.3952,\tloss_y 0.6560, 1.0789, 0.8458,\tloss_eta 0.7392, 0.8554, 0.2323\n",
      "Epoch 400: loss 1.2843,\tloss_y 0.6912, 1.1167, 0.8512,\tloss_eta 0.5932, 0.8808, 0.5752\n",
      "Epoch 500: loss 1.2929,\tloss_y 0.7208, 1.2099, 0.9783,\tloss_eta 0.5722, 1.3944, 1.6444\n",
      "Epoch 600: loss 1.2338,\tloss_y 0.6485, 1.6363, 1.9756,\tloss_eta 0.5853, 1.3786, 1.5866\n",
      "Epoch 700: loss 1.4503,\tloss_y 0.8330, 1.3470, 1.0281,\tloss_eta 0.6174, 0.9220, 0.6093\n",
      "Epoch 800: loss 1.4426,\tloss_y 0.8257, 2.0233, 2.3953,\tloss_eta 0.6169, 0.9731, 0.7124\n",
      "Epoch 900: loss 1.2037,\tloss_y 0.5696, 1.6111, 2.0830,\tloss_eta 0.6341, 1.6410, 2.0138\n"
     ]
    },
    {
     "name": "stderr",
     "output_type": "stream",
     "text": [
      " 80%|████████  | 8/10 [01:49<00:26, 13.37s/it]"
     ]
    },
    {
     "name": "stdout",
     "output_type": "stream",
     "text": [
      "Epoch 1000: loss 1.2543,\tloss_y 0.5908, 1.2758, 1.3699,\tloss_eta 0.6635, 1.8696, 2.4122\n",
      "Warning: covariate dimension does not aligned with the specified input dimension; filling in the remaining dimension with noise.\n",
      "Warning: covariate dimension does not aligned with the specified input dimension; filling in the remaining dimension with noise.\n",
      "Epoch 1: loss 1.8682, loss1 1.9489, loss2 0.1613\n",
      "Epoch 100: loss 1.3682, loss1 2.6797, loss2 2.6230\n",
      "Epoch 200: loss 1.4016, loss1 2.7525, loss2 2.7018\n",
      "Epoch 300: loss 1.3865, loss1 2.7207, loss2 2.6685\n",
      "Epoch 400: loss 1.4215, loss1 2.7348, loss2 2.6267\n",
      "Epoch 500: loss 1.3419, loss1 2.7281, loss2 2.7725\n",
      "Epoch 1: loss 2.2977,\tloss_y 1.5158, 1.5410, 0.0503,\tloss_eta 0.7819, 0.8178, 0.0718\n",
      "Epoch 100: loss 1.2169,\tloss_y 0.6709, 1.8224, 2.3030,\tloss_eta 0.5460, 1.2778, 1.4637\n",
      "Epoch 200: loss 1.5549,\tloss_y 0.8207, 1.1373, 0.6332,\tloss_eta 0.7341, 0.9246, 0.3808\n",
      "Epoch 300: loss 1.3778,\tloss_y 0.7490, 1.9543, 2.4105,\tloss_eta 0.6288, 0.8947, 0.5317\n",
      "Epoch 400: loss 1.2184,\tloss_y 0.6317, 1.4896, 1.7158,\tloss_eta 0.5867, 1.2894, 1.4053\n",
      "Epoch 500: loss 1.2787,\tloss_y 0.5733, 1.1588, 1.1709,\tloss_eta 0.7053, 1.1685, 0.9263\n",
      "Epoch 600: loss 1.2741,\tloss_y 0.5830, 1.0978, 1.0296,\tloss_eta 0.6911, 0.8201, 0.2579\n",
      "Epoch 700: loss 1.4257,\tloss_y 0.7747, 1.6817, 1.8139,\tloss_eta 0.6510, 1.0388, 0.7755\n",
      "Epoch 800: loss 1.3099,\tloss_y 0.6760, 1.0657, 0.7793,\tloss_eta 0.6339, 0.8757, 0.4835\n",
      "Epoch 900: loss 1.3223,\tloss_y 0.7248, 1.3374, 1.2251,\tloss_eta 0.5975, 1.0350, 0.8749\n"
     ]
    },
    {
     "name": "stderr",
     "output_type": "stream",
     "text": [
      " 90%|█████████ | 9/10 [02:02<00:13, 13.36s/it]"
     ]
    },
    {
     "name": "stdout",
     "output_type": "stream",
     "text": [
      "Epoch 1000: loss 1.1581,\tloss_y 0.6194, 1.5871, 1.9354,\tloss_eta 0.5387, 1.1125, 1.1476\n",
      "Warning: covariate dimension does not aligned with the specified input dimension; filling in the remaining dimension with noise.\n",
      "Warning: covariate dimension does not aligned with the specified input dimension; filling in the remaining dimension with noise.\n",
      "Epoch 1: loss 1.8432, loss1 1.9161, loss2 0.1458\n",
      "Epoch 100: loss 1.3493, loss1 2.6916, loss2 2.6846\n",
      "Epoch 200: loss 1.3951, loss1 2.6851, loss2 2.5800\n",
      "Epoch 300: loss 1.3702, loss1 2.7077, loss2 2.6749\n",
      "Epoch 400: loss 1.3802, loss1 2.7303, loss2 2.7001\n",
      "Epoch 500: loss 1.3189, loss1 2.6659, loss2 2.6940\n",
      "Epoch 1: loss 2.3281,\tloss_y 1.5406, 1.5580, 0.0348,\tloss_eta 0.7875, 0.8350, 0.0950\n",
      "Epoch 100: loss 1.1592,\tloss_y 0.5861, 1.2761, 1.3799,\tloss_eta 0.5731, 1.0270, 0.9078\n",
      "Epoch 200: loss 1.3159,\tloss_y 0.6266, 1.4247, 1.5963,\tloss_eta 0.6893, 0.8491, 0.3196\n",
      "Epoch 300: loss 1.2932,\tloss_y 0.5317, 1.0696, 1.0759,\tloss_eta 0.7615, 0.9120, 0.3010\n",
      "Epoch 400: loss 1.2072,\tloss_y 0.5267, 0.9877, 0.9220,\tloss_eta 0.6805, 0.9073, 0.4537\n",
      "Epoch 500: loss 1.3636,\tloss_y 0.6422, 1.0970, 0.9097,\tloss_eta 0.7214, 0.8224, 0.2020\n",
      "Epoch 600: loss 1.2931,\tloss_y 0.5747, 1.4041, 1.6588,\tloss_eta 0.7184, 0.8405, 0.2442\n",
      "Epoch 700: loss 1.4141,\tloss_y 0.7777, 2.0331, 2.5107,\tloss_eta 0.6363, 0.9418, 0.6109\n",
      "Epoch 800: loss 1.1377,\tloss_y 0.5678, 1.1302, 1.1249,\tloss_eta 0.5699, 1.1591, 1.1784\n",
      "Epoch 900: loss 1.3619,\tloss_y 0.7708, 1.6108, 1.6799,\tloss_eta 0.5911, 1.3467, 1.5113\n"
     ]
    },
    {
     "name": "stderr",
     "output_type": "stream",
     "text": [
      "100%|██████████| 10/10 [02:15<00:00, 13.57s/it]"
     ]
    },
    {
     "name": "stdout",
     "output_type": "stream",
     "text": [
      "Epoch 1000: loss 1.3968,\tloss_y 0.7984, 1.4711, 1.3455,\tloss_eta 0.5984, 1.3969, 1.5970\n",
      "Warning: covariate dimension does not aligned with the specified input dimension; filling in the remaining dimension with noise.\n",
      "Warning: covariate dimension does not aligned with the specified input dimension; filling in the remaining dimension with noise.\n"
     ]
    },
    {
     "name": "stderr",
     "output_type": "stream",
     "text": [
      "\n"
     ]
    },
    {
     "data": {
      "image/png": "[encoded data removed]",
      "text/plain": [
       "<Figure size 1200x600 with 2 Axes>"
      ]
     },
     "metadata": {},
     "output_type": "display_data"
    }
   ],
   "source": [
    "nrep = 10 # for equivalence testing\n",
    "n_tr = 1000\n",
    "n_p = 500\n",
    "# Initialize an empty list to store each Q_single\n",
    "nI = 1\n",
    "nX = 1\n",
    "nO = 1\n",
    "nS= 1\n",
    "p = nI+nX+nO+nS\n",
    "binary_intervention=True\n",
    "\n",
    "# Initialize an empty list to store each Q_single\n",
    "P0_list = []\n",
    "Q0_list = []\n",
    "P1_list = []\n",
    "Q1_list = []\n",
    "for _ in tqdm(range(nrep)):\n",
    "    df_tr = generate_data_causl(n=n_tr, nI =nI, nX= nX, nO = nO, nS = nS, ate = ate, beta_cov = beta_cov, strength_instr = strength_instr, strength_conf = strength_conf, strength_outcome =strength_outcome, binary_intervention=binary_intervention)\n",
    "\n",
    "    z_tr = torch.tensor(df_tr[[f\"X{i}\" for i in range(1, p + 1)]].values, dtype=torch.float32)\n",
    "    if binary_intervention:\n",
    "        x_tr = torch.tensor(df_tr['A'].values, dtype=torch.int32).view(-1, 1)\n",
    "    else:\n",
    "        x_tr = torch.tensor(df_tr['A'].values, dtype=torch.float32).view(-1, 1)\n",
    "\n",
    "    y_tr = torch.tensor(df_tr['y'].values, dtype=torch.float32).view(-1, 1)\n",
    "\n",
    "    model = Frengression(x_tr.shape[1], y_tr.shape[1], z_tr.shape[1], noise_dim=1, num_layer=3, hidden_dim=400, device=device, x_binary = binary_intervention)\n",
    "    model.train_xz(x_tr, z_tr, num_iters=500, print_every_iter=100)\n",
    "    model.train_y(x_tr, z_tr, y_tr, num_iters=1000, lr=1e-4, print_every_iter=100)\n",
    "\n",
    "    # sample from causal marginal distribution\n",
    "    Q0_single= np.random.normal(loc=0, scale=1, size=n_p).reshape([n_p,1])\n",
    "    Q0_list.append(Q0_single)\n",
    "    Q1_single= np.random.normal(loc=ate, scale=1, size=n_p).reshape([n_p,1])\n",
    "    Q1_list.append(Q1_single)\n",
    "\n",
    "\n",
    "    P0_single = (model.sample_causal_margin(torch.tensor([0], dtype=torch.int32), sample_size=n_p)).numpy().reshape(-1,1)\n",
    "    P0_list.append(P0_single)\n",
    "    P1_single = (model.sample_causal_margin(torch.tensor([1], dtype=torch.int32), sample_size=n_p)).numpy().reshape(-1,1)\n",
    "    P1_list.append(P1_single)\n",
    "  \n",
    "\n",
    "P0s = np.stack(P0_list, axis=0) #[nrep, n, 1]\n",
    "Q0s = np.stack(Q0_list, axis=0)\n",
    "P1s = np.stack(P1_list, axis=0)\n",
    "Q1s = np.stack(Q1_list, axis=0)\n",
    "\n",
    "\n",
    "# Create histograms with overlapping bars\n",
    "plt.figure(figsize=(12, 6))\n",
    "\n",
    "# Plot P0 vs Q0\n",
    "plt.subplot(1, 2, 1)\n",
    "plt.hist(P0s.reshape(-1), bins=30, alpha=0.5, label='P0', density=True)\n",
    "plt.hist(Q0s.reshape(-1), bins=30, alpha=0.5, label='Q0', density=True)\n",
    "plt.title('Comparison of P0 vs Q0')\n",
    "plt.xlabel('Value')\n",
    "plt.ylabel('Density')\n",
    "plt.legend()\n",
    "\n",
    "# Plot P1 vs Q1\n",
    "plt.subplot(1, 2, 2)\n",
    "plt.hist(P1s.reshape(-1), bins=30, alpha=0.5, label='P1', density=True)\n",
    "plt.hist(Q1s.reshape(-1), bins=30, alpha=0.5, label='Q1', density=True)\n",
    "plt.title('Comparison of P1 vs Q1')\n",
    "plt.xlabel('Value')\n",
    "plt.ylabel('Density')\n",
    "plt.legend()\n",
    "\n",
    "# Show plots\n",
    "plt.tight_layout()\n",
    "plt.show()"
   ]
  }
 ],
 "metadata": {
  "kernelspec": {
   "display_name": "base",
   "language": "python",
   "name": "python3"
  },
  "language_info": {
   "codemirror_mode": {
    "name": "ipython",
    "version": 3
   },
   "file_extension": ".py",
   "mimetype": "text/x-python",
   "name": "python",
   "nbconvert_exporter": "python",
   "pygments_lexer": "ipython3",
   "version": "3.11.7"
  }
 },
 "nbformat": 4,
 "nbformat_minor": 2
}
