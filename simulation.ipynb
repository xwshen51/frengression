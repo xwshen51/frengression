{
 "cells": [
  {
   "cell_type": "code",
   "execution_count": 2,
   "metadata": {},
   "outputs": [],
   "source": [
    "import importlib\n",
    "import frengression\n",
    "# importlib.reload(frengression)\n",
    "from data_causl.data_causl import generate_data_causl\n",
    "from frengression import *\n",
    "device = torch.device('cpu')"
   ]
  },
  {
   "cell_type": "code",
   "execution_count": 3,
   "metadata": {},
   "outputs": [],
   "source": [
    "n = 10000\n",
    "n_te = 1000\n",
    "nI = 1\n",
    "nX = 1\n",
    "nO = 1\n",
    "nS= 1\n",
    "p = nI+nX+nO+nS\n",
    "\n",
    "df = generate_data_causl(n=n, nI =nI, nX= nX, nO = nO, nS = nS, ate = 2, beta_cov = 0, strength_instr = 3, strength_conf = 1, strength_outcome = 1)\n",
    "z = torch.tensor(df[[f\"X{i}\" for i in range(1, p + 1)]].values, dtype=torch.float32)\n",
    "# z = torch.tensor(df['X2'].values,dtype=torch.float32).view(-1, 1)\n",
    "x = torch.tensor(df['A'].values, dtype=torch.float32).view(-1, 1)\n",
    "y = torch.tensor(df['y'].values, dtype=torch.float32).view(-1, 1)\n",
    "\n",
    "df_te = generate_data_causl(n=n_te, nI =nI, nX= nX, nO = nO, nS = nS, ate = 2, beta_cov = 0, strength_instr = 3, strength_conf = 1, strength_outcome = 1)\n",
    "z_te = torch.tensor(df_te[[f\"X{i}\" for i in range(1, p + 1)]].values, dtype=torch.float32)\n",
    "# z = torch.tensor(df['X2'].values,dtype=torch.float32).view(-1, 1)\n",
    "x_te = torch.tensor(df_te['A'].values, dtype=torch.float32).view(-1, 1)\n",
    "y_te = torch.tensor(df_te['y'].values, dtype=torch.float32).view(-1, 1)"
   ]
  },
  {
   "cell_type": "code",
   "execution_count": 4,
   "metadata": {},
   "outputs": [],
   "source": [
    "x = x.to(device)\n",
    "y = y.to(device)\n",
    "z = z.to(device)\n",
    "\n",
    "x_te = x_te.to(device)\n",
    "y_te = y_te.to(device)\n",
    "z_te = z_te.to(device)"
   ]
  },
  {
   "cell_type": "code",
   "execution_count": 5,
   "metadata": {},
   "outputs": [],
   "source": [
    "model = Frengression(x.shape[1], y.shape[1], z.shape[1], noise_dim=1, num_layer=3, hidden_dim=400, device=device)"
   ]
  },
  {
   "cell_type": "code",
   "execution_count": 7,
   "metadata": {},
   "outputs": [
    {
     "name": "stdout",
     "output_type": "stream",
     "text": [
      "Epoch 1: loss 1.9250, loss1 2.0279, loss2 0.2057\n",
      "Epoch 100: loss 1.3814, loss1 2.7585, loss2 2.7543\n",
      "Epoch 200: loss 1.3785, loss1 2.7597, loss2 2.7624\n",
      "Epoch 300: loss 1.3804, loss1 2.7647, loss2 2.7686\n",
      "Epoch 400: loss 1.3893, loss1 2.7616, loss2 2.7446\n",
      "Epoch 500: loss 1.3891, loss1 2.7518, loss2 2.7255\n"
     ]
    }
   ],
   "source": [
    "model.train_xz(x, z, num_iters=500, print_every_iter=100)"
   ]
  },
  {
   "cell_type": "code",
   "execution_count": 8,
   "metadata": {},
   "outputs": [
    {
     "name": "stdout",
     "output_type": "stream",
     "text": [
      "Epoch 1: loss 2.3784,\tloss_y 1.6063, 1.6318, 0.0509,\tloss_eta 0.7721, 0.8039, 0.0637\n",
      "Epoch 100: loss 1.2488,\tloss_y 0.6816, 1.7932, 2.2232,\tloss_eta 0.5672, 1.1687, 1.2030\n",
      "Epoch 200: loss 1.5020,\tloss_y 0.8270, 1.0972, 0.5405,\tloss_eta 0.6750, 0.8610, 0.3719\n",
      "Epoch 300: loss 1.2940,\tloss_y 0.6821, 1.5312, 1.6983,\tloss_eta 0.6119, 0.8892, 0.5545\n",
      "Epoch 400: loss 1.4770,\tloss_y 0.7620, 1.4321, 1.3402,\tloss_eta 0.7149, 1.0195, 0.6092\n",
      "Epoch 500: loss 1.6541,\tloss_y 0.9283, 2.0230, 2.1895,\tloss_eta 0.7258, 0.8146, 0.1776\n",
      "Epoch 600: loss 1.3747,\tloss_y 0.6999, 1.6377, 1.8755,\tloss_eta 0.6748, 0.9658, 0.5819\n",
      "Epoch 700: loss 1.3181,\tloss_y 0.6329, 1.5597, 1.8536,\tloss_eta 0.6853, 1.2271, 1.0837\n",
      "Epoch 800: loss 1.3824,\tloss_y 0.7363, 1.7859, 2.0991,\tloss_eta 0.6461, 1.0587, 0.8253\n",
      "Epoch 900: loss 1.1773,\tloss_y 0.5649, 0.9644, 0.7989,\tloss_eta 0.6123, 0.9804, 0.7361\n",
      "Epoch 1000: loss 1.0977,\tloss_y 0.5101, 1.0942, 1.1682,\tloss_eta 0.5876, 1.2595, 1.3437\n",
      "Epoch 1100: loss 1.3746,\tloss_y 0.7866, 1.9193, 2.2655,\tloss_eta 0.5880, 1.5504, 1.9247\n",
      "Epoch 1200: loss 1.3355,\tloss_y 0.7098, 1.2111, 1.0028,\tloss_eta 0.6258, 1.5211, 1.7906\n",
      "Epoch 1300: loss 1.2845,\tloss_y 0.6827, 0.9878, 0.6102,\tloss_eta 0.6018, 1.3185, 1.4334\n",
      "Epoch 1400: loss 1.1758,\tloss_y 0.5856, 1.0874, 1.0037,\tloss_eta 0.5902, 1.1517, 1.1231\n",
      "Epoch 1500: loss 1.2651,\tloss_y 0.6609, 1.3302, 1.3386,\tloss_eta 0.6043, 1.1408, 1.0731\n",
      "Epoch 1600: loss 1.1799,\tloss_y 0.5944, 1.1215, 1.0541,\tloss_eta 0.5855, 1.2564, 1.3419\n",
      "Epoch 1700: loss 1.2343,\tloss_y 0.6534, 1.1890, 1.0712,\tloss_eta 0.5809, 1.3697, 1.5776\n",
      "Epoch 1800: loss 1.1393,\tloss_y 0.5556, 1.3614, 1.6117,\tloss_eta 0.5837, 1.4003, 1.6331\n",
      "Epoch 1900: loss 1.2386,\tloss_y 0.6534, 1.5824, 1.8579,\tloss_eta 0.5852, 1.3930, 1.6157\n",
      "Epoch 2000: loss 1.0956,\tloss_y 0.5251, 1.2062, 1.3622,\tloss_eta 0.5706, 1.3679, 1.5946\n"
     ]
    }
   ],
   "source": [
    "model.train_y(x, z, y, num_iters=2000, lr=1e-4, print_every_iter=100)"
   ]
  },
  {
   "cell_type": "code",
   "execution_count": 9,
   "metadata": {},
   "outputs": [
    {
     "name": "stdout",
     "output_type": "stream",
     "text": [
      "Warning: covariate dimension does not aligned with the specified input dimension; filling in the remaining dimension with noise.\n"
     ]
    }
   ],
   "source": [
    "y_pred_causal = model.predict_causal(x_te, sample_size=1000)"
   ]
  },
  {
   "cell_type": "code",
   "execution_count": 12,
   "metadata": {},
   "outputs": [
    {
     "data": {
      "image/png": "[encoded data removed]",
      "text/plain": [
       "<Figure size 640x480 with 1 Axes>"
      ]
     },
     "metadata": {},
     "output_type": "display_data"
    }
   ],
   "source": [
    "plt.scatter(x_te, y_te, s=1, label='true')\n",
    "plt.scatter(x_te, y_pred_causal.cpu(), s=1, label='pred')\n",
    "plt.legend(); plt.show()"
   ]
  },
  {
   "cell_type": "code",
   "execution_count": null,
   "metadata": {},
   "outputs": [],
   "source": []
  }
 ],
 "metadata": {
  "kernelspec": {
   "display_name": "base",
   "language": "python",
   "name": "python3"
  },
  "language_info": {
   "codemirror_mode": {
    "name": "ipython",
    "version": 3
   },
   "file_extension": ".py",
   "mimetype": "text/x-python",
   "name": "python",
   "nbconvert_exporter": "python",
   "pygments_lexer": "ipython3",
   "version": "3.11.7"
  }
 },
 "nbformat": 4,
 "nbformat_minor": 2
}
