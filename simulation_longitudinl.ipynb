{
 "cells": [
  {
   "cell_type": "code",
   "execution_count": 1,
   "metadata": {},
   "outputs": [],
   "source": [
    "import importlib\n",
    "import frengression\n",
    "# importlib.reload(frengression)\n",
    "from data_causl.utils import *\n",
    "from data_causl.data import *\n",
    "from frengression import *\n",
    "\n",
    "device = torch.device('cpu')\n",
    "from CausalEGM import *\n",
    "\n",
    "import numpy as np\n",
    "import jax.numpy as jnp\n",
    "import pickle\n",
    "import os\n",
    "from tqdm import tqdm\n",
    "import src.exp_utils as exp_utils\n",
    "\n",
    "from matplotlib import pyplot as plt\n",
    "import seaborn as sns\n",
    "from sklearn.linear_model import LogisticRegression, LinearRegression\n",
    "from sklearn.metrics import log_loss\n",
    "from scipy.spatial.distance import pdist, squareform\n",
    "import warnings\n",
    "warnings.filterwarnings(\"ignore\", category=FutureWarning)\n",
    "warnings.filterwarnings(\"ignore\", category=DeprecationWarning)\n",
    "warnings.filterwarnings(\"ignore\", category=UserWarning)"
   ]
  },
  {
   "cell_type": "code",
   "execution_count": 2,
   "metadata": {},
   "outputs": [],
   "source": [
    "s, x,z,y= generate_data_survivl(n=10,T=3)"
   ]
  },
  {
   "cell_type": "code",
   "execution_count": 3,
   "metadata": {},
   "outputs": [],
   "source": [
    "s = torch.tensor(s, dtype=torch.float32)\n",
    "x = torch.tensor(x, dtype=torch.float32)\n",
    "y = torch.tensor(y, dtype=torch.float32)\n",
    "z = torch.tensor(z, dtype=torch.float32)"
   ]
  },
  {
   "cell_type": "code",
   "execution_count": 4,
   "metadata": {},
   "outputs": [],
   "source": [
    "model = FrengressionSeq(x_dim=1, y_dim=1, z_dim=1, T=3, s_dim = 1, noise_dim=10, num_layer=3, hidden_dim=100, device=device, x_binary = False)"
   ]
  },
  {
   "cell_type": "code",
   "execution_count": 5,
   "metadata": {},
   "outputs": [
    {
     "name": "stdout",
     "output_type": "stream",
     "text": [
      "Warning: covariate dimension does not aligned with the specified input dimension; filling in the remaining dimension with noise.\n",
      "Warning: covariate dimension does not aligned with the specified input dimension; filling in the remaining dimension with noise.\n"
     ]
    },
    {
     "data": {
      "text/plain": [
       "(tensor([[ 0.0744,  0.0795, -0.0495],\n",
       "         [ 0.1413,  0.0518, -0.1206],\n",
       "         [ 0.1888,  0.1367, -0.2202],\n",
       "         [ 0.1960,  0.0772, -0.1084],\n",
       "         [ 0.1093,  0.1330, -0.1330],\n",
       "         [ 0.0819,  0.0457, -0.2311],\n",
       "         [ 0.1436,  0.0556, -0.0918],\n",
       "         [ 0.0924,  0.0932, -0.0600],\n",
       "         [ 0.2395,  0.0859, -0.0991],\n",
       "         [ 0.1105,  0.1390, -0.1398]], grad_fn=<CatBackward0>),\n",
       " tensor([[ 0.1942,  0.0878,  0.0877],\n",
       "         [ 0.0249, -0.0410,  0.0592],\n",
       "         [-0.0982, -0.0835, -0.0602],\n",
       "         [-0.0032, -0.0921, -0.0014],\n",
       "         [ 0.0337, -0.1138, -0.0564],\n",
       "         [ 0.0916,  0.1178, -0.0620],\n",
       "         [-0.1375,  0.1587,  0.0753],\n",
       "         [ 0.0505,  0.1494,  0.0018],\n",
       "         [ 0.0208, -0.1692, -0.0390],\n",
       "         [ 0.1315, -0.0034,  0.0368]], grad_fn=<CatBackward0>))"
      ]
     },
     "execution_count": 5,
     "metadata": {},
     "output_type": "execute_result"
    }
   ],
   "source": [
    "model.sample_xz(s=s, x=x, z=z, y = y)"
   ]
  },
  {
   "cell_type": "code",
   "execution_count": 7,
   "metadata": {},
   "outputs": [],
   "source": [
    "eta_try = model.sample_eta(x=x,z=z)"
   ]
  },
  {
   "cell_type": "code",
   "execution_count": 8,
   "metadata": {},
   "outputs": [
    {
     "data": {
      "text/plain": [
       "tensor([[-0.1164,  0.0345, -0.0610],\n",
       "        [-0.1726, -0.0159, -0.0731],\n",
       "        [-0.0598, -0.1156, -0.0662],\n",
       "        [-0.0608,  0.0146, -0.1061],\n",
       "        [-0.0940, -0.1299, -0.1508],\n",
       "        [-0.0859, -0.1340,  0.0008],\n",
       "        [ 0.0076, -0.0570, -0.1401],\n",
       "        [ 0.0271, -0.0314, -0.0100],\n",
       "        [-0.0974, -0.0466, -0.1284],\n",
       "        [ 0.0605,  0.0649, -0.0890]], grad_fn=<CatBackward0>)"
      ]
     },
     "execution_count": 8,
     "metadata": {},
     "output_type": "execute_result"
    }
   ],
   "source": [
    "model.sample_y(x=x,z=z,eta=eta_try)"
   ]
  },
  {
   "cell_type": "code",
   "execution_count": 19,
   "metadata": {},
   "outputs": [
    {
     "data": {
      "text/plain": [
       "tensor([[ 0.5512, -1.8793,  0.8042],\n",
       "        [ 1.7757, -1.2392,  0.0764],\n",
       "        [ 2.0281,  1.1604,  1.0271],\n",
       "        [ 1.3850,  0.0037,  1.7708],\n",
       "        [ 0.3300, -0.0955, -0.4577],\n",
       "        [ 0.1655,  1.7956,  1.3170],\n",
       "        [ 0.9873, -1.3221, -0.3142],\n",
       "        [ 1.4977, -0.2761, -0.4942],\n",
       "        [ 0.6125, -0.7440, -0.0250],\n",
       "        [ 0.6384, -1.0701, -0.8644]])"
      ]
     },
     "execution_count": 19,
     "metadata": {},
     "output_type": "execute_result"
    }
   ],
   "source": []
  },
  {
   "cell_type": "code",
   "execution_count": 14,
   "metadata": {},
   "outputs": [
    {
     "data": {
      "text/plain": [
       "tensor([0.2428, 1.5665, 0.2144, 0.9146, 1.7378, 1.2524, 0.9293, 0.1718, 1.4671,\n",
       "        0.8637])"
      ]
     },
     "execution_count": 14,
     "metadata": {},
     "output_type": "execute_result"
    }
   ],
   "source": [
    "x[:,]"
   ]
  },
  {
   "cell_type": "code",
   "execution_count": null,
   "metadata": {},
   "outputs": [],
   "source": []
  }
 ],
 "metadata": {
  "kernelspec": {
   "display_name": "base",
   "language": "python",
   "name": "python3"
  },
  "language_info": {
   "codemirror_mode": {
    "name": "ipython",
    "version": 3
   },
   "file_extension": ".py",
   "mimetype": "text/x-python",
   "name": "python",
   "nbconvert_exporter": "python",
   "pygments_lexer": "ipython3",
   "version": "3.11.7"
  }
 },
 "nbformat": 4,
 "nbformat_minor": 2
}
