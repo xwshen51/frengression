{
 "cells": [
  {
   "cell_type": "code",
   "execution_count": 1,
   "metadata": {},
   "outputs": [],
   "source": [
    "import importlib\n",
    "import frengression\n",
    "# importlib.reload(frengression)\n",
    "from data_causl.utils import *\n",
    "from data_causl.data import *\n",
    "from frengression import *\n",
    "\n",
    "device = torch.device('cpu')\n",
    "from CausalEGM import *\n",
    "\n",
    "import numpy as np\n",
    "import jax.numpy as jnp\n",
    "import pickle\n",
    "import os\n",
    "from tqdm import tqdm\n",
    "import src.exp_utils as exp_utils\n",
    "\n",
    "from matplotlib import pyplot as plt\n",
    "import seaborn as sns\n",
    "from sklearn.linear_model import LogisticRegression, LinearRegression\n",
    "from sklearn.metrics import log_loss\n",
    "from scipy.spatial.distance import pdist, squareform\n",
    "import warnings\n",
    "warnings.filterwarnings(\"ignore\", category=FutureWarning)\n",
    "warnings.filterwarnings(\"ignore\", category=DeprecationWarning)\n",
    "warnings.filterwarnings(\"ignore\", category=UserWarning)"
   ]
  },
  {
   "cell_type": "code",
   "execution_count": 2,
   "metadata": {},
   "outputs": [],
   "source": [
    "s, x,z,y= generate_data_survivl(n=10,T=3)"
   ]
  },
  {
   "cell_type": "code",
   "execution_count": 3,
   "metadata": {},
   "outputs": [],
   "source": [
    "s = torch.tensor(s, dtype=torch.float32)\n",
    "x = torch.tensor(x, dtype=torch.float32)\n",
    "y = torch.tensor(y, dtype=torch.float32)\n",
    "z = torch.tensor(z, dtype=torch.float32)"
   ]
  },
  {
   "cell_type": "code",
   "execution_count": 5,
   "metadata": {},
   "outputs": [
    {
     "ename": "NameError",
     "evalue": "name 'ydim' is not defined",
     "output_type": "error",
     "traceback": [
      "\u001b[0;31m---------------------------------------------------------------------------\u001b[0m",
      "\u001b[0;31mNameError\u001b[0m                                 Traceback (most recent call last)",
      "Cell \u001b[0;32mIn[5], line 1\u001b[0m\n\u001b[0;32m----> 1\u001b[0m model \u001b[38;5;241m=\u001b[39m FrengressionSeq(x_dim\u001b[38;5;241m=\u001b[39m\u001b[38;5;241m1\u001b[39m, y_dim\u001b[38;5;241m=\u001b[39m\u001b[38;5;241m1\u001b[39m, z_dim\u001b[38;5;241m=\u001b[39m\u001b[38;5;241m1\u001b[39m, T\u001b[38;5;241m=\u001b[39m\u001b[38;5;241m3\u001b[39m, s_dim \u001b[38;5;241m=\u001b[39m \u001b[38;5;241m1\u001b[39m, noise_dim\u001b[38;5;241m=\u001b[39m\u001b[38;5;241m10\u001b[39m, num_layer\u001b[38;5;241m=\u001b[39m\u001b[38;5;241m3\u001b[39m, hidden_dim\u001b[38;5;241m=\u001b[39m\u001b[38;5;241m100\u001b[39m, device\u001b[38;5;241m=\u001b[39mdevice, x_binary \u001b[38;5;241m=\u001b[39m \u001b[38;5;28;01mFalse\u001b[39;00m)\n",
      "File \u001b[0;32m~/Documents/Project/frengression/frengression/frengression.py:148\u001b[0m, in \u001b[0;36mFrengressionSeq.__init__\u001b[0;34m(self, x_dim, y_dim, z_dim, T, s_dim, num_layer, hidden_dim, noise_dim, x_binary, z_binary, y_binary, device)\u001b[0m\n\u001b[1;32m    143\u001b[0m \u001b[38;5;28mself\u001b[39m\u001b[38;5;241m.\u001b[39mdevice \u001b[38;5;241m=\u001b[39m device\n\u001b[1;32m    144\u001b[0m \u001b[38;5;66;03m# self.model_s = StoNet(0, s_dim, num_layer, hidden_dim, max(s_dim, noise_dim), add_bn=False, noise_all_layer=False).to(device)\u001b[39;00m\n\u001b[1;32m    145\u001b[0m \n\u001b[1;32m    146\u001b[0m \u001b[38;5;66;03m# for xz:\u001b[39;00m\n\u001b[1;32m    147\u001b[0m \u001b[38;5;28mself\u001b[39m\u001b[38;5;241m.\u001b[39mmodel_xz \u001b[38;5;241m=\u001b[39m [\n\u001b[0;32m--> 148\u001b[0m     StoNet(s_dim, x_dim \u001b[38;5;241m+\u001b[39m z_dim, num_layer, hidden_dim, \u001b[38;5;28mmax\u001b[39m(x_dim \u001b[38;5;241m+\u001b[39m z_dim\u001b[38;5;241m+\u001b[39mydim, noise_dim), add_bn\u001b[38;5;241m=\u001b[39m\u001b[38;5;28;01mFalse\u001b[39;00m, noise_all_layer\u001b[38;5;241m=\u001b[39m\u001b[38;5;28;01mFalse\u001b[39;00m)\u001b[38;5;241m.\u001b[39mto(device)\n\u001b[1;32m    149\u001b[0m ]\n\u001b[1;32m    150\u001b[0m \u001b[38;5;28;01mfor\u001b[39;00m t \u001b[38;5;129;01min\u001b[39;00m \u001b[38;5;28mrange\u001b[39m(T\u001b[38;5;241m-\u001b[39m\u001b[38;5;241m1\u001b[39m):\n\u001b[1;32m    151\u001b[0m     \u001b[38;5;28mself\u001b[39m\u001b[38;5;241m.\u001b[39mmodel_xz\u001b[38;5;241m.\u001b[39mappend(\n\u001b[1;32m    152\u001b[0m         StoNet(s_dim \u001b[38;5;241m+\u001b[39m (x_dim \u001b[38;5;241m+\u001b[39m z_dim \u001b[38;5;241m+\u001b[39m y_dim) \u001b[38;5;241m*\u001b[39m (t \u001b[38;5;241m+\u001b[39m \u001b[38;5;241m1\u001b[39m), x_dim \u001b[38;5;241m+\u001b[39m z_dim, num_layer, hidden_dim, \u001b[38;5;28mmax\u001b[39m(x_dim \u001b[38;5;241m+\u001b[39m z_dim\u001b[38;5;241m+\u001b[39mydim, noise_dim), add_bn\u001b[38;5;241m=\u001b[39m\u001b[38;5;28;01mFalse\u001b[39;00m, noise_all_layer\u001b[38;5;241m=\u001b[39m\u001b[38;5;28;01mFalse\u001b[39;00m)\u001b[38;5;241m.\u001b[39mto(device)\n\u001b[1;32m    153\u001b[0m     )\n",
      "\u001b[0;31mNameError\u001b[0m: name 'ydim' is not defined"
     ]
    }
   ],
   "source": [
    "model = FrengressionSeq(x_dim=1, y_dim=1, z_dim=1, T=3, s_dim = 1, noise_dim=10, num_layer=3, hidden_dim=100, device=device, x_binary = False)"
   ]
  },
  {
   "cell_type": "code",
   "execution_count": null,
   "metadata": {},
   "outputs": [],
   "source": [
    "    def __init__(self, x_dim, y_dim, z_dim, T, s_dim,\n",
    "                 num_layer=3, hidden_dim=100, noise_dim=10,\n",
    "                 x_binary=False, z_binary=False, y_binary=False,\n",
    "                 device=torch.device('cuda')):"
   ]
  }
 ],
 "metadata": {
  "kernelspec": {
   "display_name": "base",
   "language": "python",
   "name": "python3"
  },
  "language_info": {
   "codemirror_mode": {
    "name": "ipython",
    "version": 3
   },
   "file_extension": ".py",
   "mimetype": "text/x-python",
   "name": "python",
   "nbconvert_exporter": "python",
   "pygments_lexer": "ipython3",
   "version": "3.11.7"
  }
 },
 "nbformat": 4,
 "nbformat_minor": 2
}
